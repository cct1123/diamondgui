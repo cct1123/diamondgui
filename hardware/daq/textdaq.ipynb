{
 "cells": [
  {
   "cell_type": "code",
   "execution_count": 2,
   "metadata": {},
   "outputs": [],
   "source": [
    "import numpy as np\n",
    "import time\n",
    "import nidaqmx\n",
    "from nidaqmx.constants import TerminalConfiguration, VoltageUnits, Edge, AcquisitionType, READ_ALL_AVAILABLE\n",
    "from nidaqmx.constants import LogicFamily \n",
    "# TWO_POINT_FIVE_V, THREE_POINT_THREE_V, FIVE_V\n",
    "\n",
    "from nidaqmx import stream_readers \n",
    "\n",
    "import matplotlib.pyplot as plt\n",
    "\n",
    "import numpy as np"
   ]
  },
  {
   "cell_type": "code",
   "execution_count": 3,
   "metadata": {},
   "outputs": [],
   "source": [
    "class DataAcquisition(object):\n",
    "    # Currently, this class only handles configuration and reading of a single AI channel\n",
    "\n",
    "    def __init__(self, \n",
    "        ch_ai, ch_clock, ch_trig, \n",
    "        # clock_rate, sampling_rate, \n",
    "        sampling_rate, \n",
    "    ):\n",
    "        self.ch_ai = ch_ai\n",
    "        self.ch_clock = ch_clock\n",
    "        self.ch_trig = ch_trig\n",
    "        # self.clock_rate = clock_rate\n",
    "        self.sampling_rate = sampling_rate\n",
    "        self.clock_edge = Edge.RISING\n",
    "        self.trig_edge = Edge.RISING\n",
    "\n",
    "        # allocate the read tasks and readers\n",
    "        self.read_tasks = []\n",
    "        self.readers = []\n",
    "        self.buffers = [] \n",
    "\n",
    "\n",
    "    def config_readtask(self, n_samples, min_volt=-10.0, max_volt=10.0):\n",
    "        try:\n",
    "            # Create and configure an analog input voltage task\n",
    "            task = nidaqmx.Task()\n",
    "            channel = task.ai_channels.add_ai_voltage_chan(\n",
    "                self.ch_ai,\"\",\n",
    "                # TerminalConfiguration.RSE,\n",
    "                TerminalConfiguration.DIFF,\n",
    "                min_volt,max_volt,\n",
    "                VoltageUnits.VOLTS\n",
    "            )\n",
    "            # Configure sample clock\n",
    "            task.timing.cfg_samp_clk_timing(\n",
    "                self.sampling_rate,\n",
    "                self.ch_clock,\n",
    "                self.clock_edge,\n",
    "                AcquisitionType.FINITE, \n",
    "                n_samples)\n",
    "            # read_task.timing.ai_conv_src = self.ch_clock\n",
    "            # read_task.timing.ai_conv_active_edge = self.clock_edge\n",
    "\n",
    "            # Configure start trigger\n",
    "            read_trig = task.triggers.start_trigger\n",
    "            read_trig.cfg_dig_edge_start_trig(self.ch_trig,self.trig_edge)\n",
    "\n",
    "            # Configure reader stream\n",
    "            reader = stream_readers.AnalogSingleChannelReader(task.in_stream)\n",
    "            # reader = stream_readers.AnalogMultiChannelReader(task.in_stream)\n",
    "            reader.read_all_avail_samp  = True\n",
    "            self.read_tasks.append(task)\n",
    "            self.readers.append(reader)\n",
    "            buffer = np.zeros(n_samples, dtype=np.float64, order='C')\n",
    "            self.buffers.append(buffer)\n",
    "        except Exception as excpt:\n",
    "            print(\"fuck you\")\n",
    "            print(excpt)\n",
    "            # logger.info(f'Error configuring DAQ. Please check your DAQ is connected and powered. Exception details: {type(excpt).__name__} {excpt}')\n",
    "            self.clear_preallo_all()\n",
    "        return task\n",
    "\n",
    "    def read(self, idx=0, timeout=10):\n",
    "        num_read = self.readers[idx].read_many_sample(\n",
    "                self.buffers[idx],\n",
    "                READ_ALL_AVAILABLE,\n",
    "                timeout\n",
    "            )\n",
    "        return self.buffers[idx]\n",
    "\n",
    "    def clear_preallo(self, idx=0):\n",
    "        del self.read_tasks[idx]\n",
    "        del self.read_tasks[idx]\n",
    "        del self.read_tasks[idx]\n",
    "\n",
    "    def clear_preallo_all(self):\n",
    "        self.read_tasks = []\n",
    "        self.readers = []\n",
    "        self.buffers = [] \n",
    "\n",
    "    def close_readtask(self, idx=0):\n",
    "        self.read_tasks[idx].close()\n",
    "        self.clear_preallo(idx)\n",
    "\n",
    "    def close_readtask_all(self):\n",
    "        for tk in self.read_tasks:\n",
    "            tk.close()\n",
    "        self.clear_preallo_all()\n",
    "\n",
    "    "
   ]
  },
  {
   "cell_type": "code",
   "execution_count": 62,
   "metadata": {},
   "outputs": [],
   "source": [
    "DAQch_APD = \"/Dev1/ai16\"\n",
    "DAQch_Clock = \"/Dev1/PFI8\" # clock source\n",
    "DAQch_Trig = \"/Dev1/PFI9\" # clock gate\n",
    "\n",
    "\n",
    "ch_ai = DAQch_APD\n",
    "ch_clock = DAQch_Clock\n",
    "ch_trig = DAQch_Trig\n",
    "# clock_rate = 10E6 # 10MHz.max ext clock rate of NI6343\n",
    "sampling_rate = 0.5E6 # 500kHz .max ext clock rate of NI6343\n",
    "daq = DataAcquisition(ch_ai, ch_clock, ch_trig, sampling_rate)"
   ]
  },
  {
   "cell_type": "code",
   "execution_count": 64,
   "metadata": {},
   "outputs": [
    {
     "data": {
      "text/plain": [
       "Task(name=_unnamedTask<1>)"
      ]
     },
     "execution_count": 64,
     "metadata": {},
     "output_type": "execute_result"
    }
   ],
   "source": [
    "n_samples = 1000\n",
    "daq.close_readtask_all()\n",
    "daq.config_readtask(n_samples, min_volt=-10.0E-3, max_volt=10.0E-3)\n"
   ]
  },
  {
   "cell_type": "code",
   "execution_count": 69,
   "metadata": {},
   "outputs": [],
   "source": [
    "num_record = 1\n",
    "volt_array = np.zeros(num_record)\n",
    "time_array = np.zeros(num_record)\n",
    "dt = n_samples/sampling_rate\n",
    "for ii in range(num_record):\n",
    "    dataread = daq.read()\n",
    "    volt_array[ii] = np.mean(dataread)\n",
    "    time_array[ii] = ii*dt\n",
    "    # print(f\"length: {len(dataread)}\")\n"
   ]
  },
  {
   "cell_type": "code",
   "execution_count": 68,
   "metadata": {},
   "outputs": [
    {
     "data": {
      "text/plain": [
       "1000"
      ]
     },
     "execution_count": 68,
     "metadata": {},
     "output_type": "execute_result"
    }
   ],
   "source": [
    "len(dataread)"
   ]
  },
  {
   "cell_type": "code",
   "execution_count": null,
   "metadata": {},
   "outputs": [],
   "source": [
    "plt.plot(time_array, volt_array)\n",
    "plt.savefig(\"sdgdsgf.png\")"
   ]
  },
  {
   "cell_type": "code",
   "execution_count": null,
   "metadata": {},
   "outputs": [],
   "source": [
    "\n",
    "from nspyre import InstrumentGateway\n",
    "\n",
    "# # connect to the instrument gateway\n",
    "gw = InstrumentGateway()\n",
    "gw.connect()"
   ]
  },
  {
   "cell_type": "code",
   "execution_count": null,
   "metadata": {},
   "outputs": [],
   "source": [
    "max_laser_power = gw.laser.get_max_laser_power()\n",
    "max_laser_current = gw.laser.get_max_laser_current()"
   ]
  },
  {
   "cell_type": "code",
   "execution_count": null,
   "metadata": {},
   "outputs": [],
   "source": [
    "adictlist = [{\"value\":523, \"disabled\":True}, {\"value\":32432, \"disabled\":True}, {\"value\":5325, \"disabled\":True}]\n",
    "for ino in adictlist:\n",
    "    ino[\"disabled\"] = False"
   ]
  },
  {
   "cell_type": "code",
   "execution_count": 11,
   "metadata": {},
   "outputs": [
    {
     "name": "stdout",
     "output_type": "stream",
     "text": [
      "sampling rate: 150000.0\n"
     ]
    }
   ],
   "source": [
    "\n",
    "task = nidaqmx.Task(new_task_name=\"PL Trace\")\n",
    "DAQch_APD = \"/Dev1/ai16\"\n",
    "min_volt = -5\n",
    "max_volt = 5\n",
    "n_samples = 5000\n",
    "refresh_rate = 30.0 # [Hz]\n",
    "sampling_rate = n_samples*refresh_rate\n",
    "print(f\"sampling rate: {sampling_rate}\")\n",
    "# sampling_rate = 1E2\n",
    "\n",
    "ch_clock = \"\"\n",
    "clock_edge = Edge.RISING\n",
    "\n",
    "\n",
    "timeout = 10\n",
    "channel = task.ai_channels.add_ai_voltage_chan(\n",
    "    DAQch_APD,\"\",\n",
    "    # TerminalConfiguration.RSE,\n",
    "    TerminalConfiguration.DIFF,\n",
    "    min_volt, max_volt,\n",
    "    VoltageUnits.VOLTS\n",
    ")\n",
    "# Configure sample clock\n",
    "task.timing.cfg_samp_clk_timing(\n",
    "    sampling_rate,\n",
    "    ch_clock,\n",
    "    clock_edge,\n",
    "    AcquisitionType.FINITE, \n",
    "    n_samples)\n",
    "# read_task.timing.ai_conv_src = self.ch_clock\n",
    "# read_task.timing.ai_conv_active_edge = self.clock_edge\n",
    "\n",
    "# Configure reader stream\n",
    "reader = stream_readers.AnalogSingleChannelReader(task.in_stream)\n",
    "# reader = stream_readers.AnalogMultiChannelReader(task.in_stream)\n",
    "reader.read_all_avail_samp  = True\n"
   ]
  },
  {
   "cell_type": "code",
   "execution_count": 12,
   "metadata": {},
   "outputs": [
    {
     "name": "stdout",
     "output_type": "stream",
     "text": [
      "5000\n",
      "-0.0014208073350577832\n"
     ]
    }
   ],
   "source": [
    "# task.start()\n",
    "buffer = np.zeros(n_samples, dtype=np.float64, order='C')\n",
    "num_trace = 100\n",
    "data_array = np.zeros(num_trace, dtype=np.float64, order='C')\n",
    "for ii in range(num_trace):\n",
    "    time_start = time.time()\n",
    "    num_read = reader.read_many_sample(\n",
    "            buffer,\n",
    "            READ_ALL_AVAILABLE,\n",
    "            timeout\n",
    "        )\n",
    "    data_array[ii] = np.mean(buffer)\n",
    "    time_ran = time.time()-time_start\n",
    "    time.sleep(max(1/refresh_rate-time_ran, 0))\n",
    "\n",
    "print(len(buffer))\n",
    "print(buffer[50])"
   ]
  },
  {
   "cell_type": "code",
   "execution_count": 14,
   "metadata": {},
   "outputs": [],
   "source": [
    "task.stop()"
   ]
  },
  {
   "cell_type": "code",
   "execution_count": 120,
   "metadata": {},
   "outputs": [],
   "source": [
    "task.close()"
   ]
  },
  {
   "cell_type": "code",
   "execution_count": 4,
   "metadata": {},
   "outputs": [],
   "source": [
    "a = np.array([5,6,7])"
   ]
  },
  {
   "cell_type": "code",
   "execution_count": 6,
   "metadata": {},
   "outputs": [
    {
     "data": {
      "text/plain": [
       "array([5, 6, 7])"
      ]
     },
     "execution_count": 6,
     "metadata": {},
     "output_type": "execute_result"
    }
   ],
   "source": [
    "np.copy(a)"
   ]
  },
  {
   "cell_type": "code",
   "execution_count": 10,
   "metadata": {},
   "outputs": [
    {
     "data": {
      "text/plain": [
       "array([0., 0., 0., 0., 0., 0., 0., 0., 0., 0., 0., 0., 0., 0., 0., 0., 0.,\n",
       "       0., 0., 0., 0., 0., 0., 0., 0., 0., 0., 0., 0., 0., 0., 0., 0., 0.,\n",
       "       0., 0., 0., 0., 0., 0., 0., 0., 0., 0., 0., 0., 0., 0., 0., 0., 0.,\n",
       "       0., 0., 0., 0., 0.])"
      ]
     },
     "execution_count": 10,
     "metadata": {},
     "output_type": "execute_result"
    }
   ],
   "source": [
    "np.zeros(56, dtype=np.float64, order='C')"
   ]
  },
  {
   "cell_type": "code",
   "execution_count": null,
   "metadata": {},
   "outputs": [],
   "source": []
  }
 ],
 "metadata": {
  "kernelspec": {
   "display_name": "hfnvenv",
   "language": "python",
   "name": "python3"
  },
  "language_info": {
   "codemirror_mode": {
    "name": "ipython",
    "version": 3
   },
   "file_extension": ".py",
   "mimetype": "text/x-python",
   "name": "python",
   "nbconvert_exporter": "python",
   "pygments_lexer": "ipython3",
   "version": "3.10.8"
  },
  "orig_nbformat": 4,
  "vscode": {
   "interpreter": {
    "hash": "e18a0773591e5a5fd717ebd07f0833d1ddde043e7cb0922cff26ae4a521a5193"
   }
  }
 },
 "nbformat": 4,
 "nbformat_minor": 2
}
