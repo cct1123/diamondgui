{
 "cells": [
  {
   "cell_type": "code",
   "execution_count": 2,
   "metadata": {},
   "outputs": [],
   "source": [
    "import numpy as np\n",
    "import time\n",
    "import nidaqmx\n",
    "from nidaqmx.constants import TerminalConfiguration, VoltageUnits, Edge, AcquisitionType, READ_ALL_AVAILABLE\n",
    "from nidaqmx.constants import LogicFamily \n",
    "# TWO_POINT_FIVE_V, THREE_POINT_THREE_V, FIVE_V\n",
    "\n",
    "from nidaqmx import stream_readers \n",
    "\n",
    "import matplotlib.pyplot as plt\n",
    "\n",
    "import numpy as np"
   ]
  },
  {
   "cell_type": "code",
   "execution_count": 3,
   "metadata": {},
   "outputs": [],
   "source": [
    "class DataAcquisition(object):\n",
    "    chmap = dict()\n",
    "    # example chmap, {\"apd\", \"trig\", }\n",
    "    def __init__(self, \n",
    "        chmap,\n",
    "        clock_rate\n",
    "    ):\n",
    "        self.chmap = chmap\n",
    "        self.daqtype = AcquisitionType.FINITE # finite or continuouse sampling\n",
    "        self.clock_rate = clock_rate\n",
    "        self.clock_edge = Edge.RISING\n",
    "        self.trig_edge = Edge.RISING\n",
    "\n",
    "        # allocate tasks, readers, writers, buffers\n",
    "        self.tasksconfig = dict()\n",
    "        self.readtasks = dict()\n",
    "        self.writetasks = dict()\n",
    "        self.readers = dict()\n",
    "        self.writers = dict()\n",
    "        self.buffers = dict()\n",
    "\n",
    "    # methods for pulse experiment------------------------------------------------------\n",
    "    def config_readtask(self, name, sampling_rate, min_volt=-10.0, max_volt=10.0, buffersize=2048):\n",
    "        try:\n",
    "            # Create and configure an analog input voltage task\n",
    "            task = nidaqmx.Task(name)\n",
    "            channel = task.ai_channels.add_ai_voltage_chan(\n",
    "                self.ch_ai,\"\",\n",
    "                # TerminalConfiguration.RSE,\n",
    "                TerminalConfiguration.DIFF,\n",
    "                min_volt,max_volt,\n",
    "                VoltageUnits.VOLTS\n",
    "            )\n",
    "            # Configure sample clock\n",
    "            task.timing.cfg_samp_clk_timing(\n",
    "                self.clock_rate,\n",
    "                self.chmap[\"clock\"],\n",
    "                self.clock_edge,\n",
    "                self.daqtype, \n",
    "                buffersize)\n",
    "            task.timing.ai_conv_src = self.chmap[\"clock\"]\n",
    "            task.timing.ai_conv_active_edge = self.clock_edge\n",
    "\n",
    "            # Configure start trigger\n",
    "            read_trig = task.triggers.start_trigger\n",
    "            read_trig.cfg_dig_edge_start_trig(self.chmap[\"trigger\"],self.trig_edge)\n",
    "\n",
    "            # Configure reader stream\n",
    "            reader = stream_readers.AnalogSingleChannelReader(task.in_stream)\n",
    "            # reader = stream_readers.AnalogMultiChannelReader(task.in_stream)\n",
    "            reader.read_all_avail_samp  = True\n",
    "            buffer = np.zeros(buffersize, dtype=np.float64, order='C')\n",
    "\n",
    "            self.read_tasks[name] = task\n",
    "            self.readers[name] = reader\n",
    "            self.buffers[name] = buffer\n",
    "        except Exception as excpt:\n",
    "            print(\"fuck you\")\n",
    "            print(excpt)\n",
    "            # logger.info(f'Error configuring DAQ. Please check your DAQ is connected and powered. Exception details: {type(excpt).__name__} {excpt}')\n",
    "            \n",
    "            # self.clear_preallo(name)\n",
    "            del self.readtasks[name]\n",
    "            del self.readers[name]\n",
    "            del self.buffers[name]\n",
    "        return task\n",
    "\n",
    "    def readout(self):\n",
    "        pass\n",
    "    # ----------------------------------------------------------------------------------\n",
    "\n",
    "    # methods for line scanning -------------------------------------------------------------\n",
    "    def config_linescanner(self):\n",
    "        pass\n",
    "    def readscanline(self):\n",
    "        pass\n",
    "\n",
    "    # ----------------------------------------------------------------------------------\n",
    "\n",
    "    def read(self, taskname, timeout=10):\n",
    "        num_read = self.readers[taskname].read_many_sample(\n",
    "                self.buffers[taskname],\n",
    "                READ_ALL_AVAILABLE,\n",
    "                timeout\n",
    "            )\n",
    "        return self.buffers[taskname]\n",
    "\n",
    "    # def clear_preallo(self, taskname):\n",
    "    #     del self.readtasks[taskname]\n",
    "    #     del self.writetasks[taskname]\n",
    "    #     del self.readers[taskname]\n",
    "    #     del self.writers[taskname]\n",
    "    #     del self.buffers[taskname]\n",
    "        \n",
    "\n",
    "    def clear_preallo_all(self):\n",
    "        self.readtasks = dict()\n",
    "        self.writetasks = dict()\n",
    "        self.readers = dict()\n",
    "        self.writers = dict()\n",
    "        self.buffers = dict()\n",
    "\n",
    "    def close_readtask(self, idx=0):\n",
    "        self.read_tasks[idx].close()\n",
    "        self.clear_preallo(idx)\n",
    "\n",
    "    def close_readtask_all(self):\n",
    "        for tk in self.read_tasks:\n",
    "            tk.close()\n",
    "        self.clear_preallo_all()\n",
    "\n",
    "    "
   ]
  },
  {
   "cell_type": "code",
   "execution_count": 62,
   "metadata": {},
   "outputs": [],
   "source": [
    "NI_ch_APD = \"Dev1/ai16\"\n",
    "NI_ch_Clock = \"Dev1/PFI8\" # clock source\n",
    "NI_ch_Trig = \"Dev1/PFI9\" # trigger source\n",
    "NI_ch_Ax123_InABp = \"/Dev1/port/line8:13\"\n",
    "NI_ch_Ax123_OutABp = \"/Dev1/port/line14:19\"\n",
    "NI_chmap = dict(apd = NI_ch_APD, \n",
    "                clock = NI_ch_Clock, \n",
    "                trig = NI_ch_Trig, \n",
    "                pax123_in = NI_ch_Ax123_InABp, \n",
    "                pax123_out = NI_ch_Ax123_OutABp)\n",
    "\n",
    "clock_rate = 500E3 # max 500kHz for DAQ NI6343 sampling\n",
    "sampling_rate = # must be a factor of the clock rate such that clock_rate/sampling_rate is a integer\n",
    "\n",
    "\n",
    "daq = DataAcquisition(chmap=NI_chmap, clock_rate,  sampling_rate)"
   ]
  },
  {
   "cell_type": "code",
   "execution_count": 6,
   "metadata": {},
   "outputs": [
    {
     "data": {
      "text/plain": [
       "array([5, 6, 7])"
      ]
     },
     "execution_count": 6,
     "metadata": {},
     "output_type": "execute_result"
    }
   ],
   "source": [
    "np.copy(a)"
   ]
  },
  {
   "cell_type": "code",
   "execution_count": 10,
   "metadata": {},
   "outputs": [
    {
     "data": {
      "text/plain": [
       "array([0., 0., 0., 0., 0., 0., 0., 0., 0., 0., 0., 0., 0., 0., 0., 0., 0.,\n",
       "       0., 0., 0., 0., 0., 0., 0., 0., 0., 0., 0., 0., 0., 0., 0., 0., 0.,\n",
       "       0., 0., 0., 0., 0., 0., 0., 0., 0., 0., 0., 0., 0., 0., 0., 0., 0.,\n",
       "       0., 0., 0., 0., 0.])"
      ]
     },
     "execution_count": 10,
     "metadata": {},
     "output_type": "execute_result"
    }
   ],
   "source": [
    "np.zeros(56, dtype=np.float64, order='C')"
   ]
  },
  {
   "cell_type": "code",
   "execution_count": null,
   "metadata": {},
   "outputs": [],
   "source": []
  }
 ],
 "metadata": {
  "kernelspec": {
   "display_name": "hfnvenv",
   "language": "python",
   "name": "python3"
  },
  "language_info": {
   "codemirror_mode": {
    "name": "ipython",
    "version": 3
   },
   "file_extension": ".py",
   "mimetype": "text/x-python",
   "name": "python",
   "nbconvert_exporter": "python",
   "pygments_lexer": "ipython3",
   "version": "3.10.8"
  },
  "orig_nbformat": 4,
  "vscode": {
   "interpreter": {
    "hash": "e18a0773591e5a5fd717ebd07f0833d1ddde043e7cb0922cff26ae4a521a5193"
   }
  }
 },
 "nbformat": 4,
 "nbformat_minor": 2
}
