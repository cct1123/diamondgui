{
 "cells": [
  {
   "cell_type": "markdown",
   "metadata": {},
   "source": [
    "### Import other necessary pakages"
   ]
  },
  {
   "cell_type": "code",
   "execution_count": 1,
   "metadata": {},
   "outputs": [],
   "source": [
    "import time\n",
    "import sys\n",
    "import os\n",
    "path_project = \"\\\\\".join(os.getcwd().split(\"\\\\\")[:-2])\n",
    "sys.path.insert(1, path_project)\n",
    "import math\n",
    "import matplotlib.pyplot as plt\n",
    "import numpy as np\n",
    "import math\n",
    "from pulsestreamer import PulseStreamer, Sequence  \n",
    "from hardware.pulser.pulser import PulseGenerator, OutputState, TriggerStart, TriggerRearm, HIGH, LOW, INF, REPEAT_INFINITELY\n"
   ]
  },
  {
   "cell_type": "markdown",
   "metadata": {},
   "source": [
    "### Import the digitizer class and connect "
   ]
  },
  {
   "cell_type": "code",
   "execution_count": 2,
   "metadata": {},
   "outputs": [],
   "source": [
    "from sidig import FIFO_DataAcquisition"
   ]
  },
  {
   "cell_type": "code",
   "execution_count": 3,
   "metadata": {},
   "outputs": [],
   "source": [
    "SIDIG_ADDRESS = \"dev/spcm0\"\n",
    "SIDIG_maxsr = 500e6  # Hz\n",
    "SIDIG_timebase = int(1 / SIDIG_maxsr * 1e9)  # ns\n",
    "FIFO=FIFO_DataAcquisition(\n",
    "                sn_address=SIDIG_ADDRESS\n",
    "            )"
   ]
  },
  {
   "cell_type": "markdown",
   "metadata": {},
   "source": [
    "### Set up the pulse generator \n",
    "\n",
    "- create trigger for the digitizer\n",
    "- create arbitrary waveform to read on the digitizer "
   ]
  },
  {
   "cell_type": "code",
   "execution_count": 4,
   "metadata": {},
   "outputs": [
    {
     "name": "stdout",
     "output_type": "stream",
     "text": [
      "Connect to Pulse Streamer via JSON-RPC.\n",
      "IP / Hostname: 192.168.1.26\n",
      "Pulse Streamer 8/2 firmware: v1.7.2\n",
      "Client software: v1.7.0\n"
     ]
    }
   ],
   "source": [
    "PSch_DIGTRIG=3\n",
    "PSch_Arb=7\n",
    "PS_chmap={'DIG_TRIG':PSch_DIGTRIG,\"ARB INPUT\":PSch_Arb}\n",
    "ip = '192.168.1.26' \n",
    "ps = PulseGenerator(ip,PS_chmap)\n",
    "INF = np.iinfo(np.int64).max\n"
   ]
  },
  {
   "cell_type": "code",
   "execution_count": 28,
   "metadata": {},
   "outputs": [],
   "source": [
    "trigger_seq=[(100,0),(100,1),(100,0)]\n",
    "# arb_seq=[(100,0),(10,1),(20,0),(30,1),(20,0),(10,1),(10,0),(100,0)]\n",
    "arb_seq=[(200,0),(100,1),(300,0),(100,1),(100,0)]"
   ]
  },
  {
   "cell_type": "code",
   "execution_count": 29,
   "metadata": {},
   "outputs": [
    {
     "data": {
      "application/vnd.plotly.v1+json": {
       "config": {
        "plotlyServerURL": "https://plot.ly"
       },
       "data": [
        {
         "line": {
          "shape": "hv"
         },
         "mode": "lines",
         "name": "D3",
         "type": "scatter",
         "x": [
          0,
          100,
          200,
          300,
          800
         ],
         "xaxis": "x",
         "y": [
          0,
          1,
          0,
          0,
          0
         ],
         "yaxis": "y"
        },
        {
         "line": {
          "shape": "hv"
         },
         "mode": "lines",
         "name": "D7",
         "type": "scatter",
         "x": [
          0,
          200,
          300,
          600,
          700,
          800
         ],
         "xaxis": "x2",
         "y": [
          0,
          1,
          0,
          1,
          0,
          0
         ],
         "yaxis": "y2"
        }
       ],
       "layout": {
        "height": 200,
        "margin": {
         "b": 40,
         "l": 50,
         "r": 50,
         "t": 40
        },
        "showlegend": false,
        "template": {
         "data": {
          "bar": [
           {
            "error_x": {
             "color": "#2a3f5f"
            },
            "error_y": {
             "color": "#2a3f5f"
            },
            "marker": {
             "line": {
              "color": "#E5ECF6",
              "width": 0.5
             },
             "pattern": {
              "fillmode": "overlay",
              "size": 10,
              "solidity": 0.2
             }
            },
            "type": "bar"
           }
          ],
          "barpolar": [
           {
            "marker": {
             "line": {
              "color": "#E5ECF6",
              "width": 0.5
             },
             "pattern": {
              "fillmode": "overlay",
              "size": 10,
              "solidity": 0.2
             }
            },
            "type": "barpolar"
           }
          ],
          "carpet": [
           {
            "aaxis": {
             "endlinecolor": "#2a3f5f",
             "gridcolor": "white",
             "linecolor": "white",
             "minorgridcolor": "white",
             "startlinecolor": "#2a3f5f"
            },
            "baxis": {
             "endlinecolor": "#2a3f5f",
             "gridcolor": "white",
             "linecolor": "white",
             "minorgridcolor": "white",
             "startlinecolor": "#2a3f5f"
            },
            "type": "carpet"
           }
          ],
          "choropleth": [
           {
            "colorbar": {
             "outlinewidth": 0,
             "ticks": ""
            },
            "type": "choropleth"
           }
          ],
          "contour": [
           {
            "colorbar": {
             "outlinewidth": 0,
             "ticks": ""
            },
            "colorscale": [
             [
              0,
              "#0d0887"
             ],
             [
              0.1111111111111111,
              "#46039f"
             ],
             [
              0.2222222222222222,
              "#7201a8"
             ],
             [
              0.3333333333333333,
              "#9c179e"
             ],
             [
              0.4444444444444444,
              "#bd3786"
             ],
             [
              0.5555555555555556,
              "#d8576b"
             ],
             [
              0.6666666666666666,
              "#ed7953"
             ],
             [
              0.7777777777777778,
              "#fb9f3a"
             ],
             [
              0.8888888888888888,
              "#fdca26"
             ],
             [
              1,
              "#f0f921"
             ]
            ],
            "type": "contour"
           }
          ],
          "contourcarpet": [
           {
            "colorbar": {
             "outlinewidth": 0,
             "ticks": ""
            },
            "type": "contourcarpet"
           }
          ],
          "heatmap": [
           {
            "colorbar": {
             "outlinewidth": 0,
             "ticks": ""
            },
            "colorscale": [
             [
              0,
              "#0d0887"
             ],
             [
              0.1111111111111111,
              "#46039f"
             ],
             [
              0.2222222222222222,
              "#7201a8"
             ],
             [
              0.3333333333333333,
              "#9c179e"
             ],
             [
              0.4444444444444444,
              "#bd3786"
             ],
             [
              0.5555555555555556,
              "#d8576b"
             ],
             [
              0.6666666666666666,
              "#ed7953"
             ],
             [
              0.7777777777777778,
              "#fb9f3a"
             ],
             [
              0.8888888888888888,
              "#fdca26"
             ],
             [
              1,
              "#f0f921"
             ]
            ],
            "type": "heatmap"
           }
          ],
          "heatmapgl": [
           {
            "colorbar": {
             "outlinewidth": 0,
             "ticks": ""
            },
            "colorscale": [
             [
              0,
              "#0d0887"
             ],
             [
              0.1111111111111111,
              "#46039f"
             ],
             [
              0.2222222222222222,
              "#7201a8"
             ],
             [
              0.3333333333333333,
              "#9c179e"
             ],
             [
              0.4444444444444444,
              "#bd3786"
             ],
             [
              0.5555555555555556,
              "#d8576b"
             ],
             [
              0.6666666666666666,
              "#ed7953"
             ],
             [
              0.7777777777777778,
              "#fb9f3a"
             ],
             [
              0.8888888888888888,
              "#fdca26"
             ],
             [
              1,
              "#f0f921"
             ]
            ],
            "type": "heatmapgl"
           }
          ],
          "histogram": [
           {
            "marker": {
             "pattern": {
              "fillmode": "overlay",
              "size": 10,
              "solidity": 0.2
             }
            },
            "type": "histogram"
           }
          ],
          "histogram2d": [
           {
            "colorbar": {
             "outlinewidth": 0,
             "ticks": ""
            },
            "colorscale": [
             [
              0,
              "#0d0887"
             ],
             [
              0.1111111111111111,
              "#46039f"
             ],
             [
              0.2222222222222222,
              "#7201a8"
             ],
             [
              0.3333333333333333,
              "#9c179e"
             ],
             [
              0.4444444444444444,
              "#bd3786"
             ],
             [
              0.5555555555555556,
              "#d8576b"
             ],
             [
              0.6666666666666666,
              "#ed7953"
             ],
             [
              0.7777777777777778,
              "#fb9f3a"
             ],
             [
              0.8888888888888888,
              "#fdca26"
             ],
             [
              1,
              "#f0f921"
             ]
            ],
            "type": "histogram2d"
           }
          ],
          "histogram2dcontour": [
           {
            "colorbar": {
             "outlinewidth": 0,
             "ticks": ""
            },
            "colorscale": [
             [
              0,
              "#0d0887"
             ],
             [
              0.1111111111111111,
              "#46039f"
             ],
             [
              0.2222222222222222,
              "#7201a8"
             ],
             [
              0.3333333333333333,
              "#9c179e"
             ],
             [
              0.4444444444444444,
              "#bd3786"
             ],
             [
              0.5555555555555556,
              "#d8576b"
             ],
             [
              0.6666666666666666,
              "#ed7953"
             ],
             [
              0.7777777777777778,
              "#fb9f3a"
             ],
             [
              0.8888888888888888,
              "#fdca26"
             ],
             [
              1,
              "#f0f921"
             ]
            ],
            "type": "histogram2dcontour"
           }
          ],
          "mesh3d": [
           {
            "colorbar": {
             "outlinewidth": 0,
             "ticks": ""
            },
            "type": "mesh3d"
           }
          ],
          "parcoords": [
           {
            "line": {
             "colorbar": {
              "outlinewidth": 0,
              "ticks": ""
             }
            },
            "type": "parcoords"
           }
          ],
          "pie": [
           {
            "automargin": true,
            "type": "pie"
           }
          ],
          "scatter": [
           {
            "fillpattern": {
             "fillmode": "overlay",
             "size": 10,
             "solidity": 0.2
            },
            "type": "scatter"
           }
          ],
          "scatter3d": [
           {
            "line": {
             "colorbar": {
              "outlinewidth": 0,
              "ticks": ""
             }
            },
            "marker": {
             "colorbar": {
              "outlinewidth": 0,
              "ticks": ""
             }
            },
            "type": "scatter3d"
           }
          ],
          "scattercarpet": [
           {
            "marker": {
             "colorbar": {
              "outlinewidth": 0,
              "ticks": ""
             }
            },
            "type": "scattercarpet"
           }
          ],
          "scattergeo": [
           {
            "marker": {
             "colorbar": {
              "outlinewidth": 0,
              "ticks": ""
             }
            },
            "type": "scattergeo"
           }
          ],
          "scattergl": [
           {
            "marker": {
             "colorbar": {
              "outlinewidth": 0,
              "ticks": ""
             }
            },
            "type": "scattergl"
           }
          ],
          "scattermapbox": [
           {
            "marker": {
             "colorbar": {
              "outlinewidth": 0,
              "ticks": ""
             }
            },
            "type": "scattermapbox"
           }
          ],
          "scatterpolar": [
           {
            "marker": {
             "colorbar": {
              "outlinewidth": 0,
              "ticks": ""
             }
            },
            "type": "scatterpolar"
           }
          ],
          "scatterpolargl": [
           {
            "marker": {
             "colorbar": {
              "outlinewidth": 0,
              "ticks": ""
             }
            },
            "type": "scatterpolargl"
           }
          ],
          "scatterternary": [
           {
            "marker": {
             "colorbar": {
              "outlinewidth": 0,
              "ticks": ""
             }
            },
            "type": "scatterternary"
           }
          ],
          "surface": [
           {
            "colorbar": {
             "outlinewidth": 0,
             "ticks": ""
            },
            "colorscale": [
             [
              0,
              "#0d0887"
             ],
             [
              0.1111111111111111,
              "#46039f"
             ],
             [
              0.2222222222222222,
              "#7201a8"
             ],
             [
              0.3333333333333333,
              "#9c179e"
             ],
             [
              0.4444444444444444,
              "#bd3786"
             ],
             [
              0.5555555555555556,
              "#d8576b"
             ],
             [
              0.6666666666666666,
              "#ed7953"
             ],
             [
              0.7777777777777778,
              "#fb9f3a"
             ],
             [
              0.8888888888888888,
              "#fdca26"
             ],
             [
              1,
              "#f0f921"
             ]
            ],
            "type": "surface"
           }
          ],
          "table": [
           {
            "cells": {
             "fill": {
              "color": "#EBF0F8"
             },
             "line": {
              "color": "white"
             }
            },
            "header": {
             "fill": {
              "color": "#C8D4E3"
             },
             "line": {
              "color": "white"
             }
            },
            "type": "table"
           }
          ]
         },
         "layout": {
          "annotationdefaults": {
           "arrowcolor": "#2a3f5f",
           "arrowhead": 0,
           "arrowwidth": 1
          },
          "autotypenumbers": "strict",
          "coloraxis": {
           "colorbar": {
            "outlinewidth": 0,
            "ticks": ""
           }
          },
          "colorscale": {
           "diverging": [
            [
             0,
             "#8e0152"
            ],
            [
             0.1,
             "#c51b7d"
            ],
            [
             0.2,
             "#de77ae"
            ],
            [
             0.3,
             "#f1b6da"
            ],
            [
             0.4,
             "#fde0ef"
            ],
            [
             0.5,
             "#f7f7f7"
            ],
            [
             0.6,
             "#e6f5d0"
            ],
            [
             0.7,
             "#b8e186"
            ],
            [
             0.8,
             "#7fbc41"
            ],
            [
             0.9,
             "#4d9221"
            ],
            [
             1,
             "#276419"
            ]
           ],
           "sequential": [
            [
             0,
             "#0d0887"
            ],
            [
             0.1111111111111111,
             "#46039f"
            ],
            [
             0.2222222222222222,
             "#7201a8"
            ],
            [
             0.3333333333333333,
             "#9c179e"
            ],
            [
             0.4444444444444444,
             "#bd3786"
            ],
            [
             0.5555555555555556,
             "#d8576b"
            ],
            [
             0.6666666666666666,
             "#ed7953"
            ],
            [
             0.7777777777777778,
             "#fb9f3a"
            ],
            [
             0.8888888888888888,
             "#fdca26"
            ],
            [
             1,
             "#f0f921"
            ]
           ],
           "sequentialminus": [
            [
             0,
             "#0d0887"
            ],
            [
             0.1111111111111111,
             "#46039f"
            ],
            [
             0.2222222222222222,
             "#7201a8"
            ],
            [
             0.3333333333333333,
             "#9c179e"
            ],
            [
             0.4444444444444444,
             "#bd3786"
            ],
            [
             0.5555555555555556,
             "#d8576b"
            ],
            [
             0.6666666666666666,
             "#ed7953"
            ],
            [
             0.7777777777777778,
             "#fb9f3a"
            ],
            [
             0.8888888888888888,
             "#fdca26"
            ],
            [
             1,
             "#f0f921"
            ]
           ]
          },
          "colorway": [
           "#636efa",
           "#EF553B",
           "#00cc96",
           "#ab63fa",
           "#FFA15A",
           "#19d3f3",
           "#FF6692",
           "#B6E880",
           "#FF97FF",
           "#FECB52"
          ],
          "font": {
           "color": "#2a3f5f"
          },
          "geo": {
           "bgcolor": "white",
           "lakecolor": "white",
           "landcolor": "#E5ECF6",
           "showlakes": true,
           "showland": true,
           "subunitcolor": "white"
          },
          "hoverlabel": {
           "align": "left"
          },
          "hovermode": "closest",
          "mapbox": {
           "style": "light"
          },
          "paper_bgcolor": "white",
          "plot_bgcolor": "#E5ECF6",
          "polar": {
           "angularaxis": {
            "gridcolor": "white",
            "linecolor": "white",
            "ticks": ""
           },
           "bgcolor": "#E5ECF6",
           "radialaxis": {
            "gridcolor": "white",
            "linecolor": "white",
            "ticks": ""
           }
          },
          "scene": {
           "xaxis": {
            "backgroundcolor": "#E5ECF6",
            "gridcolor": "white",
            "gridwidth": 2,
            "linecolor": "white",
            "showbackground": true,
            "ticks": "",
            "zerolinecolor": "white"
           },
           "yaxis": {
            "backgroundcolor": "#E5ECF6",
            "gridcolor": "white",
            "gridwidth": 2,
            "linecolor": "white",
            "showbackground": true,
            "ticks": "",
            "zerolinecolor": "white"
           },
           "zaxis": {
            "backgroundcolor": "#E5ECF6",
            "gridcolor": "white",
            "gridwidth": 2,
            "linecolor": "white",
            "showbackground": true,
            "ticks": "",
            "zerolinecolor": "white"
           }
          },
          "shapedefaults": {
           "line": {
            "color": "#2a3f5f"
           }
          },
          "ternary": {
           "aaxis": {
            "gridcolor": "white",
            "linecolor": "white",
            "ticks": ""
           },
           "baxis": {
            "gridcolor": "white",
            "linecolor": "white",
            "ticks": ""
           },
           "bgcolor": "#E5ECF6",
           "caxis": {
            "gridcolor": "white",
            "linecolor": "white",
            "ticks": ""
           }
          },
          "title": {
           "x": 0.05
          },
          "xaxis": {
           "automargin": true,
           "gridcolor": "white",
           "linecolor": "white",
           "ticks": "",
           "title": {
            "standoff": 15
           },
           "zerolinecolor": "white",
           "zerolinewidth": 2
          },
          "yaxis": {
           "automargin": true,
           "gridcolor": "white",
           "linecolor": "white",
           "ticks": "",
           "title": {
            "standoff": 15
           },
           "zerolinecolor": "white",
           "zerolinewidth": 2
          }
         }
        },
        "title": {
         "text": "Sequence"
        },
        "width": 600,
        "xaxis": {
         "anchor": "y",
         "domain": [
          0,
          1
         ],
         "matches": "x2",
         "showticklabels": false
        },
        "xaxis2": {
         "anchor": "y2",
         "domain": [
          0,
          1
         ],
         "title": {
          "text": "time/ns"
         }
        },
        "yaxis": {
         "anchor": "x",
         "domain": [
          0.51,
          1
         ],
         "range": [
          -0.4,
          1.4
         ],
         "showticklabels": false,
         "title": {
          "text": "D3<br>DIG_TRIG"
         }
        },
        "yaxis2": {
         "anchor": "x2",
         "domain": [
          0,
          0.49
         ],
         "range": [
          -0.4,
          1.4
         ],
         "showticklabels": false,
         "title": {
          "text": "D7<br>ARB INPUT"
         }
        }
       }
      }
     },
     "metadata": {},
     "output_type": "display_data"
    }
   ],
   "source": [
    "ps.setDigital(\"DIG_TRIG\", trigger_seq) \n",
    "ps.setDigital(\"ARB INPUT\", arb_seq) \n",
    "\n",
    "ps.setTrigger\n",
    "ps.plotSeq(plot_all=False)"
   ]
  },
  {
   "cell_type": "markdown",
   "metadata": {},
   "source": [
    "### Configure the digitizer"
   ]
  },
  {
   "cell_type": "code",
   "execution_count": 7,
   "metadata": {},
   "outputs": [],
   "source": [
    "# To set the configuration, make a dictionary with the key and value\n",
    "num_iters=4\n",
    "config1={'num_samples' :None,\n",
    "         'runs': 2,\n",
    "         'readout_ch' :0,\n",
    "         'num_pts_in_exp':2,\n",
    "         'num_iters':num_iters,\n",
    "         'amp_input':5000}"
   ]
  },
  {
   "cell_type": "code",
   "execution_count": 8,
   "metadata": {},
   "outputs": [],
   "source": [
    "FIFO.assign_param(config1)"
   ]
  },
  {
   "cell_type": "code",
   "execution_count": 9,
   "metadata": {},
   "outputs": [
    {
     "data": {
      "text/plain": [
       "5000"
      ]
     },
     "execution_count": 9,
     "metadata": {},
     "output_type": "execute_result"
    }
   ],
   "source": [
    "FIFO.amp_input"
   ]
  },
  {
   "cell_type": "code",
   "execution_count": 10,
   "metadata": {},
   "outputs": [
    {
     "name": "stdout",
     "output_type": "stream",
     "text": [
      "SETTINGS: card timeout =  20 s\n",
      "SETTINGS: # segments =  512 Sa\n",
      "SETTINGS: sampling freq =  0.5 GHz\n",
      "SETTINGS: pretrig size =  32 Sa\n",
      "SETTINGS: termination =  1\n"
     ]
    }
   ],
   "source": [
    "FIFO.config()"
   ]
  },
  {
   "cell_type": "markdown",
   "metadata": {},
   "source": [
    "### Run the acquisition"
   ]
  },
  {
   "cell_type": "code",
   "execution_count": 11,
   "metadata": {},
   "outputs": [
    {
     "name": "stdout",
     "output_type": "stream",
     "text": [
      "SETTINGS: card timeout =  20 s\n",
      "SETTINGS: # segments =  512 Sa\n",
      "SETTINGS: sampling freq =  0.5 GHz\n",
      "SETTINGS: pretrig size =  32 Sa\n",
      "SETTINGS: termination =  1\n"
     ]
    }
   ],
   "source": [
    "FIFO.config()\n",
    "FIFO.start_buffer()"
   ]
  },
  {
   "cell_type": "code",
   "execution_count": 30,
   "metadata": {},
   "outputs": [],
   "source": [
    "ps.stream(n_runs=INF)"
   ]
  },
  {
   "cell_type": "code",
   "execution_count": 13,
   "metadata": {},
   "outputs": [
    {
     "name": "stdout",
     "output_type": "stream",
     "text": [
      "(1, 512, 1)\n",
      "termination setting: 1\n"
     ]
    }
   ],
   "source": [
    "DATA=FIFO.acquire()"
   ]
  },
  {
   "cell_type": "code",
   "execution_count": 27,
   "metadata": {},
   "outputs": [],
   "source": [
    "ps.reset()"
   ]
  },
  {
   "cell_type": "code",
   "execution_count": 15,
   "metadata": {},
   "outputs": [
    {
     "name": "stdout",
     "output_type": "stream",
     "text": [
      "Card stopped\n"
     ]
    }
   ],
   "source": [
    "FIFO.stop_card()\n",
    "FIFO.reset()\n",
    "ps.reset()"
   ]
  },
  {
   "cell_type": "markdown",
   "metadata": {},
   "source": [
    "### Plot the data"
   ]
  },
  {
   "cell_type": "code",
   "execution_count": 16,
   "metadata": {},
   "outputs": [],
   "source": [
    "DATA_flatten=np.ravel(DATA)"
   ]
  },
  {
   "cell_type": "code",
   "execution_count": 26,
   "metadata": {},
   "outputs": [
    {
     "data": {
      "application/vnd.plotly.v1+json": {
       "config": {
        "plotlyServerURL": "https://plot.ly"
       },
       "data": [
        {
         "mode": "lines",
         "name": "Data",
         "type": "scatter",
         "y": [
          -0.0006103515625,
          0,
          0,
          -0.001220703125,
          0.001220703125,
          -0.0006103515625,
          0,
          -0.001220703125,
          0.0006103515625,
          -0.001220703125,
          -0.0006103515625,
          -0.001220703125,
          -0.0006103515625,
          -0.0006103515625,
          -0.00244140625,
          -0.0006103515625,
          0.001220703125,
          -0.0006103515625,
          -0.001220703125,
          -0.0006103515625,
          0,
          -0.001220703125,
          0,
          0,
          0,
          0.001220703125,
          0,
          -0.0006103515625,
          -0.001220703125,
          0,
          0.001220703125,
          0,
          -0.0006103515625,
          -0.0006103515625,
          -0.001220703125,
          -0.001220703125,
          -0.0006103515625,
          0,
          -0.0018310546875,
          -0.0018310546875,
          -0.0018310546875,
          -0.001220703125,
          0,
          0,
          0,
          -0.0006103515625,
          -0.00244140625,
          -0.0006103515625,
          0,
          -0.0018310546875,
          -0.001220703125,
          0,
          -0.0006103515625,
          -0.0018310546875,
          -0.001220703125,
          -0.00244140625,
          -0.0030517578125,
          0,
          0.0006103515625,
          -0.0006103515625,
          -0.0006103515625,
          0,
          0,
          -0.0006103515625,
          -0.0018310546875,
          -0.0018310546875,
          -0.0006103515625,
          -0.001220703125,
          0.0006103515625,
          -0.0018310546875,
          0.0006103515625,
          -0.0018310546875,
          0.0006103515625,
          -0.00244140625,
          0.001220703125,
          -0.0018310546875,
          0.0006103515625,
          0.0140380859375,
          1.75048828125,
          2.467041015625,
          2.3944091796875,
          2.4688720703125,
          2.457275390625,
          2.464599609375,
          2.4737548828125,
          2.4713134765625,
          2.48046875,
          2.489013671875,
          2.496337890625,
          2.493896484375,
          2.5,
          2.4981689453125,
          2.498779296875,
          2.49267578125,
          2.5018310546875,
          2.520751953125,
          2.5250244140625,
          2.5213623046875,
          2.5299072265625,
          2.5250244140625,
          2.5262451171875,
          2.523193359375,
          2.6080322265625,
          2.5042724609375,
          2.5048828125,
          2.4932861328125,
          2.4957275390625,
          2.4932861328125,
          2.498779296875,
          2.4951171875,
          2.5,
          2.496337890625,
          2.5006103515625,
          2.4957275390625,
          2.4993896484375,
          2.496337890625,
          2.50244140625,
          2.4957275390625,
          2.5030517578125,
          2.4981689453125,
          2.4993896484375,
          2.4957275390625,
          2.501220703125,
          2.49755859375,
          2.5,
          2.4951171875,
          2.50244140625,
          2.4810791015625,
          0.7513427734375,
          -0.047607421875,
          0.1043701171875,
          0.0390625,
          0.03662109375,
          0.0146484375,
          0.0115966796875,
          0.023193359375,
          0.0146484375,
          -0.003662109375,
          -0.0067138671875,
          -0.008544921875,
          -0.0079345703125,
          -0.0115966796875,
          -0.010986328125,
          -0.0067138671875,
          -0.010986328125,
          -0.0445556640625,
          -0.0421142578125,
          -0.0433349609375,
          -0.0482177734375,
          -0.050048828125,
          -0.0494384765625,
          -0.045166015625,
          -0.16845703125,
          -0.02197265625,
          -0.009765625,
          -0.006103515625,
          -0.008544921875,
          -0.0091552734375,
          -0.010986328125,
          -0.010986328125,
          -0.015869140625,
          -0.0164794921875,
          -0.0164794921875,
          -0.0177001953125,
          -0.018310546875,
          -0.01953125,
          -0.0201416015625,
          -0.0213623046875,
          -0.0262451171875,
          -0.0244140625,
          -0.0225830078125,
          -0.0238037109375,
          -0.0250244140625,
          -0.0250244140625,
          -0.0225830078125,
          -0.0250244140625,
          -0.029296875,
          -0.0189208984375,
          -0.028076171875,
          -0.0274658203125,
          -0.029296875,
          -0.029296875,
          -0.030517578125,
          -0.0299072265625,
          -0.0299072265625,
          -0.0311279296875,
          -0.030517578125,
          -0.030517578125,
          -0.030517578125,
          -0.0323486328125,
          -0.030517578125,
          -0.0347900390625,
          -0.0323486328125,
          -0.0311279296875,
          -0.0323486328125,
          -0.0341796875,
          -0.0335693359375,
          -0.032958984375,
          -0.0360107421875,
          -0.0323486328125,
          -0.0335693359375,
          -0.0341796875,
          -0.0341796875,
          -0.035400390625,
          -0.0360107421875,
          -0.03662109375,
          -0.035400390625,
          -0.03662109375,
          -0.035400390625,
          -0.0341796875,
          -0.0360107421875,
          -0.0390625,
          -0.03662109375,
          -0.0384521484375,
          -0.035400390625,
          -0.03662109375,
          -0.037841796875,
          -0.03662109375,
          -0.0360107421875,
          -0.0372314453125,
          -0.037841796875,
          -0.037841796875,
          -0.0360107421875,
          -0.03662109375,
          -0.0372314453125,
          -0.037841796875,
          -0.0372314453125,
          -0.03662109375,
          -0.0390625,
          -0.0384521484375,
          -0.037841796875,
          -0.0396728515625,
          -0.0390625,
          -0.037841796875,
          -0.0390625,
          -0.0390625,
          -0.03662109375,
          -0.0384521484375,
          -0.040283203125,
          -0.0384521484375,
          -0.0390625,
          -0.037841796875,
          -0.0384521484375,
          -0.0384521484375,
          -0.0390625,
          -0.040283203125,
          -0.040283203125,
          -0.0390625,
          -0.0384521484375,
          -0.04150390625,
          -0.040283203125,
          -0.0408935546875,
          -0.040283203125,
          -0.0372314453125,
          -0.0421142578125,
          -0.040283203125,
          -0.0390625,
          -0.040283203125,
          -0.0384521484375,
          -0.04150390625,
          -0.0408935546875,
          -0.0408935546875,
          -0.0396728515625,
          -0.040283203125,
          -0.0408935546875,
          -0.04150390625,
          -0.0408935546875,
          -0.0396728515625,
          -0.0408935546875,
          -0.0408935546875,
          -0.0408935546875,
          -0.040283203125,
          -0.042724609375,
          -0.0408935546875,
          -0.0396728515625,
          -0.0421142578125,
          -0.0390625,
          -0.0274658203125,
          1.6925048828125,
          2.4365234375,
          2.3602294921875,
          2.4334716796875,
          2.423095703125,
          2.4273681640625,
          2.4359130859375,
          2.435302734375,
          2.44384765625,
          2.452392578125,
          2.459716796875,
          2.4591064453125,
          2.4615478515625,
          2.46337890625,
          2.462158203125,
          2.4578857421875,
          2.46337890625,
          2.4847412109375,
          2.486572265625,
          2.4853515625,
          2.4920654296875,
          2.490234375,
          2.4896240234375,
          2.4871826171875,
          2.57080078125,
          2.4676513671875,
          2.46826171875,
          2.454833984375,
          2.4566650390625,
          2.457275390625,
          2.4609375,
          2.4578857421875,
          2.4615478515625,
          2.45849609375,
          2.4627685546875,
          2.45849609375,
          2.4639892578125,
          2.4609375,
          2.462158203125,
          2.4603271484375,
          2.4652099609375,
          2.462158203125,
          2.4627685546875,
          2.459716796875,
          2.46337890625,
          2.459716796875,
          2.46337890625,
          2.4603271484375,
          2.4627685546875,
          2.447509765625,
          0.7550048828125,
          -0.0958251953125,
          0.0665283203125,
          -0.0018310546875,
          -0.0030517578125,
          -0.02685546875,
          -0.029296875,
          -0.0189208984375,
          -0.0250244140625,
          -0.045166015625,
          -0.04638671875,
          -0.047607421875,
          -0.0494384765625,
          -0.054931640625,
          -0.05126953125,
          -0.0518798828125,
          -0.05126953125,
          -0.0836181640625,
          -0.0836181640625,
          -0.0860595703125,
          -0.0885009765625,
          -0.0909423828125,
          -0.0897216796875,
          -0.08544921875,
          -0.2105712890625,
          -0.06591796875,
          -0.0494384765625,
          -0.048828125,
          -0.048828125,
          -0.052490234375,
          -0.050048828125,
          -0.0537109375,
          -0.0555419921875,
          -0.0579833984375,
          -0.0555419921875,
          -0.059814453125,
          -0.059814453125,
          -0.0616455078125,
          -0.0616455078125,
          -0.06103515625,
          -0.06591796875,
          -0.0653076171875,
          -0.0640869140625,
          -0.0616455078125,
          -0.0653076171875,
          -0.06591796875,
          -0.0677490234375,
          -0.0665283203125,
          -0.07080078125,
          -0.059814453125,
          -0.068359375,
          -0.07080078125,
          -0.0677490234375,
          -0.07080078125,
          -0.069580078125,
          -0.0726318359375,
          -0.0701904296875,
          -0.072021484375,
          -0.072021484375,
          -0.0726318359375,
          -0.0714111328125,
          -0.0738525390625,
          -0.0726318359375,
          -0.0726318359375,
          -0.074462890625,
          -0.074462890625,
          -0.0726318359375,
          -0.074462890625,
          -0.0738525390625,
          -0.0738525390625,
          -0.074462890625,
          -0.0750732421875,
          -0.074462890625,
          -0.076904296875,
          -0.0750732421875,
          -0.0762939453125,
          -0.0762939453125,
          -0.0762939453125,
          -0.0762939453125,
          -0.078125,
          -0.0762939453125,
          -0.074462890625,
          -0.076904296875,
          -0.079345703125,
          -0.07568359375,
          -0.0799560546875,
          -0.0762939453125,
          -0.0775146484375,
          -0.0775146484375,
          -0.0787353515625,
          -0.0787353515625,
          -0.0787353515625,
          -0.076904296875,
          -0.079345703125,
          -0.0775146484375,
          -0.0775146484375,
          -0.0787353515625,
          -0.079345703125,
          -0.0775146484375,
          -0.0775146484375,
          -0.0787353515625,
          -0.08056640625,
          -0.08056640625,
          -0.0799560546875,
          -0.0799560546875,
          -0.079345703125,
          -0.078125,
          -0.0787353515625,
          -0.08056640625,
          -0.079345703125,
          -0.08056640625,
          -0.079345703125,
          -0.0799560546875,
          -0.0811767578125,
          -0.079345703125,
          -0.08056640625,
          -0.08056640625,
          -0.08056640625,
          -0.0799560546875,
          -0.08056640625,
          -0.0787353515625,
          -0.08056640625,
          -0.0799560546875,
          -0.0799560546875,
          -0.081787109375,
          -0.0811767578125,
          -0.08056640625,
          -0.0811767578125,
          -0.0799560546875,
          -0.0830078125,
          -0.0799560546875,
          -0.08056640625,
          -0.0787353515625,
          -0.0811767578125,
          -0.0799560546875,
          -0.08056640625,
          -0.0811767578125,
          -0.081787109375,
          -0.0799560546875,
          -0.0830078125,
          -0.0811767578125,
          -0.081787109375,
          -0.0823974609375,
          -0.08056640625,
          -0.0823974609375,
          -0.081787109375,
          -0.081787109375,
          -0.0811767578125,
          -0.0823974609375,
          -0.0677490234375,
          1.69677734375,
          2.39501953125,
          2.3236083984375,
          2.393798828125,
          2.38525390625,
          2.3895263671875,
          2.401123046875,
          2.3992919921875,
          2.408447265625,
          2.4169921875,
          2.4224853515625,
          2.421875,
          2.425537109375,
          2.4237060546875,
          2.4273681640625,
          2.4212646484375,
          2.430419921875,
          2.4468994140625,
          2.4505615234375,
          2.44873046875,
          2.4566650390625,
          2.452392578125,
          2.4554443359375,
          2.449951171875,
          2.5335693359375,
          2.430419921875,
          2.430419921875,
          2.4200439453125,
          2.4212646484375,
          2.4200439453125,
          2.4267578125,
          2.4200439453125,
          2.4261474609375,
          2.4212646484375
         ]
        }
       ],
       "layout": {
        "template": {
         "data": {
          "bar": [
           {
            "error_x": {
             "color": "#2a3f5f"
            },
            "error_y": {
             "color": "#2a3f5f"
            },
            "marker": {
             "line": {
              "color": "white",
              "width": 0.5
             },
             "pattern": {
              "fillmode": "overlay",
              "size": 10,
              "solidity": 0.2
             }
            },
            "type": "bar"
           }
          ],
          "barpolar": [
           {
            "marker": {
             "line": {
              "color": "white",
              "width": 0.5
             },
             "pattern": {
              "fillmode": "overlay",
              "size": 10,
              "solidity": 0.2
             }
            },
            "type": "barpolar"
           }
          ],
          "carpet": [
           {
            "aaxis": {
             "endlinecolor": "#2a3f5f",
             "gridcolor": "#C8D4E3",
             "linecolor": "#C8D4E3",
             "minorgridcolor": "#C8D4E3",
             "startlinecolor": "#2a3f5f"
            },
            "baxis": {
             "endlinecolor": "#2a3f5f",
             "gridcolor": "#C8D4E3",
             "linecolor": "#C8D4E3",
             "minorgridcolor": "#C8D4E3",
             "startlinecolor": "#2a3f5f"
            },
            "type": "carpet"
           }
          ],
          "choropleth": [
           {
            "colorbar": {
             "outlinewidth": 0,
             "ticks": ""
            },
            "type": "choropleth"
           }
          ],
          "contour": [
           {
            "colorbar": {
             "outlinewidth": 0,
             "ticks": ""
            },
            "colorscale": [
             [
              0,
              "#0d0887"
             ],
             [
              0.1111111111111111,
              "#46039f"
             ],
             [
              0.2222222222222222,
              "#7201a8"
             ],
             [
              0.3333333333333333,
              "#9c179e"
             ],
             [
              0.4444444444444444,
              "#bd3786"
             ],
             [
              0.5555555555555556,
              "#d8576b"
             ],
             [
              0.6666666666666666,
              "#ed7953"
             ],
             [
              0.7777777777777778,
              "#fb9f3a"
             ],
             [
              0.8888888888888888,
              "#fdca26"
             ],
             [
              1,
              "#f0f921"
             ]
            ],
            "type": "contour"
           }
          ],
          "contourcarpet": [
           {
            "colorbar": {
             "outlinewidth": 0,
             "ticks": ""
            },
            "type": "contourcarpet"
           }
          ],
          "heatmap": [
           {
            "colorbar": {
             "outlinewidth": 0,
             "ticks": ""
            },
            "colorscale": [
             [
              0,
              "#0d0887"
             ],
             [
              0.1111111111111111,
              "#46039f"
             ],
             [
              0.2222222222222222,
              "#7201a8"
             ],
             [
              0.3333333333333333,
              "#9c179e"
             ],
             [
              0.4444444444444444,
              "#bd3786"
             ],
             [
              0.5555555555555556,
              "#d8576b"
             ],
             [
              0.6666666666666666,
              "#ed7953"
             ],
             [
              0.7777777777777778,
              "#fb9f3a"
             ],
             [
              0.8888888888888888,
              "#fdca26"
             ],
             [
              1,
              "#f0f921"
             ]
            ],
            "type": "heatmap"
           }
          ],
          "heatmapgl": [
           {
            "colorbar": {
             "outlinewidth": 0,
             "ticks": ""
            },
            "colorscale": [
             [
              0,
              "#0d0887"
             ],
             [
              0.1111111111111111,
              "#46039f"
             ],
             [
              0.2222222222222222,
              "#7201a8"
             ],
             [
              0.3333333333333333,
              "#9c179e"
             ],
             [
              0.4444444444444444,
              "#bd3786"
             ],
             [
              0.5555555555555556,
              "#d8576b"
             ],
             [
              0.6666666666666666,
              "#ed7953"
             ],
             [
              0.7777777777777778,
              "#fb9f3a"
             ],
             [
              0.8888888888888888,
              "#fdca26"
             ],
             [
              1,
              "#f0f921"
             ]
            ],
            "type": "heatmapgl"
           }
          ],
          "histogram": [
           {
            "marker": {
             "pattern": {
              "fillmode": "overlay",
              "size": 10,
              "solidity": 0.2
             }
            },
            "type": "histogram"
           }
          ],
          "histogram2d": [
           {
            "colorbar": {
             "outlinewidth": 0,
             "ticks": ""
            },
            "colorscale": [
             [
              0,
              "#0d0887"
             ],
             [
              0.1111111111111111,
              "#46039f"
             ],
             [
              0.2222222222222222,
              "#7201a8"
             ],
             [
              0.3333333333333333,
              "#9c179e"
             ],
             [
              0.4444444444444444,
              "#bd3786"
             ],
             [
              0.5555555555555556,
              "#d8576b"
             ],
             [
              0.6666666666666666,
              "#ed7953"
             ],
             [
              0.7777777777777778,
              "#fb9f3a"
             ],
             [
              0.8888888888888888,
              "#fdca26"
             ],
             [
              1,
              "#f0f921"
             ]
            ],
            "type": "histogram2d"
           }
          ],
          "histogram2dcontour": [
           {
            "colorbar": {
             "outlinewidth": 0,
             "ticks": ""
            },
            "colorscale": [
             [
              0,
              "#0d0887"
             ],
             [
              0.1111111111111111,
              "#46039f"
             ],
             [
              0.2222222222222222,
              "#7201a8"
             ],
             [
              0.3333333333333333,
              "#9c179e"
             ],
             [
              0.4444444444444444,
              "#bd3786"
             ],
             [
              0.5555555555555556,
              "#d8576b"
             ],
             [
              0.6666666666666666,
              "#ed7953"
             ],
             [
              0.7777777777777778,
              "#fb9f3a"
             ],
             [
              0.8888888888888888,
              "#fdca26"
             ],
             [
              1,
              "#f0f921"
             ]
            ],
            "type": "histogram2dcontour"
           }
          ],
          "mesh3d": [
           {
            "colorbar": {
             "outlinewidth": 0,
             "ticks": ""
            },
            "type": "mesh3d"
           }
          ],
          "parcoords": [
           {
            "line": {
             "colorbar": {
              "outlinewidth": 0,
              "ticks": ""
             }
            },
            "type": "parcoords"
           }
          ],
          "pie": [
           {
            "automargin": true,
            "type": "pie"
           }
          ],
          "scatter": [
           {
            "fillpattern": {
             "fillmode": "overlay",
             "size": 10,
             "solidity": 0.2
            },
            "type": "scatter"
           }
          ],
          "scatter3d": [
           {
            "line": {
             "colorbar": {
              "outlinewidth": 0,
              "ticks": ""
             }
            },
            "marker": {
             "colorbar": {
              "outlinewidth": 0,
              "ticks": ""
             }
            },
            "type": "scatter3d"
           }
          ],
          "scattercarpet": [
           {
            "marker": {
             "colorbar": {
              "outlinewidth": 0,
              "ticks": ""
             }
            },
            "type": "scattercarpet"
           }
          ],
          "scattergeo": [
           {
            "marker": {
             "colorbar": {
              "outlinewidth": 0,
              "ticks": ""
             }
            },
            "type": "scattergeo"
           }
          ],
          "scattergl": [
           {
            "marker": {
             "colorbar": {
              "outlinewidth": 0,
              "ticks": ""
             }
            },
            "type": "scattergl"
           }
          ],
          "scattermapbox": [
           {
            "marker": {
             "colorbar": {
              "outlinewidth": 0,
              "ticks": ""
             }
            },
            "type": "scattermapbox"
           }
          ],
          "scatterpolar": [
           {
            "marker": {
             "colorbar": {
              "outlinewidth": 0,
              "ticks": ""
             }
            },
            "type": "scatterpolar"
           }
          ],
          "scatterpolargl": [
           {
            "marker": {
             "colorbar": {
              "outlinewidth": 0,
              "ticks": ""
             }
            },
            "type": "scatterpolargl"
           }
          ],
          "scatterternary": [
           {
            "marker": {
             "colorbar": {
              "outlinewidth": 0,
              "ticks": ""
             }
            },
            "type": "scatterternary"
           }
          ],
          "surface": [
           {
            "colorbar": {
             "outlinewidth": 0,
             "ticks": ""
            },
            "colorscale": [
             [
              0,
              "#0d0887"
             ],
             [
              0.1111111111111111,
              "#46039f"
             ],
             [
              0.2222222222222222,
              "#7201a8"
             ],
             [
              0.3333333333333333,
              "#9c179e"
             ],
             [
              0.4444444444444444,
              "#bd3786"
             ],
             [
              0.5555555555555556,
              "#d8576b"
             ],
             [
              0.6666666666666666,
              "#ed7953"
             ],
             [
              0.7777777777777778,
              "#fb9f3a"
             ],
             [
              0.8888888888888888,
              "#fdca26"
             ],
             [
              1,
              "#f0f921"
             ]
            ],
            "type": "surface"
           }
          ],
          "table": [
           {
            "cells": {
             "fill": {
              "color": "#EBF0F8"
             },
             "line": {
              "color": "white"
             }
            },
            "header": {
             "fill": {
              "color": "#C8D4E3"
             },
             "line": {
              "color": "white"
             }
            },
            "type": "table"
           }
          ]
         },
         "layout": {
          "annotationdefaults": {
           "arrowcolor": "#2a3f5f",
           "arrowhead": 0,
           "arrowwidth": 1
          },
          "autotypenumbers": "strict",
          "coloraxis": {
           "colorbar": {
            "outlinewidth": 0,
            "ticks": ""
           }
          },
          "colorscale": {
           "diverging": [
            [
             0,
             "#8e0152"
            ],
            [
             0.1,
             "#c51b7d"
            ],
            [
             0.2,
             "#de77ae"
            ],
            [
             0.3,
             "#f1b6da"
            ],
            [
             0.4,
             "#fde0ef"
            ],
            [
             0.5,
             "#f7f7f7"
            ],
            [
             0.6,
             "#e6f5d0"
            ],
            [
             0.7,
             "#b8e186"
            ],
            [
             0.8,
             "#7fbc41"
            ],
            [
             0.9,
             "#4d9221"
            ],
            [
             1,
             "#276419"
            ]
           ],
           "sequential": [
            [
             0,
             "#0d0887"
            ],
            [
             0.1111111111111111,
             "#46039f"
            ],
            [
             0.2222222222222222,
             "#7201a8"
            ],
            [
             0.3333333333333333,
             "#9c179e"
            ],
            [
             0.4444444444444444,
             "#bd3786"
            ],
            [
             0.5555555555555556,
             "#d8576b"
            ],
            [
             0.6666666666666666,
             "#ed7953"
            ],
            [
             0.7777777777777778,
             "#fb9f3a"
            ],
            [
             0.8888888888888888,
             "#fdca26"
            ],
            [
             1,
             "#f0f921"
            ]
           ],
           "sequentialminus": [
            [
             0,
             "#0d0887"
            ],
            [
             0.1111111111111111,
             "#46039f"
            ],
            [
             0.2222222222222222,
             "#7201a8"
            ],
            [
             0.3333333333333333,
             "#9c179e"
            ],
            [
             0.4444444444444444,
             "#bd3786"
            ],
            [
             0.5555555555555556,
             "#d8576b"
            ],
            [
             0.6666666666666666,
             "#ed7953"
            ],
            [
             0.7777777777777778,
             "#fb9f3a"
            ],
            [
             0.8888888888888888,
             "#fdca26"
            ],
            [
             1,
             "#f0f921"
            ]
           ]
          },
          "colorway": [
           "#636efa",
           "#EF553B",
           "#00cc96",
           "#ab63fa",
           "#FFA15A",
           "#19d3f3",
           "#FF6692",
           "#B6E880",
           "#FF97FF",
           "#FECB52"
          ],
          "font": {
           "color": "#2a3f5f"
          },
          "geo": {
           "bgcolor": "white",
           "lakecolor": "white",
           "landcolor": "white",
           "showlakes": true,
           "showland": true,
           "subunitcolor": "#C8D4E3"
          },
          "hoverlabel": {
           "align": "left"
          },
          "hovermode": "closest",
          "mapbox": {
           "style": "light"
          },
          "paper_bgcolor": "white",
          "plot_bgcolor": "white",
          "polar": {
           "angularaxis": {
            "gridcolor": "#EBF0F8",
            "linecolor": "#EBF0F8",
            "ticks": ""
           },
           "bgcolor": "white",
           "radialaxis": {
            "gridcolor": "#EBF0F8",
            "linecolor": "#EBF0F8",
            "ticks": ""
           }
          },
          "scene": {
           "xaxis": {
            "backgroundcolor": "white",
            "gridcolor": "#DFE8F3",
            "gridwidth": 2,
            "linecolor": "#EBF0F8",
            "showbackground": true,
            "ticks": "",
            "zerolinecolor": "#EBF0F8"
           },
           "yaxis": {
            "backgroundcolor": "white",
            "gridcolor": "#DFE8F3",
            "gridwidth": 2,
            "linecolor": "#EBF0F8",
            "showbackground": true,
            "ticks": "",
            "zerolinecolor": "#EBF0F8"
           },
           "zaxis": {
            "backgroundcolor": "white",
            "gridcolor": "#DFE8F3",
            "gridwidth": 2,
            "linecolor": "#EBF0F8",
            "showbackground": true,
            "ticks": "",
            "zerolinecolor": "#EBF0F8"
           }
          },
          "shapedefaults": {
           "line": {
            "color": "#2a3f5f"
           }
          },
          "ternary": {
           "aaxis": {
            "gridcolor": "#DFE8F3",
            "linecolor": "#A2B1C6",
            "ticks": ""
           },
           "baxis": {
            "gridcolor": "#DFE8F3",
            "linecolor": "#A2B1C6",
            "ticks": ""
           },
           "bgcolor": "white",
           "caxis": {
            "gridcolor": "#DFE8F3",
            "linecolor": "#A2B1C6",
            "ticks": ""
           }
          },
          "title": {
           "x": 0.05
          },
          "xaxis": {
           "automargin": true,
           "gridcolor": "#EBF0F8",
           "linecolor": "#EBF0F8",
           "ticks": "",
           "title": {
            "standoff": 15
           },
           "zerolinecolor": "#EBF0F8",
           "zerolinewidth": 2
          },
          "yaxis": {
           "automargin": true,
           "gridcolor": "#EBF0F8",
           "linecolor": "#EBF0F8",
           "ticks": "",
           "title": {
            "standoff": 15
           },
           "zerolinecolor": "#EBF0F8",
           "zerolinewidth": 2
          }
         }
        },
        "title": {
         "text": "Plotly Line Plot"
        },
        "xaxis": {
         "title": {
          "text": "Index"
         }
        },
        "yaxis": {
         "title": {
          "text": "Value"
         }
        }
       }
      }
     },
     "metadata": {},
     "output_type": "display_data"
    }
   ],
   "source": [
    "import plotly.graph_objects as go\n",
    "\n",
    "\n",
    "fig = go.Figure()\n",
    "fig.add_trace(go.Scatter(y=DATA_flatten, mode='lines', name='Data'))\n",
    "\n",
    "fig.update_layout(\n",
    "    title=\"Plotly Line Plot\",\n",
    "    xaxis_title=\"Index\",\n",
    "    yaxis_title=\"Value\",\n",
    "    template=\"plotly_white\"\n",
    ")\n",
    "\n",
    "fig.show()\n"
   ]
  },
  {
   "cell_type": "code",
   "execution_count": 31,
   "metadata": {},
   "outputs": [
    {
     "data": {
      "text/plain": [
       "0.038461538461538464"
      ]
     },
     "execution_count": 31,
     "metadata": {},
     "output_type": "execute_result"
    }
   ],
   "source": [
    ".1/2.6"
   ]
  },
  {
   "cell_type": "code",
   "execution_count": 18,
   "metadata": {},
   "outputs": [
    {
     "data": {
      "text/plain": [
       "[<matplotlib.lines.Line2D at 0x21842d13760>]"
      ]
     },
     "execution_count": 18,
     "metadata": {},
     "output_type": "execute_result"
    },
    {
     "data": {
      "image/png": "[encoded data removed]",
      "text/plain": [
       "<Figure size 640x480 with 1 Axes>"
      ]
     },
     "metadata": {},
     "output_type": "display_data"
    }
   ],
   "source": [
    "plt.plot(DATA_flatten[0:50])"
   ]
  },
  {
   "cell_type": "code",
   "execution_count": 19,
   "metadata": {},
   "outputs": [
    {
     "data": {
      "text/plain": [
       "[<matplotlib.lines.Line2D at 0x21842dad810>]"
      ]
     },
     "execution_count": 19,
     "metadata": {},
     "output_type": "execute_result"
    },
    {
     "data": {
      "image/png": "[encoded data removed]",
      "text/plain": [
       "<Figure size 640x480 with 1 Axes>"
      ]
     },
     "metadata": {},
     "output_type": "display_data"
    }
   ],
   "source": [
    "plt.plot(DATA_flatten[100:150])"
   ]
  },
  {
   "cell_type": "code",
   "execution_count": 20,
   "metadata": {},
   "outputs": [
    {
     "data": {
      "text/plain": [
       "[<matplotlib.lines.Line2D at 0x21842532da0>]"
      ]
     },
     "execution_count": 20,
     "metadata": {},
     "output_type": "execute_result"
    },
    {
     "data": {
      "image/png": "[encoded data removed]",
      "text/plain": [
       "<Figure size 640x480 with 1 Axes>"
      ]
     },
     "metadata": {},
     "output_type": "display_data"
    }
   ],
   "source": [
    "plt.plot(FIFO.raw_data[0][100:150])"
   ]
  },
  {
   "cell_type": "code",
   "execution_count": 5,
   "metadata": {},
   "outputs": [],
   "source": [
    "from spcm import units \n",
    "import numpy as np"
   ]
  },
  {
   "cell_type": "code",
   "execution_count": 9,
   "metadata": {},
   "outputs": [],
   "source": [
    "memory_size = 1*units.GiS"
   ]
  },
  {
   "cell_type": "code",
   "execution_count": 6,
   "metadata": {},
   "outputs": [],
   "source": [
    "def convert(value, base_unit = None, dtype = int, rounding = np.rint):\n",
    "    if isinstance(value, units.Quantity):\n",
    "        if base_unit is not None:\n",
    "            base_value = value.to(base_unit)\n",
    "        else:\n",
    "            base_value = value.to_base_units()\n",
    "        if rounding is not None:\n",
    "            return int(rounding(base_value.magnitude))\n",
    "        else:\n",
    "            return dtype(base_value.magnitude)\n",
    "    return value"
   ]
  },
  {
   "cell_type": "code",
   "execution_count": 10,
   "metadata": {},
   "outputs": [
    {
     "data": {
      "text/plain": [
       "1073741824"
      ]
     },
     "execution_count": 10,
     "metadata": {},
     "output_type": "execute_result"
    }
   ],
   "source": [
    "convert(memory_size, units.Sa, int)"
   ]
  },
  {
   "cell_type": "code",
   "execution_count": 13,
   "metadata": {},
   "outputs": [
    {
     "data": {
      "text/plain": [
       "1.0"
      ]
     },
     "execution_count": 13,
     "metadata": {},
     "output_type": "execute_result"
    }
   ],
   "source": [
    "1073741824/1024/1024/1024\n"
   ]
  },
  {
   "cell_type": "code",
   "execution_count": 16,
   "metadata": {},
   "outputs": [],
   "source": [
    "\n",
    "databufferlen = 200\n",
    "tt_seq = 20 #ns\n",
    "rate_refresh = 11 #Hz\n",
    "num_segment = int(databufferlen / (tt_seq * rate_refresh / 1e9)) // 32 * 32"
   ]
  },
  {
   "cell_type": "code",
   "execution_count": null,
   "metadata": {},
   "outputs": [],
   "source": [
    "1/rate_refresh*1E9/tt_seq"
   ]
  },
  {
   "cell_type": "code",
   "execution_count": 17,
   "metadata": {},
   "outputs": [
    {
     "data": {
      "text/plain": [
       "909090880"
      ]
     },
     "execution_count": 17,
     "metadata": {},
     "output_type": "execute_result"
    }
   ],
   "source": [
    "num_segment"
   ]
  },
  {
   "cell_type": "code",
   "execution_count": null,
   "metadata": {},
   "outputs": [],
   "source": []
  }
 ],
 "metadata": {
  "kernelspec": {
   "display_name": "Python 3",
   "language": "python",
   "name": "python3"
  },
  "language_info": {
   "codemirror_mode": {
    "name": "ipython",
    "version": 3
   },
   "file_extension": ".py",
   "mimetype": "text/x-python",
   "name": "python",
   "nbconvert_exporter": "python",
   "pygments_lexer": "ipython3",
   "version": "3.10.16"
  }
 },
 "nbformat": 4,
 "nbformat_minor": 2
}
