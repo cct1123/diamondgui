{
 "cells": [
  {
   "cell_type": "code",
   "execution_count": 91,
   "metadata": {},
   "outputs": [],
   "source": [
    "import numpy as np\n",
    "import attocube.AMC as AMC\n",
    "\n",
    "import time\n",
    "AMC_IP = \"192.168.1.78\"\n",
    "IP = AMC_IP\n",
    "\n",
    "# Setup connection to AMC\n",
    "amc = AMC.Device(IP)\n",
    "amc.connect()\n",
    "\n",
    "# Activate axis 1\n",
    "# Internally, axes are numbered 0 to 2\n",
    "axis = 1 # Axis 3\n",
    "amc.control.setControlOutput(axis, True)"
   ]
  },
  {
   "attachments": {},
   "cell_type": "markdown",
   "metadata": {},
   "source": [
    "## Basic settings for OL movement\n"
   ]
  },
  {
   "cell_type": "code",
   "execution_count": 206,
   "metadata": {},
   "outputs": [
    {
     "name": "stdout",
     "output_type": "stream",
     "text": [
      "\n",
      "Number of step per trigger: 100\n",
      "Slip-stick rate: 3999.893 Hz\n",
      "Slip-stick amplitdue: 8.998 V\n",
      "DC Offset: 2999 mV\n",
      "\n"
     ]
    }
   ],
   "source": [
    "num_steps = 100\n",
    "rate_slipstick = 4000E3 # [mHz],  from 1Hz to 5kHz\n",
    "out_amp = 9E3 # [mV],  from 0 to 60V\n",
    "out_offset = 0.0 # [mV] from 0 to 60V\n",
    "\n",
    "amc.control.setControlFrequency(axis, rate_slipstick)\n",
    "amc.move.writeNSteps(axis, num_steps)\n",
    "num_steps = amc.move.getNSteps(axis)\n",
    "amc.control.setControlAmplitude(axis, out_amp)\n",
    "amc.control.setControlFixOutputVoltage(axis, out_offset)\n",
    "\n",
    "rate_slipstick = amc.control.getControlFrequency(axis) # [mHz]\n",
    "out_amp = amc.control.getControlAmplitude(axis)\n",
    "# out_offset = amc.control.getControlFixOutputVoltage(axis)\n",
    "out_offset = amc.control.getCurrentOutputVoltage(axis)\n",
    "print(f\"\"\"\n",
    "Number of step per trigger: {num_steps}\n",
    "Slip-stick rate: {rate_slipstick/1000.0} Hz\n",
    "Slip-stick amplitdue: {out_amp/1E3} V\n",
    "DC Offset: {out_offset} mV\n",
    "\"\"\")"
   ]
  },
  {
   "attachments": {},
   "cell_type": "markdown",
   "metadata": {},
   "source": [
    "## Determine the forward and backward limits"
   ]
  },
  {
   "cell_type": "code",
   "execution_count": 207,
   "metadata": {},
   "outputs": [
    {
     "name": "stdout",
     "output_type": "stream",
     "text": [
      "Forward limit reached?: False\n",
      "Forward limit reached?: False\n",
      "Forward limit reached?: False\n",
      "Forward limit reached?: False\n",
      "Forward limit reached?: False\n",
      "Forward limit reached?: False\n",
      "Forward limit reached?: False\n",
      "Forward limit reached?: False\n",
      "Forward limit reached?: False\n",
      "Forward limit reached?: False\n",
      "Forward limit reached?: False\n",
      "Forward limit reached?: False\n",
      "Forward limit reached?: False\n",
      "Forward limit reached?: True\n",
      "Backward limit reached?: False\n",
      "Backward limit reached?: False\n",
      "Backward limit reached?: False\n",
      "Backward limit reached?: False\n",
      "Backward limit reached?: False\n",
      "Backward limit reached?: False\n",
      "Backward limit reached?: False\n",
      "Backward limit reached?: False\n",
      "Backward limit reached?: False\n",
      "Backward limit reached?: False\n",
      "Backward limit reached?: False\n",
      "Backward limit reached?: False\n",
      "Backward limit reached?: False\n",
      "Backward limit reached?: False\n",
      "Backward limit reached?: False\n",
      "Backward limit reached?: True\n",
      "\n",
      "X forward limit: 3265777.0 nm\n",
      "X backward limit: 8185.0 nm\n",
      "X center : 1628796.0 nm\n",
      "\n"
     ]
    }
   ],
   "source": [
    "# amc.status.getStatusEot(axis)\n",
    "fwdlimit_reached = False\n",
    "bkwdlimit_reached = False\n",
    "\n",
    "while not fwdlimit_reached:\n",
    "    amc.move.setControlContinuousFwd(axis, True)\n",
    "    time.sleep(0.5)\n",
    "    fwdlimit_reached = amc.status.getStatusEotFwd(axis)\n",
    "    print(f\"Forward limit reached?: {fwdlimit_reached}\") # this can't be commented out!\n",
    "    amc.move.setControlContinuousFwd(axis, False)\n",
    "time.sleep(0.5)\n",
    "x_fwdlimit = np.floor(amc.move.getPosition(axis))\n",
    "\n",
    "while not bkwdlimit_reached:\n",
    "    amc.move.setControlContinuousBkwd(axis, True)\n",
    "    time.sleep(0.5)\n",
    "    bkwdlimit_reached = amc.status.getStatusEotBkwd(axis)\n",
    "    print(f\"Backward limit reached?: {bkwdlimit_reached}\") # this can't be commented out!\n",
    "    amc.move.setControlContinuousBkwd(axis, False)\n",
    "time.sleep(0.5)\n",
    "x_bkwdlimit = np.ceil(amc.move.getPosition(axis))\n",
    "\n",
    "x_cen = (x_fwdlimit-x_bkwdlimit)/2.0\n",
    "\n",
    "print(f\"\"\"\n",
    "X forward limit: {x_fwdlimit} nm\n",
    "X backward limit: {x_bkwdlimit} nm\n",
    "X center : {x_cen} nm\n",
    "\"\"\")"
   ]
  },
  {
   "attachments": {},
   "cell_type": "markdown",
   "metadata": {},
   "source": [
    "## Determine movement per step"
   ]
  },
  {
   "cell_type": "code",
   "execution_count": 216,
   "metadata": {},
   "outputs": [],
   "source": [
    "x_pos_listlist = []\n",
    "for _ in range(10):\n",
    "    backward = True\n",
    "    amc.move.setControlTargetPosition(axis, x_fwdlimit) # move to the center\n",
    "    amc.control.setControlMove(axis, True) \n",
    "    while not amc.status.getStatusTargetRange(axis):\n",
    "        time.sleep(1.0)\n",
    "    else:\n",
    "        amc.control.setControlMove(axis, False)\n",
    "    num_steps = 100\n",
    "    amc.move.writeNSteps(axis, num_steps)\n",
    "    num_steps = amc.move.getNSteps(axis)\n",
    "\n",
    "    num_pulse = 100\n",
    "    x_pos_list = np.zeros(num_pulse+1)\n",
    "\n",
    "    while amc.status.getStatusMoving(axis):\n",
    "            time.sleep(0.05)\n",
    "    else:\n",
    "        x_pos_list[0] = amc.move.getPosition(axis)\n",
    "    sleeptime = max(2.0*num_steps/rate_slipstick*1000.0, 10E-3)\n",
    "    for ii in range(num_pulse):\n",
    "        amc.move.performNSteps(axis, backward)\n",
    "        time.sleep(sleeptime)\n",
    "        while amc.status.getStatusMoving(axis):\n",
    "            time.sleep(sleeptime)\n",
    "        else:\n",
    "            x_pos_list[ii+1] = amc.move.getPosition(axis)\n",
    "\n",
    "    x_pos_listlist += list(x_pos_list)\n",
    "# x_moved = amc.move.getPosition(axis) - x_pos_list[0]\n",
    "\n",
    "# dx_perstep = x_moved/(num_pulse*num_steps)\n",
    "# print(f\"\"\"\n",
    "# Steps per pulse: {num_steps}\n",
    "# # Number of pulses: {num_pulse}\n",
    "# Steps moved: {num_pulse*num_steps} \n",
    "# dx per step: {dx_perstep} nm\n",
    "# \"\"\")\n",
    "# # x_list = np.arange()\n"
   ]
  },
  {
   "cell_type": "code",
   "execution_count": 217,
   "metadata": {},
   "outputs": [],
   "source": [
    "x_pos_listlist = np.array(x_pos_listlist)"
   ]
  },
  {
   "cell_type": "code",
   "execution_count": 218,
   "metadata": {},
   "outputs": [],
   "source": [
    "\n",
    "from scipy.ndimage import shift\n",
    "dx_listlist = []\n",
    "\n",
    "xpll = np.reshape(x_pos_listlist, (int(len(x_pos_listlist)/(num_pulse+1)), num_pulse+1))\n",
    "for x_pos_list in xpll:\n",
    "    dx_list = x_pos_list[1:] - shift(x_pos_list, 1, cval=np.NaN)[1:]\n",
    "    dx_listlist += list(dx_list)\n",
    "\n",
    "dx_list = np.array(dx_listlist)"
   ]
  },
  {
   "cell_type": "code",
   "execution_count": 219,
   "metadata": {},
   "outputs": [
    {
     "name": "stdout",
     "output_type": "stream",
     "text": [
      "-9486.453841000477, 6143.532738353254\n"
     ]
    }
   ],
   "source": [
    "dx_sd = np.std(dx_list)\n",
    "dx_mean = np.mean(dx_list)\n",
    "print(f\"{dx_mean}, {dx_sd}\")"
   ]
  },
  {
   "cell_type": "code",
   "execution_count": 220,
   "metadata": {},
   "outputs": [
    {
     "data": {
      "text/plain": [
       "(array([  2.,   4.,   6.,  15.,  20.,  41.,  60., 115., 199., 221., 205.,\n",
       "         66.,  33.,   8.,   5.]),\n",
       " array([-36157.497     , -33176.94553333, -30196.39406667, -27215.8426    ,\n",
       "        -24235.29113333, -21254.73966667, -18274.1882    , -15293.63673333,\n",
       "        -12313.08526667,  -9332.5338    ,  -6351.98233333,  -3371.43086667,\n",
       "          -390.8794    ,   2589.67206667,   5570.22353333,   8550.775     ]),\n",
       " <BarContainer object of 15 artists>)"
      ]
     },
     "execution_count": 220,
     "metadata": {},
     "output_type": "execute_result"
    },
    {
     "data": {
      "image/png": "[encoded data removed]",
      "text/plain": [
       "<Figure size 640x480 with 1 Axes>"
      ]
     },
     "metadata": {},
     "output_type": "display_data"
    }
   ],
   "source": [
    "import matplotlib.pyplot as plt\n",
    "counts, bins = np.histogram(dx_list, bins=15, range=None, density=None, weights=None)\n",
    "plt.hist(bins[:-1], bins, weights=counts)"
   ]
  },
  {
   "attachments": {},
   "cell_type": "markdown",
   "metadata": {},
   "source": [
    "## "
   ]
  },
  {
   "cell_type": "code",
   "execution_count": 199,
   "metadata": {},
   "outputs": [
    {
     "data": {
      "text/plain": [
       "(2397969.636,\n",
       " 1594764.15,\n",
       " 924603.937,\n",
       " 2999.9980273246765,\n",
       " 2999.9980273246765,\n",
       " 2999.9980273246765)"
      ]
     },
     "execution_count": 199,
     "metadata": {},
     "output_type": "execute_result"
    }
   ],
   "source": [
    "# amc.control.getControlAmplitude(axis)\n",
    "amc.control.getPositionsAndVoltages()"
   ]
  },
  {
   "attachments": {},
   "cell_type": "markdown",
   "metadata": {},
   "source": [
    "## Turn off control output and close connection"
   ]
  },
  {
   "cell_type": "code",
   "execution_count": null,
   "metadata": {},
   "outputs": [],
   "source": [
    "# Deativate axis\n",
    "amc.control.setControlOutput(axis, False)\n",
    "\n",
    "# Close connection\n",
    "amc.close()"
   ]
  }
 ],
 "metadata": {
  "kernelspec": {
   "display_name": "hfnvenv",
   "language": "python",
   "name": "python3"
  },
  "language_info": {
   "codemirror_mode": {
    "name": "ipython",
    "version": 3
   },
   "file_extension": ".py",
   "mimetype": "text/x-python",
   "name": "python",
   "nbconvert_exporter": "python",
   "pygments_lexer": "ipython3",
   "version": "3.10.8 | packaged by conda-forge | (main, Nov  4 2022, 13:42:51) [MSC v.1916 64 bit (AMD64)]"
  },
  "orig_nbformat": 4,
  "vscode": {
   "interpreter": {
    "hash": "e18a0773591e5a5fd717ebd07f0833d1ddde043e7cb0922cff26ae4a521a5193"
   }
  }
 },
 "nbformat": 4,
 "nbformat_minor": 2
}
