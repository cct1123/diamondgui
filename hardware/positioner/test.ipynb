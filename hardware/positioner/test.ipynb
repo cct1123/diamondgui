{
 "cells": [
  {
   "cell_type": "code",
   "execution_count": 1,
   "metadata": {},
   "outputs": [],
   "source": [
    "import numpy as np\n",
    "import attocube.AMC as AMC\n",
    "\n",
    "import time\n",
    "AMC_IP = \"192.168.1.78\"\n",
    "IP = AMC_IP\n",
    "\n",
    "# Setup connection to AMC\n",
    "amc = AMC.Device(IP)\n",
    "amc.connect()\n",
    "\n",
    "# Activate axis 1\n",
    "# Internally, axes are numbered 0 to 2\n",
    "axis = 1 # Axis x y z\n",
    "amc.control.setControlOutput(axis, True)"
   ]
  },
  {
   "attachments": {},
   "cell_type": "markdown",
   "metadata": {},
   "source": [
    "## Basic settings for OL movement\n"
   ]
  },
  {
   "cell_type": "code",
   "execution_count": 2,
   "metadata": {},
   "outputs": [
    {
     "name": "stdout",
     "output_type": "stream",
     "text": [
      "\n",
      "Number of step per trigger: 100\n",
      "Slip-stick rate: 1999.896 Hz\n",
      "Slip-stick amplitdue: 29.999 V\n",
      "DC Offset: 2999 mV\n",
      "\n"
     ]
    }
   ],
   "source": [
    "num_steps = 100\n",
    "rate_slipstick = 2000E3 # [mHz],  from 1Hz to 5kHz\n",
    "out_amp = 30E3 # [mV],  from 0 to 60V\n",
    "out_offset = 0.0 # [mV] from 0 to 60V\n",
    "\n",
    "amc.control.setControlFrequency(axis, rate_slipstick)\n",
    "amc.move.writeNSteps(axis, num_steps)\n",
    "num_steps = amc.move.getNSteps(axis)\n",
    "amc.control.setControlAmplitude(axis, out_amp)\n",
    "amc.control.setControlFixOutputVoltage(axis, out_offset)\n",
    "\n",
    "rate_slipstick = amc.control.getControlFrequency(axis) # [mHz]\n",
    "out_amp = amc.control.getControlAmplitude(axis)\n",
    "# out_offset = amc.control.getControlFixOutputVoltage(axis)\n",
    "out_offset = amc.control.getCurrentOutputVoltage(axis)\n",
    "print(f\"\"\"\n",
    "Number of step per trigger: {num_steps}\n",
    "Slip-stick rate: {rate_slipstick/1000.0} Hz\n",
    "Slip-stick amplitdue: {out_amp/1E3} V\n",
    "DC Offset: {out_offset} mV\n",
    "\"\"\")"
   ]
  },
  {
   "attachments": {},
   "cell_type": "markdown",
   "metadata": {},
   "source": [
    "## Determine the forward and backward limits"
   ]
  },
  {
   "cell_type": "code",
   "execution_count": 12,
   "metadata": {},
   "outputs": [
    {
     "name": "stdout",
     "output_type": "stream",
     "text": [
      "Forward limit reached?: False\n",
      "Forward limit reached?: False\n",
      "Forward limit reached?: False\n",
      "Forward limit reached?: False\n",
      "Forward limit reached?: False\n",
      "Forward limit reached?: True\n",
      "Backward limit reached?: False\n",
      "Backward limit reached?: False\n",
      "Backward limit reached?: False\n",
      "Backward limit reached?: False\n",
      "Backward limit reached?: False\n",
      "Backward limit reached?: False\n",
      "Backward limit reached?: True\n",
      "\n",
      "X forward limit: 3281356.0 nm\n",
      "X backward limit: 2042.0 nm\n",
      "X center : 1639657.0 nm\n",
      "\n"
     ]
    }
   ],
   "source": [
    "# amc.status.getStatusEot(axis)\n",
    "fwdlimit_reached = False\n",
    "bkwdlimit_reached = False\n",
    "\n",
    "while not fwdlimit_reached:\n",
    "    amc.move.setControlContinuousFwd(axis, True)\n",
    "    time.sleep(0.5)\n",
    "    fwdlimit_reached = amc.status.getStatusEotFwd(axis)\n",
    "    print(f\"Forward limit reached?: {fwdlimit_reached}\") # this can't be commented out!\n",
    "    amc.move.setControlContinuousFwd(axis, False)\n",
    "time.sleep(0.5)\n",
    "x_fwdlimit = np.floor(amc.move.getPosition(axis))\n",
    "\n",
    "while not bkwdlimit_reached:\n",
    "    amc.move.setControlContinuousBkwd(axis, True)\n",
    "    time.sleep(0.5)\n",
    "    bkwdlimit_reached = amc.status.getStatusEotBkwd(axis)\n",
    "    print(f\"Backward limit reached?: {bkwdlimit_reached}\") # this can't be commented out!\n",
    "    amc.move.setControlContinuousBkwd(axis, False)\n",
    "time.sleep(0.5)\n",
    "x_bkwdlimit = np.ceil(amc.move.getPosition(axis))\n",
    "\n",
    "x_cen = (x_fwdlimit-x_bkwdlimit)/2.0\n",
    "\n",
    "print(f\"\"\"\n",
    "X forward limit: {x_fwdlimit} nm\n",
    "X backward limit: {x_bkwdlimit} nm\n",
    "X center : {x_cen} nm\n",
    "\"\"\")"
   ]
  },
  {
   "attachments": {},
   "cell_type": "markdown",
   "metadata": {},
   "source": [
    "## Determine movement per step"
   ]
  },
  {
   "cell_type": "code",
   "execution_count": 13,
   "metadata": {},
   "outputs": [],
   "source": [
    "x_pos_listlist = []\n",
    "for _ in range(10):\n",
    "    backward = True\n",
    "    amc.move.setControlTargetPosition(axis, x_fwdlimit) # move to the center\n",
    "    amc.control.setControlMove(axis, True) \n",
    "    while not amc.status.getStatusTargetRange(axis):\n",
    "        time.sleep(1.0)\n",
    "    else:\n",
    "        amc.control.setControlMove(axis, False)\n",
    "    num_steps = 100\n",
    "    amc.move.writeNSteps(axis, num_steps)\n",
    "    num_steps = amc.move.getNSteps(axis)\n",
    "\n",
    "    num_pulse = 100\n",
    "    x_pos_list = np.zeros(num_pulse+1)\n",
    "\n",
    "    while amc.status.getStatusMoving(axis):\n",
    "            time.sleep(0.05)\n",
    "    else:\n",
    "        x_pos_list[0] = amc.move.getPosition(axis)\n",
    "    sleeptime = max(2.0*num_steps/rate_slipstick*1000.0, 10E-3)\n",
    "    for ii in range(num_pulse):\n",
    "        amc.move.performNSteps(axis, backward)\n",
    "        time.sleep(sleeptime)\n",
    "        while amc.status.getStatusMoving(axis):\n",
    "            time.sleep(sleeptime)\n",
    "        else:\n",
    "            x_pos_list[ii+1] = amc.move.getPosition(axis)\n",
    "\n",
    "    x_pos_listlist += list(x_pos_list)\n",
    "# x_moved = amc.move.getPosition(axis) - x_pos_list[0]\n",
    "\n",
    "# dx_perstep = x_moved/(num_pulse*num_steps)\n",
    "# print(f\"\"\"\n",
    "# Steps per pulse: {num_steps}\n",
    "# # Number of pulses: {num_pulse}\n",
    "# Steps moved: {num_pulse*num_steps} \n",
    "# dx per step: {dx_perstep} nm\n",
    "# \"\"\")\n",
    "# # x_list = np.arange()\n"
   ]
  },
  {
   "cell_type": "code",
   "execution_count": 14,
   "metadata": {},
   "outputs": [],
   "source": [
    "x_pos_listlist = np.array(x_pos_listlist)"
   ]
  },
  {
   "cell_type": "code",
   "execution_count": 15,
   "metadata": {},
   "outputs": [],
   "source": [
    "from scipy.ndimage import shift\n",
    "dx_listlist = []\n",
    "\n",
    "xpll = np.reshape(x_pos_listlist, (int(len(x_pos_listlist)/(num_pulse+1)), num_pulse+1))\n",
    "for x_pos_list in xpll:\n",
    "    dx_list = x_pos_list[1:] - shift(x_pos_list, 1, cval=np.NaN)[1:]\n",
    "    dx_listlist += list(dx_list)\n",
    "\n",
    "dx_list = np.array(dx_listlist)"
   ]
  },
  {
   "cell_type": "code",
   "execution_count": 16,
   "metadata": {},
   "outputs": [
    {
     "name": "stdout",
     "output_type": "stream",
     "text": [
      "-32598.303818000142, 27199.76842097194\n"
     ]
    }
   ],
   "source": [
    "dx_sd = np.std(dx_list)\n",
    "dx_mean = np.mean(dx_list)\n",
    "print(f\"{dx_mean}, {dx_sd}\")"
   ]
  },
  {
   "cell_type": "code",
   "execution_count": 17,
   "metadata": {},
   "outputs": [
    {
     "data": {
      "text/plain": [
       "(array([  3.,   1.,   1.,   9.,  41.,  99., 194., 142.,  65.,  25.,   5.,\n",
       "          4.,  16.,  20., 375.]),\n",
       " array([-99950.743 , -93192.3026, -86433.8622, -79675.4218, -72916.9814,\n",
       "        -66158.541 , -59400.1006, -52641.6602, -45883.2198, -39124.7794,\n",
       "        -32366.339 , -25607.8986, -18849.4582, -12091.0178,  -5332.5774,\n",
       "          1425.863 ]),\n",
       " <BarContainer object of 15 artists>)"
      ]
     },
     "execution_count": 17,
     "metadata": {},
     "output_type": "execute_result"
    },
    {
     "data": {
      "image/png": "[encoded data removed]",
      "text/plain": [
       "<Figure size 640x480 with 1 Axes>"
      ]
     },
     "metadata": {},
     "output_type": "display_data"
    }
   ],
   "source": [
    "import matplotlib.pyplot as plt\n",
    "counts, bins = np.histogram(dx_list, bins=15, range=None, density=None, weights=None)\n",
    "plt.hist(bins[:-1], bins, weights=counts)"
   ]
  },
  {
   "attachments": {},
   "cell_type": "markdown",
   "metadata": {},
   "source": [
    "## "
   ]
  },
  {
   "cell_type": "code",
   "execution_count": 18,
   "metadata": {},
   "outputs": [
    {
     "data": {
      "text/plain": [
       "(3195125.619,\n",
       " -5260.968,\n",
       " 6748.93,\n",
       " 2999.9980273246765,\n",
       " 2999.9980273246765,\n",
       " 2999.9980273246765)"
      ]
     },
     "execution_count": 18,
     "metadata": {},
     "output_type": "execute_result"
    }
   ],
   "source": [
    "# amc.control.getControlAmplitude(axis)\n",
    "amc.control.getPositionsAndVoltages()"
   ]
  },
  {
   "attachments": {},
   "cell_type": "markdown",
   "metadata": {},
   "source": [
    "## Play Musics with Positioners 😝🎶\n"
   ]
  },
  {
   "cell_type": "code",
   "execution_count": 79,
   "metadata": {},
   "outputs": [],
   "source": [
    "import pandas as pd\n",
    "df = pd.read_csv('musics_notes.csv', sep=',')\n",
    "dropidx = []\n",
    "addrows = []\n",
    "for (ii, note) in enumerate(df[\"Note\"]):\n",
    "    if \"/\" in note:\n",
    "        note = note.replace(\"\\xa0\", \"\")\n",
    "        sharpfat = note.split(\"/\")\n",
    "        dropidx.append(ii)\n",
    "        for noteequv in sharpfat:\n",
    "            addrows.append({'Note': noteequv, \"Frequency (Hz)\": df[\"Frequency (Hz)\"][ii], \"Wavelength (cm)\": df[\"Wavelength (cm)\"][ii]})\n",
    "df = df.drop(dropidx)\n",
    "df = pd.concat([df, pd.DataFrame.from_records(addrows)], ignore_index=True)\n",
    "# df = df.append(addrows, ignore_index = True)\n",
    "note_to_freq = dict() # note to frequency table\n",
    "note_to_freq[\"\"] = 1.0\n",
    "for (ii, note) in enumerate(df[\"Note\"]):\n",
    "    note_to_freq[note] = df[\"Frequency (Hz)\"][ii]\n"
   ]
  },
  {
   "attachments": {},
   "cell_type": "markdown",
   "metadata": {},
   "source": [
    "### Sheet Musics\n",
    "Never gonna give you up"
   ]
  },
  {
   "cell_type": "code",
   "execution_count": 112,
   "metadata": {},
   "outputs": [],
   "source": [
    "# beatrate = 114/4.0\n",
    "beatrate = 52\n",
    "# beatrate = 114/2.0\n",
    "sheet = [\n",
    "    'E4', 'F#4', 'G4', 'G4', 'A4', 'F#4', 'E4', 'D4', \"\", \n",
    "    \"\", 'E4', 'E4', 'F#4', 'G4', 'E4', 'D4', 'D5', \"\", 'D5', 'A4', \"\", \n",
    "    'E4', 'E4', 'F#4', 'G4', 'E4', 'G4', 'A4', \"\", \"\", 'F#4', 'E4', 'D4', \"\", \n",
    "    \"\",'E4', 'E4', 'F#4', 'G4', 'E4', 'D4', 'A4', 'A4', 'A4', 'B4', 'A4', \"\",\n",
    "    'G4', 'A4', 'B4', 'G4', 'A4', 'A4', 'A4', 'B4', 'A4', 'D4', \n",
    "    #######\n",
    "    \"\", 'E4', 'F#4', 'G4', 'E4', \n",
    "    \"\", 'A4', 'B4', 'A4', 'D4', 'E4', 'G4', 'E4', 'B4', 'B4', 'A4', \n",
    "    'D4', 'E4', 'G4', 'E4', 'A4', 'A4', 'G4', 'F#4', 'E4', \n",
    "    'D4', 'E4', 'G4', 'E4', 'G4', 'A4', 'F#4', 'E4', 'D4', 'D4', 'D4', 'A4', 'G4', \n",
    "    # never gonna make you cry\n",
    "    'D4', 'E4', 'G4', 'E4', 'B4', 'B4', 'A4', \n",
    "    'D4', 'E4', 'G4', 'E4', 'D5', 'F#4', 'G4', 'F#4', 'E4', \n",
    "    'D4', 'E4', 'G4', 'E4', 'G4', 'A4', 'F#4', 'E4', 'D4',\n",
    "    'D4', 'A4', 'G4', \"\"\n",
    "]\n",
    "\n",
    "durlist = [\n",
    "    1/8, 1/8, 1/8, 1/8, 1/8, 1/8+1/16, 1/16, 1/8+1/2, 1/4, \n",
    "    1/8, 1/8, 1/8, 1/8, 1/8, 1/4, 1/8, 1/8, 1/8, 1/8, 1/8+1/16, 1/4, \n",
    "    1/8, 1/8, 1/8, 1/8, 1/8, 1/8, 1/8, 1/8, 1/8, 1/8, 1/8, 1/8+1/16, 1/4,\n",
    "    1/8, 1/8, 1/8, 1/8, 1/8, 1/8, 1/8, 1/8, 1/8, 1/8, 1/8, 1/4, 1/4,\n",
    "    1/2+1/4, 1/8, 1/8, 1/8, 1/8, 1/8, 1/8, 1/8, 1/4, 1/4, \n",
    "    #######\n",
    "    # gotta make you\n",
    "    1, 1/8, 1/8, 1/8, 1/8, \n",
    "    # understand never gonna give you up\n",
    "    1/8, 1/8, 1/8, 1/8+1/16, 1/16, 1/16, 1/16, 1/16, 1/8+1/16, 1/8+1/16, 1/4+1/8, \n",
    "    # never gonna let you down ----\n",
    "    1/16, 1/16, 1/16, 1/16, 1/4+1/8, 1/4+1/8, 1/4+1/8, 1/16, 1/8, \n",
    "    # never gonna run around and desert you\n",
    "    1/16, 1/16, 1/16, 1/16, 1/4, 1/8, 1/8+1/16, 1/16, 1/8, 1/8, 1/8, 1/4, 1/2, \n",
    "    # never gonna make you cry\n",
    "    1/16, 1/16, 1/16, 1/16, 1/8+1/16, 1/8+1/16, 1/4+1/8, \n",
    "    # never gonna say goodbye\n",
    "    1/16, 1/16, 1/16, 1/16, 1/4, 1/8, 1/8+1/16, 1/16, 1/8, \n",
    "    # never gonna tell a lie\n",
    "    1/16, 1/16, 1/16, 1/16, 1/4, 1/8, 1/8+1/16, 1/16, 1/8,\n",
    "    # and hurt you\n",
    "    1/8, 1/4, 1/2, 1/4\n",
    "           ]\n",
    "durlist = np.array(durlist)*60.0/beatrate"
   ]
  },
  {
   "cell_type": "code",
   "execution_count": 119,
   "metadata": {},
   "outputs": [],
   "source": [
    "amc.control.setControlFrequency(axis, 2000*1000)\n",
    "amc.move.setControlTargetPosition(axis, x_cen)\n",
    "amc.control.setControlMove(axis, True) \n",
    "while not amc.status.getStatusTargetRange(axis):\n",
    "    time.sleep(1.0)\n",
    "else:\n",
    "    amc.control.setControlMove(axis, False)\n",
    "time.sleep(0.5)\n",
    "backward = False\n",
    "for (note, dur) in zip(sheet, durlist): \n",
    "    backward = not (backward)\n",
    "    rate_slipstick = note_to_freq[note]*1000.0 # [mHz],  from 1Hz to 5kHz\n",
    "    amc.control.setControlFrequency(axis, rate_slipstick)\n",
    "    rate_ss = amc.control.getControlFrequency(axis) # [mHz]\n",
    "    # print(f\"\"\"\n",
    "    # Slip-stick rate: {rate_ss/1000.0} Hz\n",
    "    # \"\"\")\n",
    "    if backward:\n",
    "        amc.move.setControlContinuousBkwd(axis, True)\n",
    "        time.sleep(dur)\n",
    "        amc.move.setControlContinuousBkwd(axis, False)\n",
    "    else:\n",
    "        amc.move.setControlContinuousFwd(axis, True)\n",
    "        time.sleep(dur)\n",
    "        amc.move.setControlContinuousFwd(axis, False)\n",
    "        \n",
    "    # amc.move.performNSteps(axis, backward)\n"
   ]
  },
  {
   "attachments": {},
   "cell_type": "markdown",
   "metadata": {},
   "source": [
    "## Turn off control output and close connection"
   ]
  },
  {
   "cell_type": "code",
   "execution_count": 6,
   "metadata": {},
   "outputs": [],
   "source": [
    "# Deativate axis\n",
    "amc.control.setControlOutput(axis, False)\n",
    "\n",
    "# Close connection\n",
    "amc.close()"
   ]
  },
  {
   "cell_type": "code",
   "execution_count": null,
   "metadata": {},
   "outputs": [],
   "source": []
  }
 ],
 "metadata": {
  "kernelspec": {
   "display_name": "hfnvenv",
   "language": "python",
   "name": "python3"
  },
  "language_info": {
   "codemirror_mode": {
    "name": "ipython",
    "version": 3
   },
   "file_extension": ".py",
   "mimetype": "text/x-python",
   "name": "python",
   "nbconvert_exporter": "python",
   "pygments_lexer": "ipython3",
   "version": "3.10.8"
  },
  "orig_nbformat": 4,
  "vscode": {
   "interpreter": {
    "hash": "e18a0773591e5a5fd717ebd07f0833d1ddde043e7cb0922cff26ae4a521a5193"
   }
  }
 },
 "nbformat": 4,
 "nbformat_minor": 2
}
