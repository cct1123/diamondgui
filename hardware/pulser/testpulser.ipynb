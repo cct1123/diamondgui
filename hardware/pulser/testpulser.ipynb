{
 "cells": [
  {
   "cell_type": "code",
   "execution_count": 1,
   "metadata": {},
   "outputs": [],
   "source": [
    "\"\"\"\n",
    "Control class for pulse generation using Swabian pulse streamer\n",
    "\n",
    "Reference: \n",
    "    [1] examples in 'pulsestreamer' python package\n",
    "    [2] 'pi3diamond' control software in Sen Yang group\n",
    "\n",
    "Author: ChunTung Cheung \n",
    "Email: ctcheung1123@gmail.com\n",
    "Created:  2023-01-11\n",
    "Modified: 2023-01-11\n",
    "\"\"\"\n",
    "\n",
    "\n",
    "\n",
    "from pulsestreamer import findPulseStreamers\n",
    "from pulsestreamer import PulseStreamer\n",
    "#import enum types \n",
    "from pulsestreamer import TriggerStart, TriggerRearm\n",
    "#import class Sequence and OutputState for advanced sequence building\n",
    "from pulsestreamer import Sequence, OutputState\n",
    "\n",
    "CHANNEL_MAP = {\n",
    "    'ch0':0,'ch1':1,'ch2':2,'ch3':3,'ch4':4,'ch5':5,'ch6':6,'ch7':7,'ch8':8,\n",
    "    '0':0,'1':1,'2':2,'3':3,'4':4,'5':5,'6':6,'7':7,'8':8,\n",
    "    0:0,1:1,2:2,3:3,4:4,5:5,6:6,7:7,8:8,\n",
    "}\n",
    "import numpy as np\n",
    "HIGH=1\n",
    "LOW=0\n",
    "INF = np.iinfo(np.int64).max\n",
    "\n",
    "class PulseGenerator(PulseStreamer):\n",
    "\n",
    "    def __init__(self, ip=\"\", chmap=CHANNEL_MAP):\n",
    "        if ip == \"\":\n",
    "            devices = findPulseStreamers()\n",
    "            # DHCP is activated in factory settings\n",
    "            if devices !=[]:\n",
    "                print(\"Detected Pulse Streamer 8/2: \")\n",
    "                print(devices)\n",
    "                print(\"------------------------------------------------------\\n\")\n",
    "                #Connect to the first discovered Pulse Streamer\n",
    "                ip = devices[0][0]\n",
    "            else:\n",
    "                # if discovery failed try to connect by the default hostname\n",
    "                # IP address of the pulse streamer (default hostname is 'pulsestreamer')\n",
    "                print(\"No Pulse Streamer found\")\n",
    "                ip = 'pulsestreamer'\n",
    "        super().__init__(ip)\n",
    "        self.chmap = chmap\n",
    "        self.seq = Sequence()\n",
    "        self.chmap.update(CHANNEL_MAP)\n",
    "\n",
    "    def setTrigger(self, start=TriggerStart.IMMEDIATE, rearm=TriggerRearm.MANUAL):\n",
    "        #Default: Start the sequence after the upload and disable the retrigger-function\n",
    "        \n",
    "        # classTriggerStart(enumeration)\n",
    "        # This enumeration describes the selectable start modes of the Pulse Streamer\n",
    "\n",
    "        # IMMEDIATE\n",
    "        # Trigger immediately after a sequence is uploaded. (default)\n",
    "\n",
    "        # SOFTWARE\n",
    "        # Trigger by calling startNow() method.\n",
    "\n",
    "        # HARDWARE_RISING\n",
    "        # External trigger on the rising edge.\n",
    "\n",
    "        # HARDWARE_FALLING\n",
    "        # External trigger on the falling edge.\n",
    "\n",
    "        # HARDWARE_RISING_AND_FALLING\n",
    "        # External trigger on rising and falling edges.\n",
    "\n",
    "        super().setTrigger(start=start, rearm=rearm)\n",
    "        \n",
    "    def stream(self, n_runs=1, state_i=OutputState.ZERO(), state_f=OutputState.ZERO()):\n",
    "        #run the sequence \n",
    "        #n_runs = 'INFIITE' # repeat the sequence all the time\n",
    "\n",
    "        # #reset the device - all outputs 0V\n",
    "        # super().reset()\n",
    "\n",
    "        #set constant state of the device\n",
    "        super().constant(state_i) #all outputs 0V\n",
    "\n",
    "        super().stream(self.seq, n_runs, state_f)\n",
    "\n",
    "    def reset(self):\n",
    "        #reset system and start next sequence\n",
    "        input(\"\\nPress ENTER to reset system and start delay-compensated sequence\")\n",
    "        super().reset()\n",
    "\n",
    "    def setDigital(self, ch, pulse_patt):\n",
    "        self.seq.setDigital(self.chmap[ch], pulse_patt)\n",
    "        # super().setDigital(self.chmap[ch], pulse_patt)\n",
    "\n",
    "    def setAnalog(self, ch, pulse_patt):\n",
    "        self.seq.setAnalog(self.chmap[ch], pulse_patt)\n",
    "        # super().setAnalog(self.chmap[ch], pulse_patt)\n",
    "    \n",
    "    def plotSeq(self):\n",
    "        print(self.seq.getData())\n",
    "        print(\"\\nThe channel pulse pattern are shown in a Pop-Up window. To proceed with streaming the sequence, please close the sequence plot.\")\n",
    "        self.seq.plot()\n",
    "\n",
    "    def seqTranslator(self, seq):\n",
    "        # unfinished!!!!\n",
    "        # translate \"time-separated\" sequence to \"channel-seperate\" sequence\n",
    "        seq_temp = Sequence()\n",
    "        for (channels, duration) in seq:\n",
    "            for ch in channels:\n",
    "                self.setDigital()\n",
    "        return None\n"
   ]
  },
  {
   "cell_type": "code",
   "execution_count": 2,
   "metadata": {},
   "outputs": [
    {
     "name": "stdout",
     "output_type": "stream",
     "text": [
      "Connect to Pulse Streamer via JSON-RPC.\n",
      "IP / Hostname: 169.254.8.2\n",
      "Pulse Streamer 8/2 firmware: v1.7.2\n",
      "Client software: v1.7.0\n"
     ]
    }
   ],
   "source": [
    "PS_ip = \"169.254.8.2\"\n",
    "PSch_Laser = 0 # trigger the laser\n",
    "PSch_DAQClock = 1 # as the clock for DAQ\n",
    "PSch_DAQstart = 3 # trigger pulse to start the DAQ\n",
    "chmap = {\"laser\":PSch_Laser, \"clock\":PSch_DAQClock, \"daqtrig\":PSch_DAQstart}\n",
    "pg  = PulseGenerator(ip=PS_ip, chmap=chmap)"
   ]
  },
  {
   "cell_type": "code",
   "execution_count": 3,
   "metadata": {},
   "outputs": [],
   "source": [
    "# period = 100E6# ns\n",
    "# duty = 0.5\n",
    "# sampling_rate = 1E-6 # GHz\n",
    "n_sample = 50\n",
    "# sampling_rate = 0.5E-3 # GHz\n",
    "sampling_rate = 5E-7 # GHz\n",
    "clock_period = 1.0/sampling_rate\n",
    "trigger_rate = sampling_rate/100.0\n",
    "trigger_period = 1.0/trigger_rate\n",
    "\n",
    "off_begin = 0.0\n",
    "on_time = 0.5*clock_period\n",
    "off_end = 0.5*clock_period\n",
    "seq_clock = [(off_begin, LOW), (on_time, HIGH), (off_end, LOW)]*n_sample\n",
    "seq_laser = [(0.0, LOW), (clock_period/2.0, HIGH), (clock_period/2.0, LOW)]\n",
    "seq_daqtrig = seq_clock\n",
    "# pg.setDigital(\"laser\", [(period*duty, HIGH), (period*(1-duty), LOW)])\n",
    "pg.setDigital(\"clock\", seq_clock)\n",
    "pg.setDigital(\"daqtrig\", seq_daqtrig)\n",
    "pg.setDigital(\"laser\", seq_laser)"
   ]
  },
  {
   "cell_type": "code",
   "execution_count": 4,
   "metadata": {},
   "outputs": [],
   "source": [
    "# pg.setTrigger(start=TriggerStart.SOFTWARE)\n",
    "# pg.setTrigger(start=TriggerStart.IMMEDIATE, rearm=TriggerRearm.AUTO)\n",
    "pg.setTrigger()"
   ]
  },
  {
   "cell_type": "code",
   "execution_count": 5,
   "metadata": {},
   "outputs": [],
   "source": [
    "pg.stream(n_runs=INF)"
   ]
  },
  {
   "cell_type": "code",
   "execution_count": 100,
   "metadata": {},
   "outputs": [
    {
     "data": {
      "text/plain": [
       "0"
      ]
     },
     "execution_count": 100,
     "metadata": {},
     "output_type": "execute_result"
    }
   ],
   "source": [
    "pg.startNow()"
   ]
  },
  {
   "cell_type": "code",
   "execution_count": 6,
   "metadata": {},
   "outputs": [],
   "source": [
    "pg.reset()"
   ]
  },
  {
   "cell_type": "code",
   "execution_count": null,
   "metadata": {},
   "outputs": [],
   "source": []
  }
 ],
 "metadata": {
  "kernelspec": {
   "display_name": "hfnvenv",
   "language": "python",
   "name": "python3"
  },
  "language_info": {
   "codemirror_mode": {
    "name": "ipython",
    "version": 3
   },
   "file_extension": ".py",
   "mimetype": "text/x-python",
   "name": "python",
   "nbconvert_exporter": "python",
   "pygments_lexer": "ipython3",
   "version": "3.10.14"
  },
  "orig_nbformat": 4,
  "vscode": {
   "interpreter": {
    "hash": "e18a0773591e5a5fd717ebd07f0833d1ddde043e7cb0922cff26ae4a521a5193"
   }
  }
 },
 "nbformat": 4,
 "nbformat_minor": 2
}
