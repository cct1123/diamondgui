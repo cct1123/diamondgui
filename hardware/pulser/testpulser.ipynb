{
 "cells": [
  {
   "cell_type": "code",
   "execution_count": 1,
   "metadata": {},
   "outputs": [],
   "source": [
    "from pulser import *"
   ]
  },
  {
   "cell_type": "code",
   "execution_count": 9,
   "metadata": {},
   "outputs": [
    {
     "name": "stdout",
     "output_type": "stream",
     "text": [
      "Connect to Pulse Streamer via JSON-RPC.\n",
      "IP / Hostname: 169.254.8.2\n",
      "Pulse Streamer 8/2 firmware: v1.7.2\n",
      "Client software: v1.7.0\n"
     ]
    }
   ],
   "source": [
    "PS_ip = \"169.254.8.2\"\n",
    "# channels\n",
    "PSch_Laser = 0 # trigger the laser\n",
    "PSch_DAQClock = 1 # as the clock for DAQ\n",
    "PSch_DAQstart = 3 # trigger pulse to start the DAQ\n",
    "PSch_MW_A = 4 # control switch of MW line with 0 phase shift  \n",
    "PSch_MW_B = 5 # control switch of MW line with certain phase shift  \n",
    "\n",
    "PS_chmap = {\"laser\":PSch_Laser, \n",
    "            \"clock\":PSch_DAQClock, \n",
    "            \"daqtrig\":PSch_DAQstart,\n",
    "            \"mw_A\":PSch_MW_A, \n",
    "            \"mw_B\":PSch_MW_B,\n",
    "            \"phase_B\":8,\n",
    "            }\n",
    "\n",
    "pg  = PulseGenerator(ip=PS_ip, chmap=PS_chmap)"
   ]
  },
  {
   "cell_type": "code",
   "execution_count": 11,
   "metadata": {},
   "outputs": [
    {
     "data": {
      "application/vnd.plotly.v1+json": {
       "config": {
        "plotlyServerURL": "https://plot.ly"
       },
       "data": [
        {
         "line": {
          "shape": "hv"
         },
         "mode": "lines",
         "name": "D0",
         "type": "scatter",
         "x": [
          0,
          1000000,
          2000000,
          100000000
         ],
         "xaxis": "x",
         "y": [
          1,
          0,
          0,
          0
         ],
         "yaxis": "y"
        },
        {
         "line": {
          "shape": "hv"
         },
         "mode": "lines",
         "name": "D1",
         "type": "scatter",
         "x": [
          0,
          1000000,
          2000000,
          3000000,
          4000000,
          5000000,
          6000000,
          7000000,
          8000000,
          9000000,
          10000000,
          11000000,
          12000000,
          13000000,
          14000000,
          15000000,
          16000000,
          17000000,
          18000000,
          19000000,
          20000000,
          21000000,
          22000000,
          23000000,
          24000000,
          25000000,
          26000000,
          27000000,
          28000000,
          29000000,
          30000000,
          31000000,
          32000000,
          33000000,
          34000000,
          35000000,
          36000000,
          37000000,
          38000000,
          39000000,
          40000000,
          41000000,
          42000000,
          43000000,
          44000000,
          45000000,
          46000000,
          47000000,
          48000000,
          49000000,
          50000000,
          51000000,
          52000000,
          53000000,
          54000000,
          55000000,
          56000000,
          57000000,
          58000000,
          59000000,
          60000000,
          61000000,
          62000000,
          63000000,
          64000000,
          65000000,
          66000000,
          67000000,
          68000000,
          69000000,
          70000000,
          71000000,
          72000000,
          73000000,
          74000000,
          75000000,
          76000000,
          77000000,
          78000000,
          79000000,
          80000000,
          81000000,
          82000000,
          83000000,
          84000000,
          85000000,
          86000000,
          87000000,
          88000000,
          89000000,
          90000000,
          91000000,
          92000000,
          93000000,
          94000000,
          95000000,
          96000000,
          97000000,
          98000000,
          99000000,
          100000000
         ],
         "xaxis": "x2",
         "y": [
          1,
          0,
          1,
          0,
          1,
          0,
          1,
          0,
          1,
          0,
          1,
          0,
          1,
          0,
          1,
          0,
          1,
          0,
          1,
          0,
          1,
          0,
          1,
          0,
          1,
          0,
          1,
          0,
          1,
          0,
          1,
          0,
          1,
          0,
          1,
          0,
          1,
          0,
          1,
          0,
          1,
          0,
          1,
          0,
          1,
          0,
          1,
          0,
          1,
          0,
          1,
          0,
          1,
          0,
          1,
          0,
          1,
          0,
          1,
          0,
          1,
          0,
          1,
          0,
          1,
          0,
          1,
          0,
          1,
          0,
          1,
          0,
          1,
          0,
          1,
          0,
          1,
          0,
          1,
          0,
          1,
          0,
          1,
          0,
          1,
          0,
          1,
          0,
          1,
          0,
          1,
          0,
          1,
          0,
          1,
          0,
          1,
          0,
          1,
          0,
          0
         ],
         "yaxis": "y2"
        },
        {
         "line": {
          "shape": "hv"
         },
         "mode": "lines",
         "name": "D3",
         "type": "scatter",
         "x": [
          0,
          1000000,
          2000000,
          3000000,
          4000000,
          5000000,
          6000000,
          7000000,
          8000000,
          9000000,
          10000000,
          11000000,
          12000000,
          13000000,
          14000000,
          15000000,
          16000000,
          17000000,
          18000000,
          19000000,
          20000000,
          21000000,
          22000000,
          23000000,
          24000000,
          25000000,
          26000000,
          27000000,
          28000000,
          29000000,
          30000000,
          31000000,
          32000000,
          33000000,
          34000000,
          35000000,
          36000000,
          37000000,
          38000000,
          39000000,
          40000000,
          41000000,
          42000000,
          43000000,
          44000000,
          45000000,
          46000000,
          47000000,
          48000000,
          49000000,
          50000000,
          51000000,
          52000000,
          53000000,
          54000000,
          55000000,
          56000000,
          57000000,
          58000000,
          59000000,
          60000000,
          61000000,
          62000000,
          63000000,
          64000000,
          65000000,
          66000000,
          67000000,
          68000000,
          69000000,
          70000000,
          71000000,
          72000000,
          73000000,
          74000000,
          75000000,
          76000000,
          77000000,
          78000000,
          79000000,
          80000000,
          81000000,
          82000000,
          83000000,
          84000000,
          85000000,
          86000000,
          87000000,
          88000000,
          89000000,
          90000000,
          91000000,
          92000000,
          93000000,
          94000000,
          95000000,
          96000000,
          97000000,
          98000000,
          99000000,
          100000000
         ],
         "xaxis": "x3",
         "y": [
          1,
          0,
          1,
          0,
          1,
          0,
          1,
          0,
          1,
          0,
          1,
          0,
          1,
          0,
          1,
          0,
          1,
          0,
          1,
          0,
          1,
          0,
          1,
          0,
          1,
          0,
          1,
          0,
          1,
          0,
          1,
          0,
          1,
          0,
          1,
          0,
          1,
          0,
          1,
          0,
          1,
          0,
          1,
          0,
          1,
          0,
          1,
          0,
          1,
          0,
          1,
          0,
          1,
          0,
          1,
          0,
          1,
          0,
          1,
          0,
          1,
          0,
          1,
          0,
          1,
          0,
          1,
          0,
          1,
          0,
          1,
          0,
          1,
          0,
          1,
          0,
          1,
          0,
          1,
          0,
          1,
          0,
          1,
          0,
          1,
          0,
          1,
          0,
          1,
          0,
          1,
          0,
          1,
          0,
          1,
          0,
          1,
          0,
          1,
          0,
          0
         ],
         "yaxis": "y3"
        },
        {
         "line": {
          "shape": "hv"
         },
         "mode": "lines",
         "name": "D4",
         "type": "scatter",
         "x": [
          0,
          100000000
         ],
         "xaxis": "x4",
         "y": [
          0,
          0
         ],
         "yaxis": "y4"
        },
        {
         "line": {
          "shape": "hv"
         },
         "mode": "lines",
         "name": "D5",
         "type": "scatter",
         "x": [
          0,
          100000000
         ],
         "xaxis": "x5",
         "y": [
          0,
          0
         ],
         "yaxis": "y5"
        },
        {
         "line": {
          "color": "black",
          "shape": "hv"
         },
         "mode": "lines",
         "name": "A0",
         "type": "scatter",
         "x": [
          0,
          1000000,
          1500000,
          2000000,
          2000000,
          100000000
         ],
         "xaxis": "x6",
         "y": [
          0.5,
          0.1,
          0.9,
          0,
          0,
          0
         ],
         "yaxis": "y6"
        }
       ],
       "layout": {
        "height": 400,
        "margin": {
         "b": 40,
         "l": 50,
         "r": 50,
         "t": 40
        },
        "showlegend": false,
        "template": {
         "data": {
          "bar": [
           {
            "error_x": {
             "color": "#2a3f5f"
            },
            "error_y": {
             "color": "#2a3f5f"
            },
            "marker": {
             "line": {
              "color": "#E5ECF6",
              "width": 0.5
             },
             "pattern": {
              "fillmode": "overlay",
              "size": 10,
              "solidity": 0.2
             }
            },
            "type": "bar"
           }
          ],
          "barpolar": [
           {
            "marker": {
             "line": {
              "color": "#E5ECF6",
              "width": 0.5
             },
             "pattern": {
              "fillmode": "overlay",
              "size": 10,
              "solidity": 0.2
             }
            },
            "type": "barpolar"
           }
          ],
          "carpet": [
           {
            "aaxis": {
             "endlinecolor": "#2a3f5f",
             "gridcolor": "white",
             "linecolor": "white",
             "minorgridcolor": "white",
             "startlinecolor": "#2a3f5f"
            },
            "baxis": {
             "endlinecolor": "#2a3f5f",
             "gridcolor": "white",
             "linecolor": "white",
             "minorgridcolor": "white",
             "startlinecolor": "#2a3f5f"
            },
            "type": "carpet"
           }
          ],
          "choropleth": [
           {
            "colorbar": {
             "outlinewidth": 0,
             "ticks": ""
            },
            "type": "choropleth"
           }
          ],
          "contour": [
           {
            "colorbar": {
             "outlinewidth": 0,
             "ticks": ""
            },
            "colorscale": [
             [
              0,
              "#0d0887"
             ],
             [
              0.1111111111111111,
              "#46039f"
             ],
             [
              0.2222222222222222,
              "#7201a8"
             ],
             [
              0.3333333333333333,
              "#9c179e"
             ],
             [
              0.4444444444444444,
              "#bd3786"
             ],
             [
              0.5555555555555556,
              "#d8576b"
             ],
             [
              0.6666666666666666,
              "#ed7953"
             ],
             [
              0.7777777777777778,
              "#fb9f3a"
             ],
             [
              0.8888888888888888,
              "#fdca26"
             ],
             [
              1,
              "#f0f921"
             ]
            ],
            "type": "contour"
           }
          ],
          "contourcarpet": [
           {
            "colorbar": {
             "outlinewidth": 0,
             "ticks": ""
            },
            "type": "contourcarpet"
           }
          ],
          "heatmap": [
           {
            "colorbar": {
             "outlinewidth": 0,
             "ticks": ""
            },
            "colorscale": [
             [
              0,
              "#0d0887"
             ],
             [
              0.1111111111111111,
              "#46039f"
             ],
             [
              0.2222222222222222,
              "#7201a8"
             ],
             [
              0.3333333333333333,
              "#9c179e"
             ],
             [
              0.4444444444444444,
              "#bd3786"
             ],
             [
              0.5555555555555556,
              "#d8576b"
             ],
             [
              0.6666666666666666,
              "#ed7953"
             ],
             [
              0.7777777777777778,
              "#fb9f3a"
             ],
             [
              0.8888888888888888,
              "#fdca26"
             ],
             [
              1,
              "#f0f921"
             ]
            ],
            "type": "heatmap"
           }
          ],
          "heatmapgl": [
           {
            "colorbar": {
             "outlinewidth": 0,
             "ticks": ""
            },
            "colorscale": [
             [
              0,
              "#0d0887"
             ],
             [
              0.1111111111111111,
              "#46039f"
             ],
             [
              0.2222222222222222,
              "#7201a8"
             ],
             [
              0.3333333333333333,
              "#9c179e"
             ],
             [
              0.4444444444444444,
              "#bd3786"
             ],
             [
              0.5555555555555556,
              "#d8576b"
             ],
             [
              0.6666666666666666,
              "#ed7953"
             ],
             [
              0.7777777777777778,
              "#fb9f3a"
             ],
             [
              0.8888888888888888,
              "#fdca26"
             ],
             [
              1,
              "#f0f921"
             ]
            ],
            "type": "heatmapgl"
           }
          ],
          "histogram": [
           {
            "marker": {
             "pattern": {
              "fillmode": "overlay",
              "size": 10,
              "solidity": 0.2
             }
            },
            "type": "histogram"
           }
          ],
          "histogram2d": [
           {
            "colorbar": {
             "outlinewidth": 0,
             "ticks": ""
            },
            "colorscale": [
             [
              0,
              "#0d0887"
             ],
             [
              0.1111111111111111,
              "#46039f"
             ],
             [
              0.2222222222222222,
              "#7201a8"
             ],
             [
              0.3333333333333333,
              "#9c179e"
             ],
             [
              0.4444444444444444,
              "#bd3786"
             ],
             [
              0.5555555555555556,
              "#d8576b"
             ],
             [
              0.6666666666666666,
              "#ed7953"
             ],
             [
              0.7777777777777778,
              "#fb9f3a"
             ],
             [
              0.8888888888888888,
              "#fdca26"
             ],
             [
              1,
              "#f0f921"
             ]
            ],
            "type": "histogram2d"
           }
          ],
          "histogram2dcontour": [
           {
            "colorbar": {
             "outlinewidth": 0,
             "ticks": ""
            },
            "colorscale": [
             [
              0,
              "#0d0887"
             ],
             [
              0.1111111111111111,
              "#46039f"
             ],
             [
              0.2222222222222222,
              "#7201a8"
             ],
             [
              0.3333333333333333,
              "#9c179e"
             ],
             [
              0.4444444444444444,
              "#bd3786"
             ],
             [
              0.5555555555555556,
              "#d8576b"
             ],
             [
              0.6666666666666666,
              "#ed7953"
             ],
             [
              0.7777777777777778,
              "#fb9f3a"
             ],
             [
              0.8888888888888888,
              "#fdca26"
             ],
             [
              1,
              "#f0f921"
             ]
            ],
            "type": "histogram2dcontour"
           }
          ],
          "mesh3d": [
           {
            "colorbar": {
             "outlinewidth": 0,
             "ticks": ""
            },
            "type": "mesh3d"
           }
          ],
          "parcoords": [
           {
            "line": {
             "colorbar": {
              "outlinewidth": 0,
              "ticks": ""
             }
            },
            "type": "parcoords"
           }
          ],
          "pie": [
           {
            "automargin": true,
            "type": "pie"
           }
          ],
          "scatter": [
           {
            "fillpattern": {
             "fillmode": "overlay",
             "size": 10,
             "solidity": 0.2
            },
            "type": "scatter"
           }
          ],
          "scatter3d": [
           {
            "line": {
             "colorbar": {
              "outlinewidth": 0,
              "ticks": ""
             }
            },
            "marker": {
             "colorbar": {
              "outlinewidth": 0,
              "ticks": ""
             }
            },
            "type": "scatter3d"
           }
          ],
          "scattercarpet": [
           {
            "marker": {
             "colorbar": {
              "outlinewidth": 0,
              "ticks": ""
             }
            },
            "type": "scattercarpet"
           }
          ],
          "scattergeo": [
           {
            "marker": {
             "colorbar": {
              "outlinewidth": 0,
              "ticks": ""
             }
            },
            "type": "scattergeo"
           }
          ],
          "scattergl": [
           {
            "marker": {
             "colorbar": {
              "outlinewidth": 0,
              "ticks": ""
             }
            },
            "type": "scattergl"
           }
          ],
          "scattermapbox": [
           {
            "marker": {
             "colorbar": {
              "outlinewidth": 0,
              "ticks": ""
             }
            },
            "type": "scattermapbox"
           }
          ],
          "scatterpolar": [
           {
            "marker": {
             "colorbar": {
              "outlinewidth": 0,
              "ticks": ""
             }
            },
            "type": "scatterpolar"
           }
          ],
          "scatterpolargl": [
           {
            "marker": {
             "colorbar": {
              "outlinewidth": 0,
              "ticks": ""
             }
            },
            "type": "scatterpolargl"
           }
          ],
          "scatterternary": [
           {
            "marker": {
             "colorbar": {
              "outlinewidth": 0,
              "ticks": ""
             }
            },
            "type": "scatterternary"
           }
          ],
          "surface": [
           {
            "colorbar": {
             "outlinewidth": 0,
             "ticks": ""
            },
            "colorscale": [
             [
              0,
              "#0d0887"
             ],
             [
              0.1111111111111111,
              "#46039f"
             ],
             [
              0.2222222222222222,
              "#7201a8"
             ],
             [
              0.3333333333333333,
              "#9c179e"
             ],
             [
              0.4444444444444444,
              "#bd3786"
             ],
             [
              0.5555555555555556,
              "#d8576b"
             ],
             [
              0.6666666666666666,
              "#ed7953"
             ],
             [
              0.7777777777777778,
              "#fb9f3a"
             ],
             [
              0.8888888888888888,
              "#fdca26"
             ],
             [
              1,
              "#f0f921"
             ]
            ],
            "type": "surface"
           }
          ],
          "table": [
           {
            "cells": {
             "fill": {
              "color": "#EBF0F8"
             },
             "line": {
              "color": "white"
             }
            },
            "header": {
             "fill": {
              "color": "#C8D4E3"
             },
             "line": {
              "color": "white"
             }
            },
            "type": "table"
           }
          ]
         },
         "layout": {
          "annotationdefaults": {
           "arrowcolor": "#2a3f5f",
           "arrowhead": 0,
           "arrowwidth": 1
          },
          "autotypenumbers": "strict",
          "coloraxis": {
           "colorbar": {
            "outlinewidth": 0,
            "ticks": ""
           }
          },
          "colorscale": {
           "diverging": [
            [
             0,
             "#8e0152"
            ],
            [
             0.1,
             "#c51b7d"
            ],
            [
             0.2,
             "#de77ae"
            ],
            [
             0.3,
             "#f1b6da"
            ],
            [
             0.4,
             "#fde0ef"
            ],
            [
             0.5,
             "#f7f7f7"
            ],
            [
             0.6,
             "#e6f5d0"
            ],
            [
             0.7,
             "#b8e186"
            ],
            [
             0.8,
             "#7fbc41"
            ],
            [
             0.9,
             "#4d9221"
            ],
            [
             1,
             "#276419"
            ]
           ],
           "sequential": [
            [
             0,
             "#0d0887"
            ],
            [
             0.1111111111111111,
             "#46039f"
            ],
            [
             0.2222222222222222,
             "#7201a8"
            ],
            [
             0.3333333333333333,
             "#9c179e"
            ],
            [
             0.4444444444444444,
             "#bd3786"
            ],
            [
             0.5555555555555556,
             "#d8576b"
            ],
            [
             0.6666666666666666,
             "#ed7953"
            ],
            [
             0.7777777777777778,
             "#fb9f3a"
            ],
            [
             0.8888888888888888,
             "#fdca26"
            ],
            [
             1,
             "#f0f921"
            ]
           ],
           "sequentialminus": [
            [
             0,
             "#0d0887"
            ],
            [
             0.1111111111111111,
             "#46039f"
            ],
            [
             0.2222222222222222,
             "#7201a8"
            ],
            [
             0.3333333333333333,
             "#9c179e"
            ],
            [
             0.4444444444444444,
             "#bd3786"
            ],
            [
             0.5555555555555556,
             "#d8576b"
            ],
            [
             0.6666666666666666,
             "#ed7953"
            ],
            [
             0.7777777777777778,
             "#fb9f3a"
            ],
            [
             0.8888888888888888,
             "#fdca26"
            ],
            [
             1,
             "#f0f921"
            ]
           ]
          },
          "colorway": [
           "#636efa",
           "#EF553B",
           "#00cc96",
           "#ab63fa",
           "#FFA15A",
           "#19d3f3",
           "#FF6692",
           "#B6E880",
           "#FF97FF",
           "#FECB52"
          ],
          "font": {
           "color": "#2a3f5f"
          },
          "geo": {
           "bgcolor": "white",
           "lakecolor": "white",
           "landcolor": "#E5ECF6",
           "showlakes": true,
           "showland": true,
           "subunitcolor": "white"
          },
          "hoverlabel": {
           "align": "left"
          },
          "hovermode": "closest",
          "mapbox": {
           "style": "light"
          },
          "paper_bgcolor": "white",
          "plot_bgcolor": "#E5ECF6",
          "polar": {
           "angularaxis": {
            "gridcolor": "white",
            "linecolor": "white",
            "ticks": ""
           },
           "bgcolor": "#E5ECF6",
           "radialaxis": {
            "gridcolor": "white",
            "linecolor": "white",
            "ticks": ""
           }
          },
          "scene": {
           "xaxis": {
            "backgroundcolor": "#E5ECF6",
            "gridcolor": "white",
            "gridwidth": 2,
            "linecolor": "white",
            "showbackground": true,
            "ticks": "",
            "zerolinecolor": "white"
           },
           "yaxis": {
            "backgroundcolor": "#E5ECF6",
            "gridcolor": "white",
            "gridwidth": 2,
            "linecolor": "white",
            "showbackground": true,
            "ticks": "",
            "zerolinecolor": "white"
           },
           "zaxis": {
            "backgroundcolor": "#E5ECF6",
            "gridcolor": "white",
            "gridwidth": 2,
            "linecolor": "white",
            "showbackground": true,
            "ticks": "",
            "zerolinecolor": "white"
           }
          },
          "shapedefaults": {
           "line": {
            "color": "#2a3f5f"
           }
          },
          "ternary": {
           "aaxis": {
            "gridcolor": "white",
            "linecolor": "white",
            "ticks": ""
           },
           "baxis": {
            "gridcolor": "white",
            "linecolor": "white",
            "ticks": ""
           },
           "bgcolor": "#E5ECF6",
           "caxis": {
            "gridcolor": "white",
            "linecolor": "white",
            "ticks": ""
           }
          },
          "title": {
           "x": 0.05
          },
          "xaxis": {
           "automargin": true,
           "gridcolor": "white",
           "linecolor": "white",
           "ticks": "",
           "title": {
            "standoff": 15
           },
           "zerolinecolor": "white",
           "zerolinewidth": 2
          },
          "yaxis": {
           "automargin": true,
           "gridcolor": "white",
           "linecolor": "white",
           "ticks": "",
           "title": {
            "standoff": 15
           },
           "zerolinecolor": "white",
           "zerolinewidth": 2
          }
         }
        },
        "title": {
         "text": "Sequence"
        },
        "width": 600,
        "xaxis": {
         "anchor": "y",
         "domain": [
          0,
          1
         ],
         "matches": "x6",
         "showticklabels": false
        },
        "xaxis2": {
         "anchor": "y2",
         "domain": [
          0,
          1
         ],
         "matches": "x6",
         "showticklabels": false
        },
        "xaxis3": {
         "anchor": "y3",
         "domain": [
          0,
          1
         ],
         "matches": "x6",
         "showticklabels": false
        },
        "xaxis4": {
         "anchor": "y4",
         "domain": [
          0,
          1
         ],
         "matches": "x6",
         "showticklabels": false
        },
        "xaxis5": {
         "anchor": "y5",
         "domain": [
          0,
          1
         ],
         "matches": "x6",
         "showticklabels": false
        },
        "xaxis6": {
         "anchor": "y6",
         "domain": [
          0,
          1
         ],
         "title": {
          "text": "time/ns"
         }
        },
        "yaxis": {
         "anchor": "x",
         "domain": [
          0.85,
          1
         ],
         "range": [
          -0.4,
          1.4
         ],
         "showticklabels": false,
         "title": {
          "text": "D0<br>laser"
         }
        },
        "yaxis2": {
         "anchor": "x2",
         "domain": [
          0.6799999999999999,
          0.83
         ],
         "range": [
          -0.4,
          1.4
         ],
         "showticklabels": false,
         "title": {
          "text": "D1<br>clock"
         }
        },
        "yaxis3": {
         "anchor": "x3",
         "domain": [
          0.51,
          0.66
         ],
         "range": [
          -0.4,
          1.4
         ],
         "showticklabels": false,
         "title": {
          "text": "D3<br>daqtrig"
         }
        },
        "yaxis4": {
         "anchor": "x4",
         "domain": [
          0.33999999999999997,
          0.49
         ],
         "range": [
          -0.4,
          1.4
         ],
         "showticklabels": false,
         "title": {
          "text": "D4<br>mw_A"
         }
        },
        "yaxis5": {
         "anchor": "x5",
         "domain": [
          0.16999999999999998,
          0.31999999999999995
         ],
         "range": [
          -0.4,
          1.4
         ],
         "showticklabels": false,
         "title": {
          "text": "D5<br>mw_B"
         }
        },
        "yaxis6": {
         "anchor": "x6",
         "domain": [
          0,
          0.15
         ],
         "range": [
          -1.5,
          1.5
         ],
         "tickfont": {
          "size": 6
         },
         "title": {
          "text": "A0<br>phase_B"
         }
        }
       }
      }
     },
     "metadata": {},
     "output_type": "display_data"
    }
   ],
   "source": [
    "# period = 100E6# ns\n",
    "# duty = 0.5\n",
    "# sampling_rate = 1E-6 # GHz\n",
    "n_sample = 50\n",
    "# sampling_rate = 0.5E-3 # GHz\n",
    "sampling_rate = 5E-7 # GHz\n",
    "clock_period = 1.0/sampling_rate\n",
    "trigger_rate = sampling_rate/100.0\n",
    "trigger_period = 1.0/trigger_rate\n",
    "\n",
    "off_begin = 0.0\n",
    "on_time = 0.5*clock_period\n",
    "off_end = 0.5*clock_period\n",
    "seq_clock = [(off_begin, LOW), (on_time, HIGH), (off_end, LOW)]*n_sample\n",
    "seq_laser = [(0.0, LOW), (clock_period/2.0, HIGH), (clock_period/2.0, LOW)]\n",
    "seq_daqtrig = seq_clock\n",
    "# pg.setDigital(\"laser\", [(period*duty, HIGH), (period*(1-duty), LOW)])\n",
    "pg.setDigital(\"clock\", seq_clock)\n",
    "pg.setDigital(\"daqtrig\", seq_daqtrig)\n",
    "pg.setDigital(\"laser\", seq_laser)\n",
    "pg.setAnalog(\"phase_B\", [(0.0, 0.0), (clock_period/2.0, 0.5), (clock_period/4.0, 0.1), (clock_period/4.0, 0.9), (0.0, 0.0)])\n",
    "pg.setTrigger()\n",
    "pg.stream(n_runs=INF)\n",
    "pg.plotSeq(plot_all=False)\n",
    "# pg.startNow()"
   ]
  },
  {
   "cell_type": "code",
   "execution_count": 4,
   "metadata": {},
   "outputs": [
    {
     "data": {
      "text/plain": [
       "{0: 'laser',\n",
       " 1: 'clock',\n",
       " 3: 'daqtrig',\n",
       " 4: 'mw_A',\n",
       " 5: 'mw_B',\n",
       " 8: 'mw_Bphase',\n",
       " 9: 'mw_power'}"
      ]
     },
     "execution_count": 4,
     "metadata": {},
     "output_type": "execute_result"
    }
   ],
   "source": [
    "pg._chmap_inv"
   ]
  },
  {
   "cell_type": "code",
   "execution_count": null,
   "metadata": {},
   "outputs": [],
   "source": [
    "seq_tbased = [\n",
    "            ([], 100),\n",
    "            ([\"laser\"], 300), \n",
    "            ([], 300),\n",
    "            ([\"mw_A\"], 10000), \n",
    "            ([], 10000), \n",
    "            ([\"mw_B\", \"laser\"], 300),\n",
    "            ([], 10000), \n",
    "            ([\"laser\"], 300),\n",
    "            ([], 100)\n",
    "            ]\n",
    "\n",
    "# seq_tbased = [\n",
    "#             ([\"mw_A\"], 10000), \n",
    "#             ([], 10000), \n",
    "#             ]\n",
    "pg.setChOffset({\"laser\":0, \"mw_A\":-2000, \"mw_B\":0})\n",
    "pg.seqTranslator(seq_tbased)\n",
    "pg.setTrigger()\n",
    "pg.stream(n_runs=1)\n",
    "# pg.startNow()\n",
    "pg.plotSeq(plot_all=False)"
   ]
  },
  {
   "cell_type": "code",
   "execution_count": null,
   "metadata": {},
   "outputs": [],
   "source": [
    "mw_time = np.arange(0, 1000, 2)\n",
    "seq_tbased = []\n",
    "wf_mwphase = []\n",
    "for tt in mw_time:\n",
    "    seqlet = [\n",
    "                ([\"laser\"], 1000), \n",
    "                ([], 300),\n",
    "                ([\"mw_A\"], tt),\n",
    "                ([], 100), \n",
    "                ([\"laser\"], 1000), \n",
    "                ([], 100)\n",
    "                ]\n",
    "    wflet = [\n",
    "                (1000, 0), \n",
    "                ([], 300),\n",
    "                ([\"mw_A\"], tt),\n",
    "                ([], 100), \n",
    "                ([\"laser\"], 1000), \n",
    "                ([], 100)\n",
    "                ]\n",
    "    seq_tbased += seqlet\n",
    "    wf_mwphase += wflet\n",
    "\n",
    "pg.setChOffset({\"laser\":0, \"mw_A\":0, \"mw_B\":0})\n",
    "pg.seqTranslator(seq_tbased)\n",
    "pg.setTrigger()\n",
    "pg.stream(n_runs=1)\n",
    "# pg.startNow()\n",
    "pg.plotSeq(plot_all=False)"
   ]
  },
  {
   "cell_type": "code",
   "execution_count": 25,
   "metadata": {},
   "outputs": [],
   "source": [
    "chmap = {\"laser\":PSch_Laser, \n",
    "        \"clock\":PSch_DAQClock, \n",
    "        \"daqtrig\":PSch_DAQstart,\n",
    "        \"mw_A\":PSch_MW_A, \n",
    "        \"mw_B\":PSch_MW_B,\n",
    "        8:8,\n",
    "        9:9,\n",
    "        }\n",
    "\n",
    "pg.setChMap(chmap)\n"
   ]
  },
  {
   "cell_type": "code",
   "execution_count": null,
   "metadata": {},
   "outputs": [],
   "source": [
    "pg.chmap"
   ]
  },
  {
   "cell_type": "code",
   "execution_count": 29,
   "metadata": {},
   "outputs": [],
   "source": [
    "pg.setAnalog(1, [(100, 0.1), (500, 0), (700, 0.4)])"
   ]
  },
  {
   "cell_type": "code",
   "execution_count": 4,
   "metadata": {},
   "outputs": [],
   "source": [
    "# pg.setTrigger(start=TriggerStart.SOFTWARE)\n",
    "# pg.setTrigger(start=TriggerStart.IMMEDIATE, rearm=TriggerRearm.AUTO)\n",
    "pg.setTrigger()"
   ]
  },
  {
   "cell_type": "code",
   "execution_count": 5,
   "metadata": {},
   "outputs": [],
   "source": [
    "pg.stream(n_runs=INF)"
   ]
  },
  {
   "cell_type": "code",
   "execution_count": null,
   "metadata": {},
   "outputs": [],
   "source": [
    "pg.startNow()"
   ]
  },
  {
   "cell_type": "code",
   "execution_count": 68,
   "metadata": {},
   "outputs": [],
   "source": [
    "pg.reset()"
   ]
  },
  {
   "cell_type": "code",
   "execution_count": null,
   "metadata": {},
   "outputs": [],
   "source": []
  }
 ],
 "metadata": {
  "kernelspec": {
   "display_name": "hfnvenv",
   "language": "python",
   "name": "python3"
  },
  "language_info": {
   "codemirror_mode": {
    "name": "ipython",
    "version": 3
   },
   "file_extension": ".py",
   "mimetype": "text/x-python",
   "name": "python",
   "nbconvert_exporter": "python",
   "pygments_lexer": "ipython3",
   "version": "3.10.14"
  },
  "orig_nbformat": 4,
  "vscode": {
   "interpreter": {
    "hash": "e18a0773591e5a5fd717ebd07f0833d1ddde043e7cb0922cff26ae4a521a5193"
   }
  }
 },
 "nbformat": 4,
 "nbformat_minor": 2
}
