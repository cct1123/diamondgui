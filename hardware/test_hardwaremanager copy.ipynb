{
  "cells": [
    {
      "cell_type": "code",
      "execution_count": 1,
      "metadata": {},
      "outputs": [],
      "source": [
        "import sys\n",
        "import os\n",
        "\n",
        "path_project = \"\\\\\".join(os.getcwd().split(\"\\\\\")[:-1])\n",
        "# print(path_project)\n",
        "# caution: path[0] is reserved for script path (or '' in REPL)\n",
        "sys.path.insert(1, path_project)\n",
        "\n",
        "import hardwaremanager\n",
        "from pathlib import Path\n",
        "import hardware.config as hcf\n",
        "HERE = Path(path_project)\n"
      ]
    },
    {
      "cell_type": "code",
      "execution_count": 2,
      "metadata": {},
      "outputs": [
        {
          "name": "stdout",
          "output_type": "stream",
          "text": [
            "Hardware Loaded: {}\n"
          ]
        }
      ],
      "source": [
        "# Create an instance of the MyClass class\n",
        "hd = hardwaremanager.HardwareManager()\n",
        "print(f\"Hardware Loaded: {hd._hardware_instances}\")"
      ]
    },
    {
      "cell_type": "code",
      "execution_count": null,
      "metadata": {},
      "outputs": [],
      "source": []
    },
    {
      "cell_type": "code",
      "execution_count": 3,
      "metadata": {},
      "outputs": [
        {
          "name": "stdout",
          "output_type": "stream",
          "text": [
            "Connect to Pulse Streamer via JSON-RPC.\n",
            "IP / Hostname: 192.168.1.26\n",
            "Pulse Streamer 8/2 firmware: v1.7.2\n",
            "Client software: v1.7.0\n",
            "VDI Sythesizer Serail Port Open\n"
          ]
        }
      ],
      "source": [
        "hd.add(\n",
        "        'pg', \n",
        "        HERE / 'hardware' / 'pulser' / 'pulser.py', \n",
        "        'PulseGenerator', \n",
        "        [],\n",
        "        dict(ip=hcf.PS_IP, chmap=hcf.PS_chmap, choffs=hcf.PS_choffs), \n",
        "    )\n",
        "\n",
        "hd.add(\n",
        "        'mwsyn', \n",
        "        HERE / 'hardware' / 'mw' / 'mwsynthesizer.py', \n",
        "        'Synthesizer', \n",
        "        [hcf.VDISYN_SN], \n",
        "        dict(vidpid=hcf.VDISYN_VIDPID,\n",
        "             baudrate=hcf.VDISYN_BAUD, \n",
        "             timeout=5, \n",
        "             write_timeout=5))"
      ]
    },
    {
      "cell_type": "code",
      "execution_count": 11,
      "metadata": {},
      "outputs": [],
      "source": [
        "hd.add(\n",
        "    'digitizer', \n",
        "    HERE / 'hardware' / 'daq' / 'sidig.py', \n",
        "    'FIFO_DataAcquisition', \n",
        "    [hcf.SIDIG_ADDRESS]\n",
        ")"
      ]
    },
    {
      "cell_type": "code",
      "execution_count": 12,
      "metadata": {},
      "outputs": [
        {
          "name": "stdout",
          "output_type": "stream",
          "text": [
            "Hardware Loaded: {'PulseGenerator': <PulseGenerator.PulseGenerator object at 0x0000024AFF856200>, 'Synthesizer': <Synthesizer.Synthesizer object at 0x0000024AFF856950>, 'XYZPositioner': <XYZPositioner.XYZPositioner object at 0x0000024AFF8B7EB0>, 'FIFO_DataAcquisition': <FIFO_DataAcquisition.FIFO_DataAcquisition object at 0x0000024AFF8C2230>}\n"
          ]
        }
      ],
      "source": [
        "\n",
        "print(f\"Hardware Loaded: {hd._hardware_instances}\")"
      ]
    },
    {
      "cell_type": "code",
      "execution_count": 4,
      "metadata": {},
      "outputs": [
        {
          "data": {
            "text/plain": [
              "'Synthesizer'"
            ]
          },
          "execution_count": 4,
          "metadata": {},
          "output_type": "execute_result"
        }
      ],
      "source": [
        "hd.mwsyn.__class__.__name__"
      ]
    },
    {
      "cell_type": "code",
      "execution_count": 5,
      "metadata": {},
      "outputs": [],
      "source": [
        "hd22 = hardwaremanager.HardwareManager()"
      ]
    },
    {
      "cell_type": "code",
      "execution_count": 6,
      "metadata": {},
      "outputs": [
        {
          "data": {
            "text/plain": [
              "{'PulseGenerator': <PulseGenerator.PulseGenerator at 0x24aff856200>,\n",
              " 'Synthesizer': <Synthesizer.Synthesizer at 0x24aff856950>}"
            ]
          },
          "execution_count": 6,
          "metadata": {},
          "output_type": "execute_result"
        }
      ],
      "source": [
        "hd22._hardware_instances"
      ]
    },
    {
      "cell_type": "code",
      "execution_count": 7,
      "metadata": {},
      "outputs": [],
      "source": [
        "hd22.add(\n",
        "            'positioner', \n",
        "            HERE / 'hardware' / 'positioner' / 'positioner.py', \n",
        "            'XYZPositioner', \n",
        "            [hcf.AMC_IP], \n",
        "            {}\n",
        "        )"
      ]
    },
    {
      "cell_type": "code",
      "execution_count": 8,
      "metadata": {},
      "outputs": [
        {
          "ename": "ValueError",
          "evalue": "Hardware Controller 'PulseGenerator' already exists",
          "output_type": "error",
          "traceback": [
            "\u001b[1;31m---------------------------------------------------------------------------\u001b[0m",
            "\u001b[1;31mValueError\u001b[0m                                Traceback (most recent call last)",
            "Cell \u001b[1;32mIn[8], line 1\u001b[0m\n\u001b[1;32m----> 1\u001b[0m \u001b[43mhd\u001b[49m\u001b[38;5;241;43m.\u001b[39;49m\u001b[43madd\u001b[49m\u001b[43m(\u001b[49m\n\u001b[0;32m      2\u001b[0m \u001b[43m        \u001b[49m\u001b[38;5;124;43m'\u001b[39;49m\u001b[38;5;124;43mpg\u001b[39;49m\u001b[38;5;124;43m'\u001b[39;49m\u001b[43m,\u001b[49m\u001b[43m \u001b[49m\n\u001b[0;32m      3\u001b[0m \u001b[43m        \u001b[49m\u001b[43mHERE\u001b[49m\u001b[43m \u001b[49m\u001b[38;5;241;43m/\u001b[39;49m\u001b[43m \u001b[49m\u001b[38;5;124;43m'\u001b[39;49m\u001b[38;5;124;43mhardware\u001b[39;49m\u001b[38;5;124;43m'\u001b[39;49m\u001b[43m \u001b[49m\u001b[38;5;241;43m/\u001b[39;49m\u001b[43m \u001b[49m\u001b[38;5;124;43m'\u001b[39;49m\u001b[38;5;124;43mpulser\u001b[39;49m\u001b[38;5;124;43m'\u001b[39;49m\u001b[43m \u001b[49m\u001b[38;5;241;43m/\u001b[39;49m\u001b[43m \u001b[49m\u001b[38;5;124;43m'\u001b[39;49m\u001b[38;5;124;43mpulser.py\u001b[39;49m\u001b[38;5;124;43m'\u001b[39;49m\u001b[43m,\u001b[49m\u001b[43m \u001b[49m\n\u001b[0;32m      4\u001b[0m \u001b[43m        \u001b[49m\u001b[38;5;124;43m'\u001b[39;49m\u001b[38;5;124;43mPulseGenerator\u001b[39;49m\u001b[38;5;124;43m'\u001b[39;49m\u001b[43m,\u001b[49m\u001b[43m \u001b[49m\n\u001b[0;32m      5\u001b[0m \u001b[43m        \u001b[49m\u001b[43m[\u001b[49m\u001b[43m]\u001b[49m\u001b[43m,\u001b[49m\n\u001b[0;32m      6\u001b[0m \u001b[43m        \u001b[49m\u001b[38;5;28;43mdict\u001b[39;49m\u001b[43m(\u001b[49m\u001b[43mip\u001b[49m\u001b[38;5;241;43m=\u001b[39;49m\u001b[43mhcf\u001b[49m\u001b[38;5;241;43m.\u001b[39;49m\u001b[43mPS_IP\u001b[49m\u001b[43m,\u001b[49m\u001b[43m \u001b[49m\u001b[43mchmap\u001b[49m\u001b[38;5;241;43m=\u001b[39;49m\u001b[43mhcf\u001b[49m\u001b[38;5;241;43m.\u001b[39;49m\u001b[43mPS_chmap\u001b[49m\u001b[43m,\u001b[49m\u001b[43m \u001b[49m\u001b[43mchoffs\u001b[49m\u001b[38;5;241;43m=\u001b[39;49m\u001b[43mhcf\u001b[49m\u001b[38;5;241;43m.\u001b[39;49m\u001b[43mPS_choffs\u001b[49m\u001b[43m)\u001b[49m\u001b[43m,\u001b[49m\u001b[43m \u001b[49m\n\u001b[0;32m      7\u001b[0m \u001b[43m    \u001b[49m\u001b[43m)\u001b[49m\n",
            "File \u001b[1;32mc:\\Users\\HFNV\\diamondgui\\hardware\\hardwaremanager.py:109\u001b[0m, in \u001b[0;36mHardwareManager.add\u001b[1;34m(self, name, path_controller, class_controller, args, kwargs)\u001b[0m\n\u001b[0;32m    107\u001b[0m class_controller_name \u001b[38;5;241m=\u001b[39m ClassController\u001b[38;5;241m.\u001b[39m\u001b[38;5;18m__name__\u001b[39m\n\u001b[0;32m    108\u001b[0m \u001b[38;5;28;01mif\u001b[39;00m class_controller_name \u001b[38;5;129;01min\u001b[39;00m \u001b[38;5;28mself\u001b[39m\u001b[38;5;241m.\u001b[39m_hardware_instances:\n\u001b[1;32m--> 109\u001b[0m     \u001b[38;5;28;01mraise\u001b[39;00m \u001b[38;5;167;01mValueError\u001b[39;00m(\n\u001b[0;32m    110\u001b[0m         \u001b[38;5;124mf\u001b[39m\u001b[38;5;124m\"\u001b[39m\u001b[38;5;124mHardware Controller \u001b[39m\u001b[38;5;124m'\u001b[39m\u001b[38;5;132;01m{\u001b[39;00mclass_controller_name\u001b[38;5;132;01m}\u001b[39;00m\u001b[38;5;124m'\u001b[39m\u001b[38;5;124m already exists\u001b[39m\u001b[38;5;124m\"\u001b[39m\n\u001b[0;32m    111\u001b[0m     )\n\u001b[0;32m    113\u001b[0m \u001b[38;5;28msetattr\u001b[39m(\u001b[38;5;28mself\u001b[39m, name, ClassController(\u001b[38;5;241m*\u001b[39margs, \u001b[38;5;241m*\u001b[39m\u001b[38;5;241m*\u001b[39mkwargs))\n\u001b[0;32m    114\u001b[0m \u001b[38;5;28mself\u001b[39m\u001b[38;5;241m.\u001b[39m_hardware_instances[class_controller_name] \u001b[38;5;241m=\u001b[39m \u001b[38;5;28mgetattr\u001b[39m(\u001b[38;5;28mself\u001b[39m, name)\n",
            "\u001b[1;31mValueError\u001b[0m: Hardware Controller 'PulseGenerator' already exists"
          ]
        }
      ],
      "source": [
        "hd.add(\n",
        "        'pg', \n",
        "        HERE / 'hardware' / 'pulser' / 'pulser.py', \n",
        "        'PulseGenerator', \n",
        "        [],\n",
        "        dict(ip=hcf.PS_IP, chmap=hcf.PS_chmap, choffs=hcf.PS_choffs), \n",
        "    )\n"
      ]
    },
    {
      "cell_type": "code",
      "execution_count": null,
      "metadata": {},
      "outputs": [],
      "source": []
    }
  ],
  "metadata": {
    "kernelspec": {
      "display_name": "Python 3",
      "language": "python",
      "name": "python3"
    },
    "language_info": {
      "codemirror_mode": {
        "name": "ipython",
        "version": 3
      },
      "file_extension": ".py",
      "mimetype": "text/x-python",
      "name": "python",
      "nbconvert_exporter": "python",
      "pygments_lexer": "ipython3",
      "version": "3.10.16"
    }
  },
  "nbformat": 4,
  "nbformat_minor": 2
}