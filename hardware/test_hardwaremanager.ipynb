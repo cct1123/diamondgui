{
  "cells": [
    {
      "cell_type": "code",
      "execution_count": 1,
      "metadata": {},
      "outputs": [],
      "source": [
        "import sys\n",
        "import os\n",
        "\n",
        "path_project = \"\\\\\".join(os.getcwd().split(\"\\\\\")[:-1])\n",
        "# print(path_project)\n",
        "# caution: path[0] is reserved for script path (or '' in REPL)\n",
        "sys.path.insert(1, path_project)\n",
        "\n",
        "import hardwaremanager\n",
        "from pathlib import Path\n",
        "import hardware.config_custom as hcf\n",
        "HERE = Path(path_project)\n"
      ]
    },
    {
      "cell_type": "code",
      "execution_count": 2,
      "metadata": {},
      "outputs": [],
      "source": [
        "# Create an instance of the MyClass class\n",
        "hd = hardwaremanager.HardwareManager()"
      ]
    },
    {
      "cell_type": "code",
      "execution_count": null,
      "metadata": {},
      "outputs": [],
      "source": []
    },
    {
      "cell_type": "code",
      "execution_count": null,
      "metadata": {},
      "outputs": [],
      "source": [
        "hd.add(\n",
        "        'pg', \n",
        "        HERE / 'hardware' / 'pulser' / 'pulser.py', \n",
        "        'PulseGenerator', \n",
        "        [],\n",
        "        dict(ip=hcf.PS_IP, chmap=hcf.PS_chmap, choffs=hcf.PS_choffs), \n",
        "    )\n",
        "\n",
        "hd.add(\n",
        "        'mwsyn', \n",
        "        HERE / 'hardware' / 'mw' / 'mwsynthesizer.py', \n",
        "        'Synthesizer', \n",
        "        [hcf.VDISYN_SN], \n",
        "        dict(vidpid=hcf.VDISYN_VIDPID,\n",
        "             baudrate=hcf.VDISYN_BAUD, \n",
        "             timeout=5, \n",
        "             write_timeout=5))"
      ]
    },
    {
      "cell_type": "code",
      "execution_count": null,
      "metadata": {},
      "outputs": [],
      "source": [
        "hd._hardware_instances"
      ]
    },
    {
      "cell_type": "code",
      "execution_count": null,
      "metadata": {},
      "outputs": [],
      "source": [
        "hd.mwsyn.__class__.__name__"
      ]
    },
    {
      "cell_type": "code",
      "execution_count": 6,
      "metadata": {},
      "outputs": [],
      "source": [
        "hd22 = hardwaremanager.HardwareManager()"
      ]
    },
    {
      "cell_type": "code",
      "execution_count": null,
      "metadata": {},
      "outputs": [],
      "source": [
        "hd22._hardware_instances"
      ]
    },
    {
      "cell_type": "code",
      "execution_count": null,
      "metadata": {},
      "outputs": [],
      "source": [
        "hd22.add(\n",
        "            'positioner', \n",
        "            HERE / 'hardware' / 'positioner' / 'positioner.py', \n",
        "            'XYZPositioner', \n",
        "            [hcf.AMC_IP], \n",
        "            {}\n",
        "        )"
      ]
    },
    {
      "cell_type": "code",
      "execution_count": null,
      "metadata": {},
      "outputs": [],
      "source": [
        "hd.add(\n",
        "        'pg', \n",
        "        HERE / 'hardware' / 'pulser' / 'pulser.py', \n",
        "        'PulseGenerator', \n",
        "        [],\n",
        "        dict(ip=hcf.PS_IP, chmap=hcf.PS_chmap, choffs=hcf.PS_choffs), \n",
        "    )\n"
      ]
    },
    {
      "cell_type": "code",
      "execution_count": null,
      "metadata": {},
      "outputs": [],
      "source": []
    }
  ],
  "metadata": {
    "kernelspec": {
      "display_name": "hfnvenv",
      "language": "python",
      "name": "python3"
    },
    "language_info": {
      "codemirror_mode": {
        "name": "ipython",
        "version": 3
      },
      "file_extension": ".py",
      "mimetype": "text/x-python",
      "name": "python",
      "nbconvert_exporter": "python",
      "pygments_lexer": "ipython3",
      "version": "3.10.14"
    }
  },
  "nbformat": 4,
  "nbformat_minor": 2
}
