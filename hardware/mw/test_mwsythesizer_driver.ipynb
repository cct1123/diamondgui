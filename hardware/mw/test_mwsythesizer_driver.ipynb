{
 "cells": [
  {
   "cell_type": "markdown",
   "metadata": {},
   "source": [
    "## Test connection"
   ]
  },
  {
   "cell_type": "code",
   "execution_count": 1,
   "metadata": {},
   "outputs": [
    {
     "name": "stdout",
     "output_type": "stream",
     "text": [
      "COM1, Communications Port (COM1). ACPI\\PNP0501\\2\n",
      "COM3, USB Serial Port (COM3). USB VID:PID=0403:6001 SER=VDIS200A\n",
      "COM4, Intel(R) Active Management Technology - SOL (COM4). PCI\\VEN_8086&DEV_43E3&SUBSYS_0A541028&REV_11\\3&11583659&0&B3\n"
     ]
    }
   ],
   "source": [
    "# list all the connected USB device-----\n",
    "import serial.tools.list_ports\n",
    "allports = serial.tools.list_ports.comports()\n",
    "for port, desc, hwid in sorted(allports):\n",
    "    print(f\"{port}, {desc}. {hwid}\")"
   ]
  },
  {
   "cell_type": "code",
   "execution_count": 2,
   "metadata": {},
   "outputs": [
    {
     "name": "stdout",
     "output_type": "stream",
     "text": [
      "VDI Sythesizer Serail Port Open\n"
     ]
    }
   ],
   "source": [
    "import time\n",
    "import sys\n",
    "import os\n",
    "path_project = \"\\\\\".join(os.getcwd().split(\"\\\\\")[:-2])\n",
    "# caution: path[0] is reserved for script path (or '' in REPL)\n",
    "sys.path.insert(1, path_project)\n",
    "\n",
    "from hardware.mw.mwsynthesizer import *\n",
    "from hardware import config_custom as hdc\n",
    "\n",
    "mwsyn = Synthesizer(hdc.VDISYN_SN, \n",
    "                    vidpid=hdc.VDISYN_VIDPID,\n",
    "                    baudrate=hdc.VDISYN_BAUD)\n"
   ]
  },
  {
   "cell_type": "markdown",
   "metadata": {},
   "source": [
    "## Test CW Frequency"
   ]
  },
  {
   "cell_type": "code",
   "execution_count": 3,
   "metadata": {},
   "outputs": [
    {
     "name": "stdout",
     "output_type": "stream",
     "text": [
      "0x06 0x46 0x10 0x99 0x99 0x99 0x9A 0x53 \n",
      "0x55 0x10 0x99 0x99 0x99 0xB0 \n",
      "CW Freqeuncy Setting Sent:16.6 GHz\n",
      "Actual Output CW Freqeuncy :16.600000005215406 GHz\n"
     ]
    }
   ],
   "source": [
    "freq = 8.33333333333\n",
    "freq = 9.00000002\n",
    "freq = 8.9999999999\n",
    "freq = 16.6\n",
    "# use lower-level functions to send cw frequency command\n",
    "bytescommand = mwsyn._cw_frequency_command(freq)\n",
    "print_bytestring(bytescommand)\n",
    "mwsyn.serialcom.write(bytescommand)\n",
    "received = mwsyn.serialcom.read(size=6)\n",
    "print_bytestring(received)\n",
    "\n",
    "# send cw frequency command\n",
    "errorbyte, freq_actual = mwsyn.cw_frequency(freq)\n",
    "print(f\"CW Freqeuncy Setting Sent:{freq} GHz\")\n",
    "print(f\"Actual Output CW Freqeuncy :{freq_actual} GHz\")"
   ]
  },
  {
   "cell_type": "markdown",
   "metadata": {},
   "source": [
    "## Test Sweep\n",
    "The rise/fall step time should be multiples of 4ns. Please check the minimum step size of the synthesizer to avoid frequency spurs"
   ]
  },
  {
   "cell_type": "markdown",
   "metadata": {},
   "source": [
    "Here we test the example in the programmer's manual---------------"
   ]
  },
  {
   "cell_type": "code",
   "execution_count": 4,
   "metadata": {},
   "outputs": [
    {
     "name": "stdout",
     "output_type": "stream",
     "text": [
      "0x1C 0x73 0xFF 0x08 0x00 0x00 0x00 0x00 0x14 0x00 0x00 0x00 0x00 0x00 0x00 0x00 0x10 0xC7 0x00 0x00 0x00 0xA7 0xC6 0x01 0xF2 0x00 0x02 0x00 0x00 0xCB \n",
      "0x55 0x07 0xFF 0xFF 0xFF 0xEC 0x13 0xFF 0xFF 0xFF 0xE8 0x00 0x00 0x00 0x10 0xDC 0x00 0x00 0x00 0xA7 0xC8 \n"
     ]
    }
   ],
   "source": [
    "\n",
    "freq_start = 8\n",
    "freq_stop = 20\n",
    "step_rise = 1E-6 \n",
    "step_fall = 10E-6 \n",
    "steptime_rise = 1.99E3 \n",
    "steptime_fall = 8.0\n",
    "dwellatlow = False\n",
    "dwellathigh = False\n",
    "bytescommand = mwsyn._simple_sweep_command(freq_start, freq_stop, step_rise, step_fall, steptime_rise, steptime_fall, dwellatlow, dwellathigh)\n",
    "print_bytestring(bytescommand)\n",
    "mwsyn.serialcom.write(bytescommand)\n",
    "received = mwsyn.serialcom.read(size=21)\n",
    "print_bytestring(received)"
   ]
  },
  {
   "cell_type": "markdown",
   "metadata": {},
   "source": [
    "Here we test with the frequencies that work with the 400GHz 24xAMC-----------"
   ]
  },
  {
   "cell_type": "code",
   "execution_count": 5,
   "metadata": {},
   "outputs": [
    {
     "name": "stdout",
     "output_type": "stream",
     "text": [
      "Synthesizer Frequency Min. Step:15.832483768463135Hz\n",
      "Frequency Sweep Step:0.0004999898374080658Hz\n"
     ]
    }
   ],
   "source": [
    "freq_start = 16.45-0.25\n",
    "# freq_start = 16.2\n",
    "freq_stop = 16.45+0.25\n",
    "\n",
    "# check the minium step size\n",
    "freqminstep_list = mwsyn.get_min_step_size([freq_start], [freq_stop])\n",
    "step_min = freqminstep_list[0] # in Hz\n",
    "freq_step = 0.5E-3\n",
    "freq_step = int(freq_step/step_min*1E9)*step_min/1E9\n",
    "print(f\"Synthesizer Frequency Min. Step:{step_min}Hz\")\n",
    "print(f\"Frequency Sweep Step:{freq_step}Hz\")\n",
    "step_rise = freq_step\n",
    "step_fall = freq_step\n",
    "# the rise/fall must be a multiple of 4ns\n",
    "steptime = 262.14E3\n",
    "steptime = int(steptime/4)*4\n",
    "steptime_rise = steptime \n",
    "steptime_fall = steptime\n",
    "# no dwell at low or high limits so it is sweeping \n",
    "# from low to high and go back low so on and so forth\n",
    "dwellatlow = False\n",
    "dwellathigh = False"
   ]
  },
  {
   "cell_type": "code",
   "execution_count": 6,
   "metadata": {},
   "outputs": [
    {
     "name": "stdout",
     "output_type": "stream",
     "text": [
      "Approximated Time to Sweep along rise direction: \n",
      "0.2621453281519949s\n",
      "0x1C 0x53 0xFF 0x10 0x33 0x33 0x33 0x33 0x10 0xB3 0x33 0x33 0x33 0x00 0x00 0x20 0xC4 0x70 0x00 0x00 0x20 0xC4 0x70 0xFF 0xFF 0xFF 0xFF 0x00 0x00 0x30 \n",
      "0x55 0x10 0x33 0x33 0x33 0x34 0x10 0xB3 0x33 0x33 0x3C 0x00 0x00 0x20 0xC4 0x70 0x00 0x00 0x20 0xC4 0x70 \n"
     ]
    },
    {
     "data": {
      "text/plain": [
       "b'\\xab'"
      ]
     },
     "execution_count": 6,
     "metadata": {},
     "output_type": "execute_result"
    }
   ],
   "source": [
    "# lower-level functions-----\n",
    "print(f\"Approximated Time to Sweep along rise direction: \\n{(freq_stop-freq_start)/step_rise*steptime_rise/1E9}s\")\n",
    "bytescommand = mwsyn._sweep_command(freq_start, freq_stop, step_rise, step_fall, steptime_rise, steptime_fall, dwellatlow, dwellathigh)\n",
    "print_bytestring(bytescommand)\n",
    "mwsyn.serialcom.write(bytescommand)\n",
    "received = mwsyn.serialcom.read(size=21)\n",
    "print_bytestring(received)\n",
    "mwsyn.reset_trigger()\n",
    "mwsyn.sweep_continue()\n",
    "time.sleep(5) #sweep for 5s\n",
    "mwsyn.sweep_pause()"
   ]
  },
  {
   "cell_type": "code",
   "execution_count": 7,
   "metadata": {},
   "outputs": [
    {
     "name": "stdout",
     "output_type": "stream",
     "text": [
      "\n",
      "Acutal Sweep Parameters:\n",
      "        Freq Start:16.200000000186265\n",
      "        Freq Stop:16.70000000204891\n",
      "        Rise Step:0.0004999898374080658\n",
      "        Fall Step:0.0004999898374080658\n"
     ]
    },
    {
     "data": {
      "text/plain": [
       "b'\\xab'"
      ]
     },
     "execution_count": 7,
     "metadata": {},
     "output_type": "execute_result"
    }
   ],
   "source": [
    "# higher-level function-----\n",
    "freq_start_actual, freq_stop_actual, step_rise_actual, step_fall_actual = mwsyn.sweep(freq_start, freq_stop, step_rise, step_fall, \n",
    "                                                                                      steptime_rise, steptime_fall, dwellatlow, dwellathigh)\n",
    "print(f\"\"\"\n",
    "Acutal Sweep Parameters:\n",
    "        Freq Start:{freq_start_actual}\n",
    "        Freq Stop:{freq_stop_actual}\n",
    "        Rise Step:{step_rise_actual}\n",
    "        Fall Step:{step_fall_actual}\"\"\")\n",
    "mwsyn.reset_trigger()\n",
    "mwsyn.sweep_continue()\n",
    "time.sleep(5) #sweep for 5s\n",
    "mwsyn.sweep_pause()"
   ]
  },
  {
   "cell_type": "markdown",
   "metadata": {},
   "source": [
    "# Other tests"
   ]
  },
  {
   "cell_type": "code",
   "execution_count": 4,
   "metadata": {},
   "outputs": [
    {
     "name": "stdout",
     "output_type": "stream",
     "text": [
      "MW Synthesizer Rebooted!\n"
     ]
    }
   ],
   "source": [
    "mwsyn.reboot()"
   ]
  },
  {
   "cell_type": "code",
   "execution_count": 5,
   "metadata": {},
   "outputs": [],
   "source": [
    "mwsyn.open()"
   ]
  },
  {
   "cell_type": "code",
   "execution_count": 6,
   "metadata": {},
   "outputs": [],
   "source": [
    "mwsyn.close()"
   ]
  },
  {
   "cell_type": "code",
   "execution_count": null,
   "metadata": {},
   "outputs": [],
   "source": []
  }
 ],
 "metadata": {
  "kernelspec": {
   "display_name": "hfnvenv",
   "language": "python",
   "name": "python3"
  },
  "language_info": {
   "codemirror_mode": {
    "name": "ipython",
    "version": 3
   },
   "file_extension": ".py",
   "mimetype": "text/x-python",
   "name": "python",
   "nbconvert_exporter": "python",
   "pygments_lexer": "ipython3",
   "version": "3.10.14"
  }
 },
 "nbformat": 4,
 "nbformat_minor": 2
}
