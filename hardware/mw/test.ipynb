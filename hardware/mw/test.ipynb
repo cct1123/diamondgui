{
 "cells": [
  {
   "cell_type": "code",
   "execution_count": null,
   "metadata": {},
   "outputs": [],
   "source": [
    "bbb = b'\\x09\\x00\\x00\\x00\\x56'"
   ]
  },
  {
   "cell_type": "code",
   "execution_count": null,
   "metadata": {},
   "outputs": [],
   "source": [
    "bbb == b'\\x00\\x00\\x00U'"
   ]
  },
  {
   "cell_type": "code",
   "execution_count": null,
   "metadata": {},
   "outputs": [],
   "source": []
  },
  {
   "cell_type": "code",
   "execution_count": null,
   "metadata": {},
   "outputs": [],
   "source": [
    "INT32BIT = 4294967296\n",
    "freq = 8.333333333 \n",
    "freq_integer = freq // 1\n",
    "freq_fraction = freq % 1\n",
    "byte1 = int(freq_integer).to_bytes(1, \"big\")\n",
    "byte2345 = int(freq_fraction * INT32BIT).to_bytes(4, \"big\")\n",
    "\n",
    "# INT32BIT\n",
    "# return freq_integer, freq_fraction\n",
    "byte12345 = byte1+byte2345 # only for python3\n",
    "for bb in byte12345:\n",
    "    print(hex(bb))"
   ]
  },
  {
   "cell_type": "code",
   "execution_count": null,
   "metadata": {},
   "outputs": [],
   "source": [
    "\n",
    "\n",
    "INT32BIT = 4294967296\n",
    "# freq = 8.9999999999\n",
    "freq = 8.333333333\n",
    "# freq = 9.00000002\n",
    "freq_integer = freq // 1\n",
    "freq_fraction = freq % 1\n",
    "byte1 = int(freq_integer)\n",
    "# byte2345 = int(math.ceil(freq_fraction * INT32BIT))\n",
    "byte2345 = int(freq_fraction * INT32BIT+0.5)\n",
    "# byte2345 = int(freq_fraction * INT32BIT)\n",
    "byte12345 = hex(byte1)+hex(byte2345)\n",
    "print(byte12345)"
   ]
  },
  {
   "cell_type": "code",
   "execution_count": null,
   "metadata": {},
   "outputs": [],
   "source": [
    "int(3.5+0.5)"
   ]
  },
  {
   "cell_type": "code",
   "execution_count": 3,
   "metadata": {},
   "outputs": [
    {
     "name": "stdout",
     "output_type": "stream",
     "text": [
      "Input Freq: 1.210719347e-08 GHz, Output Bytes: 0x0 0x0 0x0 0x0 0x34\n"
     ]
    }
   ],
   "source": [
    "from mwsynthesizer import *\n",
    "# freq = 8.9999999999\n",
    "# freq = 8.333333333\n",
    "freq = 9.00000002\n",
    "freq = 12.10719347e-9\n",
    "bb = freq_to_bytes(freq)\n"
   ]
  },
  {
   "cell_type": "code",
   "execution_count": 1,
   "metadata": {},
   "outputs": [
    {
     "data": {
      "text/plain": [
       "b'\\x01\\xf2'"
      ]
     },
     "execution_count": 1,
     "metadata": {},
     "output_type": "execute_result"
    }
   ],
   "source": [
    "from mwsynthesizer import *\n",
    "dwell_to_bytes(1.99e3)\n",
    "# send_simple_sweep_command(8, 20,1e-6, 10e-6, 1.99e3, 8, 0, 0)\n"
   ]
  },
  {
   "cell_type": "code",
   "execution_count": null,
   "metadata": {},
   "outputs": [],
   "source": [
    "hex(xor_bytes(b'\\x06F\\t\\x00\\x00\\x00V'))"
   ]
  },
  {
   "cell_type": "code",
   "execution_count": 17,
   "metadata": {},
   "outputs": [],
   "source": [
    "bb = b'\\x15m\\x08\\x00\\x00\\x00\\x00\\x14\\x00\\x00\\x00\\x00\\t\\x00\\x00\\x00\\x00\\n\\x00\\x00\\x00\\x00g'\n",
    "out = []\n",
    "data_return = b'\\x10\\x0A'\n",
    "for fb in data_return:\n",
    "    out.append(fb/FLOAT32BIT * 1E9) # step size in [Hz]\n",
    "jj, kk = out"
   ]
  },
  {
   "cell_type": "code",
   "execution_count": 18,
   "metadata": {},
   "outputs": [
    {
     "data": {
      "text/plain": [
       "3.725290298461914"
      ]
     },
     "execution_count": 18,
     "metadata": {},
     "output_type": "execute_result"
    }
   ],
   "source": [
    "jj"
   ]
  },
  {
   "cell_type": "code",
   "execution_count": 20,
   "metadata": {},
   "outputs": [],
   "source": [
    "def dumdumfunc():\n",
    "    return 43\n",
    "\n",
    "def funfunc():\n",
    "    return dumdumfunc()"
   ]
  },
  {
   "cell_type": "code",
   "execution_count": 21,
   "metadata": {},
   "outputs": [],
   "source": [
    "funfunc()"
   ]
  },
  {
   "cell_type": "code",
   "execution_count": null,
   "metadata": {},
   "outputs": [],
   "source": []
  }
 ],
 "metadata": {
  "kernelspec": {
   "display_name": "hfnvenv",
   "language": "python",
   "name": "python3"
  },
  "language_info": {
   "codemirror_mode": {
    "name": "ipython",
    "version": 3
   },
   "file_extension": ".py",
   "mimetype": "text/x-python",
   "name": "python",
   "nbconvert_exporter": "python",
   "pygments_lexer": "ipython3",
   "version": "3.10.8 | packaged by conda-forge | (main, Nov  4 2022, 13:42:51) [MSC v.1916 64 bit (AMD64)]"
  },
  "orig_nbformat": 4,
  "vscode": {
   "interpreter": {
    "hash": "e18a0773591e5a5fd717ebd07f0833d1ddde043e7cb0922cff26ae4a521a5193"
   }
  }
 },
 "nbformat": 4,
 "nbformat_minor": 2
}
