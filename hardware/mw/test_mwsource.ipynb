{
 "cells": [
  {
   "cell_type": "code",
   "execution_count": 1,
   "id": "693f3a13",
   "metadata": {},
   "outputs": [],
   "source": [
    "import time\n",
    "import sys\n",
    "import os\n",
    "path_project = \"\\\\\".join(os.getcwd().split(\"\\\\\")[:-2])\n",
    "# caution: path[0] is reserved for script path (or '' in REPL)\n",
    "sys.path.insert(1, path_project)\n",
    "\n",
    "from hardware.mw.mwsource import VDISource\n",
    "from hardware import config as hcf"
   ]
  },
  {
   "cell_type": "code",
   "execution_count": 2,
   "id": "29fbaea3",
   "metadata": {},
   "outputs": [
    {
     "name": "stdout",
     "output_type": "stream",
     "text": [
      "VDI Sythesizer Serail Port Open\n"
     ]
    }
   ],
   "source": [
    "\n",
    "vdi = VDISource(\n",
    "    hcf.NI_ch_UCA, \n",
    "    hcf.NI_ch_MWBP, \n",
    "    hcf.VDISYN_SN,\n",
    "    vidpid=hcf.VDISYN_VIDPID,\n",
    "    baudrate=hcf.VDISYN_BAUD,\n",
    ")"
   ]
  },
  {
   "cell_type": "code",
   "execution_count": 3,
   "id": "7988cc7e",
   "metadata": {},
   "outputs": [],
   "source": [
    "vdi.open()"
   ]
  },
  {
   "cell_type": "code",
   "execution_count": 11,
   "id": "0e8b63a8",
   "metadata": {},
   "outputs": [],
   "source": [
    "vdi.set_freq(392.843)\n",
    "vdi.set_amp_volt(5)\n",
    "vdi.set_phase_volt(5)"
   ]
  },
  {
   "cell_type": "code",
   "execution_count": 12,
   "id": "9e4b5c5f",
   "metadata": {},
   "outputs": [],
   "source": [
    "vdi.set_amp_volt(0)\n",
    "vdi.set_phase_volt(0)"
   ]
  },
  {
   "cell_type": "code",
   "execution_count": null,
   "id": "37df578f",
   "metadata": {},
   "outputs": [],
   "source": []
  },
  {
   "cell_type": "code",
   "execution_count": null,
   "id": "1180c260",
   "metadata": {},
   "outputs": [],
   "source": []
  }
 ],
 "metadata": {
  "kernelspec": {
   "display_name": "Python 3",
   "language": "python",
   "name": "python3"
  },
  "language_info": {
   "codemirror_mode": {
    "name": "ipython",
    "version": 3
   },
   "file_extension": ".py",
   "mimetype": "text/x-python",
   "name": "python",
   "nbconvert_exporter": "python",
   "pygments_lexer": "ipython3",
   "version": "3.10.16"
  }
 },
 "nbformat": 4,
 "nbformat_minor": 5
}
