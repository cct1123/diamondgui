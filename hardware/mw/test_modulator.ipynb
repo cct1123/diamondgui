{
 "cells": [
  {
   "cell_type": "code",
   "execution_count": 1,
   "id": "1c019f9a",
   "metadata": {},
   "outputs": [],
   "source": [
    "import time\n",
    "import sys\n",
    "import os\n",
    "path_project = \"\\\\\".join(os.getcwd().split(\"\\\\\")[:-2])\n",
    "# caution: path[0] is reserved for script path (or '' in REPL)\n",
    "sys.path.insert(1, path_project)\n",
    "\n",
    "from hardware.mw.mwsynthesizer import Synthesizer\n",
    "from hardware import config as hcf"
   ]
  },
  {
   "cell_type": "code",
   "execution_count": 2,
   "id": "b5943419",
   "metadata": {},
   "outputs": [],
   "source": [
    "from hardware.mw.mwmodulation import Modulator\n",
    "\n",
    "mwmod = Modulator(ch_amp=hcf.NI_ch_UCA, ch_phase=hcf.NI_ch_MWBP)"
   ]
  },
  {
   "cell_type": "code",
   "execution_count": 7,
   "id": "f56283c3",
   "metadata": {},
   "outputs": [],
   "source": [
    "\n",
    "def dummy_amp_percent_to_voltage(percent: float) -> float:\n",
    "    \"\"\"\n",
    "    Dummy calibration: 0–100% → 0–5V linearly.\n",
    "    Replace this with experimental fit.\n",
    "    \"\"\"\n",
    "    if not (0 <= percent <= 100):\n",
    "        raise ValueError(\"Amplitude percent must be between 0 and 100.\")\n",
    "    return 5.0 * percent / 100.0\n",
    "\n",
    "\n",
    "def dummy_phase_deg_to_voltage(degrees: float) -> float:\n",
    "    \"\"\"\n",
    "    Dummy calibration: 0–360° → 0–5V linearly.\n",
    "    Replace this with experimental fit.\n",
    "    \"\"\"\n",
    "    if not (0 <= degrees <= 360):\n",
    "        raise ValueError(\"Phase degrees must be between 0 and 360.\")\n",
    "    return 5.0 * degrees / 360.0"
   ]
  },
  {
   "cell_type": "code",
   "execution_count": 8,
   "id": "260ad598",
   "metadata": {},
   "outputs": [],
   "source": [
    "mwmod.load_amp_calibration(dummy_amp_percent_to_voltage)\n",
    "mwmod.load_phase_calibration(dummy_phase_deg_to_voltage)"
   ]
  },
  {
   "cell_type": "code",
   "execution_count": 3,
   "id": "30e606ae",
   "metadata": {},
   "outputs": [],
   "source": [
    "mwmod.set_amp_volt(3.0)\n",
    "# mwmod.set_phase_volt(1.2)"
   ]
  },
  {
   "cell_type": "code",
   "execution_count": 4,
   "id": "41a6579a",
   "metadata": {},
   "outputs": [],
   "source": [
    "mwmod.set_amp(\"5V\")\n",
    "mwmod.set_phase(\"1.2V\")"
   ]
  },
  {
   "cell_type": "code",
   "execution_count": 13,
   "id": "d575da78",
   "metadata": {},
   "outputs": [],
   "source": [
    "# Smart string-based input\n",
    "mwmod.set_amp(\"80%\")\n",
    "mwmod.set_phase(\"180deg\")"
   ]
  },
  {
   "cell_type": "code",
   "execution_count": null,
   "id": "4e019857",
   "metadata": {},
   "outputs": [],
   "source": [
    "# Restart after manual close\n",
    "mwmod.close()\n",
    "mwmod.set_amp(\"1.0V\")  # still works due to auto-restart\n",
    "mwmod.set_amp(\"5.0V\")  # still works due to auto-restart"
   ]
  },
  {
   "cell_type": "code",
   "execution_count": 9,
   "id": "4e717f01",
   "metadata": {},
   "outputs": [],
   "source": [
    "mwmod.set_amp(\"0%\")\n",
    "mwmod.set_phase(\"0deg\")"
   ]
  },
  {
   "cell_type": "code",
   "execution_count": 18,
   "id": "ebf3983c",
   "metadata": {},
   "outputs": [],
   "source": [
    "mwmod.set_amp(\"100%\")"
   ]
  },
  {
   "cell_type": "code",
   "execution_count": null,
   "id": "0c0e1b44",
   "metadata": {},
   "outputs": [],
   "source": []
  }
 ],
 "metadata": {
  "kernelspec": {
   "display_name": "Python 3",
   "language": "python",
   "name": "python3"
  },
  "language_info": {
   "codemirror_mode": {
    "name": "ipython",
    "version": 3
   },
   "file_extension": ".py",
   "mimetype": "text/x-python",
   "name": "python",
   "nbconvert_exporter": "python",
   "pygments_lexer": "ipython3",
   "version": "3.10.16"
  }
 },
 "nbformat": 4,
 "nbformat_minor": 5
}
