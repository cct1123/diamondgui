{
    "cells": [
        {
            "cell_type": "code",
            "execution_count": 1,
            "metadata": {},
            "outputs": [
                {
                    "name": "stdout",
                    "output_type": "stream",
                    "text": [
                        "[<DEVICE ID 0403:90d9 on Bus 000 Address 001>]\n"
                    ]
                }
            ],
            "source": [
                "# test usblib--------------------------------\n",
                "import usb\n",
                "las = usb.core.find(find_all=True)\n",
                "# las = usb.core.find(find_all=True, idVendor=0x0403, idProduct=0x90D9)\n",
                "devicelist = []\n",
                "for item in las:\n",
                "    devicelist.append(item)\n",
                "print(devicelist)"
            ]
        },
        {
            "cell_type": "code",
            "execution_count": 2,
            "metadata": {},
            "outputs": [],
            "source": [
                "import time\n",
                "import sys\n",
                "import os\n",
                "path_project = \"\\\\\".join(os.getcwd().split(\"\\\\\")[:-2])\n",
                "# caution: path[0] is reserved for script path (or '' in REPL)\n",
                "sys.path.insert(1, path_project)\n",
                "\n",
                "from hardware.laser.laser import LaserControl\n",
                "from hardware import config as hdc\n",
                "\n",
                "laser = LaserControl(hdc.LASER_SN)\n",
                "laser.open()"
            ]
        },
        {
            "cell_type": "code",
            "execution_count": 3,
            "metadata": {},
            "outputs": [],
            "source": [
                "# test laser on/off ------------------------------\n",
                "laser.laser_on()\n",
                "assert laser.is_laser_on()\n",
                "laser.laser_off()\n",
                "assert not laser.is_laser_on()\n",
                "assert laser.get_status() == \"Standby\""
            ]
        },
        {
            "cell_type": "code",
            "execution_count": 4,
            "metadata": {},
            "outputs": [],
            "source": [
                "# test constant mode ---------------------------\n",
                "laser.set_analog_control_mode(\"power\")\n",
                "assert laser.get_analog_control_mode() == \"power\"\n",
                "laser.set_analog_control_mode(\"current\")\n",
                "assert laser.get_analog_control_mode() != \"power\""
            ]
        },
        {
            "cell_type": "code",
            "execution_count": 5,
            "metadata": {},
            "outputs": [],
            "source": [
                "# test analog modulation -----------------------\n",
                "laser.set_analog_modulation(\"iNt\")\n",
                "assert laser.get_analog_modulation() == \"int\"\n",
                "laser.set_analog_modulation(\"Ext\")\n",
                "assert laser.get_analog_modulation() != \"int\""
            ]
        },
        {
            "cell_type": "code",
            "execution_count": 6,
            "metadata": {},
            "outputs": [],
            "source": [
                "# test diode current ----------------------------------\n",
                "current_percent = 20.75\n",
                "laser.set_analog_control_mode(\"current\")\n",
                "laser.set_diode_current(current_percent, save_memory=False)\n",
                "laser.laser_on()\n",
                "time.sleep(10) # allow laser current to settle\n",
                "cp_read = laser.get_diode_current()/laser.get_max_laser_current()\n",
                "laser.laser_off()\n",
                "assert round(current_percent, -1) == round(cp_read*100, -1)"
            ]
        },
        {
            "cell_type": "code",
            "execution_count": 7,
            "metadata": {},
            "outputs": [],
            "source": [
                "# test CDRH state ---------------------------------\n",
                "laser.set_CDRH_state(True)\n",
                "assert laser.get_CDRH_state()\n",
                "laser.set_CDRH_state(False)\n",
                "assert laser.get_CDRH_state() == False"
            ]
        },
        {
            "cell_type": "code",
            "execution_count": 8,
            "metadata": {},
            "outputs": [],
            "source": [
                "# test modulation type cw/modulated -------------------------\n",
                "laser.set_modulation_state(\"CW\")\n",
                "assert laser.get_modulation_state() == \"cw\"\n",
                "laser.set_modulation_state(\"Pulsed\")\n",
                "assert laser.get_modulation_state() == \"modulated\""
            ]
        },
        {
            "cell_type": "code",
            "execution_count": 9,
            "metadata": {},
            "outputs": [],
            "source": [
                "# test laser power setting ----------------------------\n",
                "power = 5.43759837 # [mW]\n",
                "laser.set_analog_control_mode(\"power\")\n",
                "laser.set_laser_power(power, save_memory=True)\n",
                "laser.laser_on()\n",
                "time.sleep(5) # allow laser current to settle\n",
                "power_read = laser.get_laser_power()\n",
                "\n",
                "assert f\"{power:.0f}\" == f\"{power_read:.0f}\""
            ]
        },
        {
            "cell_type": "code",
            "execution_count": 10,
            "metadata": {},
            "outputs": [],
            "source": [
                "laser.laser_off()"
            ]
        },
        {
            "cell_type": "code",
            "execution_count": 11,
            "metadata": {},
            "outputs": [],
            "source": [
                "power = 32.90 # [mW]\n",
                "laser.set_analog_control_mode(\"power\")\n",
                "laser.set_laser_power(power, save_memory=True)\n",
                "# laser.laser_on()"
            ]
        },
        {
            "cell_type": "code",
            "execution_count": 13,
            "metadata": {},
            "outputs": [],
            "source": [
                "# test alarm reset --------------------------------\n",
                "laser.laser_off()\n",
                "laser.reset_alarm()\n",
                "time.sleep(10) # wait for reset\n",
                "assert laser.get_status() == \"Laser ON\"\n",
                "laser.laser_off()\n",
                "assert laser.get_status() == \"Standby\""
            ]
        },
        {
            "cell_type": "code",
            "execution_count": 18,
            "metadata": {},
            "outputs": [],
            "source": [
                "# test TEC states -------------------------------\n",
                "laser.set_TEC_enable(enable=False)\n",
                "assert laser.get_TEC_state() == False\n",
                "assert laser.get_status() == \"Sleep\"\n",
                "laser.set_TEC_enable()\n",
                "assert laser.get_TEC_state()"
            ]
        },
        {
            "cell_type": "code",
            "execution_count": 19,
            "metadata": {},
            "outputs": [
                {
                    "name": "stderr",
                    "output_type": "stream",
                    "text": [
                        "Failed to set command 'TTL=1'\n",
                        "Response from Device :'TTL=0'\n"
                    ]
                },
                {
                    "name": "stdout",
                    "output_type": "stream",
                    "text": [
                        "Test Successful!\n"
                    ]
                }
            ],
            "source": [
                "# test TTL digital modulation ---------------------\n",
                "laser.set_analog_control_mode(\"power\")\n",
                "laser.set_digital_modulation(\"ExT\")\n",
                "assert laser.get_digital_modulation() != \"ext\"\n",
                "laser.set_analog_control_mode(\"current\")\n",
                "laser.set_digital_modulation(\"ExT\")\n",
                "assert laser.get_digital_modulation() == \"ext\"\n",
                "laser.set_digital_modulation(\"Int\")\n",
                "assert laser.get_digital_modulation() == 'int'\n",
                "print(\"Test Successful!\")"
            ]
        },
        {
            "cell_type": "code",
            "execution_count": 20,
            "metadata": {},
            "outputs": [],
            "source": [
                "laser.close() # IMPORTANT to close the connection!!"
            ]
        },
        {
            "cell_type": "code",
            "execution_count": null,
            "metadata": {},
            "outputs": [],
            "source": []
        }
    ],
    "metadata": {
        "kernelspec": {
            "display_name": "hfnvenv",
            "language": "python",
            "name": "python3"
        },
        "language_info": {
            "codemirror_mode": {
                "name": "ipython",
                "version": 3
            },
            "file_extension": ".py",
            "mimetype": "text/x-python",
            "name": "python",
            "nbconvert_exporter": "python",
            "pygments_lexer": "ipython3",
            "version": "3.10.14"
        },
        "orig_nbformat": 4,
        "vscode": {
            "interpreter": {
                "hash": "e18a0773591e5a5fd717ebd07f0833d1ddde043e7cb0922cff26ae4a521a5193"
            }
        }
    },
    "nbformat": 4,
    "nbformat_minor": 2
}