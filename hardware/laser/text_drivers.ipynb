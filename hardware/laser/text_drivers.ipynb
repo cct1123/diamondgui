{
 "cells": [
  {
   "cell_type": "code",
   "execution_count": 3,
   "metadata": {},
   "outputs": [
    {
     "name": "stdout",
     "output_type": "stream",
     "text": [
      "[<DEVICE ID 0403:90d9 on Bus 000 Address 001>]\n"
     ]
    }
   ],
   "source": [
    "import time\n",
    "from laser import LaserControl\n",
    "\n",
    "# test usblib--------------------------------\n",
    "import usb\n",
    "las = usb.core.find(find_all=True)\n",
    "# las = usb.core.find(find_all=True, idVendor=0x0403, idProduct=0x90D9)\n",
    "laslist = []\n",
    "for item in las:\n",
    "    laslist.append(item)\n",
    "print(laslist)\n",
    "# command = '?HID'\n",
    "# ttt = laslist[0].write(0x02, (command+'\\0').encode(), 100)\n",
    "# rep = laslist[0].read(0x81, 30, 1000)\n",
    "# usb.util.dispose_resources(laslist[0]) # Important!! \n",
    "# -------------------------------------\n",
    "laser = LaserControl()\n",
    "laser.open()\n",
    "# laser.close()\n",
    "\n",
    "# before all the tests: close the oxxius software"
   ]
  },
  {
   "cell_type": "code",
   "execution_count": null,
   "metadata": {},
   "outputs": [],
   "source": []
  },
  {
   "cell_type": "code",
   "execution_count": 4,
   "metadata": {},
   "outputs": [],
   "source": [
    "# test laser on/off ------------------------------\n",
    "laser.laser_on()\n",
    "assert laser.is_laser_on()\n",
    "laser.laser_off()\n",
    "assert not laser.is_laser_on()\n",
    "assert laser.get_status() == \"Standby\""
   ]
  },
  {
   "cell_type": "code",
   "execution_count": 5,
   "metadata": {},
   "outputs": [],
   "source": [
    "# test constant mode ---------------------------\n",
    "laser.set_analog_control_mode(\"power\")\n",
    "assert laser.get_analog_control_mode() == \"power\"\n",
    "laser.set_analog_control_mode(\"current\")\n",
    "assert laser.get_analog_control_mode() != \"power\""
   ]
  },
  {
   "cell_type": "code",
   "execution_count": 6,
   "metadata": {},
   "outputs": [],
   "source": [
    "# test analog modulation -----------------------\n",
    "laser.set_analog_modulation(\"iNt\")\n",
    "assert laser.get_analog_modulation() == \"int\"\n",
    "laser.set_analog_modulation(\"Ext\")\n",
    "assert laser.get_analog_modulation() != \"int\""
   ]
  },
  {
   "cell_type": "code",
   "execution_count": 8,
   "metadata": {},
   "outputs": [
    {
     "ename": "AssertionError",
     "evalue": "",
     "output_type": "error",
     "traceback": [
      "\u001b[1;31m---------------------------------------------------------------------------\u001b[0m",
      "\u001b[1;31mAssertionError\u001b[0m                            Traceback (most recent call last)",
      "Cell \u001b[1;32mIn [8], line 9\u001b[0m\n\u001b[0;32m      7\u001b[0m cp_read \u001b[39m=\u001b[39m laser\u001b[39m.\u001b[39mget_diode_current()\u001b[39m/\u001b[39mlaser\u001b[39m.\u001b[39mget_max_laser_current()\n\u001b[0;32m      8\u001b[0m laser\u001b[39m.\u001b[39mlaser_off()\n\u001b[1;32m----> 9\u001b[0m \u001b[39massert\u001b[39;00m \u001b[39mround\u001b[39m(current_percent, \u001b[39m-\u001b[39m\u001b[39m1\u001b[39m) \u001b[39m==\u001b[39m \u001b[39mround\u001b[39m(cp_read\u001b[39m*\u001b[39m\u001b[39m100\u001b[39m, \u001b[39m-\u001b[39m\u001b[39m1\u001b[39m)\n",
      "\u001b[1;31mAssertionError\u001b[0m: "
     ]
    }
   ],
   "source": [
    "# test diode current ----------------------------------\n",
    "current_percent = 20.75\n",
    "laser.set_analog_control_mode(\"current\")\n",
    "laser.set_diode_current(current_percent, save_memory=False)\n",
    "laser.laser_on()\n",
    "time.sleep(10) # allow laser current to settle\n",
    "cp_read = laser.get_diode_current()/laser.get_max_laser_current()\n",
    "laser.laser_off()\n",
    "assert round(current_percent, -1) == round(cp_read*100, -1)"
   ]
  },
  {
   "cell_type": "code",
   "execution_count": 9,
   "metadata": {},
   "outputs": [],
   "source": [
    "# test CDRH state ---------------------------------\n",
    "laser.set_CDRH_state(True)\n",
    "assert laser.get_CDRH_state()\n",
    "laser.set_CDRH_state(False)\n",
    "assert laser.get_CDRH_state() == False"
   ]
  },
  {
   "cell_type": "code",
   "execution_count": 10,
   "metadata": {},
   "outputs": [],
   "source": [
    "# test modulation type cw/modulated -------------------------\n",
    "laser.set_modulation_state(\"CW\")\n",
    "assert laser.get_modulation_state() == \"cw\"\n",
    "laser.set_modulation_state(\"Pulsed\")\n",
    "assert laser.get_modulation_state() == \"modulated\""
   ]
  },
  {
   "cell_type": "code",
   "execution_count": 11,
   "metadata": {},
   "outputs": [
    {
     "name": "stderr",
     "output_type": "stream",
     "text": [
      "Failed to set command 'P=33'\n",
      "Response from Device :'P=33.0'\n"
     ]
    },
    {
     "ename": "AssertionError",
     "evalue": "",
     "output_type": "error",
     "traceback": [
      "\u001b[1;31m---------------------------------------------------------------------------\u001b[0m",
      "\u001b[1;31mAssertionError\u001b[0m                            Traceback (most recent call last)",
      "Cell \u001b[1;32mIn [11], line 9\u001b[0m\n\u001b[0;32m      7\u001b[0m power_read \u001b[39m=\u001b[39m laser\u001b[39m.\u001b[39mget_laser_power()\n\u001b[0;32m      8\u001b[0m laser\u001b[39m.\u001b[39mlaser_off()\n\u001b[1;32m----> 9\u001b[0m \u001b[39massert\u001b[39;00m \u001b[39mround\u001b[39m(power) \u001b[39m==\u001b[39m \u001b[39mround\u001b[39m(power_read)\n",
      "\u001b[1;31mAssertionError\u001b[0m: "
     ]
    }
   ],
   "source": [
    "# test laser power setting ----------------------------\n",
    "power = 32.75 # [mW]\n",
    "laser.set_analog_control_mode(\"power\")\n",
    "laser.set_laser_power(power, save_memory=True)\n",
    "laser.laser_on()\n",
    "time.sleep(10) # allow laser current to settle\n",
    "power_read = laser.get_laser_power()\n",
    "laser.laser_off()\n",
    "assert round(power) == round(power_read)"
   ]
  },
  {
   "cell_type": "code",
   "execution_count": 12,
   "metadata": {},
   "outputs": [
    {
     "name": "stderr",
     "output_type": "stream",
     "text": [
      "Failed to set command 'RST'\n",
      "Response from Device :'RST OK'\n"
     ]
    },
    {
     "ename": "AssertionError",
     "evalue": "",
     "output_type": "error",
     "traceback": [
      "\u001b[1;31m---------------------------------------------------------------------------\u001b[0m",
      "\u001b[1;31mAssertionError\u001b[0m                            Traceback (most recent call last)",
      "Cell \u001b[1;32mIn [12], line 7\u001b[0m\n\u001b[0;32m      5\u001b[0m \u001b[39massert\u001b[39;00m laser\u001b[39m.\u001b[39mget_status() \u001b[39m==\u001b[39m \u001b[39m\"\u001b[39m\u001b[39mLaser ON\u001b[39m\u001b[39m\"\u001b[39m\n\u001b[0;32m      6\u001b[0m laser\u001b[39m.\u001b[39mlaser_off()\n\u001b[1;32m----> 7\u001b[0m \u001b[39massert\u001b[39;00m laser\u001b[39m.\u001b[39mget_status() \u001b[39m==\u001b[39m \u001b[39m\"\u001b[39m\u001b[39mStandby\u001b[39m\u001b[39m\"\u001b[39m\n",
      "\u001b[1;31mAssertionError\u001b[0m: "
     ]
    }
   ],
   "source": [
    "# test alarm reset --------------------------------\n",
    "laser.laser_off()\n",
    "laser.reset_alarm()\n",
    "time.sleep(10) # wait for reset\n",
    "assert laser.get_status() == \"Laser ON\"\n",
    "laser.laser_off()\n",
    "assert laser.get_status() == \"Standby\""
   ]
  },
  {
   "cell_type": "code",
   "execution_count": 13,
   "metadata": {},
   "outputs": [],
   "source": [
    "# test TEC states -------------------------------\n",
    "laser.set_TEC_enable(enable=False)\n",
    "assert laser.get_TEC_state() == False\n",
    "assert laser.get_status() == \"Sleep\"\n",
    "laser.set_TEC_enable()\n",
    "assert laser.get_TEC_state()"
   ]
  },
  {
   "cell_type": "code",
   "execution_count": 14,
   "metadata": {},
   "outputs": [
    {
     "name": "stderr",
     "output_type": "stream",
     "text": [
      "Failed to set command 'TTL=1'\n",
      "Response from Device :'TTL=0'\n"
     ]
    }
   ],
   "source": [
    "# test TTL digital modulation ---------------------\n",
    "laser.set_analog_control_mode(\"power\")\n",
    "laser.set_digital_modulation(\"ExT\")\n",
    "assert laser.get_digital_modulation() != \"ext\"\n",
    "laser.set_analog_control_mode(\"current\")\n",
    "laser.set_digital_modulation(\"ExT\")\n",
    "assert laser.get_digital_modulation() == \"ext\"\n",
    "laser.set_digital_modulation(\"Int\")\n",
    "assert laser.get_digital_modulation() == 'int'"
   ]
  },
  {
   "cell_type": "code",
   "execution_count": 15,
   "metadata": {},
   "outputs": [],
   "source": [
    "laser.close() # IMPORTANT to close the connection!!"
   ]
  },
  {
   "cell_type": "code",
   "execution_count": null,
   "metadata": {},
   "outputs": [],
   "source": [
    "adictlist = [{\"value\":523, \"disable\":True}, {\"value\":32432, \"disable\":True}, {\"value\":5325, \"disable\":True}]\n"
   ]
  }
 ],
 "metadata": {
  "kernelspec": {
   "display_name": "hfnvenv",
   "language": "python",
   "name": "python3"
  },
  "language_info": {
   "codemirror_mode": {
    "name": "ipython",
    "version": 3
   },
   "file_extension": ".py",
   "mimetype": "text/x-python",
   "name": "python",
   "nbconvert_exporter": "python",
   "pygments_lexer": "ipython3",
   "version": "3.10.8 | packaged by conda-forge | (main, Nov  4 2022, 13:42:51) [MSC v.1916 64 bit (AMD64)]"
  },
  "orig_nbformat": 4,
  "vscode": {
   "interpreter": {
    "hash": "e18a0773591e5a5fd717ebd07f0833d1ddde043e7cb0922cff26ae4a521a5193"
   }
  }
 },
 "nbformat": 4,
 "nbformat_minor": 2
}
