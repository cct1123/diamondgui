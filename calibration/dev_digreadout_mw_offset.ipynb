{
    "cells": [
        {
            "cell_type": "code",
            "execution_count": 1,
            "metadata": {},
            "outputs": [],
            "source": [
                "import time\n",
                "import sys\n",
                "import os\n",
                "\n",
                "path_project = \"\\\\\".join(os.getcwd().split(\"\\\\\")[:-1])\n",
                "sys.path.insert(1, path_project)\n",
                "import math\n",
                "from hardware import config_custom as hcf\n",
                "import matplotlib.pyplot as plt\n",
                "import numpy as np\n",
                "import math\n",
                "from hardware.pulser.pulser import PulseGenerator, OutputState, TriggerStart, TriggerRearm, HIGH, LOW, INF, REPEAT_INFINITELY\n",
                "from hardware.laser.laser import LaserControl\n",
                "from hardware.mw.mwsynthesizer import Synthesizer\n",
                "from hardware.daq.sidig import FIFO_DataAcquisition, DCCOUPLE, TERMIN_INPUT_50OHM, TERMIN_INPUT_1MOHM\n",
                "\n",
                "from hardware import config_custom as hcf\n",
                "\n",
                "import nidaqmx\n",
                "from nidaqmx.constants import TerminalConfiguration, VoltageUnits, Edge, AcquisitionType, READ_ALL_AVAILABLE\n",
                "from nidaqmx.stream_readers import AnalogSingleChannelReader\n",
                "\n",
                "from spcm import units"
            ]
        },
        {
            "cell_type": "markdown",
            "metadata": {},
            "source": []
        },
        {
            "cell_type": "code",
            "execution_count": 2,
            "metadata": {},
            "outputs": [],
            "source": [
                "def lcm(a, b):\n",
                "    \"\"\"Calculate the least common multiple of two numbers.\"\"\"\n",
                "    return abs(a * b) // math.gcd(a, b)\n",
                "\n",
                "def seqtime_cb(seq_cb):\n",
                "    return np.sum([pulse[-0] for pulse in seq_cb])"
            ]
        },
        {
            "cell_type": "markdown",
            "metadata": {},
            "source": [
                "## Set up Connection with Devices"
            ]
        },
        {
            "cell_type": "code",
            "execution_count": 3,
            "metadata": {},
            "outputs": [
                {
                    "name": "stdout",
                    "output_type": "stream",
                    "text": [
                        "VDI Sythesizer Serail Port Open\n",
                        "Connect to Pulse Streamer via JSON-RPC.\n",
                        "IP / Hostname: 192.168.1.26\n",
                        "Pulse Streamer 8/2 firmware: v1.7.2\n",
                        "Client software: v1.7.0\n",
                        "Clock mode set to: 32\n",
                        "1: Internal, 2: Quartz, 3: External, 32: Direct External Sampling\n"
                    ]
                }
            ],
            "source": [
                "\n",
                "\n",
                "uncal_choffset = {\"laser\":0, \n",
                "                \"dclk\":0, \n",
                "                \"dtrig\":0,\n",
                "                \"mwA\":0, \n",
                "                \"mwB\":0,\n",
                "                }\n",
                "\n",
                "mwsyn = Synthesizer(hcf.VDISYN_SN, \n",
                "                    vidpid=hcf.VDISYN_VIDPID,\n",
                "                    baudrate=hcf.VDISYN_BAUD, \n",
                "                    timeout=5, \n",
                "                    write_timeout=5)\n",
                "\n",
                "ps = PulseGenerator(ip=hcf.PS_IP, \n",
                "                    chmap=hcf.PS_chmap,\n",
                "                    choffs=uncal_choffset)\n",
                "\n",
                "dig = FIFO_DataAcquisition(\n",
                "                sn_address=hcf.SIDIG_ADDRESS\n",
                "            )\n",
                "laser = LaserControl(hcf.LASER_SN)\n",
                "laser.open()\n",
                "\n"
            ]
        },
        {
            "cell_type": "markdown",
            "metadata": {},
            "source": [
                "## Set Up Pulse Sequence"
            ]
        },
        {
            "cell_type": "code",
            "execution_count": 4,
            "metadata": {},
            "outputs": [],
            "source": [
                "tb = lcm(hcf.SIDIG_timebase, hcf.PS_timebase)\n",
                "\n",
                "t_laser = 2500\n",
                "t_wait = 500\n",
                "t_isc = 1000\n",
                "t_mw = 1480\n",
                "\n",
                "t_dswait = t_wait\n",
                "t_dstrig = 200\n",
                "t_dspad = t_wait +t_laser+ t_isc - (t_dstrig +t_dswait)\n",
                "\n",
                "seq_laser = [(t_mw, LOW), (t_wait, LOW), (t_laser, HIGH), (t_isc, LOW)]+[(t_mw, LOW), (t_wait, LOW), (t_laser, HIGH), (t_isc, LOW)]\n",
                "# seq_mw = [(t_mw, HIGH), (t_wait + t_laser+ t_isc, LOW)] + [(t_mw, LOW), (t_wait + t_laser+ t_isc, LOW)]\n",
                "seq_sdtrig =   [(t_mw, LOW), (t_dswait, LOW), (t_dstrig, HIGH), (t_dspad, LOW)]+[(t_mw, LOW), (t_dswait, LOW), (t_dstrig, HIGH), (t_dspad, LOW)]\n",
                "\n",
                "seq_mwB = [(t_mw, LOW), (t_wait, LOW), (t_laser, LOW), (t_isc, LOW)]+[(t_mw, HIGH), (t_wait, LOW), (t_laser, LOW), (t_isc, LOW)]\n",
                "\n",
                "t_seq = seqtime_cb(seq_laser)\n"
            ]
        },
        {
            "cell_type": "code",
            "execution_count": 5,
            "metadata": {},
            "outputs": [
                {
                    "data": {
                        "application/vnd.plotly.v1+json": {
                            "config": {
                                "plotlyServerURL": "https://plot.ly"
                            },
                            "data": [
                                {
                                    "line": {
                                        "shape": "hv"
                                    },
                                    "mode": "lines",
                                    "name": "D0",
                                    "type": "scatter",
                                    "x": {
                                        "bdata": "AADIBbwHgBFoFTAbJB3oJtAq",
                                        "dtype": "i2"
                                    },
                                    "xaxis": "x10",
                                    "y": {
                                        "bdata": "AAABAAAAAQAA",
                                        "dtype": "i1"
                                    },
                                    "yaxis": "y10"
                                },
                                {
                                    "line": {
                                        "shape": "hv"
                                    },
                                    "mode": "lines",
                                    "name": "D1",
                                    "type": "scatter",
                                    "x": {
                                        "bdata": "AADQKg==",
                                        "dtype": "i2"
                                    },
                                    "xaxis": "x9",
                                    "y": {
                                        "bdata": "AAA=",
                                        "dtype": "i1"
                                    },
                                    "yaxis": "y9"
                                },
                                {
                                    "line": {
                                        "shape": "hv"
                                    },
                                    "mode": "lines",
                                    "name": "D2",
                                    "type": "scatter",
                                    "x": {
                                        "bdata": "AADQKg==",
                                        "dtype": "i2"
                                    },
                                    "xaxis": "x8",
                                    "y": {
                                        "bdata": "AAA=",
                                        "dtype": "i1"
                                    },
                                    "yaxis": "y8"
                                },
                                {
                                    "line": {
                                        "shape": "hv"
                                    },
                                    "mode": "lines",
                                    "name": "D3",
                                    "type": "scatter",
                                    "x": {
                                        "bdata": "AADIBbwHhAhoFTAbJB3sHdAq",
                                        "dtype": "i2"
                                    },
                                    "xaxis": "x7",
                                    "y": {
                                        "bdata": "AAABAAAAAQAA",
                                        "dtype": "i1"
                                    },
                                    "yaxis": "y7"
                                },
                                {
                                    "line": {
                                        "shape": "hv"
                                    },
                                    "mode": "lines",
                                    "name": "D4",
                                    "type": "scatter",
                                    "x": {
                                        "bdata": "AADQKg==",
                                        "dtype": "i2"
                                    },
                                    "xaxis": "x6",
                                    "y": {
                                        "bdata": "AAA=",
                                        "dtype": "i1"
                                    },
                                    "yaxis": "y6"
                                },
                                {
                                    "line": {
                                        "shape": "hv"
                                    },
                                    "mode": "lines",
                                    "name": "D5",
                                    "type": "scatter",
                                    "x": {
                                        "bdata": "AADIBbwHgBFoFTAbJB3oJtAq",
                                        "dtype": "i2"
                                    },
                                    "xaxis": "x5",
                                    "y": {
                                        "bdata": "AAAAAAEAAAAA",
                                        "dtype": "i1"
                                    },
                                    "yaxis": "y5"
                                },
                                {
                                    "line": {
                                        "shape": "hv"
                                    },
                                    "mode": "lines",
                                    "name": "D6",
                                    "type": "scatter",
                                    "x": {
                                        "bdata": "AADQKg==",
                                        "dtype": "i2"
                                    },
                                    "xaxis": "x4",
                                    "y": {
                                        "bdata": "AAA=",
                                        "dtype": "i1"
                                    },
                                    "yaxis": "y4"
                                },
                                {
                                    "line": {
                                        "shape": "hv"
                                    },
                                    "mode": "lines",
                                    "name": "D7",
                                    "type": "scatter",
                                    "x": {
                                        "bdata": "AADQKg==",
                                        "dtype": "i2"
                                    },
                                    "xaxis": "x3",
                                    "y": {
                                        "bdata": "AAA=",
                                        "dtype": "i1"
                                    },
                                    "yaxis": "y3"
                                },
                                {
                                    "line": {
                                        "color": "black",
                                        "shape": "hv"
                                    },
                                    "mode": "lines",
                                    "name": "A0",
                                    "type": "scatter",
                                    "x": {
                                        "bdata": "AADQKg==",
                                        "dtype": "i2"
                                    },
                                    "xaxis": "x2",
                                    "y": {
                                        "bdata": "AAAAAAAAAAAAAAAAAAAAAA==",
                                        "dtype": "f8"
                                    },
                                    "yaxis": "y2"
                                },
                                {
                                    "line": {
                                        "color": "black",
                                        "shape": "hv"
                                    },
                                    "mode": "lines",
                                    "name": "A1",
                                    "type": "scatter",
                                    "x": {
                                        "bdata": "AADQKg==",
                                        "dtype": "i2"
                                    },
                                    "xaxis": "x",
                                    "y": {
                                        "bdata": "AAAAAAAAAAAAAAAAAAAAAA==",
                                        "dtype": "f8"
                                    },
                                    "yaxis": "y"
                                }
                            ],
                            "layout": {
                                "height": 600,
                                "margin": {
                                    "b": 40,
                                    "l": 50,
                                    "r": 50,
                                    "t": 40
                                },
                                "showlegend": false,
                                "template": {
                                    "data": {
                                        "bar": [
                                            {
                                                "error_x": {
                                                    "color": "#2a3f5f"
                                                },
                                                "error_y": {
                                                    "color": "#2a3f5f"
                                                },
                                                "marker": {
                                                    "line": {
                                                        "color": "#E5ECF6",
                                                        "width": 0.5
                                                    },
                                                    "pattern": {
                                                        "fillmode": "overlay",
                                                        "size": 10,
                                                        "solidity": 0.2
                                                    }
                                                },
                                                "type": "bar"
                                            }
                                        ],
                                        "barpolar": [
                                            {
                                                "marker": {
                                                    "line": {
                                                        "color": "#E5ECF6",
                                                        "width": 0.5
                                                    },
                                                    "pattern": {
                                                        "fillmode": "overlay",
                                                        "size": 10,
                                                        "solidity": 0.2
                                                    }
                                                },
                                                "type": "barpolar"
                                            }
                                        ],
                                        "carpet": [
                                            {
                                                "aaxis": {
                                                    "endlinecolor": "#2a3f5f",
                                                    "gridcolor": "white",
                                                    "linecolor": "white",
                                                    "minorgridcolor": "white",
                                                    "startlinecolor": "#2a3f5f"
                                                },
                                                "baxis": {
                                                    "endlinecolor": "#2a3f5f",
                                                    "gridcolor": "white",
                                                    "linecolor": "white",
                                                    "minorgridcolor": "white",
                                                    "startlinecolor": "#2a3f5f"
                                                },
                                                "type": "carpet"
                                            }
                                        ],
                                        "choropleth": [
                                            {
                                                "colorbar": {
                                                    "outlinewidth": 0,
                                                    "ticks": ""
                                                },
                                                "type": "choropleth"
                                            }
                                        ],
                                        "contour": [
                                            {
                                                "colorbar": {
                                                    "outlinewidth": 0,
                                                    "ticks": ""
                                                },
                                                "colorscale": [
                                                    [
                                                        0,
                                                        "#0d0887"
                                                    ],
                                                    [
                                                        0.1111111111111111,
                                                        "#46039f"
                                                    ],
                                                    [
                                                        0.2222222222222222,
                                                        "#7201a8"
                                                    ],
                                                    [
                                                        0.3333333333333333,
                                                        "#9c179e"
                                                    ],
                                                    [
                                                        0.4444444444444444,
                                                        "#bd3786"
                                                    ],
                                                    [
                                                        0.5555555555555556,
                                                        "#d8576b"
                                                    ],
                                                    [
                                                        0.6666666666666666,
                                                        "#ed7953"
                                                    ],
                                                    [
                                                        0.7777777777777778,
                                                        "#fb9f3a"
                                                    ],
                                                    [
                                                        0.8888888888888888,
                                                        "#fdca26"
                                                    ],
                                                    [
                                                        1,
                                                        "#f0f921"
                                                    ]
                                                ],
                                                "type": "contour"
                                            }
                                        ],
                                        "contourcarpet": [
                                            {
                                                "colorbar": {
                                                    "outlinewidth": 0,
                                                    "ticks": ""
                                                },
                                                "type": "contourcarpet"
                                            }
                                        ],
                                        "heatmap": [
                                            {
                                                "colorbar": {
                                                    "outlinewidth": 0,
                                                    "ticks": ""
                                                },
                                                "colorscale": [
                                                    [
                                                        0,
                                                        "#0d0887"
                                                    ],
                                                    [
                                                        0.1111111111111111,
                                                        "#46039f"
                                                    ],
                                                    [
                                                        0.2222222222222222,
                                                        "#7201a8"
                                                    ],
                                                    [
                                                        0.3333333333333333,
                                                        "#9c179e"
                                                    ],
                                                    [
                                                        0.4444444444444444,
                                                        "#bd3786"
                                                    ],
                                                    [
                                                        0.5555555555555556,
                                                        "#d8576b"
                                                    ],
                                                    [
                                                        0.6666666666666666,
                                                        "#ed7953"
                                                    ],
                                                    [
                                                        0.7777777777777778,
                                                        "#fb9f3a"
                                                    ],
                                                    [
                                                        0.8888888888888888,
                                                        "#fdca26"
                                                    ],
                                                    [
                                                        1,
                                                        "#f0f921"
                                                    ]
                                                ],
                                                "type": "heatmap"
                                            }
                                        ],
                                        "histogram": [
                                            {
                                                "marker": {
                                                    "pattern": {
                                                        "fillmode": "overlay",
                                                        "size": 10,
                                                        "solidity": 0.2
                                                    }
                                                },
                                                "type": "histogram"
                                            }
                                        ],
                                        "histogram2d": [
                                            {
                                                "colorbar": {
                                                    "outlinewidth": 0,
                                                    "ticks": ""
                                                },
                                                "colorscale": [
                                                    [
                                                        0,
                                                        "#0d0887"
                                                    ],
                                                    [
                                                        0.1111111111111111,
                                                        "#46039f"
                                                    ],
                                                    [
                                                        0.2222222222222222,
                                                        "#7201a8"
                                                    ],
                                                    [
                                                        0.3333333333333333,
                                                        "#9c179e"
                                                    ],
                                                    [
                                                        0.4444444444444444,
                                                        "#bd3786"
                                                    ],
                                                    [
                                                        0.5555555555555556,
                                                        "#d8576b"
                                                    ],
                                                    [
                                                        0.6666666666666666,
                                                        "#ed7953"
                                                    ],
                                                    [
                                                        0.7777777777777778,
                                                        "#fb9f3a"
                                                    ],
                                                    [
                                                        0.8888888888888888,
                                                        "#fdca26"
                                                    ],
                                                    [
                                                        1,
                                                        "#f0f921"
                                                    ]
                                                ],
                                                "type": "histogram2d"
                                            }
                                        ],
                                        "histogram2dcontour": [
                                            {
                                                "colorbar": {
                                                    "outlinewidth": 0,
                                                    "ticks": ""
                                                },
                                                "colorscale": [
                                                    [
                                                        0,
                                                        "#0d0887"
                                                    ],
                                                    [
                                                        0.1111111111111111,
                                                        "#46039f"
                                                    ],
                                                    [
                                                        0.2222222222222222,
                                                        "#7201a8"
                                                    ],
                                                    [
                                                        0.3333333333333333,
                                                        "#9c179e"
                                                    ],
                                                    [
                                                        0.4444444444444444,
                                                        "#bd3786"
                                                    ],
                                                    [
                                                        0.5555555555555556,
                                                        "#d8576b"
                                                    ],
                                                    [
                                                        0.6666666666666666,
                                                        "#ed7953"
                                                    ],
                                                    [
                                                        0.7777777777777778,
                                                        "#fb9f3a"
                                                    ],
                                                    [
                                                        0.8888888888888888,
                                                        "#fdca26"
                                                    ],
                                                    [
                                                        1,
                                                        "#f0f921"
                                                    ]
                                                ],
                                                "type": "histogram2dcontour"
                                            }
                                        ],
                                        "mesh3d": [
                                            {
                                                "colorbar": {
                                                    "outlinewidth": 0,
                                                    "ticks": ""
                                                },
                                                "type": "mesh3d"
                                            }
                                        ],
                                        "parcoords": [
                                            {
                                                "line": {
                                                    "colorbar": {
                                                        "outlinewidth": 0,
                                                        "ticks": ""
                                                    }
                                                },
                                                "type": "parcoords"
                                            }
                                        ],
                                        "pie": [
                                            {
                                                "automargin": true,
                                                "type": "pie"
                                            }
                                        ],
                                        "scatter": [
                                            {
                                                "fillpattern": {
                                                    "fillmode": "overlay",
                                                    "size": 10,
                                                    "solidity": 0.2
                                                },
                                                "type": "scatter"
                                            }
                                        ],
                                        "scatter3d": [
                                            {
                                                "line": {
                                                    "colorbar": {
                                                        "outlinewidth": 0,
                                                        "ticks": ""
                                                    }
                                                },
                                                "marker": {
                                                    "colorbar": {
                                                        "outlinewidth": 0,
                                                        "ticks": ""
                                                    }
                                                },
                                                "type": "scatter3d"
                                            }
                                        ],
                                        "scattercarpet": [
                                            {
                                                "marker": {
                                                    "colorbar": {
                                                        "outlinewidth": 0,
                                                        "ticks": ""
                                                    }
                                                },
                                                "type": "scattercarpet"
                                            }
                                        ],
                                        "scattergeo": [
                                            {
                                                "marker": {
                                                    "colorbar": {
                                                        "outlinewidth": 0,
                                                        "ticks": ""
                                                    }
                                                },
                                                "type": "scattergeo"
                                            }
                                        ],
                                        "scattergl": [
                                            {
                                                "marker": {
                                                    "colorbar": {
                                                        "outlinewidth": 0,
                                                        "ticks": ""
                                                    }
                                                },
                                                "type": "scattergl"
                                            }
                                        ],
                                        "scattermap": [
                                            {
                                                "marker": {
                                                    "colorbar": {
                                                        "outlinewidth": 0,
                                                        "ticks": ""
                                                    }
                                                },
                                                "type": "scattermap"
                                            }
                                        ],
                                        "scattermapbox": [
                                            {
                                                "marker": {
                                                    "colorbar": {
                                                        "outlinewidth": 0,
                                                        "ticks": ""
                                                    }
                                                },
                                                "type": "scattermapbox"
                                            }
                                        ],
                                        "scatterpolar": [
                                            {
                                                "marker": {
                                                    "colorbar": {
                                                        "outlinewidth": 0,
                                                        "ticks": ""
                                                    }
                                                },
                                                "type": "scatterpolar"
                                            }
                                        ],
                                        "scatterpolargl": [
                                            {
                                                "marker": {
                                                    "colorbar": {
                                                        "outlinewidth": 0,
                                                        "ticks": ""
                                                    }
                                                },
                                                "type": "scatterpolargl"
                                            }
                                        ],
                                        "scatterternary": [
                                            {
                                                "marker": {
                                                    "colorbar": {
                                                        "outlinewidth": 0,
                                                        "ticks": ""
                                                    }
                                                },
                                                "type": "scatterternary"
                                            }
                                        ],
                                        "surface": [
                                            {
                                                "colorbar": {
                                                    "outlinewidth": 0,
                                                    "ticks": ""
                                                },
                                                "colorscale": [
                                                    [
                                                        0,
                                                        "#0d0887"
                                                    ],
                                                    [
                                                        0.1111111111111111,
                                                        "#46039f"
                                                    ],
                                                    [
                                                        0.2222222222222222,
                                                        "#7201a8"
                                                    ],
                                                    [
                                                        0.3333333333333333,
                                                        "#9c179e"
                                                    ],
                                                    [
                                                        0.4444444444444444,
                                                        "#bd3786"
                                                    ],
                                                    [
                                                        0.5555555555555556,
                                                        "#d8576b"
                                                    ],
                                                    [
                                                        0.6666666666666666,
                                                        "#ed7953"
                                                    ],
                                                    [
                                                        0.7777777777777778,
                                                        "#fb9f3a"
                                                    ],
                                                    [
                                                        0.8888888888888888,
                                                        "#fdca26"
                                                    ],
                                                    [
                                                        1,
                                                        "#f0f921"
                                                    ]
                                                ],
                                                "type": "surface"
                                            }
                                        ],
                                        "table": [
                                            {
                                                "cells": {
                                                    "fill": {
                                                        "color": "#EBF0F8"
                                                    },
                                                    "line": {
                                                        "color": "white"
                                                    }
                                                },
                                                "header": {
                                                    "fill": {
                                                        "color": "#C8D4E3"
                                                    },
                                                    "line": {
                                                        "color": "white"
                                                    }
                                                },
                                                "type": "table"
                                            }
                                        ]
                                    },
                                    "layout": {
                                        "annotationdefaults": {
                                            "arrowcolor": "#2a3f5f",
                                            "arrowhead": 0,
                                            "arrowwidth": 1
                                        },
                                        "autotypenumbers": "strict",
                                        "coloraxis": {
                                            "colorbar": {
                                                "outlinewidth": 0,
                                                "ticks": ""
                                            }
                                        },
                                        "colorscale": {
                                            "diverging": [
                                                [
                                                    0,
                                                    "#8e0152"
                                                ],
                                                [
                                                    0.1,
                                                    "#c51b7d"
                                                ],
                                                [
                                                    0.2,
                                                    "#de77ae"
                                                ],
                                                [
                                                    0.3,
                                                    "#f1b6da"
                                                ],
                                                [
                                                    0.4,
                                                    "#fde0ef"
                                                ],
                                                [
                                                    0.5,
                                                    "#f7f7f7"
                                                ],
                                                [
                                                    0.6,
                                                    "#e6f5d0"
                                                ],
                                                [
                                                    0.7,
                                                    "#b8e186"
                                                ],
                                                [
                                                    0.8,
                                                    "#7fbc41"
                                                ],
                                                [
                                                    0.9,
                                                    "#4d9221"
                                                ],
                                                [
                                                    1,
                                                    "#276419"
                                                ]
                                            ],
                                            "sequential": [
                                                [
                                                    0,
                                                    "#0d0887"
                                                ],
                                                [
                                                    0.1111111111111111,
                                                    "#46039f"
                                                ],
                                                [
                                                    0.2222222222222222,
                                                    "#7201a8"
                                                ],
                                                [
                                                    0.3333333333333333,
                                                    "#9c179e"
                                                ],
                                                [
                                                    0.4444444444444444,
                                                    "#bd3786"
                                                ],
                                                [
                                                    0.5555555555555556,
                                                    "#d8576b"
                                                ],
                                                [
                                                    0.6666666666666666,
                                                    "#ed7953"
                                                ],
                                                [
                                                    0.7777777777777778,
                                                    "#fb9f3a"
                                                ],
                                                [
                                                    0.8888888888888888,
                                                    "#fdca26"
                                                ],
                                                [
                                                    1,
                                                    "#f0f921"
                                                ]
                                            ],
                                            "sequentialminus": [
                                                [
                                                    0,
                                                    "#0d0887"
                                                ],
                                                [
                                                    0.1111111111111111,
                                                    "#46039f"
                                                ],
                                                [
                                                    0.2222222222222222,
                                                    "#7201a8"
                                                ],
                                                [
                                                    0.3333333333333333,
                                                    "#9c179e"
                                                ],
                                                [
                                                    0.4444444444444444,
                                                    "#bd3786"
                                                ],
                                                [
                                                    0.5555555555555556,
                                                    "#d8576b"
                                                ],
                                                [
                                                    0.6666666666666666,
                                                    "#ed7953"
                                                ],
                                                [
                                                    0.7777777777777778,
                                                    "#fb9f3a"
                                                ],
                                                [
                                                    0.8888888888888888,
                                                    "#fdca26"
                                                ],
                                                [
                                                    1,
                                                    "#f0f921"
                                                ]
                                            ]
                                        },
                                        "colorway": [
                                            "#636efa",
                                            "#EF553B",
                                            "#00cc96",
                                            "#ab63fa",
                                            "#FFA15A",
                                            "#19d3f3",
                                            "#FF6692",
                                            "#B6E880",
                                            "#FF97FF",
                                            "#FECB52"
                                        ],
                                        "font": {
                                            "color": "#2a3f5f"
                                        },
                                        "geo": {
                                            "bgcolor": "white",
                                            "lakecolor": "white",
                                            "landcolor": "#E5ECF6",
                                            "showlakes": true,
                                            "showland": true,
                                            "subunitcolor": "white"
                                        },
                                        "hoverlabel": {
                                            "align": "left"
                                        },
                                        "hovermode": "closest",
                                        "mapbox": {
                                            "style": "light"
                                        },
                                        "paper_bgcolor": "white",
                                        "plot_bgcolor": "#E5ECF6",
                                        "polar": {
                                            "angularaxis": {
                                                "gridcolor": "white",
                                                "linecolor": "white",
                                                "ticks": ""
                                            },
                                            "bgcolor": "#E5ECF6",
                                            "radialaxis": {
                                                "gridcolor": "white",
                                                "linecolor": "white",
                                                "ticks": ""
                                            }
                                        },
                                        "scene": {
                                            "xaxis": {
                                                "backgroundcolor": "#E5ECF6",
                                                "gridcolor": "white",
                                                "gridwidth": 2,
                                                "linecolor": "white",
                                                "showbackground": true,
                                                "ticks": "",
                                                "zerolinecolor": "white"
                                            },
                                            "yaxis": {
                                                "backgroundcolor": "#E5ECF6",
                                                "gridcolor": "white",
                                                "gridwidth": 2,
                                                "linecolor": "white",
                                                "showbackground": true,
                                                "ticks": "",
                                                "zerolinecolor": "white"
                                            },
                                            "zaxis": {
                                                "backgroundcolor": "#E5ECF6",
                                                "gridcolor": "white",
                                                "gridwidth": 2,
                                                "linecolor": "white",
                                                "showbackground": true,
                                                "ticks": "",
                                                "zerolinecolor": "white"
                                            }
                                        },
                                        "shapedefaults": {
                                            "line": {
                                                "color": "#2a3f5f"
                                            }
                                        },
                                        "ternary": {
                                            "aaxis": {
                                                "gridcolor": "white",
                                                "linecolor": "white",
                                                "ticks": ""
                                            },
                                            "baxis": {
                                                "gridcolor": "white",
                                                "linecolor": "white",
                                                "ticks": ""
                                            },
                                            "bgcolor": "#E5ECF6",
                                            "caxis": {
                                                "gridcolor": "white",
                                                "linecolor": "white",
                                                "ticks": ""
                                            }
                                        },
                                        "title": {
                                            "x": 0.05
                                        },
                                        "xaxis": {
                                            "automargin": true,
                                            "gridcolor": "white",
                                            "linecolor": "white",
                                            "ticks": "",
                                            "title": {
                                                "standoff": 15
                                            },
                                            "zerolinecolor": "white",
                                            "zerolinewidth": 2
                                        },
                                        "yaxis": {
                                            "automargin": true,
                                            "gridcolor": "white",
                                            "linecolor": "white",
                                            "ticks": "",
                                            "title": {
                                                "standoff": 15
                                            },
                                            "zerolinecolor": "white",
                                            "zerolinewidth": 2
                                        }
                                    }
                                },
                                "title": {
                                    "text": "Sequence"
                                },
                                "width": 600,
                                "xaxis": {
                                    "anchor": "y",
                                    "domain": [
                                        0,
                                        1
                                    ],
                                    "matches": "x10",
                                    "showticklabels": false
                                },
                                "xaxis10": {
                                    "anchor": "y10",
                                    "domain": [
                                        0,
                                        1
                                    ],
                                    "title": {
                                        "text": "time/ns"
                                    }
                                },
                                "xaxis2": {
                                    "anchor": "y2",
                                    "domain": [
                                        0,
                                        1
                                    ],
                                    "matches": "x10",
                                    "showticklabels": false
                                },
                                "xaxis3": {
                                    "anchor": "y3",
                                    "domain": [
                                        0,
                                        1
                                    ],
                                    "matches": "x10",
                                    "showticklabels": false
                                },
                                "xaxis4": {
                                    "anchor": "y4",
                                    "domain": [
                                        0,
                                        1
                                    ],
                                    "matches": "x10",
                                    "showticklabels": false
                                },
                                "xaxis5": {
                                    "anchor": "y5",
                                    "domain": [
                                        0,
                                        1
                                    ],
                                    "matches": "x10",
                                    "showticklabels": false
                                },
                                "xaxis6": {
                                    "anchor": "y6",
                                    "domain": [
                                        0,
                                        1
                                    ],
                                    "matches": "x10",
                                    "showticklabels": false
                                },
                                "xaxis7": {
                                    "anchor": "y7",
                                    "domain": [
                                        0,
                                        1
                                    ],
                                    "matches": "x10",
                                    "showticklabels": false
                                },
                                "xaxis8": {
                                    "anchor": "y8",
                                    "domain": [
                                        0,
                                        1
                                    ],
                                    "matches": "x10",
                                    "showticklabels": false
                                },
                                "xaxis9": {
                                    "anchor": "y9",
                                    "domain": [
                                        0,
                                        1
                                    ],
                                    "matches": "x10",
                                    "showticklabels": false
                                },
                                "yaxis": {
                                    "anchor": "x",
                                    "domain": [
                                        0.9179999999999999,
                                        0.9999999999999999
                                    ],
                                    "range": [
                                        -1.5,
                                        1.5
                                    ],
                                    "tickfont": {
                                        "size": 6
                                    },
                                    "title": {
                                        "text": "A1"
                                    }
                                },
                                "yaxis10": {
                                    "anchor": "x10",
                                    "domain": [
                                        0,
                                        0.082
                                    ],
                                    "range": [
                                        -0.4,
                                        1.4
                                    ],
                                    "showticklabels": false,
                                    "title": {
                                        "text": "D0<br>laser"
                                    }
                                },
                                "yaxis2": {
                                    "anchor": "x2",
                                    "domain": [
                                        0.8160000000000001,
                                        0.898
                                    ],
                                    "range": [
                                        -1.5,
                                        1.5
                                    ],
                                    "tickfont": {
                                        "size": 6
                                    },
                                    "title": {
                                        "text": "A0"
                                    }
                                },
                                "yaxis3": {
                                    "anchor": "x3",
                                    "domain": [
                                        0.7140000000000001,
                                        0.796
                                    ],
                                    "range": [
                                        -0.4,
                                        1.4
                                    ],
                                    "showticklabels": false,
                                    "title": {
                                        "text": "D7<br>WDF"
                                    }
                                },
                                "yaxis4": {
                                    "anchor": "x4",
                                    "domain": [
                                        0.6120000000000001,
                                        0.6940000000000001
                                    ],
                                    "range": [
                                        -0.4,
                                        1.4
                                    ],
                                    "showticklabels": false,
                                    "title": {
                                        "text": "D6<br>rftrig"
                                    }
                                },
                                "yaxis5": {
                                    "anchor": "x5",
                                    "domain": [
                                        0.51,
                                        0.592
                                    ],
                                    "range": [
                                        -0.4,
                                        1.4
                                    ],
                                    "showticklabels": false,
                                    "title": {
                                        "text": "D5<br>mwB"
                                    }
                                },
                                "yaxis6": {
                                    "anchor": "x6",
                                    "domain": [
                                        0.40800000000000003,
                                        0.49000000000000005
                                    ],
                                    "range": [
                                        -0.4,
                                        1.4
                                    ],
                                    "showticklabels": false,
                                    "title": {
                                        "text": "D4<br>mwA"
                                    }
                                },
                                "yaxis7": {
                                    "anchor": "x7",
                                    "domain": [
                                        0.306,
                                        0.388
                                    ],
                                    "range": [
                                        -0.4,
                                        1.4
                                    ],
                                    "showticklabels": false,
                                    "title": {
                                        "text": "D3<br>sdtrig"
                                    }
                                },
                                "yaxis8": {
                                    "anchor": "x8",
                                    "domain": [
                                        0.20400000000000001,
                                        0.28600000000000003
                                    ],
                                    "range": [
                                        -0.4,
                                        1.4
                                    ],
                                    "showticklabels": false,
                                    "title": {
                                        "text": "D2<br>dtrig"
                                    }
                                },
                                "yaxis9": {
                                    "anchor": "x9",
                                    "domain": [
                                        0.10200000000000001,
                                        0.184
                                    ],
                                    "range": [
                                        -0.4,
                                        1.4
                                    ],
                                    "showticklabels": false,
                                    "title": {
                                        "text": "D1<br>dclk"
                                    }
                                }
                            }
                        }
                    },
                    "metadata": {},
                    "output_type": "display_data"
                }
            ],
            "source": [
                "ps.reset()\n",
                "ps.setDigital(\"laser\", seq_laser)\n",
                "# ps.setDigital(\"mwA\", seq_mw)\n",
                "ps.setDigital(\"sdtrig\", seq_sdtrig)\n",
                "ps.setDigital(\"mwB\", seq_mwB)\n",
                "ps.plotSeq()"
            ]
        },
        {
            "cell_type": "code",
            "execution_count": 6,
            "metadata": {},
            "outputs": [],
            "source": [
                "ps.setTrigger(TriggerStart.SOFTWARE, rearm=TriggerRearm.AUTO)\n",
                "ps.stream(n_runs=REPEAT_INFINITELY)"
            ]
        },
        {
            "cell_type": "markdown",
            "metadata": {},
            "source": [
                "## Data Acquisition with Digitizer\n"
            ]
        },
        {
            "cell_type": "code",
            "execution_count": 7,
            "metadata": {},
            "outputs": [],
            "source": [
                "# min_volt = -0.002 # [V]\n",
                "# max_volt = 0.010 # [V]\n",
                "rate_refresh = 10 # Hz rate of refreshing the data streaming\n",
                "amp_input = 1000\n",
                "readout_ch = hcf.SIDIG_chmap[\"apd\"]\n",
                "num_segment = int(2/rate_refresh*1e9/t_seq)//32*32\n",
                "\n",
                "# configures the readout to match the pulse sequence  \n",
                "pretrig_size=int((t_wait/2)*hcf.SIDIG_maxsr/1E9)//64*64 # pretrigger based on the t_wait time\n",
                "posttrig_size=int((t_laser+t_isc)*hcf.SIDIG_maxsr/1E9)//64*64 # posttrigger based on the t_laser time and t_isc\n",
                "segment_size = pretrig_size+posttrig_size \n",
                "segment_size = 2**int(np.log2(segment_size)+1) # make it power of 2\n",
                "posttrig_size = segment_size-pretrig_size # recalculate posttrigger size to ensure it is power of 2"
            ]
        },
        {
            "cell_type": "code",
            "execution_count": 8,
            "metadata": {},
            "outputs": [
                {
                    "name": "stdout",
                    "output_type": "stream",
                    "text": [
                        "64\n",
                        "1984\n",
                        "2048\n",
                        "1984\n",
                        "18240\n"
                    ]
                }
            ],
            "source": [
                "print(pretrig_size)\n",
                "print(posttrig_size)\n",
                "print(segment_size)\n",
                "print(posttrig_size)\n",
                "print(num_segment)"
            ]
        },
        {
            "cell_type": "code",
            "execution_count": 9,
            "metadata": {},
            "outputs": [
                {
                    "data": {
                        "text/plain": [
                            "2500"
                        ]
                    },
                    "execution_count": 9,
                    "metadata": {},
                    "output_type": "execute_result"
                }
            ],
            "source": [
                "t_laser"
            ]
        },
        {
            "cell_type": "code",
            "execution_count": 10,
            "metadata": {},
            "outputs": [
                {
                    "data": {
                        "text/plain": [
                            "10"
                        ]
                    },
                    "execution_count": 10,
                    "metadata": {},
                    "output_type": "execute_result"
                }
            ],
            "source": [
                "rate_refresh"
            ]
        },
        {
            "cell_type": "code",
            "execution_count": 11,
            "metadata": {},
            "outputs": [
                {
                    "data": {
                        "text/plain": [
                            "500"
                        ]
                    },
                    "execution_count": 11,
                    "metadata": {},
                    "output_type": "execute_result"
                }
            ],
            "source": [
                "t_wait"
            ]
        },
        {
            "cell_type": "code",
            "execution_count": 12,
            "metadata": {},
            "outputs": [
                {
                    "data": {
                        "text/plain": [
                            "10960"
                        ]
                    },
                    "execution_count": 12,
                    "metadata": {},
                    "output_type": "execute_result"
                }
            ],
            "source": [
                "t_seq"
            ]
        },
        {
            "cell_type": "code",
            "execution_count": 13,
            "metadata": {},
            "outputs": [
                {
                    "data": {
                        "text/plain": [
                            "200000000.0"
                        ]
                    },
                    "execution_count": 13,
                    "metadata": {},
                    "output_type": "execute_result"
                }
            ],
            "source": [
                "2/rate_refresh*1e9"
            ]
        },
        {
            "cell_type": "code",
            "execution_count": 14,
            "metadata": {},
            "outputs": [
                {
                    "data": {
                        "text/plain": [
                            "912408.7591240876"
                        ]
                    },
                    "execution_count": 14,
                    "metadata": {},
                    "output_type": "execute_result"
                }
            ],
            "source": [
                "rate_refresh*1e9/t_seq"
            ]
        },
        {
            "cell_type": "code",
            "execution_count": 15,
            "metadata": {},
            "outputs": [
                {
                    "data": {
                        "text/plain": [
                            "18240"
                        ]
                    },
                    "execution_count": 15,
                    "metadata": {},
                    "output_type": "execute_result"
                }
            ],
            "source": [
                "int(2/rate_refresh*1e9/t_seq)//32*32"
            ]
        },
        {
            "cell_type": "code",
            "execution_count": 16,
            "metadata": {},
            "outputs": [],
            "source": [
                "# To set the configuration, make a dictionary with the key and value\n",
                "dig.reset_param()\n",
                "dig.assign_param(dict(\n",
                "             readout_ch=readout_ch, \n",
                "             amp_input=amp_input, \n",
                "             num_segment=num_segment,\n",
                "             pretrig_size=pretrig_size,\n",
                "             posttrig_size=posttrig_size,\n",
                "             segment_size=segment_size,\n",
                "             terminate_input=TERMIN_INPUT_1MOHM,\n",
                "            #  terminate_input=TERMIN_INPUT_50OHM,\n",
                "             ))\n"
            ]
        },
        {
            "cell_type": "code",
            "execution_count": 17,
            "metadata": {},
            "outputs": [
                {
                    "data": {
                        "text/plain": [
                            "10960"
                        ]
                    },
                    "execution_count": 17,
                    "metadata": {},
                    "output_type": "execute_result"
                }
            ],
            "source": [
                "t_seq"
            ]
        },
        {
            "cell_type": "code",
            "execution_count": 18,
            "metadata": {},
            "outputs": [
                {
                    "data": {
                        "text/plain": [
                            "2048"
                        ]
                    },
                    "execution_count": 18,
                    "metadata": {},
                    "output_type": "execute_result"
                }
            ],
            "source": [
                "segment_size"
            ]
        },
        {
            "cell_type": "markdown",
            "metadata": {},
            "source": [
                "## Set up MW Frequency, Power and Phase"
            ]
        },
        {
            "cell_type": "code",
            "execution_count": 19,
            "metadata": {},
            "outputs": [
                {
                    "name": "stdout",
                    "output_type": "stream",
                    "text": [
                        "CW Freqeuncy Setting Sent:16.606408333333334 GHz\n",
                        "Actual Output CW Freqeuncy :16.606408338993788 GHz\n"
                    ]
                }
            ],
            "source": [
                "# set MW frequency =====================================================\n",
                "f_NVguess = 398.546708\n",
                "f_NVguess = 398.5538\n",
                "# f_NVguess = 392.845\n",
                "# f_NVguess = 398.555\n",
                "freq = f_NVguess/24.0\n",
                "\n",
                "errorbyte, freq_actual = mwsyn.cw_frequency(freq)\n",
                "print(f\"CW Freqeuncy Setting Sent:{freq} GHz\")\n",
                "print(f\"Actual Output CW Freqeuncy :{freq_actual} GHz\")"
            ]
        },
        {
            "cell_type": "code",
            "execution_count": 20,
            "metadata": {},
            "outputs": [
                {
                    "data": {
                        "text/plain": [
                            "1"
                        ]
                    },
                    "execution_count": 20,
                    "metadata": {},
                    "output_type": "execute_result"
                }
            ],
            "source": [
                "# set MW power =====================================================\n",
                "mwpower_vlevel = 5.0 # 5V equals to max power\n",
                "task_uca = nidaqmx.Task(\"UCA\") # user controlled attenuation\n",
                "task_uca.ao_channels.add_ao_voltage_chan(hcf.NI_ch_UCA, min_val=0, max_val=10)\n",
                "# task_uca.timing.cfg_samp_clk_timing(hcf.NI_sampling_max/100.0, sample_mode=AcquisitionType.CONTINUOUS)\n",
                "task_uca.start()\n",
                "task_uca.write([mwpower_vlevel], auto_start=False)\n",
                "# task_uca.stop()\n",
                "# task_uca.close()"
            ]
        },
        {
            "cell_type": "code",
            "execution_count": 21,
            "metadata": {},
            "outputs": [
                {
                    "data": {
                        "text/plain": [
                            "1"
                        ]
                    },
                    "execution_count": 21,
                    "metadata": {},
                    "output_type": "execute_result"
                }
            ],
            "source": [
                "# set MW phase =====================================================\n",
                "mwphase_vlevel = 0.0 # voltage to phase shifter\n",
                "task_mwbp = nidaqmx.Task(\"MW B Phase\") # user controlled attenuation\n",
                "task_mwbp.ao_channels.add_ao_voltage_chan(hcf.NI_ch_MWBP, min_val=0, max_val=10)\n",
                "# task_uca.timing.cfg_samp_clk_timing(hcf.NI_sampling_max/100.0, sample_mode=AcquisitionType.CONTINUOUS)\n",
                "task_mwbp.start()\n",
                "task_mwbp.write([mwphase_vlevel], auto_start=False)\n",
                "# task_uca.stop()\n",
                "# task_uca.close()"
            ]
        },
        {
            "cell_type": "markdown",
            "metadata": {},
            "source": [
                "## Set Laser Diode Current"
            ]
        },
        {
            "cell_type": "code",
            "execution_count": 22,
            "metadata": {},
            "outputs": [],
            "source": [
                "laser_curent = 35.01  #percent\n",
                "laser.laser_off()\n",
                "laser.set_analog_control_mode(\"current\")\n",
                "laser.set_modulation_state(\"Pulsed\")\n",
                "laser.set_diode_current(laser_curent, save_memory=False)\n",
                "laser.laser_on() # turn on laser"
            ]
        },
        {
            "cell_type": "markdown",
            "metadata": {},
            "source": [
                "## Start Measurement"
            ]
        },
        {
            "cell_type": "code",
            "execution_count": 23,
            "metadata": {},
            "outputs": [
                {
                    "name": "stdout",
                    "output_type": "stream",
                    "text": [
                        "Card stopped\n"
                    ]
                }
            ],
            "source": [
                "dig.set_config()\n",
                "dig.start_buffer()\n",
                "ps.startNow()\n",
                "time_stop = 1\n",
                "time_start = time.time()\n",
                "data_buffer_mw_off = np.zeros((segment_size))\n",
                "data_buffer_mw_on = np.zeros((segment_size))\n",
                "num_repeat = 0\n",
                "while time.time()-time_start < time_stop:\n",
                "    rawraw = dig.stream()\n",
                "    if rawraw is not None:\n",
                "        num_segs = np.shape(rawraw)[0]\n",
                "        assert num_segs % 2 == 0\n",
                "        rawraw_mw_off = rawraw[0::2, :, :]\n",
                "        rawraw_mw_on = rawraw[1::2, :, :]\n",
                "        data_buffer_mw_off += np.ravel(np.sum(rawraw_mw_off, axis=0))\n",
                "        data_buffer_mw_on += np.ravel(np.sum(rawraw_mw_on, axis=0))\n",
                "        num_repeat += num_segs//2\n",
                "    # print(data_buffer)\n",
                "    # print(data_buffer.shape)\n",
                "data_buffer_mw_off = data_buffer_mw_off/num_repeat\n",
                "data_buffer_mw_on = data_buffer_mw_on/num_repeat\n",
                "laser.laser_off()\n",
                "dig.stop_card()\n",
                "# dig.reset()\n",
                "ps.forceFinal()\n",
                "ps.reset()\n",
                "\n",
                "# close all NI tasks\n",
                "\n",
                "task_uca.stop()\n",
                "task_uca.close()\n",
                "task_mwbp.stop()\n",
                "task_mwbp.close()\n"
            ]
        },
        {
            "cell_type": "code",
            "execution_count": 24,
            "metadata": {},
            "outputs": [
                {
                    "data": {
                        "image/png": "[encoded data removed]",
                        "text/plain": [
                            "<Figure size 640x480 with 1 Axes>"
                        ]
                    },
                    "metadata": {},
                    "output_type": "display_data"
                }
            ],
            "source": [
                "import matplotlib.pyplot as plt\n",
                "tt = np.arange(-pretrig_size*hcf.SIDIG_timebase, posttrig_size*hcf.SIDIG_timebase, hcf.SIDIG_timebase)\n",
                "# plt.plot(tt, data_buffer/12a8*1000)\n",
                "plt.plot(tt, data_buffer_mw_off*1000)\n",
                "plt.plot(tt, data_buffer_mw_on*1000)\n",
                "plt.xlabel(\"Time [ns]\")\n",
                "plt.ylabel(\"APD level[mV]\")\n",
                "plt.show()"
            ]
        },
        {
            "cell_type": "code",
            "execution_count": 25,
            "metadata": {},
            "outputs": [
                {
                    "data": {
                        "application/vnd.plotly.v1+json": {
                            "config": {
                                "plotlyServerURL": "https://plot.ly"
                            },
                            "data": [
                                {
                                    "mode": "lines",
                                    "name": "mw_off Signal",
                                    "type": "scatter",
                                    "x": {
                                        "bdata": "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",
                                        "dtype": "i4"
                                    },
                                    "y": {
                                        "bdata": "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",
                                        "dtype": "f8"
                                    }
                                },
                                {
                                    "mode": "lines",
                                    "name": "mw_on Signal",
                                    "type": "scatter",
                                    "x": {
                                        "bdata": "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",
                                        "dtype": "i4"
                                    },
                                    "y": {
                                        "bdata": "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",
                                        "dtype": "f8"
                                    }
                                },
                                {
                                    "mode": "lines",
                                    "name": "Diff",
                                    "type": "scatter",
                                    "x": {
                                        "bdata": "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",
                                        "dtype": "i4"
                                    },
                                    "y": {
                                        "bdata": "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",
                                        "dtype": "f8"
                                    }
                                }
                            ],
                            "layout": {
                                "legend": {
                                    "x": 0,
                                    "y": 1
                                },
                                "template": {
                                    "data": {
                                        "bar": [
                                            {
                                                "error_x": {
                                                    "color": "#2a3f5f"
                                                },
                                                "error_y": {
                                                    "color": "#2a3f5f"
                                                },
                                                "marker": {
                                                    "line": {
                                                        "color": "#E5ECF6",
                                                        "width": 0.5
                                                    },
                                                    "pattern": {
                                                        "fillmode": "overlay",
                                                        "size": 10,
                                                        "solidity": 0.2
                                                    }
                                                },
                                                "type": "bar"
                                            }
                                        ],
                                        "barpolar": [
                                            {
                                                "marker": {
                                                    "line": {
                                                        "color": "#E5ECF6",
                                                        "width": 0.5
                                                    },
                                                    "pattern": {
                                                        "fillmode": "overlay",
                                                        "size": 10,
                                                        "solidity": 0.2
                                                    }
                                                },
                                                "type": "barpolar"
                                            }
                                        ],
                                        "carpet": [
                                            {
                                                "aaxis": {
                                                    "endlinecolor": "#2a3f5f",
                                                    "gridcolor": "white",
                                                    "linecolor": "white",
                                                    "minorgridcolor": "white",
                                                    "startlinecolor": "#2a3f5f"
                                                },
                                                "baxis": {
                                                    "endlinecolor": "#2a3f5f",
                                                    "gridcolor": "white",
                                                    "linecolor": "white",
                                                    "minorgridcolor": "white",
                                                    "startlinecolor": "#2a3f5f"
                                                },
                                                "type": "carpet"
                                            }
                                        ],
                                        "choropleth": [
                                            {
                                                "colorbar": {
                                                    "outlinewidth": 0,
                                                    "ticks": ""
                                                },
                                                "type": "choropleth"
                                            }
                                        ],
                                        "contour": [
                                            {
                                                "colorbar": {
                                                    "outlinewidth": 0,
                                                    "ticks": ""
                                                },
                                                "colorscale": [
                                                    [
                                                        0,
                                                        "#0d0887"
                                                    ],
                                                    [
                                                        0.1111111111111111,
                                                        "#46039f"
                                                    ],
                                                    [
                                                        0.2222222222222222,
                                                        "#7201a8"
                                                    ],
                                                    [
                                                        0.3333333333333333,
                                                        "#9c179e"
                                                    ],
                                                    [
                                                        0.4444444444444444,
                                                        "#bd3786"
                                                    ],
                                                    [
                                                        0.5555555555555556,
                                                        "#d8576b"
                                                    ],
                                                    [
                                                        0.6666666666666666,
                                                        "#ed7953"
                                                    ],
                                                    [
                                                        0.7777777777777778,
                                                        "#fb9f3a"
                                                    ],
                                                    [
                                                        0.8888888888888888,
                                                        "#fdca26"
                                                    ],
                                                    [
                                                        1,
                                                        "#f0f921"
                                                    ]
                                                ],
                                                "type": "contour"
                                            }
                                        ],
                                        "contourcarpet": [
                                            {
                                                "colorbar": {
                                                    "outlinewidth": 0,
                                                    "ticks": ""
                                                },
                                                "type": "contourcarpet"
                                            }
                                        ],
                                        "heatmap": [
                                            {
                                                "colorbar": {
                                                    "outlinewidth": 0,
                                                    "ticks": ""
                                                },
                                                "colorscale": [
                                                    [
                                                        0,
                                                        "#0d0887"
                                                    ],
                                                    [
                                                        0.1111111111111111,
                                                        "#46039f"
                                                    ],
                                                    [
                                                        0.2222222222222222,
                                                        "#7201a8"
                                                    ],
                                                    [
                                                        0.3333333333333333,
                                                        "#9c179e"
                                                    ],
                                                    [
                                                        0.4444444444444444,
                                                        "#bd3786"
                                                    ],
                                                    [
                                                        0.5555555555555556,
                                                        "#d8576b"
                                                    ],
                                                    [
                                                        0.6666666666666666,
                                                        "#ed7953"
                                                    ],
                                                    [
                                                        0.7777777777777778,
                                                        "#fb9f3a"
                                                    ],
                                                    [
                                                        0.8888888888888888,
                                                        "#fdca26"
                                                    ],
                                                    [
                                                        1,
                                                        "#f0f921"
                                                    ]
                                                ],
                                                "type": "heatmap"
                                            }
                                        ],
                                        "histogram": [
                                            {
                                                "marker": {
                                                    "pattern": {
                                                        "fillmode": "overlay",
                                                        "size": 10,
                                                        "solidity": 0.2
                                                    }
                                                },
                                                "type": "histogram"
                                            }
                                        ],
                                        "histogram2d": [
                                            {
                                                "colorbar": {
                                                    "outlinewidth": 0,
                                                    "ticks": ""
                                                },
                                                "colorscale": [
                                                    [
                                                        0,
                                                        "#0d0887"
                                                    ],
                                                    [
                                                        0.1111111111111111,
                                                        "#46039f"
                                                    ],
                                                    [
                                                        0.2222222222222222,
                                                        "#7201a8"
                                                    ],
                                                    [
                                                        0.3333333333333333,
                                                        "#9c179e"
                                                    ],
                                                    [
                                                        0.4444444444444444,
                                                        "#bd3786"
                                                    ],
                                                    [
                                                        0.5555555555555556,
                                                        "#d8576b"
                                                    ],
                                                    [
                                                        0.6666666666666666,
                                                        "#ed7953"
                                                    ],
                                                    [
                                                        0.7777777777777778,
                                                        "#fb9f3a"
                                                    ],
                                                    [
                                                        0.8888888888888888,
                                                        "#fdca26"
                                                    ],
                                                    [
                                                        1,
                                                        "#f0f921"
                                                    ]
                                                ],
                                                "type": "histogram2d"
                                            }
                                        ],
                                        "histogram2dcontour": [
                                            {
                                                "colorbar": {
                                                    "outlinewidth": 0,
                                                    "ticks": ""
                                                },
                                                "colorscale": [
                                                    [
                                                        0,
                                                        "#0d0887"
                                                    ],
                                                    [
                                                        0.1111111111111111,
                                                        "#46039f"
                                                    ],
                                                    [
                                                        0.2222222222222222,
                                                        "#7201a8"
                                                    ],
                                                    [
                                                        0.3333333333333333,
                                                        "#9c179e"
                                                    ],
                                                    [
                                                        0.4444444444444444,
                                                        "#bd3786"
                                                    ],
                                                    [
                                                        0.5555555555555556,
                                                        "#d8576b"
                                                    ],
                                                    [
                                                        0.6666666666666666,
                                                        "#ed7953"
                                                    ],
                                                    [
                                                        0.7777777777777778,
                                                        "#fb9f3a"
                                                    ],
                                                    [
                                                        0.8888888888888888,
                                                        "#fdca26"
                                                    ],
                                                    [
                                                        1,
                                                        "#f0f921"
                                                    ]
                                                ],
                                                "type": "histogram2dcontour"
                                            }
                                        ],
                                        "mesh3d": [
                                            {
                                                "colorbar": {
                                                    "outlinewidth": 0,
                                                    "ticks": ""
                                                },
                                                "type": "mesh3d"
                                            }
                                        ],
                                        "parcoords": [
                                            {
                                                "line": {
                                                    "colorbar": {
                                                        "outlinewidth": 0,
                                                        "ticks": ""
                                                    }
                                                },
                                                "type": "parcoords"
                                            }
                                        ],
                                        "pie": [
                                            {
                                                "automargin": true,
                                                "type": "pie"
                                            }
                                        ],
                                        "scatter": [
                                            {
                                                "fillpattern": {
                                                    "fillmode": "overlay",
                                                    "size": 10,
                                                    "solidity": 0.2
                                                },
                                                "type": "scatter"
                                            }
                                        ],
                                        "scatter3d": [
                                            {
                                                "line": {
                                                    "colorbar": {
                                                        "outlinewidth": 0,
                                                        "ticks": ""
                                                    }
                                                },
                                                "marker": {
                                                    "colorbar": {
                                                        "outlinewidth": 0,
                                                        "ticks": ""
                                                    }
                                                },
                                                "type": "scatter3d"
                                            }
                                        ],
                                        "scattercarpet": [
                                            {
                                                "marker": {
                                                    "colorbar": {
                                                        "outlinewidth": 0,
                                                        "ticks": ""
                                                    }
                                                },
                                                "type": "scattercarpet"
                                            }
                                        ],
                                        "scattergeo": [
                                            {
                                                "marker": {
                                                    "colorbar": {
                                                        "outlinewidth": 0,
                                                        "ticks": ""
                                                    }
                                                },
                                                "type": "scattergeo"
                                            }
                                        ],
                                        "scattergl": [
                                            {
                                                "marker": {
                                                    "colorbar": {
                                                        "outlinewidth": 0,
                                                        "ticks": ""
                                                    }
                                                },
                                                "type": "scattergl"
                                            }
                                        ],
                                        "scattermap": [
                                            {
                                                "marker": {
                                                    "colorbar": {
                                                        "outlinewidth": 0,
                                                        "ticks": ""
                                                    }
                                                },
                                                "type": "scattermap"
                                            }
                                        ],
                                        "scattermapbox": [
                                            {
                                                "marker": {
                                                    "colorbar": {
                                                        "outlinewidth": 0,
                                                        "ticks": ""
                                                    }
                                                },
                                                "type": "scattermapbox"
                                            }
                                        ],
                                        "scatterpolar": [
                                            {
                                                "marker": {
                                                    "colorbar": {
                                                        "outlinewidth": 0,
                                                        "ticks": ""
                                                    }
                                                },
                                                "type": "scatterpolar"
                                            }
                                        ],
                                        "scatterpolargl": [
                                            {
                                                "marker": {
                                                    "colorbar": {
                                                        "outlinewidth": 0,
                                                        "ticks": ""
                                                    }
                                                },
                                                "type": "scatterpolargl"
                                            }
                                        ],
                                        "scatterternary": [
                                            {
                                                "marker": {
                                                    "colorbar": {
                                                        "outlinewidth": 0,
                                                        "ticks": ""
                                                    }
                                                },
                                                "type": "scatterternary"
                                            }
                                        ],
                                        "surface": [
                                            {
                                                "colorbar": {
                                                    "outlinewidth": 0,
                                                    "ticks": ""
                                                },
                                                "colorscale": [
                                                    [
                                                        0,
                                                        "#0d0887"
                                                    ],
                                                    [
                                                        0.1111111111111111,
                                                        "#46039f"
                                                    ],
                                                    [
                                                        0.2222222222222222,
                                                        "#7201a8"
                                                    ],
                                                    [
                                                        0.3333333333333333,
                                                        "#9c179e"
                                                    ],
                                                    [
                                                        0.4444444444444444,
                                                        "#bd3786"
                                                    ],
                                                    [
                                                        0.5555555555555556,
                                                        "#d8576b"
                                                    ],
                                                    [
                                                        0.6666666666666666,
                                                        "#ed7953"
                                                    ],
                                                    [
                                                        0.7777777777777778,
                                                        "#fb9f3a"
                                                    ],
                                                    [
                                                        0.8888888888888888,
                                                        "#fdca26"
                                                    ],
                                                    [
                                                        1,
                                                        "#f0f921"
                                                    ]
                                                ],
                                                "type": "surface"
                                            }
                                        ],
                                        "table": [
                                            {
                                                "cells": {
                                                    "fill": {
                                                        "color": "#EBF0F8"
                                                    },
                                                    "line": {
                                                        "color": "white"
                                                    }
                                                },
                                                "header": {
                                                    "fill": {
                                                        "color": "#C8D4E3"
                                                    },
                                                    "line": {
                                                        "color": "white"
                                                    }
                                                },
                                                "type": "table"
                                            }
                                        ]
                                    },
                                    "layout": {
                                        "annotationdefaults": {
                                            "arrowcolor": "#2a3f5f",
                                            "arrowhead": 0,
                                            "arrowwidth": 1
                                        },
                                        "autotypenumbers": "strict",
                                        "coloraxis": {
                                            "colorbar": {
                                                "outlinewidth": 0,
                                                "ticks": ""
                                            }
                                        },
                                        "colorscale": {
                                            "diverging": [
                                                [
                                                    0,
                                                    "#8e0152"
                                                ],
                                                [
                                                    0.1,
                                                    "#c51b7d"
                                                ],
                                                [
                                                    0.2,
                                                    "#de77ae"
                                                ],
                                                [
                                                    0.3,
                                                    "#f1b6da"
                                                ],
                                                [
                                                    0.4,
                                                    "#fde0ef"
                                                ],
                                                [
                                                    0.5,
                                                    "#f7f7f7"
                                                ],
                                                [
                                                    0.6,
                                                    "#e6f5d0"
                                                ],
                                                [
                                                    0.7,
                                                    "#b8e186"
                                                ],
                                                [
                                                    0.8,
                                                    "#7fbc41"
                                                ],
                                                [
                                                    0.9,
                                                    "#4d9221"
                                                ],
                                                [
                                                    1,
                                                    "#276419"
                                                ]
                                            ],
                                            "sequential": [
                                                [
                                                    0,
                                                    "#0d0887"
                                                ],
                                                [
                                                    0.1111111111111111,
                                                    "#46039f"
                                                ],
                                                [
                                                    0.2222222222222222,
                                                    "#7201a8"
                                                ],
                                                [
                                                    0.3333333333333333,
                                                    "#9c179e"
                                                ],
                                                [
                                                    0.4444444444444444,
                                                    "#bd3786"
                                                ],
                                                [
                                                    0.5555555555555556,
                                                    "#d8576b"
                                                ],
                                                [
                                                    0.6666666666666666,
                                                    "#ed7953"
                                                ],
                                                [
                                                    0.7777777777777778,
                                                    "#fb9f3a"
                                                ],
                                                [
                                                    0.8888888888888888,
                                                    "#fdca26"
                                                ],
                                                [
                                                    1,
                                                    "#f0f921"
                                                ]
                                            ],
                                            "sequentialminus": [
                                                [
                                                    0,
                                                    "#0d0887"
                                                ],
                                                [
                                                    0.1111111111111111,
                                                    "#46039f"
                                                ],
                                                [
                                                    0.2222222222222222,
                                                    "#7201a8"
                                                ],
                                                [
                                                    0.3333333333333333,
                                                    "#9c179e"
                                                ],
                                                [
                                                    0.4444444444444444,
                                                    "#bd3786"
                                                ],
                                                [
                                                    0.5555555555555556,
                                                    "#d8576b"
                                                ],
                                                [
                                                    0.6666666666666666,
                                                    "#ed7953"
                                                ],
                                                [
                                                    0.7777777777777778,
                                                    "#fb9f3a"
                                                ],
                                                [
                                                    0.8888888888888888,
                                                    "#fdca26"
                                                ],
                                                [
                                                    1,
                                                    "#f0f921"
                                                ]
                                            ]
                                        },
                                        "colorway": [
                                            "#636efa",
                                            "#EF553B",
                                            "#00cc96",
                                            "#ab63fa",
                                            "#FFA15A",
                                            "#19d3f3",
                                            "#FF6692",
                                            "#B6E880",
                                            "#FF97FF",
                                            "#FECB52"
                                        ],
                                        "font": {
                                            "color": "#2a3f5f"
                                        },
                                        "geo": {
                                            "bgcolor": "white",
                                            "lakecolor": "white",
                                            "landcolor": "#E5ECF6",
                                            "showlakes": true,
                                            "showland": true,
                                            "subunitcolor": "white"
                                        },
                                        "hoverlabel": {
                                            "align": "left"
                                        },
                                        "hovermode": "closest",
                                        "mapbox": {
                                            "style": "light"
                                        },
                                        "paper_bgcolor": "white",
                                        "plot_bgcolor": "#E5ECF6",
                                        "polar": {
                                            "angularaxis": {
                                                "gridcolor": "white",
                                                "linecolor": "white",
                                                "ticks": ""
                                            },
                                            "bgcolor": "#E5ECF6",
                                            "radialaxis": {
                                                "gridcolor": "white",
                                                "linecolor": "white",
                                                "ticks": ""
                                            }
                                        },
                                        "scene": {
                                            "xaxis": {
                                                "backgroundcolor": "#E5ECF6",
                                                "gridcolor": "white",
                                                "gridwidth": 2,
                                                "linecolor": "white",
                                                "showbackground": true,
                                                "ticks": "",
                                                "zerolinecolor": "white"
                                            },
                                            "yaxis": {
                                                "backgroundcolor": "#E5ECF6",
                                                "gridcolor": "white",
                                                "gridwidth": 2,
                                                "linecolor": "white",
                                                "showbackground": true,
                                                "ticks": "",
                                                "zerolinecolor": "white"
                                            },
                                            "zaxis": {
                                                "backgroundcolor": "#E5ECF6",
                                                "gridcolor": "white",
                                                "gridwidth": 2,
                                                "linecolor": "white",
                                                "showbackground": true,
                                                "ticks": "",
                                                "zerolinecolor": "white"
                                            }
                                        },
                                        "shapedefaults": {
                                            "line": {
                                                "color": "#2a3f5f"
                                            }
                                        },
                                        "ternary": {
                                            "aaxis": {
                                                "gridcolor": "white",
                                                "linecolor": "white",
                                                "ticks": ""
                                            },
                                            "baxis": {
                                                "gridcolor": "white",
                                                "linecolor": "white",
                                                "ticks": ""
                                            },
                                            "bgcolor": "#E5ECF6",
                                            "caxis": {
                                                "gridcolor": "white",
                                                "linecolor": "white",
                                                "ticks": ""
                                            }
                                        },
                                        "title": {
                                            "x": 0.05
                                        },
                                        "xaxis": {
                                            "automargin": true,
                                            "gridcolor": "white",
                                            "linecolor": "white",
                                            "ticks": "",
                                            "title": {
                                                "standoff": 15
                                            },
                                            "zerolinecolor": "white",
                                            "zerolinewidth": 2
                                        },
                                        "yaxis": {
                                            "automargin": true,
                                            "gridcolor": "white",
                                            "linecolor": "white",
                                            "ticks": "",
                                            "title": {
                                                "standoff": 15
                                            },
                                            "zerolinecolor": "white",
                                            "zerolinewidth": 2
                                        }
                                    }
                                },
                                "title": {
                                    "text": "APD Signal Over Time"
                                },
                                "xaxis": {
                                    "title": {
                                        "text": "Time [ns]"
                                    }
                                },
                                "yaxis": {
                                    "title": {
                                        "text": "APD Level [mV]"
                                    }
                                }
                            }
                        }
                    },
                    "metadata": {},
                    "output_type": "display_data"
                }
            ],
            "source": [
                "import plotly.graph_objects as go\n",
                "import numpy as np\n",
                "\n",
                "# Create time array\n",
                "tt = np.arange(-pretrig_size * hcf.SIDIG_timebase, posttrig_size * hcf.SIDIG_timebase, hcf.SIDIG_timebase)\n",
                "\n",
                "# Create figure\n",
                "fig = go.Figure()\n",
                "\n",
                "# Add traces for dark and bright data\n",
                "fig.add_trace(go.Scatter(x=tt, y=data_buffer_mw_off * 1000, mode='lines', name='mw_off Signal'))\n",
                "fig.add_trace(go.Scatter(x=tt, y=data_buffer_mw_on * 1000, mode='lines', name='mw_on Signal'))\n",
                "fig.add_trace(go.Scatter(x=tt, y=(data_buffer_mw_on-data_buffer_mw_off) * 1000, mode='lines', name='Diff'))\n",
                "\n",
                "\n",
                "# Customize layout\n",
                "fig.update_layout(\n",
                "    title=\"APD Signal Over Time\",\n",
                "    xaxis_title=\"Time [ns]\",\n",
                "    yaxis_title=\"APD Level [mV]\",\n",
                "    # template=\"plotly_mw_off\",\n",
                "    legend=dict(x=0, y=1)  # Adjust legend position\n",
                ")\n",
                "\n",
                "# Show plot\n",
                "fig.show()\n"
            ]
        },
        {
            "cell_type": "code",
            "execution_count": 26,
            "metadata": {},
            "outputs": [
                {
                    "data": {
                        "text/plain": [
                            "(2048,)"
                        ]
                    },
                    "execution_count": 26,
                    "metadata": {},
                    "output_type": "execute_result"
                }
            ],
            "source": [
                "np.shape(data_buffer_mw_off)"
            ]
        },
        {
            "cell_type": "code",
            "execution_count": 27,
            "metadata": {},
            "outputs": [],
            "source": [
                "def contrast_math(sig,bg,start,stop):\n",
                "    sig_subset = sig[start:stop]\n",
                "    bg_subset = bg[start:stop]\n",
                "    sig_mean = np.mean(sig_subset, axis=0)\n",
                "    bg_mean = np.mean(bg_subset, axis=0)\n",
                "\n",
                "    contrast = sig_mean/bg_mean \n",
                "\n",
                "\n",
                "    return contrast\n"
            ]
        }
    ],
    "metadata": {
        "kernelspec": {
            "display_name": "Python 3",
            "language": "python",
            "name": "python3"
        },
        "language_info": {
            "codemirror_mode": {
                "name": "ipython",
                "version": 3
            },
            "file_extension": ".py",
            "mimetype": "text/x-python",
            "name": "python",
            "nbconvert_exporter": "python",
            "pygments_lexer": "ipython3",
            "version": "3.10.16"
        }
    },
    "nbformat": 4,
    "nbformat_minor": 2
}
