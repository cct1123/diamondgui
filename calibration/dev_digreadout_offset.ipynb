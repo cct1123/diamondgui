{
    "cells": [
        {
            "cell_type": "code",
            "execution_count": 1,
            "metadata": {},
            "outputs": [],
            "source": [
                "import time\n",
                "import sys\n",
                "import os\n",
                "\n",
                "path_project = \"\\\\\".join(os.getcwd().split(\"\\\\\")[:-1])\n",
                "sys.path.insert(1, path_project)\n",
                "import math\n",
                "from hardware import config as hcf\n",
                "import matplotlib.pyplot as plt\n",
                "import numpy as np\n",
                "import math\n",
                "from hardware.pulser.pulser import PulseGenerator, OutputState, TriggerStart, TriggerRearm, HIGH, LOW, INF, REPEAT_INFINITELY\n",
                "from hardware.laser.laser import LaserControl\n",
                "from hardware.mw.mwsynthesizer import Synthesizer\n",
                "from hardware.daq.sidig import FIFO_DataAcquisition, DCCOUPLE, TERMIN_INPUT_50OHM, TERMIN_INPUT_1MOHM\n",
                "from spcm import units"
            ]
        },
        {
            "cell_type": "code",
            "execution_count": 2,
            "metadata": {},
            "outputs": [],
            "source": [
                "def lcm(a, b):\n",
                "    \"\"\"Calculate the least common multiple of two numbers.\"\"\"\n",
                "    return abs(a * b) // math.gcd(a, b)\n",
                "\n",
                "def seqtime_cb(seq_cb):\n",
                "    return np.sum([pulse[-0] for pulse in seq_cb])"
            ]
        },
        {
            "cell_type": "markdown",
            "metadata": {},
            "source": [
                "## Set up Connection with Devices"
            ]
        },
        {
            "cell_type": "code",
            "execution_count": 4,
            "metadata": {},
            "outputs": [
                {
                    "name": "stdout",
                    "output_type": "stream",
                    "text": [
                        "Connect to Pulse Streamer via JSON-RPC.\n",
                        "IP / Hostname: 192.168.1.26\n",
                        "Pulse Streamer 8/2 firmware: v1.7.2\n",
                        "Client software: v1.7.0\n",
                        "Clock mode set to: 32\n",
                        "1: Internal, 2: Quartz, 3: External, 32: Direct External Sampling\n"
                    ]
                }
            ],
            "source": [
                "laser = LaserControl(hcf.LASER_SN)\n",
                "laser.open()\n",
                "\n",
                "uncal_choffset = {\"laser\":0, \n",
                "                \"dclk\":0, \n",
                "                \"dtrig\":0,\n",
                "                \"mwA\":0, \n",
                "                \"mwB\":0,\n",
                "                \"sdtrig\":0,\n",
                "                }\n",
                "ps = PulseGenerator(ip=hcf.PS_IP, \n",
                "                    chmap=hcf.PS_chmap,\n",
                "                    choffs=uncal_choffset)\n",
                "\n",
                "dig = FIFO_DataAcquisition(\n",
                "                sn_address=hcf.SIDIG_ADDRESS\n",
                "            )\n"
            ]
        },
        {
            "cell_type": "markdown",
            "metadata": {},
            "source": [
                "## Set Up Pulse Sequence"
            ]
        },
        {
            "cell_type": "code",
            "execution_count": 5,
            "metadata": {},
            "outputs": [],
            "source": [
                "tb = lcm(hcf.SIDIG_timebase, hcf.PS_timebase)\n",
                "\n",
                "t_laser = 4000\n",
                "t_wait = 500\n",
                "t_isc = 400\n",
                "t_mw = 8000\n",
                "\n",
                "t_dswait = t_wait\n",
                "t_dstrig = 200\n",
                "t_dspad = t_wait +t_laser+ t_isc - (t_dstrig +t_dswait)\n",
                "\n",
                "seq_laser = [(t_mw, LOW), (t_wait, LOW), (t_laser, HIGH), (t_isc, LOW)]+[(t_mw, LOW), (t_wait, LOW), (t_laser, HIGH), (t_isc, LOW)]\n",
                "# seq_mw = [(t_mw, HIGH), (t_wait + t_laser+ t_isc, LOW)] + [(t_mw, LOW), (t_wait + t_laser+ t_isc, LOW)]\n",
                "seq_sdtrig =   [(t_mw, LOW), (t_dswait, LOW), (t_dstrig, HIGH), (t_dspad, LOW)]+[(t_mw, LOW), (t_dswait, LOW), (t_dstrig, HIGH), (t_dspad, LOW)]\n",
                "\n",
                "t_seq = seqtime_cb(seq_laser)\n"
            ]
        },
        {
            "cell_type": "code",
            "execution_count": 6,
            "metadata": {},
            "outputs": [
                {
                    "data": {
                        "application/vnd.plotly.v1+json": {
                            "config": {
                                "plotlyServerURL": "https://plot.ly"
                            },
                            "data": [
                                {
                                    "line": {
                                        "shape": "hv"
                                    },
                                    "mode": "lines",
                                    "name": "D0",
                                    "type": "scatter",
                                    "x": {
                                        "bdata": "AABAHzQh1DBkMqRRmFM4Y8hk",
                                        "dtype": "i2"
                                    },
                                    "xaxis": "x10",
                                    "y": {
                                        "bdata": "AAABAAAAAQAA",
                                        "dtype": "i1"
                                    },
                                    "yaxis": "y10"
                                },
                                {
                                    "line": {
                                        "shape": "hv"
                                    },
                                    "mode": "lines",
                                    "name": "D1",
                                    "type": "scatter",
                                    "x": {
                                        "bdata": "AADIZA==",
                                        "dtype": "i2"
                                    },
                                    "xaxis": "x9",
                                    "y": {
                                        "bdata": "AAA=",
                                        "dtype": "i1"
                                    },
                                    "yaxis": "y9"
                                },
                                {
                                    "line": {
                                        "shape": "hv"
                                    },
                                    "mode": "lines",
                                    "name": "D2",
                                    "type": "scatter",
                                    "x": {
                                        "bdata": "AADIZA==",
                                        "dtype": "i2"
                                    },
                                    "xaxis": "x8",
                                    "y": {
                                        "bdata": "AAA=",
                                        "dtype": "i1"
                                    },
                                    "yaxis": "y8"
                                },
                                {
                                    "line": {
                                        "shape": "hv"
                                    },
                                    "mode": "lines",
                                    "name": "D3",
                                    "type": "scatter",
                                    "x": {
                                        "bdata": "AABAHzQh/CFkMqRRmFNgVMhk",
                                        "dtype": "i2"
                                    },
                                    "xaxis": "x7",
                                    "y": {
                                        "bdata": "AAABAAAAAQAA",
                                        "dtype": "i1"
                                    },
                                    "yaxis": "y7"
                                },
                                {
                                    "line": {
                                        "shape": "hv"
                                    },
                                    "mode": "lines",
                                    "name": "D4",
                                    "type": "scatter",
                                    "x": {
                                        "bdata": "AADIZA==",
                                        "dtype": "i2"
                                    },
                                    "xaxis": "x6",
                                    "y": {
                                        "bdata": "AAA=",
                                        "dtype": "i1"
                                    },
                                    "yaxis": "y6"
                                },
                                {
                                    "line": {
                                        "shape": "hv"
                                    },
                                    "mode": "lines",
                                    "name": "D5",
                                    "type": "scatter",
                                    "x": {
                                        "bdata": "AADIZA==",
                                        "dtype": "i2"
                                    },
                                    "xaxis": "x5",
                                    "y": {
                                        "bdata": "AAA=",
                                        "dtype": "i1"
                                    },
                                    "yaxis": "y5"
                                },
                                {
                                    "line": {
                                        "shape": "hv"
                                    },
                                    "mode": "lines",
                                    "name": "D6",
                                    "type": "scatter",
                                    "x": {
                                        "bdata": "AADIZA==",
                                        "dtype": "i2"
                                    },
                                    "xaxis": "x4",
                                    "y": {
                                        "bdata": "AAA=",
                                        "dtype": "i1"
                                    },
                                    "yaxis": "y4"
                                },
                                {
                                    "line": {
                                        "shape": "hv"
                                    },
                                    "mode": "lines",
                                    "name": "D7",
                                    "type": "scatter",
                                    "x": {
                                        "bdata": "AADIZA==",
                                        "dtype": "i2"
                                    },
                                    "xaxis": "x3",
                                    "y": {
                                        "bdata": "AAA=",
                                        "dtype": "i1"
                                    },
                                    "yaxis": "y3"
                                },
                                {
                                    "line": {
                                        "color": "black",
                                        "shape": "hv"
                                    },
                                    "mode": "lines",
                                    "name": "A0",
                                    "type": "scatter",
                                    "x": {
                                        "bdata": "AADIZA==",
                                        "dtype": "i2"
                                    },
                                    "xaxis": "x2",
                                    "y": {
                                        "bdata": "AAAAAAAAAAAAAAAAAAAAAA==",
                                        "dtype": "f8"
                                    },
                                    "yaxis": "y2"
                                },
                                {
                                    "line": {
                                        "color": "black",
                                        "shape": "hv"
                                    },
                                    "mode": "lines",
                                    "name": "A1",
                                    "type": "scatter",
                                    "x": {
                                        "bdata": "AADIZA==",
                                        "dtype": "i2"
                                    },
                                    "xaxis": "x",
                                    "y": {
                                        "bdata": "AAAAAAAAAAAAAAAAAAAAAA==",
                                        "dtype": "f8"
                                    },
                                    "yaxis": "y"
                                }
                            ],
                            "layout": {
                                "height": 600,
                                "margin": {
                                    "b": 40,
                                    "l": 50,
                                    "r": 50,
                                    "t": 40
                                },
                                "showlegend": false,
                                "template": {
                                    "data": {
                                        "bar": [
                                            {
                                                "error_x": {
                                                    "color": "#2a3f5f"
                                                },
                                                "error_y": {
                                                    "color": "#2a3f5f"
                                                },
                                                "marker": {
                                                    "line": {
                                                        "color": "#E5ECF6",
                                                        "width": 0.5
                                                    },
                                                    "pattern": {
                                                        "fillmode": "overlay",
                                                        "size": 10,
                                                        "solidity": 0.2
                                                    }
                                                },
                                                "type": "bar"
                                            }
                                        ],
                                        "barpolar": [
                                            {
                                                "marker": {
                                                    "line": {
                                                        "color": "#E5ECF6",
                                                        "width": 0.5
                                                    },
                                                    "pattern": {
                                                        "fillmode": "overlay",
                                                        "size": 10,
                                                        "solidity": 0.2
                                                    }
                                                },
                                                "type": "barpolar"
                                            }
                                        ],
                                        "carpet": [
                                            {
                                                "aaxis": {
                                                    "endlinecolor": "#2a3f5f",
                                                    "gridcolor": "white",
                                                    "linecolor": "white",
                                                    "minorgridcolor": "white",
                                                    "startlinecolor": "#2a3f5f"
                                                },
                                                "baxis": {
                                                    "endlinecolor": "#2a3f5f",
                                                    "gridcolor": "white",
                                                    "linecolor": "white",
                                                    "minorgridcolor": "white",
                                                    "startlinecolor": "#2a3f5f"
                                                },
                                                "type": "carpet"
                                            }
                                        ],
                                        "choropleth": [
                                            {
                                                "colorbar": {
                                                    "outlinewidth": 0,
                                                    "ticks": ""
                                                },
                                                "type": "choropleth"
                                            }
                                        ],
                                        "contour": [
                                            {
                                                "colorbar": {
                                                    "outlinewidth": 0,
                                                    "ticks": ""
                                                },
                                                "colorscale": [
                                                    [
                                                        0,
                                                        "#0d0887"
                                                    ],
                                                    [
                                                        0.1111111111111111,
                                                        "#46039f"
                                                    ],
                                                    [
                                                        0.2222222222222222,
                                                        "#7201a8"
                                                    ],
                                                    [
                                                        0.3333333333333333,
                                                        "#9c179e"
                                                    ],
                                                    [
                                                        0.4444444444444444,
                                                        "#bd3786"
                                                    ],
                                                    [
                                                        0.5555555555555556,
                                                        "#d8576b"
                                                    ],
                                                    [
                                                        0.6666666666666666,
                                                        "#ed7953"
                                                    ],
                                                    [
                                                        0.7777777777777778,
                                                        "#fb9f3a"
                                                    ],
                                                    [
                                                        0.8888888888888888,
                                                        "#fdca26"
                                                    ],
                                                    [
                                                        1,
                                                        "#f0f921"
                                                    ]
                                                ],
                                                "type": "contour"
                                            }
                                        ],
                                        "contourcarpet": [
                                            {
                                                "colorbar": {
                                                    "outlinewidth": 0,
                                                    "ticks": ""
                                                },
                                                "type": "contourcarpet"
                                            }
                                        ],
                                        "heatmap": [
                                            {
                                                "colorbar": {
                                                    "outlinewidth": 0,
                                                    "ticks": ""
                                                },
                                                "colorscale": [
                                                    [
                                                        0,
                                                        "#0d0887"
                                                    ],
                                                    [
                                                        0.1111111111111111,
                                                        "#46039f"
                                                    ],
                                                    [
                                                        0.2222222222222222,
                                                        "#7201a8"
                                                    ],
                                                    [
                                                        0.3333333333333333,
                                                        "#9c179e"
                                                    ],
                                                    [
                                                        0.4444444444444444,
                                                        "#bd3786"
                                                    ],
                                                    [
                                                        0.5555555555555556,
                                                        "#d8576b"
                                                    ],
                                                    [
                                                        0.6666666666666666,
                                                        "#ed7953"
                                                    ],
                                                    [
                                                        0.7777777777777778,
                                                        "#fb9f3a"
                                                    ],
                                                    [
                                                        0.8888888888888888,
                                                        "#fdca26"
                                                    ],
                                                    [
                                                        1,
                                                        "#f0f921"
                                                    ]
                                                ],
                                                "type": "heatmap"
                                            }
                                        ],
                                        "histogram": [
                                            {
                                                "marker": {
                                                    "pattern": {
                                                        "fillmode": "overlay",
                                                        "size": 10,
                                                        "solidity": 0.2
                                                    }
                                                },
                                                "type": "histogram"
                                            }
                                        ],
                                        "histogram2d": [
                                            {
                                                "colorbar": {
                                                    "outlinewidth": 0,
                                                    "ticks": ""
                                                },
                                                "colorscale": [
                                                    [
                                                        0,
                                                        "#0d0887"
                                                    ],
                                                    [
                                                        0.1111111111111111,
                                                        "#46039f"
                                                    ],
                                                    [
                                                        0.2222222222222222,
                                                        "#7201a8"
                                                    ],
                                                    [
                                                        0.3333333333333333,
                                                        "#9c179e"
                                                    ],
                                                    [
                                                        0.4444444444444444,
                                                        "#bd3786"
                                                    ],
                                                    [
                                                        0.5555555555555556,
                                                        "#d8576b"
                                                    ],
                                                    [
                                                        0.6666666666666666,
                                                        "#ed7953"
                                                    ],
                                                    [
                                                        0.7777777777777778,
                                                        "#fb9f3a"
                                                    ],
                                                    [
                                                        0.8888888888888888,
                                                        "#fdca26"
                                                    ],
                                                    [
                                                        1,
                                                        "#f0f921"
                                                    ]
                                                ],
                                                "type": "histogram2d"
                                            }
                                        ],
                                        "histogram2dcontour": [
                                            {
                                                "colorbar": {
                                                    "outlinewidth": 0,
                                                    "ticks": ""
                                                },
                                                "colorscale": [
                                                    [
                                                        0,
                                                        "#0d0887"
                                                    ],
                                                    [
                                                        0.1111111111111111,
                                                        "#46039f"
                                                    ],
                                                    [
                                                        0.2222222222222222,
                                                        "#7201a8"
                                                    ],
                                                    [
                                                        0.3333333333333333,
                                                        "#9c179e"
                                                    ],
                                                    [
                                                        0.4444444444444444,
                                                        "#bd3786"
                                                    ],
                                                    [
                                                        0.5555555555555556,
                                                        "#d8576b"
                                                    ],
                                                    [
                                                        0.6666666666666666,
                                                        "#ed7953"
                                                    ],
                                                    [
                                                        0.7777777777777778,
                                                        "#fb9f3a"
                                                    ],
                                                    [
                                                        0.8888888888888888,
                                                        "#fdca26"
                                                    ],
                                                    [
                                                        1,
                                                        "#f0f921"
                                                    ]
                                                ],
                                                "type": "histogram2dcontour"
                                            }
                                        ],
                                        "mesh3d": [
                                            {
                                                "colorbar": {
                                                    "outlinewidth": 0,
                                                    "ticks": ""
                                                },
                                                "type": "mesh3d"
                                            }
                                        ],
                                        "parcoords": [
                                            {
                                                "line": {
                                                    "colorbar": {
                                                        "outlinewidth": 0,
                                                        "ticks": ""
                                                    }
                                                },
                                                "type": "parcoords"
                                            }
                                        ],
                                        "pie": [
                                            {
                                                "automargin": true,
                                                "type": "pie"
                                            }
                                        ],
                                        "scatter": [
                                            {
                                                "fillpattern": {
                                                    "fillmode": "overlay",
                                                    "size": 10,
                                                    "solidity": 0.2
                                                },
                                                "type": "scatter"
                                            }
                                        ],
                                        "scatter3d": [
                                            {
                                                "line": {
                                                    "colorbar": {
                                                        "outlinewidth": 0,
                                                        "ticks": ""
                                                    }
                                                },
                                                "marker": {
                                                    "colorbar": {
                                                        "outlinewidth": 0,
                                                        "ticks": ""
                                                    }
                                                },
                                                "type": "scatter3d"
                                            }
                                        ],
                                        "scattercarpet": [
                                            {
                                                "marker": {
                                                    "colorbar": {
                                                        "outlinewidth": 0,
                                                        "ticks": ""
                                                    }
                                                },
                                                "type": "scattercarpet"
                                            }
                                        ],
                                        "scattergeo": [
                                            {
                                                "marker": {
                                                    "colorbar": {
                                                        "outlinewidth": 0,
                                                        "ticks": ""
                                                    }
                                                },
                                                "type": "scattergeo"
                                            }
                                        ],
                                        "scattergl": [
                                            {
                                                "marker": {
                                                    "colorbar": {
                                                        "outlinewidth": 0,
                                                        "ticks": ""
                                                    }
                                                },
                                                "type": "scattergl"
                                            }
                                        ],
                                        "scattermap": [
                                            {
                                                "marker": {
                                                    "colorbar": {
                                                        "outlinewidth": 0,
                                                        "ticks": ""
                                                    }
                                                },
                                                "type": "scattermap"
                                            }
                                        ],
                                        "scattermapbox": [
                                            {
                                                "marker": {
                                                    "colorbar": {
                                                        "outlinewidth": 0,
                                                        "ticks": ""
                                                    }
                                                },
                                                "type": "scattermapbox"
                                            }
                                        ],
                                        "scatterpolar": [
                                            {
                                                "marker": {
                                                    "colorbar": {
                                                        "outlinewidth": 0,
                                                        "ticks": ""
                                                    }
                                                },
                                                "type": "scatterpolar"
                                            }
                                        ],
                                        "scatterpolargl": [
                                            {
                                                "marker": {
                                                    "colorbar": {
                                                        "outlinewidth": 0,
                                                        "ticks": ""
                                                    }
                                                },
                                                "type": "scatterpolargl"
                                            }
                                        ],
                                        "scatterternary": [
                                            {
                                                "marker": {
                                                    "colorbar": {
                                                        "outlinewidth": 0,
                                                        "ticks": ""
                                                    }
                                                },
                                                "type": "scatterternary"
                                            }
                                        ],
                                        "surface": [
                                            {
                                                "colorbar": {
                                                    "outlinewidth": 0,
                                                    "ticks": ""
                                                },
                                                "colorscale": [
                                                    [
                                                        0,
                                                        "#0d0887"
                                                    ],
                                                    [
                                                        0.1111111111111111,
                                                        "#46039f"
                                                    ],
                                                    [
                                                        0.2222222222222222,
                                                        "#7201a8"
                                                    ],
                                                    [
                                                        0.3333333333333333,
                                                        "#9c179e"
                                                    ],
                                                    [
                                                        0.4444444444444444,
                                                        "#bd3786"
                                                    ],
                                                    [
                                                        0.5555555555555556,
                                                        "#d8576b"
                                                    ],
                                                    [
                                                        0.6666666666666666,
                                                        "#ed7953"
                                                    ],
                                                    [
                                                        0.7777777777777778,
                                                        "#fb9f3a"
                                                    ],
                                                    [
                                                        0.8888888888888888,
                                                        "#fdca26"
                                                    ],
                                                    [
                                                        1,
                                                        "#f0f921"
                                                    ]
                                                ],
                                                "type": "surface"
                                            }
                                        ],
                                        "table": [
                                            {
                                                "cells": {
                                                    "fill": {
                                                        "color": "#EBF0F8"
                                                    },
                                                    "line": {
                                                        "color": "white"
                                                    }
                                                },
                                                "header": {
                                                    "fill": {
                                                        "color": "#C8D4E3"
                                                    },
                                                    "line": {
                                                        "color": "white"
                                                    }
                                                },
                                                "type": "table"
                                            }
                                        ]
                                    },
                                    "layout": {
                                        "annotationdefaults": {
                                            "arrowcolor": "#2a3f5f",
                                            "arrowhead": 0,
                                            "arrowwidth": 1
                                        },
                                        "autotypenumbers": "strict",
                                        "coloraxis": {
                                            "colorbar": {
                                                "outlinewidth": 0,
                                                "ticks": ""
                                            }
                                        },
                                        "colorscale": {
                                            "diverging": [
                                                [
                                                    0,
                                                    "#8e0152"
                                                ],
                                                [
                                                    0.1,
                                                    "#c51b7d"
                                                ],
                                                [
                                                    0.2,
                                                    "#de77ae"
                                                ],
                                                [
                                                    0.3,
                                                    "#f1b6da"
                                                ],
                                                [
                                                    0.4,
                                                    "#fde0ef"
                                                ],
                                                [
                                                    0.5,
                                                    "#f7f7f7"
                                                ],
                                                [
                                                    0.6,
                                                    "#e6f5d0"
                                                ],
                                                [
                                                    0.7,
                                                    "#b8e186"
                                                ],
                                                [
                                                    0.8,
                                                    "#7fbc41"
                                                ],
                                                [
                                                    0.9,
                                                    "#4d9221"
                                                ],
                                                [
                                                    1,
                                                    "#276419"
                                                ]
                                            ],
                                            "sequential": [
                                                [
                                                    0,
                                                    "#0d0887"
                                                ],
                                                [
                                                    0.1111111111111111,
                                                    "#46039f"
                                                ],
                                                [
                                                    0.2222222222222222,
                                                    "#7201a8"
                                                ],
                                                [
                                                    0.3333333333333333,
                                                    "#9c179e"
                                                ],
                                                [
                                                    0.4444444444444444,
                                                    "#bd3786"
                                                ],
                                                [
                                                    0.5555555555555556,
                                                    "#d8576b"
                                                ],
                                                [
                                                    0.6666666666666666,
                                                    "#ed7953"
                                                ],
                                                [
                                                    0.7777777777777778,
                                                    "#fb9f3a"
                                                ],
                                                [
                                                    0.8888888888888888,
                                                    "#fdca26"
                                                ],
                                                [
                                                    1,
                                                    "#f0f921"
                                                ]
                                            ],
                                            "sequentialminus": [
                                                [
                                                    0,
                                                    "#0d0887"
                                                ],
                                                [
                                                    0.1111111111111111,
                                                    "#46039f"
                                                ],
                                                [
                                                    0.2222222222222222,
                                                    "#7201a8"
                                                ],
                                                [
                                                    0.3333333333333333,
                                                    "#9c179e"
                                                ],
                                                [
                                                    0.4444444444444444,
                                                    "#bd3786"
                                                ],
                                                [
                                                    0.5555555555555556,
                                                    "#d8576b"
                                                ],
                                                [
                                                    0.6666666666666666,
                                                    "#ed7953"
                                                ],
                                                [
                                                    0.7777777777777778,
                                                    "#fb9f3a"
                                                ],
                                                [
                                                    0.8888888888888888,
                                                    "#fdca26"
                                                ],
                                                [
                                                    1,
                                                    "#f0f921"
                                                ]
                                            ]
                                        },
                                        "colorway": [
                                            "#636efa",
                                            "#EF553B",
                                            "#00cc96",
                                            "#ab63fa",
                                            "#FFA15A",
                                            "#19d3f3",
                                            "#FF6692",
                                            "#B6E880",
                                            "#FF97FF",
                                            "#FECB52"
                                        ],
                                        "font": {
                                            "color": "#2a3f5f"
                                        },
                                        "geo": {
                                            "bgcolor": "white",
                                            "lakecolor": "white",
                                            "landcolor": "#E5ECF6",
                                            "showlakes": true,
                                            "showland": true,
                                            "subunitcolor": "white"
                                        },
                                        "hoverlabel": {
                                            "align": "left"
                                        },
                                        "hovermode": "closest",
                                        "mapbox": {
                                            "style": "light"
                                        },
                                        "paper_bgcolor": "white",
                                        "plot_bgcolor": "#E5ECF6",
                                        "polar": {
                                            "angularaxis": {
                                                "gridcolor": "white",
                                                "linecolor": "white",
                                                "ticks": ""
                                            },
                                            "bgcolor": "#E5ECF6",
                                            "radialaxis": {
                                                "gridcolor": "white",
                                                "linecolor": "white",
                                                "ticks": ""
                                            }
                                        },
                                        "scene": {
                                            "xaxis": {
                                                "backgroundcolor": "#E5ECF6",
                                                "gridcolor": "white",
                                                "gridwidth": 2,
                                                "linecolor": "white",
                                                "showbackground": true,
                                                "ticks": "",
                                                "zerolinecolor": "white"
                                            },
                                            "yaxis": {
                                                "backgroundcolor": "#E5ECF6",
                                                "gridcolor": "white",
                                                "gridwidth": 2,
                                                "linecolor": "white",
                                                "showbackground": true,
                                                "ticks": "",
                                                "zerolinecolor": "white"
                                            },
                                            "zaxis": {
                                                "backgroundcolor": "#E5ECF6",
                                                "gridcolor": "white",
                                                "gridwidth": 2,
                                                "linecolor": "white",
                                                "showbackground": true,
                                                "ticks": "",
                                                "zerolinecolor": "white"
                                            }
                                        },
                                        "shapedefaults": {
                                            "line": {
                                                "color": "#2a3f5f"
                                            }
                                        },
                                        "ternary": {
                                            "aaxis": {
                                                "gridcolor": "white",
                                                "linecolor": "white",
                                                "ticks": ""
                                            },
                                            "baxis": {
                                                "gridcolor": "white",
                                                "linecolor": "white",
                                                "ticks": ""
                                            },
                                            "bgcolor": "#E5ECF6",
                                            "caxis": {
                                                "gridcolor": "white",
                                                "linecolor": "white",
                                                "ticks": ""
                                            }
                                        },
                                        "title": {
                                            "x": 0.05
                                        },
                                        "xaxis": {
                                            "automargin": true,
                                            "gridcolor": "white",
                                            "linecolor": "white",
                                            "ticks": "",
                                            "title": {
                                                "standoff": 15
                                            },
                                            "zerolinecolor": "white",
                                            "zerolinewidth": 2
                                        },
                                        "yaxis": {
                                            "automargin": true,
                                            "gridcolor": "white",
                                            "linecolor": "white",
                                            "ticks": "",
                                            "title": {
                                                "standoff": 15
                                            },
                                            "zerolinecolor": "white",
                                            "zerolinewidth": 2
                                        }
                                    }
                                },
                                "title": {
                                    "text": "Sequence"
                                },
                                "width": 600,
                                "xaxis": {
                                    "anchor": "y",
                                    "domain": [
                                        0,
                                        1
                                    ],
                                    "matches": "x10",
                                    "showticklabels": false
                                },
                                "xaxis10": {
                                    "anchor": "y10",
                                    "domain": [
                                        0,
                                        1
                                    ],
                                    "title": {
                                        "text": "time/ns"
                                    }
                                },
                                "xaxis2": {
                                    "anchor": "y2",
                                    "domain": [
                                        0,
                                        1
                                    ],
                                    "matches": "x10",
                                    "showticklabels": false
                                },
                                "xaxis3": {
                                    "anchor": "y3",
                                    "domain": [
                                        0,
                                        1
                                    ],
                                    "matches": "x10",
                                    "showticklabels": false
                                },
                                "xaxis4": {
                                    "anchor": "y4",
                                    "domain": [
                                        0,
                                        1
                                    ],
                                    "matches": "x10",
                                    "showticklabels": false
                                },
                                "xaxis5": {
                                    "anchor": "y5",
                                    "domain": [
                                        0,
                                        1
                                    ],
                                    "matches": "x10",
                                    "showticklabels": false
                                },
                                "xaxis6": {
                                    "anchor": "y6",
                                    "domain": [
                                        0,
                                        1
                                    ],
                                    "matches": "x10",
                                    "showticklabels": false
                                },
                                "xaxis7": {
                                    "anchor": "y7",
                                    "domain": [
                                        0,
                                        1
                                    ],
                                    "matches": "x10",
                                    "showticklabels": false
                                },
                                "xaxis8": {
                                    "anchor": "y8",
                                    "domain": [
                                        0,
                                        1
                                    ],
                                    "matches": "x10",
                                    "showticklabels": false
                                },
                                "xaxis9": {
                                    "anchor": "y9",
                                    "domain": [
                                        0,
                                        1
                                    ],
                                    "matches": "x10",
                                    "showticklabels": false
                                },
                                "yaxis": {
                                    "anchor": "x",
                                    "domain": [
                                        0.9179999999999999,
                                        0.9999999999999999
                                    ],
                                    "range": [
                                        -1.5,
                                        1.5
                                    ],
                                    "tickfont": {
                                        "size": 6
                                    },
                                    "title": {
                                        "text": "A1"
                                    }
                                },
                                "yaxis10": {
                                    "anchor": "x10",
                                    "domain": [
                                        0,
                                        0.082
                                    ],
                                    "range": [
                                        -0.4,
                                        1.4
                                    ],
                                    "showticklabels": false,
                                    "title": {
                                        "text": "D0<br>laser"
                                    }
                                },
                                "yaxis2": {
                                    "anchor": "x2",
                                    "domain": [
                                        0.8160000000000001,
                                        0.898
                                    ],
                                    "range": [
                                        -1.5,
                                        1.5
                                    ],
                                    "tickfont": {
                                        "size": 6
                                    },
                                    "title": {
                                        "text": "A0"
                                    }
                                },
                                "yaxis3": {
                                    "anchor": "x3",
                                    "domain": [
                                        0.7140000000000001,
                                        0.796
                                    ],
                                    "range": [
                                        -0.4,
                                        1.4
                                    ],
                                    "showticklabels": false,
                                    "title": {
                                        "text": "D7<br>WDF"
                                    }
                                },
                                "yaxis4": {
                                    "anchor": "x4",
                                    "domain": [
                                        0.6120000000000001,
                                        0.6940000000000001
                                    ],
                                    "range": [
                                        -0.4,
                                        1.4
                                    ],
                                    "showticklabels": false,
                                    "title": {
                                        "text": "D6<br>rftrig"
                                    }
                                },
                                "yaxis5": {
                                    "anchor": "x5",
                                    "domain": [
                                        0.51,
                                        0.592
                                    ],
                                    "range": [
                                        -0.4,
                                        1.4
                                    ],
                                    "showticklabels": false,
                                    "title": {
                                        "text": "D5<br>mwB"
                                    }
                                },
                                "yaxis6": {
                                    "anchor": "x6",
                                    "domain": [
                                        0.40800000000000003,
                                        0.49000000000000005
                                    ],
                                    "range": [
                                        -0.4,
                                        1.4
                                    ],
                                    "showticklabels": false,
                                    "title": {
                                        "text": "D4<br>mwA"
                                    }
                                },
                                "yaxis7": {
                                    "anchor": "x7",
                                    "domain": [
                                        0.306,
                                        0.388
                                    ],
                                    "range": [
                                        -0.4,
                                        1.4
                                    ],
                                    "showticklabels": false,
                                    "title": {
                                        "text": "D3<br>sdtrig"
                                    }
                                },
                                "yaxis8": {
                                    "anchor": "x8",
                                    "domain": [
                                        0.20400000000000001,
                                        0.28600000000000003
                                    ],
                                    "range": [
                                        -0.4,
                                        1.4
                                    ],
                                    "showticklabels": false,
                                    "title": {
                                        "text": "D2<br>dtrig"
                                    }
                                },
                                "yaxis9": {
                                    "anchor": "x9",
                                    "domain": [
                                        0.10200000000000001,
                                        0.184
                                    ],
                                    "range": [
                                        -0.4,
                                        1.4
                                    ],
                                    "showticklabels": false,
                                    "title": {
                                        "text": "D1<br>dclk"
                                    }
                                }
                            }
                        }
                    },
                    "metadata": {},
                    "output_type": "display_data"
                }
            ],
            "source": [
                "ps.reset()\n",
                "ps.setDigital(\"laser\", seq_laser)\n",
                "# ps.setDigital(\"mwA\", seq_mw)\n",
                "ps.setDigital(\"sdtrig\", seq_sdtrig)\n",
                "ps.plotSeq()"
            ]
        },
        {
            "cell_type": "code",
            "execution_count": 7,
            "metadata": {},
            "outputs": [],
            "source": [
                "ps.setTrigger(TriggerStart.SOFTWARE, rearm=TriggerRearm.AUTO)\n",
                "ps.stream(n_runs=REPEAT_INFINITELY)"
            ]
        },
        {
            "cell_type": "markdown",
            "metadata": {},
            "source": [
                "## Data Acquisition with Digitizer\n"
            ]
        },
        {
            "cell_type": "code",
            "execution_count": 10,
            "metadata": {},
            "outputs": [],
            "source": [
                "# min_volt = -0.002 # [V]\n",
                "# max_volt = 0.010 # [V]\n",
                "rate_refresh = 10 # Hz rate of refreshing the data streaming\n",
                "amp_input = 1000\n",
                "readout_ch = hcf.SIDIG_chmap[\"apd\"]\n",
                "num_segment = int(2/rate_refresh*1e9/t_seq)//32*32\n",
                "\n",
                "pretrig_size=int((t_wait/2)*hcf.SIDIG_maxsr/1E9)//64*64\n",
                "posttrig_size=int((t_laser+t_isc)*hcf.SIDIG_maxsr/1E9)//64*64\n",
                "segment_size = pretrig_size+posttrig_size\n",
                "segment_size = 2**int(np.log2(segment_size)+1)\n",
                "posttrig_size = segment_size-pretrig_size"
            ]
        },
        {
            "cell_type": "code",
            "execution_count": 17,
            "metadata": {},
            "outputs": [
                {
                    "data": {
                        "text/plain": [
                            "128"
                        ]
                    },
                    "execution_count": 17,
                    "metadata": {},
                    "output_type": "execute_result"
                }
            ],
            "source": [
                "pretrig_size*2"
            ]
        },
        {
            "cell_type": "code",
            "execution_count": 11,
            "metadata": {},
            "outputs": [],
            "source": [
                "# To set the configuration, make a dictionary with the key and value\n",
                "dig.reset_param()\n",
                "dig.assign_param(dict(\n",
                "             readout_ch=readout_ch, \n",
                "             amp_input=amp_input, \n",
                "             num_segment=num_segment,\n",
                "             pretrig_size=pretrig_size,\n",
                "             posttrig_size=posttrig_size,\n",
                "             segment_size=segment_size,\n",
                "             terminate_input=TERMIN_INPUT_1MOHM,\n",
                "             ))\n"
            ]
        },
        {
            "cell_type": "markdown",
            "metadata": {},
            "source": [
                "## Set Laser Diode Current"
            ]
        },
        {
            "cell_type": "code",
            "execution_count": 12,
            "metadata": {},
            "outputs": [],
            "source": [
                "laser_curent = 35.01  #percent\n",
                "laser.laser_off()\n",
                "laser.set_analog_control_mode(\"current\")\n",
                "laser.set_modulation_state(\"Pulsed\")\n",
                "laser.set_diode_current(laser_curent, save_memory=False)\n",
                "laser.laser_on() # turn on laser"
            ]
        },
        {
            "cell_type": "code",
            "execution_count": 13,
            "metadata": {},
            "outputs": [
                {
                    "name": "stdout",
                    "output_type": "stream",
                    "text": [
                        "Card stopped\n"
                    ]
                }
            ],
            "source": [
                "dig.set_config()\n",
                "dig.start_buffer()\n",
                "ps.startNow()\n",
                "time_stop = 1\n",
                "time_start = time.time()\n",
                "data_buffer_bright1 = np.zeros((segment_size))\n",
                "data_buffer_bright2 = np.zeros((segment_size))\n",
                "num_repeat = 0\n",
                "while time.time()-time_start < time_stop:\n",
                "    rawraw = dig.stream()\n",
                "    if rawraw is not None:\n",
                "        num_segs = np.shape(rawraw)[0]\n",
                "        assert num_segs % 2 == 0\n",
                "        rawraw_bright1 = rawraw[0::2, :, :]\n",
                "        rawraw_bright2 = rawraw[1::2, :, :]\n",
                "        data_buffer_bright1 += np.ravel(np.sum(rawraw_bright1, axis=0))\n",
                "        data_buffer_bright2 += np.ravel(np.sum(rawraw_bright2, axis=0))\n",
                "        num_repeat += num_segs//2\n",
                "    # print(data_buffer)\n",
                "    # print(data_buffer.shape)\n",
                "data_buffer_bright1 = data_buffer_bright1/num_repeat\n",
                "data_buffer_bright2 = data_buffer_bright2/num_repeat\n",
                "laser.laser_off()\n",
                "dig.stop_card()\n",
                "# dig.reset()\n",
                "ps.forceFinal()\n",
                "ps.reset()\n"
            ]
        },
        {
            "cell_type": "code",
            "execution_count": 14,
            "metadata": {},
            "outputs": [
                {
                    "data": {
                        "image/png": "[encoded data removed]",
                        "text/plain": [
                            "<Figure size 640x480 with 1 Axes>"
                        ]
                    },
                    "metadata": {},
                    "output_type": "display_data"
                }
            ],
            "source": [
                "import matplotlib.pyplot as plt\n",
                "tt = np.arange(-pretrig_size*hcf.SIDIG_timebase, posttrig_size*hcf.SIDIG_timebase, hcf.SIDIG_timebase)\n",
                "# plt.plot(tt, data_buffer/128*1000)\n",
                "plt.plot(tt, data_buffer_bright1*1000)\n",
                "plt.plot(tt, data_buffer_bright2*1000)\n",
                "plt.xlabel(\"Time [ns]\")\n",
                "plt.ylabel(\"APD level[mV]\")\n",
                "plt.show()"
            ]
        },
        {
            "cell_type": "code",
            "execution_count": 15,
            "metadata": {},
            "outputs": [
                {
                    "data": {
                        "application/vnd.plotly.v1+json": {
                            "config": {
                                "plotlyServerURL": "https://plot.ly"
                            },
                            "data": [
                                {
                                    "mode": "lines",
                                    "name": "Brigth1 Signal",
                                    "type": "scatter",
                                    "x": {
                                        "bdata": "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",
                                        "dtype": "i4"
                                    },
                                    "y": {
                                        "bdata": "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",
                                        "dtype": "f8"
                                    }
                                },
                                {
                                    "mode": "lines",
                                    "name": "Bright2 Signal",
                                    "type": "scatter",
                                    "x": {
                                        "bdata": "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",
                                        "dtype": "i4"
                                    },
                                    "y": {
                                        "bdata": "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",
                                        "dtype": "f8"
                                    }
                                },
                                {
                                    "mode": "lines",
                                    "name": "Diff",
                                    "type": "scatter",
                                    "x": {
                                        "bdata": "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",
                                        "dtype": "i4"
                                    },
                                    "y": {
                                        "bdata": "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",
                                        "dtype": "f8"
                                    }
                                }
                            ],
                            "layout": {
                                "legend": {
                                    "x": 0,
                                    "y": 1
                                },
                                "template": {
                                    "data": {
                                        "bar": [
                                            {
                                                "error_x": {
                                                    "color": "#2a3f5f"
                                                },
                                                "error_y": {
                                                    "color": "#2a3f5f"
                                                },
                                                "marker": {
                                                    "line": {
                                                        "color": "#E5ECF6",
                                                        "width": 0.5
                                                    },
                                                    "pattern": {
                                                        "fillmode": "overlay",
                                                        "size": 10,
                                                        "solidity": 0.2
                                                    }
                                                },
                                                "type": "bar"
                                            }
                                        ],
                                        "barpolar": [
                                            {
                                                "marker": {
                                                    "line": {
                                                        "color": "#E5ECF6",
                                                        "width": 0.5
                                                    },
                                                    "pattern": {
                                                        "fillmode": "overlay",
                                                        "size": 10,
                                                        "solidity": 0.2
                                                    }
                                                },
                                                "type": "barpolar"
                                            }
                                        ],
                                        "carpet": [
                                            {
                                                "aaxis": {
                                                    "endlinecolor": "#2a3f5f",
                                                    "gridcolor": "white",
                                                    "linecolor": "white",
                                                    "minorgridcolor": "white",
                                                    "startlinecolor": "#2a3f5f"
                                                },
                                                "baxis": {
                                                    "endlinecolor": "#2a3f5f",
                                                    "gridcolor": "white",
                                                    "linecolor": "white",
                                                    "minorgridcolor": "white",
                                                    "startlinecolor": "#2a3f5f"
                                                },
                                                "type": "carpet"
                                            }
                                        ],
                                        "choropleth": [
                                            {
                                                "colorbar": {
                                                    "outlinewidth": 0,
                                                    "ticks": ""
                                                },
                                                "type": "choropleth"
                                            }
                                        ],
                                        "contour": [
                                            {
                                                "colorbar": {
                                                    "outlinewidth": 0,
                                                    "ticks": ""
                                                },
                                                "colorscale": [
                                                    [
                                                        0,
                                                        "#0d0887"
                                                    ],
                                                    [
                                                        0.1111111111111111,
                                                        "#46039f"
                                                    ],
                                                    [
                                                        0.2222222222222222,
                                                        "#7201a8"
                                                    ],
                                                    [
                                                        0.3333333333333333,
                                                        "#9c179e"
                                                    ],
                                                    [
                                                        0.4444444444444444,
                                                        "#bd3786"
                                                    ],
                                                    [
                                                        0.5555555555555556,
                                                        "#d8576b"
                                                    ],
                                                    [
                                                        0.6666666666666666,
                                                        "#ed7953"
                                                    ],
                                                    [
                                                        0.7777777777777778,
                                                        "#fb9f3a"
                                                    ],
                                                    [
                                                        0.8888888888888888,
                                                        "#fdca26"
                                                    ],
                                                    [
                                                        1,
                                                        "#f0f921"
                                                    ]
                                                ],
                                                "type": "contour"
                                            }
                                        ],
                                        "contourcarpet": [
                                            {
                                                "colorbar": {
                                                    "outlinewidth": 0,
                                                    "ticks": ""
                                                },
                                                "type": "contourcarpet"
                                            }
                                        ],
                                        "heatmap": [
                                            {
                                                "colorbar": {
                                                    "outlinewidth": 0,
                                                    "ticks": ""
                                                },
                                                "colorscale": [
                                                    [
                                                        0,
                                                        "#0d0887"
                                                    ],
                                                    [
                                                        0.1111111111111111,
                                                        "#46039f"
                                                    ],
                                                    [
                                                        0.2222222222222222,
                                                        "#7201a8"
                                                    ],
                                                    [
                                                        0.3333333333333333,
                                                        "#9c179e"
                                                    ],
                                                    [
                                                        0.4444444444444444,
                                                        "#bd3786"
                                                    ],
                                                    [
                                                        0.5555555555555556,
                                                        "#d8576b"
                                                    ],
                                                    [
                                                        0.6666666666666666,
                                                        "#ed7953"
                                                    ],
                                                    [
                                                        0.7777777777777778,
                                                        "#fb9f3a"
                                                    ],
                                                    [
                                                        0.8888888888888888,
                                                        "#fdca26"
                                                    ],
                                                    [
                                                        1,
                                                        "#f0f921"
                                                    ]
                                                ],
                                                "type": "heatmap"
                                            }
                                        ],
                                        "histogram": [
                                            {
                                                "marker": {
                                                    "pattern": {
                                                        "fillmode": "overlay",
                                                        "size": 10,
                                                        "solidity": 0.2
                                                    }
                                                },
                                                "type": "histogram"
                                            }
                                        ],
                                        "histogram2d": [
                                            {
                                                "colorbar": {
                                                    "outlinewidth": 0,
                                                    "ticks": ""
                                                },
                                                "colorscale": [
                                                    [
                                                        0,
                                                        "#0d0887"
                                                    ],
                                                    [
                                                        0.1111111111111111,
                                                        "#46039f"
                                                    ],
                                                    [
                                                        0.2222222222222222,
                                                        "#7201a8"
                                                    ],
                                                    [
                                                        0.3333333333333333,
                                                        "#9c179e"
                                                    ],
                                                    [
                                                        0.4444444444444444,
                                                        "#bd3786"
                                                    ],
                                                    [
                                                        0.5555555555555556,
                                                        "#d8576b"
                                                    ],
                                                    [
                                                        0.6666666666666666,
                                                        "#ed7953"
                                                    ],
                                                    [
                                                        0.7777777777777778,
                                                        "#fb9f3a"
                                                    ],
                                                    [
                                                        0.8888888888888888,
                                                        "#fdca26"
                                                    ],
                                                    [
                                                        1,
                                                        "#f0f921"
                                                    ]
                                                ],
                                                "type": "histogram2d"
                                            }
                                        ],
                                        "histogram2dcontour": [
                                            {
                                                "colorbar": {
                                                    "outlinewidth": 0,
                                                    "ticks": ""
                                                },
                                                "colorscale": [
                                                    [
                                                        0,
                                                        "#0d0887"
                                                    ],
                                                    [
                                                        0.1111111111111111,
                                                        "#46039f"
                                                    ],
                                                    [
                                                        0.2222222222222222,
                                                        "#7201a8"
                                                    ],
                                                    [
                                                        0.3333333333333333,
                                                        "#9c179e"
                                                    ],
                                                    [
                                                        0.4444444444444444,
                                                        "#bd3786"
                                                    ],
                                                    [
                                                        0.5555555555555556,
                                                        "#d8576b"
                                                    ],
                                                    [
                                                        0.6666666666666666,
                                                        "#ed7953"
                                                    ],
                                                    [
                                                        0.7777777777777778,
                                                        "#fb9f3a"
                                                    ],
                                                    [
                                                        0.8888888888888888,
                                                        "#fdca26"
                                                    ],
                                                    [
                                                        1,
                                                        "#f0f921"
                                                    ]
                                                ],
                                                "type": "histogram2dcontour"
                                            }
                                        ],
                                        "mesh3d": [
                                            {
                                                "colorbar": {
                                                    "outlinewidth": 0,
                                                    "ticks": ""
                                                },
                                                "type": "mesh3d"
                                            }
                                        ],
                                        "parcoords": [
                                            {
                                                "line": {
                                                    "colorbar": {
                                                        "outlinewidth": 0,
                                                        "ticks": ""
                                                    }
                                                },
                                                "type": "parcoords"
                                            }
                                        ],
                                        "pie": [
                                            {
                                                "automargin": true,
                                                "type": "pie"
                                            }
                                        ],
                                        "scatter": [
                                            {
                                                "fillpattern": {
                                                    "fillmode": "overlay",
                                                    "size": 10,
                                                    "solidity": 0.2
                                                },
                                                "type": "scatter"
                                            }
                                        ],
                                        "scatter3d": [
                                            {
                                                "line": {
                                                    "colorbar": {
                                                        "outlinewidth": 0,
                                                        "ticks": ""
                                                    }
                                                },
                                                "marker": {
                                                    "colorbar": {
                                                        "outlinewidth": 0,
                                                        "ticks": ""
                                                    }
                                                },
                                                "type": "scatter3d"
                                            }
                                        ],
                                        "scattercarpet": [
                                            {
                                                "marker": {
                                                    "colorbar": {
                                                        "outlinewidth": 0,
                                                        "ticks": ""
                                                    }
                                                },
                                                "type": "scattercarpet"
                                            }
                                        ],
                                        "scattergeo": [
                                            {
                                                "marker": {
                                                    "colorbar": {
                                                        "outlinewidth": 0,
                                                        "ticks": ""
                                                    }
                                                },
                                                "type": "scattergeo"
                                            }
                                        ],
                                        "scattergl": [
                                            {
                                                "marker": {
                                                    "colorbar": {
                                                        "outlinewidth": 0,
                                                        "ticks": ""
                                                    }
                                                },
                                                "type": "scattergl"
                                            }
                                        ],
                                        "scattermap": [
                                            {
                                                "marker": {
                                                    "colorbar": {
                                                        "outlinewidth": 0,
                                                        "ticks": ""
                                                    }
                                                },
                                                "type": "scattermap"
                                            }
                                        ],
                                        "scattermapbox": [
                                            {
                                                "marker": {
                                                    "colorbar": {
                                                        "outlinewidth": 0,
                                                        "ticks": ""
                                                    }
                                                },
                                                "type": "scattermapbox"
                                            }
                                        ],
                                        "scatterpolar": [
                                            {
                                                "marker": {
                                                    "colorbar": {
                                                        "outlinewidth": 0,
                                                        "ticks": ""
                                                    }
                                                },
                                                "type": "scatterpolar"
                                            }
                                        ],
                                        "scatterpolargl": [
                                            {
                                                "marker": {
                                                    "colorbar": {
                                                        "outlinewidth": 0,
                                                        "ticks": ""
                                                    }
                                                },
                                                "type": "scatterpolargl"
                                            }
                                        ],
                                        "scatterternary": [
                                            {
                                                "marker": {
                                                    "colorbar": {
                                                        "outlinewidth": 0,
                                                        "ticks": ""
                                                    }
                                                },
                                                "type": "scatterternary"
                                            }
                                        ],
                                        "surface": [
                                            {
                                                "colorbar": {
                                                    "outlinewidth": 0,
                                                    "ticks": ""
                                                },
                                                "colorscale": [
                                                    [
                                                        0,
                                                        "#0d0887"
                                                    ],
                                                    [
                                                        0.1111111111111111,
                                                        "#46039f"
                                                    ],
                                                    [
                                                        0.2222222222222222,
                                                        "#7201a8"
                                                    ],
                                                    [
                                                        0.3333333333333333,
                                                        "#9c179e"
                                                    ],
                                                    [
                                                        0.4444444444444444,
                                                        "#bd3786"
                                                    ],
                                                    [
                                                        0.5555555555555556,
                                                        "#d8576b"
                                                    ],
                                                    [
                                                        0.6666666666666666,
                                                        "#ed7953"
                                                    ],
                                                    [
                                                        0.7777777777777778,
                                                        "#fb9f3a"
                                                    ],
                                                    [
                                                        0.8888888888888888,
                                                        "#fdca26"
                                                    ],
                                                    [
                                                        1,
                                                        "#f0f921"
                                                    ]
                                                ],
                                                "type": "surface"
                                            }
                                        ],
                                        "table": [
                                            {
                                                "cells": {
                                                    "fill": {
                                                        "color": "#EBF0F8"
                                                    },
                                                    "line": {
                                                        "color": "white"
                                                    }
                                                },
                                                "header": {
                                                    "fill": {
                                                        "color": "#C8D4E3"
                                                    },
                                                    "line": {
                                                        "color": "white"
                                                    }
                                                },
                                                "type": "table"
                                            }
                                        ]
                                    },
                                    "layout": {
                                        "annotationdefaults": {
                                            "arrowcolor": "#2a3f5f",
                                            "arrowhead": 0,
                                            "arrowwidth": 1
                                        },
                                        "autotypenumbers": "strict",
                                        "coloraxis": {
                                            "colorbar": {
                                                "outlinewidth": 0,
                                                "ticks": ""
                                            }
                                        },
                                        "colorscale": {
                                            "diverging": [
                                                [
                                                    0,
                                                    "#8e0152"
                                                ],
                                                [
                                                    0.1,
                                                    "#c51b7d"
                                                ],
                                                [
                                                    0.2,
                                                    "#de77ae"
                                                ],
                                                [
                                                    0.3,
                                                    "#f1b6da"
                                                ],
                                                [
                                                    0.4,
                                                    "#fde0ef"
                                                ],
                                                [
                                                    0.5,
                                                    "#f7f7f7"
                                                ],
                                                [
                                                    0.6,
                                                    "#e6f5d0"
                                                ],
                                                [
                                                    0.7,
                                                    "#b8e186"
                                                ],
                                                [
                                                    0.8,
                                                    "#7fbc41"
                                                ],
                                                [
                                                    0.9,
                                                    "#4d9221"
                                                ],
                                                [
                                                    1,
                                                    "#276419"
                                                ]
                                            ],
                                            "sequential": [
                                                [
                                                    0,
                                                    "#0d0887"
                                                ],
                                                [
                                                    0.1111111111111111,
                                                    "#46039f"
                                                ],
                                                [
                                                    0.2222222222222222,
                                                    "#7201a8"
                                                ],
                                                [
                                                    0.3333333333333333,
                                                    "#9c179e"
                                                ],
                                                [
                                                    0.4444444444444444,
                                                    "#bd3786"
                                                ],
                                                [
                                                    0.5555555555555556,
                                                    "#d8576b"
                                                ],
                                                [
                                                    0.6666666666666666,
                                                    "#ed7953"
                                                ],
                                                [
                                                    0.7777777777777778,
                                                    "#fb9f3a"
                                                ],
                                                [
                                                    0.8888888888888888,
                                                    "#fdca26"
                                                ],
                                                [
                                                    1,
                                                    "#f0f921"
                                                ]
                                            ],
                                            "sequentialminus": [
                                                [
                                                    0,
                                                    "#0d0887"
                                                ],
                                                [
                                                    0.1111111111111111,
                                                    "#46039f"
                                                ],
                                                [
                                                    0.2222222222222222,
                                                    "#7201a8"
                                                ],
                                                [
                                                    0.3333333333333333,
                                                    "#9c179e"
                                                ],
                                                [
                                                    0.4444444444444444,
                                                    "#bd3786"
                                                ],
                                                [
                                                    0.5555555555555556,
                                                    "#d8576b"
                                                ],
                                                [
                                                    0.6666666666666666,
                                                    "#ed7953"
                                                ],
                                                [
                                                    0.7777777777777778,
                                                    "#fb9f3a"
                                                ],
                                                [
                                                    0.8888888888888888,
                                                    "#fdca26"
                                                ],
                                                [
                                                    1,
                                                    "#f0f921"
                                                ]
                                            ]
                                        },
                                        "colorway": [
                                            "#636efa",
                                            "#EF553B",
                                            "#00cc96",
                                            "#ab63fa",
                                            "#FFA15A",
                                            "#19d3f3",
                                            "#FF6692",
                                            "#B6E880",
                                            "#FF97FF",
                                            "#FECB52"
                                        ],
                                        "font": {
                                            "color": "#2a3f5f"
                                        },
                                        "geo": {
                                            "bgcolor": "white",
                                            "lakecolor": "white",
                                            "landcolor": "#E5ECF6",
                                            "showlakes": true,
                                            "showland": true,
                                            "subunitcolor": "white"
                                        },
                                        "hoverlabel": {
                                            "align": "left"
                                        },
                                        "hovermode": "closest",
                                        "mapbox": {
                                            "style": "light"
                                        },
                                        "paper_bgcolor": "white",
                                        "plot_bgcolor": "#E5ECF6",
                                        "polar": {
                                            "angularaxis": {
                                                "gridcolor": "white",
                                                "linecolor": "white",
                                                "ticks": ""
                                            },
                                            "bgcolor": "#E5ECF6",
                                            "radialaxis": {
                                                "gridcolor": "white",
                                                "linecolor": "white",
                                                "ticks": ""
                                            }
                                        },
                                        "scene": {
                                            "xaxis": {
                                                "backgroundcolor": "#E5ECF6",
                                                "gridcolor": "white",
                                                "gridwidth": 2,
                                                "linecolor": "white",
                                                "showbackground": true,
                                                "ticks": "",
                                                "zerolinecolor": "white"
                                            },
                                            "yaxis": {
                                                "backgroundcolor": "#E5ECF6",
                                                "gridcolor": "white",
                                                "gridwidth": 2,
                                                "linecolor": "white",
                                                "showbackground": true,
                                                "ticks": "",
                                                "zerolinecolor": "white"
                                            },
                                            "zaxis": {
                                                "backgroundcolor": "#E5ECF6",
                                                "gridcolor": "white",
                                                "gridwidth": 2,
                                                "linecolor": "white",
                                                "showbackground": true,
                                                "ticks": "",
                                                "zerolinecolor": "white"
                                            }
                                        },
                                        "shapedefaults": {
                                            "line": {
                                                "color": "#2a3f5f"
                                            }
                                        },
                                        "ternary": {
                                            "aaxis": {
                                                "gridcolor": "white",
                                                "linecolor": "white",
                                                "ticks": ""
                                            },
                                            "baxis": {
                                                "gridcolor": "white",
                                                "linecolor": "white",
                                                "ticks": ""
                                            },
                                            "bgcolor": "#E5ECF6",
                                            "caxis": {
                                                "gridcolor": "white",
                                                "linecolor": "white",
                                                "ticks": ""
                                            }
                                        },
                                        "title": {
                                            "x": 0.05
                                        },
                                        "xaxis": {
                                            "automargin": true,
                                            "gridcolor": "white",
                                            "linecolor": "white",
                                            "ticks": "",
                                            "title": {
                                                "standoff": 15
                                            },
                                            "zerolinecolor": "white",
                                            "zerolinewidth": 2
                                        },
                                        "yaxis": {
                                            "automargin": true,
                                            "gridcolor": "white",
                                            "linecolor": "white",
                                            "ticks": "",
                                            "title": {
                                                "standoff": 15
                                            },
                                            "zerolinecolor": "white",
                                            "zerolinewidth": 2
                                        }
                                    }
                                },
                                "title": {
                                    "text": "APD Signal Over Time"
                                },
                                "xaxis": {
                                    "title": {
                                        "text": "Time [ns]"
                                    }
                                },
                                "yaxis": {
                                    "title": {
                                        "text": "APD Level [mV]"
                                    }
                                }
                            }
                        }
                    },
                    "metadata": {},
                    "output_type": "display_data"
                }
            ],
            "source": [
                "import plotly.graph_objects as go\n",
                "import numpy as np\n",
                "\n",
                "# Create time array\n",
                "tt = np.arange(-pretrig_size * hcf.SIDIG_timebase, posttrig_size * hcf.SIDIG_timebase, hcf.SIDIG_timebase)\n",
                "\n",
                "# Create figure\n",
                "fig = go.Figure()\n",
                "\n",
                "# Add traces for dark and bright data\n",
                "fig.add_trace(go.Scatter(x=tt, y=data_buffer_bright1 * 1000, mode='lines', name='Brigth1 Signal'))\n",
                "fig.add_trace(go.Scatter(x=tt, y=data_buffer_bright2 * 1000, mode='lines', name='Bright2 Signal'))\n",
                "fig.add_trace(go.Scatter(x=tt, y=(data_buffer_bright2-data_buffer_bright1) * 1000, mode='lines', name='Diff'))\n",
                "\n",
                "\n",
                "# Customize layout\n",
                "fig.update_layout(\n",
                "    title=\"APD Signal Over Time\",\n",
                "    xaxis_title=\"Time [ns]\",\n",
                "    yaxis_title=\"APD Level [mV]\",\n",
                "    # template=\"plotly_bright1\",\n",
                "    legend=dict(x=0, y=1)  # Adjust legend position\n",
                ")\n",
                "\n",
                "# Show plot\n",
                "fig.show()\n"
            ]
        },
        {
            "cell_type": "code",
            "execution_count": null,
            "metadata": {},
            "outputs": [],
            "source": []
        }
    ],
    "metadata": {
        "kernelspec": {
            "display_name": "Python 3",
            "language": "python",
            "name": "python3"
        },
        "language_info": {
            "codemirror_mode": {
                "name": "ipython",
                "version": 3
            },
            "file_extension": ".py",
            "mimetype": "text/x-python",
            "name": "python",
            "nbconvert_exporter": "python",
            "pygments_lexer": "ipython3",
            "version": "3.10.16"
        }
    },
    "nbformat": 4,
    "nbformat_minor": 2
}