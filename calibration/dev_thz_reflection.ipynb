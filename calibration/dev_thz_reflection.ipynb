{
 "cells": [
  {
   "cell_type": "code",
   "execution_count": 1,
   "metadata": {},
   "outputs": [],
   "source": [
    "import time\n",
    "import sys\n",
    "import os\n",
    "path_project = \"\\\\\".join(os.getcwd().split(\"\\\\\")[:-1])\n",
    "# caution: path[0] is reserved for script path (or '' in REPL)\n",
    "sys.path.insert(1, path_project)\n",
    "\n",
    "from hardware.pulser.pulser import PulseGenerator, OutputState, TriggerStart, TriggerRearm, HIGH, LOW, INF, REPEAT_INFINITELY\n",
    "from hardware.laser.laser import LaserControl\n",
    "from hardware.mw.mwsynthesizer import Synthesizer\n",
    "\n",
    "from hardware import config_custom as hcf\n",
    "\n",
    "import nidaqmx\n",
    "from nidaqmx.constants import TerminalConfiguration, VoltageUnits, Edge, AcquisitionType, Coupling, READ_ALL_AVAILABLE\n",
    "# from nidaqmx.constants import LogicFamily \n",
    "# TWO_POINT_FIVE_V, THREE_POINT_THREE_V, FIVE_V\n",
    "# from nidaqmx import stream_readers \n",
    "from nidaqmx.stream_readers import AnalogSingleChannelReader\n",
    "\n",
    "import numpy as np\n",
    "import matplotlib.pyplot as plt\n",
    "from math import lcm\n",
    "\n",
    "import numpy as np\n",
    "import matplotlib.pyplot as plt\n",
    "from scipy.optimize import curve_fit\n"
   ]
  },
  {
   "cell_type": "code",
   "execution_count": 2,
   "metadata": {},
   "outputs": [],
   "source": [
    "\n",
    "# RC square wave model with offset: combines exponential rise and fall with DC offset\n",
    "def rc_square_wave_with_offset(t, frequency, amplitude, phase, amp_discharge, rc, offset):\n",
    "    period = 1 / frequency\n",
    "    half_period = period / 2\n",
    "    dt = (t[-1]-t[0])/len(t)\n",
    "    t_shifted = (t + phase / (2 * np.pi * frequency)) % period # Shift by phase\n",
    "\n",
    "    # smoothness = 0.2*(t[1]-t[0])\n",
    "    smoothness = period/1000.0\n",
    "    smoothedge1 = 1 - np.exp(-t_shifted / smoothness)-np.exp(-(half_period-t_shifted) / smoothness)\n",
    "    smoothedge2 = 1 - np.exp(-(t_shifted - half_period) / smoothness)-np.exp(-(period-t_shifted) / smoothness)\n",
    "\n",
    "    rc_wave = np.zeros_like(t)\n",
    "    flipflop = t_shifted < half_period\n",
    "    rcwave_fronthalf = (amplitude*smoothedge1-amp_discharge * (1 - np.exp(-t_shifted / rc)))\n",
    "    rcwave_endhalf = (-amplitude*smoothedge2+amp_discharge * (1 - np.exp(-(t_shifted - half_period) / rc)))\n",
    "    rc_wave = flipflop*rcwave_fronthalf + (~flipflop)*rcwave_endhalf\n",
    "    # Add the offset to the square wave and the RC modification\n",
    "    return  rc_wave + offset\n",
    "\n",
    "def square_wave_with_offset(t, frequency, amplitude, phase, offset):\n",
    "    period = 1 / frequency\n",
    "    half_period = period / 2\n",
    "    dt = (t[-1]-t[0])/len(t)\n",
    "    t_shifted = (t + phase / (2 * np.pi * frequency)) % period # Shift by phase\n",
    "    rc_wave = np.zeros_like(t)\n",
    "    # smoothness = 0.2*(t[1]-t[0])\n",
    "    smoothness = period/1000.0\n",
    "    smoothedge1 = 1 - np.exp(-t_shifted / smoothness)-np.exp(-(half_period-t_shifted) / smoothness)\n",
    "    smoothedge2 = 1 - np.exp(-(t_shifted - half_period) / smoothness)-np.exp(-(period-t_shifted) / smoothness)\n",
    "    flipflop = t_shifted < half_period\n",
    "    rcwave_fronthalf = amplitude*smoothedge1\n",
    "    rcwave_endhalf = -amplitude*smoothedge2\n",
    "    rc_wave = flipflop*rcwave_fronthalf + (~flipflop)*rcwave_endhalf\n",
    "    # Add the offset to the square wave and the RC modification\n",
    "    return  rc_wave + offset\n",
    "def estimate_rcsquare(xx, yy):\n",
    "    amp_guess = (np.max(yy)-np.min(yy))/2.0\n",
    "    yybase = np.mean(yy)\n",
    "    yy_shifted = yy - yybase\n",
    "    idx_neg = np.where(yy_shifted<0)[0][0]\n",
    "    idx_pos = np.where(yy_shifted>0)[0][0]\n",
    "    initial_guess = [0.5/abs(xx[idx_neg]-xx[idx_pos]), amp_guess, 0.1, amp_guess, 25E3, yybase]\n",
    "    return initial_guess\n",
    "def fit_rcsquare(xx, yy, initial_guess, bounds):\n",
    "    # do a fit------------------------------\n",
    "    params_opt, params_cov = curve_fit(rc_square_wave_with_offset, xx, yy, p0=initial_guess, bounds=bounds)\n",
    "    # params_opt, params_cov = curve_fit(rc_square_wave_with_offset, xx, yy, p0=initial_guess)\n",
    "\n",
    "    return params_opt, params_cov"
   ]
  },
  {
   "cell_type": "code",
   "execution_count": 3,
   "metadata": {},
   "outputs": [
    {
     "name": "stdout",
     "output_type": "stream",
     "text": [
      "Connect to Pulse Streamer via JSON-RPC.\n",
      "IP / Hostname: 169.254.8.2\n",
      "Pulse Streamer 8/2 firmware: v1.7.2\n",
      "Client software: v1.7.0\n",
      "VDI Sythesizer Serail Port Open\n"
     ]
    }
   ],
   "source": [
    "# connect to devices\n",
    "pg  = PulseGenerator(ip=hcf.PS_IP, chmap=hcf.PS_chmap, choffs=hcf.PS_choffs) \n",
    "mwsyn = Synthesizer(hcf.VDISYN_SN, \n",
    "                    vidpid=hcf.VDISYN_VIDPID,\n",
    "                    baudrate=hcf.VDISYN_BAUD, \n",
    "                    timeout=5, \n",
    "                    write_timeout=5)\n",
    "# mwsyn.reboot()\n"
   ]
  },
  {
   "cell_type": "code",
   "execution_count": 4,
   "metadata": {},
   "outputs": [],
   "source": [
    "paraset = dict(\n",
    "    mwfreq = 398.556, # [GHz] MW frequency after AMC\n",
    "    mwpower = 5.0, #[V]\n",
    "    pulse_rate = 5E3,#[Hz], better to be multiple of the daq sampling rate\n",
    "    daq_max = 1.0, #[V]\n",
    "    daq_min = -1.0, #[V]\n",
    "    daq_srate = hcf.NI_sampling_max, #[Hz]\n",
    "    refresh = 25, #[Hz]\n",
    "    window = 2.0#[s]\n",
    ")\n",
    "mwfreq = paraset[\"mwfreq\"] # [GHz] \n",
    "mwpower = paraset[\"mwpower\"] #[V]\n",
    "pulse_rate = paraset[\"pulse_rate\"]#[Hz]\n",
    "daq_max = paraset[\"daq_max\"] #[V]\n",
    "daq_min = paraset[\"daq_min\"] #[V]\n",
    "daq_srate = paraset[\"daq_srate\"] #[Hz]\n",
    "refresh = paraset[\"refresh\"] #[Hz]\n",
    "window = paraset[\"window\"] #[s]\n"
   ]
  },
  {
   "cell_type": "code",
   "execution_count": 5,
   "metadata": {},
   "outputs": [
    {
     "name": "stdout",
     "output_type": "stream",
     "text": [
      "CW Freqeuncy Setting Sent:16.6065 GHz\n",
      "Actual Output CW Freqeuncy :16.60650000348687 GHz\n"
     ]
    },
    {
     "data": {
      "text/plain": [
       "1"
      ]
     },
     "execution_count": 5,
     "metadata": {},
     "output_type": "execute_result"
    }
   ],
   "source": [
    "# set MW frequency =====================================================\n",
    "freq = mwfreq/24.0\n",
    "\n",
    "errorbyte, freq_actual = mwsyn.cw_frequency(freq)\n",
    "paraset[\"mwfreq\"] = freq_actual\n",
    "print(f\"CW Freqeuncy Setting Sent:{freq} GHz\")\n",
    "print(f\"Actual Output CW Freqeuncy :{freq_actual} GHz\")\n",
    "\n",
    "# set MW power =====================================================\n",
    "mwpower_vlevel = mwpower # 5V equals to max power\n",
    "task_uca = nidaqmx.Task(\"UCA\") # user controlled attenuation\n",
    "task_uca.ao_channels.add_ao_voltage_chan(hcf.NI_ch_UCA, min_val=0.0, max_val=10)\n",
    "# task_uca.timing.cfg_samp_clk_timing(hcf.NI_sampling_max/100.0, sample_mode=AcquisitionType.CONTINUOUS)\n",
    "task_uca.start()\n",
    "task_uca.write([mwpower_vlevel], auto_start=False)"
   ]
  },
  {
   "cell_type": "code",
   "execution_count": 6,
   "metadata": {},
   "outputs": [],
   "source": [
    "# here we set up the parameters for the instruments------------------------\n",
    "dt_daq = int(1.0/daq_srate*1E9) # ns\n",
    "num_read = int(daq_srate/refresh)\n",
    "dt_pulse = int(1/pulse_rate*1E9) # [ns]\n",
    "leastrepeat = lcm(dt_daq, dt_pulse)\n",
    "\n",
    "# set up the NI DAQ board-----------------------------------------------\n",
    "task_zbd = nidaqmx.Task(\"ZBD\") # user controlled attenuation\n",
    "task_zbd.ai_channels.add_ai_voltage_chan(hcf.NI_ch_ZBD, min_val=-10.0, max_val=10)\n",
    "task_zbd.ai_coupling = Coupling.AC\n",
    "task_zbd.timing.cfg_samp_clk_timing(daq_srate, \n",
    "                                    source=hcf.NI_ch_Clock, \n",
    "                                    active_edge=Edge.RISING,\n",
    "                                    sample_mode=AcquisitionType.CONTINUOUS)\n",
    "task_zbd_readtrig = task_zbd.triggers.start_trigger\n",
    "task_zbd_readtrig.cfg_dig_edge_start_trig(\n",
    "    hcf.NI_ch_Trig, Edge.RISING\n",
    ")\n",
    "task_zbd_readtrig.cfg_dig_edge_start_trig(hcf.NI_ch_Trig, Edge.RISING)\n",
    "task_zbd_reader = AnalogSingleChannelReader(task_zbd.in_stream)\n",
    "task_zbd_reader.read_all_avail_samp  = True\n",
    "#-------------------------------------------------------------------------\n",
    "\n",
    "# set the pulse sequence --------------------------------------------\n",
    "pg.resetSeq()\n",
    "pg.setDigital(\"dtrig\", [(dt_daq/2.0, HIGH), (dt_daq/2.0, LOW)], offset=True)\n",
    "pg.setDigital(\"mwA\", [(dt_pulse/2.0, LOW), (dt_pulse/2.0, LOW)]*int(leastrepeat/dt_pulse), offset=True)\n",
    "pg.setDigital(\"mwB\", [(dt_pulse/2.0, LOW), (dt_pulse/2.0, HIGH)]*int(leastrepeat/dt_pulse), offset=True)\n",
    "pg.setDigital(\"dclk\", [(dt_daq/2.0, LOW), (dt_daq/2.0, HIGH)]*int(leastrepeat/dt_daq), offset=True)\n",
    "pg.setTrigger(start=TriggerStart.SOFTWARE, rearm=TriggerRearm.AUTO)\n",
    "pg.stream(n_runs=REPEAT_INFINITELY)\n",
    "# -----------------------------------------------------------------------\n",
    "# Start the task\n",
    "task_zbd.start()\n",
    "pg.startNow()\n",
    "\n",
    "## here is inside the measurement event loop-------------------------\n",
    "# dt = 1E9/daq_srate # ns\n",
    "# div = int(daq_srate/pulse_rate)\n",
    "# num_ptrepeat = int(num_read/div)\n",
    "num_window = int(refresh*window)\n",
    "\n",
    "\n",
    "daq_buffer = np.zeros(num_read, dtype=np.float64, order='C')\n",
    "zbd_amptrace = np.zeros(num_window, dtype=np.float64, order='C')\n",
    "zbd_ttrace = np.arange(0, window, 1.0/refresh)\n",
    "num_run = 1000\n",
    "idx_run = 0\n",
    "# zbd_time = np.arange(0, div*dt_daq, dt_daq)\n",
    "# zbd_samples = np.zeros(num_read, dtype=np.float64, order='C')\n",
    "# zbd_aetrace = np.zeros(num_window, dtype=np.float64, order='C')\n",
    "# fit_bounds = ([0.0, 0.0, 0.0, 0.0, 0.0, -np.inf], [np.inf, np.inf, np.pi*2.0, np.inf, np.inf, np.inf])\n",
    "time_start = time.time()\n",
    "time_record = []\n",
    "time_run = 0\n",
    "for _ in range(num_run):\n",
    "    task_zbd_reader.read_many_sample(\n",
    "        daq_buffer, \n",
    "        number_of_samples_per_channel=num_read,\n",
    "        timeout=10.0\n",
    "    )\n",
    "    idx_run += 1\n",
    "    if idx_run > num_window:\n",
    "        break\n",
    "\n",
    "    # some basic data analysis-------------------------------\n",
    "\n",
    "\n",
    "    # # perform numerical fit-----------------------\n",
    "    # zbd_samples_reshape = np.reshape(np.copy(dqq_buffer), (num_ptrepeat, div))\n",
    "    # zbd_samples = np.average(zbd_samples_reshape, axis=0)\n",
    "    # para_guess = estimate_rcsquare(zbd_time, zbd_samples)\n",
    "    # para_fit, params_cov = fit_rcsquare(zbd_time,zbd_samples, initial_guess=para_guess, bounds=fit_bounds)\n",
    "    # amp = para_fit[1]\n",
    "    # zbd_amptrace[:-1] = zbd_amptrace[1:]\n",
    "    # zbd_amptrace[-1] = amp\n",
    "    # amp_error = np.sqrt(np.diag(params_cov))[1]\n",
    "    # zbd_aetrace[:-1] = zbd_aetrace[1:]\n",
    "    # zbd_aetrace[-1] = amp_error\n",
    "    # # ---------------------------------------------\n",
    "\n",
    "    # # Perform FFT on the signal----------------------------------\n",
    "    # fft_result = np.fft.fft(np.copy(dqq_buffer))\n",
    "    # fft_freqs = np.fft.fftfreq(num_read, 1/dt_daq)\n",
    "    # # Get the positive frequencies and corresponding FFT values\n",
    "    # positive_freqs = fft_freqs[fft_freqs >= 0]\n",
    "    # positive_fft = np.abs(fft_result[fft_freqs >= 0])\n",
    "    # # Find the peak amplitude at a specific frequency (e.g., 50 Hz)\n",
    "    # target_frequency = pulse_rate/1E9\n",
    "    # idx = (np.abs(positive_freqs - target_frequency)).argmin()  # Find the closest frequency bin\n",
    "    # peak_amplitude = positive_fft[idx]\n",
    "    # zbd_amptrace[:-1] = zbd_amptrace[1:]\n",
    "    # zbd_amptrace[-1] = peak_amplitude/num_read*2\n",
    "    # #------------------------------------------------------------\n",
    "\n",
    "    # Perform average on the signal absolute----------------------------------\n",
    "    signal_nofloor = np.copy(daq_buffer)\n",
    "    signal_nofloor = signal_nofloor - np.average(signal_nofloor)\n",
    "    peak_amplitude = np.average(np.abs(signal_nofloor))\n",
    "    zbd_amptrace[:-1] = zbd_amptrace[1:]\n",
    "    zbd_amptrace[-1] = peak_amplitude\n",
    "    #------------------------------------------------------------\n",
    "\n",
    "    time_now = time.time()\n",
    "    time_single = time_now - time_start - time_run \n",
    "    time_run = time_now - time_start\n",
    "    time_record.append(time_single)\n",
    "# here we finish the measurement-------------------\n",
    "pg.forceFinal()\n",
    "pg.constant(OutputState.ZERO())\n",
    "pg.reset()\n",
    "\n",
    "task_zbd.stop()\n",
    "task_zbd.close()\n",
    "task_uca.stop()\n",
    "task_uca.close()\n",
    "\n",
    "mwsyn.close()"
   ]
  },
  {
   "cell_type": "code",
   "execution_count": 7,
   "metadata": {},
   "outputs": [
    {
     "data": {
      "text/plain": [
       "Text(0, 0.5, 'Amplitude [mV]')"
      ]
     },
     "execution_count": 7,
     "metadata": {},
     "output_type": "execute_result"
    },
    {
     "data": {
      "image/png": "[encoded data removed]",
      "text/plain": [
       "<Figure size 1000x600 with 1 Axes>"
      ]
     },
     "metadata": {},
     "output_type": "display_data"
    }
   ],
   "source": [
    "plt.figure(figsize=(10, 6))\n",
    "plt.plot(zbd_ttrace, zbd_amptrace*1E3)\n",
    "plt.xlabel('Time [s]')\n",
    "plt.ylabel('Amplitude [mV]')\n"
   ]
  },
  {
   "cell_type": "code",
   "execution_count": 8,
   "metadata": {},
   "outputs": [
    {
     "ename": "NameError",
     "evalue": "name 'zbd_time' is not defined",
     "output_type": "error",
     "traceback": [
      "\u001b[1;31m---------------------------------------------------------------------------\u001b[0m",
      "\u001b[1;31mNameError\u001b[0m                                 Traceback (most recent call last)",
      "Cell \u001b[1;32mIn[8], line 5\u001b[0m\n\u001b[0;32m      1\u001b[0m \u001b[38;5;66;03m# params_opt, _ = fit_rcsquare(zbd_time, zbd_samples, initial_guess=para_fit, bounds=fit_bounds)\u001b[39;00m\n\u001b[0;32m      2\u001b[0m \u001b[38;5;66;03m# fitted_signal = rc_square_wave_with_offset(zbd_time, *params_opt)\u001b[39;00m\n\u001b[0;32m      3\u001b[0m \u001b[38;5;66;03m# Plot the original and fitted signals-----------------------\u001b[39;00m\n\u001b[0;32m      4\u001b[0m plt\u001b[38;5;241m.\u001b[39mfigure(figsize\u001b[38;5;241m=\u001b[39m(\u001b[38;5;241m10\u001b[39m, \u001b[38;5;241m6\u001b[39m))\n\u001b[1;32m----> 5\u001b[0m plt\u001b[38;5;241m.\u001b[39mplot(\u001b[43mzbd_time\u001b[49m, zbd_samples, label\u001b[38;5;241m=\u001b[39m\u001b[38;5;124m\"\u001b[39m\u001b[38;5;124mOriginal Signal\u001b[39m\u001b[38;5;124m\"\u001b[39m, color\u001b[38;5;241m=\u001b[39m\u001b[38;5;124m'\u001b[39m\u001b[38;5;124mblue\u001b[39m\u001b[38;5;124m'\u001b[39m)\n\u001b[0;32m      6\u001b[0m \u001b[38;5;66;03m# plt.plot(zbd_time, fitted_signal, label=\"Fitted Signal\", linestyle=\"--\", color='red')\u001b[39;00m\n\u001b[0;32m      7\u001b[0m plt\u001b[38;5;241m.\u001b[39mtitle(\u001b[38;5;124m'\u001b[39m\u001b[38;5;124mRC Square Wave Model Fit with Offsets\u001b[39m\u001b[38;5;124m'\u001b[39m)\n",
      "\u001b[1;31mNameError\u001b[0m: name 'zbd_time' is not defined"
     ]
    },
    {
     "data": {
      "text/plain": [
       "<Figure size 1000x600 with 0 Axes>"
      ]
     },
     "metadata": {},
     "output_type": "display_data"
    }
   ],
   "source": [
    "# params_opt, _ = fit_rcsquare(zbd_time, zbd_samples, initial_guess=para_fit, bounds=fit_bounds)\n",
    "# fitted_signal = rc_square_wave_with_offset(zbd_time, *params_opt)\n",
    "# Plot the original and fitted signals-----------------------\n",
    "plt.figure(figsize=(10, 6))\n",
    "plt.plot(zbd_time, zbd_samples, label=\"Original Signal\", color='blue')\n",
    "# plt.plot(zbd_time, fitted_signal, label=\"Fitted Signal\", linestyle=\"--\", color='red')\n",
    "plt.title('RC Square Wave Model Fit with Offsets')\n",
    "plt.xlabel('Time [s]')\n",
    "plt.ylabel('Amplitude')\n",
    "plt.legend()\n",
    "plt.grid(True)\n",
    "plt.show()\n",
    "\n",
    "# Display the optimized parameters\n",
    "num_waves = len(params_opt) // 5\n",
    "print(\"Fitted Parameters:\")\n",
    "for i in range(num_waves):\n",
    "    print(f\"RC Square Wave {i+1}:\")\n",
    "    print(f\"  Frequency: {1E9*params_opt[i*5]/1E3:.2f} kHz\")\n",
    "    print(f\"  Amplitude: {params_opt[i*5+1]*1E3:.2f} mV\")\n",
    "    print(f\"  Phase: {180/np.pi*params_opt[i*5+2]:.2f} deg\")\n",
    "    print(f\"  Dsicharge Amp.: {params_opt[i*5+3]*1E3:.2f} mV\")\n",
    "    print(f\"  RC Time Constant: {params_opt[i*5+4]/1E3:.4f} us\")\n",
    "    print(f\"  Offset: {params_opt[i*5+5]*1E3:.2f} mV\")"
   ]
  },
  {
   "cell_type": "code",
   "execution_count": null,
   "metadata": {},
   "outputs": [],
   "source": []
  }
 ],
 "metadata": {
  "kernelspec": {
   "display_name": "hfnvenv",
   "language": "python",
   "name": "python3"
  },
  "language_info": {
   "codemirror_mode": {
    "name": "ipython",
    "version": 3
   },
   "file_extension": ".py",
   "mimetype": "text/x-python",
   "name": "python",
   "nbconvert_exporter": "python",
   "pygments_lexer": "ipython3",
   "version": "3.10.14"
  }
 },
 "nbformat": 4,
 "nbformat_minor": 2
}
