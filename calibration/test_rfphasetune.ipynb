{
 "cells": [
  {
   "cell_type": "code",
   "execution_count": null,
   "id": "916e4bdc",
   "metadata": {},
   "outputs": [],
   "source": [
    "import time\n",
    "import sys\n",
    "import os\n",
    "path_project = \"\\\\\".join(os.getcwd().split(\"\\\\\")[:-1])\n",
    "# caution: path[0] is reserved for script path (or '' in REPL)\n",
    "sys.path.insert(1, path_project)\n",
    "\n",
    "from calibration.rfphasetune import RFPhaseTune\n"
   ]
  },
  {
   "cell_type": "code",
   "execution_count": null,
   "id": "ff93b47c",
   "metadata": {},
   "outputs": [],
   "source": [
    "# Initialize experiment\n",
    "rfphtuner = RFPhaseTune()\n",
    "\n",
    "# Optional: Adjust paraset\n",
    "rfphtuner.paraset[\"rate_refresh\"] = 10.0  # Hz\n",
    "rfphtuner.set_stoptime(20)\n",
    "\n",
    "# Setup experiment\n",
    "rfphtuner.start()"
   ]
  },
  {
   "cell_type": "code",
   "execution_count": null,
   "id": "a5e43205",
   "metadata": {},
   "outputs": [],
   "source": [
    "from IPython.display import display, clear_output\n",
    "\n",
    "import plotly.graph_objs as go\n",
    "\n",
    "# Setup live plot with Plotly\n",
    "fig = go.FigureWidget()\n",
    "fig.add_scatter(mode='lines+markers', name='Power vs Phase')\n",
    "fig.update_layout(\n",
    "    xaxis_title=\"Phase [deg]\",\n",
    "    yaxis_title=\"Power [uW]\",\n",
    "    title=\"Phase Tuning Live\",\n",
    "    xaxis=dict(range=[0, 360]),\n",
    "    yaxis=dict(range=[0, 1.1 * rfphtuner.reference_power]),\n",
    "    template=\"plotly_white\"\n",
    ")\n",
    "display(fig)\n",
    "\n",
    "# Run loop\n",
    "while not rfphtuner.search_done and not rfphtuner.timeout():\n",
    "    rfphtuner._run_exp()\n",
    "\n",
    "    # Live update\n",
    "    with fig.batch_update():\n",
    "        fig.data[0].x = rfphtuner.dataset[\"phase_history\"]\n",
    "        fig.data[0].y = rfphtuner.dataset[\"power_history\"]\n",
    "\n",
    "# Shutdown\n",
    "rfphtuner._shutdown_exp()\n",
    "\n",
    "print(\"✅ Optimal phase:\", rfphtuner.dataset[\"optimal_phase\"])"
   ]
  }
 ],
 "metadata": {
  "kernelspec": {
   "display_name": "hfnvenv",
   "language": "python",
   "name": "python3"
  },
  "language_info": {
   "codemirror_mode": {
    "name": "ipython",
    "version": 3
   },
   "file_extension": ".py",
   "mimetype": "text/x-python",
   "name": "python",
   "nbconvert_exporter": "python",
   "pygments_lexer": "ipython3",
   "version": "3.10.14"
  }
 },
 "nbformat": 4,
 "nbformat_minor": 5
}
