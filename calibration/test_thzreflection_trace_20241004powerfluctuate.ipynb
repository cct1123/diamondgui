{
 "cells": [
  {
   "cell_type": "code",
   "execution_count": null,
   "metadata": {},
   "outputs": [],
   "source": [
    "import time\n",
    "import sys\n",
    "import os\n",
    "path_project = \"\\\\\".join(os.getcwd().split(\"\\\\\")[:-1])\n",
    "# caution: path[0] is reserved for script path (or '' in REPL)\n",
    "sys.path.insert(1, path_project)\n",
    "\n",
    "from calibration.thzreflection_trace import THzReflectionTrace\n",
    "import matplotlib.pyplot as plt\n",
    "\n",
    "# from nspyre import InstrumentGateway\n",
    "# from nspyre import DataSource\n",
    "# from rpyc.utils.classic import obtain\n",
    "# gw = InstrumentGateway(addr='127.0.0.1')\n",
    "# ds = DataSource(thzref._name, addr='127.0.0.1')\n",
    "# gw.connect()\n",
    "# gw.mwsyn.open()\n",
    "# gw.mwsyn.cw_frequency(16.0)\n",
    "# gw.mwsyn.close()\n",
    "\n",
    "thzref = THzReflectionTrace()\n",
    "print(\"Measurement Name: \", thzref._name)\n",
    "\n",
    "mwfreq=398.556  # [GHz] # MW frequency after AMC\n",
    "mwpower=4.5  # [V] # MW power\n",
    "pulse_rate=100E3  # [Hz] # better to be multiple of the daq sampling rate\n",
    "daq_max=0.1  # [V] # maximum voltage of the DAQ card\n",
    "daq_min=-0.1  # [V] # minimum voltage of the DAQ card\n",
    "daq_srate=500E3  # [Hz] # daq sampling rate\n",
    "refresh=20  # [Hz] # refresh rate of the plot\n",
    "window=500.0  # [s] # time window of the measurement\n",
    "\n",
    "thzref.set_paraset(mwfreq=mwfreq, \n",
    "                   mwpower=mwpower, \n",
    "                   pulse_rate=pulse_rate, \n",
    "                   daq_max=daq_max, \n",
    "                   daq_min=daq_min, \n",
    "                   daq_srate=daq_srate, \n",
    "                   refresh=refresh, \n",
    "                   window=window)\n",
    "\n",
    "thzref.set_stoptime(700.0)\n",
    "\n",
    "thzref.start();"
   ]
  },
  {
   "cell_type": "code",
   "execution_count": null,
   "metadata": {},
   "outputs": [
    {
     "name": "stderr",
     "output_type": "stream",
     "text": [
      "Source sending keepalive to data server.\n",
      "Sent [0] bytes to ('127.0.0.1', 30101).\n",
      "Source sent pickle of [0] bytes to data server [('127.0.0.1', 30101)].\n",
      "Source sending keepalive to data server.\n",
      "Sent [0] bytes to ('127.0.0.1', 30101).\n",
      "Source sent pickle of [0] bytes to data server [('127.0.0.1', 30101)].\n",
      "Source sending keepalive to data server.\n",
      "Sent [0] bytes to ('127.0.0.1', 30101).\n",
      "Source sent pickle of [0] bytes to data server [('127.0.0.1', 30101)].\n"
     ]
    }
   ],
   "source": [
    "\n",
    "xx = thzref.dataset[\"zbd_time\"]\n",
    "yy = thzref.dataset[\"zbd_amp\"]\n",
    "plt.plot(xx, yy*1E3)\n",
    "plt.xlabel(\"Time [s]\")\n",
    "plt.ylabel(\"Amplitude [mV]\")\n",
    "plt.show()"
   ]
  },
  {
   "cell_type": "code",
   "execution_count": null,
   "metadata": {},
   "outputs": [],
   "source": []
  }
 ],
 "metadata": {
  "kernelspec": {
   "display_name": "hfnvenv",
   "language": "python",
   "name": "python3"
  },
  "language_info": {
   "codemirror_mode": {
    "name": "ipython",
    "version": 3
   },
   "file_extension": ".py",
   "mimetype": "text/x-python",
   "name": "python",
   "nbconvert_exporter": "python",
   "pygments_lexer": "ipython3",
   "version": "3.10.14"
  }
 },
 "nbformat": 4,
 "nbformat_minor": 2
}
