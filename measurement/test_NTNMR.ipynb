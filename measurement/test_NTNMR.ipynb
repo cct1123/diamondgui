{
 "cells": [
  {
   "cell_type": "code",
   "execution_count": 1,
   "metadata": {},
   "outputs": [],
   "source": [
    "import win32com.client\n",
    "import os\n",
    "import math\n",
    "import time\n"
   ]
  },
  {
   "cell_type": "code",
   "execution_count": 3,
   "metadata": {},
   "outputs": [],
   "source": [
    "global start_freq, end_freq, step_freq, email_notification, to_addresses, subject, message\n",
    "global run_sweep_bool, elapsed_scan_time, total_scan_time, sweep_finished_bool, abort_bool, start_time\n"
   ]
  },
  {
   "cell_type": "code",
   "execution_count": 4,
   "metadata": {},
   "outputs": [],
   "source": [
    "NTNMR = win32com.client.Dispatch(\"NTNMR.Application\")\n",
    "open_file = NTNMR.GetActiveDocPath\n",
    "path_name = os.path.dirname(open_file)\n",
    "path_name_out = path_name + \"\\\\stack\""
   ]
  },
  {
   "cell_type": "code",
   "execution_count": null,
   "metadata": {},
   "outputs": [],
   "source": [
    "# if not os.path.exists(path_name_out):\n",
    "#     os.makedirs(path_name_out)"
   ]
  }
 ],
 "metadata": {
  "kernelspec": {
   "display_name": "hfnvenv",
   "language": "python",
   "name": "python3"
  },
  "language_info": {
   "codemirror_mode": {
    "name": "ipython",
    "version": 3
   },
   "file_extension": ".py",
   "mimetype": "text/x-python",
   "name": "python",
   "nbconvert_exporter": "python",
   "pygments_lexer": "ipython3",
   "version": "3.10.14"
  }
 },
 "nbformat": 4,
 "nbformat_minor": 2
}
