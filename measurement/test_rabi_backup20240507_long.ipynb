{
    "cells": [
        {
            "cell_type": "markdown",
            "metadata": {},
            "source": [
                "# apply instruments settings"
            ]
        },
        {
            "cell_type": "code",
            "execution_count": 295,
            "metadata": {},
            "outputs": [],
            "source": [
                "import time\n",
                "import sys\n",
                "import os\n",
                "path_project = \"\\\\\".join(os.getcwd().split(\"\\\\\")[:-1])\n",
                "# caution: path[0] is reserved for script path (or '' in REPL)\n",
                "sys.path.insert(1, path_project)\n",
                "\n",
                "from hardware.pulser.pulser import PulseGenerator, OutputState, TriggerStart, TriggerRearm, HIGH, LOW, INF\n",
                "from hardware.laser.laser import LaserControl\n",
                "from hardware.mw.mwsynthesizer import Synthesizer\n",
                "\n",
                "from hardware import config as hdc\n",
                "\n",
                "import nidaqmx\n",
                "from nidaqmx.constants import TerminalConfiguration, VoltageUnits, Edge, AcquisitionType, READ_ALL_AVAILABLE\n",
                "# from nidaqmx.constants import LogicFamily \n",
                "# TWO_POINT_FIVE_V, THREE_POINT_THREE_V, FIVE_V\n",
                "# from nidaqmx import stream_readers \n",
                "from nidaqmx.stream_readers import AnalogSingleChannelReader\n",
                "\n",
                "import numpy as np\n",
                "import matplotlib.pyplot as plt"
            ]
        },
        {
            "cell_type": "code",
            "execution_count": 878,
            "metadata": {},
            "outputs": [
                {
                    "name": "stdout",
                    "output_type": "stream",
                    "text": [
                        "Connect to Pulse Streamer via JSON-RPC.\n",
                        "IP / Hostname: 169.254.8.2\n",
                        "Pulse Streamer 8/2 firmware: v1.7.2\n",
                        "Client software: v1.7.0\n",
                        "VDI Sythesizer Serail Port Open\n"
                    ]
                },
                {
                    "ename": "USBError",
                    "evalue": "[Errno None] b'libusb0-dll:err [claim_interface] could not claim interface 0, win error: The requested resource is in use.\\r\\n'",
                    "output_type": "error",
                    "traceback": [
                        "\u001b[1;31m---------------------------------------------------------------------------\u001b[0m",
                        "\u001b[1;31mUSBError\u001b[0m                                  Traceback (most recent call last)",
                        "Cell \u001b[1;32mIn[878], line 9\u001b[0m\n\u001b[0;32m      3\u001b[0m mwsyn \u001b[38;5;241m=\u001b[39m Synthesizer(hdc\u001b[38;5;241m.\u001b[39mVDISYN_SN, \n\u001b[0;32m      4\u001b[0m                     vidpid\u001b[38;5;241m=\u001b[39mhdc\u001b[38;5;241m.\u001b[39mVDISYN_VIDPID,\n\u001b[0;32m      5\u001b[0m                     baudrate\u001b[38;5;241m=\u001b[39mhdc\u001b[38;5;241m.\u001b[39mVDISYN_BAUD, \n\u001b[0;32m      6\u001b[0m                     timeout\u001b[38;5;241m=\u001b[39m\u001b[38;5;241m5\u001b[39m, \n\u001b[0;32m      7\u001b[0m                     write_timeout\u001b[38;5;241m=\u001b[39m\u001b[38;5;241m5\u001b[39m)\n\u001b[0;32m      8\u001b[0m \u001b[38;5;66;03m# mwsyn.reboot()\u001b[39;00m\n\u001b[1;32m----> 9\u001b[0m laser \u001b[38;5;241m=\u001b[39m \u001b[43mLaserControl\u001b[49m\u001b[43m(\u001b[49m\u001b[43mhdc\u001b[49m\u001b[38;5;241;43m.\u001b[39;49m\u001b[43mLASER_SN\u001b[49m\u001b[43m)\u001b[49m\n\u001b[0;32m     10\u001b[0m laser\u001b[38;5;241m.\u001b[39mopen()\n\u001b[0;32m     11\u001b[0m \u001b[38;5;66;03m# mwsyn.close()\u001b[39;00m\n\u001b[0;32m     12\u001b[0m \u001b[38;5;66;03m# laser.close()\u001b[39;00m\n",
                        "File \u001b[1;32mc:\\Research\\diamondgui\\hardware\\laser\\laser.py:28\u001b[0m, in \u001b[0;36mLaserControl.__init__\u001b[1;34m(self, serial_num)\u001b[0m\n\u001b[0;32m     27\u001b[0m \u001b[38;5;28;01mdef\u001b[39;00m \u001b[38;5;21m__init__\u001b[39m(\u001b[38;5;28mself\u001b[39m, serial_num\u001b[38;5;241m=\u001b[39m\u001b[38;5;124m\"\u001b[39m\u001b[38;5;124m\"\u001b[39m):\n\u001b[1;32m---> 28\u001b[0m     lasers \u001b[38;5;241m=\u001b[39m \u001b[43mLasersList\u001b[49m\u001b[43m(\u001b[49m\u001b[43m)\u001b[49m\n\u001b[0;32m     29\u001b[0m     \u001b[38;5;28;01mif\u001b[39;00m serial_num \u001b[38;5;241m==\u001b[39m \u001b[38;5;124m\"\u001b[39m\u001b[38;5;124m\"\u001b[39m:\n\u001b[0;32m     30\u001b[0m         \u001b[38;5;66;03m# connect to the first laser\u001b[39;00m\n\u001b[0;32m     31\u001b[0m         laser_infos \u001b[38;5;241m=\u001b[39m lasers\u001b[38;5;241m.\u001b[39mget_list()[\u001b[38;5;241m0\u001b[39m]\n",
                        "File \u001b[1;32mc:\\Research\\diamondgui\\hardware\\laser\\oxxius\\classeLaser.py:15\u001b[0m, in \u001b[0;36mLasersList.__init__\u001b[1;34m(self)\u001b[0m\n\u001b[0;32m     13\u001b[0m \u001b[38;5;28;01mdef\u001b[39;00m \u001b[38;5;21m__init__\u001b[39m(\u001b[38;5;28mself\u001b[39m):\n\u001b[0;32m     14\u001b[0m     \u001b[38;5;28mself\u001b[39m\u001b[38;5;241m.\u001b[39mlaserslist \u001b[38;5;241m=\u001b[39m []\n\u001b[1;32m---> 15\u001b[0m     liste_usb \u001b[38;5;241m=\u001b[39m \u001b[43mclasseLaserUSB\u001b[49m\u001b[38;5;241;43m.\u001b[39;49m\u001b[43mLasersList\u001b[49m\u001b[43m(\u001b[49m\u001b[43m)\u001b[49m\n\u001b[0;32m     16\u001b[0m     liste_serie \u001b[38;5;241m=\u001b[39m classeLaserSerie\u001b[38;5;241m.\u001b[39mLasersList()\n\u001b[0;32m     17\u001b[0m     \u001b[38;5;28;01mfor\u001b[39;00m item \u001b[38;5;129;01min\u001b[39;00m liste_usb\u001b[38;5;241m.\u001b[39mget_list():\n",
                        "File \u001b[1;32mc:\\Research\\diamondgui\\hardware\\laser\\oxxius\\classeLaserUSB.py:10\u001b[0m, in \u001b[0;36mLasersList.__init__\u001b[1;34m(self)\u001b[0m\n\u001b[0;32m      8\u001b[0m \u001b[38;5;28mself\u001b[39m\u001b[38;5;241m.\u001b[39mLisLas \u001b[38;5;241m=\u001b[39m \u001b[38;5;28mself\u001b[39m\u001b[38;5;241m.\u001b[39mfind_devices()\n\u001b[0;32m      9\u001b[0m \u001b[38;5;28;01mfor\u001b[39;00m item \u001b[38;5;129;01min\u001b[39;00m \u001b[38;5;28mself\u001b[39m\u001b[38;5;241m.\u001b[39mLisLas:\n\u001b[1;32m---> 10\u001b[0m     hid \u001b[38;5;241m=\u001b[39m \u001b[38;5;28;43mself\u001b[39;49m\u001b[38;5;241;43m.\u001b[39;49m\u001b[43msend\u001b[49m\u001b[43m(\u001b[49m\u001b[43mitem\u001b[49m\u001b[43m,\u001b[49m\u001b[43m \u001b[49m\u001b[38;5;124;43m'\u001b[39;49m\u001b[38;5;124;43m?HID\u001b[39;49m\u001b[38;5;124;43m'\u001b[39;49m\u001b[43m)\u001b[49m\n\u001b[0;32m     11\u001b[0m     \u001b[38;5;28;01mif\u001b[39;00m hid\u001b[38;5;241m.\u001b[39mstartswith(\u001b[38;5;124m\"\u001b[39m\u001b[38;5;124mLAS\u001b[39m\u001b[38;5;124m\"\u001b[39m):\n\u001b[0;32m     12\u001b[0m         serial_number \u001b[38;5;241m=\u001b[39m (hid\u001b[38;5;241m.\u001b[39msplit(\u001b[38;5;124m'\u001b[39m\u001b[38;5;124m,\u001b[39m\u001b[38;5;124m'\u001b[39m))[\u001b[38;5;241m0\u001b[39m]\n",
                        "File \u001b[1;32mc:\\Research\\diamondgui\\hardware\\laser\\oxxius\\classeLaserUSB.py:41\u001b[0m, in \u001b[0;36mLasersList.send\u001b[1;34m(self, las, command)\u001b[0m\n\u001b[0;32m     37\u001b[0m las\u001b[38;5;241m.\u001b[39mset_configuration()\n\u001b[0;32m     38\u001b[0m \u001b[38;5;66;03m#if init:\u001b[39;00m\n\u001b[0;32m     39\u001b[0m \u001b[38;5;66;03m#    las.write(0x02, b'dummy\\0', 100)\u001b[39;00m\n\u001b[0;32m     40\u001b[0m \u001b[38;5;66;03m#    rep = las.read(0x81, 30, 1000)\u001b[39;00m\n\u001b[1;32m---> 41\u001b[0m ttt \u001b[38;5;241m=\u001b[39m \u001b[43mlas\u001b[49m\u001b[38;5;241;43m.\u001b[39;49m\u001b[43mwrite\u001b[49m\u001b[43m(\u001b[49m\u001b[38;5;241;43m0x02\u001b[39;49m\u001b[43m,\u001b[49m\u001b[43m \u001b[49m\u001b[43m(\u001b[49m\u001b[43mcommand\u001b[49m\u001b[38;5;241;43m+\u001b[39;49m\u001b[38;5;124;43m'\u001b[39;49m\u001b[38;5;130;43;01m\\0\u001b[39;49;00m\u001b[38;5;124;43m'\u001b[39;49m\u001b[43m)\u001b[49m\u001b[38;5;241;43m.\u001b[39;49m\u001b[43mencode\u001b[49m\u001b[43m(\u001b[49m\u001b[43m)\u001b[49m\u001b[43m,\u001b[49m\u001b[43m \u001b[49m\u001b[38;5;241;43m100\u001b[39;49m\u001b[43m)\u001b[49m\n\u001b[0;32m     42\u001b[0m rep \u001b[38;5;241m=\u001b[39m las\u001b[38;5;241m.\u001b[39mread(\u001b[38;5;241m0x81\u001b[39m, \u001b[38;5;241m30\u001b[39m, \u001b[38;5;241m1000\u001b[39m)\n\u001b[0;32m     43\u001b[0m usb\u001b[38;5;241m.\u001b[39mutil\u001b[38;5;241m.\u001b[39mdispose_resources(las)\n",
                        "File \u001b[1;32mc:\\ProgramData\\miniconda3\\envs\\hfnvenv\\lib\\site-packages\\usb\\core.py:986\u001b[0m, in \u001b[0;36mDevice.write\u001b[1;34m(self, endpoint, data, timeout)\u001b[0m\n\u001b[0;32m    978\u001b[0m backend \u001b[38;5;241m=\u001b[39m \u001b[38;5;28mself\u001b[39m\u001b[38;5;241m.\u001b[39m_ctx\u001b[38;5;241m.\u001b[39mbackend\n\u001b[0;32m    980\u001b[0m fn_map \u001b[38;5;241m=\u001b[39m {\n\u001b[0;32m    981\u001b[0m             util\u001b[38;5;241m.\u001b[39mENDPOINT_TYPE_BULK:backend\u001b[38;5;241m.\u001b[39mbulk_write,\n\u001b[0;32m    982\u001b[0m             util\u001b[38;5;241m.\u001b[39mENDPOINT_TYPE_INTR:backend\u001b[38;5;241m.\u001b[39mintr_write,\n\u001b[0;32m    983\u001b[0m             util\u001b[38;5;241m.\u001b[39mENDPOINT_TYPE_ISO:backend\u001b[38;5;241m.\u001b[39miso_write\n\u001b[0;32m    984\u001b[0m         }\n\u001b[1;32m--> 986\u001b[0m intf, ep \u001b[38;5;241m=\u001b[39m \u001b[38;5;28;43mself\u001b[39;49m\u001b[38;5;241;43m.\u001b[39;49m\u001b[43m_ctx\u001b[49m\u001b[38;5;241;43m.\u001b[39;49m\u001b[43msetup_request\u001b[49m\u001b[43m(\u001b[49m\u001b[38;5;28;43mself\u001b[39;49m\u001b[43m,\u001b[49m\u001b[43m \u001b[49m\u001b[43mendpoint\u001b[49m\u001b[43m)\u001b[49m\n\u001b[0;32m    987\u001b[0m fn \u001b[38;5;241m=\u001b[39m fn_map[util\u001b[38;5;241m.\u001b[39mendpoint_type(ep\u001b[38;5;241m.\u001b[39mbmAttributes)]\n\u001b[0;32m    989\u001b[0m \u001b[38;5;28;01mreturn\u001b[39;00m fn(\n\u001b[0;32m    990\u001b[0m         \u001b[38;5;28mself\u001b[39m\u001b[38;5;241m.\u001b[39m_ctx\u001b[38;5;241m.\u001b[39mhandle,\n\u001b[0;32m    991\u001b[0m         ep\u001b[38;5;241m.\u001b[39mbEndpointAddress,\n\u001b[1;32m   (...)\u001b[0m\n\u001b[0;32m    994\u001b[0m         \u001b[38;5;28mself\u001b[39m\u001b[38;5;241m.\u001b[39m__get_timeout(timeout)\n\u001b[0;32m    995\u001b[0m     )\n",
                        "File \u001b[1;32mc:\\ProgramData\\miniconda3\\envs\\hfnvenv\\lib\\site-packages\\usb\\core.py:113\u001b[0m, in \u001b[0;36msynchronized.<locals>.wrapper\u001b[1;34m(self, *args, **kwargs)\u001b[0m\n\u001b[0;32m    111\u001b[0m \u001b[38;5;28;01mtry\u001b[39;00m:\n\u001b[0;32m    112\u001b[0m     \u001b[38;5;28mself\u001b[39m\u001b[38;5;241m.\u001b[39mlock\u001b[38;5;241m.\u001b[39macquire()\n\u001b[1;32m--> 113\u001b[0m     \u001b[38;5;28;01mreturn\u001b[39;00m f(\u001b[38;5;28mself\u001b[39m, \u001b[38;5;241m*\u001b[39margs, \u001b[38;5;241m*\u001b[39m\u001b[38;5;241m*\u001b[39mkwargs)\n\u001b[0;32m    114\u001b[0m \u001b[38;5;28;01mfinally\u001b[39;00m:\n\u001b[0;32m    115\u001b[0m     \u001b[38;5;28mself\u001b[39m\u001b[38;5;241m.\u001b[39mlock\u001b[38;5;241m.\u001b[39mrelease()\n",
                        "File \u001b[1;32mc:\\ProgramData\\miniconda3\\envs\\hfnvenv\\lib\\site-packages\\usb\\core.py:229\u001b[0m, in \u001b[0;36m_ResourceManager.setup_request\u001b[1;34m(self, device, endpoint)\u001b[0m\n\u001b[0;32m    226\u001b[0m     endpoint_address \u001b[38;5;241m=\u001b[39m endpoint\n\u001b[0;32m    228\u001b[0m intf, ep \u001b[38;5;241m=\u001b[39m \u001b[38;5;28mself\u001b[39m\u001b[38;5;241m.\u001b[39mget_interface_and_endpoint(device, endpoint_address)\n\u001b[1;32m--> 229\u001b[0m \u001b[38;5;28;43mself\u001b[39;49m\u001b[38;5;241;43m.\u001b[39;49m\u001b[43mmanaged_claim_interface\u001b[49m\u001b[43m(\u001b[49m\u001b[43mdevice\u001b[49m\u001b[43m,\u001b[49m\u001b[43m \u001b[49m\u001b[43mintf\u001b[49m\u001b[43m)\u001b[49m\n\u001b[0;32m    230\u001b[0m \u001b[38;5;28;01mreturn\u001b[39;00m (intf, ep)\n",
                        "File \u001b[1;32mc:\\ProgramData\\miniconda3\\envs\\hfnvenv\\lib\\site-packages\\usb\\core.py:113\u001b[0m, in \u001b[0;36msynchronized.<locals>.wrapper\u001b[1;34m(self, *args, **kwargs)\u001b[0m\n\u001b[0;32m    111\u001b[0m \u001b[38;5;28;01mtry\u001b[39;00m:\n\u001b[0;32m    112\u001b[0m     \u001b[38;5;28mself\u001b[39m\u001b[38;5;241m.\u001b[39mlock\u001b[38;5;241m.\u001b[39macquire()\n\u001b[1;32m--> 113\u001b[0m     \u001b[38;5;28;01mreturn\u001b[39;00m f(\u001b[38;5;28mself\u001b[39m, \u001b[38;5;241m*\u001b[39margs, \u001b[38;5;241m*\u001b[39m\u001b[38;5;241m*\u001b[39mkwargs)\n\u001b[0;32m    114\u001b[0m \u001b[38;5;28;01mfinally\u001b[39;00m:\n\u001b[0;32m    115\u001b[0m     \u001b[38;5;28mself\u001b[39m\u001b[38;5;241m.\u001b[39mlock\u001b[38;5;241m.\u001b[39mrelease()\n",
                        "File \u001b[1;32mc:\\ProgramData\\miniconda3\\envs\\hfnvenv\\lib\\site-packages\\usb\\core.py:178\u001b[0m, in \u001b[0;36m_ResourceManager.managed_claim_interface\u001b[1;34m(self, device, intf)\u001b[0m\n\u001b[0;32m    175\u001b[0m     i \u001b[38;5;241m=\u001b[39m intf\n\u001b[0;32m    177\u001b[0m \u001b[38;5;28;01mif\u001b[39;00m i \u001b[38;5;129;01mnot\u001b[39;00m \u001b[38;5;129;01min\u001b[39;00m \u001b[38;5;28mself\u001b[39m\u001b[38;5;241m.\u001b[39m_claimed_intf:\n\u001b[1;32m--> 178\u001b[0m     \u001b[38;5;28;43mself\u001b[39;49m\u001b[38;5;241;43m.\u001b[39;49m\u001b[43mbackend\u001b[49m\u001b[38;5;241;43m.\u001b[39;49m\u001b[43mclaim_interface\u001b[49m\u001b[43m(\u001b[49m\u001b[38;5;28;43mself\u001b[39;49m\u001b[38;5;241;43m.\u001b[39;49m\u001b[43mhandle\u001b[49m\u001b[43m,\u001b[49m\u001b[43m \u001b[49m\u001b[43mi\u001b[49m\u001b[43m)\u001b[49m\n\u001b[0;32m    179\u001b[0m     \u001b[38;5;28mself\u001b[39m\u001b[38;5;241m.\u001b[39m_claimed_intf\u001b[38;5;241m.\u001b[39madd(i)\n",
                        "File \u001b[1;32mc:\\ProgramData\\miniconda3\\envs\\hfnvenv\\lib\\site-packages\\usb\\backend\\libusb0.py:537\u001b[0m, in \u001b[0;36m_LibUSB.claim_interface\u001b[1;34m(self, dev_handle, intf)\u001b[0m\n\u001b[0;32m    535\u001b[0m \u001b[38;5;129m@methodtrace\u001b[39m(_logger)\n\u001b[0;32m    536\u001b[0m \u001b[38;5;28;01mdef\u001b[39;00m \u001b[38;5;21mclaim_interface\u001b[39m(\u001b[38;5;28mself\u001b[39m, dev_handle, intf):\n\u001b[1;32m--> 537\u001b[0m     \u001b[43m_check\u001b[49m\u001b[43m(\u001b[49m\u001b[43m_lib\u001b[49m\u001b[38;5;241;43m.\u001b[39;49m\u001b[43musb_claim_interface\u001b[49m\u001b[43m(\u001b[49m\u001b[43mdev_handle\u001b[49m\u001b[43m,\u001b[49m\u001b[43m \u001b[49m\u001b[43mintf\u001b[49m\u001b[43m)\u001b[49m\u001b[43m)\u001b[49m\n",
                        "File \u001b[1;32mc:\\ProgramData\\miniconda3\\envs\\hfnvenv\\lib\\site-packages\\usb\\backend\\libusb0.py:447\u001b[0m, in \u001b[0;36m_check\u001b[1;34m(ret)\u001b[0m\n\u001b[0;32m    445\u001b[0m \u001b[38;5;28;01mif\u001b[39;00m ret \u001b[38;5;129;01mis\u001b[39;00m \u001b[38;5;129;01mnot\u001b[39;00m \u001b[38;5;28;01mNone\u001b[39;00m \u001b[38;5;129;01mand\u001b[39;00m \u001b[38;5;241m-\u001b[39mret \u001b[38;5;241m==\u001b[39m errno\u001b[38;5;241m.\u001b[39mETIMEDOUT:\n\u001b[0;32m    446\u001b[0m     \u001b[38;5;28;01mraise\u001b[39;00m USBTimeoutError(errmsg, ret, \u001b[38;5;241m-\u001b[39mret)\n\u001b[1;32m--> 447\u001b[0m \u001b[38;5;28;01mraise\u001b[39;00m USBError(errmsg, ret)\n",
                        "\u001b[1;31mUSBError\u001b[0m: [Errno None] b'libusb0-dll:err [claim_interface] could not claim interface 0, win error: The requested resource is in use.\\r\\n'"
                    ]
                }
            ],
            "source": [
                "# connect to devices\n",
                "pg  = PulseGenerator(ip=hdc.PS_IP, chmap=hdc.PS_chmap) \n",
                "mwsyn = Synthesizer(hdc.VDISYN_SN, \n",
                "                    vidpid=hdc.VDISYN_VIDPID,\n",
                "                    baudrate=hdc.VDISYN_BAUD, \n",
                "                    timeout=5, \n",
                "                    write_timeout=5)\n",
                "# mwsyn.reboot()\n",
                "laser = LaserControl(hdc.LASER_SN)\n",
                "laser.open()\n",
                "# mwsyn.close()\n",
                "# laser.close()\n"
            ]
        },
        {
            "cell_type": "markdown",
            "metadata": {},
            "source": [
                "# Set parameters"
            ]
        },
        {
            "cell_type": "code",
            "execution_count": 887,
            "metadata": {},
            "outputs": [
                {
                    "name": "stderr",
                    "output_type": "stream",
                    "text": [
                        "Failed to set command 'ACC=1'\n",
                        "Response from Device :'Not authorized'\n"
                    ]
                }
            ],
            "source": [
                "current_percent = 90.05\n",
                "laser.laser_off()\n",
                "laser.set_analog_control_mode(\"current\")\n",
                "laser.set_modulation_state(\"Pulsed\")\n",
                "laser.set_diode_current(current_percent, save_memory=False)"
            ]
        },
        {
            "cell_type": "code",
            "execution_count": 888,
            "metadata": {},
            "outputs": [],
            "source": [
                "# laserpower = 145.0\n",
                "# laser.laser_off()\n",
                "# laser.set_analog_control_mode(\"power\")\n",
                "# laser.set_modulation_state(\"CW\")\n",
                "# laser.set_laser_power(laserpower, save_memory=False)\n",
                "# laser.laser_on()"
            ]
        },
        {
            "cell_type": "code",
            "execution_count": 889,
            "metadata": {},
            "outputs": [
                {
                    "name": "stdout",
                    "output_type": "stream",
                    "text": [
                        "CW Freqeuncy Setting Sent:16.36832381039858 GHz\n",
                        "Actual Output CW Freqeuncy :16.36832381039858 GHz\n"
                    ]
                }
            ],
            "source": [
                "f_NVguess = 398.5607725381851\n",
                "f_NVguess = 398.5547716319561\n",
                "# f_NVguess = 392.83677300810814\n",
                "f_NVguess = 392.8397714495659\n",
                "freq = f_NVguess/24.0\n",
                "\n",
                "errorbyte, freq_actual = mwsyn.cw_frequency(freq)\n",
                "print(f\"CW Freqeuncy Setting Sent:{freq} GHz\")\n",
                "print(f\"Actual Output CW Freqeuncy :{freq_actual} GHz\")"
            ]
        },
        {
            "cell_type": "code",
            "execution_count": 890,
            "metadata": {},
            "outputs": [],
            "source": [
                "NI_ratebase = 100.00/1E3 # GHz\n",
                "NI_timebase = 1.0/NI_ratebase #ns\n",
                "laser_init = 6400\n",
                "wait_init = 800\n",
                "mw_dur_start = 10.0\n",
                "mw_dur_stop = 15E6\n",
                "# mw_dur_step = 20\n",
                "# mw_dur = np.arange(mw_dur_start, mw_dur_stop+mw_dur_step, mw_dur_step)\n",
                "mw_dur = np.geomspace(mw_dur_start, mw_dur_stop, 320, endpoint=True)\n",
                "# rounding is IMPORTANT!!\n",
                "# mw_dur = np.round(NI_ratebase*mw_dur)*NI_timebase # round to DAQ timebase\n",
                "mw_dur = np.round(mw_dur) # round to PS timebase\n",
                "mw_dur_stop = mw_dur[-1]\n",
                "mw_dur_start = mw_dur[0]\n",
                "wait_read = 300\n",
                "laser_read = 800\n",
                "\n",
                "# here is to fix the timing\n",
                "totaltime_max = laser_init+wait_init+mw_dur_stop+wait_read+laser_read\n",
                "tbmultiple = int(NI_ratebase*totaltime_max+1)\n",
                "sampling_rate = NI_ratebase/tbmultiple\n",
                "sampletime = round(1.0/sampling_rate)\n",
                "samplerate = 1.0/sampletime #GHz\n",
                "padding_fix = sampletime-totaltime_max\n",
                "padding = padding_fix+mw_dur_stop-mw_dur # depends on MW duration\n",
                "num_pt = len(mw_dur)\n",
                "\n",
                "assert np.all(padding+mw_dur+laser_init+wait_init+wait_read+laser_read == sampletime)\n",
                "assert padding_fix >= 0\n"
            ]
        },
        {
            "cell_type": "code",
            "execution_count": 891,
            "metadata": {},
            "outputs": [],
            "source": [
                "# readoffset = NI_timebase*30\n",
                "delaydiff = NI_timebase*15.0\n",
                "readoffset = NI_timebase*25.0\n",
                "# delaydiff = NI_timebase*0.0\n",
                "# readoffset = laser_read - 20\n",
                "daqpadding = sampletime - (laser_read - readoffset - delaydiff)\n",
                "daqpadding = int(NI_ratebase*daqpadding)/NI_ratebase\n",
                "# daqdelay = NI_timebase*20.0\n",
                "daqdelay = 0.0\n",
                "daqtriggerdelay = NI_timebase*0.0\n",
                "# daqpadding = 1.0/clock_rate*1.0\n",
                "# daqpadding = int(clock_rate*(1.0/sampling_rate-(laser_read-250.0)))/clock_rate\n",
                "# daqpadding = 0.0\n",
                "\n",
                "\n",
                "seq_daqtrig = [(daqdelay, LOW)] + [(daqtriggerdelay, LOW)] + [(daqpadding-NI_ratebase*10, LOW)] + [(sampletime, HIGH), (sampletime*(num_pt*2 - 1) - daqtriggerdelay-daqpadding+NI_ratebase*10, LOW)]\n",
                "# seq_clock = [(0.5/clock_rate, HIGH),(0.5/clock_rate, LOW)]*(num_pt*2*clockmultiple+int(daqpadding*clock_rate))\n",
                "# seq_clock = [(daqpadding, LOW)] + [(0.5/clock_rate, HIGH),(0.5/clock_rate, LOW)]*(num_pt*2*clockmultiple)\n",
                "seq_clock = [(daqdelay, LOW)] + [(daqpadding, LOW),(sampletime-daqpadding, HIGH)]*num_pt*2\n",
                "# seq_clock = [(0.5/clock_rate, HIGH),(0.5/clock_rate, LOW)]\n",
                "\n",
                "seq_laser = []\n",
                "seq_mwA = []\n",
                "seq_mwB = []\n",
                "skip = 0\n",
                "seq_laser_sub_alloff = [(padding[-1], LOW), (laser_init, LOW), (wait_init, LOW), (mw_dur[-1], LOW), (wait_read, LOW), (laser_read, LOW)]\n",
                "# for mwd, pd in zip(mw_dur, padding):\n",
                "for ii in range(len(mw_dur)-skip):\n",
                "    mwd = mw_dur[ii]\n",
                "    pd = padding[ii]\n",
                "    seq_laser_sub = [(pd, LOW), (laser_init, HIGH), (wait_init, LOW), (mwd, LOW), (wait_read, LOW), (laser_read, HIGH)]\n",
                "    seq_mwA_sub = [(pd, LOW), (laser_init, LOW), (wait_init, LOW), (mwd, HIGH), (wait_read, LOW), (laser_read, LOW)]\n",
                "    seq_mwA_noMW_sub = [(pd, LOW), (laser_init, LOW), (wait_init, LOW), (mwd, LOW), (wait_read, LOW), (laser_read, LOW)]\n",
                "    # seq_laser_sub = [(laser_init, HIGH), (wait_init, LOW), (mwd, LOW), (wait_read, LOW), (laser_read, HIGH), (pd, LOW)]\n",
                "    # seq_mwA_sub = [(laser_init, LOW), (wait_init, LOW), (mwd, HIGH), (wait_read, LOW), (laser_read, LOW), (pd, LOW)]\n",
                "    # seq_mwA_noMW_sub = [(laser_init, LOW), (wait_init, LOW), (mwd, LOW), (wait_read, LOW), (laser_read, LOW), (pd, LOW)]\n",
                "    seq_laser += seq_laser_sub + seq_laser_sub\n",
                "    # seq_laser += seq_laser_sub + seq_laser_sub_alloff\n",
                "    seq_mwA += seq_mwA_sub + seq_mwA_noMW_sub\n",
                "    seq_mwB += seq_mwA_noMW_sub + seq_mwA_noMW_sub\n",
                "    # seq_mwA += seq_mwA_sub + seq_mwA_sub\n",
                "    # seq_mwA += seq_mwA_noMW_sub + seq_mwA_noMW_sub\n",
                "    # seq_mwA += seq_mwA_sub + seq_mwA_sub\n",
                "seq_laser += (seq_laser_sub_alloff + seq_laser_sub_alloff)*skip\n",
                "seq_mwA += (seq_mwA_noMW_sub + seq_mwA_noMW_sub)*skip\n",
                "seq_mwB += (seq_mwA_noMW_sub + seq_mwA_noMW_sub)*skip\n",
                "seq_laser +=  [(daqdelay, LOW)]\n",
                "seq_mwA +=  [(daqdelay, LOW)]\n",
                "seq_mwB +=  [(daqdelay, LOW)]\n",
                "# seq_laser = [(daqtrigdelay,LOW)] + seq_laser\n",
                "# seq_laser = [(0.5/clock_rate, HIGH),(0.5/clock_rate, HIGH)]*(num_pt*2*clockmultiple+int(daqtrigdelay*clock_rate))\n",
                "# seq_mwA = [(daqtrigdelay,LOW)] + seq_mwA\n",
                "# seq_laser += [(daqpadding, LOW)]\n",
                "# seq_mwA += [(daqpadding, LOW)]\n",
                "\n",
                "rrr = 8\n",
                "pg.setDigital(\"laser\", seq_laser*rrr)\n",
                "pg.setDigital(\"mw_A\", seq_mwA*rrr)\n",
                "pg.setDigital(\"mw_B\", seq_mwB*rrr)\n",
                "# pg.setDigital(\"laser\", seq_mwA)\n",
                "# pg.setDigital(\"mw_A\", seq_laser)\n",
                "pg.setDigital(\"daqtrig\", seq_daqtrig*rrr)\n",
                "pg.setDigital(\"clock\", seq_clock*rrr)\n",
                "pg.setTrigger(start=TriggerStart.SOFTWARE, rearm=TriggerRearm.MANUAL)\n",
                "assert round(np.sum(np.array(seq_laser)[:, 0])) == round(np.sum(np.array(seq_mwA)[:, 0])) == round(np.sum(np.array(seq_daqtrig)[:, 0])) == round(np.sum(np.array(seq_clock)[:, 0]))\n",
                "assert sampletime > daqpadding + 10"
            ]
        },
        {
            "cell_type": "code",
            "execution_count": 892,
            "metadata": {},
            "outputs": [
                {
                    "name": "stdout",
                    "output_type": "stream",
                    "text": [
                        "Total Seq. Time: 9605318400.0ns\n",
                        "Total Seq. Time: 9605318400.0ns\n",
                        "Total Seq. Time: 9605318400.0ns\n",
                        "Total Seq. Time: 9605318400.0ns\n"
                    ]
                }
            ],
            "source": [
                "aa = np.sum(np.array(seq_laser)[:, 0])\n",
                "print(f\"Total Seq. Time: {np.sum(aa)}ns\")\n",
                "aa = np.array(seq_mwA)[:, 0]\n",
                "print(f\"Total Seq. Time: {np.sum(aa)}ns\")\n",
                "aa = np.array(seq_daqtrig)[:, 0]\n",
                "print(f\"Total Seq. Time: {np.sum(aa)}ns\")\n",
                "aa = np.array(seq_clock)[:, 0]\n",
                "print(f\"Total Seq. Time: {np.sum(aa)}ns\")"
            ]
        },
        {
            "cell_type": "code",
            "execution_count": 900,
            "metadata": {},
            "outputs": [],
            "source": [
                "# signal reading parameters\n",
                "min_volt = -0.001 # [V]\n",
                "max_volt = 0.003\n",
                "samplerate_read = samplerate*1E9 # 500kHz .max ext clock rate of NI6343, check it by yourself!\n",
                "num_readsample = num_pt*2\n",
                "timeout_read = max(2*num_readsample/samplerate_read, 10)\n",
                "buffer_readpoint = np.zeros(num_readsample, dtype=np.float64, order='C')\n",
                "\n",
                "readtask = nidaqmx.Task(\"readsignal\")\n",
                "# readtask.close()\n",
                "readtask.ai_channels.add_ai_voltage_chan(\n",
                "            hdc.NI_ch_APD,\"\",\n",
                "            # TerminalConfiguration.RSE,\n",
                "            TerminalConfiguration.DIFF,\n",
                "            min_volt,max_volt,\n",
                "            VoltageUnits.VOLTS\n",
                "        )\n",
                "# readtask.timing.cfg_samp_clk_timing(samplerate_read, source=\"\", active_edge=Edge.RISING, sample_mode=AcquisitionType.FINITE, samps_per_chan=num_readsample)\n",
                "readtask.timing.cfg_samp_clk_timing(\n",
                "    samplerate_read, \n",
                "    source=hdc.NI_ch_Clock, \n",
                "    active_edge=Edge.RISING, \n",
                "    sample_mode=AcquisitionType.CONTINUOUS, \n",
                "    # sample_mode=AcquisitionType.FINITE, \n",
                "    samps_per_chan=num_readsample)\n",
                "read_trig = readtask.triggers.start_trigger\n",
                "read_trig.cfg_dig_edge_start_trig(hdc.NI_ch_Trig, Edge.RISING)\n",
                "\n",
                "reader = AnalogSingleChannelReader(readtask.in_stream)\n",
                "reader.read_all_avail_samp  = True"
            ]
        },
        {
            "cell_type": "code",
            "execution_count": 899,
            "metadata": {},
            "outputs": [],
            "source": [
                "readtask.close()"
            ]
        },
        {
            "cell_type": "markdown",
            "metadata": {},
            "source": [
                "# Start measurement\n"
            ]
        },
        {
            "cell_type": "code",
            "execution_count": 901,
            "metadata": {},
            "outputs": [],
            "source": [
                "laser.laser_on() # turn on laser"
            ]
        },
        {
            "cell_type": "code",
            "execution_count": 904,
            "metadata": {},
            "outputs": [
                {
                    "name": "stdout",
                    "output_type": "stream",
                    "text": [
                        "measurement repeat : 2998 times\n"
                    ]
                }
            ],
            "source": [
                "pg.stream(n_runs=INF)\n",
                "pg.startNow()\n",
                "# signal = np.zeros(num_pt)\n",
                "# background = np.zeros(num_pt)\n",
                "# repeat measurement\n",
                "\n",
                "signal_av = np.zeros(num_pt, dtype=np.float64, order='C')\n",
                "background_av = np.zeros(num_pt, dtype=np.float64, order='C')\n",
                "readtask.start() # ready to read data\n",
                "read_duration = 8*3600  # read data for 5 seconds\n",
                "start_time = time.time()\n",
                "num_repeat = 0\n",
                "while time.time() - start_time < read_duration:\n",
                "# for kkk in range(num_repeat):\n",
                "    # readtask.start() # ready to read data\n",
                "    num_read = reader.read_many_sample(\n",
                "            buffer_readpoint,\n",
                "            num_readsample,\n",
                "            timeout_read\n",
                "        )\n",
                "    # readtask.wait_until_done(timeout=timeout_read) # block the code below, optional\n",
                "    signal_av += np.copy(buffer_readpoint[0::2])\n",
                "    background_av += np.copy(buffer_readpoint[1::2])\n",
                "    # readtask.stop()\n",
                "    num_repeat += 1\n",
                "readtask.stop()\n",
                "# laser.laser_off()\n",
                "# readtask.close()\n",
                "signal_av = signal_av/num_repeat\n",
                "background_av = background_av/num_repeat\n",
                "contrast = (signal_av-background_av)/background_av\n",
                "print(f\"measurement repeat : {num_repeat} times\")"
            ]
        },
        {
            "cell_type": "code",
            "execution_count": 905,
            "metadata": {},
            "outputs": [
                {
                    "data": {
                        "image/png": "[encoded data removed]",
                        "text/plain": [
                            "<Figure size 640x480 with 2 Axes>"
                        ]
                    },
                    "metadata": {},
                    "output_type": "display_data"
                }
            ],
            "source": [
                "fig, ax1 = plt.subplots()\n",
                "ax2 = ax1.twinx()\n",
                "# ax1.plot(mw_dur, signal_av*1E3, linewidth=0.5, label=\"signal\", color=\"orange\")\n",
                "# ax1.plot(mw_dur, background_av*1E3, linewidth=0.5, label=\"ref\", color=\"green\")\n",
                "# ax2.plot(mw_dur, contrast*100.0, linewidth=2, label=\"contrast\", color='royalblue')\n",
                "idxstart = 1\n",
                "idxend = len(mw_dur)\n",
                "# idxend = 50\n",
                "ax1.plot(mw_dur[idxstart:idxend], signal_av[idxstart:idxend]*1E3, linewidth=0.5, label=\"signal\", color=\"orange\")\n",
                "ax1.plot(mw_dur[idxstart:idxend], background_av[idxstart:idxend]*1E3, linewidth=0.5, label=\"ref\", color=\"green\")\n",
                "ax2.plot(mw_dur[idxstart:idxend], contrast[idxstart:idxend]*100.0, linewidth=2, label=\"contrast\", color='royalblue')\n",
                "\n",
                "ax1.set_xlabel(\"MW time [ns]\")\n",
                "ax1.set_ylabel(\"PL [mV]\")\n",
                "ax2.set_ylabel(\"Contrast [%]\", color='royalblue')\n",
                "ax1.legend(loc='best')\n",
                "plt.title(\"Rabi (ms=0 to -1)\")\n",
                "plt.show()"
            ]
        },
        {
            "cell_type": "markdown",
            "metadata": {},
            "source": []
        },
        {
            "cell_type": "code",
            "execution_count": 906,
            "metadata": {},
            "outputs": [],
            "source": [
                "np.savetxt('output\\\\20240506_eveningmeasurementdebug\\\\m1rabi_ccw_wi_init6400nsthplasticmetalholder_range15ms.txt', np.c_[mw_dur, signal_av, background_av])"
            ]
        },
        {
            "cell_type": "code",
            "execution_count": 907,
            "metadata": {},
            "outputs": [],
            "source": [
                "pg.constant(OutputState.ZERO())\n",
                "laser.laser_off() # turn off laser\n",
                "readtask.close()\n",
                "# mwsyn.reboot()"
            ]
        },
        {
            "cell_type": "code",
            "execution_count": 842,
            "metadata": {},
            "outputs": [
                {
                    "name": "stdout",
                    "output_type": "stream",
                    "text": [
                        "MW Synthesizer Rebooted!\n"
                    ]
                }
            ],
            "source": [
                "mwsyn.reboot()"
            ]
        },
        {
            "cell_type": "code",
            "execution_count": 908,
            "metadata": {},
            "outputs": [],
            "source": [
                "# close the communication\n",
                "laser.close()\n",
                "mwsyn.close()\n"
            ]
        },
        {
            "cell_type": "code",
            "execution_count": 909,
            "metadata": {},
            "outputs": [],
            "source": [
                "pg.reset()"
            ]
        },
        {
            "cell_type": "code",
            "execution_count": null,
            "metadata": {},
            "outputs": [],
            "source": []
        }
    ],
    "metadata": {
        "kernelspec": {
            "display_name": "hfnvenv",
            "language": "python",
            "name": "python3"
        },
        "language_info": {
            "codemirror_mode": {
                "name": "ipython",
                "version": 3
            },
            "file_extension": ".py",
            "mimetype": "text/x-python",
            "name": "python",
            "nbconvert_exporter": "python",
            "pygments_lexer": "ipython3",
            "version": "3.10.14"
        }
    },
    "nbformat": 4,
    "nbformat_minor": 2
}