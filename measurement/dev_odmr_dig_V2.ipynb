{
    "cells": [
        {
            "cell_type": "code",
            "execution_count": 1,
            "metadata": {},
            "outputs": [],
            "source": [
                "import time\n",
                "import sys\n",
                "import os\n",
                "path_project = \"\\\\\".join(os.getcwd().split(\"\\\\\")[:-1])\n",
                "# caution: path[0] is reserved for script path (or '' in REPL)\n",
                "sys.path.insert(1, path_project)\n",
                "\n",
                "from hardware.pulser.pulser import PulseGenerator, OutputState, TriggerStart, TriggerRearm, HIGH, LOW, INF\n",
                "from hardware.laser.laser import LaserControl\n",
                "from hardware.mw.mwsynthesizer import Synthesizer\n",
                "\n",
                "from hardware import config as hcf\n",
                "\n",
                "import nidaqmx\n",
                "from nidaqmx.constants import TerminalConfiguration, VoltageUnits, Edge, AcquisitionType, READ_ALL_AVAILABLE\n",
                "# from nidaqmx.constants import LogicFamily \n",
                "# TWO_POINT_FIVE_V, THREE_POINT_THREE_V, FIVE_V\n",
                "# from nidaqmx import stream_readers \n",
                "# from nidaqmx.stream_readers import AnalogSingleChannelReader\n",
                "\n",
                "import numpy as np"
            ]
        },
        {
            "cell_type": "code",
            "execution_count": 2,
            "metadata": {},
            "outputs": [
                {
                    "name": "stdout",
                    "output_type": "stream",
                    "text": [
                        "Connect to Pulse Streamer via JSON-RPC.\n",
                        "IP / Hostname: 192.168.1.26\n",
                        "Pulse Streamer 8/2 firmware: v1.7.2\n",
                        "Client software: v1.7.0\n",
                        "VDI Sythesizer Serail Port Open\n"
                    ]
                }
            ],
            "source": [
                "# connect to devices\n",
                "pg  = PulseGenerator(ip=hcf.PS_IP, chmap=hcf.PS_chmap) \n",
                "mwsyn = Synthesizer(hcf.VDISYN_SN, \n",
                "                    vidpid=hcf.VDISYN_VIDPID,\n",
                "                    baudrate=hcf.VDISYN_BAUD, \n",
                "                    timeout=5, \n",
                "                    write_timeout=5)\n",
                "# mwsyn.reboot()\n",
                "laser = LaserControl(hcf.LASER_SN)\n",
                "laser.open()\n"
            ]
        },
        {
            "cell_type": "code",
            "execution_count": 3,
            "metadata": {},
            "outputs": [],
            "source": [
                "current_percent = 75.09\n",
                "laser.laser_off()\n",
                "laser.set_analog_control_mode(\"current\")\n",
                "laser.set_modulation_state(\"Pulsed\")\n",
                "laser.set_diode_current(current_percent, save_memory=False)"
            ]
        },
        {
            "cell_type": "code",
            "execution_count": 4,
            "metadata": {},
            "outputs": [],
            "source": [
                "from hardware.daq.sidig import FIFO_DataAcquisition\n",
                "from hardware.daq.sidig import FIFO_DataAcquisition, DCCOUPLE, TERMIN_INPUT_50OHM, TERMIN_INPUT_1MOHM\n",
                "\n",
                "SIDIG_ADDRESS = \"dev/spcm0\"\n",
                "SIDIG_maxsr = 500e6  # Hz\n",
                "SIDIG_timebase = int(1 / SIDIG_maxsr * 1e9)  # ns\n",
                "dig=FIFO_DataAcquisition(\n",
                "                sn_address=SIDIG_ADDRESS\n",
                "            )"
            ]
        },
        {
            "cell_type": "code",
            "execution_count": 5,
            "metadata": {},
            "outputs": [
                {
                    "name": "stdout",
                    "output_type": "stream",
                    "text": [
                        "CW Freqeuncy Setting Sent:16.6 GHz\n",
                        "Actual Output CW Freqeuncy :16.600000005215406 GHz\n"
                    ]
                }
            ],
            "source": [
                "freq = 16.6\n",
                "freq_actual = mwsyn.cw_frequency(freq)\n",
                "print(f\"CW Freqeuncy Setting Sent:{freq} GHz\")\n",
                "print(f\"Actual Output CW Freqeuncy :{freq_actual} GHz\")"
            ]
        },
        {
            "cell_type": "code",
            "execution_count": 6,
            "metadata": {},
            "outputs": [
                {
                    "data": {
                        "text/plain": [
                            "1"
                        ]
                    },
                    "execution_count": 6,
                    "metadata": {},
                    "output_type": "execute_result"
                }
            ],
            "source": [
                "# set MW power =====================================================\n",
                "mwpower_vlevel = 5.0 # 5V equals to max power\n",
                "task_uca = nidaqmx.Task(\"UCA\") # user controlled attenuation\n",
                "task_uca.ao_channels.add_ao_voltage_chan(hcf.NI_ch_UCA, min_val=0.0, max_val=10)\n",
                "# task_uca.timing.cfg_samp_clk_timing(hcf.NI_sampling_max/100.0, sample_mode=AcquisitionType.CONTINUOUS)\n",
                "task_uca.start()\n",
                "task_uca.write([mwpower_vlevel], auto_start=False)\n",
                "# task_uca.stop()\n",
                "# task_uca.close()"
            ]
        },
        {
            "cell_type": "code",
            "execution_count": 7,
            "metadata": {},
            "outputs": [
                {
                    "data": {
                        "application/vnd.plotly.v1+json": {
                            "config": {
                                "plotlyServerURL": "https://plot.ly"
                            },
                            "data": [
                                {
                                    "line": {
                                        "shape": "hv"
                                    },
                                    "mode": "lines",
                                    "name": "D0",
                                    "type": "scatter",
                                    "x": [
                                        0,
                                        16000000,
                                        16000040
                                    ],
                                    "xaxis": "x",
                                    "y": [
                                        1,
                                        1,
                                        1
                                    ],
                                    "yaxis": "y"
                                },
                                {
                                    "line": {
                                        "shape": "hv"
                                    },
                                    "mode": "lines",
                                    "name": "D1",
                                    "type": "scatter",
                                    "x": [
                                        0,
                                        16000040
                                    ],
                                    "xaxis": "x2",
                                    "y": [
                                        0,
                                        0
                                    ],
                                    "yaxis": "y2"
                                },
                                {
                                    "line": {
                                        "shape": "hv"
                                    },
                                    "mode": "lines",
                                    "name": "D2",
                                    "type": "scatter",
                                    "x": [
                                        0,
                                        16000040
                                    ],
                                    "xaxis": "x3",
                                    "y": [
                                        0,
                                        0
                                    ],
                                    "yaxis": "y3"
                                },
                                {
                                    "line": {
                                        "shape": "hv"
                                    },
                                    "mode": "lines",
                                    "name": "D3",
                                    "type": "scatter",
                                    "x": [
                                        0,
                                        20,
                                        4000000,
                                        4000020,
                                        4000040,
                                        8000020,
                                        8000040,
                                        12000020,
                                        12000040,
                                        12000060,
                                        16000040
                                    ],
                                    "xaxis": "x4",
                                    "y": [
                                        1,
                                        0,
                                        0,
                                        1,
                                        0,
                                        1,
                                        0,
                                        0,
                                        1,
                                        0,
                                        0
                                    ],
                                    "yaxis": "y4"
                                },
                                {
                                    "line": {
                                        "shape": "hv"
                                    },
                                    "mode": "lines",
                                    "name": "D4",
                                    "type": "scatter",
                                    "x": [
                                        0,
                                        4000000,
                                        8000000,
                                        12000000,
                                        16000000,
                                        16000040
                                    ],
                                    "xaxis": "x5",
                                    "y": [
                                        1,
                                        0,
                                        1,
                                        0,
                                        0,
                                        0
                                    ],
                                    "yaxis": "y5"
                                },
                                {
                                    "line": {
                                        "shape": "hv"
                                    },
                                    "mode": "lines",
                                    "name": "D5",
                                    "type": "scatter",
                                    "x": [
                                        0,
                                        16000040
                                    ],
                                    "xaxis": "x6",
                                    "y": [
                                        0,
                                        0
                                    ],
                                    "yaxis": "y6"
                                },
                                {
                                    "line": {
                                        "shape": "hv"
                                    },
                                    "mode": "lines",
                                    "name": "D6",
                                    "type": "scatter",
                                    "x": [
                                        0,
                                        16000040
                                    ],
                                    "xaxis": "x7",
                                    "y": [
                                        0,
                                        0
                                    ],
                                    "yaxis": "y7"
                                },
                                {
                                    "line": {
                                        "color": "black",
                                        "shape": "hv"
                                    },
                                    "mode": "lines",
                                    "name": "A0",
                                    "type": "scatter",
                                    "x": [
                                        0,
                                        16000040
                                    ],
                                    "xaxis": "x8",
                                    "y": [
                                        0,
                                        0
                                    ],
                                    "yaxis": "y8"
                                },
                                {
                                    "line": {
                                        "color": "black",
                                        "shape": "hv"
                                    },
                                    "mode": "lines",
                                    "name": "A1",
                                    "type": "scatter",
                                    "x": [
                                        0,
                                        16000040
                                    ],
                                    "xaxis": "x9",
                                    "y": [
                                        0,
                                        0
                                    ],
                                    "yaxis": "y9"
                                }
                            ],
                            "layout": {
                                "height": 550,
                                "margin": {
                                    "b": 40,
                                    "l": 50,
                                    "r": 50,
                                    "t": 40
                                },
                                "showlegend": false,
                                "template": {
                                    "data": {
                                        "bar": [
                                            {
                                                "error_x": {
                                                    "color": "#2a3f5f"
                                                },
                                                "error_y": {
                                                    "color": "#2a3f5f"
                                                },
                                                "marker": {
                                                    "line": {
                                                        "color": "#E5ECF6",
                                                        "width": 0.5
                                                    },
                                                    "pattern": {
                                                        "fillmode": "overlay",
                                                        "size": 10,
                                                        "solidity": 0.2
                                                    }
                                                },
                                                "type": "bar"
                                            }
                                        ],
                                        "barpolar": [
                                            {
                                                "marker": {
                                                    "line": {
                                                        "color": "#E5ECF6",
                                                        "width": 0.5
                                                    },
                                                    "pattern": {
                                                        "fillmode": "overlay",
                                                        "size": 10,
                                                        "solidity": 0.2
                                                    }
                                                },
                                                "type": "barpolar"
                                            }
                                        ],
                                        "carpet": [
                                            {
                                                "aaxis": {
                                                    "endlinecolor": "#2a3f5f",
                                                    "gridcolor": "white",
                                                    "linecolor": "white",
                                                    "minorgridcolor": "white",
                                                    "startlinecolor": "#2a3f5f"
                                                },
                                                "baxis": {
                                                    "endlinecolor": "#2a3f5f",
                                                    "gridcolor": "white",
                                                    "linecolor": "white",
                                                    "minorgridcolor": "white",
                                                    "startlinecolor": "#2a3f5f"
                                                },
                                                "type": "carpet"
                                            }
                                        ],
                                        "choropleth": [
                                            {
                                                "colorbar": {
                                                    "outlinewidth": 0,
                                                    "ticks": ""
                                                },
                                                "type": "choropleth"
                                            }
                                        ],
                                        "contour": [
                                            {
                                                "colorbar": {
                                                    "outlinewidth": 0,
                                                    "ticks": ""
                                                },
                                                "colorscale": [
                                                    [
                                                        0,
                                                        "#0d0887"
                                                    ],
                                                    [
                                                        0.1111111111111111,
                                                        "#46039f"
                                                    ],
                                                    [
                                                        0.2222222222222222,
                                                        "#7201a8"
                                                    ],
                                                    [
                                                        0.3333333333333333,
                                                        "#9c179e"
                                                    ],
                                                    [
                                                        0.4444444444444444,
                                                        "#bd3786"
                                                    ],
                                                    [
                                                        0.5555555555555556,
                                                        "#d8576b"
                                                    ],
                                                    [
                                                        0.6666666666666666,
                                                        "#ed7953"
                                                    ],
                                                    [
                                                        0.7777777777777778,
                                                        "#fb9f3a"
                                                    ],
                                                    [
                                                        0.8888888888888888,
                                                        "#fdca26"
                                                    ],
                                                    [
                                                        1,
                                                        "#f0f921"
                                                    ]
                                                ],
                                                "type": "contour"
                                            }
                                        ],
                                        "contourcarpet": [
                                            {
                                                "colorbar": {
                                                    "outlinewidth": 0,
                                                    "ticks": ""
                                                },
                                                "type": "contourcarpet"
                                            }
                                        ],
                                        "heatmap": [
                                            {
                                                "colorbar": {
                                                    "outlinewidth": 0,
                                                    "ticks": ""
                                                },
                                                "colorscale": [
                                                    [
                                                        0,
                                                        "#0d0887"
                                                    ],
                                                    [
                                                        0.1111111111111111,
                                                        "#46039f"
                                                    ],
                                                    [
                                                        0.2222222222222222,
                                                        "#7201a8"
                                                    ],
                                                    [
                                                        0.3333333333333333,
                                                        "#9c179e"
                                                    ],
                                                    [
                                                        0.4444444444444444,
                                                        "#bd3786"
                                                    ],
                                                    [
                                                        0.5555555555555556,
                                                        "#d8576b"
                                                    ],
                                                    [
                                                        0.6666666666666666,
                                                        "#ed7953"
                                                    ],
                                                    [
                                                        0.7777777777777778,
                                                        "#fb9f3a"
                                                    ],
                                                    [
                                                        0.8888888888888888,
                                                        "#fdca26"
                                                    ],
                                                    [
                                                        1,
                                                        "#f0f921"
                                                    ]
                                                ],
                                                "type": "heatmap"
                                            }
                                        ],
                                        "heatmapgl": [
                                            {
                                                "colorbar": {
                                                    "outlinewidth": 0,
                                                    "ticks": ""
                                                },
                                                "colorscale": [
                                                    [
                                                        0,
                                                        "#0d0887"
                                                    ],
                                                    [
                                                        0.1111111111111111,
                                                        "#46039f"
                                                    ],
                                                    [
                                                        0.2222222222222222,
                                                        "#7201a8"
                                                    ],
                                                    [
                                                        0.3333333333333333,
                                                        "#9c179e"
                                                    ],
                                                    [
                                                        0.4444444444444444,
                                                        "#bd3786"
                                                    ],
                                                    [
                                                        0.5555555555555556,
                                                        "#d8576b"
                                                    ],
                                                    [
                                                        0.6666666666666666,
                                                        "#ed7953"
                                                    ],
                                                    [
                                                        0.7777777777777778,
                                                        "#fb9f3a"
                                                    ],
                                                    [
                                                        0.8888888888888888,
                                                        "#fdca26"
                                                    ],
                                                    [
                                                        1,
                                                        "#f0f921"
                                                    ]
                                                ],
                                                "type": "heatmapgl"
                                            }
                                        ],
                                        "histogram": [
                                            {
                                                "marker": {
                                                    "pattern": {
                                                        "fillmode": "overlay",
                                                        "size": 10,
                                                        "solidity": 0.2
                                                    }
                                                },
                                                "type": "histogram"
                                            }
                                        ],
                                        "histogram2d": [
                                            {
                                                "colorbar": {
                                                    "outlinewidth": 0,
                                                    "ticks": ""
                                                },
                                                "colorscale": [
                                                    [
                                                        0,
                                                        "#0d0887"
                                                    ],
                                                    [
                                                        0.1111111111111111,
                                                        "#46039f"
                                                    ],
                                                    [
                                                        0.2222222222222222,
                                                        "#7201a8"
                                                    ],
                                                    [
                                                        0.3333333333333333,
                                                        "#9c179e"
                                                    ],
                                                    [
                                                        0.4444444444444444,
                                                        "#bd3786"
                                                    ],
                                                    [
                                                        0.5555555555555556,
                                                        "#d8576b"
                                                    ],
                                                    [
                                                        0.6666666666666666,
                                                        "#ed7953"
                                                    ],
                                                    [
                                                        0.7777777777777778,
                                                        "#fb9f3a"
                                                    ],
                                                    [
                                                        0.8888888888888888,
                                                        "#fdca26"
                                                    ],
                                                    [
                                                        1,
                                                        "#f0f921"
                                                    ]
                                                ],
                                                "type": "histogram2d"
                                            }
                                        ],
                                        "histogram2dcontour": [
                                            {
                                                "colorbar": {
                                                    "outlinewidth": 0,
                                                    "ticks": ""
                                                },
                                                "colorscale": [
                                                    [
                                                        0,
                                                        "#0d0887"
                                                    ],
                                                    [
                                                        0.1111111111111111,
                                                        "#46039f"
                                                    ],
                                                    [
                                                        0.2222222222222222,
                                                        "#7201a8"
                                                    ],
                                                    [
                                                        0.3333333333333333,
                                                        "#9c179e"
                                                    ],
                                                    [
                                                        0.4444444444444444,
                                                        "#bd3786"
                                                    ],
                                                    [
                                                        0.5555555555555556,
                                                        "#d8576b"
                                                    ],
                                                    [
                                                        0.6666666666666666,
                                                        "#ed7953"
                                                    ],
                                                    [
                                                        0.7777777777777778,
                                                        "#fb9f3a"
                                                    ],
                                                    [
                                                        0.8888888888888888,
                                                        "#fdca26"
                                                    ],
                                                    [
                                                        1,
                                                        "#f0f921"
                                                    ]
                                                ],
                                                "type": "histogram2dcontour"
                                            }
                                        ],
                                        "mesh3d": [
                                            {
                                                "colorbar": {
                                                    "outlinewidth": 0,
                                                    "ticks": ""
                                                },
                                                "type": "mesh3d"
                                            }
                                        ],
                                        "parcoords": [
                                            {
                                                "line": {
                                                    "colorbar": {
                                                        "outlinewidth": 0,
                                                        "ticks": ""
                                                    }
                                                },
                                                "type": "parcoords"
                                            }
                                        ],
                                        "pie": [
                                            {
                                                "automargin": true,
                                                "type": "pie"
                                            }
                                        ],
                                        "scatter": [
                                            {
                                                "fillpattern": {
                                                    "fillmode": "overlay",
                                                    "size": 10,
                                                    "solidity": 0.2
                                                },
                                                "type": "scatter"
                                            }
                                        ],
                                        "scatter3d": [
                                            {
                                                "line": {
                                                    "colorbar": {
                                                        "outlinewidth": 0,
                                                        "ticks": ""
                                                    }
                                                },
                                                "marker": {
                                                    "colorbar": {
                                                        "outlinewidth": 0,
                                                        "ticks": ""
                                                    }
                                                },
                                                "type": "scatter3d"
                                            }
                                        ],
                                        "scattercarpet": [
                                            {
                                                "marker": {
                                                    "colorbar": {
                                                        "outlinewidth": 0,
                                                        "ticks": ""
                                                    }
                                                },
                                                "type": "scattercarpet"
                                            }
                                        ],
                                        "scattergeo": [
                                            {
                                                "marker": {
                                                    "colorbar": {
                                                        "outlinewidth": 0,
                                                        "ticks": ""
                                                    }
                                                },
                                                "type": "scattergeo"
                                            }
                                        ],
                                        "scattergl": [
                                            {
                                                "marker": {
                                                    "colorbar": {
                                                        "outlinewidth": 0,
                                                        "ticks": ""
                                                    }
                                                },
                                                "type": "scattergl"
                                            }
                                        ],
                                        "scattermapbox": [
                                            {
                                                "marker": {
                                                    "colorbar": {
                                                        "outlinewidth": 0,
                                                        "ticks": ""
                                                    }
                                                },
                                                "type": "scattermapbox"
                                            }
                                        ],
                                        "scatterpolar": [
                                            {
                                                "marker": {
                                                    "colorbar": {
                                                        "outlinewidth": 0,
                                                        "ticks": ""
                                                    }
                                                },
                                                "type": "scatterpolar"
                                            }
                                        ],
                                        "scatterpolargl": [
                                            {
                                                "marker": {
                                                    "colorbar": {
                                                        "outlinewidth": 0,
                                                        "ticks": ""
                                                    }
                                                },
                                                "type": "scatterpolargl"
                                            }
                                        ],
                                        "scatterternary": [
                                            {
                                                "marker": {
                                                    "colorbar": {
                                                        "outlinewidth": 0,
                                                        "ticks": ""
                                                    }
                                                },
                                                "type": "scatterternary"
                                            }
                                        ],
                                        "surface": [
                                            {
                                                "colorbar": {
                                                    "outlinewidth": 0,
                                                    "ticks": ""
                                                },
                                                "colorscale": [
                                                    [
                                                        0,
                                                        "#0d0887"
                                                    ],
                                                    [
                                                        0.1111111111111111,
                                                        "#46039f"
                                                    ],
                                                    [
                                                        0.2222222222222222,
                                                        "#7201a8"
                                                    ],
                                                    [
                                                        0.3333333333333333,
                                                        "#9c179e"
                                                    ],
                                                    [
                                                        0.4444444444444444,
                                                        "#bd3786"
                                                    ],
                                                    [
                                                        0.5555555555555556,
                                                        "#d8576b"
                                                    ],
                                                    [
                                                        0.6666666666666666,
                                                        "#ed7953"
                                                    ],
                                                    [
                                                        0.7777777777777778,
                                                        "#fb9f3a"
                                                    ],
                                                    [
                                                        0.8888888888888888,
                                                        "#fdca26"
                                                    ],
                                                    [
                                                        1,
                                                        "#f0f921"
                                                    ]
                                                ],
                                                "type": "surface"
                                            }
                                        ],
                                        "table": [
                                            {
                                                "cells": {
                                                    "fill": {
                                                        "color": "#EBF0F8"
                                                    },
                                                    "line": {
                                                        "color": "white"
                                                    }
                                                },
                                                "header": {
                                                    "fill": {
                                                        "color": "#C8D4E3"
                                                    },
                                                    "line": {
                                                        "color": "white"
                                                    }
                                                },
                                                "type": "table"
                                            }
                                        ]
                                    },
                                    "layout": {
                                        "annotationdefaults": {
                                            "arrowcolor": "#2a3f5f",
                                            "arrowhead": 0,
                                            "arrowwidth": 1
                                        },
                                        "autotypenumbers": "strict",
                                        "coloraxis": {
                                            "colorbar": {
                                                "outlinewidth": 0,
                                                "ticks": ""
                                            }
                                        },
                                        "colorscale": {
                                            "diverging": [
                                                [
                                                    0,
                                                    "#8e0152"
                                                ],
                                                [
                                                    0.1,
                                                    "#c51b7d"
                                                ],
                                                [
                                                    0.2,
                                                    "#de77ae"
                                                ],
                                                [
                                                    0.3,
                                                    "#f1b6da"
                                                ],
                                                [
                                                    0.4,
                                                    "#fde0ef"
                                                ],
                                                [
                                                    0.5,
                                                    "#f7f7f7"
                                                ],
                                                [
                                                    0.6,
                                                    "#e6f5d0"
                                                ],
                                                [
                                                    0.7,
                                                    "#b8e186"
                                                ],
                                                [
                                                    0.8,
                                                    "#7fbc41"
                                                ],
                                                [
                                                    0.9,
                                                    "#4d9221"
                                                ],
                                                [
                                                    1,
                                                    "#276419"
                                                ]
                                            ],
                                            "sequential": [
                                                [
                                                    0,
                                                    "#0d0887"
                                                ],
                                                [
                                                    0.1111111111111111,
                                                    "#46039f"
                                                ],
                                                [
                                                    0.2222222222222222,
                                                    "#7201a8"
                                                ],
                                                [
                                                    0.3333333333333333,
                                                    "#9c179e"
                                                ],
                                                [
                                                    0.4444444444444444,
                                                    "#bd3786"
                                                ],
                                                [
                                                    0.5555555555555556,
                                                    "#d8576b"
                                                ],
                                                [
                                                    0.6666666666666666,
                                                    "#ed7953"
                                                ],
                                                [
                                                    0.7777777777777778,
                                                    "#fb9f3a"
                                                ],
                                                [
                                                    0.8888888888888888,
                                                    "#fdca26"
                                                ],
                                                [
                                                    1,
                                                    "#f0f921"
                                                ]
                                            ],
                                            "sequentialminus": [
                                                [
                                                    0,
                                                    "#0d0887"
                                                ],
                                                [
                                                    0.1111111111111111,
                                                    "#46039f"
                                                ],
                                                [
                                                    0.2222222222222222,
                                                    "#7201a8"
                                                ],
                                                [
                                                    0.3333333333333333,
                                                    "#9c179e"
                                                ],
                                                [
                                                    0.4444444444444444,
                                                    "#bd3786"
                                                ],
                                                [
                                                    0.5555555555555556,
                                                    "#d8576b"
                                                ],
                                                [
                                                    0.6666666666666666,
                                                    "#ed7953"
                                                ],
                                                [
                                                    0.7777777777777778,
                                                    "#fb9f3a"
                                                ],
                                                [
                                                    0.8888888888888888,
                                                    "#fdca26"
                                                ],
                                                [
                                                    1,
                                                    "#f0f921"
                                                ]
                                            ]
                                        },
                                        "colorway": [
                                            "#636efa",
                                            "#EF553B",
                                            "#00cc96",
                                            "#ab63fa",
                                            "#FFA15A",
                                            "#19d3f3",
                                            "#FF6692",
                                            "#B6E880",
                                            "#FF97FF",
                                            "#FECB52"
                                        ],
                                        "font": {
                                            "color": "#2a3f5f"
                                        },
                                        "geo": {
                                            "bgcolor": "white",
                                            "lakecolor": "white",
                                            "landcolor": "#E5ECF6",
                                            "showlakes": true,
                                            "showland": true,
                                            "subunitcolor": "white"
                                        },
                                        "hoverlabel": {
                                            "align": "left"
                                        },
                                        "hovermode": "closest",
                                        "mapbox": {
                                            "style": "light"
                                        },
                                        "paper_bgcolor": "white",
                                        "plot_bgcolor": "#E5ECF6",
                                        "polar": {
                                            "angularaxis": {
                                                "gridcolor": "white",
                                                "linecolor": "white",
                                                "ticks": ""
                                            },
                                            "bgcolor": "#E5ECF6",
                                            "radialaxis": {
                                                "gridcolor": "white",
                                                "linecolor": "white",
                                                "ticks": ""
                                            }
                                        },
                                        "scene": {
                                            "xaxis": {
                                                "backgroundcolor": "#E5ECF6",
                                                "gridcolor": "white",
                                                "gridwidth": 2,
                                                "linecolor": "white",
                                                "showbackground": true,
                                                "ticks": "",
                                                "zerolinecolor": "white"
                                            },
                                            "yaxis": {
                                                "backgroundcolor": "#E5ECF6",
                                                "gridcolor": "white",
                                                "gridwidth": 2,
                                                "linecolor": "white",
                                                "showbackground": true,
                                                "ticks": "",
                                                "zerolinecolor": "white"
                                            },
                                            "zaxis": {
                                                "backgroundcolor": "#E5ECF6",
                                                "gridcolor": "white",
                                                "gridwidth": 2,
                                                "linecolor": "white",
                                                "showbackground": true,
                                                "ticks": "",
                                                "zerolinecolor": "white"
                                            }
                                        },
                                        "shapedefaults": {
                                            "line": {
                                                "color": "#2a3f5f"
                                            }
                                        },
                                        "ternary": {
                                            "aaxis": {
                                                "gridcolor": "white",
                                                "linecolor": "white",
                                                "ticks": ""
                                            },
                                            "baxis": {
                                                "gridcolor": "white",
                                                "linecolor": "white",
                                                "ticks": ""
                                            },
                                            "bgcolor": "#E5ECF6",
                                            "caxis": {
                                                "gridcolor": "white",
                                                "linecolor": "white",
                                                "ticks": ""
                                            }
                                        },
                                        "title": {
                                            "x": 0.05
                                        },
                                        "xaxis": {
                                            "automargin": true,
                                            "gridcolor": "white",
                                            "linecolor": "white",
                                            "ticks": "",
                                            "title": {
                                                "standoff": 15
                                            },
                                            "zerolinecolor": "white",
                                            "zerolinewidth": 2
                                        },
                                        "yaxis": {
                                            "automargin": true,
                                            "gridcolor": "white",
                                            "linecolor": "white",
                                            "ticks": "",
                                            "title": {
                                                "standoff": 15
                                            },
                                            "zerolinecolor": "white",
                                            "zerolinewidth": 2
                                        }
                                    }
                                },
                                "title": {
                                    "text": "Sequence"
                                },
                                "width": 600,
                                "xaxis": {
                                    "anchor": "y",
                                    "domain": [
                                        0,
                                        1
                                    ],
                                    "matches": "x9",
                                    "showticklabels": false
                                },
                                "xaxis2": {
                                    "anchor": "y2",
                                    "domain": [
                                        0,
                                        1
                                    ],
                                    "matches": "x9",
                                    "showticklabels": false
                                },
                                "xaxis3": {
                                    "anchor": "y3",
                                    "domain": [
                                        0,
                                        1
                                    ],
                                    "matches": "x9",
                                    "showticklabels": false
                                },
                                "xaxis4": {
                                    "anchor": "y4",
                                    "domain": [
                                        0,
                                        1
                                    ],
                                    "matches": "x9",
                                    "showticklabels": false
                                },
                                "xaxis5": {
                                    "anchor": "y5",
                                    "domain": [
                                        0,
                                        1
                                    ],
                                    "matches": "x9",
                                    "showticklabels": false
                                },
                                "xaxis6": {
                                    "anchor": "y6",
                                    "domain": [
                                        0,
                                        1
                                    ],
                                    "matches": "x9",
                                    "showticklabels": false
                                },
                                "xaxis7": {
                                    "anchor": "y7",
                                    "domain": [
                                        0,
                                        1
                                    ],
                                    "matches": "x9",
                                    "showticklabels": false
                                },
                                "xaxis8": {
                                    "anchor": "y8",
                                    "domain": [
                                        0,
                                        1
                                    ],
                                    "matches": "x9",
                                    "showticklabels": false
                                },
                                "xaxis9": {
                                    "anchor": "y9",
                                    "domain": [
                                        0,
                                        1
                                    ],
                                    "title": {
                                        "text": "time/ns"
                                    }
                                },
                                "yaxis": {
                                    "anchor": "x",
                                    "domain": [
                                        0.9066666666666666,
                                        1
                                    ],
                                    "range": [
                                        -0.4,
                                        1.4
                                    ],
                                    "showticklabels": false,
                                    "title": {
                                        "text": "D0<br>laser"
                                    }
                                },
                                "yaxis2": {
                                    "anchor": "x2",
                                    "domain": [
                                        0.7933333333333333,
                                        0.8866666666666667
                                    ],
                                    "range": [
                                        -0.4,
                                        1.4
                                    ],
                                    "showticklabels": false,
                                    "title": {
                                        "text": "D1<br>dclk"
                                    }
                                },
                                "yaxis3": {
                                    "anchor": "x3",
                                    "domain": [
                                        0.6799999999999999,
                                        0.7733333333333332
                                    ],
                                    "range": [
                                        -0.4,
                                        1.4
                                    ],
                                    "showticklabels": false,
                                    "title": {
                                        "text": "D2<br>dtrig"
                                    }
                                },
                                "yaxis4": {
                                    "anchor": "x4",
                                    "domain": [
                                        0.5666666666666667,
                                        0.6599999999999999
                                    ],
                                    "range": [
                                        -0.4,
                                        1.4
                                    ],
                                    "showticklabels": false,
                                    "title": {
                                        "text": "D3<br>sdtrig"
                                    }
                                },
                                "yaxis5": {
                                    "anchor": "x5",
                                    "domain": [
                                        0.4533333333333333,
                                        0.5466666666666666
                                    ],
                                    "range": [
                                        -0.4,
                                        1.4
                                    ],
                                    "showticklabels": false,
                                    "title": {
                                        "text": "D4<br>mwA"
                                    }
                                },
                                "yaxis6": {
                                    "anchor": "x6",
                                    "domain": [
                                        0.33999999999999997,
                                        0.4333333333333333
                                    ],
                                    "range": [
                                        -0.4,
                                        1.4
                                    ],
                                    "showticklabels": false,
                                    "title": {
                                        "text": "D5<br>mwB"
                                    }
                                },
                                "yaxis7": {
                                    "anchor": "x7",
                                    "domain": [
                                        0.22666666666666666,
                                        0.31999999999999995
                                    ],
                                    "range": [
                                        -0.4,
                                        1.4
                                    ],
                                    "showticklabels": false,
                                    "title": {
                                        "text": "D6<br>rftrig"
                                    }
                                },
                                "yaxis8": {
                                    "anchor": "x8",
                                    "domain": [
                                        0.11333333333333333,
                                        0.20666666666666667
                                    ],
                                    "range": [
                                        -1.5,
                                        1.5
                                    ],
                                    "tickfont": {
                                        "size": 6
                                    },
                                    "title": {
                                        "text": "A0<br>Bz"
                                    }
                                },
                                "yaxis9": {
                                    "anchor": "x9",
                                    "domain": [
                                        0,
                                        0.09333333333333332
                                    ],
                                    "range": [
                                        -1.5,
                                        1.5
                                    ],
                                    "tickfont": {
                                        "size": 6
                                    },
                                    "title": {
                                        "text": "A1<br>Bx"
                                    }
                                }
                            }
                        }
                    },
                    "metadata": {},
                    "output_type": "display_data"
                }
            ],
            "source": [
                "dur_pt = 16E6 # duration of each frequency point\n",
                "dig_trig_len=20\n",
                "divpart_pt = 2\n",
                "clock_rate = 500E-6 #GHz\n",
                "daqtrig_delay = 1/clock_rate #delay\n",
                "seq_daqtrig = [(dur_pt/2.0, HIGH), (dur_pt/2.0, LOW)]\n",
                "seq_laser = [(dur_pt, HIGH)]\n",
                "seq_mwA = [(dur_pt/2.0/divpart_pt, HIGH), (dur_pt/2.0/divpart_pt, LOW)]*divpart_pt\n",
                "seq_clock = [(0.5/clock_rate, HIGH),(0.5/clock_rate, LOW)]*int(dur_pt*clock_rate)\n",
                "# seq_dig= [(dur_pt/2.0/divpart_pt, LOW), (dig_trig_len,HIGH),(dur_pt/2.0/divpart_pt/2-2*dig_trig_len, LOW),(dig_trig_len,HIGH),(dur_pt/2.0/divpart_pt/2-2*dig_trig_len, LOW)]*divpart_pt\n",
                "seq_dig= [(dig_trig_len,HIGH), (dur_pt/2.0/divpart_pt-dig_trig_len, LOW),(dig_trig_len,LOW),(dig_trig_len,HIGH), (dur_pt/2.0/divpart_pt-dig_trig_len, LOW)]*divpart_pt\n",
                "\n",
                "pg.setDigital(\"laser\", seq_laser)\n",
                "pg.setDigital(\"mwA\", seq_mwA)\n",
                "pg.setDigital('sdtrig',seq_dig)\n",
                "# pg.setDigital(\"laser\", seq_mwA)\n",
                "# pg.setDigital(\"mw_A\", seq_laser)\n",
                "# pg.setDigital(\"dtrig\", seq_daqtrig)\n",
                "# pg.setDigital(\"dclk\", seq_clock)\n",
                "pg.setTrigger(start=TriggerStart.SOFTWARE, rearm=TriggerRearm.MANUAL)\n",
                "pg.plotSeq(plot_all=False)"
            ]
        },
        {
            "cell_type": "code",
            "execution_count": 8,
            "metadata": {},
            "outputs": [
                {
                    "data": {
                        "application/vnd.plotly.v1+json": {
                            "config": {
                                "plotlyServerURL": "https://plot.ly"
                            },
                            "data": [
                                {
                                    "line": {
                                        "shape": "hv"
                                    },
                                    "mode": "lines",
                                    "name": "D0",
                                    "type": "scatter",
                                    "x": [
                                        0,
                                        4000000,
                                        16000040
                                    ],
                                    "xaxis": "x",
                                    "y": [
                                        1,
                                        1,
                                        1
                                    ],
                                    "yaxis": "y"
                                },
                                {
                                    "line": {
                                        "shape": "hv"
                                    },
                                    "mode": "lines",
                                    "name": "D1",
                                    "type": "scatter",
                                    "x": [
                                        0,
                                        16000040
                                    ],
                                    "xaxis": "x2",
                                    "y": [
                                        0,
                                        0
                                    ],
                                    "yaxis": "y2"
                                },
                                {
                                    "line": {
                                        "shape": "hv"
                                    },
                                    "mode": "lines",
                                    "name": "D2",
                                    "type": "scatter",
                                    "x": [
                                        0,
                                        16000040
                                    ],
                                    "xaxis": "x3",
                                    "y": [
                                        0,
                                        0
                                    ],
                                    "yaxis": "y3"
                                },
                                {
                                    "line": {
                                        "shape": "hv"
                                    },
                                    "mode": "lines",
                                    "name": "D3",
                                    "type": "scatter",
                                    "x": [
                                        0,
                                        20,
                                        4000000,
                                        4000020,
                                        4000040,
                                        8000020,
                                        8000040,
                                        12000020,
                                        12000040,
                                        12000060,
                                        16000040
                                    ],
                                    "xaxis": "x4",
                                    "y": [
                                        1,
                                        0,
                                        0,
                                        1,
                                        0,
                                        1,
                                        0,
                                        0,
                                        1,
                                        0,
                                        0
                                    ],
                                    "yaxis": "y4"
                                },
                                {
                                    "line": {
                                        "shape": "hv"
                                    },
                                    "mode": "lines",
                                    "name": "D4",
                                    "type": "scatter",
                                    "x": [
                                        0,
                                        4000000,
                                        8000000,
                                        12000000,
                                        16000000,
                                        16000040
                                    ],
                                    "xaxis": "x5",
                                    "y": [
                                        1,
                                        0,
                                        1,
                                        0,
                                        0,
                                        0
                                    ],
                                    "yaxis": "y5"
                                },
                                {
                                    "line": {
                                        "shape": "hv"
                                    },
                                    "mode": "lines",
                                    "name": "D5",
                                    "type": "scatter",
                                    "x": [
                                        0,
                                        16000040
                                    ],
                                    "xaxis": "x6",
                                    "y": [
                                        0,
                                        0
                                    ],
                                    "yaxis": "y6"
                                },
                                {
                                    "line": {
                                        "shape": "hv"
                                    },
                                    "mode": "lines",
                                    "name": "D6",
                                    "type": "scatter",
                                    "x": [
                                        0,
                                        16000040
                                    ],
                                    "xaxis": "x7",
                                    "y": [
                                        0,
                                        0
                                    ],
                                    "yaxis": "y7"
                                },
                                {
                                    "line": {
                                        "color": "black",
                                        "shape": "hv"
                                    },
                                    "mode": "lines",
                                    "name": "A0",
                                    "type": "scatter",
                                    "x": [
                                        0,
                                        16000040
                                    ],
                                    "xaxis": "x8",
                                    "y": [
                                        0,
                                        0
                                    ],
                                    "yaxis": "y8"
                                },
                                {
                                    "line": {
                                        "color": "black",
                                        "shape": "hv"
                                    },
                                    "mode": "lines",
                                    "name": "A1",
                                    "type": "scatter",
                                    "x": [
                                        0,
                                        16000040
                                    ],
                                    "xaxis": "x9",
                                    "y": [
                                        0,
                                        0
                                    ],
                                    "yaxis": "y9"
                                }
                            ],
                            "layout": {
                                "height": 550,
                                "margin": {
                                    "b": 40,
                                    "l": 50,
                                    "r": 50,
                                    "t": 40
                                },
                                "showlegend": false,
                                "template": {
                                    "data": {
                                        "bar": [
                                            {
                                                "error_x": {
                                                    "color": "#2a3f5f"
                                                },
                                                "error_y": {
                                                    "color": "#2a3f5f"
                                                },
                                                "marker": {
                                                    "line": {
                                                        "color": "#E5ECF6",
                                                        "width": 0.5
                                                    },
                                                    "pattern": {
                                                        "fillmode": "overlay",
                                                        "size": 10,
                                                        "solidity": 0.2
                                                    }
                                                },
                                                "type": "bar"
                                            }
                                        ],
                                        "barpolar": [
                                            {
                                                "marker": {
                                                    "line": {
                                                        "color": "#E5ECF6",
                                                        "width": 0.5
                                                    },
                                                    "pattern": {
                                                        "fillmode": "overlay",
                                                        "size": 10,
                                                        "solidity": 0.2
                                                    }
                                                },
                                                "type": "barpolar"
                                            }
                                        ],
                                        "carpet": [
                                            {
                                                "aaxis": {
                                                    "endlinecolor": "#2a3f5f",
                                                    "gridcolor": "white",
                                                    "linecolor": "white",
                                                    "minorgridcolor": "white",
                                                    "startlinecolor": "#2a3f5f"
                                                },
                                                "baxis": {
                                                    "endlinecolor": "#2a3f5f",
                                                    "gridcolor": "white",
                                                    "linecolor": "white",
                                                    "minorgridcolor": "white",
                                                    "startlinecolor": "#2a3f5f"
                                                },
                                                "type": "carpet"
                                            }
                                        ],
                                        "choropleth": [
                                            {
                                                "colorbar": {
                                                    "outlinewidth": 0,
                                                    "ticks": ""
                                                },
                                                "type": "choropleth"
                                            }
                                        ],
                                        "contour": [
                                            {
                                                "colorbar": {
                                                    "outlinewidth": 0,
                                                    "ticks": ""
                                                },
                                                "colorscale": [
                                                    [
                                                        0,
                                                        "#0d0887"
                                                    ],
                                                    [
                                                        0.1111111111111111,
                                                        "#46039f"
                                                    ],
                                                    [
                                                        0.2222222222222222,
                                                        "#7201a8"
                                                    ],
                                                    [
                                                        0.3333333333333333,
                                                        "#9c179e"
                                                    ],
                                                    [
                                                        0.4444444444444444,
                                                        "#bd3786"
                                                    ],
                                                    [
                                                        0.5555555555555556,
                                                        "#d8576b"
                                                    ],
                                                    [
                                                        0.6666666666666666,
                                                        "#ed7953"
                                                    ],
                                                    [
                                                        0.7777777777777778,
                                                        "#fb9f3a"
                                                    ],
                                                    [
                                                        0.8888888888888888,
                                                        "#fdca26"
                                                    ],
                                                    [
                                                        1,
                                                        "#f0f921"
                                                    ]
                                                ],
                                                "type": "contour"
                                            }
                                        ],
                                        "contourcarpet": [
                                            {
                                                "colorbar": {
                                                    "outlinewidth": 0,
                                                    "ticks": ""
                                                },
                                                "type": "contourcarpet"
                                            }
                                        ],
                                        "heatmap": [
                                            {
                                                "colorbar": {
                                                    "outlinewidth": 0,
                                                    "ticks": ""
                                                },
                                                "colorscale": [
                                                    [
                                                        0,
                                                        "#0d0887"
                                                    ],
                                                    [
                                                        0.1111111111111111,
                                                        "#46039f"
                                                    ],
                                                    [
                                                        0.2222222222222222,
                                                        "#7201a8"
                                                    ],
                                                    [
                                                        0.3333333333333333,
                                                        "#9c179e"
                                                    ],
                                                    [
                                                        0.4444444444444444,
                                                        "#bd3786"
                                                    ],
                                                    [
                                                        0.5555555555555556,
                                                        "#d8576b"
                                                    ],
                                                    [
                                                        0.6666666666666666,
                                                        "#ed7953"
                                                    ],
                                                    [
                                                        0.7777777777777778,
                                                        "#fb9f3a"
                                                    ],
                                                    [
                                                        0.8888888888888888,
                                                        "#fdca26"
                                                    ],
                                                    [
                                                        1,
                                                        "#f0f921"
                                                    ]
                                                ],
                                                "type": "heatmap"
                                            }
                                        ],
                                        "heatmapgl": [
                                            {
                                                "colorbar": {
                                                    "outlinewidth": 0,
                                                    "ticks": ""
                                                },
                                                "colorscale": [
                                                    [
                                                        0,
                                                        "#0d0887"
                                                    ],
                                                    [
                                                        0.1111111111111111,
                                                        "#46039f"
                                                    ],
                                                    [
                                                        0.2222222222222222,
                                                        "#7201a8"
                                                    ],
                                                    [
                                                        0.3333333333333333,
                                                        "#9c179e"
                                                    ],
                                                    [
                                                        0.4444444444444444,
                                                        "#bd3786"
                                                    ],
                                                    [
                                                        0.5555555555555556,
                                                        "#d8576b"
                                                    ],
                                                    [
                                                        0.6666666666666666,
                                                        "#ed7953"
                                                    ],
                                                    [
                                                        0.7777777777777778,
                                                        "#fb9f3a"
                                                    ],
                                                    [
                                                        0.8888888888888888,
                                                        "#fdca26"
                                                    ],
                                                    [
                                                        1,
                                                        "#f0f921"
                                                    ]
                                                ],
                                                "type": "heatmapgl"
                                            }
                                        ],
                                        "histogram": [
                                            {
                                                "marker": {
                                                    "pattern": {
                                                        "fillmode": "overlay",
                                                        "size": 10,
                                                        "solidity": 0.2
                                                    }
                                                },
                                                "type": "histogram"
                                            }
                                        ],
                                        "histogram2d": [
                                            {
                                                "colorbar": {
                                                    "outlinewidth": 0,
                                                    "ticks": ""
                                                },
                                                "colorscale": [
                                                    [
                                                        0,
                                                        "#0d0887"
                                                    ],
                                                    [
                                                        0.1111111111111111,
                                                        "#46039f"
                                                    ],
                                                    [
                                                        0.2222222222222222,
                                                        "#7201a8"
                                                    ],
                                                    [
                                                        0.3333333333333333,
                                                        "#9c179e"
                                                    ],
                                                    [
                                                        0.4444444444444444,
                                                        "#bd3786"
                                                    ],
                                                    [
                                                        0.5555555555555556,
                                                        "#d8576b"
                                                    ],
                                                    [
                                                        0.6666666666666666,
                                                        "#ed7953"
                                                    ],
                                                    [
                                                        0.7777777777777778,
                                                        "#fb9f3a"
                                                    ],
                                                    [
                                                        0.8888888888888888,
                                                        "#fdca26"
                                                    ],
                                                    [
                                                        1,
                                                        "#f0f921"
                                                    ]
                                                ],
                                                "type": "histogram2d"
                                            }
                                        ],
                                        "histogram2dcontour": [
                                            {
                                                "colorbar": {
                                                    "outlinewidth": 0,
                                                    "ticks": ""
                                                },
                                                "colorscale": [
                                                    [
                                                        0,
                                                        "#0d0887"
                                                    ],
                                                    [
                                                        0.1111111111111111,
                                                        "#46039f"
                                                    ],
                                                    [
                                                        0.2222222222222222,
                                                        "#7201a8"
                                                    ],
                                                    [
                                                        0.3333333333333333,
                                                        "#9c179e"
                                                    ],
                                                    [
                                                        0.4444444444444444,
                                                        "#bd3786"
                                                    ],
                                                    [
                                                        0.5555555555555556,
                                                        "#d8576b"
                                                    ],
                                                    [
                                                        0.6666666666666666,
                                                        "#ed7953"
                                                    ],
                                                    [
                                                        0.7777777777777778,
                                                        "#fb9f3a"
                                                    ],
                                                    [
                                                        0.8888888888888888,
                                                        "#fdca26"
                                                    ],
                                                    [
                                                        1,
                                                        "#f0f921"
                                                    ]
                                                ],
                                                "type": "histogram2dcontour"
                                            }
                                        ],
                                        "mesh3d": [
                                            {
                                                "colorbar": {
                                                    "outlinewidth": 0,
                                                    "ticks": ""
                                                },
                                                "type": "mesh3d"
                                            }
                                        ],
                                        "parcoords": [
                                            {
                                                "line": {
                                                    "colorbar": {
                                                        "outlinewidth": 0,
                                                        "ticks": ""
                                                    }
                                                },
                                                "type": "parcoords"
                                            }
                                        ],
                                        "pie": [
                                            {
                                                "automargin": true,
                                                "type": "pie"
                                            }
                                        ],
                                        "scatter": [
                                            {
                                                "fillpattern": {
                                                    "fillmode": "overlay",
                                                    "size": 10,
                                                    "solidity": 0.2
                                                },
                                                "type": "scatter"
                                            }
                                        ],
                                        "scatter3d": [
                                            {
                                                "line": {
                                                    "colorbar": {
                                                        "outlinewidth": 0,
                                                        "ticks": ""
                                                    }
                                                },
                                                "marker": {
                                                    "colorbar": {
                                                        "outlinewidth": 0,
                                                        "ticks": ""
                                                    }
                                                },
                                                "type": "scatter3d"
                                            }
                                        ],
                                        "scattercarpet": [
                                            {
                                                "marker": {
                                                    "colorbar": {
                                                        "outlinewidth": 0,
                                                        "ticks": ""
                                                    }
                                                },
                                                "type": "scattercarpet"
                                            }
                                        ],
                                        "scattergeo": [
                                            {
                                                "marker": {
                                                    "colorbar": {
                                                        "outlinewidth": 0,
                                                        "ticks": ""
                                                    }
                                                },
                                                "type": "scattergeo"
                                            }
                                        ],
                                        "scattergl": [
                                            {
                                                "marker": {
                                                    "colorbar": {
                                                        "outlinewidth": 0,
                                                        "ticks": ""
                                                    }
                                                },
                                                "type": "scattergl"
                                            }
                                        ],
                                        "scattermapbox": [
                                            {
                                                "marker": {
                                                    "colorbar": {
                                                        "outlinewidth": 0,
                                                        "ticks": ""
                                                    }
                                                },
                                                "type": "scattermapbox"
                                            }
                                        ],
                                        "scatterpolar": [
                                            {
                                                "marker": {
                                                    "colorbar": {
                                                        "outlinewidth": 0,
                                                        "ticks": ""
                                                    }
                                                },
                                                "type": "scatterpolar"
                                            }
                                        ],
                                        "scatterpolargl": [
                                            {
                                                "marker": {
                                                    "colorbar": {
                                                        "outlinewidth": 0,
                                                        "ticks": ""
                                                    }
                                                },
                                                "type": "scatterpolargl"
                                            }
                                        ],
                                        "scatterternary": [
                                            {
                                                "marker": {
                                                    "colorbar": {
                                                        "outlinewidth": 0,
                                                        "ticks": ""
                                                    }
                                                },
                                                "type": "scatterternary"
                                            }
                                        ],
                                        "surface": [
                                            {
                                                "colorbar": {
                                                    "outlinewidth": 0,
                                                    "ticks": ""
                                                },
                                                "colorscale": [
                                                    [
                                                        0,
                                                        "#0d0887"
                                                    ],
                                                    [
                                                        0.1111111111111111,
                                                        "#46039f"
                                                    ],
                                                    [
                                                        0.2222222222222222,
                                                        "#7201a8"
                                                    ],
                                                    [
                                                        0.3333333333333333,
                                                        "#9c179e"
                                                    ],
                                                    [
                                                        0.4444444444444444,
                                                        "#bd3786"
                                                    ],
                                                    [
                                                        0.5555555555555556,
                                                        "#d8576b"
                                                    ],
                                                    [
                                                        0.6666666666666666,
                                                        "#ed7953"
                                                    ],
                                                    [
                                                        0.7777777777777778,
                                                        "#fb9f3a"
                                                    ],
                                                    [
                                                        0.8888888888888888,
                                                        "#fdca26"
                                                    ],
                                                    [
                                                        1,
                                                        "#f0f921"
                                                    ]
                                                ],
                                                "type": "surface"
                                            }
                                        ],
                                        "table": [
                                            {
                                                "cells": {
                                                    "fill": {
                                                        "color": "#EBF0F8"
                                                    },
                                                    "line": {
                                                        "color": "white"
                                                    }
                                                },
                                                "header": {
                                                    "fill": {
                                                        "color": "#C8D4E3"
                                                    },
                                                    "line": {
                                                        "color": "white"
                                                    }
                                                },
                                                "type": "table"
                                            }
                                        ]
                                    },
                                    "layout": {
                                        "annotationdefaults": {
                                            "arrowcolor": "#2a3f5f",
                                            "arrowhead": 0,
                                            "arrowwidth": 1
                                        },
                                        "autotypenumbers": "strict",
                                        "coloraxis": {
                                            "colorbar": {
                                                "outlinewidth": 0,
                                                "ticks": ""
                                            }
                                        },
                                        "colorscale": {
                                            "diverging": [
                                                [
                                                    0,
                                                    "#8e0152"
                                                ],
                                                [
                                                    0.1,
                                                    "#c51b7d"
                                                ],
                                                [
                                                    0.2,
                                                    "#de77ae"
                                                ],
                                                [
                                                    0.3,
                                                    "#f1b6da"
                                                ],
                                                [
                                                    0.4,
                                                    "#fde0ef"
                                                ],
                                                [
                                                    0.5,
                                                    "#f7f7f7"
                                                ],
                                                [
                                                    0.6,
                                                    "#e6f5d0"
                                                ],
                                                [
                                                    0.7,
                                                    "#b8e186"
                                                ],
                                                [
                                                    0.8,
                                                    "#7fbc41"
                                                ],
                                                [
                                                    0.9,
                                                    "#4d9221"
                                                ],
                                                [
                                                    1,
                                                    "#276419"
                                                ]
                                            ],
                                            "sequential": [
                                                [
                                                    0,
                                                    "#0d0887"
                                                ],
                                                [
                                                    0.1111111111111111,
                                                    "#46039f"
                                                ],
                                                [
                                                    0.2222222222222222,
                                                    "#7201a8"
                                                ],
                                                [
                                                    0.3333333333333333,
                                                    "#9c179e"
                                                ],
                                                [
                                                    0.4444444444444444,
                                                    "#bd3786"
                                                ],
                                                [
                                                    0.5555555555555556,
                                                    "#d8576b"
                                                ],
                                                [
                                                    0.6666666666666666,
                                                    "#ed7953"
                                                ],
                                                [
                                                    0.7777777777777778,
                                                    "#fb9f3a"
                                                ],
                                                [
                                                    0.8888888888888888,
                                                    "#fdca26"
                                                ],
                                                [
                                                    1,
                                                    "#f0f921"
                                                ]
                                            ],
                                            "sequentialminus": [
                                                [
                                                    0,
                                                    "#0d0887"
                                                ],
                                                [
                                                    0.1111111111111111,
                                                    "#46039f"
                                                ],
                                                [
                                                    0.2222222222222222,
                                                    "#7201a8"
                                                ],
                                                [
                                                    0.3333333333333333,
                                                    "#9c179e"
                                                ],
                                                [
                                                    0.4444444444444444,
                                                    "#bd3786"
                                                ],
                                                [
                                                    0.5555555555555556,
                                                    "#d8576b"
                                                ],
                                                [
                                                    0.6666666666666666,
                                                    "#ed7953"
                                                ],
                                                [
                                                    0.7777777777777778,
                                                    "#fb9f3a"
                                                ],
                                                [
                                                    0.8888888888888888,
                                                    "#fdca26"
                                                ],
                                                [
                                                    1,
                                                    "#f0f921"
                                                ]
                                            ]
                                        },
                                        "colorway": [
                                            "#636efa",
                                            "#EF553B",
                                            "#00cc96",
                                            "#ab63fa",
                                            "#FFA15A",
                                            "#19d3f3",
                                            "#FF6692",
                                            "#B6E880",
                                            "#FF97FF",
                                            "#FECB52"
                                        ],
                                        "font": {
                                            "color": "#2a3f5f"
                                        },
                                        "geo": {
                                            "bgcolor": "white",
                                            "lakecolor": "white",
                                            "landcolor": "#E5ECF6",
                                            "showlakes": true,
                                            "showland": true,
                                            "subunitcolor": "white"
                                        },
                                        "hoverlabel": {
                                            "align": "left"
                                        },
                                        "hovermode": "closest",
                                        "mapbox": {
                                            "style": "light"
                                        },
                                        "paper_bgcolor": "white",
                                        "plot_bgcolor": "#E5ECF6",
                                        "polar": {
                                            "angularaxis": {
                                                "gridcolor": "white",
                                                "linecolor": "white",
                                                "ticks": ""
                                            },
                                            "bgcolor": "#E5ECF6",
                                            "radialaxis": {
                                                "gridcolor": "white",
                                                "linecolor": "white",
                                                "ticks": ""
                                            }
                                        },
                                        "scene": {
                                            "xaxis": {
                                                "backgroundcolor": "#E5ECF6",
                                                "gridcolor": "white",
                                                "gridwidth": 2,
                                                "linecolor": "white",
                                                "showbackground": true,
                                                "ticks": "",
                                                "zerolinecolor": "white"
                                            },
                                            "yaxis": {
                                                "backgroundcolor": "#E5ECF6",
                                                "gridcolor": "white",
                                                "gridwidth": 2,
                                                "linecolor": "white",
                                                "showbackground": true,
                                                "ticks": "",
                                                "zerolinecolor": "white"
                                            },
                                            "zaxis": {
                                                "backgroundcolor": "#E5ECF6",
                                                "gridcolor": "white",
                                                "gridwidth": 2,
                                                "linecolor": "white",
                                                "showbackground": true,
                                                "ticks": "",
                                                "zerolinecolor": "white"
                                            }
                                        },
                                        "shapedefaults": {
                                            "line": {
                                                "color": "#2a3f5f"
                                            }
                                        },
                                        "ternary": {
                                            "aaxis": {
                                                "gridcolor": "white",
                                                "linecolor": "white",
                                                "ticks": ""
                                            },
                                            "baxis": {
                                                "gridcolor": "white",
                                                "linecolor": "white",
                                                "ticks": ""
                                            },
                                            "bgcolor": "#E5ECF6",
                                            "caxis": {
                                                "gridcolor": "white",
                                                "linecolor": "white",
                                                "ticks": ""
                                            }
                                        },
                                        "title": {
                                            "x": 0.05
                                        },
                                        "xaxis": {
                                            "automargin": true,
                                            "gridcolor": "white",
                                            "linecolor": "white",
                                            "ticks": "",
                                            "title": {
                                                "standoff": 15
                                            },
                                            "zerolinecolor": "white",
                                            "zerolinewidth": 2
                                        },
                                        "yaxis": {
                                            "automargin": true,
                                            "gridcolor": "white",
                                            "linecolor": "white",
                                            "ticks": "",
                                            "title": {
                                                "standoff": 15
                                            },
                                            "zerolinecolor": "white",
                                            "zerolinewidth": 2
                                        }
                                    }
                                },
                                "title": {
                                    "text": "Sequence"
                                },
                                "width": 600,
                                "xaxis": {
                                    "anchor": "y",
                                    "domain": [
                                        0,
                                        1
                                    ],
                                    "matches": "x9",
                                    "showticklabels": false
                                },
                                "xaxis2": {
                                    "anchor": "y2",
                                    "domain": [
                                        0,
                                        1
                                    ],
                                    "matches": "x9",
                                    "showticklabels": false
                                },
                                "xaxis3": {
                                    "anchor": "y3",
                                    "domain": [
                                        0,
                                        1
                                    ],
                                    "matches": "x9",
                                    "showticklabels": false
                                },
                                "xaxis4": {
                                    "anchor": "y4",
                                    "domain": [
                                        0,
                                        1
                                    ],
                                    "matches": "x9",
                                    "showticklabels": false
                                },
                                "xaxis5": {
                                    "anchor": "y5",
                                    "domain": [
                                        0,
                                        1
                                    ],
                                    "matches": "x9",
                                    "showticklabels": false
                                },
                                "xaxis6": {
                                    "anchor": "y6",
                                    "domain": [
                                        0,
                                        1
                                    ],
                                    "matches": "x9",
                                    "showticklabels": false
                                },
                                "xaxis7": {
                                    "anchor": "y7",
                                    "domain": [
                                        0,
                                        1
                                    ],
                                    "matches": "x9",
                                    "showticklabels": false
                                },
                                "xaxis8": {
                                    "anchor": "y8",
                                    "domain": [
                                        0,
                                        1
                                    ],
                                    "matches": "x9",
                                    "showticklabels": false
                                },
                                "xaxis9": {
                                    "anchor": "y9",
                                    "domain": [
                                        0,
                                        1
                                    ],
                                    "title": {
                                        "text": "time/ns"
                                    }
                                },
                                "yaxis": {
                                    "anchor": "x",
                                    "domain": [
                                        0.9066666666666666,
                                        1
                                    ],
                                    "range": [
                                        -0.4,
                                        1.4
                                    ],
                                    "showticklabels": false,
                                    "title": {
                                        "text": "D0<br>laser"
                                    }
                                },
                                "yaxis2": {
                                    "anchor": "x2",
                                    "domain": [
                                        0.7933333333333333,
                                        0.8866666666666667
                                    ],
                                    "range": [
                                        -0.4,
                                        1.4
                                    ],
                                    "showticklabels": false,
                                    "title": {
                                        "text": "D1<br>dclk"
                                    }
                                },
                                "yaxis3": {
                                    "anchor": "x3",
                                    "domain": [
                                        0.6799999999999999,
                                        0.7733333333333332
                                    ],
                                    "range": [
                                        -0.4,
                                        1.4
                                    ],
                                    "showticklabels": false,
                                    "title": {
                                        "text": "D2<br>dtrig"
                                    }
                                },
                                "yaxis4": {
                                    "anchor": "x4",
                                    "domain": [
                                        0.5666666666666667,
                                        0.6599999999999999
                                    ],
                                    "range": [
                                        -0.4,
                                        1.4
                                    ],
                                    "showticklabels": false,
                                    "title": {
                                        "text": "D3<br>sdtrig"
                                    }
                                },
                                "yaxis5": {
                                    "anchor": "x5",
                                    "domain": [
                                        0.4533333333333333,
                                        0.5466666666666666
                                    ],
                                    "range": [
                                        -0.4,
                                        1.4
                                    ],
                                    "showticklabels": false,
                                    "title": {
                                        "text": "D4<br>mwA"
                                    }
                                },
                                "yaxis6": {
                                    "anchor": "x6",
                                    "domain": [
                                        0.33999999999999997,
                                        0.4333333333333333
                                    ],
                                    "range": [
                                        -0.4,
                                        1.4
                                    ],
                                    "showticklabels": false,
                                    "title": {
                                        "text": "D5<br>mwB"
                                    }
                                },
                                "yaxis7": {
                                    "anchor": "x7",
                                    "domain": [
                                        0.22666666666666666,
                                        0.31999999999999995
                                    ],
                                    "range": [
                                        -0.4,
                                        1.4
                                    ],
                                    "showticklabels": false,
                                    "title": {
                                        "text": "D6<br>rftrig"
                                    }
                                },
                                "yaxis8": {
                                    "anchor": "x8",
                                    "domain": [
                                        0.11333333333333333,
                                        0.20666666666666667
                                    ],
                                    "range": [
                                        -1.5,
                                        1.5
                                    ],
                                    "tickfont": {
                                        "size": 6
                                    },
                                    "title": {
                                        "text": "A0<br>Bz"
                                    }
                                },
                                "yaxis9": {
                                    "anchor": "x9",
                                    "domain": [
                                        0,
                                        0.09333333333333332
                                    ],
                                    "range": [
                                        -1.5,
                                        1.5
                                    ],
                                    "tickfont": {
                                        "size": 6
                                    },
                                    "title": {
                                        "text": "A1<br>Bx"
                                    }
                                }
                            }
                        }
                    },
                    "metadata": {},
                    "output_type": "display_data"
                }
            ],
            "source": [
                "dig_trig_len = 20\n",
                "divpart_pt = 2\n",
                "\n",
                "mw_dur = 16e6//4\n",
                "\n",
                "seq_laser = [(mw_dur, HIGH)]\n",
                "seq_mwA = [\n",
                "    (mw_dur, HIGH),\n",
                "    (mw_dur, LOW),\n",
                "] * divpart_pt\n",
                "\n",
                "seq_dig = [\n",
                "    (dig_trig_len, HIGH),\n",
                "    (mw_dur - dig_trig_len, LOW),\n",
                "    (dig_trig_len, LOW),\n",
                "    (dig_trig_len, HIGH),\n",
                "    (mw_dur - dig_trig_len, LOW),\n",
                "] * divpart_pt\n",
                "\n",
                "pg.setDigital(\"laser\", seq_laser)\n",
                "pg.setDigital(\"mwA\", seq_mwA)\n",
                "pg.setDigital(\"sdtrig\", seq_dig)\n",
                "pg.setTrigger(start=TriggerStart.SOFTWARE, rearm=TriggerRearm.MANUAL)\n",
                "pg.plotSeq(plot_all=False)"
            ]
        },
        {
            "cell_type": "code",
            "execution_count": 8,
            "metadata": {},
            "outputs": [],
            "source": [
                "def seqtime_tb(seq_tb):\n",
                "    return np.sum([pulse[-1] for pulse in seq_tb])\n",
                "def seqtime_cb(seq_cb):\n",
                "    return np.sum([pulse[-0] for pulse in seq_cb])"
            ]
        },
        {
            "cell_type": "code",
            "execution_count": 9,
            "metadata": {},
            "outputs": [],
            "source": [
                "## set up the data aquication with the digitizer \n",
                "# min_volt = -0.002 # [V]\n",
                "# max_volt = 0.010 # [V]\n",
                "mw_len=dur_pt/2.0/divpart_pt\n",
                "t_seq = seqtime_cb(seq_laser)\n",
                "rate_refresh = 1 # Hz rate of refreshing the data streaming\n",
                "amp_input = 1000\n",
                "readout_ch = hcf.SIDIG_chmap[\"apd\"]\n",
                "num_segment = int(2/rate_refresh*1e9/t_seq)//32*32\n",
                "\n",
                "# configures the readout to match the pulse sequence  \n",
                "pretrig_size= 256 #int((mw_len//2)*hcf.SIDIG_maxsr/1E9)//64*64 # pretrigger based on the t_wait time\n",
                "# posttrig_size=int((t_ribloc+t_ribloc_isc)*hcf.SIDIG_maxsr/1E9)//64*64 # posttrigger based on the t_laser time and t_isc\n",
                "posttrig_size=int((mw_len//2)*hcf.SIDIG_maxsr/1E9)//64*64 # posttrigger based on the t_laser time and t_isc\n",
                "\n",
                "segment_size = pretrig_size+posttrig_size \n",
                "segment_size = 2**int(np.log2(segment_size)+1) # make it power of 2\n",
                "posttrig_size = segment_size-pretrig_size # recalculate posttrigger size to ensure it is power of 2"
            ]
        },
        {
            "cell_type": "code",
            "execution_count": 11,
            "metadata": {},
            "outputs": [],
            "source": [
                "# To set the configuration, make a dictionary with the key and value\n",
                "dig.reset_param()\n",
                "dig.assign_param(dict(\n",
                "             readout_ch=readout_ch, \n",
                "             amp_input=amp_input, \n",
                "             num_segment=8,\n",
                "             pretrig_size=16,\n",
                "             posttrig_size=1048576//4-16,\n",
                "             segment_size=1048576//4,\n",
                "             terminate_input=TERMIN_INPUT_1MOHM,\n",
                "             DCCOUPLE = 0,\n",
                "             sampling_rate=hcf.SIDIG_maxsr\n",
                "            #  terminate_input=TERMIN_INPUT_50OHM,\n",
                "             ))\n"
            ]
        },
        {
            "cell_type": "code",
            "execution_count": 12,
            "metadata": {},
            "outputs": [
                {
                    "name": "stdout",
                    "output_type": "stream",
                    "text": [
                        "SETTINGS: card timeout =  5 s\n",
                        "SETTINGS: # of segments =  1024000 Sa\n",
                        "SETTINGS: sampling freq =  0.5 GHz\n",
                        "SETTINGS: pretrig size =  128 Sa\n",
                        "SETTINGS: termination =  0\n",
                        "notify size:  2048000.0 Sa\n",
                        "Card stopped\n",
                        "SETTINGS: card timeout =  5 s\n",
                        "SETTINGS: # of segments =  1024000 Sa\n",
                        "SETTINGS: sampling freq =  0.5 GHz\n",
                        "SETTINGS: pretrig size =  128 Sa\n",
                        "SETTINGS: termination =  0\n",
                        "notify size:  2048000.0 Sa\n",
                        "Card stopped\n",
                        "SETTINGS: card timeout =  5 s\n",
                        "SETTINGS: # of segments =  1024000 Sa\n",
                        "SETTINGS: sampling freq =  0.5 GHz\n",
                        "SETTINGS: pretrig size =  128 Sa\n",
                        "SETTINGS: termination =  0\n",
                        "notify size:  2048000.0 Sa\n",
                        "Card stopped\n",
                        "SETTINGS: card timeout =  5 s\n",
                        "SETTINGS: # of segments =  1024000 Sa\n",
                        "SETTINGS: sampling freq =  0.5 GHz\n",
                        "SETTINGS: pretrig size =  128 Sa\n",
                        "SETTINGS: termination =  0\n",
                        "notify size:  2048000.0 Sa\n",
                        "Card stopped\n",
                        "SETTINGS: card timeout =  5 s\n",
                        "SETTINGS: # of segments =  1024000 Sa\n",
                        "SETTINGS: sampling freq =  0.5 GHz\n",
                        "SETTINGS: pretrig size =  128 Sa\n",
                        "SETTINGS: termination =  0\n",
                        "notify size:  2048000.0 Sa\n",
                        "Card stopped\n",
                        "SETTINGS: card timeout =  5 s\n",
                        "SETTINGS: # of segments =  1024000 Sa\n",
                        "SETTINGS: sampling freq =  0.5 GHz\n",
                        "SETTINGS: pretrig size =  128 Sa\n",
                        "SETTINGS: termination =  0\n",
                        "notify size:  2048000.0 Sa\n",
                        "Card stopped\n",
                        "SETTINGS: card timeout =  5 s\n",
                        "SETTINGS: # of segments =  1024000 Sa\n",
                        "SETTINGS: sampling freq =  0.5 GHz\n",
                        "SETTINGS: pretrig size =  128 Sa\n",
                        "SETTINGS: termination =  0\n",
                        "notify size:  2048000.0 Sa\n",
                        "Card stopped\n",
                        "SETTINGS: card timeout =  5 s\n",
                        "SETTINGS: # of segments =  1024000 Sa\n",
                        "SETTINGS: sampling freq =  0.5 GHz\n",
                        "SETTINGS: pretrig size =  128 Sa\n",
                        "SETTINGS: termination =  0\n",
                        "notify size:  2048000.0 Sa\n",
                        "Card stopped\n",
                        "SETTINGS: card timeout =  5 s\n",
                        "SETTINGS: # of segments =  1024000 Sa\n",
                        "SETTINGS: sampling freq =  0.5 GHz\n",
                        "SETTINGS: pretrig size =  128 Sa\n",
                        "SETTINGS: termination =  0\n",
                        "notify size:  2048000.0 Sa\n",
                        "Card stopped\n",
                        "SETTINGS: card timeout =  5 s\n",
                        "SETTINGS: # of segments =  1024000 Sa\n",
                        "SETTINGS: sampling freq =  0.5 GHz\n",
                        "SETTINGS: pretrig size =  128 Sa\n",
                        "SETTINGS: termination =  0\n",
                        "notify size:  2048000.0 Sa\n",
                        "Card stopped\n",
                        "SETTINGS: card timeout =  5 s\n",
                        "SETTINGS: # of segments =  1024000 Sa\n",
                        "SETTINGS: sampling freq =  0.5 GHz\n",
                        "SETTINGS: pretrig size =  128 Sa\n",
                        "SETTINGS: termination =  0\n",
                        "notify size:  2048000.0 Sa\n",
                        "Card stopped\n",
                        "SETTINGS: card timeout =  5 s\n",
                        "SETTINGS: # of segments =  1024000 Sa\n",
                        "SETTINGS: sampling freq =  0.5 GHz\n",
                        "SETTINGS: pretrig size =  128 Sa\n",
                        "SETTINGS: termination =  0\n",
                        "notify size:  2048000.0 Sa\n",
                        "Card stopped\n",
                        "SETTINGS: card timeout =  5 s\n",
                        "SETTINGS: # of segments =  1024000 Sa\n",
                        "SETTINGS: sampling freq =  0.5 GHz\n",
                        "SETTINGS: pretrig size =  128 Sa\n",
                        "SETTINGS: termination =  0\n",
                        "notify size:  2048000.0 Sa\n",
                        "Card stopped\n",
                        "SETTINGS: card timeout =  5 s\n",
                        "SETTINGS: # of segments =  1024000 Sa\n",
                        "SETTINGS: sampling freq =  0.5 GHz\n",
                        "SETTINGS: pretrig size =  128 Sa\n",
                        "SETTINGS: termination =  0\n",
                        "notify size:  2048000.0 Sa\n",
                        "Card stopped\n",
                        "SETTINGS: card timeout =  5 s\n",
                        "SETTINGS: # of segments =  1024000 Sa\n",
                        "SETTINGS: sampling freq =  0.5 GHz\n",
                        "SETTINGS: pretrig size =  128 Sa\n",
                        "SETTINGS: termination =  0\n",
                        "notify size:  2048000.0 Sa\n",
                        "Card stopped\n",
                        "SETTINGS: card timeout =  5 s\n",
                        "SETTINGS: # of segments =  1024000 Sa\n",
                        "SETTINGS: sampling freq =  0.5 GHz\n",
                        "SETTINGS: pretrig size =  128 Sa\n",
                        "SETTINGS: termination =  0\n",
                        "notify size:  2048000.0 Sa\n",
                        "Card stopped\n",
                        "SETTINGS: card timeout =  5 s\n",
                        "SETTINGS: # of segments =  1024000 Sa\n",
                        "SETTINGS: sampling freq =  0.5 GHz\n",
                        "SETTINGS: pretrig size =  128 Sa\n",
                        "SETTINGS: termination =  0\n",
                        "notify size:  2048000.0 Sa\n",
                        "Card stopped\n",
                        "SETTINGS: card timeout =  5 s\n",
                        "SETTINGS: # of segments =  1024000 Sa\n",
                        "SETTINGS: sampling freq =  0.5 GHz\n",
                        "SETTINGS: pretrig size =  128 Sa\n",
                        "SETTINGS: termination =  0\n",
                        "notify size:  2048000.0 Sa\n",
                        "Card stopped\n",
                        "SETTINGS: card timeout =  5 s\n",
                        "SETTINGS: # of segments =  1024000 Sa\n",
                        "SETTINGS: sampling freq =  0.5 GHz\n",
                        "SETTINGS: pretrig size =  128 Sa\n",
                        "SETTINGS: termination =  0\n",
                        "notify size:  2048000.0 Sa\n",
                        "Card stopped\n",
                        "SETTINGS: card timeout =  5 s\n",
                        "SETTINGS: # of segments =  1024000 Sa\n",
                        "SETTINGS: sampling freq =  0.5 GHz\n",
                        "SETTINGS: pretrig size =  128 Sa\n",
                        "SETTINGS: termination =  0\n",
                        "notify size:  2048000.0 Sa\n",
                        "Card stopped\n",
                        "SETTINGS: card timeout =  5 s\n",
                        "SETTINGS: # of segments =  1024000 Sa\n",
                        "SETTINGS: sampling freq =  0.5 GHz\n",
                        "SETTINGS: pretrig size =  128 Sa\n",
                        "SETTINGS: termination =  0\n",
                        "notify size:  2048000.0 Sa\n",
                        "Card stopped\n",
                        "SETTINGS: card timeout =  5 s\n",
                        "SETTINGS: # of segments =  1024000 Sa\n",
                        "SETTINGS: sampling freq =  0.5 GHz\n",
                        "SETTINGS: pretrig size =  128 Sa\n",
                        "SETTINGS: termination =  0\n",
                        "notify size:  2048000.0 Sa\n",
                        "Card stopped\n",
                        "SETTINGS: card timeout =  5 s\n",
                        "SETTINGS: # of segments =  1024000 Sa\n",
                        "SETTINGS: sampling freq =  0.5 GHz\n",
                        "SETTINGS: pretrig size =  128 Sa\n",
                        "SETTINGS: termination =  0\n",
                        "notify size:  2048000.0 Sa\n",
                        "Card stopped\n",
                        "SETTINGS: card timeout =  5 s\n",
                        "SETTINGS: # of segments =  1024000 Sa\n",
                        "SETTINGS: sampling freq =  0.5 GHz\n",
                        "SETTINGS: pretrig size =  128 Sa\n",
                        "SETTINGS: termination =  0\n",
                        "notify size:  2048000.0 Sa\n",
                        "Card stopped\n",
                        "SETTINGS: card timeout =  5 s\n",
                        "SETTINGS: # of segments =  1024000 Sa\n",
                        "SETTINGS: sampling freq =  0.5 GHz\n",
                        "SETTINGS: pretrig size =  128 Sa\n",
                        "SETTINGS: termination =  0\n",
                        "notify size:  2048000.0 Sa\n",
                        "Card stopped\n",
                        "SETTINGS: card timeout =  5 s\n",
                        "SETTINGS: # of segments =  1024000 Sa\n",
                        "SETTINGS: sampling freq =  0.5 GHz\n",
                        "SETTINGS: pretrig size =  128 Sa\n",
                        "SETTINGS: termination =  0\n",
                        "notify size:  2048000.0 Sa\n",
                        "Card stopped\n",
                        "SETTINGS: card timeout =  5 s\n",
                        "SETTINGS: # of segments =  1024000 Sa\n",
                        "SETTINGS: sampling freq =  0.5 GHz\n",
                        "SETTINGS: pretrig size =  128 Sa\n",
                        "SETTINGS: termination =  0\n",
                        "notify size:  2048000.0 Sa\n",
                        "Card stopped\n",
                        "SETTINGS: card timeout =  5 s\n",
                        "SETTINGS: # of segments =  1024000 Sa\n",
                        "SETTINGS: sampling freq =  0.5 GHz\n",
                        "SETTINGS: pretrig size =  128 Sa\n",
                        "SETTINGS: termination =  0\n",
                        "notify size:  2048000.0 Sa\n",
                        "Card stopped\n",
                        "SETTINGS: card timeout =  5 s\n",
                        "SETTINGS: # of segments =  1024000 Sa\n",
                        "SETTINGS: sampling freq =  0.5 GHz\n",
                        "SETTINGS: pretrig size =  128 Sa\n",
                        "SETTINGS: termination =  0\n",
                        "notify size:  2048000.0 Sa\n",
                        "Card stopped\n",
                        "SETTINGS: card timeout =  5 s\n",
                        "SETTINGS: # of segments =  1024000 Sa\n",
                        "SETTINGS: sampling freq =  0.5 GHz\n",
                        "SETTINGS: pretrig size =  128 Sa\n",
                        "SETTINGS: termination =  0\n",
                        "notify size:  2048000.0 Sa\n",
                        "Card stopped\n",
                        "SETTINGS: card timeout =  5 s\n",
                        "SETTINGS: # of segments =  1024000 Sa\n",
                        "SETTINGS: sampling freq =  0.5 GHz\n",
                        "SETTINGS: pretrig size =  128 Sa\n",
                        "SETTINGS: termination =  0\n",
                        "notify size:  2048000.0 Sa\n",
                        "Card stopped\n",
                        "SETTINGS: card timeout =  5 s\n",
                        "SETTINGS: # of segments =  1024000 Sa\n",
                        "SETTINGS: sampling freq =  0.5 GHz\n",
                        "SETTINGS: pretrig size =  128 Sa\n",
                        "SETTINGS: termination =  0\n",
                        "notify size:  2048000.0 Sa\n",
                        "Card stopped\n",
                        "SETTINGS: card timeout =  5 s\n",
                        "SETTINGS: # of segments =  1024000 Sa\n",
                        "SETTINGS: sampling freq =  0.5 GHz\n",
                        "SETTINGS: pretrig size =  128 Sa\n",
                        "SETTINGS: termination =  0\n",
                        "notify size:  2048000.0 Sa\n",
                        "Card stopped\n",
                        "SETTINGS: card timeout =  5 s\n",
                        "SETTINGS: # of segments =  1024000 Sa\n",
                        "SETTINGS: sampling freq =  0.5 GHz\n",
                        "SETTINGS: pretrig size =  128 Sa\n",
                        "SETTINGS: termination =  0\n",
                        "notify size:  2048000.0 Sa\n",
                        "Card stopped\n",
                        "SETTINGS: card timeout =  5 s\n",
                        "SETTINGS: # of segments =  1024000 Sa\n",
                        "SETTINGS: sampling freq =  0.5 GHz\n",
                        "SETTINGS: pretrig size =  128 Sa\n",
                        "SETTINGS: termination =  0\n",
                        "notify size:  2048000.0 Sa\n",
                        "Card stopped\n",
                        "SETTINGS: card timeout =  5 s\n",
                        "SETTINGS: # of segments =  1024000 Sa\n",
                        "SETTINGS: sampling freq =  0.5 GHz\n",
                        "SETTINGS: pretrig size =  128 Sa\n",
                        "SETTINGS: termination =  0\n",
                        "notify size:  2048000.0 Sa\n",
                        "Card stopped\n",
                        "SETTINGS: card timeout =  5 s\n",
                        "SETTINGS: # of segments =  1024000 Sa\n",
                        "SETTINGS: sampling freq =  0.5 GHz\n",
                        "SETTINGS: pretrig size =  128 Sa\n",
                        "SETTINGS: termination =  0\n",
                        "notify size:  2048000.0 Sa\n",
                        "Card stopped\n",
                        "SETTINGS: card timeout =  5 s\n",
                        "SETTINGS: # of segments =  1024000 Sa\n",
                        "SETTINGS: sampling freq =  0.5 GHz\n",
                        "SETTINGS: pretrig size =  128 Sa\n",
                        "SETTINGS: termination =  0\n",
                        "notify size:  2048000.0 Sa\n",
                        "Card stopped\n",
                        "SETTINGS: card timeout =  5 s\n",
                        "SETTINGS: # of segments =  1024000 Sa\n",
                        "SETTINGS: sampling freq =  0.5 GHz\n",
                        "SETTINGS: pretrig size =  128 Sa\n",
                        "SETTINGS: termination =  0\n",
                        "notify size:  2048000.0 Sa\n",
                        "Card stopped\n",
                        "SETTINGS: card timeout =  5 s\n",
                        "SETTINGS: # of segments =  1024000 Sa\n",
                        "SETTINGS: sampling freq =  0.5 GHz\n",
                        "SETTINGS: pretrig size =  128 Sa\n",
                        "SETTINGS: termination =  0\n",
                        "notify size:  2048000.0 Sa\n",
                        "Card stopped\n",
                        "SETTINGS: card timeout =  5 s\n",
                        "SETTINGS: # of segments =  1024000 Sa\n",
                        "SETTINGS: sampling freq =  0.5 GHz\n",
                        "SETTINGS: pretrig size =  128 Sa\n",
                        "SETTINGS: termination =  0\n",
                        "notify size:  2048000.0 Sa\n",
                        "Card stopped\n",
                        "SETTINGS: card timeout =  5 s\n",
                        "SETTINGS: # of segments =  1024000 Sa\n",
                        "SETTINGS: sampling freq =  0.5 GHz\n",
                        "SETTINGS: pretrig size =  128 Sa\n",
                        "SETTINGS: termination =  0\n",
                        "notify size:  2048000.0 Sa\n",
                        "Card stopped\n",
                        "SETTINGS: card timeout =  5 s\n",
                        "SETTINGS: # of segments =  1024000 Sa\n",
                        "SETTINGS: sampling freq =  0.5 GHz\n",
                        "SETTINGS: pretrig size =  128 Sa\n",
                        "SETTINGS: termination =  0\n",
                        "notify size:  2048000.0 Sa\n",
                        "Card stopped\n",
                        "SETTINGS: card timeout =  5 s\n",
                        "SETTINGS: # of segments =  1024000 Sa\n",
                        "SETTINGS: sampling freq =  0.5 GHz\n",
                        "SETTINGS: pretrig size =  128 Sa\n",
                        "SETTINGS: termination =  0\n",
                        "notify size:  2048000.0 Sa\n",
                        "Card stopped\n",
                        "SETTINGS: card timeout =  5 s\n",
                        "SETTINGS: # of segments =  1024000 Sa\n",
                        "SETTINGS: sampling freq =  0.5 GHz\n",
                        "SETTINGS: pretrig size =  128 Sa\n",
                        "SETTINGS: termination =  0\n",
                        "notify size:  2048000.0 Sa\n",
                        "Card stopped\n",
                        "SETTINGS: card timeout =  5 s\n",
                        "SETTINGS: # of segments =  1024000 Sa\n",
                        "SETTINGS: sampling freq =  0.5 GHz\n",
                        "SETTINGS: pretrig size =  128 Sa\n",
                        "SETTINGS: termination =  0\n",
                        "notify size:  2048000.0 Sa\n",
                        "Card stopped\n",
                        "SETTINGS: card timeout =  5 s\n",
                        "SETTINGS: # of segments =  1024000 Sa\n",
                        "SETTINGS: sampling freq =  0.5 GHz\n",
                        "SETTINGS: pretrig size =  128 Sa\n",
                        "SETTINGS: termination =  0\n",
                        "notify size:  2048000.0 Sa\n",
                        "Card stopped\n",
                        "SETTINGS: card timeout =  5 s\n",
                        "SETTINGS: # of segments =  1024000 Sa\n",
                        "SETTINGS: sampling freq =  0.5 GHz\n",
                        "SETTINGS: pretrig size =  128 Sa\n",
                        "SETTINGS: termination =  0\n",
                        "notify size:  2048000.0 Sa\n",
                        "Card stopped\n",
                        "SETTINGS: card timeout =  5 s\n",
                        "SETTINGS: # of segments =  1024000 Sa\n",
                        "SETTINGS: sampling freq =  0.5 GHz\n",
                        "SETTINGS: pretrig size =  128 Sa\n",
                        "SETTINGS: termination =  0\n",
                        "notify size:  2048000.0 Sa\n",
                        "Card stopped\n",
                        "SETTINGS: card timeout =  5 s\n",
                        "SETTINGS: # of segments =  1024000 Sa\n",
                        "SETTINGS: sampling freq =  0.5 GHz\n",
                        "SETTINGS: pretrig size =  128 Sa\n",
                        "SETTINGS: termination =  0\n",
                        "notify size:  2048000.0 Sa\n",
                        "Card stopped\n",
                        "SETTINGS: card timeout =  5 s\n",
                        "SETTINGS: # of segments =  1024000 Sa\n",
                        "SETTINGS: sampling freq =  0.5 GHz\n",
                        "SETTINGS: pretrig size =  128 Sa\n",
                        "SETTINGS: termination =  0\n",
                        "notify size:  2048000.0 Sa\n",
                        "Card stopped\n",
                        "SETTINGS: card timeout =  5 s\n",
                        "SETTINGS: # of segments =  1024000 Sa\n",
                        "SETTINGS: sampling freq =  0.5 GHz\n",
                        "SETTINGS: pretrig size =  128 Sa\n",
                        "SETTINGS: termination =  0\n",
                        "notify size:  2048000.0 Sa\n",
                        "Card stopped\n",
                        "SETTINGS: card timeout =  5 s\n",
                        "SETTINGS: # of segments =  1024000 Sa\n",
                        "SETTINGS: sampling freq =  0.5 GHz\n",
                        "SETTINGS: pretrig size =  128 Sa\n",
                        "SETTINGS: termination =  0\n",
                        "notify size:  2048000.0 Sa\n",
                        "Card stopped\n",
                        "SETTINGS: card timeout =  5 s\n",
                        "SETTINGS: # of segments =  1024000 Sa\n",
                        "SETTINGS: sampling freq =  0.5 GHz\n",
                        "SETTINGS: pretrig size =  128 Sa\n",
                        "SETTINGS: termination =  0\n",
                        "notify size:  2048000.0 Sa\n",
                        "Card stopped\n",
                        "SETTINGS: card timeout =  5 s\n",
                        "SETTINGS: # of segments =  1024000 Sa\n",
                        "SETTINGS: sampling freq =  0.5 GHz\n",
                        "SETTINGS: pretrig size =  128 Sa\n",
                        "SETTINGS: termination =  0\n",
                        "notify size:  2048000.0 Sa\n",
                        "Card stopped\n",
                        "SETTINGS: card timeout =  5 s\n",
                        "SETTINGS: # of segments =  1024000 Sa\n",
                        "SETTINGS: sampling freq =  0.5 GHz\n",
                        "SETTINGS: pretrig size =  128 Sa\n",
                        "SETTINGS: termination =  0\n",
                        "notify size:  2048000.0 Sa\n",
                        "Card stopped\n",
                        "SETTINGS: card timeout =  5 s\n",
                        "SETTINGS: # of segments =  1024000 Sa\n",
                        "SETTINGS: sampling freq =  0.5 GHz\n",
                        "SETTINGS: pretrig size =  128 Sa\n",
                        "SETTINGS: termination =  0\n",
                        "notify size:  2048000.0 Sa\n",
                        "Card stopped\n",
                        "SETTINGS: card timeout =  5 s\n",
                        "SETTINGS: # of segments =  1024000 Sa\n",
                        "SETTINGS: sampling freq =  0.5 GHz\n",
                        "SETTINGS: pretrig size =  128 Sa\n",
                        "SETTINGS: termination =  0\n",
                        "notify size:  2048000.0 Sa\n",
                        "Card stopped\n",
                        "SETTINGS: card timeout =  5 s\n",
                        "SETTINGS: # of segments =  1024000 Sa\n",
                        "SETTINGS: sampling freq =  0.5 GHz\n",
                        "SETTINGS: pretrig size =  128 Sa\n",
                        "SETTINGS: termination =  0\n",
                        "notify size:  2048000.0 Sa\n",
                        "Card stopped\n",
                        "SETTINGS: card timeout =  5 s\n",
                        "SETTINGS: # of segments =  1024000 Sa\n",
                        "SETTINGS: sampling freq =  0.5 GHz\n",
                        "SETTINGS: pretrig size =  128 Sa\n",
                        "SETTINGS: termination =  0\n",
                        "notify size:  2048000.0 Sa\n",
                        "Card stopped\n",
                        "SETTINGS: card timeout =  5 s\n",
                        "SETTINGS: # of segments =  1024000 Sa\n",
                        "SETTINGS: sampling freq =  0.5 GHz\n",
                        "SETTINGS: pretrig size =  128 Sa\n",
                        "SETTINGS: termination =  0\n",
                        "notify size:  2048000.0 Sa\n",
                        "Card stopped\n",
                        "SETTINGS: card timeout =  5 s\n",
                        "SETTINGS: # of segments =  1024000 Sa\n",
                        "SETTINGS: sampling freq =  0.5 GHz\n",
                        "SETTINGS: pretrig size =  128 Sa\n",
                        "SETTINGS: termination =  0\n",
                        "notify size:  2048000.0 Sa\n",
                        "Card stopped\n",
                        "SETTINGS: card timeout =  5 s\n",
                        "SETTINGS: # of segments =  1024000 Sa\n",
                        "SETTINGS: sampling freq =  0.5 GHz\n",
                        "SETTINGS: pretrig size =  128 Sa\n",
                        "SETTINGS: termination =  0\n",
                        "notify size:  2048000.0 Sa\n",
                        "Card stopped\n",
                        "SETTINGS: card timeout =  5 s\n",
                        "SETTINGS: # of segments =  1024000 Sa\n",
                        "SETTINGS: sampling freq =  0.5 GHz\n",
                        "SETTINGS: pretrig size =  128 Sa\n",
                        "SETTINGS: termination =  0\n",
                        "notify size:  2048000.0 Sa\n",
                        "Card stopped\n",
                        "SETTINGS: card timeout =  5 s\n",
                        "SETTINGS: # of segments =  1024000 Sa\n",
                        "SETTINGS: sampling freq =  0.5 GHz\n",
                        "SETTINGS: pretrig size =  128 Sa\n",
                        "SETTINGS: termination =  0\n",
                        "notify size:  2048000.0 Sa\n",
                        "Card stopped\n",
                        "SETTINGS: card timeout =  5 s\n",
                        "SETTINGS: # of segments =  1024000 Sa\n",
                        "SETTINGS: sampling freq =  0.5 GHz\n",
                        "SETTINGS: pretrig size =  128 Sa\n",
                        "SETTINGS: termination =  0\n",
                        "notify size:  2048000.0 Sa\n",
                        "Card stopped\n",
                        "SETTINGS: card timeout =  5 s\n",
                        "SETTINGS: # of segments =  1024000 Sa\n",
                        "SETTINGS: sampling freq =  0.5 GHz\n",
                        "SETTINGS: pretrig size =  128 Sa\n",
                        "SETTINGS: termination =  0\n",
                        "notify size:  2048000.0 Sa\n",
                        "Card stopped\n",
                        "SETTINGS: card timeout =  5 s\n",
                        "SETTINGS: # of segments =  1024000 Sa\n",
                        "SETTINGS: sampling freq =  0.5 GHz\n",
                        "SETTINGS: pretrig size =  128 Sa\n",
                        "SETTINGS: termination =  0\n",
                        "notify size:  2048000.0 Sa\n",
                        "Card stopped\n",
                        "SETTINGS: card timeout =  5 s\n",
                        "SETTINGS: # of segments =  1024000 Sa\n",
                        "SETTINGS: sampling freq =  0.5 GHz\n",
                        "SETTINGS: pretrig size =  128 Sa\n",
                        "SETTINGS: termination =  0\n",
                        "notify size:  2048000.0 Sa\n",
                        "Card stopped\n",
                        "SETTINGS: card timeout =  5 s\n",
                        "SETTINGS: # of segments =  1024000 Sa\n",
                        "SETTINGS: sampling freq =  0.5 GHz\n",
                        "SETTINGS: pretrig size =  128 Sa\n",
                        "SETTINGS: termination =  0\n",
                        "notify size:  2048000.0 Sa\n",
                        "Card stopped\n",
                        "SETTINGS: card timeout =  5 s\n",
                        "SETTINGS: # of segments =  1024000 Sa\n",
                        "SETTINGS: sampling freq =  0.5 GHz\n",
                        "SETTINGS: pretrig size =  128 Sa\n",
                        "SETTINGS: termination =  0\n",
                        "notify size:  2048000.0 Sa\n",
                        "Card stopped\n",
                        "SETTINGS: card timeout =  5 s\n",
                        "SETTINGS: # of segments =  1024000 Sa\n",
                        "SETTINGS: sampling freq =  0.5 GHz\n",
                        "SETTINGS: pretrig size =  128 Sa\n",
                        "SETTINGS: termination =  0\n",
                        "notify size:  2048000.0 Sa\n",
                        "Card stopped\n",
                        "SETTINGS: card timeout =  5 s\n",
                        "SETTINGS: # of segments =  1024000 Sa\n",
                        "SETTINGS: sampling freq =  0.5 GHz\n",
                        "SETTINGS: pretrig size =  128 Sa\n",
                        "SETTINGS: termination =  0\n",
                        "notify size:  2048000.0 Sa\n",
                        "Card stopped\n",
                        "SETTINGS: card timeout =  5 s\n",
                        "SETTINGS: # of segments =  1024000 Sa\n",
                        "SETTINGS: sampling freq =  0.5 GHz\n",
                        "SETTINGS: pretrig size =  128 Sa\n",
                        "SETTINGS: termination =  0\n",
                        "notify size:  2048000.0 Sa\n",
                        "Card stopped\n",
                        "SETTINGS: card timeout =  5 s\n",
                        "SETTINGS: # of segments =  1024000 Sa\n",
                        "SETTINGS: sampling freq =  0.5 GHz\n",
                        "SETTINGS: pretrig size =  128 Sa\n",
                        "SETTINGS: termination =  0\n",
                        "notify size:  2048000.0 Sa\n",
                        "Card stopped\n",
                        "SETTINGS: card timeout =  5 s\n",
                        "SETTINGS: # of segments =  1024000 Sa\n",
                        "SETTINGS: sampling freq =  0.5 GHz\n",
                        "SETTINGS: pretrig size =  128 Sa\n",
                        "SETTINGS: termination =  0\n",
                        "notify size:  2048000.0 Sa\n",
                        "Card stopped\n",
                        "SETTINGS: card timeout =  5 s\n",
                        "SETTINGS: # of segments =  1024000 Sa\n",
                        "SETTINGS: sampling freq =  0.5 GHz\n",
                        "SETTINGS: pretrig size =  128 Sa\n",
                        "SETTINGS: termination =  0\n",
                        "notify size:  2048000.0 Sa\n",
                        "Card stopped\n",
                        "SETTINGS: card timeout =  5 s\n",
                        "SETTINGS: # of segments =  1024000 Sa\n",
                        "SETTINGS: sampling freq =  0.5 GHz\n",
                        "SETTINGS: pretrig size =  128 Sa\n",
                        "SETTINGS: termination =  0\n",
                        "notify size:  2048000.0 Sa\n",
                        "Card stopped\n",
                        "SETTINGS: card timeout =  5 s\n",
                        "SETTINGS: # of segments =  1024000 Sa\n",
                        "SETTINGS: sampling freq =  0.5 GHz\n",
                        "SETTINGS: pretrig size =  128 Sa\n",
                        "SETTINGS: termination =  0\n",
                        "notify size:  2048000.0 Sa\n",
                        "Card stopped\n",
                        "SETTINGS: card timeout =  5 s\n",
                        "SETTINGS: # of segments =  1024000 Sa\n",
                        "SETTINGS: sampling freq =  0.5 GHz\n",
                        "SETTINGS: pretrig size =  128 Sa\n",
                        "SETTINGS: termination =  0\n",
                        "notify size:  2048000.0 Sa\n",
                        "Card stopped\n",
                        "SETTINGS: card timeout =  5 s\n",
                        "SETTINGS: # of segments =  1024000 Sa\n",
                        "SETTINGS: sampling freq =  0.5 GHz\n",
                        "SETTINGS: pretrig size =  128 Sa\n",
                        "SETTINGS: termination =  0\n",
                        "notify size:  2048000.0 Sa\n",
                        "Card stopped\n",
                        "SETTINGS: card timeout =  5 s\n",
                        "SETTINGS: # of segments =  1024000 Sa\n",
                        "SETTINGS: sampling freq =  0.5 GHz\n",
                        "SETTINGS: pretrig size =  128 Sa\n",
                        "SETTINGS: termination =  0\n",
                        "notify size:  2048000.0 Sa\n",
                        "Card stopped\n",
                        "SETTINGS: card timeout =  5 s\n",
                        "SETTINGS: # of segments =  1024000 Sa\n",
                        "SETTINGS: sampling freq =  0.5 GHz\n",
                        "SETTINGS: pretrig size =  128 Sa\n",
                        "SETTINGS: termination =  0\n",
                        "notify size:  2048000.0 Sa\n",
                        "Card stopped\n",
                        "SETTINGS: card timeout =  5 s\n",
                        "SETTINGS: # of segments =  1024000 Sa\n",
                        "SETTINGS: sampling freq =  0.5 GHz\n",
                        "SETTINGS: pretrig size =  128 Sa\n",
                        "SETTINGS: termination =  0\n",
                        "notify size:  2048000.0 Sa\n",
                        "Card stopped\n",
                        "SETTINGS: card timeout =  5 s\n",
                        "SETTINGS: # of segments =  1024000 Sa\n",
                        "SETTINGS: sampling freq =  0.5 GHz\n",
                        "SETTINGS: pretrig size =  128 Sa\n",
                        "SETTINGS: termination =  0\n",
                        "notify size:  2048000.0 Sa\n",
                        "Card stopped\n",
                        "SETTINGS: card timeout =  5 s\n",
                        "SETTINGS: # of segments =  1024000 Sa\n",
                        "SETTINGS: sampling freq =  0.5 GHz\n",
                        "SETTINGS: pretrig size =  128 Sa\n",
                        "SETTINGS: termination =  0\n",
                        "notify size:  2048000.0 Sa\n",
                        "Card stopped\n",
                        "SETTINGS: card timeout =  5 s\n",
                        "SETTINGS: # of segments =  1024000 Sa\n",
                        "SETTINGS: sampling freq =  0.5 GHz\n",
                        "SETTINGS: pretrig size =  128 Sa\n",
                        "SETTINGS: termination =  0\n",
                        "notify size:  2048000.0 Sa\n",
                        "Card stopped\n",
                        "SETTINGS: card timeout =  5 s\n",
                        "SETTINGS: # of segments =  1024000 Sa\n",
                        "SETTINGS: sampling freq =  0.5 GHz\n",
                        "SETTINGS: pretrig size =  128 Sa\n",
                        "SETTINGS: termination =  0\n",
                        "notify size:  2048000.0 Sa\n",
                        "Card stopped\n",
                        "SETTINGS: card timeout =  5 s\n",
                        "SETTINGS: # of segments =  1024000 Sa\n",
                        "SETTINGS: sampling freq =  0.5 GHz\n",
                        "SETTINGS: pretrig size =  128 Sa\n",
                        "SETTINGS: termination =  0\n",
                        "notify size:  2048000.0 Sa\n",
                        "Card stopped\n",
                        "SETTINGS: card timeout =  5 s\n",
                        "SETTINGS: # of segments =  1024000 Sa\n",
                        "SETTINGS: sampling freq =  0.5 GHz\n",
                        "SETTINGS: pretrig size =  128 Sa\n",
                        "SETTINGS: termination =  0\n",
                        "notify size:  2048000.0 Sa\n",
                        "Card stopped\n",
                        "SETTINGS: card timeout =  5 s\n",
                        "SETTINGS: # of segments =  1024000 Sa\n",
                        "SETTINGS: sampling freq =  0.5 GHz\n",
                        "SETTINGS: pretrig size =  128 Sa\n",
                        "SETTINGS: termination =  0\n",
                        "notify size:  2048000.0 Sa\n",
                        "Card stopped\n",
                        "SETTINGS: card timeout =  5 s\n",
                        "SETTINGS: # of segments =  1024000 Sa\n",
                        "SETTINGS: sampling freq =  0.5 GHz\n",
                        "SETTINGS: pretrig size =  128 Sa\n",
                        "SETTINGS: termination =  0\n",
                        "notify size:  2048000.0 Sa\n",
                        "Card stopped\n",
                        "SETTINGS: card timeout =  5 s\n",
                        "SETTINGS: # of segments =  1024000 Sa\n",
                        "SETTINGS: sampling freq =  0.5 GHz\n",
                        "SETTINGS: pretrig size =  128 Sa\n",
                        "SETTINGS: termination =  0\n",
                        "notify size:  2048000.0 Sa\n",
                        "Card stopped\n",
                        "SETTINGS: card timeout =  5 s\n",
                        "SETTINGS: # of segments =  1024000 Sa\n",
                        "SETTINGS: sampling freq =  0.5 GHz\n",
                        "SETTINGS: pretrig size =  128 Sa\n",
                        "SETTINGS: termination =  0\n",
                        "notify size:  2048000.0 Sa\n",
                        "Card stopped\n",
                        "SETTINGS: card timeout =  5 s\n",
                        "SETTINGS: # of segments =  1024000 Sa\n",
                        "SETTINGS: sampling freq =  0.5 GHz\n",
                        "SETTINGS: pretrig size =  128 Sa\n",
                        "SETTINGS: termination =  0\n",
                        "notify size:  2048000.0 Sa\n",
                        "Card stopped\n",
                        "SETTINGS: card timeout =  5 s\n",
                        "SETTINGS: # of segments =  1024000 Sa\n",
                        "SETTINGS: sampling freq =  0.5 GHz\n",
                        "SETTINGS: pretrig size =  128 Sa\n",
                        "SETTINGS: termination =  0\n",
                        "notify size:  2048000.0 Sa\n",
                        "Card stopped\n",
                        "SETTINGS: card timeout =  5 s\n",
                        "SETTINGS: # of segments =  1024000 Sa\n",
                        "SETTINGS: sampling freq =  0.5 GHz\n",
                        "SETTINGS: pretrig size =  128 Sa\n",
                        "SETTINGS: termination =  0\n",
                        "notify size:  2048000.0 Sa\n",
                        "Card stopped\n",
                        "SETTINGS: card timeout =  5 s\n",
                        "SETTINGS: # of segments =  1024000 Sa\n",
                        "SETTINGS: sampling freq =  0.5 GHz\n",
                        "SETTINGS: pretrig size =  128 Sa\n",
                        "SETTINGS: termination =  0\n",
                        "notify size:  2048000.0 Sa\n",
                        "Card stopped\n",
                        "SETTINGS: card timeout =  5 s\n",
                        "SETTINGS: # of segments =  1024000 Sa\n",
                        "SETTINGS: sampling freq =  0.5 GHz\n",
                        "SETTINGS: pretrig size =  128 Sa\n",
                        "SETTINGS: termination =  0\n",
                        "notify size:  2048000.0 Sa\n",
                        "Card stopped\n",
                        "SETTINGS: card timeout =  5 s\n",
                        "SETTINGS: # of segments =  1024000 Sa\n",
                        "SETTINGS: sampling freq =  0.5 GHz\n",
                        "SETTINGS: pretrig size =  128 Sa\n",
                        "SETTINGS: termination =  0\n",
                        "notify size:  2048000.0 Sa\n",
                        "Card stopped\n",
                        "SETTINGS: card timeout =  5 s\n",
                        "SETTINGS: # of segments =  1024000 Sa\n",
                        "SETTINGS: sampling freq =  0.5 GHz\n",
                        "SETTINGS: pretrig size =  128 Sa\n",
                        "SETTINGS: termination =  0\n",
                        "notify size:  2048000.0 Sa\n",
                        "Card stopped\n",
                        "SETTINGS: card timeout =  5 s\n",
                        "SETTINGS: # of segments =  1024000 Sa\n",
                        "SETTINGS: sampling freq =  0.5 GHz\n",
                        "SETTINGS: pretrig size =  128 Sa\n",
                        "SETTINGS: termination =  0\n",
                        "notify size:  2048000.0 Sa\n",
                        "Card stopped\n",
                        "SETTINGS: card timeout =  5 s\n",
                        "SETTINGS: # of segments =  1024000 Sa\n",
                        "SETTINGS: sampling freq =  0.5 GHz\n",
                        "SETTINGS: pretrig size =  128 Sa\n",
                        "SETTINGS: termination =  0\n",
                        "notify size:  2048000.0 Sa\n",
                        "Card stopped\n",
                        "SETTINGS: card timeout =  5 s\n",
                        "SETTINGS: # of segments =  1024000 Sa\n",
                        "SETTINGS: sampling freq =  0.5 GHz\n",
                        "SETTINGS: pretrig size =  128 Sa\n",
                        "SETTINGS: termination =  0\n",
                        "notify size:  2048000.0 Sa\n",
                        "Card stopped\n",
                        "SETTINGS: card timeout =  5 s\n",
                        "SETTINGS: # of segments =  1024000 Sa\n",
                        "SETTINGS: sampling freq =  0.5 GHz\n",
                        "SETTINGS: pretrig size =  128 Sa\n",
                        "SETTINGS: termination =  0\n",
                        "notify size:  2048000.0 Sa\n",
                        "Card stopped\n",
                        "SETTINGS: card timeout =  5 s\n",
                        "SETTINGS: # of segments =  1024000 Sa\n",
                        "SETTINGS: sampling freq =  0.5 GHz\n",
                        "SETTINGS: pretrig size =  128 Sa\n",
                        "SETTINGS: termination =  0\n",
                        "notify size:  2048000.0 Sa\n",
                        "Card stopped\n",
                        "SETTINGS: card timeout =  5 s\n",
                        "SETTINGS: # of segments =  1024000 Sa\n",
                        "SETTINGS: sampling freq =  0.5 GHz\n",
                        "SETTINGS: pretrig size =  128 Sa\n",
                        "SETTINGS: termination =  0\n",
                        "notify size:  2048000.0 Sa\n",
                        "Card stopped\n",
                        "SETTINGS: card timeout =  5 s\n",
                        "SETTINGS: # of segments =  1024000 Sa\n",
                        "SETTINGS: sampling freq =  0.5 GHz\n",
                        "SETTINGS: pretrig size =  128 Sa\n",
                        "SETTINGS: termination =  0\n",
                        "notify size:  2048000.0 Sa\n",
                        "Card stopped\n",
                        "SETTINGS: card timeout =  5 s\n",
                        "SETTINGS: # of segments =  1024000 Sa\n",
                        "SETTINGS: sampling freq =  0.5 GHz\n",
                        "SETTINGS: pretrig size =  128 Sa\n",
                        "SETTINGS: termination =  0\n",
                        "notify size:  2048000.0 Sa\n",
                        "Card stopped\n",
                        "SETTINGS: card timeout =  5 s\n",
                        "SETTINGS: # of segments =  1024000 Sa\n",
                        "SETTINGS: sampling freq =  0.5 GHz\n",
                        "SETTINGS: pretrig size =  128 Sa\n",
                        "SETTINGS: termination =  0\n",
                        "notify size:  2048000.0 Sa\n",
                        "Card stopped\n",
                        "SETTINGS: card timeout =  5 s\n",
                        "SETTINGS: # of segments =  1024000 Sa\n",
                        "SETTINGS: sampling freq =  0.5 GHz\n",
                        "SETTINGS: pretrig size =  128 Sa\n",
                        "SETTINGS: termination =  0\n",
                        "notify size:  2048000.0 Sa\n",
                        "Card stopped\n",
                        "SETTINGS: card timeout =  5 s\n",
                        "SETTINGS: # of segments =  1024000 Sa\n",
                        "SETTINGS: sampling freq =  0.5 GHz\n",
                        "SETTINGS: pretrig size =  128 Sa\n",
                        "SETTINGS: termination =  0\n",
                        "notify size:  2048000.0 Sa\n",
                        "Card stopped\n",
                        "SETTINGS: card timeout =  5 s\n",
                        "SETTINGS: # of segments =  1024000 Sa\n",
                        "SETTINGS: sampling freq =  0.5 GHz\n",
                        "SETTINGS: pretrig size =  128 Sa\n",
                        "SETTINGS: termination =  0\n",
                        "notify size:  2048000.0 Sa\n",
                        "Card stopped\n",
                        "SETTINGS: card timeout =  5 s\n",
                        "SETTINGS: # of segments =  1024000 Sa\n",
                        "SETTINGS: sampling freq =  0.5 GHz\n",
                        "SETTINGS: pretrig size =  128 Sa\n",
                        "SETTINGS: termination =  0\n",
                        "notify size:  2048000.0 Sa\n",
                        "Card stopped\n",
                        "SETTINGS: card timeout =  5 s\n",
                        "SETTINGS: # of segments =  1024000 Sa\n",
                        "SETTINGS: sampling freq =  0.5 GHz\n",
                        "SETTINGS: pretrig size =  128 Sa\n",
                        "SETTINGS: termination =  0\n",
                        "notify size:  2048000.0 Sa\n",
                        "Card stopped\n",
                        "SETTINGS: card timeout =  5 s\n",
                        "SETTINGS: # of segments =  1024000 Sa\n",
                        "SETTINGS: sampling freq =  0.5 GHz\n",
                        "SETTINGS: pretrig size =  128 Sa\n",
                        "SETTINGS: termination =  0\n",
                        "notify size:  2048000.0 Sa\n",
                        "Card stopped\n",
                        "SETTINGS: card timeout =  5 s\n",
                        "SETTINGS: # of segments =  1024000 Sa\n",
                        "SETTINGS: sampling freq =  0.5 GHz\n",
                        "SETTINGS: pretrig size =  128 Sa\n",
                        "SETTINGS: termination =  0\n",
                        "notify size:  2048000.0 Sa\n",
                        "Card stopped\n",
                        "SETTINGS: card timeout =  5 s\n",
                        "SETTINGS: # of segments =  1024000 Sa\n",
                        "SETTINGS: sampling freq =  0.5 GHz\n",
                        "SETTINGS: pretrig size =  128 Sa\n",
                        "SETTINGS: termination =  0\n",
                        "notify size:  2048000.0 Sa\n",
                        "Card stopped\n",
                        "SETTINGS: card timeout =  5 s\n",
                        "SETTINGS: # of segments =  1024000 Sa\n",
                        "SETTINGS: sampling freq =  0.5 GHz\n",
                        "SETTINGS: pretrig size =  128 Sa\n",
                        "SETTINGS: termination =  0\n",
                        "notify size:  2048000.0 Sa\n",
                        "Card stopped\n",
                        "SETTINGS: card timeout =  5 s\n",
                        "SETTINGS: # of segments =  1024000 Sa\n",
                        "SETTINGS: sampling freq =  0.5 GHz\n",
                        "SETTINGS: pretrig size =  128 Sa\n",
                        "SETTINGS: termination =  0\n",
                        "notify size:  2048000.0 Sa\n",
                        "Card stopped\n",
                        "SETTINGS: card timeout =  5 s\n",
                        "SETTINGS: # of segments =  1024000 Sa\n",
                        "SETTINGS: sampling freq =  0.5 GHz\n",
                        "SETTINGS: pretrig size =  128 Sa\n",
                        "SETTINGS: termination =  0\n",
                        "notify size:  2048000.0 Sa\n",
                        "Card stopped\n"
                    ]
                }
            ],
            "source": [
                "pretrig_size=128\n",
                "posttrig_size=1024*1000-pretrig_size\n",
                "freq_start = 16.45-0.25\n",
                "freq_stop = 16.45+0.25\n",
                "B = 14.103\n",
                "f_e = 28.0249514242*B\n",
                "f_NVp1 = f_e + 2.8705\n",
                "f_NVm1 = f_e - 2.8705\n",
                "# f_NVguess = 392.8397714495659\n",
                "f_NVguess = 398.5567714869976\n",
                "freq_start = (f_NVguess-0.030)/24.0\n",
                "freq_stop = (f_NVguess+0.030)/24.0\n",
                "# check the minium step size\n",
                "freqminstep_list = mwsyn.get_min_step_size([freq_start], [freq_stop])\n",
                "step_min = freqminstep_list[0] # in Hz\n",
                "freq_step = 0.5E-3/24.0\n",
                "freq_step = int(freq_step/step_min*1E9)*step_min/1E9\n",
                "\n",
                "freq_array = np.arange(freq_start, freq_stop, freq_step)\n",
                "freq_array=freq_array\n",
                "# print(f\"Estimated time for one sweep:{(freq_stop-freq_start)/freq_step*max(10E6, dur_pt)/1E9} s\")\n",
                "freq_actual = np.zeros(len(freq_array))\n",
                "\n",
                "# Allocate arrays\n",
                "signal = np.zeros((len(freq_actual), pretrig_size + posttrig_size))\n",
                "background = np.zeros((len(freq_actual), pretrig_size + posttrig_size))\n",
                "\n",
                "# Repeat measurement\n",
                "num_repeat = 1\n",
                "signal_av = np.zeros(len(freq_actual))\n",
                "background_av = np.zeros(len(freq_actual))\n",
                "segment_list = np.zeros(len(freq_actual))\n",
                "\n",
                "laser.laser_on() # turn off laser\n",
                "\n",
                "for mmm in range(num_repeat):\n",
                "    for jj, ff in enumerate(freq_array):\n",
                "        # print(f\"Frequency: {ff} GHz\")\n",
                "        run_time = .1\n",
                "        segments = 0\n",
                "        \n",
                "        dig.assign_param(dict(\n",
                "            readout_ch=readout_ch,\n",
                "            amp_input=amp_input,\n",
                "            num_segment=8,\n",
                "            pretrig_size=pretrig_size,\n",
                "            posttrig_size=posttrig_size,\n",
                "            segment_size=pretrig_size+posttrig_size,\n",
                "            terminate_input=TERMIN_INPUT_1MOHM,\n",
                "            DCCOUPLE=0,\n",
                "            sampling_rate=hcf.SIDIG_maxsr \n",
                "        ))\n",
                "        dig.set_config()\n",
                "        errorbyte, freq_actual[jj] = mwsyn.cw_frequency(ff)\n",
                "        pg.stream(n_runs=INF)  # Example function for pulse generator (replace with actual implementation)\n",
                "        dig.start_buffer()\n",
                "        pg.startNow()\n",
                "\n",
                "        start_time = time.monotonic()\n",
                "        while time.monotonic() - start_time < run_time:\n",
                "            rawraw = dig.stream()\n",
                "            assert rawraw.shape[0] % 2 == 0\n",
                "            assert rawraw.shape[0] != 0\n",
                "\n",
                "            rawraw_on = rawraw[0::2, :, :]\n",
                "            rawraw_off = rawraw[1::2, :, :]\n",
                "            segments += np.shape(rawraw)[0] // 2\n",
                "            # print(\"hello\")\n",
                "            # signal[jj, :] += rawraw_on.reshape(-1, rawraw_on.shape[-1]).sum(axis=0)\n",
                "            # background[jj, :] += rawraw_off.reshape(-1, rawraw_off.shape[-1]).sum(axis=0)\n",
                "            # print(f\"rawraw_on.shape[0]: {rawraw_on.shape[0]}\")\n",
                "            for ii in range(0,rawraw.shape[0] // 2):\n",
                "                # print(f\"Processing segment {ii} for freq index {jj}\")\n",
                "                signal[jj,:] += np.ravel(rawraw_on[ii])\n",
                "                background[jj,:] += np.ravel(rawraw_off[ii])\n",
                "\n",
                "        dig.stop_card()\n",
                "        pg.forceFinal()\n",
                "        # pg.reset()\n",
                "        segment_list[jj] += segments\n"
            ]
        },
        {
            "cell_type": "code",
            "execution_count": 13,
            "metadata": {},
            "outputs": [
                {
                    "data": {
                        "text/plain": [
                            "array([10., 11., 11., 12., 10., 11., 11., 11., 12., 11., 12., 11., 11.,\n",
                            "       11., 10., 11., 11., 11., 10., 11., 10., 10., 10., 11., 10., 11.,\n",
                            "       11., 11., 11., 11., 10., 11.,  9., 10., 11., 12., 11., 11., 10.,\n",
                            "       11., 11., 11., 10., 12., 10., 11., 10., 10., 11., 11., 11., 11.,\n",
                            "       11., 11., 10., 11., 12., 10., 11., 11., 11., 11., 11., 11., 11.,\n",
                            "       12., 11., 11., 11., 11., 10., 11., 10., 11., 11., 11., 10., 10.,\n",
                            "       11., 11., 12., 11., 11., 11., 11., 11., 11., 12., 10., 12., 10.,\n",
                            "       11., 10., 10., 10., 11., 12., 10., 10., 10., 11., 11., 11., 10.,\n",
                            "       10., 11., 10., 11., 11., 11.,  9., 10., 10., 11., 11., 11., 10.,\n",
                            "       10., 11., 10., 11.])"
                        ]
                    },
                    "execution_count": 13,
                    "metadata": {},
                    "output_type": "execute_result"
                }
            ],
            "source": [
                "segment_list"
            ]
        },
        {
            "cell_type": "code",
            "execution_count": 14,
            "metadata": {},
            "outputs": [],
            "source": [
                "import matplotlib.pyplot as plt"
            ]
        },
        {
            "cell_type": "code",
            "execution_count": 15,
            "metadata": {},
            "outputs": [
                {
                    "data": {
                        "text/plain": [
                            "[<matplotlib.lines.Line2D at 0x1bc09d90250>]"
                        ]
                    },
                    "execution_count": 15,
                    "metadata": {},
                    "output_type": "execute_result"
                },
                {
                    "data": {
                        "image/png": "[encoded data removed]",
                        "text/plain": [
                            "<Figure size 640x480 with 1 Axes>"
                        ]
                    },
                    "metadata": {},
                    "output_type": "display_data"
                }
            ],
            "source": [
                "plt.plot(np.ravel(rawraw_on))\n",
                "plt.plot(np.ravel(rawraw_off))"
            ]
        },
        {
            "cell_type": "code",
            "execution_count": 16,
            "metadata": {},
            "outputs": [
                {
                    "name": "stdout",
                    "output_type": "stream",
                    "text": [
                        "MW Synthesizer Rebooted!\n"
                    ]
                }
            ],
            "source": [
                "# turn off laser and set diode current to zero\n",
                "laser.laser_off() \n",
                "laser.set_diode_current(0, save_memory=False)\n",
                "laser.close()\n",
                "# reset pulse generator\n",
                "pg.forceFinal()\n",
                "pg.constant(OutputState.ZERO())\n",
                "pg.reset()\n",
                "pg.reboot()\n",
                "\n",
                "# close all NI tasks\n",
                "\n",
                "task_uca.stop()\n",
                "task_uca.close()\n",
                "\n",
                "# reboot(optional) and close the MW synthesizer \n",
                "mwsyn.reboot()\n",
                "mwsyn.close()"
            ]
        },
        {
            "cell_type": "code",
            "execution_count": 17,
            "metadata": {},
            "outputs": [
                {
                    "data": {
                        "text/plain": [
                            "(121, 1024000)"
                        ]
                    },
                    "execution_count": 17,
                    "metadata": {},
                    "output_type": "execute_result"
                }
            ],
            "source": [
                "np.shape(signal)"
            ]
        },
        {
            "cell_type": "code",
            "execution_count": 18,
            "metadata": {},
            "outputs": [
                {
                    "data": {
                        "text/plain": [
                            "(121, 1024000)"
                        ]
                    },
                    "execution_count": 18,
                    "metadata": {},
                    "output_type": "execute_result"
                }
            ],
            "source": [
                "np.shape(signal)"
            ]
        },
        {
            "cell_type": "code",
            "execution_count": 19,
            "metadata": {},
            "outputs": [
                {
                    "data": {
                        "text/plain": [
                            "array([10., 11., 11., 12., 10., 11., 11., 11., 12., 11., 12., 11., 11.,\n",
                            "       11., 10., 11., 11., 11., 10., 11., 10., 10., 10., 11., 10., 11.,\n",
                            "       11., 11., 11., 11., 10., 11.,  9., 10., 11., 12., 11., 11., 10.,\n",
                            "       11., 11., 11., 10., 12., 10., 11., 10., 10., 11., 11., 11., 11.,\n",
                            "       11., 11., 10., 11., 12., 10., 11., 11., 11., 11., 11., 11., 11.,\n",
                            "       12., 11., 11., 11., 11., 10., 11., 10., 11., 11., 11., 10., 10.,\n",
                            "       11., 11., 12., 11., 11., 11., 11., 11., 11., 12., 10., 12., 10.,\n",
                            "       11., 10., 10., 10., 11., 12., 10., 10., 10., 11., 11., 11., 10.,\n",
                            "       10., 11., 10., 11., 11., 11.,  9., 10., 10., 11., 11., 11., 10.,\n",
                            "       10., 11., 10., 11.])"
                        ]
                    },
                    "execution_count": 19,
                    "metadata": {},
                    "output_type": "execute_result"
                }
            ],
            "source": [
                "segment_list"
            ]
        },
        {
            "cell_type": "code",
            "execution_count": 20,
            "metadata": {},
            "outputs": [],
            "source": [
                "def avg(data):\n",
                "    return np.mean(data,axis=1)"
            ]
        },
        {
            "cell_type": "code",
            "execution_count": 21,
            "metadata": {},
            "outputs": [],
            "source": [
                "on=avg(signal)/segment_list\n",
                "off=avg(background)/segment_list"
            ]
        },
        {
            "cell_type": "code",
            "execution_count": 22,
            "metadata": {},
            "outputs": [],
            "source": [
                "import matplotlib.pyplot as plt"
            ]
        },
        {
            "cell_type": "code",
            "execution_count": 23,
            "metadata": {},
            "outputs": [
                {
                    "data": {
                        "text/plain": [
                            "[<matplotlib.lines.Line2D at 0x1bc86d60d00>]"
                        ]
                    },
                    "execution_count": 23,
                    "metadata": {},
                    "output_type": "execute_result"
                },
                {
                    "data": {
                        "image/png": "[encoded data removed]",
                        "text/plain": [
                            "<Figure size 640x480 with 1 Axes>"
                        ]
                    },
                    "metadata": {},
                    "output_type": "display_data"
                }
            ],
            "source": [
                "plt.plot(freq_actual*24, (on-off)/off)"
            ]
        },
        {
            "cell_type": "code",
            "execution_count": 24,
            "metadata": {},
            "outputs": [
                {
                    "data": {
                        "text/plain": [
                            "[<matplotlib.lines.Line2D at 0x1bc0ed2d540>,\n",
                            " <matplotlib.lines.Line2D at 0x1bc86dcd690>,\n",
                            " <matplotlib.lines.Line2D at 0x1bc86dcd6c0>,\n",
                            " <matplotlib.lines.Line2D at 0x1bc86dcd7b0>,\n",
                            " <matplotlib.lines.Line2D at 0x1bc86dcd8a0>,\n",
                            " <matplotlib.lines.Line2D at 0x1bc86dcd990>,\n",
                            " <matplotlib.lines.Line2D at 0x1bc86dcda80>,\n",
                            " <matplotlib.lines.Line2D at 0x1bc86dcdb70>,\n",
                            " <matplotlib.lines.Line2D at 0x1bc86dcdc60>,\n",
                            " <matplotlib.lines.Line2D at 0x1bc86dcdd50>,\n",
                            " <matplotlib.lines.Line2D at 0x1bc86dcde40>,\n",
                            " <matplotlib.lines.Line2D at 0x1bc86dcd660>,\n",
                            " <matplotlib.lines.Line2D at 0x1bc86dcdf30>,\n",
                            " <matplotlib.lines.Line2D at 0x1bc86dce0e0>,\n",
                            " <matplotlib.lines.Line2D at 0x1bc86dce1d0>,\n",
                            " <matplotlib.lines.Line2D at 0x1bc86dce2c0>,\n",
                            " <matplotlib.lines.Line2D at 0x1bc86dce3b0>,\n",
                            " <matplotlib.lines.Line2D at 0x1bc86dce4a0>,\n",
                            " <matplotlib.lines.Line2D at 0x1bc86dce590>,\n",
                            " <matplotlib.lines.Line2D at 0x1bc86dce680>,\n",
                            " <matplotlib.lines.Line2D at 0x1bc86dce770>,\n",
                            " <matplotlib.lines.Line2D at 0x1bc86dce860>,\n",
                            " <matplotlib.lines.Line2D at 0x1bc86dce950>,\n",
                            " <matplotlib.lines.Line2D at 0x1bc86dcea40>,\n",
                            " <matplotlib.lines.Line2D at 0x1bc86dceb30>,\n",
                            " <matplotlib.lines.Line2D at 0x1bc86dcec20>,\n",
                            " <matplotlib.lines.Line2D at 0x1bc86dced10>,\n",
                            " <matplotlib.lines.Line2D at 0x1bc86dcedd0>,\n",
                            " <matplotlib.lines.Line2D at 0x1bc86dceef0>,\n",
                            " <matplotlib.lines.Line2D at 0x1bc86dcefe0>,\n",
                            " <matplotlib.lines.Line2D at 0x1bc86dcf0d0>,\n",
                            " <matplotlib.lines.Line2D at 0x1bc86dcf1c0>,\n",
                            " <matplotlib.lines.Line2D at 0x1bc86dcf2b0>,\n",
                            " <matplotlib.lines.Line2D at 0x1bc86dcf3a0>,\n",
                            " <matplotlib.lines.Line2D at 0x1bc86dcf490>,\n",
                            " <matplotlib.lines.Line2D at 0x1bc86dcf580>,\n",
                            " <matplotlib.lines.Line2D at 0x1bc86dcf670>,\n",
                            " <matplotlib.lines.Line2D at 0x1bc86dcf760>,\n",
                            " <matplotlib.lines.Line2D at 0x1bc86dcf850>,\n",
                            " <matplotlib.lines.Line2D at 0x1bc86dcf940>,\n",
                            " <matplotlib.lines.Line2D at 0x1bc86dcfa30>,\n",
                            " <matplotlib.lines.Line2D at 0x1bc86dcfb20>,\n",
                            " <matplotlib.lines.Line2D at 0x1bc86dcfc10>,\n",
                            " <matplotlib.lines.Line2D at 0x1bc86dcfd00>,\n",
                            " <matplotlib.lines.Line2D at 0x1bc86dcfdf0>,\n",
                            " <matplotlib.lines.Line2D at 0x1bc86dcfee0>,\n",
                            " <matplotlib.lines.Line2D at 0x1bc86dcffd0>,\n",
                            " <matplotlib.lines.Line2D at 0x1bc86df8100>,\n",
                            " <matplotlib.lines.Line2D at 0x1bc86df81f0>,\n",
                            " <matplotlib.lines.Line2D at 0x1bc86df82e0>,\n",
                            " <matplotlib.lines.Line2D at 0x1bc86df83d0>,\n",
                            " <matplotlib.lines.Line2D at 0x1bc86df84c0>,\n",
                            " <matplotlib.lines.Line2D at 0x1bc86df85b0>,\n",
                            " <matplotlib.lines.Line2D at 0x1bc86df86a0>,\n",
                            " <matplotlib.lines.Line2D at 0x1bc86df8790>,\n",
                            " <matplotlib.lines.Line2D at 0x1bc86df8880>,\n",
                            " <matplotlib.lines.Line2D at 0x1bc86df8970>,\n",
                            " <matplotlib.lines.Line2D at 0x1bc86df8a60>,\n",
                            " <matplotlib.lines.Line2D at 0x1bc86df8b50>,\n",
                            " <matplotlib.lines.Line2D at 0x1bc86df8c40>,\n",
                            " <matplotlib.lines.Line2D at 0x1bc86df8d30>,\n",
                            " <matplotlib.lines.Line2D at 0x1bc86df8e20>,\n",
                            " <matplotlib.lines.Line2D at 0x1bc86df8f10>,\n",
                            " <matplotlib.lines.Line2D at 0x1bc86df9000>,\n",
                            " <matplotlib.lines.Line2D at 0x1bc86d877f0>,\n",
                            " <matplotlib.lines.Line2D at 0x1bc86d87820>,\n",
                            " <matplotlib.lines.Line2D at 0x1bc86d87640>,\n",
                            " <matplotlib.lines.Line2D at 0x1bc86d87550>,\n",
                            " <matplotlib.lines.Line2D at 0x1bc86d62410>,\n",
                            " <matplotlib.lines.Line2D at 0x1bc86df92a0>,\n",
                            " <matplotlib.lines.Line2D at 0x1bc86df93c0>,\n",
                            " <matplotlib.lines.Line2D at 0x1bc86df94b0>,\n",
                            " <matplotlib.lines.Line2D at 0x1bc86df95a0>,\n",
                            " <matplotlib.lines.Line2D at 0x1bc86df9690>,\n",
                            " <matplotlib.lines.Line2D at 0x1bc86df9780>,\n",
                            " <matplotlib.lines.Line2D at 0x1bc86df9870>,\n",
                            " <matplotlib.lines.Line2D at 0x1bc86df9960>,\n",
                            " <matplotlib.lines.Line2D at 0x1bc86df9a50>,\n",
                            " <matplotlib.lines.Line2D at 0x1bc86df9b40>,\n",
                            " <matplotlib.lines.Line2D at 0x1bc86df9c30>,\n",
                            " <matplotlib.lines.Line2D at 0x1bc86df9d20>,\n",
                            " <matplotlib.lines.Line2D at 0x1bc86df9e10>,\n",
                            " <matplotlib.lines.Line2D at 0x1bc86df9f00>,\n",
                            " <matplotlib.lines.Line2D at 0x1bc86df9ff0>,\n",
                            " <matplotlib.lines.Line2D at 0x1bc86dfa0e0>,\n",
                            " <matplotlib.lines.Line2D at 0x1bc86dfa1d0>,\n",
                            " <matplotlib.lines.Line2D at 0x1bc86dfa2c0>,\n",
                            " <matplotlib.lines.Line2D at 0x1bc86dfa3b0>,\n",
                            " <matplotlib.lines.Line2D at 0x1bc86dfa4a0>,\n",
                            " <matplotlib.lines.Line2D at 0x1bc86dfa590>,\n",
                            " <matplotlib.lines.Line2D at 0x1bc86dfa680>,\n",
                            " <matplotlib.lines.Line2D at 0x1bc86dfa770>,\n",
                            " <matplotlib.lines.Line2D at 0x1bc86dfa860>,\n",
                            " <matplotlib.lines.Line2D at 0x1bc86dfa950>,\n",
                            " <matplotlib.lines.Line2D at 0x1bc86dfaa40>,\n",
                            " <matplotlib.lines.Line2D at 0x1bc86dfab30>,\n",
                            " <matplotlib.lines.Line2D at 0x1bc86dfac20>,\n",
                            " <matplotlib.lines.Line2D at 0x1bc86dfad10>,\n",
                            " <matplotlib.lines.Line2D at 0x1bc86dfae00>,\n",
                            " <matplotlib.lines.Line2D at 0x1bc86dfaef0>,\n",
                            " <matplotlib.lines.Line2D at 0x1bc86dfafe0>,\n",
                            " <matplotlib.lines.Line2D at 0x1bc86dfb0d0>,\n",
                            " <matplotlib.lines.Line2D at 0x1bc86dfb1c0>,\n",
                            " <matplotlib.lines.Line2D at 0x1bc86dfb2b0>,\n",
                            " <matplotlib.lines.Line2D at 0x1bc86dfb3a0>,\n",
                            " <matplotlib.lines.Line2D at 0x1bc86dfb460>,\n",
                            " <matplotlib.lines.Line2D at 0x1bc86dfb580>,\n",
                            " <matplotlib.lines.Line2D at 0x1bc86dfb670>,\n",
                            " <matplotlib.lines.Line2D at 0x1bc86dfb760>,\n",
                            " <matplotlib.lines.Line2D at 0x1bc86dfb850>,\n",
                            " <matplotlib.lines.Line2D at 0x1bc86dfb940>,\n",
                            " <matplotlib.lines.Line2D at 0x1bc86dfba30>,\n",
                            " <matplotlib.lines.Line2D at 0x1bc86dfbb20>,\n",
                            " <matplotlib.lines.Line2D at 0x1bc86dfbc10>,\n",
                            " <matplotlib.lines.Line2D at 0x1bc86dfbd00>,\n",
                            " <matplotlib.lines.Line2D at 0x1bc86dfbdf0>,\n",
                            " <matplotlib.lines.Line2D at 0x1bc86dfbee0>,\n",
                            " <matplotlib.lines.Line2D at 0x1bc86dfbfd0>,\n",
                            " <matplotlib.lines.Line2D at 0x1bc86e14100>,\n",
                            " <matplotlib.lines.Line2D at 0x1bc86e141f0>,\n",
                            " <matplotlib.lines.Line2D at 0x1bc86e142e0>]"
                        ]
                    },
                    "execution_count": 24,
                    "metadata": {},
                    "output_type": "execute_result"
                },
                {
                    "name": "stdout",
                    "output_type": "stream",
                    "text": [
                        "Error in callback <function _draw_all_if_interactive at 0x000001BC0C767130> (for post_execute), with arguments args (),kwargs {}:\n"
                    ]
                },
                {
                    "ename": "KeyboardInterrupt",
                    "evalue": "",
                    "output_type": "error",
                    "traceback": [
                        "\u001b[1;31m---------------------------------------------------------------------------\u001b[0m",
                        "\u001b[1;31mKeyboardInterrupt\u001b[0m                         Traceback (most recent call last)",
                        "File \u001b[1;32mc:\\Users\\HFNV\\.conda\\envs\\hfnvenv\\lib\\site-packages\\matplotlib\\pyplot.py:119\u001b[0m, in \u001b[0;36m_draw_all_if_interactive\u001b[1;34m()\u001b[0m\n\u001b[0;32m    117\u001b[0m \u001b[38;5;28;01mdef\u001b[39;00m\u001b[38;5;250m \u001b[39m\u001b[38;5;21m_draw_all_if_interactive\u001b[39m():\n\u001b[0;32m    118\u001b[0m     \u001b[38;5;28;01mif\u001b[39;00m matplotlib\u001b[38;5;241m.\u001b[39mis_interactive():\n\u001b[1;32m--> 119\u001b[0m         \u001b[43mdraw_all\u001b[49m\u001b[43m(\u001b[49m\u001b[43m)\u001b[49m\n",
                        "File \u001b[1;32mc:\\Users\\HFNV\\.conda\\envs\\hfnvenv\\lib\\site-packages\\matplotlib\\_pylab_helpers.py:132\u001b[0m, in \u001b[0;36mGcf.draw_all\u001b[1;34m(cls, force)\u001b[0m\n\u001b[0;32m    130\u001b[0m \u001b[38;5;28;01mfor\u001b[39;00m manager \u001b[38;5;129;01min\u001b[39;00m \u001b[38;5;28mcls\u001b[39m\u001b[38;5;241m.\u001b[39mget_all_fig_managers():\n\u001b[0;32m    131\u001b[0m     \u001b[38;5;28;01mif\u001b[39;00m force \u001b[38;5;129;01mor\u001b[39;00m manager\u001b[38;5;241m.\u001b[39mcanvas\u001b[38;5;241m.\u001b[39mfigure\u001b[38;5;241m.\u001b[39mstale:\n\u001b[1;32m--> 132\u001b[0m         \u001b[43mmanager\u001b[49m\u001b[38;5;241;43m.\u001b[39;49m\u001b[43mcanvas\u001b[49m\u001b[38;5;241;43m.\u001b[39;49m\u001b[43mdraw_idle\u001b[49m\u001b[43m(\u001b[49m\u001b[43m)\u001b[49m\n",
                        "File \u001b[1;32mc:\\Users\\HFNV\\.conda\\envs\\hfnvenv\\lib\\site-packages\\matplotlib\\backend_bases.py:2054\u001b[0m, in \u001b[0;36mFigureCanvasBase.draw_idle\u001b[1;34m(self, *args, **kwargs)\u001b[0m\n\u001b[0;32m   2052\u001b[0m \u001b[38;5;28;01mif\u001b[39;00m \u001b[38;5;129;01mnot\u001b[39;00m \u001b[38;5;28mself\u001b[39m\u001b[38;5;241m.\u001b[39m_is_idle_drawing:\n\u001b[0;32m   2053\u001b[0m     \u001b[38;5;28;01mwith\u001b[39;00m \u001b[38;5;28mself\u001b[39m\u001b[38;5;241m.\u001b[39m_idle_draw_cntx():\n\u001b[1;32m-> 2054\u001b[0m         \u001b[38;5;28mself\u001b[39m\u001b[38;5;241m.\u001b[39mdraw(\u001b[38;5;241m*\u001b[39margs, \u001b[38;5;241m*\u001b[39m\u001b[38;5;241m*\u001b[39mkwargs)\n",
                        "File \u001b[1;32mc:\\Users\\HFNV\\.conda\\envs\\hfnvenv\\lib\\site-packages\\matplotlib\\backends\\backend_agg.py:405\u001b[0m, in \u001b[0;36mFigureCanvasAgg.draw\u001b[1;34m(self)\u001b[0m\n\u001b[0;32m    401\u001b[0m \u001b[38;5;66;03m# Acquire a lock on the shared font cache.\u001b[39;00m\n\u001b[0;32m    402\u001b[0m \u001b[38;5;28;01mwith\u001b[39;00m RendererAgg\u001b[38;5;241m.\u001b[39mlock, \\\n\u001b[0;32m    403\u001b[0m      (\u001b[38;5;28mself\u001b[39m\u001b[38;5;241m.\u001b[39mtoolbar\u001b[38;5;241m.\u001b[39m_wait_cursor_for_draw_cm() \u001b[38;5;28;01mif\u001b[39;00m \u001b[38;5;28mself\u001b[39m\u001b[38;5;241m.\u001b[39mtoolbar\n\u001b[0;32m    404\u001b[0m       \u001b[38;5;28;01melse\u001b[39;00m nullcontext()):\n\u001b[1;32m--> 405\u001b[0m     \u001b[38;5;28;43mself\u001b[39;49m\u001b[38;5;241;43m.\u001b[39;49m\u001b[43mfigure\u001b[49m\u001b[38;5;241;43m.\u001b[39;49m\u001b[43mdraw\u001b[49m\u001b[43m(\u001b[49m\u001b[38;5;28;43mself\u001b[39;49m\u001b[38;5;241;43m.\u001b[39;49m\u001b[43mrenderer\u001b[49m\u001b[43m)\u001b[49m\n\u001b[0;32m    406\u001b[0m     \u001b[38;5;66;03m# A GUI class may be need to update a window using this draw, so\u001b[39;00m\n\u001b[0;32m    407\u001b[0m     \u001b[38;5;66;03m# don't forget to call the superclass.\u001b[39;00m\n\u001b[0;32m    408\u001b[0m     \u001b[38;5;28msuper\u001b[39m()\u001b[38;5;241m.\u001b[39mdraw()\n",
                        "File \u001b[1;32mc:\\Users\\HFNV\\.conda\\envs\\hfnvenv\\lib\\site-packages\\matplotlib\\artist.py:74\u001b[0m, in \u001b[0;36m_finalize_rasterization.<locals>.draw_wrapper\u001b[1;34m(artist, renderer, *args, **kwargs)\u001b[0m\n\u001b[0;32m     72\u001b[0m \u001b[38;5;129m@wraps\u001b[39m(draw)\n\u001b[0;32m     73\u001b[0m \u001b[38;5;28;01mdef\u001b[39;00m\u001b[38;5;250m \u001b[39m\u001b[38;5;21mdraw_wrapper\u001b[39m(artist, renderer, \u001b[38;5;241m*\u001b[39margs, \u001b[38;5;241m*\u001b[39m\u001b[38;5;241m*\u001b[39mkwargs):\n\u001b[1;32m---> 74\u001b[0m     result \u001b[38;5;241m=\u001b[39m draw(artist, renderer, \u001b[38;5;241m*\u001b[39margs, \u001b[38;5;241m*\u001b[39m\u001b[38;5;241m*\u001b[39mkwargs)\n\u001b[0;32m     75\u001b[0m     \u001b[38;5;28;01mif\u001b[39;00m renderer\u001b[38;5;241m.\u001b[39m_rasterizing:\n\u001b[0;32m     76\u001b[0m         renderer\u001b[38;5;241m.\u001b[39mstop_rasterizing()\n",
                        "File \u001b[1;32mc:\\Users\\HFNV\\.conda\\envs\\hfnvenv\\lib\\site-packages\\matplotlib\\artist.py:51\u001b[0m, in \u001b[0;36mallow_rasterization.<locals>.draw_wrapper\u001b[1;34m(artist, renderer)\u001b[0m\n\u001b[0;32m     48\u001b[0m     \u001b[38;5;28;01mif\u001b[39;00m artist\u001b[38;5;241m.\u001b[39mget_agg_filter() \u001b[38;5;129;01mis\u001b[39;00m \u001b[38;5;129;01mnot\u001b[39;00m \u001b[38;5;28;01mNone\u001b[39;00m:\n\u001b[0;32m     49\u001b[0m         renderer\u001b[38;5;241m.\u001b[39mstart_filter()\n\u001b[1;32m---> 51\u001b[0m     \u001b[38;5;28;01mreturn\u001b[39;00m \u001b[43mdraw\u001b[49m\u001b[43m(\u001b[49m\u001b[43martist\u001b[49m\u001b[43m,\u001b[49m\u001b[43m \u001b[49m\u001b[43mrenderer\u001b[49m\u001b[43m)\u001b[49m\n\u001b[0;32m     52\u001b[0m \u001b[38;5;28;01mfinally\u001b[39;00m:\n\u001b[0;32m     53\u001b[0m     \u001b[38;5;28;01mif\u001b[39;00m artist\u001b[38;5;241m.\u001b[39mget_agg_filter() \u001b[38;5;129;01mis\u001b[39;00m \u001b[38;5;129;01mnot\u001b[39;00m \u001b[38;5;28;01mNone\u001b[39;00m:\n",
                        "File \u001b[1;32mc:\\Users\\HFNV\\.conda\\envs\\hfnvenv\\lib\\site-packages\\matplotlib\\figure.py:3071\u001b[0m, in \u001b[0;36mFigure.draw\u001b[1;34m(self, renderer)\u001b[0m\n\u001b[0;32m   3068\u001b[0m         \u001b[38;5;66;03m# ValueError can occur when resizing a window.\u001b[39;00m\n\u001b[0;32m   3070\u001b[0m \u001b[38;5;28mself\u001b[39m\u001b[38;5;241m.\u001b[39mpatch\u001b[38;5;241m.\u001b[39mdraw(renderer)\n\u001b[1;32m-> 3071\u001b[0m \u001b[43mmimage\u001b[49m\u001b[38;5;241;43m.\u001b[39;49m\u001b[43m_draw_list_compositing_images\u001b[49m\u001b[43m(\u001b[49m\n\u001b[0;32m   3072\u001b[0m \u001b[43m    \u001b[49m\u001b[43mrenderer\u001b[49m\u001b[43m,\u001b[49m\u001b[43m \u001b[49m\u001b[38;5;28;43mself\u001b[39;49m\u001b[43m,\u001b[49m\u001b[43m \u001b[49m\u001b[43martists\u001b[49m\u001b[43m,\u001b[49m\u001b[43m \u001b[49m\u001b[38;5;28;43mself\u001b[39;49m\u001b[38;5;241;43m.\u001b[39;49m\u001b[43msuppressComposite\u001b[49m\u001b[43m)\u001b[49m\n\u001b[0;32m   3074\u001b[0m \u001b[38;5;28;01mfor\u001b[39;00m sfig \u001b[38;5;129;01min\u001b[39;00m \u001b[38;5;28mself\u001b[39m\u001b[38;5;241m.\u001b[39msubfigs:\n\u001b[0;32m   3075\u001b[0m     sfig\u001b[38;5;241m.\u001b[39mdraw(renderer)\n",
                        "File \u001b[1;32mc:\\Users\\HFNV\\.conda\\envs\\hfnvenv\\lib\\site-packages\\matplotlib\\image.py:131\u001b[0m, in \u001b[0;36m_draw_list_compositing_images\u001b[1;34m(renderer, parent, artists, suppress_composite)\u001b[0m\n\u001b[0;32m    129\u001b[0m \u001b[38;5;28;01mif\u001b[39;00m not_composite \u001b[38;5;129;01mor\u001b[39;00m \u001b[38;5;129;01mnot\u001b[39;00m has_images:\n\u001b[0;32m    130\u001b[0m     \u001b[38;5;28;01mfor\u001b[39;00m a \u001b[38;5;129;01min\u001b[39;00m artists:\n\u001b[1;32m--> 131\u001b[0m         \u001b[43ma\u001b[49m\u001b[38;5;241;43m.\u001b[39;49m\u001b[43mdraw\u001b[49m\u001b[43m(\u001b[49m\u001b[43mrenderer\u001b[49m\u001b[43m)\u001b[49m\n\u001b[0;32m    132\u001b[0m \u001b[38;5;28;01melse\u001b[39;00m:\n\u001b[0;32m    133\u001b[0m     \u001b[38;5;66;03m# Composite any adjacent images together\u001b[39;00m\n\u001b[0;32m    134\u001b[0m     image_group \u001b[38;5;241m=\u001b[39m []\n",
                        "File \u001b[1;32mc:\\Users\\HFNV\\.conda\\envs\\hfnvenv\\lib\\site-packages\\matplotlib\\artist.py:51\u001b[0m, in \u001b[0;36mallow_rasterization.<locals>.draw_wrapper\u001b[1;34m(artist, renderer)\u001b[0m\n\u001b[0;32m     48\u001b[0m     \u001b[38;5;28;01mif\u001b[39;00m artist\u001b[38;5;241m.\u001b[39mget_agg_filter() \u001b[38;5;129;01mis\u001b[39;00m \u001b[38;5;129;01mnot\u001b[39;00m \u001b[38;5;28;01mNone\u001b[39;00m:\n\u001b[0;32m     49\u001b[0m         renderer\u001b[38;5;241m.\u001b[39mstart_filter()\n\u001b[1;32m---> 51\u001b[0m     \u001b[38;5;28;01mreturn\u001b[39;00m \u001b[43mdraw\u001b[49m\u001b[43m(\u001b[49m\u001b[43martist\u001b[49m\u001b[43m,\u001b[49m\u001b[43m \u001b[49m\u001b[43mrenderer\u001b[49m\u001b[43m)\u001b[49m\n\u001b[0;32m     52\u001b[0m \u001b[38;5;28;01mfinally\u001b[39;00m:\n\u001b[0;32m     53\u001b[0m     \u001b[38;5;28;01mif\u001b[39;00m artist\u001b[38;5;241m.\u001b[39mget_agg_filter() \u001b[38;5;129;01mis\u001b[39;00m \u001b[38;5;129;01mnot\u001b[39;00m \u001b[38;5;28;01mNone\u001b[39;00m:\n",
                        "File \u001b[1;32mc:\\Users\\HFNV\\.conda\\envs\\hfnvenv\\lib\\site-packages\\matplotlib\\axes\\_base.py:3107\u001b[0m, in \u001b[0;36m_AxesBase.draw\u001b[1;34m(self, renderer)\u001b[0m\n\u001b[0;32m   3104\u001b[0m         a\u001b[38;5;241m.\u001b[39mdraw(renderer)\n\u001b[0;32m   3105\u001b[0m     renderer\u001b[38;5;241m.\u001b[39mstop_rasterizing()\n\u001b[1;32m-> 3107\u001b[0m \u001b[43mmimage\u001b[49m\u001b[38;5;241;43m.\u001b[39;49m\u001b[43m_draw_list_compositing_images\u001b[49m\u001b[43m(\u001b[49m\n\u001b[0;32m   3108\u001b[0m \u001b[43m    \u001b[49m\u001b[43mrenderer\u001b[49m\u001b[43m,\u001b[49m\u001b[43m \u001b[49m\u001b[38;5;28;43mself\u001b[39;49m\u001b[43m,\u001b[49m\u001b[43m \u001b[49m\u001b[43martists\u001b[49m\u001b[43m,\u001b[49m\u001b[43m \u001b[49m\u001b[38;5;28;43mself\u001b[39;49m\u001b[38;5;241;43m.\u001b[39;49m\u001b[43mfigure\u001b[49m\u001b[38;5;241;43m.\u001b[39;49m\u001b[43msuppressComposite\u001b[49m\u001b[43m)\u001b[49m\n\u001b[0;32m   3110\u001b[0m renderer\u001b[38;5;241m.\u001b[39mclose_group(\u001b[38;5;124m'\u001b[39m\u001b[38;5;124maxes\u001b[39m\u001b[38;5;124m'\u001b[39m)\n\u001b[0;32m   3111\u001b[0m \u001b[38;5;28mself\u001b[39m\u001b[38;5;241m.\u001b[39mstale \u001b[38;5;241m=\u001b[39m \u001b[38;5;28;01mFalse\u001b[39;00m\n",
                        "File \u001b[1;32mc:\\Users\\HFNV\\.conda\\envs\\hfnvenv\\lib\\site-packages\\matplotlib\\image.py:131\u001b[0m, in \u001b[0;36m_draw_list_compositing_images\u001b[1;34m(renderer, parent, artists, suppress_composite)\u001b[0m\n\u001b[0;32m    129\u001b[0m \u001b[38;5;28;01mif\u001b[39;00m not_composite \u001b[38;5;129;01mor\u001b[39;00m \u001b[38;5;129;01mnot\u001b[39;00m has_images:\n\u001b[0;32m    130\u001b[0m     \u001b[38;5;28;01mfor\u001b[39;00m a \u001b[38;5;129;01min\u001b[39;00m artists:\n\u001b[1;32m--> 131\u001b[0m         \u001b[43ma\u001b[49m\u001b[38;5;241;43m.\u001b[39;49m\u001b[43mdraw\u001b[49m\u001b[43m(\u001b[49m\u001b[43mrenderer\u001b[49m\u001b[43m)\u001b[49m\n\u001b[0;32m    132\u001b[0m \u001b[38;5;28;01melse\u001b[39;00m:\n\u001b[0;32m    133\u001b[0m     \u001b[38;5;66;03m# Composite any adjacent images together\u001b[39;00m\n\u001b[0;32m    134\u001b[0m     image_group \u001b[38;5;241m=\u001b[39m []\n",
                        "File \u001b[1;32mc:\\Users\\HFNV\\.conda\\envs\\hfnvenv\\lib\\site-packages\\matplotlib\\artist.py:51\u001b[0m, in \u001b[0;36mallow_rasterization.<locals>.draw_wrapper\u001b[1;34m(artist, renderer)\u001b[0m\n\u001b[0;32m     48\u001b[0m     \u001b[38;5;28;01mif\u001b[39;00m artist\u001b[38;5;241m.\u001b[39mget_agg_filter() \u001b[38;5;129;01mis\u001b[39;00m \u001b[38;5;129;01mnot\u001b[39;00m \u001b[38;5;28;01mNone\u001b[39;00m:\n\u001b[0;32m     49\u001b[0m         renderer\u001b[38;5;241m.\u001b[39mstart_filter()\n\u001b[1;32m---> 51\u001b[0m     \u001b[38;5;28;01mreturn\u001b[39;00m \u001b[43mdraw\u001b[49m\u001b[43m(\u001b[49m\u001b[43martist\u001b[49m\u001b[43m,\u001b[49m\u001b[43m \u001b[49m\u001b[43mrenderer\u001b[49m\u001b[43m)\u001b[49m\n\u001b[0;32m     52\u001b[0m \u001b[38;5;28;01mfinally\u001b[39;00m:\n\u001b[0;32m     53\u001b[0m     \u001b[38;5;28;01mif\u001b[39;00m artist\u001b[38;5;241m.\u001b[39mget_agg_filter() \u001b[38;5;129;01mis\u001b[39;00m \u001b[38;5;129;01mnot\u001b[39;00m \u001b[38;5;28;01mNone\u001b[39;00m:\n",
                        "File \u001b[1;32mc:\\Users\\HFNV\\.conda\\envs\\hfnvenv\\lib\\site-packages\\matplotlib\\lines.py:747\u001b[0m, in \u001b[0;36mLine2D.draw\u001b[1;34m(self, renderer)\u001b[0m\n\u001b[0;32m    745\u001b[0m     subslice \u001b[38;5;241m=\u001b[39m \u001b[38;5;28mslice\u001b[39m(\u001b[38;5;28mmax\u001b[39m(i0 \u001b[38;5;241m-\u001b[39m \u001b[38;5;241m1\u001b[39m, \u001b[38;5;241m0\u001b[39m), i1 \u001b[38;5;241m+\u001b[39m \u001b[38;5;241m1\u001b[39m)\n\u001b[0;32m    746\u001b[0m     \u001b[38;5;28mself\u001b[39m\u001b[38;5;241m.\u001b[39mind_offset \u001b[38;5;241m=\u001b[39m subslice\u001b[38;5;241m.\u001b[39mstart\n\u001b[1;32m--> 747\u001b[0m     \u001b[38;5;28;43mself\u001b[39;49m\u001b[38;5;241;43m.\u001b[39;49m\u001b[43m_transform_path\u001b[49m\u001b[43m(\u001b[49m\u001b[43msubslice\u001b[49m\u001b[43m)\u001b[49m\n\u001b[0;32m    748\u001b[0m \u001b[38;5;28;01melse\u001b[39;00m:\n\u001b[0;32m    749\u001b[0m     subslice \u001b[38;5;241m=\u001b[39m \u001b[38;5;28;01mNone\u001b[39;00m\n",
                        "File \u001b[1;32mc:\\Users\\HFNV\\.conda\\envs\\hfnvenv\\lib\\site-packages\\matplotlib\\lines.py:708\u001b[0m, in \u001b[0;36mLine2D._transform_path\u001b[1;34m(self, subslice)\u001b[0m\n\u001b[0;32m    706\u001b[0m \u001b[38;5;28;01mif\u001b[39;00m subslice \u001b[38;5;129;01mis\u001b[39;00m \u001b[38;5;129;01mnot\u001b[39;00m \u001b[38;5;28;01mNone\u001b[39;00m:\n\u001b[0;32m    707\u001b[0m     xy \u001b[38;5;241m=\u001b[39m STEP_LOOKUP_MAP[\u001b[38;5;28mself\u001b[39m\u001b[38;5;241m.\u001b[39m_drawstyle](\u001b[38;5;241m*\u001b[39m\u001b[38;5;28mself\u001b[39m\u001b[38;5;241m.\u001b[39m_xy[subslice, :]\u001b[38;5;241m.\u001b[39mT)\n\u001b[1;32m--> 708\u001b[0m     _path \u001b[38;5;241m=\u001b[39m Path(\u001b[43mnp\u001b[49m\u001b[38;5;241;43m.\u001b[39;49m\u001b[43masarray\u001b[49m\u001b[43m(\u001b[49m\u001b[43mxy\u001b[49m\u001b[43m)\u001b[49m\u001b[38;5;241m.\u001b[39mT,\n\u001b[0;32m    709\u001b[0m                  _interpolation_steps\u001b[38;5;241m=\u001b[39m\u001b[38;5;28mself\u001b[39m\u001b[38;5;241m.\u001b[39m_path\u001b[38;5;241m.\u001b[39m_interpolation_steps)\n\u001b[0;32m    710\u001b[0m \u001b[38;5;28;01melse\u001b[39;00m:\n\u001b[0;32m    711\u001b[0m     _path \u001b[38;5;241m=\u001b[39m \u001b[38;5;28mself\u001b[39m\u001b[38;5;241m.\u001b[39m_path\n",
                        "\u001b[1;31mKeyboardInterrupt\u001b[0m: "
                    ]
                },
                {
                    "data": {
                        "image/png": "[encoded data removed]",
                        "text/plain": [
                            "<Figure size 640x480 with 1 Axes>"
                        ]
                    },
                    "metadata": {},
                    "output_type": "display_data"
                }
            ],
            "source": [
                "plt.plot(signal.T)"
            ]
        },
        {
            "cell_type": "code",
            "execution_count": null,
            "metadata": {},
            "outputs": [
                {
                    "data": {
                        "text/plain": [
                            "[<matplotlib.lines.Line2D at 0x1d931c86cb0>,\n",
                            " <matplotlib.lines.Line2D at 0x1d931ca63b0>,\n",
                            " <matplotlib.lines.Line2D at 0x1d931ca63e0>,\n",
                            " <matplotlib.lines.Line2D at 0x1d931ca64d0>,\n",
                            " <matplotlib.lines.Line2D at 0x1d931ca65c0>,\n",
                            " <matplotlib.lines.Line2D at 0x1d931ca66b0>,\n",
                            " <matplotlib.lines.Line2D at 0x1d931ca67a0>,\n",
                            " <matplotlib.lines.Line2D at 0x1d931ca6890>,\n",
                            " <matplotlib.lines.Line2D at 0x1d931ca6980>,\n",
                            " <matplotlib.lines.Line2D at 0x1d931ca6a70>,\n",
                            " <matplotlib.lines.Line2D at 0x1d931ca6b60>,\n",
                            " <matplotlib.lines.Line2D at 0x1d931ca6380>,\n",
                            " <matplotlib.lines.Line2D at 0x1d931ca6c50>,\n",
                            " <matplotlib.lines.Line2D at 0x1d931ca6e00>,\n",
                            " <matplotlib.lines.Line2D at 0x1d931ca6ef0>,\n",
                            " <matplotlib.lines.Line2D at 0x1d931ca6fe0>,\n",
                            " <matplotlib.lines.Line2D at 0x1d931ca70d0>,\n",
                            " <matplotlib.lines.Line2D at 0x1d931ca71f0>,\n",
                            " <matplotlib.lines.Line2D at 0x1d931ca72e0>,\n",
                            " <matplotlib.lines.Line2D at 0x1d931ca73d0>,\n",
                            " <matplotlib.lines.Line2D at 0x1d931ca74c0>,\n",
                            " <matplotlib.lines.Line2D at 0x1d931ca75b0>,\n",
                            " <matplotlib.lines.Line2D at 0x1d931ca76a0>,\n",
                            " <matplotlib.lines.Line2D at 0x1d931ca7790>,\n",
                            " <matplotlib.lines.Line2D at 0x1d931ca7880>,\n",
                            " <matplotlib.lines.Line2D at 0x1d931ca7970>,\n",
                            " <matplotlib.lines.Line2D at 0x1d931ca7a60>,\n",
                            " <matplotlib.lines.Line2D at 0x1d931ca7b50>,\n",
                            " <matplotlib.lines.Line2D at 0x1d931ca7c40>,\n",
                            " <matplotlib.lines.Line2D at 0x1d931ca7d30>,\n",
                            " <matplotlib.lines.Line2D at 0x1d931ca7e20>,\n",
                            " <matplotlib.lines.Line2D at 0x1d931ca7f10>,\n",
                            " <matplotlib.lines.Line2D at 0x1d931cd0040>,\n",
                            " <matplotlib.lines.Line2D at 0x1d931cd0130>,\n",
                            " <matplotlib.lines.Line2D at 0x1d931cd0220>,\n",
                            " <matplotlib.lines.Line2D at 0x1d931cd0310>,\n",
                            " <matplotlib.lines.Line2D at 0x1d931cd0400>,\n",
                            " <matplotlib.lines.Line2D at 0x1d931cd04f0>,\n",
                            " <matplotlib.lines.Line2D at 0x1d931cd05e0>,\n",
                            " <matplotlib.lines.Line2D at 0x1d931cd06d0>,\n",
                            " <matplotlib.lines.Line2D at 0x1d931cd07c0>,\n",
                            " <matplotlib.lines.Line2D at 0x1d931cd08b0>,\n",
                            " <matplotlib.lines.Line2D at 0x1d931cd09a0>,\n",
                            " <matplotlib.lines.Line2D at 0x1d931cd0a90>,\n",
                            " <matplotlib.lines.Line2D at 0x1d931cd0b80>,\n",
                            " <matplotlib.lines.Line2D at 0x1d931cd0c70>,\n",
                            " <matplotlib.lines.Line2D at 0x1d931cd0d60>,\n",
                            " <matplotlib.lines.Line2D at 0x1d931cd0e50>,\n",
                            " <matplotlib.lines.Line2D at 0x1d931cd0f40>,\n",
                            " <matplotlib.lines.Line2D at 0x1d931cd1030>,\n",
                            " <matplotlib.lines.Line2D at 0x1d931cd1120>,\n",
                            " <matplotlib.lines.Line2D at 0x1d931cd1210>,\n",
                            " <matplotlib.lines.Line2D at 0x1d931cd1300>,\n",
                            " <matplotlib.lines.Line2D at 0x1d931cd13f0>,\n",
                            " <matplotlib.lines.Line2D at 0x1d931cd14e0>,\n",
                            " <matplotlib.lines.Line2D at 0x1d931cd15d0>,\n",
                            " <matplotlib.lines.Line2D at 0x1d931cd16c0>,\n",
                            " <matplotlib.lines.Line2D at 0x1d931cd17b0>,\n",
                            " <matplotlib.lines.Line2D at 0x1d931cd18a0>,\n",
                            " <matplotlib.lines.Line2D at 0x1d931cd1990>,\n",
                            " <matplotlib.lines.Line2D at 0x1d931cd1a80>,\n",
                            " <matplotlib.lines.Line2D at 0x1d931cd1b70>,\n",
                            " <matplotlib.lines.Line2D at 0x1d931cd1c60>,\n",
                            " <matplotlib.lines.Line2D at 0x1d931cd1d50>,\n",
                            " <matplotlib.lines.Line2D at 0x1d931cd1e40>,\n",
                            " <matplotlib.lines.Line2D at 0x1d931cd1f30>,\n",
                            " <matplotlib.lines.Line2D at 0x1d931cd2020>,\n",
                            " <matplotlib.lines.Line2D at 0x1d931cd2110>,\n",
                            " <matplotlib.lines.Line2D at 0x1d931cd2200>,\n",
                            " <matplotlib.lines.Line2D at 0x1d931cd22f0>,\n",
                            " <matplotlib.lines.Line2D at 0x1d931cd23e0>,\n",
                            " <matplotlib.lines.Line2D at 0x1d931cd24d0>,\n",
                            " <matplotlib.lines.Line2D at 0x1d931cd25c0>,\n",
                            " <matplotlib.lines.Line2D at 0x1d931cd26b0>,\n",
                            " <matplotlib.lines.Line2D at 0x1d931cd27a0>,\n",
                            " <matplotlib.lines.Line2D at 0x1d931cd2890>,\n",
                            " <matplotlib.lines.Line2D at 0x1d931cd2980>,\n",
                            " <matplotlib.lines.Line2D at 0x1d931cd2a70>,\n",
                            " <matplotlib.lines.Line2D at 0x1d931cd2b60>,\n",
                            " <matplotlib.lines.Line2D at 0x1d931cd2c50>,\n",
                            " <matplotlib.lines.Line2D at 0x1d931cd2d40>,\n",
                            " <matplotlib.lines.Line2D at 0x1d931cd2e30>,\n",
                            " <matplotlib.lines.Line2D at 0x1d931cd2f20>,\n",
                            " <matplotlib.lines.Line2D at 0x1d931cd3010>,\n",
                            " <matplotlib.lines.Line2D at 0x1d931cd3100>,\n",
                            " <matplotlib.lines.Line2D at 0x1d931cd31f0>,\n",
                            " <matplotlib.lines.Line2D at 0x1d931cd32e0>,\n",
                            " <matplotlib.lines.Line2D at 0x1d931cd33d0>,\n",
                            " <matplotlib.lines.Line2D at 0x1d931cd34c0>,\n",
                            " <matplotlib.lines.Line2D at 0x1d931cd35b0>,\n",
                            " <matplotlib.lines.Line2D at 0x1d931cd36a0>,\n",
                            " <matplotlib.lines.Line2D at 0x1d931cd3790>,\n",
                            " <matplotlib.lines.Line2D at 0x1d931cd3880>,\n",
                            " <matplotlib.lines.Line2D at 0x1d931cd3970>,\n",
                            " <matplotlib.lines.Line2D at 0x1d931cd3a60>,\n",
                            " <matplotlib.lines.Line2D at 0x1d931cd3b50>,\n",
                            " <matplotlib.lines.Line2D at 0x1d931cd3c40>,\n",
                            " <matplotlib.lines.Line2D at 0x1d931cd3d30>,\n",
                            " <matplotlib.lines.Line2D at 0x1d931cd3e20>,\n",
                            " <matplotlib.lines.Line2D at 0x1d931cd3f10>,\n",
                            " <matplotlib.lines.Line2D at 0x1d931cf4040>,\n",
                            " <matplotlib.lines.Line2D at 0x1d931cf4130>,\n",
                            " <matplotlib.lines.Line2D at 0x1d931cf4220>,\n",
                            " <matplotlib.lines.Line2D at 0x1d931cf4310>,\n",
                            " <matplotlib.lines.Line2D at 0x1d931cf4400>,\n",
                            " <matplotlib.lines.Line2D at 0x1d931cf44f0>,\n",
                            " <matplotlib.lines.Line2D at 0x1d931cf45e0>,\n",
                            " <matplotlib.lines.Line2D at 0x1d931cf46d0>,\n",
                            " <matplotlib.lines.Line2D at 0x1d931cf47c0>,\n",
                            " <matplotlib.lines.Line2D at 0x1d931cf48b0>,\n",
                            " <matplotlib.lines.Line2D at 0x1d931cf49a0>,\n",
                            " <matplotlib.lines.Line2D at 0x1d931cf4a90>,\n",
                            " <matplotlib.lines.Line2D at 0x1d931cf4b80>,\n",
                            " <matplotlib.lines.Line2D at 0x1d931cf4c70>,\n",
                            " <matplotlib.lines.Line2D at 0x1d931cf4d60>,\n",
                            " <matplotlib.lines.Line2D at 0x1d931cf4e50>,\n",
                            " <matplotlib.lines.Line2D at 0x1d931cf4f40>,\n",
                            " <matplotlib.lines.Line2D at 0x1d931cf5030>,\n",
                            " <matplotlib.lines.Line2D at 0x1d931cf5120>,\n",
                            " <matplotlib.lines.Line2D at 0x1d931cf5210>,\n",
                            " <matplotlib.lines.Line2D at 0x1d931cf5300>]"
                        ]
                    },
                    "execution_count": 24,
                    "metadata": {},
                    "output_type": "execute_result"
                },
                {
                    "data": {
                        "image/png": "[encoded data removed]",
                        "text/plain": [
                            "<Figure size 640x480 with 1 Axes>"
                        ]
                    },
                    "metadata": {},
                    "output_type": "display_data"
                }
            ],
            "source": [
                "plt.plot(background.T)"
            ]
        },
        {
            "cell_type": "code",
            "execution_count": null,
            "metadata": {},
            "outputs": [],
            "source": []
        },
        {
            "cell_type": "code",
            "execution_count": null,
            "metadata": {},
            "outputs": [],
            "source": []
        },
        {
            "cell_type": "code",
            "execution_count": null,
            "metadata": {},
            "outputs": [],
            "source": [
                "\n"
            ]
        }
    ],
    "metadata": {
        "kernelspec": {
            "display_name": "Python 3",
            "language": "python",
            "name": "python3"
        },
        "language_info": {
            "codemirror_mode": {
                "name": "ipython",
                "version": 3
            },
            "file_extension": ".py",
            "mimetype": "text/x-python",
            "name": "python",
            "nbconvert_exporter": "python",
            "pygments_lexer": "ipython3",
            "version": "3.10.16"
        }
    },
    "nbformat": 4,
    "nbformat_minor": 2
}