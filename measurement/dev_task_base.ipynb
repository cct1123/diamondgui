{
 "cells": [
  {
   "cell_type": "code",
   "execution_count": 261,
   "metadata": {},
   "outputs": [],
   "source": [
    "import numpy as np\n",
    "import time\n",
    "import threading\n",
    "import logging\n",
    "import sys\n",
    "logger = logging.getLogger(__name__)\n",
    "# logger.addHandler(logging.StreamHandler(stream=sys.stdout))\n",
    "\n",
    "def timestamp():\n",
    "    \"\"\"Returns the current time as a human readable string.\"\"\"\n",
    "    return time.strftime('%y-%m-%d_%Hh%Mm%S', time.localtime())\n",
    "\n",
    "# class Singleton(type):\n",
    "#     \"\"\"\n",
    "#     Singleton using metaclass.\n",
    "    \n",
    "#     Usage:\n",
    "    \n",
    "#     class Myclass( MyBaseClass )\n",
    "#         __metaclass__ = Singleton\n",
    "    \n",
    "#     Taken from stackoverflow.com.\n",
    "#     http://stackoverflow.com/questions/6760685/creating-a-singleton-in-python\n",
    "#     \"\"\"\n",
    "#     _instances = {}\n",
    "#     def __call__(cls, *args, **kwargs):\n",
    "#         if cls not in cls._instances:\n",
    "#             cls._instances[cls] = super(Singleton, cls).__call__(*args, **kwargs)\n",
    "#         return cls._instances[cls]\n",
    "\n",
    "class StoppableThread( threading.Thread ):\n",
    "    \"\"\"\n",
    "    A thread that can be stopped.\n",
    "    \n",
    "    Parameters:\n",
    "        target:    callable that will be execute by the thread\n",
    "        name:      string that will be used as a name for the thread\n",
    "    \n",
    "    Methods:\n",
    "        stop():    stop the thread\n",
    "        \n",
    "    Use threading.currentThread().stop_request.is_set()\n",
    "    or threading.currentThread().stop_request.wait([timeout])\n",
    "    in your target callable to react to a stop request.\n",
    "    \"\"\"\n",
    "    \n",
    "    def __init__(self, group=None, target=None, name=None):\n",
    "        super().__init__(group=group, target=target, name=name)\n",
    "        # super().__init__(self, group, target, name)\n",
    "        self.stop_request = threading.Event()\n",
    "        \n",
    "    def stop(self, timeout=10.):\n",
    "        name = str(self)\n",
    "        logger.debug('attempt to stop thread '+name)\n",
    "        if threading.currentThread() is self:\n",
    "            logger.debug('Thread '+name+' attempted to stop itself. Ignoring stop request...')\n",
    "            return\n",
    "        elif not self.is_alive():\n",
    "            logger.debug('Thread '+name+' is not running. Continuing...')\n",
    "            return\n",
    "        self.stop_request.set()\n",
    "        self.join(timeout)\n",
    "        if self.is_alive():\n",
    "            logger.warning('Thread '+name+' failed to join after '+str(timeout)+' s. Continuing anyway...')\n",
    "\n",
    "class Singleton(type):\n",
    "    \"\"\"\n",
    "    Singleton using metaclass.\n",
    "    \n",
    "    Usage:\n",
    "    \n",
    "    class Myclass( MyBaseClass )\n",
    "        __metaclass__ = Singleton\n",
    "    \n",
    "    Modified from stackoverflow.com.\n",
    "    http://stackoverflow.com/questions/6760685/creating-a-singleton-in-python\n",
    "    \"\"\"\n",
    "    _instances = {}\n",
    "    def __call__(cls, *args, **kwargs):\n",
    "        clsname = kwargs[\"name\"] if \"name\" in kwargs else \"default\"\n",
    "        if cls not in cls._instances:\n",
    "            # no class object is created\n",
    "            cls._instances[cls] = dict()\n",
    "            cls._instances[cls][clsname] = super(Singleton, cls).__call__(*args, **kwargs)\n",
    "        elif clsname not in cls._instances[cls]:\n",
    "            # some class objects are created but not with the new name\n",
    "            cls._instances[cls][clsname] = super(Singleton, cls).__call__(*args, **kwargs)\n",
    "        return cls._instances[cls][clsname]\n",
    "\n",
    "class JobManager(metaclass=Singleton): \n",
    "    \"\"\"\n",
    "    Provides a queue for starting and stopping jobs according to their priority.\n",
    "    \n",
    "    ToDo: In principle this need not be a singleton. Then there could be different job managers handling different sets of resources. \n",
    "          However currently we need singleton since the JobManager is called explicitly on ManagedJob class.    \n",
    "    \"\"\"\n",
    "    def __init__(self):\n",
    "        self.thread = StoppableThread() # the thread the manager loop is running in\n",
    "        self.lock = threading.Condition() # lock to control access to 'queue' and 'running'\n",
    "        self.queue = []\n",
    "        self.running = None\n",
    "        self.refresh_interval = 0.1 # seconds\n",
    "    \n",
    "    def submit(self, job):\n",
    "\n",
    "        \"\"\"\n",
    "        Submit a job.\n",
    "        \n",
    "        If there is no job running, the job is appended to the queue.\n",
    "\n",
    "        If the job is the running job or the job is already in the queue, do nothing.\n",
    "        \n",
    "        If job.priority =< priority of the running job,\n",
    "            the job is appended to the queue and the queue sorted according to priority.\n",
    "        \n",
    "        If job.priority > priority of the running job,\n",
    "            the job is inserted at the first position of the queue, the running job is stopped\n",
    "            and inserted again at the first position of the queue.\n",
    "        \"\"\"\n",
    "\n",
    "        logging.debug('Attempt to submit job '+str(job))\n",
    "        self.lock.acquire()\n",
    "        \n",
    "        running = self.running\n",
    "        queue = self.queue\n",
    "\n",
    "        if job is running or job in queue:\n",
    "            logging.info('The job '+str(job)+' is already running or in the queue.')\n",
    "            self.lock.release()\n",
    "            return\n",
    "\n",
    "        queue.append(job)\n",
    "        # queue.sort(key=lambda job: job.priority, reverse=True) # ToDo: Job sorting not thoroughly tested\n",
    "        job.state='wait'\n",
    "                    \n",
    "        logging.debug('Notifying process thread.')\n",
    "        self.lock.notify()\n",
    "            \n",
    "        self.lock.release()\n",
    "        logging.debug('Job '+str(job)+' submitted.')\n",
    " \n",
    "    def remove(self, job):\n",
    "        \n",
    "        \"\"\"\n",
    "        Remove a job.\n",
    "        \n",
    "        If the job is running, stop it.\n",
    "        \n",
    "        If the job is in the queue, remove it.\n",
    "        \n",
    "        If the job is not found, this will result in an exception.\n",
    "        \"\"\"\n",
    " \n",
    "        logging.debug('Attempt to remove job '+str(job))\n",
    "        self.lock.acquire()\n",
    "\n",
    "        try:\n",
    "            if job is self.running:\n",
    "                logging.debug('Job '+str(job)+' is running. Attempt stop.')\n",
    "                job.stop()\n",
    "                logging.debug('Job '+str(job)+' removed.')\n",
    "            else:\n",
    "                if not job in self.queue:\n",
    "                    logging.debug('Job '+str(job)+' neither running nor in queue. Returning.')\n",
    "                else:\n",
    "                    logging.debug('Job '+str(job)+' is in queue. Attempt remove.')\n",
    "                    self.queue.remove(job)\n",
    "                    logging.debug('Job '+str(job)+' removed.')\n",
    "                    job.state='idle' # ToDo: improve handling of state. Move handling to Job?\n",
    "        finally:\n",
    "            self.lock.release()\n",
    "        \n",
    "    def start(self):\n",
    "        \"\"\"Start the process loop in a thread.\"\"\"\n",
    "        if self.thread.is_alive():\n",
    "            return\n",
    "        logging.getLogger().info('Starting Job Manager.')\n",
    "        self.thread = StoppableThread(target = self._process, name=self.__cls_.__name__ + timestamp())\n",
    "        self.thread.start()\n",
    "    \n",
    "    def stop(self, timeout=None):\n",
    "        \"\"\"Stop the process loop.\"\"\"\n",
    "        self.thread.stop_request.set()\n",
    "        self.lock.acquire()\n",
    "        self.lock.notify()\n",
    "        self.lock.release()        \n",
    "        self.thread.stop(timeout=timeout)\n",
    "    \n",
    "    def _process(self):\n",
    "        \n",
    "        \"\"\"\n",
    "        The process loop.\n",
    "        \n",
    "        Use .start() and .stop() methods to start and stop processing of the queue.\n",
    "        \"\"\"\n",
    "        \n",
    "        while True:\n",
    "            \n",
    "            self.thread.stop_request.wait(self.refresh_interval)\n",
    "            if self.thread.stop_request.is_set():\n",
    "                break\n",
    "            \n",
    "            # ToDo: jobs can be in queue before process loop is started\n",
    "            # what happens when manager is stopped while jobs are running?\n",
    "            \n",
    "            self.lock.acquire()\n",
    "            if self.running is None:\n",
    "                print(\"run 1\")\n",
    "                if self.queue == []:\n",
    "                    logging.debug('No job running. No job in queue. Waiting for notification.')\n",
    "                    self.lock.wait()\n",
    "                    logging.debug('Caught notification.')\n",
    "                    if self.thread.stop_request.is_set():\n",
    "                        self.lock.release()        \n",
    "                        break\n",
    "                logging.debug('Attempt to fetch first job in queue.')\n",
    "                self.running = self.queue.pop(0)\n",
    "                logging.debug('Found job '+str(self.running)+'. Starting.')\n",
    "                self.running.start()\n",
    "            elif not self.running.thread.is_alive():\n",
    "                print(\"run 2\")\n",
    "                logging.debug('Job '+str(self.running)+' stopped.')\n",
    "                self.running=None\n",
    "                if self.queue != []:\n",
    "                    logging.debug('Attempt to fetch first job in queue.')\n",
    "                    self.running = self.queue.pop(0)\n",
    "                    logging.debug('Found job '+str(self.running)+'. Starting.')\n",
    "                    self.running.start()\n",
    "            elif self.queue != [] and self.queue[0].priority > self.running.priority:\n",
    "                print(\"run 3\")\n",
    "                logging.debug('Found job '+str(self.queue[0])+' in queue with higher priority than running job. Attempt to stop running job.')            \n",
    "                self.running.stop()\n",
    "                if self.running.state != 'done':\n",
    "                    logging.debug('Reinserting job '+str(self.running)+' in queue.')\n",
    "                    self.queue.insert(0,self.running)\n",
    "                    self.queue.sort(key=lambda job: job.priority, reverse=True) # ToDo: Job sorting not thoroughly tested\n",
    "                    self.running.state='wait'\n",
    "                self.running = self.queue.pop(0)\n",
    "                logging.debug('Found job '+str(self.running)+'. Starting.')\n",
    "                self.running.start()                \n",
    "            self.lock.release() \n"
   ]
  },
  {
   "cell_type": "code",
   "execution_count": 262,
   "metadata": {},
   "outputs": [],
   "source": [
    "from nspyre import InstrumentGateway\n",
    "from nspyre import DataSource\n",
    "from rpyc.utils.classic import obtain\n",
    "\n",
    "\n",
    "class DummyJob(metaclass=Singleton):\n",
    "    _refresh_interval = 0.001\n",
    "    _to_keep = False  # whether to keep the data when the thread is stopped (idx_run<=num_run)\n",
    "\n",
    "    name = \"Dummy_task\"\n",
    "\n",
    "    priority = 1 # from 1 to 10\n",
    "    state = \"idle\" # 'idle', 'run', 'wait', 'done', 'error'\n",
    "    thread = StoppableThread()\n",
    "\n",
    "    time_mea = 0.0 # readonly, accumulated measurement time\n",
    "    num_run = 100 # number of repetition, readonly\n",
    "    idx_run = 0 # indicating which iteration we are at, 1-based\n",
    "    \n",
    "\n",
    "    # buffer = np.array([], dtype=np.float64, order='C')\n",
    "    # buffer should be handled in the hardware class object\n",
    "    paraset = dict()\n",
    "    dataset = dict(raw=[[]]) # store the raw data of each iteration\n",
    "\n",
    "    def __init__(self, \n",
    "        name=\"Dummy_task\"\n",
    "        ):\n",
    "        self.name = name\n",
    "        self.gw = InstrumentGateway()\n",
    "        self.ds = DataSource(self.name)\n",
    "\n",
    "\n",
    "    def set_expname(self, name):\n",
    "        self.name = name\n",
    "\n",
    "    def set_priority(self, order):\n",
    "        self.priority = order\n",
    "\n",
    "    def set_runnum(self, num):\n",
    "        self.num_run = num\n",
    "\n",
    "    def set_keepdata(self, to_keep):\n",
    "        # to_keep (bool)\n",
    "        self.keep_data = to_keep\n",
    "\n",
    "    def set_paraset(self, **para_dict):\n",
    "            # set parametes\n",
    "        for kk, vv in para_dict.items():\n",
    "            self.paraset[kk] = vv\n",
    "\n",
    "    # methods for handling the run thread====================================\n",
    "    def start(self):\n",
    "        self.thread = StoppableThread(target = self.__run, name=self.__cls_.__name__ + str(time.time()))\n",
    "        self.thread.start()\n",
    "\n",
    "    def pause(self, timeout=None):\n",
    "        \"\"\"Stop the process loop.\"\"\"\n",
    "        self.thread.stop_request.set()  \n",
    "        self.thread.stop(timeout=timeout)\n",
    "        self._to_keep = True\n",
    "    \n",
    "    def stop(self, timeout):\n",
    "        self.pause(timeout)\n",
    "        self._to_keep = False # this must be placed after pause()\n",
    "    # ======================================================================\n",
    "\n",
    "\n",
    "    def _setup_exp(self):\n",
    "        # check the parameters if needed -------------------------------------\n",
    "        if not self.keep_data:\n",
    "            self.idx_run = 0\n",
    "            self.run_time = 0\n",
    "            self.state = \"idle\"\n",
    "            # reset the dataset\n",
    "            self.dataset = dict()\n",
    "        \n",
    "        self.ds.start()\n",
    "        # --------------------------------------------------------------------\n",
    "        self.gw.connect()\n",
    "        # setup the hardwares here--------------------------------------------\n",
    "        # # gw.aninstrument.set_something(self.paraset[\"var1\"])\n",
    "        # --------------------------------------------------------------------\n",
    "\n",
    "\n",
    "    def _run_exp(self):\n",
    "        # run the experiment\n",
    "        self.gw.nidaq.read_data()\n",
    "        \n",
    "    def _organize_data(self):\n",
    "        stateset = dict(\n",
    "            priority=self.priority,\n",
    "            state=self.state,\n",
    "            run_time=self.run_time,\n",
    "            idx_run=self.idx_run, \n",
    "            num_run=self.num_run\n",
    "        )\n",
    "        \n",
    "        to_dataserv = dict(\n",
    "            # name=__name__,\n",
    "            stateset= stateset,\n",
    "            paraset = self.paraset, \n",
    "            dataset = self.dataset\n",
    "        )\n",
    "        # # push the data to the data server\n",
    "        # with self.ds as pipe:\n",
    "        #     pipe.push(to_dataserv)\n",
    "\n",
    "    def _handle_exp_error(self):\n",
    "        pass\n",
    "\n",
    "    def _shutdown_exp(self):\n",
    "\n",
    "        self.ds.stop()\n",
    "\n",
    "        # set the hardwares here ------------------------------------\n",
    "        # # gw.aninstrument.set_something(self.paraset[\"var1\"])\n",
    "        self.gw.disconnect()\n",
    "        # -----------------------------------------------------------\n",
    "        \n",
    "\n",
    "    def __run(self):\n",
    "        \"\"\"\n",
    "        Method that is running in a thread.\n",
    "        It should NOT be modified or called in any classes of the lower hierachy\n",
    "        \"\"\"\n",
    "        try:\n",
    "            self.state='run'\n",
    "            start_time = time.time()\n",
    "            self.run_time = 0\n",
    "            self._setup_exp()\n",
    "            for _ in range(self.num_run):\n",
    "                self.thread.stop_request.wait(self._refresh_interval)\n",
    "                if self.thread.stop_request.is_set() or self.idx_run==self.num_run:\n",
    "                    logger.debug('Received stop signal. Returning from thread.')\n",
    "                    break\n",
    "                \n",
    "                self._run_exp()\n",
    "                \n",
    "                curr_time = time.time()\n",
    "                self.run_time = curr_time - start_time\n",
    "                print(f\"time time:{self.run_time}\")\n",
    "                self.idx_run += 1\n",
    "                self._organize_data()\n",
    "            else:\n",
    "                if self.num_run == 0:\n",
    "                    self.state = \"idle\"\n",
    "                else:\n",
    "                    self.state='done'\n",
    "        except:\n",
    "            logger.exception('Error in job.')\n",
    "            self.state='error'\n",
    "            self._handle_exp_error()\n",
    "        finally:\n",
    "            logger.debug('Reseting all instruments.')  \n",
    "            self._shutdown_exp()\n",
    "        \n"
   ]
  },
  {
   "cell_type": "code",
   "execution_count": 263,
   "metadata": {},
   "outputs": [],
   "source": [
    "dumjob = DummyJob(name=\"fdsfs\")"
   ]
  },
  {
   "cell_type": "code",
   "execution_count": 268,
   "metadata": {},
   "outputs": [],
   "source": [
    "dumjob.ggg = 6"
   ]
  },
  {
   "cell_type": "code",
   "execution_count": 269,
   "metadata": {},
   "outputs": [],
   "source": [
    "dumjob2 = DummyJob(name=\"fdsfs\")"
   ]
  },
  {
   "cell_type": "code",
   "execution_count": 271,
   "metadata": {},
   "outputs": [
    {
     "data": {
      "text/plain": [
       "<__main__.DummyJob at 0x18191563fd0>"
      ]
     },
     "execution_count": 271,
     "metadata": {},
     "output_type": "execute_result"
    }
   ],
   "source": [
    "dumjob"
   ]
  },
  {
   "cell_type": "code",
   "execution_count": 272,
   "metadata": {},
   "outputs": [],
   "source": [
    "dumjob2.ggg = 4532"
   ]
  },
  {
   "cell_type": "code",
   "execution_count": 273,
   "metadata": {},
   "outputs": [
    {
     "data": {
      "text/plain": [
       "4532"
      ]
     },
     "execution_count": 273,
     "metadata": {},
     "output_type": "execute_result"
    }
   ],
   "source": [
    "dumjob.ggg"
   ]
  },
  {
   "cell_type": "code",
   "execution_count": 67,
   "metadata": {},
   "outputs": [],
   "source": [
    "class Namedclass(object):\n",
    "    _instance = None\n",
    "    def __new__(cls, *args, **kwargs):\n",
    "        if not isinstance(cls._instance, cls):\n",
    "            cls._instance = object.__new__(cls, *args, **kwargs)\n",
    "        return cls._instance\n",
    "\n",
    "    def __init__(self, a, b, c):\n",
    "        self.a = a\n",
    "        self.b = b\n",
    "        self.c = c"
   ]
  },
  {
   "cell_type": "code",
   "execution_count": 259,
   "metadata": {},
   "outputs": [],
   "source": [
    "class Sing(type):\n",
    "    _instances = {}\n",
    "    def __call__(cls, *args, **kwargs):\n",
    "        print(args)\n",
    "        print(kwargs)\n",
    "        print(cls._instances)\n",
    "        clsname = kwargs[\"name\"] if \"name\" in kwargs else \"default\"\n",
    "        if cls not in cls._instances:\n",
    "            # no class object is created\n",
    "            cls._instances[cls] = dict()\n",
    "            cls._instances[cls][clsname] = super(Sing, cls).__call__(*args, **kwargs)\n",
    "        elif clsname not in cls._instances[cls]:\n",
    "            # some class objects are created but not with the new name\n",
    "            cls._instances[cls][clsname] = super(Sing, cls).__call__(*args, **kwargs)\n",
    "        print(cls._instances)\n",
    "        return cls._instances[cls][clsname]\n",
    "class shitclass(metaclass=Sing):\n",
    "    def __init__(self, var1):\n",
    "        self.var1 = var1\n",
    "\n",
    "class dumclass(metaclass=Sing):\n",
    "    def __init__(self, name=\"\"):\n",
    "        self._name = name\n",
    "\n",
    "class dumshitclass(metaclass=Sing):\n",
    "    def __init__(self, var1, name=\"\"):\n",
    "        self.var1 = var1\n",
    "        self._name = name\n",
    "class wrapdumclass(dumclass):\n",
    "    def __init__(self, name, *args, **kwargs):\n",
    "        super().__init__(*args, name=name, **kwargs)"
   ]
  },
  {
   "cell_type": "code",
   "execution_count": 251,
   "metadata": {},
   "outputs": [
    {
     "name": "stdout",
     "output_type": "stream",
     "text": [
      "(46543,)\n",
      "{}\n",
      "{}\n",
      "{<class '__main__.shitclass'>: {'default': <__main__.shitclass object at 0x0000018191460790>}}\n"
     ]
    }
   ],
   "source": [
    "sss = shitclass(46543)"
   ]
  },
  {
   "cell_type": "code",
   "execution_count": 256,
   "metadata": {},
   "outputs": [
    {
     "name": "stdout",
     "output_type": "stream",
     "text": [
      "('jjjfdsf',)\n",
      "{}\n",
      "{<class '__main__.shitclass'>: {'default': <__main__.shitclass object at 0x0000018191460790>}, <class '__main__.dumclass'>: {'fdsf': <__main__.dumclass object at 0x00000181914618D0>}, <class '__main__.dumshitclass'>: {'fdsf': <__main__.dumshitclass object at 0x00000181914856F0>, 'hibye': <__main__.dumshitclass object at 0x00000181905B3FD0>}}\n",
      "{<class '__main__.shitclass'>: {'default': <__main__.shitclass object at 0x0000018191460790>}, <class '__main__.dumclass'>: {'fdsf': <__main__.dumclass object at 0x00000181914618D0>, 'default': <__main__.dumclass object at 0x0000018191485900>}, <class '__main__.dumshitclass'>: {'fdsf': <__main__.dumshitclass object at 0x00000181914856F0>, 'hibye': <__main__.dumshitclass object at 0x00000181905B3FD0>}}\n"
     ]
    }
   ],
   "source": [
    "dddd = dumclass(\"jjjfdsf\")"
   ]
  },
  {
   "cell_type": "code",
   "execution_count": 254,
   "metadata": {},
   "outputs": [
    {
     "name": "stdout",
     "output_type": "stream",
     "text": [
      "(54353,)\n",
      "{'name': 'fdsf'}\n",
      "{<class '__main__.shitclass'>: {'default': <__main__.shitclass object at 0x0000018191460790>}, <class '__main__.dumclass'>: {'fdsf': <__main__.dumclass object at 0x00000181914618D0>}, <class '__main__.dumshitclass'>: {}}\n",
      "{<class '__main__.shitclass'>: {'default': <__main__.shitclass object at 0x0000018191460790>}, <class '__main__.dumclass'>: {'fdsf': <__main__.dumclass object at 0x00000181914618D0>}, <class '__main__.dumshitclass'>: {'fdsf': <__main__.dumshitclass object at 0x00000181914856F0>}}\n"
     ]
    }
   ],
   "source": [
    "dsds = dumshitclass(54353, name=\"fdsf\")"
   ]
  },
  {
   "cell_type": "code",
   "execution_count": 255,
   "metadata": {},
   "outputs": [
    {
     "name": "stdout",
     "output_type": "stream",
     "text": [
      "(54353,)\n",
      "{'name': 'hibye'}\n",
      "{<class '__main__.shitclass'>: {'default': <__main__.shitclass object at 0x0000018191460790>}, <class '__main__.dumclass'>: {'fdsf': <__main__.dumclass object at 0x00000181914618D0>}, <class '__main__.dumshitclass'>: {'fdsf': <__main__.dumshitclass object at 0x00000181914856F0>}}\n",
      "{<class '__main__.shitclass'>: {'default': <__main__.shitclass object at 0x0000018191460790>}, <class '__main__.dumclass'>: {'fdsf': <__main__.dumclass object at 0x00000181914618D0>}, <class '__main__.dumshitclass'>: {'fdsf': <__main__.dumshitclass object at 0x00000181914856F0>, 'hibye': <__main__.dumshitclass object at 0x00000181905B3FD0>}}\n"
     ]
    }
   ],
   "source": [
    "dsddd = dumshitclass(54353, name=\"hibye\")"
   ]
  },
  {
   "cell_type": "code",
   "execution_count": 260,
   "metadata": {},
   "outputs": [
    {
     "name": "stdout",
     "output_type": "stream",
     "text": [
      "('yo',)\n",
      "{}\n",
      "{}\n",
      "{<class '__main__.wrapdumclass'>: {'default': <__main__.wrapdumclass object at 0x0000018191562470>}}\n"
     ]
    }
   ],
   "source": [
    "wds = wrapdumclass(\"yo\")"
   ]
  },
  {
   "cell_type": "code",
   "execution_count": 230,
   "metadata": {},
   "outputs": [],
   "source": [
    "class MultiSing(object):\n",
    "    \"\"\" A silly doc\"\"\"\n",
    "    _instance = {}\n",
    "    apple = 555\n",
    "    orange = \"pen\"\n",
    "    banana = \"one\"\n",
    "    def __new__(cls, name, *args, **kwargs):\n",
    "        # clsname = cls.__class__.__name__\n",
    "        clsname = str(cls)+name\n",
    "        # print(cls)\n",
    "        # print(clsname)\n",
    "        # print(cls.__dict__)\n",
    "        # print(str(cls)+\"sdfds\")\n",
    "        print(cls._instance)\n",
    "        if cls._instance == {}:\n",
    "            print(\"make the first class object\")\n",
    "            cls._instance[name] = object.__new__(cls, *args, **kwargs)\n",
    "            # cls._instance[clsname] = object.__new__(cls)\n",
    "        elif clsname not in cls._instance:\n",
    "            print(\"not the same class object\")\n",
    "            cls._instance[name] = object.__new__(cls, *args, **kwargs)\n",
    "            # cls._instance[clsname] = object.__new__(cls)\n",
    "            print(\"name unmatched, different class object\")\n",
    "        else:\n",
    "            print(\"name matched, same class object\")\n",
    "        print(cls._instance)\n",
    "        return cls._instance[clsname]\n",
    "        \n",
    "    def __init__(self, name, *args, **kwargs):\n",
    "        # super().__init__(*args, **kwargs)\n",
    "        self._name = name\n",
    "        self.argsss = args\n",
    "        self.kwargsss = kwargs\n",
    "\n",
    "class SubMS(MultiSing):\n",
    "\n",
    "    def __init__(self, name, epicarg, akwa = 544):\n",
    "        super().__init__( name, epicarg, akwa = 544)\n",
    "        self.epicarg = epicarg\n",
    "        self.akwa = akwa"
   ]
  },
  {
   "cell_type": "code",
   "execution_count": 188,
   "metadata": {},
   "outputs": [],
   "source": []
  },
  {
   "cell_type": "code",
   "execution_count": 231,
   "metadata": {},
   "outputs": [
    {
     "name": "stdout",
     "output_type": "stream",
     "text": [
      "{}\n",
      "make the first class object\n"
     ]
    },
    {
     "ename": "TypeError",
     "evalue": "object.__new__() takes exactly one argument (the type to instantiate)",
     "output_type": "error",
     "traceback": [
      "\u001b[1;31m---------------------------------------------------------------------------\u001b[0m",
      "\u001b[1;31mTypeError\u001b[0m                                 Traceback (most recent call last)",
      "\u001b[1;32mc:\\diamondgui\\measurement\\test_base.ipynb Cell 7\u001b[0m in \u001b[0;36m1\n\u001b[1;32m----> <a href='vscode-notebook-cell:/c%3A/diamondgui/measurement/test_base.ipynb#X56sZmlsZQ%3D%3D?line=0'>1</a>\u001b[0m sub1 \u001b[39m=\u001b[39m SubMS(\u001b[39m\"\u001b[39;49m\u001b[39mqqq\u001b[39;49m\u001b[39m\"\u001b[39;49m, \u001b[39m6565\u001b[39;49m, akwa\u001b[39m=\u001b[39;49m\u001b[39m32432\u001b[39;49m)\n",
      "\u001b[1;32mc:\\diamondgui\\measurement\\test_base.ipynb Cell 7\u001b[0m in \u001b[0;36m1\n\u001b[0;32m     <a href='vscode-notebook-cell:/c%3A/diamondgui/measurement/test_base.ipynb#X56sZmlsZQ%3D%3D?line=14'>15</a>\u001b[0m \u001b[39mif\u001b[39;00m \u001b[39mcls\u001b[39m\u001b[39m.\u001b[39m_instance \u001b[39m==\u001b[39m {}:\n\u001b[0;32m     <a href='vscode-notebook-cell:/c%3A/diamondgui/measurement/test_base.ipynb#X56sZmlsZQ%3D%3D?line=15'>16</a>\u001b[0m     \u001b[39mprint\u001b[39m(\u001b[39m\"\u001b[39m\u001b[39mmake the first class object\u001b[39m\u001b[39m\"\u001b[39m)\n\u001b[1;32m---> <a href='vscode-notebook-cell:/c%3A/diamondgui/measurement/test_base.ipynb#X56sZmlsZQ%3D%3D?line=16'>17</a>\u001b[0m     \u001b[39mcls\u001b[39m\u001b[39m.\u001b[39m_instance[name] \u001b[39m=\u001b[39m \u001b[39mobject\u001b[39m\u001b[39m.\u001b[39m\u001b[39m__new__\u001b[39m(\u001b[39mcls\u001b[39m, \u001b[39m*\u001b[39margs, \u001b[39m*\u001b[39m\u001b[39m*\u001b[39mkwargs)\n\u001b[0;32m     <a href='vscode-notebook-cell:/c%3A/diamondgui/measurement/test_base.ipynb#X56sZmlsZQ%3D%3D?line=17'>18</a>\u001b[0m     \u001b[39m# cls._instance[clsname] = object.__new__(cls)\u001b[39;00m\n\u001b[0;32m     <a href='vscode-notebook-cell:/c%3A/diamondgui/measurement/test_base.ipynb#X56sZmlsZQ%3D%3D?line=18'>19</a>\u001b[0m \u001b[39melif\u001b[39;00m clsname \u001b[39mnot\u001b[39;00m \u001b[39min\u001b[39;00m \u001b[39mcls\u001b[39m\u001b[39m.\u001b[39m_instance:\n",
      "\u001b[1;31mTypeError\u001b[0m: object.__new__() takes exactly one argument (the type to instantiate)"
     ]
    }
   ],
   "source": [
    "sub1 = SubMS(\"qqq\", 6565, akwa=32432)"
   ]
  },
  {
   "cell_type": "code",
   "execution_count": 225,
   "metadata": {},
   "outputs": [
    {
     "name": "stdout",
     "output_type": "stream",
     "text": [
      "{\"<class '__main__.SubMS'>qqq\": <__main__.SubMS object at 0x000001819139C2B0>}\n",
      "name matched, same class object\n",
      "{\"<class '__main__.SubMS'>qqq\": <__main__.SubMS object at 0x000001819139C2B0>}\n",
      "343\n"
     ]
    }
   ],
   "source": [
    "sub2 = SubMS(\"qqq\", 343)"
   ]
  },
  {
   "cell_type": "code",
   "execution_count": 226,
   "metadata": {},
   "outputs": [
    {
     "name": "stdout",
     "output_type": "stream",
     "text": [
      "343 544\n"
     ]
    }
   ],
   "source": [
    "print(sub1.epicarg, sub1.akwa)"
   ]
  },
  {
   "cell_type": "code",
   "execution_count": 189,
   "metadata": {},
   "outputs": [
    {
     "name": "stdout",
     "output_type": "stream",
     "text": [
      "{'abcddssf': <__main__.MultiSing object at 0x000001819062ED10>, 'abc': <__main__.MultiSing object at 0x00000181912B9240>, 'ttt': <__main__.SubMS object at 0x00000181912B9FF0>}\n",
      "name matched, same class object\n",
      "{'abcddssf': <__main__.MultiSing object at 0x000001819062ED10>, 'abc': <__main__.MultiSing object at 0x00000181912B9240>, 'ttt': <__main__.SubMS object at 0x00000181912B9FF0>}\n"
     ]
    }
   ],
   "source": [
    "sub2 = SubMS(\"abc\")"
   ]
  },
  {
   "cell_type": "code",
   "execution_count": 190,
   "metadata": {},
   "outputs": [
    {
     "ename": "AttributeError",
     "evalue": "'SubMS' object has no attribute 'dsfsdf'",
     "output_type": "error",
     "traceback": [
      "\u001b[1;31m---------------------------------------------------------------------------\u001b[0m",
      "\u001b[1;31mAttributeError\u001b[0m                            Traceback (most recent call last)",
      "\u001b[1;32mc:\\diamondgui\\measurement\\test_base.ipynb Cell 9\u001b[0m in \u001b[0;36m1\n\u001b[1;32m----> <a href='vscode-notebook-cell:/c%3A/diamondgui/measurement/test_base.ipynb#X61sZmlsZQ%3D%3D?line=0'>1</a>\u001b[0m sub1\u001b[39m.\u001b[39;49mdsfsdf\n",
      "\u001b[1;31mAttributeError\u001b[0m: 'SubMS' object has no attribute 'dsfsdf'"
     ]
    }
   ],
   "source": [
    "sub1.dsfsdf"
   ]
  },
  {
   "cell_type": "code",
   "execution_count": 165,
   "metadata": {},
   "outputs": [
    {
     "name": "stdout",
     "output_type": "stream",
     "text": [
      "{}\n",
      "make the first class object\n",
      "{'abcddssf': <__main__.MultiSing object at 0x000001819062ED10>}\n"
     ]
    }
   ],
   "source": [
    "qqwwee = MultiSing(\"abcddssf\")"
   ]
  },
  {
   "cell_type": "code",
   "execution_count": 199,
   "metadata": {},
   "outputs": [
    {
     "data": {
      "text/plain": [
       "{'_name': 'abcddssf', 'argsss': (6666,), 'kwargsss': {}, 'banana': 'two'}"
      ]
     },
     "execution_count": 199,
     "metadata": {},
     "output_type": "execute_result"
    }
   ],
   "source": [
    "qqwwee.__dict__"
   ]
  },
  {
   "cell_type": "code",
   "execution_count": 200,
   "metadata": {},
   "outputs": [
    {
     "data": {
      "text/plain": [
       "'MultiSing'"
      ]
     },
     "execution_count": 200,
     "metadata": {},
     "output_type": "execute_result"
    }
   ],
   "source": [
    "qqwwee.__class__.__name__"
   ]
  },
  {
   "cell_type": "code",
   "execution_count": 166,
   "metadata": {},
   "outputs": [
    {
     "name": "stdout",
     "output_type": "stream",
     "text": [
      "()\n"
     ]
    }
   ],
   "source": [
    "print(qqwwee.argsss)"
   ]
  },
  {
   "cell_type": "code",
   "execution_count": 167,
   "metadata": {},
   "outputs": [
    {
     "name": "stdout",
     "output_type": "stream",
     "text": [
      "{'abcddssf': <__main__.MultiSing object at 0x000001819062ED10>}\n",
      "name matched, same class object\n",
      "{'abcddssf': <__main__.MultiSing object at 0x000001819062ED10>}\n"
     ]
    }
   ],
   "source": [
    "dfsf = MultiSing(\"abcddssf\", 6666)"
   ]
  },
  {
   "cell_type": "code",
   "execution_count": 168,
   "metadata": {},
   "outputs": [
    {
     "name": "stdout",
     "output_type": "stream",
     "text": [
      "{'abcddssf': <__main__.MultiSing object at 0x000001819062ED10>}\n",
      "not the same class object\n",
      "name unmatched, different class object\n",
      "{'abcddssf': <__main__.MultiSing object at 0x000001819062ED10>, 'abc': <__main__.MultiSing object at 0x00000181912B9240>}\n"
     ]
    }
   ],
   "source": [
    "fsdfds = MultiSing(\"abc\")"
   ]
  },
  {
   "cell_type": "code",
   "execution_count": 172,
   "metadata": {},
   "outputs": [
    {
     "data": {
      "text/plain": [
       "{'abcddssf': <__main__.MultiSing at 0x1819062ed10>,\n",
       " 'abc': <__main__.MultiSing at 0x181912b9240>}"
      ]
     },
     "execution_count": 172,
     "metadata": {},
     "output_type": "execute_result"
    }
   ],
   "source": [
    "qqwwee._instance"
   ]
  },
  {
   "cell_type": "code",
   "execution_count": 176,
   "metadata": {},
   "outputs": [],
   "source": [
    "qqwwee.banana = \"two\""
   ]
  },
  {
   "cell_type": "code",
   "execution_count": 171,
   "metadata": {},
   "outputs": [
    {
     "name": "stdout",
     "output_type": "stream",
     "text": [
      "{'abcddssf': <__main__.MultiSing object at 0x000001819062ED10>, 'abc': <__main__.MultiSing object at 0x00000181912B9240>}\n",
      "name matched, same class object\n",
      "{'abcddssf': <__main__.MultiSing object at 0x000001819062ED10>, 'abc': <__main__.MultiSing object at 0x00000181912B9240>}\n"
     ]
    }
   ],
   "source": [
    "vdsvs = MultiSing(\"abc\")"
   ]
  },
  {
   "cell_type": "code",
   "execution_count": 179,
   "metadata": {},
   "outputs": [
    {
     "data": {
      "text/plain": [
       "'ttheh'"
      ]
     },
     "execution_count": 179,
     "metadata": {},
     "output_type": "execute_result"
    }
   ],
   "source": [
    "vdsvs.banana"
   ]
  },
  {
   "cell_type": "code",
   "execution_count": 178,
   "metadata": {},
   "outputs": [],
   "source": [
    "fsdfds.banana = \"ttheh\""
   ]
  },
  {
   "cell_type": "code",
   "execution_count": 143,
   "metadata": {},
   "outputs": [],
   "source": [
    "fsdfds.pp = \"500\""
   ]
  },
  {
   "cell_type": "code",
   "execution_count": 146,
   "metadata": {},
   "outputs": [
    {
     "ename": "AttributeError",
     "evalue": "'NoneType' object has no attribute 'pp'",
     "output_type": "error",
     "traceback": [
      "\u001b[1;31m---------------------------------------------------------------------------\u001b[0m",
      "\u001b[1;31mAttributeError\u001b[0m                            Traceback (most recent call last)",
      "\u001b[1;32mc:\\diamondgui\\measurement\\test_base.ipynb Cell 11\u001b[0m in \u001b[0;36m1\n\u001b[1;32m----> <a href='vscode-notebook-cell:/c%3A/diamondgui/measurement/test_base.ipynb#X44sZmlsZQ%3D%3D?line=0'>1</a>\u001b[0m \u001b[39mprint\u001b[39m(qqwwee\u001b[39m.\u001b[39;49mpp)\n",
      "\u001b[1;31mAttributeError\u001b[0m: 'NoneType' object has no attribute 'pp'"
     ]
    }
   ],
   "source": [
    "print(qqwwee.pp)"
   ]
  },
  {
   "cell_type": "code",
   "execution_count": 101,
   "metadata": {},
   "outputs": [],
   "source": [
    "qwe = shitshit2(\"hi\")"
   ]
  },
  {
   "cell_type": "code",
   "execution_count": 102,
   "metadata": {},
   "outputs": [
    {
     "name": "stdout",
     "output_type": "stream",
     "text": [
      "name matched\n"
     ]
    }
   ],
   "source": [
    "fsfds = shitshit2(\"hi\")"
   ]
  },
  {
   "cell_type": "code",
   "execution_count": 103,
   "metadata": {},
   "outputs": [],
   "source": [
    "dsfds = shitshit2(\"dsfds\")"
   ]
  },
  {
   "cell_type": "code",
   "execution_count": 87,
   "metadata": {},
   "outputs": [
    {
     "name": "stdout",
     "output_type": "stream",
     "text": [
      "<class '__main__.shitclass'>\n",
      "{}\n",
      "{<class '__main__.shitclass'>: <__main__.shitclass object at 0x0000018190540B20>}\n",
      "<__main__.shitclass object at 0x0000018190540B20>\n"
     ]
    }
   ],
   "source": [
    "shihis = shitclass(\"fsdf\")\n",
    "print(shihis)\n",
    "print(type(shihis))"
   ]
  },
  {
   "cell_type": "code",
   "execution_count": 94,
   "metadata": {},
   "outputs": [
    {
     "data": {
      "text/plain": [
       "{'_name': 'fsdf'}"
      ]
     },
     "execution_count": 94,
     "metadata": {},
     "output_type": "execute_result"
    }
   ],
   "source": [
    "shihis.__dict__"
   ]
  },
  {
   "cell_type": "code",
   "execution_count": 88,
   "metadata": {},
   "outputs": [
    {
     "name": "stdout",
     "output_type": "stream",
     "text": [
      "<__main__.shitclass object at 0x0000018190540B20>\n",
      "<class '__main__.shitclass'>\n"
     ]
    }
   ],
   "source": [
    "abcc = shitclass(\"fd453\")\n",
    "print(abcc)\n",
    "print(type(abcc))"
   ]
  },
  {
   "cell_type": "code",
   "execution_count": 89,
   "metadata": {},
   "outputs": [
    {
     "data": {
      "text/plain": [
       "'fsdf'"
      ]
     },
     "execution_count": 89,
     "metadata": {},
     "output_type": "execute_result"
    }
   ],
   "source": [
    "shihis._name"
   ]
  },
  {
   "cell_type": "code",
   "execution_count": 90,
   "metadata": {},
   "outputs": [
    {
     "data": {
      "text/plain": [
       "'fsdf'"
      ]
     },
     "execution_count": 90,
     "metadata": {},
     "output_type": "execute_result"
    }
   ],
   "source": [
    "abcc._name"
   ]
  },
  {
   "cell_type": "code",
   "execution_count": 72,
   "metadata": {},
   "outputs": [
    {
     "ename": "TypeError",
     "evalue": "Namedclass.__init__() missing 3 required positional arguments: 'a', 'b', and 'c'",
     "output_type": "error",
     "traceback": [
      "\u001b[1;31m---------------------------------------------------------------------------\u001b[0m",
      "\u001b[1;31mTypeError\u001b[0m                                 Traceback (most recent call last)",
      "\u001b[1;32mc:\\diamondgui\\measurement\\test_base.ipynb Cell 4\u001b[0m in \u001b[0;36m1\n\u001b[1;32m----> <a href='vscode-notebook-cell:/c%3A/diamondgui/measurement/test_base.ipynb#X24sZmlsZQ%3D%3D?line=0'>1</a>\u001b[0m apple \u001b[39m=\u001b[39m Namedclass()(\u001b[39m2\u001b[39m,\u001b[39m3\u001b[39m,\u001b[39m4\u001b[39m)\n",
      "\u001b[1;31mTypeError\u001b[0m: Namedclass.__init__() missing 3 required positional arguments: 'a', 'b', and 'c'"
     ]
    }
   ],
   "source": [
    "apple = Namedclass()(2,3,4)"
   ]
  },
  {
   "cell_type": "code",
   "execution_count": 63,
   "metadata": {},
   "outputs": [],
   "source": [
    "def set_paraset(**para_dict):\n",
    "        # set parametes\n",
    "    paraset = dict()\n",
    "    for kk, vv in para_dict.items():\n",
    "        paraset[kk] = vv\n",
    "    print(paraset)"
   ]
  },
  {
   "cell_type": "code",
   "execution_count": 64,
   "metadata": {},
   "outputs": [
    {
     "name": "stdout",
     "output_type": "stream",
     "text": [
      "{'abc': 1, 'apple': 2345}\n"
     ]
    }
   ],
   "source": [
    "set_paraset(abc=1, apple=2345)"
   ]
  },
  {
   "cell_type": "code",
   "execution_count": 55,
   "metadata": {},
   "outputs": [
    {
     "name": "stdout",
     "output_type": "stream",
     "text": [
      "run 1\n"
     ]
    }
   ],
   "source": [
    "jobmanager = JobManager()\n",
    "jobmanager.start()\n",
    "time.sleep(0.1)\n",
    "\n",
    "\n",
    "\n",
    "#import time\n",
    "#time.sleep(0.1)\n",
    "\n",
    "#j3 = Job()\n",
    "#j3.priority = 1\n",
    "#JobManager().submit(j3)\n",
    "# JobManager().stop()\n",
    "    "
   ]
  },
  {
   "cell_type": "code",
   "execution_count": 56,
   "metadata": {},
   "outputs": [
    {
     "name": "stdout",
     "output_type": "stream",
     "text": [
      "time time:0.0050084590911865234\n",
      "ran experiment once\n",
      "time time:0.020243406295776367\n",
      "ran experiment once\n",
      "time time:0.03618359565734863\n",
      "ran experiment once\n",
      "time time:0.05118417739868164\n",
      "ran experiment once\n",
      "time time:0.0671842098236084\n",
      "ran experiment once\n",
      "time time:0.08218550682067871\n",
      "ran experiment once\n",
      "time time:0.09818410873413086\n",
      "ran experiment once\n",
      "time time:0.11331844329833984\n",
      "ran experiment once\n",
      "[]\n",
      "[None]\n",
      "time time:0.1293187141418457\n",
      "ran experiment once\n",
      "time time:0.1453249454498291\n",
      "ran experiment once\n",
      "time time:0.16122794151306152\n",
      "ran experiment once\n",
      "time time:0.17600250244140625\n",
      "ran experiment once\n",
      "time time:0.19172096252441406\n",
      "ran experiment once\n",
      "time time:0.20676279067993164\n",
      "ran experiment once\n",
      "time time:0.22252345085144043\n",
      "ran experiment once\n",
      "time time:0.238525390625\n",
      "ran experiment once\n",
      "time time:0.2545621395111084\n",
      "ran experiment once\n",
      "time time:0.27057933807373047\n",
      "ran experiment once\n",
      "time time:0.2865898609161377\n",
      "ran experiment once\n",
      "time time:0.3025786876678467\n",
      "ran experiment once\n",
      "time time:0.3175978660583496\n",
      "ran experiment once\n",
      "time time:0.33362555503845215\n",
      "ran experiment once\n",
      "time time:0.3491673469543457\n",
      "ran experiment once\n",
      "time time:0.36516857147216797\n",
      "ran experiment once\n",
      "time time:0.3807375431060791\n",
      "ran experiment once\n",
      "time time:0.3965623378753662\n",
      "ran experiment once\n",
      "time time:0.41222429275512695\n",
      "ran experiment once\n",
      "time time:0.42828965187072754\n",
      "ran experiment once\n",
      "time time:0.4433255195617676\n",
      "ran experiment once\n",
      "time time:0.4587411880493164\n",
      "ran experiment once\n",
      "time time:0.47374963760375977\n",
      "ran experiment once\n",
      "time time:0.4887411594390869\n",
      "ran experiment once\n",
      "time time:0.5039694309234619\n",
      "ran experiment once\n",
      "time time:0.5200092792510986\n",
      "ran experiment once\n",
      "time time:0.5351922512054443\n",
      "ran experiment once\n",
      "time time:0.5505702495574951\n",
      "ran experiment once\n",
      "time time:0.5662243366241455\n",
      "ran experiment once\n",
      "time time:0.5822515487670898\n",
      "ran experiment once\n",
      "time time:0.5975391864776611\n",
      "ran experiment once\n",
      "time time:0.6132397651672363\n",
      "ran experiment once\n",
      "time time:0.6292400360107422\n",
      "ran experiment once\n",
      "time time:0.6452879905700684\n",
      "ran experiment once\n",
      "time time:0.6602888107299805\n",
      "ran experiment once\n",
      "time time:0.6763262748718262\n",
      "ran experiment once\n",
      "time time:0.691493034362793\n",
      "ran experiment once\n",
      "time time:0.7065410614013672\n",
      "ran experiment once\n",
      "time time:0.7219905853271484\n",
      "ran experiment once\n",
      "time time:0.7380402088165283\n",
      "ran experiment once\n",
      "time time:0.7532098293304443\n",
      "ran experiment once\n",
      "time time:0.7686007022857666\n",
      "ran experiment once\n",
      "time time:0.7840652465820312\n",
      "ran experiment once\n",
      "time time:0.8002524375915527\n",
      "ran experiment once\n",
      "time time:0.8157360553741455\n",
      "ran experiment once\n",
      "time time:0.8317360877990723\n",
      "ran experiment once\n",
      "time time:0.847827672958374\n",
      "ran experiment once\n",
      "time time:0.8632981777191162\n",
      "ran experiment once\n",
      "time time:0.8793776035308838\n",
      "ran experiment once\n",
      "time time:0.895169734954834\n",
      "ran experiment once\n",
      "time time:0.9112112522125244\n",
      "ran experiment once\n",
      "time time:0.9264590740203857\n",
      "ran experiment once\n",
      "time time:0.9425880908966064\n",
      "ran experiment once\n",
      "time time:0.9579930305480957\n",
      "ran experiment once\n",
      "time time:0.9731895923614502\n",
      "ran experiment once\n",
      "time time:0.988527774810791\n",
      "ran experiment once\n",
      "time time:1.0042226314544678\n",
      "ran experiment once\n",
      "time time:1.0202200412750244\n",
      "ran experiment once\n",
      "time time:1.0350420475006104\n",
      "ran experiment once\n",
      "time time:1.0508368015289307\n",
      "ran experiment once\n",
      "time time:1.0666790008544922\n",
      "ran experiment once\n",
      "time time:1.0818135738372803\n",
      "ran experiment once\n",
      "time time:1.0968096256256104\n",
      "ran experiment once\n",
      "time time:1.1118502616882324\n",
      "ran experiment once\n",
      "time time:1.1272611618041992\n",
      "ran experiment once\n",
      "time time:1.1424047946929932\n",
      "ran experiment once\n",
      "time time:1.1584038734436035\n",
      "ran experiment once\n",
      "time time:1.1734042167663574\n",
      "ran experiment once\n",
      "time time:1.18941330909729\n",
      "ran experiment once\n",
      "time time:1.2050533294677734\n",
      "ran experiment once\n",
      "time time:1.220689296722412\n",
      "ran experiment once\n",
      "time time:1.2358553409576416\n",
      "ran experiment once\n",
      "time time:1.2512357234954834\n",
      "ran experiment once\n",
      "time time:1.2672357559204102\n",
      "ran experiment once\n",
      "time time:1.283235788345337\n",
      "ran experiment once\n",
      "time time:1.2989606857299805\n",
      "ran experiment once\n",
      "time time:1.3149621486663818\n",
      "ran experiment once\n",
      "time time:1.3309848308563232\n",
      "ran experiment once\n",
      "time time:1.347036600112915\n",
      "ran experiment once\n",
      "time time:1.3621244430541992\n",
      "ran experiment once\n",
      "time time:1.378133773803711\n",
      "ran experiment once\n",
      "time time:1.3930044174194336\n",
      "ran experiment once\n",
      "time time:1.4082260131835938\n",
      "ran experiment once\n",
      "time time:1.42427396774292\n",
      "ran experiment once\n",
      "time time:1.440279483795166\n",
      "ran experiment once\n",
      "time time:1.4560494422912598\n",
      "ran experiment once\n",
      "time time:1.4720447063446045\n",
      "ran experiment once\n",
      "time time:1.4872181415557861\n",
      "ran experiment once\n",
      "time time:1.5032243728637695\n",
      "ran experiment once\n",
      "time time:1.5192928314208984\n",
      "ran experiment once\n",
      "time time:1.534886121749878\n",
      "ran experiment once\n",
      "time time:1.5510177612304688\n",
      "ran experiment once\n",
      "run 2\n",
      "run 1\n"
     ]
    }
   ],
   "source": [
    "jobs = [ DummyJob() for i in range(1)]\n",
    "    \n",
    "jobs[0].priority = 4\n",
    "jobs[0].num_run = 100\n",
    "jobs[0].refresh_interval = 0.000001\n",
    "# jobs[1].priority = 1\n",
    "# jobs[2].priority = 0\n",
    "# jobs[3].priority = 10\n",
    "# jobs[4].priority = 0\n",
    "\n",
    "for job in jobs:\n",
    "    JobManager().submit(job) \n",
    "\n",
    "time.sleep(0.1)\n",
    "q = JobManager().queue\n",
    "\n",
    "print([job.priority for job in q])\n",
    "print([q.index(job) if job in q else None for job in jobs])\n",
    "\n",
    "time.sleep(2)\n",
    "JobManager().remove(job)\n"
   ]
  },
  {
   "cell_type": "code",
   "execution_count": 21,
   "metadata": {},
   "outputs": [
    {
     "name": "stdout",
     "output_type": "stream",
     "text": [
      "ran experiment once\n",
      "ran experiment once\n",
      "ran experiment once\n",
      "ran experiment once\n",
      "ran experiment once\n",
      "ran experiment once\n"
     ]
    }
   ],
   "source": [
    "JobManager().submit(DummyJob()) "
   ]
  },
  {
   "cell_type": "code",
   "execution_count": 17,
   "metadata": {},
   "outputs": [],
   "source": [
    "JobManager().running"
   ]
  },
  {
   "cell_type": "code",
   "execution_count": 18,
   "metadata": {},
   "outputs": [
    {
     "name": "stderr",
     "output_type": "stream",
     "text": [
      "C:\\Users\\ctcheung\\AppData\\Local\\Temp\\ipykernel_24756\\1730625352.py:54: DeprecationWarning: currentThread() is deprecated, use current_thread() instead\n",
      "  if threading.currentThread() is self:\n"
     ]
    }
   ],
   "source": [
    "JobManager().stop()"
   ]
  },
  {
   "cell_type": "code",
   "execution_count": 7,
   "metadata": {},
   "outputs": [
    {
     "name": "stdout",
     "output_type": "stream",
     "text": [
      "[1]\n",
      "[None]\n"
     ]
    }
   ],
   "source": [
    "print([job.priority for job in q])\n",
    "print([q.index(job) if job in q else None for job in jobs])\n"
   ]
  },
  {
   "cell_type": "code",
   "execution_count": 8,
   "metadata": {},
   "outputs": [
    {
     "name": "stdout",
     "output_type": "stream",
     "text": [
      "[<__main__.DummyJob object at 0x000001818CC55A20>]\n"
     ]
    }
   ],
   "source": [
    "print(q)"
   ]
  },
  {
   "cell_type": "code",
   "execution_count": 1,
   "metadata": {},
   "outputs": [],
   "source": [
    "from nspyre import DataSource"
   ]
  },
  {
   "cell_type": "code",
   "execution_count": 2,
   "metadata": {},
   "outputs": [],
   "source": [
    "ds = DataSource(\"fdsfdsfdsafdsafas\")"
   ]
  },
  {
   "cell_type": "code",
   "execution_count": 3,
   "metadata": {},
   "outputs": [],
   "source": [
    "ds.start()\n"
   ]
  },
  {
   "cell_type": "code",
   "execution_count": 6,
   "metadata": {},
   "outputs": [],
   "source": [
    "ds.push({\"fdsfds\":[4,5,56,2,2]})"
   ]
  },
  {
   "cell_type": "code",
   "execution_count": 8,
   "metadata": {},
   "outputs": [],
   "source": [
    "ddss = DataSource(\"iiiii\")"
   ]
  },
  {
   "cell_type": "code",
   "execution_count": 9,
   "metadata": {},
   "outputs": [],
   "source": [
    "ddss.start()"
   ]
  },
  {
   "cell_type": "code",
   "execution_count": 10,
   "metadata": {},
   "outputs": [],
   "source": [
    "ddss.push([\"fdsfdsfdsfds\"])"
   ]
  },
  {
   "cell_type": "code",
   "execution_count": null,
   "metadata": {},
   "outputs": [],
   "source": []
  }
 ],
 "metadata": {
  "kernelspec": {
   "display_name": "hfnvenv",
   "language": "python",
   "name": "python3"
  },
  "language_info": {
   "codemirror_mode": {
    "name": "ipython",
    "version": 3
   },
   "file_extension": ".py",
   "mimetype": "text/x-python",
   "name": "python",
   "nbconvert_exporter": "python",
   "pygments_lexer": "ipython3",
   "version": "3.10.8"
  },
  "orig_nbformat": 4,
  "vscode": {
   "interpreter": {
    "hash": "edbeb015532c7e046a2262d7a5e62912bfe62e77a9629575e3e349e336b7720d"
   }
  }
 },
 "nbformat": 4,
 "nbformat_minor": 2
}
