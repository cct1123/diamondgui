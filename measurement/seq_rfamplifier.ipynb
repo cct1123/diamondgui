{
 "cells": [
  {
   "cell_type": "code",
   "execution_count": 8,
   "id": "8b62c55c",
   "metadata": {},
   "outputs": [],
   "source": [
    "import numpy as np\n",
    "import math\n",
    "from functools import reduce\n",
    "import time\n",
    "import sys\n",
    "import os\n",
    "import numpy as np\n",
    "\n",
    "path_project = \"\\\\\".join(os.getcwd().split(\"\\\\\")[:-1])\n",
    "# caution: path[0] is reserved for script path (or '' in REPL)\n",
    "sys.path.insert(1, path_project)\n",
    "from pathlib import Path\n",
    "import nidaqmx\n",
    "\n",
    "def lcm(a, b):\n",
    "    \"\"\"Calculate the least common multiple of two numbers.\"\"\" \n",
    "    return abs(a * b) // math.gcd(a, b)\n",
    "\n",
    "\n",
    "def lcm_of_list(numbers):\n",
    "    \"\"\"Find the LCM of a list of numbers.\"\"\"\n",
    "    return reduce(lcm, numbers)\n",
    "\n",
    "def seqtime(seq_tb):\n",
    "    return np.sum([pulse[-1] for pulse in seq_tb])\n",
    "\n",
    "# some constants\n",
    "Hz = 1e-9 # GHz\n",
    "kHz = 1e-6 # GHz\n",
    "MHz = 1e-3 # GHz\n",
    "pi = np.pi\n"
   ]
  },
  {
   "cell_type": "code",
   "execution_count": 9,
   "id": "2a690aed",
   "metadata": {},
   "outputs": [],
   "source": [
    "import nidaqmx\n",
    "from nidaqmx.constants import TerminalConfiguration, VoltageUnits, Edge, AcquisitionType, READ_ALL_AVAILABLE\n",
    "from nidaqmx.stream_readers import AnalogSingleChannelReader\n",
    "\n",
    "from hardware import config as hcf\n",
    "from hardware.hardwaremanager import HardwareManager\n",
    "from hardware.pulser.pulser import (\n",
    "    OutputState,\n",
    "    TriggerStart,\n",
    "    TriggerRearm,\n",
    "    HIGH,\n",
    "    LOW,\n",
    "    INF,\n",
    "    REPEAT_INFINITELY\n",
    ")\n",
    "timebase = lcm_of_list(\n",
    "    [hcf.VDISYN_timebase, hcf.SIDIG_timebase, hcf.PS_timebase, hcf.RSRF_timebase]\n",
    ")\n",
    "\n",
    "hm = HardwareManager()\n",
    "# adds synthesizer, laser, and pulse generator \n",
    "hm.add_default_hardware()\n"
   ]
  },
  {
   "cell_type": "code",
   "execution_count": 10,
   "id": "e581b02d",
   "metadata": {},
   "outputs": [],
   "source": [
    "hm.windfreak.set_output(channel=0, freq=600e6, power=15, phase=0.0)\n",
    "hm.windfreak.set_output(channel=1, freq=600e6, power=15, phase=0.0)"
   ]
  },
  {
   "cell_type": "code",
   "execution_count": 35,
   "id": "ea745e60",
   "metadata": {},
   "outputs": [],
   "source": [
    "# 10% duty cycle \n",
    "T = 100e3  # µs per cycle\n",
    "on_rf = 10e3  # µs rfA on duration\n",
    "pre_blk = 1e3  # µs blk before rfA\n",
    "post_blk = 1e3  # µs blk after rfA\n",
    "idle = T - (pre_blk + on_rf + post_blk)\n",
    "one_cycle = [\n",
    "    ([\"BLK\"], pre_blk),              # blk on before rfA\n",
    "    ([\"BLK\", \"rfA\"], on_rf),         # blk + rfA\n",
    "    ([\"BLK\"], post_blk),            # blk on after rfA\n",
    "    ([], idle)                      # idle\n",
    "]\n",
    "sequence = one_cycle   # repeat to reach 1s"
   ]
  },
  {
   "cell_type": "code",
   "execution_count": 36,
   "id": "fa8c6bb9",
   "metadata": {},
   "outputs": [],
   "source": [
    "# # 20% duty cycle \n",
    "# T = 100e3  # µs per cycle\n",
    "# on_rf = 20e3  # µs rfA on duration\n",
    "# pre_blk = 1e3  # µs blk before rfA\n",
    "# post_blk = 1e3  # µs blk after rfA\n",
    "# idle = T - (pre_blk + on_rf + post_blk)\n",
    "# one_cycle = [\n",
    "#     ([\"BLK\"], pre_blk),              # blk on before rfA\n",
    "#     ([\"BLK\", \"rfA\"], on_rf),         # blk + rfA\n",
    "#     ([\"BLK\"], post_blk),            # blk on after rfA\n",
    "#     ([], idle)                      # idle\n",
    "# ]\n",
    "# sequence = one_cycle   # repeat to reach 1s"
   ]
  },
  {
   "cell_type": "code",
   "execution_count": 37,
   "id": "03891f1c",
   "metadata": {},
   "outputs": [
    {
     "data": {
      "application/vnd.plotly.v1+json": {
       "config": {
        "plotlyServerURL": "https://plot.ly"
       },
       "data": [
        {
         "line": {
          "shape": "hv"
         },
         "mode": "lines",
         "name": "D0",
         "type": "scatter",
         "x": {
          "bdata": "AAAAAKCGAQA=",
          "dtype": "i4"
         },
         "xaxis": "x",
         "y": {
          "bdata": "AAA=",
          "dtype": "i1"
         },
         "yaxis": "y"
        },
        {
         "line": {
          "shape": "hv"
         },
         "mode": "lines",
         "name": "D1",
         "type": "scatter",
         "x": {
          "bdata": "AAAAAKCGAQA=",
          "dtype": "i4"
         },
         "xaxis": "x2",
         "y": {
          "bdata": "AAA=",
          "dtype": "i1"
         },
         "yaxis": "y2"
        },
        {
         "line": {
          "shape": "hv"
         },
         "mode": "lines",
         "name": "D2",
         "type": "scatter",
         "x": {
          "bdata": "AAAAAAAAAADoAwAA+CoAAOAuAACghgEA",
          "dtype": "i4"
         },
         "xaxis": "x3",
         "y": {
          "bdata": "AAABAAAA",
          "dtype": "i1"
         },
         "yaxis": "y3"
        },
        {
         "line": {
          "shape": "hv"
         },
         "mode": "lines",
         "name": "D6",
         "type": "scatter",
         "x": {
          "bdata": "AAAAAKCGAQA=",
          "dtype": "i4"
         },
         "xaxis": "x4",
         "y": {
          "bdata": "AAA=",
          "dtype": "i1"
         },
         "yaxis": "y4"
        },
        {
         "line": {
          "shape": "hv"
         },
         "mode": "lines",
         "name": "D3",
         "type": "scatter",
         "x": {
          "bdata": "AAAAAKCGAQA=",
          "dtype": "i4"
         },
         "xaxis": "x5",
         "y": {
          "bdata": "AAA=",
          "dtype": "i1"
         },
         "yaxis": "y5"
        },
        {
         "line": {
          "shape": "hv"
         },
         "mode": "lines",
         "name": "D4",
         "type": "scatter",
         "x": {
          "bdata": "AAAAAKCGAQA=",
          "dtype": "i4"
         },
         "xaxis": "x6",
         "y": {
          "bdata": "AAA=",
          "dtype": "i1"
         },
         "yaxis": "y6"
        },
        {
         "line": {
          "shape": "hv"
         },
         "mode": "lines",
         "name": "D5",
         "type": "scatter",
         "x": {
          "bdata": "AAAAAKCGAQA=",
          "dtype": "i4"
         },
         "xaxis": "x7",
         "y": {
          "bdata": "AAA=",
          "dtype": "i1"
         },
         "yaxis": "y7"
        },
        {
         "line": {
          "shape": "hv"
         },
         "mode": "lines",
         "name": "D7",
         "type": "scatter",
         "x": {
          "bdata": "AAAAAAAAAADoAwAA+CoAAOAuAACghgEA",
          "dtype": "i4"
         },
         "xaxis": "x8",
         "y": {
          "bdata": "AAEBAQAA",
          "dtype": "i1"
         },
         "yaxis": "y8"
        },
        {
         "line": {
          "color": "black",
          "shape": "hv"
         },
         "mode": "lines",
         "name": "A0",
         "type": "scatter",
         "x": {
          "bdata": "AAAAAKCGAQA=",
          "dtype": "i4"
         },
         "xaxis": "x9",
         "y": {
          "bdata": "AAAAAAAAAAAAAAAAAAAAAA==",
          "dtype": "f8"
         },
         "yaxis": "y9"
        },
        {
         "line": {
          "color": "black",
          "shape": "hv"
         },
         "mode": "lines",
         "name": "A1",
         "type": "scatter",
         "x": {
          "bdata": "AAAAAKCGAQA=",
          "dtype": "i4"
         },
         "xaxis": "x10",
         "y": {
          "bdata": "AAAAAAAAAAAAAAAAAAAAAA==",
          "dtype": "f8"
         },
         "yaxis": "y10"
        }
       ],
       "layout": {
        "height": 600,
        "margin": {
         "b": 40,
         "l": 50,
         "r": 50,
         "t": 40
        },
        "showlegend": false,
        "template": {
         "data": {
          "bar": [
           {
            "error_x": {
             "color": "#2a3f5f"
            },
            "error_y": {
             "color": "#2a3f5f"
            },
            "marker": {
             "line": {
              "color": "#E5ECF6",
              "width": 0.5
             },
             "pattern": {
              "fillmode": "overlay",
              "size": 10,
              "solidity": 0.2
             }
            },
            "type": "bar"
           }
          ],
          "barpolar": [
           {
            "marker": {
             "line": {
              "color": "#E5ECF6",
              "width": 0.5
             },
             "pattern": {
              "fillmode": "overlay",
              "size": 10,
              "solidity": 0.2
             }
            },
            "type": "barpolar"
           }
          ],
          "carpet": [
           {
            "aaxis": {
             "endlinecolor": "#2a3f5f",
             "gridcolor": "white",
             "linecolor": "white",
             "minorgridcolor": "white",
             "startlinecolor": "#2a3f5f"
            },
            "baxis": {
             "endlinecolor": "#2a3f5f",
             "gridcolor": "white",
             "linecolor": "white",
             "minorgridcolor": "white",
             "startlinecolor": "#2a3f5f"
            },
            "type": "carpet"
           }
          ],
          "choropleth": [
           {
            "colorbar": {
             "outlinewidth": 0,
             "ticks": ""
            },
            "type": "choropleth"
           }
          ],
          "contour": [
           {
            "colorbar": {
             "outlinewidth": 0,
             "ticks": ""
            },
            "colorscale": [
             [
              0,
              "#0d0887"
             ],
             [
              0.1111111111111111,
              "#46039f"
             ],
             [
              0.2222222222222222,
              "#7201a8"
             ],
             [
              0.3333333333333333,
              "#9c179e"
             ],
             [
              0.4444444444444444,
              "#bd3786"
             ],
             [
              0.5555555555555556,
              "#d8576b"
             ],
             [
              0.6666666666666666,
              "#ed7953"
             ],
             [
              0.7777777777777778,
              "#fb9f3a"
             ],
             [
              0.8888888888888888,
              "#fdca26"
             ],
             [
              1,
              "#f0f921"
             ]
            ],
            "type": "contour"
           }
          ],
          "contourcarpet": [
           {
            "colorbar": {
             "outlinewidth": 0,
             "ticks": ""
            },
            "type": "contourcarpet"
           }
          ],
          "heatmap": [
           {
            "colorbar": {
             "outlinewidth": 0,
             "ticks": ""
            },
            "colorscale": [
             [
              0,
              "#0d0887"
             ],
             [
              0.1111111111111111,
              "#46039f"
             ],
             [
              0.2222222222222222,
              "#7201a8"
             ],
             [
              0.3333333333333333,
              "#9c179e"
             ],
             [
              0.4444444444444444,
              "#bd3786"
             ],
             [
              0.5555555555555556,
              "#d8576b"
             ],
             [
              0.6666666666666666,
              "#ed7953"
             ],
             [
              0.7777777777777778,
              "#fb9f3a"
             ],
             [
              0.8888888888888888,
              "#fdca26"
             ],
             [
              1,
              "#f0f921"
             ]
            ],
            "type": "heatmap"
           }
          ],
          "histogram": [
           {
            "marker": {
             "pattern": {
              "fillmode": "overlay",
              "size": 10,
              "solidity": 0.2
             }
            },
            "type": "histogram"
           }
          ],
          "histogram2d": [
           {
            "colorbar": {
             "outlinewidth": 0,
             "ticks": ""
            },
            "colorscale": [
             [
              0,
              "#0d0887"
             ],
             [
              0.1111111111111111,
              "#46039f"
             ],
             [
              0.2222222222222222,
              "#7201a8"
             ],
             [
              0.3333333333333333,
              "#9c179e"
             ],
             [
              0.4444444444444444,
              "#bd3786"
             ],
             [
              0.5555555555555556,
              "#d8576b"
             ],
             [
              0.6666666666666666,
              "#ed7953"
             ],
             [
              0.7777777777777778,
              "#fb9f3a"
             ],
             [
              0.8888888888888888,
              "#fdca26"
             ],
             [
              1,
              "#f0f921"
             ]
            ],
            "type": "histogram2d"
           }
          ],
          "histogram2dcontour": [
           {
            "colorbar": {
             "outlinewidth": 0,
             "ticks": ""
            },
            "colorscale": [
             [
              0,
              "#0d0887"
             ],
             [
              0.1111111111111111,
              "#46039f"
             ],
             [
              0.2222222222222222,
              "#7201a8"
             ],
             [
              0.3333333333333333,
              "#9c179e"
             ],
             [
              0.4444444444444444,
              "#bd3786"
             ],
             [
              0.5555555555555556,
              "#d8576b"
             ],
             [
              0.6666666666666666,
              "#ed7953"
             ],
             [
              0.7777777777777778,
              "#fb9f3a"
             ],
             [
              0.8888888888888888,
              "#fdca26"
             ],
             [
              1,
              "#f0f921"
             ]
            ],
            "type": "histogram2dcontour"
           }
          ],
          "mesh3d": [
           {
            "colorbar": {
             "outlinewidth": 0,
             "ticks": ""
            },
            "type": "mesh3d"
           }
          ],
          "parcoords": [
           {
            "line": {
             "colorbar": {
              "outlinewidth": 0,
              "ticks": ""
             }
            },
            "type": "parcoords"
           }
          ],
          "pie": [
           {
            "automargin": true,
            "type": "pie"
           }
          ],
          "scatter": [
           {
            "fillpattern": {
             "fillmode": "overlay",
             "size": 10,
             "solidity": 0.2
            },
            "type": "scatter"
           }
          ],
          "scatter3d": [
           {
            "line": {
             "colorbar": {
              "outlinewidth": 0,
              "ticks": ""
             }
            },
            "marker": {
             "colorbar": {
              "outlinewidth": 0,
              "ticks": ""
             }
            },
            "type": "scatter3d"
           }
          ],
          "scattercarpet": [
           {
            "marker": {
             "colorbar": {
              "outlinewidth": 0,
              "ticks": ""
             }
            },
            "type": "scattercarpet"
           }
          ],
          "scattergeo": [
           {
            "marker": {
             "colorbar": {
              "outlinewidth": 0,
              "ticks": ""
             }
            },
            "type": "scattergeo"
           }
          ],
          "scattergl": [
           {
            "marker": {
             "colorbar": {
              "outlinewidth": 0,
              "ticks": ""
             }
            },
            "type": "scattergl"
           }
          ],
          "scattermap": [
           {
            "marker": {
             "colorbar": {
              "outlinewidth": 0,
              "ticks": ""
             }
            },
            "type": "scattermap"
           }
          ],
          "scattermapbox": [
           {
            "marker": {
             "colorbar": {
              "outlinewidth": 0,
              "ticks": ""
             }
            },
            "type": "scattermapbox"
           }
          ],
          "scatterpolar": [
           {
            "marker": {
             "colorbar": {
              "outlinewidth": 0,
              "ticks": ""
             }
            },
            "type": "scatterpolar"
           }
          ],
          "scatterpolargl": [
           {
            "marker": {
             "colorbar": {
              "outlinewidth": 0,
              "ticks": ""
             }
            },
            "type": "scatterpolargl"
           }
          ],
          "scatterternary": [
           {
            "marker": {
             "colorbar": {
              "outlinewidth": 0,
              "ticks": ""
             }
            },
            "type": "scatterternary"
           }
          ],
          "surface": [
           {
            "colorbar": {
             "outlinewidth": 0,
             "ticks": ""
            },
            "colorscale": [
             [
              0,
              "#0d0887"
             ],
             [
              0.1111111111111111,
              "#46039f"
             ],
             [
              0.2222222222222222,
              "#7201a8"
             ],
             [
              0.3333333333333333,
              "#9c179e"
             ],
             [
              0.4444444444444444,
              "#bd3786"
             ],
             [
              0.5555555555555556,
              "#d8576b"
             ],
             [
              0.6666666666666666,
              "#ed7953"
             ],
             [
              0.7777777777777778,
              "#fb9f3a"
             ],
             [
              0.8888888888888888,
              "#fdca26"
             ],
             [
              1,
              "#f0f921"
             ]
            ],
            "type": "surface"
           }
          ],
          "table": [
           {
            "cells": {
             "fill": {
              "color": "#EBF0F8"
             },
             "line": {
              "color": "white"
             }
            },
            "header": {
             "fill": {
              "color": "#C8D4E3"
             },
             "line": {
              "color": "white"
             }
            },
            "type": "table"
           }
          ]
         },
         "layout": {
          "annotationdefaults": {
           "arrowcolor": "#2a3f5f",
           "arrowhead": 0,
           "arrowwidth": 1
          },
          "autotypenumbers": "strict",
          "coloraxis": {
           "colorbar": {
            "outlinewidth": 0,
            "ticks": ""
           }
          },
          "colorscale": {
           "diverging": [
            [
             0,
             "#8e0152"
            ],
            [
             0.1,
             "#c51b7d"
            ],
            [
             0.2,
             "#de77ae"
            ],
            [
             0.3,
             "#f1b6da"
            ],
            [
             0.4,
             "#fde0ef"
            ],
            [
             0.5,
             "#f7f7f7"
            ],
            [
             0.6,
             "#e6f5d0"
            ],
            [
             0.7,
             "#b8e186"
            ],
            [
             0.8,
             "#7fbc41"
            ],
            [
             0.9,
             "#4d9221"
            ],
            [
             1,
             "#276419"
            ]
           ],
           "sequential": [
            [
             0,
             "#0d0887"
            ],
            [
             0.1111111111111111,
             "#46039f"
            ],
            [
             0.2222222222222222,
             "#7201a8"
            ],
            [
             0.3333333333333333,
             "#9c179e"
            ],
            [
             0.4444444444444444,
             "#bd3786"
            ],
            [
             0.5555555555555556,
             "#d8576b"
            ],
            [
             0.6666666666666666,
             "#ed7953"
            ],
            [
             0.7777777777777778,
             "#fb9f3a"
            ],
            [
             0.8888888888888888,
             "#fdca26"
            ],
            [
             1,
             "#f0f921"
            ]
           ],
           "sequentialminus": [
            [
             0,
             "#0d0887"
            ],
            [
             0.1111111111111111,
             "#46039f"
            ],
            [
             0.2222222222222222,
             "#7201a8"
            ],
            [
             0.3333333333333333,
             "#9c179e"
            ],
            [
             0.4444444444444444,
             "#bd3786"
            ],
            [
             0.5555555555555556,
             "#d8576b"
            ],
            [
             0.6666666666666666,
             "#ed7953"
            ],
            [
             0.7777777777777778,
             "#fb9f3a"
            ],
            [
             0.8888888888888888,
             "#fdca26"
            ],
            [
             1,
             "#f0f921"
            ]
           ]
          },
          "colorway": [
           "#636efa",
           "#EF553B",
           "#00cc96",
           "#ab63fa",
           "#FFA15A",
           "#19d3f3",
           "#FF6692",
           "#B6E880",
           "#FF97FF",
           "#FECB52"
          ],
          "font": {
           "color": "#2a3f5f"
          },
          "geo": {
           "bgcolor": "white",
           "lakecolor": "white",
           "landcolor": "#E5ECF6",
           "showlakes": true,
           "showland": true,
           "subunitcolor": "white"
          },
          "hoverlabel": {
           "align": "left"
          },
          "hovermode": "closest",
          "mapbox": {
           "style": "light"
          },
          "paper_bgcolor": "white",
          "plot_bgcolor": "#E5ECF6",
          "polar": {
           "angularaxis": {
            "gridcolor": "white",
            "linecolor": "white",
            "ticks": ""
           },
           "bgcolor": "#E5ECF6",
           "radialaxis": {
            "gridcolor": "white",
            "linecolor": "white",
            "ticks": ""
           }
          },
          "scene": {
           "xaxis": {
            "backgroundcolor": "#E5ECF6",
            "gridcolor": "white",
            "gridwidth": 2,
            "linecolor": "white",
            "showbackground": true,
            "ticks": "",
            "zerolinecolor": "white"
           },
           "yaxis": {
            "backgroundcolor": "#E5ECF6",
            "gridcolor": "white",
            "gridwidth": 2,
            "linecolor": "white",
            "showbackground": true,
            "ticks": "",
            "zerolinecolor": "white"
           },
           "zaxis": {
            "backgroundcolor": "#E5ECF6",
            "gridcolor": "white",
            "gridwidth": 2,
            "linecolor": "white",
            "showbackground": true,
            "ticks": "",
            "zerolinecolor": "white"
           }
          },
          "shapedefaults": {
           "line": {
            "color": "#2a3f5f"
           }
          },
          "ternary": {
           "aaxis": {
            "gridcolor": "white",
            "linecolor": "white",
            "ticks": ""
           },
           "baxis": {
            "gridcolor": "white",
            "linecolor": "white",
            "ticks": ""
           },
           "bgcolor": "#E5ECF6",
           "caxis": {
            "gridcolor": "white",
            "linecolor": "white",
            "ticks": ""
           }
          },
          "title": {
           "x": 0.05
          },
          "xaxis": {
           "automargin": true,
           "gridcolor": "white",
           "linecolor": "white",
           "ticks": "",
           "title": {
            "standoff": 15
           },
           "zerolinecolor": "white",
           "zerolinewidth": 2
          },
          "yaxis": {
           "automargin": true,
           "gridcolor": "white",
           "linecolor": "white",
           "ticks": "",
           "title": {
            "standoff": 15
           },
           "zerolinecolor": "white",
           "zerolinewidth": 2
          }
         }
        },
        "title": {
         "text": "Sequence"
        },
        "width": 600,
        "xaxis": {
         "anchor": "y",
         "domain": [
          0,
          1
         ],
         "matches": "x10",
         "showticklabels": false
        },
        "xaxis10": {
         "anchor": "y10",
         "domain": [
          0,
          1
         ],
         "title": {
          "text": "time/ns"
         }
        },
        "xaxis2": {
         "anchor": "y2",
         "domain": [
          0,
          1
         ],
         "matches": "x10",
         "showticklabels": false
        },
        "xaxis3": {
         "anchor": "y3",
         "domain": [
          0,
          1
         ],
         "matches": "x10",
         "showticklabels": false
        },
        "xaxis4": {
         "anchor": "y4",
         "domain": [
          0,
          1
         ],
         "matches": "x10",
         "showticklabels": false
        },
        "xaxis5": {
         "anchor": "y5",
         "domain": [
          0,
          1
         ],
         "matches": "x10",
         "showticklabels": false
        },
        "xaxis6": {
         "anchor": "y6",
         "domain": [
          0,
          1
         ],
         "matches": "x10",
         "showticklabels": false
        },
        "xaxis7": {
         "anchor": "y7",
         "domain": [
          0,
          1
         ],
         "matches": "x10",
         "showticklabels": false
        },
        "xaxis8": {
         "anchor": "y8",
         "domain": [
          0,
          1
         ],
         "matches": "x10",
         "showticklabels": false
        },
        "xaxis9": {
         "anchor": "y9",
         "domain": [
          0,
          1
         ],
         "matches": "x10",
         "showticklabels": false
        },
        "yaxis": {
         "anchor": "x",
         "domain": [
          0.9179999999999999,
          0.9999999999999999
         ],
         "range": [
          -0.4,
          1.4
         ],
         "showticklabels": false,
         "title": {
          "text": "D0<br>laser"
         }
        },
        "yaxis10": {
         "anchor": "x10",
         "domain": [
          0,
          0.082
         ],
         "range": [
          -1.5,
          1.5
         ],
         "tickfont": {
          "size": 6
         },
         "title": {
          "text": "A1<br>Bx"
         }
        },
        "yaxis2": {
         "anchor": "x2",
         "domain": [
          0.8160000000000001,
          0.898
         ],
         "range": [
          -0.4,
          1.4
         ],
         "showticklabels": false,
         "title": {
          "text": "D1<br>mwswitch"
         }
        },
        "yaxis3": {
         "anchor": "x3",
         "domain": [
          0.7140000000000001,
          0.796
         ],
         "range": [
          -0.4,
          1.4
         ],
         "showticklabels": false,
         "title": {
          "text": "D2<br>rfA"
         }
        },
        "yaxis4": {
         "anchor": "x4",
         "domain": [
          0.6120000000000001,
          0.6940000000000001
         ],
         "range": [
          -0.4,
          1.4
         ],
         "showticklabels": false,
         "title": {
          "text": "D6<br>rfB"
         }
        },
        "yaxis5": {
         "anchor": "x5",
         "domain": [
          0.51,
          0.592
         ],
         "range": [
          -0.4,
          1.4
         ],
         "showticklabels": false,
         "title": {
          "text": "D3<br>sdtrig"
         }
        },
        "yaxis6": {
         "anchor": "x6",
         "domain": [
          0.40800000000000003,
          0.49000000000000005
         ],
         "range": [
          -0.4,
          1.4
         ],
         "showticklabels": false,
         "title": {
          "text": "D4<br>mwA"
         }
        },
        "yaxis7": {
         "anchor": "x7",
         "domain": [
          0.306,
          0.388
         ],
         "range": [
          -0.4,
          1.4
         ],
         "showticklabels": false,
         "title": {
          "text": "D5<br>mwB"
         }
        },
        "yaxis8": {
         "anchor": "x8",
         "domain": [
          0.20400000000000001,
          0.28600000000000003
         ],
         "range": [
          -0.4,
          1.4
         ],
         "showticklabels": false,
         "title": {
          "text": "D7<br>BLK"
         }
        },
        "yaxis9": {
         "anchor": "x9",
         "domain": [
          0.10200000000000001,
          0.184
         ],
         "range": [
          -1.5,
          1.5
         ],
         "tickfont": {
          "size": 6
         },
         "title": {
          "text": "A0<br>Bz"
         }
        }
       }
      }
     },
     "metadata": {},
     "output_type": "display_data"
    }
   ],
   "source": [
    "hm.pg.setSequence(sequence, reset=True)\n",
    "\n",
    "hm.pg.setTrigger(start=TriggerStart.SOFTWARE, rearm=TriggerRearm.MANUAL)\n",
    "hm.pg.plotSeq(plot_all=False)\n"
   ]
  },
  {
   "cell_type": "code",
   "execution_count": 38,
   "id": "6d216b92",
   "metadata": {},
   "outputs": [
    {
     "ename": "KeyboardInterrupt",
     "evalue": "",
     "output_type": "error",
     "traceback": [
      "\u001b[1;31m---------------------------------------------------------------------------\u001b[0m",
      "\u001b[1;31mKeyboardInterrupt\u001b[0m                         Traceback (most recent call last)",
      "Cell \u001b[1;32mIn[38], line 6\u001b[0m\n\u001b[0;32m      4\u001b[0m hm\u001b[38;5;241m.\u001b[39mpg\u001b[38;5;241m.\u001b[39mstartNow()\n\u001b[0;32m      5\u001b[0m \u001b[38;5;28;01mif\u001b[39;00m hm\u001b[38;5;241m.\u001b[39mpg\u001b[38;5;241m.\u001b[39mhasFinished():\n\u001b[1;32m----> 6\u001b[0m     \u001b[43mtime\u001b[49m\u001b[38;5;241;43m.\u001b[39;49m\u001b[43msleep\u001b[49m\u001b[43m(\u001b[49m\u001b[38;5;241;43m1\u001b[39;49m\u001b[43m)\u001b[49m\n\u001b[0;32m      7\u001b[0m     hm\u001b[38;5;241m.\u001b[39mpg\u001b[38;5;241m.\u001b[39mrearm()\n",
      "\u001b[1;31mKeyboardInterrupt\u001b[0m: "
     ]
    }
   ],
   "source": [
    "hm.pg.stream(n_runs=10000)\n",
    "\n",
    "for i in range(100000000):    \n",
    "    hm.pg.startNow()\n",
    "    if hm.pg.hasFinished():\n",
    "        time.sleep(1)\n",
    "        hm.pg.rearm()\n"
   ]
  },
  {
   "cell_type": "code",
   "execution_count": 39,
   "id": "f5368259",
   "metadata": {},
   "outputs": [],
   "source": [
    "hm.pg.forceFinal()\n",
    "hm.pg.reset()"
   ]
  },
  {
   "cell_type": "code",
   "execution_count": null,
   "id": "55d40700",
   "metadata": {},
   "outputs": [],
   "source": []
  }
 ],
 "metadata": {
  "kernelspec": {
   "display_name": "hfnvenv",
   "language": "python",
   "name": "python3"
  },
  "language_info": {
   "codemirror_mode": {
    "name": "ipython",
    "version": 3
   },
   "file_extension": ".py",
   "mimetype": "text/x-python",
   "name": "python",
   "nbconvert_exporter": "python",
   "pygments_lexer": "ipython3",
   "version": "3.10.16"
  }
 },
 "nbformat": 4,
 "nbformat_minor": 5
}
