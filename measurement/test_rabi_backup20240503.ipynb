{
 "cells": [
  {
   "cell_type": "markdown",
   "metadata": {},
   "source": [
    "# apply instruments settings"
   ]
  },
  {
   "cell_type": "code",
   "execution_count": 1,
   "metadata": {},
   "outputs": [],
   "source": [
    "import time\n",
    "import sys\n",
    "import os\n",
    "path_project = \"\\\\\".join(os.getcwd().split(\"\\\\\")[:-1])\n",
    "# caution: path[0] is reserved for script path (or '' in REPL)\n",
    "sys.path.insert(1, path_project)\n",
    "\n",
    "from hardware.pulser.pulser import PulseGenerator, OutputState, TriggerStart, TriggerRearm, HIGH, LOW, INF\n",
    "from hardware.laser.laser import LaserControl\n",
    "from hardware.mw.mwsynthesizer import Synthesizer\n",
    "\n",
    "from hardware import config_custom as hdc\n",
    "\n",
    "import nidaqmx\n",
    "from nidaqmx.constants import TerminalConfiguration, VoltageUnits, Edge, AcquisitionType, READ_ALL_AVAILABLE\n",
    "# from nidaqmx.constants import LogicFamily \n",
    "# TWO_POINT_FIVE_V, THREE_POINT_THREE_V, FIVE_V\n",
    "# from nidaqmx import stream_readers \n",
    "from nidaqmx.stream_readers import AnalogSingleChannelReader\n",
    "\n",
    "import numpy as np\n",
    "import matplotlib.pyplot as plt"
   ]
  },
  {
   "cell_type": "code",
   "execution_count": 2,
   "metadata": {},
   "outputs": [
    {
     "name": "stdout",
     "output_type": "stream",
     "text": [
      "Connect to Pulse Streamer via JSON-RPC.\n",
      "IP / Hostname: 169.254.8.2\n",
      "Pulse Streamer 8/2 firmware: v1.7.2\n",
      "Client software: v1.7.0\n",
      "VDI Sythesizer Serail Port Open\n"
     ]
    }
   ],
   "source": [
    "# connect to devices\n",
    "pg  = PulseGenerator(ip=hdc.PS_IP, chmap=hdc.PS_chmap) \n",
    "mwsyn = Synthesizer(hdc.VDISYN_SN, \n",
    "                    vidpid=hdc.VDISYN_VIDPID,\n",
    "                    baudrate=hdc.VDISYN_BAUD, \n",
    "                    timeout=5, \n",
    "                    write_timeout=5)\n",
    "# mwsyn.reboot()\n",
    "laser = LaserControl(hdc.LASER_SN)\n",
    "laser.open()\n",
    "# mwsyn.close()\n",
    "# laser.close()\n"
   ]
  },
  {
   "cell_type": "markdown",
   "metadata": {},
   "source": [
    "# Set parameters"
   ]
  },
  {
   "cell_type": "code",
   "execution_count": 438,
   "metadata": {},
   "outputs": [],
   "source": [
    "current_percent = 99.09\n",
    "laser.laser_off()\n",
    "laser.set_analog_control_mode(\"current\")\n",
    "laser.set_modulation_state(\"Pulsed\")\n",
    "laser.set_diode_current(current_percent, save_memory=False)"
   ]
  },
  {
   "cell_type": "code",
   "execution_count": 30,
   "metadata": {},
   "outputs": [],
   "source": [
    "# laserpower = 145.0\n",
    "# laser.laser_off()\n",
    "# laser.set_analog_control_mode(\"power\")\n",
    "# laser.set_modulation_state(\"CW\")\n",
    "# laser.set_laser_power(laserpower, save_memory=False)\n",
    "# laser.laser_on()"
   ]
  },
  {
   "cell_type": "code",
   "execution_count": 202,
   "metadata": {},
   "outputs": [
    {
     "name": "stdout",
     "output_type": "stream",
     "text": [
      "CW Freqeuncy Setting Sent:16.606698855757713 GHz\n",
      "Actual Output CW Freqeuncy :16.606698855757713 GHz\n"
     ]
    }
   ],
   "source": [
    "f_NVguess = 398.5607725381851\n",
    "freq = f_NVguess/24.0\n",
    "# freq = 380/24.0\n",
    "errorbyte, freq_actual = mwsyn.cw_frequency(freq)\n",
    "print(f\"CW Freqeuncy Setting Sent:{freq} GHz\")\n",
    "print(f\"Actual Output CW Freqeuncy :{freq_actual} GHz\")"
   ]
  },
  {
   "cell_type": "code",
   "execution_count": 534,
   "metadata": {},
   "outputs": [],
   "source": [
    "tenmhz = 10.00/1E3 # GHz\n",
    "laser_init = 1000.0\n",
    "wait_init = 600.0\n",
    "mw_dur_start = 10.0\n",
    "mw_dur_stop = 1500.0\n",
    "mw_dur_step = 5.0\n",
    "mw_dur = np.arange(mw_dur_start, mw_dur_stop+mw_dur_step, mw_dur_step)\n",
    "wait_read = 100.0\n",
    "laser_read = 800.0\n",
    "\n",
    "# here is to fix the timing\n",
    "totaltime_max = laser_init+wait_init+mw_dur_stop+wait_read+laser_read\n",
    "tenmhzmultiple = int(tenmhz*totaltime_max)\n",
    "sampling_rate = tenmhz/tenmhzmultiple\n",
    "padding_fix = totaltime_max-1/sampling_rate\n",
    "padding = padding_fix+mw_dur_stop-mw_dur # depends on MW duration\n",
    "num_pt = len(mw_dur)"
   ]
  },
  {
   "cell_type": "code",
   "execution_count": 535,
   "metadata": {},
   "outputs": [],
   "source": [
    "clockmultiple = 1\n",
    "clock_rate = clockmultiple*sampling_rate #GHz\n",
    "daq_offset = 1.0/clock_rate*1.0\n",
    "delaydiff = 200.0\n",
    "readoffset = 350.0\n",
    "daqpadding = laser_read - delaydiff - readoffset\n",
    "# daqpadding = 1.0/clock_rate*1.0\n",
    "# daqpadding = int(clock_rate*(1.0/sampling_rate-(laser_read-250.0)))/clock_rate\n",
    "# daqpadding = 0.0\n",
    "daqtrigdelay = 1.0/clock_rate*0.0\n",
    "seq_daqtrig = [(daq_offset - daqpadding, LOW)] + [(100.0/clock_rate, HIGH), (1.0/clock_rate*(num_pt*2*clockmultiple-100)-daqpadding-daq_offset, LOW)] + [(daqtrigdelay,LOW)]\n",
    "# seq_clock = [(0.5/clock_rate, HIGH),(0.5/clock_rate, LOW)]*(num_pt*2*clockmultiple+int(daqpadding*clock_rate))\n",
    "# seq_clock = [(daqpadding, LOW)] + [(0.5/clock_rate, HIGH),(0.5/clock_rate, LOW)]*(num_pt*2*clockmultiple)\n",
    "seq_clock = [(0.5/clock_rate-daqpadding, HIGH), (0.5/clock_rate, LOW)] + [(0.5/clock_rate, HIGH),(0.5/clock_rate, LOW)]*(num_pt*2*clockmultiple+int(daqtrigdelay*clock_rate)-1) + [(daqpadding, HIGH)]\n",
    "# seq_clock = [(0.5/clock_rate, HIGH),(0.5/clock_rate, LOW)]\n",
    "\n",
    "seq_laser = []\n",
    "seq_mwA = []\n",
    "skip = 0\n",
    "# for mwd, pd in zip(mw_dur, padding):\n",
    "for ii in range(len(mw_dur)-skip):\n",
    "    mwd = mw_dur[ii]\n",
    "    pd = padding[ii]\n",
    "    seq_laser_sub = [(padding_fix+pd, LOW), (laser_init, LOW), (wait_init, LOW), (mwd, LOW), (wait_read, LOW), (laser_read, HIGH)]\n",
    "    seq_laser_sub_alloff = [(padding_fix+pd, LOW), (laser_init, LOW), (wait_init, LOW), (mwd, LOW), (wait_read, LOW), (laser_read, LOW)]\n",
    "    seq_mwA_sub = [(padding_fix+pd, LOW), (laser_init, LOW), (wait_init, LOW), (mwd, HIGH), (wait_read, LOW), (laser_read, LOW)]\n",
    "    seq_mwA_noMW_sub = [(padding_fix+pd, LOW), (laser_init, LOW), (wait_init, LOW), (mwd, LOW), (wait_read, LOW), (laser_read, LOW)]\n",
    "    # seq_laser_sub = [(laser_init, HIGH), (wait_init, LOW), (mwd, LOW), (wait_read, LOW), (laser_read, HIGH), (pd, LOW)]\n",
    "    # seq_mwA_sub = [(laser_init, LOW), (wait_init, LOW), (mwd, HIGH), (wait_read, LOW), (laser_read, LOW), (pd, LOW)]\n",
    "    # seq_mwA_noMW_sub = [(laser_init, LOW), (wait_init, LOW), (mwd, LOW), (wait_read, LOW), (laser_read, LOW), (pd, LOW)]\n",
    "\n",
    "    seq_laser += seq_laser_sub*2\n",
    "    seq_mwA += seq_mwA_sub + seq_mwA_noMW_sub\n",
    "    # seq_mwA += seq_mwA_noMW_sub + seq_mwA_noMW_sub\n",
    "    # seq_mwA += seq_mwA_sub + seq_mwA_sub\n",
    "seq_laser += (seq_laser_sub_alloff + seq_laser_sub_alloff)*skip\n",
    "seq_mwA += (seq_mwA_noMW_sub + seq_mwA_noMW_sub)*skip\n",
    "\n",
    "seq_laser = [(daqtrigdelay,LOW)] + seq_laser\n",
    "# seq_laser = [(0.5/clock_rate, HIGH),(0.5/clock_rate, HIGH)]*(num_pt*2*clockmultiple+int(daqtrigdelay*clock_rate))\n",
    "seq_mwA = [(daqtrigdelay,LOW)] + seq_mwA\n",
    "# seq_laser += [(daqpadding, LOW)]\n",
    "# seq_mwA += [(daqpadding, LOW)]\n",
    "\n",
    "\n",
    "rrr = 8\n",
    "pg.setDigital(\"laser\", seq_laser*rrr)\n",
    "pg.setDigital(\"mw_A\", seq_mwA*rrr)\n",
    "# pg.setDigital(\"laser\", seq_mwA)\n",
    "# pg.setDigital(\"mw_A\", seq_laser)\n",
    "pg.setDigital(\"daqtrig\", seq_daqtrig*rrr)\n",
    "pg.setDigital(\"clock\", seq_clock*rrr)\n",
    "pg.setTrigger(start=TriggerStart.SOFTWARE, rearm=TriggerRearm.MANUAL)"
   ]
  },
  {
   "cell_type": "code",
   "execution_count": 537,
   "metadata": {},
   "outputs": [],
   "source": [
    "# signal reading parameters\n",
    "min_volt = -0.005 # [V]\n",
    "max_volt = 0.03\n",
    "samplerate_read = sampling_rate*1E9 # 500kHz .max ext clock rate of NI6343, check it by yourself!\n",
    "basetime = 1.0/samplerate_read\n",
    "num_readsample = num_pt*2\n",
    "timeout_read = max(num_readsample/samplerate_read, 10)\n",
    "buffer_readpoint = np.zeros(num_readsample, dtype=np.float64, order='C')\n",
    "\n",
    "readtask = nidaqmx.Task(\"readsignal\")\n",
    "# readtask.close()\n",
    "readtask.ai_channels.add_ai_voltage_chan(\n",
    "            hdc.NI_ch_APD,\"\",\n",
    "            # TerminalConfiguration.RSE,\n",
    "            TerminalConfiguration.DIFF,\n",
    "            min_volt,max_volt,\n",
    "            VoltageUnits.VOLTS\n",
    "        )\n",
    "# readtask.timing.cfg_samp_clk_timing(samplerate_read, source=\"\", active_edge=Edge.RISING, sample_mode=AcquisitionType.FINITE, samps_per_chan=num_readsample)\n",
    "readtask.timing.cfg_samp_clk_timing(\n",
    "    samplerate_read, \n",
    "    source=hdc.NI_ch_Clock, \n",
    "    active_edge=Edge.RISING, \n",
    "    sample_mode=AcquisitionType.FINITE, \n",
    "    samps_per_chan=num_readsample)\n",
    "read_trig = readtask.triggers.start_trigger\n",
    "read_trig.cfg_dig_edge_start_trig(hdc.NI_ch_Trig, Edge.RISING)\n",
    "\n",
    "reader = AnalogSingleChannelReader(readtask.in_stream)\n",
    "reader.read_all_avail_samp  = True"
   ]
  },
  {
   "cell_type": "code",
   "execution_count": 536,
   "metadata": {},
   "outputs": [],
   "source": [
    "readtask.close()"
   ]
  },
  {
   "cell_type": "markdown",
   "metadata": {},
   "source": [
    "# Start measurement\n"
   ]
  },
  {
   "cell_type": "code",
   "execution_count": 449,
   "metadata": {},
   "outputs": [],
   "source": [
    "laser.laser_on() # turn off laser"
   ]
  },
  {
   "cell_type": "code",
   "execution_count": 539,
   "metadata": {},
   "outputs": [],
   "source": [
    "pg.stream(n_runs=INF)\n",
    "pg.startNow()\n",
    "# signal = np.zeros(num_pt)\n",
    "# background = np.zeros(num_pt)\n",
    "# repeat measurement\n",
    "num_repeat = 50000\n",
    "signal_av = np.zeros(num_pt, dtype=np.float64, order='C')\n",
    "background_av = np.zeros(num_pt, dtype=np.float64, order='C')\n",
    "\n",
    "for kkk in range(num_repeat):\n",
    "    readtask.start() # ready to read data\n",
    "    num_read = reader.read_many_sample(\n",
    "            buffer_readpoint,\n",
    "            num_readsample,\n",
    "            timeout_read\n",
    "        )\n",
    "    readtask.wait_until_done(timeout=timeout_read) # block the code below, optional\n",
    "    readtask.stop()\n",
    "    # laser.laser_off()\n",
    "    # readtask.close()\n",
    "    signal_av += np.copy(buffer_readpoint[0::2])\n",
    "    background_av += np.copy(buffer_readpoint[1::2])\n",
    "signal_av = signal_av/num_repeat\n",
    "background_av = background_av/num_repeat\n",
    "contrast = (signal_av-background_av)/background_av\n",
    "\n",
    "fig, ax1 = plt.subplots()\n",
    "ax2 = ax1.twinx()\n",
    "# ax1.plot(mw_dur, signal_av*1E3, linewidth=0.5, label=\"signal\", color=\"orange\")\n",
    "# ax1.plot(mw_dur, background_av*1E3, linewidth=0.5, label=\"ref\", color=\"green\")\n",
    "# ax2.plot(mw_dur, contrast*100.0, linewidth=2, label=\"contrast\", color='royalblue')\n",
    "idxstart = 0\n",
    "idxend = len(mw_dur)\n",
    "ax1.plot(mw_dur[idxstart:idxend], signal_av[idxstart:idxend]*1E3, linewidth=0.5, label=\"signal\", color=\"orange\")\n",
    "ax1.plot(mw_dur[idxstart:idxend], background_av[idxstart:idxend]*1E3, linewidth=0.5, label=\"ref\", color=\"green\")\n",
    "ax2.plot(mw_dur[idxstart:], contrast[idxstart:]*100.0, linewidth=2, label=\"contrast\", color='royalblue')\n",
    "\n",
    "ax1.set_xlabel(\"MW time [ns]\")\n",
    "ax1.set_ylabel(\"PL [mV]\")\n",
    "ax2.set_ylabel(\"Contrast [%]\", color='royalblue')\n",
    "ax1.legend(loc='best')\n",
    "plt.title(\"Rabi (ms=0 to +1)\")\n",
    "plt.show()"
   ]
  },
  {
   "cell_type": "code",
   "execution_count": 88,
   "metadata": {},
   "outputs": [
    {
     "data": {
      "image/png": "[encoded data removed]",
      "text/plain": [
       "<Figure size 640x480 with 1 Axes>"
      ]
     },
     "metadata": {},
     "output_type": "display_data"
    }
   ],
   "source": [
    "import matplotlib.pyplot as plt\n",
    "\n",
    "# plt.plot(mw_dur, signal_av, label=\"signal\")\n",
    "# plt.plot(mw_dur, background_av, label=\"ref\")\n",
    "plt.plot(mw_dur, contrast, label=\"contrast\")\n",
    "plt.xlabel(\"time [ns]\")\n",
    "plt.ylabel(\"a.u.\")\n",
    "plt.legend()\n",
    "plt.show()"
   ]
  },
  {
   "cell_type": "markdown",
   "metadata": {},
   "source": []
  },
  {
   "cell_type": "code",
   "execution_count": 87,
   "metadata": {},
   "outputs": [],
   "source": [
    "np.savetxt('output\\\\rabi_initwait10us_(timens_signal_background)_20240430.txt', np.c_[mw_dur, signal_av, background_av])"
   ]
  },
  {
   "cell_type": "code",
   "execution_count": null,
   "metadata": {},
   "outputs": [
    {
     "name": "stderr",
     "output_type": "stream",
     "text": [
      "c:\\ProgramData\\miniconda3\\envs\\hfnvenv\\lib\\site-packages\\nidaqmx\\task.py:355: ResourceWarning: Attempted to close NI-DAQmx task of name \"readsignal\" but task was already closed.\n",
      "  warnings.warn(\n"
     ]
    }
   ],
   "source": [
    "pg.constant(OutputState.ZERO())\n",
    "laser.laser_off() # turn off laser\n",
    "readtask.close()\n",
    "# mwsyn.reboot()"
   ]
  },
  {
   "cell_type": "code",
   "execution_count": 406,
   "metadata": {},
   "outputs": [
    {
     "name": "stdout",
     "output_type": "stream",
     "text": [
      "MW Synthesizer Rebooted!\n"
     ]
    }
   ],
   "source": [
    "mwsyn.reboot()"
   ]
  },
  {
   "cell_type": "code",
   "execution_count": 48,
   "metadata": {},
   "outputs": [],
   "source": [
    "# close the communication\n",
    "laser.close()\n",
    "mwsyn.close()\n",
    "pg.reset()"
   ]
  },
  {
   "cell_type": "code",
   "execution_count": null,
   "metadata": {},
   "outputs": [],
   "source": []
  }
 ],
 "metadata": {
  "kernelspec": {
   "display_name": "hfnvenv",
   "language": "python",
   "name": "python3"
  },
  "language_info": {
   "codemirror_mode": {
    "name": "ipython",
    "version": 3
   },
   "file_extension": ".py",
   "mimetype": "text/x-python",
   "name": "python",
   "nbconvert_exporter": "python",
   "pygments_lexer": "ipython3",
   "version": "3.10.14"
  }
 },
 "nbformat": 4,
 "nbformat_minor": 2
}
