{
    "cells": [
        {
            "cell_type": "code",
            "execution_count": 1,
            "id": "14b4da12",
            "metadata": {},
            "outputs": [],
            "source": [
                "import time\n",
                "import sys\n",
                "import os\n",
                "path_project = \"\\\\\".join(os.getcwd().split(\"\\\\\")[:-1])\n",
                "# caution: path[0] is reserved for script path (or '' in REPL)\n",
                "sys.path.insert(1, path_project)\n",
                "\n",
                "from hardware.pulser.pulser import PulseGenerator, OutputState, TriggerStart, TriggerRearm, HIGH, LOW, INF\n",
                "from hardware.laser.laser import LaserControl\n",
                "from hardware.mw.mwsynthesizer import Synthesizer\n",
                "\n",
                "from hardware import config as hcf\n",
                "\n",
                "import nidaqmx\n",
                "from nidaqmx.constants import TerminalConfiguration, VoltageUnits, Edge, AcquisitionType, READ_ALL_AVAILABLE\n",
                "# from nidaqmx.constants import LogicFamily \n",
                "# TWO_POINT_FIVE_V, THREE_POINT_THREE_V, FIVE_V\n",
                "# from nidaqmx import stream_readers \n",
                "# from nidaqmx.stream_readers import AnalogSingleChannelReader\n",
                "\n",
                "\n",
                "import numpy as np\n",
                "from windfreak import SynthHD\n",
                "from math import floor\n",
                "import time"
            ]
        },
        {
            "cell_type": "code",
            "execution_count": 5,
            "id": "b37f56a1",
            "metadata": {},
            "outputs": [
                {
                    "name": "stdout",
                    "output_type": "stream",
                    "text": [
                        "Connect to Pulse Streamer via JSON-RPC.\n",
                        "IP / Hostname: 192.168.1.26\n",
                        "Pulse Streamer 8/2 firmware: v1.7.2\n",
                        "Client software: v1.7.0\n"
                    ]
                }
            ],
            "source": [
                "pg  = PulseGenerator(ip=hcf.PS_IP, chmap=hcf.PS_chmap) \n"
            ]
        },
        {
            "cell_type": "code",
            "execution_count": 2,
            "id": "e91cbe57",
            "metadata": {},
            "outputs": [],
            "source": [
                "synth = SynthHD('COM4')\n",
                "synth.init()\n",
                "ch = synth[0]  "
            ]
        },
        {
            "cell_type": "code",
            "execution_count": 6,
            "id": "84295fbe",
            "metadata": {},
            "outputs": [],
            "source": [
                "pg.reset()"
            ]
        },
        {
            "cell_type": "code",
            "execution_count": 13,
            "id": "b9a34a34",
            "metadata": {},
            "outputs": [
                {
                    "data": {
                        "text/plain": [
                            "0"
                        ]
                    },
                    "execution_count": 13,
                    "metadata": {},
                    "output_type": "execute_result"
                }
            ],
            "source": [
                "mw_trigger=[(1e9,HIGH),(1e9,LOW)]\n",
                "# mw_trigger=[(1e9,HIGH),(1e9+10000,LOW)]*10\n",
                "pg.setDigital(\"mwswitch\", mw_trigger)\n",
                "# pg.setDigital(\"mwswitch\", mw_trigger)\n",
                "pg.setTrigger(TriggerStart.SOFTWARE, rearm=TriggerRearm.AUTO)\n",
                "REPEAT_INFINITELY = -1\n",
                "# pg.stream(n_runs=1)\n",
                "pg.plotSeq(plot_all=False)\n",
                "pg.stream(n_runs=-1)\n",
                "pg.startNow()"
            ]
        },
        {
            "cell_type": "code",
            "execution_count": 14,
            "id": "3758abf7",
            "metadata": {},
            "outputs": [],
            "source": [
                "# Set channel 0 power and frequency\n",
                "synth[0].power = 10\n",
                "synth[0].frequency = 400*1e6\n",
                "synth[0].phase=0\n",
                "# Enable channel 0\n",
                "synth[0].enable = True\n",
                "\n",
                "synth.enable=True\n",
                "  "
            ]
        },
        {
            "cell_type": "code",
            "execution_count": 7,
            "id": "16c9bccc",
            "metadata": {},
            "outputs": [],
            "source": [
                "# # 5/5/25 working copy \n",
                "# synth[0].power = -80 #dbm \n",
                "\n",
                "# # Disable pulsing -- need to reset from previoius trial run \n",
                "# # ch.write('pulse_cont', False)\n",
                "# # # ch.write('pulse_single', 0)\n",
                "# # ch.write('pulse_num_rep', 0)\n",
                "# # ch.write('pulse_on_time', 0)\n",
                "# # ch.write('pulse_off_time', 0)\n",
                "\n",
                "\n",
                "# ch.write('frequency',400)\n",
                "# ch.write('sweep_freq_low', 400)\n",
                "# ch.write('sweep_freq_high', 600)\n",
                "# ch.write('sweep_freq_step', 25)\n",
                "# ch.write('sweep_time_step', 100)\n",
                "# ch.write('sweep_power_low', 0)\n",
                "# ch.write('sweep_power_high', 0)\n",
                "# ch.write('sweep_direction', 1)\n",
                "# ch.write('sweep_diff_freq', 0)\n",
                "# ch.write('sweep_diff_meth', 0)\n",
                "# ch.write('sweep_type', 0)\n",
                "# ch.write('sweep_cont', False)\n",
                "# ch.write('sweep_single', True)\n",
                "# # ch.write('trigger_polarity', 0)\n",
                "# synth.enable_trigger=2 # 0 = software 1 = sweep 2 = step 3 = hold all \n",
                "# synth.trigger_polarity=1 # active low = 0,  active high = 1\n",
                "# synth.trigger_mode=\"single frequency step\"\n",
                " \n",
                "# # synth.rf_enable = True # not necessary\n",
                "# # ch.rf_enable = True # not necessary\n",
                "\n",
                "# ch.enable = True \n",
                "# synth.enable=True\n",
                "# # synth.sweep_enable = True 3 not necessary either \n",
                "# # ch.sweep_enable = True"
            ]
        },
        {
            "cell_type": "code",
            "execution_count": null,
            "id": "a192a313",
            "metadata": {},
            "outputs": [],
            "source": []
        },
        {
            "cell_type": "code",
            "execution_count": 7,
            "id": "d9437128",
            "metadata": {},
            "outputs": [
                {
                    "data": {
                        "text/plain": [
                            "0"
                        ]
                    },
                    "execution_count": 7,
                    "metadata": {},
                    "output_type": "execute_result"
                }
            ],
            "source": [
                "ch.enable = False\n",
                "synth.enable=False\n",
                "pg.forceFinal()"
            ]
        },
        {
            "cell_type": "code",
            "execution_count": null,
            "id": "909d4082",
            "metadata": {},
            "outputs": [],
            "source": []
        }
    ],
    "metadata": {
        "kernelspec": {
            "display_name": "Python 3",
            "language": "python",
            "name": "python3"
        },
        "language_info": {
            "codemirror_mode": {
                "name": "ipython",
                "version": 3
            },
            "file_extension": ".py",
            "mimetype": "text/x-python",
            "name": "python",
            "nbconvert_exporter": "python",
            "pygments_lexer": "ipython3",
            "version": "3.10.16"
        }
    },
    "nbformat": 4,
    "nbformat_minor": 5
}