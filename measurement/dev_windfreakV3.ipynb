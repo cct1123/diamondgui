{
    "cells": [
        {
            "cell_type": "code",
            "execution_count": 1,
            "id": "a8fac364",
            "metadata": {},
            "outputs": [],
            "source": [
                "import numpy as np\n",
                "import math\n",
                "from functools import reduce\n",
                "import time\n",
                "import sys\n",
                "import os\n",
                "import numpy as np\n",
                "\n",
                "path_project = \"\\\\\".join(os.getcwd().split(\"\\\\\")[:-1])\n",
                "# caution: path[0] is reserved for script path (or '' in REPL)\n",
                "sys.path.insert(1, path_project)\n",
                "from pathlib import Path\n",
                "import nidaqmx\n",
                "\n"
            ]
        },
        {
            "cell_type": "code",
            "execution_count": 2,
            "id": "eb59a017",
            "metadata": {},
            "outputs": [
                {
                    "name": "stdout",
                    "output_type": "stream",
                    "text": [
                        "Connect to Pulse Streamer via JSON-RPC.\n",
                        "IP / Hostname: 192.168.1.26\n",
                        "Pulse Streamer 8/2 firmware: v1.7.2\n",
                        "Client software: v1.7.0\n"
                    ]
                }
            ],
            "source": [
                "import nidaqmx\n",
                "from nidaqmx.constants import TerminalConfiguration, VoltageUnits, Edge, AcquisitionType, READ_ALL_AVAILABLE\n",
                "from nidaqmx.stream_readers import AnalogSingleChannelReader\n",
                "\n",
                "from hardware import config as hcf\n",
                "from hardware.hardwaremanager import HardwareManager\n",
                "\n",
                "hm = HardwareManager()\n",
                "# adds synthesizer, laser, and pulse generator \n",
                "hm.add_default_hardware()\n"
            ]
        },
        {
            "cell_type": "code",
            "execution_count": 3,
            "id": "86b5b963",
            "metadata": {},
            "outputs": [],
            "source": [
                "hm.windfreak.set_freq(10000000.0)\n",
                "hm.windfreak.enable_output()"
            ]
        },
        {
            "cell_type": "code",
            "execution_count": 4,
            "id": "9c37ed00",
            "metadata": {},
            "outputs": [],
            "source": [
                "hm.windfreak.set_power(-40)\n"
            ]
        },
        {
            "cell_type": "code",
            "execution_count": 6,
            "id": "091dc4ec",
            "metadata": {},
            "outputs": [],
            "source": [
                "hm.windfreak.set_freq(0.6*1e9)"
            ]
        },
        {
            "cell_type": "code",
            "execution_count": null,
            "id": "6aaef3b0",
            "metadata": {},
            "outputs": [],
            "source": [
                "hm.windfreak.disable_output()\n"
            ]
        },
        {
            "cell_type": "code",
            "execution_count": null,
            "id": "3cd1f63a",
            "metadata": {},
            "outputs": [],
            "source": [
                "hm.windfreak.read_channel(\"power\")"
            ]
        },
        {
            "cell_type": "code",
            "execution_count": null,
            "id": "96ec5514",
            "metadata": {},
            "outputs": [],
            "source": [
                "hm.windfreak.set_phase(20,0,\"OFF\")"
            ]
        },
        {
            "cell_type": "code",
            "execution_count": null,
            "id": "61edc686",
            "metadata": {},
            "outputs": [],
            "source": [
                "hm.windfreak.read_channel(\"phase\")"
            ]
        },
        {
            "cell_type": "code",
            "execution_count": null,
            "id": "9136ce3d",
            "metadata": {},
            "outputs": [],
            "source": []
        }
    ],
    "metadata": {
        "kernelspec": {
            "display_name": "hfnvenv",
            "language": "python",
            "name": "python3"
        },
        "language_info": {
            "codemirror_mode": {
                "name": "ipython",
                "version": 3
            },
            "file_extension": ".py",
            "mimetype": "text/x-python",
            "name": "python",
            "nbconvert_exporter": "python",
            "pygments_lexer": "ipython3",
            "version": "3.10.16"
        }
    },
    "nbformat": 4,
    "nbformat_minor": 5
}
