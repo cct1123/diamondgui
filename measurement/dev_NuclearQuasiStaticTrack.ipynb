{
 "cells": [
  {
   "cell_type": "code",
   "execution_count": 41,
   "id": "36622a51",
   "metadata": {},
   "outputs": [],
   "source": [
    "import time\n",
    "import sys\n",
    "import os\n",
    "path_project = \"\\\\\".join(os.getcwd().split(\"\\\\\")[:-1])\n",
    "# caution: path[0] is reserved for script path (or '' in REPL)\n",
    "sys.path.insert(1, path_project)\n",
    "\n",
    "from hardware.hardwaremanager import HardwareManager\n",
    "from hardware.pulser.pulser import OutputState, TriggerRearm, TriggerStart\n",
    "from hardware import config as hcf\n",
    "\n",
    "import numpy as np\n",
    "import matplotlib.pyplot as plt"
   ]
  },
  {
   "cell_type": "code",
   "execution_count": 42,
   "id": "ac05a890",
   "metadata": {},
   "outputs": [],
   "source": [
    "from logmodule import setup_logging\n",
    "setup_logging()\n",
    "import logging\n",
    "logger = logging.getLogger(__name__)"
   ]
  },
  {
   "cell_type": "code",
   "execution_count": 43,
   "id": "78a1bda5",
   "metadata": {},
   "outputs": [
    {
     "name": "stderr",
     "output_type": "stream",
     "text": [
      "2025-07-24 21:35:17 INFO hardwaremanager MainThread: Hardware VDISource is already loaded.\n",
      "2025-07-24 21:35:17 INFO hardwaremanager MainThread: Hardware WindfreakSynth is already loaded.\n",
      "2025-07-24 21:35:17 INFO hardwaremanager MainThread: Hardware MWPowerMeter is already loaded.\n",
      "2025-07-24 21:35:17 INFO hardwaremanager MainThread: Hardware LaserControl is already loaded.\n",
      "2025-07-24 21:35:17 INFO hardwaremanager MainThread: Hardware PulseGenerator is already loaded.\n",
      "2025-07-24 21:35:17 INFO hardwaremanager MainThread: Hardware FIFO_DataAcquisition is already loaded.\n",
      "2025-07-24 21:35:17 INFO hardwaremanager MainThread: Hardware CameraController is already loaded.\n",
      "2025-07-24 21:35:17 INFO hardwaremanager MainThread: Hardware WhiteLight is already loaded.\n",
      "2025-07-24 21:35:17 INFO hardwaremanager MainThread: Hardware initialization process has finished.\n"
     ]
    }
   ],
   "source": [
    "hw = HardwareManager()\n",
    "hw.add_default_hardware()"
   ]
  },
  {
   "cell_type": "code",
   "execution_count": 44,
   "id": "4f98ad71",
   "metadata": {},
   "outputs": [],
   "source": [
    "def seqtime(seq_tb):\n",
    "    \"\"\"\"calculate the sequence total time\"\"\"\n",
    "    return np.sum([pulse[-1] for pulse in seq_tb])\n",
    "\n",
    "def slice_average(data: np.ndarray, signal_range: tuple[int, int]) -> np.ndarray:\n",
    "    \"\"\"\n",
    "    Computes the mean over a specified signal range for each row.\n",
    "\n",
    "    Parameters:\n",
    "        data (np.ndarray): 2D array (rows = segments, columns = samples).\n",
    "        signal_range (tuple[int, int]): (start, end) index range (exclusive end).\n",
    "\n",
    "    Returns:\n",
    "        np.ndarray: 1D array of row-wise means over the signal range.\n",
    "    \"\"\"\n",
    "    start, end = signal_range\n",
    "    return np.mean(data[:, start:end], axis=1)\n",
    "\n",
    "\n",
    "def slice_average_offset(\n",
    "    data: np.ndarray, signal_range: tuple[int, int], background_range: tuple[int, int]\n",
    ") -> np.ndarray:\n",
    "    \"\"\"\n",
    "    Computes the mean over a signal range minus the mean over a background range.\n",
    "\n",
    "    Parameters:\n",
    "        data (np.ndarray): 2D array (rows = segments, columns = samples).\n",
    "        signal_range (tuple[int, int]): (start, end) index range for the signal.\n",
    "        background_range (tuple[int, int]): (start, end) index range for the background.\n",
    "\n",
    "    Returns:\n",
    "        np.ndarray: 1D array of background-subtracted signal means.\n",
    "    \"\"\"\n",
    "    signal = slice_average(data, signal_range)\n",
    "    background = slice_average(data, background_range)\n",
    "    return signal - background\n",
    "\n",
    "\n",
    "def weighted_average(data: np.ndarray, weight_fn: callable) -> np.ndarray:\n",
    "    \"\"\"\n",
    "    Computes the weighted average over all columns using a custom weight function.\n",
    "\n",
    "    Parameters:\n",
    "        data (np.ndarray): 2D array (rows = segments, columns = samples).\n",
    "        weight_fn (callable): Function that maps indices (np.arange) to weights.\n",
    "\n",
    "    Returns:\n",
    "        np.ndarray: 1D array of weighted averages per row.\n",
    "    \"\"\"\n",
    "    indices = np.arange(data.shape[1])\n",
    "    weights = weight_fn(indices)\n",
    "    weights = weights / np.sum(weights)\n",
    "    return np.average(data, axis=1, weights=weights)\n",
    "\n",
    "\n",
    "def weighted_average_offset(\n",
    "    data: np.ndarray, signal_weight_fn: callable, background_range: tuple[int, int]\n",
    ") -> np.ndarray:\n",
    "    \"\"\"\n",
    "    Computes the weighted average of a signal region minus the mean over a background slice.\n",
    "\n",
    "    Parameters:\n",
    "        data (np.ndarray): 2D array (rows = segments, columns = samples).\n",
    "        signal_weight_fn (callable): Weight function over all columns for the signal.\n",
    "        background_range (tuple[int, int]): (start, end) index range for background.\n",
    "\n",
    "    Returns:\n",
    "        np.ndarray: 1D array of background-subtracted weighted averages.\n",
    "    \"\"\"\n",
    "    signal = weighted_average(data, signal_weight_fn)\n",
    "    background = slice_average(data, background_range)\n",
    "    return signal - background\n",
    "\n"
   ]
  },
  {
   "cell_type": "code",
   "execution_count": 45,
   "id": "f2b65221",
   "metadata": {},
   "outputs": [],
   "source": [
    "T_PREUNBLK_MIN = 1000  #  1us mini pre-unblanking time\n",
    "T_UNBLK_MAX = 300e6  # max unblanking time for the amplifier is 300ms\n",
    "T_PREUNBLK = T_PREUNBLK_MIN + 500  #  we use 1.5us pre-unblanking time"
   ]
  },
  {
   "cell_type": "code",
   "execution_count": 46,
   "id": "b8e511b0",
   "metadata": {},
   "outputs": [],
   "source": [
    "hw.whitelight.set_voltage(0.0)"
   ]
  },
  {
   "cell_type": "code",
   "execution_count": 47,
   "id": "081b64ed",
   "metadata": {},
   "outputs": [],
   "source": [
    "stateset = dict(\n",
    "    priority=0,\n",
    "    state=\"\",\n",
    "    tokeep=False,\n",
    "    time_run=0,\n",
    "    time_stop=120,\n",
    "    idx_run=0,\n",
    "    num_run=9999999,\n",
    "    rate_refresh=10)\n",
    "\n",
    "paraset = dict(\n",
    "            rate_refresh=10.0,\n",
    "            # --------------------\n",
    "            laser_current=60.0,  # percentage\n",
    "            mw_freq=392.8488,  # GHz\n",
    "            mw_powervolt=5.0,  # voltage 0.0 to 5.0\n",
    "            mw_phasevolt=0.0,  # voltage 0.0 to 5.0\n",
    "            rf_set=False,  # set the RF manually before running the measurement\n",
    "            # rf_a_amp=0.5,  # amplitude for rf A\n",
    "            # rf_b_amp=0.5,  # amplitude for rf B\n",
    "            # rf_a_freq=600.8,  # MHz\n",
    "            # rf_b_freq=600.8,  # MHz\n",
    "            # rf_a_phase=0.0,  # phase for rf A\n",
    "            # rf_b_phase=0.0,  # phase for rf B\n",
    "            amp_input=1000,  # input amplitude for digitizer\n",
    "\n",
    "            # -------------------\n",
    "            n_track=1000,  # number of tracks\n",
    "            # -------------------\n",
    "            t_prep_laser=250.0,  # laser time in the preparation phase in a track\n",
    "            t_prep_isc=250.0,  # wait time for ISC in the preparation phase in a track\n",
    "            n_prep_lpul=100,  # number of laser pulses in the preparation phase in a track\n",
    "            # -------------------\n",
    "            t_prob_init_wait=300.0,\n",
    "            t_prob_mw_a_pio2=28.0,\n",
    "            t_prob_phacc=0.0,\n",
    "            t_prob_read_wait=300.0,\n",
    "            t_prob_laser=600.0,\n",
    "            n_dbloc_fwd=8,  # number of a probe\n",
    "            n_dbloc_bwd=8,  # number of b probe\n",
    "            # -------------------\n",
    "            t_rf_pio2=16666,\n",
    "            t_prlo=90000,  # pre-lock time\n",
    "            t_lock_fwd=17000,\n",
    "            t_lock_bwd=17000,\n",
    "            # -------------------\n",
    "            emulate=True,\n",
    "        )\n",
    "\n",
    "dataset = dict(\n",
    "            num_repeat=0,\n",
    "            tau_AB=np.zeros(2, dtype=np.float64),  # time of free evolution\n",
    "            tau_BA=np.zeros(2, dtype=np.float64),  # time of free evolution\n",
    "            sig_AB=np.zeros(2, dtype=np.float64),  # signal for AB\n",
    "            sig_AB_bg=np.zeros(2, dtype=np.float64),  # background signal for AB\n",
    "            sig_BA=np.zeros(2, dtype=np.float64),  # signal for BA\n",
    "            sig_BA_bg=np.zeros(2, dtype=np.float64),  # background signal for BA\n",
    "        )\n",
    "\n",
    "tokeep = False"
   ]
  },
  {
   "cell_type": "code",
   "execution_count": 48,
   "id": "e04ba002",
   "metadata": {},
   "outputs": [],
   "source": [
    "def _parameter_check():\n",
    "    t_prob_init_wait = paraset[\"t_prob_init_wait\"]\n",
    "    t_prob_mw_a_pio2 = paraset[\"t_prob_mw_a_pio2\"]\n",
    "    t_prob_phacc = paraset[\"t_prob_phacc\"]\n",
    "    t_prob_read_wait = paraset[\"t_prob_read_wait\"]\n",
    "    t_prob_laser = paraset[\"t_prob_laser\"]\n",
    "    n_dbloc_fwd = paraset[\"n_dbloc_fwd\"]\n",
    "    n_dbloc_bwd = paraset[\"n_dbloc_bwd\"]\n",
    "    t_lock_fwd = paraset[\"t_lock_fwd\"]\n",
    "    t_lock_bwd = paraset[\"t_lock_bwd\"]\n",
    "    t_prlo = paraset[\"t_prlo\"]\n",
    "    n_track = paraset[\"n_track\"]\n",
    "    assert n_track % 2 == 0, (\n",
    "        \"Number of tracks must be even for the protocol to work properly.\"\n",
    "    )\n",
    "    t_prep_laser = paraset[\"t_prep_laser\"]\n",
    "    t_prep_isc = paraset[\"t_prep_isc\"]\n",
    "    n_prep_lpul = paraset[\"n_prep_lpul\"]\n",
    "\n",
    "    t_lock = t_lock_fwd + t_lock_bwd  # total time for a nuclerar spin lock\n",
    "    t_fevo = t_prlo + t_lock + t_prlo\n",
    "    assert T_PREUNBLK * 2 + t_lock < T_UNBLK_MAX\n",
    "    assert (\n",
    "        t_fevo >= 5 * t_lock + T_PREUNBLK * 2\n",
    "    )  # the duty cycle for RF must be <20%\n",
    "\n",
    "    t_dbloc = (\n",
    "        t_prob_init_wait\n",
    "        + t_prob_mw_a_pio2\n",
    "        + t_prob_phacc\n",
    "        + t_prob_mw_a_pio2\n",
    "        + t_prob_read_wait\n",
    "        + t_prob_laser\n",
    "    )  # the detection block depends on the sensing sequence on the sensor\n",
    "    assert t_lock_fwd >= n_dbloc_fwd * t_dbloc, (\n",
    "        \"Lock time (pos) is not enough for the sequence.\"\n",
    "    )\n",
    "    assert t_lock_bwd >= n_dbloc_bwd * t_dbloc, (\n",
    "        \"Lock time (neg) is not enough for the sequence.\"\n",
    "    )\n",
    "    n_dbloc = n_dbloc_fwd + n_dbloc_bwd\n",
    "    t_prob_dbloc = t_dbloc * n_dbloc\n",
    "    t_prob_empt_fwd = t_lock_fwd - n_dbloc_fwd * t_dbloc\n",
    "    t_prob_empt_bwd = t_lock_bwd - n_dbloc_bwd * t_dbloc\n",
    "    t_prob = t_prob_empt_fwd + t_prob_dbloc +t_prob_empt_bwd\n",
    "    t_prep = (t_prlo + t_lock) - t_prob\n",
    "    t_prep_init = (t_prep_laser + t_prep_isc) * n_prep_lpul\n",
    "    t_prep_empt = t_prep - t_prep_init\n",
    "    assert t_prep_empt >= 0, \"Preparation time is not enough for the sequence.\"\n",
    "    \n",
    "    assert (t_prlo + t_lock) == (t_prep + t_prob)\n",
    "    paraset[\"t_lock\"] = t_lock  # store it in the parameter set\n",
    "    paraset[\"t_fevo\"] = t_fevo  # store it in the parameter set\n",
    "    paraset[\"t_prob\"] = t_prob  # store it in the parameter set\n",
    "    paraset[\"t_prob_dbloc\"] = t_prob_dbloc  # store it in the parameter set\n",
    "    paraset[\"t_prob_empt_fwd\"] = t_prob_empt_fwd  # store it in the parameter set\n",
    "    paraset[\"t_prob_empt_bwd\"] = t_prob_empt_bwd  # store it in the parameter set\n",
    "    paraset[\"t_dbloc\"] = t_dbloc  # store it in the parameter set\n",
    "    paraset[\"t_prep\"] = t_prep  # store it in the parameter set\n",
    "    paraset[\"t_prep_empt\"] = t_prep_empt  # store it in the parameter set\n",
    "    paraset[\"t_prep_init\"] = t_prep_init  # store it in the parameter set\n",
    "    paraset[\"n_dbloc\"] = n_dbloc  # store it in the parameter set\n",
    "    # n_seg = n_dbloc * 4  # number of readout segments per track\n",
    "    # paraset[\"n_seg\"] = n_seg  # store it in the parameter set\n",
    "\n",
    "def _sequence_sensor():\n",
    "    t_prob_init_wait = paraset[\"t_prob_init_wait\"]\n",
    "    t_prob_mw_a_pio2 = paraset[\"t_prob_mw_a_pio2\"]\n",
    "    t_prob_phacc = paraset[\"t_prob_phacc\"]\n",
    "    t_prob_read_wait = paraset[\"t_prob_read_wait\"]\n",
    "    t_prob_empt_fwd = paraset[\"t_prob_empt_fwd\"]\n",
    "    t_prob_empt_bwd = paraset[\"t_prob_empt_bwd\"]\n",
    "    t_prob_laser = paraset[\"t_prob_laser\"]\n",
    "    n_dbloc_fwd = paraset[\"n_dbloc_fwd\"]\n",
    "    n_dbloc_bwd = paraset[\"n_dbloc_bwd\"]\n",
    "    # t_lock_fwd = paraset[\"t_lock_fwd\"]\n",
    "    # t_lock_bwd = paraset[\"t_lock_bwd\"]\n",
    "    t_prep_laser = paraset[\"t_prep_laser\"]\n",
    "    t_prep_isc = paraset[\"t_prep_isc\"]\n",
    "    n_prep_lpul = paraset[\"n_prep_lpul\"]\n",
    "    n_track = paraset[\"n_track\"]\n",
    "    t_prep_empt = paraset[\"t_prep_empt\"]\n",
    "    # t_dbloc = paraset[\"t_dbloc\"]\n",
    "\n",
    "    t_rf_pio2 = paraset[\"t_rf_pio2\"]\n",
    "    seq_pretrack = [([], t_rf_pio2)]\n",
    "    seq_prep = [([], t_prep_empt)] + [\n",
    "        ([\"laser\"], t_prep_laser),\n",
    "        ([], t_prep_isc),\n",
    "    ] * n_prep_lpul\n",
    "\n",
    "    seq_prob = (\n",
    "        [([], t_prob_empt_fwd)]\n",
    "        + [\n",
    "            ([], t_prob_init_wait),\n",
    "            # ([\"mwA\"], t_prob_mw_a_pio2),\n",
    "            ([], t_prob_mw_a_pio2),\n",
    "            ([], t_prob_phacc),\n",
    "            # ([\"mwA\"], t_prob_mw_a_pio2),\n",
    "            ([], t_prob_mw_a_pio2),\n",
    "            ([], t_prob_read_wait),\n",
    "            ([\"laser\", \"sdtrig\"], t_prob_laser),\n",
    "        ]\n",
    "        * (n_dbloc_fwd + n_dbloc_bwd)\n",
    "        + [([], t_prob_empt_bwd)]\n",
    "    )\n",
    "\n",
    "    seq = seq_prep + seq_prob\n",
    "    # return seq * n_track\n",
    "    return seq_pretrack + seq * 4 * n_track, None\n",
    "\n",
    "def _sequence_target():\n",
    "    t_rf_pio2 = paraset[\"t_rf_pio2\"]\n",
    "    t_prlo = paraset[\"t_prlo\"]\n",
    "    t_lock_fwd = paraset[\"t_lock_fwd\"]\n",
    "    t_lock_bwd = paraset[\"t_lock_bwd\"]\n",
    "    n_track = paraset[\"n_track\"]\n",
    "    # prime the amplifier by putting the BLK in advance\n",
    "    # seq_prlo = [([], t_prlo)]\n",
    "    seq_prlo_blk_fall = [([\"BLK\"], T_PREUNBLK), ([], t_prlo - T_PREUNBLK)]\n",
    "    seq_prlo_blk_rise = [([], t_prlo - T_PREUNBLK), ([\"BLK\"], T_PREUNBLK)]\n",
    "    seq_nolock = [([], t_lock_fwd)] + [([], t_lock_bwd)]\n",
    "    seq_lockAB = [([\"rfA\", \"BLK\"], t_lock_fwd)] + [([\"rfB\", \"BLK\"], t_lock_bwd)]\n",
    "    seq_lockBA = [([\"rfB\", \"BLK\"], t_lock_fwd)] + [([\"rfA\", \"BLK\"], t_lock_bwd)]\n",
    "    seq = (\n",
    "        seq_prlo_blk_fall\n",
    "        + seq_nolock\n",
    "        + seq_prlo_blk_rise\n",
    "        + seq_lockAB\n",
    "        + seq_prlo_blk_fall\n",
    "        + seq_nolock\n",
    "        + seq_prlo_blk_rise\n",
    "        + seq_lockBA\n",
    "    )\n",
    "    seq_pretrack = [([\"rfB\"], t_rf_pio2)]\n",
    "    return seq_pretrack + seq * n_track, None\n",
    "\n",
    "def _sequence_target_emulation():\n",
    "    t_rf_pio2 = paraset[\"t_rf_pio2\"]\n",
    "    t_prlo = paraset[\"t_prlo\"]\n",
    "    t_lock_fwd = paraset[\"t_lock_fwd\"]\n",
    "    t_lock_bwd = paraset[\"t_lock_bwd\"]\n",
    "    t_fevo = paraset[\"t_fevo\"]\n",
    "    n_track = paraset[\"n_track\"]\n",
    "\n",
    "    # prime the amplifier by putting the BLK in advance\n",
    "    # seq_prlo = [([], t_prlo)]\n",
    "    # seq_prlo_blk_fall = [([], T_PREUNBLK), ([], t_prlo - T_PREUNBLK)]\n",
    "    # seq_prlo_blk_rise = [([], t_prlo - T_PREUNBLK), ([], T_PREUNBLK)]\n",
    "    # seq_nolock = [([], t_lock_fwd)] + [([], t_lock_bwd)]\n",
    "    # seq_lockAB = [([], t_lock_fwd)] + [([], t_lock_bwd)]\n",
    "    # seq_lockBA = [([], t_lock_fwd)] + [([], t_lock_bwd)]\n",
    "    seq_prlo_blk_fall = [([\"BLK\"], T_PREUNBLK), ([], t_prlo - T_PREUNBLK)]\n",
    "    seq_prlo_blk_rise = [([], t_prlo - T_PREUNBLK), ([\"BLK\"], T_PREUNBLK)]\n",
    "    seq_nolock = [([], t_lock_fwd)] + [([], t_lock_bwd)]\n",
    "    seq_lockAB = [([\"rfA\", \"BLK\"], t_lock_fwd)] + [([\"rfB\", \"BLK\"], t_lock_bwd)]\n",
    "    seq_lockBA = [([\"rfB\", \"BLK\"], t_lock_fwd)] + [([\"rfA\", \"BLK\"], t_lock_bwd)]\n",
    "    seq = (\n",
    "        seq_prlo_blk_fall\n",
    "        + seq_nolock\n",
    "        + seq_prlo_blk_rise\n",
    "        + seq_lockAB\n",
    "        + seq_prlo_blk_fall\n",
    "        + seq_nolock\n",
    "        + seq_prlo_blk_rise\n",
    "        + seq_lockBA\n",
    "    )\n",
    "    seq_pretrack = [([], t_rf_pio2)]\n",
    "    seq_digi = seq_pretrack + seq * n_track\n",
    "    # some analog seq --------------------------\n",
    "    Hz = 1e-9\n",
    "    amp = 1.0\n",
    "    omega = 2 * np.pi * 560.425266 * Hz\n",
    "    wmf_fevo = [(t_fevo, 0)]\n",
    "    wfm_anlg = [(t_rf_pio2, 0)]\n",
    "    for ii_track in range(n_track):\n",
    "        t_i_AB = ii_track * t_fevo * 2 + 1 * t_fevo\n",
    "        t_i_BA = ii_track * t_fevo * 2 + 2 * t_fevo\n",
    "        # amp_mod_AB = amp * np.cos(omega * t_i_AB)\n",
    "        amp_mod_AB = 0\n",
    "        amp_mod_BA = amp * np.cos(omega * t_i_BA)\n",
    "        # mz analog pattern in a spin lock\n",
    "        rabi_nuclear = 1.0 / t_rf_pio2 / 4.0\n",
    "        ac_samplerate = rabi_nuclear * 20.0  # 20 pt per period\n",
    "        dt = int(1 / ac_samplerate)\n",
    "        # n_dt = int(t_rf_pio2 * ac_samplerate)\n",
    "        # dt = int(t_rf_pio2 / n_dt)\n",
    "        ttt_fwd = np.arange(0.0, t_lock_fwd//dt*dt, dt)\n",
    "        ttt_bwd = np.arange(0.0, t_lock_bwd//dt*dt, dt)\n",
    "        ttt_fwd_end_compen = t_lock_fwd-len(ttt_fwd)*dt\n",
    "        ttt_bwd_end_compen = t_lock_bwd-len(ttt_bwd)*dt\n",
    "        # print(f\" t pi/2 rf : {t_rf_pio2}\")\n",
    "        # print(f\"dt sampling time: {dt}\")\n",
    "        # print(f\" dt time total : {len(ttt_fwd)*dt}\")\n",
    "        # print(f\"forward ttt time end: {ttt_fwd[-1]}\")\n",
    "        # print(f\" forward lock time : {t_lock_fwd}\")\n",
    "        # ttt_fwd = np.linspace(0.0, t_rf_pio2, n_dt, endpoint=True)\n",
    "        # ttt_bwd = np.linspace(0.0, t_rf_pio2, n_dt, endpoint=True)\n",
    "\n",
    "        mz_wave_fwd = np.sin(2 * np.pi * rabi_nuclear * ttt_fwd)\n",
    "        mz_wave_fwd_end = np.sin(2 * np.pi * rabi_nuclear * len(ttt_fwd)*dt)\n",
    "        mz_wave_bwd = np.sin(2 * np.pi * rabi_nuclear * (-ttt_bwd + t_lock_fwd))\n",
    "        mz_wave_bwd_end = np.sin(2 * np.pi * rabi_nuclear * (-len(ttt_bwd)*dt + t_lock_fwd))\n",
    "        \n",
    "        wfm_lock_AB = [\n",
    "            (dt, amp_mod_AB * val) for val in mz_wave_fwd\n",
    "        ] + [(ttt_fwd_end_compen, amp_mod_AB * mz_wave_fwd_end)]+[\n",
    "            (dt, amp_mod_AB * val) for val in mz_wave_bwd\n",
    "        ] + [(ttt_bwd_end_compen, amp_mod_AB * mz_wave_bwd_end)]\n",
    "        \n",
    "        wfm_lock_BA = [\n",
    "            (dt, amp_mod_BA * val) for val in mz_wave_fwd\n",
    "        ] + [(ttt_fwd_end_compen, amp_mod_BA * mz_wave_fwd_end)]+[\n",
    "            (dt, amp_mod_BA * val) for val in mz_wave_bwd\n",
    "        ] + [(ttt_bwd_end_compen, amp_mod_BA * mz_wave_bwd_end)]\n",
    "        wfm_anlg += wmf_fevo + wfm_lock_AB + wmf_fevo + wfm_lock_BA\n",
    "\n",
    "    return seq_digi, wfm_anlg"
   ]
  },
  {
   "cell_type": "code",
   "execution_count": 49,
   "id": "169ed6a2",
   "metadata": {},
   "outputs": [
    {
     "name": "stderr",
     "output_type": "stream",
     "text": [
      "2025-07-24 21:35:17 WARNING 1627401422 MainThread: Please set the RF manually before running the measurement\n",
      "2025-07-24 21:35:17 INFO mwsource MainThread: Setting frequency to 392.8488 GHz...\n",
      "2025-07-24 21:35:17 INFO mwsource MainThread: Synthesizer frequency set to 392.848800 GHz.\n",
      "2025-07-24 21:35:17 INFO mwsource MainThread: Setting amplitude voltage to 5.0 V...\n",
      "2025-07-24 21:35:17 INFO mwsource MainThread: Amplitude voltage set successfully.\n",
      "2025-07-24 21:35:17 INFO mwsource MainThread: Setting phase voltage to 0.0 V...\n",
      "2025-07-24 21:35:17 INFO mwsource MainThread: Phase voltage set successfully.\n",
      "2025-07-24 21:35:17 INFO laser MainThread: Laser emission is OFF\n",
      "2025-07-24 21:35:17 INFO laser MainThread: Analog control mode set to 'current'\n",
      "2025-07-24 21:35:17 INFO laser MainThread: Modulation state set to 'modulated'\n",
      "2025-07-24 21:35:18 INFO laser MainThread: Laser diode current set to '60.00%'\n",
      "2025-07-24 21:35:18 INFO pulser MainThread: ClockSource.EXT_10MHZ\n"
     ]
    },
    {
     "name": "stdout",
     "output_type": "stream",
     "text": [
      "Setting Analog channel 0\n"
     ]
    },
    {
     "name": "stderr",
     "output_type": "stream",
     "text": [
      "2025-07-24 21:35:18 INFO pulser MainThread: Set Sequence total time 496016666.0 ns\n",
      "2025-07-24 21:35:18 INFO pulser MainThread: Set Sequence total time 496016666 ns\n",
      "2025-07-24 21:35:18 INFO 1627401422 MainThread: tt_seqs = 496016666.0, tt_seqt = 496016666\n",
      "2025-07-24 21:35:21 INFO pulser MainThread: Stream Sequence with -1 runs\n"
     ]
    }
   ],
   "source": [
    "_parameter_check()\n",
    "# set the rf frequency, power and phase ------------------------------------------------------\n",
    "# make the rf setting before the measurement\n",
    "if paraset[\"rf_set\"]:\n",
    "    ref = hw.windfreak.get_reference()\n",
    "    status_a = hw.windfreak.get_output_status(\"rfA\")\n",
    "    status_b = hw.windfreak.get_output_status(\"rfB\")\n",
    "    freq_a = hw.windfreak.get_freq(\"rfA\")\n",
    "    freq_b = hw.windfreak.get_freq(\"rfB\")\n",
    "    power_a = hw.windfreak.get_power(\"rfA\")\n",
    "    power_b = hw.windfreak.get_power(\"rfB\")\n",
    "    phase_a = hw.windfreak.get_phase(\"rfA\")\n",
    "    phase_b = hw.windfreak.get_phase(\"rfB\")\n",
    "\n",
    "    logger.info(\n",
    "        f\"Reference: mode = {ref['mode']}, frequency = {ref['frequency'] / 1e6:.6f} MHz\"\n",
    "    )\n",
    "    logger.info(\n",
    "        f\"rfA: {'ENABLED' if status_a else 'DISABLED'}, freq = {freq_a / 1e6:.3f} MHz, \"\n",
    "        f\"power = {power_a:.1f} dBm, phase = {phase_a:.1f}°\"\n",
    "    )\n",
    "    logger.info(\n",
    "        f\"rfB: {'ENABLED' if status_b else 'DISABLED'}, freq = {freq_b / 1e6:.3f} MHz, \"\n",
    "        f\"power = {power_b:.1f} dBm, phase = {phase_b:.1f}°\"\n",
    "    )\n",
    "else:\n",
    "    # stop()\n",
    "    logger.warning(\"Please set the RF manually before running the measurement\")\n",
    "# -----------------------------------------------------------------------\n",
    "\n",
    "# set the mw frequency, power and phase ------------------------------------------------------\n",
    "freq = paraset[\"mw_freq\"]\n",
    "freq_actual = hw.vdi.set_freq(freq)\n",
    "paraset[\"mw_freq\"] = freq_actual\n",
    "hw.vdi.set_amp_volt(paraset[\"mw_powervolt\"])\n",
    "hw.vdi.set_phase_volt(paraset[\"mw_phasevolt\"])\n",
    "# -----------------------------------------------------------------------\n",
    "\n",
    "# set the laser power -------------------------------------------------\n",
    "current_percent = paraset[\"laser_current\"]\n",
    "hw.laser.laser_off()\n",
    "hw.laser.set_analog_control_mode(\"current\")\n",
    "hw.laser.set_modulation_state(\"Pulsed\")\n",
    "hw.laser.set_diode_current(current_percent, save_memory=False)\n",
    "# # -----------------------------------------------------------------------\n",
    "\n",
    "# set the pulse sequence-------------------------------------------\n",
    "hw.pg.setClock10MHzExt()\n",
    "hw.pg.setTrigger(TriggerStart.SOFTWARE, rearm=TriggerRearm.MANUAL)\n",
    "if paraset[\"emulate\"]:\n",
    "    seq_sensor, _ = _sequence_sensor()\n",
    "    seq_target, wfm_emul = _sequence_target_emulation()\n",
    "    hw.pg.resetSeq()\n",
    "    hw.pg.setAnalog(\"Bz\", wfm_emul, offset=True)\n",
    "    tt_seqs = hw.pg.setSequence(seq_sensor, reset=False)\n",
    "    tt_seqt = hw.pg.setSequence(seq_target, reset=False)\n",
    "    logger.info(f\"tt_seqs = {tt_seqs}, tt_seqt = {tt_seqt}\")\n",
    "    assert tt_seqs == tt_seqt\n",
    "    hw.pg.stream(n_runs=-1)\n",
    "else:\n",
    "    seq_sensor, _ = _sequence_sensor()\n",
    "    tt_seqs = hw.pg.setSequence(seq_sensor, reset=True)\n",
    "    seq_target, _ = _sequence_target()\n",
    "    tt_seqt = hw.pg.setSequence(seq_target, reset=False)\n",
    "    logger.info(f\"tt_seqs = {tt_seqs}, tt_seqt = {tt_seqt}\")\n",
    "    assert tt_seqs == tt_seqt\n",
    "\n",
    "    hw.pg.stream(n_runs=1)\n",
    "tt_seq = tt_seqs\n",
    "# -----------------------------------------------------------------------"
   ]
  },
  {
   "cell_type": "code",
   "execution_count": 50,
   "id": "4ba9e04d",
   "metadata": {},
   "outputs": [],
   "source": [
    "# seqtime(seq_sensor)/1e6\n",
    "# hw.pg.plotSeq(plot_all=False)\n"
   ]
  },
  {
   "cell_type": "code",
   "execution_count": 51,
   "id": "034ae5db",
   "metadata": {},
   "outputs": [
    {
     "name": "stderr",
     "output_type": "stream",
     "text": [
      "2025-07-24 21:35:21 INFO sidig MainThread: Clock mode set to: 32\n",
      "2025-07-24 21:35:21 INFO sidig MainThread: 1: Internal, 2: Quartz, 3: External, 32: Direct External Sampling\n",
      "2025-07-24 21:35:21 INFO sidig MainThread: Pre-trigger: 64 Sa, Post-trigger: 448 Sa, Segment Size: 512 Sa\n",
      "2025-07-24 21:35:21 INFO laser MainThread: Laser emission is ON\n"
     ]
    }
   ],
   "source": [
    "# set up the digitizer-------------------------------------------\n",
    "\n",
    "read_wait = paraset[\"t_prob_read_wait\"]\n",
    "read_laser = paraset[\"t_prob_laser\"]\n",
    "n_dbloc = paraset[\"n_dbloc\"]\n",
    "n_track = paraset[\"n_track\"]\n",
    "databufferlen = int(4 * n_dbloc * n_track)\n",
    "\n",
    "rate_refresh = paraset[\n",
    "    \"rate_refresh\"\n",
    "]  # Hz rate of refreshing the data streaming\n",
    "amp_input = paraset[\"amp_input\"]\n",
    "readout_ch = hcf.SIDIG_chmap[\"apd\"]\n",
    "num_segment = (\n",
    "    int(databufferlen / (tt_seq * rate_refresh / 1e9)) // 32 * 32\n",
    ")  # number of \"reads\" every data refresh\n",
    "\n",
    "# num_segment = (\n",
    "#     int(n_dbloc * 4 * max(n_track / 10, 1) * 8) // 32 * 32\n",
    "# )  # number of \"reads\" every data refresh\n",
    "\n",
    "# configures the readout to match the pulse sequence\n",
    "pretrig_size = (\n",
    "    int((read_wait / 2) * hcf.SIDIG_maxsr / 1e9) // 64 * 64\n",
    ")  # pretrigger based on the t_wait time\n",
    "posttrig_size = (\n",
    "    int((read_laser) * hcf.SIDIG_maxsr / 1e9) // 64 * 64\n",
    ")  # posttrigger based on the t_laser time and init_isc\n",
    "segment_size = pretrig_size + posttrig_size\n",
    "segment_size = 2 ** int(np.log2(segment_size) + 1)  # make it power of 2\n",
    "posttrig_size = (\n",
    "    segment_size - pretrig_size\n",
    ")  # recalculate posttrigger size to ensure it is power of 2\n",
    "# MAX_MEM_SIZE = 73728000\n",
    "# mem_size = min(databufferlen * segment_size//64*64, MAX_MEM_SIZE)\n",
    "# To set the configuration, make a dictionary with the key and value\n",
    "hw.dig.reset_param()\n",
    "hw.dig.set_ext_clock()\n",
    "\n",
    "# TODO: the integration windows is to be determined\n",
    "idx_av_0 = int(pretrig_size+120)\n",
    "idx_av_1 = int(pretrig_size+300)\n",
    "idx_bg_0 = int(pretrig_size*0.1)\n",
    "idx_bg_1 = int(pretrig_size*0.75)\n",
    "bgextend_size=0  # TODO: why 0? is it a fixed number?\n",
    "\n",
    "hw.dig.assign_param(\n",
    "    dict(\n",
    "        readout_ch=readout_ch,\n",
    "        amp_input=amp_input,\n",
    "        num_segment=num_segment,\n",
    "        pretrig_size=pretrig_size + bgextend_size, \n",
    "        posttrig_size=posttrig_size - bgextend_size,\n",
    "        segment_size=segment_size,\n",
    "        # mem_size=mem_size,\n",
    "    )\n",
    ")\n",
    "logger.debug(\n",
    "    f\"readout_ch = {readout_ch}, amp_input = {amp_input}, num_segment = {num_segment}, pretrig_size = {pretrig_size}, posttrig_size = {posttrig_size}, segment_size = {segment_size}\"\n",
    ")\n",
    "hw.dig.set_config()\n",
    "# -----------------------------------------------------------------------\n",
    "\n",
    "# put some necessary variables in self-------------------------------------\n",
    "if not tokeep:\n",
    "    idx_pointer = 0\n",
    "    seg_count = np.zeros(\n",
    "        databufferlen,\n",
    "        dtype=np.float64,\n",
    "        order=\"C\",\n",
    "    )\n",
    "    seg_store = np.zeros(\n",
    "        (databufferlen),\n",
    "        dtype=np.float64,\n",
    "        order=\"C\",\n",
    "    )\n",
    "    t_fevo = paraset[\"t_fevo\"]\n",
    "    tau_AB = 2 * t_fevo * np.linspace(0, n_track, 1)\n",
    "    tau_BA = 2 * t_fevo * np.linspace(0, n_track, 1) + t_fevo\n",
    "    dataset[\"tau_AB\"] = tau_AB\n",
    "    dataset[\"tau_BA\"] = tau_BA\n",
    "\n",
    "    dataset[\"sig_AB_bg\"] = np.zeros(n_track, dtype=np.float64)\n",
    "    dataset[\"sig_AB\"] = np.zeros(n_track, dtype=np.float64)\n",
    "    dataset[\"sig_BA_bg\"] = np.zeros(n_track, dtype=np.float64)\n",
    "    dataset[\"sig_BA\"] = np.zeros(n_track, dtype=np.float64)\n",
    "# -----------------------------------------------------------------------\n",
    "# start the laser and digitizer then wait for trigger from the  pulse streamer--------------\n",
    "hw.laser.laser_on()  # turn on laser\n",
    "hw.dig.start_buffer()\n",
    "# logger.debug(\"Start the trigger from the pulse streamer\")\n",
    "# hw.pg.rearm()"
   ]
  },
  {
   "cell_type": "code",
   "execution_count": 52,
   "id": "e9036084",
   "metadata": {},
   "outputs": [
    {
     "name": "stderr",
     "output_type": "stream",
     "text": [
      "C:\\Users\\HFNV\\AppData\\Local\\Temp\\ipykernel_140348\\1252443360.py:94: RuntimeWarning:\n",
      "\n",
      "invalid value encountered in divide\n",
      "\n"
     ]
    }
   ],
   "source": [
    "hw.pg.startNow()\n",
    "time_start = time.time()\n",
    "while stateset[\"time_run\"] < stateset[\"time_stop\"]:\n",
    "    stateset[\"time_run\"] = time.time() - time_start\n",
    "    # print(f'while loopcurrent time {stateset[\"time_run\"]}')\n",
    "    if not paraset[\"emulate\"]:\n",
    "        if hw.pg.rearm():\n",
    "            logger.debug(\n",
    "                \"Pulse generator has finished, restart the measurement sequence.\"\n",
    "            )\n",
    "            time.sleep(0.1)  # wait for the nuclear spin to relax\n",
    "            # hw.uf.depressurize(1)\n",
    "            # time.sleep(1.0)  # wait for the liquid sample to settle down\n",
    "            # hw.uf.pressurize(1)\n",
    "            hw.pg.startNow()\n",
    "            # else:\n",
    "            #     logger.debug(\"Pulse sequence not finished\")\n",
    "    timethis = time.time()\n",
    "    # print(f'Time This stream: current time stamp {timethis}')\n",
    "    rawraw = hw.dig.stream()\n",
    "    timethisthis = time.time()  \n",
    "    # print(f'Time This stream: current time stamp after dig stream{timethisthis}')\n",
    "    # print(f'Time This stream: time taken {timethisthis-timethis}')\n",
    "    if rawraw is not None:\n",
    "        # print(\"have some raw data\")\n",
    "        # print(f\"rawraw shape {rawraw.shape}\")\n",
    "        # print(f\"rawraw {rawraw}\")\n",
    "        num_segs = rawraw.shape[0]\n",
    "        idx_ptr_overflow = idx_pointer + num_segs\n",
    "        count_fill, idx_pointer_new = divmod(idx_ptr_overflow, databufferlen)\n",
    "        if count_fill < 1:\n",
    "            # print(\"the count overfill is less than 1\")\n",
    "            # underfill================================\n",
    "            # if the segment number is small to the remaining slot numbers in the buffer\n",
    "            idx_i = idx_pointer\n",
    "            idx_f = idx_pointer + num_segs\n",
    "            rawreshaped = np.reshape(rawraw[:num_segs], (num_segs, -1))\n",
    "            seg_store[idx_i:idx_f] += slice_average_offset(\n",
    "                rawreshaped,\n",
    "                (idx_av_0, idx_av_1),\n",
    "                (idx_bg_0, idx_bg_1),\n",
    "            )\n",
    "            seg_count[idx_i:idx_f] += 1\n",
    "        else:\n",
    "            # exactly fill or overfill===============================\n",
    "            # print(\"the count overfill is greater than 1\")\n",
    "            # fill the tail of the data_store buffer ----------------\n",
    "            num_tailslot = databufferlen - idx_pointer\n",
    "            idx_i = idx_pointer\n",
    "            idx_f = databufferlen\n",
    "            rawreshaped = np.reshape(rawraw[:num_tailslot], (num_tailslot, -1))\n",
    "            seg_store[idx_i:idx_f] += slice_average_offset(\n",
    "                rawreshaped,\n",
    "                (idx_av_0, idx_av_1),\n",
    "                (idx_bg_0, idx_bg_1),\n",
    "            )\n",
    "\n",
    "            seg_count[idx_i:idx_f] += 1\n",
    "\n",
    "            # fill the entire data_store buffer multiple times ----------------\n",
    "            if count_fill > 1:\n",
    "                to_add_unstructured = np.reshape(\n",
    "                    rawraw[\n",
    "                        num_tailslot : num_tailslot\n",
    "                        + (count_fill - 1) * databufferlen\n",
    "                    ],\n",
    "                    (count_fill - 1, databufferlen, -1),\n",
    "                )\n",
    "                repeatedsegments = np.sum(to_add_unstructured, axis=0)\n",
    "                seg_store += slice_average_offset(\n",
    "                    repeatedsegments,\n",
    "                    (idx_av_0, idx_av_1),\n",
    "                    (idx_bg_0, idx_bg_1),\n",
    "                )\n",
    "                seg_count += count_fill - 1\n",
    "\n",
    "            # fill the head of the data_store buffer for the remaining segments --------------\n",
    "            if idx_pointer_new:\n",
    "                # the if condition is needed to handle the case that the idx_pointer_new is 0\n",
    "                rawreshaped = np.reshape(\n",
    "                    rawraw[-idx_pointer_new:], (idx_pointer_new, -1)\n",
    "                )\n",
    "                seg_store[:idx_pointer_new] += slice_average_offset(\n",
    "                    rawreshaped,\n",
    "                    (idx_av_0, idx_av_1),\n",
    "                    (idx_bg_0, idx_bg_1),\n",
    "                )\n",
    "            seg_count[:idx_pointer_new] += 1\n",
    "        idx_pointer = idx_pointer_new\n",
    "\n",
    "    idx_run = seg_count[-1]\n",
    "    # print(f\"seg_count = {seg_count}\")\n",
    "\n",
    "    seg_store_av = seg_store / seg_count\n",
    "    seg_store_av_rs =np.reshape(seg_store_av, (-1, n_dbloc))\n",
    "    seg_store_av_av = np.mean(seg_store_av_rs, axis=1)\n",
    "    dataset[\"num_repeat\"] = np.max(seg_count)\n",
    "    dataset[\"sig_AB_bg\"] = seg_store_av_av[0::4]\n",
    "    dataset[\"sig_AB\"] = seg_store_av_av[1::4]\n",
    "    dataset[\"sig_BA_bg\"] = seg_store_av_av[2::4]\n",
    "    dataset[\"sig_BA\"] = seg_store_av_av[3::4]\n",
    "\n"
   ]
  },
  {
   "cell_type": "code",
   "execution_count": 53,
   "id": "923b8c05",
   "metadata": {},
   "outputs": [],
   "source": [
    "t_fevo = paraset[\"t_fevo\"]\n",
    "n_track = paraset[\"n_track\"]\n",
    "tau_AB = 2 * t_fevo * np.arange(0.0, n_track, 1.0) + 1 * t_fevo\n",
    "tau_BA = 2 * t_fevo * np.arange(0.0, n_track, 1.0) + 2 * t_fevo\n",
    "dataset[\"tau_AB\"] = tau_AB\n",
    "dataset[\"tau_BA\"] = tau_BA"
   ]
  },
  {
   "cell_type": "code",
   "execution_count": 54,
   "id": "041e3917",
   "metadata": {},
   "outputs": [
    {
     "data": {
      "text/plain": [
       "[<matplotlib.lines.Line2D at 0x172f7eeb6a0>]"
      ]
     },
     "execution_count": 54,
     "metadata": {},
     "output_type": "execute_result"
    },
    {
     "data": {
      "image/png": "[encoded data removed]",
      "text/plain": [
       "<Figure size 640x480 with 1 Axes>"
      ]
     },
     "metadata": {},
     "output_type": "display_data"
    }
   ],
   "source": [
    "# sanity check\n",
    "shape_rawraw = np.shape(rawraw)\n",
    "seepl = np.reshape(rawraw, (-1, shape_rawraw[1]))\n",
    "\n",
    "whatishere =slice_average_offset(\n",
    "                    seepl,\n",
    "                    (idx_av_0, idx_av_1),\n",
    "                    (idx_bg_0, idx_bg_1),\n",
    "                )\n",
    "seepl  = np.mean(seepl, axis=0)\n",
    "plt.plot(seepl)"
   ]
  },
  {
   "cell_type": "code",
   "execution_count": 55,
   "id": "989d17b8",
   "metadata": {},
   "outputs": [
    {
     "data": {
      "text/plain": [
       "[<matplotlib.lines.Line2D at 0x172981ddf00>]"
      ]
     },
     "execution_count": 55,
     "metadata": {},
     "output_type": "execute_result"
    },
    {
     "data": {
      "image/png": "[encoded data removed]",
      "text/plain": [
       "<Figure size 640x480 with 1 Axes>"
      ]
     },
     "metadata": {},
     "output_type": "display_data"
    }
   ],
   "source": [
    "plt.plot(whatishere)"
   ]
  },
  {
   "cell_type": "code",
   "execution_count": 56,
   "id": "cbd37622",
   "metadata": {},
   "outputs": [
    {
     "name": "stderr",
     "output_type": "stream",
     "text": [
      "2025-07-24 21:37:21 INFO laser MainThread: Laser emission is OFF\n",
      "2025-07-24 21:37:21 INFO laser MainThread: Laser diode current set to '0.00%'\n",
      "2025-07-24 21:37:22 INFO mwsource MainThread: Setting amplitude voltage to 0 V...\n",
      "2025-07-24 21:37:22 INFO mwsource MainThread: Amplitude voltage set successfully.\n",
      "2025-07-24 21:37:22 INFO mwsource MainThread: Setting phase voltage to 0 V...\n",
      "2025-07-24 21:37:22 INFO mwsource MainThread: Phase voltage set successfully.\n"
     ]
    },
    {
     "name": "stdout",
     "output_type": "stream",
     "text": [
      "Card stopped\n"
     ]
    }
   ],
   "source": [
    "\n",
    "# # turn off laser and set diode current to zero\n",
    "hw.laser.laser_off()\n",
    "hw.laser.set_diode_current(0.00, save_memory=False)\n",
    "# set pulse generator to zero\n",
    "hw.pg.forceFinal()\n",
    "hw.pg.constant(OutputState.ZERO())\n",
    "\n",
    "# set mw amp and phase to zero\n",
    "hw.vdi.set_amp_volt(0)\n",
    "hw.vdi.set_phase_volt(0)\n",
    "\n",
    "# dump remaining data & stop digitizer\n",
    "# _ = hw.dig.stream()\n",
    "hw.dig.stop_card()\n",
    "\n",
    "\n",
    "# # Laser hardware reset\n",
    "# try:\n",
    "#     hw.laser.laser_off()  # turn off laser\n",
    "#     hw.laser.set_diode_current(0.00, save_memory=False)\n",
    "#     hw.laser.reset_alarm()\n",
    "#     hw.laser.close()\n",
    "#     hw.laser.open()\n",
    "# except Exception as e:\n",
    "#     logger.warning(f\"Laser hardware reset failed: {e}\")\n",
    "\n",
    "# # Pulse generator reset\n",
    "# try:\n",
    "#     hw.pg.forceFinal()\n",
    "#     hw.pg.reset()\n",
    "#     # hw.pg.reboot()\n",
    "# except Exception as e:\n",
    "#     logger.warning(f\"Pulse generator reset failed: {e}\")\n",
    "\n",
    "# # VDI system reset\n",
    "# try:\n",
    "#     hw.vdi.reset()\n",
    "# except Exception as e:\n",
    "#     logger.warning(f\"VDI system reset failed: {e}\")\n",
    "\n",
    "# # Digitizer reset\n",
    "# try:\n",
    "#     hw.dig.stop_card()\n",
    "#     hw.dig.reset()\n",
    "# except Exception as e:\n",
    "#     logger.warning(f\"Digitizer reset failed: {e}\")"
   ]
  },
  {
   "cell_type": "code",
   "execution_count": 57,
   "id": "5e38fee0",
   "metadata": {},
   "outputs": [
    {
     "data": {
      "image/png": "[encoded data removed]",
      "text/plain": [
       "<Figure size 640x480 with 1 Axes>"
      ]
     },
     "metadata": {},
     "output_type": "display_data"
    }
   ],
   "source": [
    "# import matplotlib.pyplot as plt\n",
    "tau_AB = dataset[\"tau_AB\"]\n",
    "tau_BA = dataset[\"tau_BA\"]\n",
    "sig_AB = dataset[\"sig_AB\"]\n",
    "sig_AB_bg = dataset[\"sig_AB_bg\"]\n",
    "sig_BA = dataset[\"sig_BA\"]\n",
    "sig_BA_bg = dataset[\"sig_BA_bg\"]\n",
    "plt.plot(tau_AB, dataset[\"sig_AB\"], label=\"sig_AB\")\n",
    "plt.plot(tau_BA, dataset[\"sig_BA\"], label=\"sig_BA\")\n",
    "plt.plot(tau_AB, dataset[\"sig_AB_bg\"], label=\"sig_AB_bg\")\n",
    "plt.plot(tau_BA, dataset[\"sig_BA_bg\"], label=\"sig_BA_bg\")\n",
    "plt.legend()\n",
    "plt.show()\n"
   ]
  },
  {
   "cell_type": "code",
   "execution_count": 58,
   "id": "6149ea80",
   "metadata": {},
   "outputs": [
    {
     "data": {
      "image/png": "[encoded data removed]",
      "text/plain": [
       "<Figure size 640x480 with 1 Axes>"
      ]
     },
     "metadata": {},
     "output_type": "display_data"
    }
   ],
   "source": [
    "plt.plot(tau_AB, dataset[\"sig_AB\"]-dataset[\"sig_AB_bg\"], label=\"sig_AB_df\")\n",
    "plt.plot(tau_BA, dataset[\"sig_BA\"]-dataset[\"sig_BA_bg\"], label=\"sig_BA_df\")\n",
    "plt.legend()\n",
    "plt.show()"
   ]
  },
  {
   "cell_type": "code",
   "execution_count": 59,
   "id": "2cf76c44",
   "metadata": {},
   "outputs": [
    {
     "data": {
      "application/vnd.plotly.v1+json": {
       "config": {
        "plotlyServerURL": "https://plot.ly"
       },
       "data": [
        {
         "mode": "lines",
         "name": "FFT of sig_AB",
         "type": "scatter",
         "x": {
          "bdata": "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",
          "dtype": "f8"
         },
         "xaxis": "x",
         "y": {
          "bdata": "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",
          "dtype": "f8"
         },
         "yaxis": "y"
        },
        {
         "mode": "lines",
         "name": "FFT of sig_BA",
         "type": "scatter",
         "x": {
          "bdata": "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",
          "dtype": "f8"
         },
         "xaxis": "x",
         "y": {
          "bdata": "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",
          "dtype": "f8"
         },
         "yaxis": "y"
        },
        {
         "mode": "lines",
         "name": "FFT of bg sig_AB",
         "type": "scatter",
         "x": {
          "bdata": "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",
          "dtype": "f8"
         },
         "xaxis": "x",
         "y": {
          "bdata": "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",
          "dtype": "f8"
         },
         "yaxis": "y"
        },
        {
         "mode": "lines",
         "name": "FFT of bg sig_BA",
         "type": "scatter",
         "x": {
          "bdata": "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",
          "dtype": "f8"
         },
         "xaxis": "x",
         "y": {
          "bdata": "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",
          "dtype": "f8"
         },
         "yaxis": "y"
        },
        {
         "mode": "lines",
         "name": "FFT of sig_AB_df",
         "type": "scatter",
         "x": {
          "bdata": "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",
          "dtype": "f8"
         },
         "xaxis": "x",
         "y": {
          "bdata": "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",
          "dtype": "f8"
         },
         "yaxis": "y"
        },
        {
         "mode": "lines",
         "name": "FFT of sig_BA_df",
         "type": "scatter",
         "x": {
          "bdata": "AAAAAAAAAABbDm72C7ECQFsObvYLsRJAiRWl8ZEJHEBbDm72C7EiQPKRCfROXSdAiRWl8ZEJLECPTKB36lowQFsObvYLsTJAJ9A7dS0HNUDykQn0Tl03QL1T13JwszlAiRWl8ZEJPEBU13Jws18+QI9MoHfqWkBAdi0HN/uFQUBbDm72C7FCQEDv1LUc3ENAJ9A7dS0HRUAMsaI0PjJGQPKRCfROXUdA2HJws1+ISEC9U9dycLNJQKM0PjKB3kpAiRWl8ZEJTEBu9guxojRNQFTXcnCzX05AOrjZL8SKT0CPTKB36lpQQAK9U9dy8FBAdi0HN/uFUUDonbqWgxtSQFsObvYLsVJAzn4hVpRGU0BA79S1HNxTQLRfiBWlcVRAJ9A7dS0HVUCZQO/UtZxVQAyxojQ+MlZAfyFWlMbHVkDykQn0Tl1XQGUCvVPX8ldA2HJws1+IWEBK4yMT6B1ZQL1T13Jws1lAMMSK0vhIWkCjND4ygd5aQBal8ZEJdFtAiRWl8ZEJXED7hVhRGp9cQG72C7GiNF1A4Wa/ECvKXUBU13Jws19eQMdHJtA79V5AOrjZL8SKX0BXlMZHJhBgQI9MoHfqWmBAyQR6p66lYEACvVPXcvBgQDx1LQc3O2FAdi0HN/uFYUCv5eBmv9BhQOidupaDG2JAIVaUxkdmYkBbDm72C7FiQJXGRybQ+2JAzn4hVpRGY0AHN/uFWJFjQEDv1LUc3GNAeqeu5eAmZEC0X4gVpXFkQO0XYkVpvGRAJ9A7dS0HZUBfiBWl8VFlQJlA79S1nGVA0/jIBHrnZUAMsaI0PjJmQEZpfGQCfWZAfyFWlMbHZkC42S/EihJnQPKRCfROXWdAK0rjIxOoZ0BlAr1T1/JnQJ66loObPWhA2HJws1+IaEARK0rjI9NoQErjIxPoHWlAhJv9QqxoaUC9U9dycLNpQPcLsaI0/mlAMMSK0vhIakBpfGQCvZNqQKM0PjKB3mpA3OwXYkUpa0AWpfGRCXRrQE9dy8HNvmtAiRWl8ZEJbEDCzX4hVlRsQPuFWFEan2xANT4ygd7pbEBu9guxojRtQKiu5eBmf21A4Wa/ECvKbUAbH5lA7xRuQFTXcnCzX25AjI9MoHeqbkDHRybQO/VuQAAAAAAAQG9AOrjZL8SKb0BzcLNfiNVvQFeUxkcmEHBAc3CzX4g1cECPTKB36lpwQK0ojY9MgHBAyQR6p66lcEDm4Ga/EMtwQAK9U9dy8HBAH5lA79QVcUA8dS0HNztxQFhRGh+ZYHFAdi0HN/uFcUCSCfROXatxQK/l4Ga/0HFAzMHNfiH2cUDonbqWgxtyQAV6p67lQHJAIVaUxkdmckA/MoHeqYtyQFsObvYLsXJAd+paDm7WckCVxkcm0PtyQLGiND4yIXNAzn4hVpRGc0DrWg5u9mtzQAc3+4VYkXNAJBPonbq2c0BA79S1HNxzQF7Lwc1+AXRAeqeu5eAmdECXg5v9Qkx0QLRfiBWlcXRA0Dt1LQeXdEDtF2JFabx0QAn0Tl3L4XRAJ9A7dS0HdUBDrCiNjyx1QF+IFaXxUXVAfWQCvVN3dUCZQO/UtZx1QLYc3OwXwnVA0/jIBHrndUDw1LUc3Ax2QAyxojQ+MnZAKI2PTKBXdkBGaXxkAn12QGJFaXxkonZAfyFWlMbHdkCc/UKsKO12QLjZL8SKEndA1bUc3Ow3d0DykQn0Tl13QA9u9guxgndAK0rjIxOod0BHJtA7dc13QGUCvVPX8ndAgd6pazkYeECeupaDmz14QLuWg5v9YnhA2HJws1+IeED0Tl3Lwa14QBErSuMj03hALgc3+4X4eEBK4yMT6B15QGe/ECtKQ3lAhJv9QqxoeUCgd+paDo55QL1T13Jws3lA2i/EitLYeUD3C7GiNP55QBPonbqWI3pAMMSK0vhIekBNoHfqWm56QGl8ZAK9k3pAhlhRGh+5ekCjND4ygd56QMAQK0rjA3tA3OwXYkUpe0D5yAR6p057QBal8ZEJdHtAMoHeqWuZe0BPXcvBzb57QGw5uNkv5HtAiRWl8ZEJfECl8ZEJ9C58QMLNfiFWVHxA36lrObh5fED7hVhRGp98QBhiRWl8xHxANT4ygd7pfEBRGh+ZQA99QG72C7GiNH1Ai9L4yARafUCoruXgZn99QMSK0vjIpH1A4Wa/ECvKfUD+Qqwoje99QBsfmUDvFH5AN/uFWFE6fkBU13Jws19+QHGzX4gVhX5AjI9MoHeqfkCqazm42c9+QMdHJtA79X5A5CMT6J0af0AAAAAAAEB/QB3c7BdiZX9AOrjZL8SKf0BWlMZHJrB/QHNws1+I1X9AkEygd+r6f0BXlMZHJhCAQGQCvVPXIoBAc3CzX4g1gECC3qlrOUiAQI9MoHfqWoBAnrqWg5ttgECtKI2PTICAQLqWg5v9koBAyQR6p66lgEDYcnCzX7iAQObgZr8Qy4BA9E5dy8HdgEACvVPXcvCAQBErSuMjA4FAH5lA79QVgUAtBzf7hSiBQDx1LQc3O4FAS+MjE+hNgUBYURofmWCBQGe/ECtKc4FAdi0HN/uFgUCDm/1CrJiBQJIJ9E5dq4FAoXfqWg6+gUCv5eBmv9CBQL1T13Jw44FAzMHNfiH2gUDaL8SK0giCQOidupaDG4JA9guxojQugkAFeqeu5UCCQBPonbqWU4JAIVaUxkdmgkAwxIrS+HiCQD8ygd6pi4JATKB36lqegkBbDm72C7GCQGp8ZAK9w4JAd+paDm7WgkCGWFEaH+mCQJXGRybQ+4JAozQ+MoEOg0CxojQ+MiGDQMAQK0rjM4NAzn4hVpRGg0Dc7BdiRVmDQOtaDm72a4NA+cgEeqd+g0AHN/uFWJGDQBWl8ZEJpINAJBPonbq2g0Azgd6pa8mDQEDv1LUc3INAT13Lwc3ug0Bey8HNfgGEQGs5uNkvFIRAeqeu5eAmhECJFaXxkTmEQJeDm/1CTIRApfGRCfRehEC0X4gVpXGEQMLNfiFWhIRA0Dt1LQeXhEDfqWs5uKmEQO0XYkVpvIRA/IVYURrPhEAJ9E5dy+GEQBhiRWl89IRAJ9A7dS0HhUA0PjKB3hmFQEOsKI2PLIVAUhofmUA/hUBfiBWl8VGFQG72C7GiZIVAfWQCvVN3hUCL0vjIBIqFQJlA79S1nIVAqK7l4GavhUC2HNzsF8KFQMSK0vjI1IVA0/jIBHrnhUDhZr8QK/qFQPDUtRzcDIZA/kKsKI0fhkAMsaI0PjKGQBsfmUDvRIZAKI2PTKBXhkA3+4VYUWqGQEZpfGQCfYZAU9dycLOPhkBiRWl8ZKKGQHGzX4gVtYZAfyFWlMbHhkCNj0ygd9qGQJz9Qqwo7YZAqms5uNn/hkC42S/EihKHQMdHJtA7JYdA1bUc3Ow3h0DkIxPonUqHQPKRCfROXYdAAAAAAABwh0APbvYLsYKHQBzc7BdilYdAK0rjIxOoh0A6uNkvxLqHQEcm0Dt1zYdAVpTGRybgh0BlAr1T1/KHQHNws1+IBYhAgd6pazkYiECQTKB36iqIQJ66loObPYhArCiNj0xQiEC7loOb/WKIQMkEeqeudYhA2HJws1+IiEDm4Ga/EJuIQPROXcvBrYhAA71T13LAiEARK0rjI9OIQB+ZQO/U5YhALgc3+4X4iEA8dS0HNwuJQErjIxPoHYlAWVEaH5kwiUBnvxArSkOJQHUtBzf7VYlAhJv9QqxoiUCSCfROXXuJQKB36loOjolAr+XgZr+giUC9U9dycLOJQMzBzX4hxolA2i/EitLYiUDonbqWg+uJQPcLsaI0/olABXqnruUQikAT6J26liOKQCJWlMZHNopAMMSK0vhIikA+MoHeqVuKQE2gd+pabopAWw5u9guBikBpfGQCvZOKQHjqWg5upopAhlhRGh+5ikCUxkcm0MuKQKM0PjKB3opAsaI0PjLxikDAECtK4wOLQM5+IVaUFotA3OwXYkUpi0DrWg5u9juLQPnIBHqnTotABzf7hVhhi0AWpfGRCXSLQCQT6J26hotAMoHeqWuZi0BB79S1HKyLQE9dy8HNvotAXcvBzX7Ri0BsObjZL+SLQHqnruXg9otAiRWl8ZEJjECXg5v9QhyMQKXxkQn0LoxAtF+IFaVBjEDCzX4hVlSMQNA7dS0HZ4xA36lrObh5jEDtF2JFaYyMQPuFWFEan4xACvROXcuxjEAYYkVpfMSMQCbQO3Ut14xANT4ygd7pjEBDrCiNj/yMQFEaH5lAD41AYIgVpfEhjUBu9guxojSNQH1kAr1TR41Ai9L4yARajUCZQO/UtWyNQKiu5eBmf41Athzc7BeSjUDEitL4yKSNQNP4yAR6t41A4Wa/ECvKjUDv1LUc3NyNQP5CrCiN741ADbGiND4CjkAbH5lA7xSOQCqNj0ygJ45AN/uFWFE6jkBFaXxkAk2OQFTXcnCzX45AYkVpfGRyjkBxs1+IFYWOQIAhVpTGl45AjI9MoHeqjkCb/UKsKL2OQKprObjZz45AuNkvxIrijkDHRybQO/WOQNa1HNzsB49A5CMT6J0aj0DxkQn0Ti2PQAAAAAAAQI9ADm72C7FSj0Ad3OwXYmWPQCtK4yMTeI9AOrjZL8SKj0BJJtA7dZ2PQFaUxkcmsI9AZAK9U9fCj0BzcLNfiNWPQIHeqWs56I9AkEygd+r6j0BPXcvBzQaQQFeUxkcmEJBAXcvBzX4ZkEBkAr1T1yKQQGw5uNkvLJBAc3CzX4g1kEB6p67l4D6QQILeqWs5SJBAiRWl8ZFRkECPTKB36lqQQJeDm/1CZJBAnrqWg5ttkECl8ZEJ9HaQQK0ojY9MgJBAtF+IFaWJkEC6loOb/ZKQQMLNfiFWnJBAyQR6p66lkEDQO3UtB6+QQNhycLNfuJBA36lrObjBkEDm4Ga/EMuQQO0XYkVp1JBA9E5dy8HdkED7hVhRGueQQAK9U9dy8JBACvROXcv5kEARK0rjIwORQBhiRWl8DJFAH5lA79QVkUAm0Dt1LR+RQC0HN/uFKJFANT4ygd4xkUA8dS0HNzuRQEOsKI2PRJFAS+MjE+hNkUBRGh+ZQFeRQFhRGh+ZYJFAYIgVpfFpkUBnvxArSnORQG72C7GifJFAdi0HN/uFkUB9ZAK9U4+RQIOb/UKsmJFAi9L4yASikUCSCfROXauRQJlA79S1tJFAoXfqWg6+kUCoruXgZseRQK/l4Ga/0JFAthzc7BfakUC9U9dycOORQMSK0vjI7JFAzMHNfiH2kUDT+MgEev+RQNovxIrSCJJA4Wa/ECsSkkDonbqWgxuSQO/UtRzcJJJA9guxojQukkD+QqwojTeSQA==",
          "dtype": "f8"
         },
         "xaxis": "x",
         "y": {
          "bdata": "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",
          "dtype": "f8"
         },
         "yaxis": "y"
        }
       ],
       "layout": {
        "annotations": [
         {
          "font": {
           "size": 16
          },
          "showarrow": false,
          "text": "Averaged Signals (Time Domain)",
          "x": 0.5,
          "xanchor": "center",
          "xref": "paper",
          "y": 1,
          "yanchor": "bottom",
          "yref": "paper"
         }
        ],
        "hovermode": "x unified",
        "showlegend": true,
        "template": {
         "data": {
          "bar": [
           {
            "error_x": {
             "color": "#2a3f5f"
            },
            "error_y": {
             "color": "#2a3f5f"
            },
            "marker": {
             "line": {
              "color": "#E5ECF6",
              "width": 0.5
             },
             "pattern": {
              "fillmode": "overlay",
              "size": 10,
              "solidity": 0.2
             }
            },
            "type": "bar"
           }
          ],
          "barpolar": [
           {
            "marker": {
             "line": {
              "color": "#E5ECF6",
              "width": 0.5
             },
             "pattern": {
              "fillmode": "overlay",
              "size": 10,
              "solidity": 0.2
             }
            },
            "type": "barpolar"
           }
          ],
          "carpet": [
           {
            "aaxis": {
             "endlinecolor": "#2a3f5f",
             "gridcolor": "white",
             "linecolor": "white",
             "minorgridcolor": "white",
             "startlinecolor": "#2a3f5f"
            },
            "baxis": {
             "endlinecolor": "#2a3f5f",
             "gridcolor": "white",
             "linecolor": "white",
             "minorgridcolor": "white",
             "startlinecolor": "#2a3f5f"
            },
            "type": "carpet"
           }
          ],
          "choropleth": [
           {
            "colorbar": {
             "outlinewidth": 0,
             "ticks": ""
            },
            "type": "choropleth"
           }
          ],
          "contour": [
           {
            "colorbar": {
             "outlinewidth": 0,
             "ticks": ""
            },
            "colorscale": [
             [
              0,
              "#0d0887"
             ],
             [
              0.1111111111111111,
              "#46039f"
             ],
             [
              0.2222222222222222,
              "#7201a8"
             ],
             [
              0.3333333333333333,
              "#9c179e"
             ],
             [
              0.4444444444444444,
              "#bd3786"
             ],
             [
              0.5555555555555556,
              "#d8576b"
             ],
             [
              0.6666666666666666,
              "#ed7953"
             ],
             [
              0.7777777777777778,
              "#fb9f3a"
             ],
             [
              0.8888888888888888,
              "#fdca26"
             ],
             [
              1,
              "#f0f921"
             ]
            ],
            "type": "contour"
           }
          ],
          "contourcarpet": [
           {
            "colorbar": {
             "outlinewidth": 0,
             "ticks": ""
            },
            "type": "contourcarpet"
           }
          ],
          "heatmap": [
           {
            "colorbar": {
             "outlinewidth": 0,
             "ticks": ""
            },
            "colorscale": [
             [
              0,
              "#0d0887"
             ],
             [
              0.1111111111111111,
              "#46039f"
             ],
             [
              0.2222222222222222,
              "#7201a8"
             ],
             [
              0.3333333333333333,
              "#9c179e"
             ],
             [
              0.4444444444444444,
              "#bd3786"
             ],
             [
              0.5555555555555556,
              "#d8576b"
             ],
             [
              0.6666666666666666,
              "#ed7953"
             ],
             [
              0.7777777777777778,
              "#fb9f3a"
             ],
             [
              0.8888888888888888,
              "#fdca26"
             ],
             [
              1,
              "#f0f921"
             ]
            ],
            "type": "heatmap"
           }
          ],
          "histogram": [
           {
            "marker": {
             "pattern": {
              "fillmode": "overlay",
              "size": 10,
              "solidity": 0.2
             }
            },
            "type": "histogram"
           }
          ],
          "histogram2d": [
           {
            "colorbar": {
             "outlinewidth": 0,
             "ticks": ""
            },
            "colorscale": [
             [
              0,
              "#0d0887"
             ],
             [
              0.1111111111111111,
              "#46039f"
             ],
             [
              0.2222222222222222,
              "#7201a8"
             ],
             [
              0.3333333333333333,
              "#9c179e"
             ],
             [
              0.4444444444444444,
              "#bd3786"
             ],
             [
              0.5555555555555556,
              "#d8576b"
             ],
             [
              0.6666666666666666,
              "#ed7953"
             ],
             [
              0.7777777777777778,
              "#fb9f3a"
             ],
             [
              0.8888888888888888,
              "#fdca26"
             ],
             [
              1,
              "#f0f921"
             ]
            ],
            "type": "histogram2d"
           }
          ],
          "histogram2dcontour": [
           {
            "colorbar": {
             "outlinewidth": 0,
             "ticks": ""
            },
            "colorscale": [
             [
              0,
              "#0d0887"
             ],
             [
              0.1111111111111111,
              "#46039f"
             ],
             [
              0.2222222222222222,
              "#7201a8"
             ],
             [
              0.3333333333333333,
              "#9c179e"
             ],
             [
              0.4444444444444444,
              "#bd3786"
             ],
             [
              0.5555555555555556,
              "#d8576b"
             ],
             [
              0.6666666666666666,
              "#ed7953"
             ],
             [
              0.7777777777777778,
              "#fb9f3a"
             ],
             [
              0.8888888888888888,
              "#fdca26"
             ],
             [
              1,
              "#f0f921"
             ]
            ],
            "type": "histogram2dcontour"
           }
          ],
          "mesh3d": [
           {
            "colorbar": {
             "outlinewidth": 0,
             "ticks": ""
            },
            "type": "mesh3d"
           }
          ],
          "parcoords": [
           {
            "line": {
             "colorbar": {
              "outlinewidth": 0,
              "ticks": ""
             }
            },
            "type": "parcoords"
           }
          ],
          "pie": [
           {
            "automargin": true,
            "type": "pie"
           }
          ],
          "scatter": [
           {
            "fillpattern": {
             "fillmode": "overlay",
             "size": 10,
             "solidity": 0.2
            },
            "type": "scatter"
           }
          ],
          "scatter3d": [
           {
            "line": {
             "colorbar": {
              "outlinewidth": 0,
              "ticks": ""
             }
            },
            "marker": {
             "colorbar": {
              "outlinewidth": 0,
              "ticks": ""
             }
            },
            "type": "scatter3d"
           }
          ],
          "scattercarpet": [
           {
            "marker": {
             "colorbar": {
              "outlinewidth": 0,
              "ticks": ""
             }
            },
            "type": "scattercarpet"
           }
          ],
          "scattergeo": [
           {
            "marker": {
             "colorbar": {
              "outlinewidth": 0,
              "ticks": ""
             }
            },
            "type": "scattergeo"
           }
          ],
          "scattergl": [
           {
            "marker": {
             "colorbar": {
              "outlinewidth": 0,
              "ticks": ""
             }
            },
            "type": "scattergl"
           }
          ],
          "scattermap": [
           {
            "marker": {
             "colorbar": {
              "outlinewidth": 0,
              "ticks": ""
             }
            },
            "type": "scattermap"
           }
          ],
          "scattermapbox": [
           {
            "marker": {
             "colorbar": {
              "outlinewidth": 0,
              "ticks": ""
             }
            },
            "type": "scattermapbox"
           }
          ],
          "scatterpolar": [
           {
            "marker": {
             "colorbar": {
              "outlinewidth": 0,
              "ticks": ""
             }
            },
            "type": "scatterpolar"
           }
          ],
          "scatterpolargl": [
           {
            "marker": {
             "colorbar": {
              "outlinewidth": 0,
              "ticks": ""
             }
            },
            "type": "scatterpolargl"
           }
          ],
          "scatterternary": [
           {
            "marker": {
             "colorbar": {
              "outlinewidth": 0,
              "ticks": ""
             }
            },
            "type": "scatterternary"
           }
          ],
          "surface": [
           {
            "colorbar": {
             "outlinewidth": 0,
             "ticks": ""
            },
            "colorscale": [
             [
              0,
              "#0d0887"
             ],
             [
              0.1111111111111111,
              "#46039f"
             ],
             [
              0.2222222222222222,
              "#7201a8"
             ],
             [
              0.3333333333333333,
              "#9c179e"
             ],
             [
              0.4444444444444444,
              "#bd3786"
             ],
             [
              0.5555555555555556,
              "#d8576b"
             ],
             [
              0.6666666666666666,
              "#ed7953"
             ],
             [
              0.7777777777777778,
              "#fb9f3a"
             ],
             [
              0.8888888888888888,
              "#fdca26"
             ],
             [
              1,
              "#f0f921"
             ]
            ],
            "type": "surface"
           }
          ],
          "table": [
           {
            "cells": {
             "fill": {
              "color": "#EBF0F8"
             },
             "line": {
              "color": "white"
             }
            },
            "header": {
             "fill": {
              "color": "#C8D4E3"
             },
             "line": {
              "color": "white"
             }
            },
            "type": "table"
           }
          ]
         },
         "layout": {
          "annotationdefaults": {
           "arrowcolor": "#2a3f5f",
           "arrowhead": 0,
           "arrowwidth": 1
          },
          "autotypenumbers": "strict",
          "coloraxis": {
           "colorbar": {
            "outlinewidth": 0,
            "ticks": ""
           }
          },
          "colorscale": {
           "diverging": [
            [
             0,
             "#8e0152"
            ],
            [
             0.1,
             "#c51b7d"
            ],
            [
             0.2,
             "#de77ae"
            ],
            [
             0.3,
             "#f1b6da"
            ],
            [
             0.4,
             "#fde0ef"
            ],
            [
             0.5,
             "#f7f7f7"
            ],
            [
             0.6,
             "#e6f5d0"
            ],
            [
             0.7,
             "#b8e186"
            ],
            [
             0.8,
             "#7fbc41"
            ],
            [
             0.9,
             "#4d9221"
            ],
            [
             1,
             "#276419"
            ]
           ],
           "sequential": [
            [
             0,
             "#0d0887"
            ],
            [
             0.1111111111111111,
             "#46039f"
            ],
            [
             0.2222222222222222,
             "#7201a8"
            ],
            [
             0.3333333333333333,
             "#9c179e"
            ],
            [
             0.4444444444444444,
             "#bd3786"
            ],
            [
             0.5555555555555556,
             "#d8576b"
            ],
            [
             0.6666666666666666,
             "#ed7953"
            ],
            [
             0.7777777777777778,
             "#fb9f3a"
            ],
            [
             0.8888888888888888,
             "#fdca26"
            ],
            [
             1,
             "#f0f921"
            ]
           ],
           "sequentialminus": [
            [
             0,
             "#0d0887"
            ],
            [
             0.1111111111111111,
             "#46039f"
            ],
            [
             0.2222222222222222,
             "#7201a8"
            ],
            [
             0.3333333333333333,
             "#9c179e"
            ],
            [
             0.4444444444444444,
             "#bd3786"
            ],
            [
             0.5555555555555556,
             "#d8576b"
            ],
            [
             0.6666666666666666,
             "#ed7953"
            ],
            [
             0.7777777777777778,
             "#fb9f3a"
            ],
            [
             0.8888888888888888,
             "#fdca26"
            ],
            [
             1,
             "#f0f921"
            ]
           ]
          },
          "colorway": [
           "#636efa",
           "#EF553B",
           "#00cc96",
           "#ab63fa",
           "#FFA15A",
           "#19d3f3",
           "#FF6692",
           "#B6E880",
           "#FF97FF",
           "#FECB52"
          ],
          "font": {
           "color": "#2a3f5f"
          },
          "geo": {
           "bgcolor": "white",
           "lakecolor": "white",
           "landcolor": "#E5ECF6",
           "showlakes": true,
           "showland": true,
           "subunitcolor": "white"
          },
          "hoverlabel": {
           "align": "left"
          },
          "hovermode": "closest",
          "mapbox": {
           "style": "light"
          },
          "paper_bgcolor": "white",
          "plot_bgcolor": "#E5ECF6",
          "polar": {
           "angularaxis": {
            "gridcolor": "white",
            "linecolor": "white",
            "ticks": ""
           },
           "bgcolor": "#E5ECF6",
           "radialaxis": {
            "gridcolor": "white",
            "linecolor": "white",
            "ticks": ""
           }
          },
          "scene": {
           "xaxis": {
            "backgroundcolor": "#E5ECF6",
            "gridcolor": "white",
            "gridwidth": 2,
            "linecolor": "white",
            "showbackground": true,
            "ticks": "",
            "zerolinecolor": "white"
           },
           "yaxis": {
            "backgroundcolor": "#E5ECF6",
            "gridcolor": "white",
            "gridwidth": 2,
            "linecolor": "white",
            "showbackground": true,
            "ticks": "",
            "zerolinecolor": "white"
           },
           "zaxis": {
            "backgroundcolor": "#E5ECF6",
            "gridcolor": "white",
            "gridwidth": 2,
            "linecolor": "white",
            "showbackground": true,
            "ticks": "",
            "zerolinecolor": "white"
           }
          },
          "shapedefaults": {
           "line": {
            "color": "#2a3f5f"
           }
          },
          "ternary": {
           "aaxis": {
            "gridcolor": "white",
            "linecolor": "white",
            "ticks": ""
           },
           "baxis": {
            "gridcolor": "white",
            "linecolor": "white",
            "ticks": ""
           },
           "bgcolor": "#E5ECF6",
           "caxis": {
            "gridcolor": "white",
            "linecolor": "white",
            "ticks": ""
           }
          },
          "title": {
           "x": 0.05
          },
          "xaxis": {
           "automargin": true,
           "gridcolor": "white",
           "linecolor": "white",
           "ticks": "",
           "title": {
            "standoff": 15
           },
           "zerolinecolor": "white",
           "zerolinewidth": 2
          },
          "yaxis": {
           "automargin": true,
           "gridcolor": "white",
           "linecolor": "white",
           "ticks": "",
           "title": {
            "standoff": 15
           },
           "zerolinecolor": "white",
           "zerolinewidth": 2
          }
         }
        },
        "width": 800,
        "xaxis": {
         "anchor": "y",
         "domain": [
          0,
          1
         ],
         "title": {
          "text": "Frequency (Hz)"
         }
        },
        "yaxis": {
         "anchor": "x",
         "domain": [
          0,
          1
         ],
         "title": {
          "text": "Amplitude"
         }
        }
       }
      }
     },
     "metadata": {},
     "output_type": "display_data"
    }
   ],
   "source": [
    "# --- Define a helper function for FFT calculation ---\n",
    "def calculate_fft(signal_avg, tau_array):\n",
    "    N = len(signal_avg)\n",
    "    try:\n",
    "        T = tau_array[1] - tau_array[0]  # Sample spacing\n",
    "    except IndexError:\n",
    "        print(\"Warning: tau_array might not have enough points to determine sample spacing. Assuming T=1.\")\n",
    "        T = 1.0  # Default to 1 if not enough points\n",
    "\n",
    "    # Remove DC component (mean) before FFT\n",
    "    yf = np.fft.fft(signal_avg - np.mean(signal_avg))\n",
    "    xf = np.fft.fftfreq(N, T)[:N//2] * 1e9\n",
    "\n",
    "    # Amplitude normalization\n",
    "    amplitude = 2.0/N * np.abs(yf[0:N//2])\n",
    "    return xf, amplitude\n",
    "\n",
    "# Calculate FFT for both signals\n",
    "xf_AB, amp_AB = calculate_fft(sig_AB, dataset[\"tau_AB\"])\n",
    "xf_BA, amp_BA = calculate_fft(sig_BA, dataset[\"tau_BA\"])\n",
    "xf_AB, amp_AB_bg = calculate_fft(sig_AB_bg, dataset[\"tau_AB\"])\n",
    "xf_BA, amp_BA_bg = calculate_fft(sig_BA_bg, dataset[\"tau_BA\"])\n",
    "xf_AB, amp_AB_df = calculate_fft(sig_AB-sig_AB_bg, dataset[\"tau_AB\"])\n",
    "xf_BA, amp_BA_df = calculate_fft(sig_BA-sig_BA_bg, dataset[\"tau_BA\"])\n",
    "\n",
    "\n",
    "# --- Plotting with Plotly ---\n",
    "import plotly.graph_objects as go\n",
    "from plotly.subplots import make_subplots\n",
    "# Create subplots for time domain and frequency domain\n",
    "fig = make_subplots(rows=1, cols=1,\n",
    "                    subplot_titles=('Averaged Signals (Time Domain)', 'FFT of Averaged Signals (Frequency Domain)'))\n",
    "\n",
    "\n",
    "\n",
    "# Add frequency domain plots\n",
    "fig.add_trace(go.Scatter(x=xf_AB, y=amp_AB, mode='lines', name='FFT of sig_AB'),\n",
    "              row=1, col=1)\n",
    "fig.add_trace(go.Scatter(x=xf_BA, y=amp_BA, mode='lines', name='FFT of sig_BA'),\n",
    "              row=1, col=1)\n",
    "fig.add_trace(go.Scatter(x=xf_AB, y=amp_AB_bg, mode='lines', name='FFT of bg sig_AB'),\n",
    "              row=1, col=1)\n",
    "fig.add_trace(go.Scatter(x=xf_BA, y=amp_BA_bg, mode='lines', name='FFT of bg sig_BA'),\n",
    "              row=1, col=1)\n",
    "fig.add_trace(go.Scatter(x=xf_AB, y=amp_AB_df, mode='lines', name='FFT of sig_AB_df'),\n",
    "              row=1, col=1)\n",
    "fig.add_trace(go.Scatter(x=xf_BA, y=amp_BA_df, mode='lines', name='FFT of sig_BA_df'),\n",
    "              row=1, col=1)\n",
    "\n",
    "\n",
    "# Update layout for frequency domain plot\n",
    "fig.update_xaxes(title_text='Frequency (Hz)', row=1, col=1) # Changed to MHz\n",
    "fig.update_yaxes(title_text='Amplitude', row=1, col=1)\n",
    "\n",
    "# Update overall layout\n",
    "fig.update_layout(width=800, showlegend=True, hovermode=\"x unified\")\n",
    "fig.show()"
   ]
  },
  {
   "cell_type": "code",
   "execution_count": null,
   "id": "f5ace10e",
   "metadata": {},
   "outputs": [],
   "source": []
  },
  {
   "cell_type": "code",
   "execution_count": null,
   "id": "7b39d2ec",
   "metadata": {},
   "outputs": [],
   "source": []
  }
 ],
 "metadata": {
  "kernelspec": {
   "display_name": "hfnvenv",
   "language": "python",
   "name": "python3"
  },
  "language_info": {
   "codemirror_mode": {
    "name": "ipython",
    "version": 3
   },
   "file_extension": ".py",
   "mimetype": "text/x-python",
   "name": "python",
   "nbconvert_exporter": "python",
   "pygments_lexer": "ipython3",
   "version": "3.10.16"
  }
 },
 "nbformat": 4,
 "nbformat_minor": 5
}
