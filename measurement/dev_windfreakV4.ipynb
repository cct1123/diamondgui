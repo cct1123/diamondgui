{
    "cells": [
        {
            "cell_type": "code",
            "execution_count": 1,
            "id": "14b4da12",
            "metadata": {},
            "outputs": [],
            "source": [
                "import time\n",
                "import sys\n",
                "import os\n",
                "path_project = \"\\\\\".join(os.getcwd().split(\"\\\\\")[:-1])\n",
                "sys.path.insert(1, path_project)\n",
                "from windfreak import SynthHD\n"
            ]
        },
        {
            "cell_type": "code",
            "execution_count": 2,
            "id": "b37f56a1",
            "metadata": {},
            "outputs": [
                {
                    "ename": "SerialException",
                    "evalue": "could not open port 'COM4': PermissionError(13, 'Access is denied.', None, 5)",
                    "output_type": "error",
                    "traceback": [
                        "\u001b[1;31m---------------------------------------------------------------------------\u001b[0m",
                        "\u001b[1;31mSerialException\u001b[0m                           Traceback (most recent call last)",
                        "Cell \u001b[1;32mIn[2], line 1\u001b[0m\n\u001b[1;32m----> 1\u001b[0m synth \u001b[38;5;241m=\u001b[39m \u001b[43mSynthHD\u001b[49m\u001b[43m(\u001b[49m\u001b[38;5;124;43m'\u001b[39;49m\u001b[38;5;124;43mCOM4\u001b[39;49m\u001b[38;5;124;43m'\u001b[39;49m\u001b[43m)\u001b[49m\n\u001b[0;32m      2\u001b[0m synth\u001b[38;5;241m.\u001b[39minit()\n\u001b[0;32m      3\u001b[0m ch \u001b[38;5;241m=\u001b[39m synth[\u001b[38;5;241m0\u001b[39m]  \n",
                        "File \u001b[1;32mc:\\Users\\HFNV\\.conda\\envs\\hfnvenv\\lib\\site-packages\\windfreak\\synth_hd.py:397\u001b[0m, in \u001b[0;36mSynthHD.__init__\u001b[1;34m(self, devpath)\u001b[0m\n\u001b[0;32m    396\u001b[0m \u001b[38;5;28;01mdef\u001b[39;00m\u001b[38;5;250m \u001b[39m\u001b[38;5;21m__init__\u001b[39m(\u001b[38;5;28mself\u001b[39m, devpath):\n\u001b[1;32m--> 397\u001b[0m     \u001b[38;5;28;43msuper\u001b[39;49m\u001b[43m(\u001b[49m\u001b[43m)\u001b[49m\u001b[38;5;241;43m.\u001b[39;49m\u001b[38;5;21;43m__init__\u001b[39;49m\u001b[43m(\u001b[49m\u001b[43mdevpath\u001b[49m\u001b[43m)\u001b[49m\n\u001b[0;32m    398\u001b[0m     \u001b[38;5;28mself\u001b[39m\u001b[38;5;241m.\u001b[39m_model \u001b[38;5;241m=\u001b[39m \u001b[38;5;28;01mNone\u001b[39;00m\n\u001b[0;32m    399\u001b[0m     \u001b[38;5;28mself\u001b[39m\u001b[38;5;241m.\u001b[39m_model \u001b[38;5;241m=\u001b[39m \u001b[38;5;28mself\u001b[39m\u001b[38;5;241m.\u001b[39mmodel\n",
                        "File \u001b[1;32mc:\\Users\\HFNV\\.conda\\envs\\hfnvenv\\lib\\site-packages\\windfreak\\device.py:9\u001b[0m, in \u001b[0;36mSerialDevice.__init__\u001b[1;34m(self, devpath)\u001b[0m\n\u001b[0;32m      7\u001b[0m \u001b[38;5;28mself\u001b[39m\u001b[38;5;241m.\u001b[39m_devpath \u001b[38;5;241m=\u001b[39m devpath\n\u001b[0;32m      8\u001b[0m \u001b[38;5;28mself\u001b[39m\u001b[38;5;241m.\u001b[39m_dev \u001b[38;5;241m=\u001b[39m \u001b[38;5;28;01mNone\u001b[39;00m\n\u001b[1;32m----> 9\u001b[0m \u001b[38;5;28;43mself\u001b[39;49m\u001b[38;5;241;43m.\u001b[39;49m\u001b[43mopen\u001b[49m\u001b[43m(\u001b[49m\u001b[43m)\u001b[49m\n",
                        "File \u001b[1;32mc:\\Users\\HFNV\\.conda\\envs\\hfnvenv\\lib\\site-packages\\windfreak\\device.py:17\u001b[0m, in \u001b[0;36mSerialDevice.open\u001b[1;34m(self)\u001b[0m\n\u001b[0;32m     15\u001b[0m \u001b[38;5;28;01mif\u001b[39;00m \u001b[38;5;28mself\u001b[39m\u001b[38;5;241m.\u001b[39m_dev \u001b[38;5;129;01mis\u001b[39;00m \u001b[38;5;129;01mnot\u001b[39;00m \u001b[38;5;28;01mNone\u001b[39;00m:\n\u001b[0;32m     16\u001b[0m     \u001b[38;5;28;01mraise\u001b[39;00m \u001b[38;5;167;01mRuntimeError\u001b[39;00m(\u001b[38;5;124m'\u001b[39m\u001b[38;5;124mDevice has already been opened.\u001b[39m\u001b[38;5;124m'\u001b[39m)\n\u001b[1;32m---> 17\u001b[0m \u001b[38;5;28mself\u001b[39m\u001b[38;5;241m.\u001b[39m_dev \u001b[38;5;241m=\u001b[39m \u001b[43mSerial\u001b[49m\u001b[43m(\u001b[49m\u001b[43mport\u001b[49m\u001b[38;5;241;43m=\u001b[39;49m\u001b[38;5;28;43mself\u001b[39;49m\u001b[38;5;241;43m.\u001b[39;49m\u001b[43m_devpath\u001b[49m\u001b[43m,\u001b[49m\u001b[43m \u001b[49m\u001b[43mtimeout\u001b[49m\u001b[38;5;241;43m=\u001b[39;49m\u001b[38;5;241;43m10\u001b[39;49m\u001b[43m)\u001b[49m\n",
                        "File \u001b[1;32mc:\\Users\\HFNV\\.conda\\envs\\hfnvenv\\lib\\site-packages\\serial\\serialwin32.py:33\u001b[0m, in \u001b[0;36mSerial.__init__\u001b[1;34m(self, *args, **kwargs)\u001b[0m\n\u001b[0;32m     31\u001b[0m \u001b[38;5;28mself\u001b[39m\u001b[38;5;241m.\u001b[39m_overlapped_read \u001b[38;5;241m=\u001b[39m \u001b[38;5;28;01mNone\u001b[39;00m\n\u001b[0;32m     32\u001b[0m \u001b[38;5;28mself\u001b[39m\u001b[38;5;241m.\u001b[39m_overlapped_write \u001b[38;5;241m=\u001b[39m \u001b[38;5;28;01mNone\u001b[39;00m\n\u001b[1;32m---> 33\u001b[0m \u001b[38;5;28msuper\u001b[39m(Serial, \u001b[38;5;28mself\u001b[39m)\u001b[38;5;241m.\u001b[39m\u001b[38;5;21m__init__\u001b[39m(\u001b[38;5;241m*\u001b[39margs, \u001b[38;5;241m*\u001b[39m\u001b[38;5;241m*\u001b[39mkwargs)\n",
                        "File \u001b[1;32mc:\\Users\\HFNV\\.conda\\envs\\hfnvenv\\lib\\site-packages\\serial\\serialutil.py:244\u001b[0m, in \u001b[0;36mSerialBase.__init__\u001b[1;34m(self, port, baudrate, bytesize, parity, stopbits, timeout, xonxoff, rtscts, write_timeout, dsrdtr, inter_byte_timeout, exclusive, **kwargs)\u001b[0m\n\u001b[0;32m    241\u001b[0m     \u001b[38;5;28;01mraise\u001b[39;00m \u001b[38;5;167;01mValueError\u001b[39;00m(\u001b[38;5;124m'\u001b[39m\u001b[38;5;124munexpected keyword arguments: \u001b[39m\u001b[38;5;132;01m{!r}\u001b[39;00m\u001b[38;5;124m'\u001b[39m\u001b[38;5;241m.\u001b[39mformat(kwargs))\n\u001b[0;32m    243\u001b[0m \u001b[38;5;28;01mif\u001b[39;00m port \u001b[38;5;129;01mis\u001b[39;00m \u001b[38;5;129;01mnot\u001b[39;00m \u001b[38;5;28;01mNone\u001b[39;00m:\n\u001b[1;32m--> 244\u001b[0m     \u001b[38;5;28;43mself\u001b[39;49m\u001b[38;5;241;43m.\u001b[39;49m\u001b[43mopen\u001b[49m\u001b[43m(\u001b[49m\u001b[43m)\u001b[49m\n",
                        "File \u001b[1;32mc:\\Users\\HFNV\\.conda\\envs\\hfnvenv\\lib\\site-packages\\serial\\serialwin32.py:64\u001b[0m, in \u001b[0;36mSerial.open\u001b[1;34m(self)\u001b[0m\n\u001b[0;32m     62\u001b[0m \u001b[38;5;28;01mif\u001b[39;00m \u001b[38;5;28mself\u001b[39m\u001b[38;5;241m.\u001b[39m_port_handle \u001b[38;5;241m==\u001b[39m win32\u001b[38;5;241m.\u001b[39mINVALID_HANDLE_VALUE:\n\u001b[0;32m     63\u001b[0m     \u001b[38;5;28mself\u001b[39m\u001b[38;5;241m.\u001b[39m_port_handle \u001b[38;5;241m=\u001b[39m \u001b[38;5;28;01mNone\u001b[39;00m    \u001b[38;5;66;03m# 'cause __del__ is called anyway\u001b[39;00m\n\u001b[1;32m---> 64\u001b[0m     \u001b[38;5;28;01mraise\u001b[39;00m SerialException(\u001b[38;5;124m\"\u001b[39m\u001b[38;5;124mcould not open port \u001b[39m\u001b[38;5;132;01m{!r}\u001b[39;00m\u001b[38;5;124m: \u001b[39m\u001b[38;5;132;01m{!r}\u001b[39;00m\u001b[38;5;124m\"\u001b[39m\u001b[38;5;241m.\u001b[39mformat(\u001b[38;5;28mself\u001b[39m\u001b[38;5;241m.\u001b[39mportstr, ctypes\u001b[38;5;241m.\u001b[39mWinError()))\n\u001b[0;32m     66\u001b[0m \u001b[38;5;28;01mtry\u001b[39;00m:\n\u001b[0;32m     67\u001b[0m     \u001b[38;5;28mself\u001b[39m\u001b[38;5;241m.\u001b[39m_overlapped_read \u001b[38;5;241m=\u001b[39m win32\u001b[38;5;241m.\u001b[39mOVERLAPPED()\n",
                        "\u001b[1;31mSerialException\u001b[0m: could not open port 'COM4': PermissionError(13, 'Access is denied.', None, 5)"
                    ]
                }
            ],
            "source": [
                "synth = SynthHD('COM4')\n",
                "synth.init()\n",
                "ch = synth[0]  "
            ]
        },
        {
            "cell_type": "code",
            "execution_count": null,
            "id": "77125dbd",
            "metadata": {},
            "outputs": [
                {
                    "data": {
                        "text/plain": [
                            "10000000.0"
                        ]
                    },
                    "execution_count": 3,
                    "metadata": {},
                    "output_type": "execute_result"
                }
            ],
            "source": [
                "ch.frequency"
            ]
        },
        {
            "cell_type": "code",
            "execution_count": null,
            "id": "8fb51893",
            "metadata": {},
            "outputs": [
                {
                    "data": {
                        "text/plain": [
                            "10.0"
                        ]
                    },
                    "execution_count": 4,
                    "metadata": {},
                    "output_type": "execute_result"
                }
            ],
            "source": [
                "ch.read('frequency')"
            ]
        },
        {
            "cell_type": "code",
            "execution_count": null,
            "id": "1aa283eb",
            "metadata": {},
            "outputs": [],
            "source": [
                "API_PARAMS = [\n",
                "    \"channel\",\n",
                "    \"frequency\",\n",
                "    \"power\",\n",
                "    \"calibrated\",\n",
                "    \"temp_comp_mode\",\n",
                "    \"vga_dac\",\n",
                "    \"phase_step\",\n",
                "    \"rf_enable\",\n",
                "    \"pa_power_on\",\n",
                "    \"pll_power_on\",\n",
                "    \"model_type\",\n",
                "    \"serial_number\",\n",
                "    \"fw_version\",\n",
                "    \"hw_version\",\n",
                "    \"sub_version\",\n",
                "    \"save\",\n",
                "    \"reference_mode\",\n",
                "    \"trig_function\",\n",
                "    \"pll_lock\",\n",
                "    \"temperature\",\n",
                "    \"ref_frequency\",\n",
                "    \"channelspacing\",\n",
                "    \"sweep_freq_low\",\n",
                "    \"sweep_freq_high\",\n",
                "    \"sweep_freq_step\",\n",
                "    \"sweep_time_step\",\n",
                "    \"sweep_power_low\",\n",
                "    \"sweep_power_high\",\n",
                "    \"sweep_direction\",\n",
                "    \"sweep_diff_freq\",\n",
                "    \"sweep_diff_meth\",\n",
                "    \"sweep_type\",\n",
                "    \"sweep_single\",\n",
                "    \"sweep_cont\",\n",
                "    \"am_time_step\",\n",
                "    \"am_num_samples\",\n",
                "    \"am_cont\",\n",
                "    \"am_lookup_table\",\n",
                "    \"pulse_on_time\",\n",
                "    \"pulse_off_time\",\n",
                "    \"pulse_num_rep\",\n",
                "    \"pulse_invert\",\n",
                "    \"pulse_single\",\n",
                "    \"pulse_cont\",\n",
                "    \"dual_pulse_mod\",\n",
                "    \"fm_frequency\",\n",
                "    \"fm_deviation\",\n",
                "    \"fm_num_samples\",\n",
                "    \"fm_mod_type\",\n",
                "    \"fm_cont\",\n",
                "]\n"
            ]
        },
        {
            "cell_type": "code",
            "execution_count": null,
            "id": "0bde5cd1",
            "metadata": {},
            "outputs": [
                {
                    "name": "stdout",
                    "output_type": "stream",
                    "text": [
                        "0\n",
                        "10.0\n",
                        "-70.0\n",
                        "False\n",
                        "3\n",
                        "5\n",
                        "0.0\n",
                        "False\n",
                        "False\n",
                        "False\n",
                        "WFT SynthHD 1646\n",
                        "1646\n",
                        "Firmware Version 3.27\n",
                        "Hardware Version 2.10\n",
                        "HDPRO\n",
                        "1\n",
                        "0\n",
                        "False\n",
                        "24.375\n",
                        "27.0\n",
                        "999.8\n",
                        "1000.0\n",
                        "10.0\n",
                        "200.0\n",
                        "1.0\n",
                        "0.0\n",
                        "0.0\n",
                        "1\n",
                        "1.0\n",
                        "0\n",
                        "0\n",
                        "False\n",
                        "False\n",
                        "20\n",
                        "65\n",
                        "False\n",
                        "1\n",
                        "10\n",
                        "10\n",
                        "False\n",
                        "False\n",
                        "False\n",
                        "1000\n",
                        "100000\n",
                        "100\n",
                        "0\n",
                        "False\n"
                    ]
                }
            ],
            "source": [
                "for param in API_PARAMS:\n",
                "    try:\n",
                "        print(ch.read(param))\n",
                "    except Exception as e:\n",
                "        # print(f\"Error reading {param}: {e}\")\n",
                "        a=1"
            ]
        },
        {
            "cell_type": "code",
            "execution_count": null,
            "id": "b0285975",
            "metadata": {},
            "outputs": [],
            "source": []
        }
    ],
    "metadata": {
        "kernelspec": {
            "display_name": "hfnvenv",
            "language": "python",
            "name": "python3"
        },
        "language_info": {
            "codemirror_mode": {
                "name": "ipython",
                "version": 3
            },
            "file_extension": ".py",
            "mimetype": "text/x-python",
            "name": "python",
            "nbconvert_exporter": "python",
            "pygments_lexer": "ipython3",
            "version": "3.10.16"
        }
    },
    "nbformat": 4,
    "nbformat_minor": 5
}
