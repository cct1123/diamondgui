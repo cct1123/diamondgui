{
    "cells": [
        {
            "cell_type": "code",
            "execution_count": 4,
            "metadata": {},
            "outputs": [],
            "source": [
                "import time\n",
                "import sys\n",
                "import os\n",
                "path_project = \"\\\\\".join(os.getcwd().split(\"\\\\\")[:-1])\n",
                "# caution: path[0] is reserved for script path (or '' in REPL)\n",
                "sys.path.insert(1, path_project)\n",
                "\n",
                "from hardware.pulser.pulser import PulseGenerator, OutputState, TriggerStart, TriggerRearm, HIGH, LOW, INF\n",
                "from hardware.laser.laser import LaserControl\n",
                "from hardware.mw.mwsynthesizer import Synthesizer\n",
                "from hardware.mw.windfreak import WindfreakSynth\n",
                "from hardware import config as hcf\n",
                "from hardware.hardwaremanager import HardwareManager\n",
                "import nidaqmx\n",
                "from nidaqmx.constants import TerminalConfiguration, VoltageUnits, Edge, AcquisitionType, READ_ALL_AVAILABLE\n",
                "# from nidaqmx.constants import LogicFamily \n",
                "# TWO_POINT_FIVE_V, THREE_POINT_THREE_V, FIVE_V\n",
                "# from nidaqmx import stream_readers \n",
                "# from nidaqmx.stream_readers import AnalogSingleChannelReader\n",
                "\n",
                "import numpy as np\n",
                "import numpy as np\n",
                "from windfreak import SynthHD\n",
                "from math import floor\n",
                "import time\n",
                "import matplotlib.pyplot as plt\n",
                "\n",
                "import plotly.graph_objects as go\n",
                "import plotly.express as px"
            ]
        },
        {
            "cell_type": "code",
            "execution_count": 5,
            "metadata": {},
            "outputs": [],
            "source": [
                "hm = HardwareManager()\n",
                "# adds synthesizer, laser, and pulse generator \n",
                "hm.windfreak = WindfreakSynth('COM4')"
            ]
        },
        {
            "cell_type": "code",
            "execution_count": null,
            "metadata": {},
            "outputs": [],
            "source": [
                "# hm.windfreak.disconnect()"
            ]
        },
        {
            "cell_type": "code",
            "execution_count": null,
            "metadata": {},
            "outputs": [
                {
                    "name": "stdout",
                    "output_type": "stream",
                    "text": [
                        "Connected to Windfreak on COM4\n"
                    ]
                }
            ],
            "source": [
                "# synth = WindfreakSynth('COM4')  # Auto-connects\n"
            ]
        },
        {
            "cell_type": "code",
            "execution_count": 4,
            "metadata": {},
            "outputs": [
                {
                    "name": "stdout",
                    "output_type": "stream",
                    "text": [
                        "Connect to Pulse Streamer via JSON-RPC.\n",
                        "IP / Hostname: 192.168.1.26\n",
                        "Pulse Streamer 8/2 firmware: v1.7.2\n",
                        "Client software: v1.7.0\n"
                    ]
                }
            ],
            "source": [
                "# connect to devices\n",
                "pg  = PulseGenerator(ip=hcf.PS_IP, chmap=hcf.PS_chmap) \n",
                "# mwsyn = Synthesizer(hcf.VDISYN_SN, \n",
                "#                     vidpid=hcf.VDISYN_VIDPID,\n",
                "#                     baudrate=hcf.VDISYN_BAUD, \n",
                "#                     timeout=5, \n",
                "#                     write_timeout=5)\n",
                "# mwsyn.reboot()\n",
                "laser = LaserControl(hcf.LASER_SN)\n",
                "laser.open()\n"
            ]
        },
        {
            "cell_type": "code",
            "execution_count": 5,
            "metadata": {},
            "outputs": [],
            "source": [
                "current_percent = 75.09\n",
                "laser.laser_off()\n",
                "laser.set_analog_control_mode(\"current\")\n",
                "laser.set_modulation_state(\"Pulsed\")\n",
                "laser.set_diode_current(current_percent, save_memory=False)"
            ]
        },
        {
            "cell_type": "code",
            "execution_count": 6,
            "metadata": {},
            "outputs": [],
            "source": [
                "from hardware.daq.sidig import FIFO_DataAcquisition\n",
                "from hardware.daq.sidig import FIFO_DataAcquisition, DCCOUPLE, TERMIN_INPUT_50OHM, TERMIN_INPUT_1MOHM\n",
                "\n",
                "SIDIG_ADDRESS = \"dev/spcm0\"\n",
                "SIDIG_maxsr = 500e6  # Hz\n",
                "SIDIG_timebase = int(1 / SIDIG_maxsr * 1e9)  # ns\n",
                "dig=FIFO_DataAcquisition(\n",
                "                sn_address=SIDIG_ADDRESS\n",
                "            )"
            ]
        },
        {
            "cell_type": "code",
            "execution_count": 7,
            "metadata": {},
            "outputs": [],
            "source": [
                "# # set MW power =====================================================\n",
                "# mwpower_vlevel = 5.0 # 5V equals to max power\n",
                "# task_uca = nidaqmx.Task(\"UCA\") # user controlled attenuation\n",
                "# task_uca.ao_channels.add_ao_voltage_chan(hcf.NI_ch_UCA, min_val=0.0, max_val=10)\n",
                "# # task_uca.timing.cfg_samp_clk_timing(hcf.NI_sampling_max/100.0, sample_mode=AcquisitionType.CONTINUOUS)\n",
                "# task_uca.start()\n",
                "# task_uca.write([mwpower_vlevel], auto_start=False)\n",
                "# # task_uca.stop()\n",
                "# # task_uca.close()"
            ]
        },
        {
            "cell_type": "code",
            "execution_count": 8,
            "metadata": {},
            "outputs": [
                {
                    "data": {
                        "application/vnd.plotly.v1+json": {
                            "config": {
                                "plotlyServerURL": "https://plot.ly"
                            },
                            "data": [
                                {
                                    "line": {
                                        "shape": "hv"
                                    },
                                    "mode": "lines",
                                    "name": "D0",
                                    "type": "scatter",
                                    "x": {
                                        "bdata": "AAAAAAAk9AAoJPQA",
                                        "dtype": "i4"
                                    },
                                    "xaxis": "x",
                                    "y": {
                                        "bdata": "AQEB",
                                        "dtype": "i1"
                                    },
                                    "yaxis": "y"
                                },
                                {
                                    "line": {
                                        "shape": "hv"
                                    },
                                    "mode": "lines",
                                    "name": "D1",
                                    "type": "scatter",
                                    "x": {
                                        "bdata": "AAAAACgk9AA=",
                                        "dtype": "i4"
                                    },
                                    "xaxis": "x2",
                                    "y": {
                                        "bdata": "AAA=",
                                        "dtype": "i1"
                                    },
                                    "yaxis": "y2"
                                },
                                {
                                    "line": {
                                        "shape": "hv"
                                    },
                                    "mode": "lines",
                                    "name": "D2",
                                    "type": "scatter",
                                    "x": {
                                        "bdata": "AAAAACgk9AA=",
                                        "dtype": "i4"
                                    },
                                    "xaxis": "x3",
                                    "y": {
                                        "bdata": "AAA=",
                                        "dtype": "i1"
                                    },
                                    "yaxis": "y3"
                                },
                                {
                                    "line": {
                                        "shape": "hv"
                                    },
                                    "mode": "lines",
                                    "name": "D3",
                                    "type": "scatter",
                                    "x": {
                                        "bdata": "AAAAABQAAAAACT0AFAk9ACgJPQAUEnoAKBJ6ABQbtwAoG7cAPBu3ACgk9AA=",
                                        "dtype": "i4"
                                    },
                                    "xaxis": "x4",
                                    "y": {
                                        "bdata": "AQAAAQABAAABAAA=",
                                        "dtype": "i1"
                                    },
                                    "yaxis": "y4"
                                },
                                {
                                    "line": {
                                        "shape": "hv"
                                    },
                                    "mode": "lines",
                                    "name": "D4",
                                    "type": "scatter",
                                    "x": {
                                        "bdata": "AAAAAAAJPQAAEnoAABu3AAAk9AAoJPQA",
                                        "dtype": "i4"
                                    },
                                    "xaxis": "x5",
                                    "y": {
                                        "bdata": "AQABAAAA",
                                        "dtype": "i1"
                                    },
                                    "yaxis": "y5"
                                },
                                {
                                    "line": {
                                        "shape": "hv"
                                    },
                                    "mode": "lines",
                                    "name": "D5",
                                    "type": "scatter",
                                    "x": {
                                        "bdata": "AAAAACgk9AA=",
                                        "dtype": "i4"
                                    },
                                    "xaxis": "x6",
                                    "y": {
                                        "bdata": "AAA=",
                                        "dtype": "i1"
                                    },
                                    "yaxis": "y6"
                                },
                                {
                                    "line": {
                                        "shape": "hv"
                                    },
                                    "mode": "lines",
                                    "name": "D6",
                                    "type": "scatter",
                                    "x": {
                                        "bdata": "AAAAACgk9AA=",
                                        "dtype": "i4"
                                    },
                                    "xaxis": "x7",
                                    "y": {
                                        "bdata": "AAA=",
                                        "dtype": "i1"
                                    },
                                    "yaxis": "y7"
                                },
                                {
                                    "line": {
                                        "color": "black",
                                        "shape": "hv"
                                    },
                                    "mode": "lines",
                                    "name": "A0",
                                    "type": "scatter",
                                    "x": {
                                        "bdata": "AAAAACgk9AA=",
                                        "dtype": "i4"
                                    },
                                    "xaxis": "x8",
                                    "y": {
                                        "bdata": "AAAAAAAAAAAAAAAAAAAAAA==",
                                        "dtype": "f8"
                                    },
                                    "yaxis": "y8"
                                },
                                {
                                    "line": {
                                        "color": "black",
                                        "shape": "hv"
                                    },
                                    "mode": "lines",
                                    "name": "A1",
                                    "type": "scatter",
                                    "x": {
                                        "bdata": "AAAAACgk9AA=",
                                        "dtype": "i4"
                                    },
                                    "xaxis": "x9",
                                    "y": {
                                        "bdata": "AAAAAAAAAAAAAAAAAAAAAA==",
                                        "dtype": "f8"
                                    },
                                    "yaxis": "y9"
                                },
                                {
                                    "line": {
                                        "shape": "hv"
                                    },
                                    "mode": "lines",
                                    "name": "D7",
                                    "type": "scatter",
                                    "x": {
                                        "bdata": "AAAAACgk9AA=",
                                        "dtype": "i4"
                                    },
                                    "xaxis": "x10",
                                    "y": {
                                        "bdata": "AAA=",
                                        "dtype": "i1"
                                    },
                                    "yaxis": "y10"
                                }
                            ],
                            "layout": {
                                "height": 600,
                                "margin": {
                                    "b": 40,
                                    "l": 50,
                                    "r": 50,
                                    "t": 40
                                },
                                "showlegend": false,
                                "template": {
                                    "data": {
                                        "bar": [
                                            {
                                                "error_x": {
                                                    "color": "#2a3f5f"
                                                },
                                                "error_y": {
                                                    "color": "#2a3f5f"
                                                },
                                                "marker": {
                                                    "line": {
                                                        "color": "#E5ECF6",
                                                        "width": 0.5
                                                    },
                                                    "pattern": {
                                                        "fillmode": "overlay",
                                                        "size": 10,
                                                        "solidity": 0.2
                                                    }
                                                },
                                                "type": "bar"
                                            }
                                        ],
                                        "barpolar": [
                                            {
                                                "marker": {
                                                    "line": {
                                                        "color": "#E5ECF6",
                                                        "width": 0.5
                                                    },
                                                    "pattern": {
                                                        "fillmode": "overlay",
                                                        "size": 10,
                                                        "solidity": 0.2
                                                    }
                                                },
                                                "type": "barpolar"
                                            }
                                        ],
                                        "carpet": [
                                            {
                                                "aaxis": {
                                                    "endlinecolor": "#2a3f5f",
                                                    "gridcolor": "white",
                                                    "linecolor": "white",
                                                    "minorgridcolor": "white",
                                                    "startlinecolor": "#2a3f5f"
                                                },
                                                "baxis": {
                                                    "endlinecolor": "#2a3f5f",
                                                    "gridcolor": "white",
                                                    "linecolor": "white",
                                                    "minorgridcolor": "white",
                                                    "startlinecolor": "#2a3f5f"
                                                },
                                                "type": "carpet"
                                            }
                                        ],
                                        "choropleth": [
                                            {
                                                "colorbar": {
                                                    "outlinewidth": 0,
                                                    "ticks": ""
                                                },
                                                "type": "choropleth"
                                            }
                                        ],
                                        "contour": [
                                            {
                                                "colorbar": {
                                                    "outlinewidth": 0,
                                                    "ticks": ""
                                                },
                                                "colorscale": [
                                                    [
                                                        0,
                                                        "#0d0887"
                                                    ],
                                                    [
                                                        0.1111111111111111,
                                                        "#46039f"
                                                    ],
                                                    [
                                                        0.2222222222222222,
                                                        "#7201a8"
                                                    ],
                                                    [
                                                        0.3333333333333333,
                                                        "#9c179e"
                                                    ],
                                                    [
                                                        0.4444444444444444,
                                                        "#bd3786"
                                                    ],
                                                    [
                                                        0.5555555555555556,
                                                        "#d8576b"
                                                    ],
                                                    [
                                                        0.6666666666666666,
                                                        "#ed7953"
                                                    ],
                                                    [
                                                        0.7777777777777778,
                                                        "#fb9f3a"
                                                    ],
                                                    [
                                                        0.8888888888888888,
                                                        "#fdca26"
                                                    ],
                                                    [
                                                        1,
                                                        "#f0f921"
                                                    ]
                                                ],
                                                "type": "contour"
                                            }
                                        ],
                                        "contourcarpet": [
                                            {
                                                "colorbar": {
                                                    "outlinewidth": 0,
                                                    "ticks": ""
                                                },
                                                "type": "contourcarpet"
                                            }
                                        ],
                                        "heatmap": [
                                            {
                                                "colorbar": {
                                                    "outlinewidth": 0,
                                                    "ticks": ""
                                                },
                                                "colorscale": [
                                                    [
                                                        0,
                                                        "#0d0887"
                                                    ],
                                                    [
                                                        0.1111111111111111,
                                                        "#46039f"
                                                    ],
                                                    [
                                                        0.2222222222222222,
                                                        "#7201a8"
                                                    ],
                                                    [
                                                        0.3333333333333333,
                                                        "#9c179e"
                                                    ],
                                                    [
                                                        0.4444444444444444,
                                                        "#bd3786"
                                                    ],
                                                    [
                                                        0.5555555555555556,
                                                        "#d8576b"
                                                    ],
                                                    [
                                                        0.6666666666666666,
                                                        "#ed7953"
                                                    ],
                                                    [
                                                        0.7777777777777778,
                                                        "#fb9f3a"
                                                    ],
                                                    [
                                                        0.8888888888888888,
                                                        "#fdca26"
                                                    ],
                                                    [
                                                        1,
                                                        "#f0f921"
                                                    ]
                                                ],
                                                "type": "heatmap"
                                            }
                                        ],
                                        "histogram": [
                                            {
                                                "marker": {
                                                    "pattern": {
                                                        "fillmode": "overlay",
                                                        "size": 10,
                                                        "solidity": 0.2
                                                    }
                                                },
                                                "type": "histogram"
                                            }
                                        ],
                                        "histogram2d": [
                                            {
                                                "colorbar": {
                                                    "outlinewidth": 0,
                                                    "ticks": ""
                                                },
                                                "colorscale": [
                                                    [
                                                        0,
                                                        "#0d0887"
                                                    ],
                                                    [
                                                        0.1111111111111111,
                                                        "#46039f"
                                                    ],
                                                    [
                                                        0.2222222222222222,
                                                        "#7201a8"
                                                    ],
                                                    [
                                                        0.3333333333333333,
                                                        "#9c179e"
                                                    ],
                                                    [
                                                        0.4444444444444444,
                                                        "#bd3786"
                                                    ],
                                                    [
                                                        0.5555555555555556,
                                                        "#d8576b"
                                                    ],
                                                    [
                                                        0.6666666666666666,
                                                        "#ed7953"
                                                    ],
                                                    [
                                                        0.7777777777777778,
                                                        "#fb9f3a"
                                                    ],
                                                    [
                                                        0.8888888888888888,
                                                        "#fdca26"
                                                    ],
                                                    [
                                                        1,
                                                        "#f0f921"
                                                    ]
                                                ],
                                                "type": "histogram2d"
                                            }
                                        ],
                                        "histogram2dcontour": [
                                            {
                                                "colorbar": {
                                                    "outlinewidth": 0,
                                                    "ticks": ""
                                                },
                                                "colorscale": [
                                                    [
                                                        0,
                                                        "#0d0887"
                                                    ],
                                                    [
                                                        0.1111111111111111,
                                                        "#46039f"
                                                    ],
                                                    [
                                                        0.2222222222222222,
                                                        "#7201a8"
                                                    ],
                                                    [
                                                        0.3333333333333333,
                                                        "#9c179e"
                                                    ],
                                                    [
                                                        0.4444444444444444,
                                                        "#bd3786"
                                                    ],
                                                    [
                                                        0.5555555555555556,
                                                        "#d8576b"
                                                    ],
                                                    [
                                                        0.6666666666666666,
                                                        "#ed7953"
                                                    ],
                                                    [
                                                        0.7777777777777778,
                                                        "#fb9f3a"
                                                    ],
                                                    [
                                                        0.8888888888888888,
                                                        "#fdca26"
                                                    ],
                                                    [
                                                        1,
                                                        "#f0f921"
                                                    ]
                                                ],
                                                "type": "histogram2dcontour"
                                            }
                                        ],
                                        "mesh3d": [
                                            {
                                                "colorbar": {
                                                    "outlinewidth": 0,
                                                    "ticks": ""
                                                },
                                                "type": "mesh3d"
                                            }
                                        ],
                                        "parcoords": [
                                            {
                                                "line": {
                                                    "colorbar": {
                                                        "outlinewidth": 0,
                                                        "ticks": ""
                                                    }
                                                },
                                                "type": "parcoords"
                                            }
                                        ],
                                        "pie": [
                                            {
                                                "automargin": true,
                                                "type": "pie"
                                            }
                                        ],
                                        "scatter": [
                                            {
                                                "fillpattern": {
                                                    "fillmode": "overlay",
                                                    "size": 10,
                                                    "solidity": 0.2
                                                },
                                                "type": "scatter"
                                            }
                                        ],
                                        "scatter3d": [
                                            {
                                                "line": {
                                                    "colorbar": {
                                                        "outlinewidth": 0,
                                                        "ticks": ""
                                                    }
                                                },
                                                "marker": {
                                                    "colorbar": {
                                                        "outlinewidth": 0,
                                                        "ticks": ""
                                                    }
                                                },
                                                "type": "scatter3d"
                                            }
                                        ],
                                        "scattercarpet": [
                                            {
                                                "marker": {
                                                    "colorbar": {
                                                        "outlinewidth": 0,
                                                        "ticks": ""
                                                    }
                                                },
                                                "type": "scattercarpet"
                                            }
                                        ],
                                        "scattergeo": [
                                            {
                                                "marker": {
                                                    "colorbar": {
                                                        "outlinewidth": 0,
                                                        "ticks": ""
                                                    }
                                                },
                                                "type": "scattergeo"
                                            }
                                        ],
                                        "scattergl": [
                                            {
                                                "marker": {
                                                    "colorbar": {
                                                        "outlinewidth": 0,
                                                        "ticks": ""
                                                    }
                                                },
                                                "type": "scattergl"
                                            }
                                        ],
                                        "scattermap": [
                                            {
                                                "marker": {
                                                    "colorbar": {
                                                        "outlinewidth": 0,
                                                        "ticks": ""
                                                    }
                                                },
                                                "type": "scattermap"
                                            }
                                        ],
                                        "scattermapbox": [
                                            {
                                                "marker": {
                                                    "colorbar": {
                                                        "outlinewidth": 0,
                                                        "ticks": ""
                                                    }
                                                },
                                                "type": "scattermapbox"
                                            }
                                        ],
                                        "scatterpolar": [
                                            {
                                                "marker": {
                                                    "colorbar": {
                                                        "outlinewidth": 0,
                                                        "ticks": ""
                                                    }
                                                },
                                                "type": "scatterpolar"
                                            }
                                        ],
                                        "scatterpolargl": [
                                            {
                                                "marker": {
                                                    "colorbar": {
                                                        "outlinewidth": 0,
                                                        "ticks": ""
                                                    }
                                                },
                                                "type": "scatterpolargl"
                                            }
                                        ],
                                        "scatterternary": [
                                            {
                                                "marker": {
                                                    "colorbar": {
                                                        "outlinewidth": 0,
                                                        "ticks": ""
                                                    }
                                                },
                                                "type": "scatterternary"
                                            }
                                        ],
                                        "surface": [
                                            {
                                                "colorbar": {
                                                    "outlinewidth": 0,
                                                    "ticks": ""
                                                },
                                                "colorscale": [
                                                    [
                                                        0,
                                                        "#0d0887"
                                                    ],
                                                    [
                                                        0.1111111111111111,
                                                        "#46039f"
                                                    ],
                                                    [
                                                        0.2222222222222222,
                                                        "#7201a8"
                                                    ],
                                                    [
                                                        0.3333333333333333,
                                                        "#9c179e"
                                                    ],
                                                    [
                                                        0.4444444444444444,
                                                        "#bd3786"
                                                    ],
                                                    [
                                                        0.5555555555555556,
                                                        "#d8576b"
                                                    ],
                                                    [
                                                        0.6666666666666666,
                                                        "#ed7953"
                                                    ],
                                                    [
                                                        0.7777777777777778,
                                                        "#fb9f3a"
                                                    ],
                                                    [
                                                        0.8888888888888888,
                                                        "#fdca26"
                                                    ],
                                                    [
                                                        1,
                                                        "#f0f921"
                                                    ]
                                                ],
                                                "type": "surface"
                                            }
                                        ],
                                        "table": [
                                            {
                                                "cells": {
                                                    "fill": {
                                                        "color": "#EBF0F8"
                                                    },
                                                    "line": {
                                                        "color": "white"
                                                    }
                                                },
                                                "header": {
                                                    "fill": {
                                                        "color": "#C8D4E3"
                                                    },
                                                    "line": {
                                                        "color": "white"
                                                    }
                                                },
                                                "type": "table"
                                            }
                                        ]
                                    },
                                    "layout": {
                                        "annotationdefaults": {
                                            "arrowcolor": "#2a3f5f",
                                            "arrowhead": 0,
                                            "arrowwidth": 1
                                        },
                                        "autotypenumbers": "strict",
                                        "coloraxis": {
                                            "colorbar": {
                                                "outlinewidth": 0,
                                                "ticks": ""
                                            }
                                        },
                                        "colorscale": {
                                            "diverging": [
                                                [
                                                    0,
                                                    "#8e0152"
                                                ],
                                                [
                                                    0.1,
                                                    "#c51b7d"
                                                ],
                                                [
                                                    0.2,
                                                    "#de77ae"
                                                ],
                                                [
                                                    0.3,
                                                    "#f1b6da"
                                                ],
                                                [
                                                    0.4,
                                                    "#fde0ef"
                                                ],
                                                [
                                                    0.5,
                                                    "#f7f7f7"
                                                ],
                                                [
                                                    0.6,
                                                    "#e6f5d0"
                                                ],
                                                [
                                                    0.7,
                                                    "#b8e186"
                                                ],
                                                [
                                                    0.8,
                                                    "#7fbc41"
                                                ],
                                                [
                                                    0.9,
                                                    "#4d9221"
                                                ],
                                                [
                                                    1,
                                                    "#276419"
                                                ]
                                            ],
                                            "sequential": [
                                                [
                                                    0,
                                                    "#0d0887"
                                                ],
                                                [
                                                    0.1111111111111111,
                                                    "#46039f"
                                                ],
                                                [
                                                    0.2222222222222222,
                                                    "#7201a8"
                                                ],
                                                [
                                                    0.3333333333333333,
                                                    "#9c179e"
                                                ],
                                                [
                                                    0.4444444444444444,
                                                    "#bd3786"
                                                ],
                                                [
                                                    0.5555555555555556,
                                                    "#d8576b"
                                                ],
                                                [
                                                    0.6666666666666666,
                                                    "#ed7953"
                                                ],
                                                [
                                                    0.7777777777777778,
                                                    "#fb9f3a"
                                                ],
                                                [
                                                    0.8888888888888888,
                                                    "#fdca26"
                                                ],
                                                [
                                                    1,
                                                    "#f0f921"
                                                ]
                                            ],
                                            "sequentialminus": [
                                                [
                                                    0,
                                                    "#0d0887"
                                                ],
                                                [
                                                    0.1111111111111111,
                                                    "#46039f"
                                                ],
                                                [
                                                    0.2222222222222222,
                                                    "#7201a8"
                                                ],
                                                [
                                                    0.3333333333333333,
                                                    "#9c179e"
                                                ],
                                                [
                                                    0.4444444444444444,
                                                    "#bd3786"
                                                ],
                                                [
                                                    0.5555555555555556,
                                                    "#d8576b"
                                                ],
                                                [
                                                    0.6666666666666666,
                                                    "#ed7953"
                                                ],
                                                [
                                                    0.7777777777777778,
                                                    "#fb9f3a"
                                                ],
                                                [
                                                    0.8888888888888888,
                                                    "#fdca26"
                                                ],
                                                [
                                                    1,
                                                    "#f0f921"
                                                ]
                                            ]
                                        },
                                        "colorway": [
                                            "#636efa",
                                            "#EF553B",
                                            "#00cc96",
                                            "#ab63fa",
                                            "#FFA15A",
                                            "#19d3f3",
                                            "#FF6692",
                                            "#B6E880",
                                            "#FF97FF",
                                            "#FECB52"
                                        ],
                                        "font": {
                                            "color": "#2a3f5f"
                                        },
                                        "geo": {
                                            "bgcolor": "white",
                                            "lakecolor": "white",
                                            "landcolor": "#E5ECF6",
                                            "showlakes": true,
                                            "showland": true,
                                            "subunitcolor": "white"
                                        },
                                        "hoverlabel": {
                                            "align": "left"
                                        },
                                        "hovermode": "closest",
                                        "mapbox": {
                                            "style": "light"
                                        },
                                        "paper_bgcolor": "white",
                                        "plot_bgcolor": "#E5ECF6",
                                        "polar": {
                                            "angularaxis": {
                                                "gridcolor": "white",
                                                "linecolor": "white",
                                                "ticks": ""
                                            },
                                            "bgcolor": "#E5ECF6",
                                            "radialaxis": {
                                                "gridcolor": "white",
                                                "linecolor": "white",
                                                "ticks": ""
                                            }
                                        },
                                        "scene": {
                                            "xaxis": {
                                                "backgroundcolor": "#E5ECF6",
                                                "gridcolor": "white",
                                                "gridwidth": 2,
                                                "linecolor": "white",
                                                "showbackground": true,
                                                "ticks": "",
                                                "zerolinecolor": "white"
                                            },
                                            "yaxis": {
                                                "backgroundcolor": "#E5ECF6",
                                                "gridcolor": "white",
                                                "gridwidth": 2,
                                                "linecolor": "white",
                                                "showbackground": true,
                                                "ticks": "",
                                                "zerolinecolor": "white"
                                            },
                                            "zaxis": {
                                                "backgroundcolor": "#E5ECF6",
                                                "gridcolor": "white",
                                                "gridwidth": 2,
                                                "linecolor": "white",
                                                "showbackground": true,
                                                "ticks": "",
                                                "zerolinecolor": "white"
                                            }
                                        },
                                        "shapedefaults": {
                                            "line": {
                                                "color": "#2a3f5f"
                                            }
                                        },
                                        "ternary": {
                                            "aaxis": {
                                                "gridcolor": "white",
                                                "linecolor": "white",
                                                "ticks": ""
                                            },
                                            "baxis": {
                                                "gridcolor": "white",
                                                "linecolor": "white",
                                                "ticks": ""
                                            },
                                            "bgcolor": "#E5ECF6",
                                            "caxis": {
                                                "gridcolor": "white",
                                                "linecolor": "white",
                                                "ticks": ""
                                            }
                                        },
                                        "title": {
                                            "x": 0.05
                                        },
                                        "xaxis": {
                                            "automargin": true,
                                            "gridcolor": "white",
                                            "linecolor": "white",
                                            "ticks": "",
                                            "title": {
                                                "standoff": 15
                                            },
                                            "zerolinecolor": "white",
                                            "zerolinewidth": 2
                                        },
                                        "yaxis": {
                                            "automargin": true,
                                            "gridcolor": "white",
                                            "linecolor": "white",
                                            "ticks": "",
                                            "title": {
                                                "standoff": 15
                                            },
                                            "zerolinecolor": "white",
                                            "zerolinewidth": 2
                                        }
                                    }
                                },
                                "title": {
                                    "text": "Sequence"
                                },
                                "width": 600,
                                "xaxis": {
                                    "anchor": "y",
                                    "domain": [
                                        0,
                                        1
                                    ],
                                    "matches": "x10",
                                    "showticklabels": false
                                },
                                "xaxis10": {
                                    "anchor": "y10",
                                    "domain": [
                                        0,
                                        1
                                    ],
                                    "title": {
                                        "text": "time/ns"
                                    }
                                },
                                "xaxis2": {
                                    "anchor": "y2",
                                    "domain": [
                                        0,
                                        1
                                    ],
                                    "matches": "x10",
                                    "showticklabels": false
                                },
                                "xaxis3": {
                                    "anchor": "y3",
                                    "domain": [
                                        0,
                                        1
                                    ],
                                    "matches": "x10",
                                    "showticklabels": false
                                },
                                "xaxis4": {
                                    "anchor": "y4",
                                    "domain": [
                                        0,
                                        1
                                    ],
                                    "matches": "x10",
                                    "showticklabels": false
                                },
                                "xaxis5": {
                                    "anchor": "y5",
                                    "domain": [
                                        0,
                                        1
                                    ],
                                    "matches": "x10",
                                    "showticklabels": false
                                },
                                "xaxis6": {
                                    "anchor": "y6",
                                    "domain": [
                                        0,
                                        1
                                    ],
                                    "matches": "x10",
                                    "showticklabels": false
                                },
                                "xaxis7": {
                                    "anchor": "y7",
                                    "domain": [
                                        0,
                                        1
                                    ],
                                    "matches": "x10",
                                    "showticklabels": false
                                },
                                "xaxis8": {
                                    "anchor": "y8",
                                    "domain": [
                                        0,
                                        1
                                    ],
                                    "matches": "x10",
                                    "showticklabels": false
                                },
                                "xaxis9": {
                                    "anchor": "y9",
                                    "domain": [
                                        0,
                                        1
                                    ],
                                    "matches": "x10",
                                    "showticklabels": false
                                },
                                "yaxis": {
                                    "anchor": "x",
                                    "domain": [
                                        0.9179999999999999,
                                        0.9999999999999999
                                    ],
                                    "range": [
                                        -0.4,
                                        1.4
                                    ],
                                    "showticklabels": false,
                                    "title": {
                                        "text": "D0<br>laser"
                                    }
                                },
                                "yaxis10": {
                                    "anchor": "x10",
                                    "domain": [
                                        0,
                                        0.082
                                    ],
                                    "range": [
                                        -0.4,
                                        1.4
                                    ],
                                    "showticklabels": false,
                                    "title": {
                                        "text": "D7<br>WDF"
                                    }
                                },
                                "yaxis2": {
                                    "anchor": "x2",
                                    "domain": [
                                        0.8160000000000001,
                                        0.898
                                    ],
                                    "range": [
                                        -0.4,
                                        1.4
                                    ],
                                    "showticklabels": false,
                                    "title": {
                                        "text": "D1<br>mwswitch"
                                    }
                                },
                                "yaxis3": {
                                    "anchor": "x3",
                                    "domain": [
                                        0.7140000000000001,
                                        0.796
                                    ],
                                    "range": [
                                        -0.4,
                                        1.4
                                    ],
                                    "showticklabels": false,
                                    "title": {
                                        "text": "D2<br>dtrig"
                                    }
                                },
                                "yaxis4": {
                                    "anchor": "x4",
                                    "domain": [
                                        0.6120000000000001,
                                        0.6940000000000001
                                    ],
                                    "range": [
                                        -0.4,
                                        1.4
                                    ],
                                    "showticklabels": false,
                                    "title": {
                                        "text": "D3<br>sdtrig"
                                    }
                                },
                                "yaxis5": {
                                    "anchor": "x5",
                                    "domain": [
                                        0.51,
                                        0.592
                                    ],
                                    "range": [
                                        -0.4,
                                        1.4
                                    ],
                                    "showticklabels": false,
                                    "title": {
                                        "text": "D4<br>mwA"
                                    }
                                },
                                "yaxis6": {
                                    "anchor": "x6",
                                    "domain": [
                                        0.40800000000000003,
                                        0.49000000000000005
                                    ],
                                    "range": [
                                        -0.4,
                                        1.4
                                    ],
                                    "showticklabels": false,
                                    "title": {
                                        "text": "D5<br>mwB"
                                    }
                                },
                                "yaxis7": {
                                    "anchor": "x7",
                                    "domain": [
                                        0.306,
                                        0.388
                                    ],
                                    "range": [
                                        -0.4,
                                        1.4
                                    ],
                                    "showticklabels": false,
                                    "title": {
                                        "text": "D6<br>rftrig"
                                    }
                                },
                                "yaxis8": {
                                    "anchor": "x8",
                                    "domain": [
                                        0.20400000000000001,
                                        0.28600000000000003
                                    ],
                                    "range": [
                                        -1.5,
                                        1.5
                                    ],
                                    "tickfont": {
                                        "size": 6
                                    },
                                    "title": {
                                        "text": "A0<br>Bz"
                                    }
                                },
                                "yaxis9": {
                                    "anchor": "x9",
                                    "domain": [
                                        0.10200000000000001,
                                        0.184
                                    ],
                                    "range": [
                                        -1.5,
                                        1.5
                                    ],
                                    "tickfont": {
                                        "size": 6
                                    },
                                    "title": {
                                        "text": "A1<br>Bx"
                                    }
                                }
                            }
                        }
                    },
                    "metadata": {},
                    "output_type": "display_data"
                }
            ],
            "source": [
                "dur_pt = 16E6 # duration of each frequency point\n",
                "dig_trig_len=20\n",
                "divpart_pt = 2\n",
                "clock_rate = 500E-6 #GHz\n",
                "daqtrig_delay = 1/clock_rate #delay\n",
                "seq_daqtrig = [(dur_pt/2.0, HIGH), (dur_pt/2.0, LOW)]\n",
                "seq_laser = [(dur_pt, HIGH)]\n",
                "seq_mwA = [(dur_pt/2.0/divpart_pt, HIGH), (dur_pt/2.0/divpart_pt, LOW)]*divpart_pt\n",
                "seq_clock = [(0.5/clock_rate, HIGH),(0.5/clock_rate, LOW)]*int(dur_pt*clock_rate)\n",
                "# seq_dig= [(dur_pt/2.0/divpart_pt, LOW), (dig_trig_len,HIGH),(dur_pt/2.0/divpart_pt/2-2*dig_trig_len, LOW),(dig_trig_len,HIGH),(dur_pt/2.0/divpart_pt/2-2*dig_trig_len, LOW)]*divpart_pt\n",
                "seq_dig= [(dig_trig_len,HIGH), (dur_pt/2.0/divpart_pt-dig_trig_len, LOW),(dig_trig_len,LOW),(dig_trig_len,HIGH), (dur_pt/2.0/divpart_pt-dig_trig_len, LOW)]*divpart_pt\n",
                "\n",
                "pg.setDigital(\"laser\", seq_laser)\n",
                "pg.setDigital(\"mwA\", seq_mwA)\n",
                "pg.setDigital('sdtrig',seq_dig)\n",
                "# pg.setDigital(\"laser\", seq_mwA)\n",
                "# pg.setDigital(\"mw_A\", seq_laser)\n",
                "# pg.setDigital(\"dtrig\", seq_daqtrig)\n",
                "# pg.setDigital(\"dclk\", seq_clock)\n",
                "pg.setTrigger(start=TriggerStart.SOFTWARE, rearm=TriggerRearm.MANUAL)\n",
                "pg.plotSeq(plot_all=False)"
            ]
        },
        {
            "cell_type": "code",
            "execution_count": 9,
            "metadata": {},
            "outputs": [
                {
                    "data": {
                        "application/vnd.plotly.v1+json": {
                            "config": {
                                "plotlyServerURL": "https://plot.ly"
                            },
                            "data": [
                                {
                                    "line": {
                                        "shape": "hv"
                                    },
                                    "mode": "lines",
                                    "name": "D0",
                                    "type": "scatter",
                                    "x": {
                                        "bdata": "AAAAAAAJPQAoJPQA",
                                        "dtype": "i4"
                                    },
                                    "xaxis": "x",
                                    "y": {
                                        "bdata": "AQEB",
                                        "dtype": "i1"
                                    },
                                    "yaxis": "y"
                                },
                                {
                                    "line": {
                                        "shape": "hv"
                                    },
                                    "mode": "lines",
                                    "name": "D1",
                                    "type": "scatter",
                                    "x": {
                                        "bdata": "AAAAACgk9AA=",
                                        "dtype": "i4"
                                    },
                                    "xaxis": "x2",
                                    "y": {
                                        "bdata": "AAA=",
                                        "dtype": "i1"
                                    },
                                    "yaxis": "y2"
                                },
                                {
                                    "line": {
                                        "shape": "hv"
                                    },
                                    "mode": "lines",
                                    "name": "D2",
                                    "type": "scatter",
                                    "x": {
                                        "bdata": "AAAAACgk9AA=",
                                        "dtype": "i4"
                                    },
                                    "xaxis": "x3",
                                    "y": {
                                        "bdata": "AAA=",
                                        "dtype": "i1"
                                    },
                                    "yaxis": "y3"
                                },
                                {
                                    "line": {
                                        "shape": "hv"
                                    },
                                    "mode": "lines",
                                    "name": "D3",
                                    "type": "scatter",
                                    "x": {
                                        "bdata": "AAAAABQAAAAACT0AFAk9ACgJPQAUEnoAKBJ6ABQbtwAoG7cAPBu3ACgk9AA=",
                                        "dtype": "i4"
                                    },
                                    "xaxis": "x4",
                                    "y": {
                                        "bdata": "AQAAAQABAAABAAA=",
                                        "dtype": "i1"
                                    },
                                    "yaxis": "y4"
                                },
                                {
                                    "line": {
                                        "shape": "hv"
                                    },
                                    "mode": "lines",
                                    "name": "D4",
                                    "type": "scatter",
                                    "x": {
                                        "bdata": "AAAAAAAJPQAAEnoAABu3AAAk9AAoJPQA",
                                        "dtype": "i4"
                                    },
                                    "xaxis": "x5",
                                    "y": {
                                        "bdata": "AQABAAAA",
                                        "dtype": "i1"
                                    },
                                    "yaxis": "y5"
                                },
                                {
                                    "line": {
                                        "shape": "hv"
                                    },
                                    "mode": "lines",
                                    "name": "D5",
                                    "type": "scatter",
                                    "x": {
                                        "bdata": "AAAAACgk9AA=",
                                        "dtype": "i4"
                                    },
                                    "xaxis": "x6",
                                    "y": {
                                        "bdata": "AAA=",
                                        "dtype": "i1"
                                    },
                                    "yaxis": "y6"
                                },
                                {
                                    "line": {
                                        "shape": "hv"
                                    },
                                    "mode": "lines",
                                    "name": "D6",
                                    "type": "scatter",
                                    "x": {
                                        "bdata": "AAAAACgk9AA=",
                                        "dtype": "i4"
                                    },
                                    "xaxis": "x7",
                                    "y": {
                                        "bdata": "AAA=",
                                        "dtype": "i1"
                                    },
                                    "yaxis": "y7"
                                },
                                {
                                    "line": {
                                        "color": "black",
                                        "shape": "hv"
                                    },
                                    "mode": "lines",
                                    "name": "A0",
                                    "type": "scatter",
                                    "x": {
                                        "bdata": "AAAAACgk9AA=",
                                        "dtype": "i4"
                                    },
                                    "xaxis": "x8",
                                    "y": {
                                        "bdata": "AAAAAAAAAAAAAAAAAAAAAA==",
                                        "dtype": "f8"
                                    },
                                    "yaxis": "y8"
                                },
                                {
                                    "line": {
                                        "color": "black",
                                        "shape": "hv"
                                    },
                                    "mode": "lines",
                                    "name": "A1",
                                    "type": "scatter",
                                    "x": {
                                        "bdata": "AAAAACgk9AA=",
                                        "dtype": "i4"
                                    },
                                    "xaxis": "x9",
                                    "y": {
                                        "bdata": "AAAAAAAAAAAAAAAAAAAAAA==",
                                        "dtype": "f8"
                                    },
                                    "yaxis": "y9"
                                },
                                {
                                    "line": {
                                        "shape": "hv"
                                    },
                                    "mode": "lines",
                                    "name": "D7",
                                    "type": "scatter",
                                    "x": {
                                        "bdata": "AAAAACgk9AA=",
                                        "dtype": "i4"
                                    },
                                    "xaxis": "x10",
                                    "y": {
                                        "bdata": "AAA=",
                                        "dtype": "i1"
                                    },
                                    "yaxis": "y10"
                                }
                            ],
                            "layout": {
                                "height": 600,
                                "margin": {
                                    "b": 40,
                                    "l": 50,
                                    "r": 50,
                                    "t": 40
                                },
                                "showlegend": false,
                                "template": {
                                    "data": {
                                        "bar": [
                                            {
                                                "error_x": {
                                                    "color": "#2a3f5f"
                                                },
                                                "error_y": {
                                                    "color": "#2a3f5f"
                                                },
                                                "marker": {
                                                    "line": {
                                                        "color": "#E5ECF6",
                                                        "width": 0.5
                                                    },
                                                    "pattern": {
                                                        "fillmode": "overlay",
                                                        "size": 10,
                                                        "solidity": 0.2
                                                    }
                                                },
                                                "type": "bar"
                                            }
                                        ],
                                        "barpolar": [
                                            {
                                                "marker": {
                                                    "line": {
                                                        "color": "#E5ECF6",
                                                        "width": 0.5
                                                    },
                                                    "pattern": {
                                                        "fillmode": "overlay",
                                                        "size": 10,
                                                        "solidity": 0.2
                                                    }
                                                },
                                                "type": "barpolar"
                                            }
                                        ],
                                        "carpet": [
                                            {
                                                "aaxis": {
                                                    "endlinecolor": "#2a3f5f",
                                                    "gridcolor": "white",
                                                    "linecolor": "white",
                                                    "minorgridcolor": "white",
                                                    "startlinecolor": "#2a3f5f"
                                                },
                                                "baxis": {
                                                    "endlinecolor": "#2a3f5f",
                                                    "gridcolor": "white",
                                                    "linecolor": "white",
                                                    "minorgridcolor": "white",
                                                    "startlinecolor": "#2a3f5f"
                                                },
                                                "type": "carpet"
                                            }
                                        ],
                                        "choropleth": [
                                            {
                                                "colorbar": {
                                                    "outlinewidth": 0,
                                                    "ticks": ""
                                                },
                                                "type": "choropleth"
                                            }
                                        ],
                                        "contour": [
                                            {
                                                "colorbar": {
                                                    "outlinewidth": 0,
                                                    "ticks": ""
                                                },
                                                "colorscale": [
                                                    [
                                                        0,
                                                        "#0d0887"
                                                    ],
                                                    [
                                                        0.1111111111111111,
                                                        "#46039f"
                                                    ],
                                                    [
                                                        0.2222222222222222,
                                                        "#7201a8"
                                                    ],
                                                    [
                                                        0.3333333333333333,
                                                        "#9c179e"
                                                    ],
                                                    [
                                                        0.4444444444444444,
                                                        "#bd3786"
                                                    ],
                                                    [
                                                        0.5555555555555556,
                                                        "#d8576b"
                                                    ],
                                                    [
                                                        0.6666666666666666,
                                                        "#ed7953"
                                                    ],
                                                    [
                                                        0.7777777777777778,
                                                        "#fb9f3a"
                                                    ],
                                                    [
                                                        0.8888888888888888,
                                                        "#fdca26"
                                                    ],
                                                    [
                                                        1,
                                                        "#f0f921"
                                                    ]
                                                ],
                                                "type": "contour"
                                            }
                                        ],
                                        "contourcarpet": [
                                            {
                                                "colorbar": {
                                                    "outlinewidth": 0,
                                                    "ticks": ""
                                                },
                                                "type": "contourcarpet"
                                            }
                                        ],
                                        "heatmap": [
                                            {
                                                "colorbar": {
                                                    "outlinewidth": 0,
                                                    "ticks": ""
                                                },
                                                "colorscale": [
                                                    [
                                                        0,
                                                        "#0d0887"
                                                    ],
                                                    [
                                                        0.1111111111111111,
                                                        "#46039f"
                                                    ],
                                                    [
                                                        0.2222222222222222,
                                                        "#7201a8"
                                                    ],
                                                    [
                                                        0.3333333333333333,
                                                        "#9c179e"
                                                    ],
                                                    [
                                                        0.4444444444444444,
                                                        "#bd3786"
                                                    ],
                                                    [
                                                        0.5555555555555556,
                                                        "#d8576b"
                                                    ],
                                                    [
                                                        0.6666666666666666,
                                                        "#ed7953"
                                                    ],
                                                    [
                                                        0.7777777777777778,
                                                        "#fb9f3a"
                                                    ],
                                                    [
                                                        0.8888888888888888,
                                                        "#fdca26"
                                                    ],
                                                    [
                                                        1,
                                                        "#f0f921"
                                                    ]
                                                ],
                                                "type": "heatmap"
                                            }
                                        ],
                                        "histogram": [
                                            {
                                                "marker": {
                                                    "pattern": {
                                                        "fillmode": "overlay",
                                                        "size": 10,
                                                        "solidity": 0.2
                                                    }
                                                },
                                                "type": "histogram"
                                            }
                                        ],
                                        "histogram2d": [
                                            {
                                                "colorbar": {
                                                    "outlinewidth": 0,
                                                    "ticks": ""
                                                },
                                                "colorscale": [
                                                    [
                                                        0,
                                                        "#0d0887"
                                                    ],
                                                    [
                                                        0.1111111111111111,
                                                        "#46039f"
                                                    ],
                                                    [
                                                        0.2222222222222222,
                                                        "#7201a8"
                                                    ],
                                                    [
                                                        0.3333333333333333,
                                                        "#9c179e"
                                                    ],
                                                    [
                                                        0.4444444444444444,
                                                        "#bd3786"
                                                    ],
                                                    [
                                                        0.5555555555555556,
                                                        "#d8576b"
                                                    ],
                                                    [
                                                        0.6666666666666666,
                                                        "#ed7953"
                                                    ],
                                                    [
                                                        0.7777777777777778,
                                                        "#fb9f3a"
                                                    ],
                                                    [
                                                        0.8888888888888888,
                                                        "#fdca26"
                                                    ],
                                                    [
                                                        1,
                                                        "#f0f921"
                                                    ]
                                                ],
                                                "type": "histogram2d"
                                            }
                                        ],
                                        "histogram2dcontour": [
                                            {
                                                "colorbar": {
                                                    "outlinewidth": 0,
                                                    "ticks": ""
                                                },
                                                "colorscale": [
                                                    [
                                                        0,
                                                        "#0d0887"
                                                    ],
                                                    [
                                                        0.1111111111111111,
                                                        "#46039f"
                                                    ],
                                                    [
                                                        0.2222222222222222,
                                                        "#7201a8"
                                                    ],
                                                    [
                                                        0.3333333333333333,
                                                        "#9c179e"
                                                    ],
                                                    [
                                                        0.4444444444444444,
                                                        "#bd3786"
                                                    ],
                                                    [
                                                        0.5555555555555556,
                                                        "#d8576b"
                                                    ],
                                                    [
                                                        0.6666666666666666,
                                                        "#ed7953"
                                                    ],
                                                    [
                                                        0.7777777777777778,
                                                        "#fb9f3a"
                                                    ],
                                                    [
                                                        0.8888888888888888,
                                                        "#fdca26"
                                                    ],
                                                    [
                                                        1,
                                                        "#f0f921"
                                                    ]
                                                ],
                                                "type": "histogram2dcontour"
                                            }
                                        ],
                                        "mesh3d": [
                                            {
                                                "colorbar": {
                                                    "outlinewidth": 0,
                                                    "ticks": ""
                                                },
                                                "type": "mesh3d"
                                            }
                                        ],
                                        "parcoords": [
                                            {
                                                "line": {
                                                    "colorbar": {
                                                        "outlinewidth": 0,
                                                        "ticks": ""
                                                    }
                                                },
                                                "type": "parcoords"
                                            }
                                        ],
                                        "pie": [
                                            {
                                                "automargin": true,
                                                "type": "pie"
                                            }
                                        ],
                                        "scatter": [
                                            {
                                                "fillpattern": {
                                                    "fillmode": "overlay",
                                                    "size": 10,
                                                    "solidity": 0.2
                                                },
                                                "type": "scatter"
                                            }
                                        ],
                                        "scatter3d": [
                                            {
                                                "line": {
                                                    "colorbar": {
                                                        "outlinewidth": 0,
                                                        "ticks": ""
                                                    }
                                                },
                                                "marker": {
                                                    "colorbar": {
                                                        "outlinewidth": 0,
                                                        "ticks": ""
                                                    }
                                                },
                                                "type": "scatter3d"
                                            }
                                        ],
                                        "scattercarpet": [
                                            {
                                                "marker": {
                                                    "colorbar": {
                                                        "outlinewidth": 0,
                                                        "ticks": ""
                                                    }
                                                },
                                                "type": "scattercarpet"
                                            }
                                        ],
                                        "scattergeo": [
                                            {
                                                "marker": {
                                                    "colorbar": {
                                                        "outlinewidth": 0,
                                                        "ticks": ""
                                                    }
                                                },
                                                "type": "scattergeo"
                                            }
                                        ],
                                        "scattergl": [
                                            {
                                                "marker": {
                                                    "colorbar": {
                                                        "outlinewidth": 0,
                                                        "ticks": ""
                                                    }
                                                },
                                                "type": "scattergl"
                                            }
                                        ],
                                        "scattermap": [
                                            {
                                                "marker": {
                                                    "colorbar": {
                                                        "outlinewidth": 0,
                                                        "ticks": ""
                                                    }
                                                },
                                                "type": "scattermap"
                                            }
                                        ],
                                        "scattermapbox": [
                                            {
                                                "marker": {
                                                    "colorbar": {
                                                        "outlinewidth": 0,
                                                        "ticks": ""
                                                    }
                                                },
                                                "type": "scattermapbox"
                                            }
                                        ],
                                        "scatterpolar": [
                                            {
                                                "marker": {
                                                    "colorbar": {
                                                        "outlinewidth": 0,
                                                        "ticks": ""
                                                    }
                                                },
                                                "type": "scatterpolar"
                                            }
                                        ],
                                        "scatterpolargl": [
                                            {
                                                "marker": {
                                                    "colorbar": {
                                                        "outlinewidth": 0,
                                                        "ticks": ""
                                                    }
                                                },
                                                "type": "scatterpolargl"
                                            }
                                        ],
                                        "scatterternary": [
                                            {
                                                "marker": {
                                                    "colorbar": {
                                                        "outlinewidth": 0,
                                                        "ticks": ""
                                                    }
                                                },
                                                "type": "scatterternary"
                                            }
                                        ],
                                        "surface": [
                                            {
                                                "colorbar": {
                                                    "outlinewidth": 0,
                                                    "ticks": ""
                                                },
                                                "colorscale": [
                                                    [
                                                        0,
                                                        "#0d0887"
                                                    ],
                                                    [
                                                        0.1111111111111111,
                                                        "#46039f"
                                                    ],
                                                    [
                                                        0.2222222222222222,
                                                        "#7201a8"
                                                    ],
                                                    [
                                                        0.3333333333333333,
                                                        "#9c179e"
                                                    ],
                                                    [
                                                        0.4444444444444444,
                                                        "#bd3786"
                                                    ],
                                                    [
                                                        0.5555555555555556,
                                                        "#d8576b"
                                                    ],
                                                    [
                                                        0.6666666666666666,
                                                        "#ed7953"
                                                    ],
                                                    [
                                                        0.7777777777777778,
                                                        "#fb9f3a"
                                                    ],
                                                    [
                                                        0.8888888888888888,
                                                        "#fdca26"
                                                    ],
                                                    [
                                                        1,
                                                        "#f0f921"
                                                    ]
                                                ],
                                                "type": "surface"
                                            }
                                        ],
                                        "table": [
                                            {
                                                "cells": {
                                                    "fill": {
                                                        "color": "#EBF0F8"
                                                    },
                                                    "line": {
                                                        "color": "white"
                                                    }
                                                },
                                                "header": {
                                                    "fill": {
                                                        "color": "#C8D4E3"
                                                    },
                                                    "line": {
                                                        "color": "white"
                                                    }
                                                },
                                                "type": "table"
                                            }
                                        ]
                                    },
                                    "layout": {
                                        "annotationdefaults": {
                                            "arrowcolor": "#2a3f5f",
                                            "arrowhead": 0,
                                            "arrowwidth": 1
                                        },
                                        "autotypenumbers": "strict",
                                        "coloraxis": {
                                            "colorbar": {
                                                "outlinewidth": 0,
                                                "ticks": ""
                                            }
                                        },
                                        "colorscale": {
                                            "diverging": [
                                                [
                                                    0,
                                                    "#8e0152"
                                                ],
                                                [
                                                    0.1,
                                                    "#c51b7d"
                                                ],
                                                [
                                                    0.2,
                                                    "#de77ae"
                                                ],
                                                [
                                                    0.3,
                                                    "#f1b6da"
                                                ],
                                                [
                                                    0.4,
                                                    "#fde0ef"
                                                ],
                                                [
                                                    0.5,
                                                    "#f7f7f7"
                                                ],
                                                [
                                                    0.6,
                                                    "#e6f5d0"
                                                ],
                                                [
                                                    0.7,
                                                    "#b8e186"
                                                ],
                                                [
                                                    0.8,
                                                    "#7fbc41"
                                                ],
                                                [
                                                    0.9,
                                                    "#4d9221"
                                                ],
                                                [
                                                    1,
                                                    "#276419"
                                                ]
                                            ],
                                            "sequential": [
                                                [
                                                    0,
                                                    "#0d0887"
                                                ],
                                                [
                                                    0.1111111111111111,
                                                    "#46039f"
                                                ],
                                                [
                                                    0.2222222222222222,
                                                    "#7201a8"
                                                ],
                                                [
                                                    0.3333333333333333,
                                                    "#9c179e"
                                                ],
                                                [
                                                    0.4444444444444444,
                                                    "#bd3786"
                                                ],
                                                [
                                                    0.5555555555555556,
                                                    "#d8576b"
                                                ],
                                                [
                                                    0.6666666666666666,
                                                    "#ed7953"
                                                ],
                                                [
                                                    0.7777777777777778,
                                                    "#fb9f3a"
                                                ],
                                                [
                                                    0.8888888888888888,
                                                    "#fdca26"
                                                ],
                                                [
                                                    1,
                                                    "#f0f921"
                                                ]
                                            ],
                                            "sequentialminus": [
                                                [
                                                    0,
                                                    "#0d0887"
                                                ],
                                                [
                                                    0.1111111111111111,
                                                    "#46039f"
                                                ],
                                                [
                                                    0.2222222222222222,
                                                    "#7201a8"
                                                ],
                                                [
                                                    0.3333333333333333,
                                                    "#9c179e"
                                                ],
                                                [
                                                    0.4444444444444444,
                                                    "#bd3786"
                                                ],
                                                [
                                                    0.5555555555555556,
                                                    "#d8576b"
                                                ],
                                                [
                                                    0.6666666666666666,
                                                    "#ed7953"
                                                ],
                                                [
                                                    0.7777777777777778,
                                                    "#fb9f3a"
                                                ],
                                                [
                                                    0.8888888888888888,
                                                    "#fdca26"
                                                ],
                                                [
                                                    1,
                                                    "#f0f921"
                                                ]
                                            ]
                                        },
                                        "colorway": [
                                            "#636efa",
                                            "#EF553B",
                                            "#00cc96",
                                            "#ab63fa",
                                            "#FFA15A",
                                            "#19d3f3",
                                            "#FF6692",
                                            "#B6E880",
                                            "#FF97FF",
                                            "#FECB52"
                                        ],
                                        "font": {
                                            "color": "#2a3f5f"
                                        },
                                        "geo": {
                                            "bgcolor": "white",
                                            "lakecolor": "white",
                                            "landcolor": "#E5ECF6",
                                            "showlakes": true,
                                            "showland": true,
                                            "subunitcolor": "white"
                                        },
                                        "hoverlabel": {
                                            "align": "left"
                                        },
                                        "hovermode": "closest",
                                        "mapbox": {
                                            "style": "light"
                                        },
                                        "paper_bgcolor": "white",
                                        "plot_bgcolor": "#E5ECF6",
                                        "polar": {
                                            "angularaxis": {
                                                "gridcolor": "white",
                                                "linecolor": "white",
                                                "ticks": ""
                                            },
                                            "bgcolor": "#E5ECF6",
                                            "radialaxis": {
                                                "gridcolor": "white",
                                                "linecolor": "white",
                                                "ticks": ""
                                            }
                                        },
                                        "scene": {
                                            "xaxis": {
                                                "backgroundcolor": "#E5ECF6",
                                                "gridcolor": "white",
                                                "gridwidth": 2,
                                                "linecolor": "white",
                                                "showbackground": true,
                                                "ticks": "",
                                                "zerolinecolor": "white"
                                            },
                                            "yaxis": {
                                                "backgroundcolor": "#E5ECF6",
                                                "gridcolor": "white",
                                                "gridwidth": 2,
                                                "linecolor": "white",
                                                "showbackground": true,
                                                "ticks": "",
                                                "zerolinecolor": "white"
                                            },
                                            "zaxis": {
                                                "backgroundcolor": "#E5ECF6",
                                                "gridcolor": "white",
                                                "gridwidth": 2,
                                                "linecolor": "white",
                                                "showbackground": true,
                                                "ticks": "",
                                                "zerolinecolor": "white"
                                            }
                                        },
                                        "shapedefaults": {
                                            "line": {
                                                "color": "#2a3f5f"
                                            }
                                        },
                                        "ternary": {
                                            "aaxis": {
                                                "gridcolor": "white",
                                                "linecolor": "white",
                                                "ticks": ""
                                            },
                                            "baxis": {
                                                "gridcolor": "white",
                                                "linecolor": "white",
                                                "ticks": ""
                                            },
                                            "bgcolor": "#E5ECF6",
                                            "caxis": {
                                                "gridcolor": "white",
                                                "linecolor": "white",
                                                "ticks": ""
                                            }
                                        },
                                        "title": {
                                            "x": 0.05
                                        },
                                        "xaxis": {
                                            "automargin": true,
                                            "gridcolor": "white",
                                            "linecolor": "white",
                                            "ticks": "",
                                            "title": {
                                                "standoff": 15
                                            },
                                            "zerolinecolor": "white",
                                            "zerolinewidth": 2
                                        },
                                        "yaxis": {
                                            "automargin": true,
                                            "gridcolor": "white",
                                            "linecolor": "white",
                                            "ticks": "",
                                            "title": {
                                                "standoff": 15
                                            },
                                            "zerolinecolor": "white",
                                            "zerolinewidth": 2
                                        }
                                    }
                                },
                                "title": {
                                    "text": "Sequence"
                                },
                                "width": 600,
                                "xaxis": {
                                    "anchor": "y",
                                    "domain": [
                                        0,
                                        1
                                    ],
                                    "matches": "x10",
                                    "showticklabels": false
                                },
                                "xaxis10": {
                                    "anchor": "y10",
                                    "domain": [
                                        0,
                                        1
                                    ],
                                    "title": {
                                        "text": "time/ns"
                                    }
                                },
                                "xaxis2": {
                                    "anchor": "y2",
                                    "domain": [
                                        0,
                                        1
                                    ],
                                    "matches": "x10",
                                    "showticklabels": false
                                },
                                "xaxis3": {
                                    "anchor": "y3",
                                    "domain": [
                                        0,
                                        1
                                    ],
                                    "matches": "x10",
                                    "showticklabels": false
                                },
                                "xaxis4": {
                                    "anchor": "y4",
                                    "domain": [
                                        0,
                                        1
                                    ],
                                    "matches": "x10",
                                    "showticklabels": false
                                },
                                "xaxis5": {
                                    "anchor": "y5",
                                    "domain": [
                                        0,
                                        1
                                    ],
                                    "matches": "x10",
                                    "showticklabels": false
                                },
                                "xaxis6": {
                                    "anchor": "y6",
                                    "domain": [
                                        0,
                                        1
                                    ],
                                    "matches": "x10",
                                    "showticklabels": false
                                },
                                "xaxis7": {
                                    "anchor": "y7",
                                    "domain": [
                                        0,
                                        1
                                    ],
                                    "matches": "x10",
                                    "showticklabels": false
                                },
                                "xaxis8": {
                                    "anchor": "y8",
                                    "domain": [
                                        0,
                                        1
                                    ],
                                    "matches": "x10",
                                    "showticklabels": false
                                },
                                "xaxis9": {
                                    "anchor": "y9",
                                    "domain": [
                                        0,
                                        1
                                    ],
                                    "matches": "x10",
                                    "showticklabels": false
                                },
                                "yaxis": {
                                    "anchor": "x",
                                    "domain": [
                                        0.9179999999999999,
                                        0.9999999999999999
                                    ],
                                    "range": [
                                        -0.4,
                                        1.4
                                    ],
                                    "showticklabels": false,
                                    "title": {
                                        "text": "D0<br>laser"
                                    }
                                },
                                "yaxis10": {
                                    "anchor": "x10",
                                    "domain": [
                                        0,
                                        0.082
                                    ],
                                    "range": [
                                        -0.4,
                                        1.4
                                    ],
                                    "showticklabels": false,
                                    "title": {
                                        "text": "D7<br>WDF"
                                    }
                                },
                                "yaxis2": {
                                    "anchor": "x2",
                                    "domain": [
                                        0.8160000000000001,
                                        0.898
                                    ],
                                    "range": [
                                        -0.4,
                                        1.4
                                    ],
                                    "showticklabels": false,
                                    "title": {
                                        "text": "D1<br>mwswitch"
                                    }
                                },
                                "yaxis3": {
                                    "anchor": "x3",
                                    "domain": [
                                        0.7140000000000001,
                                        0.796
                                    ],
                                    "range": [
                                        -0.4,
                                        1.4
                                    ],
                                    "showticklabels": false,
                                    "title": {
                                        "text": "D2<br>dtrig"
                                    }
                                },
                                "yaxis4": {
                                    "anchor": "x4",
                                    "domain": [
                                        0.6120000000000001,
                                        0.6940000000000001
                                    ],
                                    "range": [
                                        -0.4,
                                        1.4
                                    ],
                                    "showticklabels": false,
                                    "title": {
                                        "text": "D3<br>sdtrig"
                                    }
                                },
                                "yaxis5": {
                                    "anchor": "x5",
                                    "domain": [
                                        0.51,
                                        0.592
                                    ],
                                    "range": [
                                        -0.4,
                                        1.4
                                    ],
                                    "showticklabels": false,
                                    "title": {
                                        "text": "D4<br>mwA"
                                    }
                                },
                                "yaxis6": {
                                    "anchor": "x6",
                                    "domain": [
                                        0.40800000000000003,
                                        0.49000000000000005
                                    ],
                                    "range": [
                                        -0.4,
                                        1.4
                                    ],
                                    "showticklabels": false,
                                    "title": {
                                        "text": "D5<br>mwB"
                                    }
                                },
                                "yaxis7": {
                                    "anchor": "x7",
                                    "domain": [
                                        0.306,
                                        0.388
                                    ],
                                    "range": [
                                        -0.4,
                                        1.4
                                    ],
                                    "showticklabels": false,
                                    "title": {
                                        "text": "D6<br>rftrig"
                                    }
                                },
                                "yaxis8": {
                                    "anchor": "x8",
                                    "domain": [
                                        0.20400000000000001,
                                        0.28600000000000003
                                    ],
                                    "range": [
                                        -1.5,
                                        1.5
                                    ],
                                    "tickfont": {
                                        "size": 6
                                    },
                                    "title": {
                                        "text": "A0<br>Bz"
                                    }
                                },
                                "yaxis9": {
                                    "anchor": "x9",
                                    "domain": [
                                        0.10200000000000001,
                                        0.184
                                    ],
                                    "range": [
                                        -1.5,
                                        1.5
                                    ],
                                    "tickfont": {
                                        "size": 6
                                    },
                                    "title": {
                                        "text": "A1<br>Bx"
                                    }
                                }
                            }
                        }
                    },
                    "metadata": {},
                    "output_type": "display_data"
                }
            ],
            "source": [
                "dig_trig_len = 20\n",
                "divpart_pt = 2\n",
                "\n",
                "mw_dur = 16e6//4\n",
                "\n",
                "seq_laser = [(mw_dur, HIGH)]\n",
                "seq_mwA = [\n",
                "    (mw_dur, HIGH),\n",
                "    (mw_dur, LOW),\n",
                "] * divpart_pt\n",
                "\n",
                "seq_dig = [\n",
                "    (dig_trig_len, HIGH),\n",
                "    (mw_dur - dig_trig_len, LOW),\n",
                "    (dig_trig_len, LOW),\n",
                "    (dig_trig_len, HIGH),\n",
                "    (mw_dur - dig_trig_len, LOW),\n",
                "] * divpart_pt\n",
                "\n",
                "pg.setDigital(\"laser\", seq_laser)\n",
                "pg.setDigital(\"mwA\", seq_mwA)\n",
                "pg.setDigital(\"sdtrig\", seq_dig)\n",
                "pg.setTrigger(start=TriggerStart.SOFTWARE, rearm=TriggerRearm.MANUAL)\n",
                "pg.plotSeq(plot_all=False)"
            ]
        },
        {
            "cell_type": "code",
            "execution_count": 10,
            "metadata": {},
            "outputs": [],
            "source": [
                "def seqtime_tb(seq_tb):\n",
                "    return np.sum([pulse[-1] for pulse in seq_tb])\n",
                "def seqtime_cb(seq_cb):\n",
                "    return np.sum([pulse[-0] for pulse in seq_cb])"
            ]
        },
        {
            "cell_type": "code",
            "execution_count": 11,
            "metadata": {},
            "outputs": [],
            "source": [
                "## set up the data aquication with the digitizer \n",
                "# min_volt = -0.002 # [V]\n",
                "# max_volt = 0.010 # [V]\n",
                "mw_len=dur_pt/2.0/divpart_pt\n",
                "t_seq = seqtime_cb(seq_laser)\n",
                "rate_refresh = 1 # Hz rate of refreshing the data streaming\n",
                "amp_input = 1000\n",
                "readout_ch = hcf.SIDIG_chmap[\"apd\"]\n",
                "num_segment = int(2/rate_refresh*1e9/t_seq)//32*32\n",
                "\n",
                "# configures the readout to match the pulse sequence  \n",
                "pretrig_size= 256 #int((mw_len//2)*hcf.SIDIG_maxsr/1E9)//64*64 # pretrigger based on the t_wait time\n",
                "# posttrig_size=int((t_ribloc+t_ribloc_isc)*hcf.SIDIG_maxsr/1E9)//64*64 # posttrigger based on the t_laser time and t_isc\n",
                "posttrig_size=int((mw_len//2)*hcf.SIDIG_maxsr/1E9)//64*64 # posttrigger based on the t_laser time and t_isc\n",
                "\n",
                "segment_size = pretrig_size+posttrig_size \n",
                "segment_size = 2**int(np.log2(segment_size)+1) # make it power of 2\n",
                "posttrig_size = segment_size-pretrig_size # recalculate posttrigger size to ensure it is power of 2"
            ]
        },
        {
            "cell_type": "code",
            "execution_count": 12,
            "metadata": {},
            "outputs": [],
            "source": [
                "# To set the configuration, make a dictionary with the key and value\n",
                "dig.reset_param()\n",
                "dig.assign_param(dict(\n",
                "             readout_ch=readout_ch, \n",
                "             amp_input=amp_input, \n",
                "             num_segment=8,\n",
                "             pretrig_size=16,\n",
                "             posttrig_size=1048576//4-16,\n",
                "             segment_size=1048576//4,\n",
                "             terminate_input=TERMIN_INPUT_1MOHM,\n",
                "             DCCOUPLE = 0,\n",
                "             sampling_rate=hcf.SIDIG_maxsr\n",
                "            #  terminate_input=TERMIN_INPUT_50OHM,\n",
                "             ))\n"
            ]
        },
        {
            "cell_type": "code",
            "execution_count": 13,
            "metadata": {},
            "outputs": [],
            "source": [
                "pretrig_size=128\n",
                "posttrig_size=1024*1000-pretrig_size\n",
                "freq_start = 16.45-0.25\n",
                "freq_stop = 16.45+0.25\n",
                "B = 14.103\n",
                "f_e = 28.0249514242*B\n",
                "f_NVp1 = f_e + 2.8705\n",
                "f_NVm1 = f_e - 2.8705\n",
                "# f_NVguess = 392.8397714495659\n",
                "f_NVguess = 398.5567714869976\n",
                "freq_start = ((f_NVguess-0.030)/24.0)*1e9 # MHz\n",
                "freq_stop = ((f_NVguess+0.030)/24.0)*1e9 # MHz\n",
                "# check the minium step size\n",
                "# freqminstep_list = mwsyn.get_min_step_size([freq_start], [freq_stop])\n",
                "# step_min = freqminstep_list[0] # in Hz\n",
                "\n",
                "freq_step = .05*1e6 # step size in MHz \n",
                "# freq_step = int(freq_step/step_min*1E9)*step_min/1E9\n",
                "\n",
                "freq_array = np.arange(freq_start, freq_stop, freq_step)\n",
                "\n",
                "# print(f\"Estimated time for one sweep:{(freq_stop-freq_start)/freq_step*max(10E6, dur_pt)/1E9} s\")\n",
                "# \n",
                "# Allocate arrays\n",
                "signal = np.zeros((len(freq_array), pretrig_size + posttrig_size))\n",
                "background = np.zeros((len(freq_array), pretrig_size + posttrig_size))\n",
                "\n",
                "# Repeat measurement\n",
                "num_repeat = 1\n",
                "signal_av = np.zeros(len(freq_array))\n",
                "background_av = np.zeros(len(freq_array))\n",
                "segment_list = np.zeros(len(freq_array))\n"
            ]
        },
        {
            "cell_type": "code",
            "execution_count": 14,
            "metadata": {},
            "outputs": [
                {
                    "data": {
                        "text/plain": [
                            "array([1.66052821e+10, 1.66053321e+10, 1.66053821e+10, 1.66054321e+10,\n",
                            "       1.66054821e+10, 1.66055321e+10, 1.66055821e+10, 1.66056321e+10,\n",
                            "       1.66056821e+10, 1.66057321e+10, 1.66057821e+10, 1.66058321e+10,\n",
                            "       1.66058821e+10, 1.66059321e+10, 1.66059821e+10, 1.66060321e+10,\n",
                            "       1.66060821e+10, 1.66061321e+10, 1.66061821e+10, 1.66062321e+10,\n",
                            "       1.66062821e+10, 1.66063321e+10, 1.66063821e+10, 1.66064321e+10,\n",
                            "       1.66064821e+10, 1.66065321e+10, 1.66065821e+10, 1.66066321e+10,\n",
                            "       1.66066821e+10, 1.66067321e+10, 1.66067821e+10, 1.66068321e+10,\n",
                            "       1.66068821e+10, 1.66069321e+10, 1.66069821e+10, 1.66070321e+10,\n",
                            "       1.66070821e+10, 1.66071321e+10, 1.66071821e+10, 1.66072321e+10,\n",
                            "       1.66072821e+10, 1.66073321e+10, 1.66073821e+10, 1.66074321e+10,\n",
                            "       1.66074821e+10, 1.66075321e+10, 1.66075821e+10, 1.66076321e+10,\n",
                            "       1.66076821e+10, 1.66077321e+10])"
                        ]
                    },
                    "execution_count": 14,
                    "metadata": {},
                    "output_type": "execute_result"
                }
            ],
            "source": [
                "freq_array"
            ]
        },
        {
            "cell_type": "code",
            "execution_count": 15,
            "metadata": {},
            "outputs": [],
            "source": [
                "import time\n",
                "\n",
                "def wait_until(condition_func, timeout=None, check_interval=0.1):\n",
                "    \"\"\"\n",
                "    Wait until condition_func() returns True, or timeout is reached.\n",
                "    \n",
                "    Parameters:\n",
                "        condition_func (callable): A no-argument function that returns True when the condition is met.\n",
                "        timeout (float or None): Max time (in seconds) to wait, or None for infinite.\n",
                "        check_interval (float): Time (in seconds) to sleep between checks.\n",
                "    \"\"\"\n",
                "    start_time = time.monotonic()\n",
                "    while not condition_func():\n",
                "        if timeout is not None and time.monotonic() - start_time > timeout:\n",
                "            raise TimeoutError(\"wait_until timeout expired.\")\n",
                "        time.sleep(check_interval)"
            ]
        },
        {
            "cell_type": "code",
            "execution_count": null,
            "metadata": {},
            "outputs": [
                {
                    "name": "stdout",
                    "output_type": "stream",
                    "text": [
                        "Card stopped\n",
                        "Card stopped\n",
                        "Card stopped\n",
                        "Card stopped\n",
                        "Card stopped\n",
                        "Card stopped\n",
                        "Card stopped\n",
                        "Card stopped\n",
                        "Card stopped\n",
                        "Card stopped\n",
                        "Card stopped\n",
                        "Card stopped\n",
                        "Card stopped\n",
                        "Card stopped\n",
                        "Card stopped\n",
                        "Card stopped\n",
                        "Card stopped\n",
                        "Card stopped\n",
                        "Card stopped\n",
                        "Card stopped\n",
                        "Card stopped\n",
                        "Card stopped\n",
                        "Card stopped\n",
                        "Card stopped\n",
                        "Card stopped\n",
                        "Card stopped\n",
                        "Card stopped\n",
                        "Card stopped\n",
                        "Card stopped\n",
                        "Card stopped\n",
                        "Card stopped\n",
                        "Card stopped\n",
                        "Card stopped\n",
                        "Card stopped\n",
                        "Card stopped\n",
                        "Card stopped\n",
                        "Card stopped\n",
                        "Card stopped\n",
                        "Card stopped\n",
                        "Card stopped\n",
                        "Card stopped\n",
                        "Card stopped\n",
                        "Card stopped\n",
                        "Card stopped\n",
                        "Card stopped\n",
                        "Card stopped\n",
                        "Card stopped\n",
                        "Card stopped\n",
                        "Card stopped\n",
                        "Card stopped\n"
                    ]
                }
            ],
            "source": [
                "test=[]\n",
                "laser.laser_on() # turn off laser\n",
                "\n",
                "for mmm in range(num_repeat):\n",
                "    for jj, ff in enumerate(freq_array):\n",
                "        hm.windfreak.set_output(freq=freq_array[jj] , power=17)  # 16.6056 GHz\n",
                "        time.sleep(0.1)\n",
                "        # print(f\"Frequency: {ff} GHz\")\n",
                "        run_time = .1\n",
                "        segments = 0\n",
                "        \n",
                "        dig.assign_param(dict(\n",
                "            readout_ch=readout_ch,\n",
                "            amp_input=amp_input,\n",
                "            num_segment=8,\n",
                "            pretrig_size=pretrig_size,\n",
                "            posttrig_size=posttrig_size,\n",
                "            segment_size=pretrig_size+posttrig_size,\n",
                "            terminate_input=TERMIN_INPUT_1MOHM,\n",
                "            DCCOUPLE=0,\n",
                "            sampling_rate=hcf.SIDIG_maxsr \n",
                "        ))\n",
                "        dig.set_config()\n",
                "        # errorbyte, freq_array[jj] = mwsyn.cw_frequency(ff)\n",
                "        # Set channel 0 power and frequency\n",
                "        # dictionary = {\n",
                "        #     \"chA_power\": 20,\n",
                "        #     \"chA_freq\": round(freq_array[jj],2),\n",
                "        # }\n",
                "        # hm.windfreak.chA_set_frequency=freq_array[jj]\n",
                "        \n",
                "        # time.sleep(0.1)\n",
                "        # Enable channel 0\n",
                "\n",
                "        actually_freq = freq_array[jj] \n",
                "        # print(f\"Set frequency: {actually_freq} Hz\")\n",
                "        # wait_until(lambda: synth[0].frequency == freq_array[jj], timeout=10)\n",
                "        pg.stream(n_runs=INF)  # Example function for pulse generator (replace with actual implementation)\n",
                "        dig.start_buffer()\n",
                "        pg.startNow()\n",
                "\n",
                "        start_time = time.monotonic()\n",
                "        while time.monotonic() - start_time < run_time:\n",
                "            rawraw = dig.stream()\n",
                "            assert rawraw.shape[0] % 2 == 0\n",
                "            assert rawraw.shape[0] != 0\n",
                "\n",
                "            rawraw_on = rawraw[0::2, :, :]\n",
                "            rawraw_off = rawraw[1::2, :, :]\n",
                "            segments += np.shape(rawraw)[0] // 2\n",
                "            # print(\"hello\")\n",
                "            # signal[jj, :] += rawraw_on.reshape(-1, rawraw_on.shape[-1]).sum(axis=0)\n",
                "            # background[jj, :] += rawraw_off.reshape(-1, rawraw_off.shape[-1]).sum(axis=0)\n",
                "            # print(f\"rawraw_on.shape[0]: {rawraw_on.shape[0]}\")\n",
                "            for ii in range(0,rawraw.shape[0] // 2):\n",
                "                # print(f\"Processing segment {ii} for freq index {jj}\")\n",
                "                signal[jj,:] += np.ravel(rawraw_on[ii])\n",
                "    \n",
                "                background[jj,:] += np.ravel(rawraw_off[ii])\n",
                "\n",
                "        # synth.disable()\n",
                "        dig.stop_card()\n",
                "        pg.forceFinal()\n",
                "        # pg.reset()\n",
                "        segment_list[jj] += segments\n"
            ]
        },
        {
            "cell_type": "code",
            "execution_count": 17,
            "metadata": {},
            "outputs": [],
            "source": [
                "import matplotlib.pyplot as plt"
            ]
        },
        {
            "cell_type": "code",
            "execution_count": 18,
            "metadata": {},
            "outputs": [
                {
                    "data": {
                        "text/plain": [
                            "[<matplotlib.lines.Line2D at 0x224a200f7c0>]"
                        ]
                    },
                    "execution_count": 18,
                    "metadata": {},
                    "output_type": "execute_result"
                },
                {
                    "data": {
                        "image/png": "[encoded data removed]",
                        "text/plain": [
                            "<Figure size 640x480 with 1 Axes>"
                        ]
                    },
                    "metadata": {},
                    "output_type": "display_data"
                }
            ],
            "source": [
                "plt.plot(np.ravel(rawraw_on))\n",
                "plt.plot(np.ravel(rawraw_off))"
            ]
        },
        {
            "cell_type": "code",
            "execution_count": 19,
            "metadata": {},
            "outputs": [
                {
                    "name": "stdout",
                    "output_type": "stream",
                    "text": [
                        "Channel 0 disabled\n"
                    ]
                }
            ],
            "source": [
                "# turn off laser and set diode current to zero\n",
                "laser.laser_off() \n",
                "laser.set_diode_current(0, save_memory=False)\n",
                "laser.close()\n",
                "# reset pulse generator\n",
                "pg.forceFinal()\n",
                "pg.constant(OutputState.ZERO())\n",
                "pg.reset()\n",
                "pg.reboot()\n",
                "synth.disconnect()\n",
                "# # close all NI tasks\n",
                "\n",
                "# task_uca.stop()\n",
                "# task_uca.close()\n",
                "\n",
                "# # reboot(optional) and close the MW synthesizer \n",
                "# mwsyn.reboot()\n",
                "# mwsyn.close()"
            ]
        },
        {
            "cell_type": "code",
            "execution_count": 20,
            "metadata": {},
            "outputs": [],
            "source": [
                "def avg(data):\n",
                "    return np.mean(data,axis=1)"
            ]
        },
        {
            "cell_type": "code",
            "execution_count": 21,
            "metadata": {},
            "outputs": [],
            "source": [
                "on=avg(signal)/segment_list\n",
                "off=avg(background)/segment_list"
            ]
        },
        {
            "cell_type": "code",
            "execution_count": 22,
            "metadata": {},
            "outputs": [],
            "source": [
                "import matplotlib.pyplot as plt"
            ]
        },
        {
            "cell_type": "code",
            "execution_count": 23,
            "metadata": {},
            "outputs": [
                {
                    "data": {
                        "text/plain": [
                            "[<matplotlib.lines.Line2D at 0x224d3e091e0>]"
                        ]
                    },
                    "execution_count": 23,
                    "metadata": {},
                    "output_type": "execute_result"
                },
                {
                    "data": {
                        "image/png": "[encoded data removed]",
                        "text/plain": [
                            "<Figure size 640x480 with 1 Axes>"
                        ]
                    },
                    "metadata": {},
                    "output_type": "display_data"
                }
            ],
            "source": [
                "plt.plot(signal[7])\n",
                "plt.plot(background[7])"
            ]
        },
        {
            "cell_type": "code",
            "execution_count": 24,
            "metadata": {},
            "outputs": [
                {
                    "data": {
                        "text/plain": [
                            "[<matplotlib.lines.Line2D at 0x224d3e03a30>]"
                        ]
                    },
                    "execution_count": 24,
                    "metadata": {},
                    "output_type": "execute_result"
                },
                {
                    "data": {
                        "image/png": "[encoded data removed]",
                        "text/plain": [
                            "<Figure size 640x480 with 1 Axes>"
                        ]
                    },
                    "metadata": {},
                    "output_type": "display_data"
                }
            ],
            "source": [
                "plt.plot((freq_array*24)/1e9, (on-off))\n",
                "plt.plot((freq_array*24)/1e9, (on-off),marker='o',linestyle='None')\n"
            ]
        },
        {
            "cell_type": "code",
            "execution_count": 25,
            "metadata": {},
            "outputs": [],
            "source": [
                "for i in range(len(test)-1):\n",
                "    print(test[i+1]-test[i])"
            ]
        },
        {
            "cell_type": "code",
            "execution_count": 26,
            "metadata": {},
            "outputs": [
                {
                    "name": "stdout",
                    "output_type": "stream",
                    "text": [
                        "7\n"
                    ]
                },
                {
                    "data": {
                        "text/plain": [
                            "398.54477148699766"
                        ]
                    },
                    "execution_count": 26,
                    "metadata": {},
                    "output_type": "execute_result"
                }
            ],
            "source": [
                "min_index = np.argmin((on-off)/off)\n",
                "print(min_index)  # Output: 3\n",
                "freq_array[15]*24/(1e9)"
            ]
        },
        {
            "cell_type": "code",
            "execution_count": 27,
            "metadata": {},
            "outputs": [
                {
                    "data": {
                        "text/plain": [
                            "16606.03214529157"
                        ]
                    },
                    "execution_count": 27,
                    "metadata": {},
                    "output_type": "execute_result"
                }
            ],
            "source": [
                "freq_array[15]/(1e6)"
            ]
        },
        {
            "cell_type": "code",
            "execution_count": 28,
            "metadata": {},
            "outputs": [
                {
                    "data": {
                        "text/plain": [
                            "array([16605.28214529, 16605.33214529, 16605.38214529, 16605.43214529,\n",
                            "       16605.48214529, 16605.53214529, 16605.58214529, 16605.63214529,\n",
                            "       16605.68214529, 16605.73214529, 16605.78214529, 16605.83214529,\n",
                            "       16605.88214529, 16605.93214529, 16605.98214529, 16606.03214529,\n",
                            "       16606.08214529, 16606.13214529, 16606.18214529, 16606.23214529,\n",
                            "       16606.28214529, 16606.33214529, 16606.38214529, 16606.43214529,\n",
                            "       16606.48214529, 16606.53214529, 16606.58214529, 16606.63214529,\n",
                            "       16606.68214529, 16606.73214529, 16606.78214529, 16606.83214529,\n",
                            "       16606.88214529, 16606.93214529, 16606.98214529, 16607.03214529,\n",
                            "       16607.08214529, 16607.13214529, 16607.18214529, 16607.23214529,\n",
                            "       16607.28214529, 16607.33214529, 16607.38214529, 16607.43214529,\n",
                            "       16607.48214529, 16607.53214529, 16607.58214529, 16607.63214529,\n",
                            "       16607.68214529, 16607.73214529])"
                        ]
                    },
                    "execution_count": 28,
                    "metadata": {},
                    "output_type": "execute_result"
                }
            ],
            "source": [
                "freq_array/(1e6)"
            ]
        },
        {
            "cell_type": "code",
            "execution_count": null,
            "metadata": {},
            "outputs": [],
            "source": []
        },
        {
            "cell_type": "code",
            "execution_count": null,
            "metadata": {},
            "outputs": [],
            "source": []
        }
    ],
    "metadata": {
        "kernelspec": {
            "display_name": "Python 3",
            "language": "python",
            "name": "python3"
        },
        "language_info": {
            "codemirror_mode": {
                "name": "ipython",
                "version": 3
            },
            "file_extension": ".py",
            "mimetype": "text/x-python",
            "name": "python",
            "nbconvert_exporter": "python",
            "pygments_lexer": "ipython3",
            "version": "3.10.16"
        }
    },
    "nbformat": 4,
    "nbformat_minor": 2
}