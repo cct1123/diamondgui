{
    "cells": [
        {
            "cell_type": "code",
            "execution_count": 1,
            "id": "14b4da12",
            "metadata": {},
            "outputs": [],
            "source": [
                "import time\n",
                "import sys\n",
                "import os\n",
                "path_project = \"\\\\\".join(os.getcwd().split(\"\\\\\")[:-1])\n",
                "# # caution: path[0] is reserved for script path (or '' in REPL)\n",
                "sys.path.insert(1, path_project)\n",
                "\n",
                "# from hardware.pulser.pulser import PulseGenerator, OutputState, TriggerStart, TriggerRearm, HIGH, LOW, INF\n",
                "# from hardware.laser.laser import LaserControl\n",
                "# from hardware.mw.mwsynthesizer import Synthesizer\n",
                "\n",
                "# from hardware import config as hcf\n",
                "\n",
                "# import nidaqmx\n",
                "# from nidaqmx.constants import TerminalConfiguration, VoltageUnits, Edge, AcquisitionType, READ_ALL_AVAILABLE\n",
                "# # from nidaqmx.constants import LogicFamily \n",
                "# # TWO_POINT_FIVE_V, THREE_POINT_THREE_V, FIVE_V\n",
                "# # from nidaqmx import stream_readers \n",
                "# # from nidaqmx.stream_readers import AnalogSingleChannelReader\n",
                "\n",
                "from hardware.mw.windfreak import WindfreakSynth\n",
                "from hardware.hardwaremanager import HardwareManager\n",
                "\n",
                "import numpy as np\n",
                "from windfreak import SynthHD\n"
            ]
        },
        {
            "cell_type": "code",
            "execution_count": null,
            "id": "fa277175",
            "metadata": {},
            "outputs": [],
            "source": [
                "# synth = WindfreakSynth(WDF_port=\"COM4\")# wd.connect()"
            ]
        },
        {
            "cell_type": "code",
            "execution_count": null,
            "id": "a36d0897",
            "metadata": {},
            "outputs": [],
            "source": [
                "# synth.chA_constant_output(freq=16605.5971e6)"
            ]
        },
        {
            "cell_type": "code",
            "execution_count": 2,
            "id": "fee25cbf",
            "metadata": {},
            "outputs": [
                {
                    "name": "stdout",
                    "output_type": "stream",
                    "text": [
                        "Connected to Windfreak on COM4\n",
                        "Channel 0: 16605.666666666664 MHz, 17 dBm (ON)\n"
                    ]
                }
            ],
            "source": [
                "# from windfreak_synth import WindfreakSynth  # Save the driver as a separate file\n",
                "\n",
                "# Initialize (same as your working code)\n",
                "synth = WindfreakSynth('COM4')  # Auto-connects\n",
                "\n",
                "# Set frequency and power (like your cell 5)\n",
                "synth.set_output(freq=(398.536e9)/24, power=17)  # 16.6056 GHz\n",
                "\n",
                "# Disable (like your last cell)\n",
                "# synth.disable()"
            ]
        },
        {
            "cell_type": "code",
            "execution_count": 3,
            "id": "6232069b",
            "metadata": {},
            "outputs": [
                {
                    "name": "stdout",
                    "output_type": "stream",
                    "text": [
                        "Channel 0 disabled\n"
                    ]
                }
            ],
            "source": [
                "synth.disable()"
            ]
        },
        {
            "cell_type": "code",
            "execution_count": null,
            "id": "ee563645",
            "metadata": {},
            "outputs": [],
            "source": []
        }
    ],
    "metadata": {
        "kernelspec": {
            "display_name": "Python 3",
            "language": "python",
            "name": "python3"
        },
        "language_info": {
            "codemirror_mode": {
                "name": "ipython",
                "version": 3
            },
            "file_extension": ".py",
            "mimetype": "text/x-python",
            "name": "python",
            "nbconvert_exporter": "python",
            "pygments_lexer": "ipython3",
            "version": "3.10.16"
        }
    },
    "nbformat": 4,
    "nbformat_minor": 5
}