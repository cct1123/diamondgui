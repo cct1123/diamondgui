{
    "cells": [
        {
            "cell_type": "code",
            "execution_count": 1,
            "metadata": {},
            "outputs": [],
            "source": [
                "import numpy as np\n",
                "import math\n",
                "from functools import reduce\n",
                "import time\n",
                "import sys\n",
                "import os\n",
                "import numpy as np\n",
                "\n",
                "path_project = \"\\\\\".join(os.getcwd().split(\"\\\\\")[:-1])\n",
                "# caution: path[0] is reserved for script path (or '' in REPL)\n",
                "sys.path.insert(1, path_project)\n",
                "from pathlib import Path\n",
                "import nidaqmx\n",
                "\n",
                "def lcm(a, b):\n",
                "    \"\"\"Calculate the least common multiple of two numbers.\"\"\"\n",
                "    return abs(a * b) // math.gcd(a, b)\n",
                "\n",
                "\n",
                "def lcm_of_list(numbers):\n",
                "    \"\"\"Find the LCM of a list of numbers.\"\"\"\n",
                "    return reduce(lcm, numbers)\n",
                "\n",
                "def seqtime(seq_tb):\n",
                "    return np.sum([pulse[-1] for pulse in seq_tb])\n",
                "\n",
                "# some constants\n",
                "Hz = 1e-9 # GHz\n",
                "kHz = 1e-6 # GHz\n",
                "MHz = 1e-3 # GHz\n",
                "pi = np.pi\n"
            ]
        },
        {
            "cell_type": "code",
            "execution_count": 2,
            "metadata": {},
            "outputs": [],
            "source": [
                "import nidaqmx\n",
                "from nidaqmx.constants import TerminalConfiguration, VoltageUnits, Edge, AcquisitionType, READ_ALL_AVAILABLE\n",
                "from nidaqmx.stream_readers import AnalogSingleChannelReader\n",
                "\n",
                "from hardware import config as hcf\n",
                "from hardware.hardwaremanager import HardwareManager\n",
                "from hardware.pulser.pulser import (\n",
                "    OutputState,\n",
                "    TriggerStart,\n",
                "    TriggerRearm,\n",
                "    HIGH,\n",
                "    LOW,\n",
                "    INF,\n",
                "    REPEAT_INFINITELY\n",
                ")\n",
                "timebase = lcm_of_list(\n",
                "    [hcf.VDISYN_timebase, hcf.SIDIG_timebase, hcf.PS_timebase, hcf.RSRF_timebase]\n",
                ")\n",
                "\n",
                "hm = HardwareManager()\n",
                "# adds synthesizer, laser, and pulse generator \n",
                "# hm.add_default_hardware()\n"
            ]
        },
        {
            "cell_type": "code",
            "execution_count": 3,
            "metadata": {},
            "outputs": [],
            "source": [
                "# load the hardware manager\n",
                "# # add some devices to the server (if they aren't already added) ##################################################\n",
                "import hardware.config as hcf\n",
                "from hardware.hardwaremanager import HardwareManager\n",
                "from pathlib import Path\n",
                "inserv = HardwareManager()\n",
                "HERE = Path(path_project)\n",
                "# pulse generator\n",
                "# \n",
                "\n",
                "NI_ch_APD = \"/Dev1/ai16\"\n",
                "NI_ch_Clock = \"/Dev1/PFI14\" # clock source\n",
                "NI_ch_Trig = \"/Dev1/PFI9\" # clock gate\n",
                "NI_ch_Ref_clock= \"/Dev1/PFI14\"\n",
                "\n",
                "ch_ai = NI_ch_APD\n",
                "ch_clock = NI_ch_Clock\n",
                "ch_trig = NI_ch_Trig\n",
                "ch_ref_clock = NI_ch_Ref_clock\n",
                "sampling_rate = 0.5E6 # 500kHz .max ext clock rate of NI6343\n",
                "\n",
                "\n",
                "try:\n",
                "    inserv.add(\n",
                "            'daq', \n",
                "            HERE / 'hardware' / 'daq' / 'nidaq.py', \n",
                "            'DataAcquisition', \n",
                "            [ch_ai, ch_clock, ch_trig, sampling_rate, ch_ref_clock]\n",
                "        )\n",
                "except Exception as ee:\n",
                "    print(ee)"
            ]
        },
        {
            "cell_type": "code",
            "execution_count": 4,
            "metadata": {},
            "outputs": [
                {
                    "name": "stdout",
                    "output_type": "stream",
                    "text": [
                        "Reference clock source: /Dev1/PFI14\n"
                    ]
                },
                {
                    "data": {
                        "text/plain": [
                            "Task(name=_unnamedTask<0>)"
                        ]
                    },
                    "execution_count": 4,
                    "metadata": {},
                    "output_type": "execute_result"
                }
            ],
            "source": [
                "hm.daq.config_readtask(1000, min_volt=-10.0, max_volt=10.0)"
            ]
        },
        {
            "cell_type": "code",
            "execution_count": null,
            "metadata": {},
            "outputs": [],
            "source": []
        }
    ],
    "metadata": {
        "kernelspec": {
            "display_name": "Python 3",
            "language": "python",
            "name": "python3"
        },
        "language_info": {
            "codemirror_mode": {
                "name": "ipython",
                "version": 3
            },
            "file_extension": ".py",
            "mimetype": "text/x-python",
            "name": "python",
            "nbconvert_exporter": "python",
            "pygments_lexer": "ipython3",
            "version": "3.10.16"
        }
    },
    "nbformat": 4,
    "nbformat_minor": 2
}