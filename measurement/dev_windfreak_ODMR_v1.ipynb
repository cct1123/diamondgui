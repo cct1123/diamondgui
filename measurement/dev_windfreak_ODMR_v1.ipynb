{
 "cells": [
  {
   "cell_type": "code",
   "execution_count": 1,
   "id": "14b4da12",
   "metadata": {},
   "outputs": [],
   "source": [
    "import time\n",
    "import sys\n",
    "import os\n",
    "path_project = \"\\\\\".join(os.getcwd().split(\"\\\\\")[:-1])\n",
    "# caution: path[0] is reserved for script path (or '' in REPL)\n",
    "sys.path.insert(1, path_project)\n",
    "\n",
    "from hardware.pulser.pulser import PulseGenerator, OutputState, TriggerStart, TriggerRearm, HIGH, LOW, INF\n",
    "from hardware.laser.laser import LaserControl\n",
    "from hardware.mw.mwsynthesizer import Synthesizer\n",
    "\n",
    "from hardware import config_custom as hcf\n",
    "\n",
    "import nidaqmx\n",
    "from nidaqmx.constants import TerminalConfiguration, VoltageUnits, Edge, AcquisitionType, READ_ALL_AVAILABLE\n",
    "# from nidaqmx.constants import LogicFamily \n",
    "# TWO_POINT_FIVE_V, THREE_POINT_THREE_V, FIVE_V\n",
    "# from nidaqmx import stream_readers \n",
    "# from nidaqmx.stream_readers import AnalogSingleChannelReader\n",
    "\n",
    "import numpy as np\n",
    "from windfreak import SynthHD\n",
    "from math import floor\n",
    "import time"
   ]
  },
  {
   "cell_type": "code",
   "execution_count": null,
   "id": "06688ca6",
   "metadata": {},
   "outputs": [],
   "source": [
    "# connect to the digitizer \n",
    "from hardware.daq.sidig import FIFO_DataAcquisition\n",
    "from hardware.daq.sidig import FIFO_DataAcquisition, DCCOUPLE, TERMIN_INPUT_50OHM, TERMIN_INPUT_1MOHM\n",
    "\n",
    "SIDIG_ADDRESS = \"dev/spcm0\"\n",
    "SIDIG_maxsr = 500e6  # Hz\n",
    "SIDIG_timebase = int(1 / SIDIG_maxsr * 1e9)  # ns\n",
    "dig=FIFO_DataAcquisition(\n",
    "                sn_address=SIDIG_ADDRESS\n",
    "            )"
   ]
  },
  {
   "cell_type": "markdown",
   "id": "d090f8ab",
   "metadata": {},
   "source": [
    "### Pulse streamer connection "
   ]
  },
  {
   "cell_type": "code",
   "execution_count": null,
   "id": "615b2cd5",
   "metadata": {},
   "outputs": [],
   "source": [
    "# connect to the pulse streamer \n",
    "pg  = PulseGenerator(ip=hcf.PS_IP, chmap=hcf.PS_chmap) \n"
   ]
  },
  {
   "cell_type": "markdown",
   "id": "602bf7ec",
   "metadata": {},
   "source": [
    "### Windfreak setup"
   ]
  },
  {
   "cell_type": "code",
   "execution_count": null,
   "id": "b37f56a1",
   "metadata": {},
   "outputs": [
    {
     "name": "stdout",
     "output_type": "stream",
     "text": [
      "Connect to Pulse Streamer via JSON-RPC.\n",
      "IP / Hostname: 192.168.1.26\n",
      "Pulse Streamer 8/2 firmware: v1.7.2\n",
      "Client software: v1.7.0\n"
     ]
    }
   ],
   "source": [
    "# connect to the windfreak mw driver \n",
    "synth = SynthHD('COM4')\n",
    "synth.init()\n",
    "# ch = synth[0]  "
   ]
  },
  {
   "cell_type": "markdown",
   "id": "89b6ebb3",
   "metadata": {},
   "source": [
    "### Laser control"
   ]
  },
  {
   "cell_type": "code",
   "execution_count": null,
   "id": "0ceef338",
   "metadata": {},
   "outputs": [],
   "source": [
    "# laser = LaserControl(hcf.LASER_SN)\n",
    "# laser.open()"
   ]
  },
  {
   "cell_type": "code",
   "execution_count": null,
   "id": "a621ae16",
   "metadata": {},
   "outputs": [],
   "source": [
    "# current_percent = 75.09\n",
    "# laser.laser_off()\n",
    "# laser.set_analog_control_mode(\"current\")\n",
    "# laser.set_modulation_state(\"Pulsed\")\n",
    "# laser.set_diode_current(current_percent, save_memory=False)"
   ]
  },
  {
   "cell_type": "code",
   "execution_count": null,
   "id": "2a835eba",
   "metadata": {},
   "outputs": [],
   "source": [
    "sweep_config = {\n",
    "    # WINDFREAK SETTINGS\n",
    "    \"sweep_start_MHz\": 400,\n",
    "    \"sweep_stop_MHz\": 600,\n",
    "    \"sweep_step_size_MHz\": 25,\n",
    "    \"pause_at_step_us\": 1e9,\n",
    "    \"sweep_power\": 0,       # dB\n",
    "    'sweep_direction': 1 ,  # up = 1 down = 0.\n",
    "    'sweep_type': 0 ,       # 0 = linear 1 = tabular \n",
    "    'sweep_only_once': True, # True = 1 rep False = inf reps\n",
    "    'sweep_all_freq': False, # True = after a trigger sweep through all freq False = after trigger step 1 freq only \n",
    "    'trigger_type': 3, # 0 = software 1 = sweep 2 = step 3 = hold all \n",
    "    'trigger_polarity': 1, # active low =0 active high = 1,\n",
    "    # DIGITZER SETTINGS\n",
    "    'readout_ch': hcf.SIDIG_chmap[\"apd\"],\n",
    "    'amp_input' : 1000,\n",
    "    'terminate_input': TERMIN_INPUT_1MOHM,\n",
    "    'DCCOUPLE': 0,\n",
    "    'sampling_rate': hcf.SIDIG_maxsr,\n",
    "    # DIGITIZER collection \n",
    "    'num_segment': 8,\n",
    "    'pretrig_size': 16,\n",
    "    'posttrig_size': 1000,\n",
    "    'num_samples_per_segment': None, # assigned in next line \n",
    "    'segment_size': 1000,\n",
    "    # Loop settings\n",
    "    'run_time': 10, # seconds\n",
    "}\n",
    "sweep_config['num_samples_per_segment'] = sweep_config['pretrig_size'] + sweep_config['posttrig_size']"
   ]
  },
  {
   "cell_type": "code",
   "execution_count": 9,
   "id": "b9a34a34",
   "metadata": {},
   "outputs": [
    {
     "data": {
      "application/vnd.plotly.v1+json": {
       "config": {
        "plotlyServerURL": "https://plot.ly"
       },
       "data": [
        {
         "line": {
          "shape": "hv"
         },
         "mode": "lines",
         "name": "D0",
         "type": "scatter",
         "x": {
          "bdata": "AAAAAPLwmjsQ8Zo7",
          "dtype": "i4"
         },
         "xaxis": "x",
         "y": {
          "bdata": "AQAA",
          "dtype": "i1"
         },
         "yaxis": "y"
        },
        {
         "line": {
          "shape": "hv"
         },
         "mode": "lines",
         "name": "D1",
         "type": "scatter",
         "x": {
          "bdata": "AAAAABDxmjs=",
          "dtype": "i4"
         },
         "xaxis": "x2",
         "y": {
          "bdata": "AAA=",
          "dtype": "i1"
         },
         "yaxis": "y2"
        },
        {
         "line": {
          "shape": "hv"
         },
         "mode": "lines",
         "name": "D2",
         "type": "scatter",
         "x": {
          "bdata": "AAAAABDxmjs=",
          "dtype": "i4"
         },
         "xaxis": "x3",
         "y": {
          "bdata": "AAA=",
          "dtype": "i1"
         },
         "yaxis": "y3"
        },
        {
         "line": {
          "shape": "hv"
         },
         "mode": "lines",
         "name": "D3",
         "type": "scatter",
         "x": {
          "bdata": "AAAAAAoAAACIeM0dknjNHRDxmjs=",
          "dtype": "i4"
         },
         "xaxis": "x4",
         "y": {
          "bdata": "AQABAAA=",
          "dtype": "i1"
         },
         "yaxis": "y4"
        },
        {
         "line": {
          "shape": "hv"
         },
         "mode": "lines",
         "name": "D4",
         "type": "scatter",
         "x": {
          "bdata": "AAAAABDxmjs=",
          "dtype": "i4"
         },
         "xaxis": "x5",
         "y": {
          "bdata": "AAA=",
          "dtype": "i1"
         },
         "yaxis": "y5"
        },
        {
         "line": {
          "shape": "hv"
         },
         "mode": "lines",
         "name": "D5",
         "type": "scatter",
         "x": {
          "bdata": "AAAAABDxmjs=",
          "dtype": "i4"
         },
         "xaxis": "x6",
         "y": {
          "bdata": "AAA=",
          "dtype": "i1"
         },
         "yaxis": "y6"
        },
        {
         "line": {
          "shape": "hv"
         },
         "mode": "lines",
         "name": "D6",
         "type": "scatter",
         "x": {
          "bdata": "AAAAABDxmjs=",
          "dtype": "i4"
         },
         "xaxis": "x7",
         "y": {
          "bdata": "AAA=",
          "dtype": "i1"
         },
         "yaxis": "y7"
        },
        {
         "line": {
          "color": "black",
          "shape": "hv"
         },
         "mode": "lines",
         "name": "A0",
         "type": "scatter",
         "x": {
          "bdata": "AAAAABDxmjs=",
          "dtype": "i4"
         },
         "xaxis": "x8",
         "y": {
          "bdata": "AAAAAAAAAAAAAAAAAAAAAA==",
          "dtype": "f8"
         },
         "yaxis": "y8"
        },
        {
         "line": {
          "color": "black",
          "shape": "hv"
         },
         "mode": "lines",
         "name": "A1",
         "type": "scatter",
         "x": {
          "bdata": "AAAAABDxmjs=",
          "dtype": "i4"
         },
         "xaxis": "x9",
         "y": {
          "bdata": "AAAAAAAAAAAAAAAAAAAAAA==",
          "dtype": "f8"
         },
         "yaxis": "y9"
        },
        {
         "line": {
          "shape": "hv"
         },
         "mode": "lines",
         "name": "D7",
         "type": "scatter",
         "x": {
          "bdata": "AAAAAADKmjsQ8Zo7",
          "dtype": "i4"
         },
         "xaxis": "x10",
         "y": {
          "bdata": "AQAA",
          "dtype": "i1"
         },
         "yaxis": "y10"
        }
       ],
       "layout": {
        "height": 600,
        "margin": {
         "b": 40,
         "l": 50,
         "r": 50,
         "t": 40
        },
        "showlegend": false,
        "template": {
         "data": {
          "bar": [
           {
            "error_x": {
             "color": "#2a3f5f"
            },
            "error_y": {
             "color": "#2a3f5f"
            },
            "marker": {
             "line": {
              "color": "#E5ECF6",
              "width": 0.5
             },
             "pattern": {
              "fillmode": "overlay",
              "size": 10,
              "solidity": 0.2
             }
            },
            "type": "bar"
           }
          ],
          "barpolar": [
           {
            "marker": {
             "line": {
              "color": "#E5ECF6",
              "width": 0.5
             },
             "pattern": {
              "fillmode": "overlay",
              "size": 10,
              "solidity": 0.2
             }
            },
            "type": "barpolar"
           }
          ],
          "carpet": [
           {
            "aaxis": {
             "endlinecolor": "#2a3f5f",
             "gridcolor": "white",
             "linecolor": "white",
             "minorgridcolor": "white",
             "startlinecolor": "#2a3f5f"
            },
            "baxis": {
             "endlinecolor": "#2a3f5f",
             "gridcolor": "white",
             "linecolor": "white",
             "minorgridcolor": "white",
             "startlinecolor": "#2a3f5f"
            },
            "type": "carpet"
           }
          ],
          "choropleth": [
           {
            "colorbar": {
             "outlinewidth": 0,
             "ticks": ""
            },
            "type": "choropleth"
           }
          ],
          "contour": [
           {
            "colorbar": {
             "outlinewidth": 0,
             "ticks": ""
            },
            "colorscale": [
             [
              0,
              "#0d0887"
             ],
             [
              0.1111111111111111,
              "#46039f"
             ],
             [
              0.2222222222222222,
              "#7201a8"
             ],
             [
              0.3333333333333333,
              "#9c179e"
             ],
             [
              0.4444444444444444,
              "#bd3786"
             ],
             [
              0.5555555555555556,
              "#d8576b"
             ],
             [
              0.6666666666666666,
              "#ed7953"
             ],
             [
              0.7777777777777778,
              "#fb9f3a"
             ],
             [
              0.8888888888888888,
              "#fdca26"
             ],
             [
              1,
              "#f0f921"
             ]
            ],
            "type": "contour"
           }
          ],
          "contourcarpet": [
           {
            "colorbar": {
             "outlinewidth": 0,
             "ticks": ""
            },
            "type": "contourcarpet"
           }
          ],
          "heatmap": [
           {
            "colorbar": {
             "outlinewidth": 0,
             "ticks": ""
            },
            "colorscale": [
             [
              0,
              "#0d0887"
             ],
             [
              0.1111111111111111,
              "#46039f"
             ],
             [
              0.2222222222222222,
              "#7201a8"
             ],
             [
              0.3333333333333333,
              "#9c179e"
             ],
             [
              0.4444444444444444,
              "#bd3786"
             ],
             [
              0.5555555555555556,
              "#d8576b"
             ],
             [
              0.6666666666666666,
              "#ed7953"
             ],
             [
              0.7777777777777778,
              "#fb9f3a"
             ],
             [
              0.8888888888888888,
              "#fdca26"
             ],
             [
              1,
              "#f0f921"
             ]
            ],
            "type": "heatmap"
           }
          ],
          "histogram": [
           {
            "marker": {
             "pattern": {
              "fillmode": "overlay",
              "size": 10,
              "solidity": 0.2
             }
            },
            "type": "histogram"
           }
          ],
          "histogram2d": [
           {
            "colorbar": {
             "outlinewidth": 0,
             "ticks": ""
            },
            "colorscale": [
             [
              0,
              "#0d0887"
             ],
             [
              0.1111111111111111,
              "#46039f"
             ],
             [
              0.2222222222222222,
              "#7201a8"
             ],
             [
              0.3333333333333333,
              "#9c179e"
             ],
             [
              0.4444444444444444,
              "#bd3786"
             ],
             [
              0.5555555555555556,
              "#d8576b"
             ],
             [
              0.6666666666666666,
              "#ed7953"
             ],
             [
              0.7777777777777778,
              "#fb9f3a"
             ],
             [
              0.8888888888888888,
              "#fdca26"
             ],
             [
              1,
              "#f0f921"
             ]
            ],
            "type": "histogram2d"
           }
          ],
          "histogram2dcontour": [
           {
            "colorbar": {
             "outlinewidth": 0,
             "ticks": ""
            },
            "colorscale": [
             [
              0,
              "#0d0887"
             ],
             [
              0.1111111111111111,
              "#46039f"
             ],
             [
              0.2222222222222222,
              "#7201a8"
             ],
             [
              0.3333333333333333,
              "#9c179e"
             ],
             [
              0.4444444444444444,
              "#bd3786"
             ],
             [
              0.5555555555555556,
              "#d8576b"
             ],
             [
              0.6666666666666666,
              "#ed7953"
             ],
             [
              0.7777777777777778,
              "#fb9f3a"
             ],
             [
              0.8888888888888888,
              "#fdca26"
             ],
             [
              1,
              "#f0f921"
             ]
            ],
            "type": "histogram2dcontour"
           }
          ],
          "mesh3d": [
           {
            "colorbar": {
             "outlinewidth": 0,
             "ticks": ""
            },
            "type": "mesh3d"
           }
          ],
          "parcoords": [
           {
            "line": {
             "colorbar": {
              "outlinewidth": 0,
              "ticks": ""
             }
            },
            "type": "parcoords"
           }
          ],
          "pie": [
           {
            "automargin": true,
            "type": "pie"
           }
          ],
          "scatter": [
           {
            "fillpattern": {
             "fillmode": "overlay",
             "size": 10,
             "solidity": 0.2
            },
            "type": "scatter"
           }
          ],
          "scatter3d": [
           {
            "line": {
             "colorbar": {
              "outlinewidth": 0,
              "ticks": ""
             }
            },
            "marker": {
             "colorbar": {
              "outlinewidth": 0,
              "ticks": ""
             }
            },
            "type": "scatter3d"
           }
          ],
          "scattercarpet": [
           {
            "marker": {
             "colorbar": {
              "outlinewidth": 0,
              "ticks": ""
             }
            },
            "type": "scattercarpet"
           }
          ],
          "scattergeo": [
           {
            "marker": {
             "colorbar": {
              "outlinewidth": 0,
              "ticks": ""
             }
            },
            "type": "scattergeo"
           }
          ],
          "scattergl": [
           {
            "marker": {
             "colorbar": {
              "outlinewidth": 0,
              "ticks": ""
             }
            },
            "type": "scattergl"
           }
          ],
          "scattermap": [
           {
            "marker": {
             "colorbar": {
              "outlinewidth": 0,
              "ticks": ""
             }
            },
            "type": "scattermap"
           }
          ],
          "scattermapbox": [
           {
            "marker": {
             "colorbar": {
              "outlinewidth": 0,
              "ticks": ""
             }
            },
            "type": "scattermapbox"
           }
          ],
          "scatterpolar": [
           {
            "marker": {
             "colorbar": {
              "outlinewidth": 0,
              "ticks": ""
             }
            },
            "type": "scatterpolar"
           }
          ],
          "scatterpolargl": [
           {
            "marker": {
             "colorbar": {
              "outlinewidth": 0,
              "ticks": ""
             }
            },
            "type": "scatterpolargl"
           }
          ],
          "scatterternary": [
           {
            "marker": {
             "colorbar": {
              "outlinewidth": 0,
              "ticks": ""
             }
            },
            "type": "scatterternary"
           }
          ],
          "surface": [
           {
            "colorbar": {
             "outlinewidth": 0,
             "ticks": ""
            },
            "colorscale": [
             [
              0,
              "#0d0887"
             ],
             [
              0.1111111111111111,
              "#46039f"
             ],
             [
              0.2222222222222222,
              "#7201a8"
             ],
             [
              0.3333333333333333,
              "#9c179e"
             ],
             [
              0.4444444444444444,
              "#bd3786"
             ],
             [
              0.5555555555555556,
              "#d8576b"
             ],
             [
              0.6666666666666666,
              "#ed7953"
             ],
             [
              0.7777777777777778,
              "#fb9f3a"
             ],
             [
              0.8888888888888888,
              "#fdca26"
             ],
             [
              1,
              "#f0f921"
             ]
            ],
            "type": "surface"
           }
          ],
          "table": [
           {
            "cells": {
             "fill": {
              "color": "#EBF0F8"
             },
             "line": {
              "color": "white"
             }
            },
            "header": {
             "fill": {
              "color": "#C8D4E3"
             },
             "line": {
              "color": "white"
             }
            },
            "type": "table"
           }
          ]
         },
         "layout": {
          "annotationdefaults": {
           "arrowcolor": "#2a3f5f",
           "arrowhead": 0,
           "arrowwidth": 1
          },
          "autotypenumbers": "strict",
          "coloraxis": {
           "colorbar": {
            "outlinewidth": 0,
            "ticks": ""
           }
          },
          "colorscale": {
           "diverging": [
            [
             0,
             "#8e0152"
            ],
            [
             0.1,
             "#c51b7d"
            ],
            [
             0.2,
             "#de77ae"
            ],
            [
             0.3,
             "#f1b6da"
            ],
            [
             0.4,
             "#fde0ef"
            ],
            [
             0.5,
             "#f7f7f7"
            ],
            [
             0.6,
             "#e6f5d0"
            ],
            [
             0.7,
             "#b8e186"
            ],
            [
             0.8,
             "#7fbc41"
            ],
            [
             0.9,
             "#4d9221"
            ],
            [
             1,
             "#276419"
            ]
           ],
           "sequential": [
            [
             0,
             "#0d0887"
            ],
            [
             0.1111111111111111,
             "#46039f"
            ],
            [
             0.2222222222222222,
             "#7201a8"
            ],
            [
             0.3333333333333333,
             "#9c179e"
            ],
            [
             0.4444444444444444,
             "#bd3786"
            ],
            [
             0.5555555555555556,
             "#d8576b"
            ],
            [
             0.6666666666666666,
             "#ed7953"
            ],
            [
             0.7777777777777778,
             "#fb9f3a"
            ],
            [
             0.8888888888888888,
             "#fdca26"
            ],
            [
             1,
             "#f0f921"
            ]
           ],
           "sequentialminus": [
            [
             0,
             "#0d0887"
            ],
            [
             0.1111111111111111,
             "#46039f"
            ],
            [
             0.2222222222222222,
             "#7201a8"
            ],
            [
             0.3333333333333333,
             "#9c179e"
            ],
            [
             0.4444444444444444,
             "#bd3786"
            ],
            [
             0.5555555555555556,
             "#d8576b"
            ],
            [
             0.6666666666666666,
             "#ed7953"
            ],
            [
             0.7777777777777778,
             "#fb9f3a"
            ],
            [
             0.8888888888888888,
             "#fdca26"
            ],
            [
             1,
             "#f0f921"
            ]
           ]
          },
          "colorway": [
           "#636efa",
           "#EF553B",
           "#00cc96",
           "#ab63fa",
           "#FFA15A",
           "#19d3f3",
           "#FF6692",
           "#B6E880",
           "#FF97FF",
           "#FECB52"
          ],
          "font": {
           "color": "#2a3f5f"
          },
          "geo": {
           "bgcolor": "white",
           "lakecolor": "white",
           "landcolor": "#E5ECF6",
           "showlakes": true,
           "showland": true,
           "subunitcolor": "white"
          },
          "hoverlabel": {
           "align": "left"
          },
          "hovermode": "closest",
          "mapbox": {
           "style": "light"
          },
          "paper_bgcolor": "white",
          "plot_bgcolor": "#E5ECF6",
          "polar": {
           "angularaxis": {
            "gridcolor": "white",
            "linecolor": "white",
            "ticks": ""
           },
           "bgcolor": "#E5ECF6",
           "radialaxis": {
            "gridcolor": "white",
            "linecolor": "white",
            "ticks": ""
           }
          },
          "scene": {
           "xaxis": {
            "backgroundcolor": "#E5ECF6",
            "gridcolor": "white",
            "gridwidth": 2,
            "linecolor": "white",
            "showbackground": true,
            "ticks": "",
            "zerolinecolor": "white"
           },
           "yaxis": {
            "backgroundcolor": "#E5ECF6",
            "gridcolor": "white",
            "gridwidth": 2,
            "linecolor": "white",
            "showbackground": true,
            "ticks": "",
            "zerolinecolor": "white"
           },
           "zaxis": {
            "backgroundcolor": "#E5ECF6",
            "gridcolor": "white",
            "gridwidth": 2,
            "linecolor": "white",
            "showbackground": true,
            "ticks": "",
            "zerolinecolor": "white"
           }
          },
          "shapedefaults": {
           "line": {
            "color": "#2a3f5f"
           }
          },
          "ternary": {
           "aaxis": {
            "gridcolor": "white",
            "linecolor": "white",
            "ticks": ""
           },
           "baxis": {
            "gridcolor": "white",
            "linecolor": "white",
            "ticks": ""
           },
           "bgcolor": "#E5ECF6",
           "caxis": {
            "gridcolor": "white",
            "linecolor": "white",
            "ticks": ""
           }
          },
          "title": {
           "x": 0.05
          },
          "xaxis": {
           "automargin": true,
           "gridcolor": "white",
           "linecolor": "white",
           "ticks": "",
           "title": {
            "standoff": 15
           },
           "zerolinecolor": "white",
           "zerolinewidth": 2
          },
          "yaxis": {
           "automargin": true,
           "gridcolor": "white",
           "linecolor": "white",
           "ticks": "",
           "title": {
            "standoff": 15
           },
           "zerolinecolor": "white",
           "zerolinewidth": 2
          }
         }
        },
        "title": {
         "text": "Sequence"
        },
        "width": 600,
        "xaxis": {
         "anchor": "y",
         "domain": [
          0,
          1
         ],
         "matches": "x10",
         "showticklabels": false
        },
        "xaxis10": {
         "anchor": "y10",
         "domain": [
          0,
          1
         ],
         "title": {
          "text": "time/ns"
         }
        },
        "xaxis2": {
         "anchor": "y2",
         "domain": [
          0,
          1
         ],
         "matches": "x10",
         "showticklabels": false
        },
        "xaxis3": {
         "anchor": "y3",
         "domain": [
          0,
          1
         ],
         "matches": "x10",
         "showticklabels": false
        },
        "xaxis4": {
         "anchor": "y4",
         "domain": [
          0,
          1
         ],
         "matches": "x10",
         "showticklabels": false
        },
        "xaxis5": {
         "anchor": "y5",
         "domain": [
          0,
          1
         ],
         "matches": "x10",
         "showticklabels": false
        },
        "xaxis6": {
         "anchor": "y6",
         "domain": [
          0,
          1
         ],
         "matches": "x10",
         "showticklabels": false
        },
        "xaxis7": {
         "anchor": "y7",
         "domain": [
          0,
          1
         ],
         "matches": "x10",
         "showticklabels": false
        },
        "xaxis8": {
         "anchor": "y8",
         "domain": [
          0,
          1
         ],
         "matches": "x10",
         "showticklabels": false
        },
        "xaxis9": {
         "anchor": "y9",
         "domain": [
          0,
          1
         ],
         "matches": "x10",
         "showticklabels": false
        },
        "yaxis": {
         "anchor": "x",
         "domain": [
          0.9179999999999999,
          0.9999999999999999
         ],
         "range": [
          -0.4,
          1.4
         ],
         "showticklabels": false,
         "title": {
          "text": "D0<br>laser"
         }
        },
        "yaxis10": {
         "anchor": "x10",
         "domain": [
          0,
          0.082
         ],
         "range": [
          -0.4,
          1.4
         ],
         "showticklabels": false,
         "title": {
          "text": "D7<br>WDF"
         }
        },
        "yaxis2": {
         "anchor": "x2",
         "domain": [
          0.8160000000000001,
          0.898
         ],
         "range": [
          -0.4,
          1.4
         ],
         "showticklabels": false,
         "title": {
          "text": "D1<br>dclk"
         }
        },
        "yaxis3": {
         "anchor": "x3",
         "domain": [
          0.7140000000000001,
          0.796
         ],
         "range": [
          -0.4,
          1.4
         ],
         "showticklabels": false,
         "title": {
          "text": "D2<br>dtrig"
         }
        },
        "yaxis4": {
         "anchor": "x4",
         "domain": [
          0.6120000000000001,
          0.6940000000000001
         ],
         "range": [
          -0.4,
          1.4
         ],
         "showticklabels": false,
         "title": {
          "text": "D3<br>sdtrig"
         }
        },
        "yaxis5": {
         "anchor": "x5",
         "domain": [
          0.51,
          0.592
         ],
         "range": [
          -0.4,
          1.4
         ],
         "showticklabels": false,
         "title": {
          "text": "D4<br>mwA"
         }
        },
        "yaxis6": {
         "anchor": "x6",
         "domain": [
          0.40800000000000003,
          0.49000000000000005
         ],
         "range": [
          -0.4,
          1.4
         ],
         "showticklabels": false,
         "title": {
          "text": "D5<br>mwB"
         }
        },
        "yaxis7": {
         "anchor": "x7",
         "domain": [
          0.306,
          0.388
         ],
         "range": [
          -0.4,
          1.4
         ],
         "showticklabels": false,
         "title": {
          "text": "D6<br>rftrig"
         }
        },
        "yaxis8": {
         "anchor": "x8",
         "domain": [
          0.20400000000000001,
          0.28600000000000003
         ],
         "range": [
          -1.5,
          1.5
         ],
         "tickfont": {
          "size": 6
         },
         "title": {
          "text": "A0<br>Bz"
         }
        },
        "yaxis9": {
         "anchor": "x9",
         "domain": [
          0.10200000000000001,
          0.184
         ],
         "range": [
          -1.5,
          1.5
         ],
         "tickfont": {
          "size": 6
         },
         "title": {
          "text": "A1<br>Bx"
         }
        }
       }
      }
     },
     "metadata": {},
     "output_type": "display_data"
    }
   ],
   "source": [
    "trig_len=10\n",
    "readout_period=sweep_config['pause_at_step_us']+10000 #TODO: config len\n",
    "freq_sweep_trig=[(sweep_config['pause_at_step_us'],HIGH),(10000,LOW)] #TODO: can you write this as a 10ns pulse with wait time?\n",
    "switch_trig=[(sweep_config['pause_at_step_us'],HIGH),(10000,LOW)] #TODO: config len\n",
    "laser_trig=[(readout_period-3*trig_len,HIGH),(3*trig_len,LOW)] # \"always\" on, off at end to avoid dig freq filter #TODO: config len\n",
    "dig_trig=[(trig_len,HIGH),(readout_period/2 - trig_len,LOW)]*2 #TODO: config len\n",
    "\n",
    "\n",
    "pg.setDigital(\"WDF\", freq_sweep_trig)\n",
    "# pg.setDigital(\"switch\", switch_trig) # TODO: add channel for the switch\n",
    "pg.setDigital(\"laser\", laser_trig)\n",
    "pg.setDigital(\"sdtrig\", dig_trig)\n",
    "\n",
    "pg.setTrigger(TriggerStart.SOFTWARE, rearm=TriggerRearm.AUTO)\n",
    "REPEAT_INFINITELY = -1\n",
    "# pg.stream(n_runs=1)\n",
    "pg.plotSeq(plot_all=False)\n"
   ]
  },
  {
   "cell_type": "code",
   "execution_count": 5,
   "id": "c0988550",
   "metadata": {},
   "outputs": [
    {
     "data": {
      "text/plain": [
       "0"
      ]
     },
     "execution_count": 5,
     "metadata": {},
     "output_type": "execute_result"
    }
   ],
   "source": [
    "pg.stream(n_runs=100)\n",
    "pg.startNow()"
   ]
  },
  {
   "cell_type": "code",
   "execution_count": null,
   "id": "16c9bccc",
   "metadata": {},
   "outputs": [],
   "source": [
    "# step with ext trigger V4 \n",
    "# yes works by gated on high and low pulse from the pulse streamer \n",
    "synth[0].power = -80\n",
    "\n",
    "ch.write('frequency',sweep_config['sweep_start_MHz'])\n",
    "ch.write('sweep_freq_low', sweep_config['sweep_start_MHz'])\n",
    "ch.write('sweep_freq_high', sweep_config['sweep_stop_MHz'])\n",
    "ch.write('sweep_freq_step', sweep_config['sweep_step_size_MHz'])\n",
    "ch.write('sweep_time_step',0) #TODO check if this is necessary in stepped version\n",
    "ch.write('sweep_power_low', sweep_config['sweep_power'])\n",
    "ch.write('sweep_power_high', sweep_config['sweep_power'])\n",
    "ch.write('sweep_direction', sweep_config['sweep_direction'])\n",
    "ch.write('sweep_diff_freq', 0)\n",
    "ch.write('sweep_diff_meth', 0)\n",
    "ch.write('sweep_type', sweep_config['sweep_type'])\n",
    "ch.write('sweep_cont', sweep_config['step_only_once'])\n",
    "ch.write('sweep_single', sweep_config['sweep_all_freq'])\n",
    "synth.enable_trigger=sweep_config['trigger_type'] # 0 = software 1 = sweep 2 = step 3 = hold all \n",
    "synth.trigger_polarity=sweep_config['trigger_polarity'] # active low =0 active high = 1\n",
    "synth.trigger_mode=\"single frequency step\"\n",
    " \n",
    "# synth.rf_enable = True # not necessary\n",
    "# ch.rf_enable = True # not necessary\n",
    "\n",
    "ch.enable = True \n",
    "synth.enable=True\n",
    "# synth.sweep_enable = True 3 not necessary either \n",
    "# ch.sweep_enable = True"
   ]
  },
  {
   "cell_type": "markdown",
   "id": "5e284cb0",
   "metadata": {},
   "source": [
    "### Digitzer config setup"
   ]
  },
  {
   "cell_type": "code",
   "execution_count": null,
   "id": "704238c6",
   "metadata": {},
   "outputs": [],
   "source": [
    "# To set the configuration, make a dictionary with the key and value\n",
    "# TODO: config the parameters for the digitizer\n",
    "dig.reset_param()\n",
    "dig.assign_param(dict(\n",
    "             readout_ch=sweep_config['readout_ch'], \n",
    "             amp_input=sweep_config['amp_input'], \n",
    "             num_segment=sweep_config['num_segment'],\n",
    "             pretrig_size=sweep_config['pretrig_size'],\n",
    "             posttrig_size=sweep_config['posttrig_size'],\n",
    "             segment_size=sweep_config['segment_size'],\n",
    "             terminate_input=sweep_config['terminate_input'],\n",
    "             DCCOUPLE = sweep_config['DCCOUPLE'],\n",
    "             sampling_rate=sweep_config['sampling_rate'],\n",
    "            #  terminate_input=TERMIN_INPUT_50OHM, #TODO: check this - why is it commented out\n",
    "             ))"
   ]
  },
  {
   "cell_type": "code",
   "execution_count": null,
   "id": "7e37a628",
   "metadata": {},
   "outputs": [],
   "source": [
    "start_time = time.time()\n",
    "\n",
    "while (time.time() - start_time) < sweep_config['run_time']:\n",
    "    print(\"hello\")\n",
    "\n",
    "\n",
    "\n",
    "    "
   ]
  },
  {
   "cell_type": "code",
   "execution_count": null,
   "id": "d9437128",
   "metadata": {},
   "outputs": [],
   "source": [
    "# disable all the inst \n",
    "dig.stop_card()\n",
    "ch.enable = False\n",
    "synth.enable=False\n",
    "pg.forceFinal()\n",
    "pg.reset()\n"
   ]
  },
  {
   "cell_type": "code",
   "execution_count": null,
   "id": "29f24f9d",
   "metadata": {},
   "outputs": [],
   "source": [
    "#TODO: add streaming logic for the digitizer \n"
   ]
  }
 ],
 "metadata": {
  "kernelspec": {
   "display_name": "Python 3",
   "language": "python",
   "name": "python3"
  },
  "language_info": {
   "codemirror_mode": {
    "name": "ipython",
    "version": 3
   },
   "file_extension": ".py",
   "mimetype": "text/x-python",
   "name": "python",
   "nbconvert_exporter": "python",
   "pygments_lexer": "ipython3",
   "version": "3.10.16"
  }
 },
 "nbformat": 4,
 "nbformat_minor": 5
}
