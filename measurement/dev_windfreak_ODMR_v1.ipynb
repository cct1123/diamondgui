{
    "cells": [
        {
            "cell_type": "code",
            "execution_count": 1,
            "id": "14b4da12",
            "metadata": {},
            "outputs": [],
            "source": [
                "import time\n",
                "import sys\n",
                "import os\n",
                "path_project = \"\\\\\".join(os.getcwd().split(\"\\\\\")[:-1])\n",
                "# caution: path[0] is reserved for script path (or '' in REPL)\n",
                "sys.path.insert(1, path_project)\n",
                "\n",
                "from hardware.pulser.pulser import PulseGenerator, OutputState, TriggerStart, TriggerRearm, HIGH, LOW, INF\n",
                "from hardware.laser.laser import LaserControl\n",
                "from hardware.mw.mwsynthesizer import Synthesizer\n",
                "\n",
                "from hardware import config as hcf\n",
                "\n",
                "import nidaqmx\n",
                "from nidaqmx.constants import TerminalConfiguration, VoltageUnits, Edge, AcquisitionType, READ_ALL_AVAILABLE\n",
                "# from nidaqmx.constants import LogicFamily \n",
                "# TWO_POINT_FIVE_V, THREE_POINT_THREE_V, FIVE_V\n",
                "# from nidaqmx import stream_readers \n",
                "# from nidaqmx.stream_readers import AnalogSingleChannelReader\n",
                "\n",
                "import numpy as np\n",
                "from windfreak import SynthHD\n",
                "from math import floor\n",
                "import time\n",
                "import matplotlib.pyplot as plt\n",
                "\n",
                "import plotly.graph_objects as go\n",
                "import plotly.express as px"
            ]
        },
        {
            "cell_type": "code",
            "execution_count": 2,
            "id": "06688ca6",
            "metadata": {},
            "outputs": [
                {
                    "name": "stdout",
                    "output_type": "stream",
                    "text": [
                        "Clock mode set to: 32\n",
                        "1: Internal, 2: Quartz, 3: External, 32: Direct External Sampling\n"
                    ]
                }
            ],
            "source": [
                "# connect to the digitizer \n",
                "from hardware.daq.sidig import FIFO_DataAcquisition\n",
                "from hardware.daq.sidig import FIFO_DataAcquisition, DCCOUPLE, TERMIN_INPUT_50OHM, TERMIN_INPUT_1MOHM\n",
                "\n",
                "SIDIG_ADDRESS = \"dev/spcm0\"\n",
                "SIDIG_maxsr = 500e6  # Hz\n",
                "SIDIG_timebase = int(1 / SIDIG_maxsr * 1e9)  # ns\n",
                "dig=FIFO_DataAcquisition(\n",
                "                sn_address=SIDIG_ADDRESS\n",
                "            )"
            ]
        },
        {
            "cell_type": "markdown",
            "id": "d090f8ab",
            "metadata": {},
            "source": [
                "## Pulse streamer connection "
            ]
        },
        {
            "cell_type": "code",
            "execution_count": 3,
            "id": "615b2cd5",
            "metadata": {},
            "outputs": [
                {
                    "name": "stdout",
                    "output_type": "stream",
                    "text": [
                        "Connect to Pulse Streamer via JSON-RPC.\n",
                        "IP / Hostname: 192.168.1.26\n",
                        "Pulse Streamer 8/2 firmware: v1.7.2\n",
                        "Client software: v1.7.0\n"
                    ]
                }
            ],
            "source": [
                "# connect to the pulse streamer \n",
                "pg  = PulseGenerator(ip=hcf.PS_IP, chmap=hcf.PS_chmap) \n"
            ]
        },
        {
            "cell_type": "markdown",
            "id": "602bf7ec",
            "metadata": {},
            "source": [
                "## Windfreak setup"
            ]
        },
        {
            "cell_type": "code",
            "execution_count": 4,
            "id": "b37f56a1",
            "metadata": {},
            "outputs": [],
            "source": [
                "# connect to the windfreak mw driver \n",
                "synth = SynthHD('COM4')\n",
                "synth.init()\n"
            ]
        },
        {
            "cell_type": "code",
            "execution_count": 5,
            "id": "a46a8780",
            "metadata": {},
            "outputs": [],
            "source": [
                "ch = synth[0]  \n",
                "ch.power = -60\n",
                "ch.frequency = 400*1e6\n",
                "ch.enable = False\n",
                "synth.enable=False"
            ]
        },
        {
            "cell_type": "markdown",
            "id": "89b6ebb3",
            "metadata": {},
            "source": [
                "## Laser control"
            ]
        },
        {
            "cell_type": "code",
            "execution_count": 6,
            "id": "0ceef338",
            "metadata": {},
            "outputs": [],
            "source": [
                "laser = LaserControl(hcf.LASER_SN)\n",
                "laser.open()"
            ]
        },
        {
            "cell_type": "code",
            "execution_count": 7,
            "id": "a621ae16",
            "metadata": {},
            "outputs": [],
            "source": [
                "current_percent = 75.09\n",
                "laser.laser_off()\n",
                "laser.set_analog_control_mode(\"current\")\n",
                "laser.set_modulation_state(\"Pulsed\")\n",
                "laser.set_diode_current(current_percent, save_memory=False)"
            ]
        },
        {
            "cell_type": "markdown",
            "id": "d2174442",
            "metadata": {},
            "source": [
                "## Configure the aquistion parameters"
            ]
        },
        {
            "cell_type": "code",
            "execution_count": 8,
            "id": "416dd4f9",
            "metadata": {},
            "outputs": [],
            "source": [
                "f_start= (398.556-.1)/24 *1e3\n",
                "f_end= (398.56+.1)/24 *1e3\n",
                "step=(-f_start+f_end)/.05\n",
                "# f_start= 400\n",
                "# f_end= 600\n",
                "# step=(-f_start+f_end)/25"
            ]
        },
        {
            "cell_type": "code",
            "execution_count": null,
            "id": "c40408c3",
            "metadata": {},
            "outputs": [],
            "source": []
        },
        {
            "cell_type": "code",
            "execution_count": 9,
            "id": "2a835eba",
            "metadata": {},
            "outputs": [],
            "source": [
                "sweep_config = {\n",
                "    # WINDFREAK SETTINGSa\n",
                "    \"sweep_start_MHz\": f_start,\n",
                "    \"sweep_stop_MHz\": f_end,\n",
                "    \"sweep_step_size_MHz\": .2,\n",
                "    \"pause_at_step_us\": 100000,\n",
                "    \"sweep_power\": 20,       # dBm\n",
                "    'sweep_direction': 1 ,  # up = 1 down = 0.\n",
                "    'sweep_type': 0 ,       # 0 = linear 1 = tabular \n",
                "    'sweep_only_once': True, # True = 1 rep False = inf reps\n",
                "    'sweep_all_freq': False, # True = after a trigger sweep through all freq False = after trigger step 1 freq only \n",
                "    'trigger_type': 2, # 0 = software 1 = sweep 2 = step 3 = hold all \n",
                "    # 'trigger_polarity': 0, # active low =0 active high = 1,\n",
                "    \"trigger_mode\": \"single frequency step\",\n",
                "    # DIGITZER SETTINGS\n",
                "    'readout_ch': hcf.SIDIG_chmap[\"apd\"],\n",
                "    'amp_input' : 1000,\n",
                "    'terminate_input': TERMIN_INPUT_1MOHM,\n",
                "    'DCCOUPLE': 0,\n",
                "    'sampling_rate': hcf.SIDIG_maxsr,\n",
                "    # DIGITIZER collection \n",
                "    'num_segment': 4,\n",
                "    'pretrig_size': 16,\n",
                "    'posttrig_size': 1024-16,\n",
                "    'segment_size': 1024,\n",
                "    # Loop settings\n",
                "    'run_time': 10, # seconds\n",
                "    'reps':1000,\n",
                "    'num_mw_points':None, #assigned in next line \n",
                "    \"init_time\": 1e9,\n",
                "    'step_switch_time': 10000, #TODO: config len \n",
                "}\n",
                "sweep_config['num_samples_per_segment'] = sweep_config['pretrig_size'] + sweep_config['posttrig_size']\n",
                "sweep_config['num_mw_points'] =  int( (-sweep_config['sweep_start_MHz'] + sweep_config['sweep_stop_MHz'])//sweep_config['sweep_step_size_MHz']+1)"
            ]
        },
        {
            "cell_type": "code",
            "execution_count": 10,
            "id": "66232988",
            "metadata": {},
            "outputs": [],
            "source": [
                "# check that the mw step time is aligned with the digititzer collection time \n",
                "if (1e9/sweep_config['sampling_rate'])*sweep_config['num_samples_per_segment'] > sweep_config['pause_at_step_us']:\n",
                "    print(\"collection is longer than the mw step time, please change the mw step time\")\n",
                "    raise ValueError(\"collection is longer than the mw step time, please change the mw step time\")\n",
                "else:\n",
                "    pass \n"
            ]
        },
        {
            "cell_type": "markdown",
            "id": "602edf2b",
            "metadata": {},
            "source": [
                "## Setup the pulse sequence "
            ]
        },
        {
            "cell_type": "code",
            "execution_count": 11,
            "id": "3b02986f",
            "metadata": {},
            "outputs": [
                {
                    "data": {
                        "text/plain": [
                            "43"
                        ]
                    },
                    "execution_count": 11,
                    "metadata": {},
                    "output_type": "execute_result"
                }
            ],
            "source": [
                "sweep_config['num_mw_points']"
            ]
        },
        {
            "cell_type": "code",
            "execution_count": 12,
            "id": "b9a34a34",
            "metadata": {},
            "outputs": [],
            "source": [
                "trig_len=10\n",
                "step_switch_time=sweep_config['step_switch_time']-100 \n",
                "readout_period=sweep_config['pause_at_step_us']+step_switch_time #TODO: config len\n",
                "init_time=sweep_config['init_time'] # to avoid any error due to the windfreak setup time #TOD0: check if necessary \n",
                "ps_reps=int(sweep_config['num_mw_points']*5000) # 2 ensures that we don't wrap back around \n",
                "# ps_reps=10\n",
                "# init_time=0\n",
                "\n",
                "init_period_wdf=[(init_time,HIGH)]\n",
                "init_period=[(init_time,LOW)]\n",
                "\n",
                "freq_sweep_trig=init_period_wdf+[(sweep_config['pause_at_step_us'],HIGH),(step_switch_time,LOW)]*ps_reps #TODO: can you write this as a 10ns pulse with wait time?\n",
                "# freq_sweep_trig=init_period+[(sweep_config['pause_at_step_us'],LOW),(step_switch_time,HIGH)]*ps_reps #TODO: can you write this as a 10ns pulse with wait time?\n",
                "\n",
                "\n",
                "laser_trig=init_period+[(sweep_config['pause_at_step_us']/2,HIGH),(step_switch_time/2,LOW),(sweep_config['pause_at_step_us']/2,HIGH),(step_switch_time/2,LOW)]*ps_reps #TODO: config len\n",
                "# switch_trig=init_period+[(1e9*20,HIGH)]\n",
                "switch_trig=init_period+[(readout_period/2-3*trig_len,HIGH),(readout_period/2+3*trig_len,LOW)]*ps_reps # \"always\" on, off at end to avoid dig freq filter #TODO: config len\n",
                "dig_trig=init_period+[(trig_len,HIGH),(readout_period/2 - trig_len,LOW)]*2*ps_reps #TODO: config len\n",
                "\n",
                "\n",
                "pg.setDigital(\"WDF\", freq_sweep_trig)\n",
                "pg.setDigital(\"mwA\", switch_trig) # TODO: add channel for the switch\n",
                "pg.setDigital(\"laser\", laser_trig)\n",
                "pg.setDigital(\"sdtrig\", dig_trig)\n",
                "\n",
                "pg.setTrigger(TriggerStart.SOFTWARE, rearm=TriggerRearm.AUTO)\n",
                "# REPEAT_INFINITELY = -1\n",
                "# pg.stream(n_runs=1)\n",
                "# pg.plotSeq(plot_all=False)\n"
            ]
        },
        {
            "cell_type": "code",
            "execution_count": 13,
            "id": "c0988550",
            "metadata": {},
            "outputs": [],
            "source": [
                "pg.stream(n_runs=1) #, wait_for_trigger=True, trigger=TriggerStart.SOFTWARE, rearm=TriggerRearm.AUTO)"
            ]
        },
        {
            "cell_type": "code",
            "execution_count": 14,
            "id": "a54f341a",
            "metadata": {},
            "outputs": [],
            "source": [
                "# # add to code if necessary \n",
                "# # Disable pulsing -- need to reset from previoius trial run \n",
                "# ch.write('pulse_cont', False)\n",
                "# # ch.write('pulse_single', 0)\n",
                "# ch.write('pulse_num_rep', 0)\n",
                "# ch.write('pulse_on_time', 0)\n",
                "# ch.write('pulse_off_time', 0)\n"
            ]
        },
        {
            "cell_type": "code",
            "execution_count": 15,
            "id": "0db85cdd",
            "metadata": {},
            "outputs": [
                {
                    "data": {
                        "text/plain": [
                            "16610.833333333336"
                        ]
                    },
                    "execution_count": 15,
                    "metadata": {},
                    "output_type": "execute_result"
                }
            ],
            "source": [
                "sweep_config['sweep_start_MHz'] \n",
                "sweep_config['sweep_stop_MHz']  # MHz"
            ]
        },
        {
            "cell_type": "code",
            "execution_count": 16,
            "id": "16c9bccc",
            "metadata": {},
            "outputs": [],
            "source": [
                "# step with ext trigger V4 \n",
                "# yes works by gated on high and low pulse from the pulse streamer \n",
                "synth[0].power = 20\n",
                "# ch.frequency = 400*1e6\n",
                "\n",
                "ch.write('frequency',sweep_config['sweep_start_MHz'])\n",
                "ch.write('sweep_freq_low', sweep_config['sweep_start_MHz'])\n",
                "ch.write('sweep_freq_high', sweep_config['sweep_stop_MHz'])\n",
                "ch.write('sweep_freq_step', sweep_config['sweep_step_size_MHz'])\n",
                "ch.write('sweep_time_step',100) #TODO check if this is necessary in stepped version\n",
                "ch.write('sweep_power_low', sweep_config['sweep_power'])\n",
                "ch.write('sweep_power_high', sweep_config['sweep_power'])\n",
                "ch.write('sweep_direction', sweep_config['sweep_direction'])\n",
                "ch.write('sweep_diff_freq', 0)\n",
                "ch.write('sweep_diff_meth', 0)\n",
                "ch.write('sweep_type', sweep_config['sweep_type'])\n",
                "ch.write('sweep_cont', sweep_config['sweep_only_once'])\n",
                "ch.write('sweep_single', sweep_config['sweep_all_freq'])\n",
                "synth.enable_trigger=sweep_config['trigger_type'] # 0 = software 1 = sweep 2 = step 3 = hold all \n",
                "# synth.trigger_polarity=sweep_config['trigger_polarity'] # active low =0 active high = 1\n",
                "synth.trigger_mode= sweep_config['trigger_mode']\n",
                " \n",
                "# synth.rf_enable = True # not necessary\n",
                "# ch.rf_enable = True # not necessary\n",
                "\n",
                "\n",
                "# synth.sweep_enable = True 3 not necessary either \n",
                "# ch.sweep_enable = Truea"
            ]
        },
        {
            "cell_type": "markdown",
            "id": "5e284cb0",
            "metadata": {},
            "source": [
                "### Digitzer config setup"
            ]
        },
        {
            "cell_type": "code",
            "execution_count": 17,
            "id": "704238c6",
            "metadata": {},
            "outputs": [],
            "source": [
                "# To set the configuration, make a dictionary with the key and value\n",
                "# TODO: config the parameters for the digitizer\n",
                "dig.reset_param()\n",
                "dig.assign_param(dict(\n",
                "             readout_ch=sweep_config['readout_ch'], \n",
                "             amp_input=sweep_config['amp_input'], \n",
                "             num_segment=sweep_config['num_segment'],\n",
                "             pretrig_size=sweep_config['pretrig_size'],\n",
                "             posttrig_size=sweep_config['posttrig_size'],\n",
                "             segment_size=sweep_config['segment_size'],\n",
                "             terminate_input=sweep_config['terminate_input'],\n",
                "             DCCOUPLE = sweep_config['DCCOUPLE'],\n",
                "             sampling_rate=sweep_config['sampling_rate'],\n",
                "            #  terminate_input=TERMIN_INPUT_50OHM, #TODO: check this - why is it commented out\n",
                "             ))"
            ]
        },
        {
            "cell_type": "code",
            "execution_count": 18,
            "id": "9eb3e7b4",
            "metadata": {},
            "outputs": [],
            "source": [
                "dig.set_config()"
            ]
        },
        {
            "cell_type": "markdown",
            "id": "2caacf82",
            "metadata": {},
            "source": []
        },
        {
            "cell_type": "code",
            "execution_count": 19,
            "id": "7e37a628",
            "metadata": {},
            "outputs": [],
            "source": [
                "# start_time = time.time()\n",
                "# # laser.laser_on()\n",
                "# dig.set_config()\n",
                "# dig.start_buffer()\n",
                "# pg.startNow()\n",
                "# ch.enable = True \n",
                "# synth.enable=True\n",
                "# idx_pointer=0\n",
                "# reps=0\n",
                "\n",
                "# while (time.time() - start_time) < sweep_config['run_time']:\n",
                "#     raw_data= dig.stream()\n",
                "#     if raw_data is not None:\n",
                "#         raw_data = np.squeeze(raw_data, axis=-1)\n",
                "#         num_segs = np.shape(raw_data)[0]\n",
                "#         assert num_segs % 2 == 0\n",
                "#         if idx_pointer + num_segs//2 < (sweep_config['num_mw_points']-1):\n",
                "#             print(\"loop1, idx_start\",idx_pointer)\n",
                "#             mw_on[:,idx_pointer:idx_pointer+num_segs//2] = raw_data[0::2,:] \n",
                "#             mw_off[:,idx_pointer:idx_pointer+num_segs//2] = raw_data[1::2,:]\n",
                "#             idx_pointer += num_segs//2\n",
                "#             print(\"loop1, idx_end\",idx_pointer)\n",
                "#         if idx_pointer + num_segs//2 == (sweep_config['num_mw_points']-1):\n",
                "#             print(\"loop2, idx_start\",idx_pointer)\n",
                "            \n",
                "#             # tail_num=(sweep_config['num_mw_points']-1)-idx_pointer\n",
                "#             # leading_num=num_segs//2-tail_num\n",
                "#             # print(\"tail_num\",tail_num)\n",
                "#             # print(\"leading_num\",leading_num)\n",
                "#             print(len(raw_data))\n",
                "#             mw_on[:,idx_pointer:] += raw_data[0,:]\n",
                "#             mw_off[:,idx_pointer:] += raw_data[1,:]\n",
                "#             if len(raw_data) > 2:\n",
                "#                 mw_on[:,0:idx_pointer-1] += raw_data[2::2,:]\n",
                "#                 mw_off[:,0:idx_pointer-1] += raw_data[3::2,:]\n",
                "            \n",
                "#             idx_pointer += num_segs//2\n",
                "#             idx_pointer = idx_pointer % (sweep_config['num_mw_points']-1)\n",
                "#             reps += 1\n",
                "#             print(\"loop2, idx_end\",idx_pointer)\n",
                "#         if idx_pointer + num_segs//2 > (sweep_config['num_mw_points']-1):\n",
                "#             print(\"loop3, idx_start\",idx_pointer)\n",
                "            \n",
                "#             tail_num=(sweep_config['num_mw_points']-1)-idx_pointer\n",
                "#             leading_num=num_segs//2-tail_num\n",
                "#             print(\"tail_num\",tail_num)\n",
                "#             print(\"leading_num\",leading_num)\n",
                "#             mw_on[:,idx_pointer:] += raw_data[0:tail_num*2:2,:]\n",
                "#             mw_off[:,idx_pointer:] += raw_data[1:tail_num*2:2,:]\n",
                "\n",
                "#             mw_on[:,0:leading_num] += raw_data[tail_num::2,:]\n",
                "#             mw_off[:,0:leading_num] += raw_data[tail_num+1::2,:]\n",
                "            \n",
                "#             idx_pointer += num_segs//2\n",
                "#             idx_pointer = idx_pointer % (sweep_config['num_mw_points']-1)\n",
                "#             reps += 1\n",
                "#             print(\"loop3, idx_end\",idx_pointer)\n",
                "    "
            ]
        },
        {
            "cell_type": "markdown",
            "id": "bc666064",
            "metadata": {},
            "source": [
                "## Run ODMR "
            ]
        },
        {
            "cell_type": "code",
            "execution_count": 20,
            "id": "e8fa8a70",
            "metadata": {},
            "outputs": [
                {
                    "name": "stdout",
                    "output_type": "stream",
                    "text": [
                        "Card stopped\n"
                    ]
                }
            ],
            "source": [
                "# mw_on = np.zeros((sweep_config['segment_size'], sweep_config['num_mw_points']))\n",
                "# mw_off = np.zeros((sweep_config['segment_size'], sweep_config['num_mw_points']))\n",
                "mw_on = np.zeros((sweep_config['num_mw_points'], sweep_config['segment_size']))\n",
                "mw_off = np.zeros((sweep_config['num_mw_points'], sweep_config['segment_size']))\n",
                "# start_time = time.taime()\n",
                "# laser.laser_off()\n",
                "\n",
                "\n",
                "# pg.setTrigger(SoftwareTrigger=TriggerRearm.AUTO)\n",
                "idx_pointer = 0\n",
                "reps = 0\n",
                "\n",
                "\n",
                "laser.laser_on()\n",
                "dig.set_config()\n",
                "dig.start_buffer()\n",
                "pg.startNow()\n",
                "\n",
                "ch.enable = True \n",
                "synth.enable=True\n",
                "\n",
                "while (reps < 5000):\n",
                "    raw_data = dig.stream()\n",
                "\n",
                "    if raw_data is not None:\n",
                "        raw_data = np.squeeze(raw_data, axis=-1)\n",
                "        num_segs = raw_data.shape[0]\n",
                "        assert num_segs % 2 == 0\n",
                "        for i in range(num_segs//2):\n",
                "            idx = (idx_pointer + i) % (sweep_config['num_mw_points']-1)\n",
                "            mw_on[idx, :] += np.ravel(raw_data[2*i,:])\n",
                "            mw_off[idx, :] += np.ravel(raw_data[2*i+1,:])\n",
                "\n",
                "        idx_pointer += num_segs//2\n",
                "        if idx_pointer >= (sweep_config['num_mw_points']-1):\n",
                "            reps += 1\n",
                "\n",
                "        idx_pointer = idx_pointer % (sweep_config['num_mw_points']-1)\n",
                "\n",
                "\n",
                "        # num_mw_points = num_segs // 2\n",
                "        # remaining_space = sweep_config['num_mw_points'] - idx_pointer - 1\n",
                "        \n",
                "        # if remaining_space == 0:\n",
                "    \n",
                "        #     # Handle full wrap-around\n",
                "        #     mw_on[0:num_mw_points, :] += raw_data[0::2, :]\n",
                "        #     mw_off[0:num_mw_points,:] += raw_data[1::2, :]\n",
                "        #     idx_pointer = num_mw_points\n",
                "        #     reps += 1\n",
                "        # elif num_mw_points <= remaining_space:\n",
                "        #     # No wrap-around needed\n",
                "        #     mw_on[idx_pointer:idx_pointer+num_mw_points,:] += raw_data[0::2, :] \n",
                "        #     mw_off[idx_pointer:idx_pointer+num_mw_points,:] += raw_data[1::2, :]\n",
                "        #     idx_pointer += num_mw_points\n",
                "        # else:\n",
                "        #     # Partial wrap-around\n",
                "        #     tail_num = remaining_space\n",
                "        #     leading_num = num_mw_points - tail_num\n",
                "            \n",
                "        #     # Process tail (end of array)\n",
                "        #     mw_on[idx_pointer:,:] += raw_data[0:tail_num*2:2, :]\n",
                "        #     mw_off[idx_pointer:,:] += raw_data[1:tail_num*2:2, :]\n",
                "            \n",
                "        #     # Process leading (start of array)\n",
                "        #     mw_on[0:leading_num,:] += raw_data[tail_num*2::2, :]\n",
                "        #     mw_off[0:leading_num,:] += raw_data[tail_num*2+1::2, :]\n",
                "            \n",
                "\n",
                "        #     idx_pointer = leading_num\n",
                "        #     reps += 1\n",
                "\n",
                "laser.laser_off()\n",
                "dig.stop_card()\n",
                "ch.enable = False\n",
                "synth.enable=False \n",
                "pg.forceFinal()\n",
                "\n",
                "pg.reset()\n"
            ]
        },
        {
            "cell_type": "code",
            "execution_count": 21,
            "id": "bd7cbb8d",
            "metadata": {},
            "outputs": [],
            "source": [
                "# ch.enable = False\n",
                "# synth.enable=False \n",
                "# pg.forceFinal()\n",
                "\n",
                "# pg.reset()"
            ]
        },
        {
            "cell_type": "code",
            "execution_count": 22,
            "id": "d9437128",
            "metadata": {},
            "outputs": [],
            "source": [
                "# # disable all the inst \n",
                "# dig.stop_card()\n",
                "ch.enable = False\n",
                "synth.enable=False\n",
                "pg.forceFinal()\n",
                "pg.reset()  \n",
                "# laser.laser_off()\n"
            ]
        },
        {
            "cell_type": "markdown",
            "id": "bcb706c8",
            "metadata": {},
            "source": [
                "## Data Processing "
            ]
        },
        {
            "cell_type": "code",
            "execution_count": 23,
            "id": "497a9df6",
            "metadata": {},
            "outputs": [
                {
                    "data": {
                        "text/plain": [
                            "array([16602.33333333, 16602.53333333, 16602.73333333, 16602.93333333,\n",
                            "       16603.13333333, 16603.33333333, 16603.53333333, 16603.73333333,\n",
                            "       16603.93333333, 16604.13333333, 16604.33333333, 16604.53333333,\n",
                            "       16604.73333333, 16604.93333333, 16605.13333333, 16605.33333333,\n",
                            "       16605.53333333, 16605.73333333, 16605.93333333, 16606.13333333,\n",
                            "       16606.33333333, 16606.53333333, 16606.73333333, 16606.93333333,\n",
                            "       16607.13333333, 16607.33333333, 16607.53333333, 16607.73333333,\n",
                            "       16607.93333333, 16608.13333333, 16608.33333333, 16608.53333333,\n",
                            "       16608.73333333, 16608.93333333, 16609.13333333, 16609.33333333,\n",
                            "       16609.53333333, 16609.73333333, 16609.93333333, 16610.13333333,\n",
                            "       16610.33333333, 16610.53333333, 16610.73333333, 16610.93333333])"
                        ]
                    },
                    "execution_count": 23,
                    "metadata": {},
                    "output_type": "execute_result"
                }
            ],
            "source": [
                "frequncies = np.arange(sweep_config['sweep_start_MHz'], sweep_config['sweep_stop_MHz'] + sweep_config['sweep_step_size_MHz'], sweep_config['sweep_step_size_MHz'])\n",
                "frequncies"
            ]
        },
        {
            "cell_type": "code",
            "execution_count": 24,
            "id": "f4fa7b85",
            "metadata": {},
            "outputs": [],
            "source": [
                "def avg(mw_on,mw_off,start,stop):\n",
                "    on_splice=np.copy(mw_on[:,start:stop])\n",
                "    off_splice=np.copy(mw_off[:, start:stop])\n",
                "    return (np.mean(on_splice,axis=1),np.mean(off_splice,axis=1))"
            ]
        },
        {
            "cell_type": "code",
            "execution_count": 25,
            "id": "bf95ac64",
            "metadata": {},
            "outputs": [
                {
                    "data": {
                        "text/plain": [
                            "[<matplotlib.lines.Line2D at 0x18a99f961d0>]"
                        ]
                    },
                    "execution_count": 25,
                    "metadata": {},
                    "output_type": "execute_result"
                },
                {
                    "data": {
                        "image/png": "[encoded data removed]",
                        "text/plain": [
                            "<Figure size 640x480 with 1 Axes>"
                        ]
                    },
                    "metadata": {},
                    "output_type": "display_data"
                }
            ],
            "source": [
                "plt.plot(mw_on[30])\n",
                "plt.plot(mw_off[30])"
            ]
        },
        {
            "cell_type": "code",
            "execution_count": 26,
            "id": "0b81f4f3",
            "metadata": {},
            "outputs": [],
            "source": [
                "on_avg, off_avg = avg(mw_on,mw_off,100,300)"
            ]
        },
        {
            "cell_type": "code",
            "execution_count": 27,
            "id": "2fdf5447",
            "metadata": {},
            "outputs": [
                {
                    "data": {
                        "text/plain": [
                            "array([], shape=(0, 1024), dtype=float64)"
                        ]
                    },
                    "execution_count": 27,
                    "metadata": {},
                    "output_type": "execute_result"
                }
            ],
            "source": [
                "mw_on[100:200]"
            ]
        },
        {
            "cell_type": "code",
            "execution_count": 28,
            "id": "86c19af9",
            "metadata": {},
            "outputs": [
                {
                    "data": {
                        "application/vnd.plotly.v1+json": {
                            "config": {
                                "plotlyServerURL": "https://plot.ly"
                            },
                            "data": [
                                {
                                    "marker": {
                                        "size": 6
                                    },
                                    "mode": "lines+markers",
                                    "name": "Contrast",
                                    "type": "scatter",
                                    "x": {
                                        "bdata": "AAAAAOBRGEEzMzMz81EYQWZmZmYGUhhBmpmZmRlSGEHOzMzMLFIYQQEAAABAUhhBNDMzM1NSGEFoZmZmZlIYQZyZmZl5UhhBz8zMzIxSGEECAAAAoFIYQTYzMzOzUhhBamZmZsZSGEGdmZmZ2VIYQdDMzMzsUhhBBAAAAABTGEE4MzMzE1MYQWtmZmYmUxhBnpmZmTlTGEHSzMzMTFMYQQYAAABgUxhBOTMzM3NTGEFsZmZmhlMYQaCZmZmZUxhB1MzMzKxTGEEHAAAAwFMYQTozMzPTUxhBbmZmZuZTGEGimZmZ+VMYQdXMzMwMVBhBCAAAACBUGEE8MzMzM1QYQXBmZmZGVBhBo5mZmVlUGEHWzMzMbFQYQQoAAACAVBhBPjMzM5NUGEFxZmZmplQYQaSZmZm5VBhB2MzMzMxUGEEMAAAA4FQYQT8zMzPzVBhBcmZmZgZVGEGmmZmZGVUYQQ==",
                                        "dtype": "f8"
                                    },
                                    "y": {
                                        "bdata": "wHoUrufC4L8AAAAAAEjdvwAAAABAodm/AEjhehSX3b8AXI/CNX7TvwB7FK7H09S/gHA9Cpf21b9APQrXY7bkv4BH4XqUJdS/wMzMzMxU4r+AcD0KV6zRvwCuR+G6NeG/gGZmZubV0L8AhetRuNLZvwBxPQpX7Nu/AFK4HoW82r8AAAAAAJ7hv4DhehTuH+a/wPUoXE/p4b+AR+F61JPZv4DrUbieWN6/gB6F69F+0L8AuB6FayrbvwDNzMwMnta/gMzMzAzF278A16NwvcPhv4DC9SjcN9C/gPUoXE8K178AhetR+FjZvwCuR+F6cNy/ANejcP2T3L9AXI/CVaHovwCF61E4w9m/AOF6FO7j1r8A9ihcT2nZv0DXo3D9XeK/gOtRuF5r2r+AehSux1LavwCuR+F65di/AB+F6xGd2b+ACtejsMvYvwApXI/C7tm/AAAAAAAAAAA=",
                                        "dtype": "f8"
                                    }
                                }
                            ],
                            "layout": {
                                "font": {
                                    "family": "Arial",
                                    "size": 14
                                },
                                "height": 450,
                                "margin": {
                                    "b": 60,
                                    "l": 60,
                                    "r": 40,
                                    "t": 60
                                },
                                "template": {
                                    "data": {
                                        "bar": [
                                            {
                                                "error_x": {
                                                    "color": "#2a3f5f"
                                                },
                                                "error_y": {
                                                    "color": "#2a3f5f"
                                                },
                                                "marker": {
                                                    "line": {
                                                        "color": "white",
                                                        "width": 0.5
                                                    },
                                                    "pattern": {
                                                        "fillmode": "overlay",
                                                        "size": 10,
                                                        "solidity": 0.2
                                                    }
                                                },
                                                "type": "bar"
                                            }
                                        ],
                                        "barpolar": [
                                            {
                                                "marker": {
                                                    "line": {
                                                        "color": "white",
                                                        "width": 0.5
                                                    },
                                                    "pattern": {
                                                        "fillmode": "overlay",
                                                        "size": 10,
                                                        "solidity": 0.2
                                                    }
                                                },
                                                "type": "barpolar"
                                            }
                                        ],
                                        "carpet": [
                                            {
                                                "aaxis": {
                                                    "endlinecolor": "#2a3f5f",
                                                    "gridcolor": "#C8D4E3",
                                                    "linecolor": "#C8D4E3",
                                                    "minorgridcolor": "#C8D4E3",
                                                    "startlinecolor": "#2a3f5f"
                                                },
                                                "baxis": {
                                                    "endlinecolor": "#2a3f5f",
                                                    "gridcolor": "#C8D4E3",
                                                    "linecolor": "#C8D4E3",
                                                    "minorgridcolor": "#C8D4E3",
                                                    "startlinecolor": "#2a3f5f"
                                                },
                                                "type": "carpet"
                                            }
                                        ],
                                        "choropleth": [
                                            {
                                                "colorbar": {
                                                    "outlinewidth": 0,
                                                    "ticks": ""
                                                },
                                                "type": "choropleth"
                                            }
                                        ],
                                        "contour": [
                                            {
                                                "colorbar": {
                                                    "outlinewidth": 0,
                                                    "ticks": ""
                                                },
                                                "colorscale": [
                                                    [
                                                        0,
                                                        "#0d0887"
                                                    ],
                                                    [
                                                        0.1111111111111111,
                                                        "#46039f"
                                                    ],
                                                    [
                                                        0.2222222222222222,
                                                        "#7201a8"
                                                    ],
                                                    [
                                                        0.3333333333333333,
                                                        "#9c179e"
                                                    ],
                                                    [
                                                        0.4444444444444444,
                                                        "#bd3786"
                                                    ],
                                                    [
                                                        0.5555555555555556,
                                                        "#d8576b"
                                                    ],
                                                    [
                                                        0.6666666666666666,
                                                        "#ed7953"
                                                    ],
                                                    [
                                                        0.7777777777777778,
                                                        "#fb9f3a"
                                                    ],
                                                    [
                                                        0.8888888888888888,
                                                        "#fdca26"
                                                    ],
                                                    [
                                                        1,
                                                        "#f0f921"
                                                    ]
                                                ],
                                                "type": "contour"
                                            }
                                        ],
                                        "contourcarpet": [
                                            {
                                                "colorbar": {
                                                    "outlinewidth": 0,
                                                    "ticks": ""
                                                },
                                                "type": "contourcarpet"
                                            }
                                        ],
                                        "heatmap": [
                                            {
                                                "colorbar": {
                                                    "outlinewidth": 0,
                                                    "ticks": ""
                                                },
                                                "colorscale": [
                                                    [
                                                        0,
                                                        "#0d0887"
                                                    ],
                                                    [
                                                        0.1111111111111111,
                                                        "#46039f"
                                                    ],
                                                    [
                                                        0.2222222222222222,
                                                        "#7201a8"
                                                    ],
                                                    [
                                                        0.3333333333333333,
                                                        "#9c179e"
                                                    ],
                                                    [
                                                        0.4444444444444444,
                                                        "#bd3786"
                                                    ],
                                                    [
                                                        0.5555555555555556,
                                                        "#d8576b"
                                                    ],
                                                    [
                                                        0.6666666666666666,
                                                        "#ed7953"
                                                    ],
                                                    [
                                                        0.7777777777777778,
                                                        "#fb9f3a"
                                                    ],
                                                    [
                                                        0.8888888888888888,
                                                        "#fdca26"
                                                    ],
                                                    [
                                                        1,
                                                        "#f0f921"
                                                    ]
                                                ],
                                                "type": "heatmap"
                                            }
                                        ],
                                        "histogram": [
                                            {
                                                "marker": {
                                                    "pattern": {
                                                        "fillmode": "overlay",
                                                        "size": 10,
                                                        "solidity": 0.2
                                                    }
                                                },
                                                "type": "histogram"
                                            }
                                        ],
                                        "histogram2d": [
                                            {
                                                "colorbar": {
                                                    "outlinewidth": 0,
                                                    "ticks": ""
                                                },
                                                "colorscale": [
                                                    [
                                                        0,
                                                        "#0d0887"
                                                    ],
                                                    [
                                                        0.1111111111111111,
                                                        "#46039f"
                                                    ],
                                                    [
                                                        0.2222222222222222,
                                                        "#7201a8"
                                                    ],
                                                    [
                                                        0.3333333333333333,
                                                        "#9c179e"
                                                    ],
                                                    [
                                                        0.4444444444444444,
                                                        "#bd3786"
                                                    ],
                                                    [
                                                        0.5555555555555556,
                                                        "#d8576b"
                                                    ],
                                                    [
                                                        0.6666666666666666,
                                                        "#ed7953"
                                                    ],
                                                    [
                                                        0.7777777777777778,
                                                        "#fb9f3a"
                                                    ],
                                                    [
                                                        0.8888888888888888,
                                                        "#fdca26"
                                                    ],
                                                    [
                                                        1,
                                                        "#f0f921"
                                                    ]
                                                ],
                                                "type": "histogram2d"
                                            }
                                        ],
                                        "histogram2dcontour": [
                                            {
                                                "colorbar": {
                                                    "outlinewidth": 0,
                                                    "ticks": ""
                                                },
                                                "colorscale": [
                                                    [
                                                        0,
                                                        "#0d0887"
                                                    ],
                                                    [
                                                        0.1111111111111111,
                                                        "#46039f"
                                                    ],
                                                    [
                                                        0.2222222222222222,
                                                        "#7201a8"
                                                    ],
                                                    [
                                                        0.3333333333333333,
                                                        "#9c179e"
                                                    ],
                                                    [
                                                        0.4444444444444444,
                                                        "#bd3786"
                                                    ],
                                                    [
                                                        0.5555555555555556,
                                                        "#d8576b"
                                                    ],
                                                    [
                                                        0.6666666666666666,
                                                        "#ed7953"
                                                    ],
                                                    [
                                                        0.7777777777777778,
                                                        "#fb9f3a"
                                                    ],
                                                    [
                                                        0.8888888888888888,
                                                        "#fdca26"
                                                    ],
                                                    [
                                                        1,
                                                        "#f0f921"
                                                    ]
                                                ],
                                                "type": "histogram2dcontour"
                                            }
                                        ],
                                        "mesh3d": [
                                            {
                                                "colorbar": {
                                                    "outlinewidth": 0,
                                                    "ticks": ""
                                                },
                                                "type": "mesh3d"
                                            }
                                        ],
                                        "parcoords": [
                                            {
                                                "line": {
                                                    "colorbar": {
                                                        "outlinewidth": 0,
                                                        "ticks": ""
                                                    }
                                                },
                                                "type": "parcoords"
                                            }
                                        ],
                                        "pie": [
                                            {
                                                "automargin": true,
                                                "type": "pie"
                                            }
                                        ],
                                        "scatter": [
                                            {
                                                "fillpattern": {
                                                    "fillmode": "overlay",
                                                    "size": 10,
                                                    "solidity": 0.2
                                                },
                                                "type": "scatter"
                                            }
                                        ],
                                        "scatter3d": [
                                            {
                                                "line": {
                                                    "colorbar": {
                                                        "outlinewidth": 0,
                                                        "ticks": ""
                                                    }
                                                },
                                                "marker": {
                                                    "colorbar": {
                                                        "outlinewidth": 0,
                                                        "ticks": ""
                                                    }
                                                },
                                                "type": "scatter3d"
                                            }
                                        ],
                                        "scattercarpet": [
                                            {
                                                "marker": {
                                                    "colorbar": {
                                                        "outlinewidth": 0,
                                                        "ticks": ""
                                                    }
                                                },
                                                "type": "scattercarpet"
                                            }
                                        ],
                                        "scattergeo": [
                                            {
                                                "marker": {
                                                    "colorbar": {
                                                        "outlinewidth": 0,
                                                        "ticks": ""
                                                    }
                                                },
                                                "type": "scattergeo"
                                            }
                                        ],
                                        "scattergl": [
                                            {
                                                "marker": {
                                                    "colorbar": {
                                                        "outlinewidth": 0,
                                                        "ticks": ""
                                                    }
                                                },
                                                "type": "scattergl"
                                            }
                                        ],
                                        "scattermap": [
                                            {
                                                "marker": {
                                                    "colorbar": {
                                                        "outlinewidth": 0,
                                                        "ticks": ""
                                                    }
                                                },
                                                "type": "scattermap"
                                            }
                                        ],
                                        "scattermapbox": [
                                            {
                                                "marker": {
                                                    "colorbar": {
                                                        "outlinewidth": 0,
                                                        "ticks": ""
                                                    }
                                                },
                                                "type": "scattermapbox"
                                            }
                                        ],
                                        "scatterpolar": [
                                            {
                                                "marker": {
                                                    "colorbar": {
                                                        "outlinewidth": 0,
                                                        "ticks": ""
                                                    }
                                                },
                                                "type": "scatterpolar"
                                            }
                                        ],
                                        "scatterpolargl": [
                                            {
                                                "marker": {
                                                    "colorbar": {
                                                        "outlinewidth": 0,
                                                        "ticks": ""
                                                    }
                                                },
                                                "type": "scatterpolargl"
                                            }
                                        ],
                                        "scatterternary": [
                                            {
                                                "marker": {
                                                    "colorbar": {
                                                        "outlinewidth": 0,
                                                        "ticks": ""
                                                    }
                                                },
                                                "type": "scatterternary"
                                            }
                                        ],
                                        "surface": [
                                            {
                                                "colorbar": {
                                                    "outlinewidth": 0,
                                                    "ticks": ""
                                                },
                                                "colorscale": [
                                                    [
                                                        0,
                                                        "#0d0887"
                                                    ],
                                                    [
                                                        0.1111111111111111,
                                                        "#46039f"
                                                    ],
                                                    [
                                                        0.2222222222222222,
                                                        "#7201a8"
                                                    ],
                                                    [
                                                        0.3333333333333333,
                                                        "#9c179e"
                                                    ],
                                                    [
                                                        0.4444444444444444,
                                                        "#bd3786"
                                                    ],
                                                    [
                                                        0.5555555555555556,
                                                        "#d8576b"
                                                    ],
                                                    [
                                                        0.6666666666666666,
                                                        "#ed7953"
                                                    ],
                                                    [
                                                        0.7777777777777778,
                                                        "#fb9f3a"
                                                    ],
                                                    [
                                                        0.8888888888888888,
                                                        "#fdca26"
                                                    ],
                                                    [
                                                        1,
                                                        "#f0f921"
                                                    ]
                                                ],
                                                "type": "surface"
                                            }
                                        ],
                                        "table": [
                                            {
                                                "cells": {
                                                    "fill": {
                                                        "color": "#EBF0F8"
                                                    },
                                                    "line": {
                                                        "color": "white"
                                                    }
                                                },
                                                "header": {
                                                    "fill": {
                                                        "color": "#C8D4E3"
                                                    },
                                                    "line": {
                                                        "color": "white"
                                                    }
                                                },
                                                "type": "table"
                                            }
                                        ]
                                    },
                                    "layout": {
                                        "annotationdefaults": {
                                            "arrowcolor": "#2a3f5f",
                                            "arrowhead": 0,
                                            "arrowwidth": 1
                                        },
                                        "autotypenumbers": "strict",
                                        "coloraxis": {
                                            "colorbar": {
                                                "outlinewidth": 0,
                                                "ticks": ""
                                            }
                                        },
                                        "colorscale": {
                                            "diverging": [
                                                [
                                                    0,
                                                    "#8e0152"
                                                ],
                                                [
                                                    0.1,
                                                    "#c51b7d"
                                                ],
                                                [
                                                    0.2,
                                                    "#de77ae"
                                                ],
                                                [
                                                    0.3,
                                                    "#f1b6da"
                                                ],
                                                [
                                                    0.4,
                                                    "#fde0ef"
                                                ],
                                                [
                                                    0.5,
                                                    "#f7f7f7"
                                                ],
                                                [
                                                    0.6,
                                                    "#e6f5d0"
                                                ],
                                                [
                                                    0.7,
                                                    "#b8e186"
                                                ],
                                                [
                                                    0.8,
                                                    "#7fbc41"
                                                ],
                                                [
                                                    0.9,
                                                    "#4d9221"
                                                ],
                                                [
                                                    1,
                                                    "#276419"
                                                ]
                                            ],
                                            "sequential": [
                                                [
                                                    0,
                                                    "#0d0887"
                                                ],
                                                [
                                                    0.1111111111111111,
                                                    "#46039f"
                                                ],
                                                [
                                                    0.2222222222222222,
                                                    "#7201a8"
                                                ],
                                                [
                                                    0.3333333333333333,
                                                    "#9c179e"
                                                ],
                                                [
                                                    0.4444444444444444,
                                                    "#bd3786"
                                                ],
                                                [
                                                    0.5555555555555556,
                                                    "#d8576b"
                                                ],
                                                [
                                                    0.6666666666666666,
                                                    "#ed7953"
                                                ],
                                                [
                                                    0.7777777777777778,
                                                    "#fb9f3a"
                                                ],
                                                [
                                                    0.8888888888888888,
                                                    "#fdca26"
                                                ],
                                                [
                                                    1,
                                                    "#f0f921"
                                                ]
                                            ],
                                            "sequentialminus": [
                                                [
                                                    0,
                                                    "#0d0887"
                                                ],
                                                [
                                                    0.1111111111111111,
                                                    "#46039f"
                                                ],
                                                [
                                                    0.2222222222222222,
                                                    "#7201a8"
                                                ],
                                                [
                                                    0.3333333333333333,
                                                    "#9c179e"
                                                ],
                                                [
                                                    0.4444444444444444,
                                                    "#bd3786"
                                                ],
                                                [
                                                    0.5555555555555556,
                                                    "#d8576b"
                                                ],
                                                [
                                                    0.6666666666666666,
                                                    "#ed7953"
                                                ],
                                                [
                                                    0.7777777777777778,
                                                    "#fb9f3a"
                                                ],
                                                [
                                                    0.8888888888888888,
                                                    "#fdca26"
                                                ],
                                                [
                                                    1,
                                                    "#f0f921"
                                                ]
                                            ]
                                        },
                                        "colorway": [
                                            "#636efa",
                                            "#EF553B",
                                            "#00cc96",
                                            "#ab63fa",
                                            "#FFA15A",
                                            "#19d3f3",
                                            "#FF6692",
                                            "#B6E880",
                                            "#FF97FF",
                                            "#FECB52"
                                        ],
                                        "font": {
                                            "color": "#2a3f5f"
                                        },
                                        "geo": {
                                            "bgcolor": "white",
                                            "lakecolor": "white",
                                            "landcolor": "white",
                                            "showlakes": true,
                                            "showland": true,
                                            "subunitcolor": "#C8D4E3"
                                        },
                                        "hoverlabel": {
                                            "align": "left"
                                        },
                                        "hovermode": "closest",
                                        "mapbox": {
                                            "style": "light"
                                        },
                                        "paper_bgcolor": "white",
                                        "plot_bgcolor": "white",
                                        "polar": {
                                            "angularaxis": {
                                                "gridcolor": "#EBF0F8",
                                                "linecolor": "#EBF0F8",
                                                "ticks": ""
                                            },
                                            "bgcolor": "white",
                                            "radialaxis": {
                                                "gridcolor": "#EBF0F8",
                                                "linecolor": "#EBF0F8",
                                                "ticks": ""
                                            }
                                        },
                                        "scene": {
                                            "xaxis": {
                                                "backgroundcolor": "white",
                                                "gridcolor": "#DFE8F3",
                                                "gridwidth": 2,
                                                "linecolor": "#EBF0F8",
                                                "showbackground": true,
                                                "ticks": "",
                                                "zerolinecolor": "#EBF0F8"
                                            },
                                            "yaxis": {
                                                "backgroundcolor": "white",
                                                "gridcolor": "#DFE8F3",
                                                "gridwidth": 2,
                                                "linecolor": "#EBF0F8",
                                                "showbackground": true,
                                                "ticks": "",
                                                "zerolinecolor": "#EBF0F8"
                                            },
                                            "zaxis": {
                                                "backgroundcolor": "white",
                                                "gridcolor": "#DFE8F3",
                                                "gridwidth": 2,
                                                "linecolor": "#EBF0F8",
                                                "showbackground": true,
                                                "ticks": "",
                                                "zerolinecolor": "#EBF0F8"
                                            }
                                        },
                                        "shapedefaults": {
                                            "line": {
                                                "color": "#2a3f5f"
                                            }
                                        },
                                        "ternary": {
                                            "aaxis": {
                                                "gridcolor": "#DFE8F3",
                                                "linecolor": "#A2B1C6",
                                                "ticks": ""
                                            },
                                            "baxis": {
                                                "gridcolor": "#DFE8F3",
                                                "linecolor": "#A2B1C6",
                                                "ticks": ""
                                            },
                                            "bgcolor": "white",
                                            "caxis": {
                                                "gridcolor": "#DFE8F3",
                                                "linecolor": "#A2B1C6",
                                                "ticks": ""
                                            }
                                        },
                                        "title": {
                                            "x": 0.05
                                        },
                                        "xaxis": {
                                            "automargin": true,
                                            "gridcolor": "#EBF0F8",
                                            "linecolor": "#EBF0F8",
                                            "ticks": "",
                                            "title": {
                                                "standoff": 15
                                            },
                                            "zerolinecolor": "#EBF0F8",
                                            "zerolinewidth": 2
                                        },
                                        "yaxis": {
                                            "automargin": true,
                                            "gridcolor": "#EBF0F8",
                                            "linecolor": "#EBF0F8",
                                            "ticks": "",
                                            "title": {
                                                "standoff": 15
                                            },
                                            "zerolinecolor": "#EBF0F8",
                                            "zerolinewidth": 2
                                        }
                                    }
                                },
                                "title": {
                                    "text": "MW On/Off Average"
                                },
                                "width": 700,
                                "xaxis": {
                                    "title": {
                                        "text": "frequency (MHz)"
                                    }
                                },
                                "yaxis": {
                                    "title": {
                                        "text": "PL (arb units)"
                                    }
                                }
                            }
                        }
                    },
                    "metadata": {},
                    "output_type": "display_data"
                }
            ],
            "source": [
                "# Create the figure\n",
                "fig = go.Figure()\n",
                "\n",
                "# Add a trace (line plot)\n",
                "# fig.add_trace(go.Scatter(\n",
                "#     x=frequncies*24,\n",
                "#     y=on_avg,\n",
                "#     mode='lines+markers',\n",
                "#     name='MW On',\n",
                "#     line=dict(color='blue', width=2),\n",
                "#     marker=dict(size=6)\n",
                "# ))\n",
                "\n",
                "# fig.add_trace(go.Scatter(\n",
                "#     x=frequncies*24,\n",
                "#     y=off_avg,\n",
                "#     mode='lines+markers',\n",
                "#     name='MW Off',\n",
                "#     line=dict(color='red', width=2),\n",
                "#     marker=dict(size=6)\n",
                "# ))\n",
                "\n",
                "fig.add_trace(go.Scatter(\n",
                "    x=frequncies*24,\n",
                "    y=off_avg-on_avg,\n",
                "    mode='lines+markers',\n",
                "    name='Contrast',\n",
                "    # line=dict(color='red', width=2),\n",
                "    marker=dict(size=6)\n",
                "))\n",
                "\n",
                "# Customize layout\n",
                "fig.update_layout(\n",
                "    title='MW On/Off Average',\n",
                "    xaxis_title='frequency (MHz)',\n",
                "    yaxis_title='PL (arb units)',\n",
                "    template='plotly_white',  # Try 'plotly_dark', 'ggplot2', 'seaborn', etc.\n",
                "    font=dict(family='Arial', size=14),\n",
                "    width=700,\n",
                "    height=450,\n",
                "    margin=dict(l=60, r=40, t=60, b=60)\n",
                ")\n",
                "\n",
                "# Show the plot\n",
                "fig.show()"
            ]
        },
        {
            "cell_type": "code",
            "execution_count": null,
            "id": "8096a0bb",
            "metadata": {},
            "outputs": [],
            "source": []
        }
    ],
    "metadata": {
        "kernelspec": {
            "display_name": "Python 3",
            "language": "python",
            "name": "python3"
        },
        "language_info": {
            "codemirror_mode": {
                "name": "ipython",
                "version": 3
            },
            "file_extension": ".py",
            "mimetype": "text/x-python",
            "name": "python",
            "nbconvert_exporter": "python",
            "pygments_lexer": "ipython3",
            "version": "3.10.16"
        }
    },
    "nbformat": 4,
    "nbformat_minor": 5
}