{
    "cells": [
        {
            "cell_type": "code",
            "execution_count": 1,
            "metadata": {},
            "outputs": [],
            "source": [
                "import time\n",
                "import sys\n",
                "import os\n",
                "path_project = \"\\\\\".join(os.getcwd().split(\"\\\\\")[:-1])\n",
                "# caution: path[0] is reserved for script path (or '' in REPL)\n",
                "sys.path.insert(1, path_project)\n",
                "\n",
                "from hardware.pulser.pulser import PulseGenerator, OutputState, TriggerStart, TriggerRearm, HIGH, LOW, INF\n",
                "from hardware.laser.laser import LaserControl\n",
                "from hardware.mw.mwsynthesizer import Synthesizer\n",
                "\n",
                "from hardware import config_custom as hcf\n",
                "\n",
                "import nidaqmx\n",
                "from nidaqmx.constants import TerminalConfiguration, VoltageUnits, Edge, AcquisitionType, READ_ALL_AVAILABLE\n",
                "# from nidaqmx.constants import LogicFamily \n",
                "# TWO_POINT_FIVE_V, THREE_POINT_THREE_V, FIVE_V\n",
                "# from nidaqmx import stream_readers \n",
                "# from nidaqmx.stream_readers import AnalogSingleChannelReader\n",
                "import matplotlib.pyplot as plt\n",
                "import numpy as np"
            ]
        },
        {
            "cell_type": "code",
            "execution_count": 2,
            "metadata": {},
            "outputs": [
                {
                    "name": "stdout",
                    "output_type": "stream",
                    "text": [
                        "Connect to Pulse Streamer via JSON-RPC.\n",
                        "IP / Hostname: 192.168.1.26\n",
                        "Pulse Streamer 8/2 firmware: v1.7.2\n",
                        "Client software: v1.7.0\n",
                        "VDI Sythesizer Serail Port Open\n"
                    ]
                }
            ],
            "source": [
                "# connect to devices\n",
                "pg  = PulseGenerator(ip=hcf.PS_IP, chmap=hcf.PS_chmap) \n",
                "mwsyn = Synthesizer(hcf.VDISYN_SN, \n",
                "                    vidpid=hcf.VDISYN_VIDPID,\n",
                "                    baudrate=hcf.VDISYN_BAUD, \n",
                "                    timeout=5, \n",
                "                    write_timeout=5)\n",
                "# mwsyn.reboot()\n",
                "laser = LaserControl(hcf.LASER_SN)\n",
                "laser.open()\n"
            ]
        },
        {
            "cell_type": "code",
            "execution_count": 3,
            "metadata": {},
            "outputs": [],
            "source": [
                "current_percent = 75.09\n",
                "laser.laser_off()\n",
                "laser.set_analog_control_mode(\"current\")\n",
                "laser.set_modulation_state(\"Pulsed\")\n",
                "laser.set_diode_current(current_percent, save_memory=False)"
            ]
        },
        {
            "cell_type": "code",
            "execution_count": 4,
            "metadata": {},
            "outputs": [
                {
                    "name": "stdout",
                    "output_type": "stream",
                    "text": [
                        "Clock mode set to: 32\n",
                        "1: Internal, 2: Quartz, 3: External, 32: Direct External Sampling\n"
                    ]
                }
            ],
            "source": [
                "from hardware.daq.sidig import FIFO_DataAcquisition\n",
                "from hardware.daq.sidig import FIFO_DataAcquisition, DCCOUPLE, TERMIN_INPUT_50OHM, TERMIN_INPUT_1MOHM\n",
                "\n",
                "SIDIG_ADDRESS = \"dev/spcm0\"\n",
                "SIDIG_maxsr = 500e6  # Hz\n",
                "SIDIG_timebase = int(1 / SIDIG_maxsr * 1e9)  # ns\n",
                "dig=FIFO_DataAcquisition(\n",
                "                sn_address=SIDIG_ADDRESS\n",
                "            )"
            ]
        },
        {
            "cell_type": "code",
            "execution_count": 5,
            "metadata": {},
            "outputs": [
                {
                    "name": "stdout",
                    "output_type": "stream",
                    "text": [
                        "CW Freqeuncy Setting Sent:16.6 GHz\n",
                        "Actual Output CW Freqeuncy :16.600000005215406 GHz\n"
                    ]
                }
            ],
            "source": [
                "freq = 16.6\n",
                "errorbyte, freq_actual = mwsyn.cw_frequency(freq)\n",
                "print(f\"CW Freqeuncy Setting Sent:{freq} GHz\")\n",
                "print(f\"Actual Output CW Freqeuncy :{freq_actual} GHz\")"
            ]
        },
        {
            "cell_type": "code",
            "execution_count": 6,
            "metadata": {},
            "outputs": [
                {
                    "data": {
                        "text/plain": [
                            "1"
                        ]
                    },
                    "execution_count": 6,
                    "metadata": {},
                    "output_type": "execute_result"
                }
            ],
            "source": [
                "# set MW power =====================================================\n",
                "mwpower_vlevel = 5.0 # 5V equals to max power\n",
                "task_uca = nidaqmx.Task(\"UCA\") # user controlled attenuation\n",
                "task_uca.ao_channels.add_ao_voltage_chan(hcf.NI_ch_UCA, min_val=0.0, max_val=10)\n",
                "# task_uca.timing.cfg_samp_clk_timing(hcf.NI_sampling_max/100.0, sample_mode=AcquisitionType.CONTINUOUS)\n",
                "task_uca.start()\n",
                "task_uca.write([mwpower_vlevel], auto_start=False)\n",
                "# task_uca.stop()\n",
                "# task_uca.close()"
            ]
        },
        {
            "cell_type": "code",
            "execution_count": 7,
            "metadata": {},
            "outputs": [
                {
                    "data": {
                        "application/vnd.plotly.v1+json": {
                            "config": {
                                "plotlyServerURL": "https://plot.ly"
                            },
                            "data": [
                                {
                                    "line": {
                                        "shape": "hv"
                                    },
                                    "mode": "lines",
                                    "name": "D0",
                                    "type": "scatter",
                                    "x": [
                                        0,
                                        16000000,
                                        16000040
                                    ],
                                    "xaxis": "x",
                                    "y": [
                                        1,
                                        1,
                                        1
                                    ],
                                    "yaxis": "y"
                                },
                                {
                                    "line": {
                                        "shape": "hv"
                                    },
                                    "mode": "lines",
                                    "name": "D1",
                                    "type": "scatter",
                                    "x": [
                                        0,
                                        16000040
                                    ],
                                    "xaxis": "x2",
                                    "y": [
                                        0,
                                        0
                                    ],
                                    "yaxis": "y2"
                                },
                                {
                                    "line": {
                                        "shape": "hv"
                                    },
                                    "mode": "lines",
                                    "name": "D2",
                                    "type": "scatter",
                                    "x": [
                                        0,
                                        16000040
                                    ],
                                    "xaxis": "x3",
                                    "y": [
                                        0,
                                        0
                                    ],
                                    "yaxis": "y3"
                                },
                                {
                                    "line": {
                                        "shape": "hv"
                                    },
                                    "mode": "lines",
                                    "name": "D3",
                                    "type": "scatter",
                                    "x": [
                                        0,
                                        20,
                                        4000000,
                                        4000020,
                                        4000040,
                                        8000020,
                                        8000040,
                                        12000020,
                                        12000040,
                                        12000060,
                                        16000040
                                    ],
                                    "xaxis": "x4",
                                    "y": [
                                        1,
                                        0,
                                        0,
                                        1,
                                        0,
                                        1,
                                        0,
                                        0,
                                        1,
                                        0,
                                        0
                                    ],
                                    "yaxis": "y4"
                                },
                                {
                                    "line": {
                                        "shape": "hv"
                                    },
                                    "mode": "lines",
                                    "name": "D4",
                                    "type": "scatter",
                                    "x": [
                                        0,
                                        4000000,
                                        8000000,
                                        12000000,
                                        16000000,
                                        16000040
                                    ],
                                    "xaxis": "x5",
                                    "y": [
                                        1,
                                        0,
                                        1,
                                        0,
                                        0,
                                        0
                                    ],
                                    "yaxis": "y5"
                                },
                                {
                                    "line": {
                                        "shape": "hv"
                                    },
                                    "mode": "lines",
                                    "name": "D5",
                                    "type": "scatter",
                                    "x": [
                                        0,
                                        16000040
                                    ],
                                    "xaxis": "x6",
                                    "y": [
                                        0,
                                        0
                                    ],
                                    "yaxis": "y6"
                                },
                                {
                                    "line": {
                                        "shape": "hv"
                                    },
                                    "mode": "lines",
                                    "name": "D6",
                                    "type": "scatter",
                                    "x": [
                                        0,
                                        16000040
                                    ],
                                    "xaxis": "x7",
                                    "y": [
                                        0,
                                        0
                                    ],
                                    "yaxis": "y7"
                                },
                                {
                                    "line": {
                                        "color": "black",
                                        "shape": "hv"
                                    },
                                    "mode": "lines",
                                    "name": "A0",
                                    "type": "scatter",
                                    "x": [
                                        0,
                                        16000040
                                    ],
                                    "xaxis": "x8",
                                    "y": [
                                        0,
                                        0
                                    ],
                                    "yaxis": "y8"
                                },
                                {
                                    "line": {
                                        "color": "black",
                                        "shape": "hv"
                                    },
                                    "mode": "lines",
                                    "name": "A1",
                                    "type": "scatter",
                                    "x": [
                                        0,
                                        16000040
                                    ],
                                    "xaxis": "x9",
                                    "y": [
                                        0,
                                        0
                                    ],
                                    "yaxis": "y9"
                                }
                            ],
                            "layout": {
                                "height": 550,
                                "margin": {
                                    "b": 40,
                                    "l": 50,
                                    "r": 50,
                                    "t": 40
                                },
                                "showlegend": false,
                                "template": {
                                    "data": {
                                        "bar": [
                                            {
                                                "error_x": {
                                                    "color": "#2a3f5f"
                                                },
                                                "error_y": {
                                                    "color": "#2a3f5f"
                                                },
                                                "marker": {
                                                    "line": {
                                                        "color": "#E5ECF6",
                                                        "width": 0.5
                                                    },
                                                    "pattern": {
                                                        "fillmode": "overlay",
                                                        "size": 10,
                                                        "solidity": 0.2
                                                    }
                                                },
                                                "type": "bar"
                                            }
                                        ],
                                        "barpolar": [
                                            {
                                                "marker": {
                                                    "line": {
                                                        "color": "#E5ECF6",
                                                        "width": 0.5
                                                    },
                                                    "pattern": {
                                                        "fillmode": "overlay",
                                                        "size": 10,
                                                        "solidity": 0.2
                                                    }
                                                },
                                                "type": "barpolar"
                                            }
                                        ],
                                        "carpet": [
                                            {
                                                "aaxis": {
                                                    "endlinecolor": "#2a3f5f",
                                                    "gridcolor": "white",
                                                    "linecolor": "white",
                                                    "minorgridcolor": "white",
                                                    "startlinecolor": "#2a3f5f"
                                                },
                                                "baxis": {
                                                    "endlinecolor": "#2a3f5f",
                                                    "gridcolor": "white",
                                                    "linecolor": "white",
                                                    "minorgridcolor": "white",
                                                    "startlinecolor": "#2a3f5f"
                                                },
                                                "type": "carpet"
                                            }
                                        ],
                                        "choropleth": [
                                            {
                                                "colorbar": {
                                                    "outlinewidth": 0,
                                                    "ticks": ""
                                                },
                                                "type": "choropleth"
                                            }
                                        ],
                                        "contour": [
                                            {
                                                "colorbar": {
                                                    "outlinewidth": 0,
                                                    "ticks": ""
                                                },
                                                "colorscale": [
                                                    [
                                                        0,
                                                        "#0d0887"
                                                    ],
                                                    [
                                                        0.1111111111111111,
                                                        "#46039f"
                                                    ],
                                                    [
                                                        0.2222222222222222,
                                                        "#7201a8"
                                                    ],
                                                    [
                                                        0.3333333333333333,
                                                        "#9c179e"
                                                    ],
                                                    [
                                                        0.4444444444444444,
                                                        "#bd3786"
                                                    ],
                                                    [
                                                        0.5555555555555556,
                                                        "#d8576b"
                                                    ],
                                                    [
                                                        0.6666666666666666,
                                                        "#ed7953"
                                                    ],
                                                    [
                                                        0.7777777777777778,
                                                        "#fb9f3a"
                                                    ],
                                                    [
                                                        0.8888888888888888,
                                                        "#fdca26"
                                                    ],
                                                    [
                                                        1,
                                                        "#f0f921"
                                                    ]
                                                ],
                                                "type": "contour"
                                            }
                                        ],
                                        "contourcarpet": [
                                            {
                                                "colorbar": {
                                                    "outlinewidth": 0,
                                                    "ticks": ""
                                                },
                                                "type": "contourcarpet"
                                            }
                                        ],
                                        "heatmap": [
                                            {
                                                "colorbar": {
                                                    "outlinewidth": 0,
                                                    "ticks": ""
                                                },
                                                "colorscale": [
                                                    [
                                                        0,
                                                        "#0d0887"
                                                    ],
                                                    [
                                                        0.1111111111111111,
                                                        "#46039f"
                                                    ],
                                                    [
                                                        0.2222222222222222,
                                                        "#7201a8"
                                                    ],
                                                    [
                                                        0.3333333333333333,
                                                        "#9c179e"
                                                    ],
                                                    [
                                                        0.4444444444444444,
                                                        "#bd3786"
                                                    ],
                                                    [
                                                        0.5555555555555556,
                                                        "#d8576b"
                                                    ],
                                                    [
                                                        0.6666666666666666,
                                                        "#ed7953"
                                                    ],
                                                    [
                                                        0.7777777777777778,
                                                        "#fb9f3a"
                                                    ],
                                                    [
                                                        0.8888888888888888,
                                                        "#fdca26"
                                                    ],
                                                    [
                                                        1,
                                                        "#f0f921"
                                                    ]
                                                ],
                                                "type": "heatmap"
                                            }
                                        ],
                                        "heatmapgl": [
                                            {
                                                "colorbar": {
                                                    "outlinewidth": 0,
                                                    "ticks": ""
                                                },
                                                "colorscale": [
                                                    [
                                                        0,
                                                        "#0d0887"
                                                    ],
                                                    [
                                                        0.1111111111111111,
                                                        "#46039f"
                                                    ],
                                                    [
                                                        0.2222222222222222,
                                                        "#7201a8"
                                                    ],
                                                    [
                                                        0.3333333333333333,
                                                        "#9c179e"
                                                    ],
                                                    [
                                                        0.4444444444444444,
                                                        "#bd3786"
                                                    ],
                                                    [
                                                        0.5555555555555556,
                                                        "#d8576b"
                                                    ],
                                                    [
                                                        0.6666666666666666,
                                                        "#ed7953"
                                                    ],
                                                    [
                                                        0.7777777777777778,
                                                        "#fb9f3a"
                                                    ],
                                                    [
                                                        0.8888888888888888,
                                                        "#fdca26"
                                                    ],
                                                    [
                                                        1,
                                                        "#f0f921"
                                                    ]
                                                ],
                                                "type": "heatmapgl"
                                            }
                                        ],
                                        "histogram": [
                                            {
                                                "marker": {
                                                    "pattern": {
                                                        "fillmode": "overlay",
                                                        "size": 10,
                                                        "solidity": 0.2
                                                    }
                                                },
                                                "type": "histogram"
                                            }
                                        ],
                                        "histogram2d": [
                                            {
                                                "colorbar": {
                                                    "outlinewidth": 0,
                                                    "ticks": ""
                                                },
                                                "colorscale": [
                                                    [
                                                        0,
                                                        "#0d0887"
                                                    ],
                                                    [
                                                        0.1111111111111111,
                                                        "#46039f"
                                                    ],
                                                    [
                                                        0.2222222222222222,
                                                        "#7201a8"
                                                    ],
                                                    [
                                                        0.3333333333333333,
                                                        "#9c179e"
                                                    ],
                                                    [
                                                        0.4444444444444444,
                                                        "#bd3786"
                                                    ],
                                                    [
                                                        0.5555555555555556,
                                                        "#d8576b"
                                                    ],
                                                    [
                                                        0.6666666666666666,
                                                        "#ed7953"
                                                    ],
                                                    [
                                                        0.7777777777777778,
                                                        "#fb9f3a"
                                                    ],
                                                    [
                                                        0.8888888888888888,
                                                        "#fdca26"
                                                    ],
                                                    [
                                                        1,
                                                        "#f0f921"
                                                    ]
                                                ],
                                                "type": "histogram2d"
                                            }
                                        ],
                                        "histogram2dcontour": [
                                            {
                                                "colorbar": {
                                                    "outlinewidth": 0,
                                                    "ticks": ""
                                                },
                                                "colorscale": [
                                                    [
                                                        0,
                                                        "#0d0887"
                                                    ],
                                                    [
                                                        0.1111111111111111,
                                                        "#46039f"
                                                    ],
                                                    [
                                                        0.2222222222222222,
                                                        "#7201a8"
                                                    ],
                                                    [
                                                        0.3333333333333333,
                                                        "#9c179e"
                                                    ],
                                                    [
                                                        0.4444444444444444,
                                                        "#bd3786"
                                                    ],
                                                    [
                                                        0.5555555555555556,
                                                        "#d8576b"
                                                    ],
                                                    [
                                                        0.6666666666666666,
                                                        "#ed7953"
                                                    ],
                                                    [
                                                        0.7777777777777778,
                                                        "#fb9f3a"
                                                    ],
                                                    [
                                                        0.8888888888888888,
                                                        "#fdca26"
                                                    ],
                                                    [
                                                        1,
                                                        "#f0f921"
                                                    ]
                                                ],
                                                "type": "histogram2dcontour"
                                            }
                                        ],
                                        "mesh3d": [
                                            {
                                                "colorbar": {
                                                    "outlinewidth": 0,
                                                    "ticks": ""
                                                },
                                                "type": "mesh3d"
                                            }
                                        ],
                                        "parcoords": [
                                            {
                                                "line": {
                                                    "colorbar": {
                                                        "outlinewidth": 0,
                                                        "ticks": ""
                                                    }
                                                },
                                                "type": "parcoords"
                                            }
                                        ],
                                        "pie": [
                                            {
                                                "automargin": true,
                                                "type": "pie"
                                            }
                                        ],
                                        "scatter": [
                                            {
                                                "fillpattern": {
                                                    "fillmode": "overlay",
                                                    "size": 10,
                                                    "solidity": 0.2
                                                },
                                                "type": "scatter"
                                            }
                                        ],
                                        "scatter3d": [
                                            {
                                                "line": {
                                                    "colorbar": {
                                                        "outlinewidth": 0,
                                                        "ticks": ""
                                                    }
                                                },
                                                "marker": {
                                                    "colorbar": {
                                                        "outlinewidth": 0,
                                                        "ticks": ""
                                                    }
                                                },
                                                "type": "scatter3d"
                                            }
                                        ],
                                        "scattercarpet": [
                                            {
                                                "marker": {
                                                    "colorbar": {
                                                        "outlinewidth": 0,
                                                        "ticks": ""
                                                    }
                                                },
                                                "type": "scattercarpet"
                                            }
                                        ],
                                        "scattergeo": [
                                            {
                                                "marker": {
                                                    "colorbar": {
                                                        "outlinewidth": 0,
                                                        "ticks": ""
                                                    }
                                                },
                                                "type": "scattergeo"
                                            }
                                        ],
                                        "scattergl": [
                                            {
                                                "marker": {
                                                    "colorbar": {
                                                        "outlinewidth": 0,
                                                        "ticks": ""
                                                    }
                                                },
                                                "type": "scattergl"
                                            }
                                        ],
                                        "scattermapbox": [
                                            {
                                                "marker": {
                                                    "colorbar": {
                                                        "outlinewidth": 0,
                                                        "ticks": ""
                                                    }
                                                },
                                                "type": "scattermapbox"
                                            }
                                        ],
                                        "scatterpolar": [
                                            {
                                                "marker": {
                                                    "colorbar": {
                                                        "outlinewidth": 0,
                                                        "ticks": ""
                                                    }
                                                },
                                                "type": "scatterpolar"
                                            }
                                        ],
                                        "scatterpolargl": [
                                            {
                                                "marker": {
                                                    "colorbar": {
                                                        "outlinewidth": 0,
                                                        "ticks": ""
                                                    }
                                                },
                                                "type": "scatterpolargl"
                                            }
                                        ],
                                        "scatterternary": [
                                            {
                                                "marker": {
                                                    "colorbar": {
                                                        "outlinewidth": 0,
                                                        "ticks": ""
                                                    }
                                                },
                                                "type": "scatterternary"
                                            }
                                        ],
                                        "surface": [
                                            {
                                                "colorbar": {
                                                    "outlinewidth": 0,
                                                    "ticks": ""
                                                },
                                                "colorscale": [
                                                    [
                                                        0,
                                                        "#0d0887"
                                                    ],
                                                    [
                                                        0.1111111111111111,
                                                        "#46039f"
                                                    ],
                                                    [
                                                        0.2222222222222222,
                                                        "#7201a8"
                                                    ],
                                                    [
                                                        0.3333333333333333,
                                                        "#9c179e"
                                                    ],
                                                    [
                                                        0.4444444444444444,
                                                        "#bd3786"
                                                    ],
                                                    [
                                                        0.5555555555555556,
                                                        "#d8576b"
                                                    ],
                                                    [
                                                        0.6666666666666666,
                                                        "#ed7953"
                                                    ],
                                                    [
                                                        0.7777777777777778,
                                                        "#fb9f3a"
                                                    ],
                                                    [
                                                        0.8888888888888888,
                                                        "#fdca26"
                                                    ],
                                                    [
                                                        1,
                                                        "#f0f921"
                                                    ]
                                                ],
                                                "type": "surface"
                                            }
                                        ],
                                        "table": [
                                            {
                                                "cells": {
                                                    "fill": {
                                                        "color": "#EBF0F8"
                                                    },
                                                    "line": {
                                                        "color": "white"
                                                    }
                                                },
                                                "header": {
                                                    "fill": {
                                                        "color": "#C8D4E3"
                                                    },
                                                    "line": {
                                                        "color": "white"
                                                    }
                                                },
                                                "type": "table"
                                            }
                                        ]
                                    },
                                    "layout": {
                                        "annotationdefaults": {
                                            "arrowcolor": "#2a3f5f",
                                            "arrowhead": 0,
                                            "arrowwidth": 1
                                        },
                                        "autotypenumbers": "strict",
                                        "coloraxis": {
                                            "colorbar": {
                                                "outlinewidth": 0,
                                                "ticks": ""
                                            }
                                        },
                                        "colorscale": {
                                            "diverging": [
                                                [
                                                    0,
                                                    "#8e0152"
                                                ],
                                                [
                                                    0.1,
                                                    "#c51b7d"
                                                ],
                                                [
                                                    0.2,
                                                    "#de77ae"
                                                ],
                                                [
                                                    0.3,
                                                    "#f1b6da"
                                                ],
                                                [
                                                    0.4,
                                                    "#fde0ef"
                                                ],
                                                [
                                                    0.5,
                                                    "#f7f7f7"
                                                ],
                                                [
                                                    0.6,
                                                    "#e6f5d0"
                                                ],
                                                [
                                                    0.7,
                                                    "#b8e186"
                                                ],
                                                [
                                                    0.8,
                                                    "#7fbc41"
                                                ],
                                                [
                                                    0.9,
                                                    "#4d9221"
                                                ],
                                                [
                                                    1,
                                                    "#276419"
                                                ]
                                            ],
                                            "sequential": [
                                                [
                                                    0,
                                                    "#0d0887"
                                                ],
                                                [
                                                    0.1111111111111111,
                                                    "#46039f"
                                                ],
                                                [
                                                    0.2222222222222222,
                                                    "#7201a8"
                                                ],
                                                [
                                                    0.3333333333333333,
                                                    "#9c179e"
                                                ],
                                                [
                                                    0.4444444444444444,
                                                    "#bd3786"
                                                ],
                                                [
                                                    0.5555555555555556,
                                                    "#d8576b"
                                                ],
                                                [
                                                    0.6666666666666666,
                                                    "#ed7953"
                                                ],
                                                [
                                                    0.7777777777777778,
                                                    "#fb9f3a"
                                                ],
                                                [
                                                    0.8888888888888888,
                                                    "#fdca26"
                                                ],
                                                [
                                                    1,
                                                    "#f0f921"
                                                ]
                                            ],
                                            "sequentialminus": [
                                                [
                                                    0,
                                                    "#0d0887"
                                                ],
                                                [
                                                    0.1111111111111111,
                                                    "#46039f"
                                                ],
                                                [
                                                    0.2222222222222222,
                                                    "#7201a8"
                                                ],
                                                [
                                                    0.3333333333333333,
                                                    "#9c179e"
                                                ],
                                                [
                                                    0.4444444444444444,
                                                    "#bd3786"
                                                ],
                                                [
                                                    0.5555555555555556,
                                                    "#d8576b"
                                                ],
                                                [
                                                    0.6666666666666666,
                                                    "#ed7953"
                                                ],
                                                [
                                                    0.7777777777777778,
                                                    "#fb9f3a"
                                                ],
                                                [
                                                    0.8888888888888888,
                                                    "#fdca26"
                                                ],
                                                [
                                                    1,
                                                    "#f0f921"
                                                ]
                                            ]
                                        },
                                        "colorway": [
                                            "#636efa",
                                            "#EF553B",
                                            "#00cc96",
                                            "#ab63fa",
                                            "#FFA15A",
                                            "#19d3f3",
                                            "#FF6692",
                                            "#B6E880",
                                            "#FF97FF",
                                            "#FECB52"
                                        ],
                                        "font": {
                                            "color": "#2a3f5f"
                                        },
                                        "geo": {
                                            "bgcolor": "white",
                                            "lakecolor": "white",
                                            "landcolor": "#E5ECF6",
                                            "showlakes": true,
                                            "showland": true,
                                            "subunitcolor": "white"
                                        },
                                        "hoverlabel": {
                                            "align": "left"
                                        },
                                        "hovermode": "closest",
                                        "mapbox": {
                                            "style": "light"
                                        },
                                        "paper_bgcolor": "white",
                                        "plot_bgcolor": "#E5ECF6",
                                        "polar": {
                                            "angularaxis": {
                                                "gridcolor": "white",
                                                "linecolor": "white",
                                                "ticks": ""
                                            },
                                            "bgcolor": "#E5ECF6",
                                            "radialaxis": {
                                                "gridcolor": "white",
                                                "linecolor": "white",
                                                "ticks": ""
                                            }
                                        },
                                        "scene": {
                                            "xaxis": {
                                                "backgroundcolor": "#E5ECF6",
                                                "gridcolor": "white",
                                                "gridwidth": 2,
                                                "linecolor": "white",
                                                "showbackground": true,
                                                "ticks": "",
                                                "zerolinecolor": "white"
                                            },
                                            "yaxis": {
                                                "backgroundcolor": "#E5ECF6",
                                                "gridcolor": "white",
                                                "gridwidth": 2,
                                                "linecolor": "white",
                                                "showbackground": true,
                                                "ticks": "",
                                                "zerolinecolor": "white"
                                            },
                                            "zaxis": {
                                                "backgroundcolor": "#E5ECF6",
                                                "gridcolor": "white",
                                                "gridwidth": 2,
                                                "linecolor": "white",
                                                "showbackground": true,
                                                "ticks": "",
                                                "zerolinecolor": "white"
                                            }
                                        },
                                        "shapedefaults": {
                                            "line": {
                                                "color": "#2a3f5f"
                                            }
                                        },
                                        "ternary": {
                                            "aaxis": {
                                                "gridcolor": "white",
                                                "linecolor": "white",
                                                "ticks": ""
                                            },
                                            "baxis": {
                                                "gridcolor": "white",
                                                "linecolor": "white",
                                                "ticks": ""
                                            },
                                            "bgcolor": "#E5ECF6",
                                            "caxis": {
                                                "gridcolor": "white",
                                                "linecolor": "white",
                                                "ticks": ""
                                            }
                                        },
                                        "title": {
                                            "x": 0.05
                                        },
                                        "xaxis": {
                                            "automargin": true,
                                            "gridcolor": "white",
                                            "linecolor": "white",
                                            "ticks": "",
                                            "title": {
                                                "standoff": 15
                                            },
                                            "zerolinecolor": "white",
                                            "zerolinewidth": 2
                                        },
                                        "yaxis": {
                                            "automargin": true,
                                            "gridcolor": "white",
                                            "linecolor": "white",
                                            "ticks": "",
                                            "title": {
                                                "standoff": 15
                                            },
                                            "zerolinecolor": "white",
                                            "zerolinewidth": 2
                                        }
                                    }
                                },
                                "title": {
                                    "text": "Sequence"
                                },
                                "width": 600,
                                "xaxis": {
                                    "anchor": "y",
                                    "domain": [
                                        0,
                                        1
                                    ],
                                    "matches": "x9",
                                    "showticklabels": false
                                },
                                "xaxis2": {
                                    "anchor": "y2",
                                    "domain": [
                                        0,
                                        1
                                    ],
                                    "matches": "x9",
                                    "showticklabels": false
                                },
                                "xaxis3": {
                                    "anchor": "y3",
                                    "domain": [
                                        0,
                                        1
                                    ],
                                    "matches": "x9",
                                    "showticklabels": false
                                },
                                "xaxis4": {
                                    "anchor": "y4",
                                    "domain": [
                                        0,
                                        1
                                    ],
                                    "matches": "x9",
                                    "showticklabels": false
                                },
                                "xaxis5": {
                                    "anchor": "y5",
                                    "domain": [
                                        0,
                                        1
                                    ],
                                    "matches": "x9",
                                    "showticklabels": false
                                },
                                "xaxis6": {
                                    "anchor": "y6",
                                    "domain": [
                                        0,
                                        1
                                    ],
                                    "matches": "x9",
                                    "showticklabels": false
                                },
                                "xaxis7": {
                                    "anchor": "y7",
                                    "domain": [
                                        0,
                                        1
                                    ],
                                    "matches": "x9",
                                    "showticklabels": false
                                },
                                "xaxis8": {
                                    "anchor": "y8",
                                    "domain": [
                                        0,
                                        1
                                    ],
                                    "matches": "x9",
                                    "showticklabels": false
                                },
                                "xaxis9": {
                                    "anchor": "y9",
                                    "domain": [
                                        0,
                                        1
                                    ],
                                    "title": {
                                        "text": "time/ns"
                                    }
                                },
                                "yaxis": {
                                    "anchor": "x",
                                    "domain": [
                                        0.9066666666666666,
                                        1
                                    ],
                                    "range": [
                                        -0.4,
                                        1.4
                                    ],
                                    "showticklabels": false,
                                    "title": {
                                        "text": "D0<br>laser"
                                    }
                                },
                                "yaxis2": {
                                    "anchor": "x2",
                                    "domain": [
                                        0.7933333333333333,
                                        0.8866666666666667
                                    ],
                                    "range": [
                                        -0.4,
                                        1.4
                                    ],
                                    "showticklabels": false,
                                    "title": {
                                        "text": "D1<br>dclk"
                                    }
                                },
                                "yaxis3": {
                                    "anchor": "x3",
                                    "domain": [
                                        0.6799999999999999,
                                        0.7733333333333332
                                    ],
                                    "range": [
                                        -0.4,
                                        1.4
                                    ],
                                    "showticklabels": false,
                                    "title": {
                                        "text": "D2<br>dtrig"
                                    }
                                },
                                "yaxis4": {
                                    "anchor": "x4",
                                    "domain": [
                                        0.5666666666666667,
                                        0.6599999999999999
                                    ],
                                    "range": [
                                        -0.4,
                                        1.4
                                    ],
                                    "showticklabels": false,
                                    "title": {
                                        "text": "D3<br>sdtrig"
                                    }
                                },
                                "yaxis5": {
                                    "anchor": "x5",
                                    "domain": [
                                        0.4533333333333333,
                                        0.5466666666666666
                                    ],
                                    "range": [
                                        -0.4,
                                        1.4
                                    ],
                                    "showticklabels": false,
                                    "title": {
                                        "text": "D4<br>mwA"
                                    }
                                },
                                "yaxis6": {
                                    "anchor": "x6",
                                    "domain": [
                                        0.33999999999999997,
                                        0.4333333333333333
                                    ],
                                    "range": [
                                        -0.4,
                                        1.4
                                    ],
                                    "showticklabels": false,
                                    "title": {
                                        "text": "D5<br>mwB"
                                    }
                                },
                                "yaxis7": {
                                    "anchor": "x7",
                                    "domain": [
                                        0.22666666666666666,
                                        0.31999999999999995
                                    ],
                                    "range": [
                                        -0.4,
                                        1.4
                                    ],
                                    "showticklabels": false,
                                    "title": {
                                        "text": "D6<br>rftrig"
                                    }
                                },
                                "yaxis8": {
                                    "anchor": "x8",
                                    "domain": [
                                        0.11333333333333333,
                                        0.20666666666666667
                                    ],
                                    "range": [
                                        -1.5,
                                        1.5
                                    ],
                                    "tickfont": {
                                        "size": 6
                                    },
                                    "title": {
                                        "text": "A0<br>Bz"
                                    }
                                },
                                "yaxis9": {
                                    "anchor": "x9",
                                    "domain": [
                                        0,
                                        0.09333333333333332
                                    ],
                                    "range": [
                                        -1.5,
                                        1.5
                                    ],
                                    "tickfont": {
                                        "size": 6
                                    },
                                    "title": {
                                        "text": "A1<br>Bx"
                                    }
                                }
                            }
                        }
                    },
                    "metadata": {},
                    "output_type": "display_data"
                }
            ],
            "source": [
                "dur_pt = 16E6 # duration of each frequency point\n",
                "dig_trig_len=20\n",
                "divpart_pt = 2\n",
                "clock_rate = 500E-6 #GHz\n",
                "daqtrig_delay = 1/clock_rate #delay\n",
                "seq_daqtrig = [(dur_pt/2.0, HIGH), (dur_pt/2.0, LOW)]\n",
                "seq_laser = [(dur_pt, HIGH)]\n",
                "seq_mwA = [(dur_pt/2.0/divpart_pt, HIGH), (dur_pt/2.0/divpart_pt, LOW)]*divpart_pt\n",
                "seq_clock = [(0.5/clock_rate, HIGH),(0.5/clock_rate, LOW)]*int(dur_pt*clock_rate)\n",
                "# seq_dig= [(dur_pt/2.0/divpart_pt, LOW), (dig_trig_len,HIGH),(dur_pt/2.0/divpart_pt/2-2*dig_trig_len, LOW),(dig_trig_len,HIGH),(dur_pt/2.0/divpart_pt/2-2*dig_trig_len, LOW)]*divpart_pt\n",
                "seq_dig= [(dig_trig_len,HIGH), (dur_pt/2.0/divpart_pt-dig_trig_len, LOW),(dig_trig_len,LOW),(dig_trig_len,HIGH), (dur_pt/2.0/divpart_pt-dig_trig_len, LOW)]*divpart_pt\n",
                "\n",
                "pg.setDigital(\"laser\", seq_laser)\n",
                "pg.setDigital(\"mwA\", seq_mwA)\n",
                "pg.setDigital('sdtrig',seq_dig)\n",
                "# pg.setDigital(\"laser\", seq_mwA)\n",
                "# pg.setDigital(\"mw_A\", seq_laser)\n",
                "# pg.setDigital(\"dtrig\", seq_daqtrig)\n",
                "# pg.setDigital(\"dclk\", seq_clock)\n",
                "pg.setTrigger(start=TriggerStart.SOFTWARE, rearm=TriggerRearm.MANUAL)\n",
                "pg.plotSeq(plot_all=False)"
            ]
        },
        {
            "cell_type": "code",
            "execution_count": 8,
            "metadata": {},
            "outputs": [
                {
                    "data": {
                        "application/vnd.plotly.v1+json": {
                            "config": {
                                "plotlyServerURL": "https://plot.ly"
                            },
                            "data": [
                                {
                                    "line": {
                                        "shape": "hv"
                                    },
                                    "mode": "lines",
                                    "name": "D0",
                                    "type": "scatter",
                                    "x": [
                                        0,
                                        4000000,
                                        16000040
                                    ],
                                    "xaxis": "x",
                                    "y": [
                                        1,
                                        1,
                                        1
                                    ],
                                    "yaxis": "y"
                                },
                                {
                                    "line": {
                                        "shape": "hv"
                                    },
                                    "mode": "lines",
                                    "name": "D1",
                                    "type": "scatter",
                                    "x": [
                                        0,
                                        16000040
                                    ],
                                    "xaxis": "x2",
                                    "y": [
                                        0,
                                        0
                                    ],
                                    "yaxis": "y2"
                                },
                                {
                                    "line": {
                                        "shape": "hv"
                                    },
                                    "mode": "lines",
                                    "name": "D2",
                                    "type": "scatter",
                                    "x": [
                                        0,
                                        16000040
                                    ],
                                    "xaxis": "x3",
                                    "y": [
                                        0,
                                        0
                                    ],
                                    "yaxis": "y3"
                                },
                                {
                                    "line": {
                                        "shape": "hv"
                                    },
                                    "mode": "lines",
                                    "name": "D3",
                                    "type": "scatter",
                                    "x": [
                                        0,
                                        20,
                                        4000000,
                                        4000020,
                                        4000040,
                                        8000020,
                                        8000040,
                                        12000020,
                                        12000040,
                                        12000060,
                                        16000040
                                    ],
                                    "xaxis": "x4",
                                    "y": [
                                        1,
                                        0,
                                        0,
                                        1,
                                        0,
                                        1,
                                        0,
                                        0,
                                        1,
                                        0,
                                        0
                                    ],
                                    "yaxis": "y4"
                                },
                                {
                                    "line": {
                                        "shape": "hv"
                                    },
                                    "mode": "lines",
                                    "name": "D4",
                                    "type": "scatter",
                                    "x": [
                                        0,
                                        4000000,
                                        8000000,
                                        12000000,
                                        16000000,
                                        16000040
                                    ],
                                    "xaxis": "x5",
                                    "y": [
                                        1,
                                        0,
                                        1,
                                        0,
                                        0,
                                        0
                                    ],
                                    "yaxis": "y5"
                                },
                                {
                                    "line": {
                                        "shape": "hv"
                                    },
                                    "mode": "lines",
                                    "name": "D5",
                                    "type": "scatter",
                                    "x": [
                                        0,
                                        16000040
                                    ],
                                    "xaxis": "x6",
                                    "y": [
                                        0,
                                        0
                                    ],
                                    "yaxis": "y6"
                                },
                                {
                                    "line": {
                                        "shape": "hv"
                                    },
                                    "mode": "lines",
                                    "name": "D6",
                                    "type": "scatter",
                                    "x": [
                                        0,
                                        16000040
                                    ],
                                    "xaxis": "x7",
                                    "y": [
                                        0,
                                        0
                                    ],
                                    "yaxis": "y7"
                                },
                                {
                                    "line": {
                                        "color": "black",
                                        "shape": "hv"
                                    },
                                    "mode": "lines",
                                    "name": "A0",
                                    "type": "scatter",
                                    "x": [
                                        0,
                                        16000040
                                    ],
                                    "xaxis": "x8",
                                    "y": [
                                        0,
                                        0
                                    ],
                                    "yaxis": "y8"
                                },
                                {
                                    "line": {
                                        "color": "black",
                                        "shape": "hv"
                                    },
                                    "mode": "lines",
                                    "name": "A1",
                                    "type": "scatter",
                                    "x": [
                                        0,
                                        16000040
                                    ],
                                    "xaxis": "x9",
                                    "y": [
                                        0,
                                        0
                                    ],
                                    "yaxis": "y9"
                                }
                            ],
                            "layout": {
                                "height": 550,
                                "margin": {
                                    "b": 40,
                                    "l": 50,
                                    "r": 50,
                                    "t": 40
                                },
                                "showlegend": false,
                                "template": {
                                    "data": {
                                        "bar": [
                                            {
                                                "error_x": {
                                                    "color": "#2a3f5f"
                                                },
                                                "error_y": {
                                                    "color": "#2a3f5f"
                                                },
                                                "marker": {
                                                    "line": {
                                                        "color": "#E5ECF6",
                                                        "width": 0.5
                                                    },
                                                    "pattern": {
                                                        "fillmode": "overlay",
                                                        "size": 10,
                                                        "solidity": 0.2
                                                    }
                                                },
                                                "type": "bar"
                                            }
                                        ],
                                        "barpolar": [
                                            {
                                                "marker": {
                                                    "line": {
                                                        "color": "#E5ECF6",
                                                        "width": 0.5
                                                    },
                                                    "pattern": {
                                                        "fillmode": "overlay",
                                                        "size": 10,
                                                        "solidity": 0.2
                                                    }
                                                },
                                                "type": "barpolar"
                                            }
                                        ],
                                        "carpet": [
                                            {
                                                "aaxis": {
                                                    "endlinecolor": "#2a3f5f",
                                                    "gridcolor": "white",
                                                    "linecolor": "white",
                                                    "minorgridcolor": "white",
                                                    "startlinecolor": "#2a3f5f"
                                                },
                                                "baxis": {
                                                    "endlinecolor": "#2a3f5f",
                                                    "gridcolor": "white",
                                                    "linecolor": "white",
                                                    "minorgridcolor": "white",
                                                    "startlinecolor": "#2a3f5f"
                                                },
                                                "type": "carpet"
                                            }
                                        ],
                                        "choropleth": [
                                            {
                                                "colorbar": {
                                                    "outlinewidth": 0,
                                                    "ticks": ""
                                                },
                                                "type": "choropleth"
                                            }
                                        ],
                                        "contour": [
                                            {
                                                "colorbar": {
                                                    "outlinewidth": 0,
                                                    "ticks": ""
                                                },
                                                "colorscale": [
                                                    [
                                                        0,
                                                        "#0d0887"
                                                    ],
                                                    [
                                                        0.1111111111111111,
                                                        "#46039f"
                                                    ],
                                                    [
                                                        0.2222222222222222,
                                                        "#7201a8"
                                                    ],
                                                    [
                                                        0.3333333333333333,
                                                        "#9c179e"
                                                    ],
                                                    [
                                                        0.4444444444444444,
                                                        "#bd3786"
                                                    ],
                                                    [
                                                        0.5555555555555556,
                                                        "#d8576b"
                                                    ],
                                                    [
                                                        0.6666666666666666,
                                                        "#ed7953"
                                                    ],
                                                    [
                                                        0.7777777777777778,
                                                        "#fb9f3a"
                                                    ],
                                                    [
                                                        0.8888888888888888,
                                                        "#fdca26"
                                                    ],
                                                    [
                                                        1,
                                                        "#f0f921"
                                                    ]
                                                ],
                                                "type": "contour"
                                            }
                                        ],
                                        "contourcarpet": [
                                            {
                                                "colorbar": {
                                                    "outlinewidth": 0,
                                                    "ticks": ""
                                                },
                                                "type": "contourcarpet"
                                            }
                                        ],
                                        "heatmap": [
                                            {
                                                "colorbar": {
                                                    "outlinewidth": 0,
                                                    "ticks": ""
                                                },
                                                "colorscale": [
                                                    [
                                                        0,
                                                        "#0d0887"
                                                    ],
                                                    [
                                                        0.1111111111111111,
                                                        "#46039f"
                                                    ],
                                                    [
                                                        0.2222222222222222,
                                                        "#7201a8"
                                                    ],
                                                    [
                                                        0.3333333333333333,
                                                        "#9c179e"
                                                    ],
                                                    [
                                                        0.4444444444444444,
                                                        "#bd3786"
                                                    ],
                                                    [
                                                        0.5555555555555556,
                                                        "#d8576b"
                                                    ],
                                                    [
                                                        0.6666666666666666,
                                                        "#ed7953"
                                                    ],
                                                    [
                                                        0.7777777777777778,
                                                        "#fb9f3a"
                                                    ],
                                                    [
                                                        0.8888888888888888,
                                                        "#fdca26"
                                                    ],
                                                    [
                                                        1,
                                                        "#f0f921"
                                                    ]
                                                ],
                                                "type": "heatmap"
                                            }
                                        ],
                                        "heatmapgl": [
                                            {
                                                "colorbar": {
                                                    "outlinewidth": 0,
                                                    "ticks": ""
                                                },
                                                "colorscale": [
                                                    [
                                                        0,
                                                        "#0d0887"
                                                    ],
                                                    [
                                                        0.1111111111111111,
                                                        "#46039f"
                                                    ],
                                                    [
                                                        0.2222222222222222,
                                                        "#7201a8"
                                                    ],
                                                    [
                                                        0.3333333333333333,
                                                        "#9c179e"
                                                    ],
                                                    [
                                                        0.4444444444444444,
                                                        "#bd3786"
                                                    ],
                                                    [
                                                        0.5555555555555556,
                                                        "#d8576b"
                                                    ],
                                                    [
                                                        0.6666666666666666,
                                                        "#ed7953"
                                                    ],
                                                    [
                                                        0.7777777777777778,
                                                        "#fb9f3a"
                                                    ],
                                                    [
                                                        0.8888888888888888,
                                                        "#fdca26"
                                                    ],
                                                    [
                                                        1,
                                                        "#f0f921"
                                                    ]
                                                ],
                                                "type": "heatmapgl"
                                            }
                                        ],
                                        "histogram": [
                                            {
                                                "marker": {
                                                    "pattern": {
                                                        "fillmode": "overlay",
                                                        "size": 10,
                                                        "solidity": 0.2
                                                    }
                                                },
                                                "type": "histogram"
                                            }
                                        ],
                                        "histogram2d": [
                                            {
                                                "colorbar": {
                                                    "outlinewidth": 0,
                                                    "ticks": ""
                                                },
                                                "colorscale": [
                                                    [
                                                        0,
                                                        "#0d0887"
                                                    ],
                                                    [
                                                        0.1111111111111111,
                                                        "#46039f"
                                                    ],
                                                    [
                                                        0.2222222222222222,
                                                        "#7201a8"
                                                    ],
                                                    [
                                                        0.3333333333333333,
                                                        "#9c179e"
                                                    ],
                                                    [
                                                        0.4444444444444444,
                                                        "#bd3786"
                                                    ],
                                                    [
                                                        0.5555555555555556,
                                                        "#d8576b"
                                                    ],
                                                    [
                                                        0.6666666666666666,
                                                        "#ed7953"
                                                    ],
                                                    [
                                                        0.7777777777777778,
                                                        "#fb9f3a"
                                                    ],
                                                    [
                                                        0.8888888888888888,
                                                        "#fdca26"
                                                    ],
                                                    [
                                                        1,
                                                        "#f0f921"
                                                    ]
                                                ],
                                                "type": "histogram2d"
                                            }
                                        ],
                                        "histogram2dcontour": [
                                            {
                                                "colorbar": {
                                                    "outlinewidth": 0,
                                                    "ticks": ""
                                                },
                                                "colorscale": [
                                                    [
                                                        0,
                                                        "#0d0887"
                                                    ],
                                                    [
                                                        0.1111111111111111,
                                                        "#46039f"
                                                    ],
                                                    [
                                                        0.2222222222222222,
                                                        "#7201a8"
                                                    ],
                                                    [
                                                        0.3333333333333333,
                                                        "#9c179e"
                                                    ],
                                                    [
                                                        0.4444444444444444,
                                                        "#bd3786"
                                                    ],
                                                    [
                                                        0.5555555555555556,
                                                        "#d8576b"
                                                    ],
                                                    [
                                                        0.6666666666666666,
                                                        "#ed7953"
                                                    ],
                                                    [
                                                        0.7777777777777778,
                                                        "#fb9f3a"
                                                    ],
                                                    [
                                                        0.8888888888888888,
                                                        "#fdca26"
                                                    ],
                                                    [
                                                        1,
                                                        "#f0f921"
                                                    ]
                                                ],
                                                "type": "histogram2dcontour"
                                            }
                                        ],
                                        "mesh3d": [
                                            {
                                                "colorbar": {
                                                    "outlinewidth": 0,
                                                    "ticks": ""
                                                },
                                                "type": "mesh3d"
                                            }
                                        ],
                                        "parcoords": [
                                            {
                                                "line": {
                                                    "colorbar": {
                                                        "outlinewidth": 0,
                                                        "ticks": ""
                                                    }
                                                },
                                                "type": "parcoords"
                                            }
                                        ],
                                        "pie": [
                                            {
                                                "automargin": true,
                                                "type": "pie"
                                            }
                                        ],
                                        "scatter": [
                                            {
                                                "fillpattern": {
                                                    "fillmode": "overlay",
                                                    "size": 10,
                                                    "solidity": 0.2
                                                },
                                                "type": "scatter"
                                            }
                                        ],
                                        "scatter3d": [
                                            {
                                                "line": {
                                                    "colorbar": {
                                                        "outlinewidth": 0,
                                                        "ticks": ""
                                                    }
                                                },
                                                "marker": {
                                                    "colorbar": {
                                                        "outlinewidth": 0,
                                                        "ticks": ""
                                                    }
                                                },
                                                "type": "scatter3d"
                                            }
                                        ],
                                        "scattercarpet": [
                                            {
                                                "marker": {
                                                    "colorbar": {
                                                        "outlinewidth": 0,
                                                        "ticks": ""
                                                    }
                                                },
                                                "type": "scattercarpet"
                                            }
                                        ],
                                        "scattergeo": [
                                            {
                                                "marker": {
                                                    "colorbar": {
                                                        "outlinewidth": 0,
                                                        "ticks": ""
                                                    }
                                                },
                                                "type": "scattergeo"
                                            }
                                        ],
                                        "scattergl": [
                                            {
                                                "marker": {
                                                    "colorbar": {
                                                        "outlinewidth": 0,
                                                        "ticks": ""
                                                    }
                                                },
                                                "type": "scattergl"
                                            }
                                        ],
                                        "scattermapbox": [
                                            {
                                                "marker": {
                                                    "colorbar": {
                                                        "outlinewidth": 0,
                                                        "ticks": ""
                                                    }
                                                },
                                                "type": "scattermapbox"
                                            }
                                        ],
                                        "scatterpolar": [
                                            {
                                                "marker": {
                                                    "colorbar": {
                                                        "outlinewidth": 0,
                                                        "ticks": ""
                                                    }
                                                },
                                                "type": "scatterpolar"
                                            }
                                        ],
                                        "scatterpolargl": [
                                            {
                                                "marker": {
                                                    "colorbar": {
                                                        "outlinewidth": 0,
                                                        "ticks": ""
                                                    }
                                                },
                                                "type": "scatterpolargl"
                                            }
                                        ],
                                        "scatterternary": [
                                            {
                                                "marker": {
                                                    "colorbar": {
                                                        "outlinewidth": 0,
                                                        "ticks": ""
                                                    }
                                                },
                                                "type": "scatterternary"
                                            }
                                        ],
                                        "surface": [
                                            {
                                                "colorbar": {
                                                    "outlinewidth": 0,
                                                    "ticks": ""
                                                },
                                                "colorscale": [
                                                    [
                                                        0,
                                                        "#0d0887"
                                                    ],
                                                    [
                                                        0.1111111111111111,
                                                        "#46039f"
                                                    ],
                                                    [
                                                        0.2222222222222222,
                                                        "#7201a8"
                                                    ],
                                                    [
                                                        0.3333333333333333,
                                                        "#9c179e"
                                                    ],
                                                    [
                                                        0.4444444444444444,
                                                        "#bd3786"
                                                    ],
                                                    [
                                                        0.5555555555555556,
                                                        "#d8576b"
                                                    ],
                                                    [
                                                        0.6666666666666666,
                                                        "#ed7953"
                                                    ],
                                                    [
                                                        0.7777777777777778,
                                                        "#fb9f3a"
                                                    ],
                                                    [
                                                        0.8888888888888888,
                                                        "#fdca26"
                                                    ],
                                                    [
                                                        1,
                                                        "#f0f921"
                                                    ]
                                                ],
                                                "type": "surface"
                                            }
                                        ],
                                        "table": [
                                            {
                                                "cells": {
                                                    "fill": {
                                                        "color": "#EBF0F8"
                                                    },
                                                    "line": {
                                                        "color": "white"
                                                    }
                                                },
                                                "header": {
                                                    "fill": {
                                                        "color": "#C8D4E3"
                                                    },
                                                    "line": {
                                                        "color": "white"
                                                    }
                                                },
                                                "type": "table"
                                            }
                                        ]
                                    },
                                    "layout": {
                                        "annotationdefaults": {
                                            "arrowcolor": "#2a3f5f",
                                            "arrowhead": 0,
                                            "arrowwidth": 1
                                        },
                                        "autotypenumbers": "strict",
                                        "coloraxis": {
                                            "colorbar": {
                                                "outlinewidth": 0,
                                                "ticks": ""
                                            }
                                        },
                                        "colorscale": {
                                            "diverging": [
                                                [
                                                    0,
                                                    "#8e0152"
                                                ],
                                                [
                                                    0.1,
                                                    "#c51b7d"
                                                ],
                                                [
                                                    0.2,
                                                    "#de77ae"
                                                ],
                                                [
                                                    0.3,
                                                    "#f1b6da"
                                                ],
                                                [
                                                    0.4,
                                                    "#fde0ef"
                                                ],
                                                [
                                                    0.5,
                                                    "#f7f7f7"
                                                ],
                                                [
                                                    0.6,
                                                    "#e6f5d0"
                                                ],
                                                [
                                                    0.7,
                                                    "#b8e186"
                                                ],
                                                [
                                                    0.8,
                                                    "#7fbc41"
                                                ],
                                                [
                                                    0.9,
                                                    "#4d9221"
                                                ],
                                                [
                                                    1,
                                                    "#276419"
                                                ]
                                            ],
                                            "sequential": [
                                                [
                                                    0,
                                                    "#0d0887"
                                                ],
                                                [
                                                    0.1111111111111111,
                                                    "#46039f"
                                                ],
                                                [
                                                    0.2222222222222222,
                                                    "#7201a8"
                                                ],
                                                [
                                                    0.3333333333333333,
                                                    "#9c179e"
                                                ],
                                                [
                                                    0.4444444444444444,
                                                    "#bd3786"
                                                ],
                                                [
                                                    0.5555555555555556,
                                                    "#d8576b"
                                                ],
                                                [
                                                    0.6666666666666666,
                                                    "#ed7953"
                                                ],
                                                [
                                                    0.7777777777777778,
                                                    "#fb9f3a"
                                                ],
                                                [
                                                    0.8888888888888888,
                                                    "#fdca26"
                                                ],
                                                [
                                                    1,
                                                    "#f0f921"
                                                ]
                                            ],
                                            "sequentialminus": [
                                                [
                                                    0,
                                                    "#0d0887"
                                                ],
                                                [
                                                    0.1111111111111111,
                                                    "#46039f"
                                                ],
                                                [
                                                    0.2222222222222222,
                                                    "#7201a8"
                                                ],
                                                [
                                                    0.3333333333333333,
                                                    "#9c179e"
                                                ],
                                                [
                                                    0.4444444444444444,
                                                    "#bd3786"
                                                ],
                                                [
                                                    0.5555555555555556,
                                                    "#d8576b"
                                                ],
                                                [
                                                    0.6666666666666666,
                                                    "#ed7953"
                                                ],
                                                [
                                                    0.7777777777777778,
                                                    "#fb9f3a"
                                                ],
                                                [
                                                    0.8888888888888888,
                                                    "#fdca26"
                                                ],
                                                [
                                                    1,
                                                    "#f0f921"
                                                ]
                                            ]
                                        },
                                        "colorway": [
                                            "#636efa",
                                            "#EF553B",
                                            "#00cc96",
                                            "#ab63fa",
                                            "#FFA15A",
                                            "#19d3f3",
                                            "#FF6692",
                                            "#B6E880",
                                            "#FF97FF",
                                            "#FECB52"
                                        ],
                                        "font": {
                                            "color": "#2a3f5f"
                                        },
                                        "geo": {
                                            "bgcolor": "white",
                                            "lakecolor": "white",
                                            "landcolor": "#E5ECF6",
                                            "showlakes": true,
                                            "showland": true,
                                            "subunitcolor": "white"
                                        },
                                        "hoverlabel": {
                                            "align": "left"
                                        },
                                        "hovermode": "closest",
                                        "mapbox": {
                                            "style": "light"
                                        },
                                        "paper_bgcolor": "white",
                                        "plot_bgcolor": "#E5ECF6",
                                        "polar": {
                                            "angularaxis": {
                                                "gridcolor": "white",
                                                "linecolor": "white",
                                                "ticks": ""
                                            },
                                            "bgcolor": "#E5ECF6",
                                            "radialaxis": {
                                                "gridcolor": "white",
                                                "linecolor": "white",
                                                "ticks": ""
                                            }
                                        },
                                        "scene": {
                                            "xaxis": {
                                                "backgroundcolor": "#E5ECF6",
                                                "gridcolor": "white",
                                                "gridwidth": 2,
                                                "linecolor": "white",
                                                "showbackground": true,
                                                "ticks": "",
                                                "zerolinecolor": "white"
                                            },
                                            "yaxis": {
                                                "backgroundcolor": "#E5ECF6",
                                                "gridcolor": "white",
                                                "gridwidth": 2,
                                                "linecolor": "white",
                                                "showbackground": true,
                                                "ticks": "",
                                                "zerolinecolor": "white"
                                            },
                                            "zaxis": {
                                                "backgroundcolor": "#E5ECF6",
                                                "gridcolor": "white",
                                                "gridwidth": 2,
                                                "linecolor": "white",
                                                "showbackground": true,
                                                "ticks": "",
                                                "zerolinecolor": "white"
                                            }
                                        },
                                        "shapedefaults": {
                                            "line": {
                                                "color": "#2a3f5f"
                                            }
                                        },
                                        "ternary": {
                                            "aaxis": {
                                                "gridcolor": "white",
                                                "linecolor": "white",
                                                "ticks": ""
                                            },
                                            "baxis": {
                                                "gridcolor": "white",
                                                "linecolor": "white",
                                                "ticks": ""
                                            },
                                            "bgcolor": "#E5ECF6",
                                            "caxis": {
                                                "gridcolor": "white",
                                                "linecolor": "white",
                                                "ticks": ""
                                            }
                                        },
                                        "title": {
                                            "x": 0.05
                                        },
                                        "xaxis": {
                                            "automargin": true,
                                            "gridcolor": "white",
                                            "linecolor": "white",
                                            "ticks": "",
                                            "title": {
                                                "standoff": 15
                                            },
                                            "zerolinecolor": "white",
                                            "zerolinewidth": 2
                                        },
                                        "yaxis": {
                                            "automargin": true,
                                            "gridcolor": "white",
                                            "linecolor": "white",
                                            "ticks": "",
                                            "title": {
                                                "standoff": 15
                                            },
                                            "zerolinecolor": "white",
                                            "zerolinewidth": 2
                                        }
                                    }
                                },
                                "title": {
                                    "text": "Sequence"
                                },
                                "width": 600,
                                "xaxis": {
                                    "anchor": "y",
                                    "domain": [
                                        0,
                                        1
                                    ],
                                    "matches": "x9",
                                    "showticklabels": false
                                },
                                "xaxis2": {
                                    "anchor": "y2",
                                    "domain": [
                                        0,
                                        1
                                    ],
                                    "matches": "x9",
                                    "showticklabels": false
                                },
                                "xaxis3": {
                                    "anchor": "y3",
                                    "domain": [
                                        0,
                                        1
                                    ],
                                    "matches": "x9",
                                    "showticklabels": false
                                },
                                "xaxis4": {
                                    "anchor": "y4",
                                    "domain": [
                                        0,
                                        1
                                    ],
                                    "matches": "x9",
                                    "showticklabels": false
                                },
                                "xaxis5": {
                                    "anchor": "y5",
                                    "domain": [
                                        0,
                                        1
                                    ],
                                    "matches": "x9",
                                    "showticklabels": false
                                },
                                "xaxis6": {
                                    "anchor": "y6",
                                    "domain": [
                                        0,
                                        1
                                    ],
                                    "matches": "x9",
                                    "showticklabels": false
                                },
                                "xaxis7": {
                                    "anchor": "y7",
                                    "domain": [
                                        0,
                                        1
                                    ],
                                    "matches": "x9",
                                    "showticklabels": false
                                },
                                "xaxis8": {
                                    "anchor": "y8",
                                    "domain": [
                                        0,
                                        1
                                    ],
                                    "matches": "x9",
                                    "showticklabels": false
                                },
                                "xaxis9": {
                                    "anchor": "y9",
                                    "domain": [
                                        0,
                                        1
                                    ],
                                    "title": {
                                        "text": "time/ns"
                                    }
                                },
                                "yaxis": {
                                    "anchor": "x",
                                    "domain": [
                                        0.9066666666666666,
                                        1
                                    ],
                                    "range": [
                                        -0.4,
                                        1.4
                                    ],
                                    "showticklabels": false,
                                    "title": {
                                        "text": "D0<br>laser"
                                    }
                                },
                                "yaxis2": {
                                    "anchor": "x2",
                                    "domain": [
                                        0.7933333333333333,
                                        0.8866666666666667
                                    ],
                                    "range": [
                                        -0.4,
                                        1.4
                                    ],
                                    "showticklabels": false,
                                    "title": {
                                        "text": "D1<br>dclk"
                                    }
                                },
                                "yaxis3": {
                                    "anchor": "x3",
                                    "domain": [
                                        0.6799999999999999,
                                        0.7733333333333332
                                    ],
                                    "range": [
                                        -0.4,
                                        1.4
                                    ],
                                    "showticklabels": false,
                                    "title": {
                                        "text": "D2<br>dtrig"
                                    }
                                },
                                "yaxis4": {
                                    "anchor": "x4",
                                    "domain": [
                                        0.5666666666666667,
                                        0.6599999999999999
                                    ],
                                    "range": [
                                        -0.4,
                                        1.4
                                    ],
                                    "showticklabels": false,
                                    "title": {
                                        "text": "D3<br>sdtrig"
                                    }
                                },
                                "yaxis5": {
                                    "anchor": "x5",
                                    "domain": [
                                        0.4533333333333333,
                                        0.5466666666666666
                                    ],
                                    "range": [
                                        -0.4,
                                        1.4
                                    ],
                                    "showticklabels": false,
                                    "title": {
                                        "text": "D4<br>mwA"
                                    }
                                },
                                "yaxis6": {
                                    "anchor": "x6",
                                    "domain": [
                                        0.33999999999999997,
                                        0.4333333333333333
                                    ],
                                    "range": [
                                        -0.4,
                                        1.4
                                    ],
                                    "showticklabels": false,
                                    "title": {
                                        "text": "D5<br>mwB"
                                    }
                                },
                                "yaxis7": {
                                    "anchor": "x7",
                                    "domain": [
                                        0.22666666666666666,
                                        0.31999999999999995
                                    ],
                                    "range": [
                                        -0.4,
                                        1.4
                                    ],
                                    "showticklabels": false,
                                    "title": {
                                        "text": "D6<br>rftrig"
                                    }
                                },
                                "yaxis8": {
                                    "anchor": "x8",
                                    "domain": [
                                        0.11333333333333333,
                                        0.20666666666666667
                                    ],
                                    "range": [
                                        -1.5,
                                        1.5
                                    ],
                                    "tickfont": {
                                        "size": 6
                                    },
                                    "title": {
                                        "text": "A0<br>Bz"
                                    }
                                },
                                "yaxis9": {
                                    "anchor": "x9",
                                    "domain": [
                                        0,
                                        0.09333333333333332
                                    ],
                                    "range": [
                                        -1.5,
                                        1.5
                                    ],
                                    "tickfont": {
                                        "size": 6
                                    },
                                    "title": {
                                        "text": "A1<br>Bx"
                                    }
                                }
                            }
                        }
                    },
                    "metadata": {},
                    "output_type": "display_data"
                }
            ],
            "source": [
                "dig_trig_len = 20\n",
                "divpart_pt = 2\n",
                "\n",
                "mw_dur = 16e6//4\n",
                "\n",
                "seq_laser = [(mw_dur, HIGH)]\n",
                "seq_mwA = [\n",
                "    (mw_dur, HIGH),\n",
                "    (mw_dur, LOW),\n",
                "] * divpart_pt\n",
                "\n",
                "seq_dig = [\n",
                "    (dig_trig_len, HIGH),\n",
                "    (mw_dur - dig_trig_len, LOW),\n",
                "    (dig_trig_len, LOW),\n",
                "    (dig_trig_len, HIGH),\n",
                "    (mw_dur - dig_trig_len, LOW),\n",
                "] * divpart_pt\n",
                "\n",
                "pg.setDigital(\"laser\", seq_laser)\n",
                "pg.setDigital(\"mwA\", seq_mwA)\n",
                "pg.setDigital(\"sdtrig\", seq_dig)\n",
                "pg.setTrigger(start=TriggerStart.SOFTWARE, rearm=TriggerRearm.MANUAL)\n",
                "pg.plotSeq(plot_all=False)"
            ]
        },
        {
            "cell_type": "code",
            "execution_count": 9,
            "metadata": {},
            "outputs": [],
            "source": [
                "def seqtime_tb(seq_tb):\n",
                "    return np.sum([pulse[-1] for pulse in seq_tb])\n",
                "def seqtime_cb(seq_cb):\n",
                "    return np.sum([pulse[-0] for pulse in seq_cb])"
            ]
        },
        {
            "cell_type": "code",
            "execution_count": 10,
            "metadata": {},
            "outputs": [],
            "source": [
                "## set up the data aquication with the digitizer \n",
                "# min_volt = -0.002 # [V]\n",
                "# max_volt = 0.010 # [V]\n",
                "mw_len=dur_pt/2.0/divpart_pt\n",
                "t_seq = seqtime_cb(seq_laser)\n",
                "rate_refresh = 1 # Hz rate of refreshing the data streaming\n",
                "amp_input = 1000\n",
                "readout_ch = hcf.SIDIG_chmap[\"apd\"]\n",
                "num_segment = int(2/rate_refresh*1e9/t_seq)//32*32\n",
                "\n",
                "# configures the readout to match the pulse sequence  \n",
                "pretrig_size= 256 #int((mw_len//2)*hcf.SIDIG_maxsr/1E9)//64*64 # pretrigger based on the t_wait time\n",
                "# posttrig_size=int((t_ribloc+t_ribloc_isc)*hcf.SIDIG_maxsr/1E9)//64*64 # posttrigger based on the t_laser time and t_isc\n",
                "posttrig_size=int((mw_len//2)*hcf.SIDIG_maxsr/1E9)//64*64 # posttrigger based on the t_laser time and t_isc\n",
                "\n",
                "segment_size = pretrig_size+posttrig_size \n",
                "segment_size = 2**int(np.log2(segment_size)+1) # make it power of 2\n",
                "posttrig_size = segment_size-pretrig_size # recalculate posttrigger size to ensure it is power of 2"
            ]
        },
        {
            "cell_type": "code",
            "execution_count": 11,
            "metadata": {},
            "outputs": [],
            "source": [
                "# To set the configuration, make a dictionary with the key and value\n",
                "dig.reset_param()\n",
                "dig.assign_param(dict(\n",
                "             readout_ch=readout_ch, \n",
                "             amp_input=amp_input, \n",
                "             num_segment=8,\n",
                "             pretrig_size=16,\n",
                "             posttrig_size=1048576//4-16,\n",
                "             segment_size=1048576//4,\n",
                "             terminate_input=TERMIN_INPUT_1MOHM,\n",
                "             DCCOUPLE = 0,\n",
                "             sampling_rate=hcf.SIDIG_maxsr\n",
                "            #  terminate_input=TERMIN_INPUT_50OHM,\n",
                "             ))\n"
            ]
        },
        {
            "cell_type": "code",
            "execution_count": 12,
            "metadata": {},
            "outputs": [
                {
                    "name": "stdout",
                    "output_type": "stream",
                    "text": [
                        "Card stopped\n",
                        "Card stopped\n",
                        "Card stopped\n",
                        "Card stopped\n",
                        "Card stopped\n",
                        "Card stopped\n",
                        "Card stopped\n",
                        "Card stopped\n",
                        "Card stopped\n",
                        "Card stopped\n",
                        "Card stopped\n",
                        "Card stopped\n",
                        "Card stopped\n",
                        "Card stopped\n",
                        "Card stopped\n",
                        "Card stopped\n",
                        "Card stopped\n",
                        "Card stopped\n",
                        "Card stopped\n",
                        "Card stopped\n",
                        "Card stopped\n",
                        "Card stopped\n",
                        "Card stopped\n",
                        "Card stopped\n",
                        "Card stopped\n",
                        "Card stopped\n",
                        "Card stopped\n",
                        "Card stopped\n",
                        "Card stopped\n",
                        "Card stopped\n",
                        "Card stopped\n",
                        "Card stopped\n",
                        "Card stopped\n",
                        "Card stopped\n",
                        "Card stopped\n",
                        "Card stopped\n",
                        "Card stopped\n",
                        "Card stopped\n",
                        "Card stopped\n",
                        "Card stopped\n",
                        "Card stopped\n"
                    ]
                }
            ],
            "source": [
                "pretrig_size=128\n",
                "posttrig_size=1024*1000-pretrig_size\n",
                "# freq_start = 16.45-0.25\n",
                "# freq_stop = 16.45+0.25\n",
                "B = 14.103\n",
                "f_e = 28.0249514242*B\n",
                "f_NVp1 = f_e + 2.8705\n",
                "f_NVm1 = f_e - 2.8705\n",
                "# f_NVguess = 392.8397714495659\n",
                "f_NVguess = 398.545\n",
                "freq_start = (f_NVguess-0.01)/24.0\n",
                "freq_stop = (f_NVguess+0.01)/24.0\n",
                "# check the minium step size\n",
                "freqminstep_list = mwsyn.get_min_step_size([freq_start], [freq_stop])\n",
                "step_min = freqminstep_list[0] # in Hz\n",
                "freq_step = 0.5E-3/24.0\n",
                "freq_step = int(freq_step/step_min*1E9)*step_min/1E9\n",
                "\n",
                "freq_array = np.arange(freq_start, freq_stop, freq_step)\n",
                "freq_array=freq_array\n",
                "# print(f\"Estimated time for one sweep:{(freq_stop-freq_start)/freq_step*max(10E6, dur_pt)/1E9} s\")\n",
                "freq_actual = np.zeros(len(freq_array))\n",
                "\n",
                "# Allocate arrays\n",
                "signal = np.zeros((len(freq_actual), pretrig_size + posttrig_size))\n",
                "background = np.zeros((len(freq_actual), pretrig_size + posttrig_size))\n",
                "\n",
                "# Repeat measurement\n",
                "num_repeat = 1\n",
                "signal_av = np.zeros(len(freq_actual))\n",
                "background_av = np.zeros(len(freq_actual))\n",
                "segment_list = np.zeros(len(freq_actual))\n",
                "\n",
                "laser.laser_on() # turn off laser\n",
                "\n",
                "for mmm in range(num_repeat):\n",
                "    for jj, ff in enumerate(freq_array):\n",
                "        # print(f\"Frequency: {ff} GHz\")\n",
                "        run_time = .1\n",
                "        segments = 0\n",
                "        \n",
                "        dig.assign_param(dict(\n",
                "            readout_ch=readout_ch,\n",
                "            amp_input=amp_input,\n",
                "            num_segment=8,\n",
                "            pretrig_size=pretrig_size,\n",
                "            posttrig_size=posttrig_size,\n",
                "            segment_size=pretrig_size+posttrig_size,\n",
                "            terminate_input=TERMIN_INPUT_1MOHM,\n",
                "            DCCOUPLE=0,\n",
                "            sampling_rate=hcf.SIDIG_maxsr \n",
                "        ))\n",
                "        dig.set_config()\n",
                "        errorbyte, freq_actual[jj] = mwsyn.cw_frequency(ff)\n",
                "        pg.stream(n_runs=INF)  # Example function for pulse generator (replace with actual implementation)\n",
                "        dig.start_buffer()\n",
                "        pg.startNow()\n",
                "\n",
                "        start_time = time.monotonic()\n",
                "        while time.monotonic() - start_time < run_time:\n",
                "            rawraw = dig.stream()\n",
                "            assert rawraw.shape[0] % 2 == 0\n",
                "            assert rawraw.shape[0] != 0\n",
                "\n",
                "            rawraw_on = rawraw[0::2, :, :]\n",
                "            rawraw_off = rawraw[1::2, :, :]\n",
                "            segments += np.shape(rawraw)[0] // 2\n",
                "            # print(\"hello\")\n",
                "            # signal[jj, :] += rawraw_on.reshape(-1, rawraw_on.shape[-1]).sum(axis=0)\n",
                "            # background[jj, :] += rawraw_off.reshape(-1, rawraw_off.shape[-1]).sum(axis=0)\n",
                "            # print(f\"rawraw_on.shape[0]: {rawraw_on.shape[0]}\")\n",
                "            for ii in range(0,rawraw.shape[0] // 2):\n",
                "                # print(f\"Processing segment {ii} for freq index {jj}\")\n",
                "                signal[jj,:] += np.ravel(rawraw_on[ii])\n",
                "                background[jj,:] += np.ravel(rawraw_off[ii])\n",
                "        dig.stop_card()\n",
                "        pg.forceFinal()\n",
                "        mwsyn.purge()\n",
                "\n",
                "        # pg.reset()\n",
                "        segment_list[jj] += segments\n"
            ]
        },
        {
            "cell_type": "code",
            "execution_count": 13,
            "metadata": {},
            "outputs": [],
            "source": [
                "# for i in range(len(freq_array)-1):\n",
                "#     print(freq_actual[i+1]-freq_array[i])\n"
            ]
        },
        {
            "cell_type": "code",
            "execution_count": 14,
            "metadata": {},
            "outputs": [],
            "source": [
                "# turn off laser and set diode current to zero\n",
                "laser.laser_off() \n",
                "laser.set_diode_current(0, save_memory=False)\n",
                "laser.close()\n",
                "# reset pulse generator\n",
                "pg.forceFinal()\n",
                "pg.constant(OutputState.ZERO())\n",
                "pg.reset()\n",
                "pg.reboot()\n",
                "\n",
                "# close all NI tasks\n",
                "\n",
                "task_uca.stop()\n",
                "task_uca.close()\n",
                "\n",
                "# reboot(optional) and close the MW synthesizer \n",
                "# mwsyn.reboot()\n",
                "mwsyn.close()"
            ]
        },
        {
            "cell_type": "code",
            "execution_count": null,
            "metadata": {},
            "outputs": [],
            "source": []
        },
        {
            "cell_type": "code",
            "execution_count": 15,
            "metadata": {},
            "outputs": [
                {
                    "data": {
                        "text/plain": [
                            "array([16.605625  , 16.60564583, 16.60566666, 16.6056875 , 16.60570833,\n",
                            "       16.60572916, 16.60574999, 16.60577082, 16.60579165, 16.60581249,\n",
                            "       16.60583332, 16.60585415, 16.60587498, 16.60589581, 16.60591665,\n",
                            "       16.60593748, 16.60595831, 16.60597914, 16.60599997, 16.6060208 ,\n",
                            "       16.60604164, 16.60606247, 16.6060833 , 16.60610413, 16.60612496,\n",
                            "       16.6061458 , 16.60616663, 16.60618746, 16.60620829, 16.60622912,\n",
                            "       16.60624995, 16.60627079, 16.60629162, 16.60631245, 16.60633328,\n",
                            "       16.60635411, 16.60637495, 16.60639578, 16.60641661, 16.60643744,\n",
                            "       16.60645827])"
                        ]
                    },
                    "execution_count": 15,
                    "metadata": {},
                    "output_type": "execute_result"
                }
            ],
            "source": [
                "freq_actual"
            ]
        },
        {
            "cell_type": "code",
            "execution_count": 16,
            "metadata": {},
            "outputs": [],
            "source": [
                "def avg(data):\n",
                "    return np.mean(data,axis=1)"
            ]
        },
        {
            "cell_type": "code",
            "execution_count": 17,
            "metadata": {},
            "outputs": [
                {
                    "data": {
                        "text/plain": [
                            "[<matplotlib.lines.Line2D at 0x28fb06f3220>]"
                        ]
                    },
                    "execution_count": 17,
                    "metadata": {},
                    "output_type": "execute_result"
                },
                {
                    "data": {
                        "image/png": "[encoded data removed]",
                        "text/plain": [
                            "<Figure size 640x480 with 1 Axes>"
                        ]
                    },
                    "metadata": {},
                    "output_type": "display_data"
                }
            ],
            "source": [
                "on=avg(signal)/segment_list\n",
                "off=avg(background)/segment_list\n",
                "plt.plot(freq_actual*24, (on-off)/off, marker='o')"
            ]
        },
        {
            "cell_type": "code",
            "execution_count": 18,
            "metadata": {},
            "outputs": [
                {
                    "data": {
                        "application/vnd.plotly.v1+json": {
                            "config": {
                                "plotlyServerURL": "https://plot.ly"
                            },
                            "data": [
                                {
                                    "mode": "lines",
                                    "name": "Plot",
                                    "type": "scatter",
                                    "x": [
                                        398.5349999964237,
                                        398.5354999601841,
                                        398.5359999239445,
                                        398.53649988770485,
                                        398.5369998514652,
                                        398.5374998152256,
                                        398.537999778986,
                                        398.53849974274635,
                                        398.53899970650673,
                                        398.5394996702671,
                                        398.5399996340275,
                                        398.54049959778786,
                                        398.54099956154823,
                                        398.5414995253086,
                                        398.541999489069,
                                        398.54249945282936,
                                        398.54299941658974,
                                        398.5434993803501,
                                        398.5439993441105,
                                        398.54449930787086,
                                        398.54499927163124,
                                        398.5454992353916,
                                        398.545999199152,
                                        398.54649916291237,
                                        398.54699912667274,
                                        398.5474990904331,
                                        398.5479990541935,
                                        398.5484990179539,
                                        398.54899898171425,
                                        398.5494989454746,
                                        398.549998909235,
                                        398.5504988729954,
                                        398.55099883675575,
                                        398.55149880051613,
                                        398.5519987642765,
                                        398.5524987280369,
                                        398.55299869179726,
                                        398.55349865555763,
                                        398.553998619318,
                                        398.5544985830784,
                                        398.55499854683876
                                    ],
                                    "y": [
                                        0.0467996727746939,
                                        0.049864088973146266,
                                        0.049830547097614496,
                                        0.05040510389907875,
                                        0.047375391985102884,
                                        0.049359118613284146,
                                        0.048267645770402184,
                                        0.04795655069212112,
                                        0.04742869526418618,
                                        0.050093113023221544,
                                        0.04302674833767875,
                                        0.03410422222935463,
                                        0.0380832559521081,
                                        0.03474147162485533,
                                        0.026286763513475857,
                                        0.018731511956241134,
                                        0.006802131763322151,
                                        0.00833971553985115,
                                        -0.006372945198724411,
                                        -0.02518480827943857,
                                        -0.042258092879749624,
                                        -0.05755105034290747,
                                        -0.02650325771569448,
                                        -0.02545519010399573,
                                        -0.04065000029499953,
                                        -0.014724903715241532,
                                        -0.021502524316372985,
                                        -0.020775598190801426,
                                        -0.013051718470423567,
                                        0.005331077878321912,
                                        0.007515114416693803,
                                        0.005869842078020757,
                                        0.027129062376840058,
                                        0.03449312846456249,
                                        0.040129493625361994,
                                        0.042760606146003584,
                                        0.0446086729905068,
                                        0.04751399604546324,
                                        0.046725041225115276,
                                        0.048087168095989466,
                                        0.05080934991067142
                                    ]
                                }
                            ],
                            "layout": {
                                "template": {
                                    "data": {
                                        "bar": [
                                            {
                                                "error_x": {
                                                    "color": "#f2f5fa"
                                                },
                                                "error_y": {
                                                    "color": "#f2f5fa"
                                                },
                                                "marker": {
                                                    "line": {
                                                        "color": "rgb(17,17,17)",
                                                        "width": 0.5
                                                    },
                                                    "pattern": {
                                                        "fillmode": "overlay",
                                                        "size": 10,
                                                        "solidity": 0.2
                                                    }
                                                },
                                                "type": "bar"
                                            }
                                        ],
                                        "barpolar": [
                                            {
                                                "marker": {
                                                    "line": {
                                                        "color": "rgb(17,17,17)",
                                                        "width": 0.5
                                                    },
                                                    "pattern": {
                                                        "fillmode": "overlay",
                                                        "size": 10,
                                                        "solidity": 0.2
                                                    }
                                                },
                                                "type": "barpolar"
                                            }
                                        ],
                                        "carpet": [
                                            {
                                                "aaxis": {
                                                    "endlinecolor": "#A2B1C6",
                                                    "gridcolor": "#506784",
                                                    "linecolor": "#506784",
                                                    "minorgridcolor": "#506784",
                                                    "startlinecolor": "#A2B1C6"
                                                },
                                                "baxis": {
                                                    "endlinecolor": "#A2B1C6",
                                                    "gridcolor": "#506784",
                                                    "linecolor": "#506784",
                                                    "minorgridcolor": "#506784",
                                                    "startlinecolor": "#A2B1C6"
                                                },
                                                "type": "carpet"
                                            }
                                        ],
                                        "choropleth": [
                                            {
                                                "colorbar": {
                                                    "outlinewidth": 0,
                                                    "ticks": ""
                                                },
                                                "type": "choropleth"
                                            }
                                        ],
                                        "contour": [
                                            {
                                                "colorbar": {
                                                    "outlinewidth": 0,
                                                    "ticks": ""
                                                },
                                                "colorscale": [
                                                    [
                                                        0,
                                                        "#0d0887"
                                                    ],
                                                    [
                                                        0.1111111111111111,
                                                        "#46039f"
                                                    ],
                                                    [
                                                        0.2222222222222222,
                                                        "#7201a8"
                                                    ],
                                                    [
                                                        0.3333333333333333,
                                                        "#9c179e"
                                                    ],
                                                    [
                                                        0.4444444444444444,
                                                        "#bd3786"
                                                    ],
                                                    [
                                                        0.5555555555555556,
                                                        "#d8576b"
                                                    ],
                                                    [
                                                        0.6666666666666666,
                                                        "#ed7953"
                                                    ],
                                                    [
                                                        0.7777777777777778,
                                                        "#fb9f3a"
                                                    ],
                                                    [
                                                        0.8888888888888888,
                                                        "#fdca26"
                                                    ],
                                                    [
                                                        1,
                                                        "#f0f921"
                                                    ]
                                                ],
                                                "type": "contour"
                                            }
                                        ],
                                        "contourcarpet": [
                                            {
                                                "colorbar": {
                                                    "outlinewidth": 0,
                                                    "ticks": ""
                                                },
                                                "type": "contourcarpet"
                                            }
                                        ],
                                        "heatmap": [
                                            {
                                                "colorbar": {
                                                    "outlinewidth": 0,
                                                    "ticks": ""
                                                },
                                                "colorscale": [
                                                    [
                                                        0,
                                                        "#0d0887"
                                                    ],
                                                    [
                                                        0.1111111111111111,
                                                        "#46039f"
                                                    ],
                                                    [
                                                        0.2222222222222222,
                                                        "#7201a8"
                                                    ],
                                                    [
                                                        0.3333333333333333,
                                                        "#9c179e"
                                                    ],
                                                    [
                                                        0.4444444444444444,
                                                        "#bd3786"
                                                    ],
                                                    [
                                                        0.5555555555555556,
                                                        "#d8576b"
                                                    ],
                                                    [
                                                        0.6666666666666666,
                                                        "#ed7953"
                                                    ],
                                                    [
                                                        0.7777777777777778,
                                                        "#fb9f3a"
                                                    ],
                                                    [
                                                        0.8888888888888888,
                                                        "#fdca26"
                                                    ],
                                                    [
                                                        1,
                                                        "#f0f921"
                                                    ]
                                                ],
                                                "type": "heatmap"
                                            }
                                        ],
                                        "heatmapgl": [
                                            {
                                                "colorbar": {
                                                    "outlinewidth": 0,
                                                    "ticks": ""
                                                },
                                                "colorscale": [
                                                    [
                                                        0,
                                                        "#0d0887"
                                                    ],
                                                    [
                                                        0.1111111111111111,
                                                        "#46039f"
                                                    ],
                                                    [
                                                        0.2222222222222222,
                                                        "#7201a8"
                                                    ],
                                                    [
                                                        0.3333333333333333,
                                                        "#9c179e"
                                                    ],
                                                    [
                                                        0.4444444444444444,
                                                        "#bd3786"
                                                    ],
                                                    [
                                                        0.5555555555555556,
                                                        "#d8576b"
                                                    ],
                                                    [
                                                        0.6666666666666666,
                                                        "#ed7953"
                                                    ],
                                                    [
                                                        0.7777777777777778,
                                                        "#fb9f3a"
                                                    ],
                                                    [
                                                        0.8888888888888888,
                                                        "#fdca26"
                                                    ],
                                                    [
                                                        1,
                                                        "#f0f921"
                                                    ]
                                                ],
                                                "type": "heatmapgl"
                                            }
                                        ],
                                        "histogram": [
                                            {
                                                "marker": {
                                                    "pattern": {
                                                        "fillmode": "overlay",
                                                        "size": 10,
                                                        "solidity": 0.2
                                                    }
                                                },
                                                "type": "histogram"
                                            }
                                        ],
                                        "histogram2d": [
                                            {
                                                "colorbar": {
                                                    "outlinewidth": 0,
                                                    "ticks": ""
                                                },
                                                "colorscale": [
                                                    [
                                                        0,
                                                        "#0d0887"
                                                    ],
                                                    [
                                                        0.1111111111111111,
                                                        "#46039f"
                                                    ],
                                                    [
                                                        0.2222222222222222,
                                                        "#7201a8"
                                                    ],
                                                    [
                                                        0.3333333333333333,
                                                        "#9c179e"
                                                    ],
                                                    [
                                                        0.4444444444444444,
                                                        "#bd3786"
                                                    ],
                                                    [
                                                        0.5555555555555556,
                                                        "#d8576b"
                                                    ],
                                                    [
                                                        0.6666666666666666,
                                                        "#ed7953"
                                                    ],
                                                    [
                                                        0.7777777777777778,
                                                        "#fb9f3a"
                                                    ],
                                                    [
                                                        0.8888888888888888,
                                                        "#fdca26"
                                                    ],
                                                    [
                                                        1,
                                                        "#f0f921"
                                                    ]
                                                ],
                                                "type": "histogram2d"
                                            }
                                        ],
                                        "histogram2dcontour": [
                                            {
                                                "colorbar": {
                                                    "outlinewidth": 0,
                                                    "ticks": ""
                                                },
                                                "colorscale": [
                                                    [
                                                        0,
                                                        "#0d0887"
                                                    ],
                                                    [
                                                        0.1111111111111111,
                                                        "#46039f"
                                                    ],
                                                    [
                                                        0.2222222222222222,
                                                        "#7201a8"
                                                    ],
                                                    [
                                                        0.3333333333333333,
                                                        "#9c179e"
                                                    ],
                                                    [
                                                        0.4444444444444444,
                                                        "#bd3786"
                                                    ],
                                                    [
                                                        0.5555555555555556,
                                                        "#d8576b"
                                                    ],
                                                    [
                                                        0.6666666666666666,
                                                        "#ed7953"
                                                    ],
                                                    [
                                                        0.7777777777777778,
                                                        "#fb9f3a"
                                                    ],
                                                    [
                                                        0.8888888888888888,
                                                        "#fdca26"
                                                    ],
                                                    [
                                                        1,
                                                        "#f0f921"
                                                    ]
                                                ],
                                                "type": "histogram2dcontour"
                                            }
                                        ],
                                        "mesh3d": [
                                            {
                                                "colorbar": {
                                                    "outlinewidth": 0,
                                                    "ticks": ""
                                                },
                                                "type": "mesh3d"
                                            }
                                        ],
                                        "parcoords": [
                                            {
                                                "line": {
                                                    "colorbar": {
                                                        "outlinewidth": 0,
                                                        "ticks": ""
                                                    }
                                                },
                                                "type": "parcoords"
                                            }
                                        ],
                                        "pie": [
                                            {
                                                "automargin": true,
                                                "type": "pie"
                                            }
                                        ],
                                        "scatter": [
                                            {
                                                "marker": {
                                                    "line": {
                                                        "color": "#283442"
                                                    }
                                                },
                                                "type": "scatter"
                                            }
                                        ],
                                        "scatter3d": [
                                            {
                                                "line": {
                                                    "colorbar": {
                                                        "outlinewidth": 0,
                                                        "ticks": ""
                                                    }
                                                },
                                                "marker": {
                                                    "colorbar": {
                                                        "outlinewidth": 0,
                                                        "ticks": ""
                                                    }
                                                },
                                                "type": "scatter3d"
                                            }
                                        ],
                                        "scattercarpet": [
                                            {
                                                "marker": {
                                                    "colorbar": {
                                                        "outlinewidth": 0,
                                                        "ticks": ""
                                                    }
                                                },
                                                "type": "scattercarpet"
                                            }
                                        ],
                                        "scattergeo": [
                                            {
                                                "marker": {
                                                    "colorbar": {
                                                        "outlinewidth": 0,
                                                        "ticks": ""
                                                    }
                                                },
                                                "type": "scattergeo"
                                            }
                                        ],
                                        "scattergl": [
                                            {
                                                "marker": {
                                                    "line": {
                                                        "color": "#283442"
                                                    }
                                                },
                                                "type": "scattergl"
                                            }
                                        ],
                                        "scattermapbox": [
                                            {
                                                "marker": {
                                                    "colorbar": {
                                                        "outlinewidth": 0,
                                                        "ticks": ""
                                                    }
                                                },
                                                "type": "scattermapbox"
                                            }
                                        ],
                                        "scatterpolar": [
                                            {
                                                "marker": {
                                                    "colorbar": {
                                                        "outlinewidth": 0,
                                                        "ticks": ""
                                                    }
                                                },
                                                "type": "scatterpolar"
                                            }
                                        ],
                                        "scatterpolargl": [
                                            {
                                                "marker": {
                                                    "colorbar": {
                                                        "outlinewidth": 0,
                                                        "ticks": ""
                                                    }
                                                },
                                                "type": "scatterpolargl"
                                            }
                                        ],
                                        "scatterternary": [
                                            {
                                                "marker": {
                                                    "colorbar": {
                                                        "outlinewidth": 0,
                                                        "ticks": ""
                                                    }
                                                },
                                                "type": "scatterternary"
                                            }
                                        ],
                                        "surface": [
                                            {
                                                "colorbar": {
                                                    "outlinewidth": 0,
                                                    "ticks": ""
                                                },
                                                "colorscale": [
                                                    [
                                                        0,
                                                        "#0d0887"
                                                    ],
                                                    [
                                                        0.1111111111111111,
                                                        "#46039f"
                                                    ],
                                                    [
                                                        0.2222222222222222,
                                                        "#7201a8"
                                                    ],
                                                    [
                                                        0.3333333333333333,
                                                        "#9c179e"
                                                    ],
                                                    [
                                                        0.4444444444444444,
                                                        "#bd3786"
                                                    ],
                                                    [
                                                        0.5555555555555556,
                                                        "#d8576b"
                                                    ],
                                                    [
                                                        0.6666666666666666,
                                                        "#ed7953"
                                                    ],
                                                    [
                                                        0.7777777777777778,
                                                        "#fb9f3a"
                                                    ],
                                                    [
                                                        0.8888888888888888,
                                                        "#fdca26"
                                                    ],
                                                    [
                                                        1,
                                                        "#f0f921"
                                                    ]
                                                ],
                                                "type": "surface"
                                            }
                                        ],
                                        "table": [
                                            {
                                                "cells": {
                                                    "fill": {
                                                        "color": "#506784"
                                                    },
                                                    "line": {
                                                        "color": "rgb(17,17,17)"
                                                    }
                                                },
                                                "header": {
                                                    "fill": {
                                                        "color": "#2a3f5f"
                                                    },
                                                    "line": {
                                                        "color": "rgb(17,17,17)"
                                                    }
                                                },
                                                "type": "table"
                                            }
                                        ]
                                    },
                                    "layout": {
                                        "annotationdefaults": {
                                            "arrowcolor": "#f2f5fa",
                                            "arrowhead": 0,
                                            "arrowwidth": 1
                                        },
                                        "autotypenumbers": "strict",
                                        "coloraxis": {
                                            "colorbar": {
                                                "outlinewidth": 0,
                                                "ticks": ""
                                            }
                                        },
                                        "colorscale": {
                                            "diverging": [
                                                [
                                                    0,
                                                    "#8e0152"
                                                ],
                                                [
                                                    0.1,
                                                    "#c51b7d"
                                                ],
                                                [
                                                    0.2,
                                                    "#de77ae"
                                                ],
                                                [
                                                    0.3,
                                                    "#f1b6da"
                                                ],
                                                [
                                                    0.4,
                                                    "#fde0ef"
                                                ],
                                                [
                                                    0.5,
                                                    "#f7f7f7"
                                                ],
                                                [
                                                    0.6,
                                                    "#e6f5d0"
                                                ],
                                                [
                                                    0.7,
                                                    "#b8e186"
                                                ],
                                                [
                                                    0.8,
                                                    "#7fbc41"
                                                ],
                                                [
                                                    0.9,
                                                    "#4d9221"
                                                ],
                                                [
                                                    1,
                                                    "#276419"
                                                ]
                                            ],
                                            "sequential": [
                                                [
                                                    0,
                                                    "#0d0887"
                                                ],
                                                [
                                                    0.1111111111111111,
                                                    "#46039f"
                                                ],
                                                [
                                                    0.2222222222222222,
                                                    "#7201a8"
                                                ],
                                                [
                                                    0.3333333333333333,
                                                    "#9c179e"
                                                ],
                                                [
                                                    0.4444444444444444,
                                                    "#bd3786"
                                                ],
                                                [
                                                    0.5555555555555556,
                                                    "#d8576b"
                                                ],
                                                [
                                                    0.6666666666666666,
                                                    "#ed7953"
                                                ],
                                                [
                                                    0.7777777777777778,
                                                    "#fb9f3a"
                                                ],
                                                [
                                                    0.8888888888888888,
                                                    "#fdca26"
                                                ],
                                                [
                                                    1,
                                                    "#f0f921"
                                                ]
                                            ],
                                            "sequentialminus": [
                                                [
                                                    0,
                                                    "#0d0887"
                                                ],
                                                [
                                                    0.1111111111111111,
                                                    "#46039f"
                                                ],
                                                [
                                                    0.2222222222222222,
                                                    "#7201a8"
                                                ],
                                                [
                                                    0.3333333333333333,
                                                    "#9c179e"
                                                ],
                                                [
                                                    0.4444444444444444,
                                                    "#bd3786"
                                                ],
                                                [
                                                    0.5555555555555556,
                                                    "#d8576b"
                                                ],
                                                [
                                                    0.6666666666666666,
                                                    "#ed7953"
                                                ],
                                                [
                                                    0.7777777777777778,
                                                    "#fb9f3a"
                                                ],
                                                [
                                                    0.8888888888888888,
                                                    "#fdca26"
                                                ],
                                                [
                                                    1,
                                                    "#f0f921"
                                                ]
                                            ]
                                        },
                                        "colorway": [
                                            "#636efa",
                                            "#EF553B",
                                            "#00cc96",
                                            "#ab63fa",
                                            "#FFA15A",
                                            "#19d3f3",
                                            "#FF6692",
                                            "#B6E880",
                                            "#FF97FF",
                                            "#FECB52"
                                        ],
                                        "font": {
                                            "color": "#f2f5fa"
                                        },
                                        "geo": {
                                            "bgcolor": "rgb(17,17,17)",
                                            "lakecolor": "rgb(17,17,17)",
                                            "landcolor": "rgb(17,17,17)",
                                            "showlakes": true,
                                            "showland": true,
                                            "subunitcolor": "#506784"
                                        },
                                        "hoverlabel": {
                                            "align": "left"
                                        },
                                        "hovermode": "closest",
                                        "mapbox": {
                                            "style": "dark"
                                        },
                                        "paper_bgcolor": "rgb(17,17,17)",
                                        "plot_bgcolor": "rgb(17,17,17)",
                                        "polar": {
                                            "angularaxis": {
                                                "gridcolor": "#506784",
                                                "linecolor": "#506784",
                                                "ticks": ""
                                            },
                                            "bgcolor": "rgb(17,17,17)",
                                            "radialaxis": {
                                                "gridcolor": "#506784",
                                                "linecolor": "#506784",
                                                "ticks": ""
                                            }
                                        },
                                        "scene": {
                                            "xaxis": {
                                                "backgroundcolor": "rgb(17,17,17)",
                                                "gridcolor": "#506784",
                                                "gridwidth": 2,
                                                "linecolor": "#506784",
                                                "showbackground": true,
                                                "ticks": "",
                                                "zerolinecolor": "#C8D4E3"
                                            },
                                            "yaxis": {
                                                "backgroundcolor": "rgb(17,17,17)",
                                                "gridcolor": "#506784",
                                                "gridwidth": 2,
                                                "linecolor": "#506784",
                                                "showbackground": true,
                                                "ticks": "",
                                                "zerolinecolor": "#C8D4E3"
                                            },
                                            "zaxis": {
                                                "backgroundcolor": "rgb(17,17,17)",
                                                "gridcolor": "#506784",
                                                "gridwidth": 2,
                                                "linecolor": "#506784",
                                                "showbackground": true,
                                                "ticks": "",
                                                "zerolinecolor": "#C8D4E3"
                                            }
                                        },
                                        "shapedefaults": {
                                            "line": {
                                                "color": "#f2f5fa"
                                            }
                                        },
                                        "sliderdefaults": {
                                            "bgcolor": "#C8D4E3",
                                            "bordercolor": "rgb(17,17,17)",
                                            "borderwidth": 1,
                                            "tickwidth": 0
                                        },
                                        "ternary": {
                                            "aaxis": {
                                                "gridcolor": "#506784",
                                                "linecolor": "#506784",
                                                "ticks": ""
                                            },
                                            "baxis": {
                                                "gridcolor": "#506784",
                                                "linecolor": "#506784",
                                                "ticks": ""
                                            },
                                            "bgcolor": "rgb(17,17,17)",
                                            "caxis": {
                                                "gridcolor": "#506784",
                                                "linecolor": "#506784",
                                                "ticks": ""
                                            }
                                        },
                                        "title": {
                                            "x": 0.05
                                        },
                                        "updatemenudefaults": {
                                            "bgcolor": "#506784",
                                            "borderwidth": 0
                                        },
                                        "xaxis": {
                                            "automargin": true,
                                            "gridcolor": "#283442",
                                            "linecolor": "#506784",
                                            "ticks": "",
                                            "title": {
                                                "standoff": 15
                                            },
                                            "zerolinecolor": "#283442",
                                            "zerolinewidth": 2
                                        },
                                        "yaxis": {
                                            "automargin": true,
                                            "gridcolor": "#283442",
                                            "linecolor": "#506784",
                                            "ticks": "",
                                            "title": {
                                                "standoff": 15
                                            },
                                            "zerolinecolor": "#283442",
                                            "zerolinewidth": 2
                                        }
                                    }
                                },
                                "title": {
                                    "text": "Plotly Plot"
                                },
                                "xaxis": {
                                    "title": {
                                        "text": "Frequency (Adjusted)"
                                    }
                                },
                                "yaxis": {
                                    "title": {
                                        "text": "Normalized Difference"
                                    }
                                }
                            }
                        }
                    },
                    "metadata": {},
                    "output_type": "display_data"
                }
            ],
            "source": [
                "import plotly.graph_objects as go\n",
                "\n",
                "# Assuming freq_actual, on, and off are defined arrays\n",
                "trace = go.Scatter(\n",
                "    x=freq_actual * 24,  # Multiply frequency by 24 for x-axis\n",
                "    y=(on - off) / off,  # Compute y-axis values\n",
                "    mode='lines',  # Line plot\n",
                "    name='Plot'\n",
                ")\n",
                "\n",
                "# Create the figure\n",
                "fig = go.Figure(trace)\n",
                "\n",
                "# Customize layout (optional)\n",
                "fig.update_layout(\n",
                "    title=\"Plotly Plot\",\n",
                "    xaxis_title=\"Frequency (Adjusted)\",\n",
                "    yaxis_title=\"Normalized Difference\",\n",
                "    template=\"plotly_dark\"\n",
                ")\n",
                "\n",
                "# Show the figure\n",
                "fig.show()\n"
            ]
        },
        {
            "cell_type": "code",
            "execution_count": 19,
            "metadata": {},
            "outputs": [],
            "source": [
                "def model_gaussian(freq, A, f0, sigma, C):\n",
                "    \"\"\"\n",
                "    Gaussian model with a flat background.\n",
                "    :param freq: Frequency array\n",
                "    :param A: Amplitude of the Gaussian (can be positive or negative)\n",
                "    :param f0: Center frequency\n",
                "    :param sigma: Standard deviation (related to width)\n",
                "    :param C: Flat background offset\n",
                "    \"\"\"\n",
                "    return A * np.exp(-0.5 * ((freq - f0) / sigma) ** 2) + C"
            ]
        },
        {
            "cell_type": "code",
            "execution_count": 20,
            "metadata": {},
            "outputs": [],
            "source": [
                "from scipy.optimize import curve_fit\n"
            ]
        },
        {
            "cell_type": "code",
            "execution_count": 21,
            "metadata": {},
            "outputs": [],
            "source": [
                "def estimator_gaussian(freq, sig):\n",
                "    \"\"\"\n",
                "    Estimate initial parameters for the Gaussian model.\n",
                "    :param freq: Frequency array\n",
                "    :param sig: Signal array\n",
                "    :return: Initial guesses for A, f0, sigma, and C\n",
                "    \"\"\"\n",
                "    # Estimate flat background (C) as the median of the signal\n",
                "    C = np.median(sig)\n",
                "\n",
                "    # Estimate amplitude (A) as the difference between the max and min signal\n",
                "    A = np.max(sig) - np.min(sig)\n",
                "\n",
                "    # Estimate center frequency (f0) as the frequency corresponding to the maximum absolute deviation\n",
                "    f0 = freq[np.argmax(np.abs(sig - C))]\n",
                "\n",
                "    # Estimate sigma as the range where the signal drops to ~37% (1/e) of the peak\n",
                "    peak_index = np.argmax(np.abs(sig - C))\n",
                "    half_max = np.abs(A) / np.exp(1)\n",
                "    near_peak = np.abs(sig - C) > half_max\n",
                "    if np.sum(near_peak) > 1:\n",
                "        sigma = (freq[near_peak][-1] - freq[near_peak][0]) / (\n",
                "            2 * np.sqrt(2 * np.log(2))\n",
                "        )  # Convert sigma to sigma\n",
                "    else:\n",
                "        sigma = (freq[-1] - freq[0]) / 10  # Default guess for sigma\n",
                "\n",
                "    return [A, f0, np.abs(sigma), C]\n"
            ]
        },
        {
            "cell_type": "code",
            "execution_count": 22,
            "metadata": {},
            "outputs": [],
            "source": [
                "initial_guess=estimator_gaussian(freq_actual*24, (on-off)/off-np.max((on-off)/off))"
            ]
        },
        {
            "cell_type": "code",
            "execution_count": 23,
            "metadata": {},
            "outputs": [],
            "source": [
                "y_values = (on - off) / off - np.max((on - off) / off)\n",
                "mask = np.isfinite(y_values) & np.isfinite(freq_actual * 24)\n",
                "params, covariance = curve_fit(model_gaussian, (freq_actual*24)[mask], y_values[mask], p0=initial_guess)\n"
            ]
        },
        {
            "cell_type": "code",
            "execution_count": 24,
            "metadata": {},
            "outputs": [
                {
                    "data": {
                        "text/plain": [
                            "[<matplotlib.lines.Line2D at 0x28fde483f70>]"
                        ]
                    },
                    "execution_count": 24,
                    "metadata": {},
                    "output_type": "execute_result"
                },
                {
                    "data": {
                        "image/png": "[encoded data removed]",
                        "text/plain": [
                            "<Figure size 640x480 with 1 Axes>"
                        ]
                    },
                    "metadata": {},
                    "output_type": "display_data"
                }
            ],
            "source": [
                "# plt.plot(on)\n",
                "# plt.plot(off)\n",
                "plt.plot((on-off)/off-np.max((on-off)/off))"
            ]
        },
        {
            "cell_type": "code",
            "execution_count": 25,
            "metadata": {},
            "outputs": [
                {
                    "data": {
                        "application/vnd.plotly.v1+json": {
                            "config": {
                                "plotlyServerURL": "https://plot.ly"
                            },
                            "data": [
                                {
                                    "marker": {
                                        "color": "blue",
                                        "size": 6
                                    },
                                    "mode": "markers",
                                    "name": "Data",
                                    "type": "scatter",
                                    "x": [
                                        398.5349999964237,
                                        398.5354999601841,
                                        398.5359999239445,
                                        398.53649988770485,
                                        398.5369998514652,
                                        398.5374998152256,
                                        398.537999778986,
                                        398.53849974274635,
                                        398.53899970650673,
                                        398.5394996702671,
                                        398.5399996340275,
                                        398.54049959778786,
                                        398.54099956154823,
                                        398.5414995253086,
                                        398.541999489069,
                                        398.54249945282936,
                                        398.54299941658974,
                                        398.5434993803501,
                                        398.5439993441105,
                                        398.54449930787086,
                                        398.54499927163124,
                                        398.5454992353916,
                                        398.545999199152,
                                        398.54649916291237,
                                        398.54699912667274,
                                        398.5474990904331,
                                        398.5479990541935,
                                        398.5484990179539,
                                        398.54899898171425,
                                        398.5494989454746,
                                        398.549998909235,
                                        398.5504988729954,
                                        398.55099883675575,
                                        398.55149880051613,
                                        398.5519987642765,
                                        398.5524987280369,
                                        398.55299869179726,
                                        398.55349865555763,
                                        398.553998619318,
                                        398.5544985830784,
                                        398.55499854683876
                                    ],
                                    "y": [
                                        -0.004009677135977517,
                                        -0.0009452609375251511,
                                        -0.0009788028130569212,
                                        -0.00040424601159266826,
                                        -0.003433957925568533,
                                        -0.0014502312973872708,
                                        -0.0025417041402692325,
                                        -0.002852799218550299,
                                        -0.003380654646485237,
                                        -0.0007162368874498726,
                                        -0.007782601572992667,
                                        -0.016705127681316788,
                                        -0.01272609395856332,
                                        -0.016067878285816087,
                                        -0.02452258639719556,
                                        -0.03207783795443028,
                                        -0.044007218147349265,
                                        -0.04246963437082027,
                                        -0.05718229510939583,
                                        -0.07599415819010999,
                                        -0.09306744279042103,
                                        -0.10836040025357889,
                                        -0.0773126076263659,
                                        -0.07626454001466715,
                                        -0.09145935020567095,
                                        -0.06553425362591295,
                                        -0.07231187422704441,
                                        -0.07158494810147284,
                                        -0.06386106838109498,
                                        -0.045478272032349505,
                                        -0.043294235493977616,
                                        -0.04493950783265066,
                                        -0.02368028753383136,
                                        -0.016316221446108926,
                                        -0.010679856285309423,
                                        -0.008048743764667833,
                                        -0.00620067692016462,
                                        -0.003295353865208177,
                                        -0.004084308685556141,
                                        -0.002722181814681951,
                                        0
                                    ]
                                },
                                {
                                    "line": {
                                        "color": "red",
                                        "width": 2
                                    },
                                    "mode": "lines",
                                    "name": "Fitted Gaussian",
                                    "type": "scatter",
                                    "x": [
                                        398.5349999964237,
                                        398.53506688120774,
                                        398.5351337659917,
                                        398.5352006507757,
                                        398.5352675355597,
                                        398.5353344203437,
                                        398.5354013051277,
                                        398.5354681899117,
                                        398.5355350746957,
                                        398.5356019594797,
                                        398.5356688442637,
                                        398.5357357290477,
                                        398.53580261383166,
                                        398.5358694986157,
                                        398.5359363833997,
                                        398.53600326818366,
                                        398.5360701529677,
                                        398.53613703775164,
                                        398.53620392253566,
                                        398.5362708073197,
                                        398.53633769210364,
                                        398.53640457688766,
                                        398.5364714616716,
                                        398.53653834645564,
                                        398.53660523123966,
                                        398.5366721160236,
                                        398.53673900080764,
                                        398.53680588559166,
                                        398.5368727703756,
                                        398.53693965515964,
                                        398.5370065399436,
                                        398.5370734247276,
                                        398.53714030951164,
                                        398.5372071942956,
                                        398.5372740790796,
                                        398.5373409638636,
                                        398.5374078486476,
                                        398.5374747334316,
                                        398.5375416182156,
                                        398.5376085029996,
                                        398.53767538778357,
                                        398.5377422725676,
                                        398.5378091573516,
                                        398.53787604213557,
                                        398.5379429269196,
                                        398.5380098117036,
                                        398.53807669648756,
                                        398.5381435812716,
                                        398.53821046605555,
                                        398.53827735083956,
                                        398.5383442356236,
                                        398.53841112040755,
                                        398.53847800519156,
                                        398.5385448899755,
                                        398.53861177475954,
                                        398.53867865954356,
                                        398.5387455443275,
                                        398.53881242911154,
                                        398.5388793138955,
                                        398.5389461986795,
                                        398.53901308346354,
                                        398.5390799682475,
                                        398.5391468530315,
                                        398.53921373781554,
                                        398.5392806225995,
                                        398.5393475073835,
                                        398.5394143921675,
                                        398.5394812769515,
                                        398.5395481617355,
                                        398.5396150465195,
                                        398.5396819313035,
                                        398.53974881608747,
                                        398.5398157008715,
                                        398.5398825856555,
                                        398.53994947043947,
                                        398.5400163552235,
                                        398.5400832400075,
                                        398.54015012479147,
                                        398.5402170095755,
                                        398.54028389435945,
                                        398.54035077914347,
                                        398.5404176639275,
                                        398.54048454871145,
                                        398.54055143349547,
                                        398.5406183182794,
                                        398.54068520306345,
                                        398.54075208784747,
                                        398.5408189726314,
                                        398.54088585741545,
                                        398.5409527421994,
                                        398.5410196269834,
                                        398.54108651176745,
                                        398.5411533965514,
                                        398.5412202813354,
                                        398.54128716611945,
                                        398.5413540509034,
                                        398.5414209356874,
                                        398.5414878204714,
                                        398.5415547052554,
                                        398.5416215900394,
                                        398.5416884748234,
                                        398.5417553596074,
                                        398.54182224439137,
                                        398.5418891291754,
                                        398.5419560139594,
                                        398.54202289874337,
                                        398.5420897835274,
                                        398.54215666831135,
                                        398.54222355309537,
                                        398.5422904378794,
                                        398.54235732266335,
                                        398.54242420744737,
                                        398.5424910922314,
                                        398.54255797701535,
                                        398.54262486179937,
                                        398.54269174658333,
                                        398.54275863136735,
                                        398.54282551615137,
                                        398.54289240093533,
                                        398.54295928571935,
                                        398.5430261705033,
                                        398.54309305528733,
                                        398.54315994007135,
                                        398.5432268248553,
                                        398.54329370963933,
                                        398.54336059442335,
                                        398.5434274792073,
                                        398.54349436399133,
                                        398.5435612487753,
                                        398.5436281335593,
                                        398.5436950183433,
                                        398.5437619031273,
                                        398.5438287879113,
                                        398.54389567269527,
                                        398.5439625574793,
                                        398.5440294422633,
                                        398.54409632704727,
                                        398.5441632118313,
                                        398.54423009661525,
                                        398.54429698139927,
                                        398.5443638661833,
                                        398.54443075096725,
                                        398.54449763575127,
                                        398.5445645205353,
                                        398.54463140531925,
                                        398.54469829010327,
                                        398.54476517488723,
                                        398.54483205967125,
                                        398.54489894445527,
                                        398.54496582923923,
                                        398.54503271402325,
                                        398.5450995988072,
                                        398.54516648359123,
                                        398.54523336837525,
                                        398.5453002531592,
                                        398.54536713794323,
                                        398.5454340227272,
                                        398.5455009075112,
                                        398.54556779229523,
                                        398.5456346770792,
                                        398.5457015618632,
                                        398.54576844664723,
                                        398.5458353314312,
                                        398.5459022162152,
                                        398.5459691009992,
                                        398.5460359857832,
                                        398.5461028705672,
                                        398.5461697553512,
                                        398.5462366401352,
                                        398.54630352491915,
                                        398.5463704097032,
                                        398.5464372944872,
                                        398.54650417927115,
                                        398.5465710640552,
                                        398.54663794883913,
                                        398.54670483362315,
                                        398.5467717184072,
                                        398.54683860319113,
                                        398.54690548797515,
                                        398.54697237275917,
                                        398.54703925754313,
                                        398.54710614232715,
                                        398.5471730271111,
                                        398.54723991189513,
                                        398.54730679667915,
                                        398.5473736814631,
                                        398.54744056624713,
                                        398.5475074510311,
                                        398.5475743358151,
                                        398.54764122059913,
                                        398.5477081053831,
                                        398.5477749901671,
                                        398.54784187495113,
                                        398.5479087597351,
                                        398.5479756445191,
                                        398.5480425293031,
                                        398.5481094140871,
                                        398.5481762988711,
                                        398.5482431836551,
                                        398.5483100684391,
                                        398.54837695322306,
                                        398.5484438380071,
                                        398.5485107227911,
                                        398.54857760757506,
                                        398.5486444923591,
                                        398.54871137714304,
                                        398.54877826192705,
                                        398.5488451467111,
                                        398.54891203149504,
                                        398.54897891627905,
                                        398.5490458010631,
                                        398.54911268584704,
                                        398.54917957063105,
                                        398.549246455415,
                                        398.54931334019903,
                                        398.54938022498305,
                                        398.549447109767,
                                        398.54951399455103,
                                        398.549580879335,
                                        398.549647764119,
                                        398.54971464890303,
                                        398.549781533687,
                                        398.549848418471,
                                        398.549915303255,
                                        398.549982188039,
                                        398.550049072823,
                                        398.550115957607,
                                        398.550182842391,
                                        398.550249727175,
                                        398.550316611959,
                                        398.550383496743,
                                        398.55045038152696,
                                        398.550517266311,
                                        398.550584151095,
                                        398.55065103587896,
                                        398.550717920663,
                                        398.55078480544694,
                                        398.55085169023096,
                                        398.550918575015,
                                        398.55098545979894,
                                        398.55105234458296,
                                        398.551119229367,
                                        398.55118611415094,
                                        398.55125299893496,
                                        398.5513198837189,
                                        398.55138676850294,
                                        398.55145365328696,
                                        398.5515205380709,
                                        398.55158742285494,
                                        398.5516543076389,
                                        398.5517211924229,
                                        398.55178807720694,
                                        398.5518549619909,
                                        398.5519218467749,
                                        398.5519887315589,
                                        398.5520556163429,
                                        398.5521225011269,
                                        398.5521893859109,
                                        398.5522562706949,
                                        398.5523231554789,
                                        398.5523900402629,
                                        398.5524569250469,
                                        398.55252380983086,
                                        398.5525906946149,
                                        398.5526575793989,
                                        398.55272446418286,
                                        398.5527913489669,
                                        398.55285823375084,
                                        398.55292511853486,
                                        398.5529920033189,
                                        398.55305888810284,
                                        398.55312577288686,
                                        398.5531926576708,
                                        398.55325954245484,
                                        398.55332642723886,
                                        398.5533933120228,
                                        398.55346019680684,
                                        398.55352708159086,
                                        398.5535939663748,
                                        398.55366085115884,
                                        398.5537277359428,
                                        398.5537946207268,
                                        398.55386150551084,
                                        398.5539283902948,
                                        398.5539952750788,
                                        398.5540621598628,
                                        398.5541290446468,
                                        398.5541959294308,
                                        398.5542628142148,
                                        398.5543296989988,
                                        398.55439658378276,
                                        398.5544634685668,
                                        398.5545303533508,
                                        398.55459723813476,
                                        398.5546641229188,
                                        398.5547310077028,
                                        398.55479789248676,
                                        398.5548647772708,
                                        398.55493166205474,
                                        398.55499854683876
                                    ],
                                    "y": [
                                        -0.0008124892567634893,
                                        -0.0008150417643895943,
                                        -0.0008178320429222394,
                                        -0.0008208804263947209,
                                        -0.0008242088070326,
                                        -0.0008278407376247044,
                                        -0.0008318015390484689,
                                        -0.0008361184131467338,
                                        -0.0008408205610561676,
                                        -0.0008459393070590396,
                                        -0.0008515082281228781,
                                        -0.0008575632891881949,
                                        -0.0008641429842176654,
                                        -0.0008712884831847497,
                                        -0.0008790437848803111,
                                        -0.0008874558756814267,
                                        -0.0008965748942285495,
                                        -0.0009064543018904726,
                                        -0.0009171510591430634,
                                        -0.0009287258075359646,
                                        -0.0009412430573212466,
                                        -0.0009547713805200715,
                                        -0.0009693836091072907,
                                        -0.0009851570383614544,
                                        -0.0010021736347601278,
                                        -0.0010205202483969994,
                                        -0.0010402888294595988,
                                        -0.001061576648192727,
                                        -0.001084486518166141,
                                        -0.0011091270222224443,
                                        -0.0011356127403106882,
                                        -0.00116406447909494,
                                        -0.0011946095020274492,
                                        -0.0012273817596811704,
                                        -0.0012625221193596507,
                                        -0.0013001785927977396,
                                        -0.0013405065617584076,
                                        -0.0013836689996382585,
                                        -0.0014298366887899108,
                                        -0.0014791884321824576,
                                        -0.0015319112577639425,
                                        -0.0015882006153072584,
                                        -0.0016482605631695357,
                                        -0.0017123039446633244,
                                        -0.0017805525522397274,
                                        -0.0018532372774328278,
                                        -0.0019305982459977655,
                                        -0.00201288493624124,
                                        -0.0021003562781463526,
                                        -0.00219328073331818,
                                        -0.002291936351919043,
                                        -0.0023966108066090994,
                                        -0.00250760140107554,
                                        -0.002625215050320668,
                                        -0.0027497682331930097,
                                        -0.002881586912485928,
                                        -0.0030210064231604977,
                                        -0.003168371326010923,
                                        -0.003324035223613294,
                                        -0.003488360539844853,
                                        -0.0036617182574561072,
                                        -0.0038444876151692096,
                                        -0.0040370557615182125,
                                        -0.0042398173622783366,
                                        -0.0044531741627728575,
                                        -0.004677534502445987,
                                        -0.004913312778366204,
                                        -0.005160928861169386,
                                        -0.005420807456660804,
                                        -0.005693377417001939,
                                        -0.005979070998980999,
                                        -0.006278323066201223,
                                        -0.0065915702407669365,
                                        -0.006919249996967409,
                                        -0.0072617997031095465,
                                        -0.007619655609475626,
                                        -0.00799325177995535,
                                        -0.008383018973272038,
                                        -0.008789383472421834,
                                        -0.009212765859874874,
                                        -0.009653579748533318,
                                        -0.010112230459825325,
                                        -0.01058911365970605,
                                        -0.011084613951664185,
                                        -0.011599103424914464,
                                        -0.012132940171096309,
                                        -0.012686466760051864,
                                        -0.013260008688843373,
                                        -0.01385387280386425,
                                        -0.014468345694856681,
                                        -0.015103692077721248,
                                        -0.015760153155657774,
                                        -0.01643794497634803,
                                        -0.01713725678563524,
                                        -0.017858249377599462,
                                        -0.0186010534571246,
                                        -0.019365768016145327,
                                        -0.020152458722968943,
                                        -0.02096115634714014,
                                        -0.021791855206882864,
                                        -0.022644511662187894,
                                        -0.023519042654132877,
                                        -0.024415324289624975,
                                        -0.025333190496982502,
                                        -0.02627243173707663,
                                        -0.027232793795782678,
                                        -0.02821397665758702,
                                        -0.02921563345869146,
                                        -0.03023736954719927,
                                        -0.03127874163211956,
                                        -0.032339257048761734,
                                        -0.03341837313882628,
                                        -0.03451549674287658,
                                        -0.03562998382733085,
                                        -0.03676113924381347,
                                        -0.03790821661628607,
                                        -0.03907041838478731,
                                        -0.04024689598144389,
                                        -0.041436750166945514,
                                        -0.042639031521623225,
                                        -0.04385274108379939,
                                        -0.04507683116342305,
                                        -0.0463102063023352,
                                        -0.04755172440818537,
                                        -0.048800198052677025,
                                        -0.050054395924627404,
                                        -0.0513130444563629,
                                        -0.052574829612910094,
                                        -0.05383839883134173,
                                        -0.055102363134556805,
                                        -0.056365299384134857,
                                        -0.05762575269518953,
                                        -0.05888223899787297,
                                        -0.06013324772956401,
                                        -0.06137724467850083,
                                        -0.06261267494020593,
                                        -0.06383796600607985,
                                        -0.06505153096543016,
                                        -0.0662517718021727,
                                        -0.06743708280294157,
                                        -0.06860585403600247,
                                        -0.06975647491646458,
                                        -0.07088733783654923,
                                        -0.0719968418412824,
                                        -0.07308339635568357,
                                        -0.07414542494232579,
                                        -0.07518136906826728,
                                        -0.07618969189159153,
                                        -0.07716888202779719,
                                        -0.07811745730558475,
                                        -0.07903396848966662,
                                        -0.07991700295016418,
                                        -0.08076518828528788,
                                        -0.08157719586103741,
                                        -0.08235174427440456,
                                        -0.0830876027192223,
                                        -0.08378359423651228,
                                        -0.08443859885318439,
                                        -0.0850515565786753,
                                        -0.08562147026366379,
                                        -0.08614740830328897,
                                        -0.08662850717107166,
                                        -0.0870639737826039,
                                        -0.08745308767474726,
                                        -0.08779520298922157,
                                        -0.08808975026148735,
                                        -0.08833623799809447,
                                        -0.08853425404433365,
                                        -0.08868346673294669,
                                        -0.08878362580875576,
                                        -0.08883456312907885,
                                        -0.0888361931333939,
                                        -0.08878851308326716,
                                        -0.08869160306970973,
                                        -0.08854562578938432,
                                        -0.08835082608879614,
                                        -0.08810753028071901,
                                        -0.08781614523316027,
                                        -0.08747715723463324,
                                        -0.0870911306433155,
                                        -0.08665870632089279,
                                        -0.08618059985849802,
                                        -0.0856575996062798,
                                        -0.08509056450434692,
                                        -0.0844804217355959,
                                        -0.08382816419897318,
                                        -0.0831348478163234,
                                        -0.08240158868948491,
                                        -0.08162956010389819,
                                        -0.08081998940760587,
                                        -0.07997415476229544,
                                        -0.07909338178382223,
                                        -0.07817904009172316,
                                        -0.07723253976733768,
                                        -0.07625532773913572,
                                        -0.07524888411690904,
                                        -0.07421471846723798,
                                        -0.07315436606813205,
                                        -0.07206938413485159,
                                        -0.07096134803776598,
                                        -0.06983184753473023,
                                        -0.0686824830070848,
                                        -0.0675148617397553,
                                        -0.06633059423370342,
                                        -0.06513129057151076,
                                        -0.06391855685771511,
                                        -0.06269399171923698,
                                        -0.06145918290669644,
                                        -0.06021570398076866,
                                        -0.05896511110282445,
                                        -0.057708939948143995,
                                        -0.056448702730626986,
                                        -0.05518588535573826,
                                        -0.05392194471919024,
                                        -0.052658306130552786,
                                        -0.05139636089929823,
                                        -0.05013746406107937,
                                        -0.0488829322589577,
                                        -0.04763404179349052,
                                        -0.04639202681754902,
                                        -0.045158077709710566,
                                        -0.04393333960079883,
                                        -0.04271891106488277,
                                        -0.04151584298484852,
                                        -0.04032513756592232,
                                        -0.039147747526734056,
                                        -0.03798457544024122,
                                        -0.03683647323250531,
                                        -0.03570424184492058,
                                        -0.034588631038539104,
                                        -0.03349033934566958,
                                        -0.0324100141734254,
                                        -0.03134825203089911,
                                        -0.030305598902709886,
                                        -0.02928255074011536,
                                        -0.028279554073383232,
                                        -0.027297006747553282,
                                        -0.026335258753763333,
                                        -0.025394613175125744,
                                        -0.024475327219234604,
                                        -0.023577613339237576,
                                        -0.02270164044314946,
                                        -0.0218475351703354,
                                        -0.021015383235582316,
                                        -0.02020523084053697,
                                        -0.019417086127710544,
                                        -0.01865092069135679,
                                        -0.01790667112087106,
                                        -0.017184240577372736,
                                        -0.016483500402787055,
                                        -0.01580429173956527,
                                        -0.015146427173281681,
                                        -0.014509692376925034,
                                        -0.013893847757548356,
                                        -0.01329863010473309,
                                        -0.012723754222402895,
                                        -0.0121689145547119,
                                        -0.011633786788352725,
                                        -0.011118029432351977,
                                        -0.010621285374936916,
                                        -0.010143183405461532,
                                        -0.00968333970231676,
                                        -0.009241359287254499,
                                        -0.008816837433308114,
                                        -0.008409361035404725,
                                        -0.008018509931675293,
                                        -0.007643858177534076,
                                        -0.007284975273725074,
                                        -0.006941427338787438,
                                        -0.006612778234281577,
                                        -0.0062985906339636305,
                                        -0.005998427039574619,
                                        -0.005711850745139559,
                                        -0.005438426743081417,
                                        -0.005177722579798166,
                                        -0.004929309154610724,
                                        -0.004692761465182086,
                                        -0.004467659301639355,
                                        -0.004253587886349537,
                                        -0.0040501384623700355,
                                        -0.003856908833198308,
                                        -0.0036735038506095314,
                                        -0.003499535857071078,
                                        -0.0033346250798797356,
                                        -0.0031783999803625534,
                                        -0.003030497560921535,
                                        -0.002890563628196346,
                                        -0.002758253018038485,
                                        -0.0026332297807849857,
                                        -0.0025151673300423975,
                                        -0.002403748557700011,
                                        -0.0022986659144548912,
                                        -0.0021996214607051525,
                                        -0.00210632688718837,
                                        -0.0020185035082756217,
                                        -0.0019358822303370805,
                                        -0.0018582034955515582,
                                        -0.001785217203739635,
                                        -0.0017166826145034579,
                                        -0.001652368229786109
                                    ]
                                }
                            ],
                            "layout": {
                                "template": {
                                    "data": {
                                        "bar": [
                                            {
                                                "error_x": {
                                                    "color": "#2a3f5f"
                                                },
                                                "error_y": {
                                                    "color": "#2a3f5f"
                                                },
                                                "marker": {
                                                    "line": {
                                                        "color": "#E5ECF6",
                                                        "width": 0.5
                                                    },
                                                    "pattern": {
                                                        "fillmode": "overlay",
                                                        "size": 10,
                                                        "solidity": 0.2
                                                    }
                                                },
                                                "type": "bar"
                                            }
                                        ],
                                        "barpolar": [
                                            {
                                                "marker": {
                                                    "line": {
                                                        "color": "#E5ECF6",
                                                        "width": 0.5
                                                    },
                                                    "pattern": {
                                                        "fillmode": "overlay",
                                                        "size": 10,
                                                        "solidity": 0.2
                                                    }
                                                },
                                                "type": "barpolar"
                                            }
                                        ],
                                        "carpet": [
                                            {
                                                "aaxis": {
                                                    "endlinecolor": "#2a3f5f",
                                                    "gridcolor": "white",
                                                    "linecolor": "white",
                                                    "minorgridcolor": "white",
                                                    "startlinecolor": "#2a3f5f"
                                                },
                                                "baxis": {
                                                    "endlinecolor": "#2a3f5f",
                                                    "gridcolor": "white",
                                                    "linecolor": "white",
                                                    "minorgridcolor": "white",
                                                    "startlinecolor": "#2a3f5f"
                                                },
                                                "type": "carpet"
                                            }
                                        ],
                                        "choropleth": [
                                            {
                                                "colorbar": {
                                                    "outlinewidth": 0,
                                                    "ticks": ""
                                                },
                                                "type": "choropleth"
                                            }
                                        ],
                                        "contour": [
                                            {
                                                "colorbar": {
                                                    "outlinewidth": 0,
                                                    "ticks": ""
                                                },
                                                "colorscale": [
                                                    [
                                                        0,
                                                        "#0d0887"
                                                    ],
                                                    [
                                                        0.1111111111111111,
                                                        "#46039f"
                                                    ],
                                                    [
                                                        0.2222222222222222,
                                                        "#7201a8"
                                                    ],
                                                    [
                                                        0.3333333333333333,
                                                        "#9c179e"
                                                    ],
                                                    [
                                                        0.4444444444444444,
                                                        "#bd3786"
                                                    ],
                                                    [
                                                        0.5555555555555556,
                                                        "#d8576b"
                                                    ],
                                                    [
                                                        0.6666666666666666,
                                                        "#ed7953"
                                                    ],
                                                    [
                                                        0.7777777777777778,
                                                        "#fb9f3a"
                                                    ],
                                                    [
                                                        0.8888888888888888,
                                                        "#fdca26"
                                                    ],
                                                    [
                                                        1,
                                                        "#f0f921"
                                                    ]
                                                ],
                                                "type": "contour"
                                            }
                                        ],
                                        "contourcarpet": [
                                            {
                                                "colorbar": {
                                                    "outlinewidth": 0,
                                                    "ticks": ""
                                                },
                                                "type": "contourcarpet"
                                            }
                                        ],
                                        "heatmap": [
                                            {
                                                "colorbar": {
                                                    "outlinewidth": 0,
                                                    "ticks": ""
                                                },
                                                "colorscale": [
                                                    [
                                                        0,
                                                        "#0d0887"
                                                    ],
                                                    [
                                                        0.1111111111111111,
                                                        "#46039f"
                                                    ],
                                                    [
                                                        0.2222222222222222,
                                                        "#7201a8"
                                                    ],
                                                    [
                                                        0.3333333333333333,
                                                        "#9c179e"
                                                    ],
                                                    [
                                                        0.4444444444444444,
                                                        "#bd3786"
                                                    ],
                                                    [
                                                        0.5555555555555556,
                                                        "#d8576b"
                                                    ],
                                                    [
                                                        0.6666666666666666,
                                                        "#ed7953"
                                                    ],
                                                    [
                                                        0.7777777777777778,
                                                        "#fb9f3a"
                                                    ],
                                                    [
                                                        0.8888888888888888,
                                                        "#fdca26"
                                                    ],
                                                    [
                                                        1,
                                                        "#f0f921"
                                                    ]
                                                ],
                                                "type": "heatmap"
                                            }
                                        ],
                                        "heatmapgl": [
                                            {
                                                "colorbar": {
                                                    "outlinewidth": 0,
                                                    "ticks": ""
                                                },
                                                "colorscale": [
                                                    [
                                                        0,
                                                        "#0d0887"
                                                    ],
                                                    [
                                                        0.1111111111111111,
                                                        "#46039f"
                                                    ],
                                                    [
                                                        0.2222222222222222,
                                                        "#7201a8"
                                                    ],
                                                    [
                                                        0.3333333333333333,
                                                        "#9c179e"
                                                    ],
                                                    [
                                                        0.4444444444444444,
                                                        "#bd3786"
                                                    ],
                                                    [
                                                        0.5555555555555556,
                                                        "#d8576b"
                                                    ],
                                                    [
                                                        0.6666666666666666,
                                                        "#ed7953"
                                                    ],
                                                    [
                                                        0.7777777777777778,
                                                        "#fb9f3a"
                                                    ],
                                                    [
                                                        0.8888888888888888,
                                                        "#fdca26"
                                                    ],
                                                    [
                                                        1,
                                                        "#f0f921"
                                                    ]
                                                ],
                                                "type": "heatmapgl"
                                            }
                                        ],
                                        "histogram": [
                                            {
                                                "marker": {
                                                    "pattern": {
                                                        "fillmode": "overlay",
                                                        "size": 10,
                                                        "solidity": 0.2
                                                    }
                                                },
                                                "type": "histogram"
                                            }
                                        ],
                                        "histogram2d": [
                                            {
                                                "colorbar": {
                                                    "outlinewidth": 0,
                                                    "ticks": ""
                                                },
                                                "colorscale": [
                                                    [
                                                        0,
                                                        "#0d0887"
                                                    ],
                                                    [
                                                        0.1111111111111111,
                                                        "#46039f"
                                                    ],
                                                    [
                                                        0.2222222222222222,
                                                        "#7201a8"
                                                    ],
                                                    [
                                                        0.3333333333333333,
                                                        "#9c179e"
                                                    ],
                                                    [
                                                        0.4444444444444444,
                                                        "#bd3786"
                                                    ],
                                                    [
                                                        0.5555555555555556,
                                                        "#d8576b"
                                                    ],
                                                    [
                                                        0.6666666666666666,
                                                        "#ed7953"
                                                    ],
                                                    [
                                                        0.7777777777777778,
                                                        "#fb9f3a"
                                                    ],
                                                    [
                                                        0.8888888888888888,
                                                        "#fdca26"
                                                    ],
                                                    [
                                                        1,
                                                        "#f0f921"
                                                    ]
                                                ],
                                                "type": "histogram2d"
                                            }
                                        ],
                                        "histogram2dcontour": [
                                            {
                                                "colorbar": {
                                                    "outlinewidth": 0,
                                                    "ticks": ""
                                                },
                                                "colorscale": [
                                                    [
                                                        0,
                                                        "#0d0887"
                                                    ],
                                                    [
                                                        0.1111111111111111,
                                                        "#46039f"
                                                    ],
                                                    [
                                                        0.2222222222222222,
                                                        "#7201a8"
                                                    ],
                                                    [
                                                        0.3333333333333333,
                                                        "#9c179e"
                                                    ],
                                                    [
                                                        0.4444444444444444,
                                                        "#bd3786"
                                                    ],
                                                    [
                                                        0.5555555555555556,
                                                        "#d8576b"
                                                    ],
                                                    [
                                                        0.6666666666666666,
                                                        "#ed7953"
                                                    ],
                                                    [
                                                        0.7777777777777778,
                                                        "#fb9f3a"
                                                    ],
                                                    [
                                                        0.8888888888888888,
                                                        "#fdca26"
                                                    ],
                                                    [
                                                        1,
                                                        "#f0f921"
                                                    ]
                                                ],
                                                "type": "histogram2dcontour"
                                            }
                                        ],
                                        "mesh3d": [
                                            {
                                                "colorbar": {
                                                    "outlinewidth": 0,
                                                    "ticks": ""
                                                },
                                                "type": "mesh3d"
                                            }
                                        ],
                                        "parcoords": [
                                            {
                                                "line": {
                                                    "colorbar": {
                                                        "outlinewidth": 0,
                                                        "ticks": ""
                                                    }
                                                },
                                                "type": "parcoords"
                                            }
                                        ],
                                        "pie": [
                                            {
                                                "automargin": true,
                                                "type": "pie"
                                            }
                                        ],
                                        "scatter": [
                                            {
                                                "fillpattern": {
                                                    "fillmode": "overlay",
                                                    "size": 10,
                                                    "solidity": 0.2
                                                },
                                                "type": "scatter"
                                            }
                                        ],
                                        "scatter3d": [
                                            {
                                                "line": {
                                                    "colorbar": {
                                                        "outlinewidth": 0,
                                                        "ticks": ""
                                                    }
                                                },
                                                "marker": {
                                                    "colorbar": {
                                                        "outlinewidth": 0,
                                                        "ticks": ""
                                                    }
                                                },
                                                "type": "scatter3d"
                                            }
                                        ],
                                        "scattercarpet": [
                                            {
                                                "marker": {
                                                    "colorbar": {
                                                        "outlinewidth": 0,
                                                        "ticks": ""
                                                    }
                                                },
                                                "type": "scattercarpet"
                                            }
                                        ],
                                        "scattergeo": [
                                            {
                                                "marker": {
                                                    "colorbar": {
                                                        "outlinewidth": 0,
                                                        "ticks": ""
                                                    }
                                                },
                                                "type": "scattergeo"
                                            }
                                        ],
                                        "scattergl": [
                                            {
                                                "marker": {
                                                    "colorbar": {
                                                        "outlinewidth": 0,
                                                        "ticks": ""
                                                    }
                                                },
                                                "type": "scattergl"
                                            }
                                        ],
                                        "scattermapbox": [
                                            {
                                                "marker": {
                                                    "colorbar": {
                                                        "outlinewidth": 0,
                                                        "ticks": ""
                                                    }
                                                },
                                                "type": "scattermapbox"
                                            }
                                        ],
                                        "scatterpolar": [
                                            {
                                                "marker": {
                                                    "colorbar": {
                                                        "outlinewidth": 0,
                                                        "ticks": ""
                                                    }
                                                },
                                                "type": "scatterpolar"
                                            }
                                        ],
                                        "scatterpolargl": [
                                            {
                                                "marker": {
                                                    "colorbar": {
                                                        "outlinewidth": 0,
                                                        "ticks": ""
                                                    }
                                                },
                                                "type": "scatterpolargl"
                                            }
                                        ],
                                        "scatterternary": [
                                            {
                                                "marker": {
                                                    "colorbar": {
                                                        "outlinewidth": 0,
                                                        "ticks": ""
                                                    }
                                                },
                                                "type": "scatterternary"
                                            }
                                        ],
                                        "surface": [
                                            {
                                                "colorbar": {
                                                    "outlinewidth": 0,
                                                    "ticks": ""
                                                },
                                                "colorscale": [
                                                    [
                                                        0,
                                                        "#0d0887"
                                                    ],
                                                    [
                                                        0.1111111111111111,
                                                        "#46039f"
                                                    ],
                                                    [
                                                        0.2222222222222222,
                                                        "#7201a8"
                                                    ],
                                                    [
                                                        0.3333333333333333,
                                                        "#9c179e"
                                                    ],
                                                    [
                                                        0.4444444444444444,
                                                        "#bd3786"
                                                    ],
                                                    [
                                                        0.5555555555555556,
                                                        "#d8576b"
                                                    ],
                                                    [
                                                        0.6666666666666666,
                                                        "#ed7953"
                                                    ],
                                                    [
                                                        0.7777777777777778,
                                                        "#fb9f3a"
                                                    ],
                                                    [
                                                        0.8888888888888888,
                                                        "#fdca26"
                                                    ],
                                                    [
                                                        1,
                                                        "#f0f921"
                                                    ]
                                                ],
                                                "type": "surface"
                                            }
                                        ],
                                        "table": [
                                            {
                                                "cells": {
                                                    "fill": {
                                                        "color": "#EBF0F8"
                                                    },
                                                    "line": {
                                                        "color": "white"
                                                    }
                                                },
                                                "header": {
                                                    "fill": {
                                                        "color": "#C8D4E3"
                                                    },
                                                    "line": {
                                                        "color": "white"
                                                    }
                                                },
                                                "type": "table"
                                            }
                                        ]
                                    },
                                    "layout": {
                                        "annotationdefaults": {
                                            "arrowcolor": "#2a3f5f",
                                            "arrowhead": 0,
                                            "arrowwidth": 1
                                        },
                                        "autotypenumbers": "strict",
                                        "coloraxis": {
                                            "colorbar": {
                                                "outlinewidth": 0,
                                                "ticks": ""
                                            }
                                        },
                                        "colorscale": {
                                            "diverging": [
                                                [
                                                    0,
                                                    "#8e0152"
                                                ],
                                                [
                                                    0.1,
                                                    "#c51b7d"
                                                ],
                                                [
                                                    0.2,
                                                    "#de77ae"
                                                ],
                                                [
                                                    0.3,
                                                    "#f1b6da"
                                                ],
                                                [
                                                    0.4,
                                                    "#fde0ef"
                                                ],
                                                [
                                                    0.5,
                                                    "#f7f7f7"
                                                ],
                                                [
                                                    0.6,
                                                    "#e6f5d0"
                                                ],
                                                [
                                                    0.7,
                                                    "#b8e186"
                                                ],
                                                [
                                                    0.8,
                                                    "#7fbc41"
                                                ],
                                                [
                                                    0.9,
                                                    "#4d9221"
                                                ],
                                                [
                                                    1,
                                                    "#276419"
                                                ]
                                            ],
                                            "sequential": [
                                                [
                                                    0,
                                                    "#0d0887"
                                                ],
                                                [
                                                    0.1111111111111111,
                                                    "#46039f"
                                                ],
                                                [
                                                    0.2222222222222222,
                                                    "#7201a8"
                                                ],
                                                [
                                                    0.3333333333333333,
                                                    "#9c179e"
                                                ],
                                                [
                                                    0.4444444444444444,
                                                    "#bd3786"
                                                ],
                                                [
                                                    0.5555555555555556,
                                                    "#d8576b"
                                                ],
                                                [
                                                    0.6666666666666666,
                                                    "#ed7953"
                                                ],
                                                [
                                                    0.7777777777777778,
                                                    "#fb9f3a"
                                                ],
                                                [
                                                    0.8888888888888888,
                                                    "#fdca26"
                                                ],
                                                [
                                                    1,
                                                    "#f0f921"
                                                ]
                                            ],
                                            "sequentialminus": [
                                                [
                                                    0,
                                                    "#0d0887"
                                                ],
                                                [
                                                    0.1111111111111111,
                                                    "#46039f"
                                                ],
                                                [
                                                    0.2222222222222222,
                                                    "#7201a8"
                                                ],
                                                [
                                                    0.3333333333333333,
                                                    "#9c179e"
                                                ],
                                                [
                                                    0.4444444444444444,
                                                    "#bd3786"
                                                ],
                                                [
                                                    0.5555555555555556,
                                                    "#d8576b"
                                                ],
                                                [
                                                    0.6666666666666666,
                                                    "#ed7953"
                                                ],
                                                [
                                                    0.7777777777777778,
                                                    "#fb9f3a"
                                                ],
                                                [
                                                    0.8888888888888888,
                                                    "#fdca26"
                                                ],
                                                [
                                                    1,
                                                    "#f0f921"
                                                ]
                                            ]
                                        },
                                        "colorway": [
                                            "#636efa",
                                            "#EF553B",
                                            "#00cc96",
                                            "#ab63fa",
                                            "#FFA15A",
                                            "#19d3f3",
                                            "#FF6692",
                                            "#B6E880",
                                            "#FF97FF",
                                            "#FECB52"
                                        ],
                                        "font": {
                                            "color": "#2a3f5f"
                                        },
                                        "geo": {
                                            "bgcolor": "white",
                                            "lakecolor": "white",
                                            "landcolor": "#E5ECF6",
                                            "showlakes": true,
                                            "showland": true,
                                            "subunitcolor": "white"
                                        },
                                        "hoverlabel": {
                                            "align": "left"
                                        },
                                        "hovermode": "closest",
                                        "mapbox": {
                                            "style": "light"
                                        },
                                        "paper_bgcolor": "white",
                                        "plot_bgcolor": "#E5ECF6",
                                        "polar": {
                                            "angularaxis": {
                                                "gridcolor": "white",
                                                "linecolor": "white",
                                                "ticks": ""
                                            },
                                            "bgcolor": "#E5ECF6",
                                            "radialaxis": {
                                                "gridcolor": "white",
                                                "linecolor": "white",
                                                "ticks": ""
                                            }
                                        },
                                        "scene": {
                                            "xaxis": {
                                                "backgroundcolor": "#E5ECF6",
                                                "gridcolor": "white",
                                                "gridwidth": 2,
                                                "linecolor": "white",
                                                "showbackground": true,
                                                "ticks": "",
                                                "zerolinecolor": "white"
                                            },
                                            "yaxis": {
                                                "backgroundcolor": "#E5ECF6",
                                                "gridcolor": "white",
                                                "gridwidth": 2,
                                                "linecolor": "white",
                                                "showbackground": true,
                                                "ticks": "",
                                                "zerolinecolor": "white"
                                            },
                                            "zaxis": {
                                                "backgroundcolor": "#E5ECF6",
                                                "gridcolor": "white",
                                                "gridwidth": 2,
                                                "linecolor": "white",
                                                "showbackground": true,
                                                "ticks": "",
                                                "zerolinecolor": "white"
                                            }
                                        },
                                        "shapedefaults": {
                                            "line": {
                                                "color": "#2a3f5f"
                                            }
                                        },
                                        "ternary": {
                                            "aaxis": {
                                                "gridcolor": "white",
                                                "linecolor": "white",
                                                "ticks": ""
                                            },
                                            "baxis": {
                                                "gridcolor": "white",
                                                "linecolor": "white",
                                                "ticks": ""
                                            },
                                            "bgcolor": "#E5ECF6",
                                            "caxis": {
                                                "gridcolor": "white",
                                                "linecolor": "white",
                                                "ticks": ""
                                            }
                                        },
                                        "title": {
                                            "x": 0.05
                                        },
                                        "xaxis": {
                                            "automargin": true,
                                            "gridcolor": "white",
                                            "linecolor": "white",
                                            "ticks": "",
                                            "title": {
                                                "standoff": 15
                                            },
                                            "zerolinecolor": "white",
                                            "zerolinewidth": 2
                                        },
                                        "yaxis": {
                                            "automargin": true,
                                            "gridcolor": "white",
                                            "linecolor": "white",
                                            "ticks": "",
                                            "title": {
                                                "standoff": 15
                                            },
                                            "zerolinecolor": "white",
                                            "zerolinewidth": 2
                                        }
                                    }
                                },
                                "title": {
                                    "text": "Gaussian Fit to Data"
                                },
                                "xaxis": {
                                    "title": {
                                        "text": "Frequency (Adjusted)"
                                    }
                                },
                                "yaxis": {
                                    "title": {
                                        "text": "Normalized Difference"
                                    }
                                }
                            }
                        }
                    },
                    "metadata": {},
                    "output_type": "display_data"
                }
            ],
            "source": [
                "x_smooth = np.linspace(min(freq_actual * 24), max(freq_actual * 24), 300)\n",
                "y_fitted = model_gaussian(x_smooth, *params)\n",
                "fig = go.Figure()\n",
                "\n",
                "# Add original data points\n",
                "fig.add_trace(go.Scatter(\n",
                "    x=freq_actual * 24,\n",
                "    y=(on - off) / off - np.max((on - off) / off),\n",
                "    mode='markers',\n",
                "    name='Data',\n",
                "    marker=dict(size=6, color='blue')\n",
                "))\n",
                "\n",
                "# Add fitted curve\n",
                "fig.add_trace(go.Scatter(\n",
                "    x=x_smooth,\n",
                "    y=y_fitted,\n",
                "    mode='lines',\n",
                "    name='Fitted Gaussian',\n",
                "    line=dict(color='red', width=2)\n",
                "))\n",
                "\n",
                "# Customize layout\n",
                "fig.update_layout(\n",
                "    title=\"Gaussian Fit to Data\",\n",
                "    xaxis_title=\"Frequency (Adjusted)\",\n",
                "    yaxis_title=\"Normalized Difference\",\n",
                "    # template=\"plotly_dark\"\n",
                ")\n",
                "\n",
                "# Show the plot\n",
                "fig.show()\n"
            ]
        },
        {
            "cell_type": "code",
            "execution_count": 26,
            "metadata": {},
            "outputs": [],
            "source": [
                "def get_sigma(sigma):\n",
                "    \"\"\"Calculate sigma for a Gaussian function.\"\"\"\n",
                "    return 2 * np.sqrt(2 * np.log(2)) * sigma  # ≈ 2.355 * sigma\n"
            ]
        },
        {
            "cell_type": "code",
            "execution_count": 27,
            "metadata": {},
            "outputs": [
                {
                    "name": "stdout",
                    "output_type": "stream",
                    "text": [
                        "-0.0888361931333939\n",
                        "0.006654619111488787\n"
                    ]
                }
            ],
            "source": [
                "sigma=get_sigma(params[2]) # GHz\n",
                "Amplitude_fit=np.min(y_fitted)\n",
                "print(Amplitude_fit)\n",
                "print(sigma)"
            ]
        },
        {
            "cell_type": "code",
            "execution_count": 28,
            "metadata": {},
            "outputs": [],
            "source": [
                "gamma = 28 # GHz/T # https://magnetometryrp.quantumtinkerer.tudelft.nl/3_NVspin/"
            ]
        },
        {
            "cell_type": "code",
            "execution_count": 29,
            "metadata": {},
            "outputs": [
                {
                    "data": {
                        "text/plain": [
                            "226.7253295436546"
                        ]
                    },
                    "execution_count": 29,
                    "metadata": {},
                    "output_type": "execute_result"
                }
            ],
            "source": [
                "responsivity = np.abs(Amplitude_fit*gamma)/(np.sqrt(2.718)*sigma)\n",
                "responsivity # "
            ]
        },
        {
            "cell_type": "code",
            "execution_count": 30,
            "metadata": {},
            "outputs": [],
            "source": [
                "signal=(on-off)/off-np.max((on-off)/off)\n",
                "freq=freq_actual*24\n",
                "fit_signal=y_fitted\n",
                "y_freq=x_smooth\n"
            ]
        },
        {
            "cell_type": "code",
            "execution_count": 31,
            "metadata": {},
            "outputs": [],
            "source": [
                "to_save = {\n",
                "    \"signal\": signal.tolist(),\n",
                "    \"x_freq\": freq.tolist(),\n",
                "    \"fit_signal\": fit_signal.tolist(),\n",
                "    'y_freq': x_smooth.tolist(),\n",
                "    'sigma':sigma,\n",
                "    'gamma':gamma,\n",
                "    'Amplitude':Amplitude_fit,\n",
                "    'Responsivity':responsivity\n",
                "}"
            ]
        },
        {
            "cell_type": "code",
            "execution_count": 32,
            "metadata": {},
            "outputs": [
                {
                    "name": "stdout",
                    "output_type": "stream",
                    "text": [
                        "Current working directory: c:\\Users\\HFNV\\diamondgui\\measurement\n"
                    ]
                }
            ],
            "source": [
                "# Get the current working directory\n",
                "current_path = os.getcwd()\n",
                "\n",
                "print(f\"Current working directory: {current_path}\")"
            ]
        },
        {
            "cell_type": "code",
            "execution_count": 33,
            "metadata": {},
            "outputs": [
                {
                    "name": "stdout",
                    "output_type": "stream",
                    "text": [
                        "File saved to ./output/sensitivity_calc/ODMR_fit_2025-04-03-14-40-46.json\n"
                    ]
                }
            ],
            "source": [
                "import json\n",
                "from datetime import datetime\n",
                "\n",
                "current_date = datetime.now().strftime(\"%Y-%m-%d-%H-%M-%S\")\n",
                "\n",
                "\n",
                "file_path = f'./output/sensitivity_calc/ODMR_fit_{current_date}.json'  # Replace this with your desired path\n",
                "\n",
                "# Saving the dictionary to a specific path\n",
                "with open(file_path, 'w') as f:\n",
                "    json.dump(to_save, f)\n",
                "\n",
                "print(f\"File saved to {file_path}\")"
            ]
        },
        {
            "cell_type": "code",
            "execution_count": 34,
            "metadata": {},
            "outputs": [
                {
                    "data": {
                        "image/png": "[encoded data removed]",
                        "text/plain": [
                            "<Figure size 800x600 with 1 Axes>"
                        ]
                    },
                    "metadata": {},
                    "output_type": "display_data"
                }
            ],
            "source": [
                "import json\n",
                "import matplotlib.pyplot as plt\n",
                "import os\n",
                "import numpy as np\n",
                "\n",
                "# Specify the file path\n",
                "file_path = './output/sensitivity_calc/ODMR_fit_2025-04-02-13-03-56.json'\n",
                "\n",
                "# Load the JSON file\n",
                "with open(file_path, 'r') as f:\n",
                "    data = json.load(f)\n",
                "\n",
                "# Extract the \"signal\" and \"x_freq\" values\n",
                "signal = data.get(\"signal\")\n",
                "x_freq = data.get(\"x_freq\")\n",
                "\n",
                "# Check if both \"signal\" and \"x_freq\" exist in the data\n",
                "if signal is not None and x_freq is not None:\n",
                "    # Plot \"signal\" vs \"x_freq\"\n",
                "    plt.figure(figsize=(8, 6))\n",
                "    plt.plot(np.array(x_freq), signal, label=\"Signal vs Frequency\", color='b')\n",
                "    plt.plot(data.get(\"y_freq\"), data.get(\"fit_signal\"), label=\"Gaussian Fit\", color='r')\n",
                "    plt.xlabel('x_freq (Hz)')\n",
                "    plt.ylabel('Signal')\n",
                "    plt.title('Signal vs x_freq')\n",
                "    plt.legend()\n",
                "    plt.grid(True)\n",
                "\n",
                "    # Extract values safely, providing a default value if None\n",
                "    sigma = data.get(\"sigma\", 0)  # Default to 0 if None\n",
                "    responsivity = data.get(\"Responsivity\", 0)\n",
                "    amplitude = data.get(\"Amplitude\", 0)\n",
                "\n",
                "    # Extract the filename\n",
                "    # filename = os.path.basename(file_path)\n",
                "\n",
                "    # First text box with parameters\n",
                "    textstr1 = \"Sigma {:.2f} GHz \\nResponsivity {:.2f} V/T\\nAmplitude {:.2f} V\".format(sigma, responsivity, amplitude)\n",
                "    plt.text(0.05, 0.5, textstr1, transform=plt.gca().transAxes,\n",
                "             fontsize=12, verticalalignment='top',\n",
                "             bbox=dict(boxstyle=\"round,pad=0.3\", edgecolor='black', facecolor='lightgray'))\n",
                "\n",
                "    # Second text box with filename\n",
                "    textstr2 = f\"File: {file_path}\"\n",
                "    plt.text(0.05, 0.9, textstr2, transform=plt.gca().transAxes,\n",
                "             fontsize=12, verticalalignment='top',\n",
                "             bbox=dict(boxstyle=\"round,pad=0.3\", edgecolor='black', facecolor='lightblue'))\n",
                "\n",
                "    plt.show()\n",
                "\n",
                "else:\n",
                "    print(\"Error: 'signal' or 'x_freq' not found in the data.\")\n"
            ]
        }
    ],
    "metadata": {
        "kernelspec": {
            "display_name": "Python 3",
            "language": "python",
            "name": "python3"
        },
        "language_info": {
            "codemirror_mode": {
                "name": "ipython",
                "version": 3
            },
            "file_extension": ".py",
            "mimetype": "text/x-python",
            "name": "python",
            "nbconvert_exporter": "python",
            "pygments_lexer": "ipython3",
            "version": "3.10.16"
        }
    },
    "nbformat": 4,
    "nbformat_minor": 2
}