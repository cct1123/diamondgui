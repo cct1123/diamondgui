{
 "cells": [
  {
   "cell_type": "code",
   "execution_count": 1,
   "id": "37c8885b",
   "metadata": {},
   "outputs": [],
   "source": [
    "import serial \n",
    "import time \n",
    "import subprocess"
   ]
  },
  {
   "cell_type": "code",
   "execution_count": 2,
   "id": "677fa9ff",
   "metadata": {},
   "outputs": [],
   "source": [
    "ARDUINO_CLI_PATH = r\"C:\\Users\\HFNV\\bin\\arduino-cli.exe\"  # <- missing quote was here\n",
    "\n",
    "def run_cmd(cmd):\n",
    "    result = subprocess.run(cmd, stdout=subprocess.PIPE, stderr=subprocess.PIPE, text=True)\n",
    "    print(\"STDOUT:\\n\", result.stdout)\n",
    "    print(\"STDERR:\\n\", result.stderr)\n",
    "    result.check_returncode()\n",
    "\n",
    "def upload_sketch(sketch_path, port):\n",
    "    compile_cmd = [\n",
    "        ARDUINO_CLI_PATH, \"compile\",\n",
    "        \"--fqbn\", \"arduino:avr:uno\",\n",
    "        sketch_path\n",
    "    ]\n",
    "    upload_cmd = [\n",
    "        ARDUINO_CLI_PATH, \"upload\",\n",
    "        \"-p\", port,\n",
    "        \"--fqbn\", \"arduino:avr:uno\",\n",
    "        sketch_path\n",
    "    ]\n",
    "    \n",
    "    print(\"Compiling sketch...\")\n",
    "    run_cmd(compile_cmd)\n",
    "    \n",
    "    print(\"Uploading sketch...\")\n",
    "    run_cmd(upload_cmd)\n"
   ]
  },
  {
   "cell_type": "code",
   "execution_count": 3,
   "id": "20c7158b",
   "metadata": {},
   "outputs": [
    {
     "name": "stdout",
     "output_type": "stream",
     "text": [
      "Compiling sketch...\n",
      "STDOUT:\n",
      " Sketch uses 4252 bytes (13%) of program storage space. Maximum is 32256 bytes.\n",
      "Global variables use 274 bytes (13%) of dynamic memory, leaving 1774 bytes for local variables. Maximum is 2048 bytes.\n",
      "\n",
      "STDERR:\n",
      " \n",
      "Uploading sketch...\n",
      "STDOUT:\n",
      " New upload port: COM6 (serial)\n",
      "\n",
      "STDERR:\n",
      " \n"
     ]
    }
   ],
   "source": [
    "upload_sketch(r\".\\dev_voltage_pythoncalled_20250625_copy_20250625115022\", \"COM6\")\n"
   ]
  },
  {
   "cell_type": "code",
   "execution_count": null,
   "id": "5912f3eb",
   "metadata": {},
   "outputs": [
    {
     "data": {
      "text/plain": [
       "1"
      ]
     },
     "execution_count": 4,
     "metadata": {},
     "output_type": "execute_result"
    }
   ],
   "source": [
    "# Open serial port\n",
    "arduino = serial.Serial('COM6', 9600, timeout=1)\n",
    "time.sleep(2)  # Allow time for Arduino to reset\n",
    "\n",
    "# Send start command\n",
    "\n"
   ]
  },
  {
   "cell_type": "code",
   "execution_count": 7,
   "id": "126039a9",
   "metadata": {},
   "outputs": [
    {
     "data": {
      "text/plain": [
       "1"
      ]
     },
     "execution_count": 7,
     "metadata": {},
     "output_type": "execute_result"
    }
   ],
   "source": [
    "arduino.write(b'H')  # Begin operation\n"
   ]
  },
  {
   "cell_type": "code",
   "execution_count": 8,
   "id": "a13b9f3e",
   "metadata": {},
   "outputs": [
    {
     "data": {
      "text/plain": [
       "2"
      ]
     },
     "execution_count": 8,
     "metadata": {},
     "output_type": "execute_result"
    }
   ],
   "source": [
    "arduino.write(b'50')"
   ]
  },
  {
   "cell_type": "code",
   "execution_count": 9,
   "id": "6f7d39f0",
   "metadata": {},
   "outputs": [
    {
     "data": {
      "text/plain": [
       "3"
      ]
     },
     "execution_count": 9,
     "metadata": {},
     "output_type": "execute_result"
    }
   ],
   "source": [
    "arduino.write(b'end')  "
   ]
  },
  {
   "cell_type": "code",
   "execution_count": 10,
   "id": "3d5cf8c5",
   "metadata": {},
   "outputs": [],
   "source": [
    "arduino.close()"
   ]
  },
  {
   "cell_type": "code",
   "execution_count": null,
   "id": "d5ba810b",
   "metadata": {},
   "outputs": [],
   "source": []
  }
 ],
 "metadata": {
  "kernelspec": {
   "display_name": "hfnvenv",
   "language": "python",
   "name": "python3"
  },
  "language_info": {
   "codemirror_mode": {
    "name": "ipython",
    "version": 3
   },
   "file_extension": ".py",
   "mimetype": "text/x-python",
   "name": "python",
   "nbconvert_exporter": "python",
   "pygments_lexer": "ipython3",
   "version": "3.10.16"
  }
 },
 "nbformat": 4,
 "nbformat_minor": 5
}
