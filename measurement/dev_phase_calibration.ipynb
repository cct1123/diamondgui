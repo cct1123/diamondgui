{
    "cells": [
        {
            "cell_type": "code",
            "execution_count": 1,
            "id": "12446d8d",
            "metadata": {},
            "outputs": [],
            "source": [
                "import numpy as np\n",
                "import math\n",
                "from functools import reduce\n",
                "import time\n",
                "import sys\n",
                "import os\n",
                "import numpy as np\n",
                "from matplotlib import pyplot as plt\n",
                "path_project = \"\\\\\".join(os.getcwd().split(\"\\\\\")[:-1])\n",
                "# caution: path[0] is reserved for script path (or '' in REPL)\n",
                "sys.path.insert(1, path_project)\n",
                "from pathlib import Path\n",
                "import nidaqmx\n",
                "\n",
                "def lcm(a, b):\n",
                "    \"\"\"Calculate the least common multiple of two numbers.\"\"\"\n",
                "    return abs(a * b) // math.gcd(a, b)\n",
                "\n",
                "\n",
                "def lcm_of_list(numbers):\n",
                "    \"\"\"Find the LCM of a list of numbers.\"\"\"\n",
                "    return reduce(lcm, numbers)\n",
                "\n",
                "def seqtime(seq_tb):\n",
                "    return np.sum([pulse[-1] for pulse in seq_tb])\n",
                "\n",
                "# some constants\n",
                "Hz = 1e-9 # GHz\n",
                "kHz = 1e-6 # GHz\n",
                "MHz = 1e-3 # GHz\n",
                "pi = np.pi"
            ]
        },
        {
            "cell_type": "code",
            "execution_count": 2,
            "id": "2f28a0d6",
            "metadata": {},
            "outputs": [],
            "source": [
                "# from logmodule import setup_logging\n"
            ]
        },
        {
            "cell_type": "code",
            "execution_count": 3,
            "id": "df66678e",
            "metadata": {},
            "outputs": [],
            "source": [
                "# setup_logging()\n",
                "# logger = logging.getLogger(__name__)\n"
            ]
        },
        {
            "cell_type": "code",
            "execution_count": 4,
            "id": "aeebbafd",
            "metadata": {},
            "outputs": [
                {
                    "name": "stdout",
                    "output_type": "stream",
                    "text": [
                        "Connect to Pulse Streamer via JSON-RPC.\n",
                        "IP / Hostname: 169.254.8.2\n",
                        "Pulse Streamer 8/2 firmware: v1.7.2\n",
                        "Client software: v1.7.0\n",
                        "VDI Sythesizer Serail Port Open\n"
                    ]
                }
            ],
            "source": [
                "import nidaqmx\n",
                "from nidaqmx.constants import TerminalConfiguration, VoltageUnits, Edge, AcquisitionType, READ_ALL_AVAILABLE\n",
                "from nidaqmx.stream_readers import AnalogSingleChannelReader\n",
                "\n",
                "from hardware import config as hcf\n",
                "from hardware.hardwaremanager import HardwareManager\n",
                "from hardware.pulser.pulser import (\n",
                "    OutputState,\n",
                "    TriggerStart,\n",
                "    TriggerRearm,\n",
                "    HIGH,\n",
                "    LOW,\n",
                "    INF,\n",
                "    REPEAT_INFINITELY\n",
                ")\n",
                "timebase = lcm_of_list(\n",
                "    [hcf.VDISYN_timebase, hcf.SIDIG_timebase, hcf.PS_timebase, hcf.RSRF_timebase]\n",
                ")\n",
                "\n",
                "hw = HardwareManager()\n",
                "# adds synthesizer, laser, and pulse generator \n",
                "hw.add_default_hardware()\n"
            ]
        },
        {
            "cell_type": "code",
            "execution_count": 5,
            "id": "aa4baf48",
            "metadata": {},
            "outputs": [],
            "source": [
                "# pulse streamer pulse sequence \n",
                "\n",
                "def sequence_mw_phase_calibration(\n",
                "    init_nslaser: int,\n",
                "    init_isc: int,\n",
                "    init_wait: int,\n",
                "    init_repeat: int,\n",
                "    read_wait: int,\n",
                "    read_laser: int,\n",
                "    mw_dur: int,\n",
                "):\n",
                "    seq_exp = []\n",
                "\n",
                "    sub_init = [([\"laser\"], init_nslaser), ([], init_isc)] * init_repeat + [\n",
                "        ([], init_wait)\n",
                "    ]\n",
                "\n",
                "    sub_evo_MWA = [([\"mwA\"], mw_dur)]\n",
                "    sub_evo_MAB = [([\"mwB\"], mw_dur)]\n",
                "\n",
                "\n",
                "    sub_read = [([], read_wait), ([\"laser\", \"sdtrig\"], read_laser)]\n",
                "\n",
                "    seq_exp += sub_init + sub_evo_MWA + sub_evo_MAB+ sub_read\n",
                "\n",
                "    sub_evo_noMW = [([], mw_dur)]\n",
                "\n",
                "    seq_exp += sub_init + sub_evo_noMW+ sub_evo_noMW + sub_read # add two elements of sub_evo_noMW to account for the 2 x mwdur in MWA and MAB\n",
                "\n",
                "    _aux = None\n",
                "\n",
                "    return seq_exp, _aux"
            ]
        },
        {
            "cell_type": "code",
            "execution_count": 6,
            "id": "f61108f1",
            "metadata": {},
            "outputs": [],
            "source": [
                "# DEFINE THE PARAMETERS\n",
                "paraset = dict(\n",
                "            mw_phasevolt_start=0,  # Volts\n",
                "            mw_phasevolt_stop=0.6,  # Volts\n",
                "            mw_phasevolt_step=0.005,  # Volts\n",
                "            # -------------------\n",
                "            # init_laser=1500.0,\n",
                "            init_wait=250.0,\n",
                "            init_nslaser=250,\n",
                "            init_isc=250,\n",
                "            init_repeat=50,\n",
                "            mw_time=125.0,\n",
                "            read_wait=500.0,\n",
                "            read_laser=1201.0,\n",
                "            # -------------------\n",
                "            mw_phasevolt=5.0,\n",
                "            laser_current=35,  # 0 to 100%\n",
                "            amp_input=1000,  # input amplitude for digitizer\n",
                "            repeat_daq=10,\n",
                "            bz_bias_vol=1,  # -1V to 1V\n",
                "            # -------------------\n",
                "            rate_refresh=30.0,  # Hz rate of refreshing the entire spectrum, approx\n",
                "            ODMR_freq=392.83,\n",
                "        )\n"
            ]
        },
        {
            "cell_type": "code",
            "execution_count": 7,
            "id": "16483e85",
            "metadata": {},
            "outputs": [],
            "source": [
                "# DEFINE THE DATASET\n",
                "dataset = dict(\n",
                "    num_repeat=0,\n",
                "    phasevolt=np.zeros(\n",
                "        len(\n",
                "            np.arange(\n",
                "                paraset[\"mw_phasevolt_start\"],\n",
                "                paraset[\"mw_phasevolt_stop\"],\n",
                "                paraset[\"mw_phasevolt_step\"],\n",
                "            )\n",
                "        )\n",
                "    ),\n",
                "    signal=np.zeros(\n",
                "        len(\n",
                "            np.arange(\n",
                "                paraset[\"mw_phasevolt_start\"],\n",
                "                paraset[\"mw_phasevolt_stop\"],\n",
                "                paraset[\"mw_phasevolt_step\"],\n",
                "            )\n",
                "        )\n",
                "    ),\n",
                "    background=np.zeros(\n",
                "        len(\n",
                "            np.arange(\n",
                "                paraset[\"mw_phasevolt_start\"],\n",
                "                paraset[\"mw_phasevolt_stop\"],\n",
                "                paraset[\"mw_phasevolt_step\"],\n",
                "            )\n",
                "        )\n",
                "    )\n",
                ")"
            ]
        },
        {
            "cell_type": "code",
            "execution_count": 8,
            "id": "bd66a3b8",
            "metadata": {},
            "outputs": [],
            "source": [
                "# SETUP THE EXPERIMENT\n",
                "# set the frequency array----------------------------------------------\n",
                "mw_phasevolt_start = paraset[\"mw_phasevolt_start\"]\n",
                "mw_phasevolt_stop = paraset[\"mw_phasevolt_stop\"]\n",
                "mw_phasevolt_step = paraset[\"mw_phasevolt_step\"]\n",
                "ODMR_freq = paraset[\"ODMR_freq\"]\n",
                "mw_phasevolt_array = np.arange(mw_phasevolt_start, mw_phasevolt_stop, mw_phasevolt_step)\n",
                "num_phase = len(mw_phasevolt_array)\n",
                "# just to see if we can set the freq in the mwsyn\n",
                "freq = ODMR_freq\n",
                "hw.vdi.set_freq(freq) \n",
                "# set the MW power----------------------------------------------\n",
                "mwpower_level = 5\n",
                "hw.vdi.set_amp_volt(mwpower_level) \n",
                "\n",
                "# set the measurement sequence-------------------------------------------\n",
                "seq_exp, _ = sequence_mw_phase_calibration(\n",
                "    paraset[\"init_nslaser\"],\n",
                "    paraset[\"init_isc\"],\n",
                "    paraset[\"init_wait\"],\n",
                "    paraset[\"init_repeat\"],\n",
                "    paraset[\"read_wait\"],\n",
                "    paraset[\"read_laser\"],\n",
                "    paraset[\"mw_time\"],\n",
                ")\n",
                "tt_seq = seqtime(seq_exp)\n",
                "\n",
                "hw.pg.setSequence(seq_exp, reset=True)\n",
                "hw.pg.setTrigger(start=TriggerStart.SOFTWARE, rearm=TriggerRearm.MANUAL)\n",
                "\n",
                "read_wait = paraset[\"read_wait\"]\n",
                "read_laser = paraset[\"read_laser\"]\n",
                "databufferlen = 2  # mw on and mw off\n",
                "\n",
                "rate_refresh = paraset[\n",
                "    \"rate_refresh\"\n",
                "]  # Hz rate of refreshing the data streaming\n",
                "\n",
                "amp_input = paraset[\"amp_input\"]\n",
                "readout_ch = hcf.SIDIG_chmap[\"apd\"]\n",
                "num_segment = (\n",
                "    int(databufferlen / (tt_seq * rate_refresh / 1e9)) // 32 * 32\n",
                ")  # number of \"reads\" every data refresh\n",
                "\n",
                "# configures the readout to match the pulse sequence\n",
                "pretrig_size = (\n",
                "    int((read_wait / 2) * hcf.SIDIG_maxsr / 1e9) // 64 * 64\n",
                ")  # pretrigger based on the t_wait time\n",
                "posttrig_size = (\n",
                "    int((read_laser) * hcf.SIDIG_maxsr / 1e9) // 64 * 64\n",
                ")  # posttrigger based on the t_laser time and init_isc\n",
                "segment_size = pretrig_size + posttrig_size\n",
                "segment_size = 2 ** int(np.log2(segment_size) + 1)  # make it power of 2\n",
                "posttrig_size = (\n",
                "    segment_size - pretrig_size\n",
                ")  # recalculate posttrigger size to ensure it is power of 2\n",
                "bgextend_size = 256\n",
                "# To set the configuration, make a dictionary with the key and value\n",
                "hw.dig.reset_param()\n",
                "hw.dig.assign_param(\n",
                "    dict(\n",
                "        readout_ch=readout_ch,\n",
                "        amp_input=amp_input,\n",
                "        num_segment=num_segment,\n",
                "        pretrig_size=pretrig_size + bgextend_size,  # TODO: why 256?\n",
                "        posttrig_size=posttrig_size - bgextend_size,\n",
                "        segment_size=segment_size,\n",
                "    )\n",
                ")\n",
                "\n",
                "hw.dig.set_ext_clock() # TODO does this need to be set during the loop \n",
                "# hw.dig.set_config() \n",
                "# -----------------------------------------------------------------------\n",
                "\n",
                "# set the pulse streamer stream-------------------------------------------\n",
                "hw.pg.setClock10MHzExt() # TODO does this need to be set during the loop \n",
                "# hw.pg.stream(n_runs=num_segment // databufferlen)\n",
                "\n",
                "# set the laser power -------------------------------------------------\n",
                "current_percent = paraset[\"laser_current\"]\n",
                "hw.laser.laser_off()\n",
                "hw.laser.set_analog_control_mode(\"current\")\n",
                "hw.laser.set_modulation_state(\"Pulsed\")\n",
                "hw.laser.set_diode_current(current_percent, save_memory=False)\n",
                "hw.laser.laser_on()  # turn on laser\n",
                "\n",
                "# Allocate arrays and arguments for the experiment------------------------------------------------\n",
                "\n",
                "num_seg_singelfreq = num_segment\n",
                "# num_phase = num_phase\n",
                "phase_actual = np.copy(mw_phasevolt_array)\n",
                "segment_list = np.zeros_like(phase_actual)\n",
                "sig_mwon_raw = np.zeros((len(phase_actual), segment_size))\n",
                "sig_mwoff_raw = np.zeros((len(phase_actual), segment_size))\n",
                "sig_mwon = np.zeros_like(phase_actual)\n",
                "sig_mwoff = np.zeros_like(phase_actual)\n",
                "num_repeat = 10\n",
                "phase_idx = 0\n",
                "\n",
                "# start the digitizer buffering------------------------------------\n",
                "hw.dig.set_config()\n",
                "# hw.dig.start_buffer()\n",
                "\n"
            ]
        },
        {
            "cell_type": "code",
            "execution_count": 9,
            "id": "9d3de6ff",
            "metadata": {},
            "outputs": [
                {
                    "data": {
                        "application/vnd.plotly.v1+json": {
                            "config": {
                                "plotlyServerURL": "https://plot.ly"
                            },
                            "data": [
                                {
                                    "line": {
                                        "shape": "hv"
                                    },
                                    "mode": "lines",
                                    "name": "D0",
                                    "type": "scatter",
                                    "x": {
                                        "bdata": "AAAAAAAAAAD6AAAA9AEAAO4CAADoAwAA4gQAANwFAADWBgAA0AcAAMoIAADECQAAvgoAALgLAACyDAAArA0AAKYOAACgDwAAmhAAAJQRAACOEgAAiBMAAIIUAAB8FQAAdhYAAHAXAABqGAAAZBkAAF4aAABYGwAAUhwAAEwdAABGHgAAQB8AADogAAA0IQAALiIAACgjAAAiJAAAHCUAABYmAAAQJwAACigAAAQpAAD+KQAA+CoAAPIrAADsLAAA5i0AAOAuAADaLwAA1DAAAM4xAADIMgAAwjMAALw0AAC2NQAAsDYAAKo3AACkOAAAnjkAAJg6AACSOwAAjDwAAIY9AACAPgAAej8AAHRAAABuQQAAaEIAAGJDAABcRAAAVkUAAFBGAABKRwAAREgAAD5JAAA4SgAAMksAACxMAAAmTQAAIE4AABpPAAAUUAAADlEAAAhSAAACUwAA/FMAAPZUAADwVQAA6lYAAORXAADeWAAA2FkAANJaAADMWwAAxlwAAMBdAAC6XgAAtF8AAK5gAACoYQAAomIAAB9jAACcYwAAkGUAAEFqAAA7awAANWwAAC9tAAApbgAAI28AAB1wAAAXcQAAEXIAAAtzAAAFdAAA/3QAAPl1AADzdgAA7XcAAOd4AADheQAA23oAANV7AADPfAAAyX0AAMN+AAC9fwAAt4AAALGBAACrggAApYMAAJ+EAACZhQAAk4YAAI2HAACHiAAAgYkAAHuKAAB1iwAAb4wAAGmNAABjjgAAXY8AAFeQAABRkQAAS5IAAEWTAAA/lAAAOZUAADOWAAAtlwAAJ5gAACGZAAAbmgAAFZsAAA+cAAAJnQAAA54AAP2eAAD3nwAA8aAAAOuhAADlogAA36MAANmkAADTpQAAzaYAAMenAADBqAAAu6kAALWqAACvqwAAqawAAKOtAACdrgAAl68AAJGwAACLsQAAhbIAAH+zAAB5tAAAc7UAAG22AABntwAAYbgAAFu5AABVugAAT7sAAEm8AABDvQAAPb4AADe/AAAxwAAAK8EAACXCAAAfwwAAGcQAABPFAAANxgAAB8cAAAHIAAD7yAAA9ckAAO/KAADpywAA48wAAGDNAADdzQAA0c8AAILUAAA=",
                                        "dtype": "i4"
                                    },
                                    "xaxis": "x",
                                    "y": {
                                        "bdata": "AAEAAQABAAEAAQABAAEAAQABAAEAAQABAAEAAQABAAEAAQABAAEAAQABAAEAAQABAAEAAQABAAEAAQABAAEAAQABAAEAAQABAAEAAQABAAEAAQABAAEAAQABAAEAAQABAAEAAQAAAAAAAQEAAQABAAEAAQABAAEAAQABAAEAAQABAAEAAQABAAEAAQABAAEAAQABAAEAAQABAAEAAQABAAEAAQABAAEAAQABAAEAAQABAAEAAQABAAEAAQABAAEAAQABAAEAAQABAAEAAQAAAAAAAQE=",
                                        "dtype": "i1"
                                    },
                                    "yaxis": "y"
                                },
                                {
                                    "line": {
                                        "shape": "hv"
                                    },
                                    "mode": "lines",
                                    "name": "D1",
                                    "type": "scatter",
                                    "x": {
                                        "bdata": "AAAAAILUAAA=",
                                        "dtype": "i4"
                                    },
                                    "xaxis": "x2",
                                    "y": {
                                        "bdata": "AAA=",
                                        "dtype": "i1"
                                    },
                                    "yaxis": "y2"
                                },
                                {
                                    "line": {
                                        "shape": "hv"
                                    },
                                    "mode": "lines",
                                    "name": "D2",
                                    "type": "scatter",
                                    "x": {
                                        "bdata": "AAAAAILUAAA=",
                                        "dtype": "i4"
                                    },
                                    "xaxis": "x3",
                                    "y": {
                                        "bdata": "AAA=",
                                        "dtype": "i1"
                                    },
                                    "yaxis": "y3"
                                },
                                {
                                    "line": {
                                        "shape": "hv"
                                    },
                                    "mode": "lines",
                                    "name": "D6",
                                    "type": "scatter",
                                    "x": {
                                        "bdata": "AAAAAILUAAA=",
                                        "dtype": "i4"
                                    },
                                    "xaxis": "x4",
                                    "y": {
                                        "bdata": "AAA=",
                                        "dtype": "i1"
                                    },
                                    "yaxis": "y4"
                                },
                                {
                                    "line": {
                                        "shape": "hv"
                                    },
                                    "mode": "lines",
                                    "name": "D3",
                                    "type": "scatter",
                                    "x": {
                                        "bdata": "AAAAAAAAAAD6AAAA9AEAAO4CAADoAwAA4gQAANwFAADWBgAA0AcAAMoIAADECQAAvgoAALgLAACyDAAArA0AAKYOAACgDwAAmhAAAJQRAACOEgAAiBMAAIIUAAB8FQAAdhYAAHAXAABqGAAAZBkAAF4aAABYGwAAUhwAAEwdAABGHgAAQB8AADogAAA0IQAALiIAACgjAAAiJAAAHCUAABYmAAAQJwAACigAAAQpAAD+KQAA+CoAAPIrAADsLAAA5i0AAOAuAADaLwAA1DAAAM4xAADIMgAAwjMAALw0AAC2NQAAsDYAAKo3AACkOAAAnjkAAJg6AACSOwAAjDwAAIY9AACAPgAAej8AAHRAAABuQQAAaEIAAGJDAABcRAAAVkUAAFBGAABKRwAAREgAAD5JAAA4SgAAMksAACxMAAAmTQAAIE4AABpPAAAUUAAADlEAAAhSAAACUwAA/FMAAPZUAADwVQAA6lYAAORXAADeWAAA2FkAANJaAADMWwAAxlwAAMBdAAC6XgAAtF8AAK5gAACoYQAAomIAAB9jAACcYwAAkGUAAEFqAAA7awAANWwAAC9tAAApbgAAI28AAB1wAAAXcQAAEXIAAAtzAAAFdAAA/3QAAPl1AADzdgAA7XcAAOd4AADheQAA23oAANV7AADPfAAAyX0AAMN+AAC9fwAAt4AAALGBAACrggAApYMAAJ+EAACZhQAAk4YAAI2HAACHiAAAgYkAAHuKAAB1iwAAb4wAAGmNAABjjgAAXY8AAFeQAABRkQAAS5IAAEWTAAA/lAAAOZUAADOWAAAtlwAAJ5gAACGZAAAbmgAAFZsAAA+cAAAJnQAAA54AAP2eAAD3nwAA8aAAAOuhAADlogAA36MAANmkAADTpQAAzaYAAMenAADBqAAAu6kAALWqAACvqwAAqawAAKOtAACdrgAAl68AAJGwAACLsQAAhbIAAH+zAAB5tAAAc7UAAG22AABntwAAYbgAAFu5AABVugAAT7sAAEm8AABDvQAAPb4AADe/AAAxwAAAK8EAACXCAAAfwwAAGcQAABPFAAANxgAAB8cAAAHIAAD7yAAA9ckAAO/KAADpywAA48wAAGDNAADdzQAA0c8AAILUAAA=",
                                        "dtype": "i4"
                                    },
                                    "xaxis": "x5",
                                    "y": {
                                        "bdata": "AAAAAAAAAAAAAAAAAAAAAAAAAAAAAAAAAAAAAAAAAAAAAAAAAAAAAAAAAAAAAAAAAAAAAAAAAAAAAAAAAAAAAAAAAAAAAAAAAAAAAAAAAAAAAAAAAAAAAAAAAAAAAAAAAAAAAAAAAAAAAQAAAAAAAAAAAAAAAAAAAAAAAAAAAAAAAAAAAAAAAAAAAAAAAAAAAAAAAAAAAAAAAAAAAAAAAAAAAAAAAAAAAAAAAAAAAAAAAAAAAAAAAAAAAAAAAAAAAAAAAAAAAAAAAAAAAAAAAAAAAQE=",
                                        "dtype": "i1"
                                    },
                                    "yaxis": "y5"
                                },
                                {
                                    "line": {
                                        "shape": "hv"
                                    },
                                    "mode": "lines",
                                    "name": "D4",
                                    "type": "scatter",
                                    "x": {
                                        "bdata": "AAAAAAAAAAD6AAAA9AEAAO4CAADoAwAA4gQAANwFAADWBgAA0AcAAMoIAADECQAAvgoAALgLAACyDAAArA0AAKYOAACgDwAAmhAAAJQRAACOEgAAiBMAAIIUAAB8FQAAdhYAAHAXAABqGAAAZBkAAF4aAABYGwAAUhwAAEwdAABGHgAAQB8AADogAAA0IQAALiIAACgjAAAiJAAAHCUAABYmAAAQJwAACigAAAQpAAD+KQAA+CoAAPIrAADsLAAA5i0AAOAuAADaLwAA1DAAAM4xAADIMgAAwjMAALw0AAC2NQAAsDYAAKo3AACkOAAAnjkAAJg6AACSOwAAjDwAAIY9AACAPgAAej8AAHRAAABuQQAAaEIAAGJDAABcRAAAVkUAAFBGAABKRwAAREgAAD5JAAA4SgAAMksAACxMAAAmTQAAIE4AABpPAAAUUAAADlEAAAhSAAACUwAA/FMAAPZUAADwVQAA6lYAAORXAADeWAAA2FkAANJaAADMWwAAxlwAAMBdAAC6XgAAtF8AAK5gAACoYQAAomIAAB9jAACcYwAAkGUAAEFqAAA7awAANWwAAC9tAAApbgAAI28AAB1wAAAXcQAAEXIAAAtzAAAFdAAA/3QAAPl1AADzdgAA7XcAAOd4AADheQAA23oAANV7AADPfAAAyX0AAMN+AAC9fwAAt4AAALGBAACrggAApYMAAJ+EAACZhQAAk4YAAI2HAACHiAAAgYkAAHuKAAB1iwAAb4wAAGmNAABjjgAAXY8AAFeQAABRkQAAS5IAAEWTAAA/lAAAOZUAADOWAAAtlwAAJ5gAACGZAAAbmgAAFZsAAA+cAAAJnQAAA54AAP2eAAD3nwAA8aAAAOuhAADlogAA36MAANmkAADTpQAAzaYAAMenAADBqAAAu6kAALWqAACvqwAAqawAAKOtAACdrgAAl68AAJGwAACLsQAAhbIAAH+zAAB5tAAAc7UAAG22AABntwAAYbgAAFu5AABVugAAT7sAAEm8AABDvQAAPb4AADe/AAAxwAAAK8EAACXCAAAfwwAAGcQAABPFAAANxgAAB8cAAAHIAAD7yAAA9ckAAO/KAADpywAA48wAAGDNAADdzQAA0c8AAILUAAA=",
                                        "dtype": "i4"
                                    },
                                    "xaxis": "x6",
                                    "y": {
                                        "bdata": "AAAAAAAAAAAAAAAAAAAAAAAAAAAAAAAAAAAAAAAAAAAAAAAAAAAAAAAAAAAAAAAAAAAAAAAAAAAAAAAAAAAAAAAAAAAAAAAAAAAAAAAAAAAAAAAAAAAAAAAAAAAAAAAAAAAAAAAAAQAAAAAAAAAAAAAAAAAAAAAAAAAAAAAAAAAAAAAAAAAAAAAAAAAAAAAAAAAAAAAAAAAAAAAAAAAAAAAAAAAAAAAAAAAAAAAAAAAAAAAAAAAAAAAAAAAAAAAAAAAAAAAAAAAAAAAAAAAAAAAAAAA=",
                                        "dtype": "i1"
                                    },
                                    "yaxis": "y6"
                                },
                                {
                                    "line": {
                                        "shape": "hv"
                                    },
                                    "mode": "lines",
                                    "name": "D5",
                                    "type": "scatter",
                                    "x": {
                                        "bdata": "AAAAAAAAAAD6AAAA9AEAAO4CAADoAwAA4gQAANwFAADWBgAA0AcAAMoIAADECQAAvgoAALgLAACyDAAArA0AAKYOAACgDwAAmhAAAJQRAACOEgAAiBMAAIIUAAB8FQAAdhYAAHAXAABqGAAAZBkAAF4aAABYGwAAUhwAAEwdAABGHgAAQB8AADogAAA0IQAALiIAACgjAAAiJAAAHCUAABYmAAAQJwAACigAAAQpAAD+KQAA+CoAAPIrAADsLAAA5i0AAOAuAADaLwAA1DAAAM4xAADIMgAAwjMAALw0AAC2NQAAsDYAAKo3AACkOAAAnjkAAJg6AACSOwAAjDwAAIY9AACAPgAAej8AAHRAAABuQQAAaEIAAGJDAABcRAAAVkUAAFBGAABKRwAAREgAAD5JAAA4SgAAMksAACxMAAAmTQAAIE4AABpPAAAUUAAADlEAAAhSAAACUwAA/FMAAPZUAADwVQAA6lYAAORXAADeWAAA2FkAANJaAADMWwAAxlwAAMBdAAC6XgAAtF8AAK5gAACoYQAAomIAAB9jAACcYwAAkGUAAEFqAAA7awAANWwAAC9tAAApbgAAI28AAB1wAAAXcQAAEXIAAAtzAAAFdAAA/3QAAPl1AADzdgAA7XcAAOd4AADheQAA23oAANV7AADPfAAAyX0AAMN+AAC9fwAAt4AAALGBAACrggAApYMAAJ+EAACZhQAAk4YAAI2HAACHiAAAgYkAAHuKAAB1iwAAb4wAAGmNAABjjgAAXY8AAFeQAABRkQAAS5IAAEWTAAA/lAAAOZUAADOWAAAtlwAAJ5gAACGZAAAbmgAAFZsAAA+cAAAJnQAAA54AAP2eAAD3nwAA8aAAAOuhAADlogAA36MAANmkAADTpQAAzaYAAMenAADBqAAAu6kAALWqAACvqwAAqawAAKOtAACdrgAAl68AAJGwAACLsQAAhbIAAH+zAAB5tAAAc7UAAG22AABntwAAYbgAAFu5AABVugAAT7sAAEm8AABDvQAAPb4AADe/AAAxwAAAK8EAACXCAAAfwwAAGcQAABPFAAANxgAAB8cAAAHIAAD7yAAA9ckAAO/KAADpywAA48wAAGDNAADdzQAA0c8AAILUAAA=",
                                        "dtype": "i4"
                                    },
                                    "xaxis": "x7",
                                    "y": {
                                        "bdata": "AAAAAAAAAAAAAAAAAAAAAAAAAAAAAAAAAAAAAAAAAAAAAAAAAAAAAAAAAAAAAAAAAAAAAAAAAAAAAAAAAAAAAAAAAAAAAAAAAAAAAAAAAAAAAAAAAAAAAAAAAAAAAAAAAAAAAAAAAAEAAAAAAAAAAAAAAAAAAAAAAAAAAAAAAAAAAAAAAAAAAAAAAAAAAAAAAAAAAAAAAAAAAAAAAAAAAAAAAAAAAAAAAAAAAAAAAAAAAAAAAAAAAAAAAAAAAAAAAAAAAAAAAAAAAAAAAAAAAAAAAAA=",
                                        "dtype": "i1"
                                    },
                                    "yaxis": "y7"
                                },
                                {
                                    "line": {
                                        "shape": "hv"
                                    },
                                    "mode": "lines",
                                    "name": "D7",
                                    "type": "scatter",
                                    "x": {
                                        "bdata": "AAAAAILUAAA=",
                                        "dtype": "i4"
                                    },
                                    "xaxis": "x8",
                                    "y": {
                                        "bdata": "AAA=",
                                        "dtype": "i1"
                                    },
                                    "yaxis": "y8"
                                },
                                {
                                    "line": {
                                        "color": "black",
                                        "shape": "hv"
                                    },
                                    "mode": "lines",
                                    "name": "A0",
                                    "type": "scatter",
                                    "x": {
                                        "bdata": "AAAAAILUAAA=",
                                        "dtype": "i4"
                                    },
                                    "xaxis": "x9",
                                    "y": {
                                        "bdata": "AAAAAAAAAAAAAAAAAAAAAA==",
                                        "dtype": "f8"
                                    },
                                    "yaxis": "y9"
                                },
                                {
                                    "line": {
                                        "color": "black",
                                        "shape": "hv"
                                    },
                                    "mode": "lines",
                                    "name": "A1",
                                    "type": "scatter",
                                    "x": {
                                        "bdata": "AAAAAILUAAA=",
                                        "dtype": "i4"
                                    },
                                    "xaxis": "x10",
                                    "y": {
                                        "bdata": "AAAAAAAAAAAAAAAAAAAAAA==",
                                        "dtype": "f8"
                                    },
                                    "yaxis": "y10"
                                }
                            ],
                            "layout": {
                                "height": 600,
                                "margin": {
                                    "b": 40,
                                    "l": 50,
                                    "r": 50,
                                    "t": 40
                                },
                                "showlegend": false,
                                "template": {
                                    "data": {
                                        "bar": [
                                            {
                                                "error_x": {
                                                    "color": "#2a3f5f"
                                                },
                                                "error_y": {
                                                    "color": "#2a3f5f"
                                                },
                                                "marker": {
                                                    "line": {
                                                        "color": "#E5ECF6",
                                                        "width": 0.5
                                                    },
                                                    "pattern": {
                                                        "fillmode": "overlay",
                                                        "size": 10,
                                                        "solidity": 0.2
                                                    }
                                                },
                                                "type": "bar"
                                            }
                                        ],
                                        "barpolar": [
                                            {
                                                "marker": {
                                                    "line": {
                                                        "color": "#E5ECF6",
                                                        "width": 0.5
                                                    },
                                                    "pattern": {
                                                        "fillmode": "overlay",
                                                        "size": 10,
                                                        "solidity": 0.2
                                                    }
                                                },
                                                "type": "barpolar"
                                            }
                                        ],
                                        "carpet": [
                                            {
                                                "aaxis": {
                                                    "endlinecolor": "#2a3f5f",
                                                    "gridcolor": "white",
                                                    "linecolor": "white",
                                                    "minorgridcolor": "white",
                                                    "startlinecolor": "#2a3f5f"
                                                },
                                                "baxis": {
                                                    "endlinecolor": "#2a3f5f",
                                                    "gridcolor": "white",
                                                    "linecolor": "white",
                                                    "minorgridcolor": "white",
                                                    "startlinecolor": "#2a3f5f"
                                                },
                                                "type": "carpet"
                                            }
                                        ],
                                        "choropleth": [
                                            {
                                                "colorbar": {
                                                    "outlinewidth": 0,
                                                    "ticks": ""
                                                },
                                                "type": "choropleth"
                                            }
                                        ],
                                        "contour": [
                                            {
                                                "colorbar": {
                                                    "outlinewidth": 0,
                                                    "ticks": ""
                                                },
                                                "colorscale": [
                                                    [
                                                        0,
                                                        "#0d0887"
                                                    ],
                                                    [
                                                        0.1111111111111111,
                                                        "#46039f"
                                                    ],
                                                    [
                                                        0.2222222222222222,
                                                        "#7201a8"
                                                    ],
                                                    [
                                                        0.3333333333333333,
                                                        "#9c179e"
                                                    ],
                                                    [
                                                        0.4444444444444444,
                                                        "#bd3786"
                                                    ],
                                                    [
                                                        0.5555555555555556,
                                                        "#d8576b"
                                                    ],
                                                    [
                                                        0.6666666666666666,
                                                        "#ed7953"
                                                    ],
                                                    [
                                                        0.7777777777777778,
                                                        "#fb9f3a"
                                                    ],
                                                    [
                                                        0.8888888888888888,
                                                        "#fdca26"
                                                    ],
                                                    [
                                                        1,
                                                        "#f0f921"
                                                    ]
                                                ],
                                                "type": "contour"
                                            }
                                        ],
                                        "contourcarpet": [
                                            {
                                                "colorbar": {
                                                    "outlinewidth": 0,
                                                    "ticks": ""
                                                },
                                                "type": "contourcarpet"
                                            }
                                        ],
                                        "heatmap": [
                                            {
                                                "colorbar": {
                                                    "outlinewidth": 0,
                                                    "ticks": ""
                                                },
                                                "colorscale": [
                                                    [
                                                        0,
                                                        "#0d0887"
                                                    ],
                                                    [
                                                        0.1111111111111111,
                                                        "#46039f"
                                                    ],
                                                    [
                                                        0.2222222222222222,
                                                        "#7201a8"
                                                    ],
                                                    [
                                                        0.3333333333333333,
                                                        "#9c179e"
                                                    ],
                                                    [
                                                        0.4444444444444444,
                                                        "#bd3786"
                                                    ],
                                                    [
                                                        0.5555555555555556,
                                                        "#d8576b"
                                                    ],
                                                    [
                                                        0.6666666666666666,
                                                        "#ed7953"
                                                    ],
                                                    [
                                                        0.7777777777777778,
                                                        "#fb9f3a"
                                                    ],
                                                    [
                                                        0.8888888888888888,
                                                        "#fdca26"
                                                    ],
                                                    [
                                                        1,
                                                        "#f0f921"
                                                    ]
                                                ],
                                                "type": "heatmap"
                                            }
                                        ],
                                        "histogram": [
                                            {
                                                "marker": {
                                                    "pattern": {
                                                        "fillmode": "overlay",
                                                        "size": 10,
                                                        "solidity": 0.2
                                                    }
                                                },
                                                "type": "histogram"
                                            }
                                        ],
                                        "histogram2d": [
                                            {
                                                "colorbar": {
                                                    "outlinewidth": 0,
                                                    "ticks": ""
                                                },
                                                "colorscale": [
                                                    [
                                                        0,
                                                        "#0d0887"
                                                    ],
                                                    [
                                                        0.1111111111111111,
                                                        "#46039f"
                                                    ],
                                                    [
                                                        0.2222222222222222,
                                                        "#7201a8"
                                                    ],
                                                    [
                                                        0.3333333333333333,
                                                        "#9c179e"
                                                    ],
                                                    [
                                                        0.4444444444444444,
                                                        "#bd3786"
                                                    ],
                                                    [
                                                        0.5555555555555556,
                                                        "#d8576b"
                                                    ],
                                                    [
                                                        0.6666666666666666,
                                                        "#ed7953"
                                                    ],
                                                    [
                                                        0.7777777777777778,
                                                        "#fb9f3a"
                                                    ],
                                                    [
                                                        0.8888888888888888,
                                                        "#fdca26"
                                                    ],
                                                    [
                                                        1,
                                                        "#f0f921"
                                                    ]
                                                ],
                                                "type": "histogram2d"
                                            }
                                        ],
                                        "histogram2dcontour": [
                                            {
                                                "colorbar": {
                                                    "outlinewidth": 0,
                                                    "ticks": ""
                                                },
                                                "colorscale": [
                                                    [
                                                        0,
                                                        "#0d0887"
                                                    ],
                                                    [
                                                        0.1111111111111111,
                                                        "#46039f"
                                                    ],
                                                    [
                                                        0.2222222222222222,
                                                        "#7201a8"
                                                    ],
                                                    [
                                                        0.3333333333333333,
                                                        "#9c179e"
                                                    ],
                                                    [
                                                        0.4444444444444444,
                                                        "#bd3786"
                                                    ],
                                                    [
                                                        0.5555555555555556,
                                                        "#d8576b"
                                                    ],
                                                    [
                                                        0.6666666666666666,
                                                        "#ed7953"
                                                    ],
                                                    [
                                                        0.7777777777777778,
                                                        "#fb9f3a"
                                                    ],
                                                    [
                                                        0.8888888888888888,
                                                        "#fdca26"
                                                    ],
                                                    [
                                                        1,
                                                        "#f0f921"
                                                    ]
                                                ],
                                                "type": "histogram2dcontour"
                                            }
                                        ],
                                        "mesh3d": [
                                            {
                                                "colorbar": {
                                                    "outlinewidth": 0,
                                                    "ticks": ""
                                                },
                                                "type": "mesh3d"
                                            }
                                        ],
                                        "parcoords": [
                                            {
                                                "line": {
                                                    "colorbar": {
                                                        "outlinewidth": 0,
                                                        "ticks": ""
                                                    }
                                                },
                                                "type": "parcoords"
                                            }
                                        ],
                                        "pie": [
                                            {
                                                "automargin": true,
                                                "type": "pie"
                                            }
                                        ],
                                        "scatter": [
                                            {
                                                "fillpattern": {
                                                    "fillmode": "overlay",
                                                    "size": 10,
                                                    "solidity": 0.2
                                                },
                                                "type": "scatter"
                                            }
                                        ],
                                        "scatter3d": [
                                            {
                                                "line": {
                                                    "colorbar": {
                                                        "outlinewidth": 0,
                                                        "ticks": ""
                                                    }
                                                },
                                                "marker": {
                                                    "colorbar": {
                                                        "outlinewidth": 0,
                                                        "ticks": ""
                                                    }
                                                },
                                                "type": "scatter3d"
                                            }
                                        ],
                                        "scattercarpet": [
                                            {
                                                "marker": {
                                                    "colorbar": {
                                                        "outlinewidth": 0,
                                                        "ticks": ""
                                                    }
                                                },
                                                "type": "scattercarpet"
                                            }
                                        ],
                                        "scattergeo": [
                                            {
                                                "marker": {
                                                    "colorbar": {
                                                        "outlinewidth": 0,
                                                        "ticks": ""
                                                    }
                                                },
                                                "type": "scattergeo"
                                            }
                                        ],
                                        "scattergl": [
                                            {
                                                "marker": {
                                                    "colorbar": {
                                                        "outlinewidth": 0,
                                                        "ticks": ""
                                                    }
                                                },
                                                "type": "scattergl"
                                            }
                                        ],
                                        "scattermap": [
                                            {
                                                "marker": {
                                                    "colorbar": {
                                                        "outlinewidth": 0,
                                                        "ticks": ""
                                                    }
                                                },
                                                "type": "scattermap"
                                            }
                                        ],
                                        "scattermapbox": [
                                            {
                                                "marker": {
                                                    "colorbar": {
                                                        "outlinewidth": 0,
                                                        "ticks": ""
                                                    }
                                                },
                                                "type": "scattermapbox"
                                            }
                                        ],
                                        "scatterpolar": [
                                            {
                                                "marker": {
                                                    "colorbar": {
                                                        "outlinewidth": 0,
                                                        "ticks": ""
                                                    }
                                                },
                                                "type": "scatterpolar"
                                            }
                                        ],
                                        "scatterpolargl": [
                                            {
                                                "marker": {
                                                    "colorbar": {
                                                        "outlinewidth": 0,
                                                        "ticks": ""
                                                    }
                                                },
                                                "type": "scatterpolargl"
                                            }
                                        ],
                                        "scatterternary": [
                                            {
                                                "marker": {
                                                    "colorbar": {
                                                        "outlinewidth": 0,
                                                        "ticks": ""
                                                    }
                                                },
                                                "type": "scatterternary"
                                            }
                                        ],
                                        "surface": [
                                            {
                                                "colorbar": {
                                                    "outlinewidth": 0,
                                                    "ticks": ""
                                                },
                                                "colorscale": [
                                                    [
                                                        0,
                                                        "#0d0887"
                                                    ],
                                                    [
                                                        0.1111111111111111,
                                                        "#46039f"
                                                    ],
                                                    [
                                                        0.2222222222222222,
                                                        "#7201a8"
                                                    ],
                                                    [
                                                        0.3333333333333333,
                                                        "#9c179e"
                                                    ],
                                                    [
                                                        0.4444444444444444,
                                                        "#bd3786"
                                                    ],
                                                    [
                                                        0.5555555555555556,
                                                        "#d8576b"
                                                    ],
                                                    [
                                                        0.6666666666666666,
                                                        "#ed7953"
                                                    ],
                                                    [
                                                        0.7777777777777778,
                                                        "#fb9f3a"
                                                    ],
                                                    [
                                                        0.8888888888888888,
                                                        "#fdca26"
                                                    ],
                                                    [
                                                        1,
                                                        "#f0f921"
                                                    ]
                                                ],
                                                "type": "surface"
                                            }
                                        ],
                                        "table": [
                                            {
                                                "cells": {
                                                    "fill": {
                                                        "color": "#EBF0F8"
                                                    },
                                                    "line": {
                                                        "color": "white"
                                                    }
                                                },
                                                "header": {
                                                    "fill": {
                                                        "color": "#C8D4E3"
                                                    },
                                                    "line": {
                                                        "color": "white"
                                                    }
                                                },
                                                "type": "table"
                                            }
                                        ]
                                    },
                                    "layout": {
                                        "annotationdefaults": {
                                            "arrowcolor": "#2a3f5f",
                                            "arrowhead": 0,
                                            "arrowwidth": 1
                                        },
                                        "autotypenumbers": "strict",
                                        "coloraxis": {
                                            "colorbar": {
                                                "outlinewidth": 0,
                                                "ticks": ""
                                            }
                                        },
                                        "colorscale": {
                                            "diverging": [
                                                [
                                                    0,
                                                    "#8e0152"
                                                ],
                                                [
                                                    0.1,
                                                    "#c51b7d"
                                                ],
                                                [
                                                    0.2,
                                                    "#de77ae"
                                                ],
                                                [
                                                    0.3,
                                                    "#f1b6da"
                                                ],
                                                [
                                                    0.4,
                                                    "#fde0ef"
                                                ],
                                                [
                                                    0.5,
                                                    "#f7f7f7"
                                                ],
                                                [
                                                    0.6,
                                                    "#e6f5d0"
                                                ],
                                                [
                                                    0.7,
                                                    "#b8e186"
                                                ],
                                                [
                                                    0.8,
                                                    "#7fbc41"
                                                ],
                                                [
                                                    0.9,
                                                    "#4d9221"
                                                ],
                                                [
                                                    1,
                                                    "#276419"
                                                ]
                                            ],
                                            "sequential": [
                                                [
                                                    0,
                                                    "#0d0887"
                                                ],
                                                [
                                                    0.1111111111111111,
                                                    "#46039f"
                                                ],
                                                [
                                                    0.2222222222222222,
                                                    "#7201a8"
                                                ],
                                                [
                                                    0.3333333333333333,
                                                    "#9c179e"
                                                ],
                                                [
                                                    0.4444444444444444,
                                                    "#bd3786"
                                                ],
                                                [
                                                    0.5555555555555556,
                                                    "#d8576b"
                                                ],
                                                [
                                                    0.6666666666666666,
                                                    "#ed7953"
                                                ],
                                                [
                                                    0.7777777777777778,
                                                    "#fb9f3a"
                                                ],
                                                [
                                                    0.8888888888888888,
                                                    "#fdca26"
                                                ],
                                                [
                                                    1,
                                                    "#f0f921"
                                                ]
                                            ],
                                            "sequentialminus": [
                                                [
                                                    0,
                                                    "#0d0887"
                                                ],
                                                [
                                                    0.1111111111111111,
                                                    "#46039f"
                                                ],
                                                [
                                                    0.2222222222222222,
                                                    "#7201a8"
                                                ],
                                                [
                                                    0.3333333333333333,
                                                    "#9c179e"
                                                ],
                                                [
                                                    0.4444444444444444,
                                                    "#bd3786"
                                                ],
                                                [
                                                    0.5555555555555556,
                                                    "#d8576b"
                                                ],
                                                [
                                                    0.6666666666666666,
                                                    "#ed7953"
                                                ],
                                                [
                                                    0.7777777777777778,
                                                    "#fb9f3a"
                                                ],
                                                [
                                                    0.8888888888888888,
                                                    "#fdca26"
                                                ],
                                                [
                                                    1,
                                                    "#f0f921"
                                                ]
                                            ]
                                        },
                                        "colorway": [
                                            "#636efa",
                                            "#EF553B",
                                            "#00cc96",
                                            "#ab63fa",
                                            "#FFA15A",
                                            "#19d3f3",
                                            "#FF6692",
                                            "#B6E880",
                                            "#FF97FF",
                                            "#FECB52"
                                        ],
                                        "font": {
                                            "color": "#2a3f5f"
                                        },
                                        "geo": {
                                            "bgcolor": "white",
                                            "lakecolor": "white",
                                            "landcolor": "#E5ECF6",
                                            "showlakes": true,
                                            "showland": true,
                                            "subunitcolor": "white"
                                        },
                                        "hoverlabel": {
                                            "align": "left"
                                        },
                                        "hovermode": "closest",
                                        "mapbox": {
                                            "style": "light"
                                        },
                                        "paper_bgcolor": "white",
                                        "plot_bgcolor": "#E5ECF6",
                                        "polar": {
                                            "angularaxis": {
                                                "gridcolor": "white",
                                                "linecolor": "white",
                                                "ticks": ""
                                            },
                                            "bgcolor": "#E5ECF6",
                                            "radialaxis": {
                                                "gridcolor": "white",
                                                "linecolor": "white",
                                                "ticks": ""
                                            }
                                        },
                                        "scene": {
                                            "xaxis": {
                                                "backgroundcolor": "#E5ECF6",
                                                "gridcolor": "white",
                                                "gridwidth": 2,
                                                "linecolor": "white",
                                                "showbackground": true,
                                                "ticks": "",
                                                "zerolinecolor": "white"
                                            },
                                            "yaxis": {
                                                "backgroundcolor": "#E5ECF6",
                                                "gridcolor": "white",
                                                "gridwidth": 2,
                                                "linecolor": "white",
                                                "showbackground": true,
                                                "ticks": "",
                                                "zerolinecolor": "white"
                                            },
                                            "zaxis": {
                                                "backgroundcolor": "#E5ECF6",
                                                "gridcolor": "white",
                                                "gridwidth": 2,
                                                "linecolor": "white",
                                                "showbackground": true,
                                                "ticks": "",
                                                "zerolinecolor": "white"
                                            }
                                        },
                                        "shapedefaults": {
                                            "line": {
                                                "color": "#2a3f5f"
                                            }
                                        },
                                        "ternary": {
                                            "aaxis": {
                                                "gridcolor": "white",
                                                "linecolor": "white",
                                                "ticks": ""
                                            },
                                            "baxis": {
                                                "gridcolor": "white",
                                                "linecolor": "white",
                                                "ticks": ""
                                            },
                                            "bgcolor": "#E5ECF6",
                                            "caxis": {
                                                "gridcolor": "white",
                                                "linecolor": "white",
                                                "ticks": ""
                                            }
                                        },
                                        "title": {
                                            "x": 0.05
                                        },
                                        "xaxis": {
                                            "automargin": true,
                                            "gridcolor": "white",
                                            "linecolor": "white",
                                            "ticks": "",
                                            "title": {
                                                "standoff": 15
                                            },
                                            "zerolinecolor": "white",
                                            "zerolinewidth": 2
                                        },
                                        "yaxis": {
                                            "automargin": true,
                                            "gridcolor": "white",
                                            "linecolor": "white",
                                            "ticks": "",
                                            "title": {
                                                "standoff": 15
                                            },
                                            "zerolinecolor": "white",
                                            "zerolinewidth": 2
                                        }
                                    }
                                },
                                "title": {
                                    "text": "Sequence"
                                },
                                "width": 600,
                                "xaxis": {
                                    "anchor": "y",
                                    "domain": [
                                        0,
                                        1
                                    ],
                                    "matches": "x10",
                                    "showticklabels": false
                                },
                                "xaxis10": {
                                    "anchor": "y10",
                                    "domain": [
                                        0,
                                        1
                                    ],
                                    "title": {
                                        "text": "time/ns"
                                    }
                                },
                                "xaxis2": {
                                    "anchor": "y2",
                                    "domain": [
                                        0,
                                        1
                                    ],
                                    "matches": "x10",
                                    "showticklabels": false
                                },
                                "xaxis3": {
                                    "anchor": "y3",
                                    "domain": [
                                        0,
                                        1
                                    ],
                                    "matches": "x10",
                                    "showticklabels": false
                                },
                                "xaxis4": {
                                    "anchor": "y4",
                                    "domain": [
                                        0,
                                        1
                                    ],
                                    "matches": "x10",
                                    "showticklabels": false
                                },
                                "xaxis5": {
                                    "anchor": "y5",
                                    "domain": [
                                        0,
                                        1
                                    ],
                                    "matches": "x10",
                                    "showticklabels": false
                                },
                                "xaxis6": {
                                    "anchor": "y6",
                                    "domain": [
                                        0,
                                        1
                                    ],
                                    "matches": "x10",
                                    "showticklabels": false
                                },
                                "xaxis7": {
                                    "anchor": "y7",
                                    "domain": [
                                        0,
                                        1
                                    ],
                                    "matches": "x10",
                                    "showticklabels": false
                                },
                                "xaxis8": {
                                    "anchor": "y8",
                                    "domain": [
                                        0,
                                        1
                                    ],
                                    "matches": "x10",
                                    "showticklabels": false
                                },
                                "xaxis9": {
                                    "anchor": "y9",
                                    "domain": [
                                        0,
                                        1
                                    ],
                                    "matches": "x10",
                                    "showticklabels": false
                                },
                                "yaxis": {
                                    "anchor": "x",
                                    "domain": [
                                        0.9179999999999999,
                                        0.9999999999999999
                                    ],
                                    "range": [
                                        -0.4,
                                        1.4
                                    ],
                                    "showticklabels": false,
                                    "title": {
                                        "text": "D0<br>laser"
                                    }
                                },
                                "yaxis10": {
                                    "anchor": "x10",
                                    "domain": [
                                        0,
                                        0.082
                                    ],
                                    "range": [
                                        -1.5,
                                        1.5
                                    ],
                                    "tickfont": {
                                        "size": 6
                                    },
                                    "title": {
                                        "text": "A1<br>Bx"
                                    }
                                },
                                "yaxis2": {
                                    "anchor": "x2",
                                    "domain": [
                                        0.8160000000000001,
                                        0.898
                                    ],
                                    "range": [
                                        -0.4,
                                        1.4
                                    ],
                                    "showticklabels": false,
                                    "title": {
                                        "text": "D1<br>mwswitch"
                                    }
                                },
                                "yaxis3": {
                                    "anchor": "x3",
                                    "domain": [
                                        0.7140000000000001,
                                        0.796
                                    ],
                                    "range": [
                                        -0.4,
                                        1.4
                                    ],
                                    "showticklabels": false,
                                    "title": {
                                        "text": "D2<br>rfA"
                                    }
                                },
                                "yaxis4": {
                                    "anchor": "x4",
                                    "domain": [
                                        0.6120000000000001,
                                        0.6940000000000001
                                    ],
                                    "range": [
                                        -0.4,
                                        1.4
                                    ],
                                    "showticklabels": false,
                                    "title": {
                                        "text": "D6<br>rfB"
                                    }
                                },
                                "yaxis5": {
                                    "anchor": "x5",
                                    "domain": [
                                        0.51,
                                        0.592
                                    ],
                                    "range": [
                                        -0.4,
                                        1.4
                                    ],
                                    "showticklabels": false,
                                    "title": {
                                        "text": "D3<br>sdtrig"
                                    }
                                },
                                "yaxis6": {
                                    "anchor": "x6",
                                    "domain": [
                                        0.40800000000000003,
                                        0.49000000000000005
                                    ],
                                    "range": [
                                        -0.4,
                                        1.4
                                    ],
                                    "showticklabels": false,
                                    "title": {
                                        "text": "D4<br>mwA"
                                    }
                                },
                                "yaxis7": {
                                    "anchor": "x7",
                                    "domain": [
                                        0.306,
                                        0.388
                                    ],
                                    "range": [
                                        -0.4,
                                        1.4
                                    ],
                                    "showticklabels": false,
                                    "title": {
                                        "text": "D5<br>mwB"
                                    }
                                },
                                "yaxis8": {
                                    "anchor": "x8",
                                    "domain": [
                                        0.20400000000000001,
                                        0.28600000000000003
                                    ],
                                    "range": [
                                        -0.4,
                                        1.4
                                    ],
                                    "showticklabels": false,
                                    "title": {
                                        "text": "D7<br>BLK"
                                    }
                                },
                                "yaxis9": {
                                    "anchor": "x9",
                                    "domain": [
                                        0.10200000000000001,
                                        0.184
                                    ],
                                    "range": [
                                        -1.5,
                                        1.5
                                    ],
                                    "tickfont": {
                                        "size": 6
                                    },
                                    "title": {
                                        "text": "A0<br>Bz"
                                    }
                                }
                            }
                        }
                    },
                    "metadata": {},
                    "output_type": "display_data"
                }
            ],
            "source": [
                "hw.pg.plotSeq(plot_all=False)\n"
            ]
        },
        {
            "cell_type": "code",
            "execution_count": 10,
            "id": "1f2e04e2",
            "metadata": {},
            "outputs": [
                {
                    "name": "stdout",
                    "output_type": "stream",
                    "text": [
                        "0.0\n",
                        "num_seg_collected 1216\n",
                        "Card stopped\n",
                        "0.005\n",
                        "num_seg_collected 1216\n",
                        "Card stopped\n",
                        "0.01\n",
                        "num_seg_collected 1216\n",
                        "Card stopped\n",
                        "0.015\n",
                        "num_seg_collected 1216\n",
                        "Card stopped\n",
                        "0.02\n",
                        "num_seg_collected 1216\n",
                        "Card stopped\n",
                        "0.025\n",
                        "num_seg_collected 1216\n",
                        "Card stopped\n",
                        "0.03\n",
                        "num_seg_collected 1216\n",
                        "Card stopped\n",
                        "0.035\n",
                        "num_seg_collected 1216\n",
                        "Card stopped\n",
                        "0.04\n",
                        "num_seg_collected 1216\n",
                        "Card stopped\n",
                        "0.045\n",
                        "num_seg_collected 1216\n",
                        "Card stopped\n",
                        "0.05\n",
                        "num_seg_collected 1216\n",
                        "Card stopped\n",
                        "0.055\n",
                        "num_seg_collected 1216\n",
                        "Card stopped\n",
                        "0.06\n",
                        "num_seg_collected 1216\n",
                        "Card stopped\n",
                        "0.065\n",
                        "num_seg_collected 1216\n",
                        "Card stopped\n",
                        "0.07\n",
                        "num_seg_collected 1216\n",
                        "Card stopped\n",
                        "0.075\n",
                        "num_seg_collected 1216\n",
                        "Card stopped\n",
                        "0.08\n",
                        "num_seg_collected 1216\n",
                        "Card stopped\n",
                        "0.085\n",
                        "num_seg_collected 1216\n",
                        "Card stopped\n",
                        "0.09\n",
                        "num_seg_collected 1216\n",
                        "Card stopped\n",
                        "0.095\n",
                        "num_seg_collected 1216\n",
                        "Card stopped\n",
                        "0.1\n",
                        "num_seg_collected 1216\n",
                        "Card stopped\n",
                        "0.105\n",
                        "num_seg_collected 1216\n",
                        "Card stopped\n",
                        "0.11\n",
                        "num_seg_collected 1216\n",
                        "Card stopped\n",
                        "0.115\n",
                        "num_seg_collected 1216\n",
                        "Card stopped\n",
                        "0.12\n",
                        "num_seg_collected 1216\n",
                        "Card stopped\n",
                        "0.125\n",
                        "num_seg_collected 1216\n",
                        "Card stopped\n",
                        "0.13\n",
                        "num_seg_collected 1216\n",
                        "Card stopped\n",
                        "0.135\n",
                        "num_seg_collected 1216\n",
                        "Card stopped\n",
                        "0.14\n",
                        "num_seg_collected 1216\n",
                        "Card stopped\n",
                        "0.145\n",
                        "num_seg_collected 1216\n",
                        "Card stopped\n",
                        "0.15\n",
                        "num_seg_collected 1216\n",
                        "Card stopped\n",
                        "0.155\n",
                        "num_seg_collected 1216\n",
                        "Card stopped\n",
                        "0.16\n",
                        "num_seg_collected 1216\n",
                        "Card stopped\n",
                        "0.165\n",
                        "num_seg_collected 1216\n",
                        "Card stopped\n",
                        "0.17\n",
                        "num_seg_collected 1216\n",
                        "Card stopped\n",
                        "0.17500000000000002\n",
                        "num_seg_collected 1216\n",
                        "Card stopped\n",
                        "0.18\n",
                        "num_seg_collected 1216\n",
                        "Card stopped\n",
                        "0.185\n",
                        "num_seg_collected 1216\n",
                        "Card stopped\n",
                        "0.19\n",
                        "num_seg_collected 1216\n",
                        "Card stopped\n",
                        "0.195\n",
                        "num_seg_collected 1216\n",
                        "Card stopped\n",
                        "0.2\n",
                        "num_seg_collected 1216\n",
                        "Card stopped\n",
                        "0.20500000000000002\n",
                        "num_seg_collected 1216\n",
                        "Card stopped\n",
                        "0.21\n",
                        "num_seg_collected 1216\n",
                        "Card stopped\n",
                        "0.215\n",
                        "num_seg_collected 1216\n",
                        "Card stopped\n",
                        "0.22\n",
                        "num_seg_collected 1216\n",
                        "Card stopped\n",
                        "0.225\n",
                        "num_seg_collected 1216\n",
                        "Card stopped\n",
                        "0.23\n",
                        "num_seg_collected 1216\n",
                        "Card stopped\n",
                        "0.23500000000000001\n",
                        "num_seg_collected 1216\n",
                        "Card stopped\n",
                        "0.24\n",
                        "num_seg_collected 1216\n",
                        "Card stopped\n",
                        "0.245\n",
                        "num_seg_collected 1216\n",
                        "Card stopped\n",
                        "0.25\n",
                        "num_seg_collected 1216\n",
                        "Card stopped\n",
                        "0.255\n",
                        "num_seg_collected 1216\n",
                        "Card stopped\n",
                        "0.26\n",
                        "num_seg_collected 1216\n",
                        "Card stopped\n",
                        "0.265\n",
                        "num_seg_collected 1216\n",
                        "Card stopped\n",
                        "0.27\n",
                        "num_seg_collected 1216\n",
                        "Card stopped\n",
                        "0.275\n",
                        "num_seg_collected 1216\n",
                        "Card stopped\n",
                        "0.28\n",
                        "num_seg_collected 1216\n",
                        "Card stopped\n",
                        "0.28500000000000003\n",
                        "num_seg_collected 1216\n",
                        "Card stopped\n",
                        "0.29\n",
                        "num_seg_collected 1216\n",
                        "Card stopped\n",
                        "0.295\n",
                        "num_seg_collected 1216\n",
                        "Card stopped\n",
                        "0.3\n",
                        "num_seg_collected 1216\n",
                        "Card stopped\n",
                        "0.305\n",
                        "num_seg_collected 1216\n",
                        "Card stopped\n",
                        "0.31\n",
                        "num_seg_collected 1216\n",
                        "Card stopped\n",
                        "0.315\n",
                        "num_seg_collected 1216\n",
                        "Card stopped\n",
                        "0.32\n",
                        "num_seg_collected 1216\n",
                        "Card stopped\n",
                        "0.325\n",
                        "num_seg_collected 1216\n",
                        "Card stopped\n",
                        "0.33\n",
                        "num_seg_collected 1216\n",
                        "Card stopped\n",
                        "0.335\n",
                        "num_seg_collected 1216\n",
                        "Card stopped\n",
                        "0.34\n",
                        "num_seg_collected 1216\n",
                        "Card stopped\n",
                        "0.34500000000000003\n",
                        "num_seg_collected 1216\n",
                        "Card stopped\n",
                        "0.35000000000000003\n",
                        "num_seg_collected 1216\n",
                        "Card stopped\n",
                        "0.355\n",
                        "num_seg_collected 1216\n",
                        "Card stopped\n",
                        "0.36\n",
                        "num_seg_collected 1216\n",
                        "Card stopped\n",
                        "0.365\n",
                        "num_seg_collected 1216\n",
                        "Card stopped\n",
                        "0.37\n",
                        "num_seg_collected 1216\n",
                        "Card stopped\n",
                        "0.375\n",
                        "num_seg_collected 1216\n",
                        "Card stopped\n",
                        "0.38\n",
                        "num_seg_collected 1216\n",
                        "Card stopped\n",
                        "0.385\n",
                        "num_seg_collected 1216\n",
                        "Card stopped\n",
                        "0.39\n",
                        "num_seg_collected 1216\n",
                        "Card stopped\n",
                        "0.395\n",
                        "num_seg_collected 1216\n",
                        "Card stopped\n",
                        "0.4\n",
                        "num_seg_collected 1216\n",
                        "Card stopped\n",
                        "0.405\n",
                        "num_seg_collected 1216\n",
                        "Card stopped\n",
                        "0.41000000000000003\n",
                        "num_seg_collected 1216\n",
                        "Card stopped\n",
                        "0.41500000000000004\n",
                        "num_seg_collected 1216\n",
                        "Card stopped\n",
                        "0.42\n",
                        "num_seg_collected 1216\n",
                        "Card stopped\n",
                        "0.425\n",
                        "num_seg_collected 1216\n",
                        "Card stopped\n",
                        "0.43\n",
                        "num_seg_collected 1216\n",
                        "Card stopped\n",
                        "0.435\n",
                        "num_seg_collected 1216\n",
                        "Card stopped\n",
                        "0.44\n",
                        "num_seg_collected 1216\n",
                        "Card stopped\n",
                        "0.445\n",
                        "num_seg_collected 1216\n",
                        "Card stopped\n",
                        "0.45\n",
                        "num_seg_collected 1216\n",
                        "Card stopped\n",
                        "0.455\n",
                        "num_seg_collected 1216\n",
                        "Card stopped\n",
                        "0.46\n",
                        "num_seg_collected 1216\n",
                        "Card stopped\n",
                        "0.465\n",
                        "num_seg_collected 1216\n",
                        "Card stopped\n",
                        "0.47000000000000003\n",
                        "num_seg_collected 1216\n",
                        "Card stopped\n",
                        "0.47500000000000003\n",
                        "num_seg_collected 1216\n",
                        "Card stopped\n",
                        "0.48\n",
                        "num_seg_collected 1216\n",
                        "Card stopped\n",
                        "0.485\n",
                        "num_seg_collected 1216\n",
                        "Card stopped\n",
                        "0.49\n",
                        "num_seg_collected 1216\n",
                        "Card stopped\n",
                        "0.495\n",
                        "num_seg_collected 1216\n",
                        "Card stopped\n",
                        "0.5\n",
                        "num_seg_collected 1216\n",
                        "Card stopped\n",
                        "0.505\n",
                        "num_seg_collected 1216\n",
                        "Card stopped\n",
                        "0.51\n",
                        "num_seg_collected 1216\n",
                        "Card stopped\n",
                        "0.515\n",
                        "num_seg_collected 1216\n",
                        "Card stopped\n",
                        "0.52\n",
                        "num_seg_collected 1216\n",
                        "Card stopped\n",
                        "0.525\n",
                        "num_seg_collected 1216\n",
                        "Card stopped\n",
                        "0.53\n",
                        "num_seg_collected 1216\n",
                        "Card stopped\n",
                        "0.535\n",
                        "num_seg_collected 1216\n",
                        "Card stopped\n",
                        "0.54\n",
                        "num_seg_collected 1216\n",
                        "Card stopped\n",
                        "0.545\n",
                        "num_seg_collected 1216\n",
                        "Card stopped\n",
                        "0.55\n",
                        "num_seg_collected 1216\n",
                        "Card stopped\n",
                        "0.555\n",
                        "num_seg_collected 1216\n",
                        "Card stopped\n",
                        "0.56\n",
                        "num_seg_collected 1216\n",
                        "Card stopped\n",
                        "0.5650000000000001\n",
                        "num_seg_collected 1216\n",
                        "Card stopped\n",
                        "0.5700000000000001\n",
                        "num_seg_collected 1216\n",
                        "Card stopped\n",
                        "0.5750000000000001\n",
                        "num_seg_collected 1216\n",
                        "Card stopped\n",
                        "0.58\n",
                        "num_seg_collected 1216\n",
                        "Card stopped\n",
                        "0.585\n",
                        "num_seg_collected 1216\n",
                        "Card stopped\n",
                        "0.59\n",
                        "num_seg_collected 1216\n",
                        "Card stopped\n",
                        "0.595\n",
                        "num_seg_collected 1216\n",
                        "Card stopped\n",
                        "0.0\n",
                        "num_seg_collected 1216\n",
                        "Card stopped\n",
                        "0.005\n",
                        "num_seg_collected 1216\n",
                        "Card stopped\n",
                        "0.01\n",
                        "num_seg_collected 1216\n",
                        "Card stopped\n",
                        "0.015\n",
                        "num_seg_collected 1216\n",
                        "Card stopped\n",
                        "0.02\n",
                        "num_seg_collected 1216\n",
                        "Card stopped\n",
                        "0.025\n",
                        "num_seg_collected 1216\n",
                        "Card stopped\n",
                        "0.03\n",
                        "num_seg_collected 1216\n",
                        "Card stopped\n",
                        "0.035\n",
                        "num_seg_collected 1216\n",
                        "Card stopped\n",
                        "0.04\n",
                        "num_seg_collected 1216\n",
                        "Card stopped\n",
                        "0.045\n",
                        "num_seg_collected 1216\n",
                        "Card stopped\n",
                        "0.05\n",
                        "num_seg_collected 1216\n",
                        "Card stopped\n",
                        "0.055\n",
                        "num_seg_collected 1216\n",
                        "Card stopped\n",
                        "0.06\n",
                        "num_seg_collected 1216\n",
                        "Card stopped\n",
                        "0.065\n",
                        "num_seg_collected 1216\n",
                        "Card stopped\n",
                        "0.07\n",
                        "num_seg_collected 1216\n",
                        "Card stopped\n",
                        "0.075\n",
                        "num_seg_collected 1216\n",
                        "Card stopped\n",
                        "0.08\n",
                        "num_seg_collected 1216\n",
                        "Card stopped\n",
                        "0.085\n",
                        "num_seg_collected 1216\n",
                        "Card stopped\n",
                        "0.09\n",
                        "num_seg_collected 1216\n",
                        "Card stopped\n",
                        "0.095\n",
                        "num_seg_collected 1216\n",
                        "Card stopped\n",
                        "0.1\n",
                        "num_seg_collected 1216\n",
                        "Card stopped\n",
                        "0.105\n",
                        "num_seg_collected 1216\n",
                        "Card stopped\n",
                        "0.11\n",
                        "num_seg_collected 1216\n",
                        "Card stopped\n",
                        "0.115\n",
                        "num_seg_collected 1216\n",
                        "Card stopped\n",
                        "0.12\n",
                        "num_seg_collected 1216\n",
                        "Card stopped\n",
                        "0.125\n",
                        "num_seg_collected 1216\n",
                        "Card stopped\n",
                        "0.13\n",
                        "num_seg_collected 1216\n",
                        "Card stopped\n",
                        "0.135\n",
                        "num_seg_collected 1216\n",
                        "Card stopped\n",
                        "0.14\n",
                        "num_seg_collected 1216\n",
                        "Card stopped\n",
                        "0.145\n",
                        "num_seg_collected 1216\n",
                        "Card stopped\n",
                        "0.15\n",
                        "num_seg_collected 1216\n",
                        "Card stopped\n",
                        "0.155\n",
                        "num_seg_collected 1216\n",
                        "Card stopped\n",
                        "0.16\n",
                        "num_seg_collected 1216\n",
                        "Card stopped\n",
                        "0.165\n",
                        "num_seg_collected 1216\n",
                        "Card stopped\n",
                        "0.17\n",
                        "num_seg_collected 1216\n",
                        "Card stopped\n",
                        "0.17500000000000002\n",
                        "num_seg_collected 1216\n",
                        "Card stopped\n",
                        "0.18\n",
                        "num_seg_collected 1216\n",
                        "Card stopped\n",
                        "0.185\n",
                        "num_seg_collected 1216\n",
                        "Card stopped\n",
                        "0.19\n",
                        "num_seg_collected 1216\n",
                        "Card stopped\n",
                        "0.195\n",
                        "num_seg_collected 1216\n",
                        "Card stopped\n",
                        "0.2\n",
                        "num_seg_collected 1216\n",
                        "Card stopped\n",
                        "0.20500000000000002\n",
                        "num_seg_collected 1216\n",
                        "Card stopped\n",
                        "0.21\n",
                        "num_seg_collected 1216\n",
                        "Card stopped\n",
                        "0.215\n",
                        "num_seg_collected 1216\n",
                        "Card stopped\n",
                        "0.22\n",
                        "num_seg_collected 1216\n",
                        "Card stopped\n",
                        "0.225\n",
                        "num_seg_collected 1216\n",
                        "Card stopped\n",
                        "0.23\n",
                        "num_seg_collected 1216\n",
                        "Card stopped\n",
                        "0.23500000000000001\n",
                        "num_seg_collected 1216\n",
                        "Card stopped\n",
                        "0.24\n",
                        "num_seg_collected 1216\n",
                        "Card stopped\n",
                        "0.245\n",
                        "num_seg_collected 1216\n",
                        "Card stopped\n",
                        "0.25\n",
                        "num_seg_collected 1216\n",
                        "Card stopped\n",
                        "0.255\n",
                        "num_seg_collected 1216\n",
                        "Card stopped\n",
                        "0.26\n",
                        "num_seg_collected 1216\n",
                        "Card stopped\n",
                        "0.265\n",
                        "num_seg_collected 1216\n",
                        "Card stopped\n",
                        "0.27\n",
                        "num_seg_collected 1216\n",
                        "Card stopped\n",
                        "0.275\n",
                        "num_seg_collected 1216\n",
                        "Card stopped\n",
                        "0.28\n",
                        "num_seg_collected 1216\n",
                        "Card stopped\n",
                        "0.28500000000000003\n",
                        "num_seg_collected 1216\n",
                        "Card stopped\n",
                        "0.29\n",
                        "num_seg_collected 1216\n",
                        "Card stopped\n",
                        "0.295\n",
                        "num_seg_collected 1216\n",
                        "Card stopped\n",
                        "0.3\n",
                        "num_seg_collected 1216\n",
                        "Card stopped\n",
                        "0.305\n",
                        "num_seg_collected 1216\n",
                        "Card stopped\n",
                        "0.31\n",
                        "num_seg_collected 1216\n",
                        "Card stopped\n",
                        "0.315\n",
                        "num_seg_collected 1216\n",
                        "Card stopped\n",
                        "0.32\n",
                        "num_seg_collected 1216\n",
                        "Card stopped\n",
                        "0.325\n",
                        "num_seg_collected 1216\n",
                        "Card stopped\n",
                        "0.33\n",
                        "num_seg_collected 1216\n",
                        "Card stopped\n",
                        "0.335\n",
                        "num_seg_collected 1216\n",
                        "Card stopped\n",
                        "0.34\n",
                        "num_seg_collected 1216\n",
                        "Card stopped\n",
                        "0.34500000000000003\n",
                        "num_seg_collected 1216\n",
                        "Card stopped\n",
                        "0.35000000000000003\n",
                        "num_seg_collected 1216\n",
                        "Card stopped\n",
                        "0.355\n",
                        "num_seg_collected 1216\n",
                        "Card stopped\n",
                        "0.36\n",
                        "num_seg_collected 1216\n",
                        "Card stopped\n",
                        "0.365\n",
                        "num_seg_collected 1216\n",
                        "Card stopped\n",
                        "0.37\n",
                        "num_seg_collected 1216\n",
                        "Card stopped\n",
                        "0.375\n",
                        "num_seg_collected 1216\n",
                        "Card stopped\n",
                        "0.38\n",
                        "num_seg_collected 1216\n",
                        "Card stopped\n",
                        "0.385\n",
                        "num_seg_collected 1216\n",
                        "Card stopped\n",
                        "0.39\n",
                        "num_seg_collected 1216\n",
                        "Card stopped\n",
                        "0.395\n",
                        "num_seg_collected 1216\n",
                        "Card stopped\n",
                        "0.4\n",
                        "num_seg_collected 1216\n",
                        "Card stopped\n",
                        "0.405\n",
                        "num_seg_collected 1216\n",
                        "Card stopped\n",
                        "0.41000000000000003\n",
                        "num_seg_collected 1216\n",
                        "Card stopped\n",
                        "0.41500000000000004\n",
                        "num_seg_collected 1216\n",
                        "Card stopped\n",
                        "0.42\n",
                        "num_seg_collected 1216\n",
                        "Card stopped\n",
                        "0.425\n",
                        "num_seg_collected 1216\n",
                        "Card stopped\n",
                        "0.43\n",
                        "num_seg_collected 1216\n",
                        "Card stopped\n",
                        "0.435\n",
                        "num_seg_collected 1216\n",
                        "Card stopped\n",
                        "0.44\n",
                        "num_seg_collected 1216\n",
                        "Card stopped\n",
                        "0.445\n",
                        "num_seg_collected 1216\n",
                        "Card stopped\n",
                        "0.45\n",
                        "num_seg_collected 1216\n",
                        "Card stopped\n",
                        "0.455\n",
                        "num_seg_collected 1216\n",
                        "Card stopped\n",
                        "0.46\n",
                        "num_seg_collected 1216\n",
                        "Card stopped\n",
                        "0.465\n",
                        "num_seg_collected 1216\n",
                        "Card stopped\n",
                        "0.47000000000000003\n",
                        "num_seg_collected 1216\n",
                        "Card stopped\n",
                        "0.47500000000000003\n",
                        "num_seg_collected 1216\n",
                        "Card stopped\n",
                        "0.48\n",
                        "num_seg_collected 1216\n",
                        "Card stopped\n",
                        "0.485\n",
                        "num_seg_collected 1216\n",
                        "Card stopped\n",
                        "0.49\n",
                        "num_seg_collected 1216\n",
                        "Card stopped\n",
                        "0.495\n",
                        "num_seg_collected 1216\n",
                        "Card stopped\n",
                        "0.5\n",
                        "num_seg_collected 1216\n",
                        "Card stopped\n",
                        "0.505\n",
                        "num_seg_collected 1216\n",
                        "Card stopped\n",
                        "0.51\n",
                        "num_seg_collected 1216\n",
                        "Card stopped\n",
                        "0.515\n",
                        "num_seg_collected 1216\n",
                        "Card stopped\n",
                        "0.52\n",
                        "num_seg_collected 1216\n",
                        "Card stopped\n",
                        "0.525\n",
                        "num_seg_collected 1216\n",
                        "Card stopped\n",
                        "0.53\n",
                        "num_seg_collected 1216\n",
                        "Card stopped\n",
                        "0.535\n",
                        "num_seg_collected 1216\n",
                        "Card stopped\n",
                        "0.54\n",
                        "num_seg_collected 1216\n",
                        "Card stopped\n",
                        "0.545\n",
                        "num_seg_collected 1216\n",
                        "Card stopped\n",
                        "0.55\n",
                        "num_seg_collected 1216\n",
                        "Card stopped\n",
                        "0.555\n",
                        "num_seg_collected 1216\n",
                        "Card stopped\n",
                        "0.56\n",
                        "num_seg_collected 1216\n",
                        "Card stopped\n",
                        "0.5650000000000001\n",
                        "num_seg_collected 1216\n",
                        "Card stopped\n",
                        "0.5700000000000001\n",
                        "num_seg_collected 1216\n",
                        "Card stopped\n",
                        "0.5750000000000001\n",
                        "num_seg_collected 1216\n",
                        "Card stopped\n",
                        "0.58\n",
                        "num_seg_collected 1216\n",
                        "Card stopped\n",
                        "0.585\n",
                        "num_seg_collected 1216\n",
                        "Card stopped\n",
                        "0.59\n",
                        "num_seg_collected 1216\n",
                        "Card stopped\n",
                        "0.595\n",
                        "num_seg_collected 1216\n",
                        "Card stopped\n",
                        "0.0\n",
                        "num_seg_collected 1216\n",
                        "Card stopped\n",
                        "0.005\n",
                        "num_seg_collected 1216\n",
                        "Card stopped\n",
                        "0.01\n",
                        "num_seg_collected 1216\n",
                        "Card stopped\n",
                        "0.015\n",
                        "num_seg_collected 1216\n",
                        "Card stopped\n",
                        "0.02\n",
                        "num_seg_collected 1216\n",
                        "Card stopped\n",
                        "0.025\n",
                        "num_seg_collected 1216\n",
                        "Card stopped\n",
                        "0.03\n",
                        "num_seg_collected 1216\n",
                        "Card stopped\n",
                        "0.035\n",
                        "num_seg_collected 1216\n",
                        "Card stopped\n",
                        "0.04\n",
                        "num_seg_collected 1216\n",
                        "Card stopped\n",
                        "0.045\n",
                        "num_seg_collected 1216\n",
                        "Card stopped\n",
                        "0.05\n",
                        "num_seg_collected 1216\n",
                        "Card stopped\n",
                        "0.055\n",
                        "num_seg_collected 1216\n",
                        "Card stopped\n",
                        "0.06\n",
                        "num_seg_collected 1216\n",
                        "Card stopped\n",
                        "0.065\n",
                        "num_seg_collected 1216\n",
                        "Card stopped\n",
                        "0.07\n",
                        "num_seg_collected 1216\n",
                        "Card stopped\n",
                        "0.075\n",
                        "num_seg_collected 1216\n",
                        "Card stopped\n",
                        "0.08\n",
                        "num_seg_collected 1216\n",
                        "Card stopped\n",
                        "0.085\n",
                        "num_seg_collected 1216\n",
                        "Card stopped\n",
                        "0.09\n",
                        "num_seg_collected 1216\n",
                        "Card stopped\n",
                        "0.095\n",
                        "num_seg_collected 1216\n",
                        "Card stopped\n",
                        "0.1\n",
                        "num_seg_collected 1216\n",
                        "Card stopped\n",
                        "0.105\n",
                        "num_seg_collected 1216\n",
                        "Card stopped\n",
                        "0.11\n",
                        "num_seg_collected 1216\n",
                        "Card stopped\n",
                        "0.115\n",
                        "num_seg_collected 1216\n",
                        "Card stopped\n",
                        "0.12\n",
                        "num_seg_collected 1216\n",
                        "Card stopped\n",
                        "0.125\n",
                        "num_seg_collected 1216\n",
                        "Card stopped\n",
                        "0.13\n",
                        "num_seg_collected 1216\n",
                        "Card stopped\n",
                        "0.135\n",
                        "num_seg_collected 1216\n",
                        "Card stopped\n",
                        "0.14\n",
                        "num_seg_collected 1216\n",
                        "Card stopped\n",
                        "0.145\n",
                        "num_seg_collected 1216\n",
                        "Card stopped\n",
                        "0.15\n",
                        "num_seg_collected 1216\n",
                        "Card stopped\n",
                        "0.155\n",
                        "num_seg_collected 1216\n",
                        "Card stopped\n",
                        "0.16\n",
                        "num_seg_collected 1216\n",
                        "Card stopped\n",
                        "0.165\n",
                        "num_seg_collected 1216\n",
                        "Card stopped\n",
                        "0.17\n",
                        "num_seg_collected 1216\n",
                        "Card stopped\n",
                        "0.17500000000000002\n",
                        "num_seg_collected 1216\n",
                        "Card stopped\n",
                        "0.18\n",
                        "num_seg_collected 1216\n",
                        "Card stopped\n",
                        "0.185\n",
                        "num_seg_collected 1216\n",
                        "Card stopped\n",
                        "0.19\n",
                        "num_seg_collected 1216\n",
                        "Card stopped\n",
                        "0.195\n",
                        "num_seg_collected 1216\n",
                        "Card stopped\n",
                        "0.2\n",
                        "num_seg_collected 1216\n",
                        "Card stopped\n",
                        "0.20500000000000002\n",
                        "num_seg_collected 1216\n",
                        "Card stopped\n",
                        "0.21\n",
                        "num_seg_collected 1216\n",
                        "Card stopped\n",
                        "0.215\n",
                        "num_seg_collected 1216\n",
                        "Card stopped\n",
                        "0.22\n",
                        "num_seg_collected 1216\n",
                        "Card stopped\n",
                        "0.225\n",
                        "num_seg_collected 1216\n",
                        "Card stopped\n",
                        "0.23\n",
                        "num_seg_collected 1216\n",
                        "Card stopped\n",
                        "0.23500000000000001\n",
                        "num_seg_collected 1216\n",
                        "Card stopped\n",
                        "0.24\n",
                        "num_seg_collected 1216\n",
                        "Card stopped\n",
                        "0.245\n",
                        "num_seg_collected 1216\n",
                        "Card stopped\n",
                        "0.25\n",
                        "num_seg_collected 1216\n",
                        "Card stopped\n",
                        "0.255\n",
                        "num_seg_collected 1216\n",
                        "Card stopped\n",
                        "0.26\n",
                        "num_seg_collected 1216\n",
                        "Card stopped\n",
                        "0.265\n",
                        "num_seg_collected 1216\n",
                        "Card stopped\n",
                        "0.27\n",
                        "num_seg_collected 1216\n",
                        "Card stopped\n",
                        "0.275\n",
                        "num_seg_collected 1216\n",
                        "Card stopped\n",
                        "0.28\n",
                        "num_seg_collected 1216\n",
                        "Card stopped\n",
                        "0.28500000000000003\n",
                        "num_seg_collected 1216\n",
                        "Card stopped\n",
                        "0.29\n",
                        "num_seg_collected 1216\n",
                        "Card stopped\n",
                        "0.295\n",
                        "num_seg_collected 1216\n",
                        "Card stopped\n",
                        "0.3\n",
                        "num_seg_collected 1216\n",
                        "Card stopped\n",
                        "0.305\n",
                        "num_seg_collected 1216\n",
                        "Card stopped\n",
                        "0.31\n",
                        "num_seg_collected 1216\n",
                        "Card stopped\n",
                        "0.315\n",
                        "num_seg_collected 1216\n",
                        "Card stopped\n",
                        "0.32\n",
                        "num_seg_collected 1216\n",
                        "Card stopped\n",
                        "0.325\n",
                        "num_seg_collected 1216\n",
                        "Card stopped\n",
                        "0.33\n",
                        "num_seg_collected 1216\n",
                        "Card stopped\n",
                        "0.335\n",
                        "num_seg_collected 1216\n",
                        "Card stopped\n",
                        "0.34\n",
                        "num_seg_collected 1216\n",
                        "Card stopped\n",
                        "0.34500000000000003\n",
                        "num_seg_collected 1216\n",
                        "Card stopped\n",
                        "0.35000000000000003\n",
                        "num_seg_collected 1216\n",
                        "Card stopped\n",
                        "0.355\n",
                        "num_seg_collected 1216\n",
                        "Card stopped\n",
                        "0.36\n",
                        "num_seg_collected 1216\n",
                        "Card stopped\n",
                        "0.365\n",
                        "num_seg_collected 1216\n",
                        "Card stopped\n",
                        "0.37\n",
                        "num_seg_collected 1216\n",
                        "Card stopped\n",
                        "0.375\n",
                        "num_seg_collected 1216\n",
                        "Card stopped\n",
                        "0.38\n",
                        "num_seg_collected 1216\n",
                        "Card stopped\n",
                        "0.385\n",
                        "num_seg_collected 1216\n",
                        "Card stopped\n",
                        "0.39\n",
                        "num_seg_collected 1216\n",
                        "Card stopped\n",
                        "0.395\n",
                        "num_seg_collected 1216\n",
                        "Card stopped\n",
                        "0.4\n",
                        "num_seg_collected 1216\n",
                        "Card stopped\n",
                        "0.405\n",
                        "num_seg_collected 1216\n",
                        "Card stopped\n",
                        "0.41000000000000003\n",
                        "num_seg_collected 1216\n",
                        "Card stopped\n",
                        "0.41500000000000004\n",
                        "num_seg_collected 1216\n",
                        "Card stopped\n",
                        "0.42\n",
                        "num_seg_collected 1216\n",
                        "Card stopped\n",
                        "0.425\n",
                        "num_seg_collected 1216\n",
                        "Card stopped\n",
                        "0.43\n",
                        "num_seg_collected 1216\n",
                        "Card stopped\n",
                        "0.435\n",
                        "num_seg_collected 1216\n",
                        "Card stopped\n",
                        "0.44\n",
                        "num_seg_collected 1216\n",
                        "Card stopped\n",
                        "0.445\n",
                        "num_seg_collected 1216\n",
                        "Card stopped\n",
                        "0.45\n",
                        "num_seg_collected 1216\n",
                        "Card stopped\n",
                        "0.455\n",
                        "num_seg_collected 1216\n",
                        "Card stopped\n",
                        "0.46\n",
                        "num_seg_collected 1216\n",
                        "Card stopped\n",
                        "0.465\n",
                        "num_seg_collected 1216\n",
                        "Card stopped\n",
                        "0.47000000000000003\n",
                        "num_seg_collected 1216\n",
                        "Card stopped\n",
                        "0.47500000000000003\n",
                        "num_seg_collected 1216\n",
                        "Card stopped\n",
                        "0.48\n",
                        "num_seg_collected 1216\n",
                        "Card stopped\n",
                        "0.485\n",
                        "num_seg_collected 1216\n",
                        "Card stopped\n",
                        "0.49\n",
                        "num_seg_collected 1216\n",
                        "Card stopped\n",
                        "0.495\n",
                        "num_seg_collected 1216\n",
                        "Card stopped\n",
                        "0.5\n",
                        "num_seg_collected 1216\n",
                        "Card stopped\n",
                        "0.505\n",
                        "num_seg_collected 1216\n",
                        "Card stopped\n",
                        "0.51\n",
                        "num_seg_collected 1216\n",
                        "Card stopped\n",
                        "0.515\n",
                        "num_seg_collected 1216\n",
                        "Card stopped\n",
                        "0.52\n",
                        "num_seg_collected 1216\n",
                        "Card stopped\n",
                        "0.525\n",
                        "num_seg_collected 1216\n",
                        "Card stopped\n",
                        "0.53\n",
                        "num_seg_collected 1216\n",
                        "Card stopped\n",
                        "0.535\n",
                        "num_seg_collected 1216\n",
                        "Card stopped\n",
                        "0.54\n",
                        "num_seg_collected 1216\n",
                        "Card stopped\n",
                        "0.545\n",
                        "num_seg_collected 1216\n",
                        "Card stopped\n",
                        "0.55\n",
                        "num_seg_collected 1216\n",
                        "Card stopped\n",
                        "0.555\n",
                        "num_seg_collected 1216\n",
                        "Card stopped\n",
                        "0.56\n",
                        "num_seg_collected 1216\n",
                        "Card stopped\n",
                        "0.5650000000000001\n",
                        "num_seg_collected 1216\n",
                        "Card stopped\n",
                        "0.5700000000000001\n",
                        "num_seg_collected 1216\n",
                        "Card stopped\n",
                        "0.5750000000000001\n",
                        "num_seg_collected 1216\n",
                        "Card stopped\n",
                        "0.58\n",
                        "num_seg_collected 1216\n",
                        "Card stopped\n",
                        "0.585\n",
                        "num_seg_collected 1216\n",
                        "Card stopped\n",
                        "0.59\n",
                        "num_seg_collected 1216\n",
                        "Card stopped\n",
                        "0.595\n",
                        "num_seg_collected 1216\n",
                        "Card stopped\n",
                        "0.0\n",
                        "num_seg_collected 1216\n",
                        "Card stopped\n",
                        "0.005\n",
                        "num_seg_collected 1216\n",
                        "Card stopped\n",
                        "0.01\n",
                        "num_seg_collected 1216\n",
                        "Card stopped\n",
                        "0.015\n",
                        "num_seg_collected 1216\n",
                        "Card stopped\n",
                        "0.02\n",
                        "num_seg_collected 1216\n",
                        "Card stopped\n",
                        "0.025\n",
                        "num_seg_collected 1216\n",
                        "Card stopped\n",
                        "0.03\n",
                        "num_seg_collected 1216\n",
                        "Card stopped\n",
                        "0.035\n",
                        "num_seg_collected 1216\n",
                        "Card stopped\n",
                        "0.04\n",
                        "num_seg_collected 1216\n",
                        "Card stopped\n",
                        "0.045\n",
                        "num_seg_collected 1216\n",
                        "Card stopped\n",
                        "0.05\n",
                        "num_seg_collected 1216\n",
                        "Card stopped\n",
                        "0.055\n",
                        "num_seg_collected 1216\n",
                        "Card stopped\n",
                        "0.06\n",
                        "num_seg_collected 1216\n",
                        "Card stopped\n",
                        "0.065\n",
                        "num_seg_collected 1216\n",
                        "Card stopped\n",
                        "0.07\n",
                        "num_seg_collected 1216\n",
                        "Card stopped\n",
                        "0.075\n",
                        "num_seg_collected 1216\n",
                        "Card stopped\n",
                        "0.08\n",
                        "num_seg_collected 1216\n",
                        "Card stopped\n",
                        "0.085\n",
                        "num_seg_collected 1216\n",
                        "Card stopped\n",
                        "0.09\n",
                        "num_seg_collected 1216\n",
                        "Card stopped\n",
                        "0.095\n",
                        "num_seg_collected 1216\n",
                        "Card stopped\n",
                        "0.1\n",
                        "num_seg_collected 1216\n",
                        "Card stopped\n",
                        "0.105\n",
                        "num_seg_collected 1216\n",
                        "Card stopped\n",
                        "0.11\n",
                        "num_seg_collected 1216\n",
                        "Card stopped\n",
                        "0.115\n",
                        "num_seg_collected 1216\n",
                        "Card stopped\n",
                        "0.12\n",
                        "num_seg_collected 1216\n",
                        "Card stopped\n",
                        "0.125\n",
                        "num_seg_collected 1216\n",
                        "Card stopped\n",
                        "0.13\n",
                        "num_seg_collected 1216\n",
                        "Card stopped\n",
                        "0.135\n",
                        "num_seg_collected 1216\n",
                        "Card stopped\n",
                        "0.14\n",
                        "num_seg_collected 1216\n",
                        "Card stopped\n",
                        "0.145\n",
                        "num_seg_collected 1216\n",
                        "Card stopped\n",
                        "0.15\n",
                        "num_seg_collected 1216\n",
                        "Card stopped\n",
                        "0.155\n",
                        "num_seg_collected 1216\n",
                        "Card stopped\n",
                        "0.16\n",
                        "num_seg_collected 1216\n",
                        "Card stopped\n",
                        "0.165\n",
                        "num_seg_collected 1216\n",
                        "Card stopped\n",
                        "0.17\n",
                        "num_seg_collected 1216\n",
                        "Card stopped\n",
                        "0.17500000000000002\n",
                        "num_seg_collected 1216\n",
                        "Card stopped\n",
                        "0.18\n",
                        "num_seg_collected 1216\n",
                        "Card stopped\n",
                        "0.185\n",
                        "num_seg_collected 1216\n",
                        "Card stopped\n",
                        "0.19\n",
                        "num_seg_collected 1216\n",
                        "Card stopped\n",
                        "0.195\n",
                        "num_seg_collected 1216\n",
                        "Card stopped\n",
                        "0.2\n",
                        "num_seg_collected 1216\n",
                        "Card stopped\n",
                        "0.20500000000000002\n",
                        "num_seg_collected 1216\n",
                        "Card stopped\n",
                        "0.21\n",
                        "num_seg_collected 1216\n",
                        "Card stopped\n",
                        "0.215\n",
                        "num_seg_collected 1216\n",
                        "Card stopped\n",
                        "0.22\n",
                        "num_seg_collected 1216\n",
                        "Card stopped\n",
                        "0.225\n",
                        "num_seg_collected 1216\n",
                        "Card stopped\n",
                        "0.23\n",
                        "num_seg_collected 1216\n",
                        "Card stopped\n",
                        "0.23500000000000001\n",
                        "num_seg_collected 1216\n",
                        "Card stopped\n",
                        "0.24\n",
                        "num_seg_collected 1216\n",
                        "Card stopped\n",
                        "0.245\n",
                        "num_seg_collected 1216\n",
                        "Card stopped\n",
                        "0.25\n",
                        "num_seg_collected 1216\n",
                        "Card stopped\n",
                        "0.255\n",
                        "num_seg_collected 1216\n",
                        "Card stopped\n",
                        "0.26\n",
                        "num_seg_collected 1216\n",
                        "Card stopped\n",
                        "0.265\n",
                        "num_seg_collected 1216\n",
                        "Card stopped\n",
                        "0.27\n",
                        "num_seg_collected 1216\n",
                        "Card stopped\n",
                        "0.275\n",
                        "num_seg_collected 1216\n",
                        "Card stopped\n",
                        "0.28\n",
                        "num_seg_collected 1216\n",
                        "Card stopped\n",
                        "0.28500000000000003\n",
                        "num_seg_collected 1216\n",
                        "Card stopped\n",
                        "0.29\n",
                        "num_seg_collected 1216\n",
                        "Card stopped\n",
                        "0.295\n",
                        "num_seg_collected 1216\n",
                        "Card stopped\n",
                        "0.3\n",
                        "num_seg_collected 1216\n",
                        "Card stopped\n",
                        "0.305\n",
                        "num_seg_collected 1216\n",
                        "Card stopped\n",
                        "0.31\n",
                        "num_seg_collected 1216\n",
                        "Card stopped\n",
                        "0.315\n",
                        "num_seg_collected 1216\n",
                        "Card stopped\n",
                        "0.32\n",
                        "num_seg_collected 1216\n",
                        "Card stopped\n",
                        "0.325\n",
                        "num_seg_collected 1216\n",
                        "Card stopped\n",
                        "0.33\n",
                        "num_seg_collected 1216\n",
                        "Card stopped\n",
                        "0.335\n",
                        "num_seg_collected 1216\n",
                        "Card stopped\n",
                        "0.34\n",
                        "num_seg_collected 1216\n",
                        "Card stopped\n",
                        "0.34500000000000003\n",
                        "num_seg_collected 1216\n",
                        "Card stopped\n",
                        "0.35000000000000003\n",
                        "num_seg_collected 1216\n",
                        "Card stopped\n",
                        "0.355\n",
                        "num_seg_collected 1216\n",
                        "Card stopped\n",
                        "0.36\n",
                        "num_seg_collected 1216\n",
                        "Card stopped\n",
                        "0.365\n",
                        "num_seg_collected 1216\n",
                        "Card stopped\n",
                        "0.37\n",
                        "num_seg_collected 1216\n",
                        "Card stopped\n",
                        "0.375\n",
                        "num_seg_collected 1216\n",
                        "Card stopped\n",
                        "0.38\n",
                        "num_seg_collected 1216\n",
                        "Card stopped\n",
                        "0.385\n",
                        "num_seg_collected 1216\n",
                        "Card stopped\n",
                        "0.39\n",
                        "num_seg_collected 1216\n",
                        "Card stopped\n",
                        "0.395\n",
                        "num_seg_collected 1216\n",
                        "Card stopped\n",
                        "0.4\n",
                        "num_seg_collected 1216\n",
                        "Card stopped\n",
                        "0.405\n",
                        "num_seg_collected 1216\n",
                        "Card stopped\n",
                        "0.41000000000000003\n",
                        "num_seg_collected 1216\n",
                        "Card stopped\n",
                        "0.41500000000000004\n",
                        "num_seg_collected 1216\n",
                        "Card stopped\n",
                        "0.42\n",
                        "num_seg_collected 1216\n",
                        "Card stopped\n",
                        "0.425\n",
                        "num_seg_collected 1216\n",
                        "Card stopped\n",
                        "0.43\n",
                        "num_seg_collected 1216\n",
                        "Card stopped\n",
                        "0.435\n",
                        "num_seg_collected 1216\n",
                        "Card stopped\n",
                        "0.44\n",
                        "num_seg_collected 1216\n",
                        "Card stopped\n",
                        "0.445\n",
                        "num_seg_collected 1216\n",
                        "Card stopped\n",
                        "0.45\n",
                        "num_seg_collected 1216\n",
                        "Card stopped\n",
                        "0.455\n",
                        "num_seg_collected 1216\n",
                        "Card stopped\n",
                        "0.46\n",
                        "num_seg_collected 1216\n",
                        "Card stopped\n",
                        "0.465\n",
                        "num_seg_collected 1216\n",
                        "Card stopped\n",
                        "0.47000000000000003\n",
                        "num_seg_collected 1216\n",
                        "Card stopped\n",
                        "0.47500000000000003\n",
                        "num_seg_collected 1216\n",
                        "Card stopped\n",
                        "0.48\n",
                        "num_seg_collected 1216\n",
                        "Card stopped\n",
                        "0.485\n",
                        "num_seg_collected 1216\n",
                        "Card stopped\n",
                        "0.49\n",
                        "num_seg_collected 1216\n",
                        "Card stopped\n",
                        "0.495\n",
                        "num_seg_collected 1216\n",
                        "Card stopped\n",
                        "0.5\n",
                        "num_seg_collected 1216\n",
                        "Card stopped\n",
                        "0.505\n",
                        "num_seg_collected 1216\n",
                        "Card stopped\n",
                        "0.51\n",
                        "num_seg_collected 1216\n",
                        "Card stopped\n",
                        "0.515\n",
                        "num_seg_collected 1216\n",
                        "Card stopped\n",
                        "0.52\n",
                        "num_seg_collected 1216\n",
                        "Card stopped\n",
                        "0.525\n",
                        "num_seg_collected 1216\n",
                        "Card stopped\n",
                        "0.53\n",
                        "num_seg_collected 1216\n",
                        "Card stopped\n",
                        "0.535\n",
                        "num_seg_collected 1216\n",
                        "Card stopped\n",
                        "0.54\n",
                        "num_seg_collected 1216\n",
                        "Card stopped\n",
                        "0.545\n",
                        "num_seg_collected 1216\n",
                        "Card stopped\n",
                        "0.55\n",
                        "num_seg_collected 1216\n",
                        "Card stopped\n",
                        "0.555\n",
                        "num_seg_collected 1216\n",
                        "Card stopped\n",
                        "0.56\n",
                        "num_seg_collected 1216\n",
                        "Card stopped\n",
                        "0.5650000000000001\n",
                        "num_seg_collected 1216\n",
                        "Card stopped\n",
                        "0.5700000000000001\n",
                        "num_seg_collected 1216\n",
                        "Card stopped\n",
                        "0.5750000000000001\n",
                        "num_seg_collected 1216\n",
                        "Card stopped\n",
                        "0.58\n",
                        "num_seg_collected 1216\n",
                        "Card stopped\n",
                        "0.585\n",
                        "num_seg_collected 1216\n",
                        "Card stopped\n",
                        "0.59\n",
                        "num_seg_collected 1216\n",
                        "Card stopped\n",
                        "0.595\n",
                        "num_seg_collected 1216\n",
                        "Card stopped\n"
                    ]
                }
            ],
            "source": [
                "# Run the experiment\n",
                "for mmm in range(4):\n",
                "    for jj, ff in enumerate(mw_phasevolt_array): # jj loop counter # ff actual element \n",
                "        # jj = phase_idx % num_phase\n",
                "        # ff = phase_actual[phase_idx]\n",
                "        current_mwphasevolt = ff\n",
                "        print(current_mwphasevolt)\n",
                "        hw.vdi.set_phase_volt(current_mwphasevolt)\n",
                "        hw.pg.rearm()\n",
                "        hw.dig.assign_param(\n",
                "            dict(\n",
                "                readout_ch=readout_ch,\n",
                "                amp_input=amp_input,\n",
                "                num_segment=num_segment,\n",
                "                pretrig_size=pretrig_size + bgextend_size,  # TODO: why 256?\n",
                "                posttrig_size=posttrig_size - bgextend_size,\n",
                "                segment_size=segment_size,\n",
                "            )\n",
                "        )\n",
                "        hw.dig.set_config()\n",
                "        hw.pg.stream(n_runs=num_segment // databufferlen)\n",
                "        hw.dig.start_buffer()\n",
                "        hw.pg.startNow()\n",
                "\n",
                "        time.sleep(1.0 / paraset[\"rate_refresh\"])\n",
                "        num_seg_collected = 0\n",
                "        \n",
                "        while num_seg_collected < num_segment:\n",
                "            rawraw = hw.dig.stream()\n",
                "            if rawraw is not None:\n",
                "                \n",
                "                num_seg_collected = rawraw.shape[0]\n",
                "                print(\"num_seg_collected\", num_seg_collected)\n",
                "                rawraw_all = np.reshape(rawraw, (num_seg_collected, -1))\n",
                "                rawraw_on = rawraw_all[0::2, :]\n",
                "                rawraw_off = rawraw_all[1::2, :]\n",
                "                sig_mwon_raw[jj, :] += np.sum(rawraw_on, axis=0)\n",
                "                sig_mwoff_raw[jj, :] += np.sum(rawraw_off, axis=0)\n",
                "                segment_list[jj] += num_seg_collected\n",
                "        \n",
                "        hw.dig.stop_card()\n",
                "        # time.sleep(1)\n",
                "        # print(phase_idx)\n",
                "\n"
            ]
        },
        {
            "cell_type": "code",
            "execution_count": 11,
            "id": "bbf12575",
            "metadata": {},
            "outputs": [],
            "source": [
                "def average_repeated_data( arr, start, stop, segments):\n",
                "    averaged_norm = np.mean(arr[:, start:stop], axis=1)\n",
                "    averaged_bg = np.mean(\n",
                "        arr[:, bgextend_size - 156 : bgextend_size - 56], axis=1\n",
                "    )  # TODO: use parameters instead of fixed number to select background\n",
                "\n",
                "    averagednormalized = averaged_norm - averaged_bg\n",
                "    result = np.divide(\n",
                "        averagednormalized,\n",
                "        segments,\n",
                "        out=np.zeros_like(averagednormalized, dtype=float),\n",
                "        where=segments != 0,\n",
                "    )\n",
                "    return result\n"
            ]
        },
        {
            "cell_type": "code",
            "execution_count": 12,
            "id": "0526393f",
            "metadata": {},
            "outputs": [],
            "source": [
                "# ORGANIZE THE DATA\n",
                "sig_mwon = average_repeated_data(\n",
                "    sig_mwon_raw,\n",
                "    bgextend_size + 160,\n",
                "    bgextend_size + 400,\n",
                "    segment_list,\n",
                ")\n",
                "sig_mwoff = average_repeated_data(\n",
                "    sig_mwoff_raw,\n",
                "    bgextend_size + 160,\n",
                "    bgextend_size + 400,\n",
                "    segment_list,\n",
                ")\n",
                "\n",
                "# dataset[\"signal\"] = sig_mwon\n",
                "# dataset[\"background\"] = sig_mwoff\n",
                "# # dataset[\"phase\"] = phase\n",
                "# dataset[\"num_repeat\"] = np.mean(segment_list)\n",
                "\n",
                "\n"
            ]
        },
        {
            "cell_type": "code",
            "execution_count": 13,
            "id": "a7e363d8",
            "metadata": {},
            "outputs": [
                {
                    "data": {
                        "image/png": "[encoded data removed]",
                        "text/plain": [
                            "<Figure size 640x480 with 1 Axes>"
                        ]
                    },
                    "metadata": {},
                    "output_type": "display_data"
                }
            ],
            "source": [
                "plt.plot(phase_actual, sig_mwon, label=\"signal\")\n",
                "plt.plot(phase_actual, sig_mwoff, label=\"background\")\n",
                "# plt.plot(phase_actual, sig_mwon - sig_mwoff, label=\"signal - background\")\n",
                "plt.legend()\n",
                "plt.show()"
            ]
        },
        {
            "cell_type": "code",
            "execution_count": 14,
            "id": "665c5237",
            "metadata": {},
            "outputs": [
                {
                    "data": {
                        "text/plain": [
                            "[<matplotlib.lines.Line2D at 0x221f70b6440>]"
                        ]
                    },
                    "execution_count": 14,
                    "metadata": {},
                    "output_type": "execute_result"
                },
                {
                    "data": {
                        "image/png": "[encoded data removed]",
                        "text/plain": [
                            "<Figure size 640x480 with 1 Axes>"
                        ]
                    },
                    "metadata": {},
                    "output_type": "display_data"
                }
            ],
            "source": [
                "plt.plot(phase_actual, sig_mwon - sig_mwoff, label=\"signal - background\")\n"
            ]
        },
        {
            "cell_type": "code",
            "execution_count": 15,
            "id": "d815830d",
            "metadata": {},
            "outputs": [
                {
                    "data": {
                        "image/png": "[encoded data removed]",
                        "text/plain": [
                            "<Figure size 640x480 with 1 Axes>"
                        ]
                    },
                    "metadata": {},
                    "output_type": "display_data"
                }
            ],
            "source": [
                "import numpy as np\n",
                "import matplotlib.pyplot as plt\n",
                "from scipy.optimize import curve_fit\n",
                "\n",
                "# Your original data\n",
                "x = phase_actual\n",
                "y = sig_mwon - sig_mwoff\n",
                "\n",
                "# Define a sine model: A * sin(2π f x + φ) + C\n",
                "def sine_model(x, A, f, phi, C):\n",
                "    return A * np.sin(2 * np.pi * f * x + phi) + C\n",
                "\n",
                "# Initial guess: [Amplitude, Frequency, Phase, Offset]\n",
                "guess = [np.max(y) - np.min(y), 1 / (x[-1] - x[0]), 0, np.mean(y)]\n",
                "\n",
                "# Fit the data\n",
                "popt, _ = curve_fit(sine_model, x, y, p0=guess)\n",
                "\n",
                "# Generate smooth x values for plotting the fitted curve\n",
                "x_fit = np.linspace(np.min(x), np.max(x), 1000)\n",
                "y_fit = sine_model(x_fit, *popt)\n",
                "\n",
                "# Plot\n",
                "plt.plot(x, y, label=\"signal - background\")\n",
                "plt.plot(x_fit, y_fit, label=\"sine fit\", linestyle=\"--\", color=\"red\")\n",
                "plt.legend()\n",
                "plt.xlabel(\"Phase\")\n",
                "plt.ylabel(\"Signal\")\n",
                "plt.title(\"Signal - Background with Sine Fit\")\n",
                "plt.show()\n"
            ]
        },
        {
            "cell_type": "code",
            "execution_count": 16,
            "id": "fa6652d4",
            "metadata": {},
            "outputs": [
                {
                    "name": "stdout",
                    "output_type": "stream",
                    "text": [
                        "Card stopped\n"
                    ]
                }
            ],
            "source": [
                "# SHUTDOWN THE EXPERIMENT\n",
                "# # reconnect the mw syn connection\n",
                "# hw.mwsyn.close_gracefully()\n",
                "# hw.mwsyn.open()\n",
                "hw.vdi.set_amp_volt(0)\n",
                "\n",
                "# turn off laser and set diode current to zero\n",
                "hw.laser.laser_off()  # turn off laser\n",
                "hw.laser.set_diode_current(0.0, save_memory=False)\n",
                "\n",
                "hw.dig.stop_card()\n",
                "# hw.dig.reset()\n",
                "\n",
                "# pasue the mw pause then reboot\n",
                "# hw.mwsyn.sweep_pause()\n",
                "\n",
                "# mwsyn.reboot()\n",
                "\n",
                "# clear the pulse sequence\n",
                "hw.pg.forceFinal()\n",
                "hw.pg.rearm()\n",
                "hw.pg.constant(OutputState.ZERO())\n",
                "# hw.pg.reset()"
            ]
        },
        {
            "cell_type": "code",
            "execution_count": null,
            "id": "7b9548d2",
            "metadata": {},
            "outputs": [],
            "source": []
        }
    ],
    "metadata": {
        "kernelspec": {
            "display_name": "hfnvenv",
            "language": "python",
            "name": "python3"
        },
        "language_info": {
            "codemirror_mode": {
                "name": "ipython",
                "version": 3
            },
            "file_extension": ".py",
            "mimetype": "text/x-python",
            "name": "python",
            "nbconvert_exporter": "python",
            "pygments_lexer": "ipython3",
            "version": "3.10.16"
        }
    },
    "nbformat": 4,
    "nbformat_minor": 5
}