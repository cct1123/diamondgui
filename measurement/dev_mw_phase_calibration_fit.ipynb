{
    "cells": [
        {
            "cell_type": "code",
            "execution_count": 1,
            "id": "29a3d52a",
            "metadata": {},
            "outputs": [],
            "source": [
                "# Jupyter Notebook Cell 1: Import required libraries\n",
                "import pickle\n",
                "import pandas as pd\n",
                "import matplotlib.pyplot as plt\n",
                "import sys\n",
                "sys.path.append(r'C:/Users/HFNV/diamondgui')\n",
                "\n",
                "import measurement  # This should now work if measurement/__init__.py exists\n",
                "from plotly import graph_objects as go"
            ]
        },
        {
            "cell_type": "code",
            "execution_count": 2,
            "id": "97fcfcd3",
            "metadata": {},
            "outputs": [],
            "source": [
                "def replace_slashes(input_string):\n",
                "    return input_string.replace('\\\\', '/')\n",
                "\n"
            ]
        },
        {
            "cell_type": "code",
            "execution_count": 3,
            "id": "86c09118",
            "metadata": {},
            "outputs": [
                {
                    "name": "stdout",
                    "output_type": "stream",
                    "text": [
                        "C:/Users/HFNV/diamondgui/temp/backup/250704h13m49s16_MWPhaseTune-default.pkl\n"
                    ]
                }
            ],
            "source": [
                "file_path = r\"C:\\Users\\HFNV\\diamondgui\\temp\\backup\\250704h13m49s16_MWPhaseTune-default.pkl\"\n",
                "new_path = replace_slashes(file_path)\n",
                "print(new_path)\n"
            ]
        },
        {
            "cell_type": "code",
            "execution_count": 4,
            "id": "434a6efe",
            "metadata": {},
            "outputs": [
                {
                    "name": "stderr",
                    "output_type": "stream",
                    "text": [
                        "C:\\Users\\HFNV\\AppData\\Local\\Temp\\ipykernel_25864\\1862109767.py:1: ResourceWarning: unclosed file <_io.BufferedReader name='C:/Users/HFNV/diamondgui/temp/backup/250704h13m49s16_MWPhaseTune-default.pkl'>\n",
                        "  data=pickle.load(open(new_path, 'rb'))\n",
                        "ResourceWarning: Enable tracemalloc to get the object allocation traceback\n"
                    ]
                }
            ],
            "source": [
                "data=pickle.load(open(new_path, 'rb'))"
            ]
        },
        {
            "cell_type": "code",
            "execution_count": 5,
            "id": "6e96a3aa",
            "metadata": {},
            "outputs": [],
            "source": [
                "xx=data[1]['dataset']['phasevolt']"
            ]
        },
        {
            "cell_type": "code",
            "execution_count": 6,
            "id": "57ab0cc8",
            "metadata": {},
            "outputs": [],
            "source": [
                "sig=data[1]['dataset']['signal']\n",
                "bg=data[1]['dataset']['background']"
            ]
        },
        {
            "cell_type": "code",
            "execution_count": 7,
            "id": "900c2e69",
            "metadata": {},
            "outputs": [
                {
                    "data": {
                        "application/vnd.plotly.v1+json": {
                            "config": {
                                "plotlyServerURL": "https://plot.ly"
                            },
                            "data": [
                                {
                                    "mode": "lines",
                                    "name": "Signal",
                                    "type": "scatter",
                                    "x": {
                                        "bdata": "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",
                                        "dtype": "f8"
                                    },
                                    "y": {
                                        "bdata": "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",
                                        "dtype": "f8"
                                    }
                                }
                            ],
                            "layout": {
                                "template": {
                                    "data": {
                                        "bar": [
                                            {
                                                "error_x": {
                                                    "color": "#2a3f5f"
                                                },
                                                "error_y": {
                                                    "color": "#2a3f5f"
                                                },
                                                "marker": {
                                                    "line": {
                                                        "color": "#E5ECF6",
                                                        "width": 0.5
                                                    },
                                                    "pattern": {
                                                        "fillmode": "overlay",
                                                        "size": 10,
                                                        "solidity": 0.2
                                                    }
                                                },
                                                "type": "bar"
                                            }
                                        ],
                                        "barpolar": [
                                            {
                                                "marker": {
                                                    "line": {
                                                        "color": "#E5ECF6",
                                                        "width": 0.5
                                                    },
                                                    "pattern": {
                                                        "fillmode": "overlay",
                                                        "size": 10,
                                                        "solidity": 0.2
                                                    }
                                                },
                                                "type": "barpolar"
                                            }
                                        ],
                                        "carpet": [
                                            {
                                                "aaxis": {
                                                    "endlinecolor": "#2a3f5f",
                                                    "gridcolor": "white",
                                                    "linecolor": "white",
                                                    "minorgridcolor": "white",
                                                    "startlinecolor": "#2a3f5f"
                                                },
                                                "baxis": {
                                                    "endlinecolor": "#2a3f5f",
                                                    "gridcolor": "white",
                                                    "linecolor": "white",
                                                    "minorgridcolor": "white",
                                                    "startlinecolor": "#2a3f5f"
                                                },
                                                "type": "carpet"
                                            }
                                        ],
                                        "choropleth": [
                                            {
                                                "colorbar": {
                                                    "outlinewidth": 0,
                                                    "ticks": ""
                                                },
                                                "type": "choropleth"
                                            }
                                        ],
                                        "contour": [
                                            {
                                                "colorbar": {
                                                    "outlinewidth": 0,
                                                    "ticks": ""
                                                },
                                                "colorscale": [
                                                    [
                                                        0,
                                                        "#0d0887"
                                                    ],
                                                    [
                                                        0.1111111111111111,
                                                        "#46039f"
                                                    ],
                                                    [
                                                        0.2222222222222222,
                                                        "#7201a8"
                                                    ],
                                                    [
                                                        0.3333333333333333,
                                                        "#9c179e"
                                                    ],
                                                    [
                                                        0.4444444444444444,
                                                        "#bd3786"
                                                    ],
                                                    [
                                                        0.5555555555555556,
                                                        "#d8576b"
                                                    ],
                                                    [
                                                        0.6666666666666666,
                                                        "#ed7953"
                                                    ],
                                                    [
                                                        0.7777777777777778,
                                                        "#fb9f3a"
                                                    ],
                                                    [
                                                        0.8888888888888888,
                                                        "#fdca26"
                                                    ],
                                                    [
                                                        1,
                                                        "#f0f921"
                                                    ]
                                                ],
                                                "type": "contour"
                                            }
                                        ],
                                        "contourcarpet": [
                                            {
                                                "colorbar": {
                                                    "outlinewidth": 0,
                                                    "ticks": ""
                                                },
                                                "type": "contourcarpet"
                                            }
                                        ],
                                        "heatmap": [
                                            {
                                                "colorbar": {
                                                    "outlinewidth": 0,
                                                    "ticks": ""
                                                },
                                                "colorscale": [
                                                    [
                                                        0,
                                                        "#0d0887"
                                                    ],
                                                    [
                                                        0.1111111111111111,
                                                        "#46039f"
                                                    ],
                                                    [
                                                        0.2222222222222222,
                                                        "#7201a8"
                                                    ],
                                                    [
                                                        0.3333333333333333,
                                                        "#9c179e"
                                                    ],
                                                    [
                                                        0.4444444444444444,
                                                        "#bd3786"
                                                    ],
                                                    [
                                                        0.5555555555555556,
                                                        "#d8576b"
                                                    ],
                                                    [
                                                        0.6666666666666666,
                                                        "#ed7953"
                                                    ],
                                                    [
                                                        0.7777777777777778,
                                                        "#fb9f3a"
                                                    ],
                                                    [
                                                        0.8888888888888888,
                                                        "#fdca26"
                                                    ],
                                                    [
                                                        1,
                                                        "#f0f921"
                                                    ]
                                                ],
                                                "type": "heatmap"
                                            }
                                        ],
                                        "histogram": [
                                            {
                                                "marker": {
                                                    "pattern": {
                                                        "fillmode": "overlay",
                                                        "size": 10,
                                                        "solidity": 0.2
                                                    }
                                                },
                                                "type": "histogram"
                                            }
                                        ],
                                        "histogram2d": [
                                            {
                                                "colorbar": {
                                                    "outlinewidth": 0,
                                                    "ticks": ""
                                                },
                                                "colorscale": [
                                                    [
                                                        0,
                                                        "#0d0887"
                                                    ],
                                                    [
                                                        0.1111111111111111,
                                                        "#46039f"
                                                    ],
                                                    [
                                                        0.2222222222222222,
                                                        "#7201a8"
                                                    ],
                                                    [
                                                        0.3333333333333333,
                                                        "#9c179e"
                                                    ],
                                                    [
                                                        0.4444444444444444,
                                                        "#bd3786"
                                                    ],
                                                    [
                                                        0.5555555555555556,
                                                        "#d8576b"
                                                    ],
                                                    [
                                                        0.6666666666666666,
                                                        "#ed7953"
                                                    ],
                                                    [
                                                        0.7777777777777778,
                                                        "#fb9f3a"
                                                    ],
                                                    [
                                                        0.8888888888888888,
                                                        "#fdca26"
                                                    ],
                                                    [
                                                        1,
                                                        "#f0f921"
                                                    ]
                                                ],
                                                "type": "histogram2d"
                                            }
                                        ],
                                        "histogram2dcontour": [
                                            {
                                                "colorbar": {
                                                    "outlinewidth": 0,
                                                    "ticks": ""
                                                },
                                                "colorscale": [
                                                    [
                                                        0,
                                                        "#0d0887"
                                                    ],
                                                    [
                                                        0.1111111111111111,
                                                        "#46039f"
                                                    ],
                                                    [
                                                        0.2222222222222222,
                                                        "#7201a8"
                                                    ],
                                                    [
                                                        0.3333333333333333,
                                                        "#9c179e"
                                                    ],
                                                    [
                                                        0.4444444444444444,
                                                        "#bd3786"
                                                    ],
                                                    [
                                                        0.5555555555555556,
                                                        "#d8576b"
                                                    ],
                                                    [
                                                        0.6666666666666666,
                                                        "#ed7953"
                                                    ],
                                                    [
                                                        0.7777777777777778,
                                                        "#fb9f3a"
                                                    ],
                                                    [
                                                        0.8888888888888888,
                                                        "#fdca26"
                                                    ],
                                                    [
                                                        1,
                                                        "#f0f921"
                                                    ]
                                                ],
                                                "type": "histogram2dcontour"
                                            }
                                        ],
                                        "mesh3d": [
                                            {
                                                "colorbar": {
                                                    "outlinewidth": 0,
                                                    "ticks": ""
                                                },
                                                "type": "mesh3d"
                                            }
                                        ],
                                        "parcoords": [
                                            {
                                                "line": {
                                                    "colorbar": {
                                                        "outlinewidth": 0,
                                                        "ticks": ""
                                                    }
                                                },
                                                "type": "parcoords"
                                            }
                                        ],
                                        "pie": [
                                            {
                                                "automargin": true,
                                                "type": "pie"
                                            }
                                        ],
                                        "scatter": [
                                            {
                                                "fillpattern": {
                                                    "fillmode": "overlay",
                                                    "size": 10,
                                                    "solidity": 0.2
                                                },
                                                "type": "scatter"
                                            }
                                        ],
                                        "scatter3d": [
                                            {
                                                "line": {
                                                    "colorbar": {
                                                        "outlinewidth": 0,
                                                        "ticks": ""
                                                    }
                                                },
                                                "marker": {
                                                    "colorbar": {
                                                        "outlinewidth": 0,
                                                        "ticks": ""
                                                    }
                                                },
                                                "type": "scatter3d"
                                            }
                                        ],
                                        "scattercarpet": [
                                            {
                                                "marker": {
                                                    "colorbar": {
                                                        "outlinewidth": 0,
                                                        "ticks": ""
                                                    }
                                                },
                                                "type": "scattercarpet"
                                            }
                                        ],
                                        "scattergeo": [
                                            {
                                                "marker": {
                                                    "colorbar": {
                                                        "outlinewidth": 0,
                                                        "ticks": ""
                                                    }
                                                },
                                                "type": "scattergeo"
                                            }
                                        ],
                                        "scattergl": [
                                            {
                                                "marker": {
                                                    "colorbar": {
                                                        "outlinewidth": 0,
                                                        "ticks": ""
                                                    }
                                                },
                                                "type": "scattergl"
                                            }
                                        ],
                                        "scattermap": [
                                            {
                                                "marker": {
                                                    "colorbar": {
                                                        "outlinewidth": 0,
                                                        "ticks": ""
                                                    }
                                                },
                                                "type": "scattermap"
                                            }
                                        ],
                                        "scattermapbox": [
                                            {
                                                "marker": {
                                                    "colorbar": {
                                                        "outlinewidth": 0,
                                                        "ticks": ""
                                                    }
                                                },
                                                "type": "scattermapbox"
                                            }
                                        ],
                                        "scatterpolar": [
                                            {
                                                "marker": {
                                                    "colorbar": {
                                                        "outlinewidth": 0,
                                                        "ticks": ""
                                                    }
                                                },
                                                "type": "scatterpolar"
                                            }
                                        ],
                                        "scatterpolargl": [
                                            {
                                                "marker": {
                                                    "colorbar": {
                                                        "outlinewidth": 0,
                                                        "ticks": ""
                                                    }
                                                },
                                                "type": "scatterpolargl"
                                            }
                                        ],
                                        "scatterternary": [
                                            {
                                                "marker": {
                                                    "colorbar": {
                                                        "outlinewidth": 0,
                                                        "ticks": ""
                                                    }
                                                },
                                                "type": "scatterternary"
                                            }
                                        ],
                                        "surface": [
                                            {
                                                "colorbar": {
                                                    "outlinewidth": 0,
                                                    "ticks": ""
                                                },
                                                "colorscale": [
                                                    [
                                                        0,
                                                        "#0d0887"
                                                    ],
                                                    [
                                                        0.1111111111111111,
                                                        "#46039f"
                                                    ],
                                                    [
                                                        0.2222222222222222,
                                                        "#7201a8"
                                                    ],
                                                    [
                                                        0.3333333333333333,
                                                        "#9c179e"
                                                    ],
                                                    [
                                                        0.4444444444444444,
                                                        "#bd3786"
                                                    ],
                                                    [
                                                        0.5555555555555556,
                                                        "#d8576b"
                                                    ],
                                                    [
                                                        0.6666666666666666,
                                                        "#ed7953"
                                                    ],
                                                    [
                                                        0.7777777777777778,
                                                        "#fb9f3a"
                                                    ],
                                                    [
                                                        0.8888888888888888,
                                                        "#fdca26"
                                                    ],
                                                    [
                                                        1,
                                                        "#f0f921"
                                                    ]
                                                ],
                                                "type": "surface"
                                            }
                                        ],
                                        "table": [
                                            {
                                                "cells": {
                                                    "fill": {
                                                        "color": "#EBF0F8"
                                                    },
                                                    "line": {
                                                        "color": "white"
                                                    }
                                                },
                                                "header": {
                                                    "fill": {
                                                        "color": "#C8D4E3"
                                                    },
                                                    "line": {
                                                        "color": "white"
                                                    }
                                                },
                                                "type": "table"
                                            }
                                        ]
                                    },
                                    "layout": {
                                        "annotationdefaults": {
                                            "arrowcolor": "#2a3f5f",
                                            "arrowhead": 0,
                                            "arrowwidth": 1
                                        },
                                        "autotypenumbers": "strict",
                                        "coloraxis": {
                                            "colorbar": {
                                                "outlinewidth": 0,
                                                "ticks": ""
                                            }
                                        },
                                        "colorscale": {
                                            "diverging": [
                                                [
                                                    0,
                                                    "#8e0152"
                                                ],
                                                [
                                                    0.1,
                                                    "#c51b7d"
                                                ],
                                                [
                                                    0.2,
                                                    "#de77ae"
                                                ],
                                                [
                                                    0.3,
                                                    "#f1b6da"
                                                ],
                                                [
                                                    0.4,
                                                    "#fde0ef"
                                                ],
                                                [
                                                    0.5,
                                                    "#f7f7f7"
                                                ],
                                                [
                                                    0.6,
                                                    "#e6f5d0"
                                                ],
                                                [
                                                    0.7,
                                                    "#b8e186"
                                                ],
                                                [
                                                    0.8,
                                                    "#7fbc41"
                                                ],
                                                [
                                                    0.9,
                                                    "#4d9221"
                                                ],
                                                [
                                                    1,
                                                    "#276419"
                                                ]
                                            ],
                                            "sequential": [
                                                [
                                                    0,
                                                    "#0d0887"
                                                ],
                                                [
                                                    0.1111111111111111,
                                                    "#46039f"
                                                ],
                                                [
                                                    0.2222222222222222,
                                                    "#7201a8"
                                                ],
                                                [
                                                    0.3333333333333333,
                                                    "#9c179e"
                                                ],
                                                [
                                                    0.4444444444444444,
                                                    "#bd3786"
                                                ],
                                                [
                                                    0.5555555555555556,
                                                    "#d8576b"
                                                ],
                                                [
                                                    0.6666666666666666,
                                                    "#ed7953"
                                                ],
                                                [
                                                    0.7777777777777778,
                                                    "#fb9f3a"
                                                ],
                                                [
                                                    0.8888888888888888,
                                                    "#fdca26"
                                                ],
                                                [
                                                    1,
                                                    "#f0f921"
                                                ]
                                            ],
                                            "sequentialminus": [
                                                [
                                                    0,
                                                    "#0d0887"
                                                ],
                                                [
                                                    0.1111111111111111,
                                                    "#46039f"
                                                ],
                                                [
                                                    0.2222222222222222,
                                                    "#7201a8"
                                                ],
                                                [
                                                    0.3333333333333333,
                                                    "#9c179e"
                                                ],
                                                [
                                                    0.4444444444444444,
                                                    "#bd3786"
                                                ],
                                                [
                                                    0.5555555555555556,
                                                    "#d8576b"
                                                ],
                                                [
                                                    0.6666666666666666,
                                                    "#ed7953"
                                                ],
                                                [
                                                    0.7777777777777778,
                                                    "#fb9f3a"
                                                ],
                                                [
                                                    0.8888888888888888,
                                                    "#fdca26"
                                                ],
                                                [
                                                    1,
                                                    "#f0f921"
                                                ]
                                            ]
                                        },
                                        "colorway": [
                                            "#636efa",
                                            "#EF553B",
                                            "#00cc96",
                                            "#ab63fa",
                                            "#FFA15A",
                                            "#19d3f3",
                                            "#FF6692",
                                            "#B6E880",
                                            "#FF97FF",
                                            "#FECB52"
                                        ],
                                        "font": {
                                            "color": "#2a3f5f"
                                        },
                                        "geo": {
                                            "bgcolor": "white",
                                            "lakecolor": "white",
                                            "landcolor": "#E5ECF6",
                                            "showlakes": true,
                                            "showland": true,
                                            "subunitcolor": "white"
                                        },
                                        "hoverlabel": {
                                            "align": "left"
                                        },
                                        "hovermode": "closest",
                                        "mapbox": {
                                            "style": "light"
                                        },
                                        "paper_bgcolor": "white",
                                        "plot_bgcolor": "#E5ECF6",
                                        "polar": {
                                            "angularaxis": {
                                                "gridcolor": "white",
                                                "linecolor": "white",
                                                "ticks": ""
                                            },
                                            "bgcolor": "#E5ECF6",
                                            "radialaxis": {
                                                "gridcolor": "white",
                                                "linecolor": "white",
                                                "ticks": ""
                                            }
                                        },
                                        "scene": {
                                            "xaxis": {
                                                "backgroundcolor": "#E5ECF6",
                                                "gridcolor": "white",
                                                "gridwidth": 2,
                                                "linecolor": "white",
                                                "showbackground": true,
                                                "ticks": "",
                                                "zerolinecolor": "white"
                                            },
                                            "yaxis": {
                                                "backgroundcolor": "#E5ECF6",
                                                "gridcolor": "white",
                                                "gridwidth": 2,
                                                "linecolor": "white",
                                                "showbackground": true,
                                                "ticks": "",
                                                "zerolinecolor": "white"
                                            },
                                            "zaxis": {
                                                "backgroundcolor": "#E5ECF6",
                                                "gridcolor": "white",
                                                "gridwidth": 2,
                                                "linecolor": "white",
                                                "showbackground": true,
                                                "ticks": "",
                                                "zerolinecolor": "white"
                                            }
                                        },
                                        "shapedefaults": {
                                            "line": {
                                                "color": "#2a3f5f"
                                            }
                                        },
                                        "ternary": {
                                            "aaxis": {
                                                "gridcolor": "white",
                                                "linecolor": "white",
                                                "ticks": ""
                                            },
                                            "baxis": {
                                                "gridcolor": "white",
                                                "linecolor": "white",
                                                "ticks": ""
                                            },
                                            "bgcolor": "#E5ECF6",
                                            "caxis": {
                                                "gridcolor": "white",
                                                "linecolor": "white",
                                                "ticks": ""
                                            }
                                        },
                                        "title": {
                                            "x": 0.05
                                        },
                                        "xaxis": {
                                            "automargin": true,
                                            "gridcolor": "white",
                                            "linecolor": "white",
                                            "ticks": "",
                                            "title": {
                                                "standoff": 15
                                            },
                                            "zerolinecolor": "white",
                                            "zerolinewidth": 2
                                        },
                                        "yaxis": {
                                            "automargin": true,
                                            "gridcolor": "white",
                                            "linecolor": "white",
                                            "ticks": "",
                                            "title": {
                                                "standoff": 15
                                            },
                                            "zerolinecolor": "white",
                                            "zerolinewidth": 2
                                        }
                                    }
                                },
                                "xaxis": {
                                    "title": {
                                        "text": "Phase Voltage [V]"
                                    }
                                },
                                "yaxis": {
                                    "title": {
                                        "text": "Signal [V]"
                                    }
                                }
                            }
                        }
                    },
                    "metadata": {},
                    "output_type": "display_data"
                }
            ],
            "source": [
                "fig = go.Figure()\n",
                "\n",
                "fig.add_trace(go.Scatter(x=xx, y=sig-bg, mode='lines', name='Signal'))\n",
                "# fig.add_trace(go.Scatter(x=xx, y=bg, mode='lines', name='Background'))\n",
                "fig.update_layout(xaxis_title='Phase Voltage [V]', yaxis_title='Signal [V]')\n",
                "fig.show()"
            ]
        },
        {
            "cell_type": "code",
            "execution_count": 8,
            "id": "95533fc9",
            "metadata": {},
            "outputs": [
                {
                    "name": "stdout",
                    "output_type": "stream",
                    "text": [
                        "Fitted period: 1.4086\n",
                        "Phase difference = 90 (in x):\n",
                        "  Crossing 1: x = 6.31460\n",
                        "  Crossing 2: x = 7.01892\n",
                        "  Crossing 3: x = 7.72324\n",
                        "  Crossing 4: x = 8.42756\n"
                    ]
                },
                {
                    "data": {
                        "application/vnd.plotly.v1+json": {
                            "config": {
                                "plotlyServerURL": "https://plot.ly"
                            },
                            "data": [
                                {
                                    "mode": "markers",
                                    "name": "Data",
                                    "type": "scatter",
                                    "x": {
                                        "bdata": "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",
                                        "dtype": "f8"
                                    },
                                    "y": {
                                        "bdata": "4DYawFvoEL/AJXofmIARv4C8oMoLqgi/QDbwd7FWDL/AGVHaG2wZv0BSAnXdjgq/AIR3s7U5EL9A/SKt01IDv8CG7JAkfhe/wJkYInWDGr/A8NYr9NAQv4DAaTjPOQ2/4Hk/ps5vFr/gGE6sZrgWv+AfAJabKRS/AMvrmw6XF78A7E/J1egSvyCLmg047Bm/wHLgDYJKIL8AJVDX7X4Tv6ApM4aEhyC/IB/WTfFbI78wSTwXsJkgv5DZtfXsHSS/IKbeDjIPHb/wAvJ2Aa4gv1BBh//FQCG/ICWFCXElHb9A8sBXQhccvyCa2vRhfB+/QBzr4jbeJb9gyPc1xFAdv7AERBgNHSW/0NvniEpfJb8A1kblWKYpv8CVHHF3aSe/8OmVsgzBI7/AezX7YZ4qv3BZWBKaVya/oAW4tg+eKL9A7hf4LLkpv1CxMF3sgSm/4BtHL68eKb8gZA+oXNcqv9D0lp4nMC+/wGnlfdGyJ7/A2+eISocrv6CVDlnpXC2/MNcE2rNOLL8w8mb6EjMqv7AzqcB+GC6/sLgzqcDOLb+gOBIEOCMtv/DQ7ah28Cq/MNjp6AOZL784iCATy4cwv9CbJYomCy6/wILn5JZTLL+AUqYoZbYvv6y5VPbaNzG/GJLbhh+4L7/gsuVWt6cxv8AYKYG6yi2/kIDqg7zgML+wSe7ixSkvvwx98++8IjG/TPDRDvZIMb9I42ld+o0wvyBRpen47i6/AA42rS1MMr9Q2EpSeuswvyCaDyflYi+/cOv3Wu+gL78QN+yZH1AwvzCLuCyd/Sy/cDOyuw4hLb94tjZI5jswv2Ac+frE0i6/IOOXgzaEK7+UBe3okhAyv9Btjt3mkC2/MK70j5LEKb8APxIiV9Quv1DHyNAbPy2/MJx27MV+Lr+geiS1Hn4svxCC1K8KPyu/ECfHo6W7Kr/gpe4VCfQnv3A1oQRbUym/AKtsfZdjKr+Q5bkPvVArvxC/bwWqHiq/MD2pbS3YKr/QRNjw9MIpv3Cma6+bPSq/AHBmExXqJ7/ga2piFwgkv8CtFJ5A8ia/4KL8ngfCI7+g18asoL8lv3COg4mplSG/8FJo+1FHJL9QywDA4+8mv8D2FHcmkSS/EEFEtbTNIr9At/030TgbvwBOFsu2USW/IEXP9WR6Ib8Q/96y5SIhv0DduqF6GB6/oE3jh3y/Hb+A6CMDU4QivwBq3IJBWhe/YJRQZI6MIL/gDfNiHJkRv8AErI3K4R2/YBPCLErAF7/gFT4WAOkUv4De6QYjQhO/gIP6GSMkG7+gJIDsck0Wv+A2GsBbcBy/QAOPHkJZE79gvKK5VL4dv4BwVB31LBC/IFrsvkqiF79g5dAi21EXv6BEcHs3UhK/AKp5Vrm8C7/AiOD2bnQPv2D2h9a84hm/wPcAkr33Db+AnE/S0GgOv4B8KhGJbRG/wKde1nmoC79A+cWSX7wCv2AuYItz6xO/AL77ZqfxCb9ge92Me8Yav6ABS5XEkh2/4CSsI2b7FL+A3gcmiFcTv4Cf0NiE4RO/QBMHZqRTDL8AZAGQzu4OvyCRQr1whRO/AJG6OQVTGr+AgmFQdK0Yv4AGeJqzUhu/wM8oqNTDGb8gV02ZMXQVv8Do3sn4tBm/wMLHAiCpIL9A+5a8Rs0bv0DqjLd80B6/AKjNV34lIr/AZj9McVAXv7B2gmFQiCG/4K+Cb2i6Gr8gFHT4X7wiv/C7ydNJoCC/MIAosc87I78wV3LE3WEgvzCMUfZLRCO/AFtgXU1jJL/Amt8RYOAivyBAWJodhyW/YHvkmMIWJb9gG2AxFswlvwBIhS6cZSW/gLaQpRUII7+A0qKiQXwov1Dyx2OJDyi/YIs+wb/HKr+w5NsMtOoovzA/r8mXCyu/0CXNcIBUKr/wnBGlvRUnv7DHqMJtYSq/kJ/u9+lSKb8Q97EeZ6gpv4DSqa6IhCm/UN3YwN+FLb8gm06TZCEsvyDoJfKbzC2/AByhjN5KK7/QBaGj8WQqvwD+n0ZmTDC/QMKkxry/LL+Qd36Dvjcsv/Dg9H+LmS6/wHmwFhx1Lr/ERm3cEUMwv2yalbsHUTO/MJBrxq73L78wOrDq5B0sv8AvQ6t6RS+/8NDPiRETLb/wW/IatSkwv3zXEvJB8zC/MBGJjaW+Lb/UWz5gVhUxv2AyNxHFgyu/CNzejbrKLb+AgXxBJGMxvzz5H/COMDK/4N37/EK7Lb+cCuzHRX4wv4CrTG/pES+/IE8+JBjnLL9QEXmGzokwv9hd2le6VzC/gJQ5UXBnL7+40FABNkEwv5AeDW+9Qi6/1JT7I10QMb+w3/pMZt4wv8C6sYG/Cy+/0KRVTFqdLL+wDV3HIhYuv/Bww575cS2/4BZ9gn9TMb/QJWMMepcrv1DoMwoqTS6/YLUO74RiLr9AC6WfosIpv8C2h6qFDyy/sOqR1HrYLr+ga1U+Qrcov5BiluxbYi+/cIF1Nd0SML8w0d2hn5Muv+B6FK5HoSq/QP97WibOJ79wkkoIJGksvyD20xteAie/sLcSXKZdKL/Az9xiMxQuv9CYu5aQTyi/wLFFgcEKI7+AxQW/wsYov5AbK/+SVSe/kFP8pwISJb+QE436xjErvyB66mWdZym/QN/8O696KL+QFhwZCYMkv5AtKCs7mSS/8FmpdDkjIr+waqVhdQ8iv1CIJx8SjCC/oE58USt2IL9AStXgXnQdv8Ch21HtEBa/MKA2X/nNJL/Qn3SMDKUhvwAf1k3xTxK/YLtMOrceIL9gPbB5dHAhv2BvrTu4VRa/4NcuIl4QIL8gwbirJaUbv2CBG9it2iC/AMa3itgqEr9QZ4CnORsgv+DLb0HoaBm/YA6VJ1ugGr9g+iAv+zMTv4Cu8qBJ1Bi/wDJTQeHcEr9gT9vLWC4Xv4Copj2JnxG/oIIO/4uhE78Acp+yud8Ov4Cl8ARSgBu/ALPzbkXWHb/Ab6tMb5kUvyCmqdyuOBm/gKsQMR//GL8AUCMzaLUVvyCg4w0R8hS/4EEEmVieE79g5kvNJCsgv0CdlzngbxK/4Nj1EUlxFL/gufipYoMWv+BkG9GhAxa/gN1eVQKUHL+AphFSbLkSv0DvITIpORe/AMkMWpm9Gb/AUHmyBUUWv8A9xZ1JNRG/gLOXIs3BHb+w4Tznmsggv0A4qo56LhO/QF8s+cVSBr9Avq8hBrIVv+AFJzgUUx6/",
                                        "dtype": "f8"
                                    }
                                },
                                {
                                    "mode": "lines",
                                    "name": "Sine Fit",
                                    "type": "scatter",
                                    "x": {
                                        "bdata": "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",
                                        "dtype": "f8"
                                    },
                                    "y": {
                                        "bdata": "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",
                                        "dtype": "f8"
                                    }
                                },
                                {
                                    "marker": {
                                        "color": "red",
                                        "size": 8,
                                        "symbol": "x"
                                    },
                                    "mode": "markers",
                                    "name": "Phase difference = 90",
                                    "type": "scatter",
                                    "x": {
                                        "bdata": "etr3ZidCGUBTUHR1YBMcQCzG8IOZ5B5AA542SenaIEA=",
                                        "dtype": "f8"
                                    },
                                    "y": {
                                        "bdata": "EpC6RSk0Jb8kkLpFKTQlvxGQukUpNCW/JZC6RSk0Jb8=",
                                        "dtype": "f8"
                                    }
                                }
                            ],
                            "layout": {
                                "legend": {
                                    "x": 0.01,
                                    "y": 0.99
                                },
                                "template": {
                                    "data": {
                                        "bar": [
                                            {
                                                "error_x": {
                                                    "color": "#2a3f5f"
                                                },
                                                "error_y": {
                                                    "color": "#2a3f5f"
                                                },
                                                "marker": {
                                                    "line": {
                                                        "color": "#E5ECF6",
                                                        "width": 0.5
                                                    },
                                                    "pattern": {
                                                        "fillmode": "overlay",
                                                        "size": 10,
                                                        "solidity": 0.2
                                                    }
                                                },
                                                "type": "bar"
                                            }
                                        ],
                                        "barpolar": [
                                            {
                                                "marker": {
                                                    "line": {
                                                        "color": "#E5ECF6",
                                                        "width": 0.5
                                                    },
                                                    "pattern": {
                                                        "fillmode": "overlay",
                                                        "size": 10,
                                                        "solidity": 0.2
                                                    }
                                                },
                                                "type": "barpolar"
                                            }
                                        ],
                                        "carpet": [
                                            {
                                                "aaxis": {
                                                    "endlinecolor": "#2a3f5f",
                                                    "gridcolor": "white",
                                                    "linecolor": "white",
                                                    "minorgridcolor": "white",
                                                    "startlinecolor": "#2a3f5f"
                                                },
                                                "baxis": {
                                                    "endlinecolor": "#2a3f5f",
                                                    "gridcolor": "white",
                                                    "linecolor": "white",
                                                    "minorgridcolor": "white",
                                                    "startlinecolor": "#2a3f5f"
                                                },
                                                "type": "carpet"
                                            }
                                        ],
                                        "choropleth": [
                                            {
                                                "colorbar": {
                                                    "outlinewidth": 0,
                                                    "ticks": ""
                                                },
                                                "type": "choropleth"
                                            }
                                        ],
                                        "contour": [
                                            {
                                                "colorbar": {
                                                    "outlinewidth": 0,
                                                    "ticks": ""
                                                },
                                                "colorscale": [
                                                    [
                                                        0,
                                                        "#0d0887"
                                                    ],
                                                    [
                                                        0.1111111111111111,
                                                        "#46039f"
                                                    ],
                                                    [
                                                        0.2222222222222222,
                                                        "#7201a8"
                                                    ],
                                                    [
                                                        0.3333333333333333,
                                                        "#9c179e"
                                                    ],
                                                    [
                                                        0.4444444444444444,
                                                        "#bd3786"
                                                    ],
                                                    [
                                                        0.5555555555555556,
                                                        "#d8576b"
                                                    ],
                                                    [
                                                        0.6666666666666666,
                                                        "#ed7953"
                                                    ],
                                                    [
                                                        0.7777777777777778,
                                                        "#fb9f3a"
                                                    ],
                                                    [
                                                        0.8888888888888888,
                                                        "#fdca26"
                                                    ],
                                                    [
                                                        1,
                                                        "#f0f921"
                                                    ]
                                                ],
                                                "type": "contour"
                                            }
                                        ],
                                        "contourcarpet": [
                                            {
                                                "colorbar": {
                                                    "outlinewidth": 0,
                                                    "ticks": ""
                                                },
                                                "type": "contourcarpet"
                                            }
                                        ],
                                        "heatmap": [
                                            {
                                                "colorbar": {
                                                    "outlinewidth": 0,
                                                    "ticks": ""
                                                },
                                                "colorscale": [
                                                    [
                                                        0,
                                                        "#0d0887"
                                                    ],
                                                    [
                                                        0.1111111111111111,
                                                        "#46039f"
                                                    ],
                                                    [
                                                        0.2222222222222222,
                                                        "#7201a8"
                                                    ],
                                                    [
                                                        0.3333333333333333,
                                                        "#9c179e"
                                                    ],
                                                    [
                                                        0.4444444444444444,
                                                        "#bd3786"
                                                    ],
                                                    [
                                                        0.5555555555555556,
                                                        "#d8576b"
                                                    ],
                                                    [
                                                        0.6666666666666666,
                                                        "#ed7953"
                                                    ],
                                                    [
                                                        0.7777777777777778,
                                                        "#fb9f3a"
                                                    ],
                                                    [
                                                        0.8888888888888888,
                                                        "#fdca26"
                                                    ],
                                                    [
                                                        1,
                                                        "#f0f921"
                                                    ]
                                                ],
                                                "type": "heatmap"
                                            }
                                        ],
                                        "histogram": [
                                            {
                                                "marker": {
                                                    "pattern": {
                                                        "fillmode": "overlay",
                                                        "size": 10,
                                                        "solidity": 0.2
                                                    }
                                                },
                                                "type": "histogram"
                                            }
                                        ],
                                        "histogram2d": [
                                            {
                                                "colorbar": {
                                                    "outlinewidth": 0,
                                                    "ticks": ""
                                                },
                                                "colorscale": [
                                                    [
                                                        0,
                                                        "#0d0887"
                                                    ],
                                                    [
                                                        0.1111111111111111,
                                                        "#46039f"
                                                    ],
                                                    [
                                                        0.2222222222222222,
                                                        "#7201a8"
                                                    ],
                                                    [
                                                        0.3333333333333333,
                                                        "#9c179e"
                                                    ],
                                                    [
                                                        0.4444444444444444,
                                                        "#bd3786"
                                                    ],
                                                    [
                                                        0.5555555555555556,
                                                        "#d8576b"
                                                    ],
                                                    [
                                                        0.6666666666666666,
                                                        "#ed7953"
                                                    ],
                                                    [
                                                        0.7777777777777778,
                                                        "#fb9f3a"
                                                    ],
                                                    [
                                                        0.8888888888888888,
                                                        "#fdca26"
                                                    ],
                                                    [
                                                        1,
                                                        "#f0f921"
                                                    ]
                                                ],
                                                "type": "histogram2d"
                                            }
                                        ],
                                        "histogram2dcontour": [
                                            {
                                                "colorbar": {
                                                    "outlinewidth": 0,
                                                    "ticks": ""
                                                },
                                                "colorscale": [
                                                    [
                                                        0,
                                                        "#0d0887"
                                                    ],
                                                    [
                                                        0.1111111111111111,
                                                        "#46039f"
                                                    ],
                                                    [
                                                        0.2222222222222222,
                                                        "#7201a8"
                                                    ],
                                                    [
                                                        0.3333333333333333,
                                                        "#9c179e"
                                                    ],
                                                    [
                                                        0.4444444444444444,
                                                        "#bd3786"
                                                    ],
                                                    [
                                                        0.5555555555555556,
                                                        "#d8576b"
                                                    ],
                                                    [
                                                        0.6666666666666666,
                                                        "#ed7953"
                                                    ],
                                                    [
                                                        0.7777777777777778,
                                                        "#fb9f3a"
                                                    ],
                                                    [
                                                        0.8888888888888888,
                                                        "#fdca26"
                                                    ],
                                                    [
                                                        1,
                                                        "#f0f921"
                                                    ]
                                                ],
                                                "type": "histogram2dcontour"
                                            }
                                        ],
                                        "mesh3d": [
                                            {
                                                "colorbar": {
                                                    "outlinewidth": 0,
                                                    "ticks": ""
                                                },
                                                "type": "mesh3d"
                                            }
                                        ],
                                        "parcoords": [
                                            {
                                                "line": {
                                                    "colorbar": {
                                                        "outlinewidth": 0,
                                                        "ticks": ""
                                                    }
                                                },
                                                "type": "parcoords"
                                            }
                                        ],
                                        "pie": [
                                            {
                                                "automargin": true,
                                                "type": "pie"
                                            }
                                        ],
                                        "scatter": [
                                            {
                                                "fillpattern": {
                                                    "fillmode": "overlay",
                                                    "size": 10,
                                                    "solidity": 0.2
                                                },
                                                "type": "scatter"
                                            }
                                        ],
                                        "scatter3d": [
                                            {
                                                "line": {
                                                    "colorbar": {
                                                        "outlinewidth": 0,
                                                        "ticks": ""
                                                    }
                                                },
                                                "marker": {
                                                    "colorbar": {
                                                        "outlinewidth": 0,
                                                        "ticks": ""
                                                    }
                                                },
                                                "type": "scatter3d"
                                            }
                                        ],
                                        "scattercarpet": [
                                            {
                                                "marker": {
                                                    "colorbar": {
                                                        "outlinewidth": 0,
                                                        "ticks": ""
                                                    }
                                                },
                                                "type": "scattercarpet"
                                            }
                                        ],
                                        "scattergeo": [
                                            {
                                                "marker": {
                                                    "colorbar": {
                                                        "outlinewidth": 0,
                                                        "ticks": ""
                                                    }
                                                },
                                                "type": "scattergeo"
                                            }
                                        ],
                                        "scattergl": [
                                            {
                                                "marker": {
                                                    "colorbar": {
                                                        "outlinewidth": 0,
                                                        "ticks": ""
                                                    }
                                                },
                                                "type": "scattergl"
                                            }
                                        ],
                                        "scattermap": [
                                            {
                                                "marker": {
                                                    "colorbar": {
                                                        "outlinewidth": 0,
                                                        "ticks": ""
                                                    }
                                                },
                                                "type": "scattermap"
                                            }
                                        ],
                                        "scattermapbox": [
                                            {
                                                "marker": {
                                                    "colorbar": {
                                                        "outlinewidth": 0,
                                                        "ticks": ""
                                                    }
                                                },
                                                "type": "scattermapbox"
                                            }
                                        ],
                                        "scatterpolar": [
                                            {
                                                "marker": {
                                                    "colorbar": {
                                                        "outlinewidth": 0,
                                                        "ticks": ""
                                                    }
                                                },
                                                "type": "scatterpolar"
                                            }
                                        ],
                                        "scatterpolargl": [
                                            {
                                                "marker": {
                                                    "colorbar": {
                                                        "outlinewidth": 0,
                                                        "ticks": ""
                                                    }
                                                },
                                                "type": "scatterpolargl"
                                            }
                                        ],
                                        "scatterternary": [
                                            {
                                                "marker": {
                                                    "colorbar": {
                                                        "outlinewidth": 0,
                                                        "ticks": ""
                                                    }
                                                },
                                                "type": "scatterternary"
                                            }
                                        ],
                                        "surface": [
                                            {
                                                "colorbar": {
                                                    "outlinewidth": 0,
                                                    "ticks": ""
                                                },
                                                "colorscale": [
                                                    [
                                                        0,
                                                        "#0d0887"
                                                    ],
                                                    [
                                                        0.1111111111111111,
                                                        "#46039f"
                                                    ],
                                                    [
                                                        0.2222222222222222,
                                                        "#7201a8"
                                                    ],
                                                    [
                                                        0.3333333333333333,
                                                        "#9c179e"
                                                    ],
                                                    [
                                                        0.4444444444444444,
                                                        "#bd3786"
                                                    ],
                                                    [
                                                        0.5555555555555556,
                                                        "#d8576b"
                                                    ],
                                                    [
                                                        0.6666666666666666,
                                                        "#ed7953"
                                                    ],
                                                    [
                                                        0.7777777777777778,
                                                        "#fb9f3a"
                                                    ],
                                                    [
                                                        0.8888888888888888,
                                                        "#fdca26"
                                                    ],
                                                    [
                                                        1,
                                                        "#f0f921"
                                                    ]
                                                ],
                                                "type": "surface"
                                            }
                                        ],
                                        "table": [
                                            {
                                                "cells": {
                                                    "fill": {
                                                        "color": "#EBF0F8"
                                                    },
                                                    "line": {
                                                        "color": "white"
                                                    }
                                                },
                                                "header": {
                                                    "fill": {
                                                        "color": "#C8D4E3"
                                                    },
                                                    "line": {
                                                        "color": "white"
                                                    }
                                                },
                                                "type": "table"
                                            }
                                        ]
                                    },
                                    "layout": {
                                        "annotationdefaults": {
                                            "arrowcolor": "#2a3f5f",
                                            "arrowhead": 0,
                                            "arrowwidth": 1
                                        },
                                        "autotypenumbers": "strict",
                                        "coloraxis": {
                                            "colorbar": {
                                                "outlinewidth": 0,
                                                "ticks": ""
                                            }
                                        },
                                        "colorscale": {
                                            "diverging": [
                                                [
                                                    0,
                                                    "#8e0152"
                                                ],
                                                [
                                                    0.1,
                                                    "#c51b7d"
                                                ],
                                                [
                                                    0.2,
                                                    "#de77ae"
                                                ],
                                                [
                                                    0.3,
                                                    "#f1b6da"
                                                ],
                                                [
                                                    0.4,
                                                    "#fde0ef"
                                                ],
                                                [
                                                    0.5,
                                                    "#f7f7f7"
                                                ],
                                                [
                                                    0.6,
                                                    "#e6f5d0"
                                                ],
                                                [
                                                    0.7,
                                                    "#b8e186"
                                                ],
                                                [
                                                    0.8,
                                                    "#7fbc41"
                                                ],
                                                [
                                                    0.9,
                                                    "#4d9221"
                                                ],
                                                [
                                                    1,
                                                    "#276419"
                                                ]
                                            ],
                                            "sequential": [
                                                [
                                                    0,
                                                    "#0d0887"
                                                ],
                                                [
                                                    0.1111111111111111,
                                                    "#46039f"
                                                ],
                                                [
                                                    0.2222222222222222,
                                                    "#7201a8"
                                                ],
                                                [
                                                    0.3333333333333333,
                                                    "#9c179e"
                                                ],
                                                [
                                                    0.4444444444444444,
                                                    "#bd3786"
                                                ],
                                                [
                                                    0.5555555555555556,
                                                    "#d8576b"
                                                ],
                                                [
                                                    0.6666666666666666,
                                                    "#ed7953"
                                                ],
                                                [
                                                    0.7777777777777778,
                                                    "#fb9f3a"
                                                ],
                                                [
                                                    0.8888888888888888,
                                                    "#fdca26"
                                                ],
                                                [
                                                    1,
                                                    "#f0f921"
                                                ]
                                            ],
                                            "sequentialminus": [
                                                [
                                                    0,
                                                    "#0d0887"
                                                ],
                                                [
                                                    0.1111111111111111,
                                                    "#46039f"
                                                ],
                                                [
                                                    0.2222222222222222,
                                                    "#7201a8"
                                                ],
                                                [
                                                    0.3333333333333333,
                                                    "#9c179e"
                                                ],
                                                [
                                                    0.4444444444444444,
                                                    "#bd3786"
                                                ],
                                                [
                                                    0.5555555555555556,
                                                    "#d8576b"
                                                ],
                                                [
                                                    0.6666666666666666,
                                                    "#ed7953"
                                                ],
                                                [
                                                    0.7777777777777778,
                                                    "#fb9f3a"
                                                ],
                                                [
                                                    0.8888888888888888,
                                                    "#fdca26"
                                                ],
                                                [
                                                    1,
                                                    "#f0f921"
                                                ]
                                            ]
                                        },
                                        "colorway": [
                                            "#636efa",
                                            "#EF553B",
                                            "#00cc96",
                                            "#ab63fa",
                                            "#FFA15A",
                                            "#19d3f3",
                                            "#FF6692",
                                            "#B6E880",
                                            "#FF97FF",
                                            "#FECB52"
                                        ],
                                        "font": {
                                            "color": "#2a3f5f"
                                        },
                                        "geo": {
                                            "bgcolor": "white",
                                            "lakecolor": "white",
                                            "landcolor": "#E5ECF6",
                                            "showlakes": true,
                                            "showland": true,
                                            "subunitcolor": "white"
                                        },
                                        "hoverlabel": {
                                            "align": "left"
                                        },
                                        "hovermode": "closest",
                                        "mapbox": {
                                            "style": "light"
                                        },
                                        "paper_bgcolor": "white",
                                        "plot_bgcolor": "#E5ECF6",
                                        "polar": {
                                            "angularaxis": {
                                                "gridcolor": "white",
                                                "linecolor": "white",
                                                "ticks": ""
                                            },
                                            "bgcolor": "#E5ECF6",
                                            "radialaxis": {
                                                "gridcolor": "white",
                                                "linecolor": "white",
                                                "ticks": ""
                                            }
                                        },
                                        "scene": {
                                            "xaxis": {
                                                "backgroundcolor": "#E5ECF6",
                                                "gridcolor": "white",
                                                "gridwidth": 2,
                                                "linecolor": "white",
                                                "showbackground": true,
                                                "ticks": "",
                                                "zerolinecolor": "white"
                                            },
                                            "yaxis": {
                                                "backgroundcolor": "#E5ECF6",
                                                "gridcolor": "white",
                                                "gridwidth": 2,
                                                "linecolor": "white",
                                                "showbackground": true,
                                                "ticks": "",
                                                "zerolinecolor": "white"
                                            },
                                            "zaxis": {
                                                "backgroundcolor": "#E5ECF6",
                                                "gridcolor": "white",
                                                "gridwidth": 2,
                                                "linecolor": "white",
                                                "showbackground": true,
                                                "ticks": "",
                                                "zerolinecolor": "white"
                                            }
                                        },
                                        "shapedefaults": {
                                            "line": {
                                                "color": "#2a3f5f"
                                            }
                                        },
                                        "ternary": {
                                            "aaxis": {
                                                "gridcolor": "white",
                                                "linecolor": "white",
                                                "ticks": ""
                                            },
                                            "baxis": {
                                                "gridcolor": "white",
                                                "linecolor": "white",
                                                "ticks": ""
                                            },
                                            "bgcolor": "#E5ECF6",
                                            "caxis": {
                                                "gridcolor": "white",
                                                "linecolor": "white",
                                                "ticks": ""
                                            }
                                        },
                                        "title": {
                                            "x": 0.05
                                        },
                                        "xaxis": {
                                            "automargin": true,
                                            "gridcolor": "white",
                                            "linecolor": "white",
                                            "ticks": "",
                                            "title": {
                                                "standoff": 15
                                            },
                                            "zerolinecolor": "white",
                                            "zerolinewidth": 2
                                        },
                                        "yaxis": {
                                            "automargin": true,
                                            "gridcolor": "white",
                                            "linecolor": "white",
                                            "ticks": "",
                                            "title": {
                                                "standoff": 15
                                            },
                                            "zerolinecolor": "white",
                                            "zerolinewidth": 2
                                        }
                                    }
                                },
                                "title": {
                                    "text": "Sine Fit with Period = 1.4086"
                                },
                                "xaxis": {
                                    "title": {
                                        "text": "x"
                                    }
                                },
                                "yaxis": {
                                    "title": {
                                        "text": "sig - bg"
                                    }
                                }
                            }
                        }
                    },
                    "metadata": {},
                    "output_type": "display_data"
                }
            ],
            "source": [
                "import numpy as np\n",
                "import plotly.graph_objects as go\n",
                "from scipy.optimize import curve_fit\n",
                "\n",
                "# Example sine function model\n",
                "def sin_cos_model(x, A, omega, phi, C):\n",
                "    return A * np.sin(omega * x + phi) + C\n",
                "\n",
                "# Fit the model to your data\n",
                "initial_guess = [0.0001, 4.2, 0, -0.0005]\n",
                "popt, pcov = curve_fit(sin_cos_model, xx, sig - bg, p0=initial_guess)\n",
                "\n",
                "# Extract fitted parameters\n",
                "A_fit, omega_fit, phi_fit, C_fit = popt\n",
                "period = 2 * np.pi / omega_fit\n",
                "print(f\"Fitted period: {period:.4f}\")\n",
                "\n",
                "# Generate fitted curve\n",
                "x_fit = np.linspace(np.min(xx), np.max(xx), 1000)\n",
                "y_fit = sin_cos_model(x_fit, *popt)\n",
                "\n",
                "# Compute phase-zero crossings (sin argument = 0 mod 2π)\n",
                "x0 = (-phi_fit) / omega_fit  # First zero crossing\n",
                "n_crossings = int((np.max(xx) - x0) / (period / 2)) + 1\n",
                "zero_crossings = x0 + (np.arange(-5, n_crossings + 5) * (period / 2))\n",
                "zero_crossings = zero_crossings[(zero_crossings >= np.min(xx)) & (zero_crossings <= np.max(xx))]\n",
                "# Print phase = 0 crossing points\n",
                "print(\"Phase difference = 90 (in x):\")\n",
                "for i, x_cross in enumerate(zero_crossings):\n",
                "    print(f\"  Crossing {i+1}: x = {x_cross:.5f}\")\n",
                "# Compute y-values at zero crossings (should be ~C)\n",
                "y_zeros = sin_cos_model(zero_crossings, *popt)\n",
                "\n",
                "# Plot using Plotly\n",
                "fig = go.Figure()\n",
                "fig.add_trace(go.Scatter(x=xx, y=sig - bg, mode='markers', name='Data'))\n",
                "fig.add_trace(go.Scatter(x=x_fit, y=y_fit, mode='lines', name='Sine Fit'))\n",
                "\n",
                "# Add zero-crossing markers\n",
                "fig.add_trace(go.Scatter(\n",
                "    x=zero_crossings, y=y_zeros,\n",
                "    mode='markers',\n",
                "    marker=dict(color='red', size=8, symbol='x'),\n",
                "    name='Phase difference = 90'\n",
                "))\n",
                "\n",
                "fig.update_layout(\n",
                "    title=f\"Sine Fit with Period = {period:.4f}\",\n",
                "    xaxis_title='x',\n",
                "    yaxis_title='sig - bg',\n",
                "    legend=dict(x=0.01, y=0.99)\n",
                ")\n",
                "fig.show()\n"
            ]
        },
        {
            "cell_type": "code",
            "execution_count": null,
            "id": "728f5a83",
            "metadata": {},
            "outputs": [],
            "source": []
        }
    ],
    "metadata": {
        "kernelspec": {
            "display_name": "hfnvenv",
            "language": "python",
            "name": "python3"
        },
        "language_info": {
            "codemirror_mode": {
                "name": "ipython",
                "version": 3
            },
            "file_extension": ".py",
            "mimetype": "text/x-python",
            "name": "python",
            "nbconvert_exporter": "python",
            "pygments_lexer": "ipython3",
            "version": "3.10.16"
        }
    },
    "nbformat": 4,
    "nbformat_minor": 5
}