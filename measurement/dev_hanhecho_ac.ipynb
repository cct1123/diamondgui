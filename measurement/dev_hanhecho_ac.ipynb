{
 "cells": [
  {
   "cell_type": "code",
   "execution_count": 1,
   "id": "fdd238cb",
   "metadata": {},
   "outputs": [],
   "source": [
    "# Jupyter Notebook Cell 1: Import required libraries\n",
    "import pickle\n",
    "import pandas as pd\n",
    "import matplotlib.pyplot as plt\n",
    "import sys\n",
    "sys.path.append(r'C:/Users/HFNV/diamondgui')\n",
    "\n",
    "import measurement  # This should now work if measurement/__init__.py exists\n",
    "from plotly import graph_objects as go"
   ]
  },
  {
   "cell_type": "code",
   "execution_count": 2,
   "id": "e006b83f",
   "metadata": {},
   "outputs": [
    {
     "name": "stdout",
     "output_type": "stream",
     "text": [
      "Data type: <class 'tuple'>\n"
     ]
    }
   ],
   "source": [
    "# load in the data with Bz coil for Hahn Echo \n",
    "# Jupyter Notebook Cell 2: Define the file path\n",
    "file_path = \"C:/Users/HFNV/diamondgui/temp/backup/250702h13m20s56_HahnEcho-default.pkl\"\n",
    "\n",
    "# Jupyter Notebook Cell 3: Load the pickle file\n",
    "with open(file_path, 'rb') as file:\n",
    "    data = pickle.load(file)\n",
    "\n",
    "# Jupyter Notebook Cell 4: Inspect the type and content\n",
    "print(f\"Data type: {type(data)}\")\n",
    "\n",
    "# For dictionaries, print keys\n",
    "if isinstance(data, dict):\n",
    "    print(f\"Keys: {data.keys()}\")\n",
    "\n",
    "# For lists, show a sample\n",
    "elif isinstance(data, list):\n",
    "    print(f\"First 5 elements: {data[:5]}\")\n",
    "\n",
    "# If it's a DataFrame, show the head\n",
    "elif isinstance(data, pd.DataFrame):\n",
    "    display(data.head())\n",
    "\n",
    "# Jupyter Notebook Cell 5: Optional visualization or further exploration\n",
    "# Example for dictionary containing arrays/lists\n",
    "if isinstance(data, dict):\n",
    "    for key, value in data.items():\n",
    "        if isinstance(value, (list, pd.Series)) and len(value) > 0:\n",
    "            plt.plot(value)\n",
    "            plt.title(f\"Plot for key: {key}\")\n",
    "            plt.xlabel(\"Index\")\n",
    "            plt.ylabel(\"Value\")\n",
    "            plt.show()\n"
   ]
  },
  {
   "cell_type": "code",
   "execution_count": 3,
   "id": "677969a5",
   "metadata": {},
   "outputs": [],
   "source": [
    "signal_Bz= data[1]['dataset']['sig_n']\n",
    "background_Bz= data[1]['dataset']['sig_p']\n",
    "tau=data[1]['dataset']['tau']"
   ]
  },
  {
   "cell_type": "code",
   "execution_count": 4,
   "id": "80c698dc",
   "metadata": {},
   "outputs": [
    {
     "data": {
      "application/vnd.plotly.v1+json": {
       "config": {
        "plotlyServerURL": "https://plot.ly"
       },
       "data": [
        {
         "mode": "lines+markers",
         "name": "Signal Trace",
         "type": "scatter",
         "x": {
          "bdata": "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",
          "dtype": "f8"
         },
         "y": {
          "bdata": "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",
          "dtype": "f8"
         }
        }
       ],
       "layout": {
        "template": {
         "data": {
          "bar": [
           {
            "error_x": {
             "color": "#2a3f5f"
            },
            "error_y": {
             "color": "#2a3f5f"
            },
            "marker": {
             "line": {
              "color": "white",
              "width": 0.5
             },
             "pattern": {
              "fillmode": "overlay",
              "size": 10,
              "solidity": 0.2
             }
            },
            "type": "bar"
           }
          ],
          "barpolar": [
           {
            "marker": {
             "line": {
              "color": "white",
              "width": 0.5
             },
             "pattern": {
              "fillmode": "overlay",
              "size": 10,
              "solidity": 0.2
             }
            },
            "type": "barpolar"
           }
          ],
          "carpet": [
           {
            "aaxis": {
             "endlinecolor": "#2a3f5f",
             "gridcolor": "#C8D4E3",
             "linecolor": "#C8D4E3",
             "minorgridcolor": "#C8D4E3",
             "startlinecolor": "#2a3f5f"
            },
            "baxis": {
             "endlinecolor": "#2a3f5f",
             "gridcolor": "#C8D4E3",
             "linecolor": "#C8D4E3",
             "minorgridcolor": "#C8D4E3",
             "startlinecolor": "#2a3f5f"
            },
            "type": "carpet"
           }
          ],
          "choropleth": [
           {
            "colorbar": {
             "outlinewidth": 0,
             "ticks": ""
            },
            "type": "choropleth"
           }
          ],
          "contour": [
           {
            "colorbar": {
             "outlinewidth": 0,
             "ticks": ""
            },
            "colorscale": [
             [
              0,
              "#0d0887"
             ],
             [
              0.1111111111111111,
              "#46039f"
             ],
             [
              0.2222222222222222,
              "#7201a8"
             ],
             [
              0.3333333333333333,
              "#9c179e"
             ],
             [
              0.4444444444444444,
              "#bd3786"
             ],
             [
              0.5555555555555556,
              "#d8576b"
             ],
             [
              0.6666666666666666,
              "#ed7953"
             ],
             [
              0.7777777777777778,
              "#fb9f3a"
             ],
             [
              0.8888888888888888,
              "#fdca26"
             ],
             [
              1,
              "#f0f921"
             ]
            ],
            "type": "contour"
           }
          ],
          "contourcarpet": [
           {
            "colorbar": {
             "outlinewidth": 0,
             "ticks": ""
            },
            "type": "contourcarpet"
           }
          ],
          "heatmap": [
           {
            "colorbar": {
             "outlinewidth": 0,
             "ticks": ""
            },
            "colorscale": [
             [
              0,
              "#0d0887"
             ],
             [
              0.1111111111111111,
              "#46039f"
             ],
             [
              0.2222222222222222,
              "#7201a8"
             ],
             [
              0.3333333333333333,
              "#9c179e"
             ],
             [
              0.4444444444444444,
              "#bd3786"
             ],
             [
              0.5555555555555556,
              "#d8576b"
             ],
             [
              0.6666666666666666,
              "#ed7953"
             ],
             [
              0.7777777777777778,
              "#fb9f3a"
             ],
             [
              0.8888888888888888,
              "#fdca26"
             ],
             [
              1,
              "#f0f921"
             ]
            ],
            "type": "heatmap"
           }
          ],
          "histogram": [
           {
            "marker": {
             "pattern": {
              "fillmode": "overlay",
              "size": 10,
              "solidity": 0.2
             }
            },
            "type": "histogram"
           }
          ],
          "histogram2d": [
           {
            "colorbar": {
             "outlinewidth": 0,
             "ticks": ""
            },
            "colorscale": [
             [
              0,
              "#0d0887"
             ],
             [
              0.1111111111111111,
              "#46039f"
             ],
             [
              0.2222222222222222,
              "#7201a8"
             ],
             [
              0.3333333333333333,
              "#9c179e"
             ],
             [
              0.4444444444444444,
              "#bd3786"
             ],
             [
              0.5555555555555556,
              "#d8576b"
             ],
             [
              0.6666666666666666,
              "#ed7953"
             ],
             [
              0.7777777777777778,
              "#fb9f3a"
             ],
             [
              0.8888888888888888,
              "#fdca26"
             ],
             [
              1,
              "#f0f921"
             ]
            ],
            "type": "histogram2d"
           }
          ],
          "histogram2dcontour": [
           {
            "colorbar": {
             "outlinewidth": 0,
             "ticks": ""
            },
            "colorscale": [
             [
              0,
              "#0d0887"
             ],
             [
              0.1111111111111111,
              "#46039f"
             ],
             [
              0.2222222222222222,
              "#7201a8"
             ],
             [
              0.3333333333333333,
              "#9c179e"
             ],
             [
              0.4444444444444444,
              "#bd3786"
             ],
             [
              0.5555555555555556,
              "#d8576b"
             ],
             [
              0.6666666666666666,
              "#ed7953"
             ],
             [
              0.7777777777777778,
              "#fb9f3a"
             ],
             [
              0.8888888888888888,
              "#fdca26"
             ],
             [
              1,
              "#f0f921"
             ]
            ],
            "type": "histogram2dcontour"
           }
          ],
          "mesh3d": [
           {
            "colorbar": {
             "outlinewidth": 0,
             "ticks": ""
            },
            "type": "mesh3d"
           }
          ],
          "parcoords": [
           {
            "line": {
             "colorbar": {
              "outlinewidth": 0,
              "ticks": ""
             }
            },
            "type": "parcoords"
           }
          ],
          "pie": [
           {
            "automargin": true,
            "type": "pie"
           }
          ],
          "scatter": [
           {
            "fillpattern": {
             "fillmode": "overlay",
             "size": 10,
             "solidity": 0.2
            },
            "type": "scatter"
           }
          ],
          "scatter3d": [
           {
            "line": {
             "colorbar": {
              "outlinewidth": 0,
              "ticks": ""
             }
            },
            "marker": {
             "colorbar": {
              "outlinewidth": 0,
              "ticks": ""
             }
            },
            "type": "scatter3d"
           }
          ],
          "scattercarpet": [
           {
            "marker": {
             "colorbar": {
              "outlinewidth": 0,
              "ticks": ""
             }
            },
            "type": "scattercarpet"
           }
          ],
          "scattergeo": [
           {
            "marker": {
             "colorbar": {
              "outlinewidth": 0,
              "ticks": ""
             }
            },
            "type": "scattergeo"
           }
          ],
          "scattergl": [
           {
            "marker": {
             "colorbar": {
              "outlinewidth": 0,
              "ticks": ""
             }
            },
            "type": "scattergl"
           }
          ],
          "scattermap": [
           {
            "marker": {
             "colorbar": {
              "outlinewidth": 0,
              "ticks": ""
             }
            },
            "type": "scattermap"
           }
          ],
          "scattermapbox": [
           {
            "marker": {
             "colorbar": {
              "outlinewidth": 0,
              "ticks": ""
             }
            },
            "type": "scattermapbox"
           }
          ],
          "scatterpolar": [
           {
            "marker": {
             "colorbar": {
              "outlinewidth": 0,
              "ticks": ""
             }
            },
            "type": "scatterpolar"
           }
          ],
          "scatterpolargl": [
           {
            "marker": {
             "colorbar": {
              "outlinewidth": 0,
              "ticks": ""
             }
            },
            "type": "scatterpolargl"
           }
          ],
          "scatterternary": [
           {
            "marker": {
             "colorbar": {
              "outlinewidth": 0,
              "ticks": ""
             }
            },
            "type": "scatterternary"
           }
          ],
          "surface": [
           {
            "colorbar": {
             "outlinewidth": 0,
             "ticks": ""
            },
            "colorscale": [
             [
              0,
              "#0d0887"
             ],
             [
              0.1111111111111111,
              "#46039f"
             ],
             [
              0.2222222222222222,
              "#7201a8"
             ],
             [
              0.3333333333333333,
              "#9c179e"
             ],
             [
              0.4444444444444444,
              "#bd3786"
             ],
             [
              0.5555555555555556,
              "#d8576b"
             ],
             [
              0.6666666666666666,
              "#ed7953"
             ],
             [
              0.7777777777777778,
              "#fb9f3a"
             ],
             [
              0.8888888888888888,
              "#fdca26"
             ],
             [
              1,
              "#f0f921"
             ]
            ],
            "type": "surface"
           }
          ],
          "table": [
           {
            "cells": {
             "fill": {
              "color": "#EBF0F8"
             },
             "line": {
              "color": "white"
             }
            },
            "header": {
             "fill": {
              "color": "#C8D4E3"
             },
             "line": {
              "color": "white"
             }
            },
            "type": "table"
           }
          ]
         },
         "layout": {
          "annotationdefaults": {
           "arrowcolor": "#2a3f5f",
           "arrowhead": 0,
           "arrowwidth": 1
          },
          "autotypenumbers": "strict",
          "coloraxis": {
           "colorbar": {
            "outlinewidth": 0,
            "ticks": ""
           }
          },
          "colorscale": {
           "diverging": [
            [
             0,
             "#8e0152"
            ],
            [
             0.1,
             "#c51b7d"
            ],
            [
             0.2,
             "#de77ae"
            ],
            [
             0.3,
             "#f1b6da"
            ],
            [
             0.4,
             "#fde0ef"
            ],
            [
             0.5,
             "#f7f7f7"
            ],
            [
             0.6,
             "#e6f5d0"
            ],
            [
             0.7,
             "#b8e186"
            ],
            [
             0.8,
             "#7fbc41"
            ],
            [
             0.9,
             "#4d9221"
            ],
            [
             1,
             "#276419"
            ]
           ],
           "sequential": [
            [
             0,
             "#0d0887"
            ],
            [
             0.1111111111111111,
             "#46039f"
            ],
            [
             0.2222222222222222,
             "#7201a8"
            ],
            [
             0.3333333333333333,
             "#9c179e"
            ],
            [
             0.4444444444444444,
             "#bd3786"
            ],
            [
             0.5555555555555556,
             "#d8576b"
            ],
            [
             0.6666666666666666,
             "#ed7953"
            ],
            [
             0.7777777777777778,
             "#fb9f3a"
            ],
            [
             0.8888888888888888,
             "#fdca26"
            ],
            [
             1,
             "#f0f921"
            ]
           ],
           "sequentialminus": [
            [
             0,
             "#0d0887"
            ],
            [
             0.1111111111111111,
             "#46039f"
            ],
            [
             0.2222222222222222,
             "#7201a8"
            ],
            [
             0.3333333333333333,
             "#9c179e"
            ],
            [
             0.4444444444444444,
             "#bd3786"
            ],
            [
             0.5555555555555556,
             "#d8576b"
            ],
            [
             0.6666666666666666,
             "#ed7953"
            ],
            [
             0.7777777777777778,
             "#fb9f3a"
            ],
            [
             0.8888888888888888,
             "#fdca26"
            ],
            [
             1,
             "#f0f921"
            ]
           ]
          },
          "colorway": [
           "#636efa",
           "#EF553B",
           "#00cc96",
           "#ab63fa",
           "#FFA15A",
           "#19d3f3",
           "#FF6692",
           "#B6E880",
           "#FF97FF",
           "#FECB52"
          ],
          "font": {
           "color": "#2a3f5f"
          },
          "geo": {
           "bgcolor": "white",
           "lakecolor": "white",
           "landcolor": "white",
           "showlakes": true,
           "showland": true,
           "subunitcolor": "#C8D4E3"
          },
          "hoverlabel": {
           "align": "left"
          },
          "hovermode": "closest",
          "mapbox": {
           "style": "light"
          },
          "paper_bgcolor": "white",
          "plot_bgcolor": "white",
          "polar": {
           "angularaxis": {
            "gridcolor": "#EBF0F8",
            "linecolor": "#EBF0F8",
            "ticks": ""
           },
           "bgcolor": "white",
           "radialaxis": {
            "gridcolor": "#EBF0F8",
            "linecolor": "#EBF0F8",
            "ticks": ""
           }
          },
          "scene": {
           "xaxis": {
            "backgroundcolor": "white",
            "gridcolor": "#DFE8F3",
            "gridwidth": 2,
            "linecolor": "#EBF0F8",
            "showbackground": true,
            "ticks": "",
            "zerolinecolor": "#EBF0F8"
           },
           "yaxis": {
            "backgroundcolor": "white",
            "gridcolor": "#DFE8F3",
            "gridwidth": 2,
            "linecolor": "#EBF0F8",
            "showbackground": true,
            "ticks": "",
            "zerolinecolor": "#EBF0F8"
           },
           "zaxis": {
            "backgroundcolor": "white",
            "gridcolor": "#DFE8F3",
            "gridwidth": 2,
            "linecolor": "#EBF0F8",
            "showbackground": true,
            "ticks": "",
            "zerolinecolor": "#EBF0F8"
           }
          },
          "shapedefaults": {
           "line": {
            "color": "#2a3f5f"
           }
          },
          "ternary": {
           "aaxis": {
            "gridcolor": "#DFE8F3",
            "linecolor": "#A2B1C6",
            "ticks": ""
           },
           "baxis": {
            "gridcolor": "#DFE8F3",
            "linecolor": "#A2B1C6",
            "ticks": ""
           },
           "bgcolor": "white",
           "caxis": {
            "gridcolor": "#DFE8F3",
            "linecolor": "#A2B1C6",
            "ticks": ""
           }
          },
          "title": {
           "x": 0.05
          },
          "xaxis": {
           "automargin": true,
           "gridcolor": "#EBF0F8",
           "linecolor": "#EBF0F8",
           "ticks": "",
           "title": {
            "standoff": 15
           },
           "zerolinecolor": "#EBF0F8",
           "zerolinewidth": 2
          },
          "yaxis": {
           "automargin": true,
           "gridcolor": "#EBF0F8",
           "linecolor": "#EBF0F8",
           "ticks": "",
           "title": {
            "standoff": 15
           },
           "zerolinecolor": "#EBF0F8",
           "zerolinewidth": 2
          }
         }
        },
        "title": {
         "text": "Basic Plotly GO Line Plot"
        },
        "xaxis": {
         "title": {
          "text": "X Axis"
         }
        },
        "yaxis": {
         "title": {
          "text": "Y Axis"
         }
        }
       }
      }
     },
     "metadata": {},
     "output_type": "display_data"
    }
   ],
   "source": [
    "\n",
    "# Replace 'x_column' and 'y_column' with actual column names\n",
    "fig = go.Figure()\n",
    "\n",
    "fig.add_trace(go.Scatter(\n",
    "    x=tau,\n",
    "    y=signal_Bz-background_Bz,\n",
    "    mode='lines+markers',\n",
    "    name='Signal Trace'\n",
    "))\n",
    "\n",
    "fig.update_layout(\n",
    "    title='Basic Plotly GO Line Plot',\n",
    "    xaxis_title='X Axis',\n",
    "    yaxis_title='Y Axis',\n",
    "    template='plotly_white'\n",
    ")\n",
    "\n",
    "fig.show()\n"
   ]
  },
  {
   "cell_type": "code",
   "execution_count": 5,
   "id": "ccadc759",
   "metadata": {},
   "outputs": [
    {
     "name": "stdout",
     "output_type": "stream",
     "text": [
      "Data type: <class 'tuple'>\n"
     ]
    }
   ],
   "source": [
    "# load in the data with Bz coil for Hahn Echo \n",
    "# Jupyter Notebook Cell 2: Define the file path\n",
    "file_path = \"C:/Users/HFNV/diamondgui/temp/backup/250702h13m28s35_HahnEcho-default.pkl\"\n",
    "\n",
    "# Jupyter Notebook Cell 3: Load the pickle file\n",
    "with open(file_path, 'rb') as file:\n",
    "    data = pickle.load(file)\n",
    "\n",
    "# Jupyter Notebook Cell 4: Inspect the type and content\n",
    "print(f\"Data type: {type(data)}\")\n",
    "\n",
    "# For dictionaries, print keys\n",
    "if isinstance(data, dict):\n",
    "    print(f\"Keys: {data.keys()}\")\n",
    "\n",
    "# For lists, show a sample\n",
    "elif isinstance(data, list):\n",
    "    print(f\"First 5 elements: {data[:5]}\")\n",
    "\n",
    "# If it's a DataFrame, show the head\n",
    "elif isinstance(data, pd.DataFrame):\n",
    "    display(data.head())\n",
    "\n",
    "# Jupyter Notebook Cell 5: Optional visualization or further exploration\n",
    "# Example for dictionary containing arrays/lists\n",
    "if isinstance(data, dict):\n",
    "    for key, value in data.items():\n",
    "        if isinstance(value, (list, pd.Series)) and len(value) > 0:\n",
    "            plt.plot(value)\n",
    "            plt.title(f\"Plot for key: {key}\")\n",
    "            plt.xlabel(\"Index\")\n",
    "            plt.ylabel(\"Value\")\n",
    "            plt.show()\n"
   ]
  },
  {
   "cell_type": "code",
   "execution_count": 6,
   "id": "14b7a715",
   "metadata": {},
   "outputs": [],
   "source": [
    "signal_noBz= data[1]['dataset']['sig_n']\n",
    "background_noBz= data[1]['dataset']['sig_p']"
   ]
  },
  {
   "cell_type": "code",
   "execution_count": 7,
   "id": "3dc1660d",
   "metadata": {},
   "outputs": [],
   "source": [
    "tau=data[1]['dataset']['tau']"
   ]
  },
  {
   "cell_type": "code",
   "execution_count": 8,
   "id": "212358fd",
   "metadata": {},
   "outputs": [
    {
     "data": {
      "application/vnd.plotly.v1+json": {
       "config": {
        "plotlyServerURL": "https://plot.ly"
       },
       "data": [
        {
         "mode": "lines+markers",
         "name": "Bz with 0.718 MHz 1 Vpp",
         "type": "scatter",
         "x": {
          "bdata": "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",
          "dtype": "f8"
         },
         "y": {
          "bdata": "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",
          "dtype": "f8"
         }
        },
        {
         "mode": "lines+markers",
         "name": "No Bz",
         "type": "scatter",
         "x": {
          "bdata": "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",
          "dtype": "f8"
         },
         "y": {
          "bdata": "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",
          "dtype": "f8"
         }
        }
       ],
       "layout": {
        "template": {
         "data": {
          "bar": [
           {
            "error_x": {
             "color": "#2a3f5f"
            },
            "error_y": {
             "color": "#2a3f5f"
            },
            "marker": {
             "line": {
              "color": "white",
              "width": 0.5
             },
             "pattern": {
              "fillmode": "overlay",
              "size": 10,
              "solidity": 0.2
             }
            },
            "type": "bar"
           }
          ],
          "barpolar": [
           {
            "marker": {
             "line": {
              "color": "white",
              "width": 0.5
             },
             "pattern": {
              "fillmode": "overlay",
              "size": 10,
              "solidity": 0.2
             }
            },
            "type": "barpolar"
           }
          ],
          "carpet": [
           {
            "aaxis": {
             "endlinecolor": "#2a3f5f",
             "gridcolor": "#C8D4E3",
             "linecolor": "#C8D4E3",
             "minorgridcolor": "#C8D4E3",
             "startlinecolor": "#2a3f5f"
            },
            "baxis": {
             "endlinecolor": "#2a3f5f",
             "gridcolor": "#C8D4E3",
             "linecolor": "#C8D4E3",
             "minorgridcolor": "#C8D4E3",
             "startlinecolor": "#2a3f5f"
            },
            "type": "carpet"
           }
          ],
          "choropleth": [
           {
            "colorbar": {
             "outlinewidth": 0,
             "ticks": ""
            },
            "type": "choropleth"
           }
          ],
          "contour": [
           {
            "colorbar": {
             "outlinewidth": 0,
             "ticks": ""
            },
            "colorscale": [
             [
              0,
              "#0d0887"
             ],
             [
              0.1111111111111111,
              "#46039f"
             ],
             [
              0.2222222222222222,
              "#7201a8"
             ],
             [
              0.3333333333333333,
              "#9c179e"
             ],
             [
              0.4444444444444444,
              "#bd3786"
             ],
             [
              0.5555555555555556,
              "#d8576b"
             ],
             [
              0.6666666666666666,
              "#ed7953"
             ],
             [
              0.7777777777777778,
              "#fb9f3a"
             ],
             [
              0.8888888888888888,
              "#fdca26"
             ],
             [
              1,
              "#f0f921"
             ]
            ],
            "type": "contour"
           }
          ],
          "contourcarpet": [
           {
            "colorbar": {
             "outlinewidth": 0,
             "ticks": ""
            },
            "type": "contourcarpet"
           }
          ],
          "heatmap": [
           {
            "colorbar": {
             "outlinewidth": 0,
             "ticks": ""
            },
            "colorscale": [
             [
              0,
              "#0d0887"
             ],
             [
              0.1111111111111111,
              "#46039f"
             ],
             [
              0.2222222222222222,
              "#7201a8"
             ],
             [
              0.3333333333333333,
              "#9c179e"
             ],
             [
              0.4444444444444444,
              "#bd3786"
             ],
             [
              0.5555555555555556,
              "#d8576b"
             ],
             [
              0.6666666666666666,
              "#ed7953"
             ],
             [
              0.7777777777777778,
              "#fb9f3a"
             ],
             [
              0.8888888888888888,
              "#fdca26"
             ],
             [
              1,
              "#f0f921"
             ]
            ],
            "type": "heatmap"
           }
          ],
          "histogram": [
           {
            "marker": {
             "pattern": {
              "fillmode": "overlay",
              "size": 10,
              "solidity": 0.2
             }
            },
            "type": "histogram"
           }
          ],
          "histogram2d": [
           {
            "colorbar": {
             "outlinewidth": 0,
             "ticks": ""
            },
            "colorscale": [
             [
              0,
              "#0d0887"
             ],
             [
              0.1111111111111111,
              "#46039f"
             ],
             [
              0.2222222222222222,
              "#7201a8"
             ],
             [
              0.3333333333333333,
              "#9c179e"
             ],
             [
              0.4444444444444444,
              "#bd3786"
             ],
             [
              0.5555555555555556,
              "#d8576b"
             ],
             [
              0.6666666666666666,
              "#ed7953"
             ],
             [
              0.7777777777777778,
              "#fb9f3a"
             ],
             [
              0.8888888888888888,
              "#fdca26"
             ],
             [
              1,
              "#f0f921"
             ]
            ],
            "type": "histogram2d"
           }
          ],
          "histogram2dcontour": [
           {
            "colorbar": {
             "outlinewidth": 0,
             "ticks": ""
            },
            "colorscale": [
             [
              0,
              "#0d0887"
             ],
             [
              0.1111111111111111,
              "#46039f"
             ],
             [
              0.2222222222222222,
              "#7201a8"
             ],
             [
              0.3333333333333333,
              "#9c179e"
             ],
             [
              0.4444444444444444,
              "#bd3786"
             ],
             [
              0.5555555555555556,
              "#d8576b"
             ],
             [
              0.6666666666666666,
              "#ed7953"
             ],
             [
              0.7777777777777778,
              "#fb9f3a"
             ],
             [
              0.8888888888888888,
              "#fdca26"
             ],
             [
              1,
              "#f0f921"
             ]
            ],
            "type": "histogram2dcontour"
           }
          ],
          "mesh3d": [
           {
            "colorbar": {
             "outlinewidth": 0,
             "ticks": ""
            },
            "type": "mesh3d"
           }
          ],
          "parcoords": [
           {
            "line": {
             "colorbar": {
              "outlinewidth": 0,
              "ticks": ""
             }
            },
            "type": "parcoords"
           }
          ],
          "pie": [
           {
            "automargin": true,
            "type": "pie"
           }
          ],
          "scatter": [
           {
            "fillpattern": {
             "fillmode": "overlay",
             "size": 10,
             "solidity": 0.2
            },
            "type": "scatter"
           }
          ],
          "scatter3d": [
           {
            "line": {
             "colorbar": {
              "outlinewidth": 0,
              "ticks": ""
             }
            },
            "marker": {
             "colorbar": {
              "outlinewidth": 0,
              "ticks": ""
             }
            },
            "type": "scatter3d"
           }
          ],
          "scattercarpet": [
           {
            "marker": {
             "colorbar": {
              "outlinewidth": 0,
              "ticks": ""
             }
            },
            "type": "scattercarpet"
           }
          ],
          "scattergeo": [
           {
            "marker": {
             "colorbar": {
              "outlinewidth": 0,
              "ticks": ""
             }
            },
            "type": "scattergeo"
           }
          ],
          "scattergl": [
           {
            "marker": {
             "colorbar": {
              "outlinewidth": 0,
              "ticks": ""
             }
            },
            "type": "scattergl"
           }
          ],
          "scattermap": [
           {
            "marker": {
             "colorbar": {
              "outlinewidth": 0,
              "ticks": ""
             }
            },
            "type": "scattermap"
           }
          ],
          "scattermapbox": [
           {
            "marker": {
             "colorbar": {
              "outlinewidth": 0,
              "ticks": ""
             }
            },
            "type": "scattermapbox"
           }
          ],
          "scatterpolar": [
           {
            "marker": {
             "colorbar": {
              "outlinewidth": 0,
              "ticks": ""
             }
            },
            "type": "scatterpolar"
           }
          ],
          "scatterpolargl": [
           {
            "marker": {
             "colorbar": {
              "outlinewidth": 0,
              "ticks": ""
             }
            },
            "type": "scatterpolargl"
           }
          ],
          "scatterternary": [
           {
            "marker": {
             "colorbar": {
              "outlinewidth": 0,
              "ticks": ""
             }
            },
            "type": "scatterternary"
           }
          ],
          "surface": [
           {
            "colorbar": {
             "outlinewidth": 0,
             "ticks": ""
            },
            "colorscale": [
             [
              0,
              "#0d0887"
             ],
             [
              0.1111111111111111,
              "#46039f"
             ],
             [
              0.2222222222222222,
              "#7201a8"
             ],
             [
              0.3333333333333333,
              "#9c179e"
             ],
             [
              0.4444444444444444,
              "#bd3786"
             ],
             [
              0.5555555555555556,
              "#d8576b"
             ],
             [
              0.6666666666666666,
              "#ed7953"
             ],
             [
              0.7777777777777778,
              "#fb9f3a"
             ],
             [
              0.8888888888888888,
              "#fdca26"
             ],
             [
              1,
              "#f0f921"
             ]
            ],
            "type": "surface"
           }
          ],
          "table": [
           {
            "cells": {
             "fill": {
              "color": "#EBF0F8"
             },
             "line": {
              "color": "white"
             }
            },
            "header": {
             "fill": {
              "color": "#C8D4E3"
             },
             "line": {
              "color": "white"
             }
            },
            "type": "table"
           }
          ]
         },
         "layout": {
          "annotationdefaults": {
           "arrowcolor": "#2a3f5f",
           "arrowhead": 0,
           "arrowwidth": 1
          },
          "autotypenumbers": "strict",
          "coloraxis": {
           "colorbar": {
            "outlinewidth": 0,
            "ticks": ""
           }
          },
          "colorscale": {
           "diverging": [
            [
             0,
             "#8e0152"
            ],
            [
             0.1,
             "#c51b7d"
            ],
            [
             0.2,
             "#de77ae"
            ],
            [
             0.3,
             "#f1b6da"
            ],
            [
             0.4,
             "#fde0ef"
            ],
            [
             0.5,
             "#f7f7f7"
            ],
            [
             0.6,
             "#e6f5d0"
            ],
            [
             0.7,
             "#b8e186"
            ],
            [
             0.8,
             "#7fbc41"
            ],
            [
             0.9,
             "#4d9221"
            ],
            [
             1,
             "#276419"
            ]
           ],
           "sequential": [
            [
             0,
             "#0d0887"
            ],
            [
             0.1111111111111111,
             "#46039f"
            ],
            [
             0.2222222222222222,
             "#7201a8"
            ],
            [
             0.3333333333333333,
             "#9c179e"
            ],
            [
             0.4444444444444444,
             "#bd3786"
            ],
            [
             0.5555555555555556,
             "#d8576b"
            ],
            [
             0.6666666666666666,
             "#ed7953"
            ],
            [
             0.7777777777777778,
             "#fb9f3a"
            ],
            [
             0.8888888888888888,
             "#fdca26"
            ],
            [
             1,
             "#f0f921"
            ]
           ],
           "sequentialminus": [
            [
             0,
             "#0d0887"
            ],
            [
             0.1111111111111111,
             "#46039f"
            ],
            [
             0.2222222222222222,
             "#7201a8"
            ],
            [
             0.3333333333333333,
             "#9c179e"
            ],
            [
             0.4444444444444444,
             "#bd3786"
            ],
            [
             0.5555555555555556,
             "#d8576b"
            ],
            [
             0.6666666666666666,
             "#ed7953"
            ],
            [
             0.7777777777777778,
             "#fb9f3a"
            ],
            [
             0.8888888888888888,
             "#fdca26"
            ],
            [
             1,
             "#f0f921"
            ]
           ]
          },
          "colorway": [
           "#636efa",
           "#EF553B",
           "#00cc96",
           "#ab63fa",
           "#FFA15A",
           "#19d3f3",
           "#FF6692",
           "#B6E880",
           "#FF97FF",
           "#FECB52"
          ],
          "font": {
           "color": "#2a3f5f"
          },
          "geo": {
           "bgcolor": "white",
           "lakecolor": "white",
           "landcolor": "white",
           "showlakes": true,
           "showland": true,
           "subunitcolor": "#C8D4E3"
          },
          "hoverlabel": {
           "align": "left"
          },
          "hovermode": "closest",
          "mapbox": {
           "style": "light"
          },
          "paper_bgcolor": "white",
          "plot_bgcolor": "white",
          "polar": {
           "angularaxis": {
            "gridcolor": "#EBF0F8",
            "linecolor": "#EBF0F8",
            "ticks": ""
           },
           "bgcolor": "white",
           "radialaxis": {
            "gridcolor": "#EBF0F8",
            "linecolor": "#EBF0F8",
            "ticks": ""
           }
          },
          "scene": {
           "xaxis": {
            "backgroundcolor": "white",
            "gridcolor": "#DFE8F3",
            "gridwidth": 2,
            "linecolor": "#EBF0F8",
            "showbackground": true,
            "ticks": "",
            "zerolinecolor": "#EBF0F8"
           },
           "yaxis": {
            "backgroundcolor": "white",
            "gridcolor": "#DFE8F3",
            "gridwidth": 2,
            "linecolor": "#EBF0F8",
            "showbackground": true,
            "ticks": "",
            "zerolinecolor": "#EBF0F8"
           },
           "zaxis": {
            "backgroundcolor": "white",
            "gridcolor": "#DFE8F3",
            "gridwidth": 2,
            "linecolor": "#EBF0F8",
            "showbackground": true,
            "ticks": "",
            "zerolinecolor": "#EBF0F8"
           }
          },
          "shapedefaults": {
           "line": {
            "color": "#2a3f5f"
           }
          },
          "ternary": {
           "aaxis": {
            "gridcolor": "#DFE8F3",
            "linecolor": "#A2B1C6",
            "ticks": ""
           },
           "baxis": {
            "gridcolor": "#DFE8F3",
            "linecolor": "#A2B1C6",
            "ticks": ""
           },
           "bgcolor": "white",
           "caxis": {
            "gridcolor": "#DFE8F3",
            "linecolor": "#A2B1C6",
            "ticks": ""
           }
          },
          "title": {
           "x": 0.05
          },
          "xaxis": {
           "automargin": true,
           "gridcolor": "#EBF0F8",
           "linecolor": "#EBF0F8",
           "ticks": "",
           "title": {
            "standoff": 15
           },
           "zerolinecolor": "#EBF0F8",
           "zerolinewidth": 2
          },
          "yaxis": {
           "automargin": true,
           "gridcolor": "#EBF0F8",
           "linecolor": "#EBF0F8",
           "ticks": "",
           "title": {
            "standoff": 15
           },
           "zerolinecolor": "#EBF0F8",
           "zerolinewidth": 2
          }
         }
        },
        "title": {
         "text": ".718 MHz 1Vpp 5 minutes averaging "
        },
        "xaxis": {
         "title": {
          "text": "X Axis"
         }
        },
        "yaxis": {
         "title": {
          "text": "Y Axis"
         }
        }
       }
      }
     },
     "metadata": {},
     "output_type": "display_data"
    }
   ],
   "source": [
    "\n",
    "# Replace 'x_column' and 'y_column' with actual column names\n",
    "fig = go.Figure()\n",
    "\n",
    "fig.add_trace(go.Scatter(\n",
    "    x=tau,\n",
    "    y=signal_Bz-background_Bz,\n",
    "    mode='lines+markers',\n",
    "    name='Bz with 0.718 MHz 1 Vpp'\n",
    "))\n",
    "\n",
    "fig.add_trace(go.Scatter(\n",
    "    x=tau,\n",
    "    y=signal_noBz-background_noBz,\n",
    "    mode='lines+markers',\n",
    "    name='No Bz'\n",
    "))\n",
    "\n",
    "fig.update_layout(\n",
    "    title='.718 MHz 1Vpp 5 minutes averaging ',\n",
    "    xaxis_title='X Axis',\n",
    "    yaxis_title='Y Axis',\n",
    "    template='plotly_white'\n",
    ")\n",
    "\n",
    "fig.show()\n"
   ]
  },
  {
   "cell_type": "code",
   "execution_count": 9,
   "id": "78728b27",
   "metadata": {},
   "outputs": [
    {
     "data": {
      "application/vnd.plotly.v1+json": {
       "config": {
        "plotlyServerURL": "https://plot.ly"
       },
       "data": [
        {
         "mode": "lines+markers",
         "name": "Bz with 0.718 MHz 1 Vpp",
         "type": "scatter",
         "x": {
          "bdata": "AAAAAADAUkAAAAAAAABUQAAAAAAAQFVAAAAAAACAVkAAAAAAAMBXQAAAAAAAAFlAAAAAAABAWkAAAAAAAIBbQAAAAAAAwFxAAAAAAAAAXkAAAAAAAEBfQAAAAAAAQGBAAAAAAADgYEAAAAAAAIBhQAAAAAAAIGJAAAAAAADAYkAAAAAAAGBjQAAAAAAAAGRAAAAAAACgZEAAAAAAAEBlQAAAAAAA4GVAAAAAAACAZkAAAAAAACBnQAAAAAAAwGdAAAAAAABgaEAAAAAAAABpQAAAAAAAoGlAAAAAAABAakAAAAAAAOBqQAAAAAAAgGtAAAAAAAAgbEAAAAAAAMBsQAAAAAAAYG1AAAAAAAAAbkAAAAAAAKBuQAAAAAAAQG9AAAAAAADgb0AAAAAAAEBwQAAAAAAAkHBAAAAAAADgcEAAAAAAADBxQAAAAAAAgHFAAAAAAADQcUAAAAAAACByQAAAAAAAcHJAAAAAAADAckAAAAAAABBzQAAAAAAAYHNAAAAAAACwc0AAAAAAAAB0QAAAAAAAUHRAAAAAAACgdEAAAAAAAPB0QAAAAAAAQHVAAAAAAACQdUAAAAAAAOB1QAAAAAAAMHZAAAAAAACAdkAAAAAAANB2QAAAAAAAIHdAAAAAAABwd0AAAAAAAMB3QAAAAAAAEHhAAAAAAABgeEAAAAAAALB4QAAAAAAAAHlAAAAAAABQeUAAAAAAAKB5QAAAAAAA8HlAAAAAAABAekAAAAAAAJB6QAAAAAAA4HpAAAAAAAAwe0AAAAAAAIB7QAAAAAAA0HtAAAAAAAAgfEAAAAAAAHB8QAAAAAAAwHxAAAAAAAAQfUAAAAAAAGB9QAAAAAAAsH1AAAAAAAAAfkAAAAAAAFB+QAAAAAAAoH5AAAAAAADwfkAAAAAAAEB/QAAAAAAAkH9AAAAAAADgf0AAAAAAABiAQAAAAAAAQIBAAAAAAABogEAAAAAAAJCAQAAAAAAAuIBAAAAAAADggEAAAAAAAAiBQAAAAAAAMIFAAAAAAABYgUAAAAAAAICBQAAAAAAAqIFAAAAAAADQgUAAAAAAAPiBQAAAAAAAIIJAAAAAAABIgkAAAAAAAHCCQAAAAAAAmIJAAAAAAADAgkAAAAAAAOiCQAAAAAAAEINAAAAAAAA4g0AAAAAAAGCDQAAAAAAAiINAAAAAAACwg0AAAAAAANiDQAAAAAAAAIRAAAAAAAAohEAAAAAAAFCEQAAAAAAAeIRAAAAAAACghEAAAAAAAMiEQAAAAAAA8IRAAAAAAAAYhUAAAAAAAECFQAAAAAAAaIVAAAAAAACQhUAAAAAAALiFQAAAAAAA4IVAAAAAAAAIhkAAAAAAADCGQAAAAAAAWIZAAAAAAACAhkAAAAAAAKiGQAAAAAAA0IZAAAAAAAD4hkAAAAAAACCHQAAAAAAASIdAAAAAAABwh0AAAAAAAJiHQAAAAAAAwIdAAAAAAADoh0AAAAAAABCIQAAAAAAAOIhAAAAAAABgiEAAAAAAAIiIQAAAAAAAsIhAAAAAAADYiEAAAAAAAACJQAAAAAAAKIlAAAAAAABQiUAAAAAAAHiJQAAAAAAAoIlAAAAAAADIiUAAAAAAAPCJQAAAAAAAGIpAAAAAAABAikAAAAAAAGiKQAAAAAAAkIpAAAAAAAC4ikAAAAAAAOCKQAAAAAAACItAAAAAAAAwi0AAAAAAAFiLQAAAAAAAgItAAAAAAACoi0AAAAAAANCLQAAAAAAA+ItAAAAAAAAgjEAAAAAAAEiMQAAAAAAAcIxAAAAAAACYjEAAAAAAAMCMQAAAAAAA6IxAAAAAAAAQjUAAAAAAADiNQAAAAAAAYI1AAAAAAACIjUAAAAAAALCNQAAAAAAA2I1AAAAAAAAAjkAAAAAAACiOQAAAAAAAUI5AAAAAAAB4jkAAAAAAAKCOQAAAAAAAyI5AAAAAAADwjkAAAAAAABiPQAAAAAAAQI9AAAAAAABoj0AAAAAAAJCPQAAAAAAAuI9AAAAAAADgj0AAAAAAAASQQAAAAAAAGJBAAAAAAAAskEAAAAAAAECQQAAAAAAAVJBAAAAAAABokEAAAAAAAHyQQAAAAAAAkJBAAAAAAACkkEAAAAAAALiQQAAAAAAAzJBAAAAAAADgkEAAAAAAAPSQQAAAAAAACJFAAAAAAAAckUAAAAAAADCRQAAAAAAARJFAAAAAAABYkUAAAAAAAGyRQAAAAAAAgJFAAAAAAACUkUAAAAAAAKiRQAAAAAAAvJFAAAAAAADQkUAAAAAAAOSRQAAAAAAA+JFAAAAAAAAMkkAAAAAAACCSQAAAAAAANJJAAAAAAABIkkAAAAAAAFySQAAAAAAAcJJAAAAAAACEkkAAAAAAAJiSQAAAAAAArJJAAAAAAADAkkAAAAAAANSSQAAAAAAA6JJAAAAAAAD8kkAAAAAAABCTQAAAAAAAJJNAAAAAAAA4k0AAAAAAAEyTQAAAAAAAYJNAAAAAAAB0k0AAAAAAAIiTQAAAAAAAnJNAAAAAAACwk0AAAAAAAMSTQAAAAAAA2JNAAAAAAADsk0AAAAAAAACUQAAAAAAAFJRAAAAAAAAolEAAAAAAADyUQAAAAAAAUJRAAAAAAABklEAAAAAAAHiUQAAAAAAAjJRAAAAAAACglEAAAAAAALSUQAAAAAAAyJRAAAAAAADclEAAAAAAAPCUQAAAAAAABJVAAAAAAAAYlUAAAAAAACyVQAAAAAAAQJVAAAAAAABUlUAAAAAAAGiVQAAAAAAAfJVAAAAAAACQlUAAAAAAAKSVQAAAAAAAuJVAAAAAAADMlUAAAAAAAOCVQAAAAAAA9JVAAAAAAAAIlkAAAAAAAByWQAAAAAAAMJZAAAAAAABElkAAAAAAAFiWQAAAAAAAbJZAAAAAAACAlkAAAAAAAJSWQAAAAAAAqJZAAAAAAAC8lkAAAAAAANCWQAAAAAAA5JZAAAAAAAD4lkAAAAAAAAyXQAAAAAAAIJdAAAAAAAA0l0AAAAAAAEiXQAAAAAAAXJdAAAAAAABwl0AAAAAAAISXQAAAAAAAmJdAAAAAAACsl0AAAAAAAMCXQAAAAAAA1JdAAAAAAADol0AAAAAAAPyXQAAAAAAAEJhAAAAAAAAkmEAAAAAAADiYQAAAAAAATJhAAAAAAABgmEAAAAAAAHSYQAAAAAAAiJhAAAAAAACcmEAAAAAAALCYQAAAAAAAxJhAAAAAAADYmEAAAAAAAOyYQAAAAAAAAJlAAAAAAAAUmUAAAAAAACiZQAAAAAAAPJlAAAAAAABQmUAAAAAAAGSZQAAAAAAAeJlAAAAAAACMmUAAAAAAAKCZQAAAAAAAtJlAAAAAAADImUAAAAAAANyZQAAAAAAA8JlAAAAAAAAEmkAAAAAAABiaQAAAAAAALJpAAAAAAABAmkAAAAAAAFSaQAAAAAAAaJpAAAAAAAB8mkAAAAAAAJCaQAAAAAAApJpAAAAAAAC4mkAAAAAAAMyaQAAAAAAA4JpAAAAAAAD0mkAAAAAAAAibQAAAAAAAHJtAAAAAAAAwm0AAAAAAAESbQAAAAAAAWJtAAAAAAABsm0AAAAAAAICbQAAAAAAAlJtAAAAAAACom0AAAAAAALybQAAAAAAA0JtAAAAAAADkm0AAAAAAAPibQAAAAAAADJxAAAAAAAAgnEAAAAAAADScQAAAAAAASJxAAAAAAABcnEAAAAAAAHCcQAAAAAAAhJxAAAAAAACYnEAAAAAAAKycQAAAAAAAwJxAAAAAAADUnEAAAAAAAOicQAAAAAAA/JxAAAAAAAAQnUAAAAAAACSdQAAAAAAAOJ1AAAAAAABMnUAAAAAAAGCdQAAAAAAAdJ1AAAAAAACInUAAAAAAAJydQAAAAAAAsJ1AAAAAAADEnUAAAAAAANidQAAAAAAA7J1AAAAAAAAAnkAAAAAAABSeQAAAAAAAKJ5AAAAAAAA8nkAAAAAAAFCeQAAAAAAAZJ5AAAAAAAB4nkAAAAAAAIyeQAAAAAAAoJ5AAAAAAAC0nkAAAAAAAMieQAAAAAAA3J5AAAAAAADwnkAAAAAAAASfQAAAAAAAGJ9AAAAAAAAsn0AAAAAAAECfQAAAAAAAVJ9AAAAAAABon0AAAAAAAHyfQAAAAAAAkJ9AAAAAAACkn0AAAAAAALifQAAAAAAAzJ9AAAAAAADgn0AAAAAAAPSfQAAAAAAABKBAAAAAAAAOoEAAAAAAABigQAAAAAAAIqBAAAAAAAAsoEAAAAAAADagQAAAAAAAQKBAAAAAAABKoEAAAAAAAFSgQAAAAAAAXqBAAAAAAABooEAAAAAAAHKgQAAAAAAAfKBAAAAAAACGoEAAAAAAAJCgQAAAAAAAmqBAAAAAAACkoEAAAAAAAK6gQAAAAAAAuKBAAAAAAADCoEAAAAAAAMygQAAAAAAA1qBAAAAAAADgoEAAAAAAAOqgQAAAAAAA9KBAAAAAAAD+oEAAAAAAAAihQAAAAAAAEqFAAAAAAAAcoUAAAAAAACahQAAAAAAAMKFAAAAAAAA6oUAAAAAAAEShQAAAAAAATqFAAAAAAABYoUAAAAAAAGKhQAAAAAAAbKFAAAAAAAB2oUAAAAAAAIChQAAAAAAAiqFAAAAAAACUoUAAAAAAAJ6hQAAAAAAAqKFAAAAAAACyoUAAAAAAALyhQAAAAAAAxqFAAAAAAADQoUAAAAAAANqhQAAAAAAA5KFAAAAAAADuoUAAAAAAAPihQAAAAAAAAqJAAAAAAAAMokAAAAAAABaiQAAAAAAAIKJAAAAAAAAqokAAAAAAADSiQAAAAAAAPqJAAAAAAABIokAAAAAAAFKiQAAAAAAAXKJAAAAAAABmokAAAAAAAHCiQAAAAAAAeqJAAAAAAACEokAAAAAAAI6iQAAAAAAAmKJAAAAAAACiokAAAAAAAKyiQAAAAAAAtqJAAAAAAADAokAAAAAAAMqiQAAAAAAA1KJAAAAAAADeokAAAAAAAOiiQAAAAAAA8qJAAAAAAAD8okAAAAAAAAajQAAAAAAAEKNAAAAAAAAao0AAAAAAACSjQAAAAAAALqNAAAAAAAA4o0AAAAAAAEKjQAAAAAAATKNAAAAAAABWo0AAAAAAAGCjQAAAAAAAaqNAAAAAAAB0o0AAAAAAAH6jQAAAAAAAiKNAAAAAAACSo0AAAAAAAJyjQAAAAAAApqNAAAAAAACwo0AAAAAAALqjQAAAAAAAxKNAAAAAAADOo0AAAAAAANijQAAAAAAA4qNAAAAAAADso0AAAAAAAPajQAAAAAAAAKRAAAAAAAAKpEAAAAAAABSkQAAAAAAAHqRAAAAAAAAopEAAAAAAADKkQAAAAAAAPKRAAAAAAABGpEAAAAAAAFCkQAAAAAAAWqRAAAAAAABkpEAAAAAAAG6kQAAAAAAAeKRAAAAAAACCpEAAAAAAAIykQAAAAAAAlqRAAAAAAACgpEAAAAAAAKqkQAAAAAAAtKRAAAAAAAC+pEAAAAAAAMikQAAAAAAA0qRAAAAAAADcpEAAAAAAAOakQAAAAAAA8KRAAAAAAAD6pEAAAAAAAASlQAAAAAAADqVAAAAAAAAYpUAAAAAAACKlQAAAAAAALKVAAAAAAAA2pUAAAAAAAEClQAAAAAAASqVAAAAAAABUpUAAAAAAAF6lQAAAAAAAaKVAAAAAAABypUAAAAAAAHylQAAAAAAAhqVAAAAAAACQpUAAAAAAAJqlQAAAAAAApKVAAAAAAACupUAAAAAAALilQAAAAAAAwqVAAAAAAADMpUAAAAAAANalQAAAAAAA4KVAAAAAAADqpUAAAAAAAPSlQAAAAAAA/qVAAAAAAAAIpkAAAAAAABKmQAAAAAAAHKZAAAAAAAAmpkAAAAAAADCmQAAAAAAAOqZAAAAAAABEpkAAAAAAAE6mQAAAAAAAWKZAAAAAAABipkAAAAAAAGymQAAAAAAAdqZAAAAAAACApkAAAAAAAIqmQAAAAAAAlKZAAAAAAACepkAAAAAAAKimQAAAAAAAsqZAAAAAAAC8pkAAAAAAAMamQAAAAAAA0KZAAAAAAADapkAAAAAAAOSmQAAAAAAA7qZAAAAAAAD4pkAAAAAAAAKnQAAAAAAADKdAAAAAAAAWp0AAAAAAACCnQAAAAAAAKqdAAAAAAAA0p0AAAAAAAD6nQAAAAAAASKdAAAAAAABSp0AAAAAAAFynQAAAAAAAZqdAAAAAAABwp0AAAAAAAHqnQAAAAAAAhKdAAAAAAACOp0AAAAAAAJinQAAAAAAAoqdAAAAAAACsp0AAAAAAALanQAAAAAAAwKdAAAAAAADKp0AAAAAAANSnQAAAAAAA3qdAAAAAAADop0AAAAAAAPKnQAAAAAAA/KdAAAAAAAAGqEAAAAAAABCoQAAAAAAAGqhAAAAAAAAkqEAAAAAAAC6oQAAAAAAAOKhAAAAAAABCqEAAAAAAAEyoQAAAAAAAVqhAAAAAAABgqEAAAAAAAGqoQAAAAAAAdKhAAAAAAAB+qEAAAAAAAIioQAAAAAAAkqhAAAAAAACcqEAAAAAAAKaoQAAAAAAAsKhAAAAAAAC6qEAAAAAAAMSoQAAAAAAAzqhAAAAAAADYqEAAAAAAAOKoQAAAAAAA7KhAAAAAAAD2qEAAAAAAAACpQAAAAAAACqlAAAAAAAAUqUAAAAAAAB6pQAAAAAAAKKlAAAAAAAAyqUAAAAAAADypQAAAAAAARqlAAAAAAABQqUAAAAAAAFqpQAAAAAAAZKlAAAAAAABuqUAAAAAAAHipQAAAAAAAgqlAAAAAAACMqUAAAAAAAJapQAAAAAAAoKlAAAAAAACqqUAAAAAAALSpQAAAAAAAvqlAAAAAAADIqUAAAAAAANKpQAAAAAAA3KlAAAAAAADmqUAAAAAAAPCpQAAAAAAA+qlAAAAAAAAEqkAAAAAAAA6qQAAAAAAAGKpAAAAAAAAiqkAAAAAAACyqQAAAAAAANqpAAAAAAABAqkAAAAAAAEqqQAAAAAAAVKpAAAAAAABeqkAAAAAAAGiqQAAAAAAAcqpAAAAAAAB8qkAAAAAAAIaqQAAAAAAAkKpAAAAAAACaqkAAAAAAAKSqQAAAAAAArqpAAAAAAAC4qkAAAAAAAMKqQAAAAAAAzKpAAAAAAADWqkAAAAAAAOCqQAAAAAAA6qpAAAAAAAD0qkAAAAAAAP6qQAAAAAAACKtAAAAAAAASq0AAAAAAAByrQAAAAAAAJqtAAAAAAAAwq0AAAAAAADqrQAAAAAAARKtAAAAAAABOq0AAAAAAAFirQAAAAAAAYqtAAAAAAABsq0AAAAAAAHarQAAAAAAAgKtAAAAAAACKq0AAAAAAAJSrQAAAAAAAnqtAAAAAAACoq0AAAAAAALKrQAAAAAAAvKtAAAAAAADGq0AAAAAAANCrQAAAAAAA2qtAAAAAAADkq0AAAAAAAO6rQA==",
          "dtype": "f8"
         },
         "y": {
          "bdata": "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",
          "dtype": "f8"
         }
        }
       ],
       "layout": {
        "template": {
         "data": {
          "bar": [
           {
            "error_x": {
             "color": "#2a3f5f"
            },
            "error_y": {
             "color": "#2a3f5f"
            },
            "marker": {
             "line": {
              "color": "white",
              "width": 0.5
             },
             "pattern": {
              "fillmode": "overlay",
              "size": 10,
              "solidity": 0.2
             }
            },
            "type": "bar"
           }
          ],
          "barpolar": [
           {
            "marker": {
             "line": {
              "color": "white",
              "width": 0.5
             },
             "pattern": {
              "fillmode": "overlay",
              "size": 10,
              "solidity": 0.2
             }
            },
            "type": "barpolar"
           }
          ],
          "carpet": [
           {
            "aaxis": {
             "endlinecolor": "#2a3f5f",
             "gridcolor": "#C8D4E3",
             "linecolor": "#C8D4E3",
             "minorgridcolor": "#C8D4E3",
             "startlinecolor": "#2a3f5f"
            },
            "baxis": {
             "endlinecolor": "#2a3f5f",
             "gridcolor": "#C8D4E3",
             "linecolor": "#C8D4E3",
             "minorgridcolor": "#C8D4E3",
             "startlinecolor": "#2a3f5f"
            },
            "type": "carpet"
           }
          ],
          "choropleth": [
           {
            "colorbar": {
             "outlinewidth": 0,
             "ticks": ""
            },
            "type": "choropleth"
           }
          ],
          "contour": [
           {
            "colorbar": {
             "outlinewidth": 0,
             "ticks": ""
            },
            "colorscale": [
             [
              0,
              "#0d0887"
             ],
             [
              0.1111111111111111,
              "#46039f"
             ],
             [
              0.2222222222222222,
              "#7201a8"
             ],
             [
              0.3333333333333333,
              "#9c179e"
             ],
             [
              0.4444444444444444,
              "#bd3786"
             ],
             [
              0.5555555555555556,
              "#d8576b"
             ],
             [
              0.6666666666666666,
              "#ed7953"
             ],
             [
              0.7777777777777778,
              "#fb9f3a"
             ],
             [
              0.8888888888888888,
              "#fdca26"
             ],
             [
              1,
              "#f0f921"
             ]
            ],
            "type": "contour"
           }
          ],
          "contourcarpet": [
           {
            "colorbar": {
             "outlinewidth": 0,
             "ticks": ""
            },
            "type": "contourcarpet"
           }
          ],
          "heatmap": [
           {
            "colorbar": {
             "outlinewidth": 0,
             "ticks": ""
            },
            "colorscale": [
             [
              0,
              "#0d0887"
             ],
             [
              0.1111111111111111,
              "#46039f"
             ],
             [
              0.2222222222222222,
              "#7201a8"
             ],
             [
              0.3333333333333333,
              "#9c179e"
             ],
             [
              0.4444444444444444,
              "#bd3786"
             ],
             [
              0.5555555555555556,
              "#d8576b"
             ],
             [
              0.6666666666666666,
              "#ed7953"
             ],
             [
              0.7777777777777778,
              "#fb9f3a"
             ],
             [
              0.8888888888888888,
              "#fdca26"
             ],
             [
              1,
              "#f0f921"
             ]
            ],
            "type": "heatmap"
           }
          ],
          "histogram": [
           {
            "marker": {
             "pattern": {
              "fillmode": "overlay",
              "size": 10,
              "solidity": 0.2
             }
            },
            "type": "histogram"
           }
          ],
          "histogram2d": [
           {
            "colorbar": {
             "outlinewidth": 0,
             "ticks": ""
            },
            "colorscale": [
             [
              0,
              "#0d0887"
             ],
             [
              0.1111111111111111,
              "#46039f"
             ],
             [
              0.2222222222222222,
              "#7201a8"
             ],
             [
              0.3333333333333333,
              "#9c179e"
             ],
             [
              0.4444444444444444,
              "#bd3786"
             ],
             [
              0.5555555555555556,
              "#d8576b"
             ],
             [
              0.6666666666666666,
              "#ed7953"
             ],
             [
              0.7777777777777778,
              "#fb9f3a"
             ],
             [
              0.8888888888888888,
              "#fdca26"
             ],
             [
              1,
              "#f0f921"
             ]
            ],
            "type": "histogram2d"
           }
          ],
          "histogram2dcontour": [
           {
            "colorbar": {
             "outlinewidth": 0,
             "ticks": ""
            },
            "colorscale": [
             [
              0,
              "#0d0887"
             ],
             [
              0.1111111111111111,
              "#46039f"
             ],
             [
              0.2222222222222222,
              "#7201a8"
             ],
             [
              0.3333333333333333,
              "#9c179e"
             ],
             [
              0.4444444444444444,
              "#bd3786"
             ],
             [
              0.5555555555555556,
              "#d8576b"
             ],
             [
              0.6666666666666666,
              "#ed7953"
             ],
             [
              0.7777777777777778,
              "#fb9f3a"
             ],
             [
              0.8888888888888888,
              "#fdca26"
             ],
             [
              1,
              "#f0f921"
             ]
            ],
            "type": "histogram2dcontour"
           }
          ],
          "mesh3d": [
           {
            "colorbar": {
             "outlinewidth": 0,
             "ticks": ""
            },
            "type": "mesh3d"
           }
          ],
          "parcoords": [
           {
            "line": {
             "colorbar": {
              "outlinewidth": 0,
              "ticks": ""
             }
            },
            "type": "parcoords"
           }
          ],
          "pie": [
           {
            "automargin": true,
            "type": "pie"
           }
          ],
          "scatter": [
           {
            "fillpattern": {
             "fillmode": "overlay",
             "size": 10,
             "solidity": 0.2
            },
            "type": "scatter"
           }
          ],
          "scatter3d": [
           {
            "line": {
             "colorbar": {
              "outlinewidth": 0,
              "ticks": ""
             }
            },
            "marker": {
             "colorbar": {
              "outlinewidth": 0,
              "ticks": ""
             }
            },
            "type": "scatter3d"
           }
          ],
          "scattercarpet": [
           {
            "marker": {
             "colorbar": {
              "outlinewidth": 0,
              "ticks": ""
             }
            },
            "type": "scattercarpet"
           }
          ],
          "scattergeo": [
           {
            "marker": {
             "colorbar": {
              "outlinewidth": 0,
              "ticks": ""
             }
            },
            "type": "scattergeo"
           }
          ],
          "scattergl": [
           {
            "marker": {
             "colorbar": {
              "outlinewidth": 0,
              "ticks": ""
             }
            },
            "type": "scattergl"
           }
          ],
          "scattermap": [
           {
            "marker": {
             "colorbar": {
              "outlinewidth": 0,
              "ticks": ""
             }
            },
            "type": "scattermap"
           }
          ],
          "scattermapbox": [
           {
            "marker": {
             "colorbar": {
              "outlinewidth": 0,
              "ticks": ""
             }
            },
            "type": "scattermapbox"
           }
          ],
          "scatterpolar": [
           {
            "marker": {
             "colorbar": {
              "outlinewidth": 0,
              "ticks": ""
             }
            },
            "type": "scatterpolar"
           }
          ],
          "scatterpolargl": [
           {
            "marker": {
             "colorbar": {
              "outlinewidth": 0,
              "ticks": ""
             }
            },
            "type": "scatterpolargl"
           }
          ],
          "scatterternary": [
           {
            "marker": {
             "colorbar": {
              "outlinewidth": 0,
              "ticks": ""
             }
            },
            "type": "scatterternary"
           }
          ],
          "surface": [
           {
            "colorbar": {
             "outlinewidth": 0,
             "ticks": ""
            },
            "colorscale": [
             [
              0,
              "#0d0887"
             ],
             [
              0.1111111111111111,
              "#46039f"
             ],
             [
              0.2222222222222222,
              "#7201a8"
             ],
             [
              0.3333333333333333,
              "#9c179e"
             ],
             [
              0.4444444444444444,
              "#bd3786"
             ],
             [
              0.5555555555555556,
              "#d8576b"
             ],
             [
              0.6666666666666666,
              "#ed7953"
             ],
             [
              0.7777777777777778,
              "#fb9f3a"
             ],
             [
              0.8888888888888888,
              "#fdca26"
             ],
             [
              1,
              "#f0f921"
             ]
            ],
            "type": "surface"
           }
          ],
          "table": [
           {
            "cells": {
             "fill": {
              "color": "#EBF0F8"
             },
             "line": {
              "color": "white"
             }
            },
            "header": {
             "fill": {
              "color": "#C8D4E3"
             },
             "line": {
              "color": "white"
             }
            },
            "type": "table"
           }
          ]
         },
         "layout": {
          "annotationdefaults": {
           "arrowcolor": "#2a3f5f",
           "arrowhead": 0,
           "arrowwidth": 1
          },
          "autotypenumbers": "strict",
          "coloraxis": {
           "colorbar": {
            "outlinewidth": 0,
            "ticks": ""
           }
          },
          "colorscale": {
           "diverging": [
            [
             0,
             "#8e0152"
            ],
            [
             0.1,
             "#c51b7d"
            ],
            [
             0.2,
             "#de77ae"
            ],
            [
             0.3,
             "#f1b6da"
            ],
            [
             0.4,
             "#fde0ef"
            ],
            [
             0.5,
             "#f7f7f7"
            ],
            [
             0.6,
             "#e6f5d0"
            ],
            [
             0.7,
             "#b8e186"
            ],
            [
             0.8,
             "#7fbc41"
            ],
            [
             0.9,
             "#4d9221"
            ],
            [
             1,
             "#276419"
            ]
           ],
           "sequential": [
            [
             0,
             "#0d0887"
            ],
            [
             0.1111111111111111,
             "#46039f"
            ],
            [
             0.2222222222222222,
             "#7201a8"
            ],
            [
             0.3333333333333333,
             "#9c179e"
            ],
            [
             0.4444444444444444,
             "#bd3786"
            ],
            [
             0.5555555555555556,
             "#d8576b"
            ],
            [
             0.6666666666666666,
             "#ed7953"
            ],
            [
             0.7777777777777778,
             "#fb9f3a"
            ],
            [
             0.8888888888888888,
             "#fdca26"
            ],
            [
             1,
             "#f0f921"
            ]
           ],
           "sequentialminus": [
            [
             0,
             "#0d0887"
            ],
            [
             0.1111111111111111,
             "#46039f"
            ],
            [
             0.2222222222222222,
             "#7201a8"
            ],
            [
             0.3333333333333333,
             "#9c179e"
            ],
            [
             0.4444444444444444,
             "#bd3786"
            ],
            [
             0.5555555555555556,
             "#d8576b"
            ],
            [
             0.6666666666666666,
             "#ed7953"
            ],
            [
             0.7777777777777778,
             "#fb9f3a"
            ],
            [
             0.8888888888888888,
             "#fdca26"
            ],
            [
             1,
             "#f0f921"
            ]
           ]
          },
          "colorway": [
           "#636efa",
           "#EF553B",
           "#00cc96",
           "#ab63fa",
           "#FFA15A",
           "#19d3f3",
           "#FF6692",
           "#B6E880",
           "#FF97FF",
           "#FECB52"
          ],
          "font": {
           "color": "#2a3f5f"
          },
          "geo": {
           "bgcolor": "white",
           "lakecolor": "white",
           "landcolor": "white",
           "showlakes": true,
           "showland": true,
           "subunitcolor": "#C8D4E3"
          },
          "hoverlabel": {
           "align": "left"
          },
          "hovermode": "closest",
          "mapbox": {
           "style": "light"
          },
          "paper_bgcolor": "white",
          "plot_bgcolor": "white",
          "polar": {
           "angularaxis": {
            "gridcolor": "#EBF0F8",
            "linecolor": "#EBF0F8",
            "ticks": ""
           },
           "bgcolor": "white",
           "radialaxis": {
            "gridcolor": "#EBF0F8",
            "linecolor": "#EBF0F8",
            "ticks": ""
           }
          },
          "scene": {
           "xaxis": {
            "backgroundcolor": "white",
            "gridcolor": "#DFE8F3",
            "gridwidth": 2,
            "linecolor": "#EBF0F8",
            "showbackground": true,
            "ticks": "",
            "zerolinecolor": "#EBF0F8"
           },
           "yaxis": {
            "backgroundcolor": "white",
            "gridcolor": "#DFE8F3",
            "gridwidth": 2,
            "linecolor": "#EBF0F8",
            "showbackground": true,
            "ticks": "",
            "zerolinecolor": "#EBF0F8"
           },
           "zaxis": {
            "backgroundcolor": "white",
            "gridcolor": "#DFE8F3",
            "gridwidth": 2,
            "linecolor": "#EBF0F8",
            "showbackground": true,
            "ticks": "",
            "zerolinecolor": "#EBF0F8"
           }
          },
          "shapedefaults": {
           "line": {
            "color": "#2a3f5f"
           }
          },
          "ternary": {
           "aaxis": {
            "gridcolor": "#DFE8F3",
            "linecolor": "#A2B1C6",
            "ticks": ""
           },
           "baxis": {
            "gridcolor": "#DFE8F3",
            "linecolor": "#A2B1C6",
            "ticks": ""
           },
           "bgcolor": "white",
           "caxis": {
            "gridcolor": "#DFE8F3",
            "linecolor": "#A2B1C6",
            "ticks": ""
           }
          },
          "title": {
           "x": 0.05
          },
          "xaxis": {
           "automargin": true,
           "gridcolor": "#EBF0F8",
           "linecolor": "#EBF0F8",
           "ticks": "",
           "title": {
            "standoff": 15
           },
           "zerolinecolor": "#EBF0F8",
           "zerolinewidth": 2
          },
          "yaxis": {
           "automargin": true,
           "gridcolor": "#EBF0F8",
           "linecolor": "#EBF0F8",
           "ticks": "",
           "title": {
            "standoff": 15
           },
           "zerolinecolor": "#EBF0F8",
           "zerolinewidth": 2
          }
         }
        },
        "title": {
         "text": "Averagig .718 MHz 1Vpp 5 minutes averaging "
        },
        "xaxis": {
         "title": {
          "text": "X Axis"
         }
        },
        "yaxis": {
         "title": {
          "text": "Y Axis"
         }
        }
       }
      }
     },
     "metadata": {},
     "output_type": "display_data"
    }
   ],
   "source": [
    "\n",
    "# Replace 'x_column' and 'y_column' with actual column names\n",
    "fig = go.Figure()\n",
    "\n",
    "fig.add_trace(go.Scatter(\n",
    "    x=tau,\n",
    "    y=(signal_noBz-background_noBz)-(signal_Bz-background_Bz),\n",
    "    mode='lines+markers',\n",
    "    name='Bz with 0.718 MHz 1 Vpp'\n",
    "))\n",
    "\n",
    "# fig.add_trace(go.Scatter(\n",
    "#     x=tau,\n",
    "#     y=-signal_noBz+background_noBz,\n",
    "#     mode='lines+markers',\n",
    "#     name='No Bz'\n",
    "# ))\n",
    "\n",
    "fig.update_layout(\n",
    "    title='Averagig .718 MHz 1Vpp 5 minutes averaging ',\n",
    "    xaxis_title='X Axis',\n",
    "    yaxis_title='Y Axis',\n",
    "    template='plotly_white'\n",
    ")\n",
    "\n",
    "fig.show()\n"
   ]
  },
  {
   "cell_type": "code",
   "execution_count": 10,
   "id": "ad044b48",
   "metadata": {},
   "outputs": [
    {
     "data": {
      "application/vnd.plotly.v1+json": {
       "config": {
        "plotlyServerURL": "https://plot.ly"
       },
       "data": [
        {
         "mode": "lines",
         "name": "FFT Magnitude",
         "type": "scatter",
         "x": {
          "bdata": "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",
          "dtype": "f8"
         },
         "y": {
          "bdata": "gsWNlrMoUT9N9j2j4BpYP4xd8vvJzyg/EJ5vGweeVD9zA8rqeQtQPxotvD80WU4/roJZQFO8RT8TXdVZshdSP+vn0EdviE0/njsNKpAHVz/KvCn7g95VP5Nsox62DWU/JecIL2liRD/WjoD9fmpYP5T2anbgXmA/QiRMhXWIWz9w8XotTJRWP7m/AfZvXlc/ED0VxVeIUj+h41WDzAUwP78lsUze1FI/49pJNhC6Tz+EK7V9RH5eP7rAvJEd6Ec/dywxlZGDYT+2ZAahlxRTP1S+lM1pmkg/cXcw7l/NVD+20nR1/v5QP9Sj+zR8D1I/PjRe/l93Sj/W9t85kmtDP9oL/JaRq0I/NvIsquM/SD8dMM9+R9JjP8fLCM3KjjM/z42n8xRJVT9wBQ+yys5UP7hXaWrKoD4/cFj1POgBOz9moO/Ixc5hP0mRpxOUGGI/wgteouASTz/RlF5MZchmP16Qz5FgEDk/y3ypIsVhVD/FoisZArc3P4a4Cz6YSVs/RgzBmrkpYz/m9NpiEYRBPwccgUF+KFo/gAVN5C4uRT8Q+GAxKL1UP8KLMD8RKkQ/BPTwQyi3Uj/qFs8jHpFWP7lbfO2JV0o/Y/zxoKxlZT/KAMKgdK9WP+V8d269ClI/LtMYJaTOVj86IWmawbZWP1nGyl2PkDw/syoyY0XVUj+w1phrNVteP6ZbFxA111I/rodyiSUQVz89CSX3wfRnP3nOk5IdymI/t9reYx00Wz8Un9Vpa5JRP4jEjy8eCEQ/wjvnQDYgaz8iYvxoeSlfP/P8gzj1wlQ/djraZCMvXD9ufGArjaNhP//3RkIozFQ/KFbWOKFiPz8PZUk4xydjP6Glu/eWPk8/R8Ko4LmFYj8DsAyCtW1iP5mcZs9km00/vE32NAS+Vz96++APNjJTP9KohXEJHhw/pddo5DcqaT8yV7xIPOdOP+SEvDiMLkA/hBGlnzMxUT/vdoHrvGRaPxqMtArjKkg/KRdOyNBBYD9dslmQ+UFMP2wE7BwOrF8/XYWHjnvTVT9X4E8aKgtXP+8NyEsbwVA/8uZANu7RVz+O5THovutOP/SBjt/DzF4/fSKWY+/dTz97n1DKdkBUP4zofoBMJlI/AGuvZlSqQz/nX4r4Bc1UPwA+Amhdm2M/wsVudH1/Mj9y8sEgbLVKP8IiRs3EXFw/S50MUMsLZj8dUI9TFzlLP5+h0XmT/VQ/OWQxM8mvRz8yny7BX6NaPzuROqpq6WI/05txOlXGTj9prts0qVpCP9MGsLpyr1A/R127VydAOD9Kqav6ko9jPw1K2QHGVUQ/PECtOwGiTD+HLLfMhpBTPwH/hf4JB1M/MGBA+Lh8RT+P9OFJb79RP1xcVPN1cFo/jdAy+IBwTj/iwGiYVKlHPxzIuLKT01E/I2dTrWWbUD9uBd4KgI1WP6PQQLPJJ0U/c79PKUnlYz/BZ9P3M5ZIP9G2LGRml2A/oaxc4v2IRz8KDiWX3WdRPxTf8CDfT08/HWYsV4dvWj9HWfva3mQzP5Ect5goGGI/WW0F3JEZXD/1h/b1lghmP3tnJuwSGF4/zTCF1CBZUj9ULOqiDHJjP1TO2ddq+U0/1s3eMfIqUT8vRTAPN7ldPwIjCL2xjlY/OhAHPr5hXD9BpUUBMqpoP6r6y4N/Kmc/M8xjqvmPSD8Atufp4wNkP8bcczzCFlY/LryUr1naUD+G26vpB75iPyUnHlmLkEY/3F0kKTKuWj+2jnVKhY9PP0zLUNDN2Us/nqeWcw6/Zj8F/wJWTY9PP9sBj16s/Vo/zSeBKRa7UD9ysx3fDnNSP4CVVoks/lo/f3J2fG89TD/z+yQ9fvlcP+4iurwKP1U/6PsSb2ezMD+EA7/pboJRP8Q8ZG1a41E/I82EQURdYD8kyL5R58dfPxKAu5jT6GU/xg4CWiTOTz9ImXo7OE5WP46MdAsm31Y/Qlbw7RfnTT/PpLIxHVRQP1CEKVq9pGU/5lFfJhY8Nz8CO2KO7jlGP+Y0W9aN1FQ/1iUeywOuWj+GVmlom99LPw2aX1xFuV0/75CZ2iRmQD+Qxv1hPQM6PxmlCJ9YfFs/z44W3vTYST/veaMGLR1ePxxJBRti8VA/JqpH6jxqVT9saYROfyNZP/fcoghln10/fktPfwFVVj+hllXgOfRUP/HEgzK9C0w/MHQP/f36XT8Zqt9hJTdNPw78rnW371M/7bwjjShySj9MiPXsr1JUP+h8F1OBM0w/Sn28YAi0ZD/nNbwrV3VQP1lZGXWpNVg/ctE+9BkNWz/sVJLl6nFJP5xoj6gWAFk/4ng7vhAZUj+33UCUXfU7P+vyEcIfflI/Ue8qT5C3Wz8i59c4MAtTP05EBD+OU1U/8Fzhpk1nYz+1VpVdGm9OP1jT4N63hkk/pKJgACIPVT+umNhKa0xXP3gAaHEpcEQ/RrIUaZjlTT8j8Zp57xpPPztpxMamXjc/Ci1Pn6dYYD9xjS87a59mP5sca1cWIVk/ipDfNLbTUD/c4NfIfgo6P3bMJDJ7sG4/1Cd6MH+MYz8zGjBWqi1NP6i6q8evDl4/ruB/JS2GWj+ePKEAeCxcP8EVvDOmsVo/YvtSIBxrRj/rSfC58rJQP/x6GEGwlFw/UDENVhK9Uz8ofu6lrgtXPwkFQKsKtmA/NqYSe7/YWj/X3pIBpm9eP3WXBITrk1o/Jk3BPFTSVz+n8uwGu31TP1LugnGI4U0/VP+EM/tiXj9/4pxu7SNXP3jCjgEm9E4/YqtTs1l0XD/LZmwBMCNVPw2IuJP1UFE/Dt7XbcROXD9jrPiEg+c2P80Ave0SQlU/8hncITfWWj+5JiQVymhkP97fVje8QkM/ASXBj9+GWz/lSGONCWVOPyVpiSZZBlI/ke61Ahc0Vj8Fcs0AYcJiPxZliagKcl4/EgIC2555Uj9d8S3+CpBWP1JWZuBrNlY/K49BHxLZXT+n57X+9tpUP0VzeEtu5Ew/S4uW0v5vWD9Be1HqBWdSP0kRiBPyP1c/eY7fa2JjUT8Fpd2st31RP/qitAYKSVI/T9u7vsVXUD8BS1RDN1koPxkW7sStu0U/YM7AvAkDST8XBAkTEANhP4nLojfQDE8/j4wVi1MBYz+ip44/Pz5SP99YHMYqW0Y/7Df+mJDRYD9JfCCCkThTP3/CvR7kyFw/03ZfKwoVUz9EiMZrAg4ePxQSQXCL7V4/F1xrGXOXYz+t7hNQgElWP3bFXP4eu0M/WNSHUEopXT8rbZEolIdFP/l8BPPyNmM/XmRZ/ikhSD+0sHjUVZBaP2W7BFSdGVg/Gy5zLdU+WT+QYZ2ln5JgPyit74ZQaVU/vPiwBfPjWD+J013fNgxTP1U6z/x3A1w/69nfLGBdUT8xN9yFB6NZP6MTXpktCmQ/gPki+5I8WT/kvrQiLhNqPxLRgAblgGU/jawyPuRTUj/+L3c29+hPPyU/nCLFfVY/fgbMJor/TT8ClRhAZNVPP06HwR214VM/LDU4Yx3fYD+ZKVsFqYFFP0cezkakpVw/cB6UdaxjYD+vQU5exbpOP9pnxAK1QzI/yW+bhwnUXT9ztwyftyZUP+wQtLwySls/BhwqoNCRTj+awBUeyXlqPzZb3DO2wyE/Gb3LxeIsRj+ric860S5KP7ASMZOTsFU/YWczd7c7QT+v8UgUNN5fP4+3828whl8/PhDf2hVPXD8lzlUcwOxFPz467l3qhkk/yTR64QvIST+PxZi29Ew4Pw==",
          "dtype": "f8"
         }
        }
       ],
       "layout": {
        "template": {
         "data": {
          "bar": [
           {
            "error_x": {
             "color": "#2a3f5f"
            },
            "error_y": {
             "color": "#2a3f5f"
            },
            "marker": {
             "line": {
              "color": "white",
              "width": 0.5
             },
             "pattern": {
              "fillmode": "overlay",
              "size": 10,
              "solidity": 0.2
             }
            },
            "type": "bar"
           }
          ],
          "barpolar": [
           {
            "marker": {
             "line": {
              "color": "white",
              "width": 0.5
             },
             "pattern": {
              "fillmode": "overlay",
              "size": 10,
              "solidity": 0.2
             }
            },
            "type": "barpolar"
           }
          ],
          "carpet": [
           {
            "aaxis": {
             "endlinecolor": "#2a3f5f",
             "gridcolor": "#C8D4E3",
             "linecolor": "#C8D4E3",
             "minorgridcolor": "#C8D4E3",
             "startlinecolor": "#2a3f5f"
            },
            "baxis": {
             "endlinecolor": "#2a3f5f",
             "gridcolor": "#C8D4E3",
             "linecolor": "#C8D4E3",
             "minorgridcolor": "#C8D4E3",
             "startlinecolor": "#2a3f5f"
            },
            "type": "carpet"
           }
          ],
          "choropleth": [
           {
            "colorbar": {
             "outlinewidth": 0,
             "ticks": ""
            },
            "type": "choropleth"
           }
          ],
          "contour": [
           {
            "colorbar": {
             "outlinewidth": 0,
             "ticks": ""
            },
            "colorscale": [
             [
              0,
              "#0d0887"
             ],
             [
              0.1111111111111111,
              "#46039f"
             ],
             [
              0.2222222222222222,
              "#7201a8"
             ],
             [
              0.3333333333333333,
              "#9c179e"
             ],
             [
              0.4444444444444444,
              "#bd3786"
             ],
             [
              0.5555555555555556,
              "#d8576b"
             ],
             [
              0.6666666666666666,
              "#ed7953"
             ],
             [
              0.7777777777777778,
              "#fb9f3a"
             ],
             [
              0.8888888888888888,
              "#fdca26"
             ],
             [
              1,
              "#f0f921"
             ]
            ],
            "type": "contour"
           }
          ],
          "contourcarpet": [
           {
            "colorbar": {
             "outlinewidth": 0,
             "ticks": ""
            },
            "type": "contourcarpet"
           }
          ],
          "heatmap": [
           {
            "colorbar": {
             "outlinewidth": 0,
             "ticks": ""
            },
            "colorscale": [
             [
              0,
              "#0d0887"
             ],
             [
              0.1111111111111111,
              "#46039f"
             ],
             [
              0.2222222222222222,
              "#7201a8"
             ],
             [
              0.3333333333333333,
              "#9c179e"
             ],
             [
              0.4444444444444444,
              "#bd3786"
             ],
             [
              0.5555555555555556,
              "#d8576b"
             ],
             [
              0.6666666666666666,
              "#ed7953"
             ],
             [
              0.7777777777777778,
              "#fb9f3a"
             ],
             [
              0.8888888888888888,
              "#fdca26"
             ],
             [
              1,
              "#f0f921"
             ]
            ],
            "type": "heatmap"
           }
          ],
          "histogram": [
           {
            "marker": {
             "pattern": {
              "fillmode": "overlay",
              "size": 10,
              "solidity": 0.2
             }
            },
            "type": "histogram"
           }
          ],
          "histogram2d": [
           {
            "colorbar": {
             "outlinewidth": 0,
             "ticks": ""
            },
            "colorscale": [
             [
              0,
              "#0d0887"
             ],
             [
              0.1111111111111111,
              "#46039f"
             ],
             [
              0.2222222222222222,
              "#7201a8"
             ],
             [
              0.3333333333333333,
              "#9c179e"
             ],
             [
              0.4444444444444444,
              "#bd3786"
             ],
             [
              0.5555555555555556,
              "#d8576b"
             ],
             [
              0.6666666666666666,
              "#ed7953"
             ],
             [
              0.7777777777777778,
              "#fb9f3a"
             ],
             [
              0.8888888888888888,
              "#fdca26"
             ],
             [
              1,
              "#f0f921"
             ]
            ],
            "type": "histogram2d"
           }
          ],
          "histogram2dcontour": [
           {
            "colorbar": {
             "outlinewidth": 0,
             "ticks": ""
            },
            "colorscale": [
             [
              0,
              "#0d0887"
             ],
             [
              0.1111111111111111,
              "#46039f"
             ],
             [
              0.2222222222222222,
              "#7201a8"
             ],
             [
              0.3333333333333333,
              "#9c179e"
             ],
             [
              0.4444444444444444,
              "#bd3786"
             ],
             [
              0.5555555555555556,
              "#d8576b"
             ],
             [
              0.6666666666666666,
              "#ed7953"
             ],
             [
              0.7777777777777778,
              "#fb9f3a"
             ],
             [
              0.8888888888888888,
              "#fdca26"
             ],
             [
              1,
              "#f0f921"
             ]
            ],
            "type": "histogram2dcontour"
           }
          ],
          "mesh3d": [
           {
            "colorbar": {
             "outlinewidth": 0,
             "ticks": ""
            },
            "type": "mesh3d"
           }
          ],
          "parcoords": [
           {
            "line": {
             "colorbar": {
              "outlinewidth": 0,
              "ticks": ""
             }
            },
            "type": "parcoords"
           }
          ],
          "pie": [
           {
            "automargin": true,
            "type": "pie"
           }
          ],
          "scatter": [
           {
            "fillpattern": {
             "fillmode": "overlay",
             "size": 10,
             "solidity": 0.2
            },
            "type": "scatter"
           }
          ],
          "scatter3d": [
           {
            "line": {
             "colorbar": {
              "outlinewidth": 0,
              "ticks": ""
             }
            },
            "marker": {
             "colorbar": {
              "outlinewidth": 0,
              "ticks": ""
             }
            },
            "type": "scatter3d"
           }
          ],
          "scattercarpet": [
           {
            "marker": {
             "colorbar": {
              "outlinewidth": 0,
              "ticks": ""
             }
            },
            "type": "scattercarpet"
           }
          ],
          "scattergeo": [
           {
            "marker": {
             "colorbar": {
              "outlinewidth": 0,
              "ticks": ""
             }
            },
            "type": "scattergeo"
           }
          ],
          "scattergl": [
           {
            "marker": {
             "colorbar": {
              "outlinewidth": 0,
              "ticks": ""
             }
            },
            "type": "scattergl"
           }
          ],
          "scattermap": [
           {
            "marker": {
             "colorbar": {
              "outlinewidth": 0,
              "ticks": ""
             }
            },
            "type": "scattermap"
           }
          ],
          "scattermapbox": [
           {
            "marker": {
             "colorbar": {
              "outlinewidth": 0,
              "ticks": ""
             }
            },
            "type": "scattermapbox"
           }
          ],
          "scatterpolar": [
           {
            "marker": {
             "colorbar": {
              "outlinewidth": 0,
              "ticks": ""
             }
            },
            "type": "scatterpolar"
           }
          ],
          "scatterpolargl": [
           {
            "marker": {
             "colorbar": {
              "outlinewidth": 0,
              "ticks": ""
             }
            },
            "type": "scatterpolargl"
           }
          ],
          "scatterternary": [
           {
            "marker": {
             "colorbar": {
              "outlinewidth": 0,
              "ticks": ""
             }
            },
            "type": "scatterternary"
           }
          ],
          "surface": [
           {
            "colorbar": {
             "outlinewidth": 0,
             "ticks": ""
            },
            "colorscale": [
             [
              0,
              "#0d0887"
             ],
             [
              0.1111111111111111,
              "#46039f"
             ],
             [
              0.2222222222222222,
              "#7201a8"
             ],
             [
              0.3333333333333333,
              "#9c179e"
             ],
             [
              0.4444444444444444,
              "#bd3786"
             ],
             [
              0.5555555555555556,
              "#d8576b"
             ],
             [
              0.6666666666666666,
              "#ed7953"
             ],
             [
              0.7777777777777778,
              "#fb9f3a"
             ],
             [
              0.8888888888888888,
              "#fdca26"
             ],
             [
              1,
              "#f0f921"
             ]
            ],
            "type": "surface"
           }
          ],
          "table": [
           {
            "cells": {
             "fill": {
              "color": "#EBF0F8"
             },
             "line": {
              "color": "white"
             }
            },
            "header": {
             "fill": {
              "color": "#C8D4E3"
             },
             "line": {
              "color": "white"
             }
            },
            "type": "table"
           }
          ]
         },
         "layout": {
          "annotationdefaults": {
           "arrowcolor": "#2a3f5f",
           "arrowhead": 0,
           "arrowwidth": 1
          },
          "autotypenumbers": "strict",
          "coloraxis": {
           "colorbar": {
            "outlinewidth": 0,
            "ticks": ""
           }
          },
          "colorscale": {
           "diverging": [
            [
             0,
             "#8e0152"
            ],
            [
             0.1,
             "#c51b7d"
            ],
            [
             0.2,
             "#de77ae"
            ],
            [
             0.3,
             "#f1b6da"
            ],
            [
             0.4,
             "#fde0ef"
            ],
            [
             0.5,
             "#f7f7f7"
            ],
            [
             0.6,
             "#e6f5d0"
            ],
            [
             0.7,
             "#b8e186"
            ],
            [
             0.8,
             "#7fbc41"
            ],
            [
             0.9,
             "#4d9221"
            ],
            [
             1,
             "#276419"
            ]
           ],
           "sequential": [
            [
             0,
             "#0d0887"
            ],
            [
             0.1111111111111111,
             "#46039f"
            ],
            [
             0.2222222222222222,
             "#7201a8"
            ],
            [
             0.3333333333333333,
             "#9c179e"
            ],
            [
             0.4444444444444444,
             "#bd3786"
            ],
            [
             0.5555555555555556,
             "#d8576b"
            ],
            [
             0.6666666666666666,
             "#ed7953"
            ],
            [
             0.7777777777777778,
             "#fb9f3a"
            ],
            [
             0.8888888888888888,
             "#fdca26"
            ],
            [
             1,
             "#f0f921"
            ]
           ],
           "sequentialminus": [
            [
             0,
             "#0d0887"
            ],
            [
             0.1111111111111111,
             "#46039f"
            ],
            [
             0.2222222222222222,
             "#7201a8"
            ],
            [
             0.3333333333333333,
             "#9c179e"
            ],
            [
             0.4444444444444444,
             "#bd3786"
            ],
            [
             0.5555555555555556,
             "#d8576b"
            ],
            [
             0.6666666666666666,
             "#ed7953"
            ],
            [
             0.7777777777777778,
             "#fb9f3a"
            ],
            [
             0.8888888888888888,
             "#fdca26"
            ],
            [
             1,
             "#f0f921"
            ]
           ]
          },
          "colorway": [
           "#636efa",
           "#EF553B",
           "#00cc96",
           "#ab63fa",
           "#FFA15A",
           "#19d3f3",
           "#FF6692",
           "#B6E880",
           "#FF97FF",
           "#FECB52"
          ],
          "font": {
           "color": "#2a3f5f"
          },
          "geo": {
           "bgcolor": "white",
           "lakecolor": "white",
           "landcolor": "white",
           "showlakes": true,
           "showland": true,
           "subunitcolor": "#C8D4E3"
          },
          "hoverlabel": {
           "align": "left"
          },
          "hovermode": "closest",
          "mapbox": {
           "style": "light"
          },
          "paper_bgcolor": "white",
          "plot_bgcolor": "white",
          "polar": {
           "angularaxis": {
            "gridcolor": "#EBF0F8",
            "linecolor": "#EBF0F8",
            "ticks": ""
           },
           "bgcolor": "white",
           "radialaxis": {
            "gridcolor": "#EBF0F8",
            "linecolor": "#EBF0F8",
            "ticks": ""
           }
          },
          "scene": {
           "xaxis": {
            "backgroundcolor": "white",
            "gridcolor": "#DFE8F3",
            "gridwidth": 2,
            "linecolor": "#EBF0F8",
            "showbackground": true,
            "ticks": "",
            "zerolinecolor": "#EBF0F8"
           },
           "yaxis": {
            "backgroundcolor": "white",
            "gridcolor": "#DFE8F3",
            "gridwidth": 2,
            "linecolor": "#EBF0F8",
            "showbackground": true,
            "ticks": "",
            "zerolinecolor": "#EBF0F8"
           },
           "zaxis": {
            "backgroundcolor": "white",
            "gridcolor": "#DFE8F3",
            "gridwidth": 2,
            "linecolor": "#EBF0F8",
            "showbackground": true,
            "ticks": "",
            "zerolinecolor": "#EBF0F8"
           }
          },
          "shapedefaults": {
           "line": {
            "color": "#2a3f5f"
           }
          },
          "ternary": {
           "aaxis": {
            "gridcolor": "#DFE8F3",
            "linecolor": "#A2B1C6",
            "ticks": ""
           },
           "baxis": {
            "gridcolor": "#DFE8F3",
            "linecolor": "#A2B1C6",
            "ticks": ""
           },
           "bgcolor": "white",
           "caxis": {
            "gridcolor": "#DFE8F3",
            "linecolor": "#A2B1C6",
            "ticks": ""
           }
          },
          "title": {
           "x": 0.05
          },
          "xaxis": {
           "automargin": true,
           "gridcolor": "#EBF0F8",
           "linecolor": "#EBF0F8",
           "ticks": "",
           "title": {
            "standoff": 15
           },
           "zerolinecolor": "#EBF0F8",
           "zerolinewidth": 2
          },
          "yaxis": {
           "automargin": true,
           "gridcolor": "#EBF0F8",
           "linecolor": "#EBF0F8",
           "ticks": "",
           "title": {
            "standoff": 15
           },
           "zerolinecolor": "#EBF0F8",
           "zerolinewidth": 2
          }
         }
        },
        "title": {
         "text": "FFT of Processed Signal (Positive Frequencies)"
        },
        "xaxis": {
         "title": {
          "text": "Frequency (GHz)"
         }
        },
        "yaxis": {
         "title": {
          "text": "Amplitude"
         }
        }
       }
      }
     },
     "metadata": {},
     "output_type": "display_data"
    }
   ],
   "source": [
    "import numpy as np\n",
    "import plotly.graph_objects as go\n",
    "\n",
    "# Compute the processed signal\n",
    "y = (signal_noBz - background_noBz) - (signal_Bz - background_Bz)\n",
    "\n",
    "# Compute FFT\n",
    "y_fft = np.fft.fft(y)\n",
    "freq = np.fft.fftfreq(len(tau), d=(tau[1] - tau[0]))  # tau in ns, so freq in GHz\n",
    "\n",
    "# Select only positive frequencies\n",
    "pos_mask = freq > 0\n",
    "freq_pos = freq[pos_mask]\n",
    "y_fft_pos = y_fft[pos_mask]\n",
    "\n",
    "# Create Plotly figure\n",
    "fig = go.Figure()\n",
    "\n",
    "fig.add_trace(go.Scatter(\n",
    "    x=freq_pos,  # Frequency in GHz\n",
    "    y=np.abs(y_fft_pos),\n",
    "    mode='lines',\n",
    "    name='FFT Magnitude'\n",
    "))\n",
    "\n",
    "fig.update_layout(\n",
    "    title='FFT of Processed Signal (Positive Frequencies)',\n",
    "    xaxis_title='Frequency (GHz)',\n",
    "    yaxis_title='Amplitude',\n",
    "    template='plotly_white'\n",
    ")\n",
    "\n",
    "fig.show()\n"
   ]
  },
  {
   "cell_type": "code",
   "execution_count": 11,
   "id": "7a6f597d",
   "metadata": {},
   "outputs": [],
   "source": [
    "def load(file_path):\n",
    "    # load in the data with Bz coil for Hahn Echo \n",
    "    # Jupyter Notebook Cell 2: Define the file path\n",
    "    # file_path = \"C:/Users/HFNV/diamondgui/temp/backup/250702h13m20s56_HahnEcho-default.pkl\"\n",
    "\n",
    "    # Jupyter Notebook Cell 3: Load the pickle file\n",
    "    with open(file_path, 'rb') as file:\n",
    "        data = pickle.load(file)\n",
    "\n",
    "    # Jupyter Notebook Cell 4: Inspect the type and content\n",
    "    print(f\"Data type: {type(data)}\")\n",
    "\n",
    "    # For dictionaries, print keys\n",
    "    if isinstance(data, dict):\n",
    "        print(f\"Keys: {data.keys()}\")\n",
    "\n",
    "    # For lists, show a sample\n",
    "    elif isinstance(data, list):\n",
    "        print(f\"First 5 elements: {data[:5]}\")\n",
    "\n",
    "    # If it's a DataFrame, show the head\n",
    "    elif isinstance(data, pd.DataFrame):\n",
    "        display(data.head())\n",
    "\n",
    "    # Jupyter Notebook Cell 5: Optional visualization or further exploration\n",
    "    # Example for dictionary containing arrays/lists\n",
    "    if isinstance(data, dict):\n",
    "        for key, value in data.items():\n",
    "            if isinstance(value, (list, pd.Series)) and len(value) > 0:\n",
    "                plt.plot(value)\n",
    "                plt.title(f\"Plot for key: {key}\")\n",
    "                plt.xlabel(\"Index\")\n",
    "                plt.ylabel(\"Value\")\n",
    "                plt.show()\n",
    "    return data\n"
   ]
  },
  {
   "cell_type": "code",
   "execution_count": 12,
   "id": "cd5dbcf1",
   "metadata": {},
   "outputs": [
    {
     "name": "stdout",
     "output_type": "stream",
     "text": [
      "Data type: <class 'tuple'>\n",
      "Data type: <class 'tuple'>\n"
     ]
    }
   ],
   "source": [
    "OneMHz100s=load(\"C:/Users/HFNV/diamondgui/temp/backup/250702h13m48s30_HahnEcho-default.pkl\")\n",
    "OneMHz100sno=load(\"C:/Users/HFNV/diamondgui/temp/backup/250702h13m50s27_HahnEcho-default.pkl\")"
   ]
  },
  {
   "cell_type": "code",
   "execution_count": 13,
   "id": "46b5623c",
   "metadata": {},
   "outputs": [
    {
     "data": {
      "application/vnd.plotly.v1+json": {
       "config": {
        "plotlyServerURL": "https://plot.ly"
       },
       "data": [
        {
         "mode": "lines+markers",
         "name": "Bz with 0.718 MHz 1 Vpp",
         "type": "scatter",
         "x": {
          "bdata": "AAAAAADAUkAAAAAAAEBVQAAAAAAAwFdAAAAAAABAWkAAAAAAAMBcQAAAAAAAQF9AAAAAAADgYEAAAAAAACBiQAAAAAAAYGNAAAAAAACgZEAAAAAAAOBlQAAAAAAAIGdAAAAAAABgaEAAAAAAAKBpQAAAAAAA4GpAAAAAAAAgbEAAAAAAAGBtQAAAAAAAoG5AAAAAAADgb0AAAAAAAJBwQAAAAAAAMHFAAAAAAADQcUAAAAAAAHByQAAAAAAAEHNAAAAAAACwc0AAAAAAAFB0QAAAAAAA8HRAAAAAAACQdUAAAAAAADB2QAAAAAAA0HZAAAAAAABwd0AAAAAAABB4QAAAAAAAsHhAAAAAAABQeUAAAAAAAPB5QAAAAAAAkHpAAAAAAAAwe0AAAAAAANB7QAAAAAAAcHxAAAAAAAAQfUAAAAAAALB9QAAAAAAAUH5AAAAAAADwfkAAAAAAAJB/QAAAAAAAGIBAAAAAAABogEAAAAAAALiAQAAAAAAACIFAAAAAAABYgUAAAAAAAKiBQAAAAAAA+IFAAAAAAABIgkAAAAAAAJiCQAAAAAAA6IJAAAAAAAA4g0AAAAAAAIiDQAAAAAAA2INAAAAAAAAohEAAAAAAAHiEQAAAAAAAyIRAAAAAAAAYhUAAAAAAAGiFQAAAAAAAuIVAAAAAAAAIhkAAAAAAAFiGQAAAAAAAqIZAAAAAAAD4hkAAAAAAAEiHQAAAAAAAmIdAAAAAAADoh0AAAAAAADiIQAAAAAAAiIhAAAAAAADYiEAAAAAAACiJQAAAAAAAeIlAAAAAAADIiUAAAAAAABiKQAAAAAAAaIpAAAAAAAC4ikAAAAAAAAiLQAAAAAAAWItAAAAAAACoi0AAAAAAAPiLQAAAAAAASIxAAAAAAACYjEAAAAAAAOiMQAAAAAAAOI1AAAAAAACIjUAAAAAAANiNQAAAAAAAKI5AAAAAAAB4jkAAAAAAAMiOQAAAAAAAGI9AAAAAAABoj0AAAAAAALiPQAAAAAAABJBAAAAAAAAskEAAAAAAAFSQQAAAAAAAfJBAAAAAAACkkEAAAAAAAMyQQAAAAAAA9JBAAAAAAAAckUAAAAAAAESRQAAAAAAAbJFAAAAAAACUkUAAAAAAALyRQAAAAAAA5JFAAAAAAAAMkkAAAAAAADSSQAAAAAAAXJJAAAAAAACEkkAAAAAAAKySQAAAAAAA1JJAAAAAAAD8kkAAAAAAACSTQAAAAAAATJNAAAAAAAB0k0AAAAAAAJyTQAAAAAAAxJNAAAAAAADsk0AAAAAAABSUQAAAAAAAPJRAAAAAAABklEAAAAAAAIyUQAAAAAAAtJRAAAAAAADclEAAAAAAAASVQAAAAAAALJVAAAAAAABUlUAAAAAAAHyVQAAAAAAApJVAAAAAAADMlUAAAAAAAPSVQAAAAAAAHJZAAAAAAABElkAAAAAAAGyWQAAAAAAAlJZAAAAAAAC8lkAAAAAAAOSWQAAAAAAADJdAAAAAAAA0l0AAAAAAAFyXQAAAAAAAhJdAAAAAAACsl0AAAAAAANSXQAAAAAAA/JdAAAAAAAAkmEAAAAAAAEyYQAAAAAAAdJhAAAAAAACcmEAAAAAAAMSYQAAAAAAA7JhAAAAAAAAUmUAAAAAAADyZQAAAAAAAZJlAAAAAAACMmUAAAAAAALSZQAAAAAAA3JlAAAAAAAAEmkAAAAAAACyaQAAAAAAAVJpAAAAAAAB8mkAAAAAAAKSaQAAAAAAAzJpAAAAAAAD0mkAAAAAAABybQAAAAAAARJtAAAAAAABsm0AAAAAAAJSbQAAAAAAAvJtAAAAAAADkm0AAAAAAAAycQAAAAAAANJxAAAAAAABcnEAAAAAAAIScQAAAAAAArJxAAAAAAADUnEAAAAAAAPycQAAAAAAAJJ1AAAAAAABMnUAAAAAAAHSdQAAAAAAAnJ1AAAAAAADEnUAAAAAAAOydQAAAAAAAFJ5AAAAAAAA8nkAAAAAAAGSeQAAAAAAAjJ5AAAAAAAC0nkAAAAAAANyeQAAAAAAABJ9AAAAAAAAsn0AAAAAAAFSfQAAAAAAAfJ9AAAAAAACkn0AAAAAAAMyfQAAAAAAA9J9AAAAAAAAOoEAAAAAAACKgQAAAAAAANqBAAAAAAABKoEAAAAAAAF6gQAAAAAAAcqBAAAAAAACGoEAAAAAAAJqgQAAAAAAArqBAAAAAAADCoEAAAAAAANagQAAAAAAA6qBAAAAAAAD+oEAAAAAAABKhQAAAAAAAJqFAAAAAAAA6oUAAAAAAAE6hQAAAAAAAYqFAAAAAAAB2oUAAAAAAAIqhQAAAAAAAnqFAAAAAAACyoUAAAAAAAMahQAAAAAAA2qFAAAAAAADuoUAAAAAAAAKiQAAAAAAAFqJAAAAAAAAqokAAAAAAAD6iQAAAAAAAUqJAAAAAAABmokAAAAAAAHqiQAAAAAAAjqJAAAAAAACiokAAAAAAALaiQAAAAAAAyqJAAAAAAADeokAAAAAAAPKiQAAAAAAABqNAAAAAAAAao0AAAAAAAC6jQAAAAAAAQqNAAAAAAABWo0AAAAAAAGqjQAAAAAAAfqNAAAAAAACSo0AAAAAAAKajQAAAAAAAuqNAAAAAAADOo0AAAAAAAOKjQAAAAAAA9qNAAAAAAAAKpEAAAAAAAB6kQAAAAAAAMqRAAAAAAABGpEAAAAAAAFqkQAAAAAAAbqRAAAAAAACCpEAAAAAAAJakQAAAAAAAqqRAAAAAAAC+pEAAAAAAANKkQAAAAAAA5qRAAAAAAAD6pEAAAAAAAA6lQAAAAAAAIqVAAAAAAAA2pUAAAAAAAEqlQAAAAAAAXqVAAAAAAABypUAAAAAAAIalQAAAAAAAmqVAAAAAAACupUAAAAAAAMKlQAAAAAAA1qVAAAAAAADqpUAAAAAAAP6lQAAAAAAAEqZAAAAAAAAmpkAAAAAAADqmQAAAAAAATqZAAAAAAABipkAAAAAAAHamQAAAAAAAiqZAAAAAAACepkAAAAAAALKmQAAAAAAAxqZAAAAAAADapkAAAAAAAO6mQAAAAAAAAqdAAAAAAAAWp0AAAAAAACqnQAAAAAAAPqdAAAAAAABSp0AAAAAAAGanQAAAAAAAeqdAAAAAAACOp0AAAAAAAKKnQAAAAAAAtqdAAAAAAADKp0AAAAAAAN6nQAAAAAAA8qdAAAAAAAAGqEAAAAAAABqoQAAAAAAALqhAAAAAAABCqEAAAAAAAFaoQAAAAAAAaqhAAAAAAAB+qEAAAAAAAJKoQAAAAAAApqhAAAAAAAC6qEAAAAAAAM6oQAAAAAAA4qhAAAAAAAD2qEAAAAAAAAqpQAAAAAAAHqlAAAAAAAAyqUAAAAAAAEapQAAAAAAAWqlAAAAAAABuqUAAAAAAAIKpQAAAAAAAlqlAAAAAAACqqUAAAAAAAL6pQAAAAAAA0qlAAAAAAADmqUAAAAAAAPqpQAAAAAAADqpAAAAAAAAiqkAAAAAAADaqQAAAAAAASqpAAAAAAABeqkAAAAAAAHKqQAAAAAAAhqpAAAAAAACaqkAAAAAAAK6qQAAAAAAAwqpAAAAAAADWqkAAAAAAAOqqQAAAAAAA/qpAAAAAAAASq0AAAAAAACarQAAAAAAAOqtAAAAAAABOq0AAAAAAAGKrQAAAAAAAdqtAAAAAAACKq0AAAAAAAJ6rQAAAAAAAsqtAAAAAAADGq0AAAAAAANqrQAAAAAAA7qtA",
          "dtype": "f8"
         },
         "y": {
          "bdata": "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",
          "dtype": "f8"
         }
        },
        {
         "mode": "lines+markers",
         "name": "Bz with 0.718 MHz 1 Vpp",
         "type": "scatter",
         "x": {
          "bdata": "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",
          "dtype": "f8"
         },
         "y": {
          "bdata": "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",
          "dtype": "f8"
         }
        }
       ],
       "layout": {
        "template": {
         "data": {
          "bar": [
           {
            "error_x": {
             "color": "#2a3f5f"
            },
            "error_y": {
             "color": "#2a3f5f"
            },
            "marker": {
             "line": {
              "color": "white",
              "width": 0.5
             },
             "pattern": {
              "fillmode": "overlay",
              "size": 10,
              "solidity": 0.2
             }
            },
            "type": "bar"
           }
          ],
          "barpolar": [
           {
            "marker": {
             "line": {
              "color": "white",
              "width": 0.5
             },
             "pattern": {
              "fillmode": "overlay",
              "size": 10,
              "solidity": 0.2
             }
            },
            "type": "barpolar"
           }
          ],
          "carpet": [
           {
            "aaxis": {
             "endlinecolor": "#2a3f5f",
             "gridcolor": "#C8D4E3",
             "linecolor": "#C8D4E3",
             "minorgridcolor": "#C8D4E3",
             "startlinecolor": "#2a3f5f"
            },
            "baxis": {
             "endlinecolor": "#2a3f5f",
             "gridcolor": "#C8D4E3",
             "linecolor": "#C8D4E3",
             "minorgridcolor": "#C8D4E3",
             "startlinecolor": "#2a3f5f"
            },
            "type": "carpet"
           }
          ],
          "choropleth": [
           {
            "colorbar": {
             "outlinewidth": 0,
             "ticks": ""
            },
            "type": "choropleth"
           }
          ],
          "contour": [
           {
            "colorbar": {
             "outlinewidth": 0,
             "ticks": ""
            },
            "colorscale": [
             [
              0,
              "#0d0887"
             ],
             [
              0.1111111111111111,
              "#46039f"
             ],
             [
              0.2222222222222222,
              "#7201a8"
             ],
             [
              0.3333333333333333,
              "#9c179e"
             ],
             [
              0.4444444444444444,
              "#bd3786"
             ],
             [
              0.5555555555555556,
              "#d8576b"
             ],
             [
              0.6666666666666666,
              "#ed7953"
             ],
             [
              0.7777777777777778,
              "#fb9f3a"
             ],
             [
              0.8888888888888888,
              "#fdca26"
             ],
             [
              1,
              "#f0f921"
             ]
            ],
            "type": "contour"
           }
          ],
          "contourcarpet": [
           {
            "colorbar": {
             "outlinewidth": 0,
             "ticks": ""
            },
            "type": "contourcarpet"
           }
          ],
          "heatmap": [
           {
            "colorbar": {
             "outlinewidth": 0,
             "ticks": ""
            },
            "colorscale": [
             [
              0,
              "#0d0887"
             ],
             [
              0.1111111111111111,
              "#46039f"
             ],
             [
              0.2222222222222222,
              "#7201a8"
             ],
             [
              0.3333333333333333,
              "#9c179e"
             ],
             [
              0.4444444444444444,
              "#bd3786"
             ],
             [
              0.5555555555555556,
              "#d8576b"
             ],
             [
              0.6666666666666666,
              "#ed7953"
             ],
             [
              0.7777777777777778,
              "#fb9f3a"
             ],
             [
              0.8888888888888888,
              "#fdca26"
             ],
             [
              1,
              "#f0f921"
             ]
            ],
            "type": "heatmap"
           }
          ],
          "histogram": [
           {
            "marker": {
             "pattern": {
              "fillmode": "overlay",
              "size": 10,
              "solidity": 0.2
             }
            },
            "type": "histogram"
           }
          ],
          "histogram2d": [
           {
            "colorbar": {
             "outlinewidth": 0,
             "ticks": ""
            },
            "colorscale": [
             [
              0,
              "#0d0887"
             ],
             [
              0.1111111111111111,
              "#46039f"
             ],
             [
              0.2222222222222222,
              "#7201a8"
             ],
             [
              0.3333333333333333,
              "#9c179e"
             ],
             [
              0.4444444444444444,
              "#bd3786"
             ],
             [
              0.5555555555555556,
              "#d8576b"
             ],
             [
              0.6666666666666666,
              "#ed7953"
             ],
             [
              0.7777777777777778,
              "#fb9f3a"
             ],
             [
              0.8888888888888888,
              "#fdca26"
             ],
             [
              1,
              "#f0f921"
             ]
            ],
            "type": "histogram2d"
           }
          ],
          "histogram2dcontour": [
           {
            "colorbar": {
             "outlinewidth": 0,
             "ticks": ""
            },
            "colorscale": [
             [
              0,
              "#0d0887"
             ],
             [
              0.1111111111111111,
              "#46039f"
             ],
             [
              0.2222222222222222,
              "#7201a8"
             ],
             [
              0.3333333333333333,
              "#9c179e"
             ],
             [
              0.4444444444444444,
              "#bd3786"
             ],
             [
              0.5555555555555556,
              "#d8576b"
             ],
             [
              0.6666666666666666,
              "#ed7953"
             ],
             [
              0.7777777777777778,
              "#fb9f3a"
             ],
             [
              0.8888888888888888,
              "#fdca26"
             ],
             [
              1,
              "#f0f921"
             ]
            ],
            "type": "histogram2dcontour"
           }
          ],
          "mesh3d": [
           {
            "colorbar": {
             "outlinewidth": 0,
             "ticks": ""
            },
            "type": "mesh3d"
           }
          ],
          "parcoords": [
           {
            "line": {
             "colorbar": {
              "outlinewidth": 0,
              "ticks": ""
             }
            },
            "type": "parcoords"
           }
          ],
          "pie": [
           {
            "automargin": true,
            "type": "pie"
           }
          ],
          "scatter": [
           {
            "fillpattern": {
             "fillmode": "overlay",
             "size": 10,
             "solidity": 0.2
            },
            "type": "scatter"
           }
          ],
          "scatter3d": [
           {
            "line": {
             "colorbar": {
              "outlinewidth": 0,
              "ticks": ""
             }
            },
            "marker": {
             "colorbar": {
              "outlinewidth": 0,
              "ticks": ""
             }
            },
            "type": "scatter3d"
           }
          ],
          "scattercarpet": [
           {
            "marker": {
             "colorbar": {
              "outlinewidth": 0,
              "ticks": ""
             }
            },
            "type": "scattercarpet"
           }
          ],
          "scattergeo": [
           {
            "marker": {
             "colorbar": {
              "outlinewidth": 0,
              "ticks": ""
             }
            },
            "type": "scattergeo"
           }
          ],
          "scattergl": [
           {
            "marker": {
             "colorbar": {
              "outlinewidth": 0,
              "ticks": ""
             }
            },
            "type": "scattergl"
           }
          ],
          "scattermap": [
           {
            "marker": {
             "colorbar": {
              "outlinewidth": 0,
              "ticks": ""
             }
            },
            "type": "scattermap"
           }
          ],
          "scattermapbox": [
           {
            "marker": {
             "colorbar": {
              "outlinewidth": 0,
              "ticks": ""
             }
            },
            "type": "scattermapbox"
           }
          ],
          "scatterpolar": [
           {
            "marker": {
             "colorbar": {
              "outlinewidth": 0,
              "ticks": ""
             }
            },
            "type": "scatterpolar"
           }
          ],
          "scatterpolargl": [
           {
            "marker": {
             "colorbar": {
              "outlinewidth": 0,
              "ticks": ""
             }
            },
            "type": "scatterpolargl"
           }
          ],
          "scatterternary": [
           {
            "marker": {
             "colorbar": {
              "outlinewidth": 0,
              "ticks": ""
             }
            },
            "type": "scatterternary"
           }
          ],
          "surface": [
           {
            "colorbar": {
             "outlinewidth": 0,
             "ticks": ""
            },
            "colorscale": [
             [
              0,
              "#0d0887"
             ],
             [
              0.1111111111111111,
              "#46039f"
             ],
             [
              0.2222222222222222,
              "#7201a8"
             ],
             [
              0.3333333333333333,
              "#9c179e"
             ],
             [
              0.4444444444444444,
              "#bd3786"
             ],
             [
              0.5555555555555556,
              "#d8576b"
             ],
             [
              0.6666666666666666,
              "#ed7953"
             ],
             [
              0.7777777777777778,
              "#fb9f3a"
             ],
             [
              0.8888888888888888,
              "#fdca26"
             ],
             [
              1,
              "#f0f921"
             ]
            ],
            "type": "surface"
           }
          ],
          "table": [
           {
            "cells": {
             "fill": {
              "color": "#EBF0F8"
             },
             "line": {
              "color": "white"
             }
            },
            "header": {
             "fill": {
              "color": "#C8D4E3"
             },
             "line": {
              "color": "white"
             }
            },
            "type": "table"
           }
          ]
         },
         "layout": {
          "annotationdefaults": {
           "arrowcolor": "#2a3f5f",
           "arrowhead": 0,
           "arrowwidth": 1
          },
          "autotypenumbers": "strict",
          "coloraxis": {
           "colorbar": {
            "outlinewidth": 0,
            "ticks": ""
           }
          },
          "colorscale": {
           "diverging": [
            [
             0,
             "#8e0152"
            ],
            [
             0.1,
             "#c51b7d"
            ],
            [
             0.2,
             "#de77ae"
            ],
            [
             0.3,
             "#f1b6da"
            ],
            [
             0.4,
             "#fde0ef"
            ],
            [
             0.5,
             "#f7f7f7"
            ],
            [
             0.6,
             "#e6f5d0"
            ],
            [
             0.7,
             "#b8e186"
            ],
            [
             0.8,
             "#7fbc41"
            ],
            [
             0.9,
             "#4d9221"
            ],
            [
             1,
             "#276419"
            ]
           ],
           "sequential": [
            [
             0,
             "#0d0887"
            ],
            [
             0.1111111111111111,
             "#46039f"
            ],
            [
             0.2222222222222222,
             "#7201a8"
            ],
            [
             0.3333333333333333,
             "#9c179e"
            ],
            [
             0.4444444444444444,
             "#bd3786"
            ],
            [
             0.5555555555555556,
             "#d8576b"
            ],
            [
             0.6666666666666666,
             "#ed7953"
            ],
            [
             0.7777777777777778,
             "#fb9f3a"
            ],
            [
             0.8888888888888888,
             "#fdca26"
            ],
            [
             1,
             "#f0f921"
            ]
           ],
           "sequentialminus": [
            [
             0,
             "#0d0887"
            ],
            [
             0.1111111111111111,
             "#46039f"
            ],
            [
             0.2222222222222222,
             "#7201a8"
            ],
            [
             0.3333333333333333,
             "#9c179e"
            ],
            [
             0.4444444444444444,
             "#bd3786"
            ],
            [
             0.5555555555555556,
             "#d8576b"
            ],
            [
             0.6666666666666666,
             "#ed7953"
            ],
            [
             0.7777777777777778,
             "#fb9f3a"
            ],
            [
             0.8888888888888888,
             "#fdca26"
            ],
            [
             1,
             "#f0f921"
            ]
           ]
          },
          "colorway": [
           "#636efa",
           "#EF553B",
           "#00cc96",
           "#ab63fa",
           "#FFA15A",
           "#19d3f3",
           "#FF6692",
           "#B6E880",
           "#FF97FF",
           "#FECB52"
          ],
          "font": {
           "color": "#2a3f5f"
          },
          "geo": {
           "bgcolor": "white",
           "lakecolor": "white",
           "landcolor": "white",
           "showlakes": true,
           "showland": true,
           "subunitcolor": "#C8D4E3"
          },
          "hoverlabel": {
           "align": "left"
          },
          "hovermode": "closest",
          "mapbox": {
           "style": "light"
          },
          "paper_bgcolor": "white",
          "plot_bgcolor": "white",
          "polar": {
           "angularaxis": {
            "gridcolor": "#EBF0F8",
            "linecolor": "#EBF0F8",
            "ticks": ""
           },
           "bgcolor": "white",
           "radialaxis": {
            "gridcolor": "#EBF0F8",
            "linecolor": "#EBF0F8",
            "ticks": ""
           }
          },
          "scene": {
           "xaxis": {
            "backgroundcolor": "white",
            "gridcolor": "#DFE8F3",
            "gridwidth": 2,
            "linecolor": "#EBF0F8",
            "showbackground": true,
            "ticks": "",
            "zerolinecolor": "#EBF0F8"
           },
           "yaxis": {
            "backgroundcolor": "white",
            "gridcolor": "#DFE8F3",
            "gridwidth": 2,
            "linecolor": "#EBF0F8",
            "showbackground": true,
            "ticks": "",
            "zerolinecolor": "#EBF0F8"
           },
           "zaxis": {
            "backgroundcolor": "white",
            "gridcolor": "#DFE8F3",
            "gridwidth": 2,
            "linecolor": "#EBF0F8",
            "showbackground": true,
            "ticks": "",
            "zerolinecolor": "#EBF0F8"
           }
          },
          "shapedefaults": {
           "line": {
            "color": "#2a3f5f"
           }
          },
          "ternary": {
           "aaxis": {
            "gridcolor": "#DFE8F3",
            "linecolor": "#A2B1C6",
            "ticks": ""
           },
           "baxis": {
            "gridcolor": "#DFE8F3",
            "linecolor": "#A2B1C6",
            "ticks": ""
           },
           "bgcolor": "white",
           "caxis": {
            "gridcolor": "#DFE8F3",
            "linecolor": "#A2B1C6",
            "ticks": ""
           }
          },
          "title": {
           "x": 0.05
          },
          "xaxis": {
           "automargin": true,
           "gridcolor": "#EBF0F8",
           "linecolor": "#EBF0F8",
           "ticks": "",
           "title": {
            "standoff": 15
           },
           "zerolinecolor": "#EBF0F8",
           "zerolinewidth": 2
          },
          "yaxis": {
           "automargin": true,
           "gridcolor": "#EBF0F8",
           "linecolor": "#EBF0F8",
           "ticks": "",
           "title": {
            "standoff": 15
           },
           "zerolinecolor": "#EBF0F8",
           "zerolinewidth": 2
          }
         }
        },
        "title": {
         "text": ".718 MHz 1Vpp 5 minutes averaging "
        },
        "xaxis": {
         "title": {
          "text": "X Axis"
         }
        },
        "yaxis": {
         "title": {
          "text": "Y Axis"
         }
        }
       }
      }
     },
     "metadata": {},
     "output_type": "display_data"
    }
   ],
   "source": [
    "signal_Bz= OneMHz100s[1]['dataset']['sig_n']\n",
    "background_Bz= OneMHz100s[1]['dataset']['sig_p']\n",
    "tau = OneMHz100s[1]['dataset']['tau']\n",
    "\n",
    "signal_Bzno= OneMHz100sno[1]['dataset']['sig_n']\n",
    "background_Bzno= OneMHz100sno[1]['dataset']['sig_p']\n",
    "\n",
    "# Replace 'x_column' and 'y_column' with actual column names\n",
    "fig = go.Figure()\n",
    "\n",
    "fig.add_trace(go.Scatter(\n",
    "    x=tau,\n",
    "    y=signal_Bz-background_Bz,\n",
    "    mode='lines+markers',\n",
    "    name='Bz with 0.718 MHz 1 Vpp'\n",
    "))\n",
    "\n",
    "\n",
    "fig.add_trace(go.Scatter(\n",
    "    x=tau,\n",
    "    y=signal_Bzno-background_Bzno,\n",
    "    mode='lines+markers',\n",
    "    name='Bz with 0.718 MHz 1 Vpp'\n",
    "))\n",
    "\n",
    "fig.update_layout(\n",
    "    title='.718 MHz 1Vpp 5 minutes averaging ',\n",
    "    xaxis_title='X Axis',\n",
    "    yaxis_title='Y Axis',\n",
    "    template='plotly_white'\n",
    ")\n",
    "\n",
    "fig.show()\n"
   ]
  },
  {
   "cell_type": "code",
   "execution_count": 14,
   "id": "0e4f7643",
   "metadata": {},
   "outputs": [
    {
     "data": {
      "application/vnd.plotly.v1+json": {
       "config": {
        "plotlyServerURL": "https://plot.ly"
       },
       "data": [
        {
         "mode": "lines+markers",
         "name": "Bz with 0.718 MHz 1 Vpp",
         "type": "scatter",
         "x": {
          "bdata": "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",
          "dtype": "f8"
         },
         "y": {
          "bdata": "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",
          "dtype": "f8"
         }
        }
       ],
       "layout": {
        "template": {
         "data": {
          "bar": [
           {
            "error_x": {
             "color": "#2a3f5f"
            },
            "error_y": {
             "color": "#2a3f5f"
            },
            "marker": {
             "line": {
              "color": "white",
              "width": 0.5
             },
             "pattern": {
              "fillmode": "overlay",
              "size": 10,
              "solidity": 0.2
             }
            },
            "type": "bar"
           }
          ],
          "barpolar": [
           {
            "marker": {
             "line": {
              "color": "white",
              "width": 0.5
             },
             "pattern": {
              "fillmode": "overlay",
              "size": 10,
              "solidity": 0.2
             }
            },
            "type": "barpolar"
           }
          ],
          "carpet": [
           {
            "aaxis": {
             "endlinecolor": "#2a3f5f",
             "gridcolor": "#C8D4E3",
             "linecolor": "#C8D4E3",
             "minorgridcolor": "#C8D4E3",
             "startlinecolor": "#2a3f5f"
            },
            "baxis": {
             "endlinecolor": "#2a3f5f",
             "gridcolor": "#C8D4E3",
             "linecolor": "#C8D4E3",
             "minorgridcolor": "#C8D4E3",
             "startlinecolor": "#2a3f5f"
            },
            "type": "carpet"
           }
          ],
          "choropleth": [
           {
            "colorbar": {
             "outlinewidth": 0,
             "ticks": ""
            },
            "type": "choropleth"
           }
          ],
          "contour": [
           {
            "colorbar": {
             "outlinewidth": 0,
             "ticks": ""
            },
            "colorscale": [
             [
              0,
              "#0d0887"
             ],
             [
              0.1111111111111111,
              "#46039f"
             ],
             [
              0.2222222222222222,
              "#7201a8"
             ],
             [
              0.3333333333333333,
              "#9c179e"
             ],
             [
              0.4444444444444444,
              "#bd3786"
             ],
             [
              0.5555555555555556,
              "#d8576b"
             ],
             [
              0.6666666666666666,
              "#ed7953"
             ],
             [
              0.7777777777777778,
              "#fb9f3a"
             ],
             [
              0.8888888888888888,
              "#fdca26"
             ],
             [
              1,
              "#f0f921"
             ]
            ],
            "type": "contour"
           }
          ],
          "contourcarpet": [
           {
            "colorbar": {
             "outlinewidth": 0,
             "ticks": ""
            },
            "type": "contourcarpet"
           }
          ],
          "heatmap": [
           {
            "colorbar": {
             "outlinewidth": 0,
             "ticks": ""
            },
            "colorscale": [
             [
              0,
              "#0d0887"
             ],
             [
              0.1111111111111111,
              "#46039f"
             ],
             [
              0.2222222222222222,
              "#7201a8"
             ],
             [
              0.3333333333333333,
              "#9c179e"
             ],
             [
              0.4444444444444444,
              "#bd3786"
             ],
             [
              0.5555555555555556,
              "#d8576b"
             ],
             [
              0.6666666666666666,
              "#ed7953"
             ],
             [
              0.7777777777777778,
              "#fb9f3a"
             ],
             [
              0.8888888888888888,
              "#fdca26"
             ],
             [
              1,
              "#f0f921"
             ]
            ],
            "type": "heatmap"
           }
          ],
          "histogram": [
           {
            "marker": {
             "pattern": {
              "fillmode": "overlay",
              "size": 10,
              "solidity": 0.2
             }
            },
            "type": "histogram"
           }
          ],
          "histogram2d": [
           {
            "colorbar": {
             "outlinewidth": 0,
             "ticks": ""
            },
            "colorscale": [
             [
              0,
              "#0d0887"
             ],
             [
              0.1111111111111111,
              "#46039f"
             ],
             [
              0.2222222222222222,
              "#7201a8"
             ],
             [
              0.3333333333333333,
              "#9c179e"
             ],
             [
              0.4444444444444444,
              "#bd3786"
             ],
             [
              0.5555555555555556,
              "#d8576b"
             ],
             [
              0.6666666666666666,
              "#ed7953"
             ],
             [
              0.7777777777777778,
              "#fb9f3a"
             ],
             [
              0.8888888888888888,
              "#fdca26"
             ],
             [
              1,
              "#f0f921"
             ]
            ],
            "type": "histogram2d"
           }
          ],
          "histogram2dcontour": [
           {
            "colorbar": {
             "outlinewidth": 0,
             "ticks": ""
            },
            "colorscale": [
             [
              0,
              "#0d0887"
             ],
             [
              0.1111111111111111,
              "#46039f"
             ],
             [
              0.2222222222222222,
              "#7201a8"
             ],
             [
              0.3333333333333333,
              "#9c179e"
             ],
             [
              0.4444444444444444,
              "#bd3786"
             ],
             [
              0.5555555555555556,
              "#d8576b"
             ],
             [
              0.6666666666666666,
              "#ed7953"
             ],
             [
              0.7777777777777778,
              "#fb9f3a"
             ],
             [
              0.8888888888888888,
              "#fdca26"
             ],
             [
              1,
              "#f0f921"
             ]
            ],
            "type": "histogram2dcontour"
           }
          ],
          "mesh3d": [
           {
            "colorbar": {
             "outlinewidth": 0,
             "ticks": ""
            },
            "type": "mesh3d"
           }
          ],
          "parcoords": [
           {
            "line": {
             "colorbar": {
              "outlinewidth": 0,
              "ticks": ""
             }
            },
            "type": "parcoords"
           }
          ],
          "pie": [
           {
            "automargin": true,
            "type": "pie"
           }
          ],
          "scatter": [
           {
            "fillpattern": {
             "fillmode": "overlay",
             "size": 10,
             "solidity": 0.2
            },
            "type": "scatter"
           }
          ],
          "scatter3d": [
           {
            "line": {
             "colorbar": {
              "outlinewidth": 0,
              "ticks": ""
             }
            },
            "marker": {
             "colorbar": {
              "outlinewidth": 0,
              "ticks": ""
             }
            },
            "type": "scatter3d"
           }
          ],
          "scattercarpet": [
           {
            "marker": {
             "colorbar": {
              "outlinewidth": 0,
              "ticks": ""
             }
            },
            "type": "scattercarpet"
           }
          ],
          "scattergeo": [
           {
            "marker": {
             "colorbar": {
              "outlinewidth": 0,
              "ticks": ""
             }
            },
            "type": "scattergeo"
           }
          ],
          "scattergl": [
           {
            "marker": {
             "colorbar": {
              "outlinewidth": 0,
              "ticks": ""
             }
            },
            "type": "scattergl"
           }
          ],
          "scattermap": [
           {
            "marker": {
             "colorbar": {
              "outlinewidth": 0,
              "ticks": ""
             }
            },
            "type": "scattermap"
           }
          ],
          "scattermapbox": [
           {
            "marker": {
             "colorbar": {
              "outlinewidth": 0,
              "ticks": ""
             }
            },
            "type": "scattermapbox"
           }
          ],
          "scatterpolar": [
           {
            "marker": {
             "colorbar": {
              "outlinewidth": 0,
              "ticks": ""
             }
            },
            "type": "scatterpolar"
           }
          ],
          "scatterpolargl": [
           {
            "marker": {
             "colorbar": {
              "outlinewidth": 0,
              "ticks": ""
             }
            },
            "type": "scatterpolargl"
           }
          ],
          "scatterternary": [
           {
            "marker": {
             "colorbar": {
              "outlinewidth": 0,
              "ticks": ""
             }
            },
            "type": "scatterternary"
           }
          ],
          "surface": [
           {
            "colorbar": {
             "outlinewidth": 0,
             "ticks": ""
            },
            "colorscale": [
             [
              0,
              "#0d0887"
             ],
             [
              0.1111111111111111,
              "#46039f"
             ],
             [
              0.2222222222222222,
              "#7201a8"
             ],
             [
              0.3333333333333333,
              "#9c179e"
             ],
             [
              0.4444444444444444,
              "#bd3786"
             ],
             [
              0.5555555555555556,
              "#d8576b"
             ],
             [
              0.6666666666666666,
              "#ed7953"
             ],
             [
              0.7777777777777778,
              "#fb9f3a"
             ],
             [
              0.8888888888888888,
              "#fdca26"
             ],
             [
              1,
              "#f0f921"
             ]
            ],
            "type": "surface"
           }
          ],
          "table": [
           {
            "cells": {
             "fill": {
              "color": "#EBF0F8"
             },
             "line": {
              "color": "white"
             }
            },
            "header": {
             "fill": {
              "color": "#C8D4E3"
             },
             "line": {
              "color": "white"
             }
            },
            "type": "table"
           }
          ]
         },
         "layout": {
          "annotationdefaults": {
           "arrowcolor": "#2a3f5f",
           "arrowhead": 0,
           "arrowwidth": 1
          },
          "autotypenumbers": "strict",
          "coloraxis": {
           "colorbar": {
            "outlinewidth": 0,
            "ticks": ""
           }
          },
          "colorscale": {
           "diverging": [
            [
             0,
             "#8e0152"
            ],
            [
             0.1,
             "#c51b7d"
            ],
            [
             0.2,
             "#de77ae"
            ],
            [
             0.3,
             "#f1b6da"
            ],
            [
             0.4,
             "#fde0ef"
            ],
            [
             0.5,
             "#f7f7f7"
            ],
            [
             0.6,
             "#e6f5d0"
            ],
            [
             0.7,
             "#b8e186"
            ],
            [
             0.8,
             "#7fbc41"
            ],
            [
             0.9,
             "#4d9221"
            ],
            [
             1,
             "#276419"
            ]
           ],
           "sequential": [
            [
             0,
             "#0d0887"
            ],
            [
             0.1111111111111111,
             "#46039f"
            ],
            [
             0.2222222222222222,
             "#7201a8"
            ],
            [
             0.3333333333333333,
             "#9c179e"
            ],
            [
             0.4444444444444444,
             "#bd3786"
            ],
            [
             0.5555555555555556,
             "#d8576b"
            ],
            [
             0.6666666666666666,
             "#ed7953"
            ],
            [
             0.7777777777777778,
             "#fb9f3a"
            ],
            [
             0.8888888888888888,
             "#fdca26"
            ],
            [
             1,
             "#f0f921"
            ]
           ],
           "sequentialminus": [
            [
             0,
             "#0d0887"
            ],
            [
             0.1111111111111111,
             "#46039f"
            ],
            [
             0.2222222222222222,
             "#7201a8"
            ],
            [
             0.3333333333333333,
             "#9c179e"
            ],
            [
             0.4444444444444444,
             "#bd3786"
            ],
            [
             0.5555555555555556,
             "#d8576b"
            ],
            [
             0.6666666666666666,
             "#ed7953"
            ],
            [
             0.7777777777777778,
             "#fb9f3a"
            ],
            [
             0.8888888888888888,
             "#fdca26"
            ],
            [
             1,
             "#f0f921"
            ]
           ]
          },
          "colorway": [
           "#636efa",
           "#EF553B",
           "#00cc96",
           "#ab63fa",
           "#FFA15A",
           "#19d3f3",
           "#FF6692",
           "#B6E880",
           "#FF97FF",
           "#FECB52"
          ],
          "font": {
           "color": "#2a3f5f"
          },
          "geo": {
           "bgcolor": "white",
           "lakecolor": "white",
           "landcolor": "white",
           "showlakes": true,
           "showland": true,
           "subunitcolor": "#C8D4E3"
          },
          "hoverlabel": {
           "align": "left"
          },
          "hovermode": "closest",
          "mapbox": {
           "style": "light"
          },
          "paper_bgcolor": "white",
          "plot_bgcolor": "white",
          "polar": {
           "angularaxis": {
            "gridcolor": "#EBF0F8",
            "linecolor": "#EBF0F8",
            "ticks": ""
           },
           "bgcolor": "white",
           "radialaxis": {
            "gridcolor": "#EBF0F8",
            "linecolor": "#EBF0F8",
            "ticks": ""
           }
          },
          "scene": {
           "xaxis": {
            "backgroundcolor": "white",
            "gridcolor": "#DFE8F3",
            "gridwidth": 2,
            "linecolor": "#EBF0F8",
            "showbackground": true,
            "ticks": "",
            "zerolinecolor": "#EBF0F8"
           },
           "yaxis": {
            "backgroundcolor": "white",
            "gridcolor": "#DFE8F3",
            "gridwidth": 2,
            "linecolor": "#EBF0F8",
            "showbackground": true,
            "ticks": "",
            "zerolinecolor": "#EBF0F8"
           },
           "zaxis": {
            "backgroundcolor": "white",
            "gridcolor": "#DFE8F3",
            "gridwidth": 2,
            "linecolor": "#EBF0F8",
            "showbackground": true,
            "ticks": "",
            "zerolinecolor": "#EBF0F8"
           }
          },
          "shapedefaults": {
           "line": {
            "color": "#2a3f5f"
           }
          },
          "ternary": {
           "aaxis": {
            "gridcolor": "#DFE8F3",
            "linecolor": "#A2B1C6",
            "ticks": ""
           },
           "baxis": {
            "gridcolor": "#DFE8F3",
            "linecolor": "#A2B1C6",
            "ticks": ""
           },
           "bgcolor": "white",
           "caxis": {
            "gridcolor": "#DFE8F3",
            "linecolor": "#A2B1C6",
            "ticks": ""
           }
          },
          "title": {
           "x": 0.05
          },
          "xaxis": {
           "automargin": true,
           "gridcolor": "#EBF0F8",
           "linecolor": "#EBF0F8",
           "ticks": "",
           "title": {
            "standoff": 15
           },
           "zerolinecolor": "#EBF0F8",
           "zerolinewidth": 2
          },
          "yaxis": {
           "automargin": true,
           "gridcolor": "#EBF0F8",
           "linecolor": "#EBF0F8",
           "ticks": "",
           "title": {
            "standoff": 15
           },
           "zerolinecolor": "#EBF0F8",
           "zerolinewidth": 2
          }
         }
        },
        "title": {
         "text": ".718 MHz 1Vpp 5 minutes averaging "
        },
        "xaxis": {
         "title": {
          "text": "X Axis"
         }
        },
        "yaxis": {
         "title": {
          "text": "Y Axis"
         }
        }
       }
      }
     },
     "metadata": {},
     "output_type": "display_data"
    }
   ],
   "source": [
    "# Replace 'x_column' and 'y_column' with actual column names\n",
    "fig = go.Figure()\n",
    "\n",
    "fig.add_trace(go.Scatter(\n",
    "    x=tau,\n",
    "    y=(signal_Bzno-background_Bzno)-(signal_Bz-background_Bz),\n",
    "    mode='lines+markers',\n",
    "    name='Bz with 0.718 MHz 1 Vpp'\n",
    "))\n",
    "\n",
    "\n",
    "\n",
    "fig.update_layout(\n",
    "    title='.718 MHz 1Vpp 5 minutes averaging ',\n",
    "    xaxis_title='X Axis',\n",
    "    yaxis_title='Y Axis',\n",
    "    template='plotly_white'\n",
    ")\n",
    "\n",
    "fig.show()\n"
   ]
  },
  {
   "cell_type": "code",
   "execution_count": 15,
   "id": "47de06fc",
   "metadata": {},
   "outputs": [
    {
     "name": "stdout",
     "output_type": "stream",
     "text": [
      "Data type: <class 'tuple'>\n"
     ]
    }
   ],
   "source": [
    "OneMHz100s2Vpp=load(\"C:/Users/HFNV/diamondgui/temp/backup/250702h13m55s36_HahnEcho-default.pkl\")\n",
    "\n"
   ]
  },
  {
   "cell_type": "code",
   "execution_count": 16,
   "id": "1efb8632",
   "metadata": {},
   "outputs": [
    {
     "data": {
      "application/vnd.plotly.v1+json": {
       "config": {
        "plotlyServerURL": "https://plot.ly"
       },
       "data": [
        {
         "mode": "lines+markers",
         "name": "Bz with 0.718 MHz 1 Vpp",
         "type": "scatter",
         "x": {
          "bdata": "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",
          "dtype": "f8"
         },
         "y": {
          "bdata": "AFqyj4DVMr/A6t41VdI3v4DiY/00XD+/4DdHtnEjQb/Aq4CHqoFAv0CWTBw9nzy/gIcTNigjOL+A/u2z52E4v0AT4qRKzzm/AC/skF8ZO7/AX+B0u38+vwCSAq1LQjq/AB0PBy9LOr9A6yCqbQhAvwA8qsslxD+/wACwcAP/Qb/AqPeDXxQ8v0BXXs9PIT2/ICXm2EsAQ78ARbP8aINDv0CdASKLAT6/wC/ohW3LQb8A6UN3+NRCv4CMmnx9IEK/QLKFsTA8Qr+Ab/otc7Q/v0CpC7fkED+/AEEbOdagQb9gMYyrI5JCvwDvwEKX7EG/QOO0cuKBQ79gD7rXsBZAv0AQpL2+20G/4ALc9KBoQL9gvdMM1MhBv4A+/otWmEG/ADq79HQsQb8AHxHqZmBBv2DbeUkIOEO/oDpKVePuQ7+AidCW3ORCvyDbD+1KtEG/IHqTvKtmQL8AZS4CQC1Bv8AAjvgiKUS/ANGBAMfGQr8APx8xJyw+v0AUpeCHsT+/gE3GPZ6/Pb/AdTd/B/c/v4CjDx4vbja/gEuziTrINr+AJ3S6mF08v4BxSvqHZjq/APV1Hm5AO78AwOux2jI7vwBs5QGcUDy/gODff8i4O78AtYRFsJk2v4APlf12Jju/wLgSe+tzOL8AkyI+v/k2vwDl9GpSAju/wBnrAzrGNL+AOZFTD1g7vwAgPB2PPDi/wHQXrUblNr8Ap+L/ZCo2v4CDNYjGszy/ACsNe7LQOr+AAcs6S5Izv4DyNmTSqjm/wF72jq0aNb8AV+ZEDbA2v4AekI0GfTW/gLSxNc7FPb+ABTtXhqE1v4CejgZRLjy/wND2/jjPN7+Aye/apFM1v0B/Ww/OoDq/AMekV1b6O78A63FgaOg7v0DiZzKe+Du/AEdSGqYrMr8A4Z9ZrOA6vwCOGpsJuTq/gN8dQRLnO7+A25xTq5U8v6BD+JXCgkC/ALUbvAL4O79A72Xnbhg4v4C3//D+Kjq/gMiupGAoO78AaP3vWUc6v8AWiK04S0C/AC1hfDA/Qb9AfYeE//A6v4CNpJ8QoD6/gKsyCZKNPL/AYkLONeo8vwDrFAsyEz+/INoqpPEEQL8ANxdRWbo+v6A7sqC85UC/QFcRTr59Qb+A8RMwuF47v0CFMjkOPEC/wIjmsM5/P7/A0eLeVNU+vwBsBRWqPDu/QCPvLAQnPb/ANy/jvoE9v6AvcCWiSEG/wJkhzglOOr+AierOYXA/v8Dwl0aVokG/AKDfEDpLOr9AjMn75IRBv2CxXkitE0K/APBINromPb9AuCSK66A7v8D/CaUtNDu/gH/a3ORLOb9Ay7Gultw8v2Bpl0Zrq0C/AL1j7GMwPr/Aqoidjt08v0B3ZEF5i0C/gPel13RGOr/AV5R6tfM1v0C2V1WSrTu/wJuvRJJCP78AMLbOI5s5v0BGJ+d9Lzy/AM8JjVpBOr/AtPx7BC47v4As9/X7bDa/AIxKmZJCOr8A6rxphj9Av4AR8f0CJTu/QAndfvkdN7+ALwgEQCA8vwBTbcF41z6/AMH72W3BNL9AQYb93l06v4D+N/2W2UC/wFo1UbPCPL8Ai/GPm7U8vwDwJcFSgD2/QOmsAKY2PL8gCpG5oRBAv4D7TQTokTe/AHKE2lZVPr/AzL1gc7Q9v6BmKks8PEG/QFXNIOVgPb+A+bPuI6hAv0BCHy3ygjq/gMqXdhERQb9AxyeETbA+v8CduJQVAEC/ADni35LpP78AT9ov1qE7vwCv4BCO+Ty/QIDw3wD7P78AibWLR7c7v0CKu3lxWjm/QJGcxkQVQL+Adt0JkCc8vwAAcV5E4z2/QKrhk+THQ78gzEmg1dZAv2C6qgFmpUC/QDj7xqLHP78gY3GhiwtCvyAJCDS8DkC/QOLUW3nfQL8AbTFFWQlBv0AwvaYzjDu/oA2zwojUQL+AaPp2KuE+v4CX50VeBUK/gMEOezAWQL9gS1Nn5g9CvwDju98t6ju/QOMDWUZPPr9AaOIOPChBv0B3W29b2UC/ACsYHWdVPr8ARVY8boU+v0B6Spr6TUC/4FSQc/huQL/AbUfdsC8+vyASk5Rvc0G/ACOBcWaYQL8gdc2NDnxAv6CANSE31EO/gHuOnVx8Pb8AwAH2Q3w+v+C7ZZKD1EC/QOjtZJb5QL9AE6aJIKVBv4CUnifi1UC/QPLJOvcjP78AQYLIdUE+v4BQ4xSVlkC/QLs4j8SFPL8ABEB21cs7v4DO3B7XyTy/ALOzsXbbOb+A8pkpzdc4vwCceMYcTju/4DFv+m5AQL9A01ORh9U2v2DGk/HuoEG/wF5VtHrCQr9AiB+UFp46v0ALJOS0hjq/wOuaBEdMQL8ANo+HrU45v4BK869WYDm/gIHfjDokQL8AnBWtM8Q9v0A704bakz6/AAo/BiAgPb+AXciOZ9s8v0C9kcIyIUC/wCZJRiOHQL+Ao9EybpE8v0DYEO4Gbj+/gI3y87FlPr+AB/577dc9vwDHIr0hTDm/4L7L9u9MQ7+ATXjp/Pk8vwDxBW33+UC/AIpuY6Q/Qb9gOJcEIepAv4C9OTQoUD+/4KdQuwL5Qr9gQbyoRDBBv6BHov2QKUS/ABbROq5sQL/gL+EYIgNCv+AjrwboDkS/AB7ZGnzePb9A8j2npiQ+v4CqiQXatj+/4OuSL7CKQb/ABgLyo05Bv4B5V+LONkC/AI0lE0dPOr9AqsJT5h07v8D1c3hO/Dq/QE99BBe7PL+AsOCO86RAv8BOZ5Y2wzu/IInlBzYMQL+AJUwAoMc8v4B8K22dBju/gKfwLepXPb+ANUSsOy81vwD/aQjP5j2/QD6eP4vxO79AmU7onmg8v+CQ1nycdUC/gOWKOAytO7+AEmJFcfxBv4D/kNwWeEC/AAc+zIBePr9ArOPh4KU4vwA14f0Wbjq/AOJ8o/ffO7/Anouk9/M5v4ASJZiE6jW/gEwTa0GGP7/Acyhr0WQ8v0Cz5o++Kj2/QBzWZDSHOL/A925Z/9E8vwBYNRSbUTm/gGO5hWh5Pr/A+PFEqQ1Av4BMOhUSyTu/AERl6RQ4Pr+A5WIm8FBCv4DXE/xxi0C/wAEmwOq0Ob/Ay6vTDfw6v6Cz7/YXtEC/AFuTo3DoO7+ADPxP/rU9v8DyBYCYPDu/gE+2fJoQO7+AyHtbVFA9v8Bv0R7QBzm/QGT89gfgOL9A5jaeHX45vwAOEn2RUze/gIWe+p0pOL8AFZiYs6g4vwAhfSlcOT+/gB6WJ0LDQL9AtbuZrt82vwArmZCdxDu/AKwQuyjmPL+AVGKdKR4/v4CSyCBr8Dy/AMzeRpHCPr8A9p1aAUs5v4Cp1y8ETj2/gF79+/gCOb+ALjF+p9U9vwDInhEJETy/ABR+DEBAPL+A4W2iYhA8v4DM7dxhCT+/gLcumt2dOL8ALZUtiBA4v4DWAW8MUzS/QKdO62sGPL9Ac40AY8Q9v4BGTBWmXDu/AMVMtqoGOb8Ab4xIXvcxv4AnkC15JDi/APP6ch8vO78ApDyMsmU2v8DbHLOEyDy/gHIf2gAtOb+ADU0wcCQ5v8Aax+U57D2/wJxdejoGN78Aw3z1gCo+vwA8gVG+zjW/gMvrjmULOr8AQy/qwAg9vwBXwpHRnj6/gOt7xEjCPL8Aw9Jyp44/vwBMlQV2tDi/wKjy5qp+QL9Az2x8zBw7v+DwtR5Is0G/AJc6N7TgOb8AtJdoDUM4vwAyy+dZ/Dm/gCSwLeZNP7+gSAAPATVAvwDniSSvcD2/",
          "dtype": "f8"
         }
        },
        {
         "mode": "lines+markers",
         "name": "No Bz",
         "type": "scatter",
         "x": {
          "bdata": "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",
          "dtype": "f8"
         },
         "y": {
          "bdata": "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",
          "dtype": "f8"
         }
        }
       ],
       "layout": {
        "template": {
         "data": {
          "bar": [
           {
            "error_x": {
             "color": "#2a3f5f"
            },
            "error_y": {
             "color": "#2a3f5f"
            },
            "marker": {
             "line": {
              "color": "white",
              "width": 0.5
             },
             "pattern": {
              "fillmode": "overlay",
              "size": 10,
              "solidity": 0.2
             }
            },
            "type": "bar"
           }
          ],
          "barpolar": [
           {
            "marker": {
             "line": {
              "color": "white",
              "width": 0.5
             },
             "pattern": {
              "fillmode": "overlay",
              "size": 10,
              "solidity": 0.2
             }
            },
            "type": "barpolar"
           }
          ],
          "carpet": [
           {
            "aaxis": {
             "endlinecolor": "#2a3f5f",
             "gridcolor": "#C8D4E3",
             "linecolor": "#C8D4E3",
             "minorgridcolor": "#C8D4E3",
             "startlinecolor": "#2a3f5f"
            },
            "baxis": {
             "endlinecolor": "#2a3f5f",
             "gridcolor": "#C8D4E3",
             "linecolor": "#C8D4E3",
             "minorgridcolor": "#C8D4E3",
             "startlinecolor": "#2a3f5f"
            },
            "type": "carpet"
           }
          ],
          "choropleth": [
           {
            "colorbar": {
             "outlinewidth": 0,
             "ticks": ""
            },
            "type": "choropleth"
           }
          ],
          "contour": [
           {
            "colorbar": {
             "outlinewidth": 0,
             "ticks": ""
            },
            "colorscale": [
             [
              0,
              "#0d0887"
             ],
             [
              0.1111111111111111,
              "#46039f"
             ],
             [
              0.2222222222222222,
              "#7201a8"
             ],
             [
              0.3333333333333333,
              "#9c179e"
             ],
             [
              0.4444444444444444,
              "#bd3786"
             ],
             [
              0.5555555555555556,
              "#d8576b"
             ],
             [
              0.6666666666666666,
              "#ed7953"
             ],
             [
              0.7777777777777778,
              "#fb9f3a"
             ],
             [
              0.8888888888888888,
              "#fdca26"
             ],
             [
              1,
              "#f0f921"
             ]
            ],
            "type": "contour"
           }
          ],
          "contourcarpet": [
           {
            "colorbar": {
             "outlinewidth": 0,
             "ticks": ""
            },
            "type": "contourcarpet"
           }
          ],
          "heatmap": [
           {
            "colorbar": {
             "outlinewidth": 0,
             "ticks": ""
            },
            "colorscale": [
             [
              0,
              "#0d0887"
             ],
             [
              0.1111111111111111,
              "#46039f"
             ],
             [
              0.2222222222222222,
              "#7201a8"
             ],
             [
              0.3333333333333333,
              "#9c179e"
             ],
             [
              0.4444444444444444,
              "#bd3786"
             ],
             [
              0.5555555555555556,
              "#d8576b"
             ],
             [
              0.6666666666666666,
              "#ed7953"
             ],
             [
              0.7777777777777778,
              "#fb9f3a"
             ],
             [
              0.8888888888888888,
              "#fdca26"
             ],
             [
              1,
              "#f0f921"
             ]
            ],
            "type": "heatmap"
           }
          ],
          "histogram": [
           {
            "marker": {
             "pattern": {
              "fillmode": "overlay",
              "size": 10,
              "solidity": 0.2
             }
            },
            "type": "histogram"
           }
          ],
          "histogram2d": [
           {
            "colorbar": {
             "outlinewidth": 0,
             "ticks": ""
            },
            "colorscale": [
             [
              0,
              "#0d0887"
             ],
             [
              0.1111111111111111,
              "#46039f"
             ],
             [
              0.2222222222222222,
              "#7201a8"
             ],
             [
              0.3333333333333333,
              "#9c179e"
             ],
             [
              0.4444444444444444,
              "#bd3786"
             ],
             [
              0.5555555555555556,
              "#d8576b"
             ],
             [
              0.6666666666666666,
              "#ed7953"
             ],
             [
              0.7777777777777778,
              "#fb9f3a"
             ],
             [
              0.8888888888888888,
              "#fdca26"
             ],
             [
              1,
              "#f0f921"
             ]
            ],
            "type": "histogram2d"
           }
          ],
          "histogram2dcontour": [
           {
            "colorbar": {
             "outlinewidth": 0,
             "ticks": ""
            },
            "colorscale": [
             [
              0,
              "#0d0887"
             ],
             [
              0.1111111111111111,
              "#46039f"
             ],
             [
              0.2222222222222222,
              "#7201a8"
             ],
             [
              0.3333333333333333,
              "#9c179e"
             ],
             [
              0.4444444444444444,
              "#bd3786"
             ],
             [
              0.5555555555555556,
              "#d8576b"
             ],
             [
              0.6666666666666666,
              "#ed7953"
             ],
             [
              0.7777777777777778,
              "#fb9f3a"
             ],
             [
              0.8888888888888888,
              "#fdca26"
             ],
             [
              1,
              "#f0f921"
             ]
            ],
            "type": "histogram2dcontour"
           }
          ],
          "mesh3d": [
           {
            "colorbar": {
             "outlinewidth": 0,
             "ticks": ""
            },
            "type": "mesh3d"
           }
          ],
          "parcoords": [
           {
            "line": {
             "colorbar": {
              "outlinewidth": 0,
              "ticks": ""
             }
            },
            "type": "parcoords"
           }
          ],
          "pie": [
           {
            "automargin": true,
            "type": "pie"
           }
          ],
          "scatter": [
           {
            "fillpattern": {
             "fillmode": "overlay",
             "size": 10,
             "solidity": 0.2
            },
            "type": "scatter"
           }
          ],
          "scatter3d": [
           {
            "line": {
             "colorbar": {
              "outlinewidth": 0,
              "ticks": ""
             }
            },
            "marker": {
             "colorbar": {
              "outlinewidth": 0,
              "ticks": ""
             }
            },
            "type": "scatter3d"
           }
          ],
          "scattercarpet": [
           {
            "marker": {
             "colorbar": {
              "outlinewidth": 0,
              "ticks": ""
             }
            },
            "type": "scattercarpet"
           }
          ],
          "scattergeo": [
           {
            "marker": {
             "colorbar": {
              "outlinewidth": 0,
              "ticks": ""
             }
            },
            "type": "scattergeo"
           }
          ],
          "scattergl": [
           {
            "marker": {
             "colorbar": {
              "outlinewidth": 0,
              "ticks": ""
             }
            },
            "type": "scattergl"
           }
          ],
          "scattermap": [
           {
            "marker": {
             "colorbar": {
              "outlinewidth": 0,
              "ticks": ""
             }
            },
            "type": "scattermap"
           }
          ],
          "scattermapbox": [
           {
            "marker": {
             "colorbar": {
              "outlinewidth": 0,
              "ticks": ""
             }
            },
            "type": "scattermapbox"
           }
          ],
          "scatterpolar": [
           {
            "marker": {
             "colorbar": {
              "outlinewidth": 0,
              "ticks": ""
             }
            },
            "type": "scatterpolar"
           }
          ],
          "scatterpolargl": [
           {
            "marker": {
             "colorbar": {
              "outlinewidth": 0,
              "ticks": ""
             }
            },
            "type": "scatterpolargl"
           }
          ],
          "scatterternary": [
           {
            "marker": {
             "colorbar": {
              "outlinewidth": 0,
              "ticks": ""
             }
            },
            "type": "scatterternary"
           }
          ],
          "surface": [
           {
            "colorbar": {
             "outlinewidth": 0,
             "ticks": ""
            },
            "colorscale": [
             [
              0,
              "#0d0887"
             ],
             [
              0.1111111111111111,
              "#46039f"
             ],
             [
              0.2222222222222222,
              "#7201a8"
             ],
             [
              0.3333333333333333,
              "#9c179e"
             ],
             [
              0.4444444444444444,
              "#bd3786"
             ],
             [
              0.5555555555555556,
              "#d8576b"
             ],
             [
              0.6666666666666666,
              "#ed7953"
             ],
             [
              0.7777777777777778,
              "#fb9f3a"
             ],
             [
              0.8888888888888888,
              "#fdca26"
             ],
             [
              1,
              "#f0f921"
             ]
            ],
            "type": "surface"
           }
          ],
          "table": [
           {
            "cells": {
             "fill": {
              "color": "#EBF0F8"
             },
             "line": {
              "color": "white"
             }
            },
            "header": {
             "fill": {
              "color": "#C8D4E3"
             },
             "line": {
              "color": "white"
             }
            },
            "type": "table"
           }
          ]
         },
         "layout": {
          "annotationdefaults": {
           "arrowcolor": "#2a3f5f",
           "arrowhead": 0,
           "arrowwidth": 1
          },
          "autotypenumbers": "strict",
          "coloraxis": {
           "colorbar": {
            "outlinewidth": 0,
            "ticks": ""
           }
          },
          "colorscale": {
           "diverging": [
            [
             0,
             "#8e0152"
            ],
            [
             0.1,
             "#c51b7d"
            ],
            [
             0.2,
             "#de77ae"
            ],
            [
             0.3,
             "#f1b6da"
            ],
            [
             0.4,
             "#fde0ef"
            ],
            [
             0.5,
             "#f7f7f7"
            ],
            [
             0.6,
             "#e6f5d0"
            ],
            [
             0.7,
             "#b8e186"
            ],
            [
             0.8,
             "#7fbc41"
            ],
            [
             0.9,
             "#4d9221"
            ],
            [
             1,
             "#276419"
            ]
           ],
           "sequential": [
            [
             0,
             "#0d0887"
            ],
            [
             0.1111111111111111,
             "#46039f"
            ],
            [
             0.2222222222222222,
             "#7201a8"
            ],
            [
             0.3333333333333333,
             "#9c179e"
            ],
            [
             0.4444444444444444,
             "#bd3786"
            ],
            [
             0.5555555555555556,
             "#d8576b"
            ],
            [
             0.6666666666666666,
             "#ed7953"
            ],
            [
             0.7777777777777778,
             "#fb9f3a"
            ],
            [
             0.8888888888888888,
             "#fdca26"
            ],
            [
             1,
             "#f0f921"
            ]
           ],
           "sequentialminus": [
            [
             0,
             "#0d0887"
            ],
            [
             0.1111111111111111,
             "#46039f"
            ],
            [
             0.2222222222222222,
             "#7201a8"
            ],
            [
             0.3333333333333333,
             "#9c179e"
            ],
            [
             0.4444444444444444,
             "#bd3786"
            ],
            [
             0.5555555555555556,
             "#d8576b"
            ],
            [
             0.6666666666666666,
             "#ed7953"
            ],
            [
             0.7777777777777778,
             "#fb9f3a"
            ],
            [
             0.8888888888888888,
             "#fdca26"
            ],
            [
             1,
             "#f0f921"
            ]
           ]
          },
          "colorway": [
           "#636efa",
           "#EF553B",
           "#00cc96",
           "#ab63fa",
           "#FFA15A",
           "#19d3f3",
           "#FF6692",
           "#B6E880",
           "#FF97FF",
           "#FECB52"
          ],
          "font": {
           "color": "#2a3f5f"
          },
          "geo": {
           "bgcolor": "white",
           "lakecolor": "white",
           "landcolor": "white",
           "showlakes": true,
           "showland": true,
           "subunitcolor": "#C8D4E3"
          },
          "hoverlabel": {
           "align": "left"
          },
          "hovermode": "closest",
          "mapbox": {
           "style": "light"
          },
          "paper_bgcolor": "white",
          "plot_bgcolor": "white",
          "polar": {
           "angularaxis": {
            "gridcolor": "#EBF0F8",
            "linecolor": "#EBF0F8",
            "ticks": ""
           },
           "bgcolor": "white",
           "radialaxis": {
            "gridcolor": "#EBF0F8",
            "linecolor": "#EBF0F8",
            "ticks": ""
           }
          },
          "scene": {
           "xaxis": {
            "backgroundcolor": "white",
            "gridcolor": "#DFE8F3",
            "gridwidth": 2,
            "linecolor": "#EBF0F8",
            "showbackground": true,
            "ticks": "",
            "zerolinecolor": "#EBF0F8"
           },
           "yaxis": {
            "backgroundcolor": "white",
            "gridcolor": "#DFE8F3",
            "gridwidth": 2,
            "linecolor": "#EBF0F8",
            "showbackground": true,
            "ticks": "",
            "zerolinecolor": "#EBF0F8"
           },
           "zaxis": {
            "backgroundcolor": "white",
            "gridcolor": "#DFE8F3",
            "gridwidth": 2,
            "linecolor": "#EBF0F8",
            "showbackground": true,
            "ticks": "",
            "zerolinecolor": "#EBF0F8"
           }
          },
          "shapedefaults": {
           "line": {
            "color": "#2a3f5f"
           }
          },
          "ternary": {
           "aaxis": {
            "gridcolor": "#DFE8F3",
            "linecolor": "#A2B1C6",
            "ticks": ""
           },
           "baxis": {
            "gridcolor": "#DFE8F3",
            "linecolor": "#A2B1C6",
            "ticks": ""
           },
           "bgcolor": "white",
           "caxis": {
            "gridcolor": "#DFE8F3",
            "linecolor": "#A2B1C6",
            "ticks": ""
           }
          },
          "title": {
           "x": 0.05
          },
          "xaxis": {
           "automargin": true,
           "gridcolor": "#EBF0F8",
           "linecolor": "#EBF0F8",
           "ticks": "",
           "title": {
            "standoff": 15
           },
           "zerolinecolor": "#EBF0F8",
           "zerolinewidth": 2
          },
          "yaxis": {
           "automargin": true,
           "gridcolor": "#EBF0F8",
           "linecolor": "#EBF0F8",
           "ticks": "",
           "title": {
            "standoff": 15
           },
           "zerolinecolor": "#EBF0F8",
           "zerolinewidth": 2
          }
         }
        },
        "title": {
         "text": "Averagig .718 MHz 1Vpp 5 minutes averaging "
        },
        "xaxis": {
         "title": {
          "text": "X Axis"
         }
        },
        "yaxis": {
         "title": {
          "text": "Y Axis"
         }
        }
       }
      }
     },
     "metadata": {},
     "output_type": "display_data"
    }
   ],
   "source": [
    "signal_Bz= OneMHz100s[1]['dataset']['sig_n']\n",
    "background_Bz= OneMHz100s[1]['dataset']['sig_p']\n",
    "tau = OneMHz100s[1]['dataset']['tau']\n",
    "\n",
    "signal_Bz2vpp= OneMHz100s2Vpp[1]['dataset']['sig_n']\n",
    "background_Bz2vpp= OneMHz100s2Vpp[1]['dataset']['sig_p']\n",
    "\n",
    "# Replace 'x_column' and 'y_column' with actual column names\n",
    "fig = go.Figure()\n",
    "\n",
    "fig.add_trace(go.Scatter(\n",
    "    x=tau,\n",
    "    y=(signal_Bz-background_Bz),\n",
    "    mode='lines+markers',\n",
    "    name='Bz with 0.718 MHz 1 Vpp'\n",
    "))\n",
    "\n",
    "fig.add_trace(go.Scatter(\n",
    "    x=tau,\n",
    "    y=(signal_Bz2vpp-background_Bz2vpp),\n",
    "    mode='lines+markers',\n",
    "    name='No Bz'\n",
    "))\n",
    "\n",
    "fig.update_layout(\n",
    "    title='Averagig .718 MHz 1Vpp 5 minutes averaging ',\n",
    "    xaxis_title='X Axis',\n",
    "    yaxis_title='Y Axis',\n",
    "    template='plotly_white'\n",
    ")\n",
    "\n",
    "fig.show()\n"
   ]
  },
  {
   "cell_type": "code",
   "execution_count": 18,
   "id": "81bad255",
   "metadata": {},
   "outputs": [],
   "source": [
    "# fig = go.Figure()\n",
    "\n",
    "# # fig.add_trace(go.Scatter(\n",
    "# #     x=tau,\n",
    "# #     y=(signal_Bz-background_Bz),\n",
    "# #     mode='lines+markers',\n",
    "# #     name='Bz with 0.718 MHz 1 Vpp'\n",
    "# # ))\n",
    "\n",
    "# fig.add_trace(go.Scatter(\n",
    "#     x=tau,\n",
    "#     y=(signal_Bz2vpp-background_Bz2vpp)-(signal_noBz-background_noBz),\n",
    "#     mode='lines+markers',\n",
    "#     name='No Bz'\n",
    "# ))\n",
    "\n",
    "# fig.update_layout(\n",
    "#     title='Averagig .718 MHz 1Vpp 5 minutes averaging ',\n",
    "#     xaxis_title='X Axis',\n",
    "#     yaxis_title='Y Axis',\n",
    "#     template='plotly_white'\n",
    "# )\n",
    "\n",
    "# fig.show()"
   ]
  },
  {
   "cell_type": "code",
   "execution_count": 19,
   "id": "01157ef5",
   "metadata": {},
   "outputs": [],
   "source": [
    "def read_and_plot(file_paths,file_names):\n",
    "    fig = go.Figure()\n",
    "    for i in range(len(file_paths)):\n",
    "        data=load(file_paths[i])\n",
    "        signal_Bz= data[1]['dataset']['sig_n']\n",
    "        background_Bz= data[1]['dataset']['sig_p']\n",
    "        tau = data[1]['dataset']['tau']\n",
    "\n",
    "        fig.add_trace(go.Scatter(\n",
    "            x=tau,\n",
    "            y=(signal_Bz-background_Bz),\n",
    "            mode='lines+markers',\n",
    "            name=file_names[i]\n",
    "        ))\n",
    "    \n",
    "    fig.update_layout(\n",
    "        title='Averagig .718 MHz 1Vpp 5 minutes averaging ',\n",
    "        xaxis_title='X Axis',\n",
    "        yaxis_title='Y Axis',\n",
    "        template='plotly_white'\n",
    "    )\n",
    "    fig.show()\n",
    "\n"
   ]
  },
  {
   "cell_type": "code",
   "execution_count": 20,
   "id": "2a0daf5b",
   "metadata": {},
   "outputs": [
    {
     "name": "stdout",
     "output_type": "stream",
     "text": [
      "Data type: <class 'tuple'>\n",
      "Data type: <class 'tuple'>\n"
     ]
    },
    {
     "data": {
      "application/vnd.plotly.v1+json": {
       "config": {
        "plotlyServerURL": "https://plot.ly"
       },
       "data": [
        {
         "mode": "lines+markers",
         "name": "noBz",
         "type": "scatter",
         "x": {
          "bdata": "AAAAAADAUkAAAAAAAEBVQAAAAAAAwFdAAAAAAABAWkAAAAAAAMBcQAAAAAAAQF9AAAAAAADgYEAAAAAAACBiQAAAAAAAYGNAAAAAAACgZEAAAAAAAOBlQAAAAAAAIGdAAAAAAABgaEAAAAAAAKBpQAAAAAAA4GpAAAAAAAAgbEAAAAAAAGBtQAAAAAAAoG5AAAAAAADgb0AAAAAAAJBwQAAAAAAAMHFAAAAAAADQcUAAAAAAAHByQAAAAAAAEHNAAAAAAACwc0AAAAAAAFB0QAAAAAAA8HRAAAAAAACQdUAAAAAAADB2QAAAAAAA0HZAAAAAAABwd0AAAAAAABB4QAAAAAAAsHhAAAAAAABQeUAAAAAAAPB5QAAAAAAAkHpAAAAAAAAwe0AAAAAAANB7QAAAAAAAcHxAAAAAAAAQfUAAAAAAALB9QAAAAAAAUH5AAAAAAADwfkAAAAAAAJB/QAAAAAAAGIBAAAAAAABogEAAAAAAALiAQAAAAAAACIFAAAAAAABYgUAAAAAAAKiBQAAAAAAA+IFAAAAAAABIgkAAAAAAAJiCQAAAAAAA6IJAAAAAAAA4g0AAAAAAAIiDQAAAAAAA2INAAAAAAAAohEAAAAAAAHiEQAAAAAAAyIRAAAAAAAAYhUAAAAAAAGiFQAAAAAAAuIVAAAAAAAAIhkAAAAAAAFiGQAAAAAAAqIZAAAAAAAD4hkAAAAAAAEiHQAAAAAAAmIdAAAAAAADoh0AAAAAAADiIQAAAAAAAiIhAAAAAAADYiEAAAAAAACiJQAAAAAAAeIlAAAAAAADIiUAAAAAAABiKQAAAAAAAaIpAAAAAAAC4ikAAAAAAAAiLQAAAAAAAWItAAAAAAACoi0AAAAAAAPiLQAAAAAAASIxAAAAAAACYjEAAAAAAAOiMQAAAAAAAOI1AAAAAAACIjUAAAAAAANiNQAAAAAAAKI5AAAAAAAB4jkAAAAAAAMiOQAAAAAAAGI9AAAAAAABoj0AAAAAAALiPQAAAAAAABJBAAAAAAAAskEAAAAAAAFSQQAAAAAAAfJBAAAAAAACkkEAAAAAAAMyQQAAAAAAA9JBAAAAAAAAckUAAAAAAAESRQAAAAAAAbJFAAAAAAACUkUAAAAAAALyRQAAAAAAA5JFAAAAAAAAMkkAAAAAAADSSQAAAAAAAXJJAAAAAAACEkkAAAAAAAKySQAAAAAAA1JJAAAAAAAD8kkAAAAAAACSTQAAAAAAATJNAAAAAAAB0k0AAAAAAAJyTQAAAAAAAxJNAAAAAAADsk0AAAAAAABSUQAAAAAAAPJRAAAAAAABklEAAAAAAAIyUQAAAAAAAtJRAAAAAAADclEAAAAAAAASVQAAAAAAALJVAAAAAAABUlUAAAAAAAHyVQAAAAAAApJVAAAAAAADMlUAAAAAAAPSVQAAAAAAAHJZAAAAAAABElkAAAAAAAGyWQAAAAAAAlJZAAAAAAAC8lkAAAAAAAOSWQAAAAAAADJdAAAAAAAA0l0AAAAAAAFyXQAAAAAAAhJdAAAAAAACsl0AAAAAAANSXQAAAAAAA/JdAAAAAAAAkmEAAAAAAAEyYQAAAAAAAdJhAAAAAAACcmEAAAAAAAMSYQAAAAAAA7JhAAAAAAAAUmUAAAAAAADyZQAAAAAAAZJlAAAAAAACMmUAAAAAAALSZQAAAAAAA3JlAAAAAAAAEmkAAAAAAACyaQAAAAAAAVJpAAAAAAAB8mkAAAAAAAKSaQAAAAAAAzJpAAAAAAAD0mkAAAAAAABybQAAAAAAARJtAAAAAAABsm0AAAAAAAJSbQAAAAAAAvJtAAAAAAADkm0AAAAAAAAycQAAAAAAANJxAAAAAAABcnEAAAAAAAIScQAAAAAAArJxAAAAAAADUnEAAAAAAAPycQAAAAAAAJJ1AAAAAAABMnUAAAAAAAHSdQAAAAAAAnJ1AAAAAAADEnUAAAAAAAOydQAAAAAAAFJ5AAAAAAAA8nkAAAAAAAGSeQAAAAAAAjJ5AAAAAAAC0nkAAAAAAANyeQAAAAAAABJ9AAAAAAAAsn0AAAAAAAFSfQAAAAAAAfJ9AAAAAAACkn0AAAAAAAMyfQAAAAAAA9J9AAAAAAAAOoEAAAAAAACKgQAAAAAAANqBAAAAAAABKoEAAAAAAAF6gQAAAAAAAcqBAAAAAAACGoEAAAAAAAJqgQAAAAAAArqBAAAAAAADCoEAAAAAAANagQAAAAAAA6qBAAAAAAAD+oEAAAAAAABKhQAAAAAAAJqFAAAAAAAA6oUAAAAAAAE6hQAAAAAAAYqFAAAAAAAB2oUAAAAAAAIqhQAAAAAAAnqFAAAAAAACyoUAAAAAAAMahQAAAAAAA2qFAAAAAAADuoUAAAAAAAAKiQAAAAAAAFqJAAAAAAAAqokAAAAAAAD6iQAAAAAAAUqJAAAAAAABmokAAAAAAAHqiQAAAAAAAjqJAAAAAAACiokAAAAAAALaiQAAAAAAAyqJAAAAAAADeokAAAAAAAPKiQAAAAAAABqNAAAAAAAAao0AAAAAAAC6jQAAAAAAAQqNAAAAAAABWo0AAAAAAAGqjQAAAAAAAfqNAAAAAAACSo0AAAAAAAKajQAAAAAAAuqNAAAAAAADOo0AAAAAAAOKjQAAAAAAA9qNAAAAAAAAKpEAAAAAAAB6kQAAAAAAAMqRAAAAAAABGpEAAAAAAAFqkQAAAAAAAbqRAAAAAAACCpEAAAAAAAJakQAAAAAAAqqRAAAAAAAC+pEAAAAAAANKkQAAAAAAA5qRAAAAAAAD6pEAAAAAAAA6lQAAAAAAAIqVAAAAAAAA2pUAAAAAAAEqlQAAAAAAAXqVAAAAAAABypUAAAAAAAIalQAAAAAAAmqVAAAAAAACupUAAAAAAAMKlQAAAAAAA1qVAAAAAAADqpUAAAAAAAP6lQAAAAAAAEqZAAAAAAAAmpkAAAAAAADqmQAAAAAAATqZAAAAAAABipkAAAAAAAHamQAAAAAAAiqZAAAAAAACepkAAAAAAALKmQAAAAAAAxqZAAAAAAADapkAAAAAAAO6mQAAAAAAAAqdAAAAAAAAWp0AAAAAAACqnQAAAAAAAPqdAAAAAAABSp0AAAAAAAGanQAAAAAAAeqdAAAAAAACOp0AAAAAAAKKnQAAAAAAAtqdAAAAAAADKp0AAAAAAAN6nQAAAAAAA8qdAAAAAAAAGqEAAAAAAABqoQAAAAAAALqhAAAAAAABCqEAAAAAAAFaoQAAAAAAAaqhAAAAAAAB+qEAAAAAAAJKoQAAAAAAApqhAAAAAAAC6qEAAAAAAAM6oQAAAAAAA4qhAAAAAAAD2qEAAAAAAAAqpQAAAAAAAHqlAAAAAAAAyqUAAAAAAAEapQAAAAAAAWqlAAAAAAABuqUAAAAAAAIKpQAAAAAAAlqlAAAAAAACqqUAAAAAAAL6pQAAAAAAA0qlAAAAAAADmqUAAAAAAAPqpQAAAAAAADqpAAAAAAAAiqkAAAAAAADaqQAAAAAAASqpAAAAAAABeqkAAAAAAAHKqQAAAAAAAhqpAAAAAAACaqkAAAAAAAK6qQAAAAAAAwqpAAAAAAADWqkAAAAAAAOqqQAAAAAAA/qpAAAAAAAASq0AAAAAAACarQAAAAAAAOqtAAAAAAABOq0AAAAAAAGKrQAAAAAAAdqtAAAAAAACKq0AAAAAAAJ6rQAAAAAAAsqtAAAAAAADGq0AAAAAAANqrQAAAAAAA7qtA",
          "dtype": "f8"
         },
         "y": {
          "bdata": "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",
          "dtype": "f8"
         }
        },
        {
         "mode": "lines+markers",
         "name": "10 MHz Bz",
         "type": "scatter",
         "x": {
          "bdata": "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",
          "dtype": "f8"
         },
         "y": {
          "bdata": "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",
          "dtype": "f8"
         }
        }
       ],
       "layout": {
        "template": {
         "data": {
          "bar": [
           {
            "error_x": {
             "color": "#2a3f5f"
            },
            "error_y": {
             "color": "#2a3f5f"
            },
            "marker": {
             "line": {
              "color": "white",
              "width": 0.5
             },
             "pattern": {
              "fillmode": "overlay",
              "size": 10,
              "solidity": 0.2
             }
            },
            "type": "bar"
           }
          ],
          "barpolar": [
           {
            "marker": {
             "line": {
              "color": "white",
              "width": 0.5
             },
             "pattern": {
              "fillmode": "overlay",
              "size": 10,
              "solidity": 0.2
             }
            },
            "type": "barpolar"
           }
          ],
          "carpet": [
           {
            "aaxis": {
             "endlinecolor": "#2a3f5f",
             "gridcolor": "#C8D4E3",
             "linecolor": "#C8D4E3",
             "minorgridcolor": "#C8D4E3",
             "startlinecolor": "#2a3f5f"
            },
            "baxis": {
             "endlinecolor": "#2a3f5f",
             "gridcolor": "#C8D4E3",
             "linecolor": "#C8D4E3",
             "minorgridcolor": "#C8D4E3",
             "startlinecolor": "#2a3f5f"
            },
            "type": "carpet"
           }
          ],
          "choropleth": [
           {
            "colorbar": {
             "outlinewidth": 0,
             "ticks": ""
            },
            "type": "choropleth"
           }
          ],
          "contour": [
           {
            "colorbar": {
             "outlinewidth": 0,
             "ticks": ""
            },
            "colorscale": [
             [
              0,
              "#0d0887"
             ],
             [
              0.1111111111111111,
              "#46039f"
             ],
             [
              0.2222222222222222,
              "#7201a8"
             ],
             [
              0.3333333333333333,
              "#9c179e"
             ],
             [
              0.4444444444444444,
              "#bd3786"
             ],
             [
              0.5555555555555556,
              "#d8576b"
             ],
             [
              0.6666666666666666,
              "#ed7953"
             ],
             [
              0.7777777777777778,
              "#fb9f3a"
             ],
             [
              0.8888888888888888,
              "#fdca26"
             ],
             [
              1,
              "#f0f921"
             ]
            ],
            "type": "contour"
           }
          ],
          "contourcarpet": [
           {
            "colorbar": {
             "outlinewidth": 0,
             "ticks": ""
            },
            "type": "contourcarpet"
           }
          ],
          "heatmap": [
           {
            "colorbar": {
             "outlinewidth": 0,
             "ticks": ""
            },
            "colorscale": [
             [
              0,
              "#0d0887"
             ],
             [
              0.1111111111111111,
              "#46039f"
             ],
             [
              0.2222222222222222,
              "#7201a8"
             ],
             [
              0.3333333333333333,
              "#9c179e"
             ],
             [
              0.4444444444444444,
              "#bd3786"
             ],
             [
              0.5555555555555556,
              "#d8576b"
             ],
             [
              0.6666666666666666,
              "#ed7953"
             ],
             [
              0.7777777777777778,
              "#fb9f3a"
             ],
             [
              0.8888888888888888,
              "#fdca26"
             ],
             [
              1,
              "#f0f921"
             ]
            ],
            "type": "heatmap"
           }
          ],
          "histogram": [
           {
            "marker": {
             "pattern": {
              "fillmode": "overlay",
              "size": 10,
              "solidity": 0.2
             }
            },
            "type": "histogram"
           }
          ],
          "histogram2d": [
           {
            "colorbar": {
             "outlinewidth": 0,
             "ticks": ""
            },
            "colorscale": [
             [
              0,
              "#0d0887"
             ],
             [
              0.1111111111111111,
              "#46039f"
             ],
             [
              0.2222222222222222,
              "#7201a8"
             ],
             [
              0.3333333333333333,
              "#9c179e"
             ],
             [
              0.4444444444444444,
              "#bd3786"
             ],
             [
              0.5555555555555556,
              "#d8576b"
             ],
             [
              0.6666666666666666,
              "#ed7953"
             ],
             [
              0.7777777777777778,
              "#fb9f3a"
             ],
             [
              0.8888888888888888,
              "#fdca26"
             ],
             [
              1,
              "#f0f921"
             ]
            ],
            "type": "histogram2d"
           }
          ],
          "histogram2dcontour": [
           {
            "colorbar": {
             "outlinewidth": 0,
             "ticks": ""
            },
            "colorscale": [
             [
              0,
              "#0d0887"
             ],
             [
              0.1111111111111111,
              "#46039f"
             ],
             [
              0.2222222222222222,
              "#7201a8"
             ],
             [
              0.3333333333333333,
              "#9c179e"
             ],
             [
              0.4444444444444444,
              "#bd3786"
             ],
             [
              0.5555555555555556,
              "#d8576b"
             ],
             [
              0.6666666666666666,
              "#ed7953"
             ],
             [
              0.7777777777777778,
              "#fb9f3a"
             ],
             [
              0.8888888888888888,
              "#fdca26"
             ],
             [
              1,
              "#f0f921"
             ]
            ],
            "type": "histogram2dcontour"
           }
          ],
          "mesh3d": [
           {
            "colorbar": {
             "outlinewidth": 0,
             "ticks": ""
            },
            "type": "mesh3d"
           }
          ],
          "parcoords": [
           {
            "line": {
             "colorbar": {
              "outlinewidth": 0,
              "ticks": ""
             }
            },
            "type": "parcoords"
           }
          ],
          "pie": [
           {
            "automargin": true,
            "type": "pie"
           }
          ],
          "scatter": [
           {
            "fillpattern": {
             "fillmode": "overlay",
             "size": 10,
             "solidity": 0.2
            },
            "type": "scatter"
           }
          ],
          "scatter3d": [
           {
            "line": {
             "colorbar": {
              "outlinewidth": 0,
              "ticks": ""
             }
            },
            "marker": {
             "colorbar": {
              "outlinewidth": 0,
              "ticks": ""
             }
            },
            "type": "scatter3d"
           }
          ],
          "scattercarpet": [
           {
            "marker": {
             "colorbar": {
              "outlinewidth": 0,
              "ticks": ""
             }
            },
            "type": "scattercarpet"
           }
          ],
          "scattergeo": [
           {
            "marker": {
             "colorbar": {
              "outlinewidth": 0,
              "ticks": ""
             }
            },
            "type": "scattergeo"
           }
          ],
          "scattergl": [
           {
            "marker": {
             "colorbar": {
              "outlinewidth": 0,
              "ticks": ""
             }
            },
            "type": "scattergl"
           }
          ],
          "scattermap": [
           {
            "marker": {
             "colorbar": {
              "outlinewidth": 0,
              "ticks": ""
             }
            },
            "type": "scattermap"
           }
          ],
          "scattermapbox": [
           {
            "marker": {
             "colorbar": {
              "outlinewidth": 0,
              "ticks": ""
             }
            },
            "type": "scattermapbox"
           }
          ],
          "scatterpolar": [
           {
            "marker": {
             "colorbar": {
              "outlinewidth": 0,
              "ticks": ""
             }
            },
            "type": "scatterpolar"
           }
          ],
          "scatterpolargl": [
           {
            "marker": {
             "colorbar": {
              "outlinewidth": 0,
              "ticks": ""
             }
            },
            "type": "scatterpolargl"
           }
          ],
          "scatterternary": [
           {
            "marker": {
             "colorbar": {
              "outlinewidth": 0,
              "ticks": ""
             }
            },
            "type": "scatterternary"
           }
          ],
          "surface": [
           {
            "colorbar": {
             "outlinewidth": 0,
             "ticks": ""
            },
            "colorscale": [
             [
              0,
              "#0d0887"
             ],
             [
              0.1111111111111111,
              "#46039f"
             ],
             [
              0.2222222222222222,
              "#7201a8"
             ],
             [
              0.3333333333333333,
              "#9c179e"
             ],
             [
              0.4444444444444444,
              "#bd3786"
             ],
             [
              0.5555555555555556,
              "#d8576b"
             ],
             [
              0.6666666666666666,
              "#ed7953"
             ],
             [
              0.7777777777777778,
              "#fb9f3a"
             ],
             [
              0.8888888888888888,
              "#fdca26"
             ],
             [
              1,
              "#f0f921"
             ]
            ],
            "type": "surface"
           }
          ],
          "table": [
           {
            "cells": {
             "fill": {
              "color": "#EBF0F8"
             },
             "line": {
              "color": "white"
             }
            },
            "header": {
             "fill": {
              "color": "#C8D4E3"
             },
             "line": {
              "color": "white"
             }
            },
            "type": "table"
           }
          ]
         },
         "layout": {
          "annotationdefaults": {
           "arrowcolor": "#2a3f5f",
           "arrowhead": 0,
           "arrowwidth": 1
          },
          "autotypenumbers": "strict",
          "coloraxis": {
           "colorbar": {
            "outlinewidth": 0,
            "ticks": ""
           }
          },
          "colorscale": {
           "diverging": [
            [
             0,
             "#8e0152"
            ],
            [
             0.1,
             "#c51b7d"
            ],
            [
             0.2,
             "#de77ae"
            ],
            [
             0.3,
             "#f1b6da"
            ],
            [
             0.4,
             "#fde0ef"
            ],
            [
             0.5,
             "#f7f7f7"
            ],
            [
             0.6,
             "#e6f5d0"
            ],
            [
             0.7,
             "#b8e186"
            ],
            [
             0.8,
             "#7fbc41"
            ],
            [
             0.9,
             "#4d9221"
            ],
            [
             1,
             "#276419"
            ]
           ],
           "sequential": [
            [
             0,
             "#0d0887"
            ],
            [
             0.1111111111111111,
             "#46039f"
            ],
            [
             0.2222222222222222,
             "#7201a8"
            ],
            [
             0.3333333333333333,
             "#9c179e"
            ],
            [
             0.4444444444444444,
             "#bd3786"
            ],
            [
             0.5555555555555556,
             "#d8576b"
            ],
            [
             0.6666666666666666,
             "#ed7953"
            ],
            [
             0.7777777777777778,
             "#fb9f3a"
            ],
            [
             0.8888888888888888,
             "#fdca26"
            ],
            [
             1,
             "#f0f921"
            ]
           ],
           "sequentialminus": [
            [
             0,
             "#0d0887"
            ],
            [
             0.1111111111111111,
             "#46039f"
            ],
            [
             0.2222222222222222,
             "#7201a8"
            ],
            [
             0.3333333333333333,
             "#9c179e"
            ],
            [
             0.4444444444444444,
             "#bd3786"
            ],
            [
             0.5555555555555556,
             "#d8576b"
            ],
            [
             0.6666666666666666,
             "#ed7953"
            ],
            [
             0.7777777777777778,
             "#fb9f3a"
            ],
            [
             0.8888888888888888,
             "#fdca26"
            ],
            [
             1,
             "#f0f921"
            ]
           ]
          },
          "colorway": [
           "#636efa",
           "#EF553B",
           "#00cc96",
           "#ab63fa",
           "#FFA15A",
           "#19d3f3",
           "#FF6692",
           "#B6E880",
           "#FF97FF",
           "#FECB52"
          ],
          "font": {
           "color": "#2a3f5f"
          },
          "geo": {
           "bgcolor": "white",
           "lakecolor": "white",
           "landcolor": "white",
           "showlakes": true,
           "showland": true,
           "subunitcolor": "#C8D4E3"
          },
          "hoverlabel": {
           "align": "left"
          },
          "hovermode": "closest",
          "mapbox": {
           "style": "light"
          },
          "paper_bgcolor": "white",
          "plot_bgcolor": "white",
          "polar": {
           "angularaxis": {
            "gridcolor": "#EBF0F8",
            "linecolor": "#EBF0F8",
            "ticks": ""
           },
           "bgcolor": "white",
           "radialaxis": {
            "gridcolor": "#EBF0F8",
            "linecolor": "#EBF0F8",
            "ticks": ""
           }
          },
          "scene": {
           "xaxis": {
            "backgroundcolor": "white",
            "gridcolor": "#DFE8F3",
            "gridwidth": 2,
            "linecolor": "#EBF0F8",
            "showbackground": true,
            "ticks": "",
            "zerolinecolor": "#EBF0F8"
           },
           "yaxis": {
            "backgroundcolor": "white",
            "gridcolor": "#DFE8F3",
            "gridwidth": 2,
            "linecolor": "#EBF0F8",
            "showbackground": true,
            "ticks": "",
            "zerolinecolor": "#EBF0F8"
           },
           "zaxis": {
            "backgroundcolor": "white",
            "gridcolor": "#DFE8F3",
            "gridwidth": 2,
            "linecolor": "#EBF0F8",
            "showbackground": true,
            "ticks": "",
            "zerolinecolor": "#EBF0F8"
           }
          },
          "shapedefaults": {
           "line": {
            "color": "#2a3f5f"
           }
          },
          "ternary": {
           "aaxis": {
            "gridcolor": "#DFE8F3",
            "linecolor": "#A2B1C6",
            "ticks": ""
           },
           "baxis": {
            "gridcolor": "#DFE8F3",
            "linecolor": "#A2B1C6",
            "ticks": ""
           },
           "bgcolor": "white",
           "caxis": {
            "gridcolor": "#DFE8F3",
            "linecolor": "#A2B1C6",
            "ticks": ""
           }
          },
          "title": {
           "x": 0.05
          },
          "xaxis": {
           "automargin": true,
           "gridcolor": "#EBF0F8",
           "linecolor": "#EBF0F8",
           "ticks": "",
           "title": {
            "standoff": 15
           },
           "zerolinecolor": "#EBF0F8",
           "zerolinewidth": 2
          },
          "yaxis": {
           "automargin": true,
           "gridcolor": "#EBF0F8",
           "linecolor": "#EBF0F8",
           "ticks": "",
           "title": {
            "standoff": 15
           },
           "zerolinecolor": "#EBF0F8",
           "zerolinewidth": 2
          }
         }
        },
        "title": {
         "text": "Averagig .718 MHz 1Vpp 5 minutes averaging "
        },
        "xaxis": {
         "title": {
          "text": "X Axis"
         }
        },
        "yaxis": {
         "title": {
          "text": "Y Axis"
         }
        }
       }
      }
     },
     "metadata": {},
     "output_type": "display_data"
    }
   ],
   "source": [
    "read_and_plot([\"C:/Users/HFNV/diamondgui/temp/backup/250702h13m50s27_HahnEcho-default.pkl\",\"C:/Users/HFNV/diamondgui/temp/backup/250702h14m03s05_HahnEcho-default.pkl\"],[\"noBz\",\"10 MHz Bz\"])"
   ]
  },
  {
   "cell_type": "code",
   "execution_count": 21,
   "id": "80aff782",
   "metadata": {},
   "outputs": [
    {
     "name": "stdout",
     "output_type": "stream",
     "text": [
      "Data type: <class 'tuple'>\n",
      "Data type: <class 'tuple'>\n"
     ]
    },
    {
     "data": {
      "application/vnd.plotly.v1+json": {
       "config": {
        "plotlyServerURL": "https://plot.ly"
       },
       "data": [
        {
         "mode": "lines+markers",
         "name": "noBz",
         "type": "scatter",
         "x": {
          "bdata": "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",
          "dtype": "f8"
         },
         "y": {
          "bdata": "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",
          "dtype": "f8"
         }
        },
        {
         "mode": "lines+markers",
         "name": "10 MHz Bz",
         "type": "scatter",
         "x": {
          "bdata": "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",
          "dtype": "f8"
         },
         "y": {
          "bdata": "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",
          "dtype": "f8"
         }
        }
       ],
       "layout": {
        "template": {
         "data": {
          "bar": [
           {
            "error_x": {
             "color": "#2a3f5f"
            },
            "error_y": {
             "color": "#2a3f5f"
            },
            "marker": {
             "line": {
              "color": "white",
              "width": 0.5
             },
             "pattern": {
              "fillmode": "overlay",
              "size": 10,
              "solidity": 0.2
             }
            },
            "type": "bar"
           }
          ],
          "barpolar": [
           {
            "marker": {
             "line": {
              "color": "white",
              "width": 0.5
             },
             "pattern": {
              "fillmode": "overlay",
              "size": 10,
              "solidity": 0.2
             }
            },
            "type": "barpolar"
           }
          ],
          "carpet": [
           {
            "aaxis": {
             "endlinecolor": "#2a3f5f",
             "gridcolor": "#C8D4E3",
             "linecolor": "#C8D4E3",
             "minorgridcolor": "#C8D4E3",
             "startlinecolor": "#2a3f5f"
            },
            "baxis": {
             "endlinecolor": "#2a3f5f",
             "gridcolor": "#C8D4E3",
             "linecolor": "#C8D4E3",
             "minorgridcolor": "#C8D4E3",
             "startlinecolor": "#2a3f5f"
            },
            "type": "carpet"
           }
          ],
          "choropleth": [
           {
            "colorbar": {
             "outlinewidth": 0,
             "ticks": ""
            },
            "type": "choropleth"
           }
          ],
          "contour": [
           {
            "colorbar": {
             "outlinewidth": 0,
             "ticks": ""
            },
            "colorscale": [
             [
              0,
              "#0d0887"
             ],
             [
              0.1111111111111111,
              "#46039f"
             ],
             [
              0.2222222222222222,
              "#7201a8"
             ],
             [
              0.3333333333333333,
              "#9c179e"
             ],
             [
              0.4444444444444444,
              "#bd3786"
             ],
             [
              0.5555555555555556,
              "#d8576b"
             ],
             [
              0.6666666666666666,
              "#ed7953"
             ],
             [
              0.7777777777777778,
              "#fb9f3a"
             ],
             [
              0.8888888888888888,
              "#fdca26"
             ],
             [
              1,
              "#f0f921"
             ]
            ],
            "type": "contour"
           }
          ],
          "contourcarpet": [
           {
            "colorbar": {
             "outlinewidth": 0,
             "ticks": ""
            },
            "type": "contourcarpet"
           }
          ],
          "heatmap": [
           {
            "colorbar": {
             "outlinewidth": 0,
             "ticks": ""
            },
            "colorscale": [
             [
              0,
              "#0d0887"
             ],
             [
              0.1111111111111111,
              "#46039f"
             ],
             [
              0.2222222222222222,
              "#7201a8"
             ],
             [
              0.3333333333333333,
              "#9c179e"
             ],
             [
              0.4444444444444444,
              "#bd3786"
             ],
             [
              0.5555555555555556,
              "#d8576b"
             ],
             [
              0.6666666666666666,
              "#ed7953"
             ],
             [
              0.7777777777777778,
              "#fb9f3a"
             ],
             [
              0.8888888888888888,
              "#fdca26"
             ],
             [
              1,
              "#f0f921"
             ]
            ],
            "type": "heatmap"
           }
          ],
          "histogram": [
           {
            "marker": {
             "pattern": {
              "fillmode": "overlay",
              "size": 10,
              "solidity": 0.2
             }
            },
            "type": "histogram"
           }
          ],
          "histogram2d": [
           {
            "colorbar": {
             "outlinewidth": 0,
             "ticks": ""
            },
            "colorscale": [
             [
              0,
              "#0d0887"
             ],
             [
              0.1111111111111111,
              "#46039f"
             ],
             [
              0.2222222222222222,
              "#7201a8"
             ],
             [
              0.3333333333333333,
              "#9c179e"
             ],
             [
              0.4444444444444444,
              "#bd3786"
             ],
             [
              0.5555555555555556,
              "#d8576b"
             ],
             [
              0.6666666666666666,
              "#ed7953"
             ],
             [
              0.7777777777777778,
              "#fb9f3a"
             ],
             [
              0.8888888888888888,
              "#fdca26"
             ],
             [
              1,
              "#f0f921"
             ]
            ],
            "type": "histogram2d"
           }
          ],
          "histogram2dcontour": [
           {
            "colorbar": {
             "outlinewidth": 0,
             "ticks": ""
            },
            "colorscale": [
             [
              0,
              "#0d0887"
             ],
             [
              0.1111111111111111,
              "#46039f"
             ],
             [
              0.2222222222222222,
              "#7201a8"
             ],
             [
              0.3333333333333333,
              "#9c179e"
             ],
             [
              0.4444444444444444,
              "#bd3786"
             ],
             [
              0.5555555555555556,
              "#d8576b"
             ],
             [
              0.6666666666666666,
              "#ed7953"
             ],
             [
              0.7777777777777778,
              "#fb9f3a"
             ],
             [
              0.8888888888888888,
              "#fdca26"
             ],
             [
              1,
              "#f0f921"
             ]
            ],
            "type": "histogram2dcontour"
           }
          ],
          "mesh3d": [
           {
            "colorbar": {
             "outlinewidth": 0,
             "ticks": ""
            },
            "type": "mesh3d"
           }
          ],
          "parcoords": [
           {
            "line": {
             "colorbar": {
              "outlinewidth": 0,
              "ticks": ""
             }
            },
            "type": "parcoords"
           }
          ],
          "pie": [
           {
            "automargin": true,
            "type": "pie"
           }
          ],
          "scatter": [
           {
            "fillpattern": {
             "fillmode": "overlay",
             "size": 10,
             "solidity": 0.2
            },
            "type": "scatter"
           }
          ],
          "scatter3d": [
           {
            "line": {
             "colorbar": {
              "outlinewidth": 0,
              "ticks": ""
             }
            },
            "marker": {
             "colorbar": {
              "outlinewidth": 0,
              "ticks": ""
             }
            },
            "type": "scatter3d"
           }
          ],
          "scattercarpet": [
           {
            "marker": {
             "colorbar": {
              "outlinewidth": 0,
              "ticks": ""
             }
            },
            "type": "scattercarpet"
           }
          ],
          "scattergeo": [
           {
            "marker": {
             "colorbar": {
              "outlinewidth": 0,
              "ticks": ""
             }
            },
            "type": "scattergeo"
           }
          ],
          "scattergl": [
           {
            "marker": {
             "colorbar": {
              "outlinewidth": 0,
              "ticks": ""
             }
            },
            "type": "scattergl"
           }
          ],
          "scattermap": [
           {
            "marker": {
             "colorbar": {
              "outlinewidth": 0,
              "ticks": ""
             }
            },
            "type": "scattermap"
           }
          ],
          "scattermapbox": [
           {
            "marker": {
             "colorbar": {
              "outlinewidth": 0,
              "ticks": ""
             }
            },
            "type": "scattermapbox"
           }
          ],
          "scatterpolar": [
           {
            "marker": {
             "colorbar": {
              "outlinewidth": 0,
              "ticks": ""
             }
            },
            "type": "scatterpolar"
           }
          ],
          "scatterpolargl": [
           {
            "marker": {
             "colorbar": {
              "outlinewidth": 0,
              "ticks": ""
             }
            },
            "type": "scatterpolargl"
           }
          ],
          "scatterternary": [
           {
            "marker": {
             "colorbar": {
              "outlinewidth": 0,
              "ticks": ""
             }
            },
            "type": "scatterternary"
           }
          ],
          "surface": [
           {
            "colorbar": {
             "outlinewidth": 0,
             "ticks": ""
            },
            "colorscale": [
             [
              0,
              "#0d0887"
             ],
             [
              0.1111111111111111,
              "#46039f"
             ],
             [
              0.2222222222222222,
              "#7201a8"
             ],
             [
              0.3333333333333333,
              "#9c179e"
             ],
             [
              0.4444444444444444,
              "#bd3786"
             ],
             [
              0.5555555555555556,
              "#d8576b"
             ],
             [
              0.6666666666666666,
              "#ed7953"
             ],
             [
              0.7777777777777778,
              "#fb9f3a"
             ],
             [
              0.8888888888888888,
              "#fdca26"
             ],
             [
              1,
              "#f0f921"
             ]
            ],
            "type": "surface"
           }
          ],
          "table": [
           {
            "cells": {
             "fill": {
              "color": "#EBF0F8"
             },
             "line": {
              "color": "white"
             }
            },
            "header": {
             "fill": {
              "color": "#C8D4E3"
             },
             "line": {
              "color": "white"
             }
            },
            "type": "table"
           }
          ]
         },
         "layout": {
          "annotationdefaults": {
           "arrowcolor": "#2a3f5f",
           "arrowhead": 0,
           "arrowwidth": 1
          },
          "autotypenumbers": "strict",
          "coloraxis": {
           "colorbar": {
            "outlinewidth": 0,
            "ticks": ""
           }
          },
          "colorscale": {
           "diverging": [
            [
             0,
             "#8e0152"
            ],
            [
             0.1,
             "#c51b7d"
            ],
            [
             0.2,
             "#de77ae"
            ],
            [
             0.3,
             "#f1b6da"
            ],
            [
             0.4,
             "#fde0ef"
            ],
            [
             0.5,
             "#f7f7f7"
            ],
            [
             0.6,
             "#e6f5d0"
            ],
            [
             0.7,
             "#b8e186"
            ],
            [
             0.8,
             "#7fbc41"
            ],
            [
             0.9,
             "#4d9221"
            ],
            [
             1,
             "#276419"
            ]
           ],
           "sequential": [
            [
             0,
             "#0d0887"
            ],
            [
             0.1111111111111111,
             "#46039f"
            ],
            [
             0.2222222222222222,
             "#7201a8"
            ],
            [
             0.3333333333333333,
             "#9c179e"
            ],
            [
             0.4444444444444444,
             "#bd3786"
            ],
            [
             0.5555555555555556,
             "#d8576b"
            ],
            [
             0.6666666666666666,
             "#ed7953"
            ],
            [
             0.7777777777777778,
             "#fb9f3a"
            ],
            [
             0.8888888888888888,
             "#fdca26"
            ],
            [
             1,
             "#f0f921"
            ]
           ],
           "sequentialminus": [
            [
             0,
             "#0d0887"
            ],
            [
             0.1111111111111111,
             "#46039f"
            ],
            [
             0.2222222222222222,
             "#7201a8"
            ],
            [
             0.3333333333333333,
             "#9c179e"
            ],
            [
             0.4444444444444444,
             "#bd3786"
            ],
            [
             0.5555555555555556,
             "#d8576b"
            ],
            [
             0.6666666666666666,
             "#ed7953"
            ],
            [
             0.7777777777777778,
             "#fb9f3a"
            ],
            [
             0.8888888888888888,
             "#fdca26"
            ],
            [
             1,
             "#f0f921"
            ]
           ]
          },
          "colorway": [
           "#636efa",
           "#EF553B",
           "#00cc96",
           "#ab63fa",
           "#FFA15A",
           "#19d3f3",
           "#FF6692",
           "#B6E880",
           "#FF97FF",
           "#FECB52"
          ],
          "font": {
           "color": "#2a3f5f"
          },
          "geo": {
           "bgcolor": "white",
           "lakecolor": "white",
           "landcolor": "white",
           "showlakes": true,
           "showland": true,
           "subunitcolor": "#C8D4E3"
          },
          "hoverlabel": {
           "align": "left"
          },
          "hovermode": "closest",
          "mapbox": {
           "style": "light"
          },
          "paper_bgcolor": "white",
          "plot_bgcolor": "white",
          "polar": {
           "angularaxis": {
            "gridcolor": "#EBF0F8",
            "linecolor": "#EBF0F8",
            "ticks": ""
           },
           "bgcolor": "white",
           "radialaxis": {
            "gridcolor": "#EBF0F8",
            "linecolor": "#EBF0F8",
            "ticks": ""
           }
          },
          "scene": {
           "xaxis": {
            "backgroundcolor": "white",
            "gridcolor": "#DFE8F3",
            "gridwidth": 2,
            "linecolor": "#EBF0F8",
            "showbackground": true,
            "ticks": "",
            "zerolinecolor": "#EBF0F8"
           },
           "yaxis": {
            "backgroundcolor": "white",
            "gridcolor": "#DFE8F3",
            "gridwidth": 2,
            "linecolor": "#EBF0F8",
            "showbackground": true,
            "ticks": "",
            "zerolinecolor": "#EBF0F8"
           },
           "zaxis": {
            "backgroundcolor": "white",
            "gridcolor": "#DFE8F3",
            "gridwidth": 2,
            "linecolor": "#EBF0F8",
            "showbackground": true,
            "ticks": "",
            "zerolinecolor": "#EBF0F8"
           }
          },
          "shapedefaults": {
           "line": {
            "color": "#2a3f5f"
           }
          },
          "ternary": {
           "aaxis": {
            "gridcolor": "#DFE8F3",
            "linecolor": "#A2B1C6",
            "ticks": ""
           },
           "baxis": {
            "gridcolor": "#DFE8F3",
            "linecolor": "#A2B1C6",
            "ticks": ""
           },
           "bgcolor": "white",
           "caxis": {
            "gridcolor": "#DFE8F3",
            "linecolor": "#A2B1C6",
            "ticks": ""
           }
          },
          "title": {
           "x": 0.05
          },
          "xaxis": {
           "automargin": true,
           "gridcolor": "#EBF0F8",
           "linecolor": "#EBF0F8",
           "ticks": "",
           "title": {
            "standoff": 15
           },
           "zerolinecolor": "#EBF0F8",
           "zerolinewidth": 2
          },
          "yaxis": {
           "automargin": true,
           "gridcolor": "#EBF0F8",
           "linecolor": "#EBF0F8",
           "ticks": "",
           "title": {
            "standoff": 15
           },
           "zerolinecolor": "#EBF0F8",
           "zerolinewidth": 2
          }
         }
        },
        "title": {
         "text": "Averagig .718 MHz 1Vpp 5 minutes averaging "
        },
        "xaxis": {
         "title": {
          "text": "X Axis"
         }
        },
        "yaxis": {
         "title": {
          "text": "Y Axis"
         }
        }
       }
      }
     },
     "metadata": {},
     "output_type": "display_data"
    }
   ],
   "source": [
    "read_and_plot([\"C:/Users/HFNV/diamondgui/temp/backup/250702h14m50s46_HahnEcho-default.pkl\",\"C:/Users/HFNV/diamondgui/temp/backup/250702h14m22s43_HahnEcho-default.pkl\"],[\"noBz\",\"10 MHz Bz\"])"
   ]
  },
  {
   "cell_type": "code",
   "execution_count": 22,
   "id": "e58bbdb8",
   "metadata": {},
   "outputs": [],
   "source": [
    "# \"C:/Users/HFNV/diamondgui/temp/backup/250702h16m12s55_HahnEcho-default.pkl\" 45 min 5 MHz 1vpp run "
   ]
  },
  {
   "cell_type": "code",
   "execution_count": 23,
   "id": "32661463",
   "metadata": {},
   "outputs": [
    {
     "name": "stdout",
     "output_type": "stream",
     "text": [
      "Data type: <class 'tuple'>\n",
      "Data type: <class 'tuple'>\n"
     ]
    },
    {
     "data": {
      "application/vnd.plotly.v1+json": {
       "config": {
        "plotlyServerURL": "https://plot.ly"
       },
       "data": [
        {
         "mode": "lines+markers",
         "name": "5 MHz 1vpp 45min averaging",
         "type": "scatter",
         "x": {
          "bdata": "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",
          "dtype": "f8"
         },
         "y": {
          "bdata": "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",
          "dtype": "f8"
         }
        },
        {
         "mode": "lines+markers",
         "name": "45 min averaging, no input Bz",
         "type": "scatter",
         "x": {
          "bdata": "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",
          "dtype": "f8"
         },
         "y": {
          "bdata": "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",
          "dtype": "f8"
         }
        }
       ],
       "layout": {
        "template": {
         "data": {
          "bar": [
           {
            "error_x": {
             "color": "#2a3f5f"
            },
            "error_y": {
             "color": "#2a3f5f"
            },
            "marker": {
             "line": {
              "color": "white",
              "width": 0.5
             },
             "pattern": {
              "fillmode": "overlay",
              "size": 10,
              "solidity": 0.2
             }
            },
            "type": "bar"
           }
          ],
          "barpolar": [
           {
            "marker": {
             "line": {
              "color": "white",
              "width": 0.5
             },
             "pattern": {
              "fillmode": "overlay",
              "size": 10,
              "solidity": 0.2
             }
            },
            "type": "barpolar"
           }
          ],
          "carpet": [
           {
            "aaxis": {
             "endlinecolor": "#2a3f5f",
             "gridcolor": "#C8D4E3",
             "linecolor": "#C8D4E3",
             "minorgridcolor": "#C8D4E3",
             "startlinecolor": "#2a3f5f"
            },
            "baxis": {
             "endlinecolor": "#2a3f5f",
             "gridcolor": "#C8D4E3",
             "linecolor": "#C8D4E3",
             "minorgridcolor": "#C8D4E3",
             "startlinecolor": "#2a3f5f"
            },
            "type": "carpet"
           }
          ],
          "choropleth": [
           {
            "colorbar": {
             "outlinewidth": 0,
             "ticks": ""
            },
            "type": "choropleth"
           }
          ],
          "contour": [
           {
            "colorbar": {
             "outlinewidth": 0,
             "ticks": ""
            },
            "colorscale": [
             [
              0,
              "#0d0887"
             ],
             [
              0.1111111111111111,
              "#46039f"
             ],
             [
              0.2222222222222222,
              "#7201a8"
             ],
             [
              0.3333333333333333,
              "#9c179e"
             ],
             [
              0.4444444444444444,
              "#bd3786"
             ],
             [
              0.5555555555555556,
              "#d8576b"
             ],
             [
              0.6666666666666666,
              "#ed7953"
             ],
             [
              0.7777777777777778,
              "#fb9f3a"
             ],
             [
              0.8888888888888888,
              "#fdca26"
             ],
             [
              1,
              "#f0f921"
             ]
            ],
            "type": "contour"
           }
          ],
          "contourcarpet": [
           {
            "colorbar": {
             "outlinewidth": 0,
             "ticks": ""
            },
            "type": "contourcarpet"
           }
          ],
          "heatmap": [
           {
            "colorbar": {
             "outlinewidth": 0,
             "ticks": ""
            },
            "colorscale": [
             [
              0,
              "#0d0887"
             ],
             [
              0.1111111111111111,
              "#46039f"
             ],
             [
              0.2222222222222222,
              "#7201a8"
             ],
             [
              0.3333333333333333,
              "#9c179e"
             ],
             [
              0.4444444444444444,
              "#bd3786"
             ],
             [
              0.5555555555555556,
              "#d8576b"
             ],
             [
              0.6666666666666666,
              "#ed7953"
             ],
             [
              0.7777777777777778,
              "#fb9f3a"
             ],
             [
              0.8888888888888888,
              "#fdca26"
             ],
             [
              1,
              "#f0f921"
             ]
            ],
            "type": "heatmap"
           }
          ],
          "histogram": [
           {
            "marker": {
             "pattern": {
              "fillmode": "overlay",
              "size": 10,
              "solidity": 0.2
             }
            },
            "type": "histogram"
           }
          ],
          "histogram2d": [
           {
            "colorbar": {
             "outlinewidth": 0,
             "ticks": ""
            },
            "colorscale": [
             [
              0,
              "#0d0887"
             ],
             [
              0.1111111111111111,
              "#46039f"
             ],
             [
              0.2222222222222222,
              "#7201a8"
             ],
             [
              0.3333333333333333,
              "#9c179e"
             ],
             [
              0.4444444444444444,
              "#bd3786"
             ],
             [
              0.5555555555555556,
              "#d8576b"
             ],
             [
              0.6666666666666666,
              "#ed7953"
             ],
             [
              0.7777777777777778,
              "#fb9f3a"
             ],
             [
              0.8888888888888888,
              "#fdca26"
             ],
             [
              1,
              "#f0f921"
             ]
            ],
            "type": "histogram2d"
           }
          ],
          "histogram2dcontour": [
           {
            "colorbar": {
             "outlinewidth": 0,
             "ticks": ""
            },
            "colorscale": [
             [
              0,
              "#0d0887"
             ],
             [
              0.1111111111111111,
              "#46039f"
             ],
             [
              0.2222222222222222,
              "#7201a8"
             ],
             [
              0.3333333333333333,
              "#9c179e"
             ],
             [
              0.4444444444444444,
              "#bd3786"
             ],
             [
              0.5555555555555556,
              "#d8576b"
             ],
             [
              0.6666666666666666,
              "#ed7953"
             ],
             [
              0.7777777777777778,
              "#fb9f3a"
             ],
             [
              0.8888888888888888,
              "#fdca26"
             ],
             [
              1,
              "#f0f921"
             ]
            ],
            "type": "histogram2dcontour"
           }
          ],
          "mesh3d": [
           {
            "colorbar": {
             "outlinewidth": 0,
             "ticks": ""
            },
            "type": "mesh3d"
           }
          ],
          "parcoords": [
           {
            "line": {
             "colorbar": {
              "outlinewidth": 0,
              "ticks": ""
             }
            },
            "type": "parcoords"
           }
          ],
          "pie": [
           {
            "automargin": true,
            "type": "pie"
           }
          ],
          "scatter": [
           {
            "fillpattern": {
             "fillmode": "overlay",
             "size": 10,
             "solidity": 0.2
            },
            "type": "scatter"
           }
          ],
          "scatter3d": [
           {
            "line": {
             "colorbar": {
              "outlinewidth": 0,
              "ticks": ""
             }
            },
            "marker": {
             "colorbar": {
              "outlinewidth": 0,
              "ticks": ""
             }
            },
            "type": "scatter3d"
           }
          ],
          "scattercarpet": [
           {
            "marker": {
             "colorbar": {
              "outlinewidth": 0,
              "ticks": ""
             }
            },
            "type": "scattercarpet"
           }
          ],
          "scattergeo": [
           {
            "marker": {
             "colorbar": {
              "outlinewidth": 0,
              "ticks": ""
             }
            },
            "type": "scattergeo"
           }
          ],
          "scattergl": [
           {
            "marker": {
             "colorbar": {
              "outlinewidth": 0,
              "ticks": ""
             }
            },
            "type": "scattergl"
           }
          ],
          "scattermap": [
           {
            "marker": {
             "colorbar": {
              "outlinewidth": 0,
              "ticks": ""
             }
            },
            "type": "scattermap"
           }
          ],
          "scattermapbox": [
           {
            "marker": {
             "colorbar": {
              "outlinewidth": 0,
              "ticks": ""
             }
            },
            "type": "scattermapbox"
           }
          ],
          "scatterpolar": [
           {
            "marker": {
             "colorbar": {
              "outlinewidth": 0,
              "ticks": ""
             }
            },
            "type": "scatterpolar"
           }
          ],
          "scatterpolargl": [
           {
            "marker": {
             "colorbar": {
              "outlinewidth": 0,
              "ticks": ""
             }
            },
            "type": "scatterpolargl"
           }
          ],
          "scatterternary": [
           {
            "marker": {
             "colorbar": {
              "outlinewidth": 0,
              "ticks": ""
             }
            },
            "type": "scatterternary"
           }
          ],
          "surface": [
           {
            "colorbar": {
             "outlinewidth": 0,
             "ticks": ""
            },
            "colorscale": [
             [
              0,
              "#0d0887"
             ],
             [
              0.1111111111111111,
              "#46039f"
             ],
             [
              0.2222222222222222,
              "#7201a8"
             ],
             [
              0.3333333333333333,
              "#9c179e"
             ],
             [
              0.4444444444444444,
              "#bd3786"
             ],
             [
              0.5555555555555556,
              "#d8576b"
             ],
             [
              0.6666666666666666,
              "#ed7953"
             ],
             [
              0.7777777777777778,
              "#fb9f3a"
             ],
             [
              0.8888888888888888,
              "#fdca26"
             ],
             [
              1,
              "#f0f921"
             ]
            ],
            "type": "surface"
           }
          ],
          "table": [
           {
            "cells": {
             "fill": {
              "color": "#EBF0F8"
             },
             "line": {
              "color": "white"
             }
            },
            "header": {
             "fill": {
              "color": "#C8D4E3"
             },
             "line": {
              "color": "white"
             }
            },
            "type": "table"
           }
          ]
         },
         "layout": {
          "annotationdefaults": {
           "arrowcolor": "#2a3f5f",
           "arrowhead": 0,
           "arrowwidth": 1
          },
          "autotypenumbers": "strict",
          "coloraxis": {
           "colorbar": {
            "outlinewidth": 0,
            "ticks": ""
           }
          },
          "colorscale": {
           "diverging": [
            [
             0,
             "#8e0152"
            ],
            [
             0.1,
             "#c51b7d"
            ],
            [
             0.2,
             "#de77ae"
            ],
            [
             0.3,
             "#f1b6da"
            ],
            [
             0.4,
             "#fde0ef"
            ],
            [
             0.5,
             "#f7f7f7"
            ],
            [
             0.6,
             "#e6f5d0"
            ],
            [
             0.7,
             "#b8e186"
            ],
            [
             0.8,
             "#7fbc41"
            ],
            [
             0.9,
             "#4d9221"
            ],
            [
             1,
             "#276419"
            ]
           ],
           "sequential": [
            [
             0,
             "#0d0887"
            ],
            [
             0.1111111111111111,
             "#46039f"
            ],
            [
             0.2222222222222222,
             "#7201a8"
            ],
            [
             0.3333333333333333,
             "#9c179e"
            ],
            [
             0.4444444444444444,
             "#bd3786"
            ],
            [
             0.5555555555555556,
             "#d8576b"
            ],
            [
             0.6666666666666666,
             "#ed7953"
            ],
            [
             0.7777777777777778,
             "#fb9f3a"
            ],
            [
             0.8888888888888888,
             "#fdca26"
            ],
            [
             1,
             "#f0f921"
            ]
           ],
           "sequentialminus": [
            [
             0,
             "#0d0887"
            ],
            [
             0.1111111111111111,
             "#46039f"
            ],
            [
             0.2222222222222222,
             "#7201a8"
            ],
            [
             0.3333333333333333,
             "#9c179e"
            ],
            [
             0.4444444444444444,
             "#bd3786"
            ],
            [
             0.5555555555555556,
             "#d8576b"
            ],
            [
             0.6666666666666666,
             "#ed7953"
            ],
            [
             0.7777777777777778,
             "#fb9f3a"
            ],
            [
             0.8888888888888888,
             "#fdca26"
            ],
            [
             1,
             "#f0f921"
            ]
           ]
          },
          "colorway": [
           "#636efa",
           "#EF553B",
           "#00cc96",
           "#ab63fa",
           "#FFA15A",
           "#19d3f3",
           "#FF6692",
           "#B6E880",
           "#FF97FF",
           "#FECB52"
          ],
          "font": {
           "color": "#2a3f5f"
          },
          "geo": {
           "bgcolor": "white",
           "lakecolor": "white",
           "landcolor": "white",
           "showlakes": true,
           "showland": true,
           "subunitcolor": "#C8D4E3"
          },
          "hoverlabel": {
           "align": "left"
          },
          "hovermode": "closest",
          "mapbox": {
           "style": "light"
          },
          "paper_bgcolor": "white",
          "plot_bgcolor": "white",
          "polar": {
           "angularaxis": {
            "gridcolor": "#EBF0F8",
            "linecolor": "#EBF0F8",
            "ticks": ""
           },
           "bgcolor": "white",
           "radialaxis": {
            "gridcolor": "#EBF0F8",
            "linecolor": "#EBF0F8",
            "ticks": ""
           }
          },
          "scene": {
           "xaxis": {
            "backgroundcolor": "white",
            "gridcolor": "#DFE8F3",
            "gridwidth": 2,
            "linecolor": "#EBF0F8",
            "showbackground": true,
            "ticks": "",
            "zerolinecolor": "#EBF0F8"
           },
           "yaxis": {
            "backgroundcolor": "white",
            "gridcolor": "#DFE8F3",
            "gridwidth": 2,
            "linecolor": "#EBF0F8",
            "showbackground": true,
            "ticks": "",
            "zerolinecolor": "#EBF0F8"
           },
           "zaxis": {
            "backgroundcolor": "white",
            "gridcolor": "#DFE8F3",
            "gridwidth": 2,
            "linecolor": "#EBF0F8",
            "showbackground": true,
            "ticks": "",
            "zerolinecolor": "#EBF0F8"
           }
          },
          "shapedefaults": {
           "line": {
            "color": "#2a3f5f"
           }
          },
          "ternary": {
           "aaxis": {
            "gridcolor": "#DFE8F3",
            "linecolor": "#A2B1C6",
            "ticks": ""
           },
           "baxis": {
            "gridcolor": "#DFE8F3",
            "linecolor": "#A2B1C6",
            "ticks": ""
           },
           "bgcolor": "white",
           "caxis": {
            "gridcolor": "#DFE8F3",
            "linecolor": "#A2B1C6",
            "ticks": ""
           }
          },
          "title": {
           "x": 0.05
          },
          "xaxis": {
           "automargin": true,
           "gridcolor": "#EBF0F8",
           "linecolor": "#EBF0F8",
           "ticks": "",
           "title": {
            "standoff": 15
           },
           "zerolinecolor": "#EBF0F8",
           "zerolinewidth": 2
          },
          "yaxis": {
           "automargin": true,
           "gridcolor": "#EBF0F8",
           "linecolor": "#EBF0F8",
           "ticks": "",
           "title": {
            "standoff": 15
           },
           "zerolinecolor": "#EBF0F8",
           "zerolinewidth": 2
          }
         }
        },
        "title": {
         "text": "Averagig .718 MHz 1Vpp 5 minutes averaging "
        },
        "xaxis": {
         "title": {
          "text": "X Axis"
         }
        },
        "yaxis": {
         "title": {
          "text": "Y Axis"
         }
        }
       }
      }
     },
     "metadata": {},
     "output_type": "display_data"
    }
   ],
   "source": [
    "read_and_plot([\"C:/Users/HFNV/diamondgui/temp/backup/250702h16m12s55_HahnEcho-default.pkl\",\"C:/Users/HFNV/diamondgui/temp/backup/250702h16m59s08_HahnEcho-default.pkl\"],[\"5 MHz 1vpp 45min averaging\",\"45 min averaging, no input Bz\"])"
   ]
  },
  {
   "cell_type": "code",
   "execution_count": 24,
   "id": "e92585b5",
   "metadata": {},
   "outputs": [],
   "source": [
    "import plotly.graph_objects as go\n",
    "\n",
    "def plot_difference_between_files(file_paths, file_names):\n",
    "    if len(file_paths) != 2 or len(file_names) != 2:\n",
    "        raise ValueError(\"This function requires exactly two files.\")\n",
    "\n",
    "    # Load data from both files\n",
    "    data_1 = load(file_paths[0])\n",
    "    data_2 = load(file_paths[1])\n",
    "\n",
    "    # Extract tau and compute signal - background for both\n",
    "    tau_1 = data_1[1]['dataset']['tau']\n",
    "    y1 = data_1[1]['dataset']['sig_n'] - data_1[1]['dataset']['sig_p']\n",
    "\n",
    "    tau_2 = data_2[1]['dataset']['tau']\n",
    "    y2 = data_2[1]['dataset']['sig_n'] - data_2[1]['dataset']['sig_p']\n",
    "\n",
    "    # Check if tau values match (optional but useful)\n",
    "    if not all(tau_1 == tau_2):\n",
    "        raise ValueError(\"Tau values do not match between the two files.\")\n",
    "\n",
    "    # Compute difference\n",
    "    y_diff = y1 - y2\n",
    "\n",
    "    # Plot\n",
    "    fig = go.Figure()\n",
    "    fig.add_trace(go.Scatter(\n",
    "        x=tau_1,\n",
    "        y=y_diff,\n",
    "        mode='lines+markers',\n",
    "        name=f\"{file_names[0]} - {file_names[1]}\"\n",
    "    ))\n",
    "\n",
    "    fig.update_layout(\n",
    "        title='Difference Between Two Files: (sig_n - sig_p)₁ - (sig_n - sig_p)₂',\n",
    "        xaxis_title='Tau',\n",
    "        yaxis_title='Difference in Signal (Bz)',\n",
    "        template='plotly_white'\n",
    "    )\n",
    "\n",
    "    fig.show()\n"
   ]
  },
  {
   "cell_type": "code",
   "execution_count": 25,
   "id": "b5c239ab",
   "metadata": {},
   "outputs": [
    {
     "name": "stdout",
     "output_type": "stream",
     "text": [
      "Data type: <class 'tuple'>\n",
      "Data type: <class 'tuple'>\n"
     ]
    },
    {
     "data": {
      "application/vnd.plotly.v1+json": {
       "config": {
        "plotlyServerURL": "https://plot.ly"
       },
       "data": [
        {
         "mode": "lines+markers",
         "name": "5 MHz 1vpp 45min averaging - 45 min averaging, no input Bz",
         "type": "scatter",
         "x": {
          "bdata": "AAAAAADAUkAAAAAAAABUQAAAAAAAQFVAAAAAAACAVkAAAAAAAMBXQAAAAAAAAFlAAAAAAABAWkAAAAAAAIBbQAAAAAAAwFxAAAAAAAAAXkAAAAAAAEBfQAAAAAAAQGBAAAAAAADgYEAAAAAAAIBhQAAAAAAAIGJAAAAAAADAYkAAAAAAAGBjQAAAAAAAAGRAAAAAAACgZEAAAAAAAEBlQAAAAAAA4GVAAAAAAACAZkAAAAAAACBnQAAAAAAAwGdAAAAAAABgaEAAAAAAAABpQAAAAAAAoGlAAAAAAABAakAAAAAAAOBqQAAAAAAAgGtAAAAAAAAgbEAAAAAAAMBsQAAAAAAAYG1AAAAAAAAAbkAAAAAAAKBuQAAAAAAAQG9AAAAAAADgb0AAAAAAAEBwQAAAAAAAkHBAAAAAAADgcEAAAAAAADBxQAAAAAAAgHFAAAAAAADQcUAAAAAAACByQAAAAAAAcHJAAAAAAADAckAAAAAAABBzQAAAAAAAYHNAAAAAAACwc0AAAAAAAAB0QAAAAAAAUHRAAAAAAACgdEAAAAAAAPB0QAAAAAAAQHVAAAAAAACQdUAAAAAAAOB1QAAAAAAAMHZAAAAAAACAdkAAAAAAANB2QAAAAAAAIHdAAAAAAABwd0AAAAAAAMB3QAAAAAAAEHhAAAAAAABgeEAAAAAAALB4QAAAAAAAAHlAAAAAAABQeUAAAAAAAKB5QAAAAAAA8HlAAAAAAABAekAAAAAAAJB6QAAAAAAA4HpAAAAAAAAwe0AAAAAAAIB7QAAAAAAA0HtAAAAAAAAgfEAAAAAAAHB8QAAAAAAAwHxAAAAAAAAQfUAAAAAAAGB9QAAAAAAAsH1AAAAAAAAAfkAAAAAAAFB+QAAAAAAAoH5AAAAAAADwfkAAAAAAAEB/QAAAAAAAkH9AAAAAAADgf0AAAAAAABiAQAAAAAAAQIBAAAAAAABogEAAAAAAAJCAQAAAAAAAuIBAAAAAAADggEAAAAAAAAiBQAAAAAAAMIFAAAAAAABYgUAAAAAAAICBQAAAAAAAqIFAAAAAAADQgUAAAAAAAPiBQAAAAAAAIIJAAAAAAABIgkAAAAAAAHCCQAAAAAAAmIJAAAAAAADAgkAAAAAAAOiCQAAAAAAAEINAAAAAAAA4g0AAAAAAAGCDQAAAAAAAiINAAAAAAACwg0AAAAAAANiDQAAAAAAAAIRAAAAAAAAohEAAAAAAAFCEQAAAAAAAeIRAAAAAAACghEAAAAAAAMiEQAAAAAAA8IRAAAAAAAAYhUAAAAAAAECFQAAAAAAAaIVAAAAAAACQhUAAAAAAALiFQAAAAAAA4IVAAAAAAAAIhkAAAAAAADCGQAAAAAAAWIZAAAAAAACAhkAAAAAAAKiGQAAAAAAA0IZAAAAAAAD4hkAAAAAAACCHQAAAAAAASIdAAAAAAABwh0AAAAAAAJiHQAAAAAAAwIdAAAAAAADoh0AAAAAAABCIQAAAAAAAOIhAAAAAAABgiEAAAAAAAIiIQAAAAAAAsIhAAAAAAADYiEAAAAAAAACJQAAAAAAAKIlAAAAAAABQiUAAAAAAAHiJQAAAAAAAoIlAAAAAAADIiUAAAAAAAPCJQAAAAAAAGIpAAAAAAABAikAAAAAAAGiKQAAAAAAAkIpAAAAAAAC4ikAAAAAAAOCKQAAAAAAACItAAAAAAAAwi0AAAAAAAFiLQAAAAAAAgItAAAAAAACoi0AAAAAAANCLQAAAAAAA+ItAAAAAAAAgjEAAAAAAAEiMQAAAAAAAcIxAAAAAAACYjEAAAAAAAMCMQAAAAAAA6IxAAAAAAAAQjUAAAAAAADiNQAAAAAAAYI1AAAAAAACIjUAAAAAAALCNQAAAAAAA2I1AAAAAAAAAjkAAAAAAACiOQAAAAAAAUI5AAAAAAAB4jkAAAAAAAKCOQAAAAAAAyI5AAAAAAADwjkAAAAAAABiPQAAAAAAAQI9AAAAAAABoj0AAAAAAAJCPQAAAAAAAuI9AAAAAAADgj0AAAAAAAASQQAAAAAAAGJBAAAAAAAAskEAAAAAAAECQQAAAAAAAVJBAAAAAAABokEAAAAAAAHyQQAAAAAAAkJBAAAAAAACkkEAAAAAAALiQQAAAAAAAzJBAAAAAAADgkEAAAAAAAPSQQAAAAAAACJFAAAAAAAAckUAAAAAAADCRQAAAAAAARJFAAAAAAABYkUAAAAAAAGyRQAAAAAAAgJFAAAAAAACUkUAAAAAAAKiRQAAAAAAAvJFAAAAAAADQkUAAAAAAAOSRQAAAAAAA+JFAAAAAAAAMkkAAAAAAACCSQAAAAAAANJJAAAAAAABIkkAAAAAAAFySQAAAAAAAcJJAAAAAAACEkkAAAAAAAJiSQAAAAAAArJJAAAAAAADAkkAAAAAAANSSQAAAAAAA6JJAAAAAAAD8kkAAAAAAABCTQAAAAAAAJJNAAAAAAAA4k0AAAAAAAEyTQAAAAAAAYJNAAAAAAAB0k0AAAAAAAIiTQAAAAAAAnJNAAAAAAACwk0AAAAAAAMSTQAAAAAAA2JNAAAAAAADsk0AAAAAAAACUQAAAAAAAFJRAAAAAAAAolEAAAAAAADyUQAAAAAAAUJRAAAAAAABklEAAAAAAAHiUQAAAAAAAjJRAAAAAAACglEAAAAAAALSUQAAAAAAAyJRAAAAAAADclEAAAAAAAPCUQAAAAAAABJVAAAAAAAAYlUAAAAAAACyVQAAAAAAAQJVAAAAAAABUlUAAAAAAAGiVQAAAAAAAfJVAAAAAAACQlUAAAAAAAKSVQAAAAAAAuJVAAAAAAADMlUAAAAAAAOCVQAAAAAAA9JVAAAAAAAAIlkAAAAAAAByWQAAAAAAAMJZAAAAAAABElkAAAAAAAFiWQAAAAAAAbJZAAAAAAACAlkAAAAAAAJSWQAAAAAAAqJZAAAAAAAC8lkAAAAAAANCWQAAAAAAA5JZAAAAAAAD4lkAAAAAAAAyXQAAAAAAAIJdAAAAAAAA0l0AAAAAAAEiXQAAAAAAAXJdAAAAAAABwl0AAAAAAAISXQAAAAAAAmJdAAAAAAACsl0AAAAAAAMCXQAAAAAAA1JdAAAAAAADol0AAAAAAAPyXQAAAAAAAEJhAAAAAAAAkmEAAAAAAADiYQAAAAAAATJhAAAAAAABgmEAAAAAAAHSYQAAAAAAAiJhAAAAAAACcmEAAAAAAALCYQAAAAAAAxJhAAAAAAADYmEAAAAAAAOyYQAAAAAAAAJlAAAAAAAAUmUAAAAAAACiZQAAAAAAAPJlAAAAAAABQmUAAAAAAAGSZQAAAAAAAeJlAAAAAAACMmUAAAAAAAKCZQAAAAAAAtJlAAAAAAADImUAAAAAAANyZQAAAAAAA8JlAAAAAAAAEmkAAAAAAABiaQAAAAAAALJpAAAAAAABAmkAAAAAAAFSaQAAAAAAAaJpAAAAAAAB8mkAAAAAAAJCaQAAAAAAApJpAAAAAAAC4mkAAAAAAAMyaQAAAAAAA4JpAAAAAAAD0mkAAAAAAAAibQAAAAAAAHJtAAAAAAAAwm0AAAAAAAESbQAAAAAAAWJtAAAAAAABsm0AAAAAAAICbQAAAAAAAlJtAAAAAAACom0AAAAAAALybQAAAAAAA0JtAAAAAAADkm0AAAAAAAPibQAAAAAAADJxAAAAAAAAgnEAAAAAAADScQAAAAAAASJxAAAAAAABcnEAAAAAAAHCcQAAAAAAAhJxAAAAAAACYnEAAAAAAAKycQAAAAAAAwJxAAAAAAADUnEAAAAAAAOicQAAAAAAA/JxAAAAAAAAQnUAAAAAAACSdQAAAAAAAOJ1AAAAAAABMnUAAAAAAAGCdQAAAAAAAdJ1AAAAAAACInUAAAAAAAJydQAAAAAAAsJ1AAAAAAADEnUAAAAAAANidQAAAAAAA7J1AAAAAAAAAnkAAAAAAABSeQAAAAAAAKJ5AAAAAAAA8nkAAAAAAAFCeQAAAAAAAZJ5AAAAAAAB4nkAAAAAAAIyeQAAAAAAAoJ5AAAAAAAC0nkAAAAAAAMieQAAAAAAA3J5AAAAAAADwnkAAAAAAAASfQAAAAAAAGJ9AAAAAAAAsn0AAAAAAAECfQAAAAAAAVJ9AAAAAAABon0AAAAAAAHyfQAAAAAAAkJ9AAAAAAACkn0AAAAAAALifQAAAAAAAzJ9AAAAAAADgn0AAAAAAAPSfQAAAAAAABKBAAAAAAAAOoEAAAAAAABigQAAAAAAAIqBAAAAAAAAsoEAAAAAAADagQAAAAAAAQKBAAAAAAABKoEAAAAAAAFSgQAAAAAAAXqBAAAAAAABooEAAAAAAAHKgQAAAAAAAfKBAAAAAAACGoEAAAAAAAJCgQAAAAAAAmqBAAAAAAACkoEAAAAAAAK6gQAAAAAAAuKBAAAAAAADCoEAAAAAAAMygQAAAAAAA1qBAAAAAAADgoEAAAAAAAOqgQAAAAAAA9KBAAAAAAAD+oEAAAAAAAAihQAAAAAAAEqFAAAAAAAAcoUAAAAAAACahQAAAAAAAMKFAAAAAAAA6oUAAAAAAAEShQAAAAAAATqFAAAAAAABYoUAAAAAAAGKhQAAAAAAAbKFAAAAAAAB2oUAAAAAAAIChQAAAAAAAiqFAAAAAAACUoUAAAAAAAJ6hQAAAAAAAqKFAAAAAAACyoUAAAAAAALyhQAAAAAAAxqFAAAAAAADQoUAAAAAAANqhQAAAAAAA5KFAAAAAAADuoUAAAAAAAPihQAAAAAAAAqJAAAAAAAAMokAAAAAAABaiQAAAAAAAIKJAAAAAAAAqokAAAAAAADSiQAAAAAAAPqJAAAAAAABIokAAAAAAAFKiQAAAAAAAXKJAAAAAAABmokAAAAAAAHCiQAAAAAAAeqJAAAAAAACEokAAAAAAAI6iQAAAAAAAmKJAAAAAAACiokAAAAAAAKyiQAAAAAAAtqJAAAAAAADAokAAAAAAAMqiQAAAAAAA1KJAAAAAAADeokAAAAAAAOiiQAAAAAAA8qJAAAAAAAD8okAAAAAAAAajQAAAAAAAEKNAAAAAAAAao0AAAAAAACSjQAAAAAAALqNAAAAAAAA4o0AAAAAAAEKjQAAAAAAATKNAAAAAAABWo0AAAAAAAGCjQAAAAAAAaqNAAAAAAAB0o0AAAAAAAH6jQAAAAAAAiKNAAAAAAACSo0AAAAAAAJyjQAAAAAAApqNAAAAAAACwo0AAAAAAALqjQAAAAAAAxKNAAAAAAADOo0AAAAAAANijQAAAAAAA4qNAAAAAAADso0AAAAAAAPajQAAAAAAAAKRAAAAAAAAKpEAAAAAAABSkQAAAAAAAHqRAAAAAAAAopEAAAAAAADKkQAAAAAAAPKRAAAAAAABGpEAAAAAAAFCkQAAAAAAAWqRAAAAAAABkpEAAAAAAAG6kQAAAAAAAeKRAAAAAAACCpEAAAAAAAIykQAAAAAAAlqRAAAAAAACgpEAAAAAAAKqkQAAAAAAAtKRAAAAAAAC+pEAAAAAAAMikQAAAAAAA0qRAAAAAAADcpEAAAAAAAOakQAAAAAAA8KRAAAAAAAD6pEAAAAAAAASlQAAAAAAADqVAAAAAAAAYpUAAAAAAACKlQAAAAAAALKVAAAAAAAA2pUAAAAAAAEClQAAAAAAASqVAAAAAAABUpUAAAAAAAF6lQAAAAAAAaKVAAAAAAABypUAAAAAAAHylQAAAAAAAhqVAAAAAAACQpUAAAAAAAJqlQAAAAAAApKVAAAAAAACupUAAAAAAALilQAAAAAAAwqVAAAAAAADMpUAAAAAAANalQAAAAAAA4KVAAAAAAADqpUAAAAAAAPSlQAAAAAAA/qVAAAAAAAAIpkAAAAAAABKmQAAAAAAAHKZAAAAAAAAmpkAAAAAAADCmQAAAAAAAOqZAAAAAAABEpkAAAAAAAE6mQAAAAAAAWKZAAAAAAABipkAAAAAAAGymQAAAAAAAdqZAAAAAAACApkAAAAAAAIqmQAAAAAAAlKZAAAAAAACepkAAAAAAAKimQAAAAAAAsqZAAAAAAAC8pkAAAAAAAMamQAAAAAAA0KZAAAAAAADapkAAAAAAAOSmQAAAAAAA7qZAAAAAAAD4pkAAAAAAAAKnQAAAAAAADKdAAAAAAAAWp0AAAAAAACCnQAAAAAAAKqdAAAAAAAA0p0AAAAAAAD6nQAAAAAAASKdAAAAAAABSp0AAAAAAAFynQAAAAAAAZqdAAAAAAABwp0AAAAAAAHqnQAAAAAAAhKdAAAAAAACOp0AAAAAAAJinQAAAAAAAoqdAAAAAAACsp0AAAAAAALanQAAAAAAAwKdAAAAAAADKp0AAAAAAANSnQAAAAAAA3qdAAAAAAADop0AAAAAAAPKnQAAAAAAA/KdAAAAAAAAGqEAAAAAAABCoQAAAAAAAGqhAAAAAAAAkqEAAAAAAAC6oQAAAAAAAOKhAAAAAAABCqEAAAAAAAEyoQAAAAAAAVqhAAAAAAABgqEAAAAAAAGqoQAAAAAAAdKhAAAAAAAB+qEAAAAAAAIioQAAAAAAAkqhAAAAAAACcqEAAAAAAAKaoQAAAAAAAsKhAAAAAAAC6qEAAAAAAAMSoQAAAAAAAzqhAAAAAAADYqEAAAAAAAOKoQAAAAAAA7KhAAAAAAAD2qEAAAAAAAACpQAAAAAAACqlAAAAAAAAUqUAAAAAAAB6pQAAAAAAAKKlAAAAAAAAyqUAAAAAAADypQAAAAAAARqlAAAAAAABQqUAAAAAAAFqpQAAAAAAAZKlAAAAAAABuqUAAAAAAAHipQAAAAAAAgqlAAAAAAACMqUAAAAAAAJapQAAAAAAAoKlAAAAAAACqqUAAAAAAALSpQAAAAAAAvqlAAAAAAADIqUAAAAAAANKpQAAAAAAA3KlAAAAAAADmqUAAAAAAAPCpQAAAAAAA+qlAAAAAAAAEqkAAAAAAAA6qQAAAAAAAGKpAAAAAAAAiqkAAAAAAACyqQAAAAAAANqpAAAAAAABAqkAAAAAAAEqqQAAAAAAAVKpAAAAAAABeqkAAAAAAAGiqQAAAAAAAcqpAAAAAAAB8qkAAAAAAAIaqQAAAAAAAkKpAAAAAAACaqkAAAAAAAKSqQAAAAAAArqpAAAAAAAC4qkAAAAAAAMKqQAAAAAAAzKpAAAAAAADWqkAAAAAAAOCqQAAAAAAA6qpAAAAAAAD0qkAAAAAAAP6qQAAAAAAACKtAAAAAAAASq0AAAAAAAByrQAAAAAAAJqtAAAAAAAAwq0AAAAAAADqrQAAAAAAARKtAAAAAAABOq0AAAAAAAFirQAAAAAAAYqtAAAAAAABsq0AAAAAAAHarQAAAAAAAgKtAAAAAAACKq0AAAAAAAJSrQAAAAAAAnqtAAAAAAACoq0AAAAAAALKrQAAAAAAAvKtAAAAAAADGq0AAAAAAANCrQAAAAAAA2qtAAAAAAADkq0AAAAAAAO6rQA==",
          "dtype": "f8"
         },
         "y": {
          "bdata": "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",
          "dtype": "f8"
         }
        }
       ],
       "layout": {
        "template": {
         "data": {
          "bar": [
           {
            "error_x": {
             "color": "#2a3f5f"
            },
            "error_y": {
             "color": "#2a3f5f"
            },
            "marker": {
             "line": {
              "color": "white",
              "width": 0.5
             },
             "pattern": {
              "fillmode": "overlay",
              "size": 10,
              "solidity": 0.2
             }
            },
            "type": "bar"
           }
          ],
          "barpolar": [
           {
            "marker": {
             "line": {
              "color": "white",
              "width": 0.5
             },
             "pattern": {
              "fillmode": "overlay",
              "size": 10,
              "solidity": 0.2
             }
            },
            "type": "barpolar"
           }
          ],
          "carpet": [
           {
            "aaxis": {
             "endlinecolor": "#2a3f5f",
             "gridcolor": "#C8D4E3",
             "linecolor": "#C8D4E3",
             "minorgridcolor": "#C8D4E3",
             "startlinecolor": "#2a3f5f"
            },
            "baxis": {
             "endlinecolor": "#2a3f5f",
             "gridcolor": "#C8D4E3",
             "linecolor": "#C8D4E3",
             "minorgridcolor": "#C8D4E3",
             "startlinecolor": "#2a3f5f"
            },
            "type": "carpet"
           }
          ],
          "choropleth": [
           {
            "colorbar": {
             "outlinewidth": 0,
             "ticks": ""
            },
            "type": "choropleth"
           }
          ],
          "contour": [
           {
            "colorbar": {
             "outlinewidth": 0,
             "ticks": ""
            },
            "colorscale": [
             [
              0,
              "#0d0887"
             ],
             [
              0.1111111111111111,
              "#46039f"
             ],
             [
              0.2222222222222222,
              "#7201a8"
             ],
             [
              0.3333333333333333,
              "#9c179e"
             ],
             [
              0.4444444444444444,
              "#bd3786"
             ],
             [
              0.5555555555555556,
              "#d8576b"
             ],
             [
              0.6666666666666666,
              "#ed7953"
             ],
             [
              0.7777777777777778,
              "#fb9f3a"
             ],
             [
              0.8888888888888888,
              "#fdca26"
             ],
             [
              1,
              "#f0f921"
             ]
            ],
            "type": "contour"
           }
          ],
          "contourcarpet": [
           {
            "colorbar": {
             "outlinewidth": 0,
             "ticks": ""
            },
            "type": "contourcarpet"
           }
          ],
          "heatmap": [
           {
            "colorbar": {
             "outlinewidth": 0,
             "ticks": ""
            },
            "colorscale": [
             [
              0,
              "#0d0887"
             ],
             [
              0.1111111111111111,
              "#46039f"
             ],
             [
              0.2222222222222222,
              "#7201a8"
             ],
             [
              0.3333333333333333,
              "#9c179e"
             ],
             [
              0.4444444444444444,
              "#bd3786"
             ],
             [
              0.5555555555555556,
              "#d8576b"
             ],
             [
              0.6666666666666666,
              "#ed7953"
             ],
             [
              0.7777777777777778,
              "#fb9f3a"
             ],
             [
              0.8888888888888888,
              "#fdca26"
             ],
             [
              1,
              "#f0f921"
             ]
            ],
            "type": "heatmap"
           }
          ],
          "histogram": [
           {
            "marker": {
             "pattern": {
              "fillmode": "overlay",
              "size": 10,
              "solidity": 0.2
             }
            },
            "type": "histogram"
           }
          ],
          "histogram2d": [
           {
            "colorbar": {
             "outlinewidth": 0,
             "ticks": ""
            },
            "colorscale": [
             [
              0,
              "#0d0887"
             ],
             [
              0.1111111111111111,
              "#46039f"
             ],
             [
              0.2222222222222222,
              "#7201a8"
             ],
             [
              0.3333333333333333,
              "#9c179e"
             ],
             [
              0.4444444444444444,
              "#bd3786"
             ],
             [
              0.5555555555555556,
              "#d8576b"
             ],
             [
              0.6666666666666666,
              "#ed7953"
             ],
             [
              0.7777777777777778,
              "#fb9f3a"
             ],
             [
              0.8888888888888888,
              "#fdca26"
             ],
             [
              1,
              "#f0f921"
             ]
            ],
            "type": "histogram2d"
           }
          ],
          "histogram2dcontour": [
           {
            "colorbar": {
             "outlinewidth": 0,
             "ticks": ""
            },
            "colorscale": [
             [
              0,
              "#0d0887"
             ],
             [
              0.1111111111111111,
              "#46039f"
             ],
             [
              0.2222222222222222,
              "#7201a8"
             ],
             [
              0.3333333333333333,
              "#9c179e"
             ],
             [
              0.4444444444444444,
              "#bd3786"
             ],
             [
              0.5555555555555556,
              "#d8576b"
             ],
             [
              0.6666666666666666,
              "#ed7953"
             ],
             [
              0.7777777777777778,
              "#fb9f3a"
             ],
             [
              0.8888888888888888,
              "#fdca26"
             ],
             [
              1,
              "#f0f921"
             ]
            ],
            "type": "histogram2dcontour"
           }
          ],
          "mesh3d": [
           {
            "colorbar": {
             "outlinewidth": 0,
             "ticks": ""
            },
            "type": "mesh3d"
           }
          ],
          "parcoords": [
           {
            "line": {
             "colorbar": {
              "outlinewidth": 0,
              "ticks": ""
             }
            },
            "type": "parcoords"
           }
          ],
          "pie": [
           {
            "automargin": true,
            "type": "pie"
           }
          ],
          "scatter": [
           {
            "fillpattern": {
             "fillmode": "overlay",
             "size": 10,
             "solidity": 0.2
            },
            "type": "scatter"
           }
          ],
          "scatter3d": [
           {
            "line": {
             "colorbar": {
              "outlinewidth": 0,
              "ticks": ""
             }
            },
            "marker": {
             "colorbar": {
              "outlinewidth": 0,
              "ticks": ""
             }
            },
            "type": "scatter3d"
           }
          ],
          "scattercarpet": [
           {
            "marker": {
             "colorbar": {
              "outlinewidth": 0,
              "ticks": ""
             }
            },
            "type": "scattercarpet"
           }
          ],
          "scattergeo": [
           {
            "marker": {
             "colorbar": {
              "outlinewidth": 0,
              "ticks": ""
             }
            },
            "type": "scattergeo"
           }
          ],
          "scattergl": [
           {
            "marker": {
             "colorbar": {
              "outlinewidth": 0,
              "ticks": ""
             }
            },
            "type": "scattergl"
           }
          ],
          "scattermap": [
           {
            "marker": {
             "colorbar": {
              "outlinewidth": 0,
              "ticks": ""
             }
            },
            "type": "scattermap"
           }
          ],
          "scattermapbox": [
           {
            "marker": {
             "colorbar": {
              "outlinewidth": 0,
              "ticks": ""
             }
            },
            "type": "scattermapbox"
           }
          ],
          "scatterpolar": [
           {
            "marker": {
             "colorbar": {
              "outlinewidth": 0,
              "ticks": ""
             }
            },
            "type": "scatterpolar"
           }
          ],
          "scatterpolargl": [
           {
            "marker": {
             "colorbar": {
              "outlinewidth": 0,
              "ticks": ""
             }
            },
            "type": "scatterpolargl"
           }
          ],
          "scatterternary": [
           {
            "marker": {
             "colorbar": {
              "outlinewidth": 0,
              "ticks": ""
             }
            },
            "type": "scatterternary"
           }
          ],
          "surface": [
           {
            "colorbar": {
             "outlinewidth": 0,
             "ticks": ""
            },
            "colorscale": [
             [
              0,
              "#0d0887"
             ],
             [
              0.1111111111111111,
              "#46039f"
             ],
             [
              0.2222222222222222,
              "#7201a8"
             ],
             [
              0.3333333333333333,
              "#9c179e"
             ],
             [
              0.4444444444444444,
              "#bd3786"
             ],
             [
              0.5555555555555556,
              "#d8576b"
             ],
             [
              0.6666666666666666,
              "#ed7953"
             ],
             [
              0.7777777777777778,
              "#fb9f3a"
             ],
             [
              0.8888888888888888,
              "#fdca26"
             ],
             [
              1,
              "#f0f921"
             ]
            ],
            "type": "surface"
           }
          ],
          "table": [
           {
            "cells": {
             "fill": {
              "color": "#EBF0F8"
             },
             "line": {
              "color": "white"
             }
            },
            "header": {
             "fill": {
              "color": "#C8D4E3"
             },
             "line": {
              "color": "white"
             }
            },
            "type": "table"
           }
          ]
         },
         "layout": {
          "annotationdefaults": {
           "arrowcolor": "#2a3f5f",
           "arrowhead": 0,
           "arrowwidth": 1
          },
          "autotypenumbers": "strict",
          "coloraxis": {
           "colorbar": {
            "outlinewidth": 0,
            "ticks": ""
           }
          },
          "colorscale": {
           "diverging": [
            [
             0,
             "#8e0152"
            ],
            [
             0.1,
             "#c51b7d"
            ],
            [
             0.2,
             "#de77ae"
            ],
            [
             0.3,
             "#f1b6da"
            ],
            [
             0.4,
             "#fde0ef"
            ],
            [
             0.5,
             "#f7f7f7"
            ],
            [
             0.6,
             "#e6f5d0"
            ],
            [
             0.7,
             "#b8e186"
            ],
            [
             0.8,
             "#7fbc41"
            ],
            [
             0.9,
             "#4d9221"
            ],
            [
             1,
             "#276419"
            ]
           ],
           "sequential": [
            [
             0,
             "#0d0887"
            ],
            [
             0.1111111111111111,
             "#46039f"
            ],
            [
             0.2222222222222222,
             "#7201a8"
            ],
            [
             0.3333333333333333,
             "#9c179e"
            ],
            [
             0.4444444444444444,
             "#bd3786"
            ],
            [
             0.5555555555555556,
             "#d8576b"
            ],
            [
             0.6666666666666666,
             "#ed7953"
            ],
            [
             0.7777777777777778,
             "#fb9f3a"
            ],
            [
             0.8888888888888888,
             "#fdca26"
            ],
            [
             1,
             "#f0f921"
            ]
           ],
           "sequentialminus": [
            [
             0,
             "#0d0887"
            ],
            [
             0.1111111111111111,
             "#46039f"
            ],
            [
             0.2222222222222222,
             "#7201a8"
            ],
            [
             0.3333333333333333,
             "#9c179e"
            ],
            [
             0.4444444444444444,
             "#bd3786"
            ],
            [
             0.5555555555555556,
             "#d8576b"
            ],
            [
             0.6666666666666666,
             "#ed7953"
            ],
            [
             0.7777777777777778,
             "#fb9f3a"
            ],
            [
             0.8888888888888888,
             "#fdca26"
            ],
            [
             1,
             "#f0f921"
            ]
           ]
          },
          "colorway": [
           "#636efa",
           "#EF553B",
           "#00cc96",
           "#ab63fa",
           "#FFA15A",
           "#19d3f3",
           "#FF6692",
           "#B6E880",
           "#FF97FF",
           "#FECB52"
          ],
          "font": {
           "color": "#2a3f5f"
          },
          "geo": {
           "bgcolor": "white",
           "lakecolor": "white",
           "landcolor": "white",
           "showlakes": true,
           "showland": true,
           "subunitcolor": "#C8D4E3"
          },
          "hoverlabel": {
           "align": "left"
          },
          "hovermode": "closest",
          "mapbox": {
           "style": "light"
          },
          "paper_bgcolor": "white",
          "plot_bgcolor": "white",
          "polar": {
           "angularaxis": {
            "gridcolor": "#EBF0F8",
            "linecolor": "#EBF0F8",
            "ticks": ""
           },
           "bgcolor": "white",
           "radialaxis": {
            "gridcolor": "#EBF0F8",
            "linecolor": "#EBF0F8",
            "ticks": ""
           }
          },
          "scene": {
           "xaxis": {
            "backgroundcolor": "white",
            "gridcolor": "#DFE8F3",
            "gridwidth": 2,
            "linecolor": "#EBF0F8",
            "showbackground": true,
            "ticks": "",
            "zerolinecolor": "#EBF0F8"
           },
           "yaxis": {
            "backgroundcolor": "white",
            "gridcolor": "#DFE8F3",
            "gridwidth": 2,
            "linecolor": "#EBF0F8",
            "showbackground": true,
            "ticks": "",
            "zerolinecolor": "#EBF0F8"
           },
           "zaxis": {
            "backgroundcolor": "white",
            "gridcolor": "#DFE8F3",
            "gridwidth": 2,
            "linecolor": "#EBF0F8",
            "showbackground": true,
            "ticks": "",
            "zerolinecolor": "#EBF0F8"
           }
          },
          "shapedefaults": {
           "line": {
            "color": "#2a3f5f"
           }
          },
          "ternary": {
           "aaxis": {
            "gridcolor": "#DFE8F3",
            "linecolor": "#A2B1C6",
            "ticks": ""
           },
           "baxis": {
            "gridcolor": "#DFE8F3",
            "linecolor": "#A2B1C6",
            "ticks": ""
           },
           "bgcolor": "white",
           "caxis": {
            "gridcolor": "#DFE8F3",
            "linecolor": "#A2B1C6",
            "ticks": ""
           }
          },
          "title": {
           "x": 0.05
          },
          "xaxis": {
           "automargin": true,
           "gridcolor": "#EBF0F8",
           "linecolor": "#EBF0F8",
           "ticks": "",
           "title": {
            "standoff": 15
           },
           "zerolinecolor": "#EBF0F8",
           "zerolinewidth": 2
          },
          "yaxis": {
           "automargin": true,
           "gridcolor": "#EBF0F8",
           "linecolor": "#EBF0F8",
           "ticks": "",
           "title": {
            "standoff": 15
           },
           "zerolinecolor": "#EBF0F8",
           "zerolinewidth": 2
          }
         }
        },
        "title": {
         "text": "Difference Between Two Files: (sig_n - sig_p)₁ - (sig_n - sig_p)₂"
        },
        "xaxis": {
         "title": {
          "text": "Tau"
         }
        },
        "yaxis": {
         "title": {
          "text": "Difference in Signal (Bz)"
         }
        }
       }
      }
     },
     "metadata": {},
     "output_type": "display_data"
    }
   ],
   "source": [
    "plot_difference_between_files([\"C:/Users/HFNV/diamondgui/temp/backup/250702h16m12s55_HahnEcho-default.pkl\",\"C:/Users/HFNV/diamondgui/temp/backup/250702h16m59s08_HahnEcho-default.pkl\"],[\"5 MHz 1vpp 45min averaging\",\"45 min averaging, no input Bz\"])"
   ]
  },
  {
   "cell_type": "code",
   "execution_count": 34,
   "id": "bf97e94b",
   "metadata": {},
   "outputs": [
    {
     "name": "stdout",
     "output_type": "stream",
     "text": [
      "Data type: <class 'tuple'>\n",
      "Data type: <class 'tuple'>\n"
     ]
    },
    {
     "data": {
      "application/vnd.plotly.v1+json": {
       "config": {
        "plotlyServerURL": "https://plot.ly"
       },
       "data": [
        {
         "mode": "lines+markers",
         "name": "5 MHz 2 hours averaging",
         "type": "scatter",
         "x": {
          "bdata": "AAAAAADAUkAAAAAAAEBVQAAAAAAAwFdAAAAAAABAWkAAAAAAAMBcQAAAAAAAQF9AAAAAAADgYEAAAAAAACBiQAAAAAAAYGNAAAAAAACgZEAAAAAAAOBlQAAAAAAAIGdAAAAAAABgaEAAAAAAAKBpQAAAAAAA4GpAAAAAAAAgbEAAAAAAAGBtQAAAAAAAoG5AAAAAAADgb0AAAAAAAJBwQAAAAAAAMHFAAAAAAADQcUAAAAAAAHByQAAAAAAAEHNAAAAAAACwc0AAAAAAAFB0QAAAAAAA8HRAAAAAAACQdUAAAAAAADB2QAAAAAAA0HZAAAAAAABwd0AAAAAAABB4QAAAAAAAsHhAAAAAAABQeUAAAAAAAPB5QAAAAAAAkHpAAAAAAAAwe0AAAAAAANB7QAAAAAAAcHxAAAAAAAAQfUAAAAAAALB9QAAAAAAAUH5AAAAAAADwfkAAAAAAAJB/QAAAAAAAGIBAAAAAAABogEAAAAAAALiAQAAAAAAACIFAAAAAAABYgUAAAAAAAKiBQAAAAAAA+IFAAAAAAABIgkAAAAAAAJiCQAAAAAAA6IJAAAAAAAA4g0AAAAAAAIiDQAAAAAAA2INAAAAAAAAohEAAAAAAAHiEQAAAAAAAyIRAAAAAAAAYhUAAAAAAAGiFQAAAAAAAuIVAAAAAAAAIhkAAAAAAAFiGQAAAAAAAqIZAAAAAAAD4hkAAAAAAAEiHQAAAAAAAmIdAAAAAAADoh0AAAAAAADiIQAAAAAAAiIhAAAAAAADYiEAAAAAAACiJQAAAAAAAeIlAAAAAAADIiUAAAAAAABiKQAAAAAAAaIpAAAAAAAC4ikAAAAAAAAiLQAAAAAAAWItAAAAAAACoi0AAAAAAAPiLQAAAAAAASIxAAAAAAACYjEAAAAAAAOiMQAAAAAAAOI1AAAAAAACIjUAAAAAAANiNQAAAAAAAKI5AAAAAAAB4jkAAAAAAAMiOQAAAAAAAGI9AAAAAAABoj0AAAAAAALiPQAAAAAAABJBAAAAAAAAskEAAAAAAAFSQQAAAAAAAfJBAAAAAAACkkEAAAAAAAMyQQA==",
          "dtype": "f8"
         },
         "y": {
          "bdata": "gHUyA3NRMr8AsViSR801vwDqlynKAUC/4KRtjvTtQL+A5fMRWXVAv0AAtLxcUj6/AIXrWcxCPb9Azoi4e9Q6v4D7ELaZoDy/QAe53q1WO7+AjkhRg2U9v4CnSdW5xjy/AIOiJQSZP7/gW8QJO2ZAv8AZM6X8rUC/IJNAGO0MQr9gAoh8Hj9BvwC/n7Zf8EC/wKmrVBfGQr9gjLxDgbtCv8DQN9Ku4UK/YKDaWc0bQ7/A/LRtcKhBv0BKvN8LhUO/wFLsOtu4Qr/AjGogw/1Dv6Apc38C8EO/IF4re8d9Qr/AT9XQvyREv8DuXUrh9UG/gJLBKWfHQr8Ax2QJsOZCv+DSclQyOEO/4NmpnVhEQr9ABiOkLM5CvwDuGGj0FUO/4HlKTVe+Qb8AY6kM4ZFBv8AWD/oPPEK/AEVnfVCXQb8gpBgwGDxCvwBV2sLD5kG/ILAauV/EQL/AemnEmuRBvwDQDyr7s0C/QDBAnGjFQb+AVXZo+2BAvwCD+aDFBD+/gJBOTEx0P78AZhw6mTc/vwDIHzBEVD6/gLJvvvJ/PL8APr12NPI9v4AH2u9O+Ty/gIYTdd+lOr9AoTf3I0s8v4DdZijDWju/ADvRt4lZOr8AjVkvVuQ4vwBn5BRe+Dq/gLI8wW1sO79AhDrotew6v4B6M0nl6Tm/gKlGxNmZOr/As+KcpVI6vwD7L/FxTjm/wCCJVtYXOL+ATlrwlYw6v8D18WNInDq/gEe6LZ1yOb9AdyeALrw4v4DvrQDSrzi/QPqSoWcbOr+AZT28PIo4v8AfL8mVgzi/wPw+sGxjNr+APpKi+6U3v0DnqYx3uTa/ALyztboFN7/AwN0eX242vwAJcnYpTDm/wBk4d1BLO7+ADE2TyEg8v4BFXBPlZT6/QLGzObOrO7+AHnUzJIw9vwCENHDAczy/gK3YC6IPPb+AUK1CJmo7v8A6e/HMVD6/gEpkwvS4PL+AIE8HAfs/vwCy1gGu7z+/wMrJ5fyhP78A41dVH2I/vwDqXpZrRT6/gPYJ/hwZPr9A9hxmQbE+v4B32xiaGj+/wFkgjFmFPr+AEJaITLs/vw==",
          "dtype": "f8"
         }
        },
        {
         "mode": "lines+markers",
         "name": "",
         "type": "scatter",
         "x": {
          "bdata": "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",
          "dtype": "f8"
         },
         "y": {
          "bdata": "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",
          "dtype": "f8"
         }
        }
       ],
       "layout": {
        "template": {
         "data": {
          "bar": [
           {
            "error_x": {
             "color": "#2a3f5f"
            },
            "error_y": {
             "color": "#2a3f5f"
            },
            "marker": {
             "line": {
              "color": "white",
              "width": 0.5
             },
             "pattern": {
              "fillmode": "overlay",
              "size": 10,
              "solidity": 0.2
             }
            },
            "type": "bar"
           }
          ],
          "barpolar": [
           {
            "marker": {
             "line": {
              "color": "white",
              "width": 0.5
             },
             "pattern": {
              "fillmode": "overlay",
              "size": 10,
              "solidity": 0.2
             }
            },
            "type": "barpolar"
           }
          ],
          "carpet": [
           {
            "aaxis": {
             "endlinecolor": "#2a3f5f",
             "gridcolor": "#C8D4E3",
             "linecolor": "#C8D4E3",
             "minorgridcolor": "#C8D4E3",
             "startlinecolor": "#2a3f5f"
            },
            "baxis": {
             "endlinecolor": "#2a3f5f",
             "gridcolor": "#C8D4E3",
             "linecolor": "#C8D4E3",
             "minorgridcolor": "#C8D4E3",
             "startlinecolor": "#2a3f5f"
            },
            "type": "carpet"
           }
          ],
          "choropleth": [
           {
            "colorbar": {
             "outlinewidth": 0,
             "ticks": ""
            },
            "type": "choropleth"
           }
          ],
          "contour": [
           {
            "colorbar": {
             "outlinewidth": 0,
             "ticks": ""
            },
            "colorscale": [
             [
              0,
              "#0d0887"
             ],
             [
              0.1111111111111111,
              "#46039f"
             ],
             [
              0.2222222222222222,
              "#7201a8"
             ],
             [
              0.3333333333333333,
              "#9c179e"
             ],
             [
              0.4444444444444444,
              "#bd3786"
             ],
             [
              0.5555555555555556,
              "#d8576b"
             ],
             [
              0.6666666666666666,
              "#ed7953"
             ],
             [
              0.7777777777777778,
              "#fb9f3a"
             ],
             [
              0.8888888888888888,
              "#fdca26"
             ],
             [
              1,
              "#f0f921"
             ]
            ],
            "type": "contour"
           }
          ],
          "contourcarpet": [
           {
            "colorbar": {
             "outlinewidth": 0,
             "ticks": ""
            },
            "type": "contourcarpet"
           }
          ],
          "heatmap": [
           {
            "colorbar": {
             "outlinewidth": 0,
             "ticks": ""
            },
            "colorscale": [
             [
              0,
              "#0d0887"
             ],
             [
              0.1111111111111111,
              "#46039f"
             ],
             [
              0.2222222222222222,
              "#7201a8"
             ],
             [
              0.3333333333333333,
              "#9c179e"
             ],
             [
              0.4444444444444444,
              "#bd3786"
             ],
             [
              0.5555555555555556,
              "#d8576b"
             ],
             [
              0.6666666666666666,
              "#ed7953"
             ],
             [
              0.7777777777777778,
              "#fb9f3a"
             ],
             [
              0.8888888888888888,
              "#fdca26"
             ],
             [
              1,
              "#f0f921"
             ]
            ],
            "type": "heatmap"
           }
          ],
          "histogram": [
           {
            "marker": {
             "pattern": {
              "fillmode": "overlay",
              "size": 10,
              "solidity": 0.2
             }
            },
            "type": "histogram"
           }
          ],
          "histogram2d": [
           {
            "colorbar": {
             "outlinewidth": 0,
             "ticks": ""
            },
            "colorscale": [
             [
              0,
              "#0d0887"
             ],
             [
              0.1111111111111111,
              "#46039f"
             ],
             [
              0.2222222222222222,
              "#7201a8"
             ],
             [
              0.3333333333333333,
              "#9c179e"
             ],
             [
              0.4444444444444444,
              "#bd3786"
             ],
             [
              0.5555555555555556,
              "#d8576b"
             ],
             [
              0.6666666666666666,
              "#ed7953"
             ],
             [
              0.7777777777777778,
              "#fb9f3a"
             ],
             [
              0.8888888888888888,
              "#fdca26"
             ],
             [
              1,
              "#f0f921"
             ]
            ],
            "type": "histogram2d"
           }
          ],
          "histogram2dcontour": [
           {
            "colorbar": {
             "outlinewidth": 0,
             "ticks": ""
            },
            "colorscale": [
             [
              0,
              "#0d0887"
             ],
             [
              0.1111111111111111,
              "#46039f"
             ],
             [
              0.2222222222222222,
              "#7201a8"
             ],
             [
              0.3333333333333333,
              "#9c179e"
             ],
             [
              0.4444444444444444,
              "#bd3786"
             ],
             [
              0.5555555555555556,
              "#d8576b"
             ],
             [
              0.6666666666666666,
              "#ed7953"
             ],
             [
              0.7777777777777778,
              "#fb9f3a"
             ],
             [
              0.8888888888888888,
              "#fdca26"
             ],
             [
              1,
              "#f0f921"
             ]
            ],
            "type": "histogram2dcontour"
           }
          ],
          "mesh3d": [
           {
            "colorbar": {
             "outlinewidth": 0,
             "ticks": ""
            },
            "type": "mesh3d"
           }
          ],
          "parcoords": [
           {
            "line": {
             "colorbar": {
              "outlinewidth": 0,
              "ticks": ""
             }
            },
            "type": "parcoords"
           }
          ],
          "pie": [
           {
            "automargin": true,
            "type": "pie"
           }
          ],
          "scatter": [
           {
            "fillpattern": {
             "fillmode": "overlay",
             "size": 10,
             "solidity": 0.2
            },
            "type": "scatter"
           }
          ],
          "scatter3d": [
           {
            "line": {
             "colorbar": {
              "outlinewidth": 0,
              "ticks": ""
             }
            },
            "marker": {
             "colorbar": {
              "outlinewidth": 0,
              "ticks": ""
             }
            },
            "type": "scatter3d"
           }
          ],
          "scattercarpet": [
           {
            "marker": {
             "colorbar": {
              "outlinewidth": 0,
              "ticks": ""
             }
            },
            "type": "scattercarpet"
           }
          ],
          "scattergeo": [
           {
            "marker": {
             "colorbar": {
              "outlinewidth": 0,
              "ticks": ""
             }
            },
            "type": "scattergeo"
           }
          ],
          "scattergl": [
           {
            "marker": {
             "colorbar": {
              "outlinewidth": 0,
              "ticks": ""
             }
            },
            "type": "scattergl"
           }
          ],
          "scattermap": [
           {
            "marker": {
             "colorbar": {
              "outlinewidth": 0,
              "ticks": ""
             }
            },
            "type": "scattermap"
           }
          ],
          "scattermapbox": [
           {
            "marker": {
             "colorbar": {
              "outlinewidth": 0,
              "ticks": ""
             }
            },
            "type": "scattermapbox"
           }
          ],
          "scatterpolar": [
           {
            "marker": {
             "colorbar": {
              "outlinewidth": 0,
              "ticks": ""
             }
            },
            "type": "scatterpolar"
           }
          ],
          "scatterpolargl": [
           {
            "marker": {
             "colorbar": {
              "outlinewidth": 0,
              "ticks": ""
             }
            },
            "type": "scatterpolargl"
           }
          ],
          "scatterternary": [
           {
            "marker": {
             "colorbar": {
              "outlinewidth": 0,
              "ticks": ""
             }
            },
            "type": "scatterternary"
           }
          ],
          "surface": [
           {
            "colorbar": {
             "outlinewidth": 0,
             "ticks": ""
            },
            "colorscale": [
             [
              0,
              "#0d0887"
             ],
             [
              0.1111111111111111,
              "#46039f"
             ],
             [
              0.2222222222222222,
              "#7201a8"
             ],
             [
              0.3333333333333333,
              "#9c179e"
             ],
             [
              0.4444444444444444,
              "#bd3786"
             ],
             [
              0.5555555555555556,
              "#d8576b"
             ],
             [
              0.6666666666666666,
              "#ed7953"
             ],
             [
              0.7777777777777778,
              "#fb9f3a"
             ],
             [
              0.8888888888888888,
              "#fdca26"
             ],
             [
              1,
              "#f0f921"
             ]
            ],
            "type": "surface"
           }
          ],
          "table": [
           {
            "cells": {
             "fill": {
              "color": "#EBF0F8"
             },
             "line": {
              "color": "white"
             }
            },
            "header": {
             "fill": {
              "color": "#C8D4E3"
             },
             "line": {
              "color": "white"
             }
            },
            "type": "table"
           }
          ]
         },
         "layout": {
          "annotationdefaults": {
           "arrowcolor": "#2a3f5f",
           "arrowhead": 0,
           "arrowwidth": 1
          },
          "autotypenumbers": "strict",
          "coloraxis": {
           "colorbar": {
            "outlinewidth": 0,
            "ticks": ""
           }
          },
          "colorscale": {
           "diverging": [
            [
             0,
             "#8e0152"
            ],
            [
             0.1,
             "#c51b7d"
            ],
            [
             0.2,
             "#de77ae"
            ],
            [
             0.3,
             "#f1b6da"
            ],
            [
             0.4,
             "#fde0ef"
            ],
            [
             0.5,
             "#f7f7f7"
            ],
            [
             0.6,
             "#e6f5d0"
            ],
            [
             0.7,
             "#b8e186"
            ],
            [
             0.8,
             "#7fbc41"
            ],
            [
             0.9,
             "#4d9221"
            ],
            [
             1,
             "#276419"
            ]
           ],
           "sequential": [
            [
             0,
             "#0d0887"
            ],
            [
             0.1111111111111111,
             "#46039f"
            ],
            [
             0.2222222222222222,
             "#7201a8"
            ],
            [
             0.3333333333333333,
             "#9c179e"
            ],
            [
             0.4444444444444444,
             "#bd3786"
            ],
            [
             0.5555555555555556,
             "#d8576b"
            ],
            [
             0.6666666666666666,
             "#ed7953"
            ],
            [
             0.7777777777777778,
             "#fb9f3a"
            ],
            [
             0.8888888888888888,
             "#fdca26"
            ],
            [
             1,
             "#f0f921"
            ]
           ],
           "sequentialminus": [
            [
             0,
             "#0d0887"
            ],
            [
             0.1111111111111111,
             "#46039f"
            ],
            [
             0.2222222222222222,
             "#7201a8"
            ],
            [
             0.3333333333333333,
             "#9c179e"
            ],
            [
             0.4444444444444444,
             "#bd3786"
            ],
            [
             0.5555555555555556,
             "#d8576b"
            ],
            [
             0.6666666666666666,
             "#ed7953"
            ],
            [
             0.7777777777777778,
             "#fb9f3a"
            ],
            [
             0.8888888888888888,
             "#fdca26"
            ],
            [
             1,
             "#f0f921"
            ]
           ]
          },
          "colorway": [
           "#636efa",
           "#EF553B",
           "#00cc96",
           "#ab63fa",
           "#FFA15A",
           "#19d3f3",
           "#FF6692",
           "#B6E880",
           "#FF97FF",
           "#FECB52"
          ],
          "font": {
           "color": "#2a3f5f"
          },
          "geo": {
           "bgcolor": "white",
           "lakecolor": "white",
           "landcolor": "white",
           "showlakes": true,
           "showland": true,
           "subunitcolor": "#C8D4E3"
          },
          "hoverlabel": {
           "align": "left"
          },
          "hovermode": "closest",
          "mapbox": {
           "style": "light"
          },
          "paper_bgcolor": "white",
          "plot_bgcolor": "white",
          "polar": {
           "angularaxis": {
            "gridcolor": "#EBF0F8",
            "linecolor": "#EBF0F8",
            "ticks": ""
           },
           "bgcolor": "white",
           "radialaxis": {
            "gridcolor": "#EBF0F8",
            "linecolor": "#EBF0F8",
            "ticks": ""
           }
          },
          "scene": {
           "xaxis": {
            "backgroundcolor": "white",
            "gridcolor": "#DFE8F3",
            "gridwidth": 2,
            "linecolor": "#EBF0F8",
            "showbackground": true,
            "ticks": "",
            "zerolinecolor": "#EBF0F8"
           },
           "yaxis": {
            "backgroundcolor": "white",
            "gridcolor": "#DFE8F3",
            "gridwidth": 2,
            "linecolor": "#EBF0F8",
            "showbackground": true,
            "ticks": "",
            "zerolinecolor": "#EBF0F8"
           },
           "zaxis": {
            "backgroundcolor": "white",
            "gridcolor": "#DFE8F3",
            "gridwidth": 2,
            "linecolor": "#EBF0F8",
            "showbackground": true,
            "ticks": "",
            "zerolinecolor": "#EBF0F8"
           }
          },
          "shapedefaults": {
           "line": {
            "color": "#2a3f5f"
           }
          },
          "ternary": {
           "aaxis": {
            "gridcolor": "#DFE8F3",
            "linecolor": "#A2B1C6",
            "ticks": ""
           },
           "baxis": {
            "gridcolor": "#DFE8F3",
            "linecolor": "#A2B1C6",
            "ticks": ""
           },
           "bgcolor": "white",
           "caxis": {
            "gridcolor": "#DFE8F3",
            "linecolor": "#A2B1C6",
            "ticks": ""
           }
          },
          "title": {
           "x": 0.05
          },
          "xaxis": {
           "automargin": true,
           "gridcolor": "#EBF0F8",
           "linecolor": "#EBF0F8",
           "ticks": "",
           "title": {
            "standoff": 15
           },
           "zerolinecolor": "#EBF0F8",
           "zerolinewidth": 2
          },
          "yaxis": {
           "automargin": true,
           "gridcolor": "#EBF0F8",
           "linecolor": "#EBF0F8",
           "ticks": "",
           "title": {
            "standoff": 15
           },
           "zerolinecolor": "#EBF0F8",
           "zerolinewidth": 2
          }
         }
        },
        "title": {
         "text": "Averagig .718 MHz 1Vpp 5 minutes averaging "
        },
        "xaxis": {
         "title": {
          "text": "X Axis"
         }
        },
        "yaxis": {
         "title": {
          "text": "Y Axis"
         }
        }
       }
      }
     },
     "metadata": {},
     "output_type": "display_data"
    }
   ],
   "source": [
    "read_and_plot([\"C:/Users/HFNV/diamondgui/temp/backup/250703h11m48s09_HahnEcho-default.pkl\",\"C:/Users/HFNV/diamondgui/temp/backup/250702h16m12s55_HahnEcho-default.pkl\"],[\"5 MHz 2 hours averaging\",\"\"])"
   ]
  },
  {
   "cell_type": "code",
   "execution_count": 43,
   "id": "93901539",
   "metadata": {},
   "outputs": [
    {
     "name": "stdout",
     "output_type": "stream",
     "text": [
      "Data type: <class 'tuple'>\n",
      "Data type: <class 'tuple'>\n"
     ]
    }
   ],
   "source": [
    "Bz5MHz2hrs=load(\"C:/Users/HFNV/diamondgui/temp/backup/250703h11m48s09_HahnEcho-default.pkl\")\n",
    "NoBz45min=load(\"C:/Users/HFNV/diamondgui/temp/backup/250703h15m13s59_HahnEcho-default.pkl\")\n",
    "Bz_diff=Bz5MHz2hrs[1]['dataset']['sig_n']-Bz5MHz2hrs[1]['dataset']['sig_p']\n",
    "NoBz_diff=NoBz45min[1]['dataset']['sig_n']-NoBz45min[1]['dataset']['sig_p']\n"
   ]
  },
  {
   "cell_type": "code",
   "execution_count": 44,
   "id": "8e0e4f2d",
   "metadata": {},
   "outputs": [
    {
     "data": {
      "application/vnd.plotly.v1+json": {
       "config": {
        "plotlyServerURL": "https://plot.ly"
       },
       "data": [
        {
         "mode": "lines+markers",
         "name": "Bz with 5 MHz 2 hours averaging",
         "type": "scatter",
         "x": {
          "bdata": "AAAAAADAUkAAAAAAAEBVQAAAAAAAwFdAAAAAAABAWkAAAAAAAMBcQAAAAAAAQF9AAAAAAADgYEAAAAAAACBiQAAAAAAAYGNAAAAAAACgZEAAAAAAAOBlQAAAAAAAIGdAAAAAAABgaEAAAAAAAKBpQAAAAAAA4GpAAAAAAAAgbEAAAAAAAGBtQAAAAAAAoG5AAAAAAADgb0AAAAAAAJBwQAAAAAAAMHFAAAAAAADQcUAAAAAAAHByQAAAAAAAEHNAAAAAAACwc0AAAAAAAFB0QAAAAAAA8HRAAAAAAACQdUAAAAAAADB2QAAAAAAA0HZAAAAAAABwd0AAAAAAABB4QAAAAAAAsHhAAAAAAABQeUAAAAAAAPB5QAAAAAAAkHpAAAAAAAAwe0AAAAAAANB7QAAAAAAAcHxAAAAAAAAQfUAAAAAAALB9QAAAAAAAUH5AAAAAAADwfkAAAAAAAJB/QAAAAAAAGIBAAAAAAABogEAAAAAAALiAQAAAAAAACIFAAAAAAABYgUAAAAAAAKiBQAAAAAAA+IFAAAAAAABIgkAAAAAAAJiCQAAAAAAA6IJAAAAAAAA4g0AAAAAAAIiDQAAAAAAA2INAAAAAAAAohEAAAAAAAHiEQAAAAAAAyIRAAAAAAAAYhUAAAAAAAGiFQAAAAAAAuIVAAAAAAAAIhkAAAAAAAFiGQAAAAAAAqIZAAAAAAAD4hkAAAAAAAEiHQAAAAAAAmIdAAAAAAADoh0AAAAAAADiIQAAAAAAAiIhAAAAAAADYiEAAAAAAACiJQAAAAAAAeIlAAAAAAADIiUAAAAAAABiKQAAAAAAAaIpAAAAAAAC4ikAAAAAAAAiLQAAAAAAAWItAAAAAAACoi0AAAAAAAPiLQAAAAAAASIxAAAAAAACYjEAAAAAAAOiMQAAAAAAAOI1AAAAAAACIjUAAAAAAANiNQAAAAAAAKI5AAAAAAAB4jkAAAAAAAMiOQAAAAAAAGI9AAAAAAABoj0AAAAAAALiPQAAAAAAABJBAAAAAAAAskEAAAAAAAFSQQAAAAAAAfJBAAAAAAACkkEAAAAAAAMyQQA==",
          "dtype": "f8"
         },
         "y": {
          "bdata": "s9eX9aUZ3b+HE2Q0NFHhv8k0kz+9bem/zpwyUOnk6r/MV06WUCXqv0SaFKiiFei/mVq/se495797CR3boE/lv+k4LE8Zvea/LLp19Aq35b/CVvOZgVnnvyeaS8Nh2+a/wHxuohgZ6b//OsypTA3qv8mWK5RKf+q/rXLI6Mqs7L/TCMUV2WXrvzPXmOfA6Oq/S5zy/fHS7b/WHYPJIMLtv66oWwnH/u2/NC3hCBtb7r/a/pTDKA3sv64yTt1LAu+/PIfJqeu97b/of0azEMLvv5rKadY3rO+/mBtFHBJg7b8AAAAAAADwv7pHcX4uiOy/WcuXfgfV7b/c4GFfugbuv0nVi4Q2iO6/xHMxLNUE7b8c7jFLyd/tv31HCf7QUe6/WL2A1PMv7L8e8JYCUunrvxNwjVSs9+y/JGj5cvTx67/bF9hfuffsv795V14rcOy/Mx2n9Nqi6r+4fTjivGzsv/cG50/QiOq/cSXiFy477L+tU/Qs9gTqv45t6pRYo+i/IStoWO776L+z69qtt8vov+C9ldYlF+i/hFWLyimj5r95jKb6Qcnnv59UljiPA+e/j+KhEpsq5b+kmV3XN3nmvwhqzzlJuuW/OrOBF/nt5L+K1KcmisXjv4LXWJIhbOW/vN73hFHI5b9sNM4+32Llv0fpBrBLleS/58l3dw4h5b9JBXfdf+jkv2g6vkrSGeS/lxCxIxsj479R+R8qhRblvyUyFgT9IuW/W5SP5Iw25L+q3XMCpaXjvy3u13PTm+O/SWrG55685L9OFn1K+X3jv44h5KOweOO/Th8cw3bI4b8ZQGfyq8jivx5xI6zODOK/oFZn5WFJ4r/LnRG7KNHhvwkJZQoCGOS/Bzi4BASu5b82kq2RWHfmv6s+b2smJei/hNDNJpP65b8NJoJUMHjnv+y1Wb95mea/oW3OuUoV578IeO0Mgsblv3EZenaSF+i/AxICzXHQ5r/o7OWG7Wbpv+85btbuXem/Imnb8Dgg6b+toDeAfu3ov463igZbC+i/CBiLnSno57+MRi1KAmHov4KU4H6vtOi/0sQZfSI+6L+kr0u1UzTpvw==",
          "dtype": "f8"
         }
        },
        {
         "mode": "lines+markers",
         "name": "45 min averaging, no input Bz",
         "type": "scatter",
         "x": {
          "bdata": "AAAAAADAUkAAAAAAAEBVQAAAAAAAwFdAAAAAAABAWkAAAAAAAMBcQAAAAAAAQF9AAAAAAADgYEAAAAAAACBiQAAAAAAAYGNAAAAAAACgZEAAAAAAAOBlQAAAAAAAIGdAAAAAAABgaEAAAAAAAKBpQAAAAAAA4GpAAAAAAAAgbEAAAAAAAGBtQAAAAAAAoG5AAAAAAADgb0AAAAAAAJBwQAAAAAAAMHFAAAAAAADQcUAAAAAAAHByQAAAAAAAEHNAAAAAAACwc0AAAAAAAFB0QAAAAAAA8HRAAAAAAACQdUAAAAAAADB2QAAAAAAA0HZAAAAAAABwd0AAAAAAABB4QAAAAAAAsHhAAAAAAABQeUAAAAAAAPB5QAAAAAAAkHpAAAAAAAAwe0AAAAAAANB7QAAAAAAAcHxAAAAAAAAQfUAAAAAAALB9QAAAAAAAUH5AAAAAAADwfkAAAAAAAJB/QAAAAAAAGIBAAAAAAABogEAAAAAAALiAQAAAAAAACIFAAAAAAABYgUAAAAAAAKiBQAAAAAAA+IFAAAAAAABIgkAAAAAAAJiCQAAAAAAA6IJAAAAAAAA4g0AAAAAAAIiDQAAAAAAA2INAAAAAAAAohEAAAAAAAHiEQAAAAAAAyIRAAAAAAAAYhUAAAAAAAGiFQAAAAAAAuIVAAAAAAAAIhkAAAAAAAFiGQAAAAAAAqIZAAAAAAAD4hkAAAAAAAEiHQAAAAAAAmIdAAAAAAADoh0AAAAAAADiIQAAAAAAAiIhAAAAAAADYiEAAAAAAACiJQAAAAAAAeIlAAAAAAADIiUAAAAAAABiKQAAAAAAAaIpAAAAAAAC4ikAAAAAAAAiLQAAAAAAAWItAAAAAAACoi0AAAAAAAPiLQAAAAAAASIxAAAAAAACYjEAAAAAAAOiMQAAAAAAAOI1AAAAAAACIjUAAAAAAANiNQAAAAAAAKI5AAAAAAAB4jkAAAAAAAMiOQAAAAAAAGI9AAAAAAABoj0AAAAAAALiPQAAAAAAABJBAAAAAAAAskEAAAAAAAFSQQAAAAAAAfJBAAAAAAACkkEAAAAAAAMyQQA==",
          "dtype": "f8"
         },
         "y": {
          "bdata": "ZkhWH/vW3r+aerw6DQHiv+dJAWd5w+m/aeHS7QuA7L9iuQurLPPsv/QHf1Wo6ei/Z6v+abTD5r/ThBJShxnnv9R9KR4OlOe/ijr37kgY6b8uTXk7jFDpv1zuoypFXeq/Fzvtge326r/S06IhkX/rvzwkdneB9uu/jUu9HubC7L/ik5/vJzftv2dPcK6U/+2/Oq1Iq1117r9HaRXn94zuv+KI8s4PGe+/514XNBBB779UmccYsJjvvwx2FpFF2u+/j0rEIctT7797uWjsDJnvv9+0hpuWiO+/YU+ADb1W77+Nkstd0MDvv9J9KuderO+/AAAAAAAA8L8ya/+S0s7vv0fiz6yiZ++/0wMR6Nz97r8qAi6jeGDvvzeIvroCnu+/AeCuaR/I778B5E6tAljvv1sOs84Z2e6/avWm3sXH7r+EDFNLLsXuvznzt3hU+e2/fEQ5pITY7b+HLxGHeGjtvxOE4WHVCu2/cAqKSSTN7L/UKE1VWTfsv5CaERzsXOu/vL38n8wI6792R64GA1Tqv2kR2NCMsum/dDBw4N6k6L8eR4iq/pLov+xQnbjw+ue/Q9B1egrn57/HCDjkqkXnv/PYiAIqP+e/PXRUoh1E5792oJKLz6jmv3Y21WAjh+a/qfbjzBD75r8Na3udIpHmv7mPDmBIaua/3lpdMwqe5r9gRUlrEY7mv7+nLguNNOa/eMr5cSfu5b8wi4G+0Ezmv6fTl2S3Mua/Yte4BFrd5b91z0TFVZDlv863dejnruW/GiTmBxoB5b/bbpJUWcLkvzFA9R9ZVeS/K6RLamzS478QZA4rCo7jv6/Lo3FH1eK/pU1Q9uO24r9eeLxOMWriv5pZfaBIUOO/lDIevYoT579xA9tKuhHov6cXjNUYI+i/CQ44nyds6L8rWuoJoAjov1fQ8J05lOi/QR/hz9BA6L+eUrIVcQvpv4O1PddJGem/TI/gNUjX6L90GGadWDzpv712FajS9Om/iHqKVKK46b8f7/LjsOzpv49avhUFJuq/+4sp6X0T6r/+Ni/2p0nqv04bmPh4Suq/0Nh5w+Wp6r8QhwYEhoTqvw==",
          "dtype": "f8"
         }
        },
        {
         "mode": "lines+markers",
         "name": "Difference",
         "type": "scatter",
         "x": {
          "bdata": "AAAAAADAUkAAAAAAAEBVQAAAAAAAwFdAAAAAAABAWkAAAAAAAMBcQAAAAAAAQF9AAAAAAADgYEAAAAAAACBiQAAAAAAAYGNAAAAAAACgZEAAAAAAAOBlQAAAAAAAIGdAAAAAAABgaEAAAAAAAKBpQAAAAAAA4GpAAAAAAAAgbEAAAAAAAGBtQAAAAAAAoG5AAAAAAADgb0AAAAAAAJBwQAAAAAAAMHFAAAAAAADQcUAAAAAAAHByQAAAAAAAEHNAAAAAAACwc0AAAAAAAFB0QAAAAAAA8HRAAAAAAACQdUAAAAAAADB2QAAAAAAA0HZAAAAAAABwd0AAAAAAABB4QAAAAAAAsHhAAAAAAABQeUAAAAAAAPB5QAAAAAAAkHpAAAAAAAAwe0AAAAAAANB7QAAAAAAAcHxAAAAAAAAQfUAAAAAAALB9QAAAAAAAUH5AAAAAAADwfkAAAAAAAJB/QAAAAAAAGIBAAAAAAABogEAAAAAAALiAQAAAAAAACIFAAAAAAABYgUAAAAAAAKiBQAAAAAAA+IFAAAAAAABIgkAAAAAAAJiCQAAAAAAA6IJAAAAAAAA4g0AAAAAAAIiDQAAAAAAA2INAAAAAAAAohEAAAAAAAHiEQAAAAAAAyIRAAAAAAAAYhUAAAAAAAGiFQAAAAAAAuIVAAAAAAAAIhkAAAAAAAFiGQAAAAAAAqIZAAAAAAAD4hkAAAAAAAEiHQAAAAAAAmIdAAAAAAADoh0AAAAAAADiIQAAAAAAAiIhAAAAAAADYiEAAAAAAACiJQAAAAAAAeIlAAAAAAADIiUAAAAAAABiKQAAAAAAAaIpAAAAAAAC4ikAAAAAAAAiLQAAAAAAAWItAAAAAAACoi0AAAAAAAPiLQAAAAAAASIxAAAAAAACYjEAAAAAAAOiMQAAAAAAAOI1AAAAAAACIjUAAAAAAANiNQAAAAAAAKI5AAAAAAAB4jkAAAAAAAMiOQAAAAAAAGI9AAAAAAABoj0AAAAAAALiPQAAAAAAABJBAAAAAAAAskEAAAAAAAFSQQAAAAAAAfJBAAAAAAACkkEA=",
          "dtype": "f8"
         },
         "y": {
          "bdata": "MAvnm1LVmz9g4gzLIPuVP4BHhdsJb4U/sEkE2imyqT+wDOul4G62PwC2Ta21gJo/gMwr8JGOjr+AtVdvZ56sP2CdqN+Z3po/8AIM1O8Juz/AZl8YqnCvP6ihwjobD7w/cOXr903drT8wjWl9RySnPzDXqDRuc6c/AODY9DUbZj/wsKid7RStP6DBuzaetrg/4B3CqnVNlD8gbkmy41qZP0ADblmMpKE/YDbGZqW+nD/Q05SpOly8P8BrCHk2/5o/MDWsf/ddqT+ANuNu44F0v4DdinGd0HG/kDyzE69qrz+AuTYa0Zd/v8CwyUWDIbk/OKVBC8RXsT9gpdg5g4GsP8CfgQiF7Zs/8AD5vXuQrz/gQMF/9QqoP6ALVMsbw6Q/SBVxqVzBvD8Yn79VhXW7P4DkWaLXFq4/MGpsXYuutj+QSq+3TtesP6CXB6aRkqg/SDqRfE2tuT/gORabdHefP+Do048oELQ/4J/8NMY+kj84qcZCGZOxPxBoOTmczLU/2JSkPPJmsD8wvDWNtYSoP5A4JaRvtqk/gNcmr6gNsD+gVDf8lTeZP6CJ3wAw7J4/oG2fPnvjtT9g5E2bYY6ZP7DulosMTqg/GAiWViSxsj9gX1YnKxq3P0DvxeccsKE/0H7BfvQroz8QatPqNeSiPyBnegDLT60/cA9ZvrvPpz9wASTdGFmqP7hqgwPW1bA/CM9FcmJYtj/wHRlGuWSjPyAYGgim+6A/cDCUAtJsqj+wHA8tDKuuPwhN7qSjmLA/QHTuB8gegT/QiFWhAEakP2DUI4IPlZs/6CZ8Oa1PsD/gfuQUx6uYPyBSC7AYD5k/QME9OoRgiz9gUlt1EiGTP+Dt9Twt95i/0KhfhmtYpj+wE9eSG6apPwAgOBmvbDC/KOxRw6OMsz/Agwat9g2SP7Cmcen9q68/ABorYWG4oj+w1CZGeCe6PyDBOQx2G6A/SOrzRrM2sD8AOuq/dEp1v8CZ5zR63JI/wCzidSwNkz9Azml3TOafPwgYnXlQ1bA/mJ/zXKJasT8gBx/AWoquP8BseJuXXKk/8J8AMxpesz8=",
          "dtype": "f8"
         }
        }
       ],
       "layout": {
        "template": {
         "data": {
          "bar": [
           {
            "error_x": {
             "color": "#2a3f5f"
            },
            "error_y": {
             "color": "#2a3f5f"
            },
            "marker": {
             "line": {
              "color": "white",
              "width": 0.5
             },
             "pattern": {
              "fillmode": "overlay",
              "size": 10,
              "solidity": 0.2
             }
            },
            "type": "bar"
           }
          ],
          "barpolar": [
           {
            "marker": {
             "line": {
              "color": "white",
              "width": 0.5
             },
             "pattern": {
              "fillmode": "overlay",
              "size": 10,
              "solidity": 0.2
             }
            },
            "type": "barpolar"
           }
          ],
          "carpet": [
           {
            "aaxis": {
             "endlinecolor": "#2a3f5f",
             "gridcolor": "#C8D4E3",
             "linecolor": "#C8D4E3",
             "minorgridcolor": "#C8D4E3",
             "startlinecolor": "#2a3f5f"
            },
            "baxis": {
             "endlinecolor": "#2a3f5f",
             "gridcolor": "#C8D4E3",
             "linecolor": "#C8D4E3",
             "minorgridcolor": "#C8D4E3",
             "startlinecolor": "#2a3f5f"
            },
            "type": "carpet"
           }
          ],
          "choropleth": [
           {
            "colorbar": {
             "outlinewidth": 0,
             "ticks": ""
            },
            "type": "choropleth"
           }
          ],
          "contour": [
           {
            "colorbar": {
             "outlinewidth": 0,
             "ticks": ""
            },
            "colorscale": [
             [
              0,
              "#0d0887"
             ],
             [
              0.1111111111111111,
              "#46039f"
             ],
             [
              0.2222222222222222,
              "#7201a8"
             ],
             [
              0.3333333333333333,
              "#9c179e"
             ],
             [
              0.4444444444444444,
              "#bd3786"
             ],
             [
              0.5555555555555556,
              "#d8576b"
             ],
             [
              0.6666666666666666,
              "#ed7953"
             ],
             [
              0.7777777777777778,
              "#fb9f3a"
             ],
             [
              0.8888888888888888,
              "#fdca26"
             ],
             [
              1,
              "#f0f921"
             ]
            ],
            "type": "contour"
           }
          ],
          "contourcarpet": [
           {
            "colorbar": {
             "outlinewidth": 0,
             "ticks": ""
            },
            "type": "contourcarpet"
           }
          ],
          "heatmap": [
           {
            "colorbar": {
             "outlinewidth": 0,
             "ticks": ""
            },
            "colorscale": [
             [
              0,
              "#0d0887"
             ],
             [
              0.1111111111111111,
              "#46039f"
             ],
             [
              0.2222222222222222,
              "#7201a8"
             ],
             [
              0.3333333333333333,
              "#9c179e"
             ],
             [
              0.4444444444444444,
              "#bd3786"
             ],
             [
              0.5555555555555556,
              "#d8576b"
             ],
             [
              0.6666666666666666,
              "#ed7953"
             ],
             [
              0.7777777777777778,
              "#fb9f3a"
             ],
             [
              0.8888888888888888,
              "#fdca26"
             ],
             [
              1,
              "#f0f921"
             ]
            ],
            "type": "heatmap"
           }
          ],
          "histogram": [
           {
            "marker": {
             "pattern": {
              "fillmode": "overlay",
              "size": 10,
              "solidity": 0.2
             }
            },
            "type": "histogram"
           }
          ],
          "histogram2d": [
           {
            "colorbar": {
             "outlinewidth": 0,
             "ticks": ""
            },
            "colorscale": [
             [
              0,
              "#0d0887"
             ],
             [
              0.1111111111111111,
              "#46039f"
             ],
             [
              0.2222222222222222,
              "#7201a8"
             ],
             [
              0.3333333333333333,
              "#9c179e"
             ],
             [
              0.4444444444444444,
              "#bd3786"
             ],
             [
              0.5555555555555556,
              "#d8576b"
             ],
             [
              0.6666666666666666,
              "#ed7953"
             ],
             [
              0.7777777777777778,
              "#fb9f3a"
             ],
             [
              0.8888888888888888,
              "#fdca26"
             ],
             [
              1,
              "#f0f921"
             ]
            ],
            "type": "histogram2d"
           }
          ],
          "histogram2dcontour": [
           {
            "colorbar": {
             "outlinewidth": 0,
             "ticks": ""
            },
            "colorscale": [
             [
              0,
              "#0d0887"
             ],
             [
              0.1111111111111111,
              "#46039f"
             ],
             [
              0.2222222222222222,
              "#7201a8"
             ],
             [
              0.3333333333333333,
              "#9c179e"
             ],
             [
              0.4444444444444444,
              "#bd3786"
             ],
             [
              0.5555555555555556,
              "#d8576b"
             ],
             [
              0.6666666666666666,
              "#ed7953"
             ],
             [
              0.7777777777777778,
              "#fb9f3a"
             ],
             [
              0.8888888888888888,
              "#fdca26"
             ],
             [
              1,
              "#f0f921"
             ]
            ],
            "type": "histogram2dcontour"
           }
          ],
          "mesh3d": [
           {
            "colorbar": {
             "outlinewidth": 0,
             "ticks": ""
            },
            "type": "mesh3d"
           }
          ],
          "parcoords": [
           {
            "line": {
             "colorbar": {
              "outlinewidth": 0,
              "ticks": ""
             }
            },
            "type": "parcoords"
           }
          ],
          "pie": [
           {
            "automargin": true,
            "type": "pie"
           }
          ],
          "scatter": [
           {
            "fillpattern": {
             "fillmode": "overlay",
             "size": 10,
             "solidity": 0.2
            },
            "type": "scatter"
           }
          ],
          "scatter3d": [
           {
            "line": {
             "colorbar": {
              "outlinewidth": 0,
              "ticks": ""
             }
            },
            "marker": {
             "colorbar": {
              "outlinewidth": 0,
              "ticks": ""
             }
            },
            "type": "scatter3d"
           }
          ],
          "scattercarpet": [
           {
            "marker": {
             "colorbar": {
              "outlinewidth": 0,
              "ticks": ""
             }
            },
            "type": "scattercarpet"
           }
          ],
          "scattergeo": [
           {
            "marker": {
             "colorbar": {
              "outlinewidth": 0,
              "ticks": ""
             }
            },
            "type": "scattergeo"
           }
          ],
          "scattergl": [
           {
            "marker": {
             "colorbar": {
              "outlinewidth": 0,
              "ticks": ""
             }
            },
            "type": "scattergl"
           }
          ],
          "scattermap": [
           {
            "marker": {
             "colorbar": {
              "outlinewidth": 0,
              "ticks": ""
             }
            },
            "type": "scattermap"
           }
          ],
          "scattermapbox": [
           {
            "marker": {
             "colorbar": {
              "outlinewidth": 0,
              "ticks": ""
             }
            },
            "type": "scattermapbox"
           }
          ],
          "scatterpolar": [
           {
            "marker": {
             "colorbar": {
              "outlinewidth": 0,
              "ticks": ""
             }
            },
            "type": "scatterpolar"
           }
          ],
          "scatterpolargl": [
           {
            "marker": {
             "colorbar": {
              "outlinewidth": 0,
              "ticks": ""
             }
            },
            "type": "scatterpolargl"
           }
          ],
          "scatterternary": [
           {
            "marker": {
             "colorbar": {
              "outlinewidth": 0,
              "ticks": ""
             }
            },
            "type": "scatterternary"
           }
          ],
          "surface": [
           {
            "colorbar": {
             "outlinewidth": 0,
             "ticks": ""
            },
            "colorscale": [
             [
              0,
              "#0d0887"
             ],
             [
              0.1111111111111111,
              "#46039f"
             ],
             [
              0.2222222222222222,
              "#7201a8"
             ],
             [
              0.3333333333333333,
              "#9c179e"
             ],
             [
              0.4444444444444444,
              "#bd3786"
             ],
             [
              0.5555555555555556,
              "#d8576b"
             ],
             [
              0.6666666666666666,
              "#ed7953"
             ],
             [
              0.7777777777777778,
              "#fb9f3a"
             ],
             [
              0.8888888888888888,
              "#fdca26"
             ],
             [
              1,
              "#f0f921"
             ]
            ],
            "type": "surface"
           }
          ],
          "table": [
           {
            "cells": {
             "fill": {
              "color": "#EBF0F8"
             },
             "line": {
              "color": "white"
             }
            },
            "header": {
             "fill": {
              "color": "#C8D4E3"
             },
             "line": {
              "color": "white"
             }
            },
            "type": "table"
           }
          ]
         },
         "layout": {
          "annotationdefaults": {
           "arrowcolor": "#2a3f5f",
           "arrowhead": 0,
           "arrowwidth": 1
          },
          "autotypenumbers": "strict",
          "coloraxis": {
           "colorbar": {
            "outlinewidth": 0,
            "ticks": ""
           }
          },
          "colorscale": {
           "diverging": [
            [
             0,
             "#8e0152"
            ],
            [
             0.1,
             "#c51b7d"
            ],
            [
             0.2,
             "#de77ae"
            ],
            [
             0.3,
             "#f1b6da"
            ],
            [
             0.4,
             "#fde0ef"
            ],
            [
             0.5,
             "#f7f7f7"
            ],
            [
             0.6,
             "#e6f5d0"
            ],
            [
             0.7,
             "#b8e186"
            ],
            [
             0.8,
             "#7fbc41"
            ],
            [
             0.9,
             "#4d9221"
            ],
            [
             1,
             "#276419"
            ]
           ],
           "sequential": [
            [
             0,
             "#0d0887"
            ],
            [
             0.1111111111111111,
             "#46039f"
            ],
            [
             0.2222222222222222,
             "#7201a8"
            ],
            [
             0.3333333333333333,
             "#9c179e"
            ],
            [
             0.4444444444444444,
             "#bd3786"
            ],
            [
             0.5555555555555556,
             "#d8576b"
            ],
            [
             0.6666666666666666,
             "#ed7953"
            ],
            [
             0.7777777777777778,
             "#fb9f3a"
            ],
            [
             0.8888888888888888,
             "#fdca26"
            ],
            [
             1,
             "#f0f921"
            ]
           ],
           "sequentialminus": [
            [
             0,
             "#0d0887"
            ],
            [
             0.1111111111111111,
             "#46039f"
            ],
            [
             0.2222222222222222,
             "#7201a8"
            ],
            [
             0.3333333333333333,
             "#9c179e"
            ],
            [
             0.4444444444444444,
             "#bd3786"
            ],
            [
             0.5555555555555556,
             "#d8576b"
            ],
            [
             0.6666666666666666,
             "#ed7953"
            ],
            [
             0.7777777777777778,
             "#fb9f3a"
            ],
            [
             0.8888888888888888,
             "#fdca26"
            ],
            [
             1,
             "#f0f921"
            ]
           ]
          },
          "colorway": [
           "#636efa",
           "#EF553B",
           "#00cc96",
           "#ab63fa",
           "#FFA15A",
           "#19d3f3",
           "#FF6692",
           "#B6E880",
           "#FF97FF",
           "#FECB52"
          ],
          "font": {
           "color": "#2a3f5f"
          },
          "geo": {
           "bgcolor": "white",
           "lakecolor": "white",
           "landcolor": "white",
           "showlakes": true,
           "showland": true,
           "subunitcolor": "#C8D4E3"
          },
          "hoverlabel": {
           "align": "left"
          },
          "hovermode": "closest",
          "mapbox": {
           "style": "light"
          },
          "paper_bgcolor": "white",
          "plot_bgcolor": "white",
          "polar": {
           "angularaxis": {
            "gridcolor": "#EBF0F8",
            "linecolor": "#EBF0F8",
            "ticks": ""
           },
           "bgcolor": "white",
           "radialaxis": {
            "gridcolor": "#EBF0F8",
            "linecolor": "#EBF0F8",
            "ticks": ""
           }
          },
          "scene": {
           "xaxis": {
            "backgroundcolor": "white",
            "gridcolor": "#DFE8F3",
            "gridwidth": 2,
            "linecolor": "#EBF0F8",
            "showbackground": true,
            "ticks": "",
            "zerolinecolor": "#EBF0F8"
           },
           "yaxis": {
            "backgroundcolor": "white",
            "gridcolor": "#DFE8F3",
            "gridwidth": 2,
            "linecolor": "#EBF0F8",
            "showbackground": true,
            "ticks": "",
            "zerolinecolor": "#EBF0F8"
           },
           "zaxis": {
            "backgroundcolor": "white",
            "gridcolor": "#DFE8F3",
            "gridwidth": 2,
            "linecolor": "#EBF0F8",
            "showbackground": true,
            "ticks": "",
            "zerolinecolor": "#EBF0F8"
           }
          },
          "shapedefaults": {
           "line": {
            "color": "#2a3f5f"
           }
          },
          "ternary": {
           "aaxis": {
            "gridcolor": "#DFE8F3",
            "linecolor": "#A2B1C6",
            "ticks": ""
           },
           "baxis": {
            "gridcolor": "#DFE8F3",
            "linecolor": "#A2B1C6",
            "ticks": ""
           },
           "bgcolor": "white",
           "caxis": {
            "gridcolor": "#DFE8F3",
            "linecolor": "#A2B1C6",
            "ticks": ""
           }
          },
          "title": {
           "x": 0.05
          },
          "xaxis": {
           "automargin": true,
           "gridcolor": "#EBF0F8",
           "linecolor": "#EBF0F8",
           "ticks": "",
           "title": {
            "standoff": 15
           },
           "zerolinecolor": "#EBF0F8",
           "zerolinewidth": 2
          },
          "yaxis": {
           "automargin": true,
           "gridcolor": "#EBF0F8",
           "linecolor": "#EBF0F8",
           "ticks": "",
           "title": {
            "standoff": 15
           },
           "zerolinecolor": "#EBF0F8",
           "zerolinewidth": 2
          }
         }
        },
        "title": {
         "text": "Difference Between Two Files: (sig_n - sig_p)１ - (sig_n - sig_p)２"
        },
        "xaxis": {
         "title": {
          "text": "Tau"
         }
        },
        "yaxis": {
         "title": {
          "text": "Difference in Signal (Bz)"
         }
        }
       }
      }
     },
     "metadata": {},
     "output_type": "display_data"
    }
   ],
   "source": [
    "fig = go.Figure()\n",
    "\n",
    "fig.add_trace(go.Scatter(\n",
    "    x=Bz5MHz2hrs[1]['dataset']['tau'],\n",
    "    y=Bz_diff/np.max(abs(Bz_diff)),\n",
    "    mode='lines+markers',\n",
    "    name='Bz with 5 MHz 2 hours averaging'\n",
    "))\n",
    "\n",
    "fig.add_trace(go.Scatter(\n",
    "    x=NoBz45min[1]['dataset']['tau'],\n",
    "    y=NoBz_diff/np.max(abs(NoBz_diff)),\n",
    "    mode='lines+markers',\n",
    "    name='45 min averaging, no input Bz'\n",
    "))\n",
    "\n",
    "fig.add_trace(go.Scatter(\n",
    "    x=Bz5MHz2hrs[1]['dataset']['tau'][0:100],\n",
    "    y=Bz_diff[0:100]/np.max(abs(Bz_diff))-NoBz_diff[0:100]/np.max(abs(NoBz_diff)),\n",
    "    mode='lines+markers',\n",
    "    name='Difference'\n",
    "))\n",
    "\n",
    "fig.update_layout(\n",
    "    title='Difference Between Two Files: (sig_n - sig_p)１ - (sig_n - sig_p)２',\n",
    "    xaxis_title='Tau',\n",
    "    yaxis_title='Difference in Signal (Bz)',\n",
    "    template='plotly_white'\n",
    ")\n",
    "\n",
    "fig.show()"
   ]
  },
  {
   "cell_type": "code",
   "execution_count": null,
   "id": "fc64dc93",
   "metadata": {},
   "outputs": [],
   "source": []
  }
 ],
 "metadata": {
  "kernelspec": {
   "display_name": "hfnvenv",
   "language": "python",
   "name": "python3"
  },
  "language_info": {
   "codemirror_mode": {
    "name": "ipython",
    "version": 3
   },
   "file_extension": ".py",
   "mimetype": "text/x-python",
   "name": "python",
   "nbconvert_exporter": "python",
   "pygments_lexer": "ipython3",
   "version": "3.10.16"
  }
 },
 "nbformat": 4,
 "nbformat_minor": 5
}
