{
    "cells": [
        {
            "cell_type": "code",
            "execution_count": 1,
            "id": "14b4da12",
            "metadata": {},
            "outputs": [],
            "source": [
                "# import time\n",
                "# import sys\n",
                "# import os\n",
                "# path_project = \"\\\\\".join(os.getcwd().split(\"\\\\\")[:-1])\n",
                "# # caution: path[0] is reserved for script path (or '' in REPL)\n",
                "# sys.path.insert(1, path_project)\n",
                "\n",
                "# from hardware.pulser.pulser import PulseGenerator, OutputState, TriggerStart, TriggerRearm, HIGH, LOW, INF\n",
                "# from hardware.laser.laser import LaserControl\n",
                "# from hardware.mw.mwsynthesizer import Synthesizer\n",
                "\n",
                "# from hardware import config as hcf\n",
                "\n",
                "# import nidaqmx\n",
                "# from nidaqmx.constants import TerminalConfiguration, VoltageUnits, Edge, AcquisitionType, READ_ALL_AVAILABLE\n",
                "# # from nidaqmx.constants import LogicFamily \n",
                "# # TWO_POINT_FIVE_V, THREE_POINT_THREE_V, FIVE_V\n",
                "# # from nidaqmx import stream_readers \n",
                "# # from nidaqmx.stream_readers import AnalogSingleChannelReader\n",
                "\n",
                "\n",
                "import numpy as np\n",
                "from windfreak import SynthHD\n"
            ]
        },
        {
            "cell_type": "code",
            "execution_count": 2,
            "id": "b37f56a1",
            "metadata": {},
            "outputs": [],
            "source": [
                "# pg  = PulseGenerator(ip=hcf.PS_IP, chmap=hcf.PS_chmap) \n",
                "synth = SynthHD('COM4')\n",
                "synth.init()\n",
                "ch = synth[0]  "
            ]
        },
        {
            "cell_type": "code",
            "execution_count": 8,
            "id": "3758abf7",
            "metadata": {},
            "outputs": [],
            "source": [
                "# Set channel 0 power and frequency\n",
                "synth[0].power = 18\n",
                "synth[0].frequency = (398.536*1e9)/24\n",
                "# synth[0].phase=0\n",
                "# Enable channel 0\n",
                "synth[0].enable = True\n",
                "\n",
                "synth.enable=True\n",
                "  "
            ]
        },
        {
            "cell_type": "code",
            "execution_count": 9,
            "id": "d9437128",
            "metadata": {},
            "outputs": [],
            "source": [
                "ch.enable = False\n",
                "synth.enable=False\n"
            ]
        },
        {
            "cell_type": "code",
            "execution_count": null,
            "id": "909d4082",
            "metadata": {},
            "outputs": [],
            "source": []
        }
    ],
    "metadata": {
        "kernelspec": {
            "display_name": "Python 3",
            "language": "python",
            "name": "python3"
        },
        "language_info": {
            "codemirror_mode": {
                "name": "ipython",
                "version": 3
            },
            "file_extension": ".py",
            "mimetype": "text/x-python",
            "name": "python",
            "nbconvert_exporter": "python",
            "pygments_lexer": "ipython3",
            "version": "3.10.16"
        }
    },
    "nbformat": 4,
    "nbformat_minor": 5
}