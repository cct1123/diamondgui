{
 "cells": [
  {
   "cell_type": "markdown",
   "metadata": {},
   "source": [
    "# apply instruments settings"
   ]
  },
  {
   "cell_type": "code",
   "execution_count": 1,
   "metadata": {},
   "outputs": [],
   "source": [
    "import time\n",
    "import sys\n",
    "import os\n",
    "path_project = \"\\\\\".join(os.getcwd().split(\"\\\\\")[:-1])\n",
    "# caution: path[0] is reserved for script path (or '' in REPL)\n",
    "sys.path.insert(1, path_project)\n",
    "\n",
    "from hardware.pulser.pulser import PulseGenerator, OutputState, TriggerStart, TriggerRearm, HIGH, LOW, INF\n",
    "from hardware.laser.laser import LaserControl\n",
    "from hardware.mw.mwsynthesizer import Synthesizer\n",
    "\n",
    "from hardware import config_custom as hdc\n",
    "\n",
    "import nidaqmx\n",
    "from nidaqmx.constants import TerminalConfiguration, VoltageUnits, Edge, AcquisitionType, READ_ALL_AVAILABLE, TaskMode\n",
    "# from nidaqmx.constants import LogicFamily \n",
    "# TWO_POINT_FIVE_V, THREE_POINT_THREE_V, FIVE_V\n",
    "# from nidaqmx import stream_readers \n",
    "from nidaqmx.stream_readers import AnalogSingleChannelReader, DigitalSingleChannelReader\n",
    "\n",
    "import numpy as np"
   ]
  },
  {
   "cell_type": "code",
   "execution_count": 2,
   "metadata": {},
   "outputs": [
    {
     "name": "stdout",
     "output_type": "stream",
     "text": [
      "Connect to Pulse Streamer via JSON-RPC.\n",
      "IP / Hostname: 169.254.8.2\n",
      "Pulse Streamer 8/2 firmware: v1.7.2\n",
      "Client software: v1.7.0\n",
      "VDI Sythesizer Serail Port Open\n"
     ]
    }
   ],
   "source": [
    "# connect to devices\n",
    "pg  = PulseGenerator(ip=hdc.PS_IP, chmap=hdc.PS_chmap) \n",
    "mwsyn = Synthesizer(hdc.VDISYN_SN, \n",
    "                    vidpid=hdc.VDISYN_VIDPID,\n",
    "                    baudrate=hdc.VDISYN_BAUD, \n",
    "                    timeout=5, \n",
    "                    write_timeout=5)\n",
    "# mwsyn.reboot()\n",
    "laser = LaserControl(hdc.LASER_SN)\n",
    "laser.open()\n"
   ]
  },
  {
   "cell_type": "markdown",
   "metadata": {},
   "source": [
    "# Set parameters"
   ]
  },
  {
   "cell_type": "code",
   "execution_count": 96,
   "metadata": {},
   "outputs": [],
   "source": [
    "current_percent = 75.09\n",
    "# current_percent = 0.051\n",
    "laser.laser_off()\n",
    "laser.set_analog_control_mode(\"current\")\n",
    "laser.set_modulation_state(\"Pulsed\")\n",
    "laser.set_diode_current(current_percent, save_memory=False)"
   ]
  },
  {
   "cell_type": "code",
   "execution_count": 97,
   "metadata": {},
   "outputs": [],
   "source": [
    "NI_ratebase = 100.00/1E3 # GHz\n",
    "NI_timebase = int(1.0/NI_ratebase) #ns\n",
    "VDISyntimebase = int(4) #ns\n",
    "timebase = np.lcm(VDISyntimebase, NI_timebase)"
   ]
  },
  {
   "cell_type": "code",
   "execution_count": 98,
   "metadata": {},
   "outputs": [
    {
     "name": "stdout",
     "output_type": "stream",
     "text": [
      "Approximated Time to Sweep along rise direction: \n",
      "3.207114169650607ms\n"
     ]
    }
   ],
   "source": [
    "f_NVguess = 392.83677300810814\n",
    "# f_NVguess = 398.5607725381851\n",
    "freq_start = (f_NVguess-0.020)/24.0\n",
    "freq_stop = (f_NVguess+0.020)/24.0\n",
    "step_min = mwsyn.get_min_step_size([freq_start], [freq_stop])[0] # in Hz\n",
    "freq_step = 0.1E-3/24.0\n",
    "freq_step = int(freq_step/step_min*1E9)*step_min/1E9\n",
    "step_rise = freq_step\n",
    "step_fall = freq_step\n",
    "steptime = 4.0E3*2 # [ns]\n",
    "steptime = int(steptime/timebase)*timebase\n",
    "steptime_rise = steptime \n",
    "steptime_fall = steptime\n",
    "dwellatlow = False\n",
    "dwellathigh = False\n",
    "num_risesweep = int((freq_stop-freq_start)/step_rise)+1\n",
    "num_fallsweep = int((freq_stop-freq_start)/step_fall)+1\n",
    "print(f\"Approximated Time to Sweep along rise direction: \\n{(freq_stop-freq_start)/step_rise*steptime_rise/1E6}ms\")\n"
   ]
  },
  {
   "cell_type": "code",
   "execution_count": 101,
   "metadata": {},
   "outputs": [],
   "source": [
    "actualpara = mwsyn.sweep(freq_start, freq_stop, \n",
    "                         step_rise, step_fall, \n",
    "                         steptime_rise, steptime_fall, \n",
    "                         dwellatlow, dwellathigh)\n",
    "(freq_start_actual, freq_stop_actual, step_rise_actual, step_fall_actual) = actualpara\n",
    "freq_actual_rise = 24.0*np.arange(freq_start_actual, freq_stop_actual+step_rise_actual, step_rise_actual)\n",
    "freq_actual_fall = 24.0*np.flip(np.arange(freq_start_actual+step_rise_actual, freq_stop_actual, step_fall_actual))\n",
    "freq_sawsweep = np.append(freq_actual_rise, freq_actual_fall)\n",
    "num_freqsaw = len(freq_sawsweep)"
   ]
  },
  {
   "cell_type": "code",
   "execution_count": 102,
   "metadata": {},
   "outputs": [
    {
     "data": {
      "text/plain": [
       "False"
      ]
     },
     "execution_count": 102,
     "metadata": {},
     "output_type": "execute_result"
    }
   ],
   "source": [
    "freq_actual_rise[0] == freq_actual_fall[-1]"
   ]
  },
  {
   "cell_type": "code",
   "execution_count": 103,
   "metadata": {},
   "outputs": [
    {
     "name": "stdout",
     "output_type": "stream",
     "text": [
      "392.8167731165886\n",
      "392.85678416490555\n",
      "392.8566843867302\n",
      "392.81687289476395\n"
     ]
    }
   ],
   "source": [
    "print(freq_actual_rise[0])\n",
    "print(freq_actual_rise[-1])\n",
    "print(freq_actual_fall[0])\n",
    "print(freq_actual_fall[-1])"
   ]
  },
  {
   "cell_type": "code",
   "execution_count": 104,
   "metadata": {},
   "outputs": [
    {
     "data": {
      "text/plain": [
       "b'U'"
      ]
     },
     "execution_count": 104,
     "metadata": {},
     "output_type": "execute_result"
    }
   ],
   "source": [
    "# start frequency sweep\n",
    "mwsyn.reset_trigger()\n",
    "mwsyn.sweep_continue()\n",
    "# time.sleep(5) #sweep for 5s\n",
    "# mwsyn.sweep_pause()"
   ]
  },
  {
   "cell_type": "code",
   "execution_count": 131,
   "metadata": {},
   "outputs": [],
   "source": [
    "seq_repeat = 8\n",
    "clock_rate = 2/steptime #[GHz]\n",
    "# dur_pt = (freq_stop-freq_start)*(steptime_rise/step_rise+steptime_fall/step_fall) +steptime_rise + steptime_fall# [ns]\n",
    "\n",
    "time_fullsweep = steptime*num_freqsaw\n",
    "daqtrig_delay = steptime/4.0\n",
    "seq_daqtrig = [(daqtrig_delay, LOW), (time_fullsweep/2.0, HIGH), (time_fullsweep/2.0-daqtrig_delay, LOW)]\n",
    "# seq_laser = [(time_fullsweep, HIGH)]\n",
    "# seq_mwA = [(time_fullsweep, HIGH)]\n",
    "seq_laser = [(steptime/2.0, HIGH), (steptime/2.0, HIGH)]*num_freqsaw\n",
    "seq_mwA = [(steptime/2.0, HIGH), (steptime/2.0, LOW)]*num_freqsaw\n",
    "seq_clock = [(steptime/4.0, LOW),(steptime/4.0, HIGH)]*num_freqsaw*2\n",
    "pg.setDigital(\"laser\", seq_laser*seq_repeat)\n",
    "pg.setDigital(\"mw_A\", seq_mwA*seq_repeat)\n",
    "# pg.setDigital(\"laser\", seq_mwA)\n",
    "# pg.setDigital(\"mw_A\", seq_laser)\n",
    "pg.setDigital(\"daqtrig\", seq_daqtrig*seq_repeat)\n",
    "pg.setDigital(\"clock\", seq_clock*seq_repeat)\n",
    "pg.setTrigger(start=TriggerStart.SOFTWARE, rearm=TriggerRearm.MANUAL)"
   ]
  },
  {
   "cell_type": "code",
   "execution_count": 106,
   "metadata": {},
   "outputs": [
    {
     "name": "stdout",
     "output_type": "stream",
     "text": [
      "Total Seq. Time: 6416000.0ns\n",
      "Total Seq. Time: 6416000.0ns\n",
      "Total Seq. Time: 6416000.0ns\n",
      "Total Seq. Time: 6416000.0ns\n"
     ]
    }
   ],
   "source": [
    "aa = np.sum(np.array(seq_laser)[:, 0])\n",
    "print(f\"Total Seq. Time: {np.sum(aa)}ns\")\n",
    "aa = np.array(seq_mwA)[:, 0]\n",
    "print(f\"Total Seq. Time: {np.sum(aa)}ns\")\n",
    "aa = np.array(seq_daqtrig)[:, 0]\n",
    "print(f\"Total Seq. Time: {np.sum(aa)}ns\")\n",
    "aa = np.array(seq_clock)[:, 0]\n",
    "print(f\"Total Seq. Time: {np.sum(aa)}ns\")"
   ]
  },
  {
   "cell_type": "code",
   "execution_count": 147,
   "metadata": {},
   "outputs": [],
   "source": [
    "# signal reading parameters\n",
    "min_volt = -0.001 # [V]\n",
    "max_volt = 0.005\n",
    "samplerate_read = clock_rate*1E9 # 500kHz .max ext clock rate of NI6343\n",
    "basetime = 1.0/samplerate_read\n",
    "# num_readsample = int(samplerate_read*dur_pt/1E9)\n",
    "# assert num_readsample == len(freq_sawsweep)\n",
    "num_readsample = 2*num_freqsaw\n",
    "timeout_read = max(time_fullsweep*2.0/1E9, 10)\n",
    "buffer_readpoint = np.zeros(num_readsample, dtype=np.float64, order='C')\n",
    "\n",
    "# Create tasks for the analog and digital inputs\n",
    "analog_task = nidaqmx.Task(\"Read FL\")\n",
    "digital_task = nidaqmx.Task(\"Read VDI Synth Trigger Out\")\n",
    "NI_ch_VDISynTrigOut = \"/Dev1/port0/line7\"\n",
    "\n",
    "# Add a single analog input channel (e.g., \"Dev1/ai0\")\n",
    "analog_task.ai_channels.add_ai_voltage_chan(\n",
    "    hdc.NI_ch_APD,\"\",\n",
    "    # TerminalConfiguration.RSE,\n",
    "    TerminalConfiguration.DIFF,\n",
    "    min_volt,max_volt,\n",
    "    VoltageUnits.VOLTS\n",
    ")\n",
    "\n",
    "# Add a single digital input channel (e.g., \"Dev1/port0/line0\")\n",
    "digital_task.di_channels.add_di_chan(NI_ch_VDISynTrigOut)\n",
    "\n",
    "# Configure both tasks to be triggered by a common TTL source (e.g., \"Dev1/PFI0\")\n",
    "analog_task.triggers.start_trigger.cfg_dig_edge_start_trig(\n",
    "    hdc.NI_ch_Trig, Edge.RISING\n",
    ")\n",
    "digital_task.triggers.start_trigger.cfg_dig_edge_start_trig(\n",
    "    hdc.NI_ch_Trig, Edge.RISING\n",
    ")\n",
    "\n",
    "# Configure continuous acquisition for both tasks\n",
    "sample_rate = samplerate_read  # samples per second\n",
    "analog_task.timing.cfg_samp_clk_timing(\n",
    "    rate=sample_rate,\n",
    "    # source=hdc.NI_ch_Clock,\n",
    "    sample_mode=AcquisitionType.CONTINUOUS,\n",
    ")\n",
    "digital_task.timing.cfg_samp_clk_timing(\n",
    "    rate=sample_rate,\n",
    "    # source=hdc.NI_ch_Clock,\n",
    "    sample_mode=AcquisitionType.CONTINUOUS,\n",
    ")\n",
    "\n",
    "# Pre-commit the tasks for faster start\n",
    "analog_task.control(TaskMode.TASK_COMMIT)\n",
    "digital_task.control(TaskMode.TASK_COMMIT)\n",
    "\n",
    "# Initialize readers for continuous streaming\n",
    "analog_reader = AnalogSingleChannelReader(analog_task.in_stream)\n",
    "digital_reader = DigitalSingleChannelReader(digital_task.in_stream)\n",
    "\n",
    "# Read smaller samples for real-time feedback\n",
    "samples_per_read = num_readsample  # Number of samples to read at a time, make sure samples_per_read*sample_rate >> pc communication time\n",
    "analog_data = np.zeros(samples_per_read, dtype=np.float64, order='C')  # Buffer for analog data\n",
    "digital_data = np.zeros(samples_per_read, dtype=np.uint32, order='C')  # Buffer for digital data\n",
    "# # NIDAQ can handle the buffer allocation automatically\n",
    "# buf_size = int(samples_per_read*1000)\n",
    "# analog_task.in_stream.input_buf_size = buf_size\n",
    "# digital_task.in_stream.input_buf_size = buf_size\n"
   ]
  },
  {
   "cell_type": "code",
   "execution_count": 158,
   "metadata": {},
   "outputs": [
    {
     "data": {
      "text/plain": [
       "4000.0"
      ]
     },
     "execution_count": 158,
     "metadata": {},
     "output_type": "execute_result"
    }
   ],
   "source": [
    "basetime*1e9"
   ]
  },
  {
   "cell_type": "code",
   "execution_count": 157,
   "metadata": {},
   "outputs": [
    {
     "data": {
      "text/plain": [
       "4000.0"
      ]
     },
     "execution_count": 157,
     "metadata": {},
     "output_type": "execute_result"
    }
   ],
   "source": [
    "steptime/2"
   ]
  },
  {
   "cell_type": "code",
   "execution_count": 146,
   "metadata": {},
   "outputs": [],
   "source": [
    "analog_task.close()\n",
    "digital_task.close()"
   ]
  },
  {
   "cell_type": "markdown",
   "metadata": {},
   "source": [
    "# Start measurement\n"
   ]
  },
  {
   "cell_type": "code",
   "execution_count": 135,
   "metadata": {},
   "outputs": [
    {
     "data": {
      "text/plain": [
       "0"
      ]
     },
     "execution_count": 135,
     "metadata": {},
     "output_type": "execute_result"
    }
   ],
   "source": [
    "laser.laser_on() # turn off laser\n",
    "pg.stream(n_runs=INF)\n",
    "pg.startNow()"
   ]
  },
  {
   "cell_type": "code",
   "execution_count": 148,
   "metadata": {},
   "outputs": [
    {
     "name": "stdout",
     "output_type": "stream",
     "text": [
      "measurement repeat : 3114 times\n"
     ]
    }
   ],
   "source": [
    "# Start the tasks\n",
    "analog_task.start()\n",
    "digital_task.start()\n",
    "# Read data for a specific duration\n",
    "analog_data_av = np.zeros(samples_per_read, dtype=np.float64, order='C')  # Buffer for analog data\n",
    "digital_data_av = np.zeros(samples_per_read, dtype=np.uint32, order='C')  # Buffer for digital data\n",
    "read_duration = 20  # read data for 5 seconds\n",
    "start_time = time.time()\n",
    "num_repeat = 0\n",
    "while time.time() - start_time < read_duration:\n",
    "    # Read analog and digital data\n",
    "    analog_reader.read_many_sample(\n",
    "        analog_data, \n",
    "        number_of_samples_per_channel=samples_per_read\n",
    "    )\n",
    "    digital_reader.read_many_sample_port_uint32(\n",
    "        digital_data, \n",
    "        number_of_samples_per_channel=samples_per_read\n",
    "    )\n",
    "    analog_data_av += np.copy(analog_data) \n",
    "    digital_data_av += np.copy(digital_data)  \n",
    "    # Print or process the data\n",
    "    # print(\"Analog Data:\", analog_data)\n",
    "    # print(\"Digital Data:\", digital_data)\n",
    "    num_repeat += 1\n",
    "    # # Small delay to avoid excessive output\n",
    "    # time.sleep(0.5)\n",
    "\n",
    "# Stop the tasks\n",
    "analog_task.stop()\n",
    "digital_task.stop()\n",
    "\n",
    "print(f\"measurement repeat : {num_repeat} times\")\n",
    "analog_data_av = analog_data_av/num_repeat\n",
    "digital_data_av = digital_data_av/num_repeat"
   ]
  },
  {
   "cell_type": "code",
   "execution_count": 149,
   "metadata": {},
   "outputs": [],
   "source": [
    "def shift(arr, idx):\n",
    "    result = np.empty_like(arr)\n",
    "    arrlen = len(arr)\n",
    "    result[-idx:] = arr[:idx]\n",
    "    result[:(arrlen-idx)] = arr[(idx-arrlen):]\n",
    "    return result\n",
    "# idx_step = np.where((digital_data_av-128)>=0)[0][0]\n",
    "# idx_step = np.where(digital_data_av>0)[0][0]\n",
    "idx_step = np.argmax(np.diff(digital_data_av))\n",
    "sigbg = shift(analog_data_av, idx_step)\n",
    "outtrig = shift(digital_data_av, idx_step)\n",
    "\n",
    "pl_rise = sigbg[:2*num_risesweep]\n",
    "pl_fall = np.flip(sigbg[2*num_fallsweep:])\n",
    "pl_av = (pl_rise + pl_fall)/2.0\n",
    "\n",
    "freq = freq_sawsweep[:num_risesweep]\n",
    "signal = sigbg[::2]\n",
    "sig_rise = signal[:num_risesweep]\n",
    "sig_fall = np.flip(signal[num_fallsweep:])\n",
    "sig_av = (sig_rise + sig_fall)/2.0\n",
    "backgroud = sigbg[1::2]\n",
    "bg_rise = backgroud[:num_risesweep]\n",
    "bg_fall = np.flip(backgroud[num_fallsweep:])\n",
    "bg_av = (bg_rise + bg_fall)/2.0\n",
    "\n",
    "contrast_mwrise = (sig_rise-bg_rise)/bg_rise\n",
    "contrast_mwfall = (sig_fall-bg_fall)/sig_fall"
   ]
  },
  {
   "cell_type": "code",
   "execution_count": 150,
   "metadata": {},
   "outputs": [
    {
     "data": {
      "image/png": "[encoded data removed]",
      "text/plain": [
       "<Figure size 640x480 with 3 Axes>"
      ]
     },
     "metadata": {},
     "output_type": "display_data"
    }
   ],
   "source": [
    "import matplotlib.pyplot as plt\n",
    "\n",
    "fig, ax1 = plt.subplots()\n",
    "ax2 = ax1.twinx()\n",
    "ax3 = ax1.twinx()\n",
    "ax1.plot(analog_data_av*1E3, linewidth=0.5, label=\"signal\", color=\"orange\")\n",
    "ax2.plot(digital_data_av, linewidth=0.5, label=\"signal\", color=\"green\")\n",
    "ax1.plot(sigbg*1E3, linewidth=0.5, label=\"signal\", color=\"red\")\n",
    "ax3.plot(outtrig, linewidth=0.5, marker=\"*\", label=\"signal\", color=\"blue\")\n",
    "# ax1.plot(freq, sig_rise*1E3, linewidth=0.5, label=\"Signal (MW rise)\", color=\"limegreen\")\n",
    "# ax1.plot(freq, sig_fall*1E3, linewidth=0.5, label=\"Signal (MW fall)\", color=\"forestgreen\")\n",
    "# ax1.plot(freq, bg_rise*1E3, linewidth=0.5, label=\"Background (MW rise)\", color=\"orange\")\n",
    "# ax1.plot(freq, bg_fall*1E3, linewidth=0.5, label=\"Background (MW fall)\", color=\"yellow\")\n",
    "# ax2.plot(freq, contrast_mwrise*100.0, linewidth=1, label=\"contrast (MW rise)\", color='royalblue')\n",
    "# ax2.plot(freq, contrast_mwfall*100.0, linewidth=1, label=\"contrast (MW fall)\", color='cornflowerblue')\n",
    "\n",
    "\n",
    "\n",
    "# ax1.plot(pl_rise*1E3, linewidth=0.5, label=\"MW rise\", color=\"orange\")\n",
    "# ax1.plot(pl_fall*1E3, linewidth=0.5, label=\"MW fall\", color=\"yellow\")\n",
    "# ax1.plot(freq, pl_av*1E3, linewidth=0.5, label=\"PL aver.\", color=\"red\")\n",
    "\n",
    "# ax1.plot(freq_actual*24.0, background_av*1E3, linewidth=0.5, label=\"ref\", color=\"green\")\n",
    "# ax2.plot(freq_actual*24.0, contrast*100.0, linewidth=2, label=\"contrast\", color='royalblue')\n",
    "\n",
    "ax1.set_xlabel(\"Frequency [GHz]\")\n",
    "ax1.set_ylabel(\"PL [mV]\")\n",
    "ax2.set_ylabel(\"Contrast [%]\", color='royalblue')\n",
    "ax1.legend(loc='lower left')\n",
    "plt.title(\"ODMR (ms=0 to -1)\")\n",
    "plt.show()"
   ]
  },
  {
   "cell_type": "code",
   "execution_count": 46,
   "metadata": {},
   "outputs": [],
   "source": []
  },
  {
   "cell_type": "code",
   "execution_count": 37,
   "metadata": {},
   "outputs": [],
   "source": [
    "np.savetxt('output\\\\NVp1_zoom(freq_signal_background)_20240429.txt', np.c_[freq_actual*24, signal_av, background_av])"
   ]
  },
  {
   "cell_type": "code",
   "execution_count": null,
   "metadata": {},
   "outputs": [],
   "source": [
    "mwsyn.reboot()"
   ]
  },
  {
   "cell_type": "code",
   "execution_count": 151,
   "metadata": {},
   "outputs": [],
   "source": [
    "pg.constant(OutputState.ZERO())\n",
    "laser.laser_off() # turn off laser\n",
    "# readtask.close()"
   ]
  },
  {
   "cell_type": "code",
   "execution_count": 159,
   "metadata": {},
   "outputs": [
    {
     "ename": "NameError",
     "evalue": "name 'readtask' is not defined",
     "output_type": "error",
     "traceback": [
      "\u001b[1;31m---------------------------------------------------------------------------\u001b[0m",
      "\u001b[1;31mNameError\u001b[0m                                 Traceback (most recent call last)",
      "Cell \u001b[1;32mIn[159], line 1\u001b[0m\n\u001b[1;32m----> 1\u001b[0m \u001b[43mreadtask\u001b[49m\u001b[38;5;241m.\u001b[39mclose()\n",
      "\u001b[1;31mNameError\u001b[0m: name 'readtask' is not defined"
     ]
    }
   ],
   "source": [
    "readtask.close()"
   ]
  },
  {
   "cell_type": "code",
   "execution_count": 152,
   "metadata": {},
   "outputs": [],
   "source": [
    "mwsyn.close()"
   ]
  },
  {
   "cell_type": "code",
   "execution_count": 153,
   "metadata": {},
   "outputs": [],
   "source": [
    "laser.close()"
   ]
  },
  {
   "cell_type": "code",
   "execution_count": 154,
   "metadata": {},
   "outputs": [],
   "source": [
    "pg.reset()"
   ]
  },
  {
   "cell_type": "code",
   "execution_count": null,
   "metadata": {},
   "outputs": [],
   "source": [
    "mwsyn.reboot()"
   ]
  },
  {
   "cell_type": "code",
   "execution_count": 28,
   "metadata": {},
   "outputs": [],
   "source": [
    "# close the communication\n",
    "laser.close()\n",
    "mwsyn.close()\n"
   ]
  },
  {
   "cell_type": "code",
   "execution_count": null,
   "metadata": {},
   "outputs": [],
   "source": []
  }
 ],
 "metadata": {
  "kernelspec": {
   "display_name": "hfnvenv",
   "language": "python",
   "name": "python3"
  },
  "language_info": {
   "codemirror_mode": {
    "name": "ipython",
    "version": 3
   },
   "file_extension": ".py",
   "mimetype": "text/x-python",
   "name": "python",
   "nbconvert_exporter": "python",
   "pygments_lexer": "ipython3",
   "version": "3.10.14"
  }
 },
 "nbformat": 4,
 "nbformat_minor": 2
}
