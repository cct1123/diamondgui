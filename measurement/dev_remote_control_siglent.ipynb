{
 "cells": [
  {
   "cell_type": "code",
   "execution_count": 12,
   "id": "0a9893cb",
   "metadata": {},
   "outputs": [],
   "source": [
    "import pyvisa"
   ]
  },
  {
   "cell_type": "code",
   "execution_count": 2,
   "id": "2293bc07",
   "metadata": {},
   "outputs": [
    {
     "name": "stdout",
     "output_type": "stream",
     "text": [
      "Output state: C1:OUTP ON,LOAD,50,POWERON_STATE,0,PLRT,NOR\n",
      "\n"
     ]
    }
   ],
   "source": [
    "import socket\n",
    "import time\n",
    "\n",
    "HOST = '192.168.1.39'\n",
    "PORT = 5025\n",
    "\n",
    "commands = [\n",
    "    \"C1:BSWV WVTP,SINE\",\n",
    "    \"C1:BSWV FRQ,5E6\",\n",
    "    \"C1:BSWV AMP,5\",\n",
    "    \"C1:BSWV OFST,0\",\n",
    "    # \"C1:OUTP LOAD,HZ\",      # Set high impedance load\n",
    "    \"C1:OUTP LOAD,50\",      # Set 50ohm load\n",
    "    # \"OUT_BOTHCH ON\",        # Enable both outputs (safe even for one)\n",
    "    \"C1:OUTP ON\"            # Turn on channel 1\n",
    "]\n",
    "\n",
    "with socket.socket(socket.AF_INET, socket.SOCK_STREAM) as s:\n",
    "    s.connect((HOST, PORT))\n",
    "    for cmd in commands:\n",
    "        s.sendall((cmd + '\\n').encode())\n",
    "        time.sleep(0.1)  #\n",
    "\n",
    "    s.sendall(b'C1:OUTP?\\n')     # Confirm state\n",
    "    response = s.recv(1024)\n",
    "    print(\"Output state:\", response.decode())"
   ]
  },
  {
   "cell_type": "code",
   "execution_count": 3,
   "id": "d84d5107",
   "metadata": {},
   "outputs": [
    {
     "name": "stdout",
     "output_type": "stream",
     "text": [
      "Output state: C1:OUTP OFF,LOAD,50,POWERON_STATE,0,PLRT,NOR\n",
      "\n"
     ]
    }
   ],
   "source": [
    "import socket\n",
    "\n",
    "HOST = '192.168.1.39'  # Replace with your instrument's IP\n",
    "PORT = 5025\n",
    "\n",
    "with socket.socket(socket.AF_INET, socket.SOCK_STREAM) as s:\n",
    "    s.connect((HOST, PORT))\n",
    "    s.sendall(b'C1:OUTP OFF\\n')  # Turn off output\n",
    "    s.sendall(b'C1:OUTP?\\n')     # Confirm state\n",
    "    response = s.recv(1024)\n",
    "    print(\"Output state:\", response.decode())\n"
   ]
  },
  {
   "cell_type": "code",
   "execution_count": null,
   "id": "390ed564",
   "metadata": {},
   "outputs": [],
   "source": []
  },
  {
   "cell_type": "code",
   "execution_count": null,
   "id": "a58fe2cd",
   "metadata": {},
   "outputs": [],
   "source": []
  }
 ],
 "metadata": {
  "kernelspec": {
   "display_name": "hfnvenv",
   "language": "python",
   "name": "python3"
  },
  "language_info": {
   "codemirror_mode": {
    "name": "ipython",
    "version": 3
   },
   "file_extension": ".py",
   "mimetype": "text/x-python",
   "name": "python",
   "nbconvert_exporter": "python",
   "pygments_lexer": "ipython3",
   "version": "3.10.16"
  }
 },
 "nbformat": 4,
 "nbformat_minor": 5
}
