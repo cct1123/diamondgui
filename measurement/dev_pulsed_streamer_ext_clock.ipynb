{
    "cells": [
        {
            "cell_type": "code",
            "execution_count": 1,
            "metadata": {},
            "outputs": [],
            "source": [
                "import numpy as np\n",
                "import math\n",
                "from functools import reduce\n",
                "import time\n",
                "import sys\n",
                "import os\n",
                "import numpy as np\n",
                "\n",
                "path_project = \"\\\\\".join(os.getcwd().split(\"\\\\\")[:-1])\n",
                "# caution: path[0] is reserved for script path (or '' in REPL)\n",
                "sys.path.insert(1, path_project)\n",
                "from pathlib import Path\n",
                "import nidaqmx\n",
                "\n",
                "def lcm(a, b):\n",
                "    \"\"\"Calculate the least common multiple of two numbers.\"\"\"\n",
                "    return abs(a * b) // math.gcd(a, b)\n",
                "\n",
                "\n",
                "def lcm_of_list(numbers):\n",
                "    \"\"\"Find the LCM of a list of numbers.\"\"\"\n",
                "    return reduce(lcm, numbers)\n",
                "\n",
                "def seqtime(seq_tb):\n",
                "    return np.sum([pulse[-1] for pulse in seq_tb])\n",
                "\n",
                "# some constants\n",
                "Hz = 1e-9 # GHz\n",
                "kHz = 1e-6 # GHz\n",
                "MHz = 1e-3 # GHz\n",
                "pi = np.pi\n"
            ]
        },
        {
            "cell_type": "code",
            "execution_count": 2,
            "metadata": {},
            "outputs": [],
            "source": [
                "import nidaqmx\n",
                "from nidaqmx.constants import TerminalConfiguration, VoltageUnits, Edge, AcquisitionType, READ_ALL_AVAILABLE\n",
                "from nidaqmx.stream_readers import AnalogSingleChannelReader\n",
                "\n",
                "from hardware import config as hcf\n",
                "from hardware.hardwaremanager import HardwareManager\n",
                "from hardware.pulser.pulser import (\n",
                "    OutputState,\n",
                "    TriggerStart,\n",
                "    TriggerRearm,\n",
                "    HIGH,\n",
                "    LOW,\n",
                "    INF,\n",
                "    REPEAT_INFINITELY\n",
                ")\n",
                "timebase = lcm_of_list(\n",
                "    [hcf.VDISYN_timebase, hcf.SIDIG_timebase, hcf.PS_timebase, hcf.RSRF_timebase]\n",
                ")\n",
                "\n",
                "hm = HardwareManager()\n",
                "# adds synthesizer, laser, and pulse generator \n",
                "# hm.add_default_hardware()\n"
            ]
        },
        {
            "cell_type": "code",
            "execution_count": 3,
            "metadata": {},
            "outputs": [
                {
                    "name": "stdout",
                    "output_type": "stream",
                    "text": [
                        "Connect to Pulse Streamer via JSON-RPC.\n",
                        "IP / Hostname: 192.168.1.26\n",
                        "Pulse Streamer 8/2 firmware: v1.7.2\n",
                        "Client software: v1.7.0\n"
                    ]
                }
            ],
            "source": [
                "# load the hardware manager\n",
                "# # add some devices to the server (if they aren't already added) ##################################################\n",
                "import hardware.config as hcf\n",
                "from hardware.hardwaremanager import HardwareManager\n",
                "from pathlib import Path\n",
                "inserv = HardwareManager()\n",
                "HERE = Path(path_project)\n",
                "# pulse generator\n",
                "try:\n",
                "    inserv.add(\n",
                "        'pg', \n",
                "        HERE / 'hardware' / 'pulser' / 'pulser.py', \n",
                "        'PulseGenerator', \n",
                "        [],\n",
                "        dict(ip=hcf.PS_IP, chmap=hcf.PS_chmap, choffs=hcf.PS_choffs), \n",
                "    )\n",
                "except Exception as ee:\n",
                "    print(ee)\n"
            ]
        },
        {
            "cell_type": "code",
            "execution_count": 4,
            "metadata": {},
            "outputs": [],
            "source": [
                "# from pulsestreamer import ClockSource"
            ]
        },
        {
            "cell_type": "code",
            "execution_count": 5,
            "metadata": {},
            "outputs": [],
            "source": [
                "# ClockSource.EXT_10MHZ"
            ]
        },
        {
            "cell_type": "code",
            "execution_count": 6,
            "metadata": {},
            "outputs": [
                {
                    "data": {
                        "text/plain": [
                            "<ClockSource.EXT_10MHZ: 2>"
                        ]
                    },
                    "execution_count": 6,
                    "metadata": {},
                    "output_type": "execute_result"
                }
            ],
            "source": [
                "hm.pg.getClock()\n",
                "# hm.pg.selectClock(ClockSource.EXT_10MHZ)"
            ]
        },
        {
            "cell_type": "code",
            "execution_count": 7,
            "metadata": {},
            "outputs": [
                {
                    "data": {
                        "text/plain": [
                            "<ClockSource.EXT_10MHZ: 2>"
                        ]
                    },
                    "execution_count": 7,
                    "metadata": {},
                    "output_type": "execute_result"
                }
            ],
            "source": [
                "hm.pg.getClock()\n"
            ]
        },
        {
            "cell_type": "code",
            "execution_count": null,
            "metadata": {},
            "outputs": [],
            "source": []
        }
    ],
    "metadata": {
        "kernelspec": {
            "display_name": "Python 3",
            "language": "python",
            "name": "python3"
        },
        "language_info": {
            "codemirror_mode": {
                "name": "ipython",
                "version": 3
            },
            "file_extension": ".py",
            "mimetype": "text/x-python",
            "name": "python",
            "nbconvert_exporter": "python",
            "pygments_lexer": "ipython3",
            "version": "3.10.16"
        }
    },
    "nbformat": 4,
    "nbformat_minor": 2
}