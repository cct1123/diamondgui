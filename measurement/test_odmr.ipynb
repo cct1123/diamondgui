{
 "cells": [
  {
   "cell_type": "markdown",
   "metadata": {},
   "source": [
    "# apply instruments settings"
   ]
  },
  {
   "cell_type": "code",
   "execution_count": 1,
   "metadata": {},
   "outputs": [],
   "source": [
    "import time\n",
    "import sys\n",
    "import os\n",
    "path_project = \"\\\\\".join(os.getcwd().split(\"\\\\\")[:-1])\n",
    "# caution: path[0] is reserved for script path (or '' in REPL)\n",
    "sys.path.insert(1, path_project)\n",
    "\n",
    "from hardware.pulser.pulser import PulseGenerator, OutputState, TriggerStart, TriggerRearm, HIGH, LOW, INF\n",
    "from hardware.laser.laser import LaserControl\n",
    "from hardware.mw.mwsynthesizer import Synthesizer\n",
    "\n",
    "from hardware import config_custom as hdc\n",
    "\n",
    "import nidaqmx\n",
    "from nidaqmx.constants import TerminalConfiguration, VoltageUnits, Edge, AcquisitionType, READ_ALL_AVAILABLE\n",
    "# from nidaqmx.constants import LogicFamily \n",
    "# TWO_POINT_FIVE_V, THREE_POINT_THREE_V, FIVE_V\n",
    "# from nidaqmx import stream_readers \n",
    "from nidaqmx.stream_readers import AnalogSingleChannelReader\n",
    "\n",
    "import numpy as np"
   ]
  },
  {
   "cell_type": "code",
   "execution_count": 2,
   "metadata": {},
   "outputs": [
    {
     "name": "stdout",
     "output_type": "stream",
     "text": [
      "Connect to Pulse Streamer via JSON-RPC.\n",
      "IP / Hostname: 169.254.8.2\n",
      "Pulse Streamer 8/2 firmware: v1.7.2\n",
      "Client software: v1.7.0\n",
      "VDI Sythesizer Serail Port Open\n"
     ]
    }
   ],
   "source": [
    "# connect to devices\n",
    "pg  = PulseGenerator(ip=hdc.PS_IP, chmap=hdc.PS_chmap) \n",
    "mwsyn = Synthesizer(hdc.VDISYN_SN, \n",
    "                    vidpid=hdc.VDISYN_VIDPID,\n",
    "                    baudrate=hdc.VDISYN_BAUD, \n",
    "                    timeout=5, \n",
    "                    write_timeout=5)\n",
    "# mwsyn.reboot()\n",
    "laser = LaserControl(hdc.LASER_SN)\n",
    "laser.open()\n"
   ]
  },
  {
   "cell_type": "markdown",
   "metadata": {},
   "source": [
    "# Set parameters"
   ]
  },
  {
   "cell_type": "code",
   "execution_count": 3,
   "metadata": {},
   "outputs": [],
   "source": [
    "current_percent = 75.09\n",
    "laser.laser_off()\n",
    "laser.set_analog_control_mode(\"current\")\n",
    "laser.set_modulation_state(\"Pulsed\")\n",
    "laser.set_diode_current(current_percent, save_memory=False)"
   ]
  },
  {
   "cell_type": "code",
   "execution_count": 24,
   "metadata": {},
   "outputs": [],
   "source": [
    "laserpower = 1.0\n",
    "laser.laser_off()\n",
    "laser.set_analog_control_mode(\"power\")\n",
    "laser.set_modulation_state(\"CW\")\n",
    "laser.set_laser_power(laserpower, save_memory=False)\n",
    "# laser.laser_on()"
   ]
  },
  {
   "cell_type": "code",
   "execution_count": 21,
   "metadata": {},
   "outputs": [],
   "source": [
    "laser.laser_off()"
   ]
  },
  {
   "cell_type": "code",
   "execution_count": 23,
   "metadata": {},
   "outputs": [],
   "source": [
    "laser.laser_on()"
   ]
  },
  {
   "cell_type": "code",
   "execution_count": 5,
   "metadata": {},
   "outputs": [
    {
     "name": "stdout",
     "output_type": "stream",
     "text": [
      "CW Freqeuncy Setting Sent:16.6 GHz\n",
      "Actual Output CW Freqeuncy :16.600000005215406 GHz\n"
     ]
    }
   ],
   "source": [
    "freq = 16.6\n",
    "errorbyte, freq_actual = mwsyn.cw_frequency(freq)\n",
    "print(f\"CW Freqeuncy Setting Sent:{freq} GHz\")\n",
    "print(f\"Actual Output CW Freqeuncy :{freq_actual} GHz\")"
   ]
  },
  {
   "cell_type": "code",
   "execution_count": 6,
   "metadata": {},
   "outputs": [],
   "source": [
    "dur_pt = 16E6 # duration of each frequency point\n",
    "divpart_pt = 2 \n",
    "clock_rate = 500E-6 #GHz\n",
    "daqtrig_delay = 1/clock_rate #delay\n",
    "seq_daqtrig = [(dur_pt/2.0, HIGH), (dur_pt/2.0, LOW)]\n",
    "seq_laser = [(dur_pt, HIGH)]\n",
    "seq_mwA = [(dur_pt/2.0/divpart_pt, HIGH), (dur_pt/2.0/divpart_pt, LOW)]*divpart_pt\n",
    "seq_clock = [(0.5/clock_rate, HIGH),(0.5/clock_rate, LOW)]*int(dur_pt*clock_rate)\n",
    "pg.setDigital(\"laser\", seq_laser)\n",
    "pg.setDigital(\"mw_A\", seq_mwA)\n",
    "# pg.setDigital(\"laser\", seq_mwA)\n",
    "# pg.setDigital(\"mw_A\", seq_laser)\n",
    "pg.setDigital(\"daqtrig\", seq_daqtrig)\n",
    "pg.setDigital(\"clock\", seq_clock)\n",
    "pg.setTrigger(start=TriggerStart.SOFTWARE, rearm=TriggerRearm.MANUAL)"
   ]
  },
  {
   "cell_type": "code",
   "execution_count": 7,
   "metadata": {},
   "outputs": [
    {
     "ename": "NameError",
     "evalue": "name 'readtask' is not defined",
     "output_type": "error",
     "traceback": [
      "\u001b[1;31m---------------------------------------------------------------------------\u001b[0m",
      "\u001b[1;31mNameError\u001b[0m                                 Traceback (most recent call last)",
      "Cell \u001b[1;32mIn[7], line 1\u001b[0m\n\u001b[1;32m----> 1\u001b[0m \u001b[43mreadtask\u001b[49m\u001b[38;5;241m.\u001b[39mclose()\n",
      "\u001b[1;31mNameError\u001b[0m: name 'readtask' is not defined"
     ]
    }
   ],
   "source": [
    "readtask.close()"
   ]
  },
  {
   "cell_type": "code",
   "execution_count": 10,
   "metadata": {},
   "outputs": [],
   "source": [
    "# signal reading parameters\n",
    "min_volt = -0.001 # [V]\n",
    "max_volt = 0.005\n",
    "samplerate_read = clock_rate*1E9 # 500kHz .max ext clock rate of NI6343\n",
    "basetime = 1.0/samplerate_read\n",
    "num_readsample = int(samplerate_read*dur_pt/1E9)\n",
    "timeout_read = max(dur_pt*2.0/1E9, 10)\n",
    "buffer_readpoint = np.zeros(num_readsample, dtype=np.float64, order='C')\n",
    "\n",
    "readtask = nidaqmx.Task(\"readsignal\")\n",
    "# readtask.close()\n",
    "readtask.ai_channels.add_ai_voltage_chan(\n",
    "            hdc.DAQch_APD,\"\",\n",
    "            # TerminalConfiguration.RSE,\n",
    "            TerminalConfiguration.DIFF,\n",
    "            min_volt,max_volt,\n",
    "            VoltageUnits.VOLTS\n",
    "        )\n",
    "readtask.timing.cfg_samp_clk_timing(samplerate_read, source=hdc.DAQch_Clock, active_edge=Edge.RISING, sample_mode=AcquisitionType.FINITE, samps_per_chan=num_readsample)\n",
    "read_trig = readtask.triggers.start_trigger\n",
    "read_trig.cfg_dig_edge_start_trig(hdc.DAQch_Trig, Edge.RISING)\n",
    "\n",
    "reader = AnalogSingleChannelReader(readtask.in_stream)\n",
    "        # reader = stream_readers.AnalogMultiChannelReader(task.in_stream)\n",
    "reader.read_all_avail_samp  = True\n",
    "divnum = int(len(buffer_readpoint)/divpart_pt)\n",
    "recordlen = int(divnum/2)"
   ]
  },
  {
   "cell_type": "code",
   "execution_count": null,
   "metadata": {},
   "outputs": [],
   "source": [
    "readtask.close()"
   ]
  },
  {
   "cell_type": "markdown",
   "metadata": {},
   "source": [
    "# Start measurement\n"
   ]
  },
  {
   "cell_type": "code",
   "execution_count": 8,
   "metadata": {},
   "outputs": [
    {
     "data": {
      "text/plain": [
       "0"
      ]
     },
     "execution_count": 8,
     "metadata": {},
     "output_type": "execute_result"
    }
   ],
   "source": [
    "laser.laser_on() # turn off laser\n",
    "pg.stream(n_runs=INF)\n",
    "pg.startNow()"
   ]
  },
  {
   "cell_type": "code",
   "execution_count": 13,
   "metadata": {},
   "outputs": [
    {
     "name": "stdout",
     "output_type": "stream",
     "text": [
      "Estimated time for one sweep:1.920139170241458 s\n"
     ]
    }
   ],
   "source": [
    "freq_start = 16.45-0.25\n",
    "freq_stop = 16.45+0.25\n",
    "B = 14.103\n",
    "f_e = 28.0249514242*B\n",
    "f_NVp1 = f_e + 2.8705\n",
    "f_NVm1 = f_e - 2.8705\n",
    "f_NVguess = 392.8397714495659\n",
    "# f_NVguess = 398.5567714869976\n",
    "freq_start = (f_NVguess-0.030)/24.0\n",
    "freq_stop = (f_NVguess+0.030)/24.0\n",
    "# check the minium step size\n",
    "freqminstep_list = mwsyn.get_min_step_size([freq_start], [freq_stop])\n",
    "step_min = freqminstep_list[0] # in Hz\n",
    "freq_step = 0.5E-3/24.0\n",
    "freq_step = int(freq_step/step_min*1E9)*step_min/1E9\n",
    "\n",
    "freq_array = np.arange(freq_start, freq_stop, freq_step)\n",
    "print(f\"Estimated time for one sweep:{(freq_stop-freq_start)/freq_step*max(10E6, dur_pt)/1E9} s\")\n",
    "freq_actual = np.zeros(len(freq_array))\n",
    "\n",
    "# sigref = np.zeros((len(freq_array), num_readsample), dtype=np.float64, order='C')\n",
    "signal = np.zeros(len(freq_actual))\n",
    "background = np.zeros(len(freq_actual))\n",
    "# repeat measurement\n",
    "num_repeat = 1\n",
    "signal_av = np.zeros(len(freq_actual))\n",
    "background_av = np.zeros(len(freq_actual))\n",
    "\n",
    "for kkk in range(num_repeat):\n",
    "    for (jj, ff) in enumerate(freq_array):\n",
    "        errorbyte, freq_actual[jj] = mwsyn.cw_frequency(ff)\n",
    "        # print(f\"CW Freqeuncy Setting Sent:{freq} GHz\")\n",
    "        # print(f\"Actual Output CW Freqeuncy :{freq_actual} GHz\")\n",
    "        readtask.start() # ready to read data\n",
    "        num_read = reader.read_many_sample(\n",
    "                buffer_readpoint,\n",
    "                num_readsample,\n",
    "                timeout_read\n",
    "            )\n",
    "        bright = 0.0\n",
    "        dark = 0.0\n",
    "        for ii in range(divpart_pt):\n",
    "            bright += np.mean(buffer_readpoint[1+ii*divnum:1+ii*divnum+recordlen])\n",
    "            dark += np.mean(buffer_readpoint[1+ii*divnum+recordlen:1+(ii+1)*divnum])\n",
    "        # sigref[jj] = np.copy(buffer_readpoint)\n",
    "        signal[jj] = bright\n",
    "        background[jj] = dark\n",
    "        readtask.wait_until_done(timeout=timeout_read) # block the code below, optional\n",
    "        readtask.stop()\n",
    "        # laser.laser_off()\n",
    "        # readtask.close()\n",
    "    signal_av += np.copy(signal)\n",
    "    background_av += np.copy(background)\n",
    "signal_av = signal_av/num_repeat/divpart_pt\n",
    "background_av = background_av/num_repeat/divpart_pt\n",
    "contrast = (signal_av-background_av)/background_av"
   ]
  },
  {
   "cell_type": "code",
   "execution_count": 211,
   "metadata": {},
   "outputs": [],
   "source": [
    "readtask.close()"
   ]
  },
  {
   "cell_type": "code",
   "execution_count": 14,
   "metadata": {},
   "outputs": [
    {
     "name": "stdout",
     "output_type": "stream",
     "text": [
      "Guess NV transition: 392.8407692313194GHz\n"
     ]
    },
    {
     "data": {
      "image/png": "[encoded data removed]",
      "text/plain": [
       "<Figure size 640x480 with 2 Axes>"
      ]
     },
     "metadata": {},
     "output_type": "display_data"
    }
   ],
   "source": [
    "import matplotlib.pyplot as plt\n",
    "\n",
    "fig, ax1 = plt.subplots()\n",
    "idx = np.argmin(contrast)\n",
    "print(f\"Guess NV transition: {freq_actual[idx]*24}GHz\")\n",
    "ax2 = ax1.twinx()\n",
    "ax1.plot(freq_actual*24.0, signal_av*1E3, linewidth=0.5, label=\"signal\", color=\"orange\")\n",
    "ax1.plot(freq_actual*24.0, background_av*1E3, linewidth=0.5, label=\"ref\", color=\"green\")\n",
    "ax2.plot(freq_actual*24.0, contrast*100.0, linewidth=2, label=\"contrast\", color='royalblue')\n",
    "\n",
    "ax1.set_xlabel(\"Frequency [GHz]\")\n",
    "ax1.set_ylabel(\"PL [mV]\")\n",
    "ax2.set_ylabel(\"Contrast [%]\", color='royalblue')\n",
    "ax1.legend(loc='lower left')\n",
    "plt.title(\"ODMR  (ms=0 to -1)\")\n",
    "plt.show()"
   ]
  },
  {
   "cell_type": "code",
   "execution_count": null,
   "metadata": {},
   "outputs": [],
   "source": [
    "np.savetxt('output\\\\20240511_cwodmr\\\\p1ODMR_ccw.txt', np.c_[freq_actual*24, signal_av, background_av])"
   ]
  },
  {
   "cell_type": "code",
   "execution_count": 178,
   "metadata": {},
   "outputs": [
    {
     "name": "stdout",
     "output_type": "stream",
     "text": [
      "Data saved to output\\20240511_cwodmr\\p1ODMR_ccw.pkl\n"
     ]
    }
   ],
   "source": [
    "# to save file\n",
    "# Data to save\n",
    "import pickle\n",
    "data = {\n",
    "    'freq_actual': freq_actual*24.0,\n",
    "    'signal_av': signal_av,\n",
    "    'background_av': background_av, \n",
    "    'contrast': contrast, \n",
    "}\n",
    "\n",
    "# File path\n",
    "filename = f\"p1ODMR_ccw.pkl\"\n",
    "dir = \"output\\\\20240511_cwodmr\"\n",
    "file_path = f'{dir}\\\\{filename}'\n",
    "\n",
    "# Open the file in binary write mode\n",
    "with open(file_path, 'wb') as f:\n",
    "    # Write data to the file using pickle.dump()\n",
    "    pickle.dump(data, f)\n",
    "\n",
    "print(f'Data saved to {file_path}')"
   ]
  },
  {
   "cell_type": "code",
   "execution_count": null,
   "metadata": {},
   "outputs": [],
   "source": [
    "# functions for fitting =============================\n",
    "def lorentzian_bg(x, A, x0, gamma, B):\n",
    "    # lorentzian with background floor\n",
    "    return 0.5*A*gamma/np.pi/(np.square(x-x0)+np.square(0.5*gamma)) + B\n",
    "\n",
    "def lorentzian(x, A, x0, gamma):\n",
    "    return lorentzian_bg(x, A, x0, gamma, 0.0)\n",
    "\n",
    "def lorentzian_slopebg(x, A, x0, gamma, m, B):\n",
    "    # lorentzian with background floor\n",
    "    return 0.5*A*gamma/np.pi/(np.square(x-x0)+np.square(0.5*gamma)) + m*x + B\n",
    "\n",
    "def lorentzian_slopebg_estimator(xdata, ydata):\n",
    "    slope = (ydata[-1]-ydata[0])/(xdata[-1]-xdata[0])\n",
    "\n",
    "    ydata = np.array(ydata) - slope*(np.array(xdata)-xdata[0])\n",
    "    idxmax = np.argmax(ydata)\n",
    "    idxmin = np.argmin(ydata)\n",
    "    ymin = np.min(ydata)\n",
    "    ymax = np.max(ydata)\n",
    "    # ydata = (ydata-ymin)/(ymax-ymin)\n",
    "    baseline = np.median(ydata)\n",
    "    # baseline = np.square(np.median(np.sqrt(ydata)))\n",
    "    pospeak = (ymax-baseline)>(baseline-ymin)\n",
    "    A = (ymax-baseline)*pospeak + (ymin-baseline)*(not pospeak)\n",
    "    idxpeak = idxmax*pospeak + idxmin*(not pospeak)\n",
    "    x0 = xdata[idxpeak]\n",
    "    idxhalf = np.argmin(np.absolute(ydata-A/2))\n",
    "    gamma = abs(xdata[idxhalf]-xdata[idxpeak])\n",
    "    return A*gamma, x0, gamma, slope, baseline\n",
    "\n",
    "\n",
    "def lorentzian_bg_estimator(xdata, ydata):\n",
    "    idxmax = np.argmax(ydata)\n",
    "    idxmin = np.argmin(ydata)\n",
    "    ymin = np.min(ydata)\n",
    "    ymax = np.max(ydata)\n",
    "    # ydata = (ydata-ymin)/(ymax-ymin)\n",
    "    baseline = np.median(ydata)\n",
    "    # baseline = np.square(np.median(np.sqrt(ydata)))\n",
    "    pospeak = (ymax-baseline)>(baseline-ymin)\n",
    "    A = (ymax-baseline)*pospeak + (ymin-baseline)*(not pospeak)\n",
    "    idxpeak = idxmax*pospeak + idxmin*(not pospeak)\n",
    "    x0 = xdata[idxpeak]\n",
    "    idxhalf = np.argmin(np.absolute(ydata-A/2))\n",
    "    gamma = abs(xdata[idxhalf]-xdata[idxpeak])\n",
    "    return A, x0, gamma, baseline\n",
    "\n",
    "def lorentzian_estimator(xdata, ydata):\n",
    "    return lorentzian_bg_estimator(xdata, ydata)[:-1]"
   ]
  },
  {
   "cell_type": "code",
   "execution_count": 15,
   "metadata": {},
   "outputs": [
    {
     "name": "stdout",
     "output_type": "stream",
     "text": [
      "MW Synthesizer Rebooted!\n"
     ]
    }
   ],
   "source": [
    "# mwsyn.reboot()"
   ]
  },
  {
   "cell_type": "code",
   "execution_count": 16,
   "metadata": {},
   "outputs": [
    {
     "name": "stdout",
     "output_type": "stream",
     "text": [
      "MW Synthesizer Rebooted!\n"
     ]
    }
   ],
   "source": [
    "pg.constant(OutputState.ZERO())\n",
    "laser.laser_off() # turn off laser\n",
    "readtask.close()\n",
    "mwsyn.reboot()"
   ]
  },
  {
   "cell_type": "code",
   "execution_count": 17,
   "metadata": {},
   "outputs": [],
   "source": [
    "mwsyn.close()"
   ]
  },
  {
   "cell_type": "code",
   "execution_count": 18,
   "metadata": {},
   "outputs": [],
   "source": [
    "laser.close()"
   ]
  },
  {
   "cell_type": "code",
   "execution_count": 19,
   "metadata": {},
   "outputs": [],
   "source": [
    "# close the communication\n",
    "laser.close()\n",
    "mwsyn.close()\n",
    "pg.reset()"
   ]
  },
  {
   "cell_type": "code",
   "execution_count": null,
   "metadata": {},
   "outputs": [],
   "source": []
  }
 ],
 "metadata": {
  "kernelspec": {
   "display_name": "hfnvenv",
   "language": "python",
   "name": "python3"
  },
  "language_info": {
   "codemirror_mode": {
    "name": "ipython",
    "version": 3
   },
   "file_extension": ".py",
   "mimetype": "text/x-python",
   "name": "python",
   "nbconvert_exporter": "python",
   "pygments_lexer": "ipython3",
   "version": "3.10.14"
  }
 },
 "nbformat": 4,
 "nbformat_minor": 2
}
