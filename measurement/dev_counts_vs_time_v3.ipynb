{
    "cells": [
        {
            "cell_type": "code",
            "execution_count": 1,
            "metadata": {},
            "outputs": [],
            "source": [
                "import numpy as np\n",
                "import math\n",
                "from functools import reduce\n",
                "import time\n",
                "import sys\n",
                "import os\n",
                "import numpy as np\n",
                "\n",
                "path_project = \"\\\\\".join(os.getcwd().split(\"\\\\\")[:-1])\n",
                "# caution: path[0] is reserved for script path (or '' in REPL)\n",
                "sys.path.insert(1, path_project)\n",
                "from pathlib import Path\n",
                "import nidaqmx\n",
                "\n",
                "def lcm(a, b):\n",
                "    \"\"\"Calculate the least common multiple of two numbers.\"\"\"\n",
                "    return abs(a * b) // math.gcd(a, b)\n",
                "\n",
                "\n",
                "def lcm_of_list(numbers):\n",
                "    \"\"\"Find the LCM of a list of numbers.\"\"\"\n",
                "    return reduce(lcm, numbers)\n",
                "\n",
                "def seqtime(seq_tb):\n",
                "    return np.sum([pulse[-1] for pulse in seq_tb])\n",
                "\n",
                "# some constants\n",
                "Hz = 1e-9 # GHz\n",
                "kHz = 1e-6 # GHz\n",
                "MHz = 1e-3 # GHz\n",
                "pi = np.pi\n"
            ]
        },
        {
            "cell_type": "code",
            "execution_count": 2,
            "metadata": {},
            "outputs": [
                {
                    "name": "stdout",
                    "output_type": "stream",
                    "text": [
                        "Connect to Pulse Streamer via JSON-RPC.\n",
                        "IP / Hostname: 192.168.1.26\n",
                        "Pulse Streamer 8/2 firmware: v1.7.2\n",
                        "Client software: v1.7.0\n",
                        "Clock mode set to: 32\n",
                        "1: Internal, 2: Quartz, 3: External, 32: Direct External Sampling\n"
                    ]
                }
            ],
            "source": [
                "import nidaqmx\n",
                "from nidaqmx.constants import TerminalConfiguration, VoltageUnits, Edge, AcquisitionType, READ_ALL_AVAILABLE\n",
                "from nidaqmx.stream_readers import AnalogSingleChannelReader\n",
                "\n",
                "from hardware import config as hcf\n",
                "from hardware.hardwaremanager import HardwareManager\n",
                "from hardware.pulser.pulser import (\n",
                "    OutputState,\n",
                "    TriggerStart,\n",
                "    TriggerRearm,\n",
                "    HIGH,\n",
                "    LOW,\n",
                "    INF,\n",
                "    REPEAT_INFINITELY\n",
                ")\n",
                "timebase = lcm_of_list(\n",
                "    [hcf.VDISYN_timebase, hcf.SIDIG_timebase, hcf.PS_timebase, hcf.RSRF_timebase]\n",
                ")\n",
                "\n",
                "hm = HardwareManager()\n",
                "# adds synthesizer, laser, and pulse generator \n",
                "hm.add_default_hardware()\n"
            ]
        },
        {
            "cell_type": "code",
            "execution_count": 3,
            "metadata": {},
            "outputs": [
                {
                    "name": "stdout",
                    "output_type": "stream",
                    "text": [
                        "Card stopped\n"
                    ]
                },
                {
                    "data": {
                        "text/plain": [
                            "0"
                        ]
                    },
                    "execution_count": 3,
                    "metadata": {},
                    "output_type": "execute_result"
                }
            ],
            "source": [
                "hm.laser.laser_off()\n",
                "hm.dig.stop_card()\n",
                "hm.pg.forceFinal()"
            ]
        },
        {
            "cell_type": "code",
            "execution_count": 4,
            "metadata": {},
            "outputs": [],
            "source": [
                "hm.pg.reset()"
            ]
        },
        {
            "cell_type": "code",
            "execution_count": 5,
            "metadata": {},
            "outputs": [],
            "source": [
                "hm.laser.open()\n",
                "current_percent = 90\n",
                "hm.laser.laser_off()\n",
                "hm.laser.set_analog_control_mode(\"current\")\n",
                "hm.laser.set_modulation_state(\"Pulsed\")\n",
                "hm.laser.set_diode_current(current_percent, save_memory=False)"
            ]
        },
        {
            "cell_type": "code",
            "execution_count": 6,
            "metadata": {},
            "outputs": [],
            "source": [
                "from hardware.daq.sidig import FIFO_DataAcquisition\n",
                "from hardware.daq.sidig import FIFO_DataAcquisition, DCCOUPLE, TERMIN_INPUT_50OHM, TERMIN_INPUT_1MOHM\n",
                "\n",
                "SIDIG_ADDRESS = \"dev/spcm0\"\n",
                "SIDIG_maxsr = 500e6  # Hz\n",
                "SIDIG_timebase = int(1 / SIDIG_maxsr * 1e9)  # ns"
            ]
        },
        {
            "cell_type": "code",
            "execution_count": 7,
            "metadata": {},
            "outputs": [
                {
                    "data": {
                        "application/vnd.plotly.v1+json": {
                            "config": {
                                "plotlyServerURL": "https://plot.ly"
                            },
                            "data": [
                                {
                                    "line": {
                                        "shape": "hv"
                                    },
                                    "mode": "lines",
                                    "name": "D0",
                                    "type": "scatter",
                                    "x": {
                                        "bdata": "AAAAAAAwAAAAYAAAAJAAAADAAACAVpkA",
                                        "dtype": "i4"
                                    },
                                    "xaxis": "x",
                                    "y": {
                                        "bdata": "AQABAAAA",
                                        "dtype": "i1"
                                    },
                                    "yaxis": "y"
                                },
                                {
                                    "line": {
                                        "shape": "hv"
                                    },
                                    "mode": "lines",
                                    "name": "D1",
                                    "type": "scatter",
                                    "x": {
                                        "bdata": "AAAAAIBWmQA=",
                                        "dtype": "i4"
                                    },
                                    "xaxis": "x2",
                                    "y": {
                                        "bdata": "AAA=",
                                        "dtype": "i1"
                                    },
                                    "yaxis": "y2"
                                },
                                {
                                    "line": {
                                        "shape": "hv"
                                    },
                                    "mode": "lines",
                                    "name": "D2",
                                    "type": "scatter",
                                    "x": {
                                        "bdata": "AAAAAIBWmQA=",
                                        "dtype": "i4"
                                    },
                                    "xaxis": "x3",
                                    "y": {
                                        "bdata": "AAA=",
                                        "dtype": "i1"
                                    },
                                    "yaxis": "y3"
                                },
                                {
                                    "line": {
                                        "shape": "hv"
                                    },
                                    "mode": "lines",
                                    "name": "D3",
                                    "type": "scatter",
                                    "x": {
                                        "bdata": "AAAAAACAAAAAwAAAgFaZAA==",
                                        "dtype": "i4"
                                    },
                                    "xaxis": "x4",
                                    "y": {
                                        "bdata": "AQAAAA==",
                                        "dtype": "i1"
                                    },
                                    "yaxis": "y4"
                                },
                                {
                                    "line": {
                                        "shape": "hv"
                                    },
                                    "mode": "lines",
                                    "name": "D4",
                                    "type": "scatter",
                                    "x": {
                                        "bdata": "AAAAAIBWmQA=",
                                        "dtype": "i4"
                                    },
                                    "xaxis": "x5",
                                    "y": {
                                        "bdata": "AAA=",
                                        "dtype": "i1"
                                    },
                                    "yaxis": "y5"
                                },
                                {
                                    "line": {
                                        "shape": "hv"
                                    },
                                    "mode": "lines",
                                    "name": "D5",
                                    "type": "scatter",
                                    "x": {
                                        "bdata": "AAAAAIBWmQA=",
                                        "dtype": "i4"
                                    },
                                    "xaxis": "x6",
                                    "y": {
                                        "bdata": "AAA=",
                                        "dtype": "i1"
                                    },
                                    "yaxis": "y6"
                                },
                                {
                                    "line": {
                                        "shape": "hv"
                                    },
                                    "mode": "lines",
                                    "name": "D6",
                                    "type": "scatter",
                                    "x": {
                                        "bdata": "AAAAAIBWmQA=",
                                        "dtype": "i4"
                                    },
                                    "xaxis": "x7",
                                    "y": {
                                        "bdata": "AAA=",
                                        "dtype": "i1"
                                    },
                                    "yaxis": "y7"
                                },
                                {
                                    "line": {
                                        "color": "black",
                                        "shape": "hv"
                                    },
                                    "mode": "lines",
                                    "name": "A0",
                                    "type": "scatter",
                                    "x": {
                                        "bdata": "AAAAAIBWmQA=",
                                        "dtype": "i4"
                                    },
                                    "xaxis": "x8",
                                    "y": {
                                        "bdata": "AAAAAAAAAAAAAAAAAAAAAA==",
                                        "dtype": "f8"
                                    },
                                    "yaxis": "y8"
                                },
                                {
                                    "line": {
                                        "color": "black",
                                        "shape": "hv"
                                    },
                                    "mode": "lines",
                                    "name": "A1",
                                    "type": "scatter",
                                    "x": {
                                        "bdata": "AAAAAIBWmQA=",
                                        "dtype": "i4"
                                    },
                                    "xaxis": "x9",
                                    "y": {
                                        "bdata": "AAAAAAAAAAAAAAAAAAAAAA==",
                                        "dtype": "f8"
                                    },
                                    "yaxis": "y9"
                                },
                                {
                                    "line": {
                                        "shape": "hv"
                                    },
                                    "mode": "lines",
                                    "name": "D7",
                                    "type": "scatter",
                                    "x": {
                                        "bdata": "AAAAAIBWmQA=",
                                        "dtype": "i4"
                                    },
                                    "xaxis": "x10",
                                    "y": {
                                        "bdata": "AAA=",
                                        "dtype": "i1"
                                    },
                                    "yaxis": "y10"
                                }
                            ],
                            "layout": {
                                "height": 600,
                                "margin": {
                                    "b": 40,
                                    "l": 50,
                                    "r": 50,
                                    "t": 40
                                },
                                "showlegend": false,
                                "template": {
                                    "data": {
                                        "bar": [
                                            {
                                                "error_x": {
                                                    "color": "#2a3f5f"
                                                },
                                                "error_y": {
                                                    "color": "#2a3f5f"
                                                },
                                                "marker": {
                                                    "line": {
                                                        "color": "#E5ECF6",
                                                        "width": 0.5
                                                    },
                                                    "pattern": {
                                                        "fillmode": "overlay",
                                                        "size": 10,
                                                        "solidity": 0.2
                                                    }
                                                },
                                                "type": "bar"
                                            }
                                        ],
                                        "barpolar": [
                                            {
                                                "marker": {
                                                    "line": {
                                                        "color": "#E5ECF6",
                                                        "width": 0.5
                                                    },
                                                    "pattern": {
                                                        "fillmode": "overlay",
                                                        "size": 10,
                                                        "solidity": 0.2
                                                    }
                                                },
                                                "type": "barpolar"
                                            }
                                        ],
                                        "carpet": [
                                            {
                                                "aaxis": {
                                                    "endlinecolor": "#2a3f5f",
                                                    "gridcolor": "white",
                                                    "linecolor": "white",
                                                    "minorgridcolor": "white",
                                                    "startlinecolor": "#2a3f5f"
                                                },
                                                "baxis": {
                                                    "endlinecolor": "#2a3f5f",
                                                    "gridcolor": "white",
                                                    "linecolor": "white",
                                                    "minorgridcolor": "white",
                                                    "startlinecolor": "#2a3f5f"
                                                },
                                                "type": "carpet"
                                            }
                                        ],
                                        "choropleth": [
                                            {
                                                "colorbar": {
                                                    "outlinewidth": 0,
                                                    "ticks": ""
                                                },
                                                "type": "choropleth"
                                            }
                                        ],
                                        "contour": [
                                            {
                                                "colorbar": {
                                                    "outlinewidth": 0,
                                                    "ticks": ""
                                                },
                                                "colorscale": [
                                                    [
                                                        0,
                                                        "#0d0887"
                                                    ],
                                                    [
                                                        0.1111111111111111,
                                                        "#46039f"
                                                    ],
                                                    [
                                                        0.2222222222222222,
                                                        "#7201a8"
                                                    ],
                                                    [
                                                        0.3333333333333333,
                                                        "#9c179e"
                                                    ],
                                                    [
                                                        0.4444444444444444,
                                                        "#bd3786"
                                                    ],
                                                    [
                                                        0.5555555555555556,
                                                        "#d8576b"
                                                    ],
                                                    [
                                                        0.6666666666666666,
                                                        "#ed7953"
                                                    ],
                                                    [
                                                        0.7777777777777778,
                                                        "#fb9f3a"
                                                    ],
                                                    [
                                                        0.8888888888888888,
                                                        "#fdca26"
                                                    ],
                                                    [
                                                        1,
                                                        "#f0f921"
                                                    ]
                                                ],
                                                "type": "contour"
                                            }
                                        ],
                                        "contourcarpet": [
                                            {
                                                "colorbar": {
                                                    "outlinewidth": 0,
                                                    "ticks": ""
                                                },
                                                "type": "contourcarpet"
                                            }
                                        ],
                                        "heatmap": [
                                            {
                                                "colorbar": {
                                                    "outlinewidth": 0,
                                                    "ticks": ""
                                                },
                                                "colorscale": [
                                                    [
                                                        0,
                                                        "#0d0887"
                                                    ],
                                                    [
                                                        0.1111111111111111,
                                                        "#46039f"
                                                    ],
                                                    [
                                                        0.2222222222222222,
                                                        "#7201a8"
                                                    ],
                                                    [
                                                        0.3333333333333333,
                                                        "#9c179e"
                                                    ],
                                                    [
                                                        0.4444444444444444,
                                                        "#bd3786"
                                                    ],
                                                    [
                                                        0.5555555555555556,
                                                        "#d8576b"
                                                    ],
                                                    [
                                                        0.6666666666666666,
                                                        "#ed7953"
                                                    ],
                                                    [
                                                        0.7777777777777778,
                                                        "#fb9f3a"
                                                    ],
                                                    [
                                                        0.8888888888888888,
                                                        "#fdca26"
                                                    ],
                                                    [
                                                        1,
                                                        "#f0f921"
                                                    ]
                                                ],
                                                "type": "heatmap"
                                            }
                                        ],
                                        "histogram": [
                                            {
                                                "marker": {
                                                    "pattern": {
                                                        "fillmode": "overlay",
                                                        "size": 10,
                                                        "solidity": 0.2
                                                    }
                                                },
                                                "type": "histogram"
                                            }
                                        ],
                                        "histogram2d": [
                                            {
                                                "colorbar": {
                                                    "outlinewidth": 0,
                                                    "ticks": ""
                                                },
                                                "colorscale": [
                                                    [
                                                        0,
                                                        "#0d0887"
                                                    ],
                                                    [
                                                        0.1111111111111111,
                                                        "#46039f"
                                                    ],
                                                    [
                                                        0.2222222222222222,
                                                        "#7201a8"
                                                    ],
                                                    [
                                                        0.3333333333333333,
                                                        "#9c179e"
                                                    ],
                                                    [
                                                        0.4444444444444444,
                                                        "#bd3786"
                                                    ],
                                                    [
                                                        0.5555555555555556,
                                                        "#d8576b"
                                                    ],
                                                    [
                                                        0.6666666666666666,
                                                        "#ed7953"
                                                    ],
                                                    [
                                                        0.7777777777777778,
                                                        "#fb9f3a"
                                                    ],
                                                    [
                                                        0.8888888888888888,
                                                        "#fdca26"
                                                    ],
                                                    [
                                                        1,
                                                        "#f0f921"
                                                    ]
                                                ],
                                                "type": "histogram2d"
                                            }
                                        ],
                                        "histogram2dcontour": [
                                            {
                                                "colorbar": {
                                                    "outlinewidth": 0,
                                                    "ticks": ""
                                                },
                                                "colorscale": [
                                                    [
                                                        0,
                                                        "#0d0887"
                                                    ],
                                                    [
                                                        0.1111111111111111,
                                                        "#46039f"
                                                    ],
                                                    [
                                                        0.2222222222222222,
                                                        "#7201a8"
                                                    ],
                                                    [
                                                        0.3333333333333333,
                                                        "#9c179e"
                                                    ],
                                                    [
                                                        0.4444444444444444,
                                                        "#bd3786"
                                                    ],
                                                    [
                                                        0.5555555555555556,
                                                        "#d8576b"
                                                    ],
                                                    [
                                                        0.6666666666666666,
                                                        "#ed7953"
                                                    ],
                                                    [
                                                        0.7777777777777778,
                                                        "#fb9f3a"
                                                    ],
                                                    [
                                                        0.8888888888888888,
                                                        "#fdca26"
                                                    ],
                                                    [
                                                        1,
                                                        "#f0f921"
                                                    ]
                                                ],
                                                "type": "histogram2dcontour"
                                            }
                                        ],
                                        "mesh3d": [
                                            {
                                                "colorbar": {
                                                    "outlinewidth": 0,
                                                    "ticks": ""
                                                },
                                                "type": "mesh3d"
                                            }
                                        ],
                                        "parcoords": [
                                            {
                                                "line": {
                                                    "colorbar": {
                                                        "outlinewidth": 0,
                                                        "ticks": ""
                                                    }
                                                },
                                                "type": "parcoords"
                                            }
                                        ],
                                        "pie": [
                                            {
                                                "automargin": true,
                                                "type": "pie"
                                            }
                                        ],
                                        "scatter": [
                                            {
                                                "fillpattern": {
                                                    "fillmode": "overlay",
                                                    "size": 10,
                                                    "solidity": 0.2
                                                },
                                                "type": "scatter"
                                            }
                                        ],
                                        "scatter3d": [
                                            {
                                                "line": {
                                                    "colorbar": {
                                                        "outlinewidth": 0,
                                                        "ticks": ""
                                                    }
                                                },
                                                "marker": {
                                                    "colorbar": {
                                                        "outlinewidth": 0,
                                                        "ticks": ""
                                                    }
                                                },
                                                "type": "scatter3d"
                                            }
                                        ],
                                        "scattercarpet": [
                                            {
                                                "marker": {
                                                    "colorbar": {
                                                        "outlinewidth": 0,
                                                        "ticks": ""
                                                    }
                                                },
                                                "type": "scattercarpet"
                                            }
                                        ],
                                        "scattergeo": [
                                            {
                                                "marker": {
                                                    "colorbar": {
                                                        "outlinewidth": 0,
                                                        "ticks": ""
                                                    }
                                                },
                                                "type": "scattergeo"
                                            }
                                        ],
                                        "scattergl": [
                                            {
                                                "marker": {
                                                    "colorbar": {
                                                        "outlinewidth": 0,
                                                        "ticks": ""
                                                    }
                                                },
                                                "type": "scattergl"
                                            }
                                        ],
                                        "scattermap": [
                                            {
                                                "marker": {
                                                    "colorbar": {
                                                        "outlinewidth": 0,
                                                        "ticks": ""
                                                    }
                                                },
                                                "type": "scattermap"
                                            }
                                        ],
                                        "scattermapbox": [
                                            {
                                                "marker": {
                                                    "colorbar": {
                                                        "outlinewidth": 0,
                                                        "ticks": ""
                                                    }
                                                },
                                                "type": "scattermapbox"
                                            }
                                        ],
                                        "scatterpolar": [
                                            {
                                                "marker": {
                                                    "colorbar": {
                                                        "outlinewidth": 0,
                                                        "ticks": ""
                                                    }
                                                },
                                                "type": "scatterpolar"
                                            }
                                        ],
                                        "scatterpolargl": [
                                            {
                                                "marker": {
                                                    "colorbar": {
                                                        "outlinewidth": 0,
                                                        "ticks": ""
                                                    }
                                                },
                                                "type": "scatterpolargl"
                                            }
                                        ],
                                        "scatterternary": [
                                            {
                                                "marker": {
                                                    "colorbar": {
                                                        "outlinewidth": 0,
                                                        "ticks": ""
                                                    }
                                                },
                                                "type": "scatterternary"
                                            }
                                        ],
                                        "surface": [
                                            {
                                                "colorbar": {
                                                    "outlinewidth": 0,
                                                    "ticks": ""
                                                },
                                                "colorscale": [
                                                    [
                                                        0,
                                                        "#0d0887"
                                                    ],
                                                    [
                                                        0.1111111111111111,
                                                        "#46039f"
                                                    ],
                                                    [
                                                        0.2222222222222222,
                                                        "#7201a8"
                                                    ],
                                                    [
                                                        0.3333333333333333,
                                                        "#9c179e"
                                                    ],
                                                    [
                                                        0.4444444444444444,
                                                        "#bd3786"
                                                    ],
                                                    [
                                                        0.5555555555555556,
                                                        "#d8576b"
                                                    ],
                                                    [
                                                        0.6666666666666666,
                                                        "#ed7953"
                                                    ],
                                                    [
                                                        0.7777777777777778,
                                                        "#fb9f3a"
                                                    ],
                                                    [
                                                        0.8888888888888888,
                                                        "#fdca26"
                                                    ],
                                                    [
                                                        1,
                                                        "#f0f921"
                                                    ]
                                                ],
                                                "type": "surface"
                                            }
                                        ],
                                        "table": [
                                            {
                                                "cells": {
                                                    "fill": {
                                                        "color": "#EBF0F8"
                                                    },
                                                    "line": {
                                                        "color": "white"
                                                    }
                                                },
                                                "header": {
                                                    "fill": {
                                                        "color": "#C8D4E3"
                                                    },
                                                    "line": {
                                                        "color": "white"
                                                    }
                                                },
                                                "type": "table"
                                            }
                                        ]
                                    },
                                    "layout": {
                                        "annotationdefaults": {
                                            "arrowcolor": "#2a3f5f",
                                            "arrowhead": 0,
                                            "arrowwidth": 1
                                        },
                                        "autotypenumbers": "strict",
                                        "coloraxis": {
                                            "colorbar": {
                                                "outlinewidth": 0,
                                                "ticks": ""
                                            }
                                        },
                                        "colorscale": {
                                            "diverging": [
                                                [
                                                    0,
                                                    "#8e0152"
                                                ],
                                                [
                                                    0.1,
                                                    "#c51b7d"
                                                ],
                                                [
                                                    0.2,
                                                    "#de77ae"
                                                ],
                                                [
                                                    0.3,
                                                    "#f1b6da"
                                                ],
                                                [
                                                    0.4,
                                                    "#fde0ef"
                                                ],
                                                [
                                                    0.5,
                                                    "#f7f7f7"
                                                ],
                                                [
                                                    0.6,
                                                    "#e6f5d0"
                                                ],
                                                [
                                                    0.7,
                                                    "#b8e186"
                                                ],
                                                [
                                                    0.8,
                                                    "#7fbc41"
                                                ],
                                                [
                                                    0.9,
                                                    "#4d9221"
                                                ],
                                                [
                                                    1,
                                                    "#276419"
                                                ]
                                            ],
                                            "sequential": [
                                                [
                                                    0,
                                                    "#0d0887"
                                                ],
                                                [
                                                    0.1111111111111111,
                                                    "#46039f"
                                                ],
                                                [
                                                    0.2222222222222222,
                                                    "#7201a8"
                                                ],
                                                [
                                                    0.3333333333333333,
                                                    "#9c179e"
                                                ],
                                                [
                                                    0.4444444444444444,
                                                    "#bd3786"
                                                ],
                                                [
                                                    0.5555555555555556,
                                                    "#d8576b"
                                                ],
                                                [
                                                    0.6666666666666666,
                                                    "#ed7953"
                                                ],
                                                [
                                                    0.7777777777777778,
                                                    "#fb9f3a"
                                                ],
                                                [
                                                    0.8888888888888888,
                                                    "#fdca26"
                                                ],
                                                [
                                                    1,
                                                    "#f0f921"
                                                ]
                                            ],
                                            "sequentialminus": [
                                                [
                                                    0,
                                                    "#0d0887"
                                                ],
                                                [
                                                    0.1111111111111111,
                                                    "#46039f"
                                                ],
                                                [
                                                    0.2222222222222222,
                                                    "#7201a8"
                                                ],
                                                [
                                                    0.3333333333333333,
                                                    "#9c179e"
                                                ],
                                                [
                                                    0.4444444444444444,
                                                    "#bd3786"
                                                ],
                                                [
                                                    0.5555555555555556,
                                                    "#d8576b"
                                                ],
                                                [
                                                    0.6666666666666666,
                                                    "#ed7953"
                                                ],
                                                [
                                                    0.7777777777777778,
                                                    "#fb9f3a"
                                                ],
                                                [
                                                    0.8888888888888888,
                                                    "#fdca26"
                                                ],
                                                [
                                                    1,
                                                    "#f0f921"
                                                ]
                                            ]
                                        },
                                        "colorway": [
                                            "#636efa",
                                            "#EF553B",
                                            "#00cc96",
                                            "#ab63fa",
                                            "#FFA15A",
                                            "#19d3f3",
                                            "#FF6692",
                                            "#B6E880",
                                            "#FF97FF",
                                            "#FECB52"
                                        ],
                                        "font": {
                                            "color": "#2a3f5f"
                                        },
                                        "geo": {
                                            "bgcolor": "white",
                                            "lakecolor": "white",
                                            "landcolor": "#E5ECF6",
                                            "showlakes": true,
                                            "showland": true,
                                            "subunitcolor": "white"
                                        },
                                        "hoverlabel": {
                                            "align": "left"
                                        },
                                        "hovermode": "closest",
                                        "mapbox": {
                                            "style": "light"
                                        },
                                        "paper_bgcolor": "white",
                                        "plot_bgcolor": "#E5ECF6",
                                        "polar": {
                                            "angularaxis": {
                                                "gridcolor": "white",
                                                "linecolor": "white",
                                                "ticks": ""
                                            },
                                            "bgcolor": "#E5ECF6",
                                            "radialaxis": {
                                                "gridcolor": "white",
                                                "linecolor": "white",
                                                "ticks": ""
                                            }
                                        },
                                        "scene": {
                                            "xaxis": {
                                                "backgroundcolor": "#E5ECF6",
                                                "gridcolor": "white",
                                                "gridwidth": 2,
                                                "linecolor": "white",
                                                "showbackground": true,
                                                "ticks": "",
                                                "zerolinecolor": "white"
                                            },
                                            "yaxis": {
                                                "backgroundcolor": "#E5ECF6",
                                                "gridcolor": "white",
                                                "gridwidth": 2,
                                                "linecolor": "white",
                                                "showbackground": true,
                                                "ticks": "",
                                                "zerolinecolor": "white"
                                            },
                                            "zaxis": {
                                                "backgroundcolor": "#E5ECF6",
                                                "gridcolor": "white",
                                                "gridwidth": 2,
                                                "linecolor": "white",
                                                "showbackground": true,
                                                "ticks": "",
                                                "zerolinecolor": "white"
                                            }
                                        },
                                        "shapedefaults": {
                                            "line": {
                                                "color": "#2a3f5f"
                                            }
                                        },
                                        "ternary": {
                                            "aaxis": {
                                                "gridcolor": "white",
                                                "linecolor": "white",
                                                "ticks": ""
                                            },
                                            "baxis": {
                                                "gridcolor": "white",
                                                "linecolor": "white",
                                                "ticks": ""
                                            },
                                            "bgcolor": "#E5ECF6",
                                            "caxis": {
                                                "gridcolor": "white",
                                                "linecolor": "white",
                                                "ticks": ""
                                            }
                                        },
                                        "title": {
                                            "x": 0.05
                                        },
                                        "xaxis": {
                                            "automargin": true,
                                            "gridcolor": "white",
                                            "linecolor": "white",
                                            "ticks": "",
                                            "title": {
                                                "standoff": 15
                                            },
                                            "zerolinecolor": "white",
                                            "zerolinewidth": 2
                                        },
                                        "yaxis": {
                                            "automargin": true,
                                            "gridcolor": "white",
                                            "linecolor": "white",
                                            "ticks": "",
                                            "title": {
                                                "standoff": 15
                                            },
                                            "zerolinecolor": "white",
                                            "zerolinewidth": 2
                                        }
                                    }
                                },
                                "title": {
                                    "text": "Sequence"
                                },
                                "width": 600,
                                "xaxis": {
                                    "anchor": "y",
                                    "domain": [
                                        0,
                                        1
                                    ],
                                    "matches": "x10",
                                    "showticklabels": false
                                },
                                "xaxis10": {
                                    "anchor": "y10",
                                    "domain": [
                                        0,
                                        1
                                    ],
                                    "title": {
                                        "text": "time/ns"
                                    }
                                },
                                "xaxis2": {
                                    "anchor": "y2",
                                    "domain": [
                                        0,
                                        1
                                    ],
                                    "matches": "x10",
                                    "showticklabels": false
                                },
                                "xaxis3": {
                                    "anchor": "y3",
                                    "domain": [
                                        0,
                                        1
                                    ],
                                    "matches": "x10",
                                    "showticklabels": false
                                },
                                "xaxis4": {
                                    "anchor": "y4",
                                    "domain": [
                                        0,
                                        1
                                    ],
                                    "matches": "x10",
                                    "showticklabels": false
                                },
                                "xaxis5": {
                                    "anchor": "y5",
                                    "domain": [
                                        0,
                                        1
                                    ],
                                    "matches": "x10",
                                    "showticklabels": false
                                },
                                "xaxis6": {
                                    "anchor": "y6",
                                    "domain": [
                                        0,
                                        1
                                    ],
                                    "matches": "x10",
                                    "showticklabels": false
                                },
                                "xaxis7": {
                                    "anchor": "y7",
                                    "domain": [
                                        0,
                                        1
                                    ],
                                    "matches": "x10",
                                    "showticklabels": false
                                },
                                "xaxis8": {
                                    "anchor": "y8",
                                    "domain": [
                                        0,
                                        1
                                    ],
                                    "matches": "x10",
                                    "showticklabels": false
                                },
                                "xaxis9": {
                                    "anchor": "y9",
                                    "domain": [
                                        0,
                                        1
                                    ],
                                    "matches": "x10",
                                    "showticklabels": false
                                },
                                "yaxis": {
                                    "anchor": "x",
                                    "domain": [
                                        0.9179999999999999,
                                        0.9999999999999999
                                    ],
                                    "range": [
                                        -0.4,
                                        1.4
                                    ],
                                    "showticklabels": false,
                                    "title": {
                                        "text": "D0<br>laser"
                                    }
                                },
                                "yaxis10": {
                                    "anchor": "x10",
                                    "domain": [
                                        0,
                                        0.082
                                    ],
                                    "range": [
                                        -0.4,
                                        1.4
                                    ],
                                    "showticklabels": false,
                                    "title": {
                                        "text": "D7<br>WDF"
                                    }
                                },
                                "yaxis2": {
                                    "anchor": "x2",
                                    "domain": [
                                        0.8160000000000001,
                                        0.898
                                    ],
                                    "range": [
                                        -0.4,
                                        1.4
                                    ],
                                    "showticklabels": false,
                                    "title": {
                                        "text": "D1<br>mwswitch"
                                    }
                                },
                                "yaxis3": {
                                    "anchor": "x3",
                                    "domain": [
                                        0.7140000000000001,
                                        0.796
                                    ],
                                    "range": [
                                        -0.4,
                                        1.4
                                    ],
                                    "showticklabels": false,
                                    "title": {
                                        "text": "D2<br>dtrig"
                                    }
                                },
                                "yaxis4": {
                                    "anchor": "x4",
                                    "domain": [
                                        0.6120000000000001,
                                        0.6940000000000001
                                    ],
                                    "range": [
                                        -0.4,
                                        1.4
                                    ],
                                    "showticklabels": false,
                                    "title": {
                                        "text": "D3<br>sdtrig"
                                    }
                                },
                                "yaxis5": {
                                    "anchor": "x5",
                                    "domain": [
                                        0.51,
                                        0.592
                                    ],
                                    "range": [
                                        -0.4,
                                        1.4
                                    ],
                                    "showticklabels": false,
                                    "title": {
                                        "text": "D4<br>mwA"
                                    }
                                },
                                "yaxis6": {
                                    "anchor": "x6",
                                    "domain": [
                                        0.40800000000000003,
                                        0.49000000000000005
                                    ],
                                    "range": [
                                        -0.4,
                                        1.4
                                    ],
                                    "showticklabels": false,
                                    "title": {
                                        "text": "D5<br>mwB"
                                    }
                                },
                                "yaxis7": {
                                    "anchor": "x7",
                                    "domain": [
                                        0.306,
                                        0.388
                                    ],
                                    "range": [
                                        -0.4,
                                        1.4
                                    ],
                                    "showticklabels": false,
                                    "title": {
                                        "text": "D6<br>rftrig"
                                    }
                                },
                                "yaxis8": {
                                    "anchor": "x8",
                                    "domain": [
                                        0.20400000000000001,
                                        0.28600000000000003
                                    ],
                                    "range": [
                                        -1.5,
                                        1.5
                                    ],
                                    "tickfont": {
                                        "size": 6
                                    },
                                    "title": {
                                        "text": "A0<br>Bz"
                                    }
                                },
                                "yaxis9": {
                                    "anchor": "x9",
                                    "domain": [
                                        0.10200000000000001,
                                        0.184
                                    ],
                                    "range": [
                                        -1.5,
                                        1.5
                                    ],
                                    "tickfont": {
                                        "size": 6
                                    },
                                    "title": {
                                        "text": "A1<br>Bx"
                                    }
                                }
                            }
                        }
                    },
                    "metadata": {},
                    "output_type": "display_data"
                }
            ],
            "source": [
                "num_samples_in_segment = 512*32 \n",
                "time_off=8*1024*SIDIG_timebase\n",
                "wait=1e7\n",
                "time_on = num_samples_in_segment * SIDIG_timebase\n",
                "seq_dig=[(time_on, HIGH), (time_off, LOW),(wait,LOW)]\n",
                "seq_laser=[((time_on+time_off)/4, HIGH), ((time_on+time_off)/4, LOW)]*2\n",
                "seq_laserB=seq_laser+[(wait,LOW)]\n",
                "hm.pg.setDigital('sdtrig',seq_dig)\n",
                "hm.pg.setDigital('laser',seq_laser)\n",
                "hm.pg.setTrigger(start=TriggerStart.SOFTWARE, rearm=TriggerRearm.MANUAL)\n",
                "hm.pg.plotSeq(plot_all=False)\n"
            ]
        },
        {
            "cell_type": "code",
            "execution_count": 8,
            "metadata": {},
            "outputs": [],
            "source": [
                "from spcm import units\n"
            ]
        },
        {
            "cell_type": "code",
            "execution_count": 9,
            "metadata": {},
            "outputs": [],
            "source": [
                "params = {\"num_segment\": 64,\n",
                "        \"pre_trig_size\":16,\n",
                "        \"post_trig_size\": None,\n",
                "        \"segment_size\": 256*16*2,\n",
                "        \"sample_rate\": SIDIG_maxsr,\n",
                "        \"mem_size\": None,\n",
                "}\n",
                "params['post_trig_size'] = int(params['segment_size'] - params['pre_trig_size'])\n",
                "params['mem_size']= int(params['num_segment'] * params['segment_size'])\n",
                "params['notify_size'] = int(params['mem_size']//4)\n"
            ]
        },
        {
            "cell_type": "code",
            "execution_count": 10,
            "metadata": {},
            "outputs": [
                {
                    "name": "stdout",
                    "output_type": "stream",
                    "text": [
                        "{'num_segment': 64, 'pre_trig_size': 16, 'post_trig_size': 8176, 'segment_size': 8192, 'sample_rate': 500000000.0, 'mem_size': 524288, 'notify_size': 131072}\n"
                    ]
                }
            ],
            "source": [
                "print(params)"
            ]
        },
        {
            "cell_type": "code",
            "execution_count": 11,
            "metadata": {},
            "outputs": [],
            "source": [
                "# To set the configuration, make a dictionary with the key and value\n",
                "hm.dig.reset_param()\n",
                "hm.dig.assign_param(dict(\n",
                "             readout_ch=hcf.SIDIG_chmap[\"apd\"], \n",
                "             amp_input=1000, \n",
                "             num_segment=params['num_segment'],\n",
                "             pretrig_size=params['pre_trig_size'],\n",
                "             posttrig_size=params['post_trig_size'],\n",
                "             segment_size=params['segment_size'],\n",
                "             terminate_input=TERMIN_INPUT_1MOHM,\n",
                "             DCCOUPLE = 0,\n",
                "             sampling_rate=10e6, #hcf.SIDIG_maxsr,\n",
                "             notify_size=params['notify_size'],\n",
                "             mem_size= params['mem_size'] #int(256* num_samples_in_segment * 64)*units.Sa\n",
                "            #  terminate_input=TERMIN_INPUT_50OHM,\n",
                "             ))\n",
                "hm.dig.set_config()\n",
                "\n"
            ]
        },
        {
            "cell_type": "code",
            "execution_count": 12,
            "metadata": {},
            "outputs": [],
            "source": [
                "# import time\n",
                "# import numpy as np\n",
                "# import plotly.graph_objects as go\n",
                "# from IPython.display import display, clear_output\n",
                "\n",
                "# # Initialize plot\n",
                "# fig = go.Figure()\n",
                "# fig.add_trace(go.Scatter( y=[], mode=\"lines\", name=\"Streaming Data\"))\n",
                "\n",
                "# start_time = time.time()\n",
                "# run_time = 60*60  # Total script run time\n",
                "# window_size = 20  # Time window to display in seconds\n",
                "\n",
                "# x_data, y_data = [], []\n",
                "\n",
                "# hm.pg.setDigital('sdtrig',seq_dig)\n",
                "\n",
                "# hm.dig.set_config()\n",
                "# hm.pg.stream(n_runs=INF)\n",
                "# hm.dig.start_buffer()\n",
                "# hm.pg.startNow()\n",
                "# hm.laser.laser_on()\n",
                "# while time.time() - start_time < run_time:\n",
                "#     new_y = hm.dig.stream()\n",
                "#     if new_y is None or len(new_y) == 0:\n",
                "#         continue  # Skip empty data\n",
                "    \n",
                "#     avg = np.mean(new_y)\n",
                "#     # print(avg)\n",
                "\n",
                "#     current_time = time.time() - start_time  # Current timestamp relative to start\n",
                "#     x_data.append(current_time)\n",
                "#     y_data.append(avg)\n",
                "\n",
                "#     # Keep only the last 20 seconds of data\n",
                "#     while x_data and (current_time - x_data[0]) > window_size:\n",
                "#         x_data.pop(0)\n",
                "#         y_data.pop(0)\n",
                "\n",
                "#     # Update the figure dynamically\n",
                "#     fig.update_traces( y=y_data)\n",
                "\n",
                "#     clear_output(wait=True)\n",
                "#     display(fig)  # Directly display the figure in Jupyter\n",
                "\n",
                "#     time.sleep(0.01)  # Simulate real-time update delay\n",
                "\n",
                "# print(\"Streaming Ended!\")\n",
                "# hm.laser.laser_off()\n",
                "# hm.dig.stream()\n",
                "# hm.dig.stop_card()\n",
                "\n",
                "# hm.pg.forceFinal()\n"
            ]
        },
        {
            "cell_type": "code",
            "execution_count": 13,
            "metadata": {},
            "outputs": [
                {
                    "data": {
                        "application/vnd.plotly.v1+json": {
                            "config": {
                                "plotlyServerURL": "https://plot.ly"
                            },
                            "data": [
                                {
                                    "mode": "lines",
                                    "name": "Streaming Data",
                                    "type": "scatter",
                                    "x": [
                                        33.23730802536011,
                                        33.397319316864014,
                                        33.55858254432678,
                                        33.71429944038391,
                                        33.881067752838135,
                                        34.03684663772583,
                                        34.20200729370117,
                                        34.36283493041992,
                                        34.51841735839844,
                                        34.682907581329346,
                                        34.84102439880371,
                                        35.00507211685181,
                                        35.167198181152344,
                                        35.32552409172058,
                                        35.486923694610596,
                                        35.648770809173584,
                                        35.80746269226074,
                                        35.96884894371033,
                                        36.13121461868286,
                                        36.290786027908325,
                                        36.44983434677124,
                                        36.61422920227051,
                                        36.76567196846008,
                                        36.93542456626892,
                                        37.09633922576904,
                                        37.2570219039917,
                                        37.41565299034119,
                                        37.57864451408386,
                                        37.73144817352295,
                                        37.898372173309326,
                                        38.05909562110901,
                                        38.219847202301025,
                                        38.382880449295044,
                                        38.53895425796509,
                                        38.704097032547,
                                        38.86615347862244,
                                        39.02472710609436,
                                        39.182042360305786,
                                        39.34628915786743,
                                        39.506176471710205,
                                        39.66837930679321,
                                        39.82961058616638,
                                        39.981581926345825,
                                        40.14966440200806,
                                        40.311975955963135,
                                        40.472864627838135,
                                        40.632585287094116,
                                        40.79254508018494,
                                        40.9483904838562,
                                        41.11643600463867,
                                        41.274871587753296,
                                        41.43815231323242,
                                        41.59920334815979,
                                        41.75645065307617,
                                        41.91984677314758,
                                        42.0765962600708,
                                        42.24141216278076,
                                        42.40042471885681,
                                        42.55913996696472,
                                        42.7238085269928,
                                        42.8832151889801,
                                        43.041149377822876,
                                        43.200000286102295,
                                        43.366150856018066,
                                        43.52459216117859,
                                        43.6885199546814,
                                        43.850008726119995,
                                        44.01011872291565,
                                        44.17064547538757,
                                        44.33099699020386,
                                        44.48902225494385,
                                        44.64928126335144,
                                        44.81459832191467,
                                        44.96556258201599,
                                        45.13170337677002,
                                        45.29641151428223,
                                        45.44923377037048,
                                        45.6165292263031,
                                        45.77448487281799,
                                        45.93955063819885,
                                        46.100234031677246,
                                        46.26070189476013,
                                        46.41521620750427,
                                        46.583454608917236,
                                        46.74170708656311,
                                        46.89894700050354,
                                        47.065720081329346,
                                        47.2252516746521,
                                        47.38664722442627,
                                        47.540470361709595,
                                        47.699909925460815,
                                        47.8673882484436,
                                        48.027949810028076,
                                        48.190566539764404,
                                        48.352012157440186,
                                        48.51137161254883,
                                        48.668527364730835,
                                        48.83195233345032,
                                        48.992610931396484,
                                        49.15531897544861,
                                        49.31666707992554,
                                        49.47616720199585,
                                        49.63121438026428,
                                        49.79159164428711,
                                        49.9582405090332,
                                        50.12004017829895,
                                        50.28083801269531,
                                        50.44146490097046,
                                        50.59949827194214,
                                        50.75959300994873,
                                        50.91628336906433,
                                        51.08544731140137,
                                        51.245553970336914,
                                        51.40636682510376,
                                        51.566418409347534,
                                        51.7245032787323,
                                        51.88870596885681,
                                        52.04807090759277,
                                        52.20839786529541,
                                        52.36866736412048,
                                        52.5313138961792,
                                        52.68654727935791,
                                        52.852062940597534,
                                        53.01173257827759,
                                        53.17174291610718
                                    ],
                                    "y": [
                                        0.030842955224215984,
                                        0.03101575281471014,
                                        0.03108854964375496,
                                        0.031021921895444393,
                                        0.03082391247153282,
                                        0.031224305741488934,
                                        0.031672229059040546,
                                        0.03180416114628315,
                                        0.031916944310069084,
                                        0.0319859916344285,
                                        0.031927856616675854,
                                        0.03201511222869158,
                                        0.03193547297269106,
                                        0.031988782808184624,
                                        0.03204411081969738,
                                        0.031927138566970825,
                                        0.031967414543032646,
                                        0.03198744356632233,
                                        0.03190892655402422,
                                        0.032058605924248695,
                                        0.03195192664861679,
                                        0.03204084374010563,
                                        0.03164918813854456,
                                        0.03194290120154619,
                                        0.03204259276390076,
                                        0.03211125172674656,
                                        0.0320650078356266,
                                        0.03197658807039261,
                                        0.032045978121459484,
                                        0.031938605941832066,
                                        0.03201076574623585,
                                        0.031983137130737305,
                                        0.03181591164320707,
                                        0.0319105526432395,
                                        0.0321992551907897,
                                        0.03226067963987589,
                                        0.03202850464731455,
                                        0.03197971545159817,
                                        0.032019756734371185,
                                        0.03187995869666338,
                                        0.031979392282664776,
                                        0.03198003675788641,
                                        0.03204452712088823,
                                        0.03198579512536526,
                                        0.03191602509468794,
                                        0.03190149366855621,
                                        0.03188755735754967,
                                        0.03220592066645622,
                                        0.032012609764933586,
                                        0.03199497237801552,
                                        0.031964789144694805,
                                        0.031916853971779346,
                                        0.03195931203663349,
                                        0.03171367850154638,
                                        0.0317030344158411,
                                        0.03170734830200672,
                                        0.03174904640763998,
                                        0.031735630705952644,
                                        0.03198364842683077,
                                        0.031877114437520504,
                                        0.032000244595110416,
                                        0.031958891078829765,
                                        0.03196596633642912,
                                        0.03202970791608095,
                                        0.02856742963194847,
                                        -0.00028942152857780457,
                                        -0.0002841101959347725,
                                        -0.0002768589183688164,
                                        -0.0002953438088297844,
                                        -0.00023073609918355942,
                                        0.011677347123622894,
                                        0.031869527883827686,
                                        0.03180227894335985,
                                        0.03180206101387739,
                                        0.03201085142791271,
                                        0.031938593834638596,
                                        0.03209432400763035,
                                        0.03210126329213381,
                                        0.032222394831478596,
                                        0.032065605744719505,
                                        0.03184131346642971,
                                        0.031699943356215954,
                                        0.030970674008131027,
                                        0.030231360346078873,
                                        0.03163475636392832,
                                        0.03184500988572836,
                                        0.03200585022568703,
                                        0.03216506540775299,
                                        0.032727998681366444,
                                        0.03110654652118683,
                                        0.029860978946089745,
                                        0.030977927148342133,
                                        0.031593297608196735,
                                        0.03186481632292271,
                                        0.03197093401104212,
                                        0.03194283414632082,
                                        0.031940736807882786,
                                        0.03196762315928936,
                                        0.03190498985350132,
                                        0.031913572922348976,
                                        0.03191916365176439,
                                        0.03195860795676708,
                                        0.03204704076051712,
                                        0.03194068372249603,
                                        0.032054188661277294,
                                        0.031958010978996754,
                                        0.03194656129926443,
                                        0.03197466768324375,
                                        0.03191434871405363,
                                        0.031918144784867764,
                                        0.03192340862005949,
                                        0.031872181221842766,
                                        0.03189996536821127,
                                        0.031935544684529305,
                                        0.032012900337576866,
                                        0.03192054107785225,
                                        0.03198496904224157,
                                        0.03191827889531851,
                                        0.031886639073491096,
                                        0.03189100231975317,
                                        0.03199286852031946,
                                        0.031920612789690495,
                                        0.03195772413164377,
                                        0.03201054409146309,
                                        0.03199221286922693
                                    ]
                                }
                            ],
                            "layout": {
                                "template": {
                                    "data": {
                                        "bar": [
                                            {
                                                "error_x": {
                                                    "color": "#2a3f5f"
                                                },
                                                "error_y": {
                                                    "color": "#2a3f5f"
                                                },
                                                "marker": {
                                                    "line": {
                                                        "color": "#E5ECF6",
                                                        "width": 0.5
                                                    },
                                                    "pattern": {
                                                        "fillmode": "overlay",
                                                        "size": 10,
                                                        "solidity": 0.2
                                                    }
                                                },
                                                "type": "bar"
                                            }
                                        ],
                                        "barpolar": [
                                            {
                                                "marker": {
                                                    "line": {
                                                        "color": "#E5ECF6",
                                                        "width": 0.5
                                                    },
                                                    "pattern": {
                                                        "fillmode": "overlay",
                                                        "size": 10,
                                                        "solidity": 0.2
                                                    }
                                                },
                                                "type": "barpolar"
                                            }
                                        ],
                                        "carpet": [
                                            {
                                                "aaxis": {
                                                    "endlinecolor": "#2a3f5f",
                                                    "gridcolor": "white",
                                                    "linecolor": "white",
                                                    "minorgridcolor": "white",
                                                    "startlinecolor": "#2a3f5f"
                                                },
                                                "baxis": {
                                                    "endlinecolor": "#2a3f5f",
                                                    "gridcolor": "white",
                                                    "linecolor": "white",
                                                    "minorgridcolor": "white",
                                                    "startlinecolor": "#2a3f5f"
                                                },
                                                "type": "carpet"
                                            }
                                        ],
                                        "choropleth": [
                                            {
                                                "colorbar": {
                                                    "outlinewidth": 0,
                                                    "ticks": ""
                                                },
                                                "type": "choropleth"
                                            }
                                        ],
                                        "contour": [
                                            {
                                                "colorbar": {
                                                    "outlinewidth": 0,
                                                    "ticks": ""
                                                },
                                                "colorscale": [
                                                    [
                                                        0,
                                                        "#0d0887"
                                                    ],
                                                    [
                                                        0.1111111111111111,
                                                        "#46039f"
                                                    ],
                                                    [
                                                        0.2222222222222222,
                                                        "#7201a8"
                                                    ],
                                                    [
                                                        0.3333333333333333,
                                                        "#9c179e"
                                                    ],
                                                    [
                                                        0.4444444444444444,
                                                        "#bd3786"
                                                    ],
                                                    [
                                                        0.5555555555555556,
                                                        "#d8576b"
                                                    ],
                                                    [
                                                        0.6666666666666666,
                                                        "#ed7953"
                                                    ],
                                                    [
                                                        0.7777777777777778,
                                                        "#fb9f3a"
                                                    ],
                                                    [
                                                        0.8888888888888888,
                                                        "#fdca26"
                                                    ],
                                                    [
                                                        1,
                                                        "#f0f921"
                                                    ]
                                                ],
                                                "type": "contour"
                                            }
                                        ],
                                        "contourcarpet": [
                                            {
                                                "colorbar": {
                                                    "outlinewidth": 0,
                                                    "ticks": ""
                                                },
                                                "type": "contourcarpet"
                                            }
                                        ],
                                        "heatmap": [
                                            {
                                                "colorbar": {
                                                    "outlinewidth": 0,
                                                    "ticks": ""
                                                },
                                                "colorscale": [
                                                    [
                                                        0,
                                                        "#0d0887"
                                                    ],
                                                    [
                                                        0.1111111111111111,
                                                        "#46039f"
                                                    ],
                                                    [
                                                        0.2222222222222222,
                                                        "#7201a8"
                                                    ],
                                                    [
                                                        0.3333333333333333,
                                                        "#9c179e"
                                                    ],
                                                    [
                                                        0.4444444444444444,
                                                        "#bd3786"
                                                    ],
                                                    [
                                                        0.5555555555555556,
                                                        "#d8576b"
                                                    ],
                                                    [
                                                        0.6666666666666666,
                                                        "#ed7953"
                                                    ],
                                                    [
                                                        0.7777777777777778,
                                                        "#fb9f3a"
                                                    ],
                                                    [
                                                        0.8888888888888888,
                                                        "#fdca26"
                                                    ],
                                                    [
                                                        1,
                                                        "#f0f921"
                                                    ]
                                                ],
                                                "type": "heatmap"
                                            }
                                        ],
                                        "histogram": [
                                            {
                                                "marker": {
                                                    "pattern": {
                                                        "fillmode": "overlay",
                                                        "size": 10,
                                                        "solidity": 0.2
                                                    }
                                                },
                                                "type": "histogram"
                                            }
                                        ],
                                        "histogram2d": [
                                            {
                                                "colorbar": {
                                                    "outlinewidth": 0,
                                                    "ticks": ""
                                                },
                                                "colorscale": [
                                                    [
                                                        0,
                                                        "#0d0887"
                                                    ],
                                                    [
                                                        0.1111111111111111,
                                                        "#46039f"
                                                    ],
                                                    [
                                                        0.2222222222222222,
                                                        "#7201a8"
                                                    ],
                                                    [
                                                        0.3333333333333333,
                                                        "#9c179e"
                                                    ],
                                                    [
                                                        0.4444444444444444,
                                                        "#bd3786"
                                                    ],
                                                    [
                                                        0.5555555555555556,
                                                        "#d8576b"
                                                    ],
                                                    [
                                                        0.6666666666666666,
                                                        "#ed7953"
                                                    ],
                                                    [
                                                        0.7777777777777778,
                                                        "#fb9f3a"
                                                    ],
                                                    [
                                                        0.8888888888888888,
                                                        "#fdca26"
                                                    ],
                                                    [
                                                        1,
                                                        "#f0f921"
                                                    ]
                                                ],
                                                "type": "histogram2d"
                                            }
                                        ],
                                        "histogram2dcontour": [
                                            {
                                                "colorbar": {
                                                    "outlinewidth": 0,
                                                    "ticks": ""
                                                },
                                                "colorscale": [
                                                    [
                                                        0,
                                                        "#0d0887"
                                                    ],
                                                    [
                                                        0.1111111111111111,
                                                        "#46039f"
                                                    ],
                                                    [
                                                        0.2222222222222222,
                                                        "#7201a8"
                                                    ],
                                                    [
                                                        0.3333333333333333,
                                                        "#9c179e"
                                                    ],
                                                    [
                                                        0.4444444444444444,
                                                        "#bd3786"
                                                    ],
                                                    [
                                                        0.5555555555555556,
                                                        "#d8576b"
                                                    ],
                                                    [
                                                        0.6666666666666666,
                                                        "#ed7953"
                                                    ],
                                                    [
                                                        0.7777777777777778,
                                                        "#fb9f3a"
                                                    ],
                                                    [
                                                        0.8888888888888888,
                                                        "#fdca26"
                                                    ],
                                                    [
                                                        1,
                                                        "#f0f921"
                                                    ]
                                                ],
                                                "type": "histogram2dcontour"
                                            }
                                        ],
                                        "mesh3d": [
                                            {
                                                "colorbar": {
                                                    "outlinewidth": 0,
                                                    "ticks": ""
                                                },
                                                "type": "mesh3d"
                                            }
                                        ],
                                        "parcoords": [
                                            {
                                                "line": {
                                                    "colorbar": {
                                                        "outlinewidth": 0,
                                                        "ticks": ""
                                                    }
                                                },
                                                "type": "parcoords"
                                            }
                                        ],
                                        "pie": [
                                            {
                                                "automargin": true,
                                                "type": "pie"
                                            }
                                        ],
                                        "scatter": [
                                            {
                                                "fillpattern": {
                                                    "fillmode": "overlay",
                                                    "size": 10,
                                                    "solidity": 0.2
                                                },
                                                "type": "scatter"
                                            }
                                        ],
                                        "scatter3d": [
                                            {
                                                "line": {
                                                    "colorbar": {
                                                        "outlinewidth": 0,
                                                        "ticks": ""
                                                    }
                                                },
                                                "marker": {
                                                    "colorbar": {
                                                        "outlinewidth": 0,
                                                        "ticks": ""
                                                    }
                                                },
                                                "type": "scatter3d"
                                            }
                                        ],
                                        "scattercarpet": [
                                            {
                                                "marker": {
                                                    "colorbar": {
                                                        "outlinewidth": 0,
                                                        "ticks": ""
                                                    }
                                                },
                                                "type": "scattercarpet"
                                            }
                                        ],
                                        "scattergeo": [
                                            {
                                                "marker": {
                                                    "colorbar": {
                                                        "outlinewidth": 0,
                                                        "ticks": ""
                                                    }
                                                },
                                                "type": "scattergeo"
                                            }
                                        ],
                                        "scattergl": [
                                            {
                                                "marker": {
                                                    "colorbar": {
                                                        "outlinewidth": 0,
                                                        "ticks": ""
                                                    }
                                                },
                                                "type": "scattergl"
                                            }
                                        ],
                                        "scattermap": [
                                            {
                                                "marker": {
                                                    "colorbar": {
                                                        "outlinewidth": 0,
                                                        "ticks": ""
                                                    }
                                                },
                                                "type": "scattermap"
                                            }
                                        ],
                                        "scattermapbox": [
                                            {
                                                "marker": {
                                                    "colorbar": {
                                                        "outlinewidth": 0,
                                                        "ticks": ""
                                                    }
                                                },
                                                "type": "scattermapbox"
                                            }
                                        ],
                                        "scatterpolar": [
                                            {
                                                "marker": {
                                                    "colorbar": {
                                                        "outlinewidth": 0,
                                                        "ticks": ""
                                                    }
                                                },
                                                "type": "scatterpolar"
                                            }
                                        ],
                                        "scatterpolargl": [
                                            {
                                                "marker": {
                                                    "colorbar": {
                                                        "outlinewidth": 0,
                                                        "ticks": ""
                                                    }
                                                },
                                                "type": "scatterpolargl"
                                            }
                                        ],
                                        "scatterternary": [
                                            {
                                                "marker": {
                                                    "colorbar": {
                                                        "outlinewidth": 0,
                                                        "ticks": ""
                                                    }
                                                },
                                                "type": "scatterternary"
                                            }
                                        ],
                                        "surface": [
                                            {
                                                "colorbar": {
                                                    "outlinewidth": 0,
                                                    "ticks": ""
                                                },
                                                "colorscale": [
                                                    [
                                                        0,
                                                        "#0d0887"
                                                    ],
                                                    [
                                                        0.1111111111111111,
                                                        "#46039f"
                                                    ],
                                                    [
                                                        0.2222222222222222,
                                                        "#7201a8"
                                                    ],
                                                    [
                                                        0.3333333333333333,
                                                        "#9c179e"
                                                    ],
                                                    [
                                                        0.4444444444444444,
                                                        "#bd3786"
                                                    ],
                                                    [
                                                        0.5555555555555556,
                                                        "#d8576b"
                                                    ],
                                                    [
                                                        0.6666666666666666,
                                                        "#ed7953"
                                                    ],
                                                    [
                                                        0.7777777777777778,
                                                        "#fb9f3a"
                                                    ],
                                                    [
                                                        0.8888888888888888,
                                                        "#fdca26"
                                                    ],
                                                    [
                                                        1,
                                                        "#f0f921"
                                                    ]
                                                ],
                                                "type": "surface"
                                            }
                                        ],
                                        "table": [
                                            {
                                                "cells": {
                                                    "fill": {
                                                        "color": "#EBF0F8"
                                                    },
                                                    "line": {
                                                        "color": "white"
                                                    }
                                                },
                                                "header": {
                                                    "fill": {
                                                        "color": "#C8D4E3"
                                                    },
                                                    "line": {
                                                        "color": "white"
                                                    }
                                                },
                                                "type": "table"
                                            }
                                        ]
                                    },
                                    "layout": {
                                        "annotationdefaults": {
                                            "arrowcolor": "#2a3f5f",
                                            "arrowhead": 0,
                                            "arrowwidth": 1
                                        },
                                        "autotypenumbers": "strict",
                                        "coloraxis": {
                                            "colorbar": {
                                                "outlinewidth": 0,
                                                "ticks": ""
                                            }
                                        },
                                        "colorscale": {
                                            "diverging": [
                                                [
                                                    0,
                                                    "#8e0152"
                                                ],
                                                [
                                                    0.1,
                                                    "#c51b7d"
                                                ],
                                                [
                                                    0.2,
                                                    "#de77ae"
                                                ],
                                                [
                                                    0.3,
                                                    "#f1b6da"
                                                ],
                                                [
                                                    0.4,
                                                    "#fde0ef"
                                                ],
                                                [
                                                    0.5,
                                                    "#f7f7f7"
                                                ],
                                                [
                                                    0.6,
                                                    "#e6f5d0"
                                                ],
                                                [
                                                    0.7,
                                                    "#b8e186"
                                                ],
                                                [
                                                    0.8,
                                                    "#7fbc41"
                                                ],
                                                [
                                                    0.9,
                                                    "#4d9221"
                                                ],
                                                [
                                                    1,
                                                    "#276419"
                                                ]
                                            ],
                                            "sequential": [
                                                [
                                                    0,
                                                    "#0d0887"
                                                ],
                                                [
                                                    0.1111111111111111,
                                                    "#46039f"
                                                ],
                                                [
                                                    0.2222222222222222,
                                                    "#7201a8"
                                                ],
                                                [
                                                    0.3333333333333333,
                                                    "#9c179e"
                                                ],
                                                [
                                                    0.4444444444444444,
                                                    "#bd3786"
                                                ],
                                                [
                                                    0.5555555555555556,
                                                    "#d8576b"
                                                ],
                                                [
                                                    0.6666666666666666,
                                                    "#ed7953"
                                                ],
                                                [
                                                    0.7777777777777778,
                                                    "#fb9f3a"
                                                ],
                                                [
                                                    0.8888888888888888,
                                                    "#fdca26"
                                                ],
                                                [
                                                    1,
                                                    "#f0f921"
                                                ]
                                            ],
                                            "sequentialminus": [
                                                [
                                                    0,
                                                    "#0d0887"
                                                ],
                                                [
                                                    0.1111111111111111,
                                                    "#46039f"
                                                ],
                                                [
                                                    0.2222222222222222,
                                                    "#7201a8"
                                                ],
                                                [
                                                    0.3333333333333333,
                                                    "#9c179e"
                                                ],
                                                [
                                                    0.4444444444444444,
                                                    "#bd3786"
                                                ],
                                                [
                                                    0.5555555555555556,
                                                    "#d8576b"
                                                ],
                                                [
                                                    0.6666666666666666,
                                                    "#ed7953"
                                                ],
                                                [
                                                    0.7777777777777778,
                                                    "#fb9f3a"
                                                ],
                                                [
                                                    0.8888888888888888,
                                                    "#fdca26"
                                                ],
                                                [
                                                    1,
                                                    "#f0f921"
                                                ]
                                            ]
                                        },
                                        "colorway": [
                                            "#636efa",
                                            "#EF553B",
                                            "#00cc96",
                                            "#ab63fa",
                                            "#FFA15A",
                                            "#19d3f3",
                                            "#FF6692",
                                            "#B6E880",
                                            "#FF97FF",
                                            "#FECB52"
                                        ],
                                        "font": {
                                            "color": "#2a3f5f"
                                        },
                                        "geo": {
                                            "bgcolor": "white",
                                            "lakecolor": "white",
                                            "landcolor": "#E5ECF6",
                                            "showlakes": true,
                                            "showland": true,
                                            "subunitcolor": "white"
                                        },
                                        "hoverlabel": {
                                            "align": "left"
                                        },
                                        "hovermode": "closest",
                                        "mapbox": {
                                            "style": "light"
                                        },
                                        "paper_bgcolor": "white",
                                        "plot_bgcolor": "#E5ECF6",
                                        "polar": {
                                            "angularaxis": {
                                                "gridcolor": "white",
                                                "linecolor": "white",
                                                "ticks": ""
                                            },
                                            "bgcolor": "#E5ECF6",
                                            "radialaxis": {
                                                "gridcolor": "white",
                                                "linecolor": "white",
                                                "ticks": ""
                                            }
                                        },
                                        "scene": {
                                            "xaxis": {
                                                "backgroundcolor": "#E5ECF6",
                                                "gridcolor": "white",
                                                "gridwidth": 2,
                                                "linecolor": "white",
                                                "showbackground": true,
                                                "ticks": "",
                                                "zerolinecolor": "white"
                                            },
                                            "yaxis": {
                                                "backgroundcolor": "#E5ECF6",
                                                "gridcolor": "white",
                                                "gridwidth": 2,
                                                "linecolor": "white",
                                                "showbackground": true,
                                                "ticks": "",
                                                "zerolinecolor": "white"
                                            },
                                            "zaxis": {
                                                "backgroundcolor": "#E5ECF6",
                                                "gridcolor": "white",
                                                "gridwidth": 2,
                                                "linecolor": "white",
                                                "showbackground": true,
                                                "ticks": "",
                                                "zerolinecolor": "white"
                                            }
                                        },
                                        "shapedefaults": {
                                            "line": {
                                                "color": "#2a3f5f"
                                            }
                                        },
                                        "ternary": {
                                            "aaxis": {
                                                "gridcolor": "white",
                                                "linecolor": "white",
                                                "ticks": ""
                                            },
                                            "baxis": {
                                                "gridcolor": "white",
                                                "linecolor": "white",
                                                "ticks": ""
                                            },
                                            "bgcolor": "#E5ECF6",
                                            "caxis": {
                                                "gridcolor": "white",
                                                "linecolor": "white",
                                                "ticks": ""
                                            }
                                        },
                                        "title": {
                                            "x": 0.05
                                        },
                                        "xaxis": {
                                            "automargin": true,
                                            "gridcolor": "white",
                                            "linecolor": "white",
                                            "ticks": "",
                                            "title": {
                                                "standoff": 15
                                            },
                                            "zerolinecolor": "white",
                                            "zerolinewidth": 2
                                        },
                                        "yaxis": {
                                            "automargin": true,
                                            "gridcolor": "white",
                                            "linecolor": "white",
                                            "ticks": "",
                                            "title": {
                                                "standoff": 15
                                            },
                                            "zerolinecolor": "white",
                                            "zerolinewidth": 2
                                        }
                                    }
                                },
                                "title": {
                                    "text": "Streaming Data (Last 20s visible, Y-scale from last 5s)"
                                },
                                "xaxis": {
                                    "range": [
                                        33.23730802536011,
                                        53.17174291610718
                                    ]
                                },
                                "yaxis": {
                                    "range": [
                                        0.031845879089087245,
                                        0.032073125895112756
                                    ]
                                }
                            }
                        }
                    },
                    "metadata": {},
                    "output_type": "display_data"
                },
                {
                    "ename": "KeyboardInterrupt",
                    "evalue": "",
                    "output_type": "error",
                    "traceback": [
                        "\u001b[1;31m---------------------------------------------------------------------------\u001b[0m",
                        "\u001b[1;31mKeyboardInterrupt\u001b[0m                         Traceback (most recent call last)",
                        "Cell \u001b[1;32mIn[13], line 26\u001b[0m\n\u001b[0;32m     23\u001b[0m hm\u001b[38;5;241m.\u001b[39mlaser\u001b[38;5;241m.\u001b[39mlaser_on()\n\u001b[0;32m     25\u001b[0m \u001b[38;5;28;01mwhile\u001b[39;00m time\u001b[38;5;241m.\u001b[39mtime() \u001b[38;5;241m-\u001b[39m start_time \u001b[38;5;241m<\u001b[39m run_time:\n\u001b[1;32m---> 26\u001b[0m     new_y \u001b[38;5;241m=\u001b[39m \u001b[43mhm\u001b[49m\u001b[38;5;241;43m.\u001b[39;49m\u001b[43mdig\u001b[49m\u001b[38;5;241;43m.\u001b[39;49m\u001b[43mstream\u001b[49m\u001b[43m(\u001b[49m\u001b[43m)\u001b[49m\n\u001b[0;32m     27\u001b[0m     \u001b[38;5;28;01mif\u001b[39;00m new_y \u001b[38;5;129;01mis\u001b[39;00m \u001b[38;5;28;01mNone\u001b[39;00m \u001b[38;5;129;01mor\u001b[39;00m \u001b[38;5;28mlen\u001b[39m(new_y) \u001b[38;5;241m==\u001b[39m \u001b[38;5;241m0\u001b[39m:\n\u001b[0;32m     28\u001b[0m         \u001b[38;5;28;01mcontinue\u001b[39;00m  \u001b[38;5;66;03m# Skip empty data\u001b[39;00m\n",
                        "File \u001b[1;32mc:\\Users\\HFNV\\diamondgui\\hardware\\daq\\sidig.py:292\u001b[0m, in \u001b[0;36mFIFO_DataAcquisition.stream\u001b[1;34m(self)\u001b[0m\n\u001b[0;32m    289\u001b[0m \u001b[38;5;28;01mdef\u001b[39;00m\u001b[38;5;250m \u001b[39m\u001b[38;5;21mstream\u001b[39m(\u001b[38;5;28mself\u001b[39m):\n\u001b[0;32m    290\u001b[0m     \u001b[38;5;66;03m# for continuous streaming, please stop the card manually after acquisition---------\u001b[39;00m\n\u001b[0;32m    291\u001b[0m     \u001b[38;5;28;01mtry\u001b[39;00m:\n\u001b[1;32m--> 292\u001b[0m         data_block \u001b[38;5;241m=\u001b[39m \u001b[38;5;28;43mnext\u001b[39;49m\u001b[43m(\u001b[49m\u001b[38;5;28;43mself\u001b[39;49m\u001b[38;5;241;43m.\u001b[39;49m\u001b[43mmultiple_recording\u001b[49m\u001b[43m)\u001b[49m\n\u001b[0;32m    293\u001b[0m         \u001b[38;5;28mself\u001b[39m\u001b[38;5;241m.\u001b[39mraw_data \u001b[38;5;241m=\u001b[39m np\u001b[38;5;241m.\u001b[39mcopy(data_block)\n\u001b[0;32m    294\u001b[0m         \u001b[38;5;66;03m# print(np.shape(data_block))\u001b[39;00m\n\u001b[0;32m    295\u001b[0m         \u001b[38;5;66;03m# self.raw_data = self.channels[0].convert_data(self.raw_data, units.mV)\u001b[39;00m\n",
                        "File \u001b[1;32mc:\\Users\\HFNV\\.conda\\envs\\hfnvenv\\lib\\site-packages\\spcm\\classes_multi.py:144\u001b[0m, in \u001b[0;36mMulti.__next__\u001b[1;34m(self)\u001b[0m\n\u001b[0;32m    131\u001b[0m \u001b[38;5;28;01mdef\u001b[39;00m\u001b[38;5;250m \u001b[39m\u001b[38;5;21m__next__\u001b[39m(\u001b[38;5;28mself\u001b[39m) \u001b[38;5;241m-\u001b[39m\u001b[38;5;241m>\u001b[39m npt\u001b[38;5;241m.\u001b[39mArrayLike:\n\u001b[0;32m    132\u001b[0m \u001b[38;5;250m    \u001b[39m\u001b[38;5;124;03m\"\"\"\u001b[39;00m\n\u001b[0;32m    133\u001b[0m \u001b[38;5;124;03m    This method is called when the next element is requested from the iterator\u001b[39;00m\n\u001b[0;32m    134\u001b[0m \n\u001b[1;32m   (...)\u001b[0m\n\u001b[0;32m    142\u001b[0m \u001b[38;5;124;03m    StopIteration\u001b[39;00m\n\u001b[0;32m    143\u001b[0m \u001b[38;5;124;03m    \"\"\"\u001b[39;00m\n\u001b[1;32m--> 144\u001b[0m     \u001b[38;5;28;43msuper\u001b[39;49m\u001b[43m(\u001b[49m\u001b[43m)\u001b[49m\u001b[38;5;241;43m.\u001b[39;49m\u001b[38;5;21;43m__next__\u001b[39;49m\u001b[43m(\u001b[49m\u001b[43m)\u001b[49m\n\u001b[0;32m    145\u001b[0m     user_pos \u001b[38;5;241m=\u001b[39m \u001b[38;5;28mself\u001b[39m\u001b[38;5;241m.\u001b[39mavail_user_pos()\n\u001b[0;32m    146\u001b[0m     current_segment \u001b[38;5;241m=\u001b[39m user_pos \u001b[38;5;241m/\u001b[39m\u001b[38;5;241m/\u001b[39m \u001b[38;5;28mself\u001b[39m\u001b[38;5;241m.\u001b[39m_segment_size\n",
                        "File \u001b[1;32mc:\\Users\\HFNV\\.conda\\envs\\hfnvenv\\lib\\site-packages\\spcm\\classes_data_transfer.py:941\u001b[0m, in \u001b[0;36mDataTransfer.__next__\u001b[1;34m(self)\u001b[0m\n\u001b[0;32m    939\u001b[0m \u001b[38;5;28;01mtry\u001b[39;00m:\n\u001b[0;32m    940\u001b[0m     \u001b[38;5;28;01mif\u001b[39;00m \u001b[38;5;129;01mnot\u001b[39;00m \u001b[38;5;28mself\u001b[39m\u001b[38;5;241m.\u001b[39m_polling:\n\u001b[1;32m--> 941\u001b[0m         \u001b[38;5;28;43mself\u001b[39;49m\u001b[38;5;241;43m.\u001b[39;49m\u001b[43mwait_dma\u001b[49m\u001b[43m(\u001b[49m\u001b[43m)\u001b[49m\n\u001b[0;32m    942\u001b[0m     \u001b[38;5;28;01melse\u001b[39;00m:\n\u001b[0;32m    943\u001b[0m         user_len \u001b[38;5;241m=\u001b[39m \u001b[38;5;28mself\u001b[39m\u001b[38;5;241m.\u001b[39mavail_user_len()\n",
                        "File \u001b[1;32mc:\\Users\\HFNV\\.conda\\envs\\hfnvenv\\lib\\site-packages\\spcm\\classes_data_transfer.py:772\u001b[0m, in \u001b[0;36mDataTransfer.wait_dma\u001b[1;34m(self)\u001b[0m\n\u001b[0;32m    767\u001b[0m \u001b[38;5;28;01mdef\u001b[39;00m\u001b[38;5;250m \u001b[39m\u001b[38;5;21mwait_dma\u001b[39m(\u001b[38;5;28mself\u001b[39m) \u001b[38;5;241m-\u001b[39m\u001b[38;5;241m>\u001b[39m \u001b[38;5;28;01mNone\u001b[39;00m:\n\u001b[0;32m    768\u001b[0m \u001b[38;5;250m    \u001b[39m\u001b[38;5;124;03m\"\"\"\u001b[39;00m\n\u001b[0;32m    769\u001b[0m \u001b[38;5;124;03m    Wait for the DMA transfer to finish (see register `M2CMD_DATA_WAITDMA` in the manual)\u001b[39;00m\n\u001b[0;32m    770\u001b[0m \u001b[38;5;124;03m    \"\"\"\u001b[39;00m\n\u001b[1;32m--> 772\u001b[0m     \u001b[38;5;28;43mself\u001b[39;49m\u001b[38;5;241;43m.\u001b[39;49m\u001b[43mcard\u001b[49m\u001b[38;5;241;43m.\u001b[39;49m\u001b[43mcmd\u001b[49m\u001b[43m(\u001b[49m\u001b[43mM2CMD_DATA_WAITDMA\u001b[49m\u001b[43m)\u001b[49m\n",
                        "File \u001b[1;32mc:\\Users\\HFNV\\.conda\\envs\\hfnvenv\\lib\\site-packages\\spcm\\classes_device.py:297\u001b[0m, in \u001b[0;36mDevice.cmd\u001b[1;34m(self, *args)\u001b[0m\n\u001b[0;32m    295\u001b[0m \u001b[38;5;28;01mfor\u001b[39;00m arg \u001b[38;5;129;01min\u001b[39;00m args:\n\u001b[0;32m    296\u001b[0m     cmd \u001b[38;5;241m|\u001b[39m\u001b[38;5;241m=\u001b[39m arg\n\u001b[1;32m--> 297\u001b[0m \u001b[38;5;28;43mself\u001b[39;49m\u001b[38;5;241;43m.\u001b[39;49m\u001b[43mset_i\u001b[49m\u001b[43m(\u001b[49m\u001b[43mSPC_M2CMD\u001b[49m\u001b[43m,\u001b[49m\u001b[43m \u001b[49m\u001b[43mcmd\u001b[49m\u001b[43m)\u001b[49m\n",
                        "File \u001b[1;32mc:\\Users\\HFNV\\.conda\\envs\\hfnvenv\\lib\\site-packages\\spcm\\classes_device.py:463\u001b[0m, in \u001b[0;36mDevice.set_i\u001b[1;34m(self, register, value)\u001b[0m\n\u001b[0;32m    451\u001b[0m \u001b[38;5;250m\u001b[39m\u001b[38;5;124;03m\"\"\"\u001b[39;00m\n\u001b[0;32m    452\u001b[0m \u001b[38;5;124;03mWrite the value of a specific register to the card (see the user manual of your device for all the available registers)\u001b[39;00m\n\u001b[0;32m    453\u001b[0m \u001b[38;5;124;03m\u001b[39;00m\n\u001b[1;32m   (...)\u001b[0m\n\u001b[0;32m    459\u001b[0m \u001b[38;5;124;03m    The value that is written to the card.\u001b[39;00m\n\u001b[0;32m    460\u001b[0m \u001b[38;5;124;03m\"\"\"\u001b[39;00m\n\u001b[0;32m    462\u001b[0m \u001b[38;5;28mself\u001b[39m\u001b[38;5;241m.\u001b[39m_check_closed()\n\u001b[1;32m--> 463\u001b[0m \u001b[38;5;28mself\u001b[39m\u001b[38;5;241m.\u001b[39m_check_error(\u001b[43mspcm_dwSetParam_i64\u001b[49m\u001b[43m(\u001b[49m\u001b[38;5;28;43mself\u001b[39;49m\u001b[38;5;241;43m.\u001b[39;49m\u001b[43m_handle\u001b[49m\u001b[43m,\u001b[49m\u001b[43m \u001b[49m\u001b[43mregister\u001b[49m\u001b[43m,\u001b[49m\u001b[43m \u001b[49m\u001b[43mvalue\u001b[49m\u001b[43m)\u001b[49m)\n",
                        "File \u001b[1;32mc:\\Users\\HFNV\\.conda\\envs\\hfnvenv\\lib\\site-packages\\spcm_core\\pyspcm.py:281\u001b[0m, in \u001b[0;36mspcm_dwSetParam_i64\u001b[1;34m(hDrv, lReg, Val)\u001b[0m\n\u001b[0;32m    279\u001b[0m \u001b[38;5;28;01mexcept\u001b[39;00m \u001b[38;5;167;01mAttributeError\u001b[39;00m:\n\u001b[0;32m    280\u001b[0m     llVal \u001b[38;5;241m=\u001b[39m int64(Val)\n\u001b[1;32m--> 281\u001b[0m \u001b[38;5;28;01mreturn\u001b[39;00m \u001b[43mspcm_dwSetParam_i64_\u001b[49m\u001b[43m \u001b[49m\u001b[43m(\u001b[49m\u001b[43mhDrv\u001b[49m\u001b[43m,\u001b[49m\u001b[43m \u001b[49m\u001b[43mlReg\u001b[49m\u001b[43m,\u001b[49m\u001b[43m \u001b[49m\u001b[43mllVal\u001b[49m\u001b[43m)\u001b[49m\n",
                        "\u001b[1;31mKeyboardInterrupt\u001b[0m: "
                    ]
                }
            ],
            "source": [
                "import time\n",
                "import numpy as np\n",
                "import plotly.graph_objects as go\n",
                "from IPython.display import display, clear_output\n",
                "\n",
                "# Initialize plot\n",
                "fig = go.Figure()\n",
                "fig.add_trace(go.Scatter(y=[], mode=\"lines\", name=\"Streaming Data\"))\n",
                "\n",
                "start_time = time.time()\n",
                "run_time = 60 * 60  # Total script run time\n",
                "window_size = 20    # Show 20 seconds of data\n",
                "scale_window = 5    # Scale Y-axis to the last 5 seconds\n",
                "\n",
                "x_data, y_data = [], []\n",
                "\n",
                "# Hardware setup\n",
                "hm.pg.setDigital('sdtrig', seq_dig)\n",
                "hm.dig.set_config()\n",
                "hm.pg.stream(n_runs=INF)\n",
                "hm.dig.start_buffer()\n",
                "hm.pg.startNow()\n",
                "hm.laser.laser_on()\n",
                "\n",
                "while time.time() - start_time < run_time:\n",
                "    new_y = hm.dig.stream()\n",
                "    if new_y is None or len(new_y) == 0:\n",
                "        continue  # Skip empty data\n",
                "\n",
                "    avg = np.mean(new_y)\n",
                "    current_time = time.time() - start_time\n",
                "\n",
                "    x_data.append(current_time)\n",
                "    y_data.append(avg)\n",
                "\n",
                "    # Keep only the last 20 seconds of data\n",
                "    while x_data and (current_time - x_data[0]) > window_size:\n",
                "        x_data.pop(0)\n",
                "        y_data.pop(0)\n",
                "\n",
                "    # Extract the last 5 seconds for scaling\n",
                "    scale_indices = [i for i, t in enumerate(x_data) if current_time - t <= scale_window]\n",
                "    if scale_indices:\n",
                "        recent_y = [y_data[i] for i in scale_indices]\n",
                "        y_min, y_max = min(recent_y), max(recent_y)\n",
                "        margin = (y_max - y_min) * 0.1 if y_max > y_min else 1  # Add some margin\n",
                "    else:\n",
                "        y_min, y_max = 0, 1\n",
                "        margin = 1\n",
                "\n",
                "    # Update the figure dynamically\n",
                "    fig.update_traces(y=y_data, x=x_data)\n",
                "    fig.update_layout(\n",
                "        yaxis=dict(range=[y_min - margin, y_max + margin]),\n",
                "        xaxis=dict(range=[x_data[0], x_data[-1]]),\n",
                "        title=\"Streaming Data (Last 20s visible, Y-scale from last 5s)\"\n",
                "    )\n",
                "\n",
                "    clear_output(wait=True)\n",
                "    display(fig)\n",
                "\n",
                "    time.sleep(0.01)\n",
                "\n",
                "print(\"Streaming Ended!\")\n",
                "hm.laser.laser_off()\n",
                "hm.dig.stream()\n",
                "hm.dig.stop_card()\n",
                "hm.pg.forceFinal()\n"
            ]
        },
        {
            "cell_type": "code",
            "execution_count": 14,
            "metadata": {},
            "outputs": [
                {
                    "name": "stdout",
                    "output_type": "stream",
                    "text": [
                        "Card stopped\n"
                    ]
                },
                {
                    "data": {
                        "text/plain": [
                            "0"
                        ]
                    },
                    "execution_count": 14,
                    "metadata": {},
                    "output_type": "execute_result"
                }
            ],
            "source": [
                "hm.laser.laser_off()\n",
                "hm.dig.stop_card()\n",
                "hm.pg.forceFinal()"
            ]
        },
        {
            "cell_type": "code",
            "execution_count": null,
            "metadata": {},
            "outputs": [],
            "source": []
        }
    ],
    "metadata": {
        "kernelspec": {
            "display_name": "Python 3",
            "language": "python",
            "name": "python3"
        },
        "language_info": {
            "codemirror_mode": {
                "name": "ipython",
                "version": 3
            },
            "file_extension": ".py",
            "mimetype": "text/x-python",
            "name": "python",
            "nbconvert_exporter": "python",
            "pygments_lexer": "ipython3",
            "version": "3.10.16"
        }
    },
    "nbformat": 4,
    "nbformat_minor": 2
}