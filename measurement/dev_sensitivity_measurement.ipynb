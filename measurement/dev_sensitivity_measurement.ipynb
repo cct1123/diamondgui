{
    "cells": [
        {
            "cell_type": "code",
            "execution_count": 1,
            "metadata": {},
            "outputs": [],
            "source": [
                "import time\n",
                "import sys\n",
                "import os\n",
                "path_project = \"\\\\\".join(os.getcwd().split(\"\\\\\")[:-1])\n",
                "# caution: path[0] is reserved for script path (or '' in REPL)\n",
                "sys.path.insert(1, path_project)\n",
                "\n",
                "from hardware.pulser.pulser import PulseGenerator, OutputState, TriggerStart, TriggerRearm, HIGH, LOW, INF\n",
                "from hardware.laser.laser import LaserControl\n",
                "from hardware.mw.mwsynthesizer import Synthesizer\n",
                "\n",
                "from hardware import config_custom as hcf\n",
                "\n",
                "import nidaqmx\n",
                "from nidaqmx.constants import TerminalConfiguration, VoltageUnits, Edge, AcquisitionType, READ_ALL_AVAILABLE\n",
                "# from nidaqmx.constants import LogicFamily \n",
                "# TWO_POINT_FIVE_V, THREE_POINT_THREE_V, FIVE_V\n",
                "# from nidaqmx import stream_readers \n",
                "# from nidaqmx.stream_readers import AnalogSingleChannelReader\n",
                "import matplotlib.pyplot as plt\n",
                "import numpy as np"
            ]
        },
        {
            "cell_type": "code",
            "execution_count": 2,
            "metadata": {},
            "outputs": [
                {
                    "name": "stdout",
                    "output_type": "stream",
                    "text": [
                        "Connect to Pulse Streamer via JSON-RPC.\n",
                        "IP / Hostname: 192.168.1.26\n",
                        "Pulse Streamer 8/2 firmware: v1.7.2\n",
                        "Client software: v1.7.0\n",
                        "VDI Sythesizer Serail Port Open\n"
                    ]
                }
            ],
            "source": [
                "# connect to devices\n",
                "pg  = PulseGenerator(ip=hcf.PS_IP, chmap=hcf.PS_chmap) \n",
                "mwsyn = Synthesizer(hcf.VDISYN_SN, \n",
                "                    vidpid=hcf.VDISYN_VIDPID,\n",
                "                    baudrate=hcf.VDISYN_BAUD, \n",
                "                    timeout=5, \n",
                "                    write_timeout=5)\n",
                "# mwsyn.reboot()\n",
                "laser = LaserControl(hcf.LASER_SN)\n",
                "laser.open()\n"
            ]
        },
        {
            "cell_type": "code",
            "execution_count": 3,
            "metadata": {},
            "outputs": [],
            "source": [
                "current_percent = 75.09\n",
                "laser.laser_off()\n",
                "laser.set_analog_control_mode(\"current\")\n",
                "laser.set_modulation_state(\"Pulsed\")\n",
                "laser.set_diode_current(current_percent, save_memory=False)"
            ]
        },
        {
            "cell_type": "code",
            "execution_count": 4,
            "metadata": {},
            "outputs": [
                {
                    "name": "stdout",
                    "output_type": "stream",
                    "text": [
                        "Clock mode set to: 32\n",
                        "1: Internal, 2: Quartz, 3: External, 32: Direct External Sampling\n"
                    ]
                }
            ],
            "source": [
                "from hardware.daq.sidig import FIFO_DataAcquisition\n",
                "from hardware.daq.sidig import FIFO_DataAcquisition, DCCOUPLE, TERMIN_INPUT_50OHM, TERMIN_INPUT_1MOHM\n",
                "\n",
                "SIDIG_ADDRESS = \"dev/spcm0\"\n",
                "SIDIG_maxsr = 500e6  # Hz\n",
                "SIDIG_timebase = int(1 / SIDIG_maxsr * 1e9)  # ns\n",
                "dig=FIFO_DataAcquisition(\n",
                "                sn_address=SIDIG_ADDRESS\n",
                "            )"
            ]
        },
        {
            "cell_type": "code",
            "execution_count": 5,
            "metadata": {},
            "outputs": [
                {
                    "name": "stdout",
                    "output_type": "stream",
                    "text": [
                        "CW Freqeuncy Setting Sent:16.6 GHz\n",
                        "Actual Output CW Freqeuncy :16.600000005215406 GHz\n"
                    ]
                }
            ],
            "source": [
                "freq = 16.6\n",
                "errorbyte, freq_actual = mwsyn.cw_frequency(freq)\n",
                "print(f\"CW Freqeuncy Setting Sent:{freq} GHz\")\n",
                "print(f\"Actual Output CW Freqeuncy :{freq_actual} GHz\")"
            ]
        },
        {
            "cell_type": "code",
            "execution_count": 6,
            "metadata": {},
            "outputs": [
                {
                    "data": {
                        "text/plain": [
                            "1"
                        ]
                    },
                    "execution_count": 6,
                    "metadata": {},
                    "output_type": "execute_result"
                }
            ],
            "source": [
                "# set MW power =====================================================\n",
                "mwpower_vlevel = 5.0 # 5V equals to max power\n",
                "task_uca = nidaqmx.Task(\"UCA\") # user controlled attenuation\n",
                "task_uca.ao_channels.add_ao_voltage_chan(hcf.NI_ch_UCA, min_val=0.0, max_val=10)\n",
                "# task_uca.timing.cfg_samp_clk_timing(hcf.NI_sampling_max/100.0, sample_mode=AcquisitionType.CONTINUOUS)\n",
                "task_uca.start()\n",
                "task_uca.write([mwpower_vlevel], auto_start=False)\n",
                "# task_uca.stop()\n",
                "# task_uca.close()"
            ]
        },
        {
            "cell_type": "code",
            "execution_count": 7,
            "metadata": {},
            "outputs": [
                {
                    "data": {
                        "application/vnd.plotly.v1+json": {
                            "config": {
                                "plotlyServerURL": "https://plot.ly"
                            },
                            "data": [
                                {
                                    "line": {
                                        "shape": "hv"
                                    },
                                    "mode": "lines",
                                    "name": "D0",
                                    "type": "scatter",
                                    "x": [
                                        0,
                                        16000000,
                                        16000040
                                    ],
                                    "xaxis": "x",
                                    "y": [
                                        1,
                                        1,
                                        1
                                    ],
                                    "yaxis": "y"
                                },
                                {
                                    "line": {
                                        "shape": "hv"
                                    },
                                    "mode": "lines",
                                    "name": "D1",
                                    "type": "scatter",
                                    "x": [
                                        0,
                                        16000040
                                    ],
                                    "xaxis": "x2",
                                    "y": [
                                        0,
                                        0
                                    ],
                                    "yaxis": "y2"
                                },
                                {
                                    "line": {
                                        "shape": "hv"
                                    },
                                    "mode": "lines",
                                    "name": "D2",
                                    "type": "scatter",
                                    "x": [
                                        0,
                                        16000040
                                    ],
                                    "xaxis": "x3",
                                    "y": [
                                        0,
                                        0
                                    ],
                                    "yaxis": "y3"
                                },
                                {
                                    "line": {
                                        "shape": "hv"
                                    },
                                    "mode": "lines",
                                    "name": "D3",
                                    "type": "scatter",
                                    "x": [
                                        0,
                                        20,
                                        4000000,
                                        4000020,
                                        4000040,
                                        8000020,
                                        8000040,
                                        12000020,
                                        12000040,
                                        12000060,
                                        16000040
                                    ],
                                    "xaxis": "x4",
                                    "y": [
                                        1,
                                        0,
                                        0,
                                        1,
                                        0,
                                        1,
                                        0,
                                        0,
                                        1,
                                        0,
                                        0
                                    ],
                                    "yaxis": "y4"
                                },
                                {
                                    "line": {
                                        "shape": "hv"
                                    },
                                    "mode": "lines",
                                    "name": "D4",
                                    "type": "scatter",
                                    "x": [
                                        0,
                                        4000000,
                                        8000000,
                                        12000000,
                                        16000000,
                                        16000040
                                    ],
                                    "xaxis": "x5",
                                    "y": [
                                        1,
                                        0,
                                        1,
                                        0,
                                        0,
                                        0
                                    ],
                                    "yaxis": "y5"
                                },
                                {
                                    "line": {
                                        "shape": "hv"
                                    },
                                    "mode": "lines",
                                    "name": "D5",
                                    "type": "scatter",
                                    "x": [
                                        0,
                                        16000040
                                    ],
                                    "xaxis": "x6",
                                    "y": [
                                        0,
                                        0
                                    ],
                                    "yaxis": "y6"
                                },
                                {
                                    "line": {
                                        "shape": "hv"
                                    },
                                    "mode": "lines",
                                    "name": "D6",
                                    "type": "scatter",
                                    "x": [
                                        0,
                                        16000040
                                    ],
                                    "xaxis": "x7",
                                    "y": [
                                        0,
                                        0
                                    ],
                                    "yaxis": "y7"
                                },
                                {
                                    "line": {
                                        "color": "black",
                                        "shape": "hv"
                                    },
                                    "mode": "lines",
                                    "name": "A0",
                                    "type": "scatter",
                                    "x": [
                                        0,
                                        16000040
                                    ],
                                    "xaxis": "x8",
                                    "y": [
                                        0,
                                        0
                                    ],
                                    "yaxis": "y8"
                                },
                                {
                                    "line": {
                                        "color": "black",
                                        "shape": "hv"
                                    },
                                    "mode": "lines",
                                    "name": "A1",
                                    "type": "scatter",
                                    "x": [
                                        0,
                                        16000040
                                    ],
                                    "xaxis": "x9",
                                    "y": [
                                        0,
                                        0
                                    ],
                                    "yaxis": "y9"
                                }
                            ],
                            "layout": {
                                "height": 550,
                                "margin": {
                                    "b": 40,
                                    "l": 50,
                                    "r": 50,
                                    "t": 40
                                },
                                "showlegend": false,
                                "template": {
                                    "data": {
                                        "bar": [
                                            {
                                                "error_x": {
                                                    "color": "#2a3f5f"
                                                },
                                                "error_y": {
                                                    "color": "#2a3f5f"
                                                },
                                                "marker": {
                                                    "line": {
                                                        "color": "#E5ECF6",
                                                        "width": 0.5
                                                    },
                                                    "pattern": {
                                                        "fillmode": "overlay",
                                                        "size": 10,
                                                        "solidity": 0.2
                                                    }
                                                },
                                                "type": "bar"
                                            }
                                        ],
                                        "barpolar": [
                                            {
                                                "marker": {
                                                    "line": {
                                                        "color": "#E5ECF6",
                                                        "width": 0.5
                                                    },
                                                    "pattern": {
                                                        "fillmode": "overlay",
                                                        "size": 10,
                                                        "solidity": 0.2
                                                    }
                                                },
                                                "type": "barpolar"
                                            }
                                        ],
                                        "carpet": [
                                            {
                                                "aaxis": {
                                                    "endlinecolor": "#2a3f5f",
                                                    "gridcolor": "white",
                                                    "linecolor": "white",
                                                    "minorgridcolor": "white",
                                                    "startlinecolor": "#2a3f5f"
                                                },
                                                "baxis": {
                                                    "endlinecolor": "#2a3f5f",
                                                    "gridcolor": "white",
                                                    "linecolor": "white",
                                                    "minorgridcolor": "white",
                                                    "startlinecolor": "#2a3f5f"
                                                },
                                                "type": "carpet"
                                            }
                                        ],
                                        "choropleth": [
                                            {
                                                "colorbar": {
                                                    "outlinewidth": 0,
                                                    "ticks": ""
                                                },
                                                "type": "choropleth"
                                            }
                                        ],
                                        "contour": [
                                            {
                                                "colorbar": {
                                                    "outlinewidth": 0,
                                                    "ticks": ""
                                                },
                                                "colorscale": [
                                                    [
                                                        0,
                                                        "#0d0887"
                                                    ],
                                                    [
                                                        0.1111111111111111,
                                                        "#46039f"
                                                    ],
                                                    [
                                                        0.2222222222222222,
                                                        "#7201a8"
                                                    ],
                                                    [
                                                        0.3333333333333333,
                                                        "#9c179e"
                                                    ],
                                                    [
                                                        0.4444444444444444,
                                                        "#bd3786"
                                                    ],
                                                    [
                                                        0.5555555555555556,
                                                        "#d8576b"
                                                    ],
                                                    [
                                                        0.6666666666666666,
                                                        "#ed7953"
                                                    ],
                                                    [
                                                        0.7777777777777778,
                                                        "#fb9f3a"
                                                    ],
                                                    [
                                                        0.8888888888888888,
                                                        "#fdca26"
                                                    ],
                                                    [
                                                        1,
                                                        "#f0f921"
                                                    ]
                                                ],
                                                "type": "contour"
                                            }
                                        ],
                                        "contourcarpet": [
                                            {
                                                "colorbar": {
                                                    "outlinewidth": 0,
                                                    "ticks": ""
                                                },
                                                "type": "contourcarpet"
                                            }
                                        ],
                                        "heatmap": [
                                            {
                                                "colorbar": {
                                                    "outlinewidth": 0,
                                                    "ticks": ""
                                                },
                                                "colorscale": [
                                                    [
                                                        0,
                                                        "#0d0887"
                                                    ],
                                                    [
                                                        0.1111111111111111,
                                                        "#46039f"
                                                    ],
                                                    [
                                                        0.2222222222222222,
                                                        "#7201a8"
                                                    ],
                                                    [
                                                        0.3333333333333333,
                                                        "#9c179e"
                                                    ],
                                                    [
                                                        0.4444444444444444,
                                                        "#bd3786"
                                                    ],
                                                    [
                                                        0.5555555555555556,
                                                        "#d8576b"
                                                    ],
                                                    [
                                                        0.6666666666666666,
                                                        "#ed7953"
                                                    ],
                                                    [
                                                        0.7777777777777778,
                                                        "#fb9f3a"
                                                    ],
                                                    [
                                                        0.8888888888888888,
                                                        "#fdca26"
                                                    ],
                                                    [
                                                        1,
                                                        "#f0f921"
                                                    ]
                                                ],
                                                "type": "heatmap"
                                            }
                                        ],
                                        "heatmapgl": [
                                            {
                                                "colorbar": {
                                                    "outlinewidth": 0,
                                                    "ticks": ""
                                                },
                                                "colorscale": [
                                                    [
                                                        0,
                                                        "#0d0887"
                                                    ],
                                                    [
                                                        0.1111111111111111,
                                                        "#46039f"
                                                    ],
                                                    [
                                                        0.2222222222222222,
                                                        "#7201a8"
                                                    ],
                                                    [
                                                        0.3333333333333333,
                                                        "#9c179e"
                                                    ],
                                                    [
                                                        0.4444444444444444,
                                                        "#bd3786"
                                                    ],
                                                    [
                                                        0.5555555555555556,
                                                        "#d8576b"
                                                    ],
                                                    [
                                                        0.6666666666666666,
                                                        "#ed7953"
                                                    ],
                                                    [
                                                        0.7777777777777778,
                                                        "#fb9f3a"
                                                    ],
                                                    [
                                                        0.8888888888888888,
                                                        "#fdca26"
                                                    ],
                                                    [
                                                        1,
                                                        "#f0f921"
                                                    ]
                                                ],
                                                "type": "heatmapgl"
                                            }
                                        ],
                                        "histogram": [
                                            {
                                                "marker": {
                                                    "pattern": {
                                                        "fillmode": "overlay",
                                                        "size": 10,
                                                        "solidity": 0.2
                                                    }
                                                },
                                                "type": "histogram"
                                            }
                                        ],
                                        "histogram2d": [
                                            {
                                                "colorbar": {
                                                    "outlinewidth": 0,
                                                    "ticks": ""
                                                },
                                                "colorscale": [
                                                    [
                                                        0,
                                                        "#0d0887"
                                                    ],
                                                    [
                                                        0.1111111111111111,
                                                        "#46039f"
                                                    ],
                                                    [
                                                        0.2222222222222222,
                                                        "#7201a8"
                                                    ],
                                                    [
                                                        0.3333333333333333,
                                                        "#9c179e"
                                                    ],
                                                    [
                                                        0.4444444444444444,
                                                        "#bd3786"
                                                    ],
                                                    [
                                                        0.5555555555555556,
                                                        "#d8576b"
                                                    ],
                                                    [
                                                        0.6666666666666666,
                                                        "#ed7953"
                                                    ],
                                                    [
                                                        0.7777777777777778,
                                                        "#fb9f3a"
                                                    ],
                                                    [
                                                        0.8888888888888888,
                                                        "#fdca26"
                                                    ],
                                                    [
                                                        1,
                                                        "#f0f921"
                                                    ]
                                                ],
                                                "type": "histogram2d"
                                            }
                                        ],
                                        "histogram2dcontour": [
                                            {
                                                "colorbar": {
                                                    "outlinewidth": 0,
                                                    "ticks": ""
                                                },
                                                "colorscale": [
                                                    [
                                                        0,
                                                        "#0d0887"
                                                    ],
                                                    [
                                                        0.1111111111111111,
                                                        "#46039f"
                                                    ],
                                                    [
                                                        0.2222222222222222,
                                                        "#7201a8"
                                                    ],
                                                    [
                                                        0.3333333333333333,
                                                        "#9c179e"
                                                    ],
                                                    [
                                                        0.4444444444444444,
                                                        "#bd3786"
                                                    ],
                                                    [
                                                        0.5555555555555556,
                                                        "#d8576b"
                                                    ],
                                                    [
                                                        0.6666666666666666,
                                                        "#ed7953"
                                                    ],
                                                    [
                                                        0.7777777777777778,
                                                        "#fb9f3a"
                                                    ],
                                                    [
                                                        0.8888888888888888,
                                                        "#fdca26"
                                                    ],
                                                    [
                                                        1,
                                                        "#f0f921"
                                                    ]
                                                ],
                                                "type": "histogram2dcontour"
                                            }
                                        ],
                                        "mesh3d": [
                                            {
                                                "colorbar": {
                                                    "outlinewidth": 0,
                                                    "ticks": ""
                                                },
                                                "type": "mesh3d"
                                            }
                                        ],
                                        "parcoords": [
                                            {
                                                "line": {
                                                    "colorbar": {
                                                        "outlinewidth": 0,
                                                        "ticks": ""
                                                    }
                                                },
                                                "type": "parcoords"
                                            }
                                        ],
                                        "pie": [
                                            {
                                                "automargin": true,
                                                "type": "pie"
                                            }
                                        ],
                                        "scatter": [
                                            {
                                                "fillpattern": {
                                                    "fillmode": "overlay",
                                                    "size": 10,
                                                    "solidity": 0.2
                                                },
                                                "type": "scatter"
                                            }
                                        ],
                                        "scatter3d": [
                                            {
                                                "line": {
                                                    "colorbar": {
                                                        "outlinewidth": 0,
                                                        "ticks": ""
                                                    }
                                                },
                                                "marker": {
                                                    "colorbar": {
                                                        "outlinewidth": 0,
                                                        "ticks": ""
                                                    }
                                                },
                                                "type": "scatter3d"
                                            }
                                        ],
                                        "scattercarpet": [
                                            {
                                                "marker": {
                                                    "colorbar": {
                                                        "outlinewidth": 0,
                                                        "ticks": ""
                                                    }
                                                },
                                                "type": "scattercarpet"
                                            }
                                        ],
                                        "scattergeo": [
                                            {
                                                "marker": {
                                                    "colorbar": {
                                                        "outlinewidth": 0,
                                                        "ticks": ""
                                                    }
                                                },
                                                "type": "scattergeo"
                                            }
                                        ],
                                        "scattergl": [
                                            {
                                                "marker": {
                                                    "colorbar": {
                                                        "outlinewidth": 0,
                                                        "ticks": ""
                                                    }
                                                },
                                                "type": "scattergl"
                                            }
                                        ],
                                        "scattermapbox": [
                                            {
                                                "marker": {
                                                    "colorbar": {
                                                        "outlinewidth": 0,
                                                        "ticks": ""
                                                    }
                                                },
                                                "type": "scattermapbox"
                                            }
                                        ],
                                        "scatterpolar": [
                                            {
                                                "marker": {
                                                    "colorbar": {
                                                        "outlinewidth": 0,
                                                        "ticks": ""
                                                    }
                                                },
                                                "type": "scatterpolar"
                                            }
                                        ],
                                        "scatterpolargl": [
                                            {
                                                "marker": {
                                                    "colorbar": {
                                                        "outlinewidth": 0,
                                                        "ticks": ""
                                                    }
                                                },
                                                "type": "scatterpolargl"
                                            }
                                        ],
                                        "scatterternary": [
                                            {
                                                "marker": {
                                                    "colorbar": {
                                                        "outlinewidth": 0,
                                                        "ticks": ""
                                                    }
                                                },
                                                "type": "scatterternary"
                                            }
                                        ],
                                        "surface": [
                                            {
                                                "colorbar": {
                                                    "outlinewidth": 0,
                                                    "ticks": ""
                                                },
                                                "colorscale": [
                                                    [
                                                        0,
                                                        "#0d0887"
                                                    ],
                                                    [
                                                        0.1111111111111111,
                                                        "#46039f"
                                                    ],
                                                    [
                                                        0.2222222222222222,
                                                        "#7201a8"
                                                    ],
                                                    [
                                                        0.3333333333333333,
                                                        "#9c179e"
                                                    ],
                                                    [
                                                        0.4444444444444444,
                                                        "#bd3786"
                                                    ],
                                                    [
                                                        0.5555555555555556,
                                                        "#d8576b"
                                                    ],
                                                    [
                                                        0.6666666666666666,
                                                        "#ed7953"
                                                    ],
                                                    [
                                                        0.7777777777777778,
                                                        "#fb9f3a"
                                                    ],
                                                    [
                                                        0.8888888888888888,
                                                        "#fdca26"
                                                    ],
                                                    [
                                                        1,
                                                        "#f0f921"
                                                    ]
                                                ],
                                                "type": "surface"
                                            }
                                        ],
                                        "table": [
                                            {
                                                "cells": {
                                                    "fill": {
                                                        "color": "#EBF0F8"
                                                    },
                                                    "line": {
                                                        "color": "white"
                                                    }
                                                },
                                                "header": {
                                                    "fill": {
                                                        "color": "#C8D4E3"
                                                    },
                                                    "line": {
                                                        "color": "white"
                                                    }
                                                },
                                                "type": "table"
                                            }
                                        ]
                                    },
                                    "layout": {
                                        "annotationdefaults": {
                                            "arrowcolor": "#2a3f5f",
                                            "arrowhead": 0,
                                            "arrowwidth": 1
                                        },
                                        "autotypenumbers": "strict",
                                        "coloraxis": {
                                            "colorbar": {
                                                "outlinewidth": 0,
                                                "ticks": ""
                                            }
                                        },
                                        "colorscale": {
                                            "diverging": [
                                                [
                                                    0,
                                                    "#8e0152"
                                                ],
                                                [
                                                    0.1,
                                                    "#c51b7d"
                                                ],
                                                [
                                                    0.2,
                                                    "#de77ae"
                                                ],
                                                [
                                                    0.3,
                                                    "#f1b6da"
                                                ],
                                                [
                                                    0.4,
                                                    "#fde0ef"
                                                ],
                                                [
                                                    0.5,
                                                    "#f7f7f7"
                                                ],
                                                [
                                                    0.6,
                                                    "#e6f5d0"
                                                ],
                                                [
                                                    0.7,
                                                    "#b8e186"
                                                ],
                                                [
                                                    0.8,
                                                    "#7fbc41"
                                                ],
                                                [
                                                    0.9,
                                                    "#4d9221"
                                                ],
                                                [
                                                    1,
                                                    "#276419"
                                                ]
                                            ],
                                            "sequential": [
                                                [
                                                    0,
                                                    "#0d0887"
                                                ],
                                                [
                                                    0.1111111111111111,
                                                    "#46039f"
                                                ],
                                                [
                                                    0.2222222222222222,
                                                    "#7201a8"
                                                ],
                                                [
                                                    0.3333333333333333,
                                                    "#9c179e"
                                                ],
                                                [
                                                    0.4444444444444444,
                                                    "#bd3786"
                                                ],
                                                [
                                                    0.5555555555555556,
                                                    "#d8576b"
                                                ],
                                                [
                                                    0.6666666666666666,
                                                    "#ed7953"
                                                ],
                                                [
                                                    0.7777777777777778,
                                                    "#fb9f3a"
                                                ],
                                                [
                                                    0.8888888888888888,
                                                    "#fdca26"
                                                ],
                                                [
                                                    1,
                                                    "#f0f921"
                                                ]
                                            ],
                                            "sequentialminus": [
                                                [
                                                    0,
                                                    "#0d0887"
                                                ],
                                                [
                                                    0.1111111111111111,
                                                    "#46039f"
                                                ],
                                                [
                                                    0.2222222222222222,
                                                    "#7201a8"
                                                ],
                                                [
                                                    0.3333333333333333,
                                                    "#9c179e"
                                                ],
                                                [
                                                    0.4444444444444444,
                                                    "#bd3786"
                                                ],
                                                [
                                                    0.5555555555555556,
                                                    "#d8576b"
                                                ],
                                                [
                                                    0.6666666666666666,
                                                    "#ed7953"
                                                ],
                                                [
                                                    0.7777777777777778,
                                                    "#fb9f3a"
                                                ],
                                                [
                                                    0.8888888888888888,
                                                    "#fdca26"
                                                ],
                                                [
                                                    1,
                                                    "#f0f921"
                                                ]
                                            ]
                                        },
                                        "colorway": [
                                            "#636efa",
                                            "#EF553B",
                                            "#00cc96",
                                            "#ab63fa",
                                            "#FFA15A",
                                            "#19d3f3",
                                            "#FF6692",
                                            "#B6E880",
                                            "#FF97FF",
                                            "#FECB52"
                                        ],
                                        "font": {
                                            "color": "#2a3f5f"
                                        },
                                        "geo": {
                                            "bgcolor": "white",
                                            "lakecolor": "white",
                                            "landcolor": "#E5ECF6",
                                            "showlakes": true,
                                            "showland": true,
                                            "subunitcolor": "white"
                                        },
                                        "hoverlabel": {
                                            "align": "left"
                                        },
                                        "hovermode": "closest",
                                        "mapbox": {
                                            "style": "light"
                                        },
                                        "paper_bgcolor": "white",
                                        "plot_bgcolor": "#E5ECF6",
                                        "polar": {
                                            "angularaxis": {
                                                "gridcolor": "white",
                                                "linecolor": "white",
                                                "ticks": ""
                                            },
                                            "bgcolor": "#E5ECF6",
                                            "radialaxis": {
                                                "gridcolor": "white",
                                                "linecolor": "white",
                                                "ticks": ""
                                            }
                                        },
                                        "scene": {
                                            "xaxis": {
                                                "backgroundcolor": "#E5ECF6",
                                                "gridcolor": "white",
                                                "gridwidth": 2,
                                                "linecolor": "white",
                                                "showbackground": true,
                                                "ticks": "",
                                                "zerolinecolor": "white"
                                            },
                                            "yaxis": {
                                                "backgroundcolor": "#E5ECF6",
                                                "gridcolor": "white",
                                                "gridwidth": 2,
                                                "linecolor": "white",
                                                "showbackground": true,
                                                "ticks": "",
                                                "zerolinecolor": "white"
                                            },
                                            "zaxis": {
                                                "backgroundcolor": "#E5ECF6",
                                                "gridcolor": "white",
                                                "gridwidth": 2,
                                                "linecolor": "white",
                                                "showbackground": true,
                                                "ticks": "",
                                                "zerolinecolor": "white"
                                            }
                                        },
                                        "shapedefaults": {
                                            "line": {
                                                "color": "#2a3f5f"
                                            }
                                        },
                                        "ternary": {
                                            "aaxis": {
                                                "gridcolor": "white",
                                                "linecolor": "white",
                                                "ticks": ""
                                            },
                                            "baxis": {
                                                "gridcolor": "white",
                                                "linecolor": "white",
                                                "ticks": ""
                                            },
                                            "bgcolor": "#E5ECF6",
                                            "caxis": {
                                                "gridcolor": "white",
                                                "linecolor": "white",
                                                "ticks": ""
                                            }
                                        },
                                        "title": {
                                            "x": 0.05
                                        },
                                        "xaxis": {
                                            "automargin": true,
                                            "gridcolor": "white",
                                            "linecolor": "white",
                                            "ticks": "",
                                            "title": {
                                                "standoff": 15
                                            },
                                            "zerolinecolor": "white",
                                            "zerolinewidth": 2
                                        },
                                        "yaxis": {
                                            "automargin": true,
                                            "gridcolor": "white",
                                            "linecolor": "white",
                                            "ticks": "",
                                            "title": {
                                                "standoff": 15
                                            },
                                            "zerolinecolor": "white",
                                            "zerolinewidth": 2
                                        }
                                    }
                                },
                                "title": {
                                    "text": "Sequence"
                                },
                                "width": 600,
                                "xaxis": {
                                    "anchor": "y",
                                    "domain": [
                                        0,
                                        1
                                    ],
                                    "matches": "x9",
                                    "showticklabels": false
                                },
                                "xaxis2": {
                                    "anchor": "y2",
                                    "domain": [
                                        0,
                                        1
                                    ],
                                    "matches": "x9",
                                    "showticklabels": false
                                },
                                "xaxis3": {
                                    "anchor": "y3",
                                    "domain": [
                                        0,
                                        1
                                    ],
                                    "matches": "x9",
                                    "showticklabels": false
                                },
                                "xaxis4": {
                                    "anchor": "y4",
                                    "domain": [
                                        0,
                                        1
                                    ],
                                    "matches": "x9",
                                    "showticklabels": false
                                },
                                "xaxis5": {
                                    "anchor": "y5",
                                    "domain": [
                                        0,
                                        1
                                    ],
                                    "matches": "x9",
                                    "showticklabels": false
                                },
                                "xaxis6": {
                                    "anchor": "y6",
                                    "domain": [
                                        0,
                                        1
                                    ],
                                    "matches": "x9",
                                    "showticklabels": false
                                },
                                "xaxis7": {
                                    "anchor": "y7",
                                    "domain": [
                                        0,
                                        1
                                    ],
                                    "matches": "x9",
                                    "showticklabels": false
                                },
                                "xaxis8": {
                                    "anchor": "y8",
                                    "domain": [
                                        0,
                                        1
                                    ],
                                    "matches": "x9",
                                    "showticklabels": false
                                },
                                "xaxis9": {
                                    "anchor": "y9",
                                    "domain": [
                                        0,
                                        1
                                    ],
                                    "title": {
                                        "text": "time/ns"
                                    }
                                },
                                "yaxis": {
                                    "anchor": "x",
                                    "domain": [
                                        0.9066666666666666,
                                        1
                                    ],
                                    "range": [
                                        -0.4,
                                        1.4
                                    ],
                                    "showticklabels": false,
                                    "title": {
                                        "text": "D0<br>laser"
                                    }
                                },
                                "yaxis2": {
                                    "anchor": "x2",
                                    "domain": [
                                        0.7933333333333333,
                                        0.8866666666666667
                                    ],
                                    "range": [
                                        -0.4,
                                        1.4
                                    ],
                                    "showticklabels": false,
                                    "title": {
                                        "text": "D1<br>dclk"
                                    }
                                },
                                "yaxis3": {
                                    "anchor": "x3",
                                    "domain": [
                                        0.6799999999999999,
                                        0.7733333333333332
                                    ],
                                    "range": [
                                        -0.4,
                                        1.4
                                    ],
                                    "showticklabels": false,
                                    "title": {
                                        "text": "D2<br>dtrig"
                                    }
                                },
                                "yaxis4": {
                                    "anchor": "x4",
                                    "domain": [
                                        0.5666666666666667,
                                        0.6599999999999999
                                    ],
                                    "range": [
                                        -0.4,
                                        1.4
                                    ],
                                    "showticklabels": false,
                                    "title": {
                                        "text": "D3<br>sdtrig"
                                    }
                                },
                                "yaxis5": {
                                    "anchor": "x5",
                                    "domain": [
                                        0.4533333333333333,
                                        0.5466666666666666
                                    ],
                                    "range": [
                                        -0.4,
                                        1.4
                                    ],
                                    "showticklabels": false,
                                    "title": {
                                        "text": "D4<br>mwA"
                                    }
                                },
                                "yaxis6": {
                                    "anchor": "x6",
                                    "domain": [
                                        0.33999999999999997,
                                        0.4333333333333333
                                    ],
                                    "range": [
                                        -0.4,
                                        1.4
                                    ],
                                    "showticklabels": false,
                                    "title": {
                                        "text": "D5<br>mwB"
                                    }
                                },
                                "yaxis7": {
                                    "anchor": "x7",
                                    "domain": [
                                        0.22666666666666666,
                                        0.31999999999999995
                                    ],
                                    "range": [
                                        -0.4,
                                        1.4
                                    ],
                                    "showticklabels": false,
                                    "title": {
                                        "text": "D6<br>rftrig"
                                    }
                                },
                                "yaxis8": {
                                    "anchor": "x8",
                                    "domain": [
                                        0.11333333333333333,
                                        0.20666666666666667
                                    ],
                                    "range": [
                                        -1.5,
                                        1.5
                                    ],
                                    "tickfont": {
                                        "size": 6
                                    },
                                    "title": {
                                        "text": "A0<br>Bz"
                                    }
                                },
                                "yaxis9": {
                                    "anchor": "x9",
                                    "domain": [
                                        0,
                                        0.09333333333333332
                                    ],
                                    "range": [
                                        -1.5,
                                        1.5
                                    ],
                                    "tickfont": {
                                        "size": 6
                                    },
                                    "title": {
                                        "text": "A1<br>Bx"
                                    }
                                }
                            }
                        }
                    },
                    "metadata": {},
                    "output_type": "display_data"
                }
            ],
            "source": [
                "dur_pt = 16E6 # duration of each frequency point\n",
                "dig_trig_len=20\n",
                "divpart_pt = 2\n",
                "clock_rate = 500E-6 #GHz\n",
                "daqtrig_delay = 1/clock_rate #delay\n",
                "seq_daqtrig = [(dur_pt/2.0, HIGH), (dur_pt/2.0, LOW)]\n",
                "seq_laser = [(dur_pt, HIGH)]\n",
                "seq_mwA = [(dur_pt/2.0/divpart_pt, HIGH), (dur_pt/2.0/divpart_pt, LOW)]*divpart_pt\n",
                "seq_clock = [(0.5/clock_rate, HIGH),(0.5/clock_rate, LOW)]*int(dur_pt*clock_rate)\n",
                "# seq_dig= [(dur_pt/2.0/divpart_pt, LOW), (dig_trig_len,HIGH),(dur_pt/2.0/divpart_pt/2-2*dig_trig_len, LOW),(dig_trig_len,HIGH),(dur_pt/2.0/divpart_pt/2-2*dig_trig_len, LOW)]*divpart_pt\n",
                "seq_dig= [(dig_trig_len,HIGH), (dur_pt/2.0/divpart_pt-dig_trig_len, LOW),(dig_trig_len,LOW),(dig_trig_len,HIGH), (dur_pt/2.0/divpart_pt-dig_trig_len, LOW)]*divpart_pt\n",
                "\n",
                "pg.setDigital(\"laser\", seq_laser)\n",
                "pg.setDigital(\"mwA\", seq_mwA)\n",
                "pg.setDigital('sdtrig',seq_dig)\n",
                "# pg.setDigital(\"laser\", seq_mwA)\n",
                "# pg.setDigital(\"mw_A\", seq_laser)\n",
                "# pg.setDigital(\"dtrig\", seq_daqtrig)\n",
                "# pg.setDigital(\"dclk\", seq_clock)\n",
                "pg.setTrigger(start=TriggerStart.SOFTWARE, rearm=TriggerRearm.MANUAL)\n",
                "pg.plotSeq(plot_all=False)"
            ]
        },
        {
            "cell_type": "code",
            "execution_count": 8,
            "metadata": {},
            "outputs": [
                {
                    "data": {
                        "application/vnd.plotly.v1+json": {
                            "config": {
                                "plotlyServerURL": "https://plot.ly"
                            },
                            "data": [
                                {
                                    "line": {
                                        "shape": "hv"
                                    },
                                    "mode": "lines",
                                    "name": "D0",
                                    "type": "scatter",
                                    "x": [
                                        0,
                                        4000000,
                                        16000040
                                    ],
                                    "xaxis": "x",
                                    "y": [
                                        1,
                                        1,
                                        1
                                    ],
                                    "yaxis": "y"
                                },
                                {
                                    "line": {
                                        "shape": "hv"
                                    },
                                    "mode": "lines",
                                    "name": "D1",
                                    "type": "scatter",
                                    "x": [
                                        0,
                                        16000040
                                    ],
                                    "xaxis": "x2",
                                    "y": [
                                        0,
                                        0
                                    ],
                                    "yaxis": "y2"
                                },
                                {
                                    "line": {
                                        "shape": "hv"
                                    },
                                    "mode": "lines",
                                    "name": "D2",
                                    "type": "scatter",
                                    "x": [
                                        0,
                                        16000040
                                    ],
                                    "xaxis": "x3",
                                    "y": [
                                        0,
                                        0
                                    ],
                                    "yaxis": "y3"
                                },
                                {
                                    "line": {
                                        "shape": "hv"
                                    },
                                    "mode": "lines",
                                    "name": "D3",
                                    "type": "scatter",
                                    "x": [
                                        0,
                                        20,
                                        4000000,
                                        4000020,
                                        4000040,
                                        8000020,
                                        8000040,
                                        12000020,
                                        12000040,
                                        12000060,
                                        16000040
                                    ],
                                    "xaxis": "x4",
                                    "y": [
                                        1,
                                        0,
                                        0,
                                        1,
                                        0,
                                        1,
                                        0,
                                        0,
                                        1,
                                        0,
                                        0
                                    ],
                                    "yaxis": "y4"
                                },
                                {
                                    "line": {
                                        "shape": "hv"
                                    },
                                    "mode": "lines",
                                    "name": "D4",
                                    "type": "scatter",
                                    "x": [
                                        0,
                                        4000000,
                                        8000000,
                                        12000000,
                                        16000000,
                                        16000040
                                    ],
                                    "xaxis": "x5",
                                    "y": [
                                        1,
                                        0,
                                        1,
                                        0,
                                        0,
                                        0
                                    ],
                                    "yaxis": "y5"
                                },
                                {
                                    "line": {
                                        "shape": "hv"
                                    },
                                    "mode": "lines",
                                    "name": "D5",
                                    "type": "scatter",
                                    "x": [
                                        0,
                                        16000040
                                    ],
                                    "xaxis": "x6",
                                    "y": [
                                        0,
                                        0
                                    ],
                                    "yaxis": "y6"
                                },
                                {
                                    "line": {
                                        "shape": "hv"
                                    },
                                    "mode": "lines",
                                    "name": "D6",
                                    "type": "scatter",
                                    "x": [
                                        0,
                                        16000040
                                    ],
                                    "xaxis": "x7",
                                    "y": [
                                        0,
                                        0
                                    ],
                                    "yaxis": "y7"
                                },
                                {
                                    "line": {
                                        "color": "black",
                                        "shape": "hv"
                                    },
                                    "mode": "lines",
                                    "name": "A0",
                                    "type": "scatter",
                                    "x": [
                                        0,
                                        16000040
                                    ],
                                    "xaxis": "x8",
                                    "y": [
                                        0,
                                        0
                                    ],
                                    "yaxis": "y8"
                                },
                                {
                                    "line": {
                                        "color": "black",
                                        "shape": "hv"
                                    },
                                    "mode": "lines",
                                    "name": "A1",
                                    "type": "scatter",
                                    "x": [
                                        0,
                                        16000040
                                    ],
                                    "xaxis": "x9",
                                    "y": [
                                        0,
                                        0
                                    ],
                                    "yaxis": "y9"
                                }
                            ],
                            "layout": {
                                "height": 550,
                                "margin": {
                                    "b": 40,
                                    "l": 50,
                                    "r": 50,
                                    "t": 40
                                },
                                "showlegend": false,
                                "template": {
                                    "data": {
                                        "bar": [
                                            {
                                                "error_x": {
                                                    "color": "#2a3f5f"
                                                },
                                                "error_y": {
                                                    "color": "#2a3f5f"
                                                },
                                                "marker": {
                                                    "line": {
                                                        "color": "#E5ECF6",
                                                        "width": 0.5
                                                    },
                                                    "pattern": {
                                                        "fillmode": "overlay",
                                                        "size": 10,
                                                        "solidity": 0.2
                                                    }
                                                },
                                                "type": "bar"
                                            }
                                        ],
                                        "barpolar": [
                                            {
                                                "marker": {
                                                    "line": {
                                                        "color": "#E5ECF6",
                                                        "width": 0.5
                                                    },
                                                    "pattern": {
                                                        "fillmode": "overlay",
                                                        "size": 10,
                                                        "solidity": 0.2
                                                    }
                                                },
                                                "type": "barpolar"
                                            }
                                        ],
                                        "carpet": [
                                            {
                                                "aaxis": {
                                                    "endlinecolor": "#2a3f5f",
                                                    "gridcolor": "white",
                                                    "linecolor": "white",
                                                    "minorgridcolor": "white",
                                                    "startlinecolor": "#2a3f5f"
                                                },
                                                "baxis": {
                                                    "endlinecolor": "#2a3f5f",
                                                    "gridcolor": "white",
                                                    "linecolor": "white",
                                                    "minorgridcolor": "white",
                                                    "startlinecolor": "#2a3f5f"
                                                },
                                                "type": "carpet"
                                            }
                                        ],
                                        "choropleth": [
                                            {
                                                "colorbar": {
                                                    "outlinewidth": 0,
                                                    "ticks": ""
                                                },
                                                "type": "choropleth"
                                            }
                                        ],
                                        "contour": [
                                            {
                                                "colorbar": {
                                                    "outlinewidth": 0,
                                                    "ticks": ""
                                                },
                                                "colorscale": [
                                                    [
                                                        0,
                                                        "#0d0887"
                                                    ],
                                                    [
                                                        0.1111111111111111,
                                                        "#46039f"
                                                    ],
                                                    [
                                                        0.2222222222222222,
                                                        "#7201a8"
                                                    ],
                                                    [
                                                        0.3333333333333333,
                                                        "#9c179e"
                                                    ],
                                                    [
                                                        0.4444444444444444,
                                                        "#bd3786"
                                                    ],
                                                    [
                                                        0.5555555555555556,
                                                        "#d8576b"
                                                    ],
                                                    [
                                                        0.6666666666666666,
                                                        "#ed7953"
                                                    ],
                                                    [
                                                        0.7777777777777778,
                                                        "#fb9f3a"
                                                    ],
                                                    [
                                                        0.8888888888888888,
                                                        "#fdca26"
                                                    ],
                                                    [
                                                        1,
                                                        "#f0f921"
                                                    ]
                                                ],
                                                "type": "contour"
                                            }
                                        ],
                                        "contourcarpet": [
                                            {
                                                "colorbar": {
                                                    "outlinewidth": 0,
                                                    "ticks": ""
                                                },
                                                "type": "contourcarpet"
                                            }
                                        ],
                                        "heatmap": [
                                            {
                                                "colorbar": {
                                                    "outlinewidth": 0,
                                                    "ticks": ""
                                                },
                                                "colorscale": [
                                                    [
                                                        0,
                                                        "#0d0887"
                                                    ],
                                                    [
                                                        0.1111111111111111,
                                                        "#46039f"
                                                    ],
                                                    [
                                                        0.2222222222222222,
                                                        "#7201a8"
                                                    ],
                                                    [
                                                        0.3333333333333333,
                                                        "#9c179e"
                                                    ],
                                                    [
                                                        0.4444444444444444,
                                                        "#bd3786"
                                                    ],
                                                    [
                                                        0.5555555555555556,
                                                        "#d8576b"
                                                    ],
                                                    [
                                                        0.6666666666666666,
                                                        "#ed7953"
                                                    ],
                                                    [
                                                        0.7777777777777778,
                                                        "#fb9f3a"
                                                    ],
                                                    [
                                                        0.8888888888888888,
                                                        "#fdca26"
                                                    ],
                                                    [
                                                        1,
                                                        "#f0f921"
                                                    ]
                                                ],
                                                "type": "heatmap"
                                            }
                                        ],
                                        "heatmapgl": [
                                            {
                                                "colorbar": {
                                                    "outlinewidth": 0,
                                                    "ticks": ""
                                                },
                                                "colorscale": [
                                                    [
                                                        0,
                                                        "#0d0887"
                                                    ],
                                                    [
                                                        0.1111111111111111,
                                                        "#46039f"
                                                    ],
                                                    [
                                                        0.2222222222222222,
                                                        "#7201a8"
                                                    ],
                                                    [
                                                        0.3333333333333333,
                                                        "#9c179e"
                                                    ],
                                                    [
                                                        0.4444444444444444,
                                                        "#bd3786"
                                                    ],
                                                    [
                                                        0.5555555555555556,
                                                        "#d8576b"
                                                    ],
                                                    [
                                                        0.6666666666666666,
                                                        "#ed7953"
                                                    ],
                                                    [
                                                        0.7777777777777778,
                                                        "#fb9f3a"
                                                    ],
                                                    [
                                                        0.8888888888888888,
                                                        "#fdca26"
                                                    ],
                                                    [
                                                        1,
                                                        "#f0f921"
                                                    ]
                                                ],
                                                "type": "heatmapgl"
                                            }
                                        ],
                                        "histogram": [
                                            {
                                                "marker": {
                                                    "pattern": {
                                                        "fillmode": "overlay",
                                                        "size": 10,
                                                        "solidity": 0.2
                                                    }
                                                },
                                                "type": "histogram"
                                            }
                                        ],
                                        "histogram2d": [
                                            {
                                                "colorbar": {
                                                    "outlinewidth": 0,
                                                    "ticks": ""
                                                },
                                                "colorscale": [
                                                    [
                                                        0,
                                                        "#0d0887"
                                                    ],
                                                    [
                                                        0.1111111111111111,
                                                        "#46039f"
                                                    ],
                                                    [
                                                        0.2222222222222222,
                                                        "#7201a8"
                                                    ],
                                                    [
                                                        0.3333333333333333,
                                                        "#9c179e"
                                                    ],
                                                    [
                                                        0.4444444444444444,
                                                        "#bd3786"
                                                    ],
                                                    [
                                                        0.5555555555555556,
                                                        "#d8576b"
                                                    ],
                                                    [
                                                        0.6666666666666666,
                                                        "#ed7953"
                                                    ],
                                                    [
                                                        0.7777777777777778,
                                                        "#fb9f3a"
                                                    ],
                                                    [
                                                        0.8888888888888888,
                                                        "#fdca26"
                                                    ],
                                                    [
                                                        1,
                                                        "#f0f921"
                                                    ]
                                                ],
                                                "type": "histogram2d"
                                            }
                                        ],
                                        "histogram2dcontour": [
                                            {
                                                "colorbar": {
                                                    "outlinewidth": 0,
                                                    "ticks": ""
                                                },
                                                "colorscale": [
                                                    [
                                                        0,
                                                        "#0d0887"
                                                    ],
                                                    [
                                                        0.1111111111111111,
                                                        "#46039f"
                                                    ],
                                                    [
                                                        0.2222222222222222,
                                                        "#7201a8"
                                                    ],
                                                    [
                                                        0.3333333333333333,
                                                        "#9c179e"
                                                    ],
                                                    [
                                                        0.4444444444444444,
                                                        "#bd3786"
                                                    ],
                                                    [
                                                        0.5555555555555556,
                                                        "#d8576b"
                                                    ],
                                                    [
                                                        0.6666666666666666,
                                                        "#ed7953"
                                                    ],
                                                    [
                                                        0.7777777777777778,
                                                        "#fb9f3a"
                                                    ],
                                                    [
                                                        0.8888888888888888,
                                                        "#fdca26"
                                                    ],
                                                    [
                                                        1,
                                                        "#f0f921"
                                                    ]
                                                ],
                                                "type": "histogram2dcontour"
                                            }
                                        ],
                                        "mesh3d": [
                                            {
                                                "colorbar": {
                                                    "outlinewidth": 0,
                                                    "ticks": ""
                                                },
                                                "type": "mesh3d"
                                            }
                                        ],
                                        "parcoords": [
                                            {
                                                "line": {
                                                    "colorbar": {
                                                        "outlinewidth": 0,
                                                        "ticks": ""
                                                    }
                                                },
                                                "type": "parcoords"
                                            }
                                        ],
                                        "pie": [
                                            {
                                                "automargin": true,
                                                "type": "pie"
                                            }
                                        ],
                                        "scatter": [
                                            {
                                                "fillpattern": {
                                                    "fillmode": "overlay",
                                                    "size": 10,
                                                    "solidity": 0.2
                                                },
                                                "type": "scatter"
                                            }
                                        ],
                                        "scatter3d": [
                                            {
                                                "line": {
                                                    "colorbar": {
                                                        "outlinewidth": 0,
                                                        "ticks": ""
                                                    }
                                                },
                                                "marker": {
                                                    "colorbar": {
                                                        "outlinewidth": 0,
                                                        "ticks": ""
                                                    }
                                                },
                                                "type": "scatter3d"
                                            }
                                        ],
                                        "scattercarpet": [
                                            {
                                                "marker": {
                                                    "colorbar": {
                                                        "outlinewidth": 0,
                                                        "ticks": ""
                                                    }
                                                },
                                                "type": "scattercarpet"
                                            }
                                        ],
                                        "scattergeo": [
                                            {
                                                "marker": {
                                                    "colorbar": {
                                                        "outlinewidth": 0,
                                                        "ticks": ""
                                                    }
                                                },
                                                "type": "scattergeo"
                                            }
                                        ],
                                        "scattergl": [
                                            {
                                                "marker": {
                                                    "colorbar": {
                                                        "outlinewidth": 0,
                                                        "ticks": ""
                                                    }
                                                },
                                                "type": "scattergl"
                                            }
                                        ],
                                        "scattermapbox": [
                                            {
                                                "marker": {
                                                    "colorbar": {
                                                        "outlinewidth": 0,
                                                        "ticks": ""
                                                    }
                                                },
                                                "type": "scattermapbox"
                                            }
                                        ],
                                        "scatterpolar": [
                                            {
                                                "marker": {
                                                    "colorbar": {
                                                        "outlinewidth": 0,
                                                        "ticks": ""
                                                    }
                                                },
                                                "type": "scatterpolar"
                                            }
                                        ],
                                        "scatterpolargl": [
                                            {
                                                "marker": {
                                                    "colorbar": {
                                                        "outlinewidth": 0,
                                                        "ticks": ""
                                                    }
                                                },
                                                "type": "scatterpolargl"
                                            }
                                        ],
                                        "scatterternary": [
                                            {
                                                "marker": {
                                                    "colorbar": {
                                                        "outlinewidth": 0,
                                                        "ticks": ""
                                                    }
                                                },
                                                "type": "scatterternary"
                                            }
                                        ],
                                        "surface": [
                                            {
                                                "colorbar": {
                                                    "outlinewidth": 0,
                                                    "ticks": ""
                                                },
                                                "colorscale": [
                                                    [
                                                        0,
                                                        "#0d0887"
                                                    ],
                                                    [
                                                        0.1111111111111111,
                                                        "#46039f"
                                                    ],
                                                    [
                                                        0.2222222222222222,
                                                        "#7201a8"
                                                    ],
                                                    [
                                                        0.3333333333333333,
                                                        "#9c179e"
                                                    ],
                                                    [
                                                        0.4444444444444444,
                                                        "#bd3786"
                                                    ],
                                                    [
                                                        0.5555555555555556,
                                                        "#d8576b"
                                                    ],
                                                    [
                                                        0.6666666666666666,
                                                        "#ed7953"
                                                    ],
                                                    [
                                                        0.7777777777777778,
                                                        "#fb9f3a"
                                                    ],
                                                    [
                                                        0.8888888888888888,
                                                        "#fdca26"
                                                    ],
                                                    [
                                                        1,
                                                        "#f0f921"
                                                    ]
                                                ],
                                                "type": "surface"
                                            }
                                        ],
                                        "table": [
                                            {
                                                "cells": {
                                                    "fill": {
                                                        "color": "#EBF0F8"
                                                    },
                                                    "line": {
                                                        "color": "white"
                                                    }
                                                },
                                                "header": {
                                                    "fill": {
                                                        "color": "#C8D4E3"
                                                    },
                                                    "line": {
                                                        "color": "white"
                                                    }
                                                },
                                                "type": "table"
                                            }
                                        ]
                                    },
                                    "layout": {
                                        "annotationdefaults": {
                                            "arrowcolor": "#2a3f5f",
                                            "arrowhead": 0,
                                            "arrowwidth": 1
                                        },
                                        "autotypenumbers": "strict",
                                        "coloraxis": {
                                            "colorbar": {
                                                "outlinewidth": 0,
                                                "ticks": ""
                                            }
                                        },
                                        "colorscale": {
                                            "diverging": [
                                                [
                                                    0,
                                                    "#8e0152"
                                                ],
                                                [
                                                    0.1,
                                                    "#c51b7d"
                                                ],
                                                [
                                                    0.2,
                                                    "#de77ae"
                                                ],
                                                [
                                                    0.3,
                                                    "#f1b6da"
                                                ],
                                                [
                                                    0.4,
                                                    "#fde0ef"
                                                ],
                                                [
                                                    0.5,
                                                    "#f7f7f7"
                                                ],
                                                [
                                                    0.6,
                                                    "#e6f5d0"
                                                ],
                                                [
                                                    0.7,
                                                    "#b8e186"
                                                ],
                                                [
                                                    0.8,
                                                    "#7fbc41"
                                                ],
                                                [
                                                    0.9,
                                                    "#4d9221"
                                                ],
                                                [
                                                    1,
                                                    "#276419"
                                                ]
                                            ],
                                            "sequential": [
                                                [
                                                    0,
                                                    "#0d0887"
                                                ],
                                                [
                                                    0.1111111111111111,
                                                    "#46039f"
                                                ],
                                                [
                                                    0.2222222222222222,
                                                    "#7201a8"
                                                ],
                                                [
                                                    0.3333333333333333,
                                                    "#9c179e"
                                                ],
                                                [
                                                    0.4444444444444444,
                                                    "#bd3786"
                                                ],
                                                [
                                                    0.5555555555555556,
                                                    "#d8576b"
                                                ],
                                                [
                                                    0.6666666666666666,
                                                    "#ed7953"
                                                ],
                                                [
                                                    0.7777777777777778,
                                                    "#fb9f3a"
                                                ],
                                                [
                                                    0.8888888888888888,
                                                    "#fdca26"
                                                ],
                                                [
                                                    1,
                                                    "#f0f921"
                                                ]
                                            ],
                                            "sequentialminus": [
                                                [
                                                    0,
                                                    "#0d0887"
                                                ],
                                                [
                                                    0.1111111111111111,
                                                    "#46039f"
                                                ],
                                                [
                                                    0.2222222222222222,
                                                    "#7201a8"
                                                ],
                                                [
                                                    0.3333333333333333,
                                                    "#9c179e"
                                                ],
                                                [
                                                    0.4444444444444444,
                                                    "#bd3786"
                                                ],
                                                [
                                                    0.5555555555555556,
                                                    "#d8576b"
                                                ],
                                                [
                                                    0.6666666666666666,
                                                    "#ed7953"
                                                ],
                                                [
                                                    0.7777777777777778,
                                                    "#fb9f3a"
                                                ],
                                                [
                                                    0.8888888888888888,
                                                    "#fdca26"
                                                ],
                                                [
                                                    1,
                                                    "#f0f921"
                                                ]
                                            ]
                                        },
                                        "colorway": [
                                            "#636efa",
                                            "#EF553B",
                                            "#00cc96",
                                            "#ab63fa",
                                            "#FFA15A",
                                            "#19d3f3",
                                            "#FF6692",
                                            "#B6E880",
                                            "#FF97FF",
                                            "#FECB52"
                                        ],
                                        "font": {
                                            "color": "#2a3f5f"
                                        },
                                        "geo": {
                                            "bgcolor": "white",
                                            "lakecolor": "white",
                                            "landcolor": "#E5ECF6",
                                            "showlakes": true,
                                            "showland": true,
                                            "subunitcolor": "white"
                                        },
                                        "hoverlabel": {
                                            "align": "left"
                                        },
                                        "hovermode": "closest",
                                        "mapbox": {
                                            "style": "light"
                                        },
                                        "paper_bgcolor": "white",
                                        "plot_bgcolor": "#E5ECF6",
                                        "polar": {
                                            "angularaxis": {
                                                "gridcolor": "white",
                                                "linecolor": "white",
                                                "ticks": ""
                                            },
                                            "bgcolor": "#E5ECF6",
                                            "radialaxis": {
                                                "gridcolor": "white",
                                                "linecolor": "white",
                                                "ticks": ""
                                            }
                                        },
                                        "scene": {
                                            "xaxis": {
                                                "backgroundcolor": "#E5ECF6",
                                                "gridcolor": "white",
                                                "gridwidth": 2,
                                                "linecolor": "white",
                                                "showbackground": true,
                                                "ticks": "",
                                                "zerolinecolor": "white"
                                            },
                                            "yaxis": {
                                                "backgroundcolor": "#E5ECF6",
                                                "gridcolor": "white",
                                                "gridwidth": 2,
                                                "linecolor": "white",
                                                "showbackground": true,
                                                "ticks": "",
                                                "zerolinecolor": "white"
                                            },
                                            "zaxis": {
                                                "backgroundcolor": "#E5ECF6",
                                                "gridcolor": "white",
                                                "gridwidth": 2,
                                                "linecolor": "white",
                                                "showbackground": true,
                                                "ticks": "",
                                                "zerolinecolor": "white"
                                            }
                                        },
                                        "shapedefaults": {
                                            "line": {
                                                "color": "#2a3f5f"
                                            }
                                        },
                                        "ternary": {
                                            "aaxis": {
                                                "gridcolor": "white",
                                                "linecolor": "white",
                                                "ticks": ""
                                            },
                                            "baxis": {
                                                "gridcolor": "white",
                                                "linecolor": "white",
                                                "ticks": ""
                                            },
                                            "bgcolor": "#E5ECF6",
                                            "caxis": {
                                                "gridcolor": "white",
                                                "linecolor": "white",
                                                "ticks": ""
                                            }
                                        },
                                        "title": {
                                            "x": 0.05
                                        },
                                        "xaxis": {
                                            "automargin": true,
                                            "gridcolor": "white",
                                            "linecolor": "white",
                                            "ticks": "",
                                            "title": {
                                                "standoff": 15
                                            },
                                            "zerolinecolor": "white",
                                            "zerolinewidth": 2
                                        },
                                        "yaxis": {
                                            "automargin": true,
                                            "gridcolor": "white",
                                            "linecolor": "white",
                                            "ticks": "",
                                            "title": {
                                                "standoff": 15
                                            },
                                            "zerolinecolor": "white",
                                            "zerolinewidth": 2
                                        }
                                    }
                                },
                                "title": {
                                    "text": "Sequence"
                                },
                                "width": 600,
                                "xaxis": {
                                    "anchor": "y",
                                    "domain": [
                                        0,
                                        1
                                    ],
                                    "matches": "x9",
                                    "showticklabels": false
                                },
                                "xaxis2": {
                                    "anchor": "y2",
                                    "domain": [
                                        0,
                                        1
                                    ],
                                    "matches": "x9",
                                    "showticklabels": false
                                },
                                "xaxis3": {
                                    "anchor": "y3",
                                    "domain": [
                                        0,
                                        1
                                    ],
                                    "matches": "x9",
                                    "showticklabels": false
                                },
                                "xaxis4": {
                                    "anchor": "y4",
                                    "domain": [
                                        0,
                                        1
                                    ],
                                    "matches": "x9",
                                    "showticklabels": false
                                },
                                "xaxis5": {
                                    "anchor": "y5",
                                    "domain": [
                                        0,
                                        1
                                    ],
                                    "matches": "x9",
                                    "showticklabels": false
                                },
                                "xaxis6": {
                                    "anchor": "y6",
                                    "domain": [
                                        0,
                                        1
                                    ],
                                    "matches": "x9",
                                    "showticklabels": false
                                },
                                "xaxis7": {
                                    "anchor": "y7",
                                    "domain": [
                                        0,
                                        1
                                    ],
                                    "matches": "x9",
                                    "showticklabels": false
                                },
                                "xaxis8": {
                                    "anchor": "y8",
                                    "domain": [
                                        0,
                                        1
                                    ],
                                    "matches": "x9",
                                    "showticklabels": false
                                },
                                "xaxis9": {
                                    "anchor": "y9",
                                    "domain": [
                                        0,
                                        1
                                    ],
                                    "title": {
                                        "text": "time/ns"
                                    }
                                },
                                "yaxis": {
                                    "anchor": "x",
                                    "domain": [
                                        0.9066666666666666,
                                        1
                                    ],
                                    "range": [
                                        -0.4,
                                        1.4
                                    ],
                                    "showticklabels": false,
                                    "title": {
                                        "text": "D0<br>laser"
                                    }
                                },
                                "yaxis2": {
                                    "anchor": "x2",
                                    "domain": [
                                        0.7933333333333333,
                                        0.8866666666666667
                                    ],
                                    "range": [
                                        -0.4,
                                        1.4
                                    ],
                                    "showticklabels": false,
                                    "title": {
                                        "text": "D1<br>dclk"
                                    }
                                },
                                "yaxis3": {
                                    "anchor": "x3",
                                    "domain": [
                                        0.6799999999999999,
                                        0.7733333333333332
                                    ],
                                    "range": [
                                        -0.4,
                                        1.4
                                    ],
                                    "showticklabels": false,
                                    "title": {
                                        "text": "D2<br>dtrig"
                                    }
                                },
                                "yaxis4": {
                                    "anchor": "x4",
                                    "domain": [
                                        0.5666666666666667,
                                        0.6599999999999999
                                    ],
                                    "range": [
                                        -0.4,
                                        1.4
                                    ],
                                    "showticklabels": false,
                                    "title": {
                                        "text": "D3<br>sdtrig"
                                    }
                                },
                                "yaxis5": {
                                    "anchor": "x5",
                                    "domain": [
                                        0.4533333333333333,
                                        0.5466666666666666
                                    ],
                                    "range": [
                                        -0.4,
                                        1.4
                                    ],
                                    "showticklabels": false,
                                    "title": {
                                        "text": "D4<br>mwA"
                                    }
                                },
                                "yaxis6": {
                                    "anchor": "x6",
                                    "domain": [
                                        0.33999999999999997,
                                        0.4333333333333333
                                    ],
                                    "range": [
                                        -0.4,
                                        1.4
                                    ],
                                    "showticklabels": false,
                                    "title": {
                                        "text": "D5<br>mwB"
                                    }
                                },
                                "yaxis7": {
                                    "anchor": "x7",
                                    "domain": [
                                        0.22666666666666666,
                                        0.31999999999999995
                                    ],
                                    "range": [
                                        -0.4,
                                        1.4
                                    ],
                                    "showticklabels": false,
                                    "title": {
                                        "text": "D6<br>rftrig"
                                    }
                                },
                                "yaxis8": {
                                    "anchor": "x8",
                                    "domain": [
                                        0.11333333333333333,
                                        0.20666666666666667
                                    ],
                                    "range": [
                                        -1.5,
                                        1.5
                                    ],
                                    "tickfont": {
                                        "size": 6
                                    },
                                    "title": {
                                        "text": "A0<br>Bz"
                                    }
                                },
                                "yaxis9": {
                                    "anchor": "x9",
                                    "domain": [
                                        0,
                                        0.09333333333333332
                                    ],
                                    "range": [
                                        -1.5,
                                        1.5
                                    ],
                                    "tickfont": {
                                        "size": 6
                                    },
                                    "title": {
                                        "text": "A1<br>Bx"
                                    }
                                }
                            }
                        }
                    },
                    "metadata": {},
                    "output_type": "display_data"
                }
            ],
            "source": [
                "dig_trig_len = 20\n",
                "divpart_pt = 2\n",
                "\n",
                "mw_dur = 16e6//4\n",
                "\n",
                "seq_laser = [(mw_dur, HIGH)]\n",
                "seq_mwA = [\n",
                "    (mw_dur, HIGH),\n",
                "    (mw_dur, LOW),\n",
                "] * divpart_pt\n",
                "\n",
                "seq_dig = [\n",
                "    (dig_trig_len, HIGH),\n",
                "    (mw_dur - dig_trig_len, LOW),\n",
                "    (dig_trig_len, LOW),\n",
                "    (dig_trig_len, HIGH),\n",
                "    (mw_dur - dig_trig_len, LOW),\n",
                "] * divpart_pt\n",
                "\n",
                "pg.setDigital(\"laser\", seq_laser)\n",
                "pg.setDigital(\"mwA\", seq_mwA)\n",
                "pg.setDigital(\"sdtrig\", seq_dig)\n",
                "pg.setTrigger(start=TriggerStart.SOFTWARE, rearm=TriggerRearm.MANUAL)\n",
                "pg.plotSeq(plot_all=False)"
            ]
        },
        {
            "cell_type": "code",
            "execution_count": 9,
            "metadata": {},
            "outputs": [],
            "source": [
                "def seqtime_tb(seq_tb):\n",
                "    return np.sum([pulse[-1] for pulse in seq_tb])\n",
                "def seqtime_cb(seq_cb):\n",
                "    return np.sum([pulse[-0] for pulse in seq_cb])"
            ]
        },
        {
            "cell_type": "code",
            "execution_count": 10,
            "metadata": {},
            "outputs": [],
            "source": [
                "## set up the data aquication with the digitizer \n",
                "# min_volt = -0.002 # [V]\n",
                "# max_volt = 0.010 # [V]\n",
                "mw_len=dur_pt/2.0/divpart_pt\n",
                "t_seq = seqtime_cb(seq_laser)\n",
                "rate_refresh = 1 # Hz rate of refreshing the data streaming\n",
                "amp_input = 1000\n",
                "readout_ch = hcf.SIDIG_chmap[\"apd\"]\n",
                "num_segment = int(2/rate_refresh*1e9/t_seq)//32*32\n",
                "\n",
                "# configures the readout to match the pulse sequence  \n",
                "pretrig_size= 256 #int((mw_len//2)*hcf.SIDIG_maxsr/1E9)//64*64 # pretrigger based on the t_wait time\n",
                "# posttrig_size=int((t_ribloc+t_ribloc_isc)*hcf.SIDIG_maxsr/1E9)//64*64 # posttrigger based on the t_laser time and t_isc\n",
                "posttrig_size=int((mw_len//2)*hcf.SIDIG_maxsr/1E9)//64*64 # posttrigger based on the t_laser time and t_isc\n",
                "\n",
                "segment_size = pretrig_size+posttrig_size \n",
                "segment_size = 2**int(np.log2(segment_size)+1) # make it power of 2\n",
                "posttrig_size = segment_size-pretrig_size # recalculate posttrigger size to ensure it is power of 2"
            ]
        },
        {
            "cell_type": "code",
            "execution_count": 11,
            "metadata": {},
            "outputs": [],
            "source": [
                "# To set the configuration, make a dictionary with the key and value\n",
                "dig.reset_param()\n",
                "dig.assign_param(dict(\n",
                "             readout_ch=readout_ch, \n",
                "             amp_input=amp_input, \n",
                "             num_segment=8,\n",
                "             pretrig_size=16,\n",
                "             posttrig_size=1048576//4-16,\n",
                "             segment_size=1048576//4,\n",
                "             terminate_input=TERMIN_INPUT_1MOHM,\n",
                "             DCCOUPLE = 0,\n",
                "             sampling_rate=hcf.SIDIG_maxsr\n",
                "            #  terminate_input=TERMIN_INPUT_50OHM,\n",
                "             ))\n"
            ]
        },
        {
            "cell_type": "code",
            "execution_count": 12,
            "metadata": {},
            "outputs": [
                {
                    "name": "stdout",
                    "output_type": "stream",
                    "text": [
                        "Card stopped\n",
                        "Card stopped\n",
                        "Card stopped\n",
                        "Card stopped\n",
                        "Card stopped\n",
                        "Card stopped\n",
                        "Card stopped\n",
                        "Card stopped\n",
                        "Card stopped\n",
                        "Card stopped\n",
                        "Card stopped\n",
                        "Card stopped\n",
                        "Card stopped\n",
                        "Card stopped\n",
                        "Card stopped\n",
                        "Card stopped\n",
                        "Card stopped\n",
                        "Card stopped\n",
                        "Card stopped\n",
                        "Card stopped\n",
                        "Card stopped\n",
                        "Card stopped\n",
                        "Card stopped\n",
                        "Card stopped\n",
                        "Card stopped\n",
                        "Card stopped\n",
                        "Card stopped\n",
                        "Card stopped\n",
                        "Card stopped\n",
                        "Card stopped\n",
                        "Card stopped\n",
                        "Card stopped\n",
                        "Card stopped\n",
                        "Card stopped\n",
                        "Card stopped\n",
                        "Card stopped\n",
                        "Card stopped\n",
                        "Card stopped\n",
                        "Card stopped\n",
                        "Card stopped\n",
                        "Card stopped\n",
                        "Card stopped\n",
                        "Card stopped\n",
                        "Card stopped\n",
                        "Card stopped\n",
                        "Card stopped\n",
                        "Card stopped\n",
                        "Card stopped\n",
                        "Card stopped\n",
                        "Card stopped\n",
                        "Card stopped\n",
                        "Card stopped\n",
                        "Card stopped\n",
                        "Card stopped\n",
                        "Card stopped\n",
                        "Card stopped\n",
                        "Card stopped\n",
                        "Card stopped\n",
                        "Card stopped\n",
                        "Card stopped\n",
                        "Card stopped\n",
                        "Card stopped\n",
                        "Card stopped\n",
                        "Card stopped\n",
                        "Card stopped\n",
                        "Card stopped\n",
                        "Card stopped\n",
                        "Card stopped\n",
                        "Card stopped\n",
                        "Card stopped\n",
                        "Card stopped\n",
                        "Card stopped\n",
                        "Card stopped\n",
                        "Card stopped\n",
                        "Card stopped\n",
                        "Card stopped\n",
                        "Card stopped\n",
                        "Card stopped\n",
                        "Card stopped\n",
                        "Card stopped\n",
                        "Card stopped\n",
                        "Card stopped\n",
                        "Card stopped\n",
                        "Card stopped\n",
                        "Card stopped\n",
                        "Card stopped\n",
                        "Card stopped\n",
                        "Card stopped\n",
                        "Card stopped\n",
                        "Card stopped\n",
                        "Card stopped\n",
                        "Card stopped\n",
                        "Card stopped\n",
                        "Card stopped\n",
                        "Card stopped\n",
                        "Card stopped\n",
                        "Card stopped\n",
                        "Card stopped\n",
                        "Card stopped\n",
                        "Card stopped\n",
                        "Card stopped\n",
                        "Card stopped\n",
                        "Card stopped\n",
                        "Card stopped\n",
                        "Card stopped\n",
                        "Card stopped\n",
                        "Card stopped\n",
                        "Card stopped\n",
                        "Card stopped\n",
                        "Card stopped\n",
                        "Card stopped\n",
                        "Card stopped\n",
                        "Card stopped\n",
                        "Card stopped\n",
                        "Card stopped\n",
                        "Card stopped\n",
                        "Card stopped\n",
                        "Card stopped\n",
                        "Card stopped\n",
                        "Card stopped\n",
                        "Card stopped\n",
                        "Card stopped\n",
                        "Card stopped\n",
                        "Card stopped\n",
                        "Card stopped\n",
                        "Card stopped\n",
                        "Card stopped\n",
                        "Card stopped\n",
                        "Card stopped\n",
                        "Card stopped\n",
                        "Card stopped\n",
                        "Card stopped\n",
                        "Card stopped\n",
                        "Card stopped\n",
                        "Card stopped\n",
                        "Card stopped\n",
                        "Card stopped\n",
                        "Card stopped\n",
                        "Card stopped\n",
                        "Card stopped\n",
                        "Card stopped\n",
                        "Card stopped\n",
                        "Card stopped\n",
                        "Card stopped\n",
                        "Card stopped\n",
                        "Card stopped\n",
                        "Card stopped\n",
                        "Card stopped\n",
                        "Card stopped\n",
                        "Card stopped\n",
                        "Card stopped\n",
                        "Card stopped\n",
                        "Card stopped\n",
                        "Card stopped\n",
                        "Card stopped\n",
                        "Card stopped\n",
                        "Card stopped\n",
                        "Card stopped\n",
                        "Card stopped\n",
                        "Card stopped\n",
                        "Card stopped\n",
                        "Card stopped\n",
                        "Card stopped\n",
                        "Card stopped\n",
                        "Card stopped\n",
                        "Card stopped\n",
                        "Card stopped\n",
                        "Card stopped\n",
                        "Card stopped\n",
                        "Card stopped\n",
                        "Card stopped\n",
                        "Card stopped\n",
                        "Card stopped\n",
                        "Card stopped\n",
                        "Card stopped\n",
                        "Card stopped\n",
                        "Card stopped\n",
                        "Card stopped\n",
                        "Card stopped\n",
                        "Card stopped\n",
                        "Card stopped\n",
                        "Card stopped\n",
                        "Card stopped\n",
                        "Card stopped\n",
                        "Card stopped\n",
                        "Card stopped\n",
                        "Card stopped\n",
                        "Card stopped\n",
                        "Card stopped\n",
                        "Card stopped\n",
                        "Card stopped\n",
                        "Card stopped\n",
                        "Card stopped\n",
                        "Card stopped\n",
                        "Card stopped\n",
                        "Card stopped\n",
                        "Card stopped\n",
                        "Card stopped\n",
                        "Card stopped\n",
                        "Card stopped\n",
                        "Card stopped\n",
                        "Card stopped\n",
                        "Card stopped\n",
                        "Card stopped\n",
                        "Card stopped\n",
                        "Card stopped\n",
                        "Card stopped\n",
                        "Card stopped\n",
                        "Card stopped\n",
                        "Card stopped\n",
                        "Card stopped\n",
                        "Card stopped\n",
                        "Card stopped\n",
                        "Card stopped\n",
                        "Card stopped\n",
                        "Card stopped\n",
                        "Card stopped\n",
                        "Card stopped\n",
                        "Card stopped\n",
                        "Card stopped\n",
                        "Card stopped\n",
                        "Card stopped\n",
                        "Card stopped\n",
                        "Card stopped\n",
                        "Card stopped\n",
                        "Card stopped\n",
                        "Card stopped\n",
                        "Card stopped\n",
                        "Card stopped\n",
                        "Card stopped\n",
                        "Card stopped\n",
                        "Card stopped\n",
                        "Card stopped\n",
                        "Card stopped\n",
                        "Card stopped\n",
                        "Card stopped\n",
                        "Card stopped\n",
                        "Card stopped\n",
                        "Card stopped\n",
                        "Card stopped\n",
                        "Card stopped\n",
                        "Card stopped\n",
                        "Card stopped\n",
                        "Card stopped\n",
                        "Card stopped\n",
                        "Card stopped\n",
                        "Card stopped\n",
                        "Card stopped\n",
                        "Card stopped\n",
                        "Card stopped\n",
                        "Card stopped\n",
                        "Card stopped\n",
                        "Card stopped\n",
                        "Card stopped\n",
                        "Card stopped\n",
                        "Card stopped\n",
                        "Card stopped\n",
                        "Card stopped\n",
                        "Card stopped\n",
                        "Card stopped\n",
                        "Card stopped\n",
                        "Card stopped\n",
                        "Card stopped\n",
                        "Card stopped\n",
                        "Card stopped\n",
                        "Card stopped\n",
                        "Card stopped\n",
                        "Card stopped\n",
                        "Card stopped\n",
                        "Card stopped\n",
                        "Card stopped\n",
                        "Card stopped\n",
                        "Card stopped\n",
                        "Card stopped\n",
                        "Card stopped\n",
                        "Card stopped\n",
                        "Card stopped\n",
                        "Card stopped\n",
                        "Card stopped\n",
                        "Card stopped\n",
                        "Card stopped\n",
                        "Card stopped\n",
                        "Card stopped\n",
                        "Card stopped\n",
                        "Card stopped\n",
                        "Card stopped\n",
                        "Card stopped\n",
                        "Card stopped\n",
                        "Card stopped\n",
                        "Card stopped\n",
                        "Card stopped\n",
                        "Card stopped\n",
                        "Card stopped\n",
                        "Card stopped\n",
                        "Card stopped\n",
                        "Card stopped\n",
                        "Card stopped\n",
                        "Card stopped\n",
                        "Card stopped\n",
                        "Card stopped\n",
                        "Card stopped\n",
                        "Card stopped\n",
                        "Card stopped\n",
                        "Card stopped\n",
                        "Card stopped\n",
                        "Card stopped\n",
                        "Card stopped\n",
                        "Card stopped\n",
                        "Card stopped\n",
                        "Card stopped\n",
                        "Card stopped\n",
                        "Card stopped\n",
                        "Card stopped\n",
                        "Card stopped\n",
                        "Card stopped\n",
                        "Card stopped\n",
                        "Card stopped\n",
                        "Card stopped\n",
                        "Card stopped\n",
                        "Card stopped\n",
                        "Card stopped\n",
                        "Card stopped\n",
                        "Card stopped\n",
                        "Card stopped\n",
                        "Card stopped\n",
                        "Card stopped\n",
                        "Card stopped\n",
                        "Card stopped\n",
                        "Card stopped\n",
                        "Card stopped\n",
                        "Card stopped\n",
                        "Card stopped\n",
                        "Card stopped\n",
                        "Card stopped\n",
                        "Card stopped\n",
                        "Card stopped\n",
                        "Card stopped\n",
                        "Card stopped\n",
                        "Card stopped\n",
                        "Card stopped\n",
                        "Card stopped\n",
                        "Card stopped\n",
                        "Card stopped\n",
                        "Card stopped\n",
                        "Card stopped\n",
                        "Card stopped\n",
                        "Card stopped\n",
                        "Card stopped\n",
                        "Card stopped\n",
                        "Card stopped\n",
                        "Card stopped\n",
                        "Card stopped\n",
                        "Card stopped\n",
                        "Card stopped\n",
                        "Card stopped\n",
                        "Card stopped\n",
                        "Card stopped\n",
                        "Card stopped\n",
                        "Card stopped\n",
                        "Card stopped\n",
                        "Card stopped\n",
                        "Card stopped\n",
                        "Card stopped\n",
                        "Card stopped\n",
                        "Card stopped\n",
                        "Card stopped\n",
                        "Card stopped\n",
                        "Card stopped\n",
                        "Card stopped\n",
                        "Card stopped\n",
                        "Card stopped\n",
                        "Card stopped\n",
                        "Card stopped\n",
                        "Card stopped\n",
                        "Card stopped\n",
                        "Card stopped\n",
                        "Card stopped\n",
                        "Card stopped\n",
                        "Card stopped\n",
                        "Card stopped\n",
                        "Card stopped\n",
                        "Card stopped\n",
                        "Card stopped\n",
                        "Card stopped\n",
                        "Card stopped\n",
                        "Card stopped\n",
                        "Card stopped\n",
                        "Card stopped\n",
                        "Card stopped\n",
                        "Card stopped\n",
                        "Card stopped\n",
                        "Card stopped\n",
                        "Card stopped\n",
                        "Card stopped\n",
                        "Card stopped\n",
                        "Card stopped\n",
                        "Card stopped\n",
                        "Card stopped\n",
                        "Card stopped\n",
                        "Card stopped\n",
                        "Card stopped\n",
                        "Card stopped\n",
                        "Card stopped\n",
                        "Card stopped\n",
                        "Card stopped\n",
                        "Card stopped\n",
                        "Card stopped\n",
                        "Card stopped\n",
                        "Card stopped\n",
                        "Card stopped\n",
                        "Card stopped\n",
                        "Card stopped\n",
                        "Card stopped\n",
                        "Card stopped\n",
                        "Card stopped\n",
                        "Card stopped\n",
                        "Card stopped\n",
                        "Card stopped\n",
                        "Card stopped\n",
                        "Card stopped\n",
                        "Card stopped\n",
                        "Card stopped\n",
                        "Card stopped\n",
                        "Card stopped\n",
                        "Card stopped\n",
                        "Card stopped\n",
                        "Card stopped\n",
                        "Card stopped\n",
                        "Card stopped\n",
                        "Card stopped\n",
                        "Card stopped\n",
                        "Card stopped\n",
                        "Card stopped\n",
                        "Card stopped\n",
                        "Card stopped\n",
                        "Card stopped\n",
                        "Card stopped\n",
                        "Card stopped\n",
                        "Card stopped\n",
                        "Card stopped\n",
                        "Card stopped\n",
                        "Card stopped\n",
                        "Card stopped\n",
                        "Card stopped\n",
                        "Card stopped\n",
                        "Card stopped\n",
                        "Card stopped\n",
                        "Card stopped\n",
                        "Card stopped\n",
                        "Card stopped\n",
                        "Card stopped\n",
                        "Card stopped\n",
                        "Card stopped\n",
                        "Card stopped\n",
                        "Card stopped\n",
                        "Card stopped\n",
                        "Card stopped\n",
                        "Card stopped\n",
                        "Card stopped\n",
                        "Card stopped\n",
                        "Card stopped\n",
                        "Card stopped\n",
                        "Card stopped\n",
                        "Card stopped\n",
                        "Card stopped\n",
                        "Card stopped\n",
                        "Card stopped\n",
                        "Card stopped\n",
                        "Card stopped\n",
                        "Card stopped\n",
                        "Card stopped\n",
                        "Card stopped\n",
                        "Card stopped\n",
                        "Card stopped\n",
                        "Card stopped\n",
                        "Card stopped\n",
                        "Card stopped\n",
                        "Card stopped\n",
                        "Card stopped\n",
                        "Card stopped\n",
                        "Card stopped\n",
                        "Card stopped\n",
                        "Card stopped\n",
                        "Card stopped\n",
                        "Card stopped\n",
                        "Card stopped\n",
                        "Card stopped\n",
                        "Card stopped\n",
                        "Card stopped\n",
                        "Card stopped\n",
                        "Card stopped\n",
                        "Card stopped\n",
                        "Card stopped\n",
                        "Card stopped\n",
                        "Card stopped\n",
                        "Card stopped\n",
                        "Card stopped\n",
                        "Card stopped\n",
                        "Card stopped\n",
                        "Card stopped\n",
                        "Card stopped\n",
                        "Card stopped\n",
                        "Card stopped\n",
                        "Card stopped\n",
                        "Card stopped\n",
                        "Card stopped\n",
                        "Card stopped\n",
                        "Card stopped\n",
                        "Card stopped\n",
                        "Card stopped\n",
                        "Card stopped\n",
                        "Card stopped\n",
                        "Card stopped\n",
                        "Card stopped\n",
                        "Card stopped\n",
                        "Card stopped\n",
                        "Card stopped\n",
                        "Card stopped\n",
                        "Card stopped\n",
                        "Card stopped\n",
                        "Card stopped\n",
                        "Card stopped\n",
                        "Card stopped\n",
                        "Card stopped\n",
                        "Card stopped\n",
                        "Card stopped\n",
                        "Card stopped\n",
                        "Card stopped\n",
                        "Card stopped\n",
                        "Card stopped\n",
                        "Card stopped\n",
                        "Card stopped\n",
                        "Card stopped\n",
                        "Card stopped\n",
                        "Card stopped\n",
                        "Card stopped\n",
                        "Card stopped\n",
                        "Card stopped\n",
                        "Card stopped\n",
                        "Card stopped\n",
                        "Card stopped\n",
                        "Card stopped\n",
                        "Card stopped\n",
                        "Card stopped\n",
                        "Card stopped\n",
                        "Card stopped\n",
                        "Card stopped\n",
                        "Card stopped\n",
                        "Card stopped\n",
                        "Card stopped\n",
                        "Card stopped\n",
                        "Card stopped\n",
                        "Card stopped\n",
                        "Card stopped\n",
                        "Card stopped\n",
                        "Card stopped\n",
                        "Card stopped\n",
                        "Card stopped\n",
                        "Card stopped\n",
                        "Card stopped\n",
                        "Card stopped\n",
                        "Card stopped\n",
                        "Card stopped\n",
                        "Card stopped\n",
                        "Card stopped\n",
                        "Card stopped\n",
                        "Card stopped\n",
                        "Card stopped\n",
                        "Card stopped\n",
                        "Card stopped\n",
                        "Card stopped\n",
                        "Card stopped\n",
                        "Card stopped\n",
                        "Card stopped\n",
                        "Card stopped\n",
                        "Card stopped\n",
                        "Card stopped\n",
                        "Card stopped\n",
                        "Card stopped\n",
                        "Card stopped\n",
                        "Card stopped\n",
                        "Card stopped\n",
                        "Card stopped\n",
                        "Card stopped\n",
                        "Card stopped\n",
                        "Card stopped\n",
                        "Card stopped\n",
                        "Card stopped\n",
                        "Card stopped\n",
                        "Card stopped\n",
                        "Card stopped\n",
                        "Card stopped\n",
                        "Card stopped\n",
                        "Card stopped\n",
                        "Card stopped\n",
                        "Card stopped\n",
                        "Card stopped\n",
                        "Card stopped\n",
                        "Card stopped\n",
                        "Card stopped\n",
                        "Card stopped\n",
                        "Card stopped\n",
                        "Card stopped\n",
                        "Card stopped\n",
                        "Card stopped\n",
                        "Card stopped\n",
                        "Card stopped\n",
                        "Card stopped\n",
                        "Card stopped\n",
                        "Card stopped\n",
                        "Card stopped\n",
                        "Card stopped\n",
                        "Card stopped\n",
                        "Card stopped\n",
                        "Card stopped\n",
                        "Card stopped\n",
                        "Card stopped\n",
                        "Card stopped\n",
                        "Card stopped\n",
                        "Card stopped\n",
                        "Card stopped\n",
                        "Card stopped\n",
                        "Card stopped\n",
                        "Card stopped\n",
                        "Card stopped\n",
                        "Card stopped\n",
                        "Card stopped\n",
                        "Card stopped\n",
                        "Card stopped\n",
                        "Card stopped\n",
                        "Card stopped\n",
                        "Card stopped\n",
                        "Card stopped\n",
                        "Card stopped\n",
                        "Card stopped\n",
                        "Card stopped\n",
                        "Card stopped\n",
                        "Card stopped\n",
                        "Card stopped\n",
                        "Card stopped\n",
                        "Card stopped\n",
                        "Card stopped\n",
                        "Card stopped\n",
                        "Card stopped\n",
                        "Card stopped\n",
                        "Card stopped\n",
                        "Card stopped\n",
                        "Card stopped\n",
                        "Card stopped\n",
                        "Card stopped\n",
                        "Card stopped\n",
                        "Card stopped\n",
                        "Card stopped\n",
                        "Card stopped\n",
                        "Card stopped\n",
                        "Card stopped\n",
                        "Card stopped\n",
                        "Card stopped\n",
                        "Card stopped\n",
                        "Card stopped\n",
                        "Card stopped\n",
                        "Card stopped\n",
                        "Card stopped\n",
                        "Card stopped\n",
                        "Card stopped\n",
                        "Card stopped\n",
                        "Card stopped\n",
                        "Card stopped\n",
                        "Card stopped\n",
                        "Card stopped\n",
                        "Card stopped\n",
                        "Card stopped\n",
                        "Card stopped\n",
                        "Card stopped\n",
                        "Card stopped\n",
                        "Card stopped\n",
                        "Card stopped\n",
                        "Card stopped\n",
                        "Card stopped\n",
                        "Card stopped\n",
                        "Card stopped\n",
                        "Card stopped\n",
                        "Card stopped\n",
                        "Card stopped\n",
                        "Card stopped\n",
                        "Card stopped\n",
                        "Card stopped\n",
                        "Card stopped\n",
                        "Card stopped\n",
                        "Card stopped\n",
                        "Card stopped\n",
                        "Card stopped\n",
                        "Card stopped\n",
                        "Card stopped\n",
                        "Card stopped\n",
                        "Card stopped\n",
                        "Card stopped\n",
                        "Card stopped\n",
                        "Card stopped\n",
                        "Card stopped\n",
                        "Card stopped\n",
                        "Card stopped\n",
                        "Card stopped\n",
                        "Card stopped\n",
                        "Card stopped\n",
                        "Card stopped\n",
                        "Card stopped\n",
                        "Card stopped\n",
                        "Card stopped\n",
                        "Card stopped\n",
                        "Card stopped\n",
                        "Card stopped\n",
                        "Card stopped\n",
                        "Card stopped\n",
                        "Card stopped\n",
                        "Card stopped\n",
                        "Card stopped\n",
                        "Card stopped\n",
                        "Card stopped\n",
                        "Card stopped\n",
                        "Card stopped\n",
                        "Card stopped\n",
                        "Card stopped\n",
                        "Card stopped\n",
                        "Card stopped\n",
                        "Card stopped\n",
                        "Card stopped\n",
                        "Card stopped\n",
                        "Card stopped\n",
                        "Card stopped\n",
                        "Card stopped\n",
                        "Card stopped\n",
                        "Card stopped\n",
                        "Card stopped\n",
                        "Card stopped\n",
                        "Card stopped\n",
                        "Card stopped\n",
                        "Card stopped\n",
                        "Card stopped\n",
                        "Card stopped\n",
                        "Card stopped\n",
                        "Card stopped\n",
                        "Card stopped\n",
                        "Card stopped\n",
                        "Card stopped\n",
                        "Card stopped\n",
                        "Card stopped\n",
                        "Card stopped\n",
                        "Card stopped\n",
                        "Card stopped\n",
                        "Card stopped\n",
                        "Card stopped\n",
                        "Card stopped\n",
                        "Card stopped\n",
                        "Card stopped\n",
                        "Card stopped\n",
                        "Card stopped\n",
                        "Card stopped\n",
                        "Card stopped\n",
                        "Card stopped\n",
                        "Card stopped\n",
                        "Card stopped\n",
                        "Card stopped\n",
                        "Card stopped\n",
                        "Card stopped\n",
                        "Card stopped\n",
                        "Card stopped\n",
                        "Card stopped\n",
                        "Card stopped\n",
                        "Card stopped\n",
                        "Card stopped\n",
                        "Card stopped\n",
                        "Card stopped\n",
                        "Card stopped\n",
                        "Card stopped\n",
                        "Card stopped\n",
                        "Card stopped\n",
                        "Card stopped\n",
                        "Card stopped\n",
                        "Card stopped\n",
                        "Card stopped\n",
                        "Card stopped\n",
                        "Card stopped\n",
                        "Card stopped\n",
                        "Card stopped\n",
                        "Card stopped\n",
                        "Card stopped\n",
                        "Card stopped\n",
                        "Card stopped\n",
                        "Card stopped\n",
                        "Card stopped\n",
                        "Card stopped\n",
                        "Card stopped\n",
                        "Card stopped\n",
                        "Card stopped\n",
                        "Card stopped\n",
                        "Card stopped\n",
                        "Card stopped\n",
                        "Card stopped\n",
                        "Card stopped\n",
                        "Card stopped\n",
                        "Card stopped\n",
                        "Card stopped\n",
                        "Card stopped\n",
                        "Card stopped\n",
                        "Card stopped\n",
                        "Card stopped\n",
                        "Card stopped\n",
                        "Card stopped\n",
                        "Card stopped\n",
                        "Card stopped\n",
                        "Card stopped\n",
                        "Card stopped\n",
                        "Card stopped\n",
                        "Card stopped\n",
                        "Card stopped\n",
                        "Card stopped\n",
                        "Card stopped\n",
                        "Card stopped\n",
                        "Card stopped\n",
                        "Card stopped\n",
                        "Card stopped\n",
                        "Card stopped\n",
                        "Card stopped\n",
                        "Card stopped\n",
                        "Card stopped\n",
                        "Card stopped\n",
                        "Card stopped\n",
                        "Card stopped\n",
                        "Card stopped\n",
                        "Card stopped\n",
                        "Card stopped\n",
                        "Card stopped\n",
                        "Card stopped\n",
                        "Card stopped\n",
                        "Card stopped\n",
                        "Card stopped\n",
                        "Card stopped\n",
                        "Card stopped\n",
                        "Card stopped\n",
                        "Card stopped\n",
                        "Card stopped\n",
                        "Card stopped\n",
                        "Card stopped\n",
                        "Card stopped\n",
                        "Card stopped\n",
                        "Card stopped\n",
                        "Card stopped\n",
                        "Card stopped\n",
                        "Card stopped\n",
                        "Card stopped\n",
                        "Card stopped\n",
                        "Card stopped\n",
                        "Card stopped\n",
                        "Card stopped\n",
                        "Card stopped\n",
                        "Card stopped\n",
                        "Card stopped\n",
                        "Card stopped\n",
                        "Card stopped\n",
                        "Card stopped\n",
                        "Card stopped\n",
                        "Card stopped\n",
                        "Card stopped\n",
                        "Card stopped\n",
                        "Card stopped\n",
                        "Card stopped\n",
                        "Card stopped\n",
                        "Card stopped\n",
                        "Card stopped\n",
                        "Card stopped\n",
                        "Card stopped\n",
                        "Card stopped\n",
                        "Card stopped\n",
                        "Card stopped\n",
                        "Card stopped\n",
                        "Card stopped\n",
                        "Card stopped\n",
                        "Card stopped\n",
                        "Card stopped\n"
                    ]
                }
            ],
            "source": [
                "pretrig_size=128\n",
                "posttrig_size=1024*1000-pretrig_size\n",
                "# freq_start = 16.45-0.25\n",
                "# freq_stop = 16.45+0.25\n",
                "B = 14.103\n",
                "f_e = 28.0249514242*B\n",
                "f_NVp1 = f_e + 2.8705\n",
                "f_NVm1 = f_e - 2.8705\n",
                "# f_NVguess = 392.8397714495659\n",
                "f_NVguess = 398.545\n",
                "freq_start = (f_NVguess-0.015)/24.0\n",
                "freq_stop = (f_NVguess+0.020)/24.0\n",
                "# check the minium step size\n",
                "freqminstep_list = mwsyn.get_min_step_size([freq_start], [freq_stop])\n",
                "step_min = freqminstep_list[0] # in Hz\n",
                "freq_step = 0.5E-3/24.0\n",
                "freq_step = int(freq_step/step_min*1E9)*step_min/1E9/1.25\n",
                "\n",
                "freq_array = np.arange(freq_start, freq_stop, freq_step)\n",
                "freq_array=freq_array\n",
                "# print(f\"Estimated time for one sweep:{(freq_stop-freq_start)/freq_step*max(10E6, dur_pt)/1E9} s\")\n",
                "freq_actual = np.zeros(len(freq_array))\n",
                "\n",
                "# Allocate arrays\n",
                "signal = np.zeros((len(freq_actual), pretrig_size + posttrig_size))\n",
                "background = np.zeros((len(freq_actual), pretrig_size + posttrig_size))\n",
                "\n",
                "# Repeat measurement\n",
                "num_repeat = 10\n",
                "signal_av = np.zeros(len(freq_actual))\n",
                "background_av = np.zeros(len(freq_actual))\n",
                "segment_list = np.zeros(len(freq_actual))\n",
                "\n",
                "laser.laser_on() # turn off laser\n",
                "\n",
                "for mmm in range(num_repeat):\n",
                "    for jj, ff in enumerate(freq_array):\n",
                "        # print(f\"Frequency: {ff} GHz\")\n",
                "        run_time = .1\n",
                "        segments = 0\n",
                "        \n",
                "        dig.assign_param(dict(\n",
                "            readout_ch=readout_ch,\n",
                "            amp_input=amp_input,\n",
                "            num_segment=8,\n",
                "            pretrig_size=pretrig_size,\n",
                "            posttrig_size=posttrig_size,\n",
                "            segment_size=pretrig_size+posttrig_size,\n",
                "            terminate_input=TERMIN_INPUT_1MOHM,\n",
                "            DCCOUPLE=0,\n",
                "            sampling_rate=hcf.SIDIG_maxsr \n",
                "        ))\n",
                "        dig.set_config()\n",
                "        errorbyte, freq_actual[jj] = mwsyn.cw_frequency(ff)\n",
                "        pg.stream(n_runs=INF)  # Example function for pulse generator (replace with actual implementation)\n",
                "        dig.start_buffer()\n",
                "        pg.startNow()\n",
                "\n",
                "        start_time = time.monotonic()\n",
                "        while time.monotonic() - start_time < run_time:\n",
                "            rawraw = dig.stream()\n",
                "            assert rawraw.shape[0] % 2 == 0\n",
                "            assert rawraw.shape[0] != 0\n",
                "\n",
                "            rawraw_on = rawraw[0::2, :, :]\n",
                "            rawraw_off = rawraw[1::2, :, :]\n",
                "            segments += np.shape(rawraw)[0] // 2\n",
                "            # print(\"hello\")\n",
                "            # signal[jj, :] += rawraw_on.reshape(-1, rawraw_on.shape[-1]).sum(axis=0)\n",
                "            # background[jj, :] += rawraw_off.reshape(-1, rawraw_off.shape[-1]).sum(axis=0)\n",
                "            # print(f\"rawraw_on.shape[0]: {rawraw_on.shape[0]}\")\n",
                "            for ii in range(0,rawraw.shape[0] // 2):\n",
                "                # print(f\"Processing segment {ii} for freq index {jj}\")\n",
                "                signal[jj,:] += np.ravel(rawraw_on[ii])\n",
                "                background[jj,:] += np.ravel(rawraw_off[ii])\n",
                "\n",
                "        dig.stop_card()\n",
                "        pg.forceFinal()\n",
                "        # pg.reset()\n",
                "        segment_list[jj] += segments\n"
            ]
        },
        {
            "cell_type": "code",
            "execution_count": 13,
            "metadata": {},
            "outputs": [
                {
                    "name": "stdout",
                    "output_type": "stream",
                    "text": [
                        "MW Synthesizer Rebooted!\n"
                    ]
                }
            ],
            "source": [
                "# turn off laser and set diode current to zero\n",
                "laser.laser_off() \n",
                "laser.set_diode_current(0, save_memory=False)\n",
                "laser.close()\n",
                "# reset pulse generator\n",
                "pg.forceFinal()\n",
                "pg.constant(OutputState.ZERO())\n",
                "pg.reset()\n",
                "pg.reboot()\n",
                "\n",
                "# close all NI tasks\n",
                "\n",
                "task_uca.stop()\n",
                "task_uca.close()\n",
                "\n",
                "# reboot(optional) and close the MW synthesizer \n",
                "mwsyn.reboot()\n",
                "mwsyn.close()"
            ]
        },
        {
            "cell_type": "code",
            "execution_count": 14,
            "metadata": {},
            "outputs": [],
            "source": [
                "def avg(data):\n",
                "    return np.mean(data,axis=1)"
            ]
        },
        {
            "cell_type": "code",
            "execution_count": 15,
            "metadata": {},
            "outputs": [
                {
                    "data": {
                        "text/plain": [
                            "[<matplotlib.lines.Line2D at 0x20f6b7d9300>]"
                        ]
                    },
                    "execution_count": 15,
                    "metadata": {},
                    "output_type": "execute_result"
                },
                {
                    "data": {
                        "image/png": "[encoded data removed]",
                        "text/plain": [
                            "<Figure size 640x480 with 1 Axes>"
                        ]
                    },
                    "metadata": {},
                    "output_type": "display_data"
                }
            ],
            "source": [
                "on=avg(signal)/segment_list\n",
                "off=avg(background)/segment_list\n",
                "plt.plot(freq_actual*24, (on-off)/off)"
            ]
        },
        {
            "cell_type": "code",
            "execution_count": 16,
            "metadata": {},
            "outputs": [
                {
                    "data": {
                        "application/vnd.plotly.v1+json": {
                            "config": {
                                "plotlyServerURL": "https://plot.ly"
                            },
                            "data": [
                                {
                                    "mode": "lines",
                                    "name": "Plot",
                                    "type": "scatter",
                                    "x": [
                                        398.53000009059906,
                                        398.5304000079632,
                                        398.5307999253273,
                                        398.5311998426914,
                                        398.53159976005554,
                                        398.53199994564056,
                                        398.5323998630047,
                                        398.5327997803688,
                                        398.5331996977329,
                                        398.53359961509705,
                                        398.53399980068207,
                                        398.5343997180462,
                                        398.5347996354103,
                                        398.53519955277443,
                                        398.53559947013855,
                                        398.5359996557236,
                                        398.5363995730877,
                                        398.5367994904518,
                                        398.53719940781593,
                                        398.53759932518005,
                                        398.5379995107651,
                                        398.5383994281292,
                                        398.5387993454933,
                                        398.53919926285744,
                                        398.53959918022156,
                                        398.5399993658066,
                                        398.5403992831707,
                                        398.5407992005348,
                                        398.54119911789894,
                                        398.54159903526306,
                                        398.5419992208481,
                                        398.5423991382122,
                                        398.5427990555763,
                                        398.54319897294044,
                                        398.54359889030457,
                                        398.5439990758896,
                                        398.5443989932537,
                                        398.5447989106178,
                                        398.54519882798195,
                                        398.54559874534607,
                                        398.5459989309311,
                                        398.5463988482952,
                                        398.54679876565933,
                                        398.54719868302345,
                                        398.5475986003876,
                                        398.5479987859726,
                                        398.5483987033367,
                                        398.54879862070084,
                                        398.54919853806496,
                                        398.5495984554291,
                                        398.5499986410141,
                                        398.5503985583782,
                                        398.55079847574234,
                                        398.55119839310646,
                                        398.5515983104706,
                                        398.5519984960556,
                                        398.5523984134197,
                                        398.55279833078384,
                                        398.55319824814796,
                                        398.5535981655121,
                                        398.5539983510971,
                                        398.5543982684612,
                                        398.55479818582535,
                                        398.55519810318947,
                                        398.5555980205536,
                                        398.5559982061386,
                                        398.55639812350273,
                                        398.55679804086685,
                                        398.557197958231,
                                        398.5575978755951,
                                        398.5579980611801,
                                        398.55839797854424,
                                        398.55879789590836,
                                        398.5591978132725,
                                        398.5595977306366,
                                        398.5599979162216,
                                        398.56039783358574,
                                        398.56079775094986,
                                        398.561197668314,
                                        398.5615975856781,
                                        398.5619977712631,
                                        398.56239768862724,
                                        398.56279760599136,
                                        398.5631975233555,
                                        398.5635974407196,
                                        398.5639976263046,
                                        398.56439754366875,
                                        398.56479746103287
                                    ],
                                    "y": [
                                        0.03588797330188143,
                                        0.035473369750189394,
                                        0.03512273964518768,
                                        0.03578707616972707,
                                        0.035899004921596325,
                                        0.03514430717107335,
                                        0.03481495682195322,
                                        0.035554113166629105,
                                        0.0349613113680265,
                                        0.035710979509967905,
                                        0.035389449853191014,
                                        0.03469197190574533,
                                        0.03495335931694285,
                                        0.034912574362004165,
                                        0.03515011719868101,
                                        0.03455463392633368,
                                        0.034152388679849356,
                                        0.03401988283866367,
                                        0.0337929274456422,
                                        0.03337779912061573,
                                        0.032844584807881765,
                                        0.03244216469192901,
                                        0.03189513893617377,
                                        0.031191338149584056,
                                        0.030117380811907356,
                                        0.028837374892452836,
                                        0.027279161318261528,
                                        0.0256182115409369,
                                        0.022151099692568777,
                                        0.022269329426794625,
                                        0.019228211511674028,
                                        0.013470610225575023,
                                        0.006603235477036527,
                                        0.0032819208003558994,
                                        -0.001246333631382385,
                                        -0.019739054069102445,
                                        -0.009672276816645025,
                                        -0.0215155825418573,
                                        -0.0275303418388161,
                                        -0.026322652266381228,
                                        -0.029905167915980906,
                                        -0.03884123650085514,
                                        -0.0433867886719162,
                                        -0.032820467473271685,
                                        -0.025542765064629887,
                                        -0.022704757621872178,
                                        -0.021358094615470828,
                                        -0.015007733093696924,
                                        -0.011225247365789172,
                                        -0.011039681788863462,
                                        -0.001727653308238317,
                                        0.008473723159361735,
                                        0.012205919546092955,
                                        0.0165955815315706,
                                        0.02190965818645962,
                                        0.02423918080043167,
                                        0.025683289227323148,
                                        0.028491495481284664,
                                        0.029731371919964562,
                                        0.030703494673276592,
                                        0.032161342560302744,
                                        0.03306774678429077,
                                        0.03283970839511118,
                                        0.03347711440560395,
                                        0.03458715436775218,
                                        0.03490124472636763,
                                        0.034294522332680155,
                                        0.035314514016998436,
                                        0.03471575123252897,
                                        0.03503414581566163,
                                        0.035767348394337276,
                                        0.035653547915655615,
                                        0.0356713038482556,
                                        0.03549433703617085,
                                        0.035764404459939614,
                                        0.035349019104696046,
                                        0.035618671076084824,
                                        0.03521396615201952,
                                        0.03545759456260419,
                                        0.03522074341061181,
                                        0.0353530173464903,
                                        0.035688958621698554,
                                        0.0354673570905081,
                                        0.03549772505600759,
                                        0.03568924044960185,
                                        0.0356793931113895,
                                        0.03536513177895847,
                                        0.03536591676441918
                                    ]
                                }
                            ],
                            "layout": {
                                "template": {
                                    "data": {
                                        "bar": [
                                            {
                                                "error_x": {
                                                    "color": "#f2f5fa"
                                                },
                                                "error_y": {
                                                    "color": "#f2f5fa"
                                                },
                                                "marker": {
                                                    "line": {
                                                        "color": "rgb(17,17,17)",
                                                        "width": 0.5
                                                    },
                                                    "pattern": {
                                                        "fillmode": "overlay",
                                                        "size": 10,
                                                        "solidity": 0.2
                                                    }
                                                },
                                                "type": "bar"
                                            }
                                        ],
                                        "barpolar": [
                                            {
                                                "marker": {
                                                    "line": {
                                                        "color": "rgb(17,17,17)",
                                                        "width": 0.5
                                                    },
                                                    "pattern": {
                                                        "fillmode": "overlay",
                                                        "size": 10,
                                                        "solidity": 0.2
                                                    }
                                                },
                                                "type": "barpolar"
                                            }
                                        ],
                                        "carpet": [
                                            {
                                                "aaxis": {
                                                    "endlinecolor": "#A2B1C6",
                                                    "gridcolor": "#506784",
                                                    "linecolor": "#506784",
                                                    "minorgridcolor": "#506784",
                                                    "startlinecolor": "#A2B1C6"
                                                },
                                                "baxis": {
                                                    "endlinecolor": "#A2B1C6",
                                                    "gridcolor": "#506784",
                                                    "linecolor": "#506784",
                                                    "minorgridcolor": "#506784",
                                                    "startlinecolor": "#A2B1C6"
                                                },
                                                "type": "carpet"
                                            }
                                        ],
                                        "choropleth": [
                                            {
                                                "colorbar": {
                                                    "outlinewidth": 0,
                                                    "ticks": ""
                                                },
                                                "type": "choropleth"
                                            }
                                        ],
                                        "contour": [
                                            {
                                                "colorbar": {
                                                    "outlinewidth": 0,
                                                    "ticks": ""
                                                },
                                                "colorscale": [
                                                    [
                                                        0,
                                                        "#0d0887"
                                                    ],
                                                    [
                                                        0.1111111111111111,
                                                        "#46039f"
                                                    ],
                                                    [
                                                        0.2222222222222222,
                                                        "#7201a8"
                                                    ],
                                                    [
                                                        0.3333333333333333,
                                                        "#9c179e"
                                                    ],
                                                    [
                                                        0.4444444444444444,
                                                        "#bd3786"
                                                    ],
                                                    [
                                                        0.5555555555555556,
                                                        "#d8576b"
                                                    ],
                                                    [
                                                        0.6666666666666666,
                                                        "#ed7953"
                                                    ],
                                                    [
                                                        0.7777777777777778,
                                                        "#fb9f3a"
                                                    ],
                                                    [
                                                        0.8888888888888888,
                                                        "#fdca26"
                                                    ],
                                                    [
                                                        1,
                                                        "#f0f921"
                                                    ]
                                                ],
                                                "type": "contour"
                                            }
                                        ],
                                        "contourcarpet": [
                                            {
                                                "colorbar": {
                                                    "outlinewidth": 0,
                                                    "ticks": ""
                                                },
                                                "type": "contourcarpet"
                                            }
                                        ],
                                        "heatmap": [
                                            {
                                                "colorbar": {
                                                    "outlinewidth": 0,
                                                    "ticks": ""
                                                },
                                                "colorscale": [
                                                    [
                                                        0,
                                                        "#0d0887"
                                                    ],
                                                    [
                                                        0.1111111111111111,
                                                        "#46039f"
                                                    ],
                                                    [
                                                        0.2222222222222222,
                                                        "#7201a8"
                                                    ],
                                                    [
                                                        0.3333333333333333,
                                                        "#9c179e"
                                                    ],
                                                    [
                                                        0.4444444444444444,
                                                        "#bd3786"
                                                    ],
                                                    [
                                                        0.5555555555555556,
                                                        "#d8576b"
                                                    ],
                                                    [
                                                        0.6666666666666666,
                                                        "#ed7953"
                                                    ],
                                                    [
                                                        0.7777777777777778,
                                                        "#fb9f3a"
                                                    ],
                                                    [
                                                        0.8888888888888888,
                                                        "#fdca26"
                                                    ],
                                                    [
                                                        1,
                                                        "#f0f921"
                                                    ]
                                                ],
                                                "type": "heatmap"
                                            }
                                        ],
                                        "heatmapgl": [
                                            {
                                                "colorbar": {
                                                    "outlinewidth": 0,
                                                    "ticks": ""
                                                },
                                                "colorscale": [
                                                    [
                                                        0,
                                                        "#0d0887"
                                                    ],
                                                    [
                                                        0.1111111111111111,
                                                        "#46039f"
                                                    ],
                                                    [
                                                        0.2222222222222222,
                                                        "#7201a8"
                                                    ],
                                                    [
                                                        0.3333333333333333,
                                                        "#9c179e"
                                                    ],
                                                    [
                                                        0.4444444444444444,
                                                        "#bd3786"
                                                    ],
                                                    [
                                                        0.5555555555555556,
                                                        "#d8576b"
                                                    ],
                                                    [
                                                        0.6666666666666666,
                                                        "#ed7953"
                                                    ],
                                                    [
                                                        0.7777777777777778,
                                                        "#fb9f3a"
                                                    ],
                                                    [
                                                        0.8888888888888888,
                                                        "#fdca26"
                                                    ],
                                                    [
                                                        1,
                                                        "#f0f921"
                                                    ]
                                                ],
                                                "type": "heatmapgl"
                                            }
                                        ],
                                        "histogram": [
                                            {
                                                "marker": {
                                                    "pattern": {
                                                        "fillmode": "overlay",
                                                        "size": 10,
                                                        "solidity": 0.2
                                                    }
                                                },
                                                "type": "histogram"
                                            }
                                        ],
                                        "histogram2d": [
                                            {
                                                "colorbar": {
                                                    "outlinewidth": 0,
                                                    "ticks": ""
                                                },
                                                "colorscale": [
                                                    [
                                                        0,
                                                        "#0d0887"
                                                    ],
                                                    [
                                                        0.1111111111111111,
                                                        "#46039f"
                                                    ],
                                                    [
                                                        0.2222222222222222,
                                                        "#7201a8"
                                                    ],
                                                    [
                                                        0.3333333333333333,
                                                        "#9c179e"
                                                    ],
                                                    [
                                                        0.4444444444444444,
                                                        "#bd3786"
                                                    ],
                                                    [
                                                        0.5555555555555556,
                                                        "#d8576b"
                                                    ],
                                                    [
                                                        0.6666666666666666,
                                                        "#ed7953"
                                                    ],
                                                    [
                                                        0.7777777777777778,
                                                        "#fb9f3a"
                                                    ],
                                                    [
                                                        0.8888888888888888,
                                                        "#fdca26"
                                                    ],
                                                    [
                                                        1,
                                                        "#f0f921"
                                                    ]
                                                ],
                                                "type": "histogram2d"
                                            }
                                        ],
                                        "histogram2dcontour": [
                                            {
                                                "colorbar": {
                                                    "outlinewidth": 0,
                                                    "ticks": ""
                                                },
                                                "colorscale": [
                                                    [
                                                        0,
                                                        "#0d0887"
                                                    ],
                                                    [
                                                        0.1111111111111111,
                                                        "#46039f"
                                                    ],
                                                    [
                                                        0.2222222222222222,
                                                        "#7201a8"
                                                    ],
                                                    [
                                                        0.3333333333333333,
                                                        "#9c179e"
                                                    ],
                                                    [
                                                        0.4444444444444444,
                                                        "#bd3786"
                                                    ],
                                                    [
                                                        0.5555555555555556,
                                                        "#d8576b"
                                                    ],
                                                    [
                                                        0.6666666666666666,
                                                        "#ed7953"
                                                    ],
                                                    [
                                                        0.7777777777777778,
                                                        "#fb9f3a"
                                                    ],
                                                    [
                                                        0.8888888888888888,
                                                        "#fdca26"
                                                    ],
                                                    [
                                                        1,
                                                        "#f0f921"
                                                    ]
                                                ],
                                                "type": "histogram2dcontour"
                                            }
                                        ],
                                        "mesh3d": [
                                            {
                                                "colorbar": {
                                                    "outlinewidth": 0,
                                                    "ticks": ""
                                                },
                                                "type": "mesh3d"
                                            }
                                        ],
                                        "parcoords": [
                                            {
                                                "line": {
                                                    "colorbar": {
                                                        "outlinewidth": 0,
                                                        "ticks": ""
                                                    }
                                                },
                                                "type": "parcoords"
                                            }
                                        ],
                                        "pie": [
                                            {
                                                "automargin": true,
                                                "type": "pie"
                                            }
                                        ],
                                        "scatter": [
                                            {
                                                "marker": {
                                                    "line": {
                                                        "color": "#283442"
                                                    }
                                                },
                                                "type": "scatter"
                                            }
                                        ],
                                        "scatter3d": [
                                            {
                                                "line": {
                                                    "colorbar": {
                                                        "outlinewidth": 0,
                                                        "ticks": ""
                                                    }
                                                },
                                                "marker": {
                                                    "colorbar": {
                                                        "outlinewidth": 0,
                                                        "ticks": ""
                                                    }
                                                },
                                                "type": "scatter3d"
                                            }
                                        ],
                                        "scattercarpet": [
                                            {
                                                "marker": {
                                                    "colorbar": {
                                                        "outlinewidth": 0,
                                                        "ticks": ""
                                                    }
                                                },
                                                "type": "scattercarpet"
                                            }
                                        ],
                                        "scattergeo": [
                                            {
                                                "marker": {
                                                    "colorbar": {
                                                        "outlinewidth": 0,
                                                        "ticks": ""
                                                    }
                                                },
                                                "type": "scattergeo"
                                            }
                                        ],
                                        "scattergl": [
                                            {
                                                "marker": {
                                                    "line": {
                                                        "color": "#283442"
                                                    }
                                                },
                                                "type": "scattergl"
                                            }
                                        ],
                                        "scattermapbox": [
                                            {
                                                "marker": {
                                                    "colorbar": {
                                                        "outlinewidth": 0,
                                                        "ticks": ""
                                                    }
                                                },
                                                "type": "scattermapbox"
                                            }
                                        ],
                                        "scatterpolar": [
                                            {
                                                "marker": {
                                                    "colorbar": {
                                                        "outlinewidth": 0,
                                                        "ticks": ""
                                                    }
                                                },
                                                "type": "scatterpolar"
                                            }
                                        ],
                                        "scatterpolargl": [
                                            {
                                                "marker": {
                                                    "colorbar": {
                                                        "outlinewidth": 0,
                                                        "ticks": ""
                                                    }
                                                },
                                                "type": "scatterpolargl"
                                            }
                                        ],
                                        "scatterternary": [
                                            {
                                                "marker": {
                                                    "colorbar": {
                                                        "outlinewidth": 0,
                                                        "ticks": ""
                                                    }
                                                },
                                                "type": "scatterternary"
                                            }
                                        ],
                                        "surface": [
                                            {
                                                "colorbar": {
                                                    "outlinewidth": 0,
                                                    "ticks": ""
                                                },
                                                "colorscale": [
                                                    [
                                                        0,
                                                        "#0d0887"
                                                    ],
                                                    [
                                                        0.1111111111111111,
                                                        "#46039f"
                                                    ],
                                                    [
                                                        0.2222222222222222,
                                                        "#7201a8"
                                                    ],
                                                    [
                                                        0.3333333333333333,
                                                        "#9c179e"
                                                    ],
                                                    [
                                                        0.4444444444444444,
                                                        "#bd3786"
                                                    ],
                                                    [
                                                        0.5555555555555556,
                                                        "#d8576b"
                                                    ],
                                                    [
                                                        0.6666666666666666,
                                                        "#ed7953"
                                                    ],
                                                    [
                                                        0.7777777777777778,
                                                        "#fb9f3a"
                                                    ],
                                                    [
                                                        0.8888888888888888,
                                                        "#fdca26"
                                                    ],
                                                    [
                                                        1,
                                                        "#f0f921"
                                                    ]
                                                ],
                                                "type": "surface"
                                            }
                                        ],
                                        "table": [
                                            {
                                                "cells": {
                                                    "fill": {
                                                        "color": "#506784"
                                                    },
                                                    "line": {
                                                        "color": "rgb(17,17,17)"
                                                    }
                                                },
                                                "header": {
                                                    "fill": {
                                                        "color": "#2a3f5f"
                                                    },
                                                    "line": {
                                                        "color": "rgb(17,17,17)"
                                                    }
                                                },
                                                "type": "table"
                                            }
                                        ]
                                    },
                                    "layout": {
                                        "annotationdefaults": {
                                            "arrowcolor": "#f2f5fa",
                                            "arrowhead": 0,
                                            "arrowwidth": 1
                                        },
                                        "autotypenumbers": "strict",
                                        "coloraxis": {
                                            "colorbar": {
                                                "outlinewidth": 0,
                                                "ticks": ""
                                            }
                                        },
                                        "colorscale": {
                                            "diverging": [
                                                [
                                                    0,
                                                    "#8e0152"
                                                ],
                                                [
                                                    0.1,
                                                    "#c51b7d"
                                                ],
                                                [
                                                    0.2,
                                                    "#de77ae"
                                                ],
                                                [
                                                    0.3,
                                                    "#f1b6da"
                                                ],
                                                [
                                                    0.4,
                                                    "#fde0ef"
                                                ],
                                                [
                                                    0.5,
                                                    "#f7f7f7"
                                                ],
                                                [
                                                    0.6,
                                                    "#e6f5d0"
                                                ],
                                                [
                                                    0.7,
                                                    "#b8e186"
                                                ],
                                                [
                                                    0.8,
                                                    "#7fbc41"
                                                ],
                                                [
                                                    0.9,
                                                    "#4d9221"
                                                ],
                                                [
                                                    1,
                                                    "#276419"
                                                ]
                                            ],
                                            "sequential": [
                                                [
                                                    0,
                                                    "#0d0887"
                                                ],
                                                [
                                                    0.1111111111111111,
                                                    "#46039f"
                                                ],
                                                [
                                                    0.2222222222222222,
                                                    "#7201a8"
                                                ],
                                                [
                                                    0.3333333333333333,
                                                    "#9c179e"
                                                ],
                                                [
                                                    0.4444444444444444,
                                                    "#bd3786"
                                                ],
                                                [
                                                    0.5555555555555556,
                                                    "#d8576b"
                                                ],
                                                [
                                                    0.6666666666666666,
                                                    "#ed7953"
                                                ],
                                                [
                                                    0.7777777777777778,
                                                    "#fb9f3a"
                                                ],
                                                [
                                                    0.8888888888888888,
                                                    "#fdca26"
                                                ],
                                                [
                                                    1,
                                                    "#f0f921"
                                                ]
                                            ],
                                            "sequentialminus": [
                                                [
                                                    0,
                                                    "#0d0887"
                                                ],
                                                [
                                                    0.1111111111111111,
                                                    "#46039f"
                                                ],
                                                [
                                                    0.2222222222222222,
                                                    "#7201a8"
                                                ],
                                                [
                                                    0.3333333333333333,
                                                    "#9c179e"
                                                ],
                                                [
                                                    0.4444444444444444,
                                                    "#bd3786"
                                                ],
                                                [
                                                    0.5555555555555556,
                                                    "#d8576b"
                                                ],
                                                [
                                                    0.6666666666666666,
                                                    "#ed7953"
                                                ],
                                                [
                                                    0.7777777777777778,
                                                    "#fb9f3a"
                                                ],
                                                [
                                                    0.8888888888888888,
                                                    "#fdca26"
                                                ],
                                                [
                                                    1,
                                                    "#f0f921"
                                                ]
                                            ]
                                        },
                                        "colorway": [
                                            "#636efa",
                                            "#EF553B",
                                            "#00cc96",
                                            "#ab63fa",
                                            "#FFA15A",
                                            "#19d3f3",
                                            "#FF6692",
                                            "#B6E880",
                                            "#FF97FF",
                                            "#FECB52"
                                        ],
                                        "font": {
                                            "color": "#f2f5fa"
                                        },
                                        "geo": {
                                            "bgcolor": "rgb(17,17,17)",
                                            "lakecolor": "rgb(17,17,17)",
                                            "landcolor": "rgb(17,17,17)",
                                            "showlakes": true,
                                            "showland": true,
                                            "subunitcolor": "#506784"
                                        },
                                        "hoverlabel": {
                                            "align": "left"
                                        },
                                        "hovermode": "closest",
                                        "mapbox": {
                                            "style": "dark"
                                        },
                                        "paper_bgcolor": "rgb(17,17,17)",
                                        "plot_bgcolor": "rgb(17,17,17)",
                                        "polar": {
                                            "angularaxis": {
                                                "gridcolor": "#506784",
                                                "linecolor": "#506784",
                                                "ticks": ""
                                            },
                                            "bgcolor": "rgb(17,17,17)",
                                            "radialaxis": {
                                                "gridcolor": "#506784",
                                                "linecolor": "#506784",
                                                "ticks": ""
                                            }
                                        },
                                        "scene": {
                                            "xaxis": {
                                                "backgroundcolor": "rgb(17,17,17)",
                                                "gridcolor": "#506784",
                                                "gridwidth": 2,
                                                "linecolor": "#506784",
                                                "showbackground": true,
                                                "ticks": "",
                                                "zerolinecolor": "#C8D4E3"
                                            },
                                            "yaxis": {
                                                "backgroundcolor": "rgb(17,17,17)",
                                                "gridcolor": "#506784",
                                                "gridwidth": 2,
                                                "linecolor": "#506784",
                                                "showbackground": true,
                                                "ticks": "",
                                                "zerolinecolor": "#C8D4E3"
                                            },
                                            "zaxis": {
                                                "backgroundcolor": "rgb(17,17,17)",
                                                "gridcolor": "#506784",
                                                "gridwidth": 2,
                                                "linecolor": "#506784",
                                                "showbackground": true,
                                                "ticks": "",
                                                "zerolinecolor": "#C8D4E3"
                                            }
                                        },
                                        "shapedefaults": {
                                            "line": {
                                                "color": "#f2f5fa"
                                            }
                                        },
                                        "sliderdefaults": {
                                            "bgcolor": "#C8D4E3",
                                            "bordercolor": "rgb(17,17,17)",
                                            "borderwidth": 1,
                                            "tickwidth": 0
                                        },
                                        "ternary": {
                                            "aaxis": {
                                                "gridcolor": "#506784",
                                                "linecolor": "#506784",
                                                "ticks": ""
                                            },
                                            "baxis": {
                                                "gridcolor": "#506784",
                                                "linecolor": "#506784",
                                                "ticks": ""
                                            },
                                            "bgcolor": "rgb(17,17,17)",
                                            "caxis": {
                                                "gridcolor": "#506784",
                                                "linecolor": "#506784",
                                                "ticks": ""
                                            }
                                        },
                                        "title": {
                                            "x": 0.05
                                        },
                                        "updatemenudefaults": {
                                            "bgcolor": "#506784",
                                            "borderwidth": 0
                                        },
                                        "xaxis": {
                                            "automargin": true,
                                            "gridcolor": "#283442",
                                            "linecolor": "#506784",
                                            "ticks": "",
                                            "title": {
                                                "standoff": 15
                                            },
                                            "zerolinecolor": "#283442",
                                            "zerolinewidth": 2
                                        },
                                        "yaxis": {
                                            "automargin": true,
                                            "gridcolor": "#283442",
                                            "linecolor": "#506784",
                                            "ticks": "",
                                            "title": {
                                                "standoff": 15
                                            },
                                            "zerolinecolor": "#283442",
                                            "zerolinewidth": 2
                                        }
                                    }
                                },
                                "title": {
                                    "text": "Plotly Plot"
                                },
                                "xaxis": {
                                    "title": {
                                        "text": "Frequency (Adjusted)"
                                    }
                                },
                                "yaxis": {
                                    "title": {
                                        "text": "Normalized Difference"
                                    }
                                }
                            }
                        }
                    },
                    "metadata": {},
                    "output_type": "display_data"
                }
            ],
            "source": [
                "import plotly.graph_objects as go\n",
                "\n",
                "# Assuming freq_actual, on, and off are defined arrays\n",
                "trace = go.Scatter(\n",
                "    x=freq_actual * 24,  # Multiply frequency by 24 for x-axis\n",
                "    y=(on - off) / off,  # Compute y-axis values\n",
                "    mode='lines',  # Line plot\n",
                "    name='Plot'\n",
                ")\n",
                "\n",
                "# Create the figure\n",
                "fig = go.Figure(trace)\n",
                "\n",
                "# Customize layout (optional)\n",
                "fig.update_layout(\n",
                "    title=\"Plotly Plot\",\n",
                "    xaxis_title=\"Frequency (Adjusted)\",\n",
                "    yaxis_title=\"Normalized Difference\",\n",
                "    template=\"plotly_dark\"\n",
                ")\n",
                "\n",
                "# Show the figure\n",
                "fig.show()\n"
            ]
        },
        {
            "cell_type": "code",
            "execution_count": 36,
            "metadata": {},
            "outputs": [],
            "source": [
                "def model_gaussian(freq, A, f0, sigma, C):\n",
                "    \"\"\"\n",
                "    Gaussian model with a flat background.\n",
                "    :param freq: Frequency array\n",
                "    :param A: Amplitude of the Gaussian (can be positive or negative)\n",
                "    :param f0: Center frequency\n",
                "    :param sigma: Standard deviation (related to width)\n",
                "    :param C: Flat background offset\n",
                "    \"\"\"\n",
                "    return A * np.exp(-0.5 * ((freq - f0) / sigma) ** 2) + C"
            ]
        },
        {
            "cell_type": "code",
            "execution_count": 38,
            "metadata": {},
            "outputs": [],
            "source": [
                "from scipy.optimize import curve_fit\n"
            ]
        },
        {
            "cell_type": "code",
            "execution_count": 79,
            "metadata": {},
            "outputs": [],
            "source": [
                "def estimator_gaussian(freq, sig):\n",
                "    \"\"\"\n",
                "    Estimate initial parameters for the Gaussian model.\n",
                "    :param freq: Frequency array\n",
                "    :param sig: Signal array\n",
                "    :return: Initial guesses for A, f0, sigma, and C\n",
                "    \"\"\"\n",
                "    # Estimate flat background (C) as the median of the signal\n",
                "    C = np.median(sig)\n",
                "\n",
                "    # Estimate amplitude (A) as the difference between the max and min signal\n",
                "    A = np.max(sig) - np.min(sig)\n",
                "\n",
                "    # Estimate center frequency (f0) as the frequency corresponding to the maximum absolute deviation\n",
                "    f0 = freq[np.argmax(np.abs(sig - C))]\n",
                "\n",
                "    # Estimate sigma as the range where the signal drops to ~37% (1/e) of the peak\n",
                "    peak_index = np.argmax(np.abs(sig - C))\n",
                "    half_max = np.abs(A) / np.exp(1)\n",
                "    near_peak = np.abs(sig - C) > half_max\n",
                "    if np.sum(near_peak) > 1:\n",
                "        sigma = (freq[near_peak][-1] - freq[near_peak][0]) / (\n",
                "            2 * np.sqrt(2 * np.log(2))\n",
                "        )  # Convert FWHM to sigma\n",
                "    else:\n",
                "        sigma = (freq[-1] - freq[0]) / 10  # Default guess for sigma\n",
                "\n",
                "    return [A, f0, np.abs(sigma), C]\n"
            ]
        },
        {
            "cell_type": "code",
            "execution_count": 80,
            "metadata": {},
            "outputs": [],
            "source": [
                "initial_guess=estimator_gaussian(freq_actual*24, (on-off)/off-np.max((on-off)/off))"
            ]
        },
        {
            "cell_type": "code",
            "execution_count": 81,
            "metadata": {},
            "outputs": [],
            "source": [
                "params, covaraince = curve_fit(model_gaussian,freq_actual*24, (on-off)/off-np.max((on-off)/off), p0=initial_guess)"
            ]
        },
        {
            "cell_type": "code",
            "execution_count": 82,
            "metadata": {},
            "outputs": [
                {
                    "data": {
                        "text/plain": [
                            "[<matplotlib.lines.Line2D at 0x20f973a1870>]"
                        ]
                    },
                    "execution_count": 82,
                    "metadata": {},
                    "output_type": "execute_result"
                },
                {
                    "data": {
                        "image/png": "[encoded data removed]",
                        "text/plain": [
                            "<Figure size 640x480 with 1 Axes>"
                        ]
                    },
                    "metadata": {},
                    "output_type": "display_data"
                }
            ],
            "source": [
                "# plt.plot(on)\n",
                "# plt.plot(off)\n",
                "plt.plot((on-off)/off-np.max((on-off)/off))"
            ]
        },
        {
            "cell_type": "code",
            "execution_count": 85,
            "metadata": {},
            "outputs": [
                {
                    "data": {
                        "application/vnd.plotly.v1+json": {
                            "config": {
                                "plotlyServerURL": "https://plot.ly"
                            },
                            "data": [
                                {
                                    "marker": {
                                        "color": "blue",
                                        "size": 6
                                    },
                                    "mode": "markers",
                                    "name": "Data",
                                    "type": "scatter",
                                    "x": [
                                        398.53000009059906,
                                        398.5304000079632,
                                        398.5307999253273,
                                        398.5311998426914,
                                        398.53159976005554,
                                        398.53199994564056,
                                        398.5323998630047,
                                        398.5327997803688,
                                        398.5331996977329,
                                        398.53359961509705,
                                        398.53399980068207,
                                        398.5343997180462,
                                        398.5347996354103,
                                        398.53519955277443,
                                        398.53559947013855,
                                        398.5359996557236,
                                        398.5363995730877,
                                        398.5367994904518,
                                        398.53719940781593,
                                        398.53759932518005,
                                        398.5379995107651,
                                        398.5383994281292,
                                        398.5387993454933,
                                        398.53919926285744,
                                        398.53959918022156,
                                        398.5399993658066,
                                        398.5403992831707,
                                        398.5407992005348,
                                        398.54119911789894,
                                        398.54159903526306,
                                        398.5419992208481,
                                        398.5423991382122,
                                        398.5427990555763,
                                        398.54319897294044,
                                        398.54359889030457,
                                        398.5439990758896,
                                        398.5443989932537,
                                        398.5447989106178,
                                        398.54519882798195,
                                        398.54559874534607,
                                        398.5459989309311,
                                        398.5463988482952,
                                        398.54679876565933,
                                        398.54719868302345,
                                        398.5475986003876,
                                        398.5479987859726,
                                        398.5483987033367,
                                        398.54879862070084,
                                        398.54919853806496,
                                        398.5495984554291,
                                        398.5499986410141,
                                        398.5503985583782,
                                        398.55079847574234,
                                        398.55119839310646,
                                        398.5515983104706,
                                        398.5519984960556,
                                        398.5523984134197,
                                        398.55279833078384,
                                        398.55319824814796,
                                        398.5535981655121,
                                        398.5539983510971,
                                        398.5543982684612,
                                        398.55479818582535,
                                        398.55519810318947,
                                        398.5555980205536,
                                        398.5559982061386,
                                        398.55639812350273,
                                        398.55679804086685,
                                        398.557197958231,
                                        398.5575978755951,
                                        398.5579980611801,
                                        398.55839797854424,
                                        398.55879789590836,
                                        398.5591978132725,
                                        398.5595977306366,
                                        398.5599979162216,
                                        398.56039783358574,
                                        398.56079775094986,
                                        398.561197668314,
                                        398.5615975856781,
                                        398.5619977712631,
                                        398.56239768862724,
                                        398.56279760599136,
                                        398.5631975233555,
                                        398.5635974407196,
                                        398.5639976263046,
                                        398.56439754366875,
                                        398.56479746103287
                                    ],
                                    "y": [
                                        -0.000011031619714892138,
                                        -0.0004256351714069309,
                                        -0.0007762652764086442,
                                        -0.00011192875186925855,
                                        0,
                                        -0.0007546977505229757,
                                        -0.0010840480996431034,
                                        -0.00034489175496722063,
                                        -0.0009376935535698253,
                                        -0.00018802541162842024,
                                        -0.000509555068405311,
                                        -0.0012070330158509973,
                                        -0.000945645604653475,
                                        -0.0009864305595921607,
                                        -0.0007488877229153146,
                                        -0.0013443709952626476,
                                        -0.0017466162417469691,
                                        -0.0018791220829326577,
                                        -0.002106077475954128,
                                        -0.002521205800980593,
                                        -0.0030544201137145607,
                                        -0.0034568402296673156,
                                        -0.004003865985422558,
                                        -0.004707666772012269,
                                        -0.005781624109688969,
                                        -0.007061630029143489,
                                        -0.008619843603334797,
                                        -0.010280793380659424,
                                        -0.013747905229027548,
                                        -0.0136296754948017,
                                        -0.016670793409922297,
                                        -0.0224283946960213,
                                        -0.029295769444559798,
                                        -0.032617084121240425,
                                        -0.03714533855297871,
                                        -0.05563805899069877,
                                        -0.04557128173824135,
                                        -0.057414587463453626,
                                        -0.06342934676041243,
                                        -0.06222165718797755,
                                        -0.06580417283757722,
                                        -0.07474024142245148,
                                        -0.07928579359351252,
                                        -0.068719472394868,
                                        -0.06144176998622621,
                                        -0.0586037625434685,
                                        -0.05725709953706715,
                                        -0.050906738015293246,
                                        -0.047124252287385496,
                                        -0.04693868671045979,
                                        -0.037626658229834645,
                                        -0.02742528176223459,
                                        -0.02369308537550337,
                                        -0.019303423390025724,
                                        -0.013989346735136705,
                                        -0.011659824121164654,
                                        -0.010215715694273177,
                                        -0.007407509440311662,
                                        -0.006167633001631763,
                                        -0.005195510248319733,
                                        -0.003737662361293581,
                                        -0.002831258137305552,
                                        -0.0030592965264851432,
                                        -0.0024218905159923768,
                                        -0.0013118505538441474,
                                        -0.0009977601952286946,
                                        -0.0016044825889161701,
                                        -0.0005844909045978897,
                                        -0.001183253689067354,
                                        -0.0008648591059346941,
                                        -0.00013165652725904975,
                                        -0.00024545700594071074,
                                        -0.00022770107334072615,
                                        -0.00040466788542547344,
                                        -0.00013460046165671147,
                                        -0.0005499858169002794,
                                        -0.00028033384551150176,
                                        -0.000685038769576804,
                                        -0.0004414103589921378,
                                        -0.000678261510984518,
                                        -0.0005459875751060231,
                                        -0.00021004629989777174,
                                        -0.0004316478310882263,
                                        -0.000401279865588737,
                                        -0.00020976447199447246,
                                        -0.00021961181020682674,
                                        -0.0005338731426378571,
                                        -0.0005330881571771473
                                    ]
                                },
                                {
                                    "line": {
                                        "color": "red",
                                        "width": 2
                                    },
                                    "mode": "lines",
                                    "name": "Fitted Gaussian",
                                    "type": "scatter",
                                    "x": [
                                        398.53000009059906,
                                        398.5301164697644,
                                        398.5302328489297,
                                        398.5303492280951,
                                        398.5304656072604,
                                        398.5305819864257,
                                        398.53069836559104,
                                        398.53081474475636,
                                        398.5309311239217,
                                        398.53104750308705,
                                        398.5311638822524,
                                        398.5312802614177,
                                        398.531396640583,
                                        398.53151301974833,
                                        398.5316293989137,
                                        398.531745778079,
                                        398.53186215724435,
                                        398.53197853640967,
                                        398.532094915575,
                                        398.53221129474036,
                                        398.5323276739057,
                                        398.532444053071,
                                        398.5325604322363,
                                        398.53267681140164,
                                        398.53279319056696,
                                        398.53290956973234,
                                        398.53302594889766,
                                        398.533142328063,
                                        398.5332587072283,
                                        398.5333750863936,
                                        398.533491465559,
                                        398.5336078447243,
                                        398.53372422388964,
                                        398.53384060305495,
                                        398.5339569822203,
                                        398.53407336138565,
                                        398.53418974055097,
                                        398.5343061197163,
                                        398.5344224988816,
                                        398.53453887804693,
                                        398.53465525721225,
                                        398.5347716363776,
                                        398.53488801554295,
                                        398.53500439470827,
                                        398.5351207738736,
                                        398.5352371530389,
                                        398.5353535322043,
                                        398.5354699113696,
                                        398.5355862905349,
                                        398.53570266970024,
                                        398.53581904886556,
                                        398.53593542803094,
                                        398.53605180719626,
                                        398.5361681863616,
                                        398.5362845655269,
                                        398.5364009446922,
                                        398.53651732385754,
                                        398.5366337030229,
                                        398.53675008218823,
                                        398.53686646135355,
                                        398.5369828405189,
                                        398.5370992196842,
                                        398.53721559884957,
                                        398.5373319780149,
                                        398.5374483571802,
                                        398.53756473634553,
                                        398.53768111551085,
                                        398.5377974946762,
                                        398.53791387384155,
                                        398.53803025300687,
                                        398.5381466321722,
                                        398.5382630113375,
                                        398.5383793905028,
                                        398.5384957696682,
                                        398.5386121488335,
                                        398.53872852799884,
                                        398.53884490716416,
                                        398.5389612863295,
                                        398.53907766549486,
                                        398.5391940446602,
                                        398.5393104238255,
                                        398.5394268029908,
                                        398.53954318215614,
                                        398.5396595613215,
                                        398.53977594048683,
                                        398.53989231965215,
                                        398.5400086988175,
                                        398.5401250779828,
                                        398.5402414571481,
                                        398.5403578363135,
                                        398.5404742154788,
                                        398.54059059464413,
                                        398.54070697380945,
                                        398.54082335297477,
                                        398.54093973214015,
                                        398.54105611130547,
                                        398.5411724904708,
                                        398.5412888696361,
                                        398.5414052488014,
                                        398.5415216279668,
                                        398.5416380071321,
                                        398.54175438629744,
                                        398.54187076546276,
                                        398.5419871446281,
                                        398.5421035237934,
                                        398.5422199029588,
                                        398.5423362821241,
                                        398.5424526612894,
                                        398.54256904045474,
                                        398.54268541962006,
                                        398.54280179878543,
                                        398.54291817795075,
                                        398.5430345571161,
                                        398.5431509362814,
                                        398.5432673154467,
                                        398.5433836946121,
                                        398.5435000737774,
                                        398.54361645294273,
                                        398.54373283210805,
                                        398.54384921127337,
                                        398.5439655904387,
                                        398.54408196960406,
                                        398.5441983487694,
                                        398.5443147279347,
                                        398.5444311071,
                                        398.54454748626534,
                                        398.5446638654307,
                                        398.54478024459604,
                                        398.54489662376136,
                                        398.5450130029267,
                                        398.545129382092,
                                        398.5452457612574,
                                        398.5453621404227,
                                        398.545478519588,
                                        398.54559489875334,
                                        398.54571127791866,
                                        398.545827657084,
                                        398.54594403624935,
                                        398.5460604154147,
                                        398.54617679458,
                                        398.5462931737453,
                                        398.54640955291063,
                                        398.546525932076,
                                        398.5466423112413,
                                        398.54675869040665,
                                        398.54687506957197,
                                        398.5469914487373,
                                        398.54710782790266,
                                        398.547224207068,
                                        398.5473405862333,
                                        398.5474569653986,
                                        398.54757334456394,
                                        398.54768972372926,
                                        398.54780610289464,
                                        398.54792248205996,
                                        398.5480388612253,
                                        398.5481552403906,
                                        398.5482716195559,
                                        398.5483879987213,
                                        398.5485043778866,
                                        398.54862075705194,
                                        398.54873713621726,
                                        398.5488535153826,
                                        398.54896989454795,
                                        398.54908627371327,
                                        398.5492026528786,
                                        398.5493190320439,
                                        398.54943541120923,
                                        398.54955179037455,
                                        398.5496681695399,
                                        398.54978454870525,
                                        398.54990092787057,
                                        398.5500173070359,
                                        398.5501336862012,
                                        398.5502500653666,
                                        398.5503664445319,
                                        398.5504828236972,
                                        398.55059920286254,
                                        398.55071558202786,
                                        398.55083196119324,
                                        398.55094834035856,
                                        398.5510647195239,
                                        398.5511810986892,
                                        398.5512974778545,
                                        398.55141385701984,
                                        398.5515302361852,
                                        398.55164661535053,
                                        398.55176299451585,
                                        398.5518793736812,
                                        398.5519957528465,
                                        398.55211213201187,
                                        398.5522285111772,
                                        398.5523448903425,
                                        398.55246126950783,
                                        398.55257764867315,
                                        398.5526940278385,
                                        398.55281040700385,
                                        398.55292678616917,
                                        398.5530431653345,
                                        398.5531595444998,
                                        398.5532759236651,
                                        398.5533923028305,
                                        398.5535086819958,
                                        398.55362506116114,
                                        398.55374144032646,
                                        398.5538578194918,
                                        398.55397419865716,
                                        398.5540905778225,
                                        398.5542069569878,
                                        398.5543233361531,
                                        398.55443971531844,
                                        398.5545560944838,
                                        398.55467247364913,
                                        398.55478885281445,
                                        398.5549052319798,
                                        398.5550216111451,
                                        398.5551379903104,
                                        398.5552543694758,
                                        398.5553707486411,
                                        398.55548712780643,
                                        398.55560350697175,
                                        398.55571988613707,
                                        398.55583626530245,
                                        398.55595264446777,
                                        398.5560690236331,
                                        398.5561854027984,
                                        398.5563017819637,
                                        398.5564181611291,
                                        398.5565345402944,
                                        398.55665091945974,
                                        398.55676729862506,
                                        398.5568836777904,
                                        398.5570000569557,
                                        398.5571164361211,
                                        398.5572328152864,
                                        398.5573491944517,
                                        398.55746557361704,
                                        398.55758195278236,
                                        398.55769833194773,
                                        398.55781471111305,
                                        398.5579310902784,
                                        398.5580474694437,
                                        398.558163848609,
                                        398.5582802277744,
                                        398.5583966069397,
                                        398.55851298610503,
                                        398.55862936527035,
                                        398.55874574443567,
                                        398.558862123601,
                                        398.55897850276637,
                                        398.5590948819317,
                                        398.559211261097,
                                        398.5593276402623,
                                        398.55944401942764,
                                        398.559560398593,
                                        398.55967677775834,
                                        398.55979315692366,
                                        398.559909536089,
                                        398.5600259152543,
                                        398.5601422944197,
                                        398.560258673585,
                                        398.5603750527503,
                                        398.56049143191564,
                                        398.56060781108096,
                                        398.5607241902463,
                                        398.56084056941165,
                                        398.560956948577,
                                        398.5610733277423,
                                        398.5611897069076,
                                        398.56130608607293,
                                        398.5614224652383,
                                        398.56153884440363,
                                        398.56165522356895,
                                        398.56177160273427,
                                        398.5618879818996,
                                        398.56200436106496,
                                        398.5621207402303,
                                        398.5622371193956,
                                        398.5623534985609,
                                        398.56246987772624,
                                        398.56258625689156,
                                        398.56270263605694,
                                        398.56281901522226,
                                        398.5629353943876,
                                        398.5630517735529,
                                        398.5631681527182,
                                        398.5632845318836,
                                        398.5634009110489,
                                        398.56351729021424,
                                        398.56363366937956,
                                        398.5637500485449,
                                        398.56386642771025,
                                        398.5639828068756,
                                        398.5640991860409,
                                        398.5642155652062,
                                        398.56433194437153,
                                        398.56444832353685,
                                        398.5645647027022,
                                        398.56468108186755,
                                        398.56479746103287
                                    ],
                                    "y": [
                                        -0.0009220349779248238,
                                        -0.0009220356093384529,
                                        -0.0009220364057282871,
                                        -0.0009220374084575549,
                                        -0.0009220386687971836,
                                        -0.0009220402501802812,
                                        -0.0009220422309403349,
                                        -0.0009220447076299878,
                                        -0.0009220477990350691,
                                        -0.0009220516510193217,
                                        -0.0009220564423593755,
                                        -0.0009220623917574833,
                                        -0.0009220697662517247,
                                        -0.000922078891280567,
                                        -0.0009220901627012419,
                                        -0.0009221040611100886,
                                        -0.0009221211688686788,
                                        -0.000922142190302456,
                                        -0.0009221679756102656,
                                        -0.000922199549103679,
                                        -0.0009222381424855546,
                                        -0.000922285233979084,
                                        -0.0009223425942312138,
                                        -0.0009224123400405841,
                                        -0.0009224969970988771,
                                        -0.0009225995730877492,
                                        -0.0009227236426409476,
                                        -0.0009228734458653178,
                                        -0.0009230540023111791,
                                        -0.0009232712424984481,
                                        -0.0009235321593336895,
                                        -0.0009238449819973453,
                                        -0.0009242193751419628,
                                        -0.0009246666665094786,
                                        -0.0009252001063627584,
                                        -0.0009258351624158111,
                                        -0.0009265898542426473,
                                        -0.0009274851314502014,
                                        -0.0009285453001858502,
                                        -0.0009297985028484802,
                                        -0.000931277256138889,
                                        -0.0009330190528391973,
                                        -0.0009350670329247255,
                                        -0.0009374707298103959,
                                        -0.0009402868976331308,
                                        -0.0009435804255678233,
                                        -0.0009474253451507561,
                                        -0.0009519059364783614,
                                        -0.0009571179389873863,
                                        -0.0009631698721353067,
                                        -0.0009701844709079713,
                                        -0.0009783002404390594,
                                        -0.000987673133231883,
                                        -0.0009984783515954072,
                                        -0.001010912276603162,
                                        -0.0010251945236408409,
                                        -0.0010415701229186504,
                                        -0.0010603118215099067,
                                        -0.001081722501305475,
                                        -0.001106137705113087,
                                        -0.0011339282601912034,
                                        -0.0011655029859490888,
                                        -0.0012013114692522252,
                                        -0.0012418468873422403,
                                        -0.0012876488551654035,
                                        -0.001339306269510541,
                                        -0.0013974601190229418,
                                        -0.0014628062247769773,
                                        -0.001536097871840152,
                                        -0.0016181482887791475,
                                        -0.0017098329268311423,
                                        -0.0018120914875861098,
                                        -0.0019259296435917618,
                                        -0.00205242039307995,
                                        -0.0021927049864269438,
                                        -0.002347993360660959,
                                        -0.0025195640141209754,
                                        -0.0027087632541745715,
                                        -0.0029170037492083603,
                                        -0.0031457623161630253,
                                        -0.00339657687839796,
                                        -0.0036710425276014996,
                                        -0.003970806630709486,
                                        -0.00429756292587315,
                                        -0.0046530445574078745,
                                        -0.005039016010723133,
                                        -0.005457263911807531,
                                        -0.005909586672016234,
                                        -0.006397782967671871,
                                        -0.006923639058770781,
                                        -0.007488914963828756,
                                        -0.008095329529321679,
                                        -0.008744544440163158,
                                        -0.009438147244520096,
                                        -0.01017763347996434,
                                        -0.010964388006233106,
                                        -0.011799665676638293,
                                        -0.012684571486735272,
                                        -0.01362004037033068,
                                        -0.014606816824106693,
                                        -0.015645434558306512,
                                        -0.016736196396535303,
                                        -0.017879154644758543,
                                        -0.019074092178215662,
                                        -0.020320504494317236,
                                        -0.021617582990100675,
                                        -0.022964199721289436,
                                        -0.024358893913462375,
                                        -0.02579986047001905,
                                        -0.027284940736345308,
                                        -0.028811615755793107,
                                        -0.030377002236814485,
                                        -0.031977851446303746,
                                        -0.03361055119464521,
                                        -0.03527113107677472,
                                        -0.03695527108792109,
                                        -0.03865831369781859,
                                        -0.04037527944649931,
                                        -0.0421008860560752,
                                        -0.043829571039731445,
                                        -0.045555517728396146,
                                        -0.047272684597647184,
                                        -0.04897483772596311,
                                        -0.0506555861886158,
                                        -0.052308420118809026,
                                        -0.053926751155510814,
                                        -0.05550395494148298,
                                        -0.057033415299686634,
                                        -0.058508569699462463,
                                        -0.05992295556938535,
                                        -0.06127025701818334,
                                        -0.06254435149239158,
                                        -0.06373935588947922,
                                        -0.06484967165244279,
                                        -0.06587002835174269,
                                        -0.0667955252905265,
                                        -0.06762167067060168,
                                        -0.06834441788264754,
                                        -0.06896019850869556,
                                        -0.06946595166556285,
                                        -0.06985914934467,
                                        -0.07013781746014366,
                                        -0.07030055235784623,
                                        -0.07034653259217186,
                                        -0.07027552583339992,
                                        -0.07008789082275589,
                                        -0.06978457435348678,
                                        -0.06936710331267895,
                                        -0.06883757187885091,
                                        -0.06819862402233808,
                                        -0.06745343151713004,
                                        -0.06660566771710362,
                                        -0.06565947740109364,
                                        -0.06461944303237835,
                                        -0.06349054781984723,
                                        -0.06227813598947099,
                                        -0.06098787071880608,
                                        -0.059625690189457244,
                                        -0.05819776223554218,
                                        -0.05671043807447686,
                                        -0.05517020559228497,
                                        -0.05358364267391284,
                                        -0.051957371032260884,
                                        -0.050298010985089674,
                                        -0.04861213760619601,
                                        -0.0469062386322678,
                                        -0.045186674502348256,
                                        -0.04345964084187625,
                                        -0.04173113368058804,
                                        -0.040006917645098124,
                                        -0.038292497330046214,
                                        -0.03659309198947475,
                                        -0.03491361367481793,
                                        -0.03325864887205749,
                                        -0.031632443664284984,
                                        -0.030038892403966004,
                                        -0.028481529824076125,
                                        -0.026963526508390737,
                                        -0.025487687579792036,
                                        -0.024056454451387557,
                                        -0.02267190945803452,
                                        -0.02133578314952831,
                                        -0.020049464032576465,
                                        -0.018814010509636086,
                                        -0.017630164766981385,
                                        -0.016498368352310396,
                                        -0.01541877918392807,
                                        -0.01439128972284053,
                                        -0.013415546062507257,
                                        -0.012490967678762852,
                                        -0.011616767603645148,
                                        -0.010791972798177157,
                                        -0.010015444505227159,
                                        -0.009285898394508064,
                                        -0.008601924314162549,
                                        -0.007962005490516365,
                                        -0.007364537035664175,
                                        -0.006807843635828649,
                                        -0.00629019632362033,
                                        -0.005809828245366552,
                                        -0.005364949359831168,
                                        -0.00495376001995793,
                                        -0.004574463407759906,
                                        -0.004225276804032049,
                                        -0.0039044416960147487,
                                        -0.0036102327322142954,
                                        -0.0033409655494965316,
                                        -0.0030950035073352314,
                                        -0.002870763370478921,
                                        -0.0026667199933202946,
                                        -0.0024814100606852813,
                                        -0.0023134349472137663,
                                        -0.0021614627605586944,
                                        -0.0020242296343467854,
                                        -0.0019005403408593,
                                        -0.0017892682906778903,
                                        -0.0016893549875826243,
                                        -0.001599809004856791,
                                        -0.0015197045473633725,
                                        -0.0014481796601267909,
                                        -0.0013844341424707714,
                                        -0.0013277272216617466,
                                        -0.001277375037091063,
                                        -0.0012327479818606286,
                                        -0.0011932679440609013,
                                        -0.001158405486728488,
                                        -0.0011276770004815485,
                                        -0.0011006418593088037,
                                        -0.0010768996059889568,
                                        -0.0010560871896362098,
                                        -0.0010378762747863602,
                                        -0.0010219706376594663,
                                        -0.001008103662447281,
                                        -0.0009960359475519368,
                                        -0.0009855530291941056,
                                        -0.0009764632273865652,
                                        -0.0009685956174257168,
                                        -0.0009617981280478641,
                                        -0.0009559357659624492,
                                        -0.0009508889651179039,
                                        -0.0009465520578848245,
                                        -0.0009428318645184304,
                                        -0.0009396463964215783,
                                        -0.0009369236682155298,
                                        -0.0009346006131871552,
                                        -0.0009326220963632819,
                                        -0.0009309400193305776,
                                        -0.0009295125107950715,
                                        -0.0009283031969128898,
                                        -0.0009272805454947605,
                                        -0.000926417278332764,
                                        -0.000925689846077382,
                                        -0.0009250779603377407,
                                        -0.0009245641779166985,
                                        -0.0009241335323798675,
                                        -0.0009237732084453731,
                                        -0.0009234722549745401,
                                        -0.0009232213326497221,
                                        -0.0009230124927142089,
                                        -0.0009228389834434417,
                                        -0.0009226950812963501,
                                        -0.0009225759439632497,
                                        -0.0009224774827855681,
                                        -0.0009223962522612066,
                                        -0.0009223293545775728,
                                        -0.0009222743573244976,
                                        -0.0009222292227347184,
                                        -0.0009221922469787953,
                                        -0.0009221620082068802,
                                        -0.0009221373221788623,
                                        -0.0009221172044611364,
                                        -0.0009221008382910722,
                                        -0.0009220875473207064,
                                        -0.0009220767725505903,
                                        -0.0009220680528527943,
                                        -0.0009220610085608641,
                                        -0.000922055327674077,
                                        -0.000922050754284717,
                                        -0.0009220470788912276,
                                        -0.0009220441303073365,
                                        -0.0009220417689186956,
                                        -0.0009220398810745818,
                                        -0.000922038374433497,
                                        -0.0009220371741085623,
                                        -0.0009220362194819917,
                                        -0.000922035461578003,
                                        -0.0009220348609007849,
                                        -0.0009220343856588838,
                                        -0.0009220340103099548,
                                        -0.0009220337143705335,
                                        -0.000922033481444556,
                                        -0.0009220332984320455,
                                        -0.0009220331548858627,
                                        -0.0009220330424898759,
                                        -0.0009220329546364891,
                                        -0.0009220328860852962,
                                        -0.0009220328326878384,
                                        -0.0009220327911661075,
                                        -0.000922032758934656,
                                        -0.0009220327339580135
                                    ]
                                }
                            ],
                            "layout": {
                                "template": {
                                    "data": {
                                        "bar": [
                                            {
                                                "error_x": {
                                                    "color": "#2a3f5f"
                                                },
                                                "error_y": {
                                                    "color": "#2a3f5f"
                                                },
                                                "marker": {
                                                    "line": {
                                                        "color": "#E5ECF6",
                                                        "width": 0.5
                                                    },
                                                    "pattern": {
                                                        "fillmode": "overlay",
                                                        "size": 10,
                                                        "solidity": 0.2
                                                    }
                                                },
                                                "type": "bar"
                                            }
                                        ],
                                        "barpolar": [
                                            {
                                                "marker": {
                                                    "line": {
                                                        "color": "#E5ECF6",
                                                        "width": 0.5
                                                    },
                                                    "pattern": {
                                                        "fillmode": "overlay",
                                                        "size": 10,
                                                        "solidity": 0.2
                                                    }
                                                },
                                                "type": "barpolar"
                                            }
                                        ],
                                        "carpet": [
                                            {
                                                "aaxis": {
                                                    "endlinecolor": "#2a3f5f",
                                                    "gridcolor": "white",
                                                    "linecolor": "white",
                                                    "minorgridcolor": "white",
                                                    "startlinecolor": "#2a3f5f"
                                                },
                                                "baxis": {
                                                    "endlinecolor": "#2a3f5f",
                                                    "gridcolor": "white",
                                                    "linecolor": "white",
                                                    "minorgridcolor": "white",
                                                    "startlinecolor": "#2a3f5f"
                                                },
                                                "type": "carpet"
                                            }
                                        ],
                                        "choropleth": [
                                            {
                                                "colorbar": {
                                                    "outlinewidth": 0,
                                                    "ticks": ""
                                                },
                                                "type": "choropleth"
                                            }
                                        ],
                                        "contour": [
                                            {
                                                "colorbar": {
                                                    "outlinewidth": 0,
                                                    "ticks": ""
                                                },
                                                "colorscale": [
                                                    [
                                                        0,
                                                        "#0d0887"
                                                    ],
                                                    [
                                                        0.1111111111111111,
                                                        "#46039f"
                                                    ],
                                                    [
                                                        0.2222222222222222,
                                                        "#7201a8"
                                                    ],
                                                    [
                                                        0.3333333333333333,
                                                        "#9c179e"
                                                    ],
                                                    [
                                                        0.4444444444444444,
                                                        "#bd3786"
                                                    ],
                                                    [
                                                        0.5555555555555556,
                                                        "#d8576b"
                                                    ],
                                                    [
                                                        0.6666666666666666,
                                                        "#ed7953"
                                                    ],
                                                    [
                                                        0.7777777777777778,
                                                        "#fb9f3a"
                                                    ],
                                                    [
                                                        0.8888888888888888,
                                                        "#fdca26"
                                                    ],
                                                    [
                                                        1,
                                                        "#f0f921"
                                                    ]
                                                ],
                                                "type": "contour"
                                            }
                                        ],
                                        "contourcarpet": [
                                            {
                                                "colorbar": {
                                                    "outlinewidth": 0,
                                                    "ticks": ""
                                                },
                                                "type": "contourcarpet"
                                            }
                                        ],
                                        "heatmap": [
                                            {
                                                "colorbar": {
                                                    "outlinewidth": 0,
                                                    "ticks": ""
                                                },
                                                "colorscale": [
                                                    [
                                                        0,
                                                        "#0d0887"
                                                    ],
                                                    [
                                                        0.1111111111111111,
                                                        "#46039f"
                                                    ],
                                                    [
                                                        0.2222222222222222,
                                                        "#7201a8"
                                                    ],
                                                    [
                                                        0.3333333333333333,
                                                        "#9c179e"
                                                    ],
                                                    [
                                                        0.4444444444444444,
                                                        "#bd3786"
                                                    ],
                                                    [
                                                        0.5555555555555556,
                                                        "#d8576b"
                                                    ],
                                                    [
                                                        0.6666666666666666,
                                                        "#ed7953"
                                                    ],
                                                    [
                                                        0.7777777777777778,
                                                        "#fb9f3a"
                                                    ],
                                                    [
                                                        0.8888888888888888,
                                                        "#fdca26"
                                                    ],
                                                    [
                                                        1,
                                                        "#f0f921"
                                                    ]
                                                ],
                                                "type": "heatmap"
                                            }
                                        ],
                                        "heatmapgl": [
                                            {
                                                "colorbar": {
                                                    "outlinewidth": 0,
                                                    "ticks": ""
                                                },
                                                "colorscale": [
                                                    [
                                                        0,
                                                        "#0d0887"
                                                    ],
                                                    [
                                                        0.1111111111111111,
                                                        "#46039f"
                                                    ],
                                                    [
                                                        0.2222222222222222,
                                                        "#7201a8"
                                                    ],
                                                    [
                                                        0.3333333333333333,
                                                        "#9c179e"
                                                    ],
                                                    [
                                                        0.4444444444444444,
                                                        "#bd3786"
                                                    ],
                                                    [
                                                        0.5555555555555556,
                                                        "#d8576b"
                                                    ],
                                                    [
                                                        0.6666666666666666,
                                                        "#ed7953"
                                                    ],
                                                    [
                                                        0.7777777777777778,
                                                        "#fb9f3a"
                                                    ],
                                                    [
                                                        0.8888888888888888,
                                                        "#fdca26"
                                                    ],
                                                    [
                                                        1,
                                                        "#f0f921"
                                                    ]
                                                ],
                                                "type": "heatmapgl"
                                            }
                                        ],
                                        "histogram": [
                                            {
                                                "marker": {
                                                    "pattern": {
                                                        "fillmode": "overlay",
                                                        "size": 10,
                                                        "solidity": 0.2
                                                    }
                                                },
                                                "type": "histogram"
                                            }
                                        ],
                                        "histogram2d": [
                                            {
                                                "colorbar": {
                                                    "outlinewidth": 0,
                                                    "ticks": ""
                                                },
                                                "colorscale": [
                                                    [
                                                        0,
                                                        "#0d0887"
                                                    ],
                                                    [
                                                        0.1111111111111111,
                                                        "#46039f"
                                                    ],
                                                    [
                                                        0.2222222222222222,
                                                        "#7201a8"
                                                    ],
                                                    [
                                                        0.3333333333333333,
                                                        "#9c179e"
                                                    ],
                                                    [
                                                        0.4444444444444444,
                                                        "#bd3786"
                                                    ],
                                                    [
                                                        0.5555555555555556,
                                                        "#d8576b"
                                                    ],
                                                    [
                                                        0.6666666666666666,
                                                        "#ed7953"
                                                    ],
                                                    [
                                                        0.7777777777777778,
                                                        "#fb9f3a"
                                                    ],
                                                    [
                                                        0.8888888888888888,
                                                        "#fdca26"
                                                    ],
                                                    [
                                                        1,
                                                        "#f0f921"
                                                    ]
                                                ],
                                                "type": "histogram2d"
                                            }
                                        ],
                                        "histogram2dcontour": [
                                            {
                                                "colorbar": {
                                                    "outlinewidth": 0,
                                                    "ticks": ""
                                                },
                                                "colorscale": [
                                                    [
                                                        0,
                                                        "#0d0887"
                                                    ],
                                                    [
                                                        0.1111111111111111,
                                                        "#46039f"
                                                    ],
                                                    [
                                                        0.2222222222222222,
                                                        "#7201a8"
                                                    ],
                                                    [
                                                        0.3333333333333333,
                                                        "#9c179e"
                                                    ],
                                                    [
                                                        0.4444444444444444,
                                                        "#bd3786"
                                                    ],
                                                    [
                                                        0.5555555555555556,
                                                        "#d8576b"
                                                    ],
                                                    [
                                                        0.6666666666666666,
                                                        "#ed7953"
                                                    ],
                                                    [
                                                        0.7777777777777778,
                                                        "#fb9f3a"
                                                    ],
                                                    [
                                                        0.8888888888888888,
                                                        "#fdca26"
                                                    ],
                                                    [
                                                        1,
                                                        "#f0f921"
                                                    ]
                                                ],
                                                "type": "histogram2dcontour"
                                            }
                                        ],
                                        "mesh3d": [
                                            {
                                                "colorbar": {
                                                    "outlinewidth": 0,
                                                    "ticks": ""
                                                },
                                                "type": "mesh3d"
                                            }
                                        ],
                                        "parcoords": [
                                            {
                                                "line": {
                                                    "colorbar": {
                                                        "outlinewidth": 0,
                                                        "ticks": ""
                                                    }
                                                },
                                                "type": "parcoords"
                                            }
                                        ],
                                        "pie": [
                                            {
                                                "automargin": true,
                                                "type": "pie"
                                            }
                                        ],
                                        "scatter": [
                                            {
                                                "fillpattern": {
                                                    "fillmode": "overlay",
                                                    "size": 10,
                                                    "solidity": 0.2
                                                },
                                                "type": "scatter"
                                            }
                                        ],
                                        "scatter3d": [
                                            {
                                                "line": {
                                                    "colorbar": {
                                                        "outlinewidth": 0,
                                                        "ticks": ""
                                                    }
                                                },
                                                "marker": {
                                                    "colorbar": {
                                                        "outlinewidth": 0,
                                                        "ticks": ""
                                                    }
                                                },
                                                "type": "scatter3d"
                                            }
                                        ],
                                        "scattercarpet": [
                                            {
                                                "marker": {
                                                    "colorbar": {
                                                        "outlinewidth": 0,
                                                        "ticks": ""
                                                    }
                                                },
                                                "type": "scattercarpet"
                                            }
                                        ],
                                        "scattergeo": [
                                            {
                                                "marker": {
                                                    "colorbar": {
                                                        "outlinewidth": 0,
                                                        "ticks": ""
                                                    }
                                                },
                                                "type": "scattergeo"
                                            }
                                        ],
                                        "scattergl": [
                                            {
                                                "marker": {
                                                    "colorbar": {
                                                        "outlinewidth": 0,
                                                        "ticks": ""
                                                    }
                                                },
                                                "type": "scattergl"
                                            }
                                        ],
                                        "scattermapbox": [
                                            {
                                                "marker": {
                                                    "colorbar": {
                                                        "outlinewidth": 0,
                                                        "ticks": ""
                                                    }
                                                },
                                                "type": "scattermapbox"
                                            }
                                        ],
                                        "scatterpolar": [
                                            {
                                                "marker": {
                                                    "colorbar": {
                                                        "outlinewidth": 0,
                                                        "ticks": ""
                                                    }
                                                },
                                                "type": "scatterpolar"
                                            }
                                        ],
                                        "scatterpolargl": [
                                            {
                                                "marker": {
                                                    "colorbar": {
                                                        "outlinewidth": 0,
                                                        "ticks": ""
                                                    }
                                                },
                                                "type": "scatterpolargl"
                                            }
                                        ],
                                        "scatterternary": [
                                            {
                                                "marker": {
                                                    "colorbar": {
                                                        "outlinewidth": 0,
                                                        "ticks": ""
                                                    }
                                                },
                                                "type": "scatterternary"
                                            }
                                        ],
                                        "surface": [
                                            {
                                                "colorbar": {
                                                    "outlinewidth": 0,
                                                    "ticks": ""
                                                },
                                                "colorscale": [
                                                    [
                                                        0,
                                                        "#0d0887"
                                                    ],
                                                    [
                                                        0.1111111111111111,
                                                        "#46039f"
                                                    ],
                                                    [
                                                        0.2222222222222222,
                                                        "#7201a8"
                                                    ],
                                                    [
                                                        0.3333333333333333,
                                                        "#9c179e"
                                                    ],
                                                    [
                                                        0.4444444444444444,
                                                        "#bd3786"
                                                    ],
                                                    [
                                                        0.5555555555555556,
                                                        "#d8576b"
                                                    ],
                                                    [
                                                        0.6666666666666666,
                                                        "#ed7953"
                                                    ],
                                                    [
                                                        0.7777777777777778,
                                                        "#fb9f3a"
                                                    ],
                                                    [
                                                        0.8888888888888888,
                                                        "#fdca26"
                                                    ],
                                                    [
                                                        1,
                                                        "#f0f921"
                                                    ]
                                                ],
                                                "type": "surface"
                                            }
                                        ],
                                        "table": [
                                            {
                                                "cells": {
                                                    "fill": {
                                                        "color": "#EBF0F8"
                                                    },
                                                    "line": {
                                                        "color": "white"
                                                    }
                                                },
                                                "header": {
                                                    "fill": {
                                                        "color": "#C8D4E3"
                                                    },
                                                    "line": {
                                                        "color": "white"
                                                    }
                                                },
                                                "type": "table"
                                            }
                                        ]
                                    },
                                    "layout": {
                                        "annotationdefaults": {
                                            "arrowcolor": "#2a3f5f",
                                            "arrowhead": 0,
                                            "arrowwidth": 1
                                        },
                                        "autotypenumbers": "strict",
                                        "coloraxis": {
                                            "colorbar": {
                                                "outlinewidth": 0,
                                                "ticks": ""
                                            }
                                        },
                                        "colorscale": {
                                            "diverging": [
                                                [
                                                    0,
                                                    "#8e0152"
                                                ],
                                                [
                                                    0.1,
                                                    "#c51b7d"
                                                ],
                                                [
                                                    0.2,
                                                    "#de77ae"
                                                ],
                                                [
                                                    0.3,
                                                    "#f1b6da"
                                                ],
                                                [
                                                    0.4,
                                                    "#fde0ef"
                                                ],
                                                [
                                                    0.5,
                                                    "#f7f7f7"
                                                ],
                                                [
                                                    0.6,
                                                    "#e6f5d0"
                                                ],
                                                [
                                                    0.7,
                                                    "#b8e186"
                                                ],
                                                [
                                                    0.8,
                                                    "#7fbc41"
                                                ],
                                                [
                                                    0.9,
                                                    "#4d9221"
                                                ],
                                                [
                                                    1,
                                                    "#276419"
                                                ]
                                            ],
                                            "sequential": [
                                                [
                                                    0,
                                                    "#0d0887"
                                                ],
                                                [
                                                    0.1111111111111111,
                                                    "#46039f"
                                                ],
                                                [
                                                    0.2222222222222222,
                                                    "#7201a8"
                                                ],
                                                [
                                                    0.3333333333333333,
                                                    "#9c179e"
                                                ],
                                                [
                                                    0.4444444444444444,
                                                    "#bd3786"
                                                ],
                                                [
                                                    0.5555555555555556,
                                                    "#d8576b"
                                                ],
                                                [
                                                    0.6666666666666666,
                                                    "#ed7953"
                                                ],
                                                [
                                                    0.7777777777777778,
                                                    "#fb9f3a"
                                                ],
                                                [
                                                    0.8888888888888888,
                                                    "#fdca26"
                                                ],
                                                [
                                                    1,
                                                    "#f0f921"
                                                ]
                                            ],
                                            "sequentialminus": [
                                                [
                                                    0,
                                                    "#0d0887"
                                                ],
                                                [
                                                    0.1111111111111111,
                                                    "#46039f"
                                                ],
                                                [
                                                    0.2222222222222222,
                                                    "#7201a8"
                                                ],
                                                [
                                                    0.3333333333333333,
                                                    "#9c179e"
                                                ],
                                                [
                                                    0.4444444444444444,
                                                    "#bd3786"
                                                ],
                                                [
                                                    0.5555555555555556,
                                                    "#d8576b"
                                                ],
                                                [
                                                    0.6666666666666666,
                                                    "#ed7953"
                                                ],
                                                [
                                                    0.7777777777777778,
                                                    "#fb9f3a"
                                                ],
                                                [
                                                    0.8888888888888888,
                                                    "#fdca26"
                                                ],
                                                [
                                                    1,
                                                    "#f0f921"
                                                ]
                                            ]
                                        },
                                        "colorway": [
                                            "#636efa",
                                            "#EF553B",
                                            "#00cc96",
                                            "#ab63fa",
                                            "#FFA15A",
                                            "#19d3f3",
                                            "#FF6692",
                                            "#B6E880",
                                            "#FF97FF",
                                            "#FECB52"
                                        ],
                                        "font": {
                                            "color": "#2a3f5f"
                                        },
                                        "geo": {
                                            "bgcolor": "white",
                                            "lakecolor": "white",
                                            "landcolor": "#E5ECF6",
                                            "showlakes": true,
                                            "showland": true,
                                            "subunitcolor": "white"
                                        },
                                        "hoverlabel": {
                                            "align": "left"
                                        },
                                        "hovermode": "closest",
                                        "mapbox": {
                                            "style": "light"
                                        },
                                        "paper_bgcolor": "white",
                                        "plot_bgcolor": "#E5ECF6",
                                        "polar": {
                                            "angularaxis": {
                                                "gridcolor": "white",
                                                "linecolor": "white",
                                                "ticks": ""
                                            },
                                            "bgcolor": "#E5ECF6",
                                            "radialaxis": {
                                                "gridcolor": "white",
                                                "linecolor": "white",
                                                "ticks": ""
                                            }
                                        },
                                        "scene": {
                                            "xaxis": {
                                                "backgroundcolor": "#E5ECF6",
                                                "gridcolor": "white",
                                                "gridwidth": 2,
                                                "linecolor": "white",
                                                "showbackground": true,
                                                "ticks": "",
                                                "zerolinecolor": "white"
                                            },
                                            "yaxis": {
                                                "backgroundcolor": "#E5ECF6",
                                                "gridcolor": "white",
                                                "gridwidth": 2,
                                                "linecolor": "white",
                                                "showbackground": true,
                                                "ticks": "",
                                                "zerolinecolor": "white"
                                            },
                                            "zaxis": {
                                                "backgroundcolor": "#E5ECF6",
                                                "gridcolor": "white",
                                                "gridwidth": 2,
                                                "linecolor": "white",
                                                "showbackground": true,
                                                "ticks": "",
                                                "zerolinecolor": "white"
                                            }
                                        },
                                        "shapedefaults": {
                                            "line": {
                                                "color": "#2a3f5f"
                                            }
                                        },
                                        "ternary": {
                                            "aaxis": {
                                                "gridcolor": "white",
                                                "linecolor": "white",
                                                "ticks": ""
                                            },
                                            "baxis": {
                                                "gridcolor": "white",
                                                "linecolor": "white",
                                                "ticks": ""
                                            },
                                            "bgcolor": "#E5ECF6",
                                            "caxis": {
                                                "gridcolor": "white",
                                                "linecolor": "white",
                                                "ticks": ""
                                            }
                                        },
                                        "title": {
                                            "x": 0.05
                                        },
                                        "xaxis": {
                                            "automargin": true,
                                            "gridcolor": "white",
                                            "linecolor": "white",
                                            "ticks": "",
                                            "title": {
                                                "standoff": 15
                                            },
                                            "zerolinecolor": "white",
                                            "zerolinewidth": 2
                                        },
                                        "yaxis": {
                                            "automargin": true,
                                            "gridcolor": "white",
                                            "linecolor": "white",
                                            "ticks": "",
                                            "title": {
                                                "standoff": 15
                                            },
                                            "zerolinecolor": "white",
                                            "zerolinewidth": 2
                                        }
                                    }
                                },
                                "title": {
                                    "text": "Gaussian Fit to Data"
                                },
                                "xaxis": {
                                    "title": {
                                        "text": "Frequency (Adjusted)"
                                    }
                                },
                                "yaxis": {
                                    "title": {
                                        "text": "Normalized Difference"
                                    }
                                }
                            }
                        }
                    },
                    "metadata": {},
                    "output_type": "display_data"
                }
            ],
            "source": [
                "x_smooth = np.linspace(min(freq_actual * 24), max(freq_actual * 24), 300)\n",
                "y_fitted = model_gaussian(x_smooth, *params)\n",
                "fig = go.Figure()\n",
                "\n",
                "# Add original data points\n",
                "fig.add_trace(go.Scatter(\n",
                "    x=freq_actual * 24,\n",
                "    y=(on - off) / off - np.max((on - off) / off),\n",
                "    mode='markers',\n",
                "    name='Data',\n",
                "    marker=dict(size=6, color='blue')\n",
                "))\n",
                "\n",
                "# Add fitted curve\n",
                "fig.add_trace(go.Scatter(\n",
                "    x=x_smooth,\n",
                "    y=y_fitted,\n",
                "    mode='lines',\n",
                "    name='Fitted Gaussian',\n",
                "    line=dict(color='red', width=2)\n",
                "))\n",
                "\n",
                "# Customize layout\n",
                "fig.update_layout(\n",
                "    title=\"Gaussian Fit to Data\",\n",
                "    xaxis_title=\"Frequency (Adjusted)\",\n",
                "    yaxis_title=\"Normalized Difference\",\n",
                "    # template=\"plotly_dark\"\n",
                ")\n",
                "\n",
                "# Show the plot\n",
                "fig.show()\n"
            ]
        },
        {
            "cell_type": "code",
            "execution_count": 86,
            "metadata": {},
            "outputs": [],
            "source": [
                "def get_fwhm(sigma):\n",
                "    \"\"\"Calculate Full Width at Half Maximum (FWHM) for a Gaussian function.\"\"\"\n",
                "    return 2 * np.sqrt(2 * np.log(2)) * sigma  # ≈ 2.355 * sigma\n"
            ]
        },
        {
            "cell_type": "code",
            "execution_count": 91,
            "metadata": {},
            "outputs": [],
            "source": [
                "FWHM=get_fwhm(params[2]) # GHz"
            ]
        },
        {
            "cell_type": "code",
            "execution_count": null,
            "metadata": {},
            "outputs": [],
            "source": [
                "gamma = 28 # GHz/T # https://magnetometryrp.quantumtinkerer.tudelft.nl/3_NVspin/"
            ]
        },
        {
            "cell_type": "code",
            "execution_count": 93,
            "metadata": {},
            "outputs": [
                {
                    "data": {
                        "text/plain": [
                            "-0.06942517000558811"
                        ]
                    },
                    "execution_count": 93,
                    "metadata": {},
                    "output_type": "execute_result"
                }
            ],
            "source": [
                "Amplitude_fit=params[0]\n",
                "Amplitude_fit\n"
            ]
        },
        {
            "cell_type": "code",
            "execution_count": null,
            "metadata": {},
            "outputs": [
                {
                    "data": {
                        "text/plain": [
                            "0.37147883077930977"
                        ]
                    },
                    "execution_count": 96,
                    "metadata": {},
                    "output_type": "execute_result"
                }
            ],
            "source": [
                "responsivity = abs(Amplitude_fit)/ ((FWHM) * gamma)\n",
                "responsivity # "
            ]
        },
        {
            "cell_type": "code",
            "execution_count": null,
            "metadata": {},
            "outputs": [],
            "source": []
        }
    ],
    "metadata": {
        "kernelspec": {
            "display_name": "Python 3",
            "language": "python",
            "name": "python3"
        },
        "language_info": {
            "codemirror_mode": {
                "name": "ipython",
                "version": 3
            },
            "file_extension": ".py",
            "mimetype": "text/x-python",
            "name": "python",
            "nbconvert_exporter": "python",
            "pygments_lexer": "ipython3",
            "version": "3.10.16"
        }
    },
    "nbformat": 4,
    "nbformat_minor": 2
}