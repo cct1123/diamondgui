{
 "cells": [
  {
   "cell_type": "code",
   "execution_count": 3,
   "metadata": {},
   "outputs": [],
   "source": [
    "import pickle\n",
    "import plotly.graph_objects as go\n",
    "import numpy as np"
   ]
  },
  {
   "cell_type": "code",
   "execution_count": 4,
   "metadata": {},
   "outputs": [],
   "source": [
    "\n",
    "fname = \"output/data_dev_pulsed_odmr_tracking_test_combBz_allon_lfdecay32long_changedapd_1737710114.0613265.pkl\"\n",
    "# fname = \"output/data_dev_pulsed_odmr_tracking_test_combBz_allon_lfdecay32long_changedapd_1737688388.4160972.pkl\"\n",
    "\n",
    "with open(fname, \"rb\") as file:\n",
    "    loaded_data = pickle.load(file)\n",
    "\n",
    "buffer_data = loaded_data[\"buffer_data\"]\n",
    "paraset = loaded_data[\"paraset\"]"
   ]
  },
  {
   "cell_type": "code",
   "execution_count": null,
   "metadata": {},
   "outputs": [],
   "source": [
    "import matplotlib.pyplot as plt\n",
    "# Assuming 't_atrack', 'n_track', and 'buffer_data' are defined\n",
    "timetime = t_atrack * np.arange(0, n_track, 1) / 1E9\n",
    "\n",
    "# Create subplots with two columns\n",
    "fig, axes = plt.subplots(2, 1, figsize=(8, 6))\n",
    "name = [\"dark\", \"bright\", \"bg\", \"signal\"]\n",
    "# Plot the original data (time domain)\n",
    "# for ii in range(0, n_dataslot):\n",
    "for ii in [0,1,3]:\n",
    "    sig_diff = buffer_data[:, ii]-buffer_data[:, 2]\n",
    "    # sig_diff = buffer_data[:, ii]\n",
    "    axes[0].plot(timetime, sig_diff*1E3, label=name[ii])\n",
    "axes[0].set_xlabel(\"Time [s]\")\n",
    "axes[0].set_ylabel(\"PL [mV]\")\n",
    "axes[0].set_title(\"Original Signal\")\n",
    "axes[0].legend()\n",
    "axes[0].grid()\n",
    "sig_fft_0 =  np.abs(np.fft.fft(buffer_data[:, 0]))\n",
    "# Plot the FFT (frequency domain, positive frequencies only)\n",
    "for ii in range(0, n_dataslot):\n",
    "# for ii in [0, 1, 3]:\n",
    "    sig_diff = buffer_data[:, ii] \n",
    "    freq = np.fft.fftfreq(len(sig_diff), t_atrack / 1E9)\n",
    "    sig_fft = np.abs(np.fft.fft(sig_diff))\n",
    "    # sig_fft = sig_fft - sig_fft_0\n",
    "\n",
    "    # Get only positive frequencies\n",
    "    positive_freqs = freq > 0\n",
    "    axes[1].plot(freq[positive_freqs], sig_fft[positive_freqs], label=f\"FFT {name[ii]}\")\n",
    "axes[1].set_xlabel(\"Frequency [Hz]\")\n",
    "axes[1].set_ylabel(\"Amplitude\")\n",
    "axes[1].set_title(\"FFT of Signals (Positive Frequencies)\")\n",
    "axes[1].legend()\n",
    "axes[1].grid()\n",
    "\n",
    "# Adjust layout and show the plots\n",
    "plt.tight_layout()\n",
    "plt.show()\n"
   ]
  }
 ],
 "metadata": {
  "kernelspec": {
   "display_name": "hfnvenv",
   "language": "python",
   "name": "python3"
  },
  "language_info": {
   "codemirror_mode": {
    "name": "ipython",
    "version": 3
   },
   "file_extension": ".py",
   "mimetype": "text/x-python",
   "name": "python",
   "nbconvert_exporter": "python",
   "pygments_lexer": "ipython3",
   "version": "3.10.14"
  }
 },
 "nbformat": 4,
 "nbformat_minor": 2
}
