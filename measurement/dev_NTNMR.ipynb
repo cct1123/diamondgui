{
 "cells": [
  {
   "cell_type": "code",
   "execution_count": 6,
   "metadata": {},
   "outputs": [],
   "source": [
    "import time\n",
    "import sys\n",
    "import os\n",
    "\n",
    "path_project = \"\\\\\".join(os.getcwd().split(\"\\\\\")[:-1])\n",
    "sys.path.insert(1, path_project)\n",
    "\n",
    "import math\n",
    "\n",
    "\n",
    "import matplotlib.pyplot as plt\n",
    "import numpy as np\n",
    "import math\n",
    "import win32com.client\n",
    "from pulsestreamer import PulseStreamer, Sequence  \n",
    "from hardware.pulser.pulser import PulseGenerator, OutputState, TriggerStart, TriggerRearm, HIGH, LOW, INF, REPEAT_INFINITELY\n"
   ]
  },
  {
   "cell_type": "markdown",
   "metadata": {},
   "source": [
    "## Testing different functions of NTNMR"
   ]
  },
  {
   "cell_type": "code",
   "execution_count": 12,
   "metadata": {},
   "outputs": [],
   "source": [
    "# opening the client \n",
    "NTNMR = win32com.client.Dispatch(\"NTNMR.Application\")"
   ]
  },
  {
   "cell_type": "code",
   "execution_count": 13,
   "metadata": {},
   "outputs": [
    {
     "data": {
      "text/plain": [
       "True"
      ]
     },
     "execution_count": 13,
     "metadata": {},
     "output_type": "execute_result"
    }
   ],
   "source": [
    "# open a file\n",
    "NTNMR.OpenFile(\"C:/TNMR/data/test/loopbacks/F1/loopback_F1_RX1.tnt\")\n"
   ]
  },
  {
   "cell_type": "code",
   "execution_count": 14,
   "metadata": {},
   "outputs": [],
   "source": [
    "# Sandwhiching the NTNMR calls like this seems to help\n",
    "NTNMR = win32com.client.Dispatch(\"NTNMR.Application\")\n"
   ]
  },
  {
   "cell_type": "code",
   "execution_count": 16,
   "metadata": {},
   "outputs": [
    {
     "data": {
      "text/plain": [
       "'C:\\\\TNMR\\\\data\\\\test\\\\loopbacks\\\\F1\\\\loopback_F1_RX1.tnt'"
      ]
     },
     "execution_count": 16,
     "metadata": {},
     "output_type": "execute_result"
    }
   ],
   "source": [
    "# get the current file\n",
    "curr_open_file = NTNMR.GetActiveDocPath\n",
    "curr_open_file\n"
   ]
  },
  {
   "cell_type": "markdown",
   "metadata": {},
   "source": [
    "### Creating a trigger for the Redstone"
   ]
  },
  {
   "cell_type": "code",
   "execution_count": null,
   "metadata": {},
   "outputs": [],
   "source": [
    "Channel 6"
   ]
  },
  {
   "cell_type": "code",
   "execution_count": null,
   "metadata": {},
   "outputs": [],
   "source": [
    "PSch_MW=6\n",
    "\n",
    "PS_chmap={'mw':PSch_MW}\n",
    "ip = '10.135.70.193' \n",
    "ps = PulseGenerator(ip,PS_chmap)\n",
    "INF = np.iinfo(np.int64).max\n"
   ]
  },
  {
   "cell_type": "markdown",
   "metadata": {},
   "source": [
    "### Need an open file to run any of the following commands"
   ]
  },
  {
   "cell_type": "code",
   "execution_count": null,
   "metadata": {},
   "outputs": [],
   "source": []
  },
  {
   "cell_type": "code",
   "execution_count": 17,
   "metadata": {},
   "outputs": [
    {
     "data": {
      "text/plain": [
       "True"
      ]
     },
     "execution_count": 17,
     "metadata": {},
     "output_type": "execute_result"
    }
   ],
   "source": [
    "NTNMR.RepeatScan"
   ]
  },
  {
   "cell_type": "code",
   "execution_count": 7,
   "metadata": {},
   "outputs": [
    {
     "ename": "AttributeError",
     "evalue": "NTNMR.Application.ActivateET",
     "output_type": "error",
     "traceback": [
      "\u001b[1;31m---------------------------------------------------------------------------\u001b[0m",
      "\u001b[1;31mAttributeError\u001b[0m                            Traceback (most recent call last)",
      "Cell \u001b[1;32mIn[7], line 1\u001b[0m\n\u001b[1;32m----> 1\u001b[0m \u001b[43mNTNMR\u001b[49m\u001b[38;5;241;43m.\u001b[39;49m\u001b[43mActivateET\u001b[49m\n",
      "File \u001b[1;32mc:\\Users\\HFNV\\.conda\\envs\\hfnvenv\\lib\\site-packages\\win32com\\client\\dynamic.py:638\u001b[0m, in \u001b[0;36mCDispatch.__getattr__\u001b[1;34m(self, attr)\u001b[0m\n\u001b[0;32m    635\u001b[0m     \u001b[38;5;28;01mreturn\u001b[39;00m \u001b[38;5;28mself\u001b[39m\u001b[38;5;241m.\u001b[39m_get_good_object_(ret)\n\u001b[0;32m    637\u001b[0m \u001b[38;5;66;03m# no where else to look.\u001b[39;00m\n\u001b[1;32m--> 638\u001b[0m \u001b[38;5;28;01mraise\u001b[39;00m \u001b[38;5;167;01mAttributeError\u001b[39;00m(\u001b[38;5;124m\"\u001b[39m\u001b[38;5;132;01m%s\u001b[39;00m\u001b[38;5;124m.\u001b[39m\u001b[38;5;132;01m%s\u001b[39;00m\u001b[38;5;124m\"\u001b[39m \u001b[38;5;241m%\u001b[39m (\u001b[38;5;28mself\u001b[39m\u001b[38;5;241m.\u001b[39m_username_, attr))\n",
      "\u001b[1;31mAttributeError\u001b[0m: NTNMR.Application.ActivateET"
     ]
    }
   ],
   "source": [
    "NTNMR"
   ]
  },
  {
   "cell_type": "code",
   "execution_count": 8,
   "metadata": {},
   "outputs": [
    {
     "data": {
      "text/plain": [
       "1"
      ]
     },
     "execution_count": 8,
     "metadata": {},
     "output_type": "execute_result"
    }
   ],
   "source": [
    "# set/get the observation channel\n",
    "# NTNMR.SetNMRParameter(\"Observe Ch.\", 4)\n",
    "NTNMR.GetNMRParameter(\"Observe Ch.\")"
   ]
  },
  {
   "cell_type": "code",
   "execution_count": 9,
   "metadata": {},
   "outputs": [
    {
     "data": {
      "text/plain": [
       "10.0"
      ]
     },
     "execution_count": 9,
     "metadata": {},
     "output_type": "execute_result"
    }
   ],
   "source": [
    "# set/get the magnet field\n",
    "NTNMR.SetNMRParameter(\"Magnet Field\", 10)\n",
    "NTNMR.GetNMRParameter(\"Magnet Field\")"
   ]
  },
  {
   "cell_type": "code",
   "execution_count": 14,
   "metadata": {},
   "outputs": [
    {
     "data": {
      "text/plain": [
       "512"
      ]
     },
     "execution_count": 14,
     "metadata": {},
     "output_type": "execute_result"
    }
   ],
   "source": [
    "# get Acq. Points\n",
    "NTNMR.GetNMRParameter(\"Acq. Points\")"
   ]
  },
  {
   "cell_type": "code",
   "execution_count": null,
   "metadata": {},
   "outputs": [],
   "source": []
  },
  {
   "cell_type": "code",
   "execution_count": null,
   "metadata": {},
   "outputs": [],
   "source": []
  },
  {
   "cell_type": "markdown",
   "metadata": {},
   "source": [
    "### List of All Parameters\n",
    "\n",
    "- Date\n",
    "- Magnet Field\n",
    "- F1 Ref. Freq.\n",
    "- Absolute Freq.\n",
    "- Exp. Start Time\n",
    "- Exp. Finish Time\n",
    "- Exp. Elapsed Time\n",
    "- Receiver Gain\n",
    "- Receiver Gain Ch1\n",
    "- Receiver Gain Ch2\n",
    "- DEC Attn\n",
    "- Shim Units\n",
    "- Observe Freq.\n",
    "- Observe Ch.\n",
    "- F1 Freq.\n",
    "- F1 Base\n",
    "- F1 Offset\n",
    "- Fn Freq.\n",
    "- Fn Base\n",
    "- Fn Offset\n",
    "- Nucleus\n",
    "- Points 1D\n",
    "- Acq. Points\n",
    "- SW +/-\n",
    "- Filter\n",
    "- Dwell Time\n",
    "- Acq. Time\n",
    "- Scans 1D\n",
    "- Actual Scans 1D\n",
    "- Dummy Scans\n",
    "- Scan Start 1D\n",
    "- Last Delay\n",
    "- SW nD +/-\n",
    "- Dwell_nD\n",
    "- Points nD\n",
    "- Actual Points nD\n",
    "- Points Start nD\n",
    "- Repeat Times\n",
    "- S.A. Dimension\n",
    "- S.A. Mode\n",
    "- Grd. Orientation\n",
    "- Grd. Theta\n",
    "- Grd. Phi\n",
    "- DC.x\n",
    "- DC.y\n",
    "- DC.z\n",
    "- A0.x\n",
    "- A0.y\n",
    "- A0.z\n",
    "- A1.x\n",
    "- A1.y\n",
    "- A1.z\n",
    "- A2.x\n",
    "- A2.y\n",
    "- A2.z\n",
    "- A3.x\n",
    "- A3.y\n",
    "- A3.z\n",
    "- A4.x\n",
    "- A4.y\n",
    "- A4.z\n",
    "- A5.x\n",
    "- A5.y\n",
    "- A5.z\n",
    "- T1.x\n",
    "- T1.y\n",
    "- T1.z\n",
    "- T2.x\n",
    "- T2.y\n",
    "- T2.z\n",
    "- T3.x\n",
    "- T3.y\n",
    "- T3.z\n",
    "- T4.x\n",
    "- T4.y\n",
    "- T4.z\n",
    "- T5.x\n",
    "- T5.y\n",
    "- T5.z\n",
    "- DC.bx\n",
    "- DC.by\n",
    "- DC.bz\n",
    "- A0.bx\n",
    "- A0.by\n",
    "- A0.bz\n",
    "- A1.bx\n",
    "- A1.by\n",
    "- A1.bz\n",
    "- A2.bx\n",
    "- A2.by\n",
    "- A2.bz\n",
    "- A3.bx\n",
    "- A3.by\n",
    "- A3.bz\n",
    "- A4.bx\n",
    "- A4.by\n",
    "- A4.bz\n",
    "- A5.bx\n",
    "- A5.by\n",
    "- A5.bz\n",
    "- T1.bx\n",
    "- T1.by\n",
    "- T1.bz\n",
    "- T2.bx\n",
    "- T2.by\n",
    "- T2.bz\n",
    "- T3.bx\n",
    "- T4.bx\n",
    "- T5.bx\n",
    "- Obs. Freq. Rec1\n",
    "- Obs. Ch. Rec1\n",
    "- Rec. Gain Ch1\n",
    "- Rec. Phase Ch1\n",
    "- Acq. Points Rec1\n",
    "- SW +/- Rec1\n",
    "- Filter Rec1\n",
    "- Dwell Time Rec1\n",
    "- Acq. Time Rec1\n",
    "- Obs. Freq. Rec2\n",
    "- Obs. Ch. Rec2\n",
    "- Rec. Gain Ch2\n",
    "- Rec. Phase Ch2\n",
    "- Acq. Points Rec2\n",
    "- SW +/- Rec2\n",
    "- Filter Rec2\n",
    "- Dwell Time Rec2\n",
    "- Acq. Time Rec2\n",
    "- Shift # Pts.\n",
    "- LB nD\n",
    "- GB nD\n",
    "- DM nD\n",
    "- SB Shift nD\n",
    "- SB Width nD\n",
    "- SB Skew nD\n",
    "- TZ 1-4 nD\n",
    "- Traf nD\n",
    "- Sys. Phase 0 nD\n",
    "- Sys. Phase 1 nD\n",
    "- Phase 0 nD\n",
    "- Phase 1 nD\n",
    "- Echo Center nD\n"
   ]
  },
  {
   "cell_type": "markdown",
   "metadata": {},
   "source": [
    "### Scriptable Commands  \n",
    "\n",
    "(manual page 276)\n",
    "\n",
    "#### Acquisition Commands  \n",
    "- ZeroAndGo, ZG  \n",
    "- Go  \n",
    "- Stop  \n",
    "- Abort  \n",
    "- Reset  \n",
    "- CheckAcquisition  \n",
    "\n",
    "#### Processing Commands - Baseline  \n",
    "- BaselineCorrection, BC  \n",
    "- BaselineTilt, BT  \n",
    "\n",
    "#### Processing Commands - Apodization  \n",
    "- ExponentialMultiplication, EM  \n",
    "- GaussianMultiplication, GM  \n",
    "- DoubleExponentialMultiplication, DM  \n",
    "- SinBell, SB  \n",
    "- SinBellSquared, SBS  \n",
    "- Trapezoid, TZ  \n",
    "- TrafWindow, TW  \n",
    "- BlackmanHarris, BH  \n",
    "- EchoExponentialMultiplication, EEM  \n",
    "- EchoGaussianMultiplication, EGM  \n",
    "\n",
    "#### Processing Commands - Transforms  \n",
    "- FourierTransform, FT  \n",
    "- InverseFT, IFT  \n",
    "- RealFT, RFT  \n",
    "- EchoFT, EFT  \n",
    "- HilbertTransform, HT  \n",
    "\n",
    "#### Processing Commands - Phasing  \n",
    "- PhaseCorrection, PC  \n",
    "- AutoPhase, AP  \n",
    "\n",
    "#### Processing Commands – ND Processing  \n",
    "- NDFT  \n",
    "- SetNDPhase  \n",
    "- SetNDEchoCenter  \n",
    "- SetNDApodization  \n",
    "- SetNDTranspose  \n",
    "- SetNDParameters  \n",
    "- NDTranspose  \n",
    "- NDComplexTranspose  \n",
    "- NDFTLoadTemplate  \n",
    "\n",
    "#### Processing Commands – Data Organization  \n",
    "- ZeroFill, ZF  \n",
    "- EchoZeroFill, EZF  \n",
    "- ReadFirstHalf  \n",
    "- ReadSecondHalf  \n",
    "- LeftShift  \n",
    "- RightShift  \n",
    "- GetDataSize  \n",
    "- GetNDSize  \n",
    "- ReSetDimensionInfo  \n",
    "- Transpose  \n",
    "- ReverseSpectrumRows  \n",
    "- ReverseSpectrumColumns  \n",
    "- SortDataPoints  \n",
    "- DigitalCorrect  \n",
    "\n",
    "#### Processing Commands – Data Point Manipulation  \n",
    "- GetData  \n",
    "- SetData  \n",
    "- GetDataPoint  \n",
    "- SetDataPoint  \n",
    "- Get1Drecord  \n",
    "- Get1Dsize  \n",
    "- GetReal  \n",
    "- ZeroImaginary  \n",
    "\n",
    "#### File Commands  \n",
    "- Save  \n",
    "- SaveAs  \n",
    "- OpenFile  \n",
    "- LoadSequence  \n",
    "- SaveSequence  \n",
    "- SaveSequenceAs  \n",
    "- GetSequenceName  \n",
    "- GetActiveDocPath  \n",
    "- Export  \n",
    "- SaveAsJPG  \n",
    "- AppendToFile  \n",
    "- ExtractRecord  \n",
    "\n",
    "#### Display Commands  \n",
    "- FitToWindow  \n",
    "- AutoDisplayWhileProcessing  \n",
    "- UpdateDisplay  \n",
    "- SetNDRecordPointer  \n",
    "- SetRecordPointer  \n",
    "- GetNDRecordPointer  \n",
    "- SetSelection  \n",
    "- SetCursorPosition  \n",
    "- GetCursorPosition  \n",
    "- Get1Dselection  \n",
    "- Get1DselectionEnd  \n",
    "- Zoom  \n",
    "\n",
    "#### 2D Display Commands  \n",
    "- OpenTwoDView  \n",
    "- Set2Dcursor  \n",
    "- Get2Dcursor  \n",
    "- Set2DNumPanes  \n",
    "\n",
    "#### Sequence Editor Commands  \n",
    "- Compile  \n",
    "- SetTable  \n",
    "- GetTable  \n",
    "- GetTableList  \n",
    "\n",
    "#### Miscellaneous Commands  \n",
    "- SetNMRParameter  \n",
    "- GetNMRParameter  \n",
    "- GetComment  \n",
    "- SetComment  \n",
    "- TextToTime  \n",
    "\n",
    "#### Option Mode Commands – Baseline Fix  \n",
    "- AutoBaselineFix  \n",
    "- DoBaselineFix  \n",
    "\n",
    "#### Option Mode Commands – Peak Pick  \n",
    "- AutoPeakPick  \n",
    "- ClearPeakPick  \n",
    "- GetPeakPickList  \n",
    "- GetPeakPickAmplitudes  \n",
    "- PickOnePeak  \n",
    "- ShowPeakPicks  \n",
    "- SavePeakPickList  \n",
    "\n",
    "#### Option Mode Commands – Line Fits  \n",
    "- AddOneLineFit  \n",
    "- ShowLineFits  \n",
    "\n",
    "#### Option Mode Commands – Integration  \n",
    "- AutoIntegrate, AI  \n",
    "- ClearIntegrals  \n",
    "- Integrate  \n",
    "- LoadIntegrals  \n",
    "- SaveIntegrals  \n",
    "- SaveAllIntegrals  \n",
    "- SaveIntegralsAsText  \n",
    "- ShowIntegrals  \n",
    "\n",
    "#### TNMR.Application Object Commands  \n",
    "\n",
    "##### File Commands  \n",
    "- CloseActiveFile  \n",
    "- CloseFile  \n",
    "\n",
    "##### Print Commands  \n",
    "- AddActiveDocToPrintPreview  \n",
    "- ClosePrintPreview  \n",
    "- LoadPrintPreviewTemplate  \n",
    "- PrintFromPreview  \n",
    "\n",
    "##### Miscellaneous Commands  \n",
    "- GetDocumentList  \n",
    "- HideWindow  \n",
    "- ShowWindow  \n",
    "- Quit  \n",
    "\n",
    "##### Dashboard Commands  \n",
    "- GetParameterPageList  \n",
    "- GetParameterListInPage  \n",
    "- SetParameterListInPage  \n",
    "- AddParametersToPage  \n",
    "- RemoveParameterPage  \n",
    "- RemoveAllPages  \n",
    "- LoadParameterSetupFromFile  \n",
    "- SaveParameterSetupToFile  \n",
    "- SetActiveParameterPage  \n",
    "- LoadParametersFromFile  \n",
    "- SaveParametersToFile  \n",
    "\n",
    "##### Hardware Commands  \n",
    "- SoftStop  \n",
    "- RepeatScan  \n",
    "- SetLatchedData  \n",
    "- GetLatchedData  \n",
    "\n",
    "##### Shim Commands  \n",
    "- CountShims  \n",
    "- ExistShim  \n",
    "- GetOneShim  \n",
    "- SetOneShim  \n",
    "- ActivateShims  \n",
    "- StartShims  \n",
    "- GetShims  \n",
    "- CheckShimProgress  \n",
    "- GetActualShimPrecision  \n",
    "- SetAutoShimParameters  \n",
    "\n",
    "#### TecmagLock Application Object Commands  \n",
    "\n",
    "##### Lock Commands  \n",
    "- ShowLockWindow  \n",
    "- LockSweepSpeed  \n",
    "- LockFieldCenter  \n",
    "- LockSolventPPM  \n",
    "- LockSolventText  \n",
    "- LockTxPower  \n",
    "- LockRxGain  \n",
    "- LockNMRPhase  \n",
    "- GetLockState  \n",
    "- LockLevel  \n",
    "- LockLoopChar  \n",
    "- StartLock  \n",
    "- StartAutoPhase  \n",
    "- StartAutoLock  \n",
    "- StartHold  \n",
    "- StartSweep  \n",
    "- StopLock  \n",
    "\n",
    "#### SampleInterface Application Object Commands  \n",
    "- SpinRate  \n",
    "- SpinRateSetPoint  \n",
    "- SpinSample  \n",
    "- SampleTemperature  \n",
    "- VTSetPoint  \n",
    "- EnableVTControl  \n",
    "- Eject  \n",
    "- Insert  \n",
    "- SystemStatus  \n",
    "- ExitInterfaceApp  \n",
    "- ShowInterfaceWindow  \n",
    "- HideInterfaceWindow  \n",
    "- InterfaceWindowVisible  \n"
   ]
  },
  {
   "cell_type": "markdown",
   "metadata": {},
   "source": []
  }
 ],
 "metadata": {
  "kernelspec": {
   "display_name": "hfnvenv",
   "language": "python",
   "name": "python3"
  },
  "language_info": {
   "codemirror_mode": {
    "name": "ipython",
    "version": 3
   },
   "file_extension": ".py",
   "mimetype": "text/x-python",
   "name": "python",
   "nbconvert_exporter": "python",
   "pygments_lexer": "ipython3",
   "version": "3.10.16"
  }
 },
 "nbformat": 4,
 "nbformat_minor": 2
}
