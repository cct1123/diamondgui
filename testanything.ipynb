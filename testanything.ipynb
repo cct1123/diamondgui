{
 "cells": [
  {
   "cell_type": "code",
   "execution_count": null,
   "metadata": {},
   "outputs": [],
   "source": [
    "import numpy as np\n",
    "xx = np.array([])"
   ]
  },
  {
   "cell_type": "code",
   "execution_count": null,
   "metadata": {},
   "outputs": [],
   "source": [
    "np.max(xx)"
   ]
  },
  {
   "cell_type": "code",
   "execution_count": null,
   "metadata": {},
   "outputs": [],
   "source": [
    "xx = np.array([np.nan])"
   ]
  },
  {
   "cell_type": "code",
   "execution_count": null,
   "metadata": {},
   "outputs": [],
   "source": [
    "np.max(xx)"
   ]
  },
  {
   "cell_type": "code",
   "execution_count": null,
   "metadata": {},
   "outputs": [],
   "source": [
    "import subprocess\n",
    "import time\n",
    "import os\n",
    "comand = \"echo 'fdfd'\"\n",
    "comand = \"start /wait bash run_dataserv.sh\"\n",
    "# os.system(\"start cmd /C dir\") \n",
    "process_dataserv = subprocess.Popen(comand, shell=True)\n",
    "# time.sleep(1) \n",
    "comand = \"start /wait bash run_inserv.sh\"\n",
    "# comand = \"echo 'fdfd'\"\n",
    "# os.system(\"start cmd /C dir\") \n",
    "process_inserv = subprocess.Popen(comand, shell=True)\n",
    "# time.sleep(1)\n",
    "pid_dataserv = process_dataserv.pid\n",
    "pid_inserv = process_inserv.pid\n",
    "pid_appserv = os.getpid()\n"
   ]
  },
  {
   "cell_type": "code",
   "execution_count": null,
   "metadata": {},
   "outputs": [],
   "source": [
    "pid_dataserv"
   ]
  },
  {
   "cell_type": "code",
   "execution_count": null,
   "metadata": {},
   "outputs": [],
   "source": [
    "pid_inserv"
   ]
  },
  {
   "cell_type": "code",
   "execution_count": null,
   "metadata": {},
   "outputs": [],
   "source": [
    "from nspyre.cli import dataserv\n",
    "\n"
   ]
  },
  {
   "cell_type": "code",
   "execution_count": null,
   "metadata": {},
   "outputs": [],
   "source": [
    "import nspyre\n",
    "nspyre.cli.dataserv._main()"
   ]
  },
  {
   "cell_type": "code",
   "execution_count": null,
   "metadata": {},
   "outputs": [],
   "source": [
    "nspyre/src/nspyre/cli\n",
    "/dataserv.py"
   ]
  },
  {
   "cell_type": "code",
   "execution_count": 1,
   "metadata": {},
   "outputs": [],
   "source": [
    "class Foo():\n",
    "    attr = 10\n",
    "    def __init__(self, arg1):\n",
    "        self.epicparameter = arg1\n",
    "\n"
   ]
  },
  {
   "cell_type": "code",
   "execution_count": 2,
   "metadata": {},
   "outputs": [],
   "source": [
    "aa = Foo(\"JJ\")"
   ]
  },
  {
   "cell_type": "code",
   "execution_count": 5,
   "metadata": {},
   "outputs": [],
   "source": [
    "bb = Foo(\"JJ\")"
   ]
  },
  {
   "cell_type": "code",
   "execution_count": 4,
   "metadata": {},
   "outputs": [
    {
     "data": {
      "text/plain": [
       "<__main__.Foo at 0x20fcb6d9600>"
      ]
     },
     "execution_count": 4,
     "metadata": {},
     "output_type": "execute_result"
    }
   ],
   "source": [
    "aa"
   ]
  },
  {
   "cell_type": "code",
   "execution_count": 6,
   "metadata": {},
   "outputs": [
    {
     "data": {
      "text/plain": [
       "<__main__.Foo at 0x20fcb7ceaa0>"
      ]
     },
     "execution_count": 6,
     "metadata": {},
     "output_type": "execute_result"
    }
   ],
   "source": [
    "bb"
   ]
  },
  {
   "cell_type": "code",
   "execution_count": 30,
   "metadata": {},
   "outputs": [
    {
     "data": {
      "text/plain": [
       "<__main__.C at 0x20fccb27820>"
      ]
     },
     "execution_count": 30,
     "metadata": {},
     "output_type": "execute_result"
    }
   ],
   "source": [
    "class A:\n",
    "    def __init__(self):\n",
    "        print('A')\n",
    "        # super().__init__()\n",
    "\n",
    "class B:\n",
    "    def __init__(self):\n",
    "        print('B')\n",
    "        # super().__init__()\n",
    "\n",
    "class C(A, B):\n",
    "    pass\n",
    "    def __init__(self):\n",
    "        super(B, self).__init__()\n",
    "    #     # super(B, self).__init__()\n",
    "\n",
    "C()\n",
    "#prints:\n",
    "#A\n",
    "#B"
   ]
  },
  {
   "cell_type": "code",
   "execution_count": 24,
   "metadata": {},
   "outputs": [
    {
     "name": "stdout",
     "output_type": "stream",
     "text": [
      "B\n"
     ]
    }
   ],
   "source": [
    "gg = C()"
   ]
  },
  {
   "cell_type": "code",
   "execution_count": 18,
   "metadata": {},
   "outputs": [
    {
     "data": {
      "text/plain": [
       "(__main__.C, __main__.A, __main__.B, object)"
      ]
     },
     "execution_count": 18,
     "metadata": {},
     "output_type": "execute_result"
    }
   ],
   "source": [
    "C.__mro__"
   ]
  },
  {
   "cell_type": "code",
   "execution_count": 31,
   "metadata": {},
   "outputs": [],
   "source": [
    "class Singleton(type):\n",
    "    \"\"\"\n",
    "    Singleton Metaclass.\n",
    "    Usage:\n",
    "    \n",
    "        #Python2\n",
    "        class MyClass(BaseClass):\n",
    "            __metaclass__ = Singleton\n",
    "\n",
    "        #Python3\n",
    "        class MyClass(BaseClass, metaclass=Singleton):\n",
    "            pass\n",
    "    \n",
    "    Modified from stackoverflow.com.\n",
    "    http://stackoverflow.com/questions/6760685/creating-a-singleton-in-python\n",
    "    \"\"\"\n",
    "    _instances = {}\n",
    "    def __call__(cls, *args, **kwargs):\n",
    "        \"\"\"\n",
    "        if there is a key-word argument called \"name\", then use that name to make class instance, \n",
    "        so users can create multiple class instances with different names, it's a \"Multiton\"\n",
    "\n",
    "        otherwise just always assigen \"default\" to the name, so this is a real \"Singleton\"\n",
    "        \"\"\"\n",
    "        clsname = kwargs[\"name\"] if \"name\" in kwargs else \"default\" \n",
    "        if cls not in cls._instances:\n",
    "            # a particular class not existed\n",
    "            # then create this class \n",
    "            # then create an instance of this class with a specific name\n",
    "            cls._instances[cls] = dict()\n",
    "            cls._instances[cls][clsname] = super(Singleton, cls).__call__(*args, **kwargs)\n",
    "        elif clsname not in cls._instances[cls]:\n",
    "            # a particular class existed\n",
    "            # but an instance with the specified name not existed\n",
    "            # then create a new instance of class with the specified name\n",
    "            cls._instances[cls][clsname] = super(Singleton, cls).__call__(*args, **kwargs)\n",
    "        #else just call that particular instance of that class with the specified name\n",
    "        return cls._instances[cls][clsname]"
   ]
  },
  {
   "cell_type": "code",
   "execution_count": 38,
   "metadata": {},
   "outputs": [],
   "source": [
    "\n",
    "        "
   ]
  },
  {
   "cell_type": "code",
   "execution_count": 51,
   "metadata": {},
   "outputs": [
    {
     "name": "stdout",
     "output_type": "stream",
     "text": [
      "When NOT using any Metaclass,\n",
      "   Is godfruit and godfruit_ex the same? False\n",
      "When using Singleton,\n",
      "   Is godfruit and godfruit_ex the same? True\n",
      "When using Multiton,\n",
      "   Is godfruit and godfruit_ex the same? False\n",
      "   Is godfruit_ex_junior and godfruit_ex the same? True\n"
     ]
    }
   ],
   "source": [
    "class epicfruit(metaclass=Singleton):\n",
    "    def __init__(self, name=\"default\"):\n",
    "        self._name = name\n",
    "\n",
    "class easyfruit():\n",
    "    def __init__(self, name=\"default\"):\n",
    "        self._name = name\n",
    "\n",
    "godfruit = easyfruit()\n",
    "godfruit_ex = easyfruit()\n",
    "print(f\"When NOT using any Metaclass,\")\n",
    "print(f\"   Is godfruit and godfruit_ex the same? {godfruit is godfruit_ex}\")\n",
    "godfruit = epicfruit()\n",
    "godfruit_ex = epicfruit()\n",
    "print(f\"When using Singleton,\")\n",
    "print(f\"   Is godfruit and godfruit_ex the same? {godfruit is godfruit_ex}\")\n",
    "myfruit = epicfruit(name=\"apple\")\n",
    "myfruit_ex = epicfruit(name=\"banana\")\n",
    "myfruit_ex_junior = epicfruit(name=\"banana\")\n",
    "print(f\"When using Multiton,\")\n",
    "print(f\"   Is myfruit and myfruit_ex the same? {myfruit is myfruit_ex}\")\n",
    "print(f\"   Is myfruit_ex_junior and myfruit_ex the same? {myfruit_ex_junior is myfruit_ex}\")\n"
   ]
  },
  {
   "cell_type": "code",
   "execution_count": 55,
   "metadata": {},
   "outputs": [
    {
     "data": {
      "text/plain": [
       "'epicfruit-apple'"
      ]
     },
     "execution_count": 55,
     "metadata": {},
     "output_type": "execute_result"
    }
   ],
   "source": [
    "godfruit.__class__.__name__+\"-\"+godfruit._name"
   ]
  },
  {
   "cell_type": "code",
   "execution_count": 40,
   "metadata": {},
   "outputs": [
    {
     "data": {
      "text/plain": [
       "<__main__.epicfruit at 0x20fcb9a0ee0>"
      ]
     },
     "execution_count": 40,
     "metadata": {},
     "output_type": "execute_result"
    }
   ],
   "source": [
    "godfruit"
   ]
  },
  {
   "cell_type": "code",
   "execution_count": 41,
   "metadata": {},
   "outputs": [
    {
     "data": {
      "text/plain": [
       "<__main__.epicfruit at 0x20fcb9a0ee0>"
      ]
     },
     "execution_count": 41,
     "metadata": {},
     "output_type": "execute_result"
    }
   ],
   "source": [
    "godfruit_ex"
   ]
  },
  {
   "cell_type": "code",
   "execution_count": 43,
   "metadata": {},
   "outputs": [],
   "source": [
    "apple = epicfruit(name=\"apple\")\n",
    "apple_ex = epicfruit(name=\"apple\")"
   ]
  },
  {
   "cell_type": "code",
   "execution_count": 44,
   "metadata": {},
   "outputs": [
    {
     "data": {
      "text/plain": [
       "<__main__.epicfruit at 0x20fccb0f520>"
      ]
     },
     "execution_count": 44,
     "metadata": {},
     "output_type": "execute_result"
    }
   ],
   "source": [
    "apple"
   ]
  },
  {
   "cell_type": "code",
   "execution_count": 45,
   "metadata": {},
   "outputs": [
    {
     "data": {
      "text/plain": [
       "<__main__.epicfruit at 0x20fccb0f520>"
      ]
     },
     "execution_count": 45,
     "metadata": {},
     "output_type": "execute_result"
    }
   ],
   "source": [
    "apple_ex"
   ]
  },
  {
   "cell_type": "code",
   "execution_count": null,
   "metadata": {},
   "outputs": [],
   "source": []
  },
  {
   "cell_type": "code",
   "execution_count": null,
   "metadata": {},
   "outputs": [],
   "source": []
  },
  {
   "cell_type": "code",
   "execution_count": 34,
   "metadata": {},
   "outputs": [
    {
     "name": "stdout",
     "output_type": "stream",
     "text": [
      "<class 'str'>\n",
      "   <class 'type'>\n",
      "   (<class 'str'>, <class 'object'>)\n",
      "   <method-wrapper '__call__' of type object at 0x00007FF9DCE8B090>\n",
      "   <built-in method __new__ of type object at 0x00007FF9DCE8B090>\n",
      "   <slot wrapper '__init__' of 'object' objects>\n",
      "hello\n",
      "   <class 'str'>\n",
      "   ---   \n",
      "   ---   \n",
      "   <built-in method __new__ of type object at 0x00007FF9DCE8B090>\n",
      "   <method-wrapper '__init__' of str object at 0x0000020FCB38E070>\n",
      "<class 'object'>\n",
      "   <class 'type'>\n",
      "   (<class 'object'>,)\n",
      "   <method-wrapper '__call__' of type object at 0x00007FF9DCE8ABB0>\n",
      "   <built-in method __new__ of type object at 0x00007FF9DCE8ABB0>\n",
      "   <slot wrapper '__init__' of 'object' objects>\n",
      "<object object at 0x0000020FCCBF4B60>\n",
      "   <class 'object'>\n",
      "   ---   \n",
      "   ---   \n",
      "   <built-in method __new__ of type object at 0x00007FF9DCE8ABB0>\n",
      "   <method-wrapper '__init__' of object object at 0x0000020FCCBF4B60>\n",
      "<class 'type'>\n",
      "   <class 'type'>\n",
      "   (<class 'type'>, <class 'object'>)\n",
      "   <slot wrapper '__call__' of 'type' objects>\n",
      "   <built-in method __new__ of type object at 0x00007FF9DCE8AD50>\n",
      "   <slot wrapper '__init__' of 'type' objects>\n",
      "<class '__main__.SimpleClass'>\n",
      "   <class 'type'>\n",
      "   (<class '__main__.SimpleClass'>, <class 'object'>)\n",
      "   <method-wrapper '__call__' of type object at 0x0000020FCA9832B0>\n",
      "   <built-in method __new__ of type object at 0x00007FF9DCE8ABB0>\n",
      "   <slot wrapper '__init__' of 'object' objects>\n",
      "<class '__main__.MetaClass'>\n",
      "   <class 'type'>\n",
      "   (<class '__main__.MetaClass'>, <class 'type'>, <class 'object'>)\n",
      "   <slot wrapper '__call__' of 'type' objects>\n",
      "   <built-in method __new__ of type object at 0x00007FF9DCE8AD50>\n",
      "   <slot wrapper '__init__' of 'type' objects>\n",
      "<class '__main__.MetaMadeClass'>\n",
      "   <class '__main__.MetaClass'>\n",
      "   (<class '__main__.MetaMadeClass'>, <class 'object'>)\n",
      "   <method-wrapper '__call__' of MetaClass object at 0x0000020FCA982EF0>\n",
      "   <built-in method __new__ of type object at 0x00007FF9DCE8ABB0>\n",
      "   <slot wrapper '__init__' of 'object' objects>\n",
      "<built-in function print>\n",
      "   <class 'builtin_function_or_method'>\n",
      "   ---   \n",
      "   <method-wrapper '__call__' of builtin_function_or_method object at 0x0000020FC6BC57B0>\n",
      "   <built-in method __new__ of type object at 0x00007FF9DCE8ABB0>\n",
      "   <method-wrapper '__init__' of builtin_function_or_method object at 0x0000020FC6BC57B0>\n",
      "<function my_func at 0x0000020FCB7E4040>\n",
      "   <class 'function'>\n",
      "   ---   \n",
      "   <method-wrapper '__call__' of function object at 0x0000020FCB7E4040>\n",
      "   <built-in method __new__ of type object at 0x00007FF9DCE82BF0>\n",
      "   <method-wrapper '__init__' of function object at 0x0000020FCB7E4040>\n"
     ]
    }
   ],
   "source": [
    "def my_func():\n",
    "    pass\n",
    "\n",
    "class SimpleClass:\n",
    "    pass\n",
    "\n",
    "class MetaClass(type):\n",
    "    pass\n",
    "\n",
    "class MetaMadeClass(metaclass=MetaClass):\n",
    "    pass\n",
    "\n",
    "for o in (str, 'hello', object, object(), type, SimpleClass, MetaClass, MetaMadeClass, print, my_func):\n",
    "    print(o)\n",
    "    print('  ', o.__class__)\n",
    "    try:\n",
    "         print('  ', o.__mro__)\n",
    "    except:\n",
    "         print('   ---   ')  \n",
    "    try:\n",
    "         print('  ', o.__call__)\n",
    "    except:\n",
    "         print('   ---   ')  \n",
    "    print('  ', o.__new__)\n",
    "    print('  ', o.__init__)"
   ]
  },
  {
   "cell_type": "code",
   "execution_count": 8,
   "metadata": {},
   "outputs": [],
   "source": [
    "import nidaqmx\n",
    "import time\n",
    "\n",
    "# Parameters\n",
    "frequency = 1.0  # Frequency of the square wave in Hz\n",
    "duration = 10    # Duration for the wave to run in seconds\n",
    "port = \"Dev1/port0/line0\"  # The digital output port and line\n",
    "\n",
    "# Calculate the period and the half period\n",
    "period = 1 / frequency\n",
    "half_period = period / 2\n",
    "\n",
    "# Create a task\n",
    "with nidaqmx.Task() as task:\n",
    "    # Add a digital output channel\n",
    "    task.do_channels.add_do_chan(port)\n",
    "\n",
    "    # Run the task for the specified duration\n",
    "    start_time = time.time()\n",
    "    while time.time() - start_time < duration:\n",
    "        # Set the line high\n",
    "        task.write([True])\n",
    "        # time.sleep(half_period)  # Wait for the half period\n",
    "\n",
    "        # Set the line low\n",
    "        task.write([False])\n",
    "        # time.sleep(half_period)  # Wait for the other half period"
   ]
  },
  {
   "cell_type": "code",
   "execution_count": 1,
   "metadata": {},
   "outputs": [],
   "source": [
    "\n",
    "import sys\n",
    "import os\n",
    "path_project = \"\\\\\".join(os.getcwd().split(\"\\\\\")[:-1])\n",
    "# caution: path[0] is reserved for script path (or '' in REPL)\n",
    "sys.path.insert(1, path_project)\n",
    "\n",
    "from hardware.mw.mwsynthesizer import Synthesizer\n",
    "from hardware import config_custom as hdc\n",
    "\n"
   ]
  },
  {
   "cell_type": "code",
   "execution_count": 2,
   "metadata": {},
   "outputs": [
    {
     "name": "stdout",
     "output_type": "stream",
     "text": [
      "VDI Sythesizer Serail Port Open\n"
     ]
    }
   ],
   "source": [
    "# mwsyn.close()\n",
    "mwsyn = Synthesizer(hdc.VDISYN_SN, \n",
    "                    vidpid=hdc.VDISYN_VIDPID,\n",
    "                    baudrate=hdc.VDISYN_BAUD, \n",
    "                    timeout=5, \n",
    "                    write_timeout=5)"
   ]
  },
  {
   "cell_type": "code",
   "execution_count": 3,
   "metadata": {},
   "outputs": [
    {
     "name": "stdout",
     "output_type": "stream",
     "text": [
      "CW Freqeuncy Setting Sent:16.458333333333332 GHz\n",
      "Actual Output CW Freqeuncy :16.458333333022892 GHz\n"
     ]
    }
   ],
   "source": [
    "freq = 395.0/24\n",
    "errorbyte, freq_actual = mwsyn.cw_frequency(freq)\n",
    "print(f\"CW Freqeuncy Setting Sent:{freq} GHz\")\n",
    "print(f\"Actual Output CW Freqeuncy :{freq_actual} GHz\")"
   ]
  },
  {
   "cell_type": "code",
   "execution_count": 25,
   "metadata": {},
   "outputs": [
    {
     "name": "stdout",
     "output_type": "stream",
     "text": [
      "CW Freqeuncy Setting Sent:8.0 GHz\n",
      "Actual Output CW Freqeuncy :7.999999998137355 GHz\n"
     ]
    }
   ],
   "source": [
    "freq = 8.0\n",
    "errorbyte, freq_actual = mwsyn.cw_frequency(freq)\n",
    "print(f\"CW Freqeuncy Setting Sent:{freq} GHz\")\n",
    "print(f\"Actual Output CW Freqeuncy :{freq_actual} GHz\")"
   ]
  },
  {
   "cell_type": "code",
   "execution_count": 33,
   "metadata": {},
   "outputs": [],
   "source": [
    "import nidaqmx\n",
    "import numpy as np\n",
    "import time\n",
    "from nidaqmx.constants import AcquisitionType\n",
    "\n",
    "# Parameters\n",
    "frequency = 40.0E3  # Frequency of the square wave in Hz (40 kHz)\n",
    "sampling_rate = 300.0E3  # Sampling rate in samples per second (400 kHz)\n",
    "duration = 50  # Duration for the wave to run in seconds\n",
    "peaktopeak = 4.0  # Amplitude of the square wave (peak-to-peak voltage)\n",
    "port = \"Dev1/ao0\"  # The analog output port\n",
    "\n",
    "# Calculate the number of samples per cycle\n",
    "num_samples = int(sampling_rate / frequency)\n",
    "tt = np.arange(num_samples)/ sampling_rate\n",
    "# Generate the square wave data\n",
    "square_wave = peaktopeak/2.0 * np.sign(np.sin(2 * np.pi *  frequency * tt)) + peaktopeak/2.0\n",
    "\n",
    "# Create a task\n",
    "with nidaqmx.Task() as task:\n",
    "    try:\n",
    "        # Add an analog output channel\n",
    "        task.ao_channels.add_ao_voltage_chan(port, min_val=0.0, max_val=peaktopeak)\n",
    "\n",
    "        # Configure the sample clock for continuous generation\n",
    "        task.timing.cfg_samp_clk_timing(sampling_rate, sample_mode=AcquisitionType.CONTINUOUS)\n",
    "\n",
    "        # Write the square wave to the output continuously\n",
    "        task.write(square_wave, auto_start=False)\n",
    "\n",
    "        # Start the task\n",
    "        task.start()\n",
    "\n",
    "        # Let it run for the specified duration\n",
    "        time.sleep(duration)\n",
    "    except KeyboardInterrupt: \n",
    "        # Stop the task after the duration\n",
    "        print(\"stop\")\n",
    "    finally:\n",
    "        task.stop()\n",
    "        time.sleep(1)\n",
    "        task.write(np.zeros(100), auto_start=False)\n",
    "        # Start the task\n",
    "        task.start()\n",
    "        time.sleep(1)\n",
    "        task.stop()"
   ]
  },
  {
   "cell_type": "code",
   "execution_count": 33,
   "metadata": {},
   "outputs": [
    {
     "data": {
      "text/plain": [
       "[<matplotlib.lines.Line2D at 0x1b5b3494d60>]"
      ]
     },
     "execution_count": 33,
     "metadata": {},
     "output_type": "execute_result"
    },
    {
     "data": {
      "image/png": "[encoded data removed]",
      "text/plain": [
       "<Figure size 640x480 with 1 Axes>"
      ]
     },
     "metadata": {},
     "output_type": "display_data"
    }
   ],
   "source": [
    "import matplotlib.pyplot as plt\n",
    "plt.plot(tt, square_wave)"
   ]
  },
  {
   "cell_type": "code",
   "execution_count": 5,
   "metadata": {},
   "outputs": [],
   "source": [
    "import nidaqmx\n",
    "import numpy as np\n",
    "import time\n",
    "from nidaqmx.constants import AcquisitionType"
   ]
  },
  {
   "cell_type": "code",
   "execution_count": 30,
   "metadata": {},
   "outputs": [
    {
     "name": "stderr",
     "output_type": "stream",
     "text": [
      "c:\\ProgramData\\miniconda3\\envs\\hfnvenv\\lib\\site-packages\\nidaqmx\\task.py:98: ResourceWarning: Task of name \"_unnamedTask<7>\" was not explicitly closed before it was destructed. Resources on the task device may still be reserved.\n",
      "  warnings.warn(\n"
     ]
    },
    {
     "ename": "DaqWriteError",
     "evalue": "The specified resource is reserved. The operation could not be completed as specified.\n\nTask Name: UCA\n\nStatus Code: -50103",
     "output_type": "error",
     "traceback": [
      "\u001b[1;31m---------------------------------------------------------------------------\u001b[0m",
      "\u001b[1;31mDaqWriteError\u001b[0m                             Traceback (most recent call last)",
      "Cell \u001b[1;32mIn[30], line 24\u001b[0m\n\u001b[0;32m     21\u001b[0m task\u001b[38;5;241m.\u001b[39mtiming\u001b[38;5;241m.\u001b[39mcfg_samp_clk_timing(sampling_rate, sample_mode\u001b[38;5;241m=\u001b[39mAcquisitionType\u001b[38;5;241m.\u001b[39mCONTINUOUS)\n\u001b[0;32m     23\u001b[0m \u001b[38;5;66;03m# Write the square wave to the output continuously\u001b[39;00m\n\u001b[1;32m---> 24\u001b[0m \u001b[43mtask\u001b[49m\u001b[38;5;241;43m.\u001b[39;49m\u001b[43mwrite\u001b[49m\u001b[43m(\u001b[49m\u001b[43msquare_wave\u001b[49m\u001b[43m,\u001b[49m\u001b[43m \u001b[49m\u001b[43mauto_start\u001b[49m\u001b[38;5;241;43m=\u001b[39;49m\u001b[38;5;28;43;01mFalse\u001b[39;49;00m\u001b[43m)\u001b[49m\n\u001b[0;32m     26\u001b[0m \u001b[38;5;66;03m# Start the task\u001b[39;00m\n\u001b[0;32m     27\u001b[0m task\u001b[38;5;241m.\u001b[39mstart()\n",
      "File \u001b[1;32mc:\\ProgramData\\miniconda3\\envs\\hfnvenv\\lib\\site-packages\\nidaqmx\\task.py:1086\u001b[0m, in \u001b[0;36mTask.write\u001b[1;34m(self, data, auto_start, timeout)\u001b[0m\n\u001b[0;32m   1084\u001b[0m \u001b[38;5;28;01mif\u001b[39;00m write_chan_type \u001b[38;5;241m==\u001b[39m ChannelType\u001b[38;5;241m.\u001b[39mANALOG_OUTPUT:\n\u001b[0;32m   1085\u001b[0m     data \u001b[38;5;241m=\u001b[39m numpy\u001b[38;5;241m.\u001b[39masarray(data, dtype\u001b[38;5;241m=\u001b[39mnumpy\u001b[38;5;241m.\u001b[39mfloat64)\n\u001b[1;32m-> 1086\u001b[0m     \u001b[38;5;28;01mreturn\u001b[39;00m \u001b[38;5;28;43mself\u001b[39;49m\u001b[38;5;241;43m.\u001b[39;49m\u001b[43m_interpreter\u001b[49m\u001b[38;5;241;43m.\u001b[39;49m\u001b[43mwrite_analog_f64\u001b[49m\u001b[43m(\u001b[49m\n\u001b[0;32m   1087\u001b[0m \u001b[43m        \u001b[49m\u001b[38;5;28;43mself\u001b[39;49m\u001b[38;5;241;43m.\u001b[39;49m\u001b[43m_handle\u001b[49m\u001b[43m,\u001b[49m\u001b[43m \u001b[49m\u001b[43mnumber_of_samples_per_channel\u001b[49m\u001b[43m,\u001b[49m\u001b[43m \u001b[49m\u001b[43mauto_start\u001b[49m\u001b[43m,\u001b[49m\n\u001b[0;32m   1088\u001b[0m \u001b[43m        \u001b[49m\u001b[43mtimeout\u001b[49m\u001b[43m,\u001b[49m\u001b[43m \u001b[49m\u001b[43mFillMode\u001b[49m\u001b[38;5;241;43m.\u001b[39;49m\u001b[43mGROUP_BY_CHANNEL\u001b[49m\u001b[38;5;241;43m.\u001b[39;49m\u001b[43mvalue\u001b[49m\u001b[43m,\u001b[49m\u001b[43m \u001b[49m\u001b[43mdata\u001b[49m\u001b[43m)\u001b[49m\n\u001b[0;32m   1090\u001b[0m \u001b[38;5;28;01melif\u001b[39;00m write_chan_type \u001b[38;5;241m==\u001b[39m ChannelType\u001b[38;5;241m.\u001b[39mDIGITAL_OUTPUT:\n\u001b[0;32m   1091\u001b[0m     \u001b[38;5;28;01mif\u001b[39;00m \u001b[38;5;28mself\u001b[39m\u001b[38;5;241m.\u001b[39mout_stream\u001b[38;5;241m.\u001b[39mdo_num_booleans_per_chan \u001b[38;5;241m==\u001b[39m \u001b[38;5;241m1\u001b[39m:\n",
      "File \u001b[1;32mc:\\ProgramData\\miniconda3\\envs\\hfnvenv\\lib\\site-packages\\nidaqmx\\_library_interpreter.py:5564\u001b[0m, in \u001b[0;36mLibraryInterpreter.write_analog_f64\u001b[1;34m(self, task, num_samps_per_chan, auto_start, timeout, data_layout, write_array)\u001b[0m\n\u001b[0;32m   5555\u001b[0m             cfunc\u001b[38;5;241m.\u001b[39margtypes \u001b[38;5;241m=\u001b[39m [\n\u001b[0;32m   5556\u001b[0m                 lib_importer\u001b[38;5;241m.\u001b[39mtask_handle, ctypes\u001b[38;5;241m.\u001b[39mc_int, c_bool32,\n\u001b[0;32m   5557\u001b[0m                 ctypes\u001b[38;5;241m.\u001b[39mc_double, ctypes\u001b[38;5;241m.\u001b[39mc_int,\n\u001b[0;32m   5558\u001b[0m                 wrapped_ndpointer(dtype\u001b[38;5;241m=\u001b[39mnumpy\u001b[38;5;241m.\u001b[39mfloat64, flags\u001b[38;5;241m=\u001b[39m(\u001b[38;5;124m'\u001b[39m\u001b[38;5;124mC\u001b[39m\u001b[38;5;124m'\u001b[39m)),\n\u001b[0;32m   5559\u001b[0m                 ctypes\u001b[38;5;241m.\u001b[39mPOINTER(ctypes\u001b[38;5;241m.\u001b[39mc_int), ctypes\u001b[38;5;241m.\u001b[39mPOINTER(c_bool32)]\n\u001b[0;32m   5561\u001b[0m error_code \u001b[38;5;241m=\u001b[39m cfunc(\n\u001b[0;32m   5562\u001b[0m     task, num_samps_per_chan, auto_start, timeout, data_layout,\n\u001b[0;32m   5563\u001b[0m     write_array, ctypes\u001b[38;5;241m.\u001b[39mbyref(samps_per_chan_written), \u001b[38;5;28;01mNone\u001b[39;00m)\n\u001b[1;32m-> 5564\u001b[0m \u001b[38;5;28;43mself\u001b[39;49m\u001b[38;5;241;43m.\u001b[39;49m\u001b[43mcheck_for_error\u001b[49m\u001b[43m(\u001b[49m\u001b[43merror_code\u001b[49m\u001b[43m,\u001b[49m\u001b[43m \u001b[49m\u001b[43msamps_per_chan_written\u001b[49m\u001b[38;5;241;43m=\u001b[39;49m\u001b[43msamps_per_chan_written\u001b[49m\u001b[38;5;241;43m.\u001b[39;49m\u001b[43mvalue\u001b[49m\u001b[43m)\u001b[49m\n\u001b[0;32m   5565\u001b[0m \u001b[38;5;28;01mreturn\u001b[39;00m samps_per_chan_written\u001b[38;5;241m.\u001b[39mvalue\n",
      "File \u001b[1;32mc:\\ProgramData\\miniconda3\\envs\\hfnvenv\\lib\\site-packages\\nidaqmx\\_library_interpreter.py:6039\u001b[0m, in \u001b[0;36mLibraryInterpreter.check_for_error\u001b[1;34m(self, error_code, samps_per_chan_written, samps_per_chan_read)\u001b[0m\n\u001b[0;32m   6037\u001b[0m     \u001b[38;5;28;01mraise\u001b[39;00m DaqReadError(extended_error_info, error_code, samps_per_chan_read)\n\u001b[0;32m   6038\u001b[0m \u001b[38;5;28;01melif\u001b[39;00m samps_per_chan_written \u001b[38;5;129;01mis\u001b[39;00m \u001b[38;5;129;01mnot\u001b[39;00m \u001b[38;5;28;01mNone\u001b[39;00m:\n\u001b[1;32m-> 6039\u001b[0m     \u001b[38;5;28;01mraise\u001b[39;00m DaqWriteError(extended_error_info, error_code, samps_per_chan_written)\n\u001b[0;32m   6040\u001b[0m \u001b[38;5;28;01melse\u001b[39;00m:\n\u001b[0;32m   6041\u001b[0m     \u001b[38;5;28;01mraise\u001b[39;00m DaqError(extended_error_info, error_code)\n",
      "\u001b[1;31mDaqWriteError\u001b[0m: The specified resource is reserved. The operation could not be completed as specified.\n\nTask Name: UCA\n\nStatus Code: -50103"
     ]
    }
   ],
   "source": [
    "# Parameters\n",
    "frequency = 40.0E3  # Frequency of the square wave in Hz (40 kHz)\n",
    "sampling_rate = 300.0E3  # Sampling rate in samples per second (400 kHz)\n",
    "duration = 500  # Duration for the wave to run in seconds\n",
    "\n",
    "port = \"Dev1/ao1\"  # The analog output port\n",
    "voltlevel = 5.0  # Amplitude of the square wave (peak-to-peak voltage)\n",
    "\n",
    "\n",
    "# Calculate the number of samples per cycle\n",
    "num_samples = int(sampling_rate / frequency)\n",
    "tt = np.arange(num_samples)/ sampling_rate\n",
    "# Generate the square wave data\n",
    "square_wave = np.ones(num_samples)*voltlevel\n",
    "# Create a task\n",
    "task = nidaqmx.Task(\"UCA\")\n",
    "# Add an analog output channel\n",
    "task.ao_channels.add_ao_voltage_chan(port, min_val=0.0, max_val=10)\n",
    "\n",
    "# Configure the sample clock for continuous generation\n",
    "task.timing.cfg_samp_clk_timing(sampling_rate, sample_mode=AcquisitionType.CONTINUOUS)\n",
    "\n",
    "# Write the square wave to the output continuously\n",
    "task.write(square_wave, auto_start=False)\n",
    "\n",
    "# Start the task\n",
    "task.start()\n",
    "\n"
   ]
  },
  {
   "cell_type": "code",
   "execution_count": 29,
   "metadata": {},
   "outputs": [],
   "source": [
    "\n",
    "\n",
    "# Let it run for the specified duration\n",
    "# time.sleep(duration)"
   ]
  },
  {
   "cell_type": "code",
   "execution_count": 27,
   "metadata": {},
   "outputs": [],
   "source": [
    "task.stop()\n",
    "task.write(np.zeros(100), auto_start=False)\n",
    "# Start the task\n",
    "task.start()\n",
    "time.sleep(1)\n",
    "task.stop()\n",
    "task.close()\n"
   ]
  },
  {
   "cell_type": "code",
   "execution_count": 14,
   "metadata": {},
   "outputs": [],
   "source": [
    "import time\n",
    "time_stop = 0.5\n",
    "time_start = time.time()\n",
    "num_run = 10\n",
    "for _ in range(num_run):\n",
    "    time.sleep(0.1) # do someting\n",
    "    time_now = time.time()\n",
    "    time_run = time_now - time_start\n",
    "    if time_run > time_stop:\n",
    "        break\n",
    "else:\n",
    "    print(\"done\")\n",
    "    print(\"time run\", time_run)"
   ]
  },
  {
   "cell_type": "code",
   "execution_count": 21,
   "metadata": {},
   "outputs": [
    {
     "name": "stdout",
     "output_type": "stream",
     "text": [
      "4\n",
      "0\n"
     ]
    }
   ],
   "source": [
    "import numpy as np\n",
    "signal = np.array([-3, -6, -4, -5, 6, 7,-1,-2,6,8,3,1,6,3,5,7,3,5,2,3,5,6,])\n",
    "print(np.where(signal>0)[0][0])\n",
    "print(np.where(signal<0)[0][0])"
   ]
  },
  {
   "cell_type": "code",
   "execution_count": 2,
   "metadata": {},
   "outputs": [],
   "source": [
    "import numpy as np"
   ]
  },
  {
   "cell_type": "code",
   "execution_count": 3,
   "metadata": {},
   "outputs": [
    {
     "data": {
      "text/plain": [
       "array([[ 54,   0],\n",
       "       [454,   1]])"
      ]
     },
     "execution_count": 3,
     "metadata": {},
     "output_type": "execute_result"
    }
   ],
   "source": [
    "np.array([(54, 0), (454, 1)])"
   ]
  },
  {
   "cell_type": "code",
   "execution_count": 22,
   "metadata": {},
   "outputs": [
    {
     "ename": "AttributeError",
     "evalue": "'numpy.ndarray' object has no attribute 'pop'",
     "output_type": "error",
     "traceback": [
      "\u001b[1;31m---------------------------------------------------------------------------\u001b[0m",
      "\u001b[1;31mAttributeError\u001b[0m                            Traceback (most recent call last)",
      "Cell \u001b[1;32mIn[22], line 1\u001b[0m\n\u001b[1;32m----> 1\u001b[0m \u001b[43msignal\u001b[49m\u001b[38;5;241;43m.\u001b[39;49m\u001b[43mpop\u001b[49m(\u001b[38;5;241m444\u001b[39m)\n",
      "\u001b[1;31mAttributeError\u001b[0m: 'numpy.ndarray' object has no attribute 'pop'"
     ]
    }
   ],
   "source": [
    "signal.pop(444)"
   ]
  },
  {
   "cell_type": "code",
   "execution_count": 23,
   "metadata": {},
   "outputs": [
    {
     "data": {
      "image/png": "[encoded data removed]",
      "text/plain": [
       "<Figure size 640x480 with 1 Axes>"
      ]
     },
     "metadata": {},
     "output_type": "display_data"
    },
    {
     "name": "stdout",
     "output_type": "stream",
     "text": [
      "Peak amplitude at 50 Hz: 505.1704634995507\n"
     ]
    }
   ],
   "source": [
    "import numpy as np\n",
    "import matplotlib.pyplot as plt\n",
    "\n",
    "# Sample signal generation: A sine wave with noise\n",
    "fs = 1000  # Sampling rate in Hz\n",
    "t = np.linspace(0, 1, fs, endpoint=False)  # Time array for 1 second\n",
    "freq = 50  # Frequency of the signal in Hz\n",
    "amplitude = 1  # Amplitude of the signal\n",
    "signal = amplitude * np.sin(2 * np.pi * freq * t) + 0.5 * np.random.normal(size=t.shape)\n",
    "\n",
    "# Perform FFT on the signal\n",
    "fft_result = np.fft.fft(signal)\n",
    "fft_freqs = np.fft.fftfreq(len(t), 1/fs)\n",
    "\n",
    "# Get the positive frequencies and corresponding FFT values\n",
    "positive_freqs = fft_freqs[fft_freqs >= 0]\n",
    "positive_fft = np.abs(fft_result[fft_freqs >= 0])\n",
    "\n",
    "# Plot the FFT result (Amplitude Spectrum)\n",
    "plt.plot(positive_freqs, positive_fft)\n",
    "plt.title(\"FFT Amplitude Spectrum\")\n",
    "plt.xlabel(\"Frequency (Hz)\")\n",
    "plt.ylabel(\"Amplitude\")\n",
    "plt.grid(True)\n",
    "plt.show()\n",
    "\n",
    "# Find the peak amplitude at a specific frequency (e.g., 50 Hz)\n",
    "target_frequency = 50\n",
    "idx = (np.abs(positive_freqs - target_frequency)).argmin()  # Find the closest frequency bin\n",
    "peak_amplitude = positive_fft[idx]\n",
    "\n",
    "print(f\"Peak amplitude at {target_frequency} Hz: {peak_amplitude}\")"
   ]
  },
  {
   "cell_type": "code",
   "execution_count": 4,
   "metadata": {},
   "outputs": [],
   "source": [
    "state = \"wait\"\n"
   ]
  },
  {
   "cell_type": "code",
   "execution_count": 5,
   "metadata": {},
   "outputs": [
    {
     "data": {
      "text/plain": [
       "True"
      ]
     },
     "execution_count": 5,
     "metadata": {},
     "output_type": "execute_result"
    }
   ],
   "source": [
    "state in [\"idle\", \"wait\", \"done\", \"error\"]"
   ]
  },
  {
   "cell_type": "code",
   "execution_count": 14,
   "metadata": {},
   "outputs": [
    {
     "data": {
      "text/plain": [
       "33333"
      ]
     },
     "execution_count": 14,
     "metadata": {},
     "output_type": "execute_result"
    }
   ],
   "source": [
    "leastrepeat = 66666000\n",
    "refresh = 20.0\n",
    "dt_daq = 2000\n",
    "\n",
    "# ()"
   ]
  },
  {
   "cell_type": "code",
   "execution_count": 15,
   "metadata": {},
   "outputs": [],
   "source": [
    "class Singleton(type):\n",
    "    \"\"\"\n",
    "    Singleton Metaclass.\n",
    "    Usage:\n",
    "    \n",
    "        #Python2\n",
    "        class MyClass(BaseClass):\n",
    "            __metaclass__ = Singleton\n",
    "\n",
    "        #Python3\n",
    "        class MyClass(BaseClass, metaclass=Singleton):\n",
    "            pass\n",
    "    \n",
    "    Modified from stackoverflow.com.\n",
    "    http://stackoverflow.com/questions/6760685/creating-a-singleton-in-python\n",
    "    \"\"\"\n",
    "    _instances = {}\n",
    "    def __call__(cls, *args, **kwargs):\n",
    "        \"\"\"\n",
    "        if there is a key-word argument called \"name\", then use that name to make class instance, \n",
    "        so users can create multiple class instances with different names, it's a \"Multiton\"\n",
    "\n",
    "        otherwise just always assigen \"default\" to the name, so this is a real \"Singleton\"\n",
    "        \"\"\"\n",
    "        clsname = kwargs[\"name\"] if \"name\" in kwargs else \"default\" \n",
    "        if cls not in cls._instances:\n",
    "            # a particular class not existed\n",
    "            # then create this class \n",
    "            # then create an instance of this class with a specific name\n",
    "            cls._instances[cls] = dict()\n",
    "            cls._instances[cls][clsname] = super(Singleton, cls).__call__(*args, **kwargs)\n",
    "        elif clsname not in cls._instances[cls]:\n",
    "            # a particular class existed\n",
    "            # but an instance with the specified name not existed\n",
    "            # then create a new instance of class with the specified name\n",
    "            cls._instances[cls][clsname] = super(Singleton, cls).__call__(*args, **kwargs)\n",
    "        #else just call that particular instance of that class with the specified name\n",
    "        return cls._instances[cls][clsname]"
   ]
  },
  {
   "cell_type": "code",
   "execution_count": 21,
   "metadata": {},
   "outputs": [
    {
     "name": "stdout",
     "output_type": "stream",
     "text": [
      "When NOT using any Metaclass,\n",
      "   Is godfruit and godfruit_ex the same? False\n",
      "When using Singleton,\n",
      "   Is godfruit and godfruit_ex the same? True\n",
      "   Is godfruit and fakegodfruit the same? False\n",
      "When using Multiton,\n",
      "   Is myfruit and myfruit_ex the same? False\n",
      "   Is myfruit_ex_junior and myfruit_ex the same? True\n",
      "   Is myfruit_ex_fake and myfruit_ex the same? False\n"
     ]
    }
   ],
   "source": [
    "\n"
   ]
  },
  {
   "cell_type": "code",
   "execution_count": null,
   "metadata": {},
   "outputs": [],
   "source": []
  }
 ],
 "metadata": {
  "kernelspec": {
   "display_name": "hfnvenv",
   "language": "python",
   "name": "python3"
  },
  "language_info": {
   "codemirror_mode": {
    "name": "ipython",
    "version": 3
   },
   "file_extension": ".py",
   "mimetype": "text/x-python",
   "name": "python",
   "nbconvert_exporter": "python",
   "pygments_lexer": "ipython3",
   "version": "3.10.14"
  }
 },
 "nbformat": 4,
 "nbformat_minor": 2
}
