{
 "cells": [
  {
   "cell_type": "code",
   "execution_count": null,
   "metadata": {},
   "outputs": [],
   "source": [
    "import numpy as np\n",
    "xx = np.array([])"
   ]
  },
  {
   "cell_type": "code",
   "execution_count": null,
   "metadata": {},
   "outputs": [],
   "source": [
    "np.max(xx)"
   ]
  },
  {
   "cell_type": "code",
   "execution_count": null,
   "metadata": {},
   "outputs": [],
   "source": [
    "xx = np.array([np.nan])"
   ]
  },
  {
   "cell_type": "code",
   "execution_count": null,
   "metadata": {},
   "outputs": [],
   "source": [
    "np.max(xx)"
   ]
  },
  {
   "cell_type": "code",
   "execution_count": null,
   "metadata": {},
   "outputs": [],
   "source": [
    "import subprocess\n",
    "import time\n",
    "import os\n",
    "comand = \"echo 'fdfd'\"\n",
    "comand = \"start /wait bash run_dataserv.sh\"\n",
    "# os.system(\"start cmd /C dir\") \n",
    "process_dataserv = subprocess.Popen(comand, shell=True)\n",
    "# time.sleep(1) \n",
    "comand = \"start /wait bash run_inserv.sh\"\n",
    "# comand = \"echo 'fdfd'\"\n",
    "# os.system(\"start cmd /C dir\") \n",
    "process_inserv = subprocess.Popen(comand, shell=True)\n",
    "# time.sleep(1)\n",
    "pid_dataserv = process_dataserv.pid\n",
    "pid_inserv = process_inserv.pid\n",
    "pid_appserv = os.getpid()\n"
   ]
  },
  {
   "cell_type": "code",
   "execution_count": null,
   "metadata": {},
   "outputs": [],
   "source": [
    "pid_dataserv"
   ]
  },
  {
   "cell_type": "code",
   "execution_count": null,
   "metadata": {},
   "outputs": [],
   "source": [
    "pid_inserv"
   ]
  },
  {
   "cell_type": "code",
   "execution_count": null,
   "metadata": {},
   "outputs": [],
   "source": [
    "from nspyre.cli import dataserv\n",
    "\n"
   ]
  },
  {
   "cell_type": "code",
   "execution_count": null,
   "metadata": {},
   "outputs": [],
   "source": [
    "import nspyre\n",
    "nspyre.cli.dataserv._main()"
   ]
  },
  {
   "cell_type": "code",
   "execution_count": null,
   "metadata": {},
   "outputs": [],
   "source": [
    "nspyre/src/nspyre/cli\n",
    "/dataserv.py"
   ]
  },
  {
   "cell_type": "code",
   "execution_count": null,
   "metadata": {},
   "outputs": [],
   "source": [
    "class Foo():\n",
    "    attr = 10\n",
    "    def __init__(self, arg1):\n",
    "        self.epicparameter = arg1\n",
    "\n"
   ]
  },
  {
   "cell_type": "code",
   "execution_count": null,
   "metadata": {},
   "outputs": [],
   "source": [
    "aa = Foo(\"JJ\")"
   ]
  },
  {
   "cell_type": "code",
   "execution_count": null,
   "metadata": {},
   "outputs": [],
   "source": [
    "bb = Foo(\"JJ\")"
   ]
  },
  {
   "cell_type": "code",
   "execution_count": null,
   "metadata": {},
   "outputs": [],
   "source": [
    "aa"
   ]
  },
  {
   "cell_type": "code",
   "execution_count": null,
   "metadata": {},
   "outputs": [],
   "source": [
    "bb"
   ]
  },
  {
   "cell_type": "code",
   "execution_count": null,
   "metadata": {},
   "outputs": [],
   "source": [
    "class A:\n",
    "    def __init__(self):\n",
    "        print('A')\n",
    "        # super().__init__()\n",
    "\n",
    "class B:\n",
    "    def __init__(self):\n",
    "        print('B')\n",
    "        # super().__init__()\n",
    "\n",
    "class C(A, B):\n",
    "    pass\n",
    "    def __init__(self):\n",
    "        super(B, self).__init__()\n",
    "    #     # super(B, self).__init__()\n",
    "\n",
    "C()\n",
    "#prints:\n",
    "#A\n",
    "#B"
   ]
  },
  {
   "cell_type": "code",
   "execution_count": null,
   "metadata": {},
   "outputs": [],
   "source": [
    "gg = C()"
   ]
  },
  {
   "cell_type": "code",
   "execution_count": null,
   "metadata": {},
   "outputs": [],
   "source": [
    "C.__mro__"
   ]
  },
  {
   "cell_type": "code",
   "execution_count": null,
   "metadata": {},
   "outputs": [],
   "source": [
    "class Singleton(type):\n",
    "    \"\"\"\n",
    "    Singleton Metaclass.\n",
    "    Usage:\n",
    "    \n",
    "        #Python2\n",
    "        class MyClass(BaseClass):\n",
    "            __metaclass__ = Singleton\n",
    "\n",
    "        #Python3\n",
    "        class MyClass(BaseClass, metaclass=Singleton):\n",
    "            pass\n",
    "    \n",
    "    Modified from stackoverflow.com.\n",
    "    http://stackoverflow.com/questions/6760685/creating-a-singleton-in-python\n",
    "    \"\"\"\n",
    "    _instances = {}\n",
    "    def __call__(cls, *args, **kwargs):\n",
    "        \"\"\"\n",
    "        if there is a key-word argument called \"name\", then use that name to make class instance, \n",
    "        so users can create multiple class instances with different names, it's a \"Multiton\"\n",
    "\n",
    "        otherwise just always assigen \"default\" to the name, so this is a real \"Singleton\"\n",
    "        \"\"\"\n",
    "        clsname = kwargs[\"name\"] if \"name\" in kwargs else \"default\" \n",
    "        if cls not in cls._instances:\n",
    "            # a particular class not existed\n",
    "            # then create this class \n",
    "            # then create an instance of this class with a specific name\n",
    "            cls._instances[cls] = dict()\n",
    "            cls._instances[cls][clsname] = super(Singleton, cls).__call__(*args, **kwargs)\n",
    "        elif clsname not in cls._instances[cls]:\n",
    "            # a particular class existed\n",
    "            # but an instance with the specified name not existed\n",
    "            # then create a new instance of class with the specified name\n",
    "            cls._instances[cls][clsname] = super(Singleton, cls).__call__(*args, **kwargs)\n",
    "        #else just call that particular instance of that class with the specified name\n",
    "        return cls._instances[cls][clsname]"
   ]
  },
  {
   "cell_type": "code",
   "execution_count": null,
   "metadata": {},
   "outputs": [],
   "source": [
    "\n",
    "        "
   ]
  },
  {
   "cell_type": "code",
   "execution_count": null,
   "metadata": {},
   "outputs": [],
   "source": [
    "class epicfruit(metaclass=Singleton):\n",
    "    def __init__(self, name=\"default\"):\n",
    "        self._name = name\n",
    "\n",
    "class easyfruit():\n",
    "    def __init__(self, name=\"default\"):\n",
    "        self._name = name\n",
    "\n",
    "godfruit = easyfruit()\n",
    "godfruit_ex = easyfruit()\n",
    "print(f\"When NOT using any Metaclass,\")\n",
    "print(f\"   Is godfruit and godfruit_ex the same? {godfruit is godfruit_ex}\")\n",
    "godfruit = epicfruit()\n",
    "godfruit_ex = epicfruit()\n",
    "print(f\"When using Singleton,\")\n",
    "print(f\"   Is godfruit and godfruit_ex the same? {godfruit is godfruit_ex}\")\n",
    "myfruit = epicfruit(name=\"apple\")\n",
    "myfruit_ex = epicfruit(name=\"banana\")\n",
    "myfruit_ex_junior = epicfruit(name=\"banana\")\n",
    "print(f\"When using Multiton,\")\n",
    "print(f\"   Is myfruit and myfruit_ex the same? {myfruit is myfruit_ex}\")\n",
    "print(f\"   Is myfruit_ex_junior and myfruit_ex the same? {myfruit_ex_junior is myfruit_ex}\")\n"
   ]
  },
  {
   "cell_type": "code",
   "execution_count": null,
   "metadata": {},
   "outputs": [],
   "source": [
    "godfruit.__class__.__name__+\"-\"+godfruit._name"
   ]
  },
  {
   "cell_type": "code",
   "execution_count": null,
   "metadata": {},
   "outputs": [],
   "source": [
    "godfruit"
   ]
  },
  {
   "cell_type": "code",
   "execution_count": null,
   "metadata": {},
   "outputs": [],
   "source": [
    "godfruit_ex"
   ]
  },
  {
   "cell_type": "code",
   "execution_count": null,
   "metadata": {},
   "outputs": [],
   "source": [
    "apple = epicfruit(name=\"apple\")\n",
    "apple_ex = epicfruit(name=\"apple\")"
   ]
  },
  {
   "cell_type": "code",
   "execution_count": null,
   "metadata": {},
   "outputs": [],
   "source": [
    "apple"
   ]
  },
  {
   "cell_type": "code",
   "execution_count": null,
   "metadata": {},
   "outputs": [],
   "source": [
    "apple_ex"
   ]
  },
  {
   "cell_type": "code",
   "execution_count": null,
   "metadata": {},
   "outputs": [],
   "source": []
  },
  {
   "cell_type": "code",
   "execution_count": null,
   "metadata": {},
   "outputs": [],
   "source": []
  },
  {
   "cell_type": "code",
   "execution_count": null,
   "metadata": {},
   "outputs": [],
   "source": [
    "def my_func():\n",
    "    pass\n",
    "\n",
    "class SimpleClass:\n",
    "    pass\n",
    "\n",
    "class MetaClass(type):\n",
    "    pass\n",
    "\n",
    "class MetaMadeClass(metaclass=MetaClass):\n",
    "    pass\n",
    "\n",
    "for o in (str, 'hello', object, object(), type, SimpleClass, MetaClass, MetaMadeClass, print, my_func):\n",
    "    print(o)\n",
    "    print('  ', o.__class__)\n",
    "    try:\n",
    "         print('  ', o.__mro__)\n",
    "    except:\n",
    "         print('   ---   ')  \n",
    "    try:\n",
    "         print('  ', o.__call__)\n",
    "    except:\n",
    "         print('   ---   ')  \n",
    "    print('  ', o.__new__)\n",
    "    print('  ', o.__init__)"
   ]
  },
  {
   "cell_type": "code",
   "execution_count": null,
   "metadata": {},
   "outputs": [],
   "source": [
    "import nidaqmx\n",
    "import time\n",
    "\n",
    "# Parameters\n",
    "frequency = 1.0  # Frequency of the square wave in Hz\n",
    "duration = 10    # Duration for the wave to run in seconds\n",
    "port = \"Dev1/port0/line0\"  # The digital output port and line\n",
    "\n",
    "# Calculate the period and the half period\n",
    "period = 1 / frequency\n",
    "half_period = period / 2\n",
    "\n",
    "# Create a task\n",
    "with nidaqmx.Task() as task:\n",
    "    # Add a digital output channel\n",
    "    task.do_channels.add_do_chan(port)\n",
    "\n",
    "    # Run the task for the specified duration\n",
    "    start_time = time.time()\n",
    "    while time.time() - start_time < duration:\n",
    "        # Set the line high\n",
    "        task.write([True])\n",
    "        # time.sleep(half_period)  # Wait for the half period\n",
    "\n",
    "        # Set the line low\n",
    "        task.write([False])\n",
    "        # time.sleep(half_period)  # Wait for the other half period"
   ]
  },
  {
   "cell_type": "code",
   "execution_count": null,
   "metadata": {},
   "outputs": [],
   "source": [
    "\n",
    "import sys\n",
    "import os\n",
    "path_project = \"\\\\\".join(os.getcwd().split(\"\\\\\")[:-1])\n",
    "# caution: path[0] is reserved for script path (or '' in REPL)\n",
    "sys.path.insert(1, path_project)\n",
    "\n",
    "from hardware.mw.mwsynthesizer import Synthesizer\n",
    "from hardware import config_custom as hdc\n",
    "\n"
   ]
  },
  {
   "cell_type": "code",
   "execution_count": null,
   "metadata": {},
   "outputs": [],
   "source": [
    "# mwsyn.close()\n",
    "mwsyn = Synthesizer(hdc.VDISYN_SN, \n",
    "                    vidpid=hdc.VDISYN_VIDPID,\n",
    "                    baudrate=hdc.VDISYN_BAUD, \n",
    "                    timeout=5, \n",
    "                    write_timeout=5)"
   ]
  },
  {
   "cell_type": "code",
   "execution_count": null,
   "metadata": {},
   "outputs": [],
   "source": [
    "freq = 395.0/24\n",
    "errorbyte, freq_actual = mwsyn.cw_frequency(freq)\n",
    "print(f\"CW Freqeuncy Setting Sent:{freq} GHz\")\n",
    "print(f\"Actual Output CW Freqeuncy :{freq_actual} GHz\")"
   ]
  },
  {
   "cell_type": "code",
   "execution_count": null,
   "metadata": {},
   "outputs": [],
   "source": [
    "freq = 8.0\n",
    "errorbyte, freq_actual = mwsyn.cw_frequency(freq)\n",
    "print(f\"CW Freqeuncy Setting Sent:{freq} GHz\")\n",
    "print(f\"Actual Output CW Freqeuncy :{freq_actual} GHz\")"
   ]
  },
  {
   "cell_type": "code",
   "execution_count": null,
   "metadata": {},
   "outputs": [],
   "source": [
    "import nidaqmx\n",
    "import numpy as np\n",
    "import time\n",
    "from nidaqmx.constants import AcquisitionType\n",
    "\n",
    "# Parameters\n",
    "frequency = 40.0E3  # Frequency of the square wave in Hz (40 kHz)\n",
    "sampling_rate = 300.0E3  # Sampling rate in samples per second (400 kHz)\n",
    "duration = 50  # Duration for the wave to run in seconds\n",
    "peaktopeak = 4.0  # Amplitude of the square wave (peak-to-peak voltage)\n",
    "port = \"Dev1/ao0\"  # The analog output port\n",
    "\n",
    "# Calculate the number of samples per cycle\n",
    "num_samples = int(sampling_rate / frequency)\n",
    "tt = np.arange(num_samples)/ sampling_rate\n",
    "# Generate the square wave data\n",
    "square_wave = peaktopeak/2.0 * np.sign(np.sin(2 * np.pi *  frequency * tt)) + peaktopeak/2.0\n",
    "\n",
    "# Create a task\n",
    "with nidaqmx.Task() as task:\n",
    "    try:\n",
    "        # Add an analog output channel\n",
    "        task.ao_channels.add_ao_voltage_chan(port, min_val=0.0, max_val=peaktopeak)\n",
    "\n",
    "        # Configure the sample clock for continuous generation\n",
    "        task.timing.cfg_samp_clk_timing(sampling_rate, sample_mode=AcquisitionType.CONTINUOUS)\n",
    "\n",
    "        # Write the square wave to the output continuously\n",
    "        task.write(square_wave, auto_start=False)\n",
    "\n",
    "        # Start the task\n",
    "        task.start()\n",
    "\n",
    "        # Let it run for the specified duration\n",
    "        time.sleep(duration)\n",
    "    except KeyboardInterrupt: \n",
    "        # Stop the task after the duration\n",
    "        print(\"stop\")\n",
    "    finally:\n",
    "        task.stop()\n",
    "        time.sleep(1)\n",
    "        task.write(np.zeros(100), auto_start=False)\n",
    "        # Start the task\n",
    "        task.start()\n",
    "        time.sleep(1)\n",
    "        task.stop()"
   ]
  },
  {
   "cell_type": "code",
   "execution_count": null,
   "metadata": {},
   "outputs": [],
   "source": [
    "import matplotlib.pyplot as plt\n",
    "plt.plot(tt, square_wave)"
   ]
  },
  {
   "cell_type": "code",
   "execution_count": null,
   "metadata": {},
   "outputs": [],
   "source": [
    "import nidaqmx\n",
    "import numpy as np\n",
    "import time\n",
    "from nidaqmx.constants import AcquisitionType"
   ]
  },
  {
   "cell_type": "code",
   "execution_count": null,
   "metadata": {},
   "outputs": [],
   "source": [
    "# Parameters\n",
    "frequency = 40.0E3  # Frequency of the square wave in Hz (40 kHz)\n",
    "sampling_rate = 300.0E3  # Sampling rate in samples per second (400 kHz)\n",
    "duration = 500  # Duration for the wave to run in seconds\n",
    "\n",
    "port = \"Dev1/ao1\"  # The analog output port\n",
    "voltlevel = 5.0  # Amplitude of the square wave (peak-to-peak voltage)\n",
    "\n",
    "\n",
    "# Calculate the number of samples per cycle\n",
    "num_samples = int(sampling_rate / frequency)\n",
    "tt = np.arange(num_samples)/ sampling_rate\n",
    "# Generate the square wave data\n",
    "square_wave = np.ones(num_samples)*voltlevel\n",
    "# Create a task\n",
    "task = nidaqmx.Task(\"UCA\")\n",
    "# Add an analog output channel\n",
    "task.ao_channels.add_ao_voltage_chan(port, min_val=0.0, max_val=10)\n",
    "\n",
    "# Configure the sample clock for continuous generation\n",
    "task.timing.cfg_samp_clk_timing(sampling_rate, sample_mode=AcquisitionType.CONTINUOUS)\n",
    "\n",
    "# Write the square wave to the output continuously\n",
    "task.write(square_wave, auto_start=False)\n",
    "\n",
    "# Start the task\n",
    "task.start()\n",
    "\n"
   ]
  },
  {
   "cell_type": "code",
   "execution_count": null,
   "metadata": {},
   "outputs": [],
   "source": [
    "\n",
    "\n",
    "# Let it run for the specified duration\n",
    "# time.sleep(duration)"
   ]
  },
  {
   "cell_type": "code",
   "execution_count": null,
   "metadata": {},
   "outputs": [],
   "source": [
    "task.stop()\n",
    "task.write(np.zeros(100), auto_start=False)\n",
    "# Start the task\n",
    "task.start()\n",
    "time.sleep(1)\n",
    "task.stop()\n",
    "task.close()\n"
   ]
  },
  {
   "cell_type": "code",
   "execution_count": null,
   "metadata": {},
   "outputs": [],
   "source": [
    "import time\n",
    "time_stop = 0.5\n",
    "time_start = time.time()\n",
    "num_run = 10\n",
    "for _ in range(num_run):\n",
    "    time.sleep(0.1) # do someting\n",
    "    time_now = time.time()\n",
    "    time_run = time_now - time_start\n",
    "    if time_run > time_stop:\n",
    "        break\n",
    "else:\n",
    "    print(\"done\")\n",
    "    print(\"time run\", time_run)"
   ]
  },
  {
   "cell_type": "code",
   "execution_count": null,
   "metadata": {},
   "outputs": [],
   "source": [
    "import numpy as np\n",
    "signal = np.array([-3, -6, -4, -5, 6, 7,-1,-2,6,8,3,1,6,3,5,7,3,5,2,3,5,6,])\n",
    "print(np.where(signal>0)[0][0])\n",
    "print(np.where(signal<0)[0][0])"
   ]
  },
  {
   "cell_type": "code",
   "execution_count": null,
   "metadata": {},
   "outputs": [],
   "source": [
    "import numpy as np"
   ]
  },
  {
   "cell_type": "code",
   "execution_count": null,
   "metadata": {},
   "outputs": [],
   "source": [
    "np.array([(54, 0), (454, 1)])"
   ]
  },
  {
   "cell_type": "code",
   "execution_count": null,
   "metadata": {},
   "outputs": [],
   "source": [
    "signal.pop(444)"
   ]
  },
  {
   "cell_type": "code",
   "execution_count": null,
   "metadata": {},
   "outputs": [],
   "source": [
    "import numpy as np\n",
    "import matplotlib.pyplot as plt\n",
    "\n",
    "# Sample signal generation: A sine wave with noise\n",
    "fs = 1000  # Sampling rate in Hz\n",
    "t = np.linspace(0, 1, fs, endpoint=False)  # Time array for 1 second\n",
    "freq = 50  # Frequency of the signal in Hz\n",
    "amplitude = 1  # Amplitude of the signal\n",
    "signal = amplitude * np.sin(2 * np.pi * freq * t) + 0.5 * np.random.normal(size=t.shape)\n",
    "\n",
    "# Perform FFT on the signal\n",
    "fft_result = np.fft.fft(signal)\n",
    "fft_freqs = np.fft.fftfreq(len(t), 1/fs)\n",
    "\n",
    "# Get the positive frequencies and corresponding FFT values\n",
    "positive_freqs = fft_freqs[fft_freqs >= 0]\n",
    "positive_fft = np.abs(fft_result[fft_freqs >= 0])\n",
    "\n",
    "# Plot the FFT result (Amplitude Spectrum)\n",
    "plt.plot(positive_freqs, positive_fft)\n",
    "plt.title(\"FFT Amplitude Spectrum\")\n",
    "plt.xlabel(\"Frequency (Hz)\")\n",
    "plt.ylabel(\"Amplitude\")\n",
    "plt.grid(True)\n",
    "plt.show()\n",
    "\n",
    "# Find the peak amplitude at a specific frequency (e.g., 50 Hz)\n",
    "target_frequency = 50\n",
    "idx = (np.abs(positive_freqs - target_frequency)).argmin()  # Find the closest frequency bin\n",
    "peak_amplitude = positive_fft[idx]\n",
    "\n",
    "print(f\"Peak amplitude at {target_frequency} Hz: {peak_amplitude}\")"
   ]
  },
  {
   "cell_type": "code",
   "execution_count": null,
   "metadata": {},
   "outputs": [],
   "source": [
    "state = \"wait\"\n"
   ]
  },
  {
   "cell_type": "code",
   "execution_count": null,
   "metadata": {},
   "outputs": [],
   "source": [
    "state in [\"idle\", \"wait\", \"done\", \"error\"]"
   ]
  },
  {
   "cell_type": "code",
   "execution_count": null,
   "metadata": {},
   "outputs": [],
   "source": [
    "leastrepeat = 66666000\n",
    "refresh = 20.0\n",
    "dt_daq = 2000\n",
    "\n",
    "# ()"
   ]
  },
  {
   "cell_type": "code",
   "execution_count": null,
   "metadata": {},
   "outputs": [],
   "source": [
    "class Singleton(type):\n",
    "    \"\"\"\n",
    "    Singleton Metaclass.\n",
    "    Usage:\n",
    "    \n",
    "        #Python2\n",
    "        class MyClass(BaseClass):\n",
    "            __metaclass__ = Singleton\n",
    "\n",
    "        #Python3\n",
    "        class MyClass(BaseClass, metaclass=Singleton):\n",
    "            pass\n",
    "    \n",
    "    Modified from stackoverflow.com.\n",
    "    http://stackoverflow.com/questions/6760685/creating-a-singleton-in-python\n",
    "    \"\"\"\n",
    "    _instances = {}\n",
    "    def __call__(cls, *args, **kwargs):\n",
    "        \"\"\"\n",
    "        if there is a key-word argument called \"name\", then use that name to make class instance, \n",
    "        so users can create multiple class instances with different names, it's a \"Multiton\"\n",
    "\n",
    "        otherwise just always assigen \"default\" to the name, so this is a real \"Singleton\"\n",
    "        \"\"\"\n",
    "        clsname = kwargs[\"name\"] if \"name\" in kwargs else \"default\" \n",
    "        if cls not in cls._instances:\n",
    "            # a particular class not existed\n",
    "            # then create this class \n",
    "            # then create an instance of this class with a specific name\n",
    "            cls._instances[cls] = dict()\n",
    "            cls._instances[cls][clsname] = super(Singleton, cls).__call__(*args, **kwargs)\n",
    "        elif clsname not in cls._instances[cls]:\n",
    "            # a particular class existed\n",
    "            # but an instance with the specified name not existed\n",
    "            # then create a new instance of class with the specified name\n",
    "            cls._instances[cls][clsname] = super(Singleton, cls).__call__(*args, **kwargs)\n",
    "        #else just call that particular instance of that class with the specified name\n",
    "        return cls._instances[cls][clsname]"
   ]
  },
  {
   "cell_type": "code",
   "execution_count": null,
   "metadata": {},
   "outputs": [],
   "source": [
    "\n"
   ]
  },
  {
   "cell_type": "code",
   "execution_count": null,
   "metadata": {},
   "outputs": [],
   "source": []
  },
  {
   "cell_type": "code",
   "execution_count": null,
   "metadata": {},
   "outputs": [],
   "source": [
    "def flatten_concatenation(matrix):\n",
    "    flat_list = []\n",
    "    for row in matrix:\n",
    "        flat_list += row\n",
    "    return flat_list"
   ]
  },
  {
   "cell_type": "code",
   "execution_count": 115,
   "metadata": {},
   "outputs": [
    {
     "name": "stdout",
     "output_type": "stream",
     "text": [
      "Itertools Method -- Execution time: 1.496960163116455 seconds\n",
      "Direct Numpy Method-- Execution time: 3.8953633308410645 seconds\n",
      "Original Method -- Execution time: 1.6362061500549316 seconds\n"
     ]
    }
   ],
   "source": [
    "import numpy as np\n",
    "import time\n",
    "from itertools import chain\n",
    "\n",
    "channel_sequence = [(80, 1), (700, 0), (30, 0), (300, 0), (534, 1), (23, 1)]*2000000\n",
    "start_time = time.time()\n",
    "chsqlist = np.array(list(chain.from_iterable(channel_sequence)), dtype=np.int64)\n",
    "ch_state_itertool =  chsqlist[1::2]\n",
    "timeline_itertool =  chsqlist[0::2]\n",
    "end_time = time.time()\n",
    "execution_time = end_time - start_time\n",
    "print(f\"Itertools Method -- Execution time: {execution_time} seconds\")\n",
    "\n",
    "# Directly create the timeline and ch_state arrays using NumPy\n",
    "channel_sequence_np = np.array(channel_sequence, dtype=np.int64)\n",
    "timeline_directnp = channel_sequence_np[:, 0]\n",
    "ch_state_directnp = channel_sequence_np[:, 1]\n",
    "end_time = time.time()\n",
    "execution_time = end_time - start_time\n",
    "print(f\"Direct Numpy Method-- Execution time: {execution_time} seconds\")\n",
    "\n",
    "start_time = time.time()\n",
    "ch_state_orig=np.array([p for t,p in channel_sequence], dtype=np.int64)\n",
    "timeline_orig=np.array([t for t,p in channel_sequence], dtype=np.int64)\n",
    "end_time = time.time()\n",
    "execution_time = end_time - start_time\n",
    "print(f\"Original Method -- Execution time: {execution_time} seconds\")"
   ]
  },
  {
   "cell_type": "code",
   "execution_count": 110,
   "metadata": {},
   "outputs": [
    {
     "ename": "ValueError",
     "evalue": "operands could not be broadcast together with shapes (1200000,) (120000,) ",
     "output_type": "error",
     "traceback": [
      "\u001b[1;31m---------------------------------------------------------------------------\u001b[0m",
      "\u001b[1;31mValueError\u001b[0m                                Traceback (most recent call last)",
      "Cell \u001b[1;32mIn[110], line 1\u001b[0m\n\u001b[1;32m----> 1\u001b[0m \u001b[43mch_state\u001b[49m\u001b[43m \u001b[49m\u001b[38;5;241;43m==\u001b[39;49m\u001b[43m \u001b[49m\u001b[43mch_state_orig\u001b[49m\n",
      "\u001b[1;31mValueError\u001b[0m: operands could not be broadcast together with shapes (1200000,) (120000,) "
     ]
    }
   ],
   "source": [
    "ch_state == ch_state_orig"
   ]
  },
  {
   "cell_type": "code",
   "execution_count": 61,
   "metadata": {},
   "outputs": [
    {
     "data": {
      "text/plain": [
       "array([1, 0, 0, ..., 0, 1, 1], dtype=int64)"
      ]
     },
     "execution_count": 61,
     "metadata": {},
     "output_type": "execute_result"
    }
   ],
   "source": [
    "ch_state_orig"
   ]
  },
  {
   "cell_type": "code",
   "execution_count": 59,
   "metadata": {},
   "outputs": [
    {
     "data": {
      "text/plain": [
       "array([False, False, False, ..., False, False, False])"
      ]
     },
     "execution_count": 59,
     "metadata": {},
     "output_type": "execute_result"
    }
   ],
   "source": [
    "ch_state == ch_state_orig"
   ]
  },
  {
   "cell_type": "code",
   "execution_count": 51,
   "metadata": {},
   "outputs": [
    {
     "data": {
      "text/plain": [
       "itertools.chain"
      ]
     },
     "execution_count": 51,
     "metadata": {},
     "output_type": "execute_result"
    }
   ],
   "source": [
    "type(chain.from_iterable(channel_sequence))"
   ]
  },
  {
   "cell_type": "code",
   "execution_count": 35,
   "metadata": {},
   "outputs": [],
   "source": [
    "atupe = [(444, 0), (324, 1), (924, 1), (74, 1)]"
   ]
  },
  {
   "cell_type": "code",
   "execution_count": 41,
   "metadata": {},
   "outputs": [
    {
     "ename": "TypeError",
     "evalue": "Cannot interpret '324' as a data type",
     "output_type": "error",
     "traceback": [
      "\u001b[1;31m---------------------------------------------------------------------------\u001b[0m",
      "\u001b[1;31mTypeError\u001b[0m                                 Traceback (most recent call last)",
      "Cell \u001b[1;32mIn[41], line 1\u001b[0m\n\u001b[1;32m----> 1\u001b[0m \u001b[43mnp\u001b[49m\u001b[38;5;241;43m.\u001b[39;49m\u001b[43mndarray\u001b[49m\u001b[43m(\u001b[49m\u001b[38;5;241;43m*\u001b[39;49m\u001b[43matupe\u001b[49m\u001b[43m,\u001b[49m\u001b[43m \u001b[49m\u001b[43mdtype\u001b[49m\u001b[38;5;241;43m=\u001b[39;49m\u001b[43mnp\u001b[49m\u001b[38;5;241;43m.\u001b[39;49m\u001b[43mint64\u001b[49m\u001b[43m)\u001b[49m\n",
      "\u001b[1;31mTypeError\u001b[0m: Cannot interpret '324' as a data type"
     ]
    }
   ],
   "source": [
    "np.ndarray(*atupe, dtype=np.int64)"
   ]
  },
  {
   "cell_type": "code",
   "execution_count": 44,
   "metadata": {},
   "outputs": [
    {
     "data": {
      "text/plain": [
       "(444, 0)"
      ]
     },
     "execution_count": 44,
     "metadata": {},
     "output_type": "execute_result"
    }
   ],
   "source": [
    "atupe[:][0]"
   ]
  },
  {
   "cell_type": "code",
   "execution_count": null,
   "metadata": {},
   "outputs": [],
   "source": [
    "timeline"
   ]
  },
  {
   "cell_type": "code",
   "execution_count": null,
   "metadata": {},
   "outputs": [],
   "source": [
    "chsqlist = list(channel_sequence)"
   ]
  },
  {
   "cell_type": "code",
   "execution_count": null,
   "metadata": {},
   "outputs": [],
   "source": []
  },
  {
   "cell_type": "code",
   "execution_count": null,
   "metadata": {},
   "outputs": [],
   "source": [
    "chsqlist"
   ]
  },
  {
   "cell_type": "code",
   "execution_count": null,
   "metadata": {},
   "outputs": [],
   "source": [
    "chsqlist[0:-1][1]"
   ]
  },
  {
   "cell_type": "code",
   "execution_count": null,
   "metadata": {},
   "outputs": [],
   "source": [
    "# Python code to convert list of tuples into list\n",
    " \n",
    "# List of tuple initialization\n",
    "lt = [('Geeks', 2), ('For', 4), ('geek', '6')]\n",
    " \n",
    "# using list comprehension\n",
    "out = [item for t in lt for item in t]\n",
    " \n",
    "# printing output\n",
    "print(out)"
   ]
  },
  {
   "cell_type": "code",
   "execution_count": null,
   "metadata": {},
   "outputs": [],
   "source": [
    "channel_sequence[:][0]"
   ]
  },
  {
   "cell_type": "code",
   "execution_count": null,
   "metadata": {},
   "outputs": [],
   "source": [
    "chsqlist[:, 0]"
   ]
  },
  {
   "cell_type": "code",
   "execution_count": null,
   "metadata": {},
   "outputs": [],
   "source": [
    "ch_state"
   ]
  },
  {
   "cell_type": "code",
   "execution_count": null,
   "metadata": {},
   "outputs": [],
   "source": [
    "ch_state_orig"
   ]
  },
  {
   "cell_type": "code",
   "execution_count": null,
   "metadata": {},
   "outputs": [],
   "source": [
    "timeline"
   ]
  },
  {
   "cell_type": "code",
   "execution_count": null,
   "metadata": {},
   "outputs": [],
   "source": [
    "ch_state"
   ]
  },
  {
   "cell_type": "code",
   "execution_count": null,
   "metadata": {},
   "outputs": [],
   "source": [
    "flattenlist[0::2]"
   ]
  },
  {
   "cell_type": "code",
   "execution_count": null,
   "metadata": {},
   "outputs": [],
   "source": [
    "chain.from_iterable(channel_sequence)[0::2]"
   ]
  },
  {
   "cell_type": "code",
   "execution_count": null,
   "metadata": {},
   "outputs": [],
   "source": [
    "flattenlist[::2]"
   ]
  },
  {
   "cell_type": "code",
   "execution_count": null,
   "metadata": {},
   "outputs": [],
   "source": [
    "flattenlist[1::2]"
   ]
  },
  {
   "cell_type": "code",
   "execution_count": 1,
   "metadata": {},
   "outputs": [
    {
     "name": "stderr",
     "output_type": "stream",
     "text": [
      "C:\\Users\\ctcheung\\AppData\\Local\\Temp\\ipykernel_55284\\4057094199.py:2: RuntimeWarning: invalid value encountered in divide\n",
      "  np.true_divide(0,0)\n"
     ]
    },
    {
     "data": {
      "text/plain": [
       "nan"
      ]
     },
     "execution_count": 1,
     "metadata": {},
     "output_type": "execute_result"
    }
   ],
   "source": [
    "import numpy as np\n",
    "np.true_divide(0,0)"
   ]
  },
  {
   "cell_type": "code",
   "execution_count": 4,
   "metadata": {},
   "outputs": [
    {
     "name": "stdout",
     "output_type": "stream",
     "text": [
      "[nan nan nan nan]\n"
     ]
    },
    {
     "name": "stderr",
     "output_type": "stream",
     "text": [
      "C:\\Users\\ctcheung\\AppData\\Local\\Temp\\ipykernel_49628\\194299332.py:8: RuntimeWarning: divide by zero encountered in divide\n",
      "  result = numerator / denominator * (denominator!=0)\n",
      "C:\\Users\\ctcheung\\AppData\\Local\\Temp\\ipykernel_49628\\194299332.py:8: RuntimeWarning: invalid value encountered in divide\n",
      "  result = numerator / denominator * (denominator!=0)\n",
      "C:\\Users\\ctcheung\\AppData\\Local\\Temp\\ipykernel_49628\\194299332.py:8: RuntimeWarning: invalid value encountered in multiply\n",
      "  result = numerator / denominator * (denominator!=0)\n"
     ]
    }
   ],
   "source": [
    "import numpy as np\n",
    "\n",
    "# Create an example array\n",
    "numerator = np.array([0, 1, 0, 3])\n",
    "denominator = 0\n",
    "\n",
    "\n",
    "\n",
    "print(result)\n"
   ]
  },
  {
   "cell_type": "code",
   "execution_count": 11,
   "metadata": {},
   "outputs": [
    {
     "data": {
      "text/plain": [
       "34534"
      ]
     },
     "execution_count": 11,
     "metadata": {},
     "output_type": "execute_result"
    }
   ],
   "source": [
    "iszero = False\n",
    "1 * (iszero) + 34534 * (not iszero)"
   ]
  },
  {
   "cell_type": "code",
   "execution_count": 13,
   "metadata": {},
   "outputs": [
    {
     "data": {
      "text/plain": [
       "6"
      ]
     },
     "execution_count": 13,
     "metadata": {},
     "output_type": "execute_result"
    }
   ],
   "source": [
    "aaaa = [1,3,5,6,6,3]\n",
    "aaaa.pop(3)\n"
   ]
  },
  {
   "cell_type": "code",
   "execution_count": 14,
   "metadata": {},
   "outputs": [
    {
     "data": {
      "text/plain": [
       "[1, 3, 5, 6, 3]"
      ]
     },
     "execution_count": 14,
     "metadata": {},
     "output_type": "execute_result"
    }
   ],
   "source": [
    "aaaa\n"
   ]
  },
  {
   "cell_type": "code",
   "execution_count": null,
   "metadata": {},
   "outputs": [],
   "source": []
  }
 ],
 "metadata": {
  "kernelspec": {
   "display_name": "hfnvenv",
   "language": "python",
   "name": "python3"
  },
  "language_info": {
   "codemirror_mode": {
    "name": "ipython",
    "version": 3
   },
   "file_extension": ".py",
   "mimetype": "text/x-python",
   "name": "python",
   "nbconvert_exporter": "python",
   "pygments_lexer": "ipython3",
   "version": "3.10.14"
  }
 },
 "nbformat": 4,
 "nbformat_minor": 2
}
