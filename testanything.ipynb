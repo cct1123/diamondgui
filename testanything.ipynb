{
 "cells": [
  {
   "cell_type": "code",
   "execution_count": null,
   "metadata": {},
   "outputs": [],
   "source": [
    "import numpy as np\n",
    "xx = np.array([])"
   ]
  },
  {
   "cell_type": "code",
   "execution_count": null,
   "metadata": {},
   "outputs": [],
   "source": [
    "np.max(xx)"
   ]
  },
  {
   "cell_type": "code",
   "execution_count": null,
   "metadata": {},
   "outputs": [],
   "source": [
    "xx = np.array([np.nan])"
   ]
  },
  {
   "cell_type": "code",
   "execution_count": null,
   "metadata": {},
   "outputs": [],
   "source": [
    "np.max(xx)"
   ]
  },
  {
   "cell_type": "code",
   "execution_count": 1,
   "metadata": {},
   "outputs": [],
   "source": [
    "import subprocess\n",
    "import time\n",
    "import os\n",
    "comand = \"echo 'fdfd'\"\n",
    "comand = \"start /wait bash run_dataserv.sh\"\n",
    "# os.system(\"start cmd /C dir\") \n",
    "process_dataserv = subprocess.Popen(comand, shell=True)\n",
    "# time.sleep(1) \n",
    "comand = \"start /wait bash run_inserv.sh\"\n",
    "# comand = \"echo 'fdfd'\"\n",
    "# os.system(\"start cmd /C dir\") \n",
    "process_inserv = subprocess.Popen(comand, shell=True)\n",
    "# time.sleep(1)\n",
    "pid_dataserv = process_dataserv.pid\n",
    "pid_inserv = process_inserv.pid\n",
    "pid_appserv = os.getpid()\n"
   ]
  },
  {
   "cell_type": "code",
   "execution_count": 2,
   "metadata": {},
   "outputs": [
    {
     "data": {
      "text/plain": [
       "25308"
      ]
     },
     "execution_count": 2,
     "metadata": {},
     "output_type": "execute_result"
    }
   ],
   "source": [
    "pid_dataserv"
   ]
  },
  {
   "cell_type": "code",
   "execution_count": null,
   "metadata": {},
   "outputs": [],
   "source": [
    "pid_inserv"
   ]
  },
  {
   "cell_type": "code",
   "execution_count": 5,
   "metadata": {},
   "outputs": [
    {
     "ename": "NameError",
     "evalue": "name 'nspyre' is not defined",
     "output_type": "error",
     "traceback": [
      "\u001b[1;31m---------------------------------------------------------------------------\u001b[0m",
      "\u001b[1;31mNameError\u001b[0m                                 Traceback (most recent call last)",
      "Cell \u001b[1;32mIn[5], line 2\u001b[0m\n\u001b[0;32m      1\u001b[0m \u001b[38;5;28;01mfrom\u001b[39;00m \u001b[38;5;21;01mnspyre\u001b[39;00m\u001b[38;5;21;01m.\u001b[39;00m\u001b[38;5;21;01mcli\u001b[39;00m \u001b[38;5;28;01mimport\u001b[39;00m dataserv\n\u001b[1;32m----> 2\u001b[0m \u001b[43mnspyre\u001b[49m\u001b[38;5;241m.\u001b[39mcli\u001b[38;5;241m.\u001b[39mdataserv\u001b[38;5;241m.\u001b[39m_main()\n",
      "\u001b[1;31mNameError\u001b[0m: name 'nspyre' is not defined"
     ]
    }
   ],
   "source": [
    "from nspyre.cli import dataserv\n",
    "\n"
   ]
  },
  {
   "cell_type": "code",
   "execution_count": 6,
   "metadata": {},
   "outputs": [
    {
     "name": "stderr",
     "output_type": "stream",
     "text": [
      "usage: nspyre-dataserv [-h] [-l LOG] [-p PORT] [-q] [-v VERBOSITY]\n",
      "nspyre-dataserv: error: unrecognized arguments: --f=c:\\Users\\ctcheung\\AppData\\Roaming\\jupyter\\runtime\\kernel-v2-3120mS1lcUd6vjTo.json\n"
     ]
    },
    {
     "ename": "SystemExit",
     "evalue": "2",
     "output_type": "error",
     "traceback": [
      "An exception has occurred, use %tb to see the full traceback.\n",
      "\u001b[1;31mSystemExit\u001b[0m\u001b[1;31m:\u001b[0m 2\n"
     ]
    },
    {
     "name": "stderr",
     "output_type": "stream",
     "text": [
      "c:\\ProgramData\\miniconda3\\envs\\hfnvenv\\lib\\site-packages\\IPython\\core\\interactiveshell.py:3585: UserWarning: To exit: use 'exit', 'quit', or Ctrl-D.\n",
      "  warn(\"To exit: use 'exit', 'quit', or Ctrl-D.\", stacklevel=1)\n"
     ]
    }
   ],
   "source": [
    "import nspyre\n",
    "nspyre.cli.dataserv._main()"
   ]
  },
  {
   "cell_type": "code",
   "execution_count": null,
   "metadata": {},
   "outputs": [],
   "source": [
    "nspyre/src/nspyre/cli\n",
    "/dataserv.py"
   ]
  }
 ],
 "metadata": {
  "kernelspec": {
   "display_name": "hfnvenv",
   "language": "python",
   "name": "python3"
  },
  "language_info": {
   "codemirror_mode": {
    "name": "ipython",
    "version": 3
   },
   "file_extension": ".py",
   "mimetype": "text/x-python",
   "name": "python",
   "nbconvert_exporter": "python",
   "pygments_lexer": "ipython3",
   "version": "3.10.14"
  }
 },
 "nbformat": 4,
 "nbformat_minor": 2
}
